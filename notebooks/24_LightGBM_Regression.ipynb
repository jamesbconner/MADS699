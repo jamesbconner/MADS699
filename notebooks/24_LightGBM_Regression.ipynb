{
 "cells": [
  {
   "cell_type": "markdown",
   "metadata": {
    "formattedRanges": [],
    "deepnote_app_block_visible": true,
    "cell_id": "358cdf4319524626906e6c4f1b2b627f",
    "deepnote_cell_type": "text-cell-h1"
   },
   "source": [
    "# Regression - RandomForest"
   ],
   "block_group": "32f6fa1f7f994b23b0b2b2dc8b0bf23f"
  },
  {
   "cell_type": "markdown",
   "metadata": {
    "formattedRanges": [],
    "deepnote_app_block_visible": true,
    "cell_id": "9fac7231c2da4ada8d06aa53992621cd",
    "deepnote_cell_type": "text-cell-h2"
   },
   "source": [
    "## Notebook Setup"
   ],
   "block_group": "29ed4039cfd54b349b8f3d87d7145ed2"
  },
  {
   "cell_type": "markdown",
   "metadata": {
    "formattedRanges": [],
    "deepnote_app_block_visible": true,
    "cell_id": "1d0f8cb79b7b4f4d8eae88bd8ba166a5",
    "deepnote_cell_type": "text-cell-h3"
   },
   "source": [
    "### Import Libraries"
   ],
   "block_group": "30174eb3e1644d56a9722f4cadbae9ea"
  },
  {
   "cell_type": "code",
   "metadata": {
    "source_hash": null,
    "execution_start": 1711984364802,
    "execution_millis": 650,
    "deepnote_to_be_reexecuted": false,
    "deepnote_app_block_visible": true,
    "cell_id": "2aa6af4489084900b621b1d3087540d0",
    "deepnote_cell_type": "code"
   },
   "source": [
    "# Import Standard Libraries\n",
    "import os\n",
    "import datetime\n",
    "import pickle\n",
    "import itertools\n",
    "import pandas as pd\n",
    "import numpy as np\n",
    "\n",
    "# Import Visualization Libraries\n",
    "import seaborn as sns\n",
    "import matplotlib.pyplot as plt\n",
    "import plotly.express as px\n",
    "import plotly.graph_objects as go\n",
    "import shap"
   ],
   "block_group": "05c857c6f7da4c33843aa801a1f1d5eb",
   "execution_count": null,
   "outputs": [],
   "outputs_reference": null
  },
  {
   "cell_type": "code",
   "metadata": {
    "source_hash": null,
    "execution_start": 1711984364817,
    "execution_millis": 634,
    "deepnote_to_be_reexecuted": false,
    "deepnote_app_block_visible": true,
    "cell_id": "eac35a4c158745b59b6b45c157149f46",
    "deepnote_cell_type": "code"
   },
   "source": [
    "# Import Modeling Libraries\n",
    "import lightgbm as lgb\n",
    "from sklearn import set_config\n",
    "from sklearn.model_selection import KFold, cross_val_score\n",
    "from sklearn.metrics import r2_score, mean_absolute_error, mean_squared_error\n",
    "from hyperopt import STATUS_OK, Trials, fmin, hp, tpe\n",
    "from hyperopt.early_stop import no_progress_loss\n",
    "import neptune"
   ],
   "block_group": "bbc9a4f4fb38400583bcd92244ffeb26",
   "execution_count": null,
   "outputs": [],
   "outputs_reference": null
  },
  {
   "cell_type": "code",
   "metadata": {
    "source_hash": null,
    "execution_start": 1711984364819,
    "execution_millis": 634,
    "deepnote_to_be_reexecuted": false,
    "deepnote_app_block_visible": true,
    "cell_id": "8fa5fd1947224af3832a2771160db70a",
    "deepnote_cell_type": "code"
   },
   "source": [
    "# Pandas Configs\n",
    "pd.set_option('mode.chained_assignment', None)\n",
    "pd.options.display.float_format = '{:.2f}'.format\n",
    "pd.options.display.max_columns = None\n",
    "pd.options.display.max_rows = None\n",
    "\n",
    "# Ignore Warnings\n",
    "import warnings\n",
    "warnings.simplefilter('ignore', category=FutureWarning)\n",
    "warnings.simplefilter('ignore', category=UserWarning)\n",
    "warnings.simplefilter(action=\"ignore\", category=pd.errors.PerformanceWarning)\n",
    "\n",
    "# MapBox Token for Plotly Maps\n",
    "px.set_mapbox_access_token(os.environ.get(\"MAPBOX_TOKEN\"))\n",
    "\n",
    "# Scikit Learn Configs\n",
    "set_config(transform_output=\"pandas\")"
   ],
   "block_group": "3843638c580f457a96c6f8b9104151a1",
   "execution_count": null,
   "outputs": [],
   "outputs_reference": null
  },
  {
   "cell_type": "markdown",
   "metadata": {
    "formattedRanges": [],
    "deepnote_app_block_visible": true,
    "cell_id": "b001414b66bd476792b378e9c7ee72ff",
    "deepnote_cell_type": "text-cell-h3"
   },
   "source": [
    "### Common Functions"
   ],
   "block_group": "f5c9bdc5f12f4922b8611bc7e4495a2f"
  },
  {
   "cell_type": "code",
   "metadata": {
    "source_hash": null,
    "execution_start": 1711976927838,
    "execution_millis": 2203,
    "deepnote_to_be_reexecuted": false,
    "deepnote_app_block_visible": true,
    "cell_id": "ba44022074fa4a6e94354792bda94977",
    "deepnote_cell_type": "code"
   },
   "source": [
    "def import_data(common_path=\"/work/data\", xy_path=\"Xy_Data\", location_name='CARB'):\n",
    "    \"\"\"\n",
    "    This function imports the data from the specified data path and location geography\n",
    "    \"\"\"\n",
    "\n",
    "    data_path = os.path.join(common_path, xy_path)\n",
    "\n",
    "    # Import the training, validation and holdout data\n",
    "    X_train_trans = pd.read_parquet(f\"{data_path}/X_train_trans_{location_name}.parquet\")\n",
    "    X_val_trans = pd.read_parquet(f\"{data_path}/X_val_trans_{location_name}.parquet\")\n",
    "    X_holdout_trans = pd.read_parquet(f\"{data_path}/X_holdout_trans_{location_name}.parquet\")\n",
    "\n",
    "    y_train = pd.read_parquet(f\"{data_path}/y_train_{location_name}.parquet\")\n",
    "    y_val = pd.read_parquet(f\"{data_path}/y_val_{location_name}.parquet\")\n",
    "    y_holdout = pd.read_parquet(f\"{data_path}/y_holdout_{location_name}.parquet\")\n",
    "\n",
    "    # y is not transformed\n",
    "    y_train_trans = y_train\n",
    "    y_val_trans = y_val\n",
    "    y_holdout_trans = y_holdout\n",
    "\n",
    "    return X_train_trans, X_val_trans, X_holdout_trans, y_train_trans, y_val_trans, y_holdout_trans\n",
    "\n",
    "# Import some data temporarily, as some of the other functions use the Xy data in argument defaults\n",
    "X_train_trans, X_val_trans, X_holdout_trans, y_train_trans, y_val_trans, y_holdout_trans = import_data(location_name='CARB')"
   ],
   "block_group": "9660e1c6e12b411ca148a862863d70c0",
   "execution_count": null,
   "outputs": [],
   "outputs_reference": null
  },
  {
   "cell_type": "code",
   "metadata": {
    "source_hash": null,
    "execution_start": 1711976930044,
    "execution_millis": 132,
    "deepnote_to_be_reexecuted": false,
    "deepnote_app_block_visible": true,
    "cell_id": "572d0ad822d1417397f1f7cd7018defe",
    "deepnote_cell_type": "code"
   },
   "source": [
    "def objective(space):\n",
    "    \"\"\"\n",
    "    This is the LightGBM hyperparam objective function\n",
    "    Hyperparams are passed into this function, which are then used in the model object\n",
    "    The model object is then used in the cross_val_scores function \n",
    "    This results in a list of MAE scores, which are then returned as \n",
    "      the loss and std vars to the trials object\n",
    "    \"\"\"\n",
    "    space['num_leaves'] = int(space['num_leaves'])\n",
    "    space['n_estimators'] = int(space['n_estimators'])\n",
    "    space['min_child_samples'] = int(space['min_child_samples'])\n",
    "    space['subsample_freq'] = int(space['subsample_freq'])\n",
    "\n",
    "    model=lgb.LGBMRegressor(\n",
    "                    num_leaves=space['num_leaves'],\n",
    "                    learning_rate=space['learning_rate'],\n",
    "                    n_estimators=space['n_estimators'],\n",
    "                    min_split_gain=space['min_split_gain'],\n",
    "                    min_child_weight=space['min_child_weight'],\n",
    "                    min_child_samples=space['min_child_samples'],\n",
    "                    subsample=space['subsample'],\n",
    "                    subsample_freq=space['subsample_freq'],\n",
    "                    colsample_bytree=space['colsample_bytree'],\n",
    "                    reg_alpha=space['reg_alpha'],\n",
    "                    reg_lambda=space['reg_lambda'],\n",
    "                    boosting_type='dart',\n",
    "                    n_jobs = -1,\n",
    "                    verbose = -1,\n",
    "                    random_state = 42\n",
    "                    )\n",
    "\n",
    "    kf = KFold(n_splits=5, shuffle=True, random_state=42)\n",
    "    mae_scores = -cross_val_score(model, X_train_trans, y_train_trans, cv=kf, scoring='neg_mean_absolute_error')\n",
    "    mean_mae = mae_scores.mean()\n",
    "    std_mae = mae_scores.std()\n",
    "\n",
    "    # Emit model specific params and metrics to Neptune\n",
    "    run['parameters/num_leaves'].log(space['num_leaves'])\n",
    "    run['parameters/learning_rate'].log(space['learning_rate'])\n",
    "    run['parameters/n_estimators'].log(space['n_estimators'])\n",
    "    run['parameters/min_split_gain'].log(space['min_split_gain'])\n",
    "    run['parameters/min_child_weight'].log(space['min_child_weight'])\n",
    "    run['parameters/min_child_samples'].log(space['min_child_samples'])\n",
    "    run['parameters/subsample'].log(space['subsample'])\n",
    "    run['parameters/subsample_freq'].log(space['subsample_freq'])\n",
    "    run['parameters/colsample_bytree'].log(space['colsample_bytree'])\n",
    "    run['parameters/reg_alpha'].log(space['reg_alpha'])\n",
    "    run['parameters/reg_lambda'].log(space['reg_lambda'])\n",
    "    \n",
    "    # Emit standard params and metrics to Neptune\n",
    "    run['parameters/all_parameters'].log(str(space))\n",
    "    run['metrics/mae_scores'].log(str(mae_scores.tolist()))\n",
    "    run[\"metrics/mean_mae\"].log(mean_mae)\n",
    "    run[\"metrics/std_mae\"].log(std_mae)\n",
    "\n",
    "    return {'loss': mean_mae, 'status': STATUS_OK, 'std': std_mae}"
   ],
   "block_group": "570d02885298436ab0a34273dd10239d",
   "execution_count": null,
   "outputs": [],
   "outputs_reference": null
  },
  {
   "cell_type": "code",
   "metadata": {
    "source_hash": null,
    "execution_start": 1711982479091,
    "execution_millis": 41,
    "deepnote_to_be_reexecuted": false,
    "deepnote_app_block_visible": true,
    "cell_id": "87eb797180304f55ad5b183888cdd51b",
    "deepnote_cell_type": "code"
   },
   "source": [
    "def model_score(hps, val=True, train=False, holdout=False, Xtt=X_train_trans, ytt=y_train_trans, Xvt=X_val_trans, yvt=y_val_trans, Xht=X_holdout_trans, yht=y_holdout_trans):\n",
    "    \"\"\"\n",
    "    This function rebuilds the model with the desired hyperparameters\n",
    "    val: True will evaluate the model on the validation data\n",
    "    holdout: True will evaluate the model on the holdout data\n",
    "    train: True will evaluate the model on the train data\n",
    "    Xtt: X_train_trans\n",
    "    ytt: y_train_trans\n",
    "    Xvt: X_val_trans\n",
    "    yvt: y_val_trans\n",
    "    Xht: X_holdout_trans\n",
    "    yht: y_holdout_trans\n",
    "    \"\"\"\n",
    "\n",
    "    # Rebuild model\n",
    "    model = lgb.LGBMRegressor(**hps, verbose=-1, random_state=42, n_jobs=-1)\n",
    "    model.fit(Xtt, ytt)\n",
    "\n",
    "    # Evaluate model and print results\n",
    "    if train:\n",
    "        # Evaluation on train data\n",
    "        train_pred = model.predict(Xtt)\n",
    "        train_mae = mean_absolute_error(ytt, train_pred)\n",
    "        train_mse = mean_squared_error(ytt, train_pred)\n",
    "        train_rmse = mean_squared_error(ytt, train_pred, squared=False)\n",
    "        train_rsq = r2_score(ytt, train_pred)\n",
    "        print(\" \")\n",
    "        print(f\"Train Mean Absolute Error: {train_mae:.4f}\")\n",
    "        print(f\"Train Mean Squared Error: {train_mse:.4f}\")\n",
    "        print(f\"Train Root Mean Squared Error: {train_rmse:.4f}\")\n",
    "        print(f\"Train R^2 Score: {train_rsq:.4f}\")\n",
    "\n",
    "    if val:\n",
    "        # Evaluation on validation data\n",
    "        val_pred = model.predict(Xvt)\n",
    "        val_mae = mean_absolute_error(yvt, val_pred)\n",
    "        val_mse = mean_squared_error(yvt, val_pred)\n",
    "        val_rmse = mean_squared_error(yvt, val_pred, squared=False)\n",
    "        val_rsq = r2_score(yvt, val_pred)\n",
    "        print(\" \")\n",
    "        print(f\"Validation Mean Absolute Error: {val_mae:.4f}\")\n",
    "        print(f\"Validation Mean Squared Error: {val_mse:.4f}\")\n",
    "        print(f\"Validation Root Mean Squared Error: {val_rmse:.4f}\")\n",
    "        print(f\"Validation R^2 Score: {val_rsq:.4f}\")\n",
    "\n",
    "    if holdout:\n",
    "        # Evaluation on holdout data\n",
    "        holdout_pred = model.predict(Xht)\n",
    "        holdout_mae = mean_absolute_error(yht, holdout_pred)\n",
    "        holdout_mse = mean_squared_error(yht, holdout_pred)\n",
    "        holdout_rmse = mean_squared_error(yht, holdout_pred, squared=False)\n",
    "        holdout_rsq = r2_score(yht, holdout_pred)\n",
    "        print(\" \")\n",
    "        print(f\"Holdout Mean Absolute Error: {holdout_mae:.4f}\")\n",
    "        print(f\"Holdout Mean Squared Error: {holdout_mse:.4f}\")\n",
    "        print(f\"Holdout Root Mean Squared Error: {holdout_rmse:.4f}\")\n",
    "        print(f\"Holdout R^2 Score: {holdout_rsq:.4f}\")\n",
    "\n",
    "    return model"
   ],
   "block_group": "3727a082acc74d6182de877cc8ddc676",
   "execution_count": null,
   "outputs": [],
   "outputs_reference": null
  },
  {
   "cell_type": "code",
   "metadata": {
    "source_hash": null,
    "execution_start": 1711983205524,
    "execution_millis": 102,
    "deepnote_to_be_reexecuted": false,
    "deepnote_app_block_visible": true,
    "cell_id": "95475418ccfa4476a556b521a13541e8",
    "deepnote_cell_type": "code"
   },
   "source": [
    "def plot_feat_importance(model):\n",
    "    \"\"\"\n",
    "    Plot the feature importance\n",
    "    model: The model object itself\n",
    "    \"\"\"\n",
    "    #fi_df = pd.DataFrame({'Feature':model.feature_names_in_,'Importance':model.feature_importances_}).sort_values(by='Importance', ascending=True)\n",
    "    fi_df = pd.DataFrame({'Feature':model.booster_.feature_name(), 'Importance':model.booster_.feature_importance()}).sort_values(by='Importance', ascending=True)\n",
    "    \n",
    "    # Plot the feature importance\n",
    "    fig = px.bar(fi_df, x=\"Importance\", y=\"Feature\", orientation='h', color_discrete_sequence=['darkorange'])\n",
    "    fig.update_xaxes(categoryorder='total ascending')\n",
    "    fig.update_layout(\n",
    "        title={\n",
    "            'text': \"Feature Importance\",\n",
    "            'x': 0.5, 'xanchor': 'center',\n",
    "            'y':0.90, 'yanchor':'top'},\n",
    "        xaxis=dict(title=\"Feature Importance\", title_standoff=2),\n",
    "        yaxis=dict(title=\"Feature\", title_standoff=0),\n",
    "        height=400, width=650)\n",
    "    fig.add_annotation(\n",
    "        dict(text=f\"Data Sources: Global Coral Beaching Database, World Bank WDI\\nMarine Ecoregions of the World\", x=0.5, y=-0.25, showarrow=False,\n",
    "            font=dict(\n",
    "                size=10,\n",
    "                color=\"grey\"),\n",
    "            xref=\"paper\", yref=\"paper\", align=\"center\"\n",
    "        )\n",
    "    )\n",
    "\n",
    "    fig.show()"
   ],
   "block_group": "621af0ad2cf14c4e8f356c824a53201b",
   "execution_count": null,
   "outputs": [],
   "outputs_reference": null
  },
  {
   "cell_type": "code",
   "metadata": {
    "source_hash": null,
    "execution_start": 1711976930062,
    "execution_millis": 169,
    "deepnote_to_be_reexecuted": false,
    "deepnote_app_block_visible": true,
    "cell_id": "d8991ef7dbff4fbd919d8e3839a218c5",
    "deepnote_cell_type": "code"
   },
   "source": [
    "def write_out(model, trials, params, feat_cols=[], common_path=\"/work/models\", model_family=\"lightgbm_reg\", location_name=\"CARB\"):\n",
    "    \"\"\"\n",
    "    Write out the model artifacts to disk\n",
    "    model: The model object itself\n",
    "    trial: The Hyperopt trials object\n",
    "    params: The best model hyperparameters from the trials object\n",
    "    common_path: The common path for model artifacts e.g. '/work/models'\n",
    "    model_family: The model family, e.g. 'xgboost_reg', 'lightgbm_reg'\n",
    "    location_name: The geography that the model is trained for, e.g. 'SEAA', 'CARB', 'GLOB'\n",
    "    \"\"\"\n",
    "    date_time_str = datetime.datetime.now().strftime(\"%Y%m%d_%H%M%S\")\n",
    "    model_path = os.path.join(common_path, model_family, location_name)\n",
    " \n",
    "    # make sure the path exists\n",
    "    os.makedirs(model_path, exist_ok=True)\n",
    "\n",
    "    # Write out the HyperOpt Trials object\n",
    "    with open(model_path+'/'+date_time_str+'_trials.pkl', 'wb') as f:\n",
    "        pickle.dump(trials, f)\n",
    "\n",
    "    # Write out the XGBoost Model Object\n",
    "    with open(model_path+'/'+date_time_str+'_model.pkl', 'wb') as f:\n",
    "        pickle.dump(model, f)\n",
    "\n",
    "    # Write out the XGBoost Best Params\n",
    "    with open(model_path+'/'+date_time_str+'_params.pkl', 'wb') as f:\n",
    "        pickle.dump(params, f)\n",
    "    \n",
    "    # Write out the feature columns if they exist\n",
    "    if len(feat_cols) > 0:\n",
    "        with open(model_path+'/'+date_time_str+'_feat_cols.pkl', 'wb') as f:\n",
    "            pickle.dump(feat_cols, f)"
   ],
   "block_group": "1b88100b784648c2b6425083bc317439",
   "execution_count": null,
   "outputs": [],
   "outputs_reference": null
  },
  {
   "cell_type": "code",
   "metadata": {
    "source_hash": null,
    "execution_start": 1711976930067,
    "execution_millis": 165,
    "deepnote_to_be_reexecuted": false,
    "deepnote_app_block_visible": true,
    "cell_id": "ba69d9ce7c1f455481ddafc8522f0fc1",
    "deepnote_cell_type": "code"
   },
   "source": [
    "def feat_ablation(model, hps, Xtt, ytt, Xvt, yvt, Xht, yht, abl_list_to_combo=[]):\n",
    "    \"\"\"\n",
    "    Perform feature ablation analysis\n",
    "    model: The model object itself\n",
    "    Xtt: X_train_trans\n",
    "    ytt: y_train_trans\n",
    "    Xvt: X_val_trans\n",
    "    yvt: y_val_trans\n",
    "    Xht: X_holdout_trans\n",
    "    yht: y_holdout_trans\n",
    "    \"\"\"\n",
    "    \n",
    "    # Create the base model object with hyperparameters\n",
    "    # Note: this model will be refit during the ablation loop\n",
    "    abl_model = model_score(hps, Xtt=Xtt, ytt=ytt, Xvt=Xvt, yvt=yvt, Xht=Xht, yht=yht, train=False, val=False, holdout=False)\n",
    "    \n",
    "    # Evaluation on train data\n",
    "    train_pred = abl_model.predict(Xtt)\n",
    "    baseline_mae_train = mean_absolute_error(ytt, train_pred)\n",
    "    \n",
    "    # Evaluation on validation data\n",
    "    val_pred = abl_model.predict(Xvt)\n",
    "    baseline_mae_val = mean_absolute_error(yvt, val_pred)\n",
    "\n",
    "    print(f\"Baseline Mean MAE: {baseline_mae_train:.4f}, Validation MAE: {baseline_mae_val:.4f}\")\n",
    "\n",
    "\n",
    "    # Features for ablation \n",
    "    # Start with all features\n",
    "    abl_list = [[x] for x in Xtt.columns]\n",
    "\n",
    "    # Now create combos of features passed in as abl_list_to_combo\n",
    "    # Create combos of all items in abl_list_to_combo\n",
    "    # Range stars at 2 to skip single columns\n",
    "    abl_combo_list = [combo for r in range(2, len(abl_list_to_combo) + 1) \n",
    "        for combo in itertools.combinations(abl_list_to_combo, r)]\n",
    "\n",
    "    # Itertools combinations() creates tuples. \n",
    "    #   Convert each combination from a tuple to a list for ablation\n",
    "    abl_combo_list = [list(combo) for combo in abl_combo_list]\n",
    "\n",
    "    # Add the ablation combos to the ablation list\n",
    "    abl_list = abl_list + abl_combo_list\n",
    "\n",
    "\n",
    "    # Create the ablation loop\n",
    "    ablation_results_list = []\n",
    "\n",
    "    # Feat ablation loop\n",
    "    for feature in abl_list:\n",
    "        # drop ablated cols\n",
    "        modified_X_train_trans = Xtt.drop(columns=feature)\n",
    "        modified_X_val_trans = Xvt.drop(columns=feature)\n",
    "\n",
    "        # Fit the model with ablated features        \n",
    "        abl_model.fit(modified_X_train_trans, ytt)\n",
    "\n",
    "        # Evaluation on train data\n",
    "        modified_train_predictions = abl_model.predict(modified_X_train_trans)\n",
    "        modified_mae_train = mean_absolute_error(ytt, modified_train_predictions)\n",
    "\n",
    "        # Evaluation on validation data\n",
    "        modified_val_predictions = abl_model.predict(modified_X_val_trans)\n",
    "        modified_mae_val = mean_absolute_error(yvt, modified_val_predictions)\n",
    "        \n",
    "        # Calculate MAE changes\n",
    "        mae_change_train = baseline_mae_train - modified_mae_train\n",
    "        mae_change_val = baseline_mae_val - modified_mae_val\n",
    "\n",
    "        ablation_result_dict = {\n",
    "            'Removed_Feature': \", \".join(feature),\n",
    "            'Train_MAE': modified_mae_train,\n",
    "            'Train_MAE_Change': mae_change_train,\n",
    "            'Train_MAE_Pct_Change': 100*(1-(modified_mae_train/baseline_mae_train)),\n",
    "            'Val_MAE': modified_mae_val,\n",
    "            'Val_MAE_Change': mae_change_val,\n",
    "            'Val_MAE_Pct_Change': 100*(1-(modified_mae_val/baseline_mae_val))\n",
    "        }\n",
    "        \n",
    "        ablation_results_list.append(ablation_result_dict)\n",
    "    \n",
    "    feature_ablation_df = pd.DataFrame(ablation_results_list)\n",
    "    \n",
    "    return feature_ablation_df, baseline_mae_val, baseline_mae_train"
   ],
   "block_group": "0c78b8575d3e4fed8c1258672fbd63cf",
   "execution_count": null,
   "outputs": [],
   "outputs_reference": null
  },
  {
   "cell_type": "code",
   "metadata": {
    "source_hash": null,
    "execution_start": 1711976930068,
    "execution_millis": 164,
    "deepnote_to_be_reexecuted": false,
    "deepnote_app_block_visible": true,
    "cell_id": "f80b00a8be724745aea3f323520fc500",
    "deepnote_cell_type": "code"
   },
   "source": [
    "# Define the Hyperparameter space\n",
    "space = {\n",
    "    # 'boosting_type': hp.choice('boosting_type', ['gbdt', 'dart', 'goss']), dart ... dropout\n",
    "    'num_leaves': hp.quniform('num_leaves', 20, 1500, 1),\n",
    "    'learning_rate': hp.loguniform('learning_rate', np.log(0.01), np.log(0.2)),\n",
    "    'n_estimators': hp.quniform('n_estimators', 100, 2500, 1),\n",
    "    'min_split_gain': hp.uniform('min_split_gain', 0, 1),\n",
    "    'min_child_weight': hp.uniform('min_child_weight', 0.001, 0.1),\n",
    "    'min_child_samples': hp.quniform('min_child_samples', 1, 500, 1),\n",
    "    'subsample': hp.uniform('subsample', 0.25, 1),\n",
    "    'subsample_freq': hp.quniform('subsample_freq', 1, 20, 1),\n",
    "    'colsample_bytree': hp.uniform('colsample_bytree', 0.25, 1),\n",
    "    'reg_alpha': hp.uniform('reg_alpha', 0.05, 1),\n",
    "    'reg_lambda': hp.uniform('reg_lambda', 0.05, 1),\n",
    "}"
   ],
   "block_group": "3a00bdd5413841deb53ccbfa46d6227b",
   "execution_count": null,
   "outputs": [],
   "outputs_reference": null
  },
  {
   "cell_type": "markdown",
   "metadata": {
    "is_collapsed": false,
    "formattedRanges": [],
    "deepnote_app_block_visible": true,
    "cell_id": "fa8a0bf54100462e9d52491ef1bd2850",
    "deepnote_cell_type": "text-cell-h1"
   },
   "source": [
    "# Caribbean Region"
   ],
   "block_group": "f1427867b545433990280c904087c651"
  },
  {
   "cell_type": "markdown",
   "metadata": {
    "formattedRanges": [],
    "deepnote_app_block_visible": true,
    "cell_id": "d5c68ea1152345fb8f313994f85467c2",
    "deepnote_cell_type": "text-cell-h2"
   },
   "source": [
    "## Import the Data"
   ],
   "block_group": "c032e474be5b4808bc0f5c47e96918cb"
  },
  {
   "cell_type": "code",
   "metadata": {
    "source_hash": null,
    "execution_start": 1711976930110,
    "execution_millis": 1003,
    "deepnote_to_be_reexecuted": false,
    "deepnote_app_block_visible": true,
    "cell_id": "68c7df0b9aac4fa5a45e268f3bc9518e",
    "deepnote_cell_type": "code"
   },
   "source": [
    "X_train_trans, X_val_trans, X_holdout_trans, y_train_trans, y_val_trans, y_holdout_trans = import_data(location_name='CARB')"
   ],
   "block_group": "0f53ed0fda7a4769b509d8d3f314d469",
   "execution_count": null,
   "outputs": [],
   "outputs_reference": null
  },
  {
   "cell_type": "markdown",
   "metadata": {
    "is_collapsed": false,
    "formattedRanges": [],
    "deepnote_app_block_visible": true,
    "cell_id": "45c2655bc01b4496a46f53ed026c5cfc",
    "deepnote_cell_type": "text-cell-h2"
   },
   "source": [
    "## Hyperparameter Tuning"
   ],
   "block_group": "8e8a57b936db489b84c356e2b0f80e08"
  },
  {
   "cell_type": "markdown",
   "metadata": {
    "formattedRanges": [],
    "deepnote_app_block_visible": true,
    "cell_id": "5fcae4276f684408bc7befd0252ac542",
    "deepnote_cell_type": "text-cell-h3"
   },
   "source": [
    "### Execute Hyperparameter search"
   ],
   "block_group": "016820d33d6942cc9f17cc230e41c67b"
  },
  {
   "cell_type": "code",
   "metadata": {
    "source_hash": null,
    "execution_start": 1711976931116,
    "execution_millis": 5224929,
    "deepnote_to_be_reexecuted": false,
    "deepnote_app_block_visible": true,
    "cell_id": "f90cc484e3be44509aeff29cc5763b10",
    "deepnote_cell_type": "code"
   },
   "source": [
    "# Instantiate Neptune instance\n",
    "run = neptune.init_run(\n",
    "    name=\"RandomForest Reg Caribbean\",\n",
    "    tags=[\"RandomForest\", \"regression\", \"hyperopt\", \"RMSE\", \"Caribbean\", \"CARB\"],\n",
    "    description=\"RandomForest Hyperopt with RMSE on Caribbean\"\n",
    ")\n",
    "\n",
    "# Create the Trials object\n",
    "CARB_trials = Trials()\n",
    "\n",
    "# Create the fmin object\n",
    "CARB_best_hyperparams = fmin(fn = objective,\n",
    "                            space = space,\n",
    "                            algo = tpe.suggest,\n",
    "                            max_evals = 1000,\n",
    "                            trials = CARB_trials,\n",
    "                            show_progressbar=True,\n",
    "                            early_stop_fn=no_progress_loss(100))\n",
    "\n",
    "# Stop Neptune instance\n",
    "run.stop()\n",
    "\n",
    "CARB_best_trial = CARB_trials.best_trial\n",
    "CARB_best_hps = CARB_best_hyperparams.copy()\n",
    "\n",
    "CARB_best_hps['num_leaves'] = int(CARB_best_hps['num_leaves'])\n",
    "CARB_best_hps['n_estimators'] = int(CARB_best_hps['n_estimators'])\n",
    "CARB_best_hps['min_child_samples'] = int(CARB_best_hps['min_child_samples'])\n",
    "CARB_best_hps['subsample_freq'] = int(CARB_best_hps['subsample_freq'])"
   ],
   "block_group": "9fd65f126f234996825f29b02f9cfbad",
   "execution_count": null,
   "outputs": [],
   "outputs_reference": "s3:deepnote-cell-outputs-production/66aa393d-bf7d-43fb-90b2-92adedee4219"
  },
  {
   "cell_type": "markdown",
   "metadata": {
    "formattedRanges": [],
    "deepnote_app_block_visible": true,
    "cell_id": "0574923c39ee492dafe7953221945c79",
    "deepnote_cell_type": "text-cell-h3"
   },
   "source": [
    "### Review the Hyperparameter Search Validation MAE Scores and Hyperparameters"
   ],
   "block_group": "5e18df8b4a3748f894e8aa1ba861e660"
  },
  {
   "cell_type": "code",
   "metadata": {
    "source_hash": null,
    "execution_start": 1711982156049,
    "execution_millis": 672,
    "deepnote_to_be_reexecuted": false,
    "deepnote_app_block_visible": true,
    "cell_id": "430347b2d0404d05a8376943aadc8eff",
    "deepnote_cell_type": "code"
   },
   "source": [
    "# What's the best trial from the search? Report the MAE & StdDev\n",
    "print(f\"Best Mean Absolute Error: {CARB_trials.best_trial['result']['loss']:.4f}\")\n",
    "print(f\"Best Standard Error: {CARB_trials.best_trial['result']['std']:.4f}\")"
   ],
   "block_group": "e03cff7282584c11b165765d2b929b2a",
   "execution_count": null,
   "outputs": [],
   "outputs_reference": "dbtable:cell_outputs/ecf14632-311e-4368-8bc6-84e91f0ac5a6"
  },
  {
   "cell_type": "code",
   "metadata": {
    "source_hash": null,
    "execution_start": 1711982156053,
    "execution_millis": 668,
    "deepnote_to_be_reexecuted": false,
    "deepnote_app_block_visible": true,
    "cell_id": "bc15c14cbe774cf6a0c556a97a6657c3",
    "deepnote_cell_type": "code"
   },
   "source": [
    "# Display the best hyperparameters\n",
    "CARB_best_hps"
   ],
   "block_group": "2d368b28481d4163990b20c6623a2207",
   "execution_count": null,
   "outputs": [],
   "outputs_reference": "dbtable:cell_outputs/e340cbfb-29ea-4d8d-a6b9-19ec8ba14e30"
  },
  {
   "cell_type": "markdown",
   "metadata": {
    "formattedRanges": [],
    "deepnote_app_block_visible": true,
    "cell_id": "5825e5499ec945b4a29be3b8188fa0bb",
    "deepnote_cell_type": "text-cell-h2"
   },
   "source": [
    "## Recreate the model and get new MAE and Feature Importance"
   ],
   "block_group": "510eb6a614644592ba9b30bfd46bb4e1"
  },
  {
   "cell_type": "code",
   "metadata": {
    "source_hash": null,
    "execution_start": 1711983214914,
    "execution_millis": 8507,
    "deepnote_to_be_reexecuted": false,
    "deepnote_app_block_visible": true,
    "cell_id": "cc49a5da7da2439a81176a6525906ffc",
    "deepnote_cell_type": "code"
   },
   "source": [
    "# Recreate the model with the best hyperparameters\n",
    "CARB_model = model_score(CARB_best_hps, holdout=True, val=True)\n",
    "\n",
    "# Plot the feature importance\n",
    "plot_feat_importance(CARB_model)"
   ],
   "block_group": "2ca3dcfbf27f41bab8cb7866df059743",
   "execution_count": null,
   "outputs": [],
   "outputs_reference": "s3:deepnote-cell-outputs-production/33910dc3-33ca-4325-89e8-0554c1cadf4b"
  },
  {
   "cell_type": "markdown",
   "metadata": {
    "is_collapsed": false,
    "formattedRanges": [],
    "deepnote_app_block_visible": true,
    "cell_id": "d91e4a337c6146129bf10a1353d84a97",
    "deepnote_cell_type": "text-cell-h2"
   },
   "source": [
    "## Feature Ablation"
   ],
   "block_group": "09cdeccecbf240e68a8256985a4b599f"
  },
  {
   "cell_type": "code",
   "metadata": {
    "source_hash": null,
    "execution_start": 1711984014920,
    "execution_millis": 169514,
    "deepnote_to_be_reexecuted": false,
    "deepnote_app_block_visible": true,
    "cell_id": "3639112f2a3448d4a69363e7d4b8f7d8",
    "deepnote_cell_type": "code"
   },
   "source": [
    "%%time\n",
    "# First run through the feature ablation process\n",
    "# This will determine which features can potentially be removed\n",
    "CARB_feature_ablation_df, CARB_baseline_mae_val, CARB_baseline_mae_train = feat_ablation(\n",
    "    model=CARB_model, hps=CARB_best_hps, \n",
    "    Xtt=X_train_trans, ytt=y_train_trans, \n",
    "    Xvt=X_val_trans, yvt=y_val_trans, \n",
    "    Xht=X_holdout_trans, yht=y_holdout_trans)"
   ],
   "block_group": "8c29dae6f92447749a2fa116b323bea8",
   "execution_count": null,
   "outputs": [],
   "outputs_reference": "dbtable:cell_outputs/94350db2-868e-4997-bc9d-a9411fefc32c"
  },
  {
   "cell_type": "code",
   "metadata": {
    "source_hash": null,
    "execution_start": 1711984184437,
    "execution_millis": 206,
    "deepnote_table_state": {
     "sortBy": [],
     "filters": [],
     "pageSize": 50,
     "pageIndex": 0
    },
    "deepnote_table_loading": false,
    "deepnote_to_be_reexecuted": false,
    "deepnote_app_block_visible": true,
    "cell_id": "7a764a2f9d964a2fb0eb4e2d4f67f28e",
    "deepnote_cell_type": "code"
   },
   "source": [
    "# Show the feature ablation dataframe, sorted by the change in MAE to Validation data\n",
    "CARB_feature_ablation_df.sort_values('Val_MAE_Change', ascending=False)"
   ],
   "block_group": "ced566f9b071492da231bf8860fc5a06",
   "execution_count": null,
   "outputs": [],
   "outputs_reference": "s3:deepnote-cell-outputs-production/f641d2f7-840b-46f9-8f8b-b5c6ef716fd8"
  },
  {
   "cell_type": "code",
   "metadata": {
    "source_hash": null,
    "execution_start": 1711984184437,
    "execution_millis": 207,
    "deepnote_to_be_reexecuted": false,
    "deepnote_app_block_visible": true,
    "cell_id": "21e4c3a3fb2047f7b96fc51c07c72652",
    "deepnote_cell_type": "code"
   },
   "source": [
    "# Generate the top 5 features to use in feature ablation combinations\n",
    "CARB_abl_list_to_combo = CARB_feature_ablation_df[CARB_feature_ablation_df['Val_MAE'] <= CARB_baseline_mae_val].sort_values('Val_MAE_Change', ascending=False)['Removed_Feature'].head(1).values[0].split(', ')\n",
    "\n",
    "# Show the top 5 features\n",
    "CARB_abl_list_to_combo"
   ],
   "block_group": "0b0bc9eb4cb24a989669e7b5c4f843e0",
   "execution_count": null,
   "outputs": [],
   "outputs_reference": "dbtable:cell_outputs/6df15e1e-1ee8-4fd2-ab08-a4983db8015d"
  },
  {
   "cell_type": "code",
   "metadata": {
    "source_hash": null,
    "execution_start": 1711984184478,
    "execution_millis": 170065,
    "deepnote_to_be_reexecuted": false,
    "deepnote_app_block_visible": true,
    "cell_id": "9eb91c32dccd490897662dd8957441cc",
    "deepnote_cell_type": "code"
   },
   "source": [
    "%%time\n",
    "# Second run through the feature ablation process\n",
    "# This time including the top 5 features whose removal decreased the MAE\n",
    "# These top 5 features will be combined using itertools\n",
    "CARB_feature_ablation_df, CARB_baseline_mae_val, CARB_baseline_mae_train = feat_ablation(\n",
    "    model=CARB_model, hps=CARB_best_hps, \n",
    "    Xtt=X_train_trans, ytt=y_train_trans, \n",
    "    Xvt=X_val_trans, yvt=y_val_trans, \n",
    "    Xht=X_holdout_trans, yht=y_holdout_trans, \n",
    "    abl_list_to_combo=CARB_abl_list_to_combo)"
   ],
   "block_group": "5f05f331a8af4a41825c9a285ca236e7",
   "execution_count": null,
   "outputs": [],
   "outputs_reference": "dbtable:cell_outputs/5c77175a-2470-45dd-82ef-80c14b699777"
  },
  {
   "cell_type": "code",
   "metadata": {
    "source_hash": null,
    "execution_start": 1711984354545,
    "execution_millis": 291,
    "deepnote_table_state": {
     "sortBy": [
      {
       "id": "Val_MAE_Change",
       "type": "desc"
      }
     ],
     "filters": [],
     "pageSize": 25,
     "pageIndex": 0
    },
    "deepnote_table_loading": false,
    "deepnote_to_be_reexecuted": false,
    "deepnote_app_block_visible": true,
    "cell_id": "fa3f92fc534c4a3b82a0b68afd46e218",
    "deepnote_cell_type": "code"
   },
   "source": [
    "# Show the feature ablation dataframe, sorted by the change in MAE to Validation data\n",
    "CARB_feature_ablation_df[CARB_feature_ablation_df['Val_MAE'] <= CARB_baseline_mae_val]"
   ],
   "block_group": "8c0621fd67824838aa555fb148c8c08c",
   "execution_count": null,
   "outputs": [],
   "outputs_reference": "s3:deepnote-cell-outputs-production/a83dfd70-f513-4c2f-860a-7fd8e2a0b761"
  },
  {
   "cell_type": "code",
   "metadata": {
    "source_hash": null,
    "execution_start": 1711984354550,
    "execution_millis": 562,
    "deepnote_to_be_reexecuted": false,
    "deepnote_app_block_visible": true,
    "cell_id": "2462a76b5da4406ab8d665e1aab4dc38",
    "deepnote_cell_type": "code"
   },
   "source": [
    "# Show the top 1 feature, which we'll remove.  Might be multiple features, so we split the string\n",
    "CARB_feature_ablation_df[CARB_feature_ablation_df['Val_MAE'] <= CARB_baseline_mae_val].sort_values('Val_MAE_Change', ascending=False)['Removed_Feature'].head(1).to_list()"
   ],
   "block_group": "c54e98cf034a41098b1ef44b9c043231",
   "execution_count": null,
   "outputs": [],
   "outputs_reference": "dbtable:cell_outputs/401013b5-22f9-4a86-9205-2a83c8698732"
  },
  {
   "cell_type": "code",
   "metadata": {
    "source_hash": null,
    "execution_start": 1711984354592,
    "execution_millis": 8031,
    "deepnote_to_be_reexecuted": false,
    "deepnote_app_block_visible": true,
    "cell_id": "673ad5cfe3d041d197491c0d554243c1",
    "deepnote_cell_type": "code"
   },
   "source": [
    "# Define the top features to drop\n",
    "CARB_drop_cols = CARB_feature_ablation_df[CARB_feature_ablation_df['Val_MAE'] <= CARB_baseline_mae_val].sort_values('Val_MAE_Change', ascending=False)['Removed_Feature'].head(1).values[0].split(', ')\n",
    "\n",
    "# Create the feature columns list for saving out\n",
    "CARB_feat_columns = X_train_trans.drop(columns=CARB_drop_cols).columns.to_list()\n",
    "\n",
    "# Recreate the model with the dropped columns\n",
    "# It should have a lower MAE score than the original\n",
    "CARB_experiment_model = model_score(\n",
    "    CARB_best_hps, val=True, \n",
    "    Xtt=X_train_trans.drop(columns=CARB_drop_cols), ytt=y_train_trans, \n",
    "    Xvt=X_val_trans.drop(columns=CARB_drop_cols), yvt=y_val_trans, \n",
    "    Xht=X_holdout_trans.drop(columns=CARB_drop_cols), yht=y_holdout_trans)\n",
    "\n",
    "# Plot the feature importance for this model\n",
    "plot_feat_importance(CARB_experiment_model)"
   ],
   "block_group": "610f1a852a7f4193a65c1f1d15924609",
   "execution_count": null,
   "outputs": [],
   "outputs_reference": "s3:deepnote-cell-outputs-production/7c6148a4-272a-4367-9ffb-7693710c9278"
  },
  {
   "cell_type": "markdown",
   "metadata": {
    "formattedRanges": [],
    "deepnote_app_block_visible": true,
    "cell_id": "6809d377adb74fda8966c6ae2b76b47c",
    "deepnote_cell_type": "text-cell-h3"
   },
   "source": [
    "### Output the Model, Trials, Parameters and Feature List to disk"
   ],
   "block_group": "b8c3eec0f6b94fcc9e32ba6f2c5ff2a7"
  },
  {
   "cell_type": "code",
   "metadata": {
    "source_hash": null,
    "execution_start": 1711984362626,
    "execution_millis": 1974,
    "deepnote_to_be_reexecuted": false,
    "deepnote_app_block_visible": true,
    "cell_id": "244ce3a8f83d4f27a5b3af644870bb7e",
    "deepnote_cell_type": "code"
   },
   "source": [
    "# Write out the model artifacts to disk\n",
    "write_out(model=CARB_model, trials=CARB_trials, params=CARB_best_hps, feat_cols=CARB_feat_columns, location_name='CARB')"
   ],
   "block_group": "053444987e0d411ba8f0852f8762f731",
   "execution_count": null,
   "outputs": [],
   "outputs_reference": null
  },
  {
   "cell_type": "markdown",
   "metadata": {
    "is_collapsed": false,
    "formattedRanges": [],
    "deepnote_app_block_visible": true,
    "cell_id": "e9ba28f9a1fe4607beb4914cd1d46be8",
    "deepnote_cell_type": "text-cell-h2"
   },
   "source": [
    "## Review Holdout Truth vs Predictions"
   ],
   "block_group": "139ee5a3d74144fc807ec52d372ad6e4"
  },
  {
   "cell_type": "code",
   "metadata": {
    "source_hash": null,
    "execution_start": 1711984364602,
    "execution_millis": 81,
    "deepnote_to_be_reexecuted": false,
    "deepnote_app_block_visible": true,
    "cell_id": "f64b204995bd47c083c1ec8caec1bae6",
    "deepnote_cell_type": "code"
   },
   "source": [
    "eval_df = y_val_trans.copy(deep=True)\n",
    "CARB_val_pred = CARB_model.predict(X_val_trans)\n",
    "eval_df['predictions'] = CARB_val_pred.tolist()\n",
    "eval_df['diff'] = eval_df['y_val'] - eval_df['predictions']"
   ],
   "block_group": "0abf6862b25e4bc4b4061e7db1e64a3e",
   "execution_count": null,
   "outputs": [],
   "outputs_reference": null
  },
  {
   "cell_type": "code",
   "metadata": {
    "source_hash": null,
    "execution_start": 1711984364681,
    "execution_millis": 285,
    "deepnote_table_state": {
     "sortBy": [],
     "filters": [],
     "pageSize": 25,
     "pageIndex": 0
    },
    "deepnote_table_loading": false,
    "deepnote_to_be_reexecuted": false,
    "deepnote_app_block_visible": true,
    "cell_id": "039775082c1d4442b02d6c91409c78b8",
    "deepnote_cell_type": "code"
   },
   "source": [
    "eval_df.sort_values(by='diff', ascending=False).head(20)"
   ],
   "block_group": "e11ab89146f34829a95efb1a627531f9",
   "execution_count": null,
   "outputs": [],
   "outputs_reference": "s3:deepnote-cell-outputs-production/b584494e-ae33-4997-8d2f-c118afad7c59"
  },
  {
   "cell_type": "code",
   "metadata": {
    "source_hash": null,
    "execution_start": 1711984364693,
    "execution_millis": 753,
    "deepnote_to_be_reexecuted": false,
    "deepnote_app_block_visible": true,
    "cell_id": "a71d3b36c2ce43509c1b75fce32ec665",
    "deepnote_cell_type": "code"
   },
   "source": [
    "fig = px.histogram(eval_df[eval_df['y_val'] > 5], x='diff', nbins=100, title='Distribution of the diff between prediction and holdout where true value > 5')\n",
    "\n",
    "# Show the plot\n",
    "fig.show()"
   ],
   "block_group": "b515f851aad24673ab421c56adc26d09",
   "execution_count": null,
   "outputs": [],
   "outputs_reference": "s3:deepnote-cell-outputs-production/1cfdced2-c9ca-4083-9a64-2de26accbf9f"
  },
  {
   "cell_type": "code",
   "metadata": {
    "source_hash": null,
    "execution_start": 1711984364760,
    "execution_millis": 687,
    "deepnote_table_state": {
     "sortBy": [],
     "filters": [],
     "pageSize": 25,
     "pageIndex": 0
    },
    "deepnote_table_loading": false,
    "deepnote_to_be_reexecuted": false,
    "deepnote_app_block_visible": true,
    "cell_id": "28e26830acde4ce48135f9aa6dc96676",
    "deepnote_cell_type": "code"
   },
   "source": [
    "#eval_df[(eval_df['diff'].between(-5,5))]\n",
    "#eval_df[(eval_df['diff'].between(-5,5)) & (eval_df['y_val'] > 5)]\n",
    "eval_df[~(eval_df['diff'].between(-5,5))]\n"
   ],
   "block_group": "c4537cf4ea804253a4da3993acd0b6e3",
   "execution_count": null,
   "outputs": [],
   "outputs_reference": "s3:deepnote-cell-outputs-production/59d190a8-abb8-4b41-b718-78b26b21b6a0"
  },
  {
   "cell_type": "markdown",
   "metadata": {
    "formattedRanges": [],
    "deepnote_app_block_visible": true,
    "cell_id": "1540d0818b4649e5929d16bfdbfd1745",
    "deepnote_cell_type": "text-cell-h2"
   },
   "source": [
    "## SHAP Analysis"
   ],
   "block_group": "e40d498cd3a04efe8340bcd336d42635"
  },
  {
   "cell_type": "markdown",
   "metadata": {
    "formattedRanges": [],
    "deepnote_app_block_visible": true,
    "cell_id": "9807036923dd494aa424281212343d3e",
    "deepnote_cell_type": "text-cell-h3"
   },
   "source": [
    "### Create SHAP Objects"
   ],
   "block_group": "df59f68bcdf4446b81ee99beccaa87d0"
  },
  {
   "cell_type": "code",
   "metadata": {
    "source_hash": null,
    "execution_start": 1711984364762,
    "execution_millis": 685,
    "deepnote_to_be_reexecuted": false,
    "deepnote_app_block_visible": true,
    "cell_id": "877d168fc7bf424098aa7f1ebbc4c8ac",
    "deepnote_cell_type": "code"
   },
   "source": [
    "# %%time\n",
    "# CARB_X_val_trans = X_val_trans.copy(deep=True)\n",
    "# CARB_y_val_trans = y_val_trans.copy(deep=True)\n",
    "# explainer = shap.TreeExplainer(CARB_model)\n",
    "# shap_values = explainer(CARB_X_val_trans)\n",
    "# shap_interaction = explainer.shap_interaction_values(CARB_X_val_trans)\n",
    "# sv = explainer.shap_values(CARB_X_val_trans)\n",
    "# shap.initjs()"
   ],
   "block_group": "c7de2fc85ece4c89b3ca9e620545be73",
   "execution_count": null,
   "outputs": [],
   "outputs_reference": null
  },
  {
   "cell_type": "code",
   "metadata": {
    "source_hash": null,
    "execution_start": 1711984364762,
    "execution_millis": 685,
    "deepnote_to_be_reexecuted": false,
    "deepnote_app_block_visible": true,
    "cell_id": "d168fe58d57044ff912eb10b7d6e10cf",
    "deepnote_cell_type": "code"
   },
   "source": [
    "# Beeswarm Importance\n",
    "# plt.figure(figsize=(8,6))\n",
    "# plt.title(f\"SHAP Beeswarm Analysis\")\n",
    "# shap.plots.beeswarm(shap_values, max_display=32)\n",
    "# plt.close()"
   ],
   "block_group": "9d7304cc62fd4802b6aba47b154e7a5a",
   "execution_count": null,
   "outputs": [],
   "outputs_reference": null
  },
  {
   "cell_type": "markdown",
   "metadata": {
    "formattedRanges": [],
    "deepnote_app_block_visible": true,
    "cell_id": "deab6d184be047dfa00a69fb6d3c9b9f",
    "deepnote_cell_type": "text-cell-h3"
   },
   "source": [
    "### Investigate Individual Predictions"
   ],
   "block_group": "00a6d7f716f04492af4d77a7895ea7be"
  },
  {
   "cell_type": "code",
   "metadata": {
    "source_hash": null,
    "execution_start": 1711984364773,
    "execution_millis": 680,
    "deepnote_to_be_reexecuted": false,
    "deepnote_app_block_visible": true,
    "cell_id": "d0c6056f079c4fa19c788a7d2bea0fea",
    "deepnote_cell_type": "code"
   },
   "source": [
    "#investigate = CARB_X_val_trans.index.get_loc(5809)\n",
    "# print(CARB_y_val_trans.iloc[investigate])"
   ],
   "block_group": "fd49f345257942e4832f92ff46b8724a",
   "execution_count": null,
   "outputs": [],
   "outputs_reference": null
  },
  {
   "cell_type": "code",
   "metadata": {
    "source_hash": null,
    "execution_start": 1711984364773,
    "execution_millis": 675,
    "deepnote_to_be_reexecuted": false,
    "deepnote_app_block_visible": true,
    "cell_id": "5d2e2987c4ee4d80b85a6d84bc4ea0be",
    "deepnote_cell_type": "code"
   },
   "source": [
    "# Waterfall on a prediction\n",
    "# plt.figure(figsize=(8,6))\n",
    "# shap.plots.waterfall(shap_values[investigate], max_display=20) # , show=False\n",
    "# plt.close()"
   ],
   "block_group": "8a661b7b2e6a44dd8e188e2d0ace7bcb",
   "execution_count": null,
   "outputs": [],
   "outputs_reference": null
  },
  {
   "cell_type": "code",
   "metadata": {
    "source_hash": null,
    "execution_start": 1711984364789,
    "execution_millis": 660,
    "deepnote_to_be_reexecuted": false,
    "deepnote_app_block_visible": true,
    "cell_id": "472ef91d0b93466cb8127eb47758ddce",
    "deepnote_cell_type": "code"
   },
   "source": [
    "# Decision plot on a prediction\n",
    "# shap.decision_plot(explainer.expected_value, explainer.shap_values(CARB_X_val_trans)[investigate], CARB_X_val_trans, feature_display_range=slice(-1,-51,-1))"
   ],
   "block_group": "8b40f4b93b644aa691bcfa4a76cd747d",
   "execution_count": null,
   "outputs": [],
   "outputs_reference": null
  },
  {
   "cell_type": "markdown",
   "metadata": {
    "is_collapsed": false,
    "formattedRanges": [],
    "deepnote_app_block_visible": true,
    "cell_id": "864a9d9916e34a16b6b16a1386be8b96",
    "deepnote_cell_type": "text-cell-h1"
   },
   "source": [
    "# South East Asia and Australia Region"
   ],
   "block_group": "f341c9600c0d47c09020907304caa863"
  },
  {
   "cell_type": "markdown",
   "metadata": {
    "formattedRanges": [],
    "deepnote_app_block_visible": true,
    "cell_id": "c80b0babf1e641d5ba0ba9fec7eaacee",
    "deepnote_cell_type": "text-cell-h2"
   },
   "source": [
    "## Import the Data"
   ],
   "block_group": "cff5ae98cd7c4689b9c0553657bd6760"
  },
  {
   "cell_type": "code",
   "metadata": {
    "allow_embed": false,
    "source_hash": null,
    "execution_start": 1711984364849,
    "execution_millis": 1984,
    "deepnote_to_be_reexecuted": false,
    "deepnote_app_block_visible": true,
    "cell_id": "2ad2a4c86ca94d6aac6c5a447e95ce1d",
    "deepnote_cell_type": "code"
   },
   "source": [
    "X_train_trans, X_val_trans, X_holdout_trans, y_train_trans, y_val_trans, y_holdout_trans = import_data(location_name='SEAA')"
   ],
   "block_group": "d837398a0964481daf71b0dbb17f99c4",
   "execution_count": null,
   "outputs": [],
   "outputs_reference": null
  },
  {
   "cell_type": "markdown",
   "metadata": {
    "is_collapsed": false,
    "formattedRanges": [],
    "deepnote_app_block_visible": true,
    "cell_id": "c5089ec2fa734c6d9e2da249e7e0d643",
    "deepnote_cell_type": "text-cell-h2"
   },
   "source": [
    "## Hyperparameter Tuning"
   ],
   "block_group": "cbad4f42081647f7ac57de419a0937f5"
  },
  {
   "cell_type": "markdown",
   "metadata": {
    "formattedRanges": [],
    "deepnote_app_block_visible": true,
    "cell_id": "d87010f3edbc477c9cedd89e61da15b6",
    "deepnote_cell_type": "text-cell-h3"
   },
   "source": [
    "### Execute Hyperparameter search"
   ],
   "block_group": "df0da39a99ac424997e15f3b6df3a25d"
  },
  {
   "cell_type": "code",
   "metadata": {
    "allow_embed": false,
    "source_hash": null,
    "execution_start": 1711984366836,
    "execution_millis": 12262497,
    "deepnote_to_be_reexecuted": false,
    "deepnote_app_block_visible": true,
    "cell_id": "46068d1e943e4942b40a05ff73758f00",
    "deepnote_cell_type": "code"
   },
   "source": [
    "# Instantiate Neptune instance\n",
    "run = neptune.init_run(\n",
    "    name=\"LightGBM Reg South East Asia and Australia\",\n",
    "    tags=[\"LightGBM\", \"regression\", \"hyperopt\", \"RMSE\", \"South East Asia and Australia\", \"SEAA\"],\n",
    "    description=\"LightGBM Hyperopt with RMSE on South East Asia and Australia\"\n",
    ")\n",
    "\n",
    "# Create the Trials object\n",
    "SEAA_trials = Trials()\n",
    "\n",
    "# Create the fmin object\n",
    "SEAA_best_hyperparams = fmin(fn = objective,\n",
    "                            space = space,\n",
    "                            algo = tpe.suggest,\n",
    "                            max_evals = 1000,\n",
    "                            trials = SEAA_trials,\n",
    "                            show_progressbar=True,\n",
    "                            early_stop_fn=no_progress_loss(100))\n",
    "\n",
    "# Stop Neptune instance\n",
    "run.stop()\n",
    "\n",
    "SEAA_best_trial = SEAA_trials.best_trial\n",
    "SEAA_best_hps = SEAA_best_hyperparams.copy()\n",
    "\n",
    "SEAA_best_hps['num_leaves'] = int(SEAA_best_hps['num_leaves'])\n",
    "SEAA_best_hps['n_estimators'] = int(SEAA_best_hps['n_estimators'])\n",
    "SEAA_best_hps['min_child_samples'] = int(SEAA_best_hps['min_child_samples'])\n",
    "SEAA_best_hps['subsample_freq'] = int(SEAA_best_hps['subsample_freq'])"
   ],
   "block_group": "b3ce289555a342078b8854ab5a577ff0",
   "execution_count": null,
   "outputs": [],
   "outputs_reference": "dbtable:cell_outputs/719971ac-c5d8-4182-be33-3331bbec3c48"
  },
  {
   "cell_type": "markdown",
   "metadata": {
    "formattedRanges": [],
    "deepnote_app_block_visible": true,
    "cell_id": "d93aacc19d604df4885ddd61a3951086",
    "deepnote_cell_type": "text-cell-h3"
   },
   "source": [
    "### Review the Hyperparameter Search Validation MAE Scores and Hyperparameters"
   ],
   "block_group": "872d9797753c43cb9ea0aac9295f236b"
  },
  {
   "cell_type": "code",
   "metadata": {
    "allow_embed": false,
    "source_hash": null,
    "execution_start": 1711996629336,
    "execution_millis": 441,
    "deepnote_to_be_reexecuted": false,
    "deepnote_app_block_visible": true,
    "cell_id": "679524e0ae04459f92b8681b098f857d",
    "deepnote_cell_type": "code"
   },
   "source": [
    "# What's the best trial from the search? Report the MAE & StdDev\n",
    "print(f\"Best Mean Absolute Error: {SEAA_trials.best_trial['result']['loss']:.4f}\")\n",
    "print(f\"Best Standard Error: {SEAA_trials.best_trial['result']['std']:.4f}\")"
   ],
   "block_group": "fd46e183b105449c82b6966a3161785f",
   "execution_count": null,
   "outputs": [],
   "outputs_reference": "dbtable:cell_outputs/73ee7dc5-d038-44f7-8460-746fb92d6a3e"
  },
  {
   "cell_type": "code",
   "metadata": {
    "allow_embed": false,
    "source_hash": null,
    "execution_start": 1711996629337,
    "execution_millis": 441,
    "deepnote_to_be_reexecuted": false,
    "deepnote_app_block_visible": true,
    "cell_id": "f60c3573634a4df8b3cd507a3bda8da7",
    "deepnote_cell_type": "code"
   },
   "source": [
    "# Display the best hyperparameters\n",
    "SEAA_best_hps"
   ],
   "block_group": "c9fe859c0c0c4df99b6aca669ed43e3b",
   "execution_count": null,
   "outputs": [],
   "outputs_reference": "dbtable:cell_outputs/7812a714-dd70-4fed-8a26-43a991b24caa"
  },
  {
   "cell_type": "markdown",
   "metadata": {
    "formattedRanges": [],
    "deepnote_app_block_visible": true,
    "cell_id": "610f3bec1b5b44acb9cbf436ea691e7c",
    "deepnote_cell_type": "text-cell-h2"
   },
   "source": [
    "## Recreate the model and get new MAE and Feature Importance"
   ],
   "block_group": "e369fe5d08df4bc8bc3637c0b156625a"
  },
  {
   "cell_type": "code",
   "metadata": {
    "allow_embed": false,
    "source_hash": null,
    "execution_start": 1711996629337,
    "execution_millis": 11834,
    "deepnote_to_be_reexecuted": false,
    "deepnote_app_block_visible": true,
    "cell_id": "0213c1b9650d47ba9ae019183aae025c",
    "deepnote_cell_type": "code"
   },
   "source": [
    "# Recreate the model with the best hyperparameters\n",
    "SEAA_model = model_score(SEAA_best_hps, holdout=True, val=True)\n",
    "\n",
    "# Plot the feature importance\n",
    "plot_feat_importance(SEAA_model)"
   ],
   "block_group": "c5c82f407c184f76948bacfcc0f1478b",
   "execution_count": null,
   "outputs": [],
   "outputs_reference": "s3:deepnote-cell-outputs-production/23128361-8d5b-4f46-84d4-b15281516ce8"
  },
  {
   "cell_type": "markdown",
   "metadata": {
    "is_collapsed": false,
    "formattedRanges": [],
    "deepnote_app_block_visible": true,
    "cell_id": "820b477b93fc43d49cfe0d0f9c248d7f",
    "deepnote_cell_type": "text-cell-h2"
   },
   "source": [
    "## Feature Ablation"
   ],
   "block_group": "d9a9481de5f54ec2a6e306f3023ac159"
  },
  {
   "cell_type": "code",
   "metadata": {
    "allow_embed": false,
    "source_hash": null,
    "execution_start": 1711996641220,
    "execution_millis": 229888,
    "deepnote_to_be_reexecuted": false,
    "deepnote_app_block_visible": true,
    "cell_id": "852a422cf78047ff87b4cbdec65b8c5d",
    "deepnote_cell_type": "code"
   },
   "source": [
    "%%time\n",
    "# First run through the feature ablation process\n",
    "# This will determine which features can potentially be removed\n",
    "SEAA_feature_ablation_df, SEAA_baseline_mae_val, SEAA_baseline_mae_train = feat_ablation(\n",
    "    model=SEAA_model, hps=SEAA_best_hps, \n",
    "    Xtt=X_train_trans, ytt=y_train_trans, \n",
    "    Xvt=X_val_trans, yvt=y_val_trans, \n",
    "    Xht=X_holdout_trans, yht=y_holdout_trans)"
   ],
   "block_group": "8347e696994342b79295873e6e8eea83",
   "execution_count": null,
   "outputs": [],
   "outputs_reference": "dbtable:cell_outputs/62ff33af-21f6-4031-b48d-e02db88a0175"
  },
  {
   "cell_type": "code",
   "metadata": {
    "allow_embed": false,
    "source_hash": null,
    "execution_start": 1711996871111,
    "execution_millis": 376,
    "deepnote_table_state": {
     "sortBy": [
      {
       "id": "Val_MAE_Change",
       "type": "desc"
      }
     ],
     "filters": [],
     "pageSize": 25,
     "pageIndex": 0
    },
    "deepnote_table_loading": false,
    "deepnote_to_be_reexecuted": false,
    "deepnote_app_block_visible": true,
    "cell_id": "50eb015a3a794a4fab1abe4d20549c7b",
    "deepnote_cell_type": "code"
   },
   "source": [
    "# Show the feature ablation dataframe, sorted by the change in MAE to Validation data\n",
    "SEAA_feature_ablation_df.sort_values('Val_MAE_Change', ascending=False)"
   ],
   "block_group": "624745dcf51c4b7cb8a4f882ab2fcb62",
   "execution_count": null,
   "outputs": [],
   "outputs_reference": "s3:deepnote-cell-outputs-production/3dd1f5f2-5b59-49dd-9d5d-3205de5b9fb5"
  },
  {
   "cell_type": "code",
   "metadata": {
    "allow_embed": false,
    "source_hash": null,
    "execution_start": 1711996871112,
    "execution_millis": 376,
    "deepnote_to_be_reexecuted": false,
    "deepnote_app_block_visible": true,
    "cell_id": "1aad461cdd6b40a2a41f951b03478cbc",
    "deepnote_cell_type": "code"
   },
   "source": [
    "# Generate the top 5 features to use in feature ablation combinations\n",
    "SEAA_abl_list_to_combo = SEAA_feature_ablation_df[SEAA_feature_ablation_df['Val_MAE'] <= SEAA_baseline_mae_val].sort_values('Val_MAE_Change', ascending=False)['Removed_Feature'].head(5).to_list()\n",
    "\n",
    "# Review the list\n",
    "SEAA_abl_list_to_combo"
   ],
   "block_group": "f9f68d95c6424277b4b637b6bd3d3b96",
   "execution_count": null,
   "outputs": [],
   "outputs_reference": "dbtable:cell_outputs/af6b4880-af0a-4e82-899f-cea1fa63ac9f"
  },
  {
   "cell_type": "code",
   "metadata": {
    "allow_embed": false,
    "source_hash": null,
    "execution_start": 1711996871118,
    "execution_millis": 491767,
    "deepnote_to_be_reexecuted": false,
    "deepnote_app_block_visible": true,
    "cell_id": "3e6a5827c95149948af605adac3980fd",
    "deepnote_cell_type": "code"
   },
   "source": [
    "%%time\n",
    "# Second run through the feature ablation process\n",
    "# This time including the top 5 features whose removal decreased the MAE\n",
    "# These top 5 features will be combined using itertools\n",
    "SEAA_feature_ablation_df, SEAA_baseline_mae_val, SEAA_baseline_mae_train = feat_ablation(\n",
    "    model=SEAA_model, hps=SEAA_best_hps, \n",
    "    Xtt=X_train_trans, ytt=y_train_trans, \n",
    "    Xvt=X_val_trans, yvt=y_val_trans, \n",
    "    Xht=X_holdout_trans, yht=y_holdout_trans, \n",
    "    abl_list_to_combo=SEAA_abl_list_to_combo)"
   ],
   "block_group": "7aecb9616931456e9083fcb8d8353b16",
   "execution_count": null,
   "outputs": [],
   "outputs_reference": "dbtable:cell_outputs/d4380518-3b7c-4273-8ced-e02683333dd5"
  },
  {
   "cell_type": "code",
   "metadata": {
    "allow_embed": false,
    "source_hash": null,
    "execution_start": 1711997362887,
    "execution_millis": 786,
    "deepnote_table_state": {
     "sortBy": [
      {
       "id": "Val_MAE_Change",
       "type": "asc"
      }
     ],
     "filters": [],
     "pageSize": 10,
     "pageIndex": 0
    },
    "deepnote_table_loading": false,
    "deepnote_to_be_reexecuted": false,
    "deepnote_app_block_visible": true,
    "cell_id": "4fce2bcb76f74b7d9bdbaa12af351eb3",
    "deepnote_cell_type": "code"
   },
   "source": [
    "# Show the feature ablation dataframe, sorted by the change in MAE to Validation data\n",
    "SEAA_feature_ablation_df[SEAA_feature_ablation_df['Val_MAE'] <= SEAA_baseline_mae_val].sort_values('Val_MAE_Change', ascending=False)"
   ],
   "block_group": "159962259d324ce8a5cc9c4d185ddbb5",
   "execution_count": null,
   "outputs": [],
   "outputs_reference": "s3:deepnote-cell-outputs-production/a81aadc5-ee42-4c9a-9b36-653d8e6d1f03"
  },
  {
   "cell_type": "code",
   "metadata": {
    "allow_embed": false,
    "source_hash": null,
    "execution_start": 1711997362900,
    "execution_millis": 773,
    "deepnote_to_be_reexecuted": false,
    "deepnote_app_block_visible": true,
    "cell_id": "6344abf99f094e7c84dd7099cfcbd95a",
    "deepnote_cell_type": "code"
   },
   "source": [
    "# Show the top 1 feature, which we'll remove.  Might be multiple features, so we split the string\n",
    "SEAA_feature_ablation_df[SEAA_feature_ablation_df['Val_MAE'] <= SEAA_baseline_mae_val].sort_values('Val_MAE_Change', ascending=False)['Removed_Feature'].head(1).values[0].split(', ')"
   ],
   "block_group": "a92985f843fb48d2b7e4d9361a57df12",
   "execution_count": null,
   "outputs": [],
   "outputs_reference": "dbtable:cell_outputs/dbe01544-a921-4ee7-8f8e-d30436983be6"
  },
  {
   "cell_type": "code",
   "metadata": {
    "allow_embed": false,
    "source_hash": null,
    "execution_start": 1711997362933,
    "execution_millis": 9779,
    "deepnote_to_be_reexecuted": false,
    "deepnote_app_block_visible": true,
    "cell_id": "aa37f728e6d2431194dbe15205c0757f",
    "deepnote_cell_type": "code"
   },
   "source": [
    "# Define the top features to drop\n",
    "SEAA_drop_cols = SEAA_feature_ablation_df[SEAA_feature_ablation_df['Val_MAE'] <= SEAA_baseline_mae_val].sort_values('Val_MAE_Change', ascending=False)['Removed_Feature'].head(1).values[0].split(', ')\n",
    "\n",
    "# Create the feature columns list for saving out\n",
    "SEAA_feat_columns = X_train_trans.drop(columns=SEAA_drop_cols).columns.to_list()\n",
    "\n",
    "# Recreate the model with the dropped columns\n",
    "# It should have a lower MAE score than the original\n",
    "SEAA_experiment_model = model_score(\n",
    "    SEAA_best_hps, val=True, \n",
    "    Xtt=X_train_trans.drop(columns=SEAA_drop_cols), ytt=y_train_trans, \n",
    "    Xvt=X_val_trans.drop(columns=SEAA_drop_cols), yvt=y_val_trans, \n",
    "    Xht=X_holdout_trans.drop(columns=SEAA_drop_cols), yht=y_holdout_trans)\n",
    "\n",
    "# Plot the feature importance for this model\n",
    "plot_feat_importance(SEAA_experiment_model)"
   ],
   "block_group": "c5dbe7c2c21b480e860e9c78dd969be2",
   "execution_count": null,
   "outputs": [],
   "outputs_reference": "s3:deepnote-cell-outputs-production/d271b835-3fa5-4f97-a7e7-0d6afbf88684"
  },
  {
   "cell_type": "markdown",
   "metadata": {
    "formattedRanges": [],
    "deepnote_app_block_visible": true,
    "cell_id": "2b5b0502a42843989dbf11b58c7edb41",
    "deepnote_cell_type": "text-cell-h3"
   },
   "source": [
    "### Output the Model, Trials, Parameters and Feature List to disk"
   ],
   "block_group": "c25d9529059e488ab7a48c1fd8ffba4a"
  },
  {
   "cell_type": "code",
   "metadata": {
    "allow_embed": false,
    "source_hash": null,
    "execution_start": 1711997372714,
    "execution_millis": 1758,
    "deepnote_to_be_reexecuted": false,
    "deepnote_app_block_visible": true,
    "cell_id": "4c8ea9fd1b1744c088c1d3ac8394fedb",
    "deepnote_cell_type": "code"
   },
   "source": [
    "# Write out the model artifacts to disk\n",
    "write_out(model=SEAA_model, trials=SEAA_trials, params=SEAA_best_hps, feat_cols=SEAA_feat_columns, location_name='SEAA')"
   ],
   "block_group": "f219c4dc92074d4a933b1070a253ff81",
   "execution_count": null,
   "outputs": [],
   "outputs_reference": null
  },
  {
   "cell_type": "markdown",
   "metadata": {
    "is_collapsed": false,
    "formattedRanges": [],
    "deepnote_app_block_visible": true,
    "cell_id": "36184dbddb4147a29300d2ff1dbdef94",
    "deepnote_cell_type": "text-cell-h2"
   },
   "source": [
    "## Review Holdout Truth vs Predictions"
   ],
   "block_group": "447d79d82f0f4ab885a152003698d89e"
  },
  {
   "cell_type": "code",
   "metadata": {
    "allow_embed": false,
    "source_hash": null,
    "execution_start": 1711997374474,
    "execution_millis": 159,
    "deepnote_to_be_reexecuted": false,
    "deepnote_app_block_visible": true,
    "cell_id": "aecd00b34c0d4da0a8b9a7d5f33d0fa2",
    "deepnote_cell_type": "code"
   },
   "source": [
    "eval_df = y_val_trans.copy(deep=True)\n",
    "SEAA_val_pred = SEAA_model.predict(X_val_trans)\n",
    "eval_df['predictions'] = SEAA_val_pred.tolist()\n",
    "eval_df['diff'] = eval_df['y_val'] - eval_df['predictions']"
   ],
   "block_group": "546b1c3bc72a4eaf9fb55114186e5b6e",
   "execution_count": null,
   "outputs": [],
   "outputs_reference": null
  },
  {
   "cell_type": "code",
   "metadata": {
    "allow_embed": false,
    "source_hash": null,
    "execution_start": 1711997374516,
    "execution_millis": 730,
    "deepnote_to_be_reexecuted": false,
    "deepnote_app_block_visible": true,
    "cell_id": "3fb958ba1d2a4859a8be3532b732a1ce",
    "deepnote_cell_type": "code"
   },
   "source": [
    "eval_df.sort_values(by='diff', ascending=False).head(20)"
   ],
   "block_group": "6022961bb2734057b33f05de2285a0d1",
   "execution_count": null,
   "outputs": [],
   "outputs_reference": "s3:deepnote-cell-outputs-production/9d12b517-67a3-4dd9-b78b-ea1bcd7d0219"
  },
  {
   "cell_type": "code",
   "metadata": {
    "allow_embed": false,
    "source_hash": null,
    "execution_start": 1711997374528,
    "execution_millis": 718,
    "deepnote_to_be_reexecuted": false,
    "deepnote_app_block_visible": true,
    "cell_id": "2026dc486b6b4922beb30b0f778cdd91",
    "deepnote_cell_type": "code"
   },
   "source": [
    "fig = px.histogram(eval_df[eval_df['y_val'] > 5], x='diff', nbins=100, title='Distribution of the diff between prediction and holdout where true value > 5')\n",
    "\n",
    "# Show the plot\n",
    "fig.show()"
   ],
   "block_group": "9a11553a73b14acaa05e7d6b6c05eebe",
   "execution_count": null,
   "outputs": [],
   "outputs_reference": "s3:deepnote-cell-outputs-production/1e2ef5b0-118d-4ae3-8410-142923d8e8f7"
  },
  {
   "cell_type": "code",
   "metadata": {
    "allow_embed": false,
    "source_hash": null,
    "execution_start": 1711997374549,
    "execution_millis": 698,
    "deepnote_table_state": {
     "sortBy": [],
     "filters": [],
     "pageSize": 10,
     "pageIndex": 3
    },
    "deepnote_table_loading": false,
    "deepnote_to_be_reexecuted": false,
    "deepnote_app_block_visible": true,
    "cell_id": "2838fff167f042b3812fe30f4b39bded",
    "deepnote_cell_type": "code"
   },
   "source": [
    "#eval_df[(eval_df['diff'].between(-5,5))]\n",
    "#eval_df[(eval_df['diff'].between(-5,5)) & (eval_df['y_val'] > 5)]\n",
    "eval_df[~(eval_df['diff'].between(-5,5))]\n"
   ],
   "block_group": "90d8f7a3d5424ab68d7f8e74cb5c280d",
   "execution_count": null,
   "outputs": [],
   "outputs_reference": "s3:deepnote-cell-outputs-production/9eef37e1-9c5d-42e7-bb1f-bac577710ac7"
  },
  {
   "cell_type": "markdown",
   "metadata": {
    "formattedRanges": [],
    "deepnote_app_block_visible": true,
    "cell_id": "bb37d0a70f174a2db8407527b9fddaac",
    "deepnote_cell_type": "text-cell-h2"
   },
   "source": [
    "## SHAP Analysis"
   ],
   "block_group": "1a48ac9a830b47f5b1ea7782af14e4a9"
  },
  {
   "cell_type": "markdown",
   "metadata": {
    "formattedRanges": [],
    "deepnote_app_block_visible": true,
    "cell_id": "2276cfe0af224d6fa372b7fba520d156",
    "deepnote_cell_type": "text-cell-h3"
   },
   "source": [
    "### Create SHAP Objects"
   ],
   "block_group": "ae48355f01664c9a8d89107f0a22b66e"
  },
  {
   "cell_type": "code",
   "metadata": {
    "allow_embed": false,
    "source_hash": null,
    "execution_start": 1711997374656,
    "execution_millis": 1194,
    "deepnote_to_be_reexecuted": false,
    "deepnote_app_block_visible": true,
    "cell_id": "73392ec6e0324813a2e50193ab1eb495",
    "deepnote_cell_type": "code"
   },
   "source": [
    "# %%time\n",
    "# SEAA_X_val_trans = X_val_trans.copy(deep=True)\n",
    "# SEAA_y_val_trans = y_val_trans.copy(deep=True)\n",
    "# explainer = shap.TreeExplainer(SEAA_model)\n",
    "# shap_values = explainer(SEAA_X_val_trans)\n",
    "# shap_interaction = explainer.shap_interaction_values(SEAA_X_val_trans)\n",
    "# sv = explainer.shap_values(SEAA_X_val_trans)\n",
    "# shap.initjs()"
   ],
   "block_group": "64e8cb9efe5b451aa5e93c2d51259afb",
   "execution_count": null,
   "outputs": [],
   "outputs_reference": null
  },
  {
   "cell_type": "code",
   "metadata": {
    "allow_embed": false,
    "source_hash": null,
    "execution_start": 1711997374656,
    "execution_millis": 1194,
    "deepnote_to_be_reexecuted": false,
    "deepnote_app_block_visible": true,
    "cell_id": "6e2cc357df004b51b6734427da265cc6",
    "deepnote_cell_type": "code"
   },
   "source": [
    "# Beeswarm Importance\n",
    "# plt.figure(figsize=(8,6))\n",
    "# plt.title(f\"SHAP Beeswarm Analysis\")\n",
    "# shap.plots.beeswarm(shap_values, max_display=32)\n",
    "# plt.close()"
   ],
   "block_group": "3a88eb20d9c64823a76adef51c186864",
   "execution_count": null,
   "outputs": [],
   "outputs_reference": null
  },
  {
   "cell_type": "markdown",
   "metadata": {
    "formattedRanges": [],
    "deepnote_app_block_visible": true,
    "cell_id": "3eebe75b1a244315ab284d14fc053ec4",
    "deepnote_cell_type": "text-cell-h3"
   },
   "source": [
    "### Investigate Individual Predictions"
   ],
   "block_group": "da32583c077a4dd0bed7c9b6dafa0168"
  },
  {
   "cell_type": "code",
   "metadata": {
    "allow_embed": false,
    "source_hash": null,
    "execution_start": 1711997374657,
    "execution_millis": 1194,
    "deepnote_to_be_reexecuted": false,
    "deepnote_app_block_visible": true,
    "cell_id": "0c94343f529a4d40907d0e6593cc59ba",
    "deepnote_cell_type": "code"
   },
   "source": [
    "#investigate = SEAA_X_val_trans.index.get_loc(5809)\n",
    "# print(SEAA_y_val_trans.iloc[investigate])"
   ],
   "block_group": "3acda7e0d4fe484b878674325e976389",
   "execution_count": null,
   "outputs": [],
   "outputs_reference": null
  },
  {
   "cell_type": "code",
   "metadata": {
    "allow_embed": false,
    "source_hash": null,
    "execution_start": 1711997374657,
    "execution_millis": 1194,
    "deepnote_to_be_reexecuted": false,
    "deepnote_app_block_visible": true,
    "cell_id": "0415bf78d3114b75a4cf931a654b3268",
    "deepnote_cell_type": "code"
   },
   "source": [
    "# Waterfall on a prediction\n",
    "# plt.figure(figsize=(8,6))\n",
    "# shap.plots.waterfall(shap_values[investigate], max_display=20) # , show=False\n",
    "# plt.close()"
   ],
   "block_group": "92a1dd8a5c8b4ba59e7cf70195441812",
   "execution_count": null,
   "outputs": [],
   "outputs_reference": null
  },
  {
   "cell_type": "code",
   "metadata": {
    "allow_embed": false,
    "source_hash": null,
    "execution_start": 1711997374658,
    "execution_millis": 1193,
    "deepnote_to_be_reexecuted": false,
    "deepnote_app_block_visible": true,
    "cell_id": "5e3c3b0b394740a3a92df2c7334e6889",
    "deepnote_cell_type": "code"
   },
   "source": [
    "# Decision plot on a prediction\n",
    "# shap.decision_plot(explainer.expected_value, explainer.shap_values(SEAA_X_val_trans)[investigate], SEAA_X_val_trans, feature_display_range=slice(-1,-51,-1))"
   ],
   "block_group": "22e1bc5c7d8c4735a69e946fa6b51244",
   "execution_count": null,
   "outputs": [],
   "outputs_reference": null
  },
  {
   "cell_type": "markdown",
   "metadata": {
    "is_collapsed": false,
    "formattedRanges": [],
    "deepnote_app_block_visible": true,
    "cell_id": "af933e56bef34e0b94e40f1cefb094db",
    "deepnote_cell_type": "text-cell-h1"
   },
   "source": [
    "# Global Region"
   ],
   "block_group": "a584de73603b49d793ecacc93e374f80"
  },
  {
   "cell_type": "markdown",
   "metadata": {
    "formattedRanges": [],
    "deepnote_app_block_visible": true,
    "cell_id": "4cf103886ad34a54b44076b2c132319f",
    "deepnote_cell_type": "text-cell-h2"
   },
   "source": [
    "## Import the Data"
   ],
   "block_group": "86d0ec526fb34672a3d9f3a03e15f879"
  },
  {
   "cell_type": "code",
   "metadata": {
    "allow_embed": false,
    "source_hash": null,
    "execution_start": 1711997374658,
    "execution_millis": 2343,
    "deepnote_to_be_reexecuted": false,
    "deepnote_app_block_visible": true,
    "cell_id": "42da55857ac8495183dc5753a1078591",
    "deepnote_cell_type": "code"
   },
   "source": [
    "X_train_trans, X_val_trans, X_holdout_trans, y_train_trans, y_val_trans, y_holdout_trans = import_data(location_name='GLOB')"
   ],
   "block_group": "e1e21d891a3e4f338e25963369e65d8a",
   "execution_count": null,
   "outputs": [],
   "outputs_reference": null
  },
  {
   "cell_type": "markdown",
   "metadata": {
    "is_collapsed": false,
    "formattedRanges": [],
    "deepnote_app_block_visible": true,
    "cell_id": "f84275a3e696463ea441e1e4fda9168b",
    "deepnote_cell_type": "text-cell-h2"
   },
   "source": [
    "## Hyperparameter Tuning"
   ],
   "block_group": "3efdc3d0ddf24a72b73df049b596c786"
  },
  {
   "cell_type": "markdown",
   "metadata": {
    "formattedRanges": [],
    "deepnote_app_block_visible": true,
    "cell_id": "72db3b16aff14f0889054b11c3d47f5b",
    "deepnote_cell_type": "text-cell-h3"
   },
   "source": [
    "### Execute Hyperparameter search"
   ],
   "block_group": "dc944e390b4a4d04bbd2384f35c7340c"
  },
  {
   "cell_type": "code",
   "metadata": {
    "allow_embed": false,
    "source_hash": null,
    "execution_start": 1711997377003,
    "execution_millis": 16531722,
    "deepnote_to_be_reexecuted": false,
    "deepnote_app_block_visible": true,
    "cell_id": "2660db731bbe4bff85fd46401873596b",
    "deepnote_cell_type": "code"
   },
   "source": [
    "# Instantiate Neptune instance\n",
    "run = neptune.init_run(\n",
    "    name=\"LightGBM Reg Global\",\n",
    "    tags=[\"LightGBM\", \"regression\", \"hyperopt\", \"MAE\", \"Global\", \"GLOB\"],\n",
    "    description=\"LightGBM Hyperopt with MAE on Global\"\n",
    ")\n",
    "\n",
    "# Create the Trials object\n",
    "GLOB_trials = Trials()\n",
    "\n",
    "# Create the fmin object\n",
    "GLOB_best_hyperparams = fmin(fn = objective,\n",
    "                            space = space,\n",
    "                            algo = tpe.suggest,\n",
    "                            max_evals = 1000,\n",
    "                            trials = GLOB_trials,\n",
    "                            show_progressbar=True,\n",
    "                            early_stop_fn=no_progress_loss(100))\n",
    "\n",
    "# Stop Neptune instance\n",
    "run.stop()\n",
    "\n",
    "GLOB_best_trial = GLOB_trials.best_trial\n",
    "GLOB_best_hps = GLOB_best_hyperparams.copy()\n",
    "\n",
    "GLOB_best_hps['num_leaves'] = int(GLOB_best_hps['num_leaves'])\n",
    "GLOB_best_hps['n_estimators'] = int(GLOB_best_hps['n_estimators'])\n",
    "GLOB_best_hps['min_child_samples'] = int(GLOB_best_hps['min_child_samples'])\n",
    "GLOB_best_hps['subsample_freq'] = int(GLOB_best_hps['subsample_freq'])"
   ],
   "block_group": "1776510bdd99442f9874cf103d702222",
   "execution_count": null,
   "outputs": [],
   "outputs_reference": "dbtable:cell_outputs/fee13110-aac5-42e8-a46f-efa56bfdad72"
  },
  {
   "cell_type": "markdown",
   "metadata": {
    "formattedRanges": [],
    "deepnote_app_block_visible": true,
    "cell_id": "6491c01c7a4b4fc6a89943d201848ae5",
    "deepnote_cell_type": "text-cell-h3"
   },
   "source": [
    "### Review the Hyperparameter Search Validation MAE Scores and Hyperparameters"
   ],
   "block_group": "61bd6e2c8fc140d68614dfb1e60c48ef"
  },
  {
   "cell_type": "code",
   "metadata": {
    "allow_embed": false,
    "source_hash": null,
    "execution_start": 1712013908727,
    "execution_millis": 226,
    "deepnote_to_be_reexecuted": false,
    "deepnote_app_block_visible": true,
    "cell_id": "9f9d3a09663948de92e82f7ea5fd2db2",
    "deepnote_cell_type": "code"
   },
   "source": [
    "# What's the best trial from the search? Report the MAE & StdDev\n",
    "print(f\"Best Mean Absolute Error: {GLOB_trials.best_trial['result']['loss']:.4f}\")\n",
    "print(f\"Best Standard Error: {GLOB_trials.best_trial['result']['std']:.4f}\")"
   ],
   "block_group": "e056d40a802b4357b990a30e43cdba4f",
   "execution_count": null,
   "outputs": [],
   "outputs_reference": "dbtable:cell_outputs/69c7dba1-50bc-481f-b003-86632c301d09"
  },
  {
   "cell_type": "code",
   "metadata": {
    "allow_embed": false,
    "source_hash": null,
    "execution_start": 1712013908728,
    "execution_millis": 225,
    "deepnote_to_be_reexecuted": false,
    "deepnote_app_block_visible": true,
    "cell_id": "4b53b6faf5564d058e9aae6bad6f0e3a",
    "deepnote_cell_type": "code"
   },
   "source": [
    "# Display the best hyperparameters\n",
    "GLOB_best_hps"
   ],
   "block_group": "aa716addc1694e019c0d428c08dceb6d",
   "execution_count": null,
   "outputs": [],
   "outputs_reference": "dbtable:cell_outputs/a4b75a38-d5bd-49c8-b3d5-7ca21540fcf9"
  },
  {
   "cell_type": "markdown",
   "metadata": {
    "formattedRanges": [],
    "deepnote_app_block_visible": true,
    "cell_id": "0dc8518ec974470c89d0d61110cc9636",
    "deepnote_cell_type": "text-cell-h2"
   },
   "source": [
    "## Recreate the model and get new MAE and Feature Importance"
   ],
   "block_group": "912fbbad7199497894979b7dc1b61e97"
  },
  {
   "cell_type": "code",
   "metadata": {
    "allow_embed": false,
    "source_hash": null,
    "execution_start": 1712013908728,
    "execution_millis": 28364,
    "deepnote_to_be_reexecuted": false,
    "deepnote_app_block_visible": true,
    "cell_id": "ab8eec7f35d241b68617dc39cd6e9a41",
    "deepnote_cell_type": "code"
   },
   "source": [
    "# Recreate the model with the best hyperparameters\n",
    "GLOB_model = model_score(GLOB_best_hps, holdout=True, val=True)\n",
    "\n",
    "# Plot the feature importance\n",
    "plot_feat_importance(GLOB_model)"
   ],
   "block_group": "5120b378df9e4f43a834a2c3bb6e083e",
   "execution_count": null,
   "outputs": [],
   "outputs_reference": "s3:deepnote-cell-outputs-production/32a0065b-a186-4cec-8ff6-c50ec4b847c6"
  },
  {
   "cell_type": "markdown",
   "metadata": {
    "is_collapsed": false,
    "formattedRanges": [],
    "deepnote_app_block_visible": true,
    "cell_id": "f5b661e0e6e544c19e57f08cd1af9d60",
    "deepnote_cell_type": "text-cell-h2"
   },
   "source": [
    "## Feature Ablation"
   ],
   "block_group": "c1fad2cc29234ec8a11e4d9e1085ade3"
  },
  {
   "cell_type": "code",
   "metadata": {
    "allow_embed": false,
    "source_hash": null,
    "execution_start": 1712013937095,
    "execution_millis": 1262706,
    "deepnote_to_be_reexecuted": false,
    "deepnote_app_block_visible": true,
    "cell_id": "c54009cdfbbc469e9c4939b7ee9e47a2",
    "deepnote_cell_type": "code"
   },
   "source": [
    "%%time\n",
    "# First run through the feature ablation process\n",
    "# This will determine which features can potentially be removed\n",
    "GLOB_feature_ablation_df, GLOB_baseline_mae_val, GLOB_baseline_mae_train = feat_ablation(\n",
    "    model=GLOB_model, hps=GLOB_best_hps, \n",
    "    Xtt=X_train_trans, ytt=y_train_trans, \n",
    "    Xvt=X_val_trans, yvt=y_val_trans, \n",
    "    Xht=X_holdout_trans, yht=y_holdout_trans)"
   ],
   "block_group": "8b92f836a63c425eb9f8d4826498cf20",
   "execution_count": null,
   "outputs": [],
   "outputs_reference": "dbtable:cell_outputs/98018e3b-ebc1-4146-aa40-a659059b822e"
  },
  {
   "cell_type": "code",
   "metadata": {
    "allow_embed": false,
    "source_hash": null,
    "execution_start": 1712015199804,
    "execution_millis": 274,
    "deepnote_to_be_reexecuted": false,
    "deepnote_app_block_visible": true,
    "cell_id": "3e3494aa5e264826b976dd8e5425afba",
    "deepnote_cell_type": "code"
   },
   "source": [
    "# Show the feature ablation dataframe, sorted by the change in MAE to Validation data\n",
    "GLOB_feature_ablation_df.sort_values('Val_MAE_Change', ascending=False)"
   ],
   "block_group": "4392e5db898c4499bc7943bbad5cc728",
   "execution_count": null,
   "outputs": [],
   "outputs_reference": "s3:deepnote-cell-outputs-production/8bf9d136-9be2-419e-bb91-574a7fd27b09"
  },
  {
   "cell_type": "code",
   "metadata": {
    "allow_embed": false,
    "source_hash": null,
    "execution_start": 1712015199844,
    "execution_millis": 234,
    "deepnote_to_be_reexecuted": false,
    "deepnote_app_block_visible": true,
    "cell_id": "fff1090af869496bb137b4b676cbb1c9",
    "deepnote_cell_type": "code"
   },
   "source": [
    "# Generate the top 5 features to use in feature ablation combinations\n",
    "GLOB_abl_list_to_combo = GLOB_feature_ablation_df[GLOB_feature_ablation_df['Val_MAE'] <= GLOB_baseline_mae_val].sort_values('Val_MAE_Change', ascending=False)['Removed_Feature'].head(5).to_list()\n",
    "\n",
    "# Review the list\n",
    "GLOB_abl_list_to_combo"
   ],
   "block_group": "83d0ed212ee6466198b0179ba9269cf1",
   "execution_count": null,
   "outputs": [],
   "outputs_reference": "dbtable:cell_outputs/8f200cfe-c7d3-4405-94a4-ee977cee6676"
  },
  {
   "cell_type": "code",
   "metadata": {
    "allow_embed": false,
    "source_hash": null,
    "execution_start": 1712015199844,
    "execution_millis": 1183925,
    "deepnote_to_be_reexecuted": false,
    "deepnote_app_block_visible": true,
    "cell_id": "399fc9ebed244b25b2d65256252dcad0",
    "deepnote_cell_type": "code"
   },
   "source": [
    "%%time\n",
    "# Second run through the feature ablation process\n",
    "# This time including the top 5 features whose removal decreased the MAE\n",
    "# These top 5 features will be combined using itertools\n",
    "GLOB_feature_ablation_df, GLOB_baseline_mae_val, GLOB_baseline_mae_train = feat_ablation(\n",
    "    model=GLOB_model, hps=GLOB_best_hps, \n",
    "    Xtt=X_train_trans, ytt=y_train_trans, \n",
    "    Xvt=X_val_trans, yvt=y_val_trans, \n",
    "    Xht=X_holdout_trans, yht=y_holdout_trans, \n",
    "    abl_list_to_combo=GLOB_abl_list_to_combo)"
   ],
   "block_group": "f200bd7659614ef28c3116ecc05440df",
   "execution_count": null,
   "outputs": [],
   "outputs_reference": "dbtable:cell_outputs/fb047c39-ef20-43ab-b1f8-0451ca9ed98c"
  },
  {
   "cell_type": "code",
   "metadata": {
    "allow_embed": false,
    "source_hash": null,
    "execution_start": 1712016383772,
    "execution_millis": 185,
    "deepnote_to_be_reexecuted": false,
    "deepnote_app_block_visible": true,
    "cell_id": "f6aae4e6f1e74963bddd7c9fdf91afa9",
    "deepnote_cell_type": "code"
   },
   "source": [
    "# Show the feature ablation dataframe, sorted by the change in MAE to Validation data\n",
    "GLOB_feature_ablation_df[GLOB_feature_ablation_df['Val_MAE'] <= GLOB_baseline_mae_val].sort_values('Val_MAE_Change', ascending=False)"
   ],
   "block_group": "5cc95ff33bdd4888a0f7d9781d0e2d86",
   "execution_count": null,
   "outputs": [],
   "outputs_reference": "s3:deepnote-cell-outputs-production/b5917093-6a7e-4804-88e4-78c36a58902a"
  },
  {
   "cell_type": "code",
   "metadata": {
    "allow_embed": false,
    "source_hash": null,
    "execution_start": 1712016383811,
    "execution_millis": 147,
    "deepnote_to_be_reexecuted": false,
    "deepnote_app_block_visible": true,
    "cell_id": "7168e93d40d540ee90ddff9ca568a937",
    "deepnote_cell_type": "code"
   },
   "source": [
    "# Show the top 1 feature, which we'll remove.  Might be multiple features, so we split the string\n",
    "GLOB_feature_ablation_df[GLOB_feature_ablation_df['Val_MAE'] <= GLOB_baseline_mae_val].sort_values('Val_MAE_Change', ascending=False)['Removed_Feature'].head(1).values[0].split(', ')"
   ],
   "block_group": "bc1fc3195edd4a08b46c864a07fd3ae4",
   "execution_count": null,
   "outputs": [],
   "outputs_reference": "s3:deepnote-cell-outputs-production/be4d3e5d-11ea-4b2e-9f7e-e4ed12d2699d"
  },
  {
   "cell_type": "code",
   "metadata": {
    "allow_embed": false,
    "source_hash": null,
    "execution_start": 1712017284277,
    "execution_millis": 172,
    "deepnote_to_be_reexecuted": false,
    "deepnote_app_block_visible": true,
    "cell_id": "cad4806916174cfe9dfed38597ea9680",
    "deepnote_cell_type": "code"
   },
   "source": [
    "# Define the top features to drop\n",
    "GLOB_drop_cols = GLOB_feature_ablation_df[GLOB_feature_ablation_df['Val_MAE'] <= GLOB_baseline_mae_val].sort_values('Val_MAE_Change', ascending=False)['Removed_Feature'].head(1).values[0].split(', ')\n",
    "\n",
    "# Create the feature columns list for saving out\n",
    "GLOB_feat_columns = X_train_trans.drop(columns=GLOB_drop_cols).columns.to_list()\n",
    "\n",
    "# Recreate the model with the dropped columns\n",
    "# It should have a lower MAE score than the original\n",
    "GLOB_experiment_model = model_score(\n",
    "    GLOB_best_hps, val=True, \n",
    "    Xtt=X_train_trans.drop(columns=GLOB_drop_cols), ytt=y_train_trans, \n",
    "    Xvt=X_val_trans.drop(columns=GLOB_drop_cols), yvt=y_val_trans, \n",
    "    Xht=X_holdout_trans.drop(columns=GLOB_drop_cols), yht=y_holdout_trans)\n",
    "\n",
    "# Plot the feature importance for this model\n",
    "plot_feat_importance(GLOB_experiment_model)"
   ],
   "block_group": "9313c375d98f4879a358467e3ce6819e",
   "execution_count": null,
   "outputs": [],
   "outputs_reference": "s3:deepnote-cell-outputs-production/9d77ec4e-cc9d-4f3c-ba5e-a3274c36bb48"
  },
  {
   "cell_type": "markdown",
   "metadata": {
    "formattedRanges": [],
    "deepnote_app_block_visible": true,
    "cell_id": "c5a514569f3b4b03b4cbaff521c10ac8",
    "deepnote_cell_type": "text-cell-h3"
   },
   "source": [
    "### Output the Model, Trials, Parameters and Feature List to disk"
   ],
   "block_group": "b9eac4ea455b48b58740c9b83e92f6d0"
  },
  {
   "cell_type": "code",
   "metadata": {
    "allow_embed": false,
    "source_hash": null,
    "execution_start": 1712017432610,
    "execution_millis": 3198,
    "deepnote_to_be_reexecuted": false,
    "deepnote_app_block_visible": true,
    "cell_id": "8e76d784257147a0bf5bacb889701afa",
    "deepnote_cell_type": "code"
   },
   "source": [
    "# Write out the model artifacts to disk\n",
    "#write_out(model=GLOB_model, trials=GLOB_trials, params=GLOB_best_hps, feat_cols=GLOB_feat_columns, location_name='GLOB')\n",
    "write_out(model=GLOB_model, trials=GLOB_trials, params=GLOB_best_hps, feat_cols=X_train_trans.columns.to_list(), location_name='GLOB')"
   ],
   "block_group": "89b3dbc9af16406bbbcc033c58e90ea3",
   "execution_count": null,
   "outputs": [],
   "outputs_reference": null
  },
  {
   "cell_type": "markdown",
   "metadata": {
    "is_collapsed": false,
    "formattedRanges": [],
    "deepnote_app_block_visible": true,
    "cell_id": "47dfee28660d45e79863a3e7a8b79699",
    "deepnote_cell_type": "text-cell-h2"
   },
   "source": [
    "## Review Holdout Truth vs Predictions"
   ],
   "block_group": "704832f69a18426db2be350dc8185126"
  },
  {
   "cell_type": "code",
   "metadata": {
    "allow_embed": false,
    "source_hash": null,
    "execution_start": 1712017437779,
    "execution_millis": 387,
    "deepnote_to_be_reexecuted": false,
    "deepnote_app_block_visible": true,
    "cell_id": "5d03da8732c44824ae948fc2f57d503e",
    "deepnote_cell_type": "code"
   },
   "source": [
    "eval_df = y_val_trans.copy(deep=True)\n",
    "GLOB_val_pred = GLOB_model.predict(X_val_trans)\n",
    "eval_df['predictions'] = GLOB_val_pred.tolist()\n",
    "eval_df['diff'] = eval_df['y_val'] - eval_df['predictions']"
   ],
   "block_group": "23d196f97dd8434eb11ebb78ba065de5",
   "execution_count": null,
   "outputs": [],
   "outputs_reference": null
  },
  {
   "cell_type": "code",
   "metadata": {
    "allow_embed": false,
    "source_hash": null,
    "execution_start": 1712017438795,
    "execution_millis": 231,
    "deepnote_to_be_reexecuted": false,
    "deepnote_app_block_visible": true,
    "cell_id": "8ed8cd7373024d70a058b0d3e7bb14ff",
    "deepnote_cell_type": "code"
   },
   "source": [
    "eval_df.sort_values(by='diff', ascending=False).head(20)"
   ],
   "block_group": "292c87623efe4fdface5afb5e22498ba",
   "execution_count": null,
   "outputs": [],
   "outputs_reference": "s3:deepnote-cell-outputs-production/ff7b30c7-cd73-494d-85a2-4af13b3bb901"
  },
  {
   "cell_type": "code",
   "metadata": {
    "allow_embed": false,
    "source_hash": null,
    "execution_start": 1712017439502,
    "execution_millis": 232,
    "deepnote_to_be_reexecuted": false,
    "deepnote_app_block_visible": true,
    "cell_id": "2b80d7cffdab4509a3a9eb677a8bae2c",
    "deepnote_cell_type": "code"
   },
   "source": [
    "fig = px.histogram(eval_df[eval_df['y_val'] > 5], x='diff', nbins=100, title='Distribution of the diff between prediction and holdout where true value > 5')\n",
    "\n",
    "# Show the plot\n",
    "fig.show()"
   ],
   "block_group": "c5b4d3b362b64db3a5943f75eed89d58",
   "execution_count": null,
   "outputs": [],
   "outputs_reference": "s3:deepnote-cell-outputs-production/a8488ff2-2ac2-4212-aa65-cd7fe973ff1c"
  },
  {
   "cell_type": "code",
   "metadata": {
    "allow_embed": false,
    "source_hash": null,
    "execution_start": 1712017440310,
    "execution_millis": 346,
    "deepnote_table_state": {
     "sortBy": [],
     "filters": [],
     "pageSize": 10,
     "pageIndex": 1
    },
    "deepnote_table_loading": false,
    "deepnote_to_be_reexecuted": false,
    "deepnote_app_block_visible": true,
    "cell_id": "f6ec3f78d10349539a8f48c36bfaf17b",
    "deepnote_cell_type": "code"
   },
   "source": [
    "#eval_df[(eval_df['diff'].between(-5,5))]\n",
    "#eval_df[(eval_df['diff'].between(-5,5)) & (eval_df['y_val'] > 5)]\n",
    "eval_df[~(eval_df['diff'].between(-5,5))]\n"
   ],
   "block_group": "d71da7be0b1d46dfb11cdbd40a6653a2",
   "execution_count": null,
   "outputs": [],
   "outputs_reference": "s3:deepnote-cell-outputs-production/dec585ee-abc5-4201-9e05-4c8a9d548f3a"
  },
  {
   "cell_type": "markdown",
   "metadata": {
    "formattedRanges": [],
    "deepnote_app_block_visible": true,
    "cell_id": "7e6039fc17cf4f0fabb674fa951423b3",
    "deepnote_cell_type": "text-cell-h2"
   },
   "source": [
    "## SHAP Analysis"
   ],
   "block_group": "8a1c191d1c0241aa8b6bc891e2f182c7"
  },
  {
   "cell_type": "markdown",
   "metadata": {
    "formattedRanges": [],
    "deepnote_app_block_visible": true,
    "cell_id": "8a8deef73e5d478f94214e9ecc0613fc",
    "deepnote_cell_type": "text-cell-h3"
   },
   "source": [
    "### Create SHAP Objects"
   ],
   "block_group": "05972dcfef08491d885afeb4efe53e2f"
  },
  {
   "cell_type": "code",
   "metadata": {
    "allow_embed": false,
    "source_hash": null,
    "execution_start": 1712017452409,
    "execution_millis": 518,
    "deepnote_to_be_reexecuted": false,
    "deepnote_app_block_visible": true,
    "cell_id": "71608fb2413c4b5683e91780b6d3928d",
    "deepnote_cell_type": "code"
   },
   "source": [
    "# %%time\n",
    "# GLOB_X_val_trans = X_val_trans.copy(deep=True)\n",
    "# GLOB_y_val_trans = y_val_trans.copy(deep=True)\n",
    "# explainer = shap.TreeExplainer(GLOB_model)\n",
    "# shap_values = explainer(GLOB_X_val_trans)\n",
    "# shap_interaction = explainer.shap_interaction_values(GLOB_X_val_trans)\n",
    "# sv = explainer.shap_values(GLOB_X_val_trans)\n",
    "# shap.initjs()"
   ],
   "block_group": "9285dde16cf841b18e19256342c657da",
   "execution_count": null,
   "outputs": [],
   "outputs_reference": null
  },
  {
   "cell_type": "code",
   "metadata": {
    "allow_embed": false,
    "source_hash": null,
    "execution_start": 1712017453138,
    "execution_millis": 77,
    "deepnote_to_be_reexecuted": false,
    "deepnote_app_block_visible": true,
    "cell_id": "09862a34eae24f2fbdfbc425fc1f81c2",
    "deepnote_cell_type": "code"
   },
   "source": [
    "# Beeswarm Importance\n",
    "# plt.figure(figsize=(8,6))\n",
    "# plt.title(f\"SHAP Beeswarm Analysis\")\n",
    "# shap.plots.beeswarm(shap_values, max_display=32)\n",
    "# plt.close()"
   ],
   "block_group": "a19de9f41044416fbcd6ccc21fc1236d",
   "execution_count": null,
   "outputs": [],
   "outputs_reference": null
  },
  {
   "cell_type": "markdown",
   "metadata": {
    "formattedRanges": [],
    "deepnote_app_block_visible": true,
    "cell_id": "3a94ab43a96e48ed9f957cee8280eca1",
    "deepnote_cell_type": "text-cell-h3"
   },
   "source": [
    "### Investigate Individual Predictions"
   ],
   "block_group": "903c99806bc6476c9bc100199682144a"
  },
  {
   "cell_type": "code",
   "metadata": {
    "allow_embed": false,
    "source_hash": null,
    "execution_start": 1712017454597,
    "execution_millis": 28,
    "deepnote_to_be_reexecuted": false,
    "deepnote_app_block_visible": true,
    "cell_id": "77a5c2d1b97d473abe00f88604bdd4a5",
    "deepnote_cell_type": "code"
   },
   "source": [
    "#investigate = GLOB_X_val_trans.index.get_loc(5809)\n",
    "# print(GLOB_y_val_trans.iloc[investigate])"
   ],
   "block_group": "1a8264ccffb6433e9a2fb2c64afe1065",
   "execution_count": null,
   "outputs": [],
   "outputs_reference": null
  },
  {
   "cell_type": "code",
   "metadata": {
    "allow_embed": false,
    "source_hash": null,
    "execution_start": 1712017456375,
    "execution_millis": 374,
    "deepnote_to_be_reexecuted": false,
    "deepnote_app_block_visible": true,
    "cell_id": "6e49e5dcd7654008b948f6496e568edd",
    "deepnote_cell_type": "code"
   },
   "source": [
    "# Waterfall on a prediction\n",
    "# plt.figure(figsize=(8,6))\n",
    "# shap.plots.waterfall(shap_values[investigate], max_display=20) # , show=False\n",
    "# plt.close()"
   ],
   "block_group": "0d5041f6dd0b44eb9ef8db6b48a14a86",
   "execution_count": null,
   "outputs": [],
   "outputs_reference": null
  },
  {
   "cell_type": "code",
   "metadata": {
    "allow_embed": false,
    "source_hash": null,
    "execution_start": 1712017457591,
    "execution_millis": 370,
    "deepnote_to_be_reexecuted": false,
    "deepnote_app_block_visible": true,
    "cell_id": "370fd4cf652e43efb0c439cc75be531f",
    "deepnote_cell_type": "code"
   },
   "source": [
    "# Decision plot on a prediction\n",
    "# shap.decision_plot(explainer.expected_value, explainer.shap_values(GLOB_X_val_trans)[investigate], GLOB_X_val_trans, feature_display_range=slice(-1,-51,-1))"
   ],
   "block_group": "04e394adeb624ea59d44136900e2b8df",
   "execution_count": null,
   "outputs": [],
   "outputs_reference": null
  }
 ],
 "nbformat": 4,
 "nbformat_minor": 0,
 "metadata": {
  "deepnote_app_layout": "powerful-article",
  "deepnote_app_reactivity_enabled": true,
  "deepnote_notebook_id": "43bb9e87602f43feaea2aaa5e7f16263",
  "deepnote_execution_queue": []
 }
}
