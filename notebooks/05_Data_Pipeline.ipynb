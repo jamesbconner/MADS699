{
 "cells": [
  {
   "cell_type": "markdown",
   "metadata": {
    "formattedRanges": [],
    "cell_id": "23d45ac132b648c5b9d9945088d01096",
    "deepnote_cell_type": "text-cell-h1"
   },
   "source": [
    "# Regression - LightGBM- Coral Triangle"
   ],
   "block_group": "32f6fa1f7f994b23b0b2b2dc8b0bf23f"
  },
  {
   "cell_type": "markdown",
   "metadata": {
    "formattedRanges": [],
    "cell_id": "aa5dd0d8a19d449b94c34a0ef6724c44",
    "deepnote_cell_type": "text-cell-h2"
   },
   "source": [
    "## Notebook Setup"
   ],
   "block_group": "29ed4039cfd54b349b8f3d87d7145ed2"
  },
  {
   "cell_type": "markdown",
   "metadata": {
    "formattedRanges": [],
    "cell_id": "830451d1b74f4de196f69d1867ca559b",
    "deepnote_cell_type": "text-cell-h3"
   },
   "source": [
    "### Import Libraries"
   ],
   "block_group": "30174eb3e1644d56a9722f4cadbae9ea"
  },
  {
   "cell_type": "code",
   "metadata": {
    "source_hash": null,
    "execution_start": 1711494602386,
    "execution_millis": 1283,
    "deepnote_to_be_reexecuted": false,
    "cell_id": "0aa285888c644be29d6f9bddc34c2d07",
    "deepnote_cell_type": "code"
   },
   "source": [
    "# Import Standard Libraries\n",
    "import os\n",
    "import datetime\n",
    "import pickle\n",
    "import pandas as pd\n",
    "import numpy as np\n",
    "\n",
    "# Import Visualization Libraries\n",
    "import seaborn as sns\n",
    "import matplotlib.pyplot as plt\n",
    "import plotly.express as px\n",
    "import plotly.graph_objects as go\n",
    "import shap"
   ],
   "block_group": "05c857c6f7da4c33843aa801a1f1d5eb",
   "execution_count": null,
   "outputs": [],
   "outputs_reference": "dbtable:cell_outputs/11737d5d-2587-405a-bf38-2d2da50f99b3"
  },
  {
   "cell_type": "code",
   "metadata": {
    "source_hash": null,
    "execution_start": 1711494605108,
    "execution_millis": 49,
    "deepnote_to_be_reexecuted": false,
    "cell_id": "cf6e03ddae9247e89091411a5300a8ed",
    "deepnote_cell_type": "code"
   },
   "source": [
    "# SKLearn Pipeline Imports\n",
    "from sklearn import set_config\n",
    "from sklearn.pipeline import Pipeline\n",
    "from sklearn.compose import ColumnTransformer, TransformedTargetRegressor\n",
    "from sklearn.base import BaseEstimator, TransformerMixin\n",
    "#from sklearn.preprocessing import LabelEncoder, StandardScaler, MinMaxScaler, PolynomialFeatures\n",
    "#from sklearn.preprocessing import FunctionTransformer, PowerTransformer, RobustScaler, QuantileTransformer"
   ],
   "block_group": "448dd9704a5d48829c1398484b13294f",
   "execution_count": null,
   "outputs": [],
   "outputs_reference": null
  },
  {
   "cell_type": "code",
   "metadata": {
    "source_hash": null,
    "execution_start": 1711494605919,
    "execution_millis": 34,
    "deepnote_to_be_reexecuted": false,
    "cell_id": "3bf9ed34e1ea44eda955d0f6ce0ca4a7",
    "deepnote_cell_type": "code"
   },
   "source": [
    "# Multicolinearity Imports\n",
    "from statsmodels.stats.outliers_influence import variance_inflation_factor\n",
    "from statsmodels.tools.tools import add_constant"
   ],
   "block_group": "f6d8df849b194c429c13d38fbacd6209",
   "execution_count": null,
   "outputs": [],
   "outputs_reference": null
  },
  {
   "cell_type": "code",
   "metadata": {
    "source_hash": null,
    "execution_start": 1711494606678,
    "execution_millis": 78,
    "deepnote_to_be_reexecuted": false,
    "cell_id": "3892b176dd84451a8d3b8e7ebc2cadcc",
    "deepnote_cell_type": "code"
   },
   "source": [
    "# Pandas Configs\n",
    "pd.set_option('mode.chained_assignment', None)\n",
    "pd.options.display.float_format = '{:.2f}'.format\n",
    "pd.options.display.max_columns = None\n",
    "pd.options.display.max_rows = None\n",
    "\n",
    "# Ignore Warnings\n",
    "import warnings\n",
    "warnings.simplefilter('ignore', category=FutureWarning)\n",
    "warnings.simplefilter('ignore', category=UserWarning)\n",
    "warnings.simplefilter(action=\"ignore\", category=pd.errors.PerformanceWarning)\n",
    "\n",
    "# MapBox Token for Plotly Maps\n",
    "px.set_mapbox_access_token(os.environ.get(\"MAPBOX_TOKEN\"))\n",
    "\n",
    "# Scikit Learn Configs\n",
    "set_config(transform_output=\"pandas\")\n",
    "set_config(display=\"diagram\")"
   ],
   "block_group": "3843638c580f457a96c6f8b9104151a1",
   "execution_count": null,
   "outputs": [],
   "outputs_reference": null
  },
  {
   "cell_type": "markdown",
   "metadata": {
    "is_collapsed": false,
    "formattedRanges": [],
    "deepnote_app_block_visible": false,
    "cell_id": "a2c798ccebea4fef8ff1efce67417fac",
    "deepnote_cell_type": "text-cell-h3"
   },
   "source": [
    "### Import Data"
   ],
   "block_group": "54c1f8bc3dae449d8cd8f57783816481"
  },
  {
   "cell_type": "code",
   "metadata": {
    "source_hash": null,
    "execution_start": 1711494608336,
    "execution_millis": 3681,
    "deepnote_to_be_reexecuted": false,
    "cell_id": "db5372db278a47ccac9677f31cc11641",
    "deepnote_cell_type": "code"
   },
   "source": [
    "# GLOB Data\n",
    "X_train_GLOB = pd.read_parquet(\"/work/data/Xy_Data/X_train_GLOB.parquet\")\n",
    "X_val_GLOB = pd.read_parquet(\"/work/data/Xy_Data/X_val_GLOB.parquet\")\n",
    "X_holdout_GLOB = pd.read_parquet(\"/work/data/Xy_Data/X_holdout_GLOB.parquet\")\n",
    "\n",
    "y_train_GLOB = pd.read_parquet(\"/work/data/Xy_Data/y_train_GLOB.parquet\")\n",
    "y_val_GLOB = pd.read_parquet(\"/work/data/Xy_Data/y_val_GLOB.parquet\")\n",
    "y_holdout_GLOB = pd.read_parquet(\"/work/data/Xy_Data/y_holdout_GLOB.parquet\")\n",
    "\n",
    "# CARB Data\n",
    "X_train_CARB = pd.read_parquet(\"/work/data/Xy_Data/X_train_CARB.parquet\")\n",
    "X_val_CARB = pd.read_parquet(\"/work/data/Xy_Data/X_val_CARB.parquet\")\n",
    "X_holdout_CARB = pd.read_parquet(\"/work/data/Xy_Data/X_holdout_CARB.parquet\")\n",
    "\n",
    "y_train_CARB = pd.read_parquet(\"/work/data/Xy_Data/y_train_CARB.parquet\")\n",
    "y_val_CARB = pd.read_parquet(\"/work/data/Xy_Data/y_val_CARB.parquet\")\n",
    "y_holdout_CARB = pd.read_parquet(\"/work/data/Xy_Data/y_holdout_CARB.parquet\")\n",
    "\n",
    "# SEAA Data\n",
    "X_train_SEAA = pd.read_parquet(\"/work/data/Xy_Data/X_train_SEAA.parquet\")\n",
    "X_val_SEAA = pd.read_parquet(\"/work/data/Xy_Data/X_val_SEAA.parquet\")\n",
    "X_holdout_SEAA = pd.read_parquet(\"/work/data/Xy_Data/X_holdout_SEAA.parquet\")\n",
    "\n",
    "y_train_SEAA = pd.read_parquet(\"/work/data/Xy_Data/y_train_SEAA.parquet\")\n",
    "y_val_SEAA = pd.read_parquet(\"/work/data/Xy_Data/y_val_SEAA.parquet\")\n",
    "y_holdout_SEAA = pd.read_parquet(\"/work/data/Xy_Data/y_holdout_SEAA.parquet\")\n",
    "\n",
    "GLOB_X = [X_train_GLOB, X_val_GLOB, X_holdout_GLOB]\n",
    "GLOB_Y = [y_train_GLOB, y_val_GLOB, y_holdout_GLOB]\n",
    "\n",
    "SEAA_X = [X_train_SEAA, X_val_SEAA, X_holdout_SEAA]\n",
    "SEAA_Y = [y_train_SEAA, y_val_SEAA, y_holdout_SEAA]\n",
    "\n",
    "CARB_X = [X_train_CARB, X_val_CARB, X_holdout_CARB]\n",
    "CARB_Y = [y_train_CARB, y_val_CARB, y_holdout_CARB]"
   ],
   "block_group": "491aa4ccb7fd4646adcebf55131e157e",
   "execution_count": null,
   "outputs": [],
   "outputs_reference": null
  },
  {
   "cell_type": "markdown",
   "metadata": {
    "formattedRanges": [],
    "cell_id": "df16c021fff244eb9650b1643305ff6a",
    "deepnote_cell_type": "text-cell-h2"
   },
   "source": [
    "## Create the model pipeline"
   ],
   "block_group": "5dbc70e00f4249b8ae6f52a5bb330109"
  },
  {
   "cell_type": "markdown",
   "metadata": {
    "formattedRanges": [],
    "cell_id": "54b12bfcbb124256a3e7a7c146d3532e",
    "deepnote_cell_type": "text-cell-h3"
   },
   "source": [
    "### Define the custom data transformer"
   ],
   "block_group": "095ec0fc229c4dddb7cd9fef6c53db44"
  },
  {
   "cell_type": "code",
   "metadata": {
    "source_hash": null,
    "execution_start": 1711494614060,
    "execution_millis": 33,
    "deepnote_to_be_reexecuted": false,
    "cell_id": "bb6dbc095a4147dd88a6c74e46f1ab5b",
    "deepnote_cell_type": "code"
   },
   "source": [
    "class DataTransformer(BaseEstimator, TransformerMixin):\n",
    "    def fit(self, X, y = None):\n",
    "        return self\n",
    "    \n",
    "    def transform(self, X, y = None):\n",
    "\n",
    "        ##########\n",
    "        # Define the deep copy so it leaves the original in place\n",
    "        Xc = X.copy(deep=True)\n",
    "\n",
    "\n",
    "        ##########\n",
    "        # Define complex features based on Feature Importance and Interactions\n",
    "        epsilon = 0.0000001 # Avoid division by zero\n",
    "        Xc['Fishing_Inter'] = Xc['EN.FSH.THRD.NO'] * Xc['ER.FSH.CAPT.MT'] # Multiplicative effect of fishing and threatened species\n",
    "        Xc['Fertilizer_Inter'] = Xc['AG.LND.AGRI.K2'] / (Xc['AG.CON.FERT.ZS'] + epsilon) # Proportional effect of agricultural land and fertilizer\n",
    "        Xc['Fert_and_Turbidity_Interaction'] = Xc['Fertilizer_Inter'] * Xc['Turbidity']\n",
    "        Xc['Dist_to_Shore_and_Turbidity_Interaction'] = Xc['Distance_to_Shore'] * Xc['Turbidity']\n",
    "\n",
    "        # ##########\n",
    "        # Define Thermal Interaction Features \n",
    "        # Polynomial:\n",
    "        Xc['TSA_squared'] = Xc['TSA'] ** 2\n",
    "        Xc['SSTA_squared'] = Xc['SSTA'] ** 2\n",
    "        Xc['SSTA_cubed'] = Xc['SSTA'] ** 3\n",
    "        Xc['TSA_cubed'] = Xc['TSA'] ** 3        \n",
    "        Xc['TSA_cubed_SSTA'] = Xc['TSA_cubed'] * Xc['SSTA']\n",
    "        Xc['TSA_cubed_SSTA_squared'] = Xc['TSA_cubed'] * Xc['SSTA_squared']\n",
    "\n",
    "\n",
    "        # ########## \n",
    "        # Define columns to be kept\n",
    "        keep_cols = [\n",
    "            'Depth_m',\n",
    "            'Distance_to_Shore',\n",
    "            'Longitude_Degrees',\n",
    "            'Turbidity',\n",
    "            'Latitude_Degrees',\n",
    "            'ClimSST',\n",
    "            'Cyclone_Frequency',\n",
    "            'SSTA_Frequency',\n",
    "            'TSA_Frequency',\n",
    "            'Fertilizer_Inter',\n",
    "            'Fishing_Inter',\n",
    "            'Dist_to_Shore_and_Turbidity_Interaction',\n",
    "            'Fert_and_Turbidity_Interaction',\n",
    "            'TSA_cubed_SSTA',\n",
    "            'TSA_cubed_SSTA_squared',\n",
    "            'SSTA','TSA','SSTA_DHW','TSA_DHW'\n",
    "            ]             \n",
    "\n",
    "\n",
    "        ##########\n",
    "        # Select columns\n",
    "        Xc = Xc[keep_cols]\n",
    "\n",
    "\n",
    "        ##########\n",
    "        # Prep for output\n",
    "        # Sort the column names so the modeling process doesn't complain\n",
    "        Xc = Xc.sort_index(axis=1)\n",
    "\n",
    "        \n",
    "        # Return the transformed dataframe\n",
    "        return Xc"
   ],
   "block_group": "8a5e0dae53924bf9bf994cef2e00b536",
   "execution_count": null,
   "outputs": [],
   "outputs_reference": null
  },
  {
   "cell_type": "markdown",
   "metadata": {
    "formattedRanges": [],
    "cell_id": "247adc21eeff463d9b1b9f4509a18c4d",
    "deepnote_cell_type": "text-cell-h3"
   },
   "source": [
    "### Apply the data transformer"
   ],
   "block_group": "0494dd27b7a34839b21e41d0d786d655"
  },
  {
   "cell_type": "code",
   "metadata": {
    "source_hash": null,
    "execution_start": 1711494616188,
    "execution_millis": 121,
    "deepnote_to_be_reexecuted": false,
    "cell_id": "d16842e89ef8418d87873e59890c9917",
    "deepnote_cell_type": "code"
   },
   "source": [
    "pre_pipe = Pipeline([\n",
    "            ('DataTransformer', DataTransformer()),\n",
    "            # ('Scaler', StandardScaler()),\n",
    "        ])\n",
    "\n",
    "pre_pipe"
   ],
   "block_group": "f1e8bc5db74545e9b3731042f17f7772",
   "execution_count": null,
   "outputs": [],
   "outputs_reference": "s3:deepnote-cell-outputs-production/8b94e94f-7569-4893-9471-3d6421f08eb0"
  },
  {
   "cell_type": "code",
   "metadata": {
    "source_hash": null,
    "execution_start": 1711494617978,
    "execution_millis": 110,
    "deepnote_to_be_reexecuted": false,
    "cell_id": "b46568d040dc4621997e528bba158ebb",
    "deepnote_cell_type": "code"
   },
   "source": [
    "def process_data(loc, X_list, y_list, scaled=False, path='/work/data/Xy_Data/'):\n",
    "    \n",
    "    # Choose which pipeline object to use\n",
    "    if scaled:\n",
    "        pre_pipe = Pipeline([\n",
    "            ('DataTransformer', DataTransformer()),\n",
    "            ('Scaler', StandardScaler()),\n",
    "        ])\n",
    "    else:\n",
    "        pre_pipe = Pipeline([\n",
    "            ('DataTransformer', DataTransformer()),\n",
    "            # ('Scaler', StandardScaler()),\n",
    "        ])\n",
    "    \n",
    "    X_train_trans = pre_pipe.fit_transform(X_list[0], y_list[0])\n",
    "    X_val_trans = pre_pipe.transform(X_list[1])\n",
    "    X_holdout_trans = pre_pipe.transform(X_list[2])\n",
    "\n",
    "    X_train_trans.to_parquet(f\"{path}X_train_trans_{loc}.parquet\")\n",
    "    X_val_trans.to_parquet(f\"{path}X_val_trans_{loc}.parquet\")\n",
    "    X_holdout_trans.to_parquet(f\"{path}X_holdout_trans_{loc}.parquet\")\n",
    "\n",
    "    return f\"{loc} processed and written to {path}\"\n",
    "\n",
    "# X_holdout_trans = pre_pipe.fit_transform(X_holdout, y_holdout)\n",
    "# X_train_trans = pre_pipe.fit_transform(X_train, y_train)\n",
    "# y_train_trans = y_train.loc[X_train_trans.index]\n",
    "# y_holdout_trans = y_holdout.loc[X_holdout_trans.index]'"
   ],
   "block_group": "f2ef9ebe3d91490ba9db0ccffd6508bc",
   "execution_count": null,
   "outputs": [],
   "outputs_reference": null
  },
  {
   "cell_type": "code",
   "metadata": {
    "source_hash": null,
    "execution_start": 1711494619362,
    "execution_millis": 5068,
    "deepnote_to_be_reexecuted": false,
    "cell_id": "9c44a142d6a84e349a18196f816dfd8d",
    "deepnote_cell_type": "code"
   },
   "source": [
    "process_data('GLOB', GLOB_X, GLOB_Y)\n",
    "process_data('SEAA', SEAA_X, SEAA_Y)\n",
    "process_data('CARB', CARB_X, CARB_Y)"
   ],
   "block_group": "e0a0ef55f8da4fd68822a0107ef7def4",
   "execution_count": null,
   "outputs": [],
   "outputs_reference": "dbtable:cell_outputs/e95ecf3a-8037-4366-95f4-214f66dd3ce0"
  },
  {
   "cell_type": "markdown",
   "metadata": {
    "formattedRanges": [],
    "cell_id": "016886dcc7d34c379930aa6387e6d1ae",
    "deepnote_cell_type": "text-cell-h3"
   },
   "source": [
    "### Create a Pearson Correlation Matrix to review collinearity of the data"
   ],
   "block_group": "9c61ce0d931d4b08bfcb0c00e5bae532"
  },
  {
   "cell_type": "code",
   "metadata": {
    "source_hash": null,
    "execution_start": 1711494630492,
    "execution_millis": 341,
    "deepnote_to_be_reexecuted": false,
    "cell_id": "ab89a2f8e84445f19ef062c56a6d7b4a",
    "deepnote_cell_type": "code"
   },
   "source": [
    "# rehydrate the x and y dataframes for the correlation matrix\n",
    "df = pd.concat([X_train_trans, y_train_trans], axis=1)\n",
    "\n",
    "# Create the correlation matrix\n",
    "corr_matrix = df.corr(method='pearson')\n",
    "corr_mask = np.triu(np.ones_like(corr_matrix, dtype=bool))\n",
    "\n",
    "# Plot the matrix\n",
    "plt.figure(figsize=(25, 25))  # Adjust the figure size as needed\n",
    "sns.heatmap(corr_matrix, mask=corr_mask, annot=True, fmt=\".2f\", cmap='coolwarm', cbar=True, square=True, cbar_kws={\"shrink\": 0.8})\n",
    "\n",
    "plt.yticks(rotation=0)\n",
    "plt.xticks(rotation=45, ha='right')\n",
    "plt.title('Pearson Correlation Matrix')\n",
    "\n",
    "plt.show()"
   ],
   "block_group": "a1783e207d18447e8180dfb39bb73d48",
   "execution_count": null,
   "outputs": [],
   "outputs_reference": "s3:deepnote-cell-outputs-production/db5a5642-d191-4efd-a6b2-f272073f86d4"
  },
  {
   "cell_type": "markdown",
   "metadata": {
    "formattedRanges": [],
    "cell_id": "2089ccff7318420aa7cf1724ed2e16c4",
    "deepnote_cell_type": "text-cell-h3"
   },
   "source": [
    "### Perform multicollinearity check using Variance Inflation Factor"
   ],
   "block_group": "bdcb03d161654d95a59a9acf9149b57b"
  },
  {
   "cell_type": "code",
   "metadata": {
    "source_hash": null,
    "execution_start": 1711494653670,
    "execution_millis": 112,
    "deepnote_to_be_reexecuted": false,
    "cell_id": "3b52fc1cb9c444309f5a59f515434dcc",
    "deepnote_cell_type": "code"
   },
   "source": [
    "# VIF needs an intercept term in the model, so add a constant to X_train_trans\n",
    "X_with_const = add_constant(X_train_trans)\n",
    "\n",
    "# Calculate VIF for each predictor\n",
    "vif_data = pd.DataFrame()\n",
    "vif_data[\"feature\"] = X_with_const.columns\n",
    "vif_data[\"VIF\"] = [variance_inflation_factor(X_with_const.values, i) for i in range(len(X_with_const.columns))]\n",
    "\n",
    "# Print VIF for each feature in descending order, skipping the constant\n",
    "print(vif_data[1:].sort_values(by='VIF', ascending=False))"
   ],
   "block_group": "6d1bacac909e462a9d37d0aa103e9623",
   "execution_count": null,
   "outputs": [],
   "outputs_reference": "dbtable:cell_outputs/69a51871-080a-4b1e-aa11-54816bac25a7"
  }
 ],
 "nbformat": 4,
 "nbformat_minor": 0,
 "metadata": {
  "deepnote_persisted_session": {
   "createdAt": "2024-03-27T00:00:34.351Z"
  },
  "deepnote_notebook_id": "9fc3b5ad1b434e3aa34b2422856a1a63",
  "deepnote_execution_queue": []
 }
}
