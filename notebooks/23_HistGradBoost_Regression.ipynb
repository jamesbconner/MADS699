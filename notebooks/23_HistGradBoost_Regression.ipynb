{
 "cells": [
  {
   "cell_type": "markdown",
   "metadata": {
    "formattedRanges": [],
    "cell_id": "56fc7b77d12f4dce974e3c5c5468e77e",
    "deepnote_cell_type": "text-cell-h1"
   },
   "source": [
    "# Regression - HistGradientBoosting"
   ],
   "block_group": "32f6fa1f7f994b23b0b2b2dc8b0bf23f"
  },
  {
   "cell_type": "markdown",
   "metadata": {
    "formattedRanges": [],
    "cell_id": "80c3c130939a4577ad56f893d9150cee",
    "deepnote_cell_type": "text-cell-h2"
   },
   "source": [
    "## Notebook Setup"
   ],
   "block_group": "29ed4039cfd54b349b8f3d87d7145ed2"
  },
  {
   "cell_type": "markdown",
   "metadata": {
    "formattedRanges": [],
    "cell_id": "f414c833ed38432b8612920dc5c5eb49",
    "deepnote_cell_type": "text-cell-h3"
   },
   "source": [
    "### Import Libraries"
   ],
   "block_group": "30174eb3e1644d56a9722f4cadbae9ea"
  },
  {
   "cell_type": "code",
   "metadata": {
    "source_hash": null,
    "execution_start": 1711929906420,
    "execution_millis": 1170,
    "deepnote_to_be_reexecuted": false,
    "cell_id": "dc34f94036ab45d6897a2a025e4ec2e3",
    "deepnote_cell_type": "code"
   },
   "source": [
    "# Import Standard Libraries\n",
    "import os\n",
    "import datetime\n",
    "import pickle\n",
    "import itertools\n",
    "import pandas as pd\n",
    "import numpy as np\n",
    "\n",
    "# Import Visualization Libraries\n",
    "import seaborn as sns\n",
    "import matplotlib.pyplot as plt\n",
    "import plotly.express as px\n",
    "import plotly.graph_objects as go\n",
    "import shap"
   ],
   "block_group": "05c857c6f7da4c33843aa801a1f1d5eb",
   "execution_count": null,
   "outputs": [],
   "outputs_reference": "dbtable:cell_outputs/c5331755-fcef-4115-8674-3e5b3246f7b3"
  },
  {
   "cell_type": "code",
   "metadata": {
    "source_hash": null,
    "execution_start": 1711929907594,
    "execution_millis": 520,
    "deepnote_to_be_reexecuted": false,
    "cell_id": "78724617e089496c96b63eafec6ea6c2",
    "deepnote_cell_type": "code"
   },
   "source": [
    "# Import Modeling Libraries\n",
    "from sklearn import set_config\n",
    "from sklearn.model_selection import KFold, cross_val_score\n",
    "from sklearn.ensemble import HistGradientBoostingRegressor\n",
    "from sklearn.metrics import r2_score, mean_absolute_error, mean_squared_error\n",
    "from hyperopt import STATUS_OK, Trials, fmin, hp, tpe\n",
    "from hyperopt.early_stop import no_progress_loss\n",
    "import neptune"
   ],
   "block_group": "bbc9a4f4fb38400583bcd92244ffeb26",
   "execution_count": null,
   "outputs": [],
   "outputs_reference": null
  },
  {
   "cell_type": "code",
   "metadata": {
    "source_hash": null,
    "execution_start": 1711929908117,
    "execution_millis": 93,
    "deepnote_to_be_reexecuted": false,
    "cell_id": "c6f0aea42baa4648a1e245462c2860ce",
    "deepnote_cell_type": "code"
   },
   "source": [
    "# Pandas Configs\n",
    "pd.set_option('mode.chained_assignment', None)\n",
    "pd.options.display.float_format = '{:.2f}'.format\n",
    "pd.options.display.max_columns = None\n",
    "pd.options.display.max_rows = None\n",
    "\n",
    "# Ignore Warnings\n",
    "import warnings\n",
    "warnings.simplefilter('ignore', category=FutureWarning)\n",
    "warnings.simplefilter('ignore', category=UserWarning)\n",
    "warnings.simplefilter(action=\"ignore\", category=pd.errors.PerformanceWarning)\n",
    "\n",
    "# MapBox Token for Plotly Maps\n",
    "px.set_mapbox_access_token(os.environ.get(\"MAPBOX_TOKEN\"))\n",
    "\n",
    "# Scikit Learn Configs\n",
    "set_config(transform_output=\"pandas\")"
   ],
   "block_group": "3843638c580f457a96c6f8b9104151a1",
   "execution_count": null,
   "outputs": [],
   "outputs_reference": null
  },
  {
   "cell_type": "markdown",
   "metadata": {
    "formattedRanges": [],
    "cell_id": "8e13b10bf42541f1a32e5e184a42b3b6",
    "deepnote_cell_type": "text-cell-h3"
   },
   "source": [
    "### Common Functions"
   ],
   "block_group": "f5c9bdc5f12f4922b8611bc7e4495a2f"
  },
  {
   "cell_type": "code",
   "metadata": {
    "source_hash": null,
    "execution_start": 1711929908118,
    "execution_millis": 1748,
    "deepnote_to_be_reexecuted": false,
    "cell_id": "6e02d0cb0a2e464a9a16cf74febdcaaa",
    "deepnote_cell_type": "code"
   },
   "source": [
    "def import_data(common_path=\"/work/data\", xy_path=\"Xy_Data\", location_name='CARB'):\n",
    "    \"\"\"\n",
    "    This function imports the data from the specified data path and location geography\n",
    "    \"\"\"\n",
    "\n",
    "    data_path = os.path.join(common_path, xy_path)\n",
    "\n",
    "    # Import the training, validation and holdout data\n",
    "    X_train_trans = pd.read_parquet(f\"{data_path}/X_train_trans_{location_name}.parquet\")\n",
    "    X_val_trans = pd.read_parquet(f\"{data_path}/X_val_trans_{location_name}.parquet\")\n",
    "    X_holdout_trans = pd.read_parquet(f\"{data_path}/X_holdout_trans_{location_name}.parquet\")\n",
    "\n",
    "    y_train = pd.read_parquet(f\"{data_path}/y_train_{location_name}.parquet\")\n",
    "    y_val = pd.read_parquet(f\"{data_path}/y_val_{location_name}.parquet\")\n",
    "    y_holdout = pd.read_parquet(f\"{data_path}/y_holdout_{location_name}.parquet\")\n",
    "\n",
    "    # y is not transformed\n",
    "    y_train_trans = y_train\n",
    "    y_val_trans = y_val\n",
    "    y_holdout_trans = y_holdout\n",
    "\n",
    "    return X_train_trans, X_val_trans, X_holdout_trans, y_train_trans, y_val_trans, y_holdout_trans\n",
    "\n",
    "# Import some data temporarily, as some of the other functions use the Xy data in argument defaults\n",
    "X_train_trans, X_val_trans, X_holdout_trans, y_train_trans, y_val_trans, y_holdout_trans = import_data(location_name='CARB')"
   ],
   "block_group": "9660e1c6e12b411ca148a862863d70c0",
   "execution_count": null,
   "outputs": [],
   "outputs_reference": null
  },
  {
   "cell_type": "code",
   "metadata": {
    "source_hash": null,
    "execution_start": 1711929909874,
    "execution_millis": 52,
    "deepnote_to_be_reexecuted": false,
    "cell_id": "e4d073e2e1694f4199a66d26b177b01c",
    "deepnote_cell_type": "code"
   },
   "source": [
    "def objective(space):\n",
    "    \"\"\"\n",
    "    This is the HistGradientBoostingRegressor hyperparam objective function\n",
    "    Hyperparams are passed into this function, which are then used in the model object\n",
    "    The model object is then used in the cross_val_scores function \n",
    "    This results in a list of MAE scores, which are then returned as \n",
    "      the loss and std vars to the trials object\n",
    "    \"\"\"\n",
    "    #space['max_bins'] = int(space['max_bins'])\n",
    "    #space['max_depth'] = int(space['max_depth'])\n",
    "    space['max_iter'] = int(space['max_iter'])\n",
    "    space['min_samples_leaf'] = int(space['min_samples_leaf'])\n",
    "    space['max_leaf_nodes'] = int(space['max_leaf_nodes'])\n",
    "\n",
    "    model=HistGradientBoostingRegressor(\n",
    "                    learning_rate = space['learning_rate'],\n",
    "                    max_iter = space['max_iter'],\n",
    "                    max_leaf_nodes = None if space['max_leaf_nodes'] == 0 else space['max_leaf_nodes'],\n",
    "                    min_samples_leaf = space['min_samples_leaf'],\n",
    "                    l2_regularization = space['l2_regularization'],\n",
    "                    #max_bins = space['max_bins'],\n",
    "                    #max_depth = None if space['max_depth'] == 0 else space['max_depth'],\n",
    "                    early_stopping = False,\n",
    "                    loss='squared_error',\n",
    "                    random_state = 42\n",
    "                    )\n",
    "\n",
    "    kf = KFold(n_splits=5, shuffle=True, random_state=42)\n",
    "    mae_scores = -cross_val_score(model, X_train_trans, y_train_trans, cv=kf, scoring='neg_mean_absolute_error')\n",
    "    mean_mae = mae_scores.mean()\n",
    "    std_mae = mae_scores.std()\n",
    "\n",
    "    # Emit model specific params and metrics to Neptune\n",
    "    run[\"parameters/learning_rate\"].log(space['learning_rate'])\n",
    "    run[\"parameters/max_iter\"].log(space['max_iter'])\n",
    "    run[\"parameters/max_leaf_nodes\"].log(space['max_leaf_nodes'])\n",
    "    run[\"parameters/min_samples_leaf\"].log(space['min_samples_leaf'])\n",
    "    run[\"parameters/l2_regularization\"].log(space['l2_regularization'])\n",
    "    #run[\"parameters/max_depth\"].log(space['max_depth'])\n",
    "    #run[\"parameters/max_bins\"].log(space['max_bins'])\n",
    "    \n",
    "    # Emit standard params and metrics to Neptune\n",
    "    run['parameters/all_parameters'].log(str(space))\n",
    "    run['metrics/mae_scores'].log(str(mae_scores.tolist()))\n",
    "    run[\"metrics/mean_mae\"].log(mean_mae)\n",
    "    run[\"metrics/std_mae\"].log(std_mae)\n",
    "\n",
    "    return {'loss': mean_mae, 'status': STATUS_OK, 'std': std_mae}"
   ],
   "block_group": "570d02885298436ab0a34273dd10239d",
   "execution_count": null,
   "outputs": [],
   "outputs_reference": null
  },
  {
   "cell_type": "code",
   "metadata": {
    "source_hash": null,
    "execution_start": 1711929909878,
    "execution_millis": 110,
    "deepnote_to_be_reexecuted": false,
    "cell_id": "1e82aadcdcbe4787932eb1fc296b7275",
    "deepnote_cell_type": "code"
   },
   "source": [
    "def model_score(hps, val=True, train=False, holdout=False, Xtt=X_train_trans, ytt=y_train_trans, Xvt=X_val_trans, yvt=y_val_trans, Xht=X_holdout_trans, yht=y_holdout_trans):\n",
    "    \"\"\"\n",
    "    This function rebuilds the model with the desired hyperparameters\n",
    "    val: True will evaluate the model on the validation data\n",
    "    holdout: True will evaluate the model on the holdout data\n",
    "    train: True will evaluate the model on the train data\n",
    "    Xtt: X_train_trans\n",
    "    ytt: y_train_trans\n",
    "    Xvt: X_val_trans\n",
    "    yvt: y_val_trans\n",
    "    Xht: X_holdout_trans\n",
    "    yht: y_holdout_trans\n",
    "    \"\"\"\n",
    "\n",
    "    # Rebuild model\n",
    "    model = HistGradientBoostingRegressor(**hps)\n",
    "    model.fit(Xtt, ytt)\n",
    "\n",
    "    # Evaluate model and print results\n",
    "    if train:\n",
    "        # Evaluation on train data\n",
    "        train_pred = model.predict(Xtt)\n",
    "        train_mae = mean_absolute_error(ytt, train_pred)\n",
    "        train_mse = mean_squared_error(ytt, train_pred)\n",
    "        train_rmse = mean_squared_error(ytt, train_pred, squared=False)\n",
    "        train_rsq = r2_score(ytt, train_pred)\n",
    "        print(\" \")\n",
    "        print(f\"Train Mean Absolute Error: {train_mae:.4f}\")\n",
    "        print(f\"Train Mean Squared Error: {train_mse:.4f}\")\n",
    "        print(f\"Train Root Mean Squared Error: {train_rmse:.4f}\")\n",
    "        print(f\"Train R^2 Score: {train_rsq:.4f}\")\n",
    "\n",
    "    if val:\n",
    "        # Evaluation on validation data\n",
    "        val_pred = model.predict(Xvt)\n",
    "        val_mae = mean_absolute_error(yvt, val_pred)\n",
    "        val_mse = mean_squared_error(yvt, val_pred)\n",
    "        val_rmse = mean_squared_error(yvt, val_pred, squared=False)\n",
    "        val_rsq = r2_score(yvt, val_pred)\n",
    "        print(\" \")\n",
    "        print(f\"Validation Mean Absolute Error: {val_mae:.4f}\")\n",
    "        print(f\"Validation Mean Squared Error: {val_mse:.4f}\")\n",
    "        print(f\"Validation Root Mean Squared Error: {val_rmse:.4f}\")\n",
    "        print(f\"Validation R^2 Score: {val_rsq:.4f}\")\n",
    "\n",
    "    if holdout:\n",
    "        # Evaluation on holdout data\n",
    "        holdout_pred = model.predict(Xht)\n",
    "        holdout_mae = mean_absolute_error(yht, holdout_pred)\n",
    "        holdout_mse = mean_squared_error(yht, holdout_pred)\n",
    "        holdout_rmse = mean_squared_error(yht, holdout_pred, squared=False)\n",
    "        holdout_rsq = r2_score(yht, holdout_pred)\n",
    "        print(\" \")\n",
    "        print(f\"Holdout Mean Absolute Error: {holdout_mae:.4f}\")\n",
    "        print(f\"Holdout Mean Squared Error: {holdout_mse:.4f}\")\n",
    "        print(f\"Holdout Root Mean Squared Error: {holdout_rmse:.4f}\")\n",
    "        print(f\"Holdout R^2 Score: {holdout_rsq:.4f}\")\n",
    "\n",
    "    return model"
   ],
   "block_group": "3727a082acc74d6182de877cc8ddc676",
   "execution_count": null,
   "outputs": [],
   "outputs_reference": null
  },
  {
   "cell_type": "code",
   "metadata": {
    "source_hash": null,
    "execution_start": 1711929909883,
    "execution_millis": 106,
    "deepnote_to_be_reexecuted": false,
    "cell_id": "34e3c20fb0db4b67a9c442649363ac1f",
    "deepnote_cell_type": "code"
   },
   "source": [
    "def plot_feat_importance(model):\n",
    "    \"\"\"\n",
    "    Plot the feature importance\n",
    "    model: The model object itself\n",
    "    \"\"\"\n",
    "    fi_df = pd.DataFrame({'Feature':model.feature_names_in_,'Importance':model.feature_importances_}).sort_values(by='Importance', ascending=True)\n",
    "    \n",
    "    # Plot the feature importance\n",
    "    fig = px.bar(fi_df, x=\"Importance\", y=\"Feature\", orientation='h', color_discrete_sequence=['darkorange'])\n",
    "    fig.update_xaxes(categoryorder='total ascending')\n",
    "    fig.update_layout(\n",
    "        title={\n",
    "            'text': \"Feature Importance For The Model\",\n",
    "            'x': 0.5, 'xanchor': 'center',\n",
    "            'y':0.90, 'yanchor':'top'},\n",
    "        xaxis=dict(title=\"Feature Importance\", title_standoff=2),\n",
    "        yaxis=dict(title=\"Feature\", title_standoff=0),\n",
    "        height=400, width=650)\n",
    "    fig.add_annotation(\n",
    "        dict(text=f\"Data Sources: Global Coral Beaching Database, World Bank WDI\\nMarine Ecoregions of the World\", x=0.5, y=-0.25, showarrow=False,\n",
    "            font=dict(\n",
    "                size=10,\n",
    "                color=\"grey\"),\n",
    "            xref=\"paper\", yref=\"paper\", align=\"center\"\n",
    "        )\n",
    "    )\n",
    "\n",
    "    fig.show()"
   ],
   "block_group": "621af0ad2cf14c4e8f356c824a53201b",
   "execution_count": null,
   "outputs": [],
   "outputs_reference": null
  },
  {
   "cell_type": "code",
   "metadata": {
    "source_hash": null,
    "execution_start": 1711929909898,
    "execution_millis": 91,
    "deepnote_to_be_reexecuted": false,
    "cell_id": "d58eb395faf04384b93ba51860f00aa3",
    "deepnote_cell_type": "code"
   },
   "source": [
    "def write_out(model, trials, params, feat_cols=[], common_path=\"/work/models\", model_family=\"histgradboost_reg\", location_name=\"CARB\"):\n",
    "    \"\"\"\n",
    "    Write out the model artifacts to disk\n",
    "    model: The model object itself\n",
    "    trial: The Hyperopt trials object\n",
    "    params: The best model hyperparameters from the trials object\n",
    "    common_path: The common path for model artifacts e.g. '/work/models'\n",
    "    model_family: The model family, e.g. 'xgboost_reg', 'lightgbm_reg'\n",
    "    location_name: The geography that the model is trained for, e.g. 'SEAA', 'CARB', 'GLOB'\n",
    "    \"\"\"\n",
    "    date_time_str = datetime.datetime.now().strftime(\"%Y%m%d_%H%M%S\")\n",
    "    model_path = os.path.join(common_path, model_family, location_name)\n",
    " \n",
    "    # make sure the path exists\n",
    "    os.makedirs(model_path, exist_ok=True)\n",
    "\n",
    "    # Write out the HyperOpt Trials object\n",
    "    with open(model_path+'/'+date_time_str+'_trials.pkl', 'wb') as f:\n",
    "        pickle.dump(trials, f)\n",
    "\n",
    "    # Write out the XGBoost Model Object\n",
    "    with open(model_path+'/'+date_time_str+'_model.pkl', 'wb') as f:\n",
    "        pickle.dump(model, f)\n",
    "\n",
    "    # Write out the XGBoost Best Params\n",
    "    with open(model_path+'/'+date_time_str+'_params.pkl', 'wb') as f:\n",
    "        pickle.dump(params, f)\n",
    "    \n",
    "    # Write out the feature columns if they exist\n",
    "    if len(feat_cols) > 0:\n",
    "        with open(model_path+'/'+date_time_str+'_feat_cols.pkl', 'wb') as f:\n",
    "            pickle.dump(feat_cols, f)"
   ],
   "block_group": "1b88100b784648c2b6425083bc317439",
   "execution_count": null,
   "outputs": [],
   "outputs_reference": null
  },
  {
   "cell_type": "code",
   "metadata": {
    "source_hash": null,
    "execution_start": 1711929909899,
    "execution_millis": 91,
    "deepnote_to_be_reexecuted": false,
    "cell_id": "eb755d2a635a44d6b11a57e9e6cbd26e",
    "deepnote_cell_type": "code"
   },
   "source": [
    "def feat_ablation(model, hps, Xtt, ytt, Xvt, yvt, Xht, yht, abl_list_to_combo=[]):\n",
    "    \"\"\"\n",
    "    Perform feature ablation analysis\n",
    "    model: The model object itself\n",
    "    Xtt: X_train_trans\n",
    "    ytt: y_train_trans\n",
    "    Xvt: X_val_trans\n",
    "    yvt: y_val_trans\n",
    "    Xht: X_holdout_trans\n",
    "    yht: y_holdout_trans\n",
    "    \"\"\"\n",
    "    \n",
    "    # Create the base model object with hyperparameters\n",
    "    # Note: this model will be refit during the ablation loop\n",
    "    abl_model = model_score(hps, Xtt=Xtt, ytt=ytt, Xvt=Xvt, yvt=yvt, Xht=Xht, yht=yht, train=False, val=False, holdout=False)\n",
    "    \n",
    "    # Evaluation on train data\n",
    "    train_pred = abl_model.predict(Xtt)\n",
    "    baseline_mae_train = mean_absolute_error(ytt, train_pred)\n",
    "    \n",
    "    # Evaluation on validation data\n",
    "    val_pred = abl_model.predict(Xvt)\n",
    "    baseline_mae_val = mean_absolute_error(yvt, val_pred)\n",
    "\n",
    "    print(f\"Baseline Mean MAE: {baseline_mae_train:.4f}, Validation MAE: {baseline_mae_val:.4f}\")\n",
    "\n",
    "\n",
    "    # Features for ablation \n",
    "    # Start with all features\n",
    "    abl_list = [[x] for x in Xtt.columns]\n",
    "\n",
    "    # Now create combos of features passed in as abl_list_to_combo\n",
    "    # Create combos of all items in abl_list_to_combo\n",
    "    # Range stars at 2 to skip single columns\n",
    "    abl_combo_list = [combo for r in range(2, len(abl_list_to_combo) + 1) \n",
    "        for combo in itertools.combinations(abl_list_to_combo, r)]\n",
    "\n",
    "    # Itertools combinations() creates tuples. \n",
    "    #   Convert each combination from a tuple to a list for ablation\n",
    "    abl_combo_list = [list(combo) for combo in abl_combo_list]\n",
    "\n",
    "    # Add the ablation combos to the ablation list\n",
    "    abl_list = abl_list + abl_combo_list\n",
    "\n",
    "\n",
    "    # Create the ablation loop\n",
    "    ablation_results_list = []\n",
    "\n",
    "    # Feat ablation loop\n",
    "    for feature in abl_list:\n",
    "        # drop ablated cols\n",
    "        modified_X_train_trans = Xtt.drop(columns=feature)\n",
    "        modified_X_val_trans = Xvt.drop(columns=feature)\n",
    "\n",
    "        # Fit the model with ablated features        \n",
    "        abl_model.fit(modified_X_train_trans, ytt)\n",
    "\n",
    "        # Evaluation on train data\n",
    "        modified_train_predictions = abl_model.predict(modified_X_train_trans)\n",
    "        modified_mae_train = mean_absolute_error(ytt, modified_train_predictions)\n",
    "\n",
    "        # Evaluation on validation data\n",
    "        modified_val_predictions = abl_model.predict(modified_X_val_trans)\n",
    "        modified_mae_val = mean_absolute_error(yvt, modified_val_predictions)\n",
    "        \n",
    "        # Calculate MAE changes\n",
    "        mae_change_train = baseline_mae_train - modified_mae_train\n",
    "        mae_change_val = baseline_mae_val - modified_mae_val\n",
    "\n",
    "        ablation_result_dict = {\n",
    "            'Removed_Feature': \", \".join(feature),\n",
    "            'Train_MAE': modified_mae_train,\n",
    "            'Train_MAE_Change': mae_change_train,\n",
    "            'Train_MAE_Pct_Change': 100*(1-(modified_mae_train/baseline_mae_train)),\n",
    "            'Val_MAE': modified_mae_val,\n",
    "            'Val_MAE_Change': mae_change_val,\n",
    "            'Val_MAE_Pct_Change': 100*(1-(modified_mae_val/baseline_mae_val))\n",
    "        }\n",
    "        \n",
    "        ablation_results_list.append(ablation_result_dict)\n",
    "    \n",
    "    feature_ablation_df = pd.DataFrame(ablation_results_list)\n",
    "    \n",
    "    return feature_ablation_df, baseline_mae_val, baseline_mae_train"
   ],
   "block_group": "0c78b8575d3e4fed8c1258672fbd63cf",
   "execution_count": null,
   "outputs": [],
   "outputs_reference": null
  },
  {
   "cell_type": "code",
   "metadata": {
    "source_hash": null,
    "execution_start": 1711929909901,
    "execution_millis": 89,
    "deepnote_to_be_reexecuted": false,
    "cell_id": "4cab4a18821940cf9288cc6e81219ce7",
    "deepnote_cell_type": "code"
   },
   "source": [
    "# Define the Hyperparameter space\n",
    "# Original space definition\n",
    "# space = {\n",
    "#     'learning_rate': hp.loguniform('learning_rate', np.log(0.01), np.log(1)),\n",
    "#     'max_iter': hp.quniform('max_iter', 100, 2000, 1), \n",
    "#     'max_leaf_nodes': hp.quniform('max_leaf_nodes', 2, 1500, 1), \n",
    "#     'min_samples_leaf': hp.quniform('min_samples_leaf', 3, 24, 1),  \n",
    "#     'l2_regularization': hp.loguniform('l2_regularization', np.log(0.001), np.log(1)),\n",
    "#     'max_depth': hp.quniform('max_depth', 0, 24, 1),  \n",
    "#     'max_bins': hp.quniform('max_bins', 10, 255, 1),\n",
    "# }\n",
    "\n",
    "# Testing space definition\n",
    "space = {\n",
    "    'learning_rate': hp.loguniform('learning_rate', np.log(0.01), np.log(1)),\n",
    "    'max_iter': hp.quniform('max_iter', 100, 500, 1), \n",
    "    'max_leaf_nodes': hp.quniform('max_leaf_nodes', 2, 1500, 1), \n",
    "    'min_samples_leaf': hp.quniform('min_samples_leaf', 16, 128, 1),  \n",
    "    'l2_regularization': hp.loguniform('l2_regularization', np.log(0.001), np.log(1)),\n",
    "    #'max_depth': hp.quniform('max_depth', 0, 24, 1),  \n",
    "    #'max_bins': hp.quniform('max_bins', 10, 255, 1),\n",
    "}"
   ],
   "block_group": "3a00bdd5413841deb53ccbfa46d6227b",
   "execution_count": null,
   "outputs": [],
   "outputs_reference": null
  },
  {
   "cell_type": "markdown",
   "metadata": {
    "is_collapsed": false,
    "formattedRanges": [],
    "deepnote_app_block_visible": false,
    "cell_id": "513cf236da714a2880963f43b3474e96",
    "deepnote_cell_type": "text-cell-h1"
   },
   "source": [
    "# Caribbean Region"
   ],
   "block_group": "f1427867b545433990280c904087c651"
  },
  {
   "cell_type": "markdown",
   "metadata": {
    "formattedRanges": [],
    "cell_id": "ab441cb965d14c618867505be147155d",
    "deepnote_cell_type": "text-cell-h2"
   },
   "source": [
    "## Import the Data"
   ],
   "block_group": "c032e474be5b4808bc0f5c47e96918cb"
  },
  {
   "cell_type": "code",
   "metadata": {
    "source_hash": null,
    "execution_start": 1711929909906,
    "execution_millis": 1143,
    "deepnote_to_be_reexecuted": false,
    "cell_id": "e455ee8dbd3d419aaa6f9910e165a9e1",
    "deepnote_cell_type": "code"
   },
   "source": [
    "X_train_trans, X_val_trans, X_holdout_trans, y_train_trans, y_val_trans, y_holdout_trans = import_data(location_name='CARB')"
   ],
   "block_group": "0f53ed0fda7a4769b509d8d3f314d469",
   "execution_count": null,
   "outputs": [],
   "outputs_reference": null
  },
  {
   "cell_type": "markdown",
   "metadata": {
    "is_collapsed": false,
    "formattedRanges": [],
    "deepnote_app_block_visible": false,
    "cell_id": "6657b0fcea2c4a76a8229136460ed896",
    "deepnote_cell_type": "text-cell-h2"
   },
   "source": [
    "## Hyperparameter Tuning"
   ],
   "block_group": "8e8a57b936db489b84c356e2b0f80e08"
  },
  {
   "cell_type": "markdown",
   "metadata": {
    "formattedRanges": [],
    "cell_id": "a560193ce9a744b3a9b549c3381f8ae9",
    "deepnote_cell_type": "text-cell-h3"
   },
   "source": [
    "### Execute Hyperparameter search"
   ],
   "block_group": "016820d33d6942cc9f17cc230e41c67b"
  },
  {
   "cell_type": "code",
   "metadata": {
    "source_hash": null,
    "execution_start": 1711929911052,
    "execution_millis": 3344587,
    "deepnote_to_be_reexecuted": false,
    "cell_id": "6c244b6921ad44afb464f9271460d60f",
    "deepnote_cell_type": "code"
   },
   "source": [
    "# Instantiate Neptune instance\n",
    "run = neptune.init_run(\n",
    "    name=\"HistGradientBoosting Reg Caribbean\",\n",
    "    tags=[\"HistGradientBoosting\", \"regression\", \"hyperopt\", \"MAE\", \"Caribbean\", \"CARB\"],\n",
    "    description=\"HistGradientBoosting Hyperopt with MAE on Caribbean\"\n",
    ")\n",
    "\n",
    "# Create the Trials object\n",
    "CARB_trials = Trials()\n",
    "\n",
    "# Create the fmin object\n",
    "CARB_best_hyperparams = fmin(fn = objective,\n",
    "                            space = space,\n",
    "                            algo = tpe.suggest,\n",
    "                            max_evals = 1000,\n",
    "                            trials = CARB_trials,\n",
    "                            show_progressbar=True,\n",
    "                            early_stop_fn=no_progress_loss(100))\n",
    "\n",
    "# Stop Neptune instance\n",
    "run.stop()\n",
    "\n",
    "CARB_best_trial = CARB_trials.best_trial\n",
    "CARB_best_hps = CARB_best_hyperparams.copy()\n",
    "\n",
    "CARB_best_hps['max_iter'] = int(CARB_best_hps['max_iter'])\n",
    "CARB_best_hps['min_samples_leaf'] = int(CARB_best_hps['min_samples_leaf'])\n",
    "CARB_best_hps['max_leaf_nodes'] = int(CARB_best_hps['max_leaf_nodes'])"
   ],
   "block_group": "9fd65f126f234996825f29b02f9cfbad",
   "execution_count": null,
   "outputs": [],
   "outputs_reference": "s3:deepnote-cell-outputs-production/b012cbdb-5f97-4334-a678-f19a458d9a66"
  },
  {
   "cell_type": "code",
   "metadata": {
    "source_hash": null,
    "execution_start": 1711933255642,
    "execution_millis": 327,
    "deepnote_to_be_reexecuted": false,
    "cell_id": "6d948bf911074486a577ea291f53e500",
    "deepnote_cell_type": "code"
   },
   "source": [
    "# run.stop()"
   ],
   "block_group": "122b390c9a814bf9b4e93aae605237e1",
   "execution_count": null,
   "outputs": [],
   "outputs_reference": null
  },
  {
   "cell_type": "markdown",
   "metadata": {
    "formattedRanges": [],
    "cell_id": "8214e31f34ae4ec18bd988fd11fca395",
    "deepnote_cell_type": "text-cell-h3"
   },
   "source": [
    "### Review the Hyperparameter Search Validation MAE Scores and Hyperparameters"
   ],
   "block_group": "5e18df8b4a3748f894e8aa1ba861e660"
  },
  {
   "cell_type": "code",
   "metadata": {
    "source_hash": null,
    "execution_start": 1711933255653,
    "execution_millis": 316,
    "deepnote_to_be_reexecuted": false,
    "cell_id": "5cd8298b58254ee19930ccafca840f86",
    "deepnote_cell_type": "code"
   },
   "source": [
    "# What's the best trial from the search? Report the MAE & StdDev\n",
    "print(f\"Best Mean Absolute Error: {CARB_trials.best_trial['result']['loss']:.4f}\")\n",
    "print(f\"Best Standard Error: {CARB_trials.best_trial['result']['std']:.4f}\")"
   ],
   "block_group": "e03cff7282584c11b165765d2b929b2a",
   "execution_count": null,
   "outputs": [],
   "outputs_reference": "dbtable:cell_outputs/45a50580-b7e7-4412-9bfc-5c9a0481d270"
  },
  {
   "cell_type": "code",
   "metadata": {
    "source_hash": null,
    "execution_start": 1711933255654,
    "execution_millis": 315,
    "deepnote_to_be_reexecuted": false,
    "cell_id": "ae41b1dcb79b4333b468f5d5bd9d8f75",
    "deepnote_cell_type": "code"
   },
   "source": [
    "# Display the best hyperparameters\n",
    "CARB_best_hps"
   ],
   "block_group": "2d368b28481d4163990b20c6623a2207",
   "execution_count": null,
   "outputs": [],
   "outputs_reference": "dbtable:cell_outputs/5abd008d-351d-41a0-bcdf-563f52a540fb"
  },
  {
   "cell_type": "markdown",
   "metadata": {
    "formattedRanges": [],
    "cell_id": "8c4c1344389a4a638243d3d5b3ce8951",
    "deepnote_cell_type": "text-cell-h2"
   },
   "source": [
    "## Recreate the model and get new MAE and Feature Importance"
   ],
   "block_group": "510eb6a614644592ba9b30bfd46bb4e1"
  },
  {
   "cell_type": "code",
   "metadata": {
    "source_hash": null,
    "execution_start": 1711933255659,
    "execution_millis": 10289,
    "deepnote_to_be_reexecuted": false,
    "cell_id": "5b2d888e13644c36b1e77fa8ed3634d4",
    "deepnote_cell_type": "code"
   },
   "source": [
    "# Recreate the model with the best hyperparameters\n",
    "CARB_model = model_score(CARB_best_hps, holdout=True, val=True)\n",
    "\n",
    "# Plot the feature importance\n",
    "# HistGradientBoosting does not have feature importance vars"
   ],
   "block_group": "2ca3dcfbf27f41bab8cb7866df059743",
   "execution_count": null,
   "outputs": [],
   "outputs_reference": "dbtable:cell_outputs/850b85ca-f558-4e61-bf87-4e2e93ffb199"
  },
  {
   "cell_type": "markdown",
   "metadata": {
    "is_collapsed": false,
    "formattedRanges": [],
    "deepnote_app_block_visible": false,
    "cell_id": "109939d2fd0747e4906d57c11455ada2",
    "deepnote_cell_type": "text-cell-h2"
   },
   "source": [
    "## Feature Ablation"
   ],
   "block_group": "09cdeccecbf240e68a8256985a4b599f"
  },
  {
   "cell_type": "code",
   "metadata": {
    "source_hash": null,
    "execution_start": 1711933265952,
    "execution_millis": 201542,
    "deepnote_to_be_reexecuted": false,
    "cell_id": "5572fdae39d64e00aa50836e45560989",
    "deepnote_cell_type": "code"
   },
   "source": [
    "%%time\n",
    "# First run through the feature ablation process\n",
    "# This will determine which features can potentially be removed\n",
    "CARB_feature_ablation_df, CARB_baseline_mae_val, CARB_baseline_mae_train = feat_ablation(\n",
    "    model=CARB_model, hps=CARB_best_hps, \n",
    "    Xtt=X_train_trans, ytt=y_train_trans, \n",
    "    Xvt=X_val_trans, yvt=y_val_trans, \n",
    "    Xht=X_holdout_trans, yht=y_holdout_trans)"
   ],
   "block_group": "8c29dae6f92447749a2fa116b323bea8",
   "execution_count": null,
   "outputs": [],
   "outputs_reference": "dbtable:cell_outputs/92c97b23-efbd-4ba9-982f-4e9b157652a2"
  },
  {
   "cell_type": "code",
   "metadata": {
    "source_hash": null,
    "execution_start": 1711933467497,
    "execution_millis": 414,
    "deepnote_table_state": {
     "sortBy": [],
     "filters": [],
     "pageSize": 50,
     "pageIndex": 0
    },
    "deepnote_table_loading": false,
    "deepnote_to_be_reexecuted": false,
    "cell_id": "1417652b775c42378ecb537a1565b220",
    "deepnote_cell_type": "code"
   },
   "source": [
    "# Show the feature ablation dataframe, sorted by the change in MAE to Validation data\n",
    "CARB_feature_ablation_df.sort_values('Val_MAE_Change', ascending=False)"
   ],
   "block_group": "ced566f9b071492da231bf8860fc5a06",
   "execution_count": null,
   "outputs": [],
   "outputs_reference": "s3:deepnote-cell-outputs-production/6606067a-dc58-4a42-88dc-924a0ee75f85"
  },
  {
   "cell_type": "code",
   "metadata": {
    "source_hash": null,
    "execution_start": 1711933467514,
    "execution_millis": 398,
    "deepnote_to_be_reexecuted": false,
    "cell_id": "ffc063c17e774bbbae20c0edd1964ae1",
    "deepnote_cell_type": "code"
   },
   "source": [
    "# Generate the top 5 features to use in feature ablation combinations\n",
    "CARB_abl_list_to_combo = CARB_feature_ablation_df[CARB_feature_ablation_df['Val_MAE'] <= CARB_baseline_mae_val].sort_values('Val_MAE_Change', ascending=False)['Removed_Feature'].head(1).values[0].split(', ')\n",
    "\n",
    "# Show the top 5 features\n",
    "CARB_abl_list_to_combo"
   ],
   "block_group": "0b0bc9eb4cb24a989669e7b5c4f843e0",
   "execution_count": null,
   "outputs": [],
   "outputs_reference": "dbtable:cell_outputs/3e8c1db0-870c-4549-883d-23b68999a04d"
  },
  {
   "cell_type": "code",
   "metadata": {
    "source_hash": null,
    "execution_start": 1711933467515,
    "execution_millis": 397,
    "deepnote_to_be_reexecuted": false,
    "cell_id": "3311d86c746f4c17ba9e4625294f8521",
    "deepnote_cell_type": "code"
   },
   "source": [
    "# Show the feature ablation dataframe, sorted by the change in MAE to Validation data\n",
    "CARB_feature_ablation_df.sort_values('Val_MAE_Change', ascending=False)"
   ],
   "block_group": "a32b347b30f34782b5485f8f14b8168d",
   "execution_count": null,
   "outputs": [],
   "outputs_reference": "s3:deepnote-cell-outputs-production/c9045e9d-e870-4c77-8513-47650f0c03c2"
  },
  {
   "cell_type": "code",
   "metadata": {
    "source_hash": null,
    "execution_start": 1711933467556,
    "execution_millis": 200913,
    "deepnote_to_be_reexecuted": false,
    "cell_id": "301607eb969749b98f0b59607702a98e",
    "deepnote_cell_type": "code"
   },
   "source": [
    "%%time\n",
    "# Second run through the feature ablation process\n",
    "# This time including the top 5 features whose removal decreased the MAE\n",
    "# These top 5 features will be combined using itertools\n",
    "CARB_feature_ablation_df, CARB_baseline_mae_val, CARB_baseline_mae_train = feat_ablation(\n",
    "    model=CARB_model, hps=CARB_best_hps, \n",
    "    Xtt=X_train_trans, ytt=y_train_trans, \n",
    "    Xvt=X_val_trans, yvt=y_val_trans, \n",
    "    Xht=X_holdout_trans, yht=y_holdout_trans, \n",
    "    abl_list_to_combo=CARB_abl_list_to_combo)"
   ],
   "block_group": "5f05f331a8af4a41825c9a285ca236e7",
   "execution_count": null,
   "outputs": [],
   "outputs_reference": "dbtable:cell_outputs/7ea38000-3a8d-484b-a575-f5c8244b8169"
  },
  {
   "cell_type": "code",
   "metadata": {
    "source_hash": null,
    "execution_start": 1711933668472,
    "execution_millis": 219,
    "deepnote_table_state": {
     "sortBy": [
      {
       "id": "Val_MAE_Change",
       "type": "desc"
      }
     ],
     "filters": [],
     "pageSize": 25,
     "pageIndex": 0
    },
    "deepnote_table_loading": false,
    "deepnote_to_be_reexecuted": false,
    "cell_id": "abde74d98be140909ac5e1aa2423eac6",
    "deepnote_cell_type": "code"
   },
   "source": [
    "# Show the feature ablation dataframe, sorted by the change in MAE to Validation data\n",
    "CARB_feature_ablation_df[CARB_feature_ablation_df['Val_MAE'] <= CARB_baseline_mae_val]"
   ],
   "block_group": "8c0621fd67824838aa555fb148c8c08c",
   "execution_count": null,
   "outputs": [],
   "outputs_reference": "s3:deepnote-cell-outputs-production/58f57ce2-cb97-491e-8d9b-9d24525f292a"
  },
  {
   "cell_type": "code",
   "metadata": {
    "source_hash": null,
    "execution_start": 1711933668516,
    "execution_millis": 308,
    "deepnote_to_be_reexecuted": false,
    "cell_id": "f99d049ffe3f4d9ab78b6edb5c5d87c1",
    "deepnote_cell_type": "code"
   },
   "source": [
    "# Show the top 1 feature, which we'll remove.  Might be multiple features, so we split the string\n",
    "CARB_feature_ablation_df[CARB_feature_ablation_df['Val_MAE'] <= CARB_baseline_mae_val].sort_values('Val_MAE_Change', ascending=False)['Removed_Feature'].head(1).to_list()"
   ],
   "block_group": "c54e98cf034a41098b1ef44b9c043231",
   "execution_count": null,
   "outputs": [],
   "outputs_reference": "dbtable:cell_outputs/d3d1c59d-9639-411f-b814-91ebd737acca"
  },
  {
   "cell_type": "code",
   "metadata": {
    "source_hash": null,
    "execution_start": 1711933668517,
    "execution_millis": 9791,
    "deepnote_to_be_reexecuted": false,
    "cell_id": "9c31b35a3e01465d8898a7e41af141d4",
    "deepnote_cell_type": "code"
   },
   "source": [
    "# Define the top features to drop\n",
    "CARB_drop_cols = CARB_feature_ablation_df[CARB_feature_ablation_df['Val_MAE'] <= CARB_baseline_mae_val].sort_values('Val_MAE_Change', ascending=False)['Removed_Feature'].head(1).values[0].split(', ')\n",
    "\n",
    "# Create the feature columns list for saving out\n",
    "CARB_feat_columns = X_train_trans.drop(columns=CARB_drop_cols).columns.to_list()\n",
    "\n",
    "# Recreate the model with the dropped columns\n",
    "# It should have a lower MAE score than the original\n",
    "CARB_experiment_model = model_score(\n",
    "    CARB_best_hps, val=True, \n",
    "    Xtt=X_train_trans.drop(columns=CARB_drop_cols), ytt=y_train_trans, \n",
    "    Xvt=X_val_trans.drop(columns=CARB_drop_cols), yvt=y_val_trans, \n",
    "    Xht=X_holdout_trans.drop(columns=CARB_drop_cols), yht=y_holdout_trans)\n",
    "\n",
    "# Plot the feature importance for this model\n",
    "# HistGradientBoosting does not have feature importance vars"
   ],
   "block_group": "610f1a852a7f4193a65c1f1d15924609",
   "execution_count": null,
   "outputs": [],
   "outputs_reference": "dbtable:cell_outputs/96aa70dd-4142-4b1f-b9cf-a8a7eb5c367c"
  },
  {
   "cell_type": "markdown",
   "metadata": {
    "formattedRanges": [],
    "cell_id": "387b75260dc740a991697f47bc72563a",
    "deepnote_cell_type": "text-cell-h3"
   },
   "source": [
    "### Output the Model, Trials, Parameters and Feature List to disk"
   ],
   "block_group": "b8c3eec0f6b94fcc9e32ba6f2c5ff2a7"
  },
  {
   "cell_type": "code",
   "metadata": {
    "source_hash": null,
    "execution_start": 1711933678312,
    "execution_millis": 1336,
    "deepnote_to_be_reexecuted": false,
    "cell_id": "fe98752f8ea3486691f924350330fc90",
    "deepnote_cell_type": "code"
   },
   "source": [
    "# Write out the model artifacts to disk\n",
    "write_out(model=CARB_model, trials=CARB_trials, params=CARB_best_hps, feat_cols=CARB_feat_columns, location_name='CARB')"
   ],
   "block_group": "053444987e0d411ba8f0852f8762f731",
   "execution_count": null,
   "outputs": [],
   "outputs_reference": null
  },
  {
   "cell_type": "markdown",
   "metadata": {
    "is_collapsed": false,
    "formattedRanges": [],
    "deepnote_app_block_visible": false,
    "cell_id": "514bc9049c0e48558b42c71f71774a47",
    "deepnote_cell_type": "text-cell-h2"
   },
   "source": [
    "## Review Holdout Truth vs Predictions"
   ],
   "block_group": "139ee5a3d74144fc807ec52d372ad6e4"
  },
  {
   "cell_type": "code",
   "metadata": {
    "source_hash": null,
    "execution_start": 1711933679651,
    "execution_millis": 71,
    "deepnote_to_be_reexecuted": false,
    "cell_id": "6506a66a594d4a6cba71a5b88e8243a5",
    "deepnote_cell_type": "code"
   },
   "source": [
    "eval_df = y_val_trans.copy(deep=True)\n",
    "CARB_val_pred = CARB_model.predict(X_val_trans)\n",
    "eval_df['predictions'] = CARB_val_pred.tolist()\n",
    "eval_df['diff'] = eval_df['y_val'] - eval_df['predictions']"
   ],
   "block_group": "0abf6862b25e4bc4b4061e7db1e64a3e",
   "execution_count": null,
   "outputs": [],
   "outputs_reference": null
  },
  {
   "cell_type": "code",
   "metadata": {
    "source_hash": null,
    "execution_start": 1711933679687,
    "execution_millis": 189,
    "deepnote_table_state": {
     "sortBy": [],
     "filters": [],
     "pageSize": 25,
     "pageIndex": 0
    },
    "deepnote_table_loading": false,
    "deepnote_to_be_reexecuted": false,
    "cell_id": "d8a2c4a317be491290bae463dc386734",
    "deepnote_cell_type": "code"
   },
   "source": [
    "eval_df.sort_values(by='diff', ascending=False).head(20)"
   ],
   "block_group": "e11ab89146f34829a95efb1a627531f9",
   "execution_count": null,
   "outputs": [],
   "outputs_reference": "s3:deepnote-cell-outputs-production/25b573eb-d592-4ec6-a9ed-2d562e575730"
  },
  {
   "cell_type": "code",
   "metadata": {
    "source_hash": null,
    "execution_start": 1711933679737,
    "execution_millis": 545,
    "deepnote_to_be_reexecuted": false,
    "cell_id": "020ed322c52c46c1b483c2df362c013f",
    "deepnote_cell_type": "code"
   },
   "source": [
    "fig = px.histogram(eval_df[eval_df['y_val'] > 5], x='diff', nbins=100, title='Distribution of the diff between prediction and holdout where true value > 5')\n",
    "\n",
    "# Show the plot\n",
    "fig.show()"
   ],
   "block_group": "b515f851aad24673ab421c56adc26d09",
   "execution_count": null,
   "outputs": [],
   "outputs_reference": "s3:deepnote-cell-outputs-production/e42ce1d3-043d-4606-adae-98dbf52a9bac"
  },
  {
   "cell_type": "code",
   "metadata": {
    "source_hash": null,
    "execution_start": 1711933679833,
    "execution_millis": 449,
    "deepnote_table_state": {
     "sortBy": [],
     "filters": [],
     "pageSize": 25,
     "pageIndex": 0
    },
    "deepnote_table_loading": false,
    "deepnote_to_be_reexecuted": false,
    "cell_id": "46d4aa44302d4d4bb3a3fe962cf0055a",
    "deepnote_cell_type": "code"
   },
   "source": [
    "#eval_df[(eval_df['diff'].between(-5,5))]\n",
    "#eval_df[(eval_df['diff'].between(-5,5)) & (eval_df['y_val'] > 5)]\n",
    "eval_df[~(eval_df['diff'].between(-5,5))]\n"
   ],
   "block_group": "c4537cf4ea804253a4da3993acd0b6e3",
   "execution_count": null,
   "outputs": [],
   "outputs_reference": "s3:deepnote-cell-outputs-production/3688a1b2-2b35-4301-a18a-df3f3f11c137"
  },
  {
   "cell_type": "markdown",
   "metadata": {
    "formattedRanges": [],
    "cell_id": "70d205081752460d80ae909daa890f84",
    "deepnote_cell_type": "text-cell-h2"
   },
   "source": [
    "## SHAP Analysis"
   ],
   "block_group": "e40d498cd3a04efe8340bcd336d42635"
  },
  {
   "cell_type": "markdown",
   "metadata": {
    "formattedRanges": [],
    "cell_id": "c877dbce60344ec8822b79d02bab36ff",
    "deepnote_cell_type": "text-cell-h3"
   },
   "source": [
    "### Create SHAP Objects"
   ],
   "block_group": "df59f68bcdf4446b81ee99beccaa87d0"
  },
  {
   "cell_type": "code",
   "metadata": {
    "source_hash": null,
    "execution_start": 1711933679870,
    "execution_millis": 413,
    "deepnote_to_be_reexecuted": false,
    "cell_id": "f90101025e214156a6623c6ef10b0ccf",
    "deepnote_cell_type": "code"
   },
   "source": [
    "# %%time\n",
    "# CARB_X_val_trans = X_val_trans.copy(deep=True)\n",
    "# CARB_y_val_trans = y_val_trans.copy(deep=True)\n",
    "# explainer = shap.TreeExplainer(CARB_model)\n",
    "# shap_values = explainer(CARB_X_val_trans)\n",
    "# shap_interaction = explainer.shap_interaction_values(CARB_X_val_trans)\n",
    "# sv = explainer.shap_values(CARB_X_val_trans)\n",
    "# shap.initjs()"
   ],
   "block_group": "c7de2fc85ece4c89b3ca9e620545be73",
   "execution_count": null,
   "outputs": [],
   "outputs_reference": null
  },
  {
   "cell_type": "code",
   "metadata": {
    "source_hash": null,
    "execution_start": 1711933679871,
    "execution_millis": 412,
    "deepnote_to_be_reexecuted": false,
    "cell_id": "da1bfcfb3f8c455682e39586e12fa214",
    "deepnote_cell_type": "code"
   },
   "source": [
    "# Beeswarm Importance\n",
    "# plt.figure(figsize=(8,6))\n",
    "# plt.title(f\"SHAP Beeswarm Analysis\")\n",
    "# shap.plots.beeswarm(shap_values, max_display=32)\n",
    "# plt.close()"
   ],
   "block_group": "9d7304cc62fd4802b6aba47b154e7a5a",
   "execution_count": null,
   "outputs": [],
   "outputs_reference": null
  },
  {
   "cell_type": "markdown",
   "metadata": {
    "formattedRanges": [],
    "cell_id": "dda92aab88164bb5ab3abd27a719d125",
    "deepnote_cell_type": "text-cell-h3"
   },
   "source": [
    "### Investigate Individual Predictions"
   ],
   "block_group": "00a6d7f716f04492af4d77a7895ea7be"
  },
  {
   "cell_type": "code",
   "metadata": {
    "source_hash": null,
    "execution_start": 1711933679874,
    "execution_millis": 410,
    "deepnote_to_be_reexecuted": false,
    "cell_id": "c643c4e9fea9435cb230335524a43078",
    "deepnote_cell_type": "code"
   },
   "source": [
    "#investigate = CARB_X_val_trans.index.get_loc(5809)\n",
    "# print(CARB_y_val_trans.iloc[investigate])"
   ],
   "block_group": "fd49f345257942e4832f92ff46b8724a",
   "execution_count": null,
   "outputs": [],
   "outputs_reference": null
  },
  {
   "cell_type": "code",
   "metadata": {
    "source_hash": null,
    "execution_start": 1711933679879,
    "execution_millis": 766,
    "deepnote_to_be_reexecuted": false,
    "cell_id": "d259ee1af46e48d8868256559e702dea",
    "deepnote_cell_type": "code"
   },
   "source": [
    "# Waterfall on a prediction\n",
    "# plt.figure(figsize=(8,6))\n",
    "# shap.plots.waterfall(shap_values[investigate], max_display=20) # , show=False\n",
    "# plt.close()"
   ],
   "block_group": "8a661b7b2e6a44dd8e188e2d0ace7bcb",
   "execution_count": null,
   "outputs": [],
   "outputs_reference": null
  },
  {
   "cell_type": "code",
   "metadata": {
    "source_hash": null,
    "execution_start": 1711933679881,
    "execution_millis": 764,
    "deepnote_to_be_reexecuted": false,
    "cell_id": "bfd54eab7a524c4585b3387bcce59dda",
    "deepnote_cell_type": "code"
   },
   "source": [
    "# Decision plot on a prediction\n",
    "# shap.decision_plot(explainer.expected_value, explainer.shap_values(CARB_X_val_trans)[investigate], CARB_X_val_trans, feature_display_range=slice(-1,-51,-1))"
   ],
   "block_group": "8b40f4b93b644aa691bcfa4a76cd747d",
   "execution_count": null,
   "outputs": [],
   "outputs_reference": null
  },
  {
   "cell_type": "markdown",
   "metadata": {
    "is_collapsed": false,
    "formattedRanges": [],
    "deepnote_app_block_visible": false,
    "cell_id": "201c289194f74f39b11e0a7fb76cad6c",
    "deepnote_cell_type": "text-cell-h1"
   },
   "source": [
    "# South East Asia and Australia Region"
   ],
   "block_group": "f341c9600c0d47c09020907304caa863"
  },
  {
   "cell_type": "markdown",
   "metadata": {
    "formattedRanges": [],
    "cell_id": "b8584fcccd394e258265d9589ec11a6f",
    "deepnote_cell_type": "text-cell-h2"
   },
   "source": [
    "## Import the Data"
   ],
   "block_group": "cff5ae98cd7c4689b9c0553657bd6760"
  },
  {
   "cell_type": "code",
   "metadata": {
    "allow_embed": false,
    "source_hash": null,
    "execution_start": 1711933679892,
    "execution_millis": 1601,
    "deepnote_to_be_reexecuted": false,
    "cell_id": "eb8b2a2021bf437ab5387c88440fddf3",
    "deepnote_cell_type": "code"
   },
   "source": [
    "X_train_trans, X_val_trans, X_holdout_trans, y_train_trans, y_val_trans, y_holdout_trans = import_data(location_name='SEAA')"
   ],
   "block_group": "d837398a0964481daf71b0dbb17f99c4",
   "execution_count": null,
   "outputs": [],
   "outputs_reference": null
  },
  {
   "cell_type": "markdown",
   "metadata": {
    "is_collapsed": false,
    "formattedRanges": [],
    "deepnote_app_block_visible": false,
    "cell_id": "4926be8f9e7e47119e15d29c8418c129",
    "deepnote_cell_type": "text-cell-h2"
   },
   "source": [
    "## Hyperparameter Tuning"
   ],
   "block_group": "cbad4f42081647f7ac57de419a0937f5"
  },
  {
   "cell_type": "markdown",
   "metadata": {
    "formattedRanges": [],
    "cell_id": "c0874f732d944d91a45bc54f3abd711f",
    "deepnote_cell_type": "text-cell-h3"
   },
   "source": [
    "### Execute Hyperparameter search"
   ],
   "block_group": "df0da39a99ac424997e15f3b6df3a25d"
  },
  {
   "cell_type": "code",
   "metadata": {
    "allow_embed": false,
    "source_hash": null,
    "execution_start": 1711933681497,
    "execution_millis": 16534785,
    "deepnote_to_be_reexecuted": false,
    "cell_id": "461889d7e26f4302bc71f69e8a9adfeb",
    "deepnote_cell_type": "code"
   },
   "source": [
    "# Instantiate Neptune instance\n",
    "run = neptune.init_run(\n",
    "    name=\"HistGradientBoosting Reg South East Asia and Australia\",\n",
    "    tags=[\"HistGradientBoosting\", \"regression\", \"hyperopt\", \"MAE\", \"South East Asia and Australia\", \"SEAA\"],\n",
    "    description=\"HistGradientBoosting Hyperopt with MAE on South East Asia and Australia\"\n",
    ")\n",
    "\n",
    "# Create the Trials object\n",
    "SEAA_trials = Trials()\n",
    "\n",
    "# Create the fmin object\n",
    "SEAA_best_hyperparams = fmin(fn = objective,\n",
    "                            space = space,\n",
    "                            algo = tpe.suggest,\n",
    "                            max_evals = 1000,\n",
    "                            trials = SEAA_trials,\n",
    "                            show_progressbar=True,\n",
    "                            early_stop_fn=no_progress_loss(100))\n",
    "\n",
    "# Stop Neptune instance\n",
    "run.stop()\n",
    "\n",
    "SEAA_best_trial = SEAA_trials.best_trial\n",
    "SEAA_best_hps = SEAA_best_hyperparams.copy()\n",
    "\n",
    "SEAA_best_hps['max_iter'] = int(SEAA_best_hps['max_iter'])\n",
    "SEAA_best_hps['min_samples_leaf'] = int(SEAA_best_hps['min_samples_leaf'])\n",
    "SEAA_best_hps['max_leaf_nodes'] = int(SEAA_best_hps['max_leaf_nodes'])"
   ],
   "block_group": "b3ce289555a342078b8854ab5a577ff0",
   "execution_count": null,
   "outputs": [],
   "outputs_reference": "dbtable:cell_outputs/75032a56-c6ea-4d3b-86b7-5fe93e1644a2"
  },
  {
   "cell_type": "markdown",
   "metadata": {
    "formattedRanges": [],
    "cell_id": "114fccd505984da19f23669bb8e8aee5",
    "deepnote_cell_type": "text-cell-h3"
   },
   "source": [
    "### Review the Hyperparameter Search Validation MAE Scores and Hyperparameters"
   ],
   "block_group": "872d9797753c43cb9ea0aac9295f236b"
  },
  {
   "cell_type": "code",
   "metadata": {
    "allow_embed": false,
    "source_hash": null,
    "execution_start": 1711950216286,
    "execution_millis": 37,
    "deepnote_to_be_reexecuted": false,
    "cell_id": "e5a03d8260894301ab3a83ad083a22af",
    "deepnote_cell_type": "code"
   },
   "source": [
    "# What's the best trial from the search? Report the MAE & StdDev\n",
    "print(f\"Best Mean Absolute Error: {SEAA_trials.best_trial['result']['loss']:.4f}\")\n",
    "print(f\"Best Standard Error: {SEAA_trials.best_trial['result']['std']:.4f}\")"
   ],
   "block_group": "fd46e183b105449c82b6966a3161785f",
   "execution_count": null,
   "outputs": [],
   "outputs_reference": "dbtable:cell_outputs/e638456d-5132-478d-970e-2e73d1ef098c"
  },
  {
   "cell_type": "code",
   "metadata": {
    "allow_embed": false,
    "source_hash": null,
    "execution_start": 1711950216289,
    "execution_millis": 34,
    "deepnote_to_be_reexecuted": false,
    "cell_id": "31efd57b8c25455da8a3714bf2faf7dd",
    "deepnote_cell_type": "code"
   },
   "source": [
    "# Display the best hyperparameters\n",
    "SEAA_best_hps"
   ],
   "block_group": "c9fe859c0c0c4df99b6aca669ed43e3b",
   "execution_count": null,
   "outputs": [],
   "outputs_reference": "dbtable:cell_outputs/90de8282-8fbb-4f3d-9951-9d5c8c4b0b09"
  },
  {
   "cell_type": "markdown",
   "metadata": {
    "formattedRanges": [],
    "cell_id": "3349de9acd3648108ff05249cb3ddb40",
    "deepnote_cell_type": "text-cell-h2"
   },
   "source": [
    "## Recreate the model and get new MAE and Feature Importance"
   ],
   "block_group": "e369fe5d08df4bc8bc3637c0b156625a"
  },
  {
   "cell_type": "code",
   "metadata": {
    "allow_embed": false,
    "source_hash": null,
    "execution_start": 1711950216293,
    "execution_millis": 12939,
    "deepnote_to_be_reexecuted": false,
    "cell_id": "36da65d7ab654a47bb67e2c0ff9d9b5f",
    "deepnote_cell_type": "code"
   },
   "source": [
    "# Recreate the model with the best hyperparameters\n",
    "SEAA_model = model_score(SEAA_best_hps, holdout=True, val=True)\n",
    "\n",
    "# Plot the feature importance\n",
    "# HistGradientBoosting does not have feature importance vars"
   ],
   "block_group": "c5c82f407c184f76948bacfcc0f1478b",
   "execution_count": null,
   "outputs": [],
   "outputs_reference": "dbtable:cell_outputs/22e5994c-756f-45cf-a284-36c805b5b347"
  },
  {
   "cell_type": "markdown",
   "metadata": {
    "is_collapsed": false,
    "formattedRanges": [],
    "deepnote_app_block_visible": false,
    "cell_id": "5c8f5a82bae443e4aa145733c4133944",
    "deepnote_cell_type": "text-cell-h2"
   },
   "source": [
    "## Feature Ablation"
   ],
   "block_group": "d9a9481de5f54ec2a6e306f3023ac159"
  },
  {
   "cell_type": "code",
   "metadata": {
    "allow_embed": false,
    "source_hash": null,
    "execution_start": 1711950229236,
    "execution_millis": 506167,
    "deepnote_to_be_reexecuted": false,
    "cell_id": "782f7873a0e14a10a048b588891a289a",
    "deepnote_cell_type": "code"
   },
   "source": [
    "%%time\n",
    "# First run through the feature ablation process\n",
    "# This will determine which features can potentially be removed\n",
    "SEAA_feature_ablation_df, SEAA_baseline_mae_val, SEAA_baseline_mae_train = feat_ablation(\n",
    "    model=SEAA_model, hps=SEAA_best_hps, \n",
    "    Xtt=X_train_trans, ytt=y_train_trans, \n",
    "    Xvt=X_val_trans, yvt=y_val_trans, \n",
    "    Xht=X_holdout_trans, yht=y_holdout_trans)"
   ],
   "block_group": "8347e696994342b79295873e6e8eea83",
   "execution_count": null,
   "outputs": [],
   "outputs_reference": "dbtable:cell_outputs/c7bdf356-e685-40eb-8f32-141ff51c73d8"
  },
  {
   "cell_type": "code",
   "metadata": {
    "allow_embed": false,
    "source_hash": null,
    "execution_start": 1711950735406,
    "execution_millis": 190,
    "deepnote_table_state": {
     "sortBy": [
      {
       "id": "Val_MAE_Change",
       "type": "desc"
      }
     ],
     "filters": [],
     "pageSize": 25,
     "pageIndex": 0
    },
    "deepnote_table_loading": false,
    "deepnote_to_be_reexecuted": false,
    "cell_id": "8fa5552ed9644ad29e0f40eb8ac87658",
    "deepnote_cell_type": "code"
   },
   "source": [
    "# Show the feature ablation dataframe, sorted by the change in MAE to Validation data\n",
    "SEAA_feature_ablation_df.sort_values('Val_MAE_Change', ascending=False)"
   ],
   "block_group": "624745dcf51c4b7cb8a4f882ab2fcb62",
   "execution_count": null,
   "outputs": [],
   "outputs_reference": "s3:deepnote-cell-outputs-production/72a6a0e7-48bc-4059-b883-671d71e8e0c2"
  },
  {
   "cell_type": "code",
   "metadata": {
    "allow_embed": false,
    "source_hash": null,
    "execution_start": 1711950735449,
    "execution_millis": 350,
    "deepnote_to_be_reexecuted": false,
    "cell_id": "0f62da198676489b92697b342e56b85c",
    "deepnote_cell_type": "code"
   },
   "source": [
    "# Generate the top 5 features to use in feature ablation combinations\n",
    "SEAA_abl_list_to_combo = SEAA_feature_ablation_df[SEAA_feature_ablation_df['Val_MAE'] <= SEAA_baseline_mae_val].sort_values('Val_MAE_Change', ascending=False)['Removed_Feature'].head(5).to_list()\n",
    "\n",
    "# Review the list\n",
    "SEAA_abl_list_to_combo"
   ],
   "block_group": "f9f68d95c6424277b4b637b6bd3d3b96",
   "execution_count": null,
   "outputs": [],
   "outputs_reference": "dbtable:cell_outputs/aebd959b-8cf8-4cca-a325-3790d8f998cc"
  },
  {
   "cell_type": "code",
   "metadata": {
    "allow_embed": false,
    "source_hash": null,
    "execution_start": 1711950735450,
    "execution_millis": 1817064,
    "deepnote_to_be_reexecuted": false,
    "cell_id": "5b85ea663ec04ed3865cd480dcd03f7a",
    "deepnote_cell_type": "code"
   },
   "source": [
    "%%time\n",
    "# Second run through the feature ablation process\n",
    "# This time including the top 5 features whose removal decreased the MAE\n",
    "# These top 5 features will be combined using itertools\n",
    "SEAA_feature_ablation_df, SEAA_baseline_mae_val, SEAA_baseline_mae_train = feat_ablation(\n",
    "    model=SEAA_model, hps=SEAA_best_hps, \n",
    "    Xtt=X_train_trans, ytt=y_train_trans, \n",
    "    Xvt=X_val_trans, yvt=y_val_trans, \n",
    "    Xht=X_holdout_trans, yht=y_holdout_trans, \n",
    "    abl_list_to_combo=SEAA_abl_list_to_combo)"
   ],
   "block_group": "7aecb9616931456e9083fcb8d8353b16",
   "execution_count": null,
   "outputs": [],
   "outputs_reference": "dbtable:cell_outputs/fb7f6aae-99b5-4b80-85b2-499cddf5cfac"
  },
  {
   "cell_type": "code",
   "metadata": {
    "allow_embed": false,
    "source_hash": null,
    "execution_start": 1711952552517,
    "execution_millis": 173,
    "deepnote_table_state": {
     "sortBy": [
      {
       "id": "Val_MAE_Change",
       "type": "asc"
      }
     ],
     "filters": [],
     "pageSize": 10,
     "pageIndex": 0
    },
    "deepnote_table_loading": false,
    "deepnote_to_be_reexecuted": false,
    "cell_id": "a3b13b9db59c4c4688d4cc77bb2f550e",
    "deepnote_cell_type": "code"
   },
   "source": [
    "# Show the feature ablation dataframe, sorted by the change in MAE to Validation data\n",
    "SEAA_feature_ablation_df[SEAA_feature_ablation_df['Val_MAE'] <= SEAA_baseline_mae_val].sort_values('Val_MAE_Change', ascending=False)"
   ],
   "block_group": "159962259d324ce8a5cc9c4d185ddbb5",
   "execution_count": null,
   "outputs": [],
   "outputs_reference": "s3:deepnote-cell-outputs-production/8dcbf470-fafb-4150-bd3d-86e7cd32aea8"
  },
  {
   "cell_type": "code",
   "metadata": {
    "allow_embed": false,
    "source_hash": null,
    "execution_start": 1711952552558,
    "execution_millis": 267,
    "deepnote_to_be_reexecuted": false,
    "cell_id": "7f9c437f98ee49579b56530ba25be063",
    "deepnote_cell_type": "code"
   },
   "source": [
    "# Show the top 1 feature, which we'll remove.  Might be multiple features, so we split the string\n",
    "SEAA_feature_ablation_df[SEAA_feature_ablation_df['Val_MAE'] <= SEAA_baseline_mae_val].sort_values('Val_MAE_Change', ascending=False)['Removed_Feature'].head(1).values[0].split(', ')"
   ],
   "block_group": "a92985f843fb48d2b7e4d9361a57df12",
   "execution_count": null,
   "outputs": [],
   "outputs_reference": "dbtable:cell_outputs/6388b68b-92a6-4f0c-a9cd-51c94a203bd0"
  },
  {
   "cell_type": "code",
   "metadata": {
    "allow_embed": false,
    "source_hash": null,
    "execution_start": 1711952552559,
    "execution_millis": 36150,
    "deepnote_to_be_reexecuted": false,
    "cell_id": "1dd89148db7e4bee92b5a00da43aeb3d",
    "deepnote_cell_type": "code"
   },
   "source": [
    "# Define the top features to drop\n",
    "SEAA_drop_cols = SEAA_feature_ablation_df[SEAA_feature_ablation_df['Val_MAE'] <= SEAA_baseline_mae_val].sort_values('Val_MAE_Change', ascending=False)['Removed_Feature'].head(1).values[0].split(', ')\n",
    "\n",
    "# Create the feature columns list for saving out\n",
    "SEAA_feat_columns = X_train_trans.drop(columns=SEAA_drop_cols).columns.to_list()\n",
    "\n",
    "# Recreate the model with the dropped columns\n",
    "# It should have a lower MAE score than the original\n",
    "SEAA_experiment_model = model_score(\n",
    "    SEAA_best_hps, val=True, \n",
    "    Xtt=X_train_trans.drop(columns=SEAA_drop_cols), ytt=y_train_trans, \n",
    "    Xvt=X_val_trans.drop(columns=SEAA_drop_cols), yvt=y_val_trans, \n",
    "    Xht=X_holdout_trans.drop(columns=SEAA_drop_cols), yht=y_holdout_trans)\n",
    "\n",
    "# Plot the feature importance for this model\n",
    "# HistGradientBoosting does not have feature importance vars"
   ],
   "block_group": "c5dbe7c2c21b480e860e9c78dd969be2",
   "execution_count": null,
   "outputs": [],
   "outputs_reference": "dbtable:cell_outputs/cb47afc8-0508-40d1-9599-4b05eb1f2b04"
  },
  {
   "cell_type": "markdown",
   "metadata": {
    "formattedRanges": [],
    "cell_id": "a0c4d86d24f140fe9d3a16054175362f",
    "deepnote_cell_type": "text-cell-h3"
   },
   "source": [
    "### Output the Model, Trials, Parameters and Feature List to disk"
   ],
   "block_group": "c25d9529059e488ab7a48c1fd8ffba4a"
  },
  {
   "cell_type": "code",
   "metadata": {
    "allow_embed": false,
    "source_hash": null,
    "execution_start": 1711952588711,
    "execution_millis": 1093,
    "deepnote_to_be_reexecuted": false,
    "cell_id": "355f643fc3ca47f6b8ad571f7430096f",
    "deepnote_cell_type": "code"
   },
   "source": [
    "# Write out the model artifacts to disk\n",
    "write_out(model=SEAA_model, trials=SEAA_trials, params=SEAA_best_hps, feat_cols=SEAA_feat_columns, location_name='SEAA')"
   ],
   "block_group": "f219c4dc92074d4a933b1070a253ff81",
   "execution_count": null,
   "outputs": [],
   "outputs_reference": null
  },
  {
   "cell_type": "markdown",
   "metadata": {
    "is_collapsed": false,
    "formattedRanges": [],
    "deepnote_app_block_visible": false,
    "cell_id": "e6288684a77c4f2a9beaa8e710c6b91d",
    "deepnote_cell_type": "text-cell-h2"
   },
   "source": [
    "## Review Holdout Truth vs Predictions"
   ],
   "block_group": "447d79d82f0f4ab885a152003698d89e"
  },
  {
   "cell_type": "code",
   "metadata": {
    "allow_embed": false,
    "source_hash": null,
    "execution_start": 1711952589808,
    "execution_millis": 40,
    "deepnote_to_be_reexecuted": false,
    "cell_id": "f9394240db93448e9e295639006e5784",
    "deepnote_cell_type": "code"
   },
   "source": [
    "eval_df = y_val_trans.copy(deep=True)\n",
    "SEAA_val_pred = SEAA_model.predict(X_val_trans)\n",
    "eval_df['predictions'] = SEAA_val_pred.tolist()\n",
    "eval_df['diff'] = eval_df['y_val'] - eval_df['predictions']"
   ],
   "block_group": "546b1c3bc72a4eaf9fb55114186e5b6e",
   "execution_count": null,
   "outputs": [],
   "outputs_reference": null
  },
  {
   "cell_type": "code",
   "metadata": {
    "allow_embed": false,
    "source_hash": null,
    "execution_start": 1711952589839,
    "execution_millis": 192,
    "deepnote_to_be_reexecuted": false,
    "cell_id": "d5a0894f48d1475b8d9b2fbecba4251a",
    "deepnote_cell_type": "code"
   },
   "source": [
    "eval_df.sort_values(by='diff', ascending=False).head(20)"
   ],
   "block_group": "6022961bb2734057b33f05de2285a0d1",
   "execution_count": null,
   "outputs": [],
   "outputs_reference": "s3:deepnote-cell-outputs-production/5e662010-808a-4397-a588-62180a422c57"
  },
  {
   "cell_type": "code",
   "metadata": {
    "allow_embed": false,
    "source_hash": null,
    "execution_start": 1711952589851,
    "execution_millis": 574,
    "deepnote_to_be_reexecuted": false,
    "cell_id": "224f194b7cec43b49309851983201ec2",
    "deepnote_cell_type": "code"
   },
   "source": [
    "fig = px.histogram(eval_df[eval_df['y_val'] > 5], x='diff', nbins=100, title='Distribution of the diff between prediction and holdout where true value > 5')\n",
    "\n",
    "# Show the plot\n",
    "fig.show()"
   ],
   "block_group": "9a11553a73b14acaa05e7d6b6c05eebe",
   "execution_count": null,
   "outputs": [],
   "outputs_reference": "s3:deepnote-cell-outputs-production/46b29508-aa33-4214-bede-756a3f7c0f16"
  },
  {
   "cell_type": "code",
   "metadata": {
    "allow_embed": false,
    "source_hash": null,
    "execution_start": 1711952589879,
    "execution_millis": 546,
    "deepnote_table_state": {
     "sortBy": [],
     "filters": [],
     "pageSize": 10,
     "pageIndex": 3
    },
    "deepnote_table_loading": false,
    "deepnote_to_be_reexecuted": false,
    "cell_id": "80331c4b630341ccb419dd04504c8453",
    "deepnote_cell_type": "code"
   },
   "source": [
    "#eval_df[(eval_df['diff'].between(-5,5))]\n",
    "#eval_df[(eval_df['diff'].between(-5,5)) & (eval_df['y_val'] > 5)]\n",
    "eval_df[~(eval_df['diff'].between(-5,5))]\n"
   ],
   "block_group": "90d8f7a3d5424ab68d7f8e74cb5c280d",
   "execution_count": null,
   "outputs": [],
   "outputs_reference": "s3:deepnote-cell-outputs-production/84ba58ac-b78c-4287-81d8-1d5f735ad00a"
  },
  {
   "cell_type": "markdown",
   "metadata": {
    "formattedRanges": [],
    "cell_id": "e8ba9ed108374a34bba8a1725e24829c",
    "deepnote_cell_type": "text-cell-h2"
   },
   "source": [
    "## SHAP Analysis"
   ],
   "block_group": "1a48ac9a830b47f5b1ea7782af14e4a9"
  },
  {
   "cell_type": "markdown",
   "metadata": {
    "formattedRanges": [],
    "cell_id": "ccde6c4a56304a4b8a4d87dba78a960e",
    "deepnote_cell_type": "text-cell-h3"
   },
   "source": [
    "### Create SHAP Objects"
   ],
   "block_group": "ae48355f01664c9a8d89107f0a22b66e"
  },
  {
   "cell_type": "code",
   "metadata": {
    "allow_embed": false,
    "source_hash": null,
    "execution_start": 1711952589963,
    "execution_millis": 463,
    "deepnote_to_be_reexecuted": false,
    "cell_id": "4a68aa9a22e3477f8dee562a09a7553a",
    "deepnote_cell_type": "code"
   },
   "source": [
    "%%time\n",
    "# SEAA_X_val_trans = X_val_trans.copy(deep=True)\n",
    "# SEAA_y_val_trans = y_val_trans.copy(deep=True)\n",
    "# explainer = shap.TreeExplainer(SEAA_model)\n",
    "# shap_values = explainer(SEAA_X_val_trans)\n",
    "# shap_interaction = explainer.shap_interaction_values(SEAA_X_val_trans)\n",
    "# sv = explainer.shap_values(SEAA_X_val_trans)\n",
    "# shap.initjs()"
   ],
   "block_group": "64e8cb9efe5b451aa5e93c2d51259afb",
   "execution_count": null,
   "outputs": [],
   "outputs_reference": "dbtable:cell_outputs/0273b7cd-f8df-4425-87fc-393466b38f52"
  },
  {
   "cell_type": "code",
   "metadata": {
    "allow_embed": false,
    "source_hash": null,
    "execution_start": 1711952589963,
    "execution_millis": 463,
    "deepnote_to_be_reexecuted": false,
    "cell_id": "e77ffa86d4cc49e98ffd60ff14c21eb6",
    "deepnote_cell_type": "code"
   },
   "source": [
    "# Beeswarm Importance\n",
    "# plt.figure(figsize=(8,6))\n",
    "# plt.title(f\"SHAP Beeswarm Analysis\")\n",
    "# shap.plots.beeswarm(shap_values, max_display=32)\n",
    "# plt.close()"
   ],
   "block_group": "3a88eb20d9c64823a76adef51c186864",
   "execution_count": null,
   "outputs": [],
   "outputs_reference": null
  },
  {
   "cell_type": "markdown",
   "metadata": {
    "formattedRanges": [],
    "cell_id": "57ca0bafcfeb4178a60dd604b26ffc81",
    "deepnote_cell_type": "text-cell-h3"
   },
   "source": [
    "### Investigate Individual Predictions"
   ],
   "block_group": "da32583c077a4dd0bed7c9b6dafa0168"
  },
  {
   "cell_type": "code",
   "metadata": {
    "allow_embed": false,
    "source_hash": null,
    "execution_start": 1711952589964,
    "execution_millis": 462,
    "deepnote_to_be_reexecuted": false,
    "cell_id": "5a5d79b4557a4a2ea500ac9158db2b17",
    "deepnote_cell_type": "code"
   },
   "source": [
    "#investigate = SEAA_X_val_trans.index.get_loc(5809)\n",
    "# print(SEAA_y_val_trans.iloc[investigate])"
   ],
   "block_group": "3acda7e0d4fe484b878674325e976389",
   "execution_count": null,
   "outputs": [],
   "outputs_reference": null
  },
  {
   "cell_type": "code",
   "metadata": {
    "allow_embed": false,
    "source_hash": null,
    "execution_start": 1711952589965,
    "execution_millis": 462,
    "deepnote_to_be_reexecuted": false,
    "cell_id": "07d47a32731e4c95bebef69001f1fd9c",
    "deepnote_cell_type": "code"
   },
   "source": [
    "# Waterfall on a prediction\n",
    "# plt.figure(figsize=(8,6))\n",
    "# shap.plots.waterfall(shap_values[investigate], max_display=20) # , show=False\n",
    "# plt.close()"
   ],
   "block_group": "92a1dd8a5c8b4ba59e7cf70195441812",
   "execution_count": null,
   "outputs": [],
   "outputs_reference": null
  },
  {
   "cell_type": "code",
   "metadata": {
    "allow_embed": false,
    "source_hash": null,
    "execution_start": 1711952589968,
    "execution_millis": 459,
    "deepnote_to_be_reexecuted": false,
    "cell_id": "fcc9b3ca84bc4f98a23eb84038c1c2ec",
    "deepnote_cell_type": "code"
   },
   "source": [
    "# Decision plot on a prediction\n",
    "# shap.decision_plot(explainer.expected_value, explainer.shap_values(SEAA_X_val_trans)[investigate], SEAA_X_val_trans, feature_display_range=slice(-1,-51,-1))"
   ],
   "block_group": "22e1bc5c7d8c4735a69e946fa6b51244",
   "execution_count": null,
   "outputs": [],
   "outputs_reference": null
  },
  {
   "cell_type": "markdown",
   "metadata": {
    "is_collapsed": false,
    "formattedRanges": [],
    "deepnote_app_block_visible": false,
    "cell_id": "0d720a40907047beaeabc823ca56b4c5",
    "deepnote_cell_type": "text-cell-h1"
   },
   "source": [
    "# Global Region"
   ],
   "block_group": "a584de73603b49d793ecacc93e374f80"
  },
  {
   "cell_type": "markdown",
   "metadata": {
    "formattedRanges": [],
    "cell_id": "98fc1352a8a8417fabce4818e1bb91e0",
    "deepnote_cell_type": "text-cell-h2"
   },
   "source": [
    "## Import the Data"
   ],
   "block_group": "86d0ec526fb34672a3d9f3a03e15f879"
  },
  {
   "cell_type": "code",
   "metadata": {
    "allow_embed": false,
    "source_hash": null,
    "execution_start": 1711952589972,
    "execution_millis": 1366,
    "deepnote_to_be_reexecuted": false,
    "cell_id": "e3c8c665edb544f0a74ba9168a81b730",
    "deepnote_cell_type": "code"
   },
   "source": [
    "X_train_trans, X_val_trans, X_holdout_trans, y_train_trans, y_val_trans, y_holdout_trans = import_data(location_name='GLOB')"
   ],
   "block_group": "e1e21d891a3e4f338e25963369e65d8a",
   "execution_count": null,
   "outputs": [],
   "outputs_reference": null
  },
  {
   "cell_type": "markdown",
   "metadata": {
    "is_collapsed": false,
    "formattedRanges": [],
    "deepnote_app_block_visible": false,
    "cell_id": "c8792d1e93e84b46afa051103dda2b2a",
    "deepnote_cell_type": "text-cell-h2"
   },
   "source": [
    "## Hyperparameter Tuning"
   ],
   "block_group": "3efdc3d0ddf24a72b73df049b596c786"
  },
  {
   "cell_type": "markdown",
   "metadata": {
    "formattedRanges": [],
    "cell_id": "31374ce7a4714627aecc0b490f044e83",
    "deepnote_cell_type": "text-cell-h3"
   },
   "source": [
    "### Execute Hyperparameter search"
   ],
   "block_group": "dc944e390b4a4d04bbd2384f35c7340c"
  },
  {
   "cell_type": "code",
   "metadata": {
    "allow_embed": false,
    "source_hash": null,
    "execution_start": 1711952591342,
    "execution_millis": 19326207,
    "deepnote_to_be_reexecuted": false,
    "cell_id": "f9018d142e084a35b88cc6961893ce98",
    "deepnote_cell_type": "code"
   },
   "source": [
    "# Instantiate Neptune instance\n",
    "run = neptune.init_run(\n",
    "    name=\"HistGradientBoosting Reg Global\",\n",
    "    tags=[\"HistGradientBoosting\", \"regression\", \"hyperopt\", \"MAE\", \"Global\", \"GLOB\"],\n",
    "    description=\"HistGradientBoosting Hyperopt with MAE on Global\"\n",
    ")\n",
    "\n",
    "# Create the Trials object\n",
    "GLOB_trials = Trials()\n",
    "\n",
    "# Create the fmin object\n",
    "GLOB_best_hyperparams = fmin(fn = objective,\n",
    "                            space = space,\n",
    "                            algo = tpe.suggest,\n",
    "                            max_evals = 1000,\n",
    "                            trials = GLOB_trials,\n",
    "                            show_progressbar=True,\n",
    "                            early_stop_fn=no_progress_loss(100))\n",
    "\n",
    "# Stop Neptune instance\n",
    "run.stop()\n",
    "\n",
    "GLOB_best_trial = GLOB_trials.best_trial\n",
    "GLOB_best_hps = GLOB_best_hyperparams.copy()\n",
    "\n",
    "GLOB_best_hps['max_iter'] = int(GLOB_best_hps['max_iter'])\n",
    "GLOB_best_hps['min_samples_leaf'] = int(GLOB_best_hps['min_samples_leaf'])\n",
    "GLOB_best_hps['max_leaf_nodes'] = int(GLOB_best_hps['max_leaf_nodes'])"
   ],
   "block_group": "1776510bdd99442f9874cf103d702222",
   "execution_count": null,
   "outputs": [],
   "outputs_reference": "dbtable:cell_outputs/afb6100f-4049-4b61-82e4-5f2007ae844e"
  },
  {
   "cell_type": "markdown",
   "metadata": {
    "formattedRanges": [],
    "cell_id": "f2143cf0ec694296a00d38c8459f9e26",
    "deepnote_cell_type": "text-cell-h3"
   },
   "source": [
    "### Review the Hyperparameter Search Validation MAE Scores and Hyperparameters"
   ],
   "block_group": "61bd6e2c8fc140d68614dfb1e60c48ef"
  },
  {
   "cell_type": "code",
   "metadata": {
    "allow_embed": false,
    "source_hash": null,
    "execution_start": 1711971917552,
    "execution_millis": 212,
    "deepnote_to_be_reexecuted": false,
    "cell_id": "2d26600af5094005b71e57a154140954",
    "deepnote_cell_type": "code"
   },
   "source": [
    "# What's the best trial from the search? Report the MAE & StdDev\n",
    "print(f\"Best Mean Absolute Error: {GLOB_trials.best_trial['result']['loss']:.4f}\")\n",
    "print(f\"Best Standard Error: {GLOB_trials.best_trial['result']['std']:.4f}\")"
   ],
   "block_group": "e056d40a802b4357b990a30e43cdba4f",
   "execution_count": null,
   "outputs": [],
   "outputs_reference": "dbtable:cell_outputs/9cdd6c09-d630-4dae-b262-f3e921113f0b"
  },
  {
   "cell_type": "code",
   "metadata": {
    "allow_embed": false,
    "source_hash": null,
    "execution_start": 1711971917555,
    "execution_millis": 210,
    "deepnote_to_be_reexecuted": false,
    "cell_id": "4204b33ce5b7469ab8a0779671df2c04",
    "deepnote_cell_type": "code"
   },
   "source": [
    "# Display the best hyperparameters\n",
    "GLOB_best_hps"
   ],
   "block_group": "aa716addc1694e019c0d428c08dceb6d",
   "execution_count": null,
   "outputs": [],
   "outputs_reference": "dbtable:cell_outputs/e9a0fa2b-7091-4715-8a13-315fd2670ee8"
  },
  {
   "cell_type": "markdown",
   "metadata": {
    "formattedRanges": [],
    "cell_id": "511fbfc3e05c489e99b2046aea42e764",
    "deepnote_cell_type": "text-cell-h2"
   },
   "source": [
    "## Recreate the model and get new MAE and Feature Importance"
   ],
   "block_group": "912fbbad7199497894979b7dc1b61e97"
  },
  {
   "cell_type": "code",
   "metadata": {
    "allow_embed": false,
    "source_hash": null,
    "execution_start": 1711971917560,
    "execution_millis": 61695,
    "deepnote_to_be_reexecuted": false,
    "cell_id": "464478b6ff484830999e37a29da00bfc",
    "deepnote_cell_type": "code"
   },
   "source": [
    "# Recreate the model with the best hyperparameters\n",
    "GLOB_model = model_score(GLOB_best_hps, holdout=True, val=True)\n",
    "\n",
    "# Plot the feature importance\n",
    "# HistGradientBoosting does not have feature importance vars"
   ],
   "block_group": "5120b378df9e4f43a834a2c3bb6e083e",
   "execution_count": null,
   "outputs": [],
   "outputs_reference": "dbtable:cell_outputs/42a10317-3893-42fc-b9fc-b0ea949b2cdb"
  },
  {
   "cell_type": "markdown",
   "metadata": {
    "is_collapsed": false,
    "formattedRanges": [],
    "deepnote_app_block_visible": false,
    "cell_id": "afa684700c254c94acc228e4a8935816",
    "deepnote_cell_type": "text-cell-h2"
   },
   "source": [
    "## Feature Ablation"
   ],
   "block_group": "c1fad2cc29234ec8a11e4d9e1085ade3"
  },
  {
   "cell_type": "code",
   "metadata": {
    "allow_embed": false,
    "source_hash": null,
    "execution_start": 1711971979258,
    "execution_millis": 792416,
    "deepnote_to_be_reexecuted": false,
    "cell_id": "11666bb02cfc4935910a1619bd9b14f8",
    "deepnote_cell_type": "code"
   },
   "source": [
    "%%time\n",
    "# First run through the feature ablation process\n",
    "# This will determine which features can potentially be removed\n",
    "GLOB_feature_ablation_df, GLOB_baseline_mae_val, GLOB_baseline_mae_train = feat_ablation(\n",
    "    model=GLOB_model, hps=GLOB_best_hps, \n",
    "    Xtt=X_train_trans, ytt=y_train_trans, \n",
    "    Xvt=X_val_trans, yvt=y_val_trans, \n",
    "    Xht=X_holdout_trans, yht=y_holdout_trans)"
   ],
   "block_group": "8b92f836a63c425eb9f8d4826498cf20",
   "execution_count": null,
   "outputs": [],
   "outputs_reference": "dbtable:cell_outputs/4cb55130-9f95-4c76-98a8-36f6381edbc1"
  },
  {
   "cell_type": "code",
   "metadata": {
    "allow_embed": false,
    "source_hash": null,
    "execution_start": 1711972771677,
    "execution_millis": 361,
    "deepnote_to_be_reexecuted": false,
    "cell_id": "fe98434788834c57a85bfa029b822f46",
    "deepnote_cell_type": "code"
   },
   "source": [
    "# Show the feature ablation dataframe, sorted by the change in MAE to Validation data\n",
    "GLOB_feature_ablation_df.sort_values('Val_MAE_Change', ascending=False)"
   ],
   "block_group": "4392e5db898c4499bc7943bbad5cc728",
   "execution_count": null,
   "outputs": [],
   "outputs_reference": "s3:deepnote-cell-outputs-production/10b8ceb4-3ffa-496e-90ac-a399ff2bee5e"
  },
  {
   "cell_type": "code",
   "metadata": {
    "allow_embed": false,
    "source_hash": null,
    "execution_start": 1711972771721,
    "execution_millis": 432,
    "deepnote_to_be_reexecuted": false,
    "cell_id": "03f961b5f44f4ce1a88ad7dbf34bdbd0",
    "deepnote_cell_type": "code"
   },
   "source": [
    "# Generate the top 5 features to use in feature ablation combinations\n",
    "GLOB_abl_list_to_combo = GLOB_feature_ablation_df[GLOB_feature_ablation_df['Val_MAE'] <= GLOB_baseline_mae_val].sort_values('Val_MAE_Change', ascending=False)['Removed_Feature'].head(5).to_list()\n",
    "\n",
    "# Review the list\n",
    "GLOB_abl_list_to_combo"
   ],
   "block_group": "83d0ed212ee6466198b0179ba9269cf1",
   "execution_count": null,
   "outputs": [],
   "outputs_reference": "dbtable:cell_outputs/9b0e1422-af05-42ab-a11d-5dd386215468"
  },
  {
   "cell_type": "code",
   "metadata": {
    "allow_embed": false,
    "source_hash": null,
    "execution_start": 1711972771722,
    "execution_millis": 880677,
    "deepnote_to_be_reexecuted": false,
    "cell_id": "11b6df70005a4d5ab61bd62f00902e36",
    "deepnote_cell_type": "code"
   },
   "source": [
    "%%time\n",
    "# Second run through the feature ablation process\n",
    "# This time including the top 5 features whose removal decreased the MAE\n",
    "# These top 5 features will be combined using itertools\n",
    "GLOB_feature_ablation_df, GLOB_baseline_mae_val, GLOB_baseline_mae_train = feat_ablation(\n",
    "    model=GLOB_model, hps=GLOB_best_hps, \n",
    "    Xtt=X_train_trans, ytt=y_train_trans, \n",
    "    Xvt=X_val_trans, yvt=y_val_trans, \n",
    "    Xht=X_holdout_trans, yht=y_holdout_trans, \n",
    "    abl_list_to_combo=GLOB_abl_list_to_combo)"
   ],
   "block_group": "f200bd7659614ef28c3116ecc05440df",
   "execution_count": null,
   "outputs": [],
   "outputs_reference": "dbtable:cell_outputs/a9561beb-ff7c-4604-8731-7217eed1fa49"
  },
  {
   "cell_type": "code",
   "metadata": {
    "allow_embed": false,
    "source_hash": null,
    "execution_start": 1711973652404,
    "execution_millis": 402,
    "deepnote_to_be_reexecuted": false,
    "cell_id": "07aee57809f94438a2f4c7fc53437693",
    "deepnote_cell_type": "code"
   },
   "source": [
    "# Show the feature ablation dataframe, sorted by the change in MAE to Validation data\n",
    "GLOB_feature_ablation_df[GLOB_feature_ablation_df['Val_MAE'] <= GLOB_baseline_mae_val].sort_values('Val_MAE_Change', ascending=False)"
   ],
   "block_group": "5cc95ff33bdd4888a0f7d9781d0e2d86",
   "execution_count": null,
   "outputs": [],
   "outputs_reference": "s3:deepnote-cell-outputs-production/d07f8364-4461-467c-95af-3b806490d653"
  },
  {
   "cell_type": "code",
   "metadata": {
    "allow_embed": false,
    "source_hash": null,
    "execution_start": 1711973652456,
    "execution_millis": 350,
    "deepnote_to_be_reexecuted": false,
    "cell_id": "264f1c19f00b494a91f63e4587425bb1",
    "deepnote_cell_type": "code"
   },
   "source": [
    "# Show the top 1 feature, which we'll remove.  Might be multiple features, so we split the string\n",
    "GLOB_feature_ablation_df[GLOB_feature_ablation_df['Val_MAE'] <= GLOB_baseline_mae_val].sort_values('Val_MAE_Change', ascending=False)['Removed_Feature'].head(1).values[0].split(', ')"
   ],
   "block_group": "bc1fc3195edd4a08b46c864a07fd3ae4",
   "execution_count": null,
   "outputs": [],
   "outputs_reference": "dbtable:cell_outputs/f0a56da5-5af1-4bf5-be28-77847576edff"
  },
  {
   "cell_type": "code",
   "metadata": {
    "allow_embed": false,
    "source_hash": null,
    "execution_start": 1711973652457,
    "execution_millis": 71486,
    "deepnote_to_be_reexecuted": false,
    "cell_id": "939f3a40eec4438e803d0b7c5c9ed0d7",
    "deepnote_cell_type": "code"
   },
   "source": [
    "# Define the top features to drop\n",
    "GLOB_drop_cols = GLOB_feature_ablation_df[GLOB_feature_ablation_df['Val_MAE'] <= GLOB_baseline_mae_val].sort_values('Val_MAE_Change', ascending=False)['Removed_Feature'].head(1).values[0].split(', ')\n",
    "\n",
    "# Create the feature columns list for saving out\n",
    "GLOB_feat_columns = X_train_trans.drop(columns=GLOB_drop_cols).columns.to_list()\n",
    "\n",
    "# Recreate the model with the dropped columns\n",
    "# It should have a lower MAE score than the original\n",
    "GLOB_experiment_model = model_score(\n",
    "    GLOB_best_hps, val=True, \n",
    "    Xtt=X_train_trans.drop(columns=GLOB_drop_cols), ytt=y_train_trans, \n",
    "    Xvt=X_val_trans.drop(columns=GLOB_drop_cols), yvt=y_val_trans, \n",
    "    Xht=X_holdout_trans.drop(columns=GLOB_drop_cols), yht=y_holdout_trans)\n",
    "\n",
    "# Plot the feature importance for this model\n",
    "# HistGradientBoosting does not have feature importance vars"
   ],
   "block_group": "9313c375d98f4879a358467e3ce6819e",
   "execution_count": null,
   "outputs": [],
   "outputs_reference": "dbtable:cell_outputs/2440037f-b987-4235-b7b2-2b02c5463261"
  },
  {
   "cell_type": "markdown",
   "metadata": {
    "formattedRanges": [],
    "cell_id": "6c537faac18a4084b769ee51589e2bd1",
    "deepnote_cell_type": "text-cell-h3"
   },
   "source": [
    "### Output the Model, Trials, Parameters and Feature List to disk"
   ],
   "block_group": "b9eac4ea455b48b58740c9b83e92f6d0"
  },
  {
   "cell_type": "code",
   "metadata": {
    "allow_embed": false,
    "source_hash": null,
    "execution_start": 1711973723946,
    "execution_millis": 1520,
    "deepnote_to_be_reexecuted": false,
    "cell_id": "e639b6fd499b447f9c197a62e82c7bcc",
    "deepnote_cell_type": "code"
   },
   "source": [
    "# Write out the model artifacts to disk\n",
    "write_out(model=GLOB_model, trials=GLOB_trials, params=GLOB_best_hps, feat_cols=GLOB_feat_columns, location_name='GLOB')"
   ],
   "block_group": "89b3dbc9af16406bbbcc033c58e90ea3",
   "execution_count": null,
   "outputs": [],
   "outputs_reference": null
  },
  {
   "cell_type": "markdown",
   "metadata": {
    "is_collapsed": false,
    "formattedRanges": [],
    "deepnote_app_block_visible": false,
    "cell_id": "5b83f46656eb4bd5ad8bb7905ed94ba8",
    "deepnote_cell_type": "text-cell-h2"
   },
   "source": [
    "## Review Holdout Truth vs Predictions"
   ],
   "block_group": "704832f69a18426db2be350dc8185126"
  },
  {
   "cell_type": "code",
   "metadata": {
    "allow_embed": false,
    "source_hash": null,
    "execution_start": 1711973725469,
    "execution_millis": 233,
    "deepnote_to_be_reexecuted": false,
    "cell_id": "530d5d4ec795489593ba9a239018b071",
    "deepnote_cell_type": "code"
   },
   "source": [
    "eval_df = y_val_trans.copy(deep=True)\n",
    "GLOB_val_pred = GLOB_model.predict(X_val_trans)\n",
    "eval_df['predictions'] = GLOB_val_pred.tolist()\n",
    "eval_df['diff'] = eval_df['y_val'] - eval_df['predictions']"
   ],
   "block_group": "23d196f97dd8434eb11ebb78ba065de5",
   "execution_count": null,
   "outputs": [],
   "outputs_reference": null
  },
  {
   "cell_type": "code",
   "metadata": {
    "allow_embed": false,
    "source_hash": null,
    "execution_start": 1711973725707,
    "execution_millis": 359,
    "deepnote_to_be_reexecuted": false,
    "cell_id": "58723122a4c24e2da9f49a572d3a6d89",
    "deepnote_cell_type": "code"
   },
   "source": [
    "eval_df.sort_values(by='diff', ascending=False).head(20)"
   ],
   "block_group": "292c87623efe4fdface5afb5e22498ba",
   "execution_count": null,
   "outputs": [],
   "outputs_reference": "s3:deepnote-cell-outputs-production/40fea2f3-5a5c-45ae-b072-6836e808dae7"
  },
  {
   "cell_type": "code",
   "metadata": {
    "allow_embed": false,
    "source_hash": null,
    "execution_start": 1711973725716,
    "execution_millis": 866,
    "deepnote_to_be_reexecuted": false,
    "cell_id": "6d4364e74b374389962690344822c40c",
    "deepnote_cell_type": "code"
   },
   "source": [
    "fig = px.histogram(eval_df[eval_df['y_val'] > 5], x='diff', nbins=100, title='Distribution of the diff between prediction and holdout where true value > 5')\n",
    "\n",
    "# Show the plot\n",
    "fig.show()"
   ],
   "block_group": "c5b4d3b362b64db3a5943f75eed89d58",
   "execution_count": null,
   "outputs": [],
   "outputs_reference": "s3:deepnote-cell-outputs-production/fa8f21ef-9858-43b9-b9a2-8b16d365e462"
  },
  {
   "cell_type": "code",
   "metadata": {
    "allow_embed": false,
    "source_hash": null,
    "execution_start": 1711973725751,
    "execution_millis": 832,
    "deepnote_table_state": {
     "sortBy": [],
     "filters": [],
     "pageSize": 10,
     "pageIndex": 1
    },
    "deepnote_table_loading": false,
    "deepnote_to_be_reexecuted": false,
    "cell_id": "7aa173dacfb74f54998dd25817bea7aa",
    "deepnote_cell_type": "code"
   },
   "source": [
    "#eval_df[(eval_df['diff'].between(-5,5))]\n",
    "#eval_df[(eval_df['diff'].between(-5,5)) & (eval_df['y_val'] > 5)]\n",
    "eval_df[~(eval_df['diff'].between(-5,5))]\n"
   ],
   "block_group": "d71da7be0b1d46dfb11cdbd40a6653a2",
   "execution_count": null,
   "outputs": [],
   "outputs_reference": "s3:deepnote-cell-outputs-production/d5bdedf6-8d63-4869-bd76-457f45705298"
  },
  {
   "cell_type": "markdown",
   "metadata": {
    "formattedRanges": [],
    "cell_id": "1b6dbb9b245f428b8a70957e10a70723",
    "deepnote_cell_type": "text-cell-h2"
   },
   "source": [
    "## SHAP Analysis"
   ],
   "block_group": "8a1c191d1c0241aa8b6bc891e2f182c7"
  },
  {
   "cell_type": "markdown",
   "metadata": {
    "formattedRanges": [],
    "cell_id": "13cb93dd28b5486dbb3c9421daddc7e0",
    "deepnote_cell_type": "text-cell-h3"
   },
   "source": [
    "### Create SHAP Objects"
   ],
   "block_group": "05972dcfef08491d885afeb4efe53e2f"
  },
  {
   "cell_type": "code",
   "metadata": {
    "allow_embed": false,
    "source_hash": null,
    "execution_start": 1711973725866,
    "execution_millis": 717,
    "deepnote_to_be_reexecuted": false,
    "cell_id": "421f1267fe13452fbdb875fc8636aa18",
    "deepnote_cell_type": "code"
   },
   "source": [
    "# %%time\n",
    "# GLOB_X_val_trans = X_val_trans.copy(deep=True)\n",
    "# GLOB_y_val_trans = y_val_trans.copy(deep=True)\n",
    "# explainer = shap.TreeExplainer(GLOB_model)\n",
    "# shap_values = explainer(GLOB_X_val_trans)\n",
    "# shap_interaction = explainer.shap_interaction_values(GLOB_X_val_trans)\n",
    "# sv = explainer.shap_values(GLOB_X_val_trans)\n",
    "# shap.initjs()"
   ],
   "block_group": "9285dde16cf841b18e19256342c657da",
   "execution_count": null,
   "outputs": [],
   "outputs_reference": null
  },
  {
   "cell_type": "code",
   "metadata": {
    "allow_embed": false,
    "source_hash": null,
    "execution_start": 1711973725879,
    "execution_millis": 705,
    "deepnote_to_be_reexecuted": false,
    "cell_id": "1022aaa5cfa94f3aa3d3444312885ff3",
    "deepnote_cell_type": "code"
   },
   "source": [
    "# Beeswarm Importance\n",
    "# plt.figure(figsize=(8,6))\n",
    "# plt.title(f\"SHAP Beeswarm Analysis\")\n",
    "# shap.plots.beeswarm(shap_values, max_display=32)\n",
    "# plt.close()"
   ],
   "block_group": "a19de9f41044416fbcd6ccc21fc1236d",
   "execution_count": null,
   "outputs": [],
   "outputs_reference": null
  },
  {
   "cell_type": "markdown",
   "metadata": {
    "formattedRanges": [],
    "cell_id": "c3127b1123d2423ba17f567fa0732676",
    "deepnote_cell_type": "text-cell-h3"
   },
   "source": [
    "### Investigate Individual Predictions"
   ],
   "block_group": "903c99806bc6476c9bc100199682144a"
  },
  {
   "cell_type": "code",
   "metadata": {
    "allow_embed": false,
    "source_hash": null,
    "execution_start": 1711973725880,
    "execution_millis": 704,
    "deepnote_to_be_reexecuted": false,
    "cell_id": "068b108f25d24166aaf0fe428e495dcd",
    "deepnote_cell_type": "code"
   },
   "source": [
    "#investigate = GLOB_X_val_trans.index.get_loc(5809)\n",
    "# print(GLOB_y_val_trans.iloc[investigate])"
   ],
   "block_group": "1a8264ccffb6433e9a2fb2c64afe1065",
   "execution_count": null,
   "outputs": [],
   "outputs_reference": null
  },
  {
   "cell_type": "code",
   "metadata": {
    "allow_embed": false,
    "source_hash": null,
    "execution_start": 1711973725881,
    "execution_millis": 704,
    "deepnote_to_be_reexecuted": false,
    "cell_id": "c9fc9ddec18e4a409002dee2cdf3551b",
    "deepnote_cell_type": "code"
   },
   "source": [
    "# Waterfall on a prediction\n",
    "# plt.figure(figsize=(8,6))\n",
    "# shap.plots.waterfall(shap_values[investigate], max_display=20) # , show=False\n",
    "# plt.close()"
   ],
   "block_group": "0d5041f6dd0b44eb9ef8db6b48a14a86",
   "execution_count": null,
   "outputs": [],
   "outputs_reference": null
  },
  {
   "cell_type": "code",
   "metadata": {
    "allow_embed": false,
    "source_hash": null,
    "execution_start": 1711973725884,
    "execution_millis": 701,
    "deepnote_to_be_reexecuted": false,
    "cell_id": "c8c66969e32c498d8fb1f582656af483",
    "deepnote_cell_type": "code"
   },
   "source": [
    "# Decision plot on a prediction\n",
    "# shap.decision_plot(explainer.expected_value, explainer.shap_values(GLOB_X_val_trans)[investigate], GLOB_X_val_trans, feature_display_range=slice(-1,-51,-1))"
   ],
   "block_group": "04e394adeb624ea59d44136900e2b8df",
   "execution_count": null,
   "outputs": [],
   "outputs_reference": null
  }
 ],
 "nbformat": 4,
 "nbformat_minor": 0,
 "metadata": {
  "deepnote_notebook_id": "9f8d48761a45454fb4cd4be9e6421c8f",
  "deepnote_execution_queue": []
 }
}
