{
 "cells": [
  {
   "cell_type": "markdown",
   "metadata": {
    "is_collapsed": false,
    "formattedRanges": [],
    "deepnote_app_block_visible": false,
    "cell_id": "c1d34d8c1c0f4d5baa483215bf37388f",
    "deepnote_cell_type": "text-cell-h1"
   },
   "source": [
    "# Data Splitting"
   ],
   "block_group": "864022fe28ff4d21bf7f1c97df9155a9"
  },
  {
   "cell_type": "markdown",
   "metadata": {
    "formattedRanges": [],
    "cell_id": "0d62f07cf4114d9591167065a650b84d",
    "deepnote_cell_type": "text-cell-h2"
   },
   "source": [
    "## Notebook Setup"
   ],
   "block_group": "270ef3619d3f43fe9c015c30108680bc"
  },
  {
   "cell_type": "code",
   "metadata": {
    "source_hash": null,
    "execution_start": 1711494498174,
    "execution_millis": 632,
    "deepnote_to_be_reexecuted": false,
    "cell_id": "5efd412fccc84433836118f656d17030",
    "deepnote_cell_type": "code"
   },
   "source": [
    "import pandas as pd\n",
    "import numpy as np\n",
    "from sklearn.model_selection import train_test_split, GroupShuffleSplit\n",
    "import matplotlib.pyplot as plt\n",
    "import seaborn as sns"
   ],
   "block_group": "5efd412fccc84433836118f656d17030",
   "execution_count": null,
   "outputs": [],
   "outputs_reference": null
  },
  {
   "cell_type": "code",
   "metadata": {
    "source_hash": null,
    "execution_start": 1711494498809,
    "execution_millis": 22,
    "deepnote_to_be_reexecuted": false,
    "cell_id": "e05fb93da2314f1ab8c34d05c97d7b56",
    "deepnote_cell_type": "code"
   },
   "source": [
    "pd.set_option('mode.chained_assignment', None)\n",
    "pd.options.display.float_format = '{:.2f}'.format\n",
    "pd.options.display.max_columns = None\n",
    "pd.options.display.max_rows = None\n",
    "\n",
    "# Ignore Warnings\n",
    "import warnings\n",
    "warnings.simplefilter('ignore', category=FutureWarning)\n",
    "warnings.simplefilter('ignore', category=UserWarning)"
   ],
   "block_group": "ae379283b2954ab5a620923e3967f422",
   "execution_count": null,
   "outputs": [],
   "outputs_reference": null
  },
  {
   "cell_type": "markdown",
   "metadata": {
    "formattedRanges": [],
    "cell_id": "5322335a4e5e4256ae596125fe6a9301",
    "deepnote_cell_type": "text-cell-h2"
   },
   "source": [
    "## Import Data"
   ],
   "block_group": "4a6c94d722934be698dba13f08d7f7e4"
  },
  {
   "cell_type": "code",
   "metadata": {
    "source_hash": null,
    "execution_start": 1711494499668,
    "execution_millis": 697,
    "deepnote_to_be_reexecuted": false,
    "cell_id": "aa1dfc8e205248a88d6add76574c1980",
    "deepnote_cell_type": "code"
   },
   "source": [
    "gcb = pd.read_parquet(\"/work/data/Global_Coral_Bleaching_DB/gcb_v4.parquet\")\n",
    "#gcb_class = pd.read_parquet(\"/work/data/Global_Coral_Bleaching_DB/gcb_v5.parquet\")"
   ],
   "block_group": "72c530da5c5e487aa87f0efab345835e",
   "execution_count": null,
   "outputs": [],
   "outputs_reference": null
  },
  {
   "cell_type": "markdown",
   "metadata": {
    "formattedRanges": [],
    "cell_id": "6496b3352e294a6ca375e07091302b3b",
    "deepnote_cell_type": "text-cell-h2"
   },
   "source": [
    "## Drop Imputed Bleaching Data, Non-Hard Coral Data, and Measurements pre-1998"
   ],
   "block_group": "39339a0d790f4bd5b3665b7d5b2f8aae"
  },
  {
   "cell_type": "code",
   "metadata": {
    "source_hash": null,
    "execution_start": 1711494501249,
    "execution_millis": 124,
    "deepnote_to_be_reexecuted": false,
    "cell_id": "63bbd0079999415e82d6713a897a68dd",
    "deepnote_cell_type": "code"
   },
   "source": [
    "gcb= gcb[(gcb[\"Substrate_Name\"] == \"Hard Coral\")]\n",
    "gcb = gcb[gcb[\"Bleached_Value_Imputed\"] == False]\n",
    "gcb = gcb[gcb[\"Year\"] >= 1998]"
   ],
   "block_group": "3bb19de128914998ad1b31bf2f391ee5",
   "execution_count": null,
   "outputs": [],
   "outputs_reference": null
  },
  {
   "cell_type": "markdown",
   "metadata": {
    "formattedRanges": [],
    "cell_id": "52dbac7c23294a4bb7f6cda6151e2a34",
    "deepnote_cell_type": "text-cell-h2"
   },
   "source": [
    "## Drop Data Leakage Columns"
   ],
   "block_group": "df817b40e9fb4eaa86d81eede3efb3ff"
  },
  {
   "cell_type": "code",
   "metadata": {
    "source_hash": null,
    "execution_start": 1711494502847,
    "execution_millis": 103,
    "deepnote_to_be_reexecuted": false,
    "cell_id": "8efe19ed637440778129ddaccf8a31e0",
    "deepnote_cell_type": "code"
   },
   "source": [
    "gcb.drop(columns=['S1','S2','S3','S4','Bleaching_Level','Bleaching_Prevalence_Score',\n",
    "                  'Severity_ID','Severity_Code','Bleaching_Prevalence_Score_ID',\n",
    "                  'Percent_Bleached'], inplace=True)\n",
    "\n",
    "# gcb_class.drop(columns=['S1','S2','S3','S4','Bleaching_Level','Bleaching_Prevalence_Score',\n",
    "#                   'Severity_ID','Severity_Code','Bleaching_Prevalence_Score_ID',\n",
    "#                   'Percent_Bleached','Percent_Bleached_Value'], inplace=True)"
   ],
   "block_group": "1e9e85bce79c4b3fbc64bcea4c9eca5c",
   "execution_count": null,
   "outputs": [],
   "outputs_reference": null
  },
  {
   "cell_type": "markdown",
   "metadata": {
    "formattedRanges": [],
    "cell_id": "ec57b83232914720b2be82741ddb83f1",
    "deepnote_cell_type": "text-cell-h2"
   },
   "source": [
    "## Perform Split"
   ],
   "block_group": "19b00fa492a44bfc9e7f0875416a0d45"
  },
  {
   "cell_type": "code",
   "metadata": {
    "source_hash": null,
    "execution_start": 1711494504881,
    "execution_millis": 80,
    "deepnote_to_be_reexecuted": false,
    "cell_id": "489700258feb474fb0d14c3d4154efa5",
    "deepnote_cell_type": "code"
   },
   "source": [
    "SEAA_PROVINCE = ['Western Coral Triangle', 'Eastern Coral Triangle', 'Sunda Shelf', 'Tropical Southwestern Pacific',\n",
    "                 'Northeast Australian Shelf', 'Sahul Shelf', 'South China Sea', 'Andaman', 'Java Transitional']\n",
    "\n",
    "CARB_PROVINCE = ['Tropical Northwestern Atlantic']"
   ],
   "block_group": "8d5e15da72494909a9a5b4a139dc4084",
   "execution_count": null,
   "outputs": [],
   "outputs_reference": null
  },
  {
   "cell_type": "code",
   "metadata": {
    "source_hash": null,
    "execution_start": 1711494506932,
    "execution_millis": 36,
    "deepnote_to_be_reexecuted": false,
    "cell_id": "6685a9943f504068b173c525a0d621b8",
    "deepnote_cell_type": "code"
   },
   "source": [
    "SEAA = gcb[gcb['PROVINCE'].isin(SEAA_PROVINCE)]\n",
    "CARB = gcb[gcb['PROVINCE'].isin(CARB_PROVINCE)]"
   ],
   "block_group": "f2c38857035447cca4a482648220eea9",
   "execution_count": null,
   "outputs": [],
   "outputs_reference": null
  },
  {
   "cell_type": "code",
   "metadata": {
    "source_hash": null,
    "execution_start": 1711494508041,
    "execution_millis": 31,
    "deepnote_to_be_reexecuted": false,
    "cell_id": "013e4255f71449268fe033e611671fcc",
    "deepnote_cell_type": "code"
   },
   "source": [
    "# Group split that ensures all observations for a site are in only one split to prevent data leakage\n",
    "# gss = GroupShuffleSplit(n_splits=split_size, train_size=tr_size, random_state=rand_state)\n",
    "# for train_idx, holdout_idx in gss.split(gcb, groups=gcb.Site_ID):\n",
    "#     train_df = gcb.iloc[train_idx]\n",
    "#     holdout_df = gcb.iloc[holdout_idx]\n",
    "    # train_df_class = gcb_class.iloc[train_idx]\n",
    "    # holdout_df_class = gcb_class.iloc[holdout_idx]\n",
    "rand_state = 42\n",
    "tr_size = 0.7\n",
    "val_size = 0.2\n",
    "split_size = 1\n",
    "\n",
    "def custom_shuffle_split(df, tr_size, val_size, rand_state):\n",
    "    # Shuffle the data\n",
    "    shuffled_data = df.sample(frac=1, random_state=rand_state)\n",
    "\n",
    "    # Split shuffled data into train, validation, and test sets\n",
    "    train_df, remaining_data = train_test_split(shuffled_data, train_size=tr_size, random_state=rand_state)\n",
    "    holdout_df, val_df = train_test_split(remaining_data, test_size=val_size/(1-tr_size), random_state=rand_state)\n",
    "\n",
    "    return train_df, val_df, holdout_df"
   ],
   "block_group": "e998be6b4b394651ae86db4231530b23",
   "execution_count": null,
   "outputs": [],
   "outputs_reference": null
  },
  {
   "cell_type": "code",
   "metadata": {
    "source_hash": null,
    "execution_start": 1711494509749,
    "execution_millis": 60,
    "deepnote_to_be_reexecuted": false,
    "cell_id": "a461325f6f5746f1aeb521d9924369b8",
    "deepnote_cell_type": "code"
   },
   "source": [
    "train_df_SEAA, val_df_SEAA, holdout_df_SEAA = custom_shuffle_split(SEAA, tr_size, val_size, rand_state)\n",
    "train_df_CARB, val_df_CARB, holdout_df_CARB = custom_shuffle_split(CARB, tr_size, val_size, rand_state)\n",
    "train_df_GLOB, val_df_GLOB, holdout_df_GLOB = custom_shuffle_split(gcb,  tr_size, val_size, rand_state)"
   ],
   "block_group": "9b5c8a581c0a41b08bdcfb9b10dd7a00",
   "execution_count": null,
   "outputs": [],
   "outputs_reference": null
  },
  {
   "cell_type": "markdown",
   "metadata": {
    "formattedRanges": [],
    "cell_id": "4415d0be92ca423da98fc1535e962055",
    "deepnote_cell_type": "text-cell-h2"
   },
   "source": [
    "## Validation of Distributions"
   ],
   "block_group": "18b4d94bebb54b6caae7c56acde94a7d"
  },
  {
   "cell_type": "code",
   "metadata": {
    "source_hash": null,
    "execution_start": 1711494511370,
    "execution_millis": 986,
    "deepnote_to_be_reexecuted": false,
    "cell_id": "eb76dc0721a147c1b5a3b57177330bf0",
    "deepnote_cell_type": "code"
   },
   "source": [
    "# Validate Depth\n",
    "\n",
    "fig, axes = plt.subplots(nrows=1, ncols=3, figsize=(12, 4))\n",
    "\n",
    "alpha = 0.05\n",
    "\n",
    "# Plot the SEAA data\n",
    "sns.kdeplot(train_df_SEAA['Depth_m'], color='b', shade=True, alpha=alpha, label='train', ax=axes[0])\n",
    "sns.kdeplot(val_df_SEAA['Depth_m'], color='g', shade=True, alpha=alpha, label='val', ax=axes[0])\n",
    "sns.kdeplot(holdout_df_SEAA['Depth_m'], color='r', shade=True, alpha=alpha, label='holdout', ax=axes[0])\n",
    "axes[0].set_title('SEAA_Depth')\n",
    "axes[0].legend()\n",
    "\n",
    "# Plot the CARB data\n",
    "sns.kdeplot(train_df_CARB['Depth_m'], color='b', shade=True, alpha=alpha, label='train', ax=axes[1])\n",
    "sns.kdeplot(val_df_CARB['Depth_m'], color='g', shade=True, alpha=alpha, label='val', ax=axes[1])\n",
    "sns.kdeplot(holdout_df_CARB['Depth_m'], color='r', shade=True, alpha=alpha, label='holdout', ax=axes[1])\n",
    "axes[1].set_title('CARB_Depth')\n",
    "axes[1].legend()\n",
    "\n",
    "# Plot the GLOB data\n",
    "sns.kdeplot(train_df_GLOB['Depth_m'], color='b', shade=True, alpha=alpha, label='train', ax=axes[2])\n",
    "sns.kdeplot(val_df_GLOB['Depth_m'], color='g', shade=True, alpha=alpha, label='val', ax=axes[2])\n",
    "sns.kdeplot(holdout_df_GLOB['Depth_m'], color='r', shade=True, alpha=alpha, label='holdout', ax=axes[2])\n",
    "axes[2].set_title('GLOB_Depth')\n",
    "axes[2].legend()\n",
    "\n",
    "plt.tight_layout()\n",
    "plt.show()"
   ],
   "block_group": "d9a0849a3d0243b7b1a9431cde216c49",
   "execution_count": null,
   "outputs": [],
   "outputs_reference": "s3:deepnote-cell-outputs-production/1ad3d14b-84da-4cfa-8a08-c9e5604ad9bb"
  },
  {
   "cell_type": "code",
   "metadata": {
    "source_hash": null,
    "execution_start": 1711494514144,
    "execution_millis": 1563,
    "deepnote_to_be_reexecuted": false,
    "cell_id": "8ed8493e96014148bae15b62c3afee3e",
    "deepnote_cell_type": "code"
   },
   "source": [
    "fig, axes = plt.subplots(nrows=2, ncols=3, figsize=(12, 6))\n",
    "\n",
    "alpha = 0.05\n",
    "\n",
    "# Plot the SEAA data -- Long\n",
    "sns.kdeplot(train_df_SEAA['Longitude_Degrees'], color='b', shade=True, alpha=alpha, label='train', ax=axes[0,0])\n",
    "sns.kdeplot(val_df_SEAA['Longitude_Degrees'], color='g', shade=True, alpha=alpha, label='val', ax=axes[0,0])\n",
    "sns.kdeplot(holdout_df_SEAA['Longitude_Degrees'], color='r', shade=True, alpha=alpha, label='holdout', ax=axes[0,0])\n",
    "axes[0,0].set_title('SEAA_Long')\n",
    "axes[0,0].legend()\n",
    "\n",
    "# Plot the CARB data -- Long\n",
    "sns.kdeplot(train_df_CARB['Longitude_Degrees'], color='b', shade=True, alpha=alpha, label='train', ax=axes[0,1])\n",
    "sns.kdeplot(val_df_CARB['Longitude_Degrees'], color='g', shade=True, alpha=alpha, label='val', ax=axes[0,1])\n",
    "sns.kdeplot(holdout_df_CARB['Longitude_Degrees'], color='r', shade=True, alpha=alpha, label='holdout', ax=axes[0,1])\n",
    "axes[0,1].set_title('CARB_Long')\n",
    "axes[0,1].legend()\n",
    "\n",
    "# Plot the GLOB data -- Long\n",
    "sns.kdeplot(train_df_GLOB['Longitude_Degrees'], color='b', shade=True, alpha=alpha, label='train', ax=axes[0,2])\n",
    "sns.kdeplot(val_df_GLOB['Longitude_Degrees'], color='g', shade=True, alpha=alpha, label='val', ax=axes[0,2])\n",
    "sns.kdeplot(holdout_df_GLOB['Longitude_Degrees'], color='r', shade=True, alpha=alpha, label='holdout', ax=axes[0,2])\n",
    "axes[0,2].set_title('GLOB_Long')\n",
    "axes[0,2].legend()\n",
    "\n",
    "# Plot the SEAA data -- Lat\n",
    "sns.kdeplot(train_df_SEAA['Latitude_Degrees'], color='b', shade=True, alpha=alpha, label='train', ax=axes[1,0])\n",
    "sns.kdeplot(val_df_SEAA['Latitude_Degrees'], color='g', shade=True, alpha=alpha, label='val', ax=axes[1,0])\n",
    "sns.kdeplot(holdout_df_SEAA['Latitude_Degrees'], color='r', shade=True, alpha=alpha, label='holdout', ax=axes[1,0])\n",
    "axes[1,0].set_title('SEAA_Lat')\n",
    "axes[1,0].legend()\n",
    "\n",
    "# Plot the CARB data -- Lat\n",
    "sns.kdeplot(train_df_CARB['Latitude_Degrees'], color='b', shade=True, alpha=alpha, label='train', ax=axes[1,1])\n",
    "sns.kdeplot(val_df_CARB['Latitude_Degrees'], color='g', shade=True, alpha=alpha, label='val', ax=axes[1,1])\n",
    "sns.kdeplot(holdout_df_CARB['Latitude_Degrees'], color='r', shade=True, alpha=alpha, label='holdout', ax=axes[1,1])\n",
    "axes[1,1].set_title('CARB_Lat')\n",
    "axes[1,1].legend()\n",
    "\n",
    "# Plot the GLOB data -- Lat\n",
    "sns.kdeplot(train_df_GLOB['Latitude_Degrees'], color='b', shade=True, alpha=alpha, label='train', ax=axes[1,2])\n",
    "sns.kdeplot(val_df_GLOB['Latitude_Degrees'], color='g', shade=True, alpha=alpha, label='val', ax=axes[1,2])\n",
    "sns.kdeplot(holdout_df_GLOB['Latitude_Degrees'], color='r', shade=True, alpha=alpha, label='holdout', ax=axes[1,2])\n",
    "axes[1,2].set_title('GLOB_Lat')\n",
    "axes[1,2].legend()\n",
    "\n",
    "plt.tight_layout()\n",
    "plt.show()"
   ],
   "block_group": "809d3e95ad774ba891f53a099dd4b003",
   "execution_count": null,
   "outputs": [],
   "outputs_reference": "s3:deepnote-cell-outputs-production/314f7fc2-ea6b-4c75-845a-279979be8750"
  },
  {
   "cell_type": "code",
   "metadata": {
    "source_hash": null,
    "execution_start": 1711494518107,
    "execution_millis": 1192,
    "deepnote_to_be_reexecuted": false,
    "cell_id": "2d2ffbd4795d4bee858e11d6ef954427",
    "deepnote_cell_type": "code"
   },
   "source": [
    "# Validate Time of Measurement\n",
    "\n",
    "## split by northern/southern hemisphere first, then month\n",
    "\n",
    "fig, axes = plt.subplots(nrows=3, ncols=3, figsize=(12, 12))\n",
    "\n",
    "frames = {'train_SEAA': train_df_SEAA, 'val_SEAA': val_df_SEAA, 'holdout_SEAA': holdout_df_SEAA,\n",
    "          'train_CARB': train_df_CARB, 'val_CARB': val_df_CARB, 'holdout_CARB': holdout_df_CARB,\n",
    "          'train_GLOB': train_df_GLOB, 'val_GLOB': val_df_GLOB, 'holdout_GLOB': holdout_df_GLOB}\n",
    "\n",
    "colors = ['blue', 'green', 'red']\n",
    "alpha = 0.3\n",
    "\n",
    "counter = 0\n",
    "for i in range(3):\n",
    "    for j in range(3):\n",
    "\n",
    "        df_name = list(frames.keys())[counter]\n",
    "        df = frames[df_name]\n",
    "        month_counts = df.groupby('Date_Month')['Date_Month'].count()\n",
    "        ax = sns.barplot(x=month_counts.index, y=month_counts.values, ax=axes[i, j], color=colors[i], alpha=alpha)\n",
    "        axes[i, j].set_title(df_name)\n",
    "\n",
    "        ax.set_xticks(range(len(month_counts.index)))\n",
    "        ax.set_xticklabels(month_counts.index.astype(int))\n",
    "        counter += 1\n",
    "\n",
    "plt.tight_layout()\n",
    "plt.show()"
   ],
   "block_group": "0b93b710937c4e4b94c8481751e284b1",
   "execution_count": null,
   "outputs": [],
   "outputs_reference": "s3:deepnote-cell-outputs-production/b62415c9-faed-4adb-9ea4-4a03d2b61a87"
  },
  {
   "cell_type": "markdown",
   "metadata": {
    "formattedRanges": [],
    "cell_id": "09d5a72ea65f422cb976addd1ce555a1",
    "deepnote_cell_type": "text-cell-h2"
   },
   "source": [
    "## Create X & y Training and Holdout DFs"
   ],
   "block_group": "509f24233b1b4f3c844f1ea685257392"
  },
  {
   "cell_type": "code",
   "metadata": {
    "source_hash": null,
    "execution_start": 1711494523509,
    "execution_millis": 22,
    "deepnote_to_be_reexecuted": false,
    "cell_id": "587193d9be0f4ed89cbbfbc917c69f3b",
    "deepnote_cell_type": "code"
   },
   "source": [
    "def X_y_split(train, val, holdout):\n",
    "    X_train = train.drop(columns='Percent_Bleached_Value')\n",
    "    y_train = train.Percent_Bleached_Value\n",
    "\n",
    "    X_val = val.drop(columns='Percent_Bleached_Value')\n",
    "    y_val = val.Percent_Bleached_Value\n",
    "\n",
    "    X_holdout = holdout.drop(columns='Percent_Bleached_Value')\n",
    "    y_holdout = holdout.Percent_Bleached_Value\n",
    "    return X_train, y_train, X_val, y_val, X_holdout, y_holdout\n",
    "\n",
    "X_train_SEAA, y_train_SEAA, X_val_SEAA, y_val_SEAA, X_holdout_SEAA, y_holdout_SEAA = X_y_split(train_df_SEAA, val_df_SEAA, holdout_df_SEAA)\n",
    "X_train_CARB, y_train_CARB, X_val_CARB, y_val_CARB, X_holdout_CARB, y_holdout_CARB = X_y_split(train_df_CARB, val_df_CARB, holdout_df_CARB)\n",
    "X_train_GLOB, y_train_GLOB, X_val_GLOB, y_val_GLOB, X_holdout_GLOB, y_holdout_GLOB = X_y_split(train_df_GLOB, val_df_GLOB, holdout_df_GLOB)\n",
    "\n",
    "\n",
    "# # Create X & y Training and Holdout DFs for Classification\n",
    "# X_train_class = train_df_class.drop(columns='Bleached_Class')\n",
    "# X_holdout_class = holdout_df_class.drop(columns='Bleached_Class')\n",
    "\n",
    "# y_train_class = train_df_class.Bleached_Class\n",
    "# y_holdout_class = holdout_df_class.Bleached_Class"
   ],
   "block_group": "984a340bd73f4541bfdeb179ac147a05",
   "execution_count": null,
   "outputs": [],
   "outputs_reference": null
  },
  {
   "cell_type": "code",
   "metadata": {
    "source_hash": null,
    "execution_start": 1711494524770,
    "execution_millis": 5081,
    "deepnote_to_be_reexecuted": false,
    "cell_id": "e97ed69a88e14b7abc3d01810a6ef97e",
    "deepnote_cell_type": "code"
   },
   "source": [
    "# Write out SEAA parquet files to DeepNote\n",
    "\n",
    "train_df_SEAA.to_parquet('/work/data/Xy_Data/train_df_SEAA.parquet')\n",
    "holdout_df_SEAA.to_parquet('/work/data/Xy_Data/holdout_df_SEAA.parquet')\n",
    "val_df_SEAA.to_parquet('/work/data/Xy_Data/val_df_SEAA.parquet')\n",
    "\n",
    "X_train_SEAA.to_parquet('/work/data/Xy_Data/X_train_SEAA.parquet')\n",
    "y_train_SEAA.to_frame('y_train').to_parquet('/work/data/Xy_Data/y_train_SEAA.parquet')\n",
    "X_val_SEAA.to_parquet('/work/data/Xy_Data/X_val_SEAA.parquet')\n",
    "y_val_SEAA.to_frame('y_val').to_parquet('/work/data/Xy_Data/y_val_SEAA.parquet')\n",
    "X_holdout_SEAA.to_parquet('/work/data/Xy_Data/X_holdout_SEAA.parquet')\n",
    "y_holdout_SEAA.to_frame('y_holdout').to_parquet('/work/data/Xy_Data/y_holdout_SEAA.parquet')\n"
   ],
   "block_group": "68cd0b2339c945dfbcd5900ce225d0d5",
   "execution_count": null,
   "outputs": [],
   "outputs_reference": null
  },
  {
   "cell_type": "code",
   "metadata": {
    "source_hash": null,
    "execution_start": 1711494531743,
    "execution_millis": 4624,
    "deepnote_to_be_reexecuted": false,
    "cell_id": "857d4d5d43574057b955ce3db4df6412",
    "deepnote_cell_type": "code"
   },
   "source": [
    "# Write out CARB parquet files to DeepNote\n",
    "\n",
    "train_df_CARB.to_parquet('/work/data/Xy_Data/train_df_CARB.parquet')\n",
    "holdout_df_CARB.to_parquet('/work/data/Xy_Data/holdout_df_CARB.parquet')\n",
    "val_df_CARB.to_parquet('/work/data/Xy_Data/val_df_CARB.parquet')\n",
    "\n",
    "X_train_CARB.to_parquet('/work/data/Xy_Data/X_train_CARB.parquet')\n",
    "y_train_CARB.to_frame('y_train').to_parquet('/work/data/Xy_Data/y_train_CARB.parquet')\n",
    "X_val_CARB.to_parquet('/work/data/Xy_Data/X_val_CARB.parquet')\n",
    "y_val_CARB.to_frame('y_val').to_parquet('/work/data/Xy_Data/y_val_CARB.parquet')\n",
    "X_holdout_CARB.to_parquet('/work/data/Xy_Data/X_holdout_CARB.parquet')\n",
    "y_holdout_CARB.to_frame('y_holdout').to_parquet('/work/data/Xy_Data/y_holdout_CARB.parquet')"
   ],
   "block_group": "274fc60115314db5bedfdf8994b06987",
   "execution_count": null,
   "outputs": [],
   "outputs_reference": null
  },
  {
   "cell_type": "code",
   "metadata": {
    "source_hash": null,
    "execution_start": 1711494539358,
    "execution_millis": 4773,
    "deepnote_to_be_reexecuted": false,
    "cell_id": "04cd5965d2ea461db6e5b5b2faeb1544",
    "deepnote_cell_type": "code"
   },
   "source": [
    "# Write out GLOB parquet files to DeepNote\n",
    "\n",
    "train_df_GLOB.to_parquet('/work/data/Xy_Data/train_df_GLOB.parquet')\n",
    "holdout_df_GLOB.to_parquet('/work/data/Xy_Data/holdout_df_GLOB.parquet')\n",
    "val_df_GLOB.to_parquet('/work/data/Xy_Data/val_df_GLOB.parquet')\n",
    "\n",
    "X_train_GLOB.to_parquet('/work/data/Xy_Data/X_train_GLOB.parquet')\n",
    "y_train_GLOB.to_frame('y_train').to_parquet('/work/data/Xy_Data/y_train_GLOB.parquet')\n",
    "X_val_GLOB.to_parquet('/work/data/Xy_Data/X_val_GLOB.parquet')\n",
    "y_val_GLOB.to_frame('y_val').to_parquet('/work/data/Xy_Data/y_val_GLOB.parquet')\n",
    "X_holdout_GLOB.to_parquet('/work/data/Xy_Data/X_holdout_GLOB.parquet')\n",
    "y_holdout_GLOB.to_frame('y_holdout').to_parquet('/work/data/Xy_Data/y_holdout_GLOB.parquet')\n"
   ],
   "block_group": "eb7c88b91c5e4c5e96728ff6973de28c",
   "execution_count": null,
   "outputs": [],
   "outputs_reference": null
  },
  {
   "cell_type": "code",
   "metadata": {
    "source_hash": null,
    "execution_start": 1711494544996,
    "execution_millis": 2099,
    "deepnote_to_be_reexecuted": false,
    "cell_id": "db437d3f9a3446dea47f641d9a20ef47",
    "deepnote_cell_type": "code"
   },
   "source": [
    "# Write out SEAA parquet files to S3\n",
    "\n",
    "train_df_SEAA.to_parquet('/datasets/s3/data/Xy_Data/train_df_SEAA.parquet')\n",
    "holdout_df_SEAA.to_parquet('/datasets/s3/data/Xy_Data/holdout_df_SEAA.parquet')\n",
    "val_df_SEAA.to_parquet('/datasets/s3/data/Xy_Data/val_df_SEAA.parquet')\n",
    "\n",
    "X_train_SEAA.to_parquet('/datasets/s3/data/Xy_Data/X_train_SEAA.parquet')\n",
    "y_train_SEAA.to_frame('y_train').to_parquet('/datasets/s3/data/Xy_Data/y_train_SEAA.parquet')\n",
    "X_val_SEAA.to_parquet('/datasets/s3/data/Xy_Data/X_val_SEAA.parquet')\n",
    "y_val_SEAA.to_frame('y_val').to_parquet('/datasets/s3/data/Xy_Data/y_val_SEAA.parquet')\n",
    "X_holdout_SEAA.to_parquet('/datasets/s3/data/Xy_Data/X_holdout_SEAA.parquet')\n",
    "y_holdout_SEAA.to_frame('y_holdout').to_parquet('/datasets/s3/data/Xy_Data/y_holdout_SEAA.parquet')\n"
   ],
   "block_group": "8de8fb7b3763452ba052ddd981600ade",
   "execution_count": null,
   "outputs": [],
   "outputs_reference": null
  },
  {
   "cell_type": "code",
   "metadata": {
    "allow_embed": false,
    "source_hash": null,
    "execution_start": 1711494547859,
    "execution_millis": 1921,
    "deepnote_to_be_reexecuted": false,
    "cell_id": "5f4ba71fd7e2418e898c110772e77130",
    "deepnote_cell_type": "code"
   },
   "source": [
    "# Write out CARB parquet files to S3\n",
    "\n",
    "train_df_CARB.to_parquet('/datasets/s3/data/Xy_Data/train_df_CARB.parquet')\n",
    "holdout_df_CARB.to_parquet('/datasets/s3/data/Xy_Data/holdout_df_CARB.parquet')\n",
    "val_df_CARB.to_parquet('/datasets/s3/data/Xy_Data/val_df_CARB.parquet')\n",
    "\n",
    "X_train_CARB.to_parquet('/datasets/s3/data/Xy_Data/X_train_CARB.parquet')\n",
    "y_train_CARB.to_frame('y_train').to_parquet('/datasets/s3/data/Xy_Data/y_train_CARB.parquet')\n",
    "X_val_CARB.to_parquet('/datasets/s3/data/Xy_Data/X_val_CARB.parquet')\n",
    "y_val_CARB.to_frame('y_val').to_parquet('/datasets/s3/data/Xy_Data/y_val_CARB.parquet')\n",
    "X_holdout_CARB.to_parquet('/datasets/s3/data/Xy_Data/X_holdout_CARB.parquet')\n",
    "y_holdout_CARB.to_frame('y_holdout').to_parquet('/datasets/s3/data/Xy_Data/y_holdout_CARB.parquet')"
   ],
   "block_group": "9e318803a3f34ab39b7d59ad881c29bd",
   "execution_count": null,
   "outputs": [],
   "outputs_reference": null
  },
  {
   "cell_type": "code",
   "metadata": {
    "source_hash": null,
    "execution_start": 1711494550470,
    "execution_millis": 2006,
    "deepnote_to_be_reexecuted": false,
    "cell_id": "f5e91b332ed34cb68381eefb47defd9d",
    "deepnote_cell_type": "code"
   },
   "source": [
    "# Write out GLOB parquet files to S3\n",
    "train_df_GLOB.to_parquet('/datasets/s3/data/Xy_Data/train_df_GLOB.parquet')\n",
    "holdout_df_GLOB.to_parquet('/datasets/s3/data/Xy_Data/holdout_df_GLOB.parquet')\n",
    "val_df_GLOB.to_parquet('/datasets/s3/data/Xy_Data/val_df_GLOB.parquet')\n",
    "\n",
    "X_train_GLOB.to_parquet('/datasets/s3/data/Xy_Data/X_train_GLOB.parquet')\n",
    "y_train_GLOB.to_frame('y_train').to_parquet('/datasets/s3/data/Xy_Data/y_train_GLOB.parquet')\n",
    "X_val_GLOB.to_parquet('/datasets/s3/data/Xy_Data/X_val_GLOB.parquet')\n",
    "y_val_GLOB.to_frame('y_val').to_parquet('/datasets/s3/data/Xy_Data/y_val_GLOB.parquet')\n",
    "X_holdout_GLOB.to_parquet('/datasets/s3/data/Xy_Data/X_holdout_GLOB.parquet')\n",
    "y_holdout_GLOB.to_frame('y_holdout').to_parquet('/datasets/s3/data/Xy_Data/y_holdout_GLOB.parquet')"
   ],
   "block_group": "e4380a5e9afb471ebe764c22875cab52",
   "execution_count": null,
   "outputs": [],
   "outputs_reference": null
  },
  {
   "cell_type": "code",
   "metadata": {
    "allow_embed": false,
    "source_hash": null,
    "execution_start": 1711494553292,
    "execution_millis": 78,
    "deepnote_to_be_reexecuted": false,
    "cell_id": "5059efe1202342cfaf97b6e9a78bf2db",
    "deepnote_cell_type": "code"
   },
   "source": [
    "# ## Write out parquet files for classification\n",
    "\n",
    "# # Write out parquet files to DeepNote\n",
    "# train_df_class.to_parquet('/work/data/Xy_Data/train_df_class.parquet')\n",
    "# holdout_df_class.to_parquet('/work/data/Xy_Data/holdout_df_class.parquet')\n",
    "\n",
    "# X_train_class.to_parquet('/work/data/Xy_Data/X_train_class.parquet')\n",
    "# y_train_class.to_frame('y_train_class').to_parquet('/work/data/Xy_Data/y_train_class.parquet')\n",
    "\n",
    "# X_holdout_class.to_parquet('/work/data/Xy_Data/X_holdout_class.parquet')\n",
    "# y_holdout_class.to_frame('y_holdout_class').to_parquet('/work/data/Xy_Data/y_holdout_class.parquet')\n",
    "\n",
    "# # Write out parquet files to S3\n",
    "# train_df_class.to_parquet('/datasets/s3/data/Xy_Data/train_df_class.parquet')\n",
    "# holdout_df_class.to_parquet('/datasets/s3/data/Xy_Data/holdout_df_class.parquet')\n",
    "\n",
    "# X_train_class.to_parquet('/datasets/s3/data/Xy_Data/X_train_class.parquet')\n",
    "# y_train_class.to_frame('y_train_class').to_parquet('/datasets/s3/data/Xy_Data/y_train_class.parquet')\n",
    "\n",
    "# X_holdout_class.to_parquet('/datasets/s3/data/Xy_Data/X_holdout_class.parquet')\n",
    "# y_holdout_class.to_frame('y_holdout_class').to_parquet('/datasets/s3/data/Xy_Data/y_holdout_class.parquet')"
   ],
   "block_group": "2edf36b5398a4792aff40f6354c660e9",
   "execution_count": null,
   "outputs": [],
   "outputs_reference": null
  }
 ],
 "nbformat": 4,
 "nbformat_minor": 0,
 "metadata": {
  "deepnote_persisted_session": {
   "createdAt": "2024-03-27T00:00:37.653Z"
  },
  "deepnote_notebook_id": "647fc98bc37b40eaa9e85dce2f4fddc8",
  "deepnote_execution_queue": []
 }
}
