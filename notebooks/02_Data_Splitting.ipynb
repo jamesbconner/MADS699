{
 "cells": [
  {
   "cell_type": "markdown",
   "metadata": {
    "cell_id": "c1d34d8c1c0f4d5baa483215bf37388f",
    "deepnote_app_block_visible": false,
    "deepnote_cell_type": "text-cell-h1",
    "formattedRanges": [],
    "is_collapsed": false
   },
   "source": [
    "# Data Splitting"
   ]
  },
  {
   "cell_type": "markdown",
   "metadata": {
    "cell_id": "0d62f07cf4114d9591167065a650b84d",
    "deepnote_cell_type": "text-cell-h2",
    "formattedRanges": []
   },
   "source": [
    "## Notebook Setup"
   ]
  },
  {
   "cell_type": "code",
   "execution_count": null,
   "metadata": {
    "ExecuteTime": {
     "end_time": "2024-04-06T21:36:48.782880700Z",
     "start_time": "2024-04-06T21:36:48.447635600Z"
    }
   },
   "outputs": [],
   "source": [
    "import pandas as pd\n",
    "import numpy as np\n",
    "from sklearn.model_selection import train_test_split, GroupShuffleSplit\n",
    "import matplotlib.pyplot as plt\n",
    "import seaborn as sns\n",
    "\n",
    "# Import custom functions\n",
    "import env_functions as ef\n",
    "import s3_functions as sf"
   ]
  },
  {
   "cell_type": "code",
   "execution_count": null,
   "metadata": {
    "ExecuteTime": {
     "end_time": "2024-04-06T21:36:50.754519800Z",
     "start_time": "2024-04-06T21:36:50.748998700Z"
    }
   },
   "outputs": [],
   "source": [
    "pd.set_option('mode.chained_assignment', None)\n",
    "pd.options.display.float_format = '{:.2f}'.format\n",
    "pd.options.display.max_columns = None\n",
    "pd.options.display.max_rows = None\n",
    "\n",
    "# Ignore Warnings\n",
    "import warnings\n",
    "warnings.simplefilter('ignore', category=FutureWarning)\n",
    "warnings.simplefilter('ignore', category=UserWarning)"
   ]
  },
  {
   "cell_type": "code",
   "execution_count": null,
   "metadata": {
    "ExecuteTime": {
     "end_time": "2024-04-06T21:36:51.214247100Z",
     "start_time": "2024-04-06T21:36:51.206048900Z"
    }
   },
   "outputs": [],
   "source": [
    "# Determine the environment and get appropriate vars\n",
    "deepnote, env_vars = ef.load_env_vars()\n",
    "\n",
    "# Iterate through the vars and set them as global vars\n",
    "for var_name, var in env_vars.items():\n",
    "    globals()[var_name] = var\n",
    "\n",
    "# If not in the DeepNote environment, create a dict for aws creds\n",
    "#   that were located in the environment file.  This will be passed\n",
    "#   to all aws s3 functions.\n",
    "if not deepnote:\n",
    "    aws_env_vars = {\n",
    "        'access_key_id': aws_access_key_id,\n",
    "        'secret_access_key': aws_secret_access_key,\n",
    "        'bucket_name': s3_bucket_name\n",
    "    }"
   ]
  },
  {
   "cell_type": "markdown",
   "metadata": {},
   "source": [
    "## Import Data"
   ]
  },
  {
   "cell_type": "code",
   "execution_count": null,
   "metadata": {
    "ExecuteTime": {
     "end_time": "2024-04-06T21:36:53.747446300Z",
     "start_time": "2024-04-06T21:36:52.879460200Z"
    }
   },
   "outputs": [],
   "source": [
    "if deepnote:\n",
    "    gcb = pd.read_parquet(\"/work/data/Global_Coral_Bleaching_DB/gcb_v4.parquet\")\n",
    "else:\n",
    "    gcb = pd.read_parquet(sf.load_from_s3(file_path=\"data/Global_Coral_Bleaching_DB/gcb_v4.parquet\", **aws_env_vars))"
   ]
  },
  {
   "cell_type": "markdown",
   "metadata": {},
   "source": [
    "## Drop Imputed Bleaching Data, Non-Hard Coral Data, and Measurements pre-1998"
   ]
  },
  {
   "cell_type": "code",
   "execution_count": null,
   "metadata": {
    "ExecuteTime": {
     "end_time": "2024-04-06T21:37:03.612162Z",
     "start_time": "2024-04-06T21:37:03.373185900Z"
    }
   },
   "outputs": [],
   "source": [
    "gcb= gcb[(gcb[\"Substrate_Name\"] == \"Hard Coral\")]\n",
    "gcb = gcb[gcb[\"Bleached_Value_Imputed\"] == False]\n",
    "gcb = gcb[gcb[\"Year\"] >= 1998]"
   ]
  },
  {
   "cell_type": "markdown",
   "metadata": {},
   "source": [
    "## Drop Data Leakage Columns"
   ]
  },
  {
   "cell_type": "code",
   "execution_count": null,
   "metadata": {
    "ExecuteTime": {
     "end_time": "2024-04-06T21:37:03.612669100Z",
     "start_time": "2024-04-06T21:37:03.405676900Z"
    }
   },
   "outputs": [],
   "source": [
    "gcb.drop(columns=['S1','S2','S3','S4','Bleaching_Level','Bleaching_Prevalence_Score',\n",
    "                  'Severity_ID','Severity_Code','Bleaching_Prevalence_Score_ID',\n",
    "                  'Percent_Bleached'], inplace=True)\n",
    "\n",
    "# gcb_class.drop(columns=['S1','S2','S3','S4','Bleaching_Level','Bleaching_Prevalence_Score',\n",
    "#                   'Severity_ID','Severity_Code','Bleaching_Prevalence_Score_ID',\n",
    "#                   'Percent_Bleached','Percent_Bleached_Value'], inplace=True)"
   ]
  },
  {
   "cell_type": "markdown",
   "metadata": {},
   "source": [
    "## Perform Split"
   ]
  },
  {
   "cell_type": "code",
   "execution_count": null,
   "metadata": {
    "ExecuteTime": {
     "end_time": "2024-04-06T21:37:03.612669100Z",
     "start_time": "2024-04-06T21:37:03.592436600Z"
    }
   },
   "outputs": [],
   "source": [
    "SEAA_PROVINCE = ['Western Coral Triangle', 'Eastern Coral Triangle', 'Sunda Shelf', 'Tropical Southwestern Pacific',\n",
    "                 'Northeast Australian Shelf', 'Sahul Shelf', 'South China Sea', 'Andaman', 'Java Transitional']\n",
    "\n",
    "CARB_PROVINCE = ['Tropical Northwestern Atlantic']"
   ]
  },
  {
   "cell_type": "code",
   "execution_count": null,
   "metadata": {
    "ExecuteTime": {
     "end_time": "2024-04-06T21:37:03.613675300Z",
     "start_time": "2024-04-06T21:37:03.593647500Z"
    }
   },
   "outputs": [],
   "source": [
    "SEAA = gcb[gcb['PROVINCE'].isin(SEAA_PROVINCE)]\n",
    "CARB = gcb[gcb['PROVINCE'].isin(CARB_PROVINCE)]"
   ]
  },
  {
   "cell_type": "code",
   "execution_count": null,
   "metadata": {
    "ExecuteTime": {
     "end_time": "2024-04-06T21:37:03.613675300Z",
     "start_time": "2024-04-06T21:37:03.593647500Z"
    }
   },
   "outputs": [],
   "source": [
    "# Group split that ensures all observations for a site are in only one split to prevent data leakage\n",
    "# gss = GroupShuffleSplit(n_splits=split_size, train_size=tr_size, random_state=rand_state)\n",
    "# for train_idx, holdout_idx in gss.split(gcb, groups=gcb.Site_ID):\n",
    "#     train_df = gcb.iloc[train_idx]\n",
    "#     holdout_df = gcb.iloc[holdout_idx]\n",
    "    # train_df_class = gcb_class.iloc[train_idx]\n",
    "    # holdout_df_class = gcb_class.iloc[holdout_idx]\n",
    "rand_state = 42\n",
    "tr_size = 0.7\n",
    "val_size = 0.2\n",
    "split_size = 1\n",
    "\n",
    "def custom_shuffle_split(df, tr_size, val_size, rand_state):\n",
    "    # Shuffle the data\n",
    "    shuffled_data = df.sample(frac=1, random_state=rand_state)\n",
    "\n",
    "    # Split shuffled data into train, validation, and test sets\n",
    "    train_df, remaining_data = train_test_split(shuffled_data, train_size=tr_size, random_state=rand_state)\n",
    "    holdout_df, val_df = train_test_split(remaining_data, test_size=val_size/(1-tr_size), random_state=rand_state)\n",
    "\n",
    "    return train_df, val_df, holdout_df"
   ]
  },
  {
   "cell_type": "code",
   "execution_count": null,
   "metadata": {
    "ExecuteTime": {
     "end_time": "2024-04-06T21:37:03.613675300Z",
     "start_time": "2024-04-06T21:37:03.593647500Z"
    }
   },
   "outputs": [],
   "source": [
    "train_df_SEAA, val_df_SEAA, holdout_df_SEAA = custom_shuffle_split(SEAA, tr_size, val_size, rand_state)\n",
    "train_df_CARB, val_df_CARB, holdout_df_CARB = custom_shuffle_split(CARB, tr_size, val_size, rand_state)\n",
    "train_df_GLOB, val_df_GLOB, holdout_df_GLOB = custom_shuffle_split(gcb,  tr_size, val_size, rand_state)"
   ]
  },
  {
   "cell_type": "markdown",
   "metadata": {},
   "source": [
    "## Validation of Distributions"
   ]
  },
  {
   "cell_type": "code",
   "execution_count": null,
   "metadata": {
    "ExecuteTime": {
     "end_time": "2024-04-06T21:37:04.482068100Z",
     "start_time": "2024-04-06T21:37:03.593647500Z"
    }
   },
   "outputs": [],
   "source": [
    "# Validate Depth\n",
    "\n",
    "fig, axes = plt.subplots(nrows=1, ncols=3, figsize=(12, 4))\n",
    "\n",
    "alpha = 0.05\n",
    "\n",
    "# Plot the SEAA data\n",
    "sns.kdeplot(train_df_SEAA['Depth_m'], color='b', shade=True, alpha=alpha, label='train', ax=axes[0])\n",
    "sns.kdeplot(val_df_SEAA['Depth_m'], color='g', shade=True, alpha=alpha, label='val', ax=axes[0])\n",
    "sns.kdeplot(holdout_df_SEAA['Depth_m'], color='r', shade=True, alpha=alpha, label='holdout', ax=axes[0])\n",
    "axes[0].set_title('SEAA_Depth')\n",
    "axes[0].legend()\n",
    "\n",
    "# Plot the CARB data\n",
    "sns.kdeplot(train_df_CARB['Depth_m'], color='b', shade=True, alpha=alpha, label='train', ax=axes[1])\n",
    "sns.kdeplot(val_df_CARB['Depth_m'], color='g', shade=True, alpha=alpha, label='val', ax=axes[1])\n",
    "sns.kdeplot(holdout_df_CARB['Depth_m'], color='r', shade=True, alpha=alpha, label='holdout', ax=axes[1])\n",
    "axes[1].set_title('CARB_Depth')\n",
    "axes[1].legend()\n",
    "\n",
    "# Plot the GLOB data\n",
    "sns.kdeplot(train_df_GLOB['Depth_m'], color='b', shade=True, alpha=alpha, label='train', ax=axes[2])\n",
    "sns.kdeplot(val_df_GLOB['Depth_m'], color='g', shade=True, alpha=alpha, label='val', ax=axes[2])\n",
    "sns.kdeplot(holdout_df_GLOB['Depth_m'], color='r', shade=True, alpha=alpha, label='holdout', ax=axes[2])\n",
    "axes[2].set_title('GLOB_Depth')\n",
    "axes[2].legend()\n",
    "\n",
    "plt.tight_layout()\n",
    "plt.show()"
   ]
  },
  {
   "cell_type": "code",
   "execution_count": null,
   "metadata": {
    "ExecuteTime": {
     "end_time": "2024-04-06T21:37:05.444690700Z",
     "start_time": "2024-04-06T21:37:04.453545700Z"
    }
   },
   "outputs": [],
   "source": [
    "fig, axes = plt.subplots(nrows=2, ncols=3, figsize=(12, 6))\n",
    "\n",
    "alpha = 0.05\n",
    "\n",
    "# Plot the SEAA data -- Long\n",
    "sns.kdeplot(train_df_SEAA['Longitude_Degrees'], color='b', shade=True, alpha=alpha, label='train', ax=axes[0,0])\n",
    "sns.kdeplot(val_df_SEAA['Longitude_Degrees'], color='g', shade=True, alpha=alpha, label='val', ax=axes[0,0])\n",
    "sns.kdeplot(holdout_df_SEAA['Longitude_Degrees'], color='r', shade=True, alpha=alpha, label='holdout', ax=axes[0,0])\n",
    "axes[0,0].set_title('SEAA_Long')\n",
    "axes[0,0].legend()\n",
    "\n",
    "# Plot the CARB data -- Long\n",
    "sns.kdeplot(train_df_CARB['Longitude_Degrees'], color='b', shade=True, alpha=alpha, label='train', ax=axes[0,1])\n",
    "sns.kdeplot(val_df_CARB['Longitude_Degrees'], color='g', shade=True, alpha=alpha, label='val', ax=axes[0,1])\n",
    "sns.kdeplot(holdout_df_CARB['Longitude_Degrees'], color='r', shade=True, alpha=alpha, label='holdout', ax=axes[0,1])\n",
    "axes[0,1].set_title('CARB_Long')\n",
    "axes[0,1].legend()\n",
    "\n",
    "# Plot the GLOB data -- Long\n",
    "sns.kdeplot(train_df_GLOB['Longitude_Degrees'], color='b', shade=True, alpha=alpha, label='train', ax=axes[0,2])\n",
    "sns.kdeplot(val_df_GLOB['Longitude_Degrees'], color='g', shade=True, alpha=alpha, label='val', ax=axes[0,2])\n",
    "sns.kdeplot(holdout_df_GLOB['Longitude_Degrees'], color='r', shade=True, alpha=alpha, label='holdout', ax=axes[0,2])\n",
    "axes[0,2].set_title('GLOB_Long')\n",
    "axes[0,2].legend()\n",
    "\n",
    "# Plot the SEAA data -- Lat\n",
    "sns.kdeplot(train_df_SEAA['Latitude_Degrees'], color='b', shade=True, alpha=alpha, label='train', ax=axes[1,0])\n",
    "sns.kdeplot(val_df_SEAA['Latitude_Degrees'], color='g', shade=True, alpha=alpha, label='val', ax=axes[1,0])\n",
    "sns.kdeplot(holdout_df_SEAA['Latitude_Degrees'], color='r', shade=True, alpha=alpha, label='holdout', ax=axes[1,0])\n",
    "axes[1,0].set_title('SEAA_Lat')\n",
    "axes[1,0].legend()\n",
    "\n",
    "# Plot the CARB data -- Lat\n",
    "sns.kdeplot(train_df_CARB['Latitude_Degrees'], color='b', shade=True, alpha=alpha, label='train', ax=axes[1,1])\n",
    "sns.kdeplot(val_df_CARB['Latitude_Degrees'], color='g', shade=True, alpha=alpha, label='val', ax=axes[1,1])\n",
    "sns.kdeplot(holdout_df_CARB['Latitude_Degrees'], color='r', shade=True, alpha=alpha, label='holdout', ax=axes[1,1])\n",
    "axes[1,1].set_title('CARB_Lat')\n",
    "axes[1,1].legend()\n",
    "\n",
    "# Plot the GLOB data -- Lat\n",
    "sns.kdeplot(train_df_GLOB['Latitude_Degrees'], color='b', shade=True, alpha=alpha, label='train', ax=axes[1,2])\n",
    "sns.kdeplot(val_df_GLOB['Latitude_Degrees'], color='g', shade=True, alpha=alpha, label='val', ax=axes[1,2])\n",
    "sns.kdeplot(holdout_df_GLOB['Latitude_Degrees'], color='r', shade=True, alpha=alpha, label='holdout', ax=axes[1,2])\n",
    "axes[1,2].set_title('GLOB_Lat')\n",
    "axes[1,2].legend()\n",
    "\n",
    "plt.tight_layout()\n",
    "plt.show()"
   ]
  },
  {
   "cell_type": "code",
   "execution_count": null,
   "metadata": {
    "ExecuteTime": {
     "end_time": "2024-04-06T21:37:06.560924Z",
     "start_time": "2024-04-06T21:37:05.447690900Z"
    }
   },
   "outputs": [],
   "source": [
    "# Validate Time of Measurement\n",
    "\n",
    "## split by northern/southern hemisphere first, then month\n",
    "\n",
    "fig, axes = plt.subplots(nrows=3, ncols=3, figsize=(12, 12))\n",
    "\n",
    "frames = {'train_SEAA': train_df_SEAA, 'val_SEAA': val_df_SEAA, 'holdout_SEAA': holdout_df_SEAA,\n",
    "          'train_CARB': train_df_CARB, 'val_CARB': val_df_CARB, 'holdout_CARB': holdout_df_CARB,\n",
    "          'train_GLOB': train_df_GLOB, 'val_GLOB': val_df_GLOB, 'holdout_GLOB': holdout_df_GLOB}\n",
    "\n",
    "colors = ['blue', 'green', 'red']\n",
    "alpha = 0.3\n",
    "\n",
    "counter = 0\n",
    "for i in range(3):\n",
    "    for j in range(3):\n",
    "\n",
    "        df_name = list(frames.keys())[counter]\n",
    "        df = frames[df_name]\n",
    "        month_counts = df.groupby('Date_Month')['Date_Month'].count()\n",
    "        ax = sns.barplot(x=month_counts.index, y=month_counts.values, ax=axes[i, j], color=colors[i], alpha=alpha)\n",
    "        axes[i, j].set_title(df_name)\n",
    "\n",
    "        ax.set_xticks(range(len(month_counts.index)))\n",
    "        ax.set_xticklabels(month_counts.index.astype(int))\n",
    "        counter += 1\n",
    "\n",
    "plt.tight_layout()\n",
    "plt.show()"
   ]
  },
  {
   "cell_type": "markdown",
   "metadata": {},
   "source": [
    "## Create X & y Training and Holdout DFs"
   ]
  },
  {
   "cell_type": "code",
   "execution_count": null,
   "metadata": {
    "ExecuteTime": {
     "end_time": "2024-04-06T21:37:06.576363800Z",
     "start_time": "2024-04-06T21:37:06.562428Z"
    }
   },
   "outputs": [],
   "source": [
    "def X_y_split(train, val, holdout):\n",
    "    X_train = train.drop(columns='Percent_Bleached_Value')\n",
    "    y_train = train.Percent_Bleached_Value\n",
    "\n",
    "    X_val = val.drop(columns='Percent_Bleached_Value')\n",
    "    y_val = val.Percent_Bleached_Value\n",
    "\n",
    "    X_holdout = holdout.drop(columns='Percent_Bleached_Value')\n",
    "    y_holdout = holdout.Percent_Bleached_Value\n",
    "    return X_train, y_train, X_val, y_val, X_holdout, y_holdout\n",
    "\n",
    "X_train_SEAA, y_train_SEAA, X_val_SEAA, y_val_SEAA, X_holdout_SEAA, y_holdout_SEAA = X_y_split(train_df_SEAA, val_df_SEAA, holdout_df_SEAA)\n",
    "X_train_CARB, y_train_CARB, X_val_CARB, y_val_CARB, X_holdout_CARB, y_holdout_CARB = X_y_split(train_df_CARB, val_df_CARB, holdout_df_CARB)\n",
    "X_train_GLOB, y_train_GLOB, X_val_GLOB, y_val_GLOB, X_holdout_GLOB, y_holdout_GLOB = X_y_split(train_df_GLOB, val_df_GLOB, holdout_df_GLOB)\n",
    "\n",
    "\n",
    "# # Create X & y Training and Holdout DFs for Classification\n",
    "# X_train_class = train_df_class.drop(columns='Bleached_Class')\n",
    "# X_holdout_class = holdout_df_class.drop(columns='Bleached_Class')\n",
    "\n",
    "# y_train_class = train_df_class.Bleached_Class\n",
    "# y_holdout_class = holdout_df_class.Bleached_Class"
   ]
  },
  {
   "cell_type": "code",
   "execution_count": null,
   "metadata": {},
   "outputs": [],
   "source": [
    "# Write out SEAA parquet files in DeepNote\n",
    "\n",
    "# if deepnote:\n",
    "#     # Local\n",
    "#     train_df_SEAA.to_parquet('/work/data/Xy_Data/train_df_SEAA.parquet')\n",
    "#     holdout_df_SEAA.to_parquet('/work/data/Xy_Data/holdout_df_SEAA.parquet')\n",
    "#     val_df_SEAA.to_parquet('/work/data/Xy_Data/val_df_SEAA.parquet')\n",
    "#     \n",
    "#     X_train_SEAA.to_parquet('/work/data/Xy_Data/X_train_SEAA.parquet')\n",
    "#     y_train_SEAA.to_frame('y_train').to_parquet('/work/data/Xy_Data/y_train_SEAA.parquet')\n",
    "#     X_val_SEAA.to_parquet('/work/data/Xy_Data/X_val_SEAA.parquet')\n",
    "#     y_val_SEAA.to_frame('y_val').to_parquet('/work/data/Xy_Data/y_val_SEAA.parquet')\n",
    "#     X_holdout_SEAA.to_parquet('/work/data/Xy_Data/X_holdout_SEAA.parquet')\n",
    "#     y_holdout_SEAA.to_frame('y_holdout').to_parquet('/work/data/Xy_Data/y_holdout_SEAA.parquet')\n",
    "#     \n",
    "#     # S3\n",
    "#     train_df_SEAA.to_parquet('/datasets/s3/data/Xy_Data/train_df_SEAA.parquet')\n",
    "#     holdout_df_SEAA.to_parquet('/datasets/s3/data/Xy_Data/holdout_df_SEAA.parquet')\n",
    "#     val_df_SEAA.to_parquet('/datasets/s3/data/Xy_Data/val_df_SEAA.parquet')\n",
    "#     \n",
    "#     X_train_SEAA.to_parquet('/datasets/s3/data/Xy_Data/X_train_SEAA.parquet')\n",
    "#     y_train_SEAA.to_frame('y_train').to_parquet('/datasets/s3/data/Xy_Data/y_train_SEAA.parquet')\n",
    "#     X_val_SEAA.to_parquet('/datasets/s3/data/Xy_Data/X_val_SEAA.parquet')\n",
    "#     y_val_SEAA.to_frame('y_val').to_parquet('/datasets/s3/data/Xy_Data/y_val_SEAA.parquet')\n",
    "#     X_holdout_SEAA.to_parquet('/datasets/s3/data/Xy_Data/X_holdout_SEAA.parquet')\n",
    "#     y_holdout_SEAA.to_frame('y_holdout').to_parquet('/datasets/s3/data/Xy_Data/y_holdout_SEAA.parquet')\n"
   ]
  },
  {
   "cell_type": "code",
   "execution_count": null,
   "metadata": {},
   "outputs": [],
   "source": [
    "# Write out CARB parquet files in DeepNote\n",
    "\n",
    "# if deepnote:\n",
    "#     # Local\n",
    "#     train_df_CARB.to_parquet('/work/data/Xy_Data/train_df_CARB.parquet')\n",
    "#     holdout_df_CARB.to_parquet('/work/data/Xy_Data/holdout_df_CARB.parquet')\n",
    "#     val_df_CARB.to_parquet('/work/data/Xy_Data/val_df_CARB.parquet')\n",
    "#     \n",
    "#     X_train_CARB.to_parquet('/work/data/Xy_Data/X_train_CARB.parquet')\n",
    "#     y_train_CARB.to_frame('y_train').to_parquet('/work/data/Xy_Data/y_train_CARB.parquet')\n",
    "#     X_val_CARB.to_parquet('/work/data/Xy_Data/X_val_CARB.parquet')\n",
    "#     y_val_CARB.to_frame('y_val').to_parquet('/work/data/Xy_Data/y_val_CARB.parquet')\n",
    "#     X_holdout_CARB.to_parquet('/work/data/Xy_Data/X_holdout_CARB.parquet')\n",
    "#     y_holdout_CARB.to_frame('y_holdout').to_parquet('/work/data/Xy_Data/y_holdout_CARB.parquet')\n",
    "#     \n",
    "#     # S3\n",
    "#     train_df_CARB.to_parquet('/datasets/s3/data/Xy_Data/train_df_CARB.parquet')\n",
    "#     holdout_df_CARB.to_parquet('/datasets/s3/data/Xy_Data/holdout_df_CARB.parquet')\n",
    "#     val_df_CARB.to_parquet('/datasets/s3/data/Xy_Data/val_df_CARB.parquet')\n",
    "#     \n",
    "#     X_train_CARB.to_parquet('/datasets/s3/data/Xy_Data/X_train_CARB.parquet')\n",
    "#     y_train_CARB.to_frame('y_train').to_parquet('/datasets/s3/data/Xy_Data/y_train_CARB.parquet')\n",
    "#     X_val_CARB.to_parquet('/datasets/s3/data/Xy_Data/X_val_CARB.parquet')\n",
    "#     y_val_CARB.to_frame('y_val').to_parquet('/datasets/s3/data/Xy_Data/y_val_CARB.parquet')\n",
    "#     X_holdout_CARB.to_parquet('/datasets/s3/data/Xy_Data/X_holdout_CARB.parquet')\n",
    "#     y_holdout_CARB.to_frame('y_holdout').to_parquet('/datasets/s3/data/Xy_Data/y_holdout_CARB.parquet')"
   ]
  },
  {
   "cell_type": "code",
   "execution_count": null,
   "metadata": {},
   "outputs": [],
   "source": [
    "# Write out GLOB parquet files in DeepNote\n",
    "\n",
    "# if deepnote:\n",
    "#     # Local\n",
    "#     train_df_GLOB.to_parquet('/work/data/Xy_Data/train_df_GLOB.parquet')\n",
    "#     holdout_df_GLOB.to_parquet('/work/data/Xy_Data/holdout_df_GLOB.parquet')\n",
    "#     val_df_GLOB.to_parquet('/work/data/Xy_Data/val_df_GLOB.parquet')\n",
    "#     \n",
    "#     X_train_GLOB.to_parquet('/work/data/Xy_Data/X_train_GLOB.parquet')\n",
    "#     y_train_GLOB.to_frame('y_train').to_parquet('/work/data/Xy_Data/y_train_GLOB.parquet')\n",
    "#     X_val_GLOB.to_parquet('/work/data/Xy_Data/X_val_GLOB.parquet')\n",
    "#     y_val_GLOB.to_frame('y_val').to_parquet('/work/data/Xy_Data/y_val_GLOB.parquet')\n",
    "#     X_holdout_GLOB.to_parquet('/work/data/Xy_Data/X_holdout_GLOB.parquet')\n",
    "#     y_holdout_GLOB.to_frame('y_holdout').to_parquet('/work/data/Xy_Data/y_holdout_GLOB.parquet')\n",
    "#     \n",
    "#     # S3\n",
    "#     train_df_GLOB.to_parquet('/datasets/s3/data/Xy_Data/train_df_GLOB.parquet')\n",
    "#     holdout_df_GLOB.to_parquet('/datasets/s3/data/Xy_Data/holdout_df_GLOB.parquet')\n",
    "#     val_df_GLOB.to_parquet('/datasets/s3/data/Xy_Data/val_df_GLOB.parquet')\n",
    "#     \n",
    "#     X_train_GLOB.to_parquet('/datasets/s3/data/Xy_Data/X_train_GLOB.parquet')\n",
    "#     y_train_GLOB.to_frame('y_train').to_parquet('/datasets/s3/data/Xy_Data/y_train_GLOB.parquet')\n",
    "#     X_val_GLOB.to_parquet('/datasets/s3/data/Xy_Data/X_val_GLOB.parquet')\n",
    "#     y_val_GLOB.to_frame('y_val').to_parquet('/datasets/s3/data/Xy_Data/y_val_GLOB.parquet')\n",
    "#     X_holdout_GLOB.to_parquet('/datasets/s3/data/Xy_Data/X_holdout_GLOB.parquet')\n",
    "#     y_holdout_GLOB.to_frame('y_holdout').to_parquet('/datasets/s3/data/Xy_Data/y_holdout_GLOB.parquet')"
   ]
  },
  {
   "cell_type": "code",
   "execution_count": null,
   "metadata": {},
   "outputs": [],
   "source": [
    "# Write out SEAA parquet files to S3\n",
    "\n",
    "# if not deepnote:\n",
    "#     sf.write_to_s3(file_path=\"data/Xy_Data/train_df_SEAA.parquet\", data=train_df_SEAA, **aws_env_vars)\n",
    "#     sf.write_to_s3(file_path=\"data/Xy_Data/holdout_df_SEAA.parquet\", data=holdout_df_SEAA, **aws_env_vars)\n",
    "#     sf.write_to_s3(file_path=\"data/Xy_Data/val_df_SEAA.parquet\", data=val_df_SEAA, **aws_env_vars)\n",
    "#     \n",
    "#     sf.write_to_s3(file_path=\"data/Xy_Data/X_train_SEAA.parquet\", data=X_train_SEAA, **aws_env_vars)\n",
    "#     sf.write_to_s3(file_path=\"data/Xy_Data/y_train_SEAA.parquet\", data=y_train_SEAA, **aws_env_vars, series_name='y_train')\n",
    "#     sf.write_to_s3(file_path=\"data/Xy_Data/X_val_SEAA.parquet\", data=X_val_SEAA, **aws_env_vars)\n",
    "#     sf.write_to_s3(file_path=\"data/Xy_Data/y_val_SEAA\".parquet, data=y_val_SEAA, **aws_env_vars, series_name='y_val')\n",
    "#     sf.write_to_s3(file_path=\"data/Xy_Data/X_holdout_SEAA.parquet\", data=X_holdout_SEAA, **aws_env_vars)\n",
    "#     sf.write_to_s3(file_path=\"data/Xy_Data/y_holdout_SEAA.parquet\", data=y_holdout_SEAA, **aws_env_vars, series_name='y_holdout')\n"
   ]
  },
  {
   "cell_type": "code",
   "execution_count": null,
   "metadata": {},
   "outputs": [],
   "source": [
    "# Write out CARB parquet files to S3\n",
    "\n",
    "# if not deepnote:\n",
    "#     sf.write_to_s3(file_path=\"data/Xy_Data/train_df_CARB.parquet\", data=train_df_CARB, **aws_env_vars)\n",
    "#     sf.write_to_s3(file_path=\"data/Xy_Data/holdout_df_CARB.parquet\", data=holdout_df_CARB, **aws_env_vars)\n",
    "#     sf.write_to_s3(file_path=\"data/Xy_Data/val_df_CARB.parquet\", data=val_df_CARB, **aws_env_vars)\n",
    "#     \n",
    "#     sf.write_to_s3(file_path=\"data/Xy_Data/X_train_CARB.parquet\", data=X_train_CARB, **aws_env_vars)\n",
    "#     sf.write_to_s3(file_path=\"data/Xy_Data/y_train_CARB.parquet\", data=y_train_CARB, **aws_env_vars, series_name='y_train')\n",
    "#     sf.write_to_s3(file_path=\"data/Xy_Data/X_val_CARB.parquet\", data=X_val_CARB, **aws_env_vars)\n",
    "#     sf.write_to_s3(file_path=\"data/Xy_Data/y_val_CARB\".parquet, data=y_val_CARB, **aws_env_vars, series_name='y_val')\n",
    "#     sf.write_to_s3(file_path=\"data/Xy_Data/X_holdout_CARB.parquet\", data=X_holdout_CARB, **aws_env_vars)\n",
    "#     sf.write_to_s3(file_path=\"data/Xy_Data/y_holdout_CARB.parquet\", data=y_holdout_CARB, **aws_env_vars, series_name='y_holdout')"
   ]
  },
  {
   "cell_type": "code",
   "execution_count": null,
   "metadata": {},
   "outputs": [],
   "source": [
    "# Write out GLOB parquet files to S3\n",
    "\n",
    "# if not deepnote:\n",
    "#     sf.write_to_s3(file_path=\"data/Xy_Data/train_df_GLOB.parquet\", data=train_df_GLOB, **aws_env_vars)\n",
    "#     sf.write_to_s3(file_path=\"data/Xy_Data/holdout_df_GLOB.parquet\", data=holdout_df_GLOB, **aws_env_vars)\n",
    "#     sf.write_to_s3(file_path=\"data/Xy_Data/val_df_GLOB.parquet\", data=val_df_GLOB, **aws_env_vars)\n",
    "#     \n",
    "#     sf.write_to_s3(file_path=\"data/Xy_Data/X_train_GLOB.parquet\", data=X_train_GLOB, **aws_env_vars)\n",
    "#     sf.write_to_s3(file_path=\"data/Xy_Data/y_train_GLOB.parquet\", data=y_train_GLOB, **aws_env_vars, series_name='y_train')\n",
    "#     sf.write_to_s3(file_path=\"data/Xy_Data/X_val_GLOB.parquet\", data=X_val_GLOB, **aws_env_vars)\n",
    "#     sf.write_to_s3(file_path=\"data/Xy_Data/y_val_GLOB\".parquet, data=y_val_GLOB, **aws_env_vars, series_name='y_val')\n",
    "#     sf.write_to_s3(file_path=\"data/Xy_Data/X_holdout_GLOB.parquet\", data=X_holdout_GLOB, **aws_env_vars)\n",
    "#     sf.write_to_s3(file_path=\"data/Xy_Data/y_holdout_GLOB.parquet\", data=y_holdout_GLOB, **aws_env_vars, series_name='y_holdout')"
   ]
  },
  {
   "cell_type": "code",
   "execution_count": null,
   "metadata": {},
   "outputs": [],
   "source": [
    "## Write out parquet files for classification\n",
    "\n",
    "\n",
    "# if deepnote:\n",
    "    # # Write out parquet files in DeepNote\n",
    "    # train_df_class.to_parquet('/work/data/Xy_Data/train_df_class.parquet')\n",
    "    # holdout_df_class.to_parquet('/work/data/Xy_Data/holdout_df_class.parquet')\n",
    "    # train_df_class.to_parquet('/datasets/s3/data/Xy_Data/train_df_class.parquet')\n",
    "    # holdout_df_class.to_parquet('/datasets/s3/data/Xy_Data/holdout_df_class.parquet')\n",
    "    \n",
    "    # X_train_class.to_parquet('/work/data/Xy_Data/X_train_class.parquet')\n",
    "    # y_train_class.to_frame('y_train_class').to_parquet('/work/data/Xy_Data/y_train_class.parquet')\n",
    "    # X_train_class.to_parquet('/datasets/s3/data/Xy_Data/X_train_class.parquet')\n",
    "    # y_train_class.to_frame('y_train_class').to_parquet('/datasets/s3/data/Xy_Data/y_train_class.parquet')\n",
    "    \n",
    "    # X_holdout_class.to_parquet('/work/data/Xy_Data/X_holdout_class.parquet')\n",
    "    # y_holdout_class.to_frame('y_holdout_class').to_parquet('/work/data/Xy_Data/y_holdout_class.parquet')\n",
    "    # X_holdout_class.to_parquet('/datasets/s3/data/Xy_Data/X_holdout_class.parquet')\n",
    "    # y_holdout_class.to_frame('y_holdout_class').to_parquet('/datasets/s3/data/Xy_Data/y_holdout_class.parquet')\n",
    "\n",
    "# else:\n",
    "    # # Write out parquet files to S3\n",
    "    # sf.write_to_s3(file_path=\"data/Xy_Data/train_df_class.parquet\", data=train_df_class, **aws_env_vars)\n",
    "    # sf.write_to_s3(file_path=\"data/Xy_Data/holdout_df_class.parquet\", data=holdout_df_class, **aws_env_vars)\n",
    "    # \n",
    "    # sf.write_to_s3(file_path=\"data/Xy_Data/X_train_class.parquet\", data=X_train_class, **aws_env_vars)\n",
    "    # sf.write_to_s3(file_path=\"data/Xy_Data/y_train_class.parquet\", data=y_train_class, **aws_env_vars, series_name='y_train_class')\n",
    "    # \n",
    "    # sf.write_to_s3(file_path=\"data/Xy_Data/X_holdout_class.parquet\", data=X_holdout_class, **aws_env_vars)\n",
    "    # sf.write_to_s3(file_path=\"data/Xy_Data/y_holdout_class.parquet\", data=y_holdout_class, **aws_env_vars, series_name='y_holdout_class')"
   ]
  }
 ],
 "metadata": {
  "deepnote_execution_queue": [],
  "deepnote_notebook_id": "647fc98bc37b40eaa9e85dce2f4fddc8",
  "deepnote_persisted_session": {
   "createdAt": "2024-03-27T00:00:37.653Z"
  },
  "kernelspec": {
   "display_name": "Python 3 (ipykernel)",
   "language": "python",
   "name": "python3"
  },
  "language_info": {
   "codemirror_mode": {
    "name": "ipython",
    "version": 3
   },
   "file_extension": ".py",
   "mimetype": "text/x-python",
   "name": "python",
   "nbconvert_exporter": "python",
   "pygments_lexer": "ipython3",
   "version": "3.11.5"
  }
 },
 "nbformat": 4,
 "nbformat_minor": 1
}
