{
 "cells": [
  {
   "cell_type": "markdown",
   "metadata": {
    "formattedRanges": [],
    "deepnote_app_block_visible": true,
    "cell_id": "4ca64f942f1f455d9a058d4dabe4975a",
    "deepnote_cell_type": "text-cell-h1"
   },
   "source": [
    "# Regression - ElasticNet"
   ],
   "block_group": "32f6fa1f7f994b23b0b2b2dc8b0bf23f"
  },
  {
   "cell_type": "markdown",
   "metadata": {
    "formattedRanges": [],
    "deepnote_app_block_visible": true,
    "cell_id": "7f2192c30a5f4cc6b597b346f0e3a253",
    "deepnote_cell_type": "text-cell-h2"
   },
   "source": [
    "## Notebook Setup"
   ],
   "block_group": "29ed4039cfd54b349b8f3d87d7145ed2"
  },
  {
   "cell_type": "markdown",
   "metadata": {
    "formattedRanges": [],
    "deepnote_app_block_visible": true,
    "cell_id": "0f299d3483114530ad8e368842c371dd",
    "deepnote_cell_type": "text-cell-h3"
   },
   "source": [
    "### Import Libraries"
   ],
   "block_group": "30174eb3e1644d56a9722f4cadbae9ea"
  },
  {
   "cell_type": "code",
   "metadata": {
    "source_hash": null,
    "execution_start": 1712254663052,
    "execution_millis": 1319,
    "deepnote_to_be_reexecuted": false,
    "deepnote_app_block_visible": true,
    "cell_id": "73d645bb31484bb1be3c9d92267ffdd6",
    "deepnote_cell_type": "code"
   },
   "source": [
    "# Import Standard Libraries\n",
    "import os\n",
    "import datetime\n",
    "import pickle\n",
    "import itertools\n",
    "import pandas as pd\n",
    "import numpy as np\n",
    "\n",
    "# Import Visualization Libraries\n",
    "import seaborn as sns\n",
    "import matplotlib.pyplot as plt\n",
    "import plotly.express as px\n",
    "import plotly.graph_objects as go\n",
    "import shap"
   ],
   "block_group": "05c857c6f7da4c33843aa801a1f1d5eb",
   "execution_count": null,
   "outputs": [],
   "outputs_reference": null
  },
  {
   "cell_type": "code",
   "metadata": {
    "source_hash": null,
    "execution_start": 1712254664374,
    "execution_millis": 535,
    "deepnote_to_be_reexecuted": false,
    "deepnote_app_block_visible": true,
    "cell_id": "6a2559241fd243e6b3a69a60a6255186",
    "deepnote_cell_type": "code"
   },
   "source": [
    "# Import Modeling Libraries\n",
    "from sklearn import set_config\n",
    "from sklearn.model_selection import KFold, cross_val_score\n",
    "from sklearn.ensemble import RandomForestRegressor\n",
    "from sklearn.metrics import r2_score, mean_absolute_error, mean_squared_error\n",
    "from hyperopt import STATUS_OK, Trials, fmin, hp, tpe\n",
    "from hyperopt.early_stop import no_progress_loss\n",
    "import neptune\n",
    "\n",
    "# ElasticNet\n",
    "from sklearn.linear_model import ElasticNet"
   ],
   "block_group": "bbc9a4f4fb38400583bcd92244ffeb26",
   "execution_count": null,
   "outputs": [],
   "outputs_reference": null
  },
  {
   "cell_type": "code",
   "metadata": {
    "source_hash": null,
    "execution_start": 1712254664912,
    "execution_millis": 19,
    "deepnote_to_be_reexecuted": false,
    "deepnote_app_block_visible": true,
    "cell_id": "e69b06414b724efa801e8c101df825d5",
    "deepnote_cell_type": "code"
   },
   "source": [
    "# Pandas Configs\n",
    "pd.set_option('mode.chained_assignment', None)\n",
    "pd.options.display.float_format = '{:.2f}'.format\n",
    "pd.options.display.max_columns = None\n",
    "pd.options.display.max_rows = None\n",
    "\n",
    "# Ignore Warnings\n",
    "import warnings\n",
    "warnings.simplefilter('ignore', category=FutureWarning)\n",
    "warnings.simplefilter('ignore', category=UserWarning)\n",
    "warnings.simplefilter(action=\"ignore\", category=pd.errors.PerformanceWarning)\n",
    "\n",
    "# MapBox Token for Plotly Maps\n",
    "px.set_mapbox_access_token(os.environ.get(\"MAPBOX_TOKEN\"))\n",
    "\n",
    "# Scikit Learn Configs\n",
    "set_config(transform_output=\"pandas\")"
   ],
   "block_group": "3843638c580f457a96c6f8b9104151a1",
   "execution_count": null,
   "outputs": [],
   "outputs_reference": null
  },
  {
   "cell_type": "markdown",
   "metadata": {
    "formattedRanges": [],
    "deepnote_app_block_visible": true,
    "cell_id": "3d887a44de4d41cfb553fac7e65808f4",
    "deepnote_cell_type": "text-cell-h3"
   },
   "source": [
    "### Common Functions"
   ],
   "block_group": "f5c9bdc5f12f4922b8611bc7e4495a2f"
  },
  {
   "cell_type": "code",
   "metadata": {
    "source_hash": null,
    "execution_start": 1712254664915,
    "execution_millis": 1699,
    "deepnote_to_be_reexecuted": false,
    "deepnote_app_block_visible": true,
    "cell_id": "1ade21f57a9b422182577190c27cacfd",
    "deepnote_cell_type": "code"
   },
   "source": [
    "def import_data(common_path=\"/work/data\", xy_path=\"Xy_Data\", location_name='CARB'):\n",
    "    \"\"\"\n",
    "    This function imports the data from the specified data path and location geography\n",
    "    \"\"\"\n",
    "\n",
    "    data_path = os.path.join(common_path, xy_path)\n",
    "\n",
    "    # Import the training, validation and holdout data\n",
    "    X_train_trans = pd.read_parquet(f\"{data_path}/X_train_trans_{location_name}.parquet\")\n",
    "    X_val_trans = pd.read_parquet(f\"{data_path}/X_val_trans_{location_name}.parquet\")\n",
    "    X_holdout_trans = pd.read_parquet(f\"{data_path}/X_holdout_trans_{location_name}.parquet\")\n",
    "\n",
    "    y_train = pd.read_parquet(f\"{data_path}/y_train_{location_name}.parquet\")\n",
    "    y_val = pd.read_parquet(f\"{data_path}/y_val_{location_name}.parquet\")\n",
    "    y_holdout = pd.read_parquet(f\"{data_path}/y_holdout_{location_name}.parquet\")\n",
    "\n",
    "    # y is not transformed\n",
    "    y_train_trans = y_train\n",
    "    y_val_trans = y_val\n",
    "    y_holdout_trans = y_holdout\n",
    "\n",
    "    return X_train_trans, X_val_trans, X_holdout_trans, y_train_trans, y_val_trans, y_holdout_trans\n",
    "\n",
    "# Import some data temporarily, as some of the other functions use the Xy data in argument defaults\n",
    "X_train_trans, X_val_trans, X_holdout_trans, y_train_trans, y_val_trans, y_holdout_trans = import_data(location_name='CARB')"
   ],
   "block_group": "9660e1c6e12b411ca148a862863d70c0",
   "execution_count": null,
   "outputs": [],
   "outputs_reference": null
  },
  {
   "cell_type": "code",
   "metadata": {
    "source_hash": null,
    "execution_start": 1712254666618,
    "execution_millis": 39,
    "deepnote_to_be_reexecuted": false,
    "deepnote_app_block_visible": true,
    "cell_id": "ac871fba8ae14d0bb9e39e68dceb6a15",
    "deepnote_cell_type": "code"
   },
   "source": [
    "def objective(space):\n",
    "    \"\"\"\n",
    "    This is the ElasticNet hyperparam objective function\n",
    "    Hyperparams are passed into this function, which are then used in the model object\n",
    "    The model object is then used in the cross_val_scores function \n",
    "    This results in a list of MAE scores, which are then returned as \n",
    "      the loss and std vars to the trials object\n",
    "\n",
    "    NOTE: Lasso is L1 and Ridge is L2\n",
    "    DO NOT MAKE ALPHA = 0 WHEN USING LASSO\n",
    "    \"\"\"\n",
    "    space['alpha'] = float(space['alpha'])\n",
    "    space['l1_ratio'] = float(space['l1_ratio'])\n",
    "\n",
    "    model = ElasticNet(\n",
    "                alpha=space['alpha'],\n",
    "                l1_ratio=space['l1_ratio'],\n",
    "                fit_intercept=True, # If False, data is assumed to already be centered\n",
    "                precompute=False, # For sparse matrices, set False\n",
    "                max_iter=1000, # Default is 1000\n",
    "                copy_X=True, # Copies the input data, else could be overwritten!\n",
    "                tol=1e-4, # A threshold for optimization\n",
    "                warm_start=False, # When True, Use previous solution as the fit\n",
    "                positive=False, # When True, forces coefficients to be positive\n",
    "                random_state = 42,\n",
    "                selection='cyclic' # 'cyclic' or 'random' -- random could be faster but cyclic is methodical\n",
    "    )\n",
    "\n",
    "    kf = KFold(n_splits=5, shuffle=True, random_state=42)\n",
    "    mae_scores = -cross_val_score(model, X_train_trans, y_train_trans, cv=kf, scoring='neg_mean_absolute_error')\n",
    "    mean_mae = mae_scores.mean()\n",
    "    std_mae = mae_scores.std()\n",
    "\n",
    "    # Emit model specific params and metrics to Neptune\n",
    "    run['parameters/alpha'].log(space['alpha'])\n",
    "    run['parameters/l1_ratio'].log(space['l1_ratio'])\n",
    "    \n",
    "    # Emit standard params and metrics to Neptune\n",
    "    run['parameters/all_parameters'].log(str(space))\n",
    "    run['metrics/mae_scores'].log(str(mae_scores.tolist()))\n",
    "    run[\"metrics/mean_mae\"].log(mean_mae)\n",
    "    run[\"metrics/std_mae\"].log(std_mae)\n",
    "\n",
    "    return {'loss': mean_mae, 'status': STATUS_OK, 'std': std_mae}"
   ],
   "block_group": "570d02885298436ab0a34273dd10239d",
   "execution_count": null,
   "outputs": [],
   "outputs_reference": null
  },
  {
   "cell_type": "code",
   "metadata": {
    "source_hash": null,
    "execution_start": 1712254666625,
    "execution_millis": 95,
    "deepnote_to_be_reexecuted": false,
    "deepnote_app_block_visible": true,
    "cell_id": "00004af6862c42bfb5c37caf8fa396c7",
    "deepnote_cell_type": "code"
   },
   "source": [
    "def model_score(hps, val=True, train=False, holdout=False, Xtt=X_train_trans, ytt=y_train_trans, Xvt=X_val_trans, yvt=y_val_trans, Xht=X_holdout_trans, yht=y_holdout_trans):\n",
    "    \"\"\"\n",
    "    This function rebuilds the model with the desired hyperparameters\n",
    "    val: True will evaluate the model on the validation data\n",
    "    holdout: True will evaluate the model on the holdout data\n",
    "    train: True will evaluate the model on the train data\n",
    "    Xtt: X_train_trans\n",
    "    ytt: y_train_trans\n",
    "    Xvt: X_val_trans\n",
    "    yvt: y_val_trans\n",
    "    Xht: X_holdout_trans\n",
    "    yht: y_holdout_trans\n",
    "    \"\"\"\n",
    "\n",
    "    # Rebuild model\n",
    "    model = ElasticNet(**hps, random_state=42)\n",
    "    model.fit(Xtt, ytt)\n",
    "\n",
    "    # Evaluate model and print results\n",
    "    if train:\n",
    "        # Evaluation on train data\n",
    "        train_pred = model.predict(Xtt)\n",
    "        train_pred = np.clip(train_pred, 0, 100)\n",
    "        train_mae = mean_absolute_error(ytt, train_pred)\n",
    "        train_mse = mean_squared_error(ytt, train_pred)\n",
    "        train_rmse = mean_squared_error(ytt, train_pred, squared=False)\n",
    "        train_rsq = r2_score(ytt, train_pred)\n",
    "        print(\" \")\n",
    "        print(f\"Train Mean Absolute Error: {train_mae:.4f}\")\n",
    "        print(f\"Train Mean Squared Error: {train_mse:.4f}\")\n",
    "        print(f\"Train Root Mean Squared Error: {train_rmse:.4f}\")\n",
    "        print(f\"Train R^2 Score: {train_rsq:.4f}\")\n",
    "\n",
    "    if val:\n",
    "        # Evaluation on validation data\n",
    "        val_pred = model.predict(Xvt)\n",
    "        val_pred = np.clip(val_pred, 0, 100)\n",
    "        val_mae = mean_absolute_error(yvt, val_pred)\n",
    "        val_mse = mean_squared_error(yvt, val_pred)\n",
    "        val_rmse = mean_squared_error(yvt, val_pred, squared=False)\n",
    "        val_rsq = r2_score(yvt, val_pred)\n",
    "        print(\" \")\n",
    "        print(f\"Validation Mean Absolute Error: {val_mae:.4f}\")\n",
    "        print(f\"Validation Mean Squared Error: {val_mse:.4f}\")\n",
    "        print(f\"Validation Root Mean Squared Error: {val_rmse:.4f}\")\n",
    "        print(f\"Validation R^2 Score: {val_rsq:.4f}\")\n",
    "\n",
    "    if holdout:\n",
    "        # Evaluation on holdout data\n",
    "        holdout_pred = model.predict(Xht)\n",
    "        holdout_pred = np.clip(holdout_pred, 0, 100)\n",
    "        holdout_mae = mean_absolute_error(yht, holdout_pred)\n",
    "        holdout_mse = mean_squared_error(yht, holdout_pred)\n",
    "        holdout_rmse = mean_squared_error(yht, holdout_pred, squared=False)\n",
    "        holdout_rsq = r2_score(yht, holdout_pred)\n",
    "        print(\" \")\n",
    "        print(f\"Holdout Mean Absolute Error: {holdout_mae:.4f}\")\n",
    "        print(f\"Holdout Mean Squared Error: {holdout_mse:.4f}\")\n",
    "        print(f\"Holdout Root Mean Squared Error: {holdout_rmse:.4f}\")\n",
    "        print(f\"Holdout R^2 Score: {holdout_rsq:.4f}\")\n",
    "\n",
    "    return model"
   ],
   "block_group": "3727a082acc74d6182de877cc8ddc676",
   "execution_count": null,
   "outputs": [],
   "outputs_reference": null
  },
  {
   "cell_type": "code",
   "metadata": {
    "source_hash": null,
    "execution_start": 1712254666629,
    "execution_millis": 91,
    "deepnote_to_be_reexecuted": false,
    "deepnote_app_block_visible": true,
    "cell_id": "86a899e1f94a450f9160d2a8104e0e23",
    "deepnote_cell_type": "code"
   },
   "source": [
    "def plot_feat_importance(model):\n",
    "    \"\"\"\n",
    "    Plot the feature importance\n",
    "    model: The model object itself\n",
    "    \"\"\"\n",
    "    #fi_df = pd.DataFrame({'Feature':model.feature_names_in_,'Importance':model.feature_importances_}).sort_values(by='Importance', ascending=True)\n",
    "    # fi_df = pd.DataFrame({'Feature':model.booster_.feature_name(), 'Importance':model.booster_.feature_importance()}).sort_values(by='Importance', ascending=True)\n",
    "    fi_df = pd.DataFrame({'Feature':model.feature_names_in_, 'Importance':abs(model.coef_)}).sort_values(by='Importance', ascending=True)\n",
    "\n",
    "    # Plot the feature importance\n",
    "    fig = px.bar(fi_df, x=\"Importance\", y=\"Feature\", orientation='h', color_discrete_sequence=['darkorange'])\n",
    "    fig.update_xaxes(categoryorder='total ascending')\n",
    "    fig.update_layout(\n",
    "        title={\n",
    "            'text': \"Feature Importance\",\n",
    "            'x': 0.5, 'xanchor': 'center',\n",
    "            'y':0.90, 'yanchor':'top'},\n",
    "        xaxis=dict(title=\"Feature Importance\", title_standoff=2),\n",
    "        yaxis=dict(title=\"Feature\", title_standoff=0),\n",
    "        height=400, width=650)\n",
    "    fig.add_annotation(\n",
    "        dict(text=f\"Data Sources: Global Coral Beaching Database, World Bank WDI\\nMarine Ecoregions of the World\", x=0.5, y=-0.25, showarrow=False,\n",
    "            font=dict(\n",
    "                size=10,\n",
    "                color=\"grey\"),\n",
    "            xref=\"paper\", yref=\"paper\", align=\"center\"\n",
    "        )\n",
    "    )\n",
    "\n",
    "    fig.show()"
   ],
   "block_group": "621af0ad2cf14c4e8f356c824a53201b",
   "execution_count": null,
   "outputs": [],
   "outputs_reference": null
  },
  {
   "cell_type": "code",
   "metadata": {
    "source_hash": null,
    "execution_start": 1712254666634,
    "execution_millis": 86,
    "deepnote_to_be_reexecuted": false,
    "deepnote_app_block_visible": true,
    "cell_id": "e0903308517c44c4b745cba6c1446005",
    "deepnote_cell_type": "code"
   },
   "source": [
    "def write_out(model, trials, params, feat_cols=[], common_path=\"/work/models\", model_family=\"elasticnet_reg\", location_name=\"CARB\"):\n",
    "    \"\"\"\n",
    "    Write out the model artifacts to disk\n",
    "    model: The model object itself\n",
    "    trial: The Hyperopt trials object\n",
    "    params: The best model hyperparameters from the trials object\n",
    "    common_path: The common path for model artifacts e.g. '/work/models'\n",
    "    model_family: The model family, e.g. 'xgboost_reg', 'lightgbm_reg', 'elasticnet_reg'\n",
    "    location_name: The geography that the model is trained for, e.g. 'SEAA', 'CARB', 'GLOB'\n",
    "    \"\"\"\n",
    "    date_time_str = datetime.datetime.now().strftime(\"%Y%m%d_%H%M%S\")\n",
    "    model_path = os.path.join(common_path, model_family, location_name)\n",
    " \n",
    "    # make sure the path exists\n",
    "    os.makedirs(model_path, exist_ok=True)\n",
    "\n",
    "    # Write out the HyperOpt Trials object\n",
    "    with open(model_path+'/'+date_time_str+'_trials.pkl', 'wb') as f:\n",
    "        pickle.dump(trials, f)\n",
    "\n",
    "    # Write out the XGBoost Model Object\n",
    "    with open(model_path+'/'+date_time_str+'_model.pkl', 'wb') as f:\n",
    "        pickle.dump(model, f)\n",
    "\n",
    "    # Write out the XGBoost Best Params\n",
    "    with open(model_path+'/'+date_time_str+'_params.pkl', 'wb') as f:\n",
    "        pickle.dump(params, f)\n",
    "    \n",
    "    # Write out the feature columns if they exist\n",
    "    if len(feat_cols) > 0:\n",
    "        with open(model_path+'/'+date_time_str+'_feat_cols.pkl', 'wb') as f:\n",
    "            pickle.dump(feat_cols, f)"
   ],
   "block_group": "1b88100b784648c2b6425083bc317439",
   "execution_count": null,
   "outputs": [],
   "outputs_reference": null
  },
  {
   "cell_type": "code",
   "metadata": {
    "source_hash": null,
    "execution_start": 1712254666644,
    "execution_millis": 77,
    "deepnote_to_be_reexecuted": false,
    "deepnote_app_block_visible": true,
    "cell_id": "a95d5bc0d0c94bde8cbb8cd260968ac0",
    "deepnote_cell_type": "code"
   },
   "source": [
    "def feat_ablation(model, hps, Xtt, ytt, Xvt, yvt, Xht, yht, abl_list_to_combo=[]):\n",
    "    \"\"\"\n",
    "    Perform feature ablation analysis\n",
    "    model: The model object itself\n",
    "    Xtt: X_train_trans\n",
    "    ytt: y_train_trans\n",
    "    Xvt: X_val_trans\n",
    "    yvt: y_val_trans\n",
    "    Xht: X_holdout_trans\n",
    "    yht: y_holdout_trans\n",
    "    \"\"\"\n",
    "    \n",
    "    # Create the base model object with hyperparameters\n",
    "    # Note: this model will be refit during the ablation loop\n",
    "    abl_model = model_score(hps, Xtt=Xtt, ytt=ytt, Xvt=Xvt, yvt=yvt, Xht=Xht, yht=yht, train=False, val=False, holdout=False)\n",
    "    \n",
    "    # Evaluation on train data\n",
    "    train_pred = abl_model.predict(Xtt)\n",
    "    train_pred = np.clip(train_pred, 0, 100)\n",
    "    baseline_mae_train = mean_absolute_error(ytt, train_pred)\n",
    "    \n",
    "    # Evaluation on validation data\n",
    "    val_pred = abl_model.predict(Xvt)\n",
    "    val_pred = np.clip(val_pred, 0, 100)\n",
    "    baseline_mae_val = mean_absolute_error(yvt, val_pred)\n",
    "\n",
    "    print(f\"Baseline Mean MAE: {baseline_mae_train:.4f}, Validation MAE: {baseline_mae_val:.4f}\")\n",
    "\n",
    "\n",
    "    # Features for ablation \n",
    "    # Start with all features\n",
    "    abl_list = [[x] for x in Xtt.columns]\n",
    "\n",
    "    # Now create combos of features passed in as abl_list_to_combo\n",
    "    # Create combos of all items in abl_list_to_combo\n",
    "    # Range stars at 2 to skip single columns\n",
    "    abl_combo_list = [combo for r in range(2, len(abl_list_to_combo) + 1) \n",
    "        for combo in itertools.combinations(abl_list_to_combo, r)]\n",
    "\n",
    "    # Itertools combinations() creates tuples. \n",
    "    #   Convert each combination from a tuple to a list for ablation\n",
    "    abl_combo_list = [list(combo) for combo in abl_combo_list]\n",
    "\n",
    "    # Add the ablation combos to the ablation list\n",
    "    abl_list = abl_list + abl_combo_list\n",
    "\n",
    "\n",
    "    # Create the ablation loop\n",
    "    ablation_results_list = []\n",
    "\n",
    "    # Feat ablation loop\n",
    "    for feature in abl_list:\n",
    "        # drop ablated cols\n",
    "        modified_X_train_trans = Xtt.drop(columns=feature)\n",
    "        modified_X_val_trans = Xvt.drop(columns=feature)\n",
    "\n",
    "        # Fit the model with ablated features        \n",
    "        abl_model.fit(modified_X_train_trans, ytt)\n",
    "\n",
    "        # Evaluation on train data\n",
    "        modified_train_predictions = abl_model.predict(modified_X_train_trans)\n",
    "        modified_train_predictions = np.clip(modified_train_predictions, 0, 100)\n",
    "        modified_mae_train = mean_absolute_error(ytt, modified_train_predictions)\n",
    "\n",
    "        # Evaluation on validation data\n",
    "        modified_val_predictions = abl_model.predict(modified_X_val_trans)\n",
    "        modified_val_predictions = np.clip(modified_val_predictions, 0, 100)\n",
    "        modified_mae_val = mean_absolute_error(yvt, modified_val_predictions)\n",
    "        \n",
    "        # Calculate MAE changes\n",
    "        mae_change_train = baseline_mae_train - modified_mae_train\n",
    "        mae_change_val = baseline_mae_val - modified_mae_val\n",
    "\n",
    "        ablation_result_dict = {\n",
    "            'Removed_Feature': \", \".join(feature),\n",
    "            'Train_MAE': modified_mae_train,\n",
    "            'Train_MAE_Change': mae_change_train,\n",
    "            'Train_MAE_Pct_Change': 100*(1-(modified_mae_train/baseline_mae_train)),\n",
    "            'Val_MAE': modified_mae_val,\n",
    "            'Val_MAE_Change': mae_change_val,\n",
    "            'Val_MAE_Pct_Change': 100*(1-(modified_mae_val/baseline_mae_val))\n",
    "        }\n",
    "        \n",
    "        ablation_results_list.append(ablation_result_dict)\n",
    "    \n",
    "    feature_ablation_df = pd.DataFrame(ablation_results_list)\n",
    "    \n",
    "    return feature_ablation_df, baseline_mae_val, baseline_mae_train"
   ],
   "block_group": "0c78b8575d3e4fed8c1258672fbd63cf",
   "execution_count": null,
   "outputs": [],
   "outputs_reference": null
  },
  {
   "cell_type": "code",
   "metadata": {
    "source_hash": null,
    "execution_start": 1712254666645,
    "execution_millis": 76,
    "deepnote_to_be_reexecuted": false,
    "deepnote_app_block_visible": true,
    "cell_id": "86495f31c69143009aa22c9edfbdb20f",
    "deepnote_cell_type": "code"
   },
   "source": [
    "# Define the Hyperparameter space\n",
    "space = {\n",
    "    'alpha': hp.loguniform('alpha', np.log(1e-1), np.log(1e3)),\n",
    "    'l1_ratio': hp.uniform('l1_ratio', 0, 1.0)\n",
    "}"
   ],
   "block_group": "3a00bdd5413841deb53ccbfa46d6227b",
   "execution_count": null,
   "outputs": [],
   "outputs_reference": null
  },
  {
   "cell_type": "markdown",
   "metadata": {
    "is_collapsed": false,
    "formattedRanges": [],
    "deepnote_app_block_visible": true,
    "cell_id": "452a88c610124cd099be14c888a5b422",
    "deepnote_cell_type": "text-cell-h1"
   },
   "source": [
    "# Caribbean Region"
   ],
   "block_group": "f1427867b545433990280c904087c651"
  },
  {
   "cell_type": "markdown",
   "metadata": {
    "formattedRanges": [],
    "deepnote_app_block_visible": true,
    "cell_id": "0575edcaeb144a5f9892770cd8a6c4bc",
    "deepnote_cell_type": "text-cell-h2"
   },
   "source": [
    "## Import the Data"
   ],
   "block_group": "c032e474be5b4808bc0f5c47e96918cb"
  },
  {
   "cell_type": "code",
   "metadata": {
    "source_hash": null,
    "execution_start": 1712254666649,
    "execution_millis": 1165,
    "deepnote_to_be_reexecuted": false,
    "deepnote_app_block_visible": true,
    "cell_id": "0df011ff258d4816b3ea38c1498c7cc6",
    "deepnote_cell_type": "code"
   },
   "source": [
    "X_train_trans, X_val_trans, X_holdout_trans, y_train_trans, y_val_trans, y_holdout_trans = import_data(location_name='CARB')"
   ],
   "block_group": "0f53ed0fda7a4769b509d8d3f314d469",
   "execution_count": null,
   "outputs": [],
   "outputs_reference": null
  },
  {
   "cell_type": "markdown",
   "metadata": {
    "is_collapsed": false,
    "formattedRanges": [],
    "deepnote_app_block_visible": true,
    "cell_id": "50921c0bc5ba4f26881d0a15ac24d6c7",
    "deepnote_cell_type": "text-cell-h2"
   },
   "source": [
    "## Hyperparameter Tuning"
   ],
   "block_group": "8e8a57b936db489b84c356e2b0f80e08"
  },
  {
   "cell_type": "markdown",
   "metadata": {
    "formattedRanges": [],
    "deepnote_app_block_visible": true,
    "cell_id": "fdcb58eb9f6d47cab405fe56368e0e1e",
    "deepnote_cell_type": "text-cell-h3"
   },
   "source": [
    "### Execute Hyperparameter search"
   ],
   "block_group": "016820d33d6942cc9f17cc230e41c67b"
  },
  {
   "cell_type": "code",
   "metadata": {
    "source_hash": null,
    "execution_start": 1712254667817,
    "execution_millis": 210972,
    "deepnote_to_be_reexecuted": false,
    "deepnote_app_block_visible": true,
    "cell_id": "83fd1b6053a445ac91b796fba8240235",
    "deepnote_cell_type": "code"
   },
   "source": [
    "# Instantiate Neptune instance\n",
    "run = neptune.init_run(\n",
    "    name=\"ElasticNet Reg Caribbean\",\n",
    "    tags=[\"ElasticNet\", \"regression\", \"hyperopt\", \"RMSE\", \"Caribbean\", \"CARB\"],\n",
    "    description=\"Elastic Hyperopt with RMSE on Caribbean\"\n",
    ")\n",
    "\n",
    "# Create the Trials object\n",
    "CARB_trials = Trials()\n",
    "\n",
    "# Create the fmin object\n",
    "CARB_best_hyperparams = fmin(fn = objective,\n",
    "                            space = space,\n",
    "                            algo = tpe.suggest,\n",
    "                            max_evals = 1000,\n",
    "                            trials = CARB_trials,\n",
    "                            show_progressbar=True,\n",
    "                            early_stop_fn=no_progress_loss(100))\n",
    "\n",
    "# Stop Neptune instance\n",
    "run.stop()\n",
    "\n",
    "CARB_best_trial = CARB_trials.best_trial\n",
    "CARB_best_hps = CARB_best_hyperparams.copy()\n",
    "\n",
    "CARB_best_hps['alpha'] = float(CARB_best_hps['alpha'])\n",
    "CARB_best_hps['l1_ratio'] = float(CARB_best_hps['l1_ratio'])"
   ],
   "block_group": "9fd65f126f234996825f29b02f9cfbad",
   "execution_count": null,
   "outputs": [],
   "outputs_reference": "s3:deepnote-cell-outputs-production/a5d22835-9a57-4cc9-96e1-e4df229fb74c"
  },
  {
   "cell_type": "markdown",
   "metadata": {
    "formattedRanges": [],
    "deepnote_app_block_visible": true,
    "cell_id": "7ce524b3dede4384b534462a0998c8f4",
    "deepnote_cell_type": "text-cell-h3"
   },
   "source": [
    "### Review the Hyperparameter Search Validation MAE Scores and Hyperparameters"
   ],
   "block_group": "5e18df8b4a3748f894e8aa1ba861e660"
  },
  {
   "cell_type": "code",
   "metadata": {
    "source_hash": null,
    "execution_start": 1712254878792,
    "execution_millis": 354,
    "deepnote_to_be_reexecuted": false,
    "deepnote_app_block_visible": true,
    "cell_id": "6228a018fa2640bcb87ad2d32f389aed",
    "deepnote_cell_type": "code"
   },
   "source": [
    "# What's the best trial from the search? Report the MAE & StdDev\n",
    "print(f\"Best Mean Absolute Error: {CARB_trials.best_trial['result']['loss']:.4f}\")\n",
    "print(f\"Best Standard Error: {CARB_trials.best_trial['result']['std']:.4f}\")"
   ],
   "block_group": "e03cff7282584c11b165765d2b929b2a",
   "execution_count": null,
   "outputs": [],
   "outputs_reference": "dbtable:cell_outputs/2d34f32f-847c-42e1-b7c8-a19dae0e928d"
  },
  {
   "cell_type": "code",
   "metadata": {
    "source_hash": null,
    "execution_start": 1712254878793,
    "execution_millis": 354,
    "deepnote_to_be_reexecuted": false,
    "deepnote_app_block_visible": true,
    "cell_id": "ee59ab892714497c98170c6d4b93805c",
    "deepnote_cell_type": "code"
   },
   "source": [
    "# Display the best hyperparameters\n",
    "CARB_best_hps"
   ],
   "block_group": "2d368b28481d4163990b20c6623a2207",
   "execution_count": null,
   "outputs": [],
   "outputs_reference": "dbtable:cell_outputs/eca4c853-1f4b-499b-b853-f464bffb5449"
  },
  {
   "cell_type": "markdown",
   "metadata": {
    "formattedRanges": [],
    "deepnote_app_block_visible": true,
    "cell_id": "3da214e6cebd4c9081012b80174b2a63",
    "deepnote_cell_type": "text-cell-h2"
   },
   "source": [
    "## Recreate the model and get new MAE and Feature Importance"
   ],
   "block_group": "510eb6a614644592ba9b30bfd46bb4e1"
  },
  {
   "cell_type": "code",
   "metadata": {
    "source_hash": null,
    "execution_start": 1712254878794,
    "execution_millis": 374,
    "deepnote_to_be_reexecuted": false,
    "deepnote_app_block_visible": true,
    "cell_id": "f2f354268f88490d8500a6f75d3aceb0",
    "deepnote_cell_type": "code"
   },
   "source": [
    "# Recreate the model with the best hyperparameters\n",
    "CARB_model = model_score(CARB_best_hps, holdout=True, val=True)\n",
    "\n",
    "# Plot the feature importance\n",
    "plot_feat_importance(CARB_model)"
   ],
   "block_group": "2ca3dcfbf27f41bab8cb7866df059743",
   "execution_count": null,
   "outputs": [],
   "outputs_reference": "s3:deepnote-cell-outputs-production/5903f55f-feb4-4e0b-8e14-caa5a57e87eb"
  },
  {
   "cell_type": "markdown",
   "metadata": {
    "is_collapsed": false,
    "formattedRanges": [],
    "deepnote_app_block_visible": true,
    "cell_id": "b40693990d664894b4366943c27e7330",
    "deepnote_cell_type": "text-cell-h2"
   },
   "source": [
    "## Feature Ablation"
   ],
   "block_group": "09cdeccecbf240e68a8256985a4b599f"
  },
  {
   "cell_type": "code",
   "metadata": {
    "source_hash": null,
    "execution_start": 1712254879212,
    "execution_millis": 4028,
    "deepnote_to_be_reexecuted": false,
    "deepnote_app_block_visible": true,
    "cell_id": "47c72f3db49d42d2a060352a0652b762",
    "deepnote_cell_type": "code"
   },
   "source": [
    "%%time\n",
    "# First run through the feature ablation process\n",
    "# This will determine which features can potentially be removed\n",
    "CARB_feature_ablation_df, CARB_baseline_mae_val, CARB_baseline_mae_train = feat_ablation(\n",
    "    model=CARB_model, hps=CARB_best_hps, \n",
    "    Xtt=X_train_trans, ytt=y_train_trans, \n",
    "    Xvt=X_val_trans, yvt=y_val_trans, \n",
    "    Xht=X_holdout_trans, yht=y_holdout_trans)"
   ],
   "block_group": "8c29dae6f92447749a2fa116b323bea8",
   "execution_count": null,
   "outputs": [],
   "outputs_reference": "dbtable:cell_outputs/24f4b5eb-6d40-4b68-9653-768d688d85d8"
  },
  {
   "cell_type": "code",
   "metadata": {
    "source_hash": null,
    "execution_start": 1712254883243,
    "execution_millis": 267,
    "deepnote_table_state": {
     "sortBy": [],
     "filters": [],
     "pageSize": 50,
     "pageIndex": 0
    },
    "deepnote_table_loading": false,
    "deepnote_to_be_reexecuted": false,
    "deepnote_app_block_visible": true,
    "cell_id": "cbedba1c4876442e8a5eb7b25306601e",
    "deepnote_cell_type": "code"
   },
   "source": [
    "# Show the feature ablation dataframe, sorted by the change in MAE to Validation data\n",
    "CARB_feature_ablation_df.sort_values('Val_MAE_Change', ascending=False)"
   ],
   "block_group": "ced566f9b071492da231bf8860fc5a06",
   "execution_count": null,
   "outputs": [],
   "outputs_reference": "s3:deepnote-cell-outputs-production/d666f74f-02e4-485f-9dad-6311e1f2b613"
  },
  {
   "cell_type": "code",
   "metadata": {
    "source_hash": null,
    "execution_start": 1712254883349,
    "execution_millis": 305,
    "deepnote_to_be_reexecuted": false,
    "deepnote_app_block_visible": true,
    "cell_id": "6b44a27e7efc4d73b0e5c684dc126a2b",
    "deepnote_cell_type": "code"
   },
   "source": [
    "# Generate the top 5 features to use in feature ablation combinations\n",
    "CARB_abl_list_to_combo = CARB_feature_ablation_df[CARB_feature_ablation_df['Val_MAE'] <= CARB_baseline_mae_val].sort_values('Val_MAE_Change', ascending=False)['Removed_Feature'].head(5).values[0].split(', ')\n",
    "\n",
    "# Show the top 5 features\n",
    "CARB_abl_list_to_combo"
   ],
   "block_group": "0b0bc9eb4cb24a989669e7b5c4f843e0",
   "execution_count": null,
   "outputs": [],
   "outputs_reference": "dbtable:cell_outputs/7b6cb282-8280-4e2d-a589-f89a1f0f669e"
  },
  {
   "cell_type": "code",
   "metadata": {
    "source_hash": null,
    "execution_start": 1712254883352,
    "execution_millis": 4298,
    "deepnote_to_be_reexecuted": false,
    "deepnote_app_block_visible": true,
    "cell_id": "0bf188c01b9d4672a5f2f961c2fd09d7",
    "deepnote_cell_type": "code"
   },
   "source": [
    "%%time\n",
    "# Second run through the feature ablation process\n",
    "# This time including the top 5 features whose removal decreased the MAE\n",
    "# These top 5 features will be combined using itertools\n",
    "CARB_feature_ablation_df, CARB_baseline_mae_val, CARB_baseline_mae_train = feat_ablation(\n",
    "    model=CARB_model, hps=CARB_best_hps, \n",
    "    Xtt=X_train_trans, ytt=y_train_trans, \n",
    "    Xvt=X_val_trans, yvt=y_val_trans, \n",
    "    Xht=X_holdout_trans, yht=y_holdout_trans, \n",
    "    abl_list_to_combo=CARB_abl_list_to_combo)"
   ],
   "block_group": "5f05f331a8af4a41825c9a285ca236e7",
   "execution_count": null,
   "outputs": [],
   "outputs_reference": "dbtable:cell_outputs/9bc7aa4f-c7d5-4bfe-998f-125cd1fac649"
  },
  {
   "cell_type": "code",
   "metadata": {
    "source_hash": null,
    "execution_start": 1712254887741,
    "execution_millis": 182,
    "deepnote_table_state": {
     "sortBy": [
      {
       "id": "Val_MAE_Change",
       "type": "desc"
      }
     ],
     "filters": [],
     "pageSize": 25,
     "pageIndex": 0
    },
    "deepnote_table_loading": false,
    "deepnote_to_be_reexecuted": false,
    "deepnote_app_block_visible": true,
    "cell_id": "92c42d5383a3483e939c5217c23d82a6",
    "deepnote_cell_type": "code"
   },
   "source": [
    "# Show the feature ablation dataframe, sorted by the change in MAE to Validation data\n",
    "CARB_feature_ablation_df[CARB_feature_ablation_df['Val_MAE'] <= CARB_baseline_mae_val]"
   ],
   "block_group": "8c0621fd67824838aa555fb148c8c08c",
   "execution_count": null,
   "outputs": [],
   "outputs_reference": "s3:deepnote-cell-outputs-production/5f94588d-1b9a-463b-9ce0-dc25b38f6418"
  },
  {
   "cell_type": "code",
   "metadata": {
    "source_hash": null,
    "execution_start": 1712254887748,
    "execution_millis": 342,
    "deepnote_to_be_reexecuted": false,
    "deepnote_app_block_visible": true,
    "cell_id": "6f9097fd451f42058726005fce0d9a70",
    "deepnote_cell_type": "code"
   },
   "source": [
    "# Show the top 1 feature, which we'll remove.  Might be multiple features, so we split the string\n",
    "CARB_feature_ablation_df[CARB_feature_ablation_df['Val_MAE'] <= CARB_baseline_mae_val].sort_values('Val_MAE_Change', ascending=False)['Removed_Feature'].head(5).to_list()"
   ],
   "block_group": "c54e98cf034a41098b1ef44b9c043231",
   "execution_count": null,
   "outputs": [],
   "outputs_reference": "dbtable:cell_outputs/cacd1ca5-80d9-4422-b6c3-3c1cd0336004"
  },
  {
   "cell_type": "code",
   "metadata": {
    "source_hash": null,
    "execution_start": 1712254887749,
    "execution_millis": 342,
    "deepnote_to_be_reexecuted": false,
    "deepnote_app_block_visible": true,
    "cell_id": "92810ae478a340499b1894fd3b2ecf49",
    "deepnote_cell_type": "code"
   },
   "source": [
    "# Define the top features to drop\n",
    "CARB_drop_cols = CARB_feature_ablation_df[CARB_feature_ablation_df['Val_MAE'] <= CARB_baseline_mae_val].sort_values('Val_MAE_Change', ascending=False)['Removed_Feature'].head(1).values[0].split(', ')\n",
    "\n",
    "# Create the feature columns list for saving out\n",
    "CARB_feat_columns = X_train_trans.drop(columns=CARB_drop_cols).columns.to_list()\n",
    "\n",
    "# Recreate the model with the dropped columns\n",
    "# It should have a lower MAE score than the original\n",
    "CARB_experiment_model = model_score(\n",
    "    CARB_best_hps, val=True, \n",
    "    Xtt=X_train_trans.drop(columns=CARB_drop_cols), ytt=y_train_trans, \n",
    "    Xvt=X_val_trans.drop(columns=CARB_drop_cols), yvt=y_val_trans, \n",
    "    Xht=X_holdout_trans.drop(columns=CARB_drop_cols), yht=y_holdout_trans)\n",
    "\n",
    "# Plot the feature importance for this model\n",
    "plot_feat_importance(CARB_experiment_model)"
   ],
   "block_group": "610f1a852a7f4193a65c1f1d15924609",
   "execution_count": null,
   "outputs": [],
   "outputs_reference": "s3:deepnote-cell-outputs-production/6c791b8b-4f9f-4c0e-a40b-7f0bc38f81db"
  },
  {
   "cell_type": "markdown",
   "metadata": {
    "formattedRanges": [],
    "deepnote_app_block_visible": true,
    "cell_id": "5a5e826dd49944fba348f8b56d09600b",
    "deepnote_cell_type": "text-cell-h3"
   },
   "source": [
    "### Output the Model, Trials, Parameters and Feature List to disk"
   ],
   "block_group": "b8c3eec0f6b94fcc9e32ba6f2c5ff2a7"
  },
  {
   "cell_type": "code",
   "metadata": {
    "source_hash": null,
    "execution_start": 1712254888081,
    "execution_millis": 880,
    "deepnote_to_be_reexecuted": false,
    "deepnote_app_block_visible": true,
    "cell_id": "74e05561b0d24ce18a97a8a485286b51",
    "deepnote_cell_type": "code"
   },
   "source": [
    "# Write out the model artifacts to disk\n",
    "write_out(model=CARB_model, trials=CARB_trials, params=CARB_best_hps, feat_cols=CARB_feat_columns, location_name='CARB')"
   ],
   "block_group": "053444987e0d411ba8f0852f8762f731",
   "execution_count": null,
   "outputs": [],
   "outputs_reference": null
  },
  {
   "cell_type": "markdown",
   "metadata": {
    "is_collapsed": false,
    "formattedRanges": [],
    "deepnote_app_block_visible": true,
    "cell_id": "412b4576a4ae479cbbdbb5aedb886a42",
    "deepnote_cell_type": "text-cell-h2"
   },
   "source": [
    "## Review Holdout Truth vs Predictions"
   ],
   "block_group": "139ee5a3d74144fc807ec52d372ad6e4"
  },
  {
   "cell_type": "code",
   "metadata": {
    "source_hash": null,
    "execution_start": 1712254888964,
    "execution_millis": 110,
    "deepnote_to_be_reexecuted": false,
    "deepnote_app_block_visible": true,
    "cell_id": "1640a3e0ef7a442ab8a69810ee371d92",
    "deepnote_cell_type": "code"
   },
   "source": [
    "eval_df = y_val_trans.copy(deep=True)\n",
    "CARB_val_pred = CARB_model.predict(X_val_trans)\n",
    "CARB_val_pred = np.clip(CARB_val_pred, 0, 100)\n",
    "eval_df['predictions'] = CARB_val_pred.tolist()\n",
    "eval_df['diff'] = eval_df['y_val'] - eval_df['predictions']"
   ],
   "block_group": "0abf6862b25e4bc4b4061e7db1e64a3e",
   "execution_count": null,
   "outputs": [],
   "outputs_reference": null
  },
  {
   "cell_type": "code",
   "metadata": {
    "source_hash": null,
    "execution_start": 1712254888968,
    "execution_millis": 447,
    "deepnote_table_state": {
     "sortBy": [],
     "filters": [],
     "pageSize": 25,
     "pageIndex": 0
    },
    "deepnote_table_loading": false,
    "deepnote_to_be_reexecuted": false,
    "deepnote_app_block_visible": true,
    "cell_id": "1af8c89cafff4bbdac7d160286c6c903",
    "deepnote_cell_type": "code"
   },
   "source": [
    "eval_df.sort_values(by='diff', ascending=False).head(20)"
   ],
   "block_group": "e11ab89146f34829a95efb1a627531f9",
   "execution_count": null,
   "outputs": [],
   "outputs_reference": "s3:deepnote-cell-outputs-production/820f3265-66d7-43cd-b9f7-967f6eee975e"
  },
  {
   "cell_type": "code",
   "metadata": {
    "source_hash": null,
    "execution_start": 1712254888985,
    "execution_millis": 431,
    "deepnote_to_be_reexecuted": false,
    "deepnote_app_block_visible": true,
    "cell_id": "2a639b9715904c39b499952a1f4db307",
    "deepnote_cell_type": "code"
   },
   "source": [
    "fig = px.histogram(eval_df[eval_df['y_val'] > 5], x='diff', nbins=100, title='Distribution of the diff between prediction and holdout where true value > 5')\n",
    "\n",
    "# Show the plot\n",
    "fig.show()"
   ],
   "block_group": "b515f851aad24673ab421c56adc26d09",
   "execution_count": null,
   "outputs": [],
   "outputs_reference": "s3:deepnote-cell-outputs-production/f998bc76-f97a-4a96-ad0c-954c16741df4"
  },
  {
   "cell_type": "code",
   "metadata": {
    "source_hash": null,
    "execution_start": 1712254889065,
    "execution_millis": 351,
    "deepnote_table_state": {
     "sortBy": [],
     "filters": [],
     "pageSize": 25,
     "pageIndex": 0
    },
    "deepnote_table_loading": false,
    "deepnote_to_be_reexecuted": false,
    "deepnote_app_block_visible": true,
    "cell_id": "9393d133f82e4e6a8ebc34722f7754c9",
    "deepnote_cell_type": "code"
   },
   "source": [
    "#eval_df[(eval_df['diff'].between(-5,5))]\n",
    "#eval_df[(eval_df['diff'].between(-5,5)) & (eval_df['y_val'] > 5)]\n",
    "eval_df[~(eval_df['diff'].between(-5,5))]\n"
   ],
   "block_group": "c4537cf4ea804253a4da3993acd0b6e3",
   "execution_count": null,
   "outputs": [],
   "outputs_reference": "s3:deepnote-cell-outputs-production/7e2adf9e-cdcf-443c-a489-89f20fef9848"
  },
  {
   "cell_type": "markdown",
   "metadata": {
    "formattedRanges": [],
    "deepnote_app_block_visible": true,
    "cell_id": "8f5bb043bfeb426db4a930c2c6e7e461",
    "deepnote_cell_type": "text-cell-h2"
   },
   "source": [
    "## SHAP Analysis"
   ],
   "block_group": "e40d498cd3a04efe8340bcd336d42635"
  },
  {
   "cell_type": "markdown",
   "metadata": {
    "formattedRanges": [],
    "deepnote_app_block_visible": true,
    "cell_id": "0c773e6807314fcaa4db2c0468ba6edc",
    "deepnote_cell_type": "text-cell-h3"
   },
   "source": [
    "### Create SHAP Objects"
   ],
   "block_group": "df59f68bcdf4446b81ee99beccaa87d0"
  },
  {
   "cell_type": "code",
   "metadata": {
    "source_hash": null,
    "execution_start": 1712254889133,
    "execution_millis": 501,
    "deepnote_to_be_reexecuted": false,
    "deepnote_app_block_visible": true,
    "cell_id": "aa21fcda9a2648b8b217330ca19efa28",
    "deepnote_cell_type": "code"
   },
   "source": [
    "# %%time\n",
    "# CARB_X_val_trans = X_val_trans.copy(deep=True)\n",
    "# CARB_y_val_trans = y_val_trans.copy(deep=True)\n",
    "# explainer = shap.TreeExplainer(CARB_model)\n",
    "# shap_values = explainer(CARB_X_val_trans)\n",
    "# shap_interaction = explainer.shap_interaction_values(CARB_X_val_trans)\n",
    "# sv = explainer.shap_values(CARB_X_val_trans)\n",
    "# shap.initjs()"
   ],
   "block_group": "c7de2fc85ece4c89b3ca9e620545be73",
   "execution_count": null,
   "outputs": [],
   "outputs_reference": null
  },
  {
   "cell_type": "code",
   "metadata": {
    "source_hash": null,
    "execution_start": 1712254889133,
    "execution_millis": 501,
    "deepnote_to_be_reexecuted": false,
    "deepnote_app_block_visible": true,
    "cell_id": "a918e142ba33496ba239f96484590d73",
    "deepnote_cell_type": "code"
   },
   "source": [
    "# Beeswarm Importance\n",
    "# plt.figure(figsize=(8,6))\n",
    "# plt.title(f\"SHAP Beeswarm Analysis\")\n",
    "# shap.plots.beeswarm(shap_values, max_display=32)\n",
    "# plt.close()"
   ],
   "block_group": "9d7304cc62fd4802b6aba47b154e7a5a",
   "execution_count": null,
   "outputs": [],
   "outputs_reference": null
  },
  {
   "cell_type": "markdown",
   "metadata": {
    "formattedRanges": [],
    "deepnote_app_block_visible": true,
    "cell_id": "88a3a164468343459286a22250dfef4b",
    "deepnote_cell_type": "text-cell-h3"
   },
   "source": [
    "### Investigate Individual Predictions"
   ],
   "block_group": "00a6d7f716f04492af4d77a7895ea7be"
  },
  {
   "cell_type": "code",
   "metadata": {
    "source_hash": null,
    "execution_start": 1712254889134,
    "execution_millis": 501,
    "deepnote_to_be_reexecuted": false,
    "deepnote_app_block_visible": true,
    "cell_id": "7c895a6055374ce6b022fb92bf91167e",
    "deepnote_cell_type": "code"
   },
   "source": [
    "#investigate = CARB_X_val_trans.index.get_loc(5809)\n",
    "# print(CARB_y_val_trans.iloc[investigate])"
   ],
   "block_group": "fd49f345257942e4832f92ff46b8724a",
   "execution_count": null,
   "outputs": [],
   "outputs_reference": null
  },
  {
   "cell_type": "code",
   "metadata": {
    "source_hash": null,
    "execution_start": 1712254889143,
    "execution_millis": 492,
    "deepnote_to_be_reexecuted": false,
    "deepnote_app_block_visible": true,
    "cell_id": "f695c97e8da646529845b7006d554f94",
    "deepnote_cell_type": "code"
   },
   "source": [
    "# Waterfall on a prediction\n",
    "# plt.figure(figsize=(8,6))\n",
    "# shap.plots.waterfall(shap_values[investigate], max_display=20) # , show=False\n",
    "# plt.close()"
   ],
   "block_group": "8a661b7b2e6a44dd8e188e2d0ace7bcb",
   "execution_count": null,
   "outputs": [],
   "outputs_reference": null
  },
  {
   "cell_type": "code",
   "metadata": {
    "source_hash": null,
    "execution_start": 1712254889143,
    "execution_millis": 492,
    "deepnote_to_be_reexecuted": false,
    "deepnote_app_block_visible": true,
    "cell_id": "404f5494f51f40be9cd3c82ffa820b86",
    "deepnote_cell_type": "code"
   },
   "source": [
    "# Decision plot on a prediction\n",
    "# shap.decision_plot(explainer.expected_value, explainer.shap_values(CARB_X_val_trans)[investigate], CARB_X_val_trans, feature_display_range=slice(-1,-51,-1))"
   ],
   "block_group": "8b40f4b93b644aa691bcfa4a76cd747d",
   "execution_count": null,
   "outputs": [],
   "outputs_reference": null
  },
  {
   "cell_type": "markdown",
   "metadata": {
    "is_collapsed": false,
    "formattedRanges": [],
    "deepnote_app_block_visible": true,
    "cell_id": "4a13813dc6c64158a667c33155c88e12",
    "deepnote_cell_type": "text-cell-h1"
   },
   "source": [
    "# South East Asia and Australia Region"
   ],
   "block_group": "f341c9600c0d47c09020907304caa863"
  },
  {
   "cell_type": "markdown",
   "metadata": {
    "formattedRanges": [],
    "deepnote_app_block_visible": true,
    "cell_id": "d4ba7b72545d4abca194cfe8916f0963",
    "deepnote_cell_type": "text-cell-h2"
   },
   "source": [
    "## Import the Data"
   ],
   "block_group": "cff5ae98cd7c4689b9c0553657bd6760"
  },
  {
   "cell_type": "code",
   "metadata": {
    "allow_embed": false,
    "source_hash": null,
    "execution_start": 1712254889148,
    "execution_millis": 1443,
    "deepnote_to_be_reexecuted": false,
    "deepnote_app_block_visible": true,
    "cell_id": "b6779a2fd8a6429d9998422fca59b9ef",
    "deepnote_cell_type": "code"
   },
   "source": [
    "X_train_trans, X_val_trans, X_holdout_trans, y_train_trans, y_val_trans, y_holdout_trans = import_data(location_name='SEAA')"
   ],
   "block_group": "d837398a0964481daf71b0dbb17f99c4",
   "execution_count": null,
   "outputs": [],
   "outputs_reference": null
  },
  {
   "cell_type": "markdown",
   "metadata": {
    "is_collapsed": false,
    "formattedRanges": [],
    "deepnote_app_block_visible": true,
    "cell_id": "08591a0102524deda0f80eac61294ed2",
    "deepnote_cell_type": "text-cell-h2"
   },
   "source": [
    "## Hyperparameter Tuning"
   ],
   "block_group": "cbad4f42081647f7ac57de419a0937f5"
  },
  {
   "cell_type": "markdown",
   "metadata": {
    "formattedRanges": [],
    "deepnote_app_block_visible": true,
    "cell_id": "ad13c1c3dccd4eeea864bee6b82cb458",
    "deepnote_cell_type": "text-cell-h3"
   },
   "source": [
    "### Execute Hyperparameter search"
   ],
   "block_group": "df0da39a99ac424997e15f3b6df3a25d"
  },
  {
   "cell_type": "code",
   "metadata": {
    "allow_embed": false,
    "source_hash": null,
    "execution_start": 1712254890594,
    "execution_millis": 442304,
    "deepnote_to_be_reexecuted": false,
    "deepnote_app_block_visible": true,
    "cell_id": "c0f27dd593da46728ae12c6e048a367d",
    "deepnote_cell_type": "code"
   },
   "source": [
    "# Instantiate Neptune instance\n",
    "run = neptune.init_run(\n",
    "    name=\"ElasticNet Reg South East Asia and Australia\",\n",
    "    tags=[\"ElasticNet\", \"regression\", \"hyperopt\", \"RMSE\", \"South East Asia and Australia\", \"SEAA\"],\n",
    "    description=\"ElasticNet Hyperopt with RMSE on South East Asia and Australia\"\n",
    ")\n",
    "\n",
    "# Create the Trials object\n",
    "SEAA_trials = Trials()\n",
    "\n",
    "# Create the fmin object\n",
    "SEAA_best_hyperparams = fmin(fn = objective,\n",
    "                            space = space,\n",
    "                            algo = tpe.suggest,\n",
    "                            max_evals = 1000,\n",
    "                            trials = SEAA_trials,\n",
    "                            show_progressbar=True,\n",
    "                            early_stop_fn=no_progress_loss(100))\n",
    "\n",
    "# Stop Neptune instance\n",
    "run.stop()\n",
    "\n",
    "SEAA_best_trial = SEAA_trials.best_trial\n",
    "SEAA_best_hps = SEAA_best_hyperparams.copy()\n",
    "\n",
    "SEAA_best_hps['alpha'] = float(SEAA_best_hps['alpha'])\n",
    "SEAA_best_hps['l1_ratio'] = float(SEAA_best_hps['l1_ratio'])"
   ],
   "block_group": "b3ce289555a342078b8854ab5a577ff0",
   "execution_count": null,
   "outputs": [],
   "outputs_reference": "dbtable:cell_outputs/d78f3440-8ad6-41be-9f77-cbf75db612ef"
  },
  {
   "cell_type": "markdown",
   "metadata": {
    "formattedRanges": [],
    "deepnote_app_block_visible": true,
    "cell_id": "3750b52a51b445fb93e05f2ff6f53b36",
    "deepnote_cell_type": "text-cell-h3"
   },
   "source": [
    "### Review the Hyperparameter Search Validation MAE Scores and Hyperparameters"
   ],
   "block_group": "872d9797753c43cb9ea0aac9295f236b"
  },
  {
   "cell_type": "code",
   "metadata": {
    "allow_embed": false,
    "source_hash": null,
    "execution_start": 1712255332901,
    "execution_millis": 163,
    "deepnote_to_be_reexecuted": false,
    "deepnote_app_block_visible": true,
    "cell_id": "d2df0f3dc6d5470bbb8681f27409f86b",
    "deepnote_cell_type": "code"
   },
   "source": [
    "# What's the best trial from the search? Report the MAE & StdDev\n",
    "print(f\"Best Mean Absolute Error: {SEAA_trials.best_trial['result']['loss']:.4f}\")\n",
    "print(f\"Best Standard Error: {SEAA_trials.best_trial['result']['std']:.4f}\")"
   ],
   "block_group": "fd46e183b105449c82b6966a3161785f",
   "execution_count": null,
   "outputs": [],
   "outputs_reference": "dbtable:cell_outputs/55a37a7e-e213-4484-afd5-763276d7e1dd"
  },
  {
   "cell_type": "code",
   "metadata": {
    "allow_embed": false,
    "source_hash": null,
    "execution_start": 1712255332904,
    "execution_millis": 160,
    "deepnote_to_be_reexecuted": false,
    "deepnote_app_block_visible": true,
    "cell_id": "3803db62940b457d9e067ed2a4a8bd2e",
    "deepnote_cell_type": "code"
   },
   "source": [
    "# Display the best hyperparameters\n",
    "SEAA_best_hps"
   ],
   "block_group": "c9fe859c0c0c4df99b6aca669ed43e3b",
   "execution_count": null,
   "outputs": [],
   "outputs_reference": "dbtable:cell_outputs/634ef4c8-eeb9-40cd-99cd-59aaa9b28acf"
  },
  {
   "cell_type": "markdown",
   "metadata": {
    "formattedRanges": [],
    "deepnote_app_block_visible": true,
    "cell_id": "38ca7e710cca4a9bb0f5784e8a34749e",
    "deepnote_cell_type": "text-cell-h2"
   },
   "source": [
    "## Recreate the model and get new MAE and Feature Importance"
   ],
   "block_group": "e369fe5d08df4bc8bc3637c0b156625a"
  },
  {
   "cell_type": "code",
   "metadata": {
    "allow_embed": false,
    "source_hash": null,
    "execution_start": 1712255332909,
    "execution_millis": 251,
    "deepnote_to_be_reexecuted": false,
    "deepnote_app_block_visible": true,
    "cell_id": "c658273d3832463ca7dee8120808fd97",
    "deepnote_cell_type": "code"
   },
   "source": [
    "# Recreate the model with the best hyperparameters\n",
    "SEAA_model = model_score(SEAA_best_hps, holdout=True, val=True)\n",
    "\n",
    "# Plot the feature importance\n",
    "plot_feat_importance(SEAA_model)"
   ],
   "block_group": "c5c82f407c184f76948bacfcc0f1478b",
   "execution_count": null,
   "outputs": [],
   "outputs_reference": "s3:deepnote-cell-outputs-production/350d703f-98b0-4668-a5f9-19aa1210bb35"
  },
  {
   "cell_type": "markdown",
   "metadata": {
    "is_collapsed": false,
    "formattedRanges": [],
    "deepnote_app_block_visible": true,
    "cell_id": "0ceaf62f6f9049b9bed129f3baefd863",
    "deepnote_cell_type": "text-cell-h2"
   },
   "source": [
    "## Feature Ablation"
   ],
   "block_group": "d9a9481de5f54ec2a6e306f3023ac159"
  },
  {
   "cell_type": "code",
   "metadata": {
    "allow_embed": false,
    "source_hash": null,
    "execution_start": 1712255333164,
    "execution_millis": 5984,
    "deepnote_to_be_reexecuted": false,
    "deepnote_app_block_visible": true,
    "cell_id": "a368212b37ce471080f72826a0fb6115",
    "deepnote_cell_type": "code"
   },
   "source": [
    "%%time\n",
    "# First run through the feature ablation process\n",
    "# This will determine which features can potentially be removed\n",
    "SEAA_feature_ablation_df, SEAA_baseline_mae_val, SEAA_baseline_mae_train = feat_ablation(\n",
    "    model=SEAA_model, hps=SEAA_best_hps, \n",
    "    Xtt=X_train_trans, ytt=y_train_trans, \n",
    "    Xvt=X_val_trans, yvt=y_val_trans, \n",
    "    Xht=X_holdout_trans, yht=y_holdout_trans)"
   ],
   "block_group": "8347e696994342b79295873e6e8eea83",
   "execution_count": null,
   "outputs": [],
   "outputs_reference": "dbtable:cell_outputs/ecfa291a-040e-4acb-92a6-3d34128153a1"
  },
  {
   "cell_type": "code",
   "metadata": {
    "allow_embed": false,
    "source_hash": null,
    "execution_start": 1712255339154,
    "execution_millis": 125,
    "deepnote_table_state": {
     "sortBy": [
      {
       "id": "Val_MAE_Change",
       "type": "desc"
      }
     ],
     "filters": [],
     "pageSize": 25,
     "pageIndex": 0
    },
    "deepnote_table_loading": false,
    "deepnote_to_be_reexecuted": false,
    "deepnote_app_block_visible": true,
    "cell_id": "f69acc69761f48cf95d9b33207bbcca9",
    "deepnote_cell_type": "code"
   },
   "source": [
    "# Show the feature ablation dataframe, sorted by the change in MAE to Validation data\n",
    "SEAA_feature_ablation_df.sort_values('Val_MAE_Change', ascending=False)"
   ],
   "block_group": "624745dcf51c4b7cb8a4f882ab2fcb62",
   "execution_count": null,
   "outputs": [],
   "outputs_reference": "s3:deepnote-cell-outputs-production/0b14ceab-d692-4c6f-83a6-64c59dc2a911"
  },
  {
   "cell_type": "code",
   "metadata": {
    "allow_embed": false,
    "source_hash": null,
    "execution_start": 1712255339248,
    "execution_millis": 201,
    "deepnote_to_be_reexecuted": false,
    "deepnote_app_block_visible": true,
    "cell_id": "f76c9d8de35943819b61d0ff4f1e7084",
    "deepnote_cell_type": "code"
   },
   "source": [
    "# Generate the top 5 features to use in feature ablation combinations\n",
    "SEAA_abl_list_to_combo = SEAA_feature_ablation_df[SEAA_feature_ablation_df['Val_MAE'] <= SEAA_baseline_mae_val].sort_values('Val_MAE_Change', ascending=False)['Removed_Feature'].head(5).to_list()\n",
    "\n",
    "# Review the list\n",
    "SEAA_abl_list_to_combo"
   ],
   "block_group": "f9f68d95c6424277b4b637b6bd3d3b96",
   "execution_count": null,
   "outputs": [],
   "outputs_reference": "dbtable:cell_outputs/6313db91-e023-4f2c-b91a-8e4412a0afc8"
  },
  {
   "cell_type": "code",
   "metadata": {
    "allow_embed": false,
    "source_hash": null,
    "execution_start": 1712255339254,
    "execution_millis": 11289,
    "deepnote_to_be_reexecuted": false,
    "deepnote_app_block_visible": true,
    "cell_id": "94b573a9a1b047c9917b67ec9fba9791",
    "deepnote_cell_type": "code"
   },
   "source": [
    "%%time\n",
    "# Second run through the feature ablation process\n",
    "# This time including the top 5 features whose removal decreased the MAE\n",
    "# These top 5 features will be combined using itertools\n",
    "SEAA_feature_ablation_df, SEAA_baseline_mae_val, SEAA_baseline_mae_train = feat_ablation(\n",
    "    model=SEAA_model, hps=SEAA_best_hps, \n",
    "    Xtt=X_train_trans, ytt=y_train_trans, \n",
    "    Xvt=X_val_trans, yvt=y_val_trans, \n",
    "    Xht=X_holdout_trans, yht=y_holdout_trans, \n",
    "    abl_list_to_combo=SEAA_abl_list_to_combo)"
   ],
   "block_group": "7aecb9616931456e9083fcb8d8353b16",
   "execution_count": null,
   "outputs": [],
   "outputs_reference": "dbtable:cell_outputs/1ca21d96-e4a1-42c8-bc60-8b3bf8277189"
  },
  {
   "cell_type": "code",
   "metadata": {
    "allow_embed": false,
    "source_hash": null,
    "execution_start": 1712255350546,
    "execution_millis": 266,
    "deepnote_table_state": {
     "sortBy": [
      {
       "id": "Val_MAE_Change",
       "type": "asc"
      }
     ],
     "filters": [],
     "pageSize": 10,
     "pageIndex": 0
    },
    "deepnote_table_loading": false,
    "deepnote_to_be_reexecuted": false,
    "deepnote_app_block_visible": true,
    "cell_id": "6c6692608e7246bfa2d3d4466bdfef93",
    "deepnote_cell_type": "code"
   },
   "source": [
    "# Show the feature ablation dataframe, sorted by the change in MAE to Validation data\n",
    "SEAA_feature_ablation_df[SEAA_feature_ablation_df['Val_MAE'] <= SEAA_baseline_mae_val].sort_values('Val_MAE_Change', ascending=False)"
   ],
   "block_group": "159962259d324ce8a5cc9c4d185ddbb5",
   "execution_count": null,
   "outputs": [],
   "outputs_reference": "s3:deepnote-cell-outputs-production/3f860178-b964-4a6e-831d-8b33c7d07d0b"
  },
  {
   "cell_type": "code",
   "metadata": {
    "allow_embed": false,
    "source_hash": null,
    "execution_start": 1712255350566,
    "execution_millis": 246,
    "deepnote_to_be_reexecuted": false,
    "deepnote_app_block_visible": true,
    "cell_id": "640d77ca2c8c442c9023b91901e2ef6f",
    "deepnote_cell_type": "code"
   },
   "source": [
    "# Show the top 1 feature, which we'll remove.  Might be multiple features, so we split the string\n",
    "SEAA_feature_ablation_df[SEAA_feature_ablation_df['Val_MAE'] <= SEAA_baseline_mae_val].sort_values('Val_MAE_Change', ascending=False)['Removed_Feature'].head(5).values[0].split(', ')"
   ],
   "block_group": "a92985f843fb48d2b7e4d9361a57df12",
   "execution_count": null,
   "outputs": [],
   "outputs_reference": "dbtable:cell_outputs/319ece7c-5845-499c-ae4b-6722ddc2b7f1"
  },
  {
   "cell_type": "code",
   "metadata": {
    "allow_embed": false,
    "source_hash": null,
    "execution_start": 1712255350572,
    "execution_millis": 241,
    "deepnote_to_be_reexecuted": false,
    "deepnote_app_block_visible": true,
    "cell_id": "d701e25bc1244cceb3f03bd179b337b7",
    "deepnote_cell_type": "code"
   },
   "source": [
    "# Define the top features to drop\n",
    "SEAA_drop_cols = SEAA_feature_ablation_df[SEAA_feature_ablation_df['Val_MAE'] <= SEAA_baseline_mae_val].sort_values('Val_MAE_Change', ascending=False)['Removed_Feature'].head(1).values[0].split(', ')\n",
    "\n",
    "# Create the feature columns list for saving out\n",
    "SEAA_feat_columns = X_train_trans.drop(columns=SEAA_drop_cols).columns.to_list()\n",
    "\n",
    "# Recreate the model with the dropped columns\n",
    "# It should have a lower MAE score than the original\n",
    "SEAA_experiment_model = model_score(\n",
    "    SEAA_best_hps, val=True, \n",
    "    Xtt=X_train_trans.drop(columns=SEAA_drop_cols), ytt=y_train_trans, \n",
    "    Xvt=X_val_trans.drop(columns=SEAA_drop_cols), yvt=y_val_trans, \n",
    "    Xht=X_holdout_trans.drop(columns=SEAA_drop_cols), yht=y_holdout_trans)\n",
    "\n",
    "# Plot the feature importance for this model\n",
    "plot_feat_importance(SEAA_experiment_model)"
   ],
   "block_group": "c5dbe7c2c21b480e860e9c78dd969be2",
   "execution_count": null,
   "outputs": [],
   "outputs_reference": "s3:deepnote-cell-outputs-production/91043979-3f96-4231-86f9-28fc96acf9de"
  },
  {
   "cell_type": "markdown",
   "metadata": {
    "formattedRanges": [],
    "deepnote_app_block_visible": true,
    "cell_id": "822d5ee6c8af4c5ab3b088eb94e84e29",
    "deepnote_cell_type": "text-cell-h3"
   },
   "source": [
    "### Output the Model, Trials, Parameters and Feature List to disk"
   ],
   "block_group": "c25d9529059e488ab7a48c1fd8ffba4a"
  },
  {
   "cell_type": "code",
   "metadata": {
    "allow_embed": false,
    "source_hash": null,
    "execution_start": 1712255350765,
    "execution_millis": 588,
    "deepnote_to_be_reexecuted": false,
    "deepnote_app_block_visible": true,
    "cell_id": "5bb97805232d47e4810b6e181a787136",
    "deepnote_cell_type": "code"
   },
   "source": [
    "# Write out the model artifacts to disk\n",
    "write_out(model=SEAA_model, trials=SEAA_trials, params=SEAA_best_hps, feat_cols=SEAA_feat_columns, location_name='SEAA')"
   ],
   "block_group": "f219c4dc92074d4a933b1070a253ff81",
   "execution_count": null,
   "outputs": [],
   "outputs_reference": null
  },
  {
   "cell_type": "markdown",
   "metadata": {
    "is_collapsed": false,
    "formattedRanges": [],
    "deepnote_app_block_visible": true,
    "cell_id": "55aa688cd46b4e0184b352880d0db677",
    "deepnote_cell_type": "text-cell-h2"
   },
   "source": [
    "## Review Holdout Truth vs Predictions"
   ],
   "block_group": "447d79d82f0f4ab885a152003698d89e"
  },
  {
   "cell_type": "code",
   "metadata": {
    "allow_embed": false,
    "source_hash": null,
    "execution_start": 1712255351357,
    "execution_millis": 97,
    "deepnote_to_be_reexecuted": false,
    "deepnote_app_block_visible": true,
    "cell_id": "e46e7ad909694126a8ec1b3d433f5084",
    "deepnote_cell_type": "code"
   },
   "source": [
    "eval_df = y_val_trans.copy(deep=True)\n",
    "SEAA_val_pred = SEAA_model.predict(X_val_trans)\n",
    "SEAA_val_pred = np.clip(SEAA_val_pred, 0, 100)\n",
    "eval_df['predictions'] = SEAA_val_pred.tolist()\n",
    "eval_df['diff'] = eval_df['y_val'] - eval_df['predictions']"
   ],
   "block_group": "546b1c3bc72a4eaf9fb55114186e5b6e",
   "execution_count": null,
   "outputs": [],
   "outputs_reference": null
  },
  {
   "cell_type": "code",
   "metadata": {
    "allow_embed": false,
    "source_hash": null,
    "execution_start": 1712255351363,
    "execution_millis": 331,
    "deepnote_to_be_reexecuted": false,
    "deepnote_app_block_visible": true,
    "cell_id": "01c54a2db6fc4a54b8db4e1799a6de7c",
    "deepnote_cell_type": "code"
   },
   "source": [
    "eval_df.sort_values(by='diff', ascending=False).head(20)"
   ],
   "block_group": "6022961bb2734057b33f05de2285a0d1",
   "execution_count": null,
   "outputs": [],
   "outputs_reference": "s3:deepnote-cell-outputs-production/31b2e6e4-a926-41fd-8fb3-a0ac5c35d1c0"
  },
  {
   "cell_type": "code",
   "metadata": {
    "allow_embed": false,
    "source_hash": null,
    "execution_start": 1712255351439,
    "execution_millis": 256,
    "deepnote_to_be_reexecuted": false,
    "deepnote_app_block_visible": true,
    "cell_id": "d2a9ef69df354267b7797697b57ea0da",
    "deepnote_cell_type": "code"
   },
   "source": [
    "fig = px.histogram(eval_df[eval_df['y_val'] > 5], x='diff', nbins=100, title='Distribution of the diff between prediction and holdout where true value > 5')\n",
    "\n",
    "# Show the plot\n",
    "fig.show()"
   ],
   "block_group": "9a11553a73b14acaa05e7d6b6c05eebe",
   "execution_count": null,
   "outputs": [],
   "outputs_reference": "s3:deepnote-cell-outputs-production/2b19c2ef-1596-45a2-bea3-b892b2508d87"
  },
  {
   "cell_type": "code",
   "metadata": {
    "allow_embed": false,
    "source_hash": null,
    "execution_start": 1712255351464,
    "execution_millis": 636,
    "deepnote_table_state": {
     "sortBy": [],
     "filters": [],
     "pageSize": 10,
     "pageIndex": 3
    },
    "deepnote_table_loading": false,
    "deepnote_to_be_reexecuted": false,
    "deepnote_app_block_visible": true,
    "cell_id": "d233ea7ca8c94c19a18ef3c5fdbca4da",
    "deepnote_cell_type": "code"
   },
   "source": [
    "#eval_df[(eval_df['diff'].between(-5,5))]\n",
    "#eval_df[(eval_df['diff'].between(-5,5)) & (eval_df['y_val'] > 5)]\n",
    "eval_df[~(eval_df['diff'].between(-5,5))]\n"
   ],
   "block_group": "90d8f7a3d5424ab68d7f8e74cb5c280d",
   "execution_count": null,
   "outputs": [],
   "outputs_reference": "s3:deepnote-cell-outputs-production/96bd70a6-462e-4d78-824b-5c7d1b6967b3"
  },
  {
   "cell_type": "code",
   "metadata": {
    "source_hash": null,
    "execution_start": 1712255351500,
    "execution_millis": 600,
    "deepnote_table_state": {
     "sortBy": [],
     "filters": [],
     "pageSize": 25,
     "pageIndex": 0
    },
    "deepnote_table_loading": false,
    "deepnote_to_be_reexecuted": false,
    "deepnote_app_block_visible": true,
    "cell_id": "7f1c72538df34c988887789f5675b96d",
    "deepnote_cell_type": "code"
   },
   "source": [
    "eval_df[(eval_df['diff'] > 100) | (eval_df['diff'] < 0)].sort_values(by='diff', ascending=False).head(20)\n"
   ],
   "block_group": "7168688180764c9e95c439f27677d2f8",
   "execution_count": null,
   "outputs": [],
   "outputs_reference": "s3:deepnote-cell-outputs-production/be983fac-c3b6-44da-b3b1-2363f759e210"
  },
  {
   "cell_type": "markdown",
   "metadata": {
    "formattedRanges": [],
    "deepnote_app_block_visible": true,
    "cell_id": "f0f2d3f6d6a3484d980e732c6c3f07ce",
    "deepnote_cell_type": "text-cell-h2"
   },
   "source": [
    "## SHAP Analysis"
   ],
   "block_group": "1a48ac9a830b47f5b1ea7782af14e4a9"
  },
  {
   "cell_type": "markdown",
   "metadata": {
    "formattedRanges": [],
    "deepnote_app_block_visible": true,
    "cell_id": "6f2bfd6c46f4423cb5beca3e1e6cea81",
    "deepnote_cell_type": "text-cell-h3"
   },
   "source": [
    "### Create SHAP Objects"
   ],
   "block_group": "ae48355f01664c9a8d89107f0a22b66e"
  },
  {
   "cell_type": "code",
   "metadata": {
    "allow_embed": false,
    "source_hash": null,
    "execution_start": 1712255351506,
    "execution_millis": 595,
    "deepnote_to_be_reexecuted": false,
    "deepnote_app_block_visible": true,
    "cell_id": "7c9a8f520e6949cfbc06ea7e4eb1daea",
    "deepnote_cell_type": "code"
   },
   "source": [
    "# %%time\n",
    "# SEAA_X_val_trans = X_val_trans.copy(deep=True)\n",
    "# SEAA_y_val_trans = y_val_trans.copy(deep=True)\n",
    "# explainer = shap.TreeExplainer(SEAA_model)\n",
    "# shap_values = explainer(SEAA_X_val_trans)\n",
    "# shap_interaction = explainer.shap_interaction_values(SEAA_X_val_trans)\n",
    "# sv = explainer.shap_values(SEAA_X_val_trans)\n",
    "# shap.initjs()"
   ],
   "block_group": "64e8cb9efe5b451aa5e93c2d51259afb",
   "execution_count": null,
   "outputs": [],
   "outputs_reference": null
  },
  {
   "cell_type": "code",
   "metadata": {
    "allow_embed": false,
    "source_hash": null,
    "execution_start": 1712255351507,
    "execution_millis": 594,
    "deepnote_to_be_reexecuted": false,
    "deepnote_app_block_visible": true,
    "cell_id": "65b4fb9285d64a9daa5729c9ae33f6d8",
    "deepnote_cell_type": "code"
   },
   "source": [
    "# Beeswarm Importance\n",
    "# plt.figure(figsize=(8,6))\n",
    "# plt.title(f\"SHAP Beeswarm Analysis\")\n",
    "# shap.plots.beeswarm(shap_values, max_display=32)\n",
    "# plt.close()"
   ],
   "block_group": "3a88eb20d9c64823a76adef51c186864",
   "execution_count": null,
   "outputs": [],
   "outputs_reference": null
  },
  {
   "cell_type": "markdown",
   "metadata": {
    "formattedRanges": [],
    "deepnote_app_block_visible": true,
    "cell_id": "3cd7ab45dfcb4e398131d8e824604a21",
    "deepnote_cell_type": "text-cell-h3"
   },
   "source": [
    "### Investigate Individual Predictions"
   ],
   "block_group": "da32583c077a4dd0bed7c9b6dafa0168"
  },
  {
   "cell_type": "code",
   "metadata": {
    "allow_embed": false,
    "source_hash": null,
    "execution_start": 1712255351512,
    "execution_millis": 590,
    "deepnote_to_be_reexecuted": false,
    "deepnote_app_block_visible": true,
    "cell_id": "cd837e9596f54cf69b4e28e8020962ca",
    "deepnote_cell_type": "code"
   },
   "source": [
    "#investigate = SEAA_X_val_trans.index.get_loc(5809)\n",
    "# print(SEAA_y_val_trans.iloc[investigate])"
   ],
   "block_group": "3acda7e0d4fe484b878674325e976389",
   "execution_count": null,
   "outputs": [],
   "outputs_reference": null
  },
  {
   "cell_type": "code",
   "metadata": {
    "allow_embed": false,
    "source_hash": null,
    "execution_start": 1712255351520,
    "execution_millis": 582,
    "deepnote_to_be_reexecuted": false,
    "deepnote_app_block_visible": true,
    "cell_id": "8bb40e1fb37b48efae8d3ee0fcec1a08",
    "deepnote_cell_type": "code"
   },
   "source": [
    "# Waterfall on a prediction\n",
    "# plt.figure(figsize=(8,6))\n",
    "# shap.plots.waterfall(shap_values[investigate], max_display=20) # , show=False\n",
    "# plt.close()"
   ],
   "block_group": "92a1dd8a5c8b4ba59e7cf70195441812",
   "execution_count": null,
   "outputs": [],
   "outputs_reference": null
  },
  {
   "cell_type": "code",
   "metadata": {
    "allow_embed": false,
    "source_hash": null,
    "execution_start": 1712255351521,
    "execution_millis": 582,
    "deepnote_to_be_reexecuted": false,
    "deepnote_app_block_visible": true,
    "cell_id": "e01ba044d195438b8eb5d053ac07d693",
    "deepnote_cell_type": "code"
   },
   "source": [
    "# Decision plot on a prediction\n",
    "# shap.decision_plot(explainer.expected_value, explainer.shap_values(SEAA_X_val_trans)[investigate], SEAA_X_val_trans, feature_display_range=slice(-1,-51,-1))"
   ],
   "block_group": "22e1bc5c7d8c4735a69e946fa6b51244",
   "execution_count": null,
   "outputs": [],
   "outputs_reference": null
  },
  {
   "cell_type": "markdown",
   "metadata": {
    "is_collapsed": false,
    "formattedRanges": [],
    "deepnote_app_block_visible": true,
    "cell_id": "771a12ea21954a2fa589853bbaf14e52",
    "deepnote_cell_type": "text-cell-h1"
   },
   "source": [
    "# Global Region"
   ],
   "block_group": "a584de73603b49d793ecacc93e374f80"
  },
  {
   "cell_type": "markdown",
   "metadata": {
    "formattedRanges": [],
    "deepnote_app_block_visible": true,
    "cell_id": "d1abba615a4545a3a6e2efdb6ecda61c",
    "deepnote_cell_type": "text-cell-h2"
   },
   "source": [
    "## Import the Data"
   ],
   "block_group": "86d0ec526fb34672a3d9f3a03e15f879"
  },
  {
   "cell_type": "code",
   "metadata": {
    "allow_embed": false,
    "source_hash": null,
    "execution_start": 1712255351525,
    "execution_millis": 2167,
    "deepnote_to_be_reexecuted": false,
    "deepnote_app_block_visible": true,
    "cell_id": "adcfe79d2ffb41799ae416aa00eed880",
    "deepnote_cell_type": "code"
   },
   "source": [
    "X_train_trans, X_val_trans, X_holdout_trans, y_train_trans, y_val_trans, y_holdout_trans = import_data(location_name='GLOB')"
   ],
   "block_group": "e1e21d891a3e4f338e25963369e65d8a",
   "execution_count": null,
   "outputs": [],
   "outputs_reference": null
  },
  {
   "cell_type": "markdown",
   "metadata": {
    "is_collapsed": false,
    "formattedRanges": [],
    "deepnote_app_block_visible": true,
    "cell_id": "a24a5aa869b04e0c9fb7647e85ccfbc0",
    "deepnote_cell_type": "text-cell-h2"
   },
   "source": [
    "## Hyperparameter Tuning"
   ],
   "block_group": "3efdc3d0ddf24a72b73df049b596c786"
  },
  {
   "cell_type": "markdown",
   "metadata": {
    "formattedRanges": [],
    "deepnote_app_block_visible": true,
    "cell_id": "b494703d60c0494f9cbb7661f5732358",
    "deepnote_cell_type": "text-cell-h3"
   },
   "source": [
    "### Execute Hyperparameter search"
   ],
   "block_group": "dc944e390b4a4d04bbd2384f35c7340c"
  },
  {
   "cell_type": "code",
   "metadata": {
    "allow_embed": false,
    "source_hash": null,
    "execution_start": 1712255353694,
    "execution_millis": 741236,
    "deepnote_to_be_reexecuted": false,
    "deepnote_app_block_visible": true,
    "cell_id": "c2c9ec23c71e40728b3772a9860e41b7",
    "deepnote_cell_type": "code"
   },
   "source": [
    "# Instantiate Neptune instance\n",
    "run = neptune.init_run(\n",
    "    name=\"ElasticNet Reg Global\",\n",
    "    tags=[\"ElasticNet\", \"regression\", \"hyperopt\", \"MAE\", \"Global\", \"GLOB\"],\n",
    "    description=\"ElasticNet Hyperopt with MAE on Global\"\n",
    ")\n",
    "\n",
    "# Create the Trials object\n",
    "GLOB_trials = Trials()\n",
    "\n",
    "# Create the fmin object\n",
    "GLOB_best_hyperparams = fmin(fn = objective,\n",
    "                            space = space,\n",
    "                            algo = tpe.suggest,\n",
    "                            max_evals = 1000,\n",
    "                            trials = GLOB_trials,\n",
    "                            show_progressbar=True,\n",
    "                            early_stop_fn=no_progress_loss(100))\n",
    "\n",
    "# Stop Neptune instance\n",
    "run.stop()\n",
    "\n",
    "GLOB_best_trial = GLOB_trials.best_trial\n",
    "GLOB_best_hps = GLOB_best_hyperparams.copy()\n",
    "\n",
    "GLOB_best_hps['alpha'] = float(GLOB_best_hps['alpha'])\n",
    "GLOB_best_hps['l1_ratio'] = float(GLOB_best_hps['l1_ratio'])"
   ],
   "block_group": "1776510bdd99442f9874cf103d702222",
   "execution_count": null,
   "outputs": [],
   "outputs_reference": "dbtable:cell_outputs/af70c403-3a3c-443e-9faf-e6be4a4d3e71"
  },
  {
   "cell_type": "markdown",
   "metadata": {
    "formattedRanges": [],
    "deepnote_app_block_visible": true,
    "cell_id": "a4d14707d50249b5957c7d30d6e6cdb6",
    "deepnote_cell_type": "text-cell-h3"
   },
   "source": [
    "### Review the Hyperparameter Search Validation MAE Scores and Hyperparameters"
   ],
   "block_group": "61bd6e2c8fc140d68614dfb1e60c48ef"
  },
  {
   "cell_type": "code",
   "metadata": {
    "allow_embed": false,
    "source_hash": null,
    "execution_start": 1712256094933,
    "execution_millis": 204,
    "deepnote_to_be_reexecuted": false,
    "deepnote_app_block_visible": true,
    "cell_id": "dcdf2bde636643cf9a703ed4364210bf",
    "deepnote_cell_type": "code"
   },
   "source": [
    "# What's the best trial from the search? Report the MAE & StdDev\n",
    "print(f\"Best Mean Absolute Error: {GLOB_trials.best_trial['result']['loss']:.4f}\")\n",
    "print(f\"Best Standard Error: {GLOB_trials.best_trial['result']['std']:.4f}\")"
   ],
   "block_group": "e056d40a802b4357b990a30e43cdba4f",
   "execution_count": null,
   "outputs": [],
   "outputs_reference": "dbtable:cell_outputs/1a833eda-863d-4ab2-9c29-3175698c6a1c"
  },
  {
   "cell_type": "code",
   "metadata": {
    "allow_embed": false,
    "source_hash": null,
    "execution_start": 1712256094935,
    "execution_millis": 203,
    "deepnote_to_be_reexecuted": false,
    "deepnote_app_block_visible": true,
    "cell_id": "29919f75b5f64493aa6324309b43068a",
    "deepnote_cell_type": "code"
   },
   "source": [
    "# Display the best hyperparameters\n",
    "GLOB_best_hps"
   ],
   "block_group": "aa716addc1694e019c0d428c08dceb6d",
   "execution_count": null,
   "outputs": [],
   "outputs_reference": "dbtable:cell_outputs/7e35d8b7-9e84-40d4-8756-e2dfb1b840cf"
  },
  {
   "cell_type": "markdown",
   "metadata": {
    "formattedRanges": [],
    "deepnote_app_block_visible": true,
    "cell_id": "5db0a2bb5e704a76a8ff9907c34cb3b1",
    "deepnote_cell_type": "text-cell-h2"
   },
   "source": [
    "## Recreate the model and get new MAE and Feature Importance"
   ],
   "block_group": "912fbbad7199497894979b7dc1b61e97"
  },
  {
   "cell_type": "code",
   "metadata": {
    "allow_embed": false,
    "source_hash": null,
    "execution_start": 1712256094940,
    "execution_millis": 228,
    "deepnote_to_be_reexecuted": false,
    "deepnote_app_block_visible": true,
    "cell_id": "147ce0de9e2f494fa5df91c3f9091fc9",
    "deepnote_cell_type": "code"
   },
   "source": [
    "# Recreate the model with the best hyperparameters\n",
    "GLOB_model = model_score(GLOB_best_hps, holdout=True, val=True)\n",
    "\n",
    "# Plot the feature importance\n",
    "plot_feat_importance(GLOB_model)"
   ],
   "block_group": "5120b378df9e4f43a834a2c3bb6e083e",
   "execution_count": null,
   "outputs": [],
   "outputs_reference": "s3:deepnote-cell-outputs-production/b6ccea14-12f2-4ade-9828-b85ab2db2d72"
  },
  {
   "cell_type": "markdown",
   "metadata": {
    "is_collapsed": false,
    "formattedRanges": [],
    "deepnote_app_block_visible": true,
    "cell_id": "46ec28a57b5647c7bb4c1b57d0d50f83",
    "deepnote_cell_type": "text-cell-h2"
   },
   "source": [
    "## Feature Ablation"
   ],
   "block_group": "c1fad2cc29234ec8a11e4d9e1085ade3"
  },
  {
   "cell_type": "code",
   "metadata": {
    "allow_embed": false,
    "source_hash": null,
    "execution_start": 1712256095172,
    "execution_millis": 17317,
    "deepnote_to_be_reexecuted": false,
    "deepnote_app_block_visible": true,
    "cell_id": "aea234c119764bef93bb7d8f9118f219",
    "deepnote_cell_type": "code"
   },
   "source": [
    "%%time\n",
    "# First run through the feature ablation process\n",
    "# This will determine which features can potentially be removed\n",
    "GLOB_feature_ablation_df, GLOB_baseline_mae_val, GLOB_baseline_mae_train = feat_ablation(\n",
    "    model=GLOB_model, hps=GLOB_best_hps, \n",
    "    Xtt=X_train_trans, ytt=y_train_trans, \n",
    "    Xvt=X_val_trans, yvt=y_val_trans, \n",
    "    Xht=X_holdout_trans, yht=y_holdout_trans)"
   ],
   "block_group": "8b92f836a63c425eb9f8d4826498cf20",
   "execution_count": null,
   "outputs": [],
   "outputs_reference": "dbtable:cell_outputs/254901c3-5553-4821-8276-35e53a68c4a4"
  },
  {
   "cell_type": "code",
   "metadata": {
    "allow_embed": false,
    "source_hash": null,
    "execution_start": 1712256112539,
    "execution_millis": 368,
    "deepnote_to_be_reexecuted": false,
    "deepnote_app_block_visible": true,
    "cell_id": "c28436dae146463aadc0f9d60a15ba9f",
    "deepnote_cell_type": "code"
   },
   "source": [
    "# Show the feature ablation dataframe, sorted by the change in MAE to Validation data\n",
    "GLOB_feature_ablation_df.sort_values('Val_MAE_Change', ascending=False)"
   ],
   "block_group": "4392e5db898c4499bc7943bbad5cc728",
   "execution_count": null,
   "outputs": [],
   "outputs_reference": "s3:deepnote-cell-outputs-production/516f0243-245d-419f-89e9-459c27643e1c"
  },
  {
   "cell_type": "code",
   "metadata": {
    "allow_embed": false,
    "source_hash": null,
    "execution_start": 1712256112544,
    "execution_millis": 514,
    "deepnote_to_be_reexecuted": false,
    "deepnote_app_block_visible": true,
    "cell_id": "608e7d648db9415f9da66e54cb758e77",
    "deepnote_cell_type": "code"
   },
   "source": [
    "# Generate the top 5 features to use in feature ablation combinations\n",
    "GLOB_abl_list_to_combo = GLOB_feature_ablation_df[GLOB_feature_ablation_df['Val_MAE'] <= GLOB_baseline_mae_val].sort_values('Val_MAE_Change', ascending=False)['Removed_Feature'].head(5).to_list()\n",
    "\n",
    "# Review the list\n",
    "GLOB_abl_list_to_combo"
   ],
   "block_group": "83d0ed212ee6466198b0179ba9269cf1",
   "execution_count": null,
   "outputs": [],
   "outputs_reference": "dbtable:cell_outputs/705d7de7-3684-4e63-b515-f6477add8a61"
  },
  {
   "cell_type": "code",
   "metadata": {
    "allow_embed": false,
    "source_hash": null,
    "execution_start": 1712256112552,
    "execution_millis": 30343,
    "deepnote_to_be_reexecuted": false,
    "deepnote_app_block_visible": true,
    "cell_id": "c5ae261a11e845aa96f8e3b251fbd565",
    "deepnote_cell_type": "code"
   },
   "source": [
    "%%time\n",
    "# Second run through the feature ablation process\n",
    "# This time including the top 5 features whose removal decreased the MAE\n",
    "# These top 5 features will be combined using itertools\n",
    "GLOB_feature_ablation_df, GLOB_baseline_mae_val, GLOB_baseline_mae_train = feat_ablation(\n",
    "    model=GLOB_model, hps=GLOB_best_hps, \n",
    "    Xtt=X_train_trans, ytt=y_train_trans, \n",
    "    Xvt=X_val_trans, yvt=y_val_trans, \n",
    "    Xht=X_holdout_trans, yht=y_holdout_trans, \n",
    "    abl_list_to_combo=GLOB_abl_list_to_combo)"
   ],
   "block_group": "f200bd7659614ef28c3116ecc05440df",
   "execution_count": null,
   "outputs": [],
   "outputs_reference": "dbtable:cell_outputs/414369e4-632c-4e10-a0cf-07002ec7b8fd"
  },
  {
   "cell_type": "code",
   "metadata": {
    "allow_embed": false,
    "source_hash": null,
    "execution_start": 1712256142898,
    "execution_millis": 219,
    "deepnote_to_be_reexecuted": false,
    "deepnote_app_block_visible": true,
    "cell_id": "7546b59ca927408b9184796862f4617e",
    "deepnote_cell_type": "code"
   },
   "source": [
    "# Show the feature ablation dataframe, sorted by the change in MAE to Validation data\n",
    "GLOB_feature_ablation_df[GLOB_feature_ablation_df['Val_MAE'] <= GLOB_baseline_mae_val].sort_values('Val_MAE_Change', ascending=False)"
   ],
   "block_group": "5cc95ff33bdd4888a0f7d9781d0e2d86",
   "execution_count": null,
   "outputs": [],
   "outputs_reference": "s3:deepnote-cell-outputs-production/236b67a4-cbe7-4f3b-aecf-14858a3e5d99"
  },
  {
   "cell_type": "code",
   "metadata": {
    "allow_embed": false,
    "source_hash": null,
    "execution_start": 1712256142945,
    "execution_millis": 338,
    "deepnote_to_be_reexecuted": false,
    "deepnote_app_block_visible": true,
    "cell_id": "fb311f974a014324926557abd19b5202",
    "deepnote_cell_type": "code"
   },
   "source": [
    "# Show the top 1 feature, which we'll remove.  Might be multiple features, so we split the string\n",
    "GLOB_feature_ablation_df[GLOB_feature_ablation_df['Val_MAE'] <= GLOB_baseline_mae_val].sort_values('Val_MAE_Change', ascending=False)['Removed_Feature'].head(1).values[0].split(', ')"
   ],
   "block_group": "bc1fc3195edd4a08b46c864a07fd3ae4",
   "execution_count": null,
   "outputs": [],
   "outputs_reference": "dbtable:cell_outputs/37096d86-7d04-4c37-90a2-60e3de59d5ea"
  },
  {
   "cell_type": "code",
   "metadata": {
    "allow_embed": false,
    "source_hash": null,
    "execution_start": 1712256142949,
    "execution_millis": 335,
    "deepnote_to_be_reexecuted": false,
    "deepnote_app_block_visible": true,
    "cell_id": "5c4d43c4fd7b47fbaf29a3754a2e4479",
    "deepnote_cell_type": "code"
   },
   "source": [
    "# Define the top features to drop\n",
    "GLOB_drop_cols = GLOB_feature_ablation_df[GLOB_feature_ablation_df['Val_MAE'] <= GLOB_baseline_mae_val].sort_values('Val_MAE_Change', ascending=False)['Removed_Feature'].head(1).values[0].split(', ')\n",
    "\n",
    "# Create the feature columns list for saving out\n",
    "GLOB_feat_columns = X_train_trans.drop(columns=GLOB_drop_cols).columns.to_list()\n",
    "\n",
    "# Recreate the model with the dropped columns\n",
    "# It should have a lower MAE score than the original\n",
    "GLOB_experiment_model = model_score(\n",
    "    GLOB_best_hps, val=True, \n",
    "    Xtt=X_train_trans.drop(columns=GLOB_drop_cols), ytt=y_train_trans, \n",
    "    Xvt=X_val_trans.drop(columns=GLOB_drop_cols), yvt=y_val_trans, \n",
    "    Xht=X_holdout_trans.drop(columns=GLOB_drop_cols), yht=y_holdout_trans)\n",
    "\n",
    "# Plot the feature importance for this model\n",
    "plot_feat_importance(GLOB_experiment_model)"
   ],
   "block_group": "9313c375d98f4879a358467e3ce6819e",
   "execution_count": null,
   "outputs": [],
   "outputs_reference": "s3:deepnote-cell-outputs-production/01db474d-2819-4442-93d5-08776a69f604"
  },
  {
   "cell_type": "markdown",
   "metadata": {
    "formattedRanges": [],
    "deepnote_app_block_visible": true,
    "cell_id": "b3e67347c6344e71a368cda23ec8d3ec",
    "deepnote_cell_type": "text-cell-h3"
   },
   "source": [
    "### Output the Model, Trials, Parameters and Feature List to disk"
   ],
   "block_group": "b9eac4ea455b48b58740c9b83e92f6d0"
  },
  {
   "cell_type": "code",
   "metadata": {
    "allow_embed": false,
    "source_hash": null,
    "execution_start": 1712256143153,
    "execution_millis": 845,
    "deepnote_to_be_reexecuted": false,
    "deepnote_app_block_visible": true,
    "cell_id": "12c0e980b00144a88419af8cac844527",
    "deepnote_cell_type": "code"
   },
   "source": [
    "# Write out the model artifacts to disk\n",
    "#write_out(model=GLOB_model, trials=GLOB_trials, params=GLOB_best_hps, feat_cols=GLOB_feat_columns, location_name='GLOB')\n",
    "write_out(model=GLOB_model, trials=GLOB_trials, params=GLOB_best_hps, feat_cols=X_train_trans.columns.to_list(), location_name='GLOB')"
   ],
   "block_group": "89b3dbc9af16406bbbcc033c58e90ea3",
   "execution_count": null,
   "outputs": [],
   "outputs_reference": null
  },
  {
   "cell_type": "markdown",
   "metadata": {
    "is_collapsed": false,
    "formattedRanges": [],
    "deepnote_app_block_visible": true,
    "cell_id": "745586c920744877a07972d2e57b55ee",
    "deepnote_cell_type": "text-cell-h2"
   },
   "source": [
    "## Review Holdout Truth vs Predictions"
   ],
   "block_group": "704832f69a18426db2be350dc8185126"
  },
  {
   "cell_type": "code",
   "metadata": {
    "allow_embed": false,
    "source_hash": null,
    "execution_start": 1712256144001,
    "execution_millis": 289,
    "deepnote_to_be_reexecuted": false,
    "deepnote_app_block_visible": true,
    "cell_id": "ffa549a35c454f02bcb59538a5d5e709",
    "deepnote_cell_type": "code"
   },
   "source": [
    "eval_df = y_val_trans.copy(deep=True)\n",
    "GLOB_val_pred = GLOB_model.predict(X_val_trans)\n",
    "GLOB_val_pred = np.clip(GLOB_val_pred, 0, 100)\n",
    "eval_df['predictions'] = GLOB_val_pred.tolist()\n",
    "eval_df['diff'] = eval_df['y_val'] - eval_df['predictions']"
   ],
   "block_group": "23d196f97dd8434eb11ebb78ba065de5",
   "execution_count": null,
   "outputs": [],
   "outputs_reference": null
  },
  {
   "cell_type": "code",
   "metadata": {
    "allow_embed": false,
    "source_hash": null,
    "execution_start": 1712256144001,
    "execution_millis": 289,
    "deepnote_to_be_reexecuted": false,
    "deepnote_app_block_visible": true,
    "cell_id": "6a737f5d8d1e45ce9b89eaee75fd04e1",
    "deepnote_cell_type": "code"
   },
   "source": [
    "eval_df.sort_values(by='diff', ascending=False).head(20)"
   ],
   "block_group": "292c87623efe4fdface5afb5e22498ba",
   "execution_count": null,
   "outputs": [],
   "outputs_reference": "s3:deepnote-cell-outputs-production/dd17e371-941b-4317-9ff6-8b678518be56"
  },
  {
   "cell_type": "code",
   "metadata": {
    "allow_embed": false,
    "source_hash": null,
    "execution_start": 1712256144009,
    "execution_millis": 638,
    "deepnote_to_be_reexecuted": false,
    "deepnote_app_block_visible": true,
    "cell_id": "c0ef6cf7bd6d48acaae163f3683d3b04",
    "deepnote_cell_type": "code"
   },
   "source": [
    "fig = px.histogram(eval_df[eval_df['y_val'] > 5], x='diff', nbins=100, title='Distribution of the diff between prediction and holdout where true value > 5')\n",
    "\n",
    "# Show the plot\n",
    "fig.show()"
   ],
   "block_group": "c5b4d3b362b64db3a5943f75eed89d58",
   "execution_count": null,
   "outputs": [],
   "outputs_reference": "s3:deepnote-cell-outputs-production/3800478b-f49c-406d-be31-5f8cd17d359f"
  },
  {
   "cell_type": "code",
   "metadata": {
    "allow_embed": false,
    "source_hash": null,
    "execution_start": 1712256144148,
    "execution_millis": 499,
    "deepnote_table_state": {
     "sortBy": [],
     "filters": [],
     "pageSize": 10,
     "pageIndex": 1
    },
    "deepnote_table_loading": false,
    "deepnote_to_be_reexecuted": false,
    "deepnote_app_block_visible": true,
    "cell_id": "e03f464e48f247ce9f217bc4014e6c6a",
    "deepnote_cell_type": "code"
   },
   "source": [
    "#eval_df[(eval_df['diff'].between(-5,5))]\n",
    "#eval_df[(eval_df['diff'].between(-5,5)) & (eval_df['y_val'] > 5)]\n",
    "eval_df[~(eval_df['diff'].between(-5,5))]\n"
   ],
   "block_group": "d71da7be0b1d46dfb11cdbd40a6653a2",
   "execution_count": null,
   "outputs": [],
   "outputs_reference": "s3:deepnote-cell-outputs-production/9c4c2da3-d354-48be-a5b2-6dbe3baa17d1"
  },
  {
   "cell_type": "markdown",
   "metadata": {
    "formattedRanges": [],
    "deepnote_app_block_visible": true,
    "cell_id": "2130afd9a588451d9502af5e3ecc4a82",
    "deepnote_cell_type": "text-cell-h2"
   },
   "source": [
    "## SHAP Analysis"
   ],
   "block_group": "8a1c191d1c0241aa8b6bc891e2f182c7"
  },
  {
   "cell_type": "markdown",
   "metadata": {
    "formattedRanges": [],
    "deepnote_app_block_visible": true,
    "cell_id": "5eed58d451ed4a49bbf24f7dd60efa65",
    "deepnote_cell_type": "text-cell-h3"
   },
   "source": [
    "### Create SHAP Objects"
   ],
   "block_group": "05972dcfef08491d885afeb4efe53e2f"
  },
  {
   "cell_type": "code",
   "metadata": {
    "allow_embed": false,
    "source_hash": null,
    "execution_start": 1712256144237,
    "execution_millis": 411,
    "deepnote_to_be_reexecuted": false,
    "deepnote_app_block_visible": true,
    "cell_id": "694fb2e1eddf45dc92c2eff130aadff3",
    "deepnote_cell_type": "code"
   },
   "source": [
    "# %%time\n",
    "# GLOB_X_val_trans = X_val_trans.copy(deep=True)\n",
    "# GLOB_y_val_trans = y_val_trans.copy(deep=True)\n",
    "# explainer = shap.TreeExplainer(GLOB_model)\n",
    "# shap_values = explainer(GLOB_X_val_trans)\n",
    "# shap_interaction = explainer.shap_interaction_values(GLOB_X_val_trans)\n",
    "# sv = explainer.shap_values(GLOB_X_val_trans)\n",
    "# shap.initjs()"
   ],
   "block_group": "9285dde16cf841b18e19256342c657da",
   "execution_count": null,
   "outputs": [],
   "outputs_reference": null
  },
  {
   "cell_type": "code",
   "metadata": {
    "allow_embed": false,
    "source_hash": null,
    "execution_start": 1712256144246,
    "execution_millis": 402,
    "deepnote_to_be_reexecuted": false,
    "deepnote_app_block_visible": true,
    "cell_id": "7ee481f0942f4ec8af57e4c9062dab7e",
    "deepnote_cell_type": "code"
   },
   "source": [
    "# Beeswarm Importance\n",
    "# plt.figure(figsize=(8,6))\n",
    "# plt.title(f\"SHAP Beeswarm Analysis\")\n",
    "# shap.plots.beeswarm(shap_values, max_display=32)\n",
    "# plt.close()"
   ],
   "block_group": "a19de9f41044416fbcd6ccc21fc1236d",
   "execution_count": null,
   "outputs": [],
   "outputs_reference": null
  },
  {
   "cell_type": "markdown",
   "metadata": {
    "formattedRanges": [],
    "deepnote_app_block_visible": true,
    "cell_id": "cce5614b790b48dfb341db709bdcd6de",
    "deepnote_cell_type": "text-cell-h3"
   },
   "source": [
    "### Investigate Individual Predictions"
   ],
   "block_group": "903c99806bc6476c9bc100199682144a"
  },
  {
   "cell_type": "code",
   "metadata": {
    "allow_embed": false,
    "source_hash": null,
    "execution_start": 1712256144246,
    "execution_millis": 402,
    "deepnote_to_be_reexecuted": false,
    "deepnote_app_block_visible": true,
    "cell_id": "21161e4c9f28477ebbac6e3f7a631f67",
    "deepnote_cell_type": "code"
   },
   "source": [
    "#investigate = GLOB_X_val_trans.index.get_loc(5809)\n",
    "# print(GLOB_y_val_trans.iloc[investigate])"
   ],
   "block_group": "1a8264ccffb6433e9a2fb2c64afe1065",
   "execution_count": null,
   "outputs": [],
   "outputs_reference": null
  },
  {
   "cell_type": "code",
   "metadata": {
    "allow_embed": false,
    "source_hash": null,
    "execution_start": 1712256144247,
    "execution_millis": 402,
    "deepnote_to_be_reexecuted": false,
    "deepnote_app_block_visible": true,
    "cell_id": "c7d8071edf504e6080f8e0d97d2d8f0b",
    "deepnote_cell_type": "code"
   },
   "source": [
    "# Waterfall on a prediction\n",
    "# plt.figure(figsize=(8,6))\n",
    "# shap.plots.waterfall(shap_values[investigate], max_display=20) # , show=False\n",
    "# plt.close()"
   ],
   "block_group": "0d5041f6dd0b44eb9ef8db6b48a14a86",
   "execution_count": null,
   "outputs": [],
   "outputs_reference": null
  },
  {
   "cell_type": "code",
   "metadata": {
    "allow_embed": false,
    "source_hash": null,
    "execution_start": 1712256144247,
    "execution_millis": 402,
    "deepnote_to_be_reexecuted": false,
    "deepnote_app_block_visible": true,
    "cell_id": "38f321b426be415d94194e0f86381177",
    "deepnote_cell_type": "code"
   },
   "source": [
    "# Decision plot on a prediction\n",
    "# shap.decision_plot(explainer.expected_value, explainer.shap_values(GLOB_X_val_trans)[investigate], GLOB_X_val_trans, feature_display_range=slice(-1,-51,-1))"
   ],
   "block_group": "04e394adeb624ea59d44136900e2b8df",
   "execution_count": null,
   "outputs": [],
   "outputs_reference": null
  }
 ],
 "nbformat": 4,
 "nbformat_minor": 0,
 "metadata": {
  "deepnote_app_layout": "powerful-article",
  "deepnote_app_reactivity_enabled": true,
  "deepnote_notebook_id": "43cca1a49cfb41ce98c0681f44244d1a",
  "deepnote_execution_queue": []
 }
}
