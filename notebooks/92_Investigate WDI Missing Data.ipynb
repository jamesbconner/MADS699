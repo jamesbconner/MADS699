{
 "cells": [
  {
   "cell_type": "code",
   "metadata": {
    "source_hash": null,
    "execution_start": 1710014518467,
    "execution_millis": 1268,
    "deepnote_to_be_reexecuted": false,
    "deepnote_app_block_visible": true,
    "cell_id": "e59434830d5d4a5bbd1a3141c15423d5",
    "deepnote_cell_type": "code"
   },
   "source": [
    "import pandas as pd\n",
    "import geopandas as gpd\n",
    "import numpy as np\n",
    "from shapely.geometry import Point"
   ],
   "block_group": "e59434830d5d4a5bbd1a3141c15423d5",
   "execution_count": null,
   "outputs": [],
   "outputs_reference": null,
   "content_dependencies": null
  },
  {
   "cell_type": "code",
   "metadata": {
    "source_hash": null,
    "execution_start": 1710014863064,
    "execution_millis": 66,
    "deepnote_to_be_reexecuted": false,
    "deepnote_app_block_visible": true,
    "cell_id": "18f346d89aaf4dc8b8a1071611f39b6a",
    "deepnote_cell_type": "code"
   },
   "source": [
    "pd.set_option('mode.chained_assignment', None)\n",
    "pd.options.display.float_format = '{:.2f}'.format\n",
    "pd.options.display.max_columns = None\n",
    "pd.options.display.max_rows = None\n",
    "\n",
    "# Ignore Warnings\n",
    "import warnings\n",
    "warnings.simplefilter('ignore', category=FutureWarning)\n",
    "warnings.simplefilter('ignore', category=UserWarning)"
   ],
   "block_group": "ef9cc23549864a81bd81b0714faa229d",
   "execution_count": null,
   "outputs": [],
   "outputs_reference": null,
   "content_dependencies": null
  },
  {
   "cell_type": "code",
   "metadata": {
    "source_hash": null,
    "execution_start": 1710014863327,
    "execution_millis": 3639,
    "deepnote_to_be_reexecuted": false,
    "deepnote_app_block_visible": true,
    "cell_id": "b5eb2a0db1dd47df8b286936326c8bd2",
    "deepnote_cell_type": "code"
   },
   "source": [
    "wdi = pd.read_csv(\"/work/data/World_Bank/wdi_1980_to_2020.csv\")"
   ],
   "block_group": "835876da086044ddb9755477f8583063",
   "execution_count": null,
   "outputs": [],
   "outputs_reference": null,
   "content_dependencies": null
  },
  {
   "cell_type": "code",
   "metadata": {
    "source_hash": null,
    "execution_start": 1710014866969,
    "execution_millis": 812,
    "deepnote_to_be_reexecuted": false,
    "deepnote_app_block_visible": true,
    "cell_id": "1bfca498e10643e69546b1a2491b7748",
    "deepnote_cell_type": "code"
   },
   "source": [
    "gcb = pd.read_parquet(\"/work/data/Global_Coral_Bleaching_DB/gcb_v4.parquet\")"
   ],
   "block_group": "940efe10f32c4f9299a4b3f529c594e8",
   "execution_count": null,
   "outputs": [],
   "outputs_reference": null,
   "content_dependencies": null
  },
  {
   "cell_type": "code",
   "metadata": {
    "source_hash": null,
    "execution_start": 1710020827956,
    "execution_millis": 641,
    "deepnote_to_be_reexecuted": false,
    "deepnote_app_block_visible": true,
    "cell_id": "0c8e476fbe8b4c4c915c0cd7f95c9afc",
    "deepnote_cell_type": "code"
   },
   "source": [
    "fert = pd.read_csv(\"/work/data/United_Nations/FAOSTAT/Fertilizers_by_Nutrients/Inputs_FertilizersNutrient_E_All_Data_(Normalized).csv\", encoding = \"ISO-8859-1\", low_memory=False)"
   ],
   "block_group": "7e45e936b8aa48068ceb9b8eea99e0e0",
   "execution_count": null,
   "outputs": [],
   "outputs_reference": null,
   "content_dependencies": null
  },
  {
   "cell_type": "code",
   "metadata": {
    "source_hash": null,
    "execution_start": 1710021541536,
    "execution_millis": 571,
    "deepnote_to_be_reexecuted": false,
    "deepnote_app_block_visible": true,
    "cell_id": "58405ed5ce2742399f34a64cdf003a67",
    "deepnote_cell_type": "code"
   },
   "source": [
    "country_code_df = pd.read_csv(\"/work/data/References/country_name_codes.csv\", low_memory=False)"
   ],
   "block_group": "2d2383eb92f54618b03d4b85ecc1aa43",
   "execution_count": null,
   "outputs": [],
   "outputs_reference": null,
   "content_dependencies": null
  },
  {
   "cell_type": "code",
   "metadata": {
    "source_hash": null,
    "execution_start": 1710022493891,
    "execution_millis": 158,
    "deepnote_to_be_reexecuted": false,
    "deepnote_app_block_visible": true,
    "cell_id": "5826ddd407af4a5282f49580b458b732",
    "deepnote_cell_type": "code"
   },
   "source": [
    "# Filter the WDI dataset on the following WDI Codes\n",
    "# Fishing, Timber, Forest, Marine, Agriculture, Fertilizer, Tourism, and Pop Totals\n",
    "filter_codes = [\n",
    "    'AG.LND.IRIG.AG.ZS','AG.LND.AGRI.ZS',\n",
    "    'AG.LND.AGRI.K2','NV.AGR.TOTL.ZS','NV.AGR.TOTL.KD.ZG','NV.AGR.TOTL.CD',\n",
    "    'ER.FSH.AQUA.MT','ER.FSH.CAPT.MT','AG.CON.FERT.ZS',\n",
    "    'EN.FSH.THRD.NO','AG.LND.FRST.ZS','AG.LND.FRST.K2',\n",
    "    'ST.INT.ARVL','ER.MRN.PTMR.ZS','EN.POP.DNST',\n",
    "    'SP.POP.TOTL','ER.PTD.TOTL.ZS','ER.FSH.PROD.MT']\n",
    "df = wdi[wdi['Series_Code'].isin(filter_codes)]"
   ],
   "block_group": "69b3323064db45ba9519f733c20e30c7",
   "execution_count": null,
   "outputs": [],
   "outputs_reference": null,
   "content_dependencies": null
  },
  {
   "cell_type": "code",
   "metadata": {
    "source_hash": null,
    "execution_start": 1710022385007,
    "execution_millis": 26,
    "deepnote_to_be_reexecuted": false,
    "deepnote_app_block_visible": true,
    "cell_id": "f1151023f41f46ab8a30a32277b128c0",
    "deepnote_cell_type": "code"
   },
   "source": [
    "columns_years = [str(year) for year in range(1980, 2021)]\n",
    "missing_all_data_countries = df[columns_years].isna().all(axis=1)\n",
    "# Filter out these countries\n",
    "df_with_some_data = df[~missing_all_data_countries]"
   ],
   "block_group": "5117e59f68244013af156ed204c8a63e",
   "execution_count": null,
   "outputs": [],
   "outputs_reference": null,
   "content_dependencies": null
  },
  {
   "cell_type": "code",
   "metadata": {
    "source_hash": null,
    "execution_start": 1710022385917,
    "execution_millis": 319,
    "deepnote_table_state": {
     "sortBy": [],
     "filters": [],
     "pageSize": 10,
     "pageIndex": 3
    },
    "deepnote_table_loading": false,
    "deepnote_to_be_reexecuted": false,
    "deepnote_app_block_visible": true,
    "cell_id": "de8ba99586a04b708a8ce5b455b3bd74",
    "deepnote_cell_type": "code"
   },
   "source": [
    "df[missing_all_data_countries]"
   ],
   "block_group": "29b167bb394040fe80cb9c58962f1f7a",
   "execution_count": null,
   "outputs": [
    {
     "output_type": "execute_result",
     "execution_count": 74,
     "data": {
      "application/vnd.deepnote.dataframe.v3+json": {
       "column_count": 45,
       "row_count": 366,
       "columns": [
        {
         "name": "Country_Name",
         "dtype": "object",
         "stats": {
          "unique_count": 180,
          "nan_count": 0,
          "categories": [
           {
            "name": "Not classified",
            "count": 18
           },
           {
            "name": "Kosovo",
            "count": 14
           },
           {
            "name": "178 others",
            "count": 334
           }
          ]
         }
        },
        {
         "name": "Country_Code",
         "dtype": "object",
         "stats": {
          "unique_count": 180,
          "nan_count": 0,
          "categories": [
           {
            "name": "INX",
            "count": 18
           },
           {
            "name": "XKX",
            "count": 14
           },
           {
            "name": "178 others",
            "count": 334
           }
          ]
         }
        },
        {
         "name": "Series_Name",
         "dtype": "object",
         "stats": {
          "unique_count": 18,
          "nan_count": 0,
          "categories": [
           {
            "name": "Agricultural irrigated land (% of total agricultural land)",
            "count": 150
           },
           {
            "name": "Marine protected areas (% of territorial waters)",
            "count": 57
           },
           {
            "name": "16 others",
            "count": 159
           }
          ]
         }
        },
        {
         "name": "Series_Code",
         "dtype": "object",
         "stats": {
          "unique_count": 18,
          "nan_count": 0,
          "categories": [
           {
            "name": "AG.LND.IRIG.AG.ZS",
            "count": 150
           },
           {
            "name": "ER.MRN.PTMR.ZS",
            "count": 57
           },
           {
            "name": "16 others",
            "count": 159
           }
          ]
         }
        },
        {
         "name": "1980",
         "dtype": "float64",
         "stats": {
          "unique_count": 0,
          "nan_count": 366,
          "min": null,
          "max": null,
          "histogram": [
           {
            "bin_start": 0,
            "bin_end": 0.1,
            "count": 0
           },
           {
            "bin_start": 0.1,
            "bin_end": 0.2,
            "count": 0
           },
           {
            "bin_start": 0.2,
            "bin_end": 0.30000000000000004,
            "count": 0
           },
           {
            "bin_start": 0.30000000000000004,
            "bin_end": 0.4,
            "count": 0
           },
           {
            "bin_start": 0.4,
            "bin_end": 0.5,
            "count": 0
           },
           {
            "bin_start": 0.5,
            "bin_end": 0.6000000000000001,
            "count": 0
           },
           {
            "bin_start": 0.6000000000000001,
            "bin_end": 0.7000000000000001,
            "count": 0
           },
           {
            "bin_start": 0.7000000000000001,
            "bin_end": 0.8,
            "count": 0
           },
           {
            "bin_start": 0.8,
            "bin_end": 0.9,
            "count": 0
           },
           {
            "bin_start": 0.9,
            "bin_end": 1,
            "count": 0
           }
          ]
         }
        },
        {
         "name": "1981",
         "dtype": "float64",
         "stats": {
          "unique_count": 0,
          "nan_count": 366,
          "min": null,
          "max": null,
          "histogram": [
           {
            "bin_start": 0,
            "bin_end": 0.1,
            "count": 0
           },
           {
            "bin_start": 0.1,
            "bin_end": 0.2,
            "count": 0
           },
           {
            "bin_start": 0.2,
            "bin_end": 0.30000000000000004,
            "count": 0
           },
           {
            "bin_start": 0.30000000000000004,
            "bin_end": 0.4,
            "count": 0
           },
           {
            "bin_start": 0.4,
            "bin_end": 0.5,
            "count": 0
           },
           {
            "bin_start": 0.5,
            "bin_end": 0.6000000000000001,
            "count": 0
           },
           {
            "bin_start": 0.6000000000000001,
            "bin_end": 0.7000000000000001,
            "count": 0
           },
           {
            "bin_start": 0.7000000000000001,
            "bin_end": 0.8,
            "count": 0
           },
           {
            "bin_start": 0.8,
            "bin_end": 0.9,
            "count": 0
           },
           {
            "bin_start": 0.9,
            "bin_end": 1,
            "count": 0
           }
          ]
         }
        },
        {
         "name": "1982",
         "dtype": "float64",
         "stats": {
          "unique_count": 0,
          "nan_count": 366,
          "min": null,
          "max": null,
          "histogram": [
           {
            "bin_start": 0,
            "bin_end": 0.1,
            "count": 0
           },
           {
            "bin_start": 0.1,
            "bin_end": 0.2,
            "count": 0
           },
           {
            "bin_start": 0.2,
            "bin_end": 0.30000000000000004,
            "count": 0
           },
           {
            "bin_start": 0.30000000000000004,
            "bin_end": 0.4,
            "count": 0
           },
           {
            "bin_start": 0.4,
            "bin_end": 0.5,
            "count": 0
           },
           {
            "bin_start": 0.5,
            "bin_end": 0.6000000000000001,
            "count": 0
           },
           {
            "bin_start": 0.6000000000000001,
            "bin_end": 0.7000000000000001,
            "count": 0
           },
           {
            "bin_start": 0.7000000000000001,
            "bin_end": 0.8,
            "count": 0
           },
           {
            "bin_start": 0.8,
            "bin_end": 0.9,
            "count": 0
           },
           {
            "bin_start": 0.9,
            "bin_end": 1,
            "count": 0
           }
          ]
         }
        },
        {
         "name": "1983",
         "dtype": "float64",
         "stats": {
          "unique_count": 0,
          "nan_count": 366,
          "min": null,
          "max": null,
          "histogram": [
           {
            "bin_start": 0,
            "bin_end": 0.1,
            "count": 0
           },
           {
            "bin_start": 0.1,
            "bin_end": 0.2,
            "count": 0
           },
           {
            "bin_start": 0.2,
            "bin_end": 0.30000000000000004,
            "count": 0
           },
           {
            "bin_start": 0.30000000000000004,
            "bin_end": 0.4,
            "count": 0
           },
           {
            "bin_start": 0.4,
            "bin_end": 0.5,
            "count": 0
           },
           {
            "bin_start": 0.5,
            "bin_end": 0.6000000000000001,
            "count": 0
           },
           {
            "bin_start": 0.6000000000000001,
            "bin_end": 0.7000000000000001,
            "count": 0
           },
           {
            "bin_start": 0.7000000000000001,
            "bin_end": 0.8,
            "count": 0
           },
           {
            "bin_start": 0.8,
            "bin_end": 0.9,
            "count": 0
           },
           {
            "bin_start": 0.9,
            "bin_end": 1,
            "count": 0
           }
          ]
         }
        },
        {
         "name": "1984",
         "dtype": "float64",
         "stats": {
          "unique_count": 0,
          "nan_count": 366,
          "min": null,
          "max": null,
          "histogram": [
           {
            "bin_start": 0,
            "bin_end": 0.1,
            "count": 0
           },
           {
            "bin_start": 0.1,
            "bin_end": 0.2,
            "count": 0
           },
           {
            "bin_start": 0.2,
            "bin_end": 0.30000000000000004,
            "count": 0
           },
           {
            "bin_start": 0.30000000000000004,
            "bin_end": 0.4,
            "count": 0
           },
           {
            "bin_start": 0.4,
            "bin_end": 0.5,
            "count": 0
           },
           {
            "bin_start": 0.5,
            "bin_end": 0.6000000000000001,
            "count": 0
           },
           {
            "bin_start": 0.6000000000000001,
            "bin_end": 0.7000000000000001,
            "count": 0
           },
           {
            "bin_start": 0.7000000000000001,
            "bin_end": 0.8,
            "count": 0
           },
           {
            "bin_start": 0.8,
            "bin_end": 0.9,
            "count": 0
           },
           {
            "bin_start": 0.9,
            "bin_end": 1,
            "count": 0
           }
          ]
         }
        },
        {
         "name": "1985",
         "dtype": "float64",
         "stats": {
          "unique_count": 0,
          "nan_count": 366,
          "min": null,
          "max": null,
          "histogram": [
           {
            "bin_start": 0,
            "bin_end": 0.1,
            "count": 0
           },
           {
            "bin_start": 0.1,
            "bin_end": 0.2,
            "count": 0
           },
           {
            "bin_start": 0.2,
            "bin_end": 0.30000000000000004,
            "count": 0
           },
           {
            "bin_start": 0.30000000000000004,
            "bin_end": 0.4,
            "count": 0
           },
           {
            "bin_start": 0.4,
            "bin_end": 0.5,
            "count": 0
           },
           {
            "bin_start": 0.5,
            "bin_end": 0.6000000000000001,
            "count": 0
           },
           {
            "bin_start": 0.6000000000000001,
            "bin_end": 0.7000000000000001,
            "count": 0
           },
           {
            "bin_start": 0.7000000000000001,
            "bin_end": 0.8,
            "count": 0
           },
           {
            "bin_start": 0.8,
            "bin_end": 0.9,
            "count": 0
           },
           {
            "bin_start": 0.9,
            "bin_end": 1,
            "count": 0
           }
          ]
         }
        },
        {
         "name": "1986",
         "dtype": "float64",
         "stats": {
          "unique_count": 0,
          "nan_count": 366,
          "min": null,
          "max": null,
          "histogram": [
           {
            "bin_start": 0,
            "bin_end": 0.1,
            "count": 0
           },
           {
            "bin_start": 0.1,
            "bin_end": 0.2,
            "count": 0
           },
           {
            "bin_start": 0.2,
            "bin_end": 0.30000000000000004,
            "count": 0
           },
           {
            "bin_start": 0.30000000000000004,
            "bin_end": 0.4,
            "count": 0
           },
           {
            "bin_start": 0.4,
            "bin_end": 0.5,
            "count": 0
           },
           {
            "bin_start": 0.5,
            "bin_end": 0.6000000000000001,
            "count": 0
           },
           {
            "bin_start": 0.6000000000000001,
            "bin_end": 0.7000000000000001,
            "count": 0
           },
           {
            "bin_start": 0.7000000000000001,
            "bin_end": 0.8,
            "count": 0
           },
           {
            "bin_start": 0.8,
            "bin_end": 0.9,
            "count": 0
           },
           {
            "bin_start": 0.9,
            "bin_end": 1,
            "count": 0
           }
          ]
         }
        },
        {
         "name": "1987",
         "dtype": "float64",
         "stats": {
          "unique_count": 0,
          "nan_count": 366,
          "min": null,
          "max": null,
          "histogram": [
           {
            "bin_start": 0,
            "bin_end": 0.1,
            "count": 0
           },
           {
            "bin_start": 0.1,
            "bin_end": 0.2,
            "count": 0
           },
           {
            "bin_start": 0.2,
            "bin_end": 0.30000000000000004,
            "count": 0
           },
           {
            "bin_start": 0.30000000000000004,
            "bin_end": 0.4,
            "count": 0
           },
           {
            "bin_start": 0.4,
            "bin_end": 0.5,
            "count": 0
           },
           {
            "bin_start": 0.5,
            "bin_end": 0.6000000000000001,
            "count": 0
           },
           {
            "bin_start": 0.6000000000000001,
            "bin_end": 0.7000000000000001,
            "count": 0
           },
           {
            "bin_start": 0.7000000000000001,
            "bin_end": 0.8,
            "count": 0
           },
           {
            "bin_start": 0.8,
            "bin_end": 0.9,
            "count": 0
           },
           {
            "bin_start": 0.9,
            "bin_end": 1,
            "count": 0
           }
          ]
         }
        },
        {
         "name": "1988",
         "dtype": "float64",
         "stats": {
          "unique_count": 0,
          "nan_count": 366,
          "min": null,
          "max": null,
          "histogram": [
           {
            "bin_start": 0,
            "bin_end": 0.1,
            "count": 0
           },
           {
            "bin_start": 0.1,
            "bin_end": 0.2,
            "count": 0
           },
           {
            "bin_start": 0.2,
            "bin_end": 0.30000000000000004,
            "count": 0
           },
           {
            "bin_start": 0.30000000000000004,
            "bin_end": 0.4,
            "count": 0
           },
           {
            "bin_start": 0.4,
            "bin_end": 0.5,
            "count": 0
           },
           {
            "bin_start": 0.5,
            "bin_end": 0.6000000000000001,
            "count": 0
           },
           {
            "bin_start": 0.6000000000000001,
            "bin_end": 0.7000000000000001,
            "count": 0
           },
           {
            "bin_start": 0.7000000000000001,
            "bin_end": 0.8,
            "count": 0
           },
           {
            "bin_start": 0.8,
            "bin_end": 0.9,
            "count": 0
           },
           {
            "bin_start": 0.9,
            "bin_end": 1,
            "count": 0
           }
          ]
         }
        },
        {
         "name": "1989",
         "dtype": "float64",
         "stats": {
          "unique_count": 0,
          "nan_count": 366,
          "min": null,
          "max": null,
          "histogram": [
           {
            "bin_start": 0,
            "bin_end": 0.1,
            "count": 0
           },
           {
            "bin_start": 0.1,
            "bin_end": 0.2,
            "count": 0
           },
           {
            "bin_start": 0.2,
            "bin_end": 0.30000000000000004,
            "count": 0
           },
           {
            "bin_start": 0.30000000000000004,
            "bin_end": 0.4,
            "count": 0
           },
           {
            "bin_start": 0.4,
            "bin_end": 0.5,
            "count": 0
           },
           {
            "bin_start": 0.5,
            "bin_end": 0.6000000000000001,
            "count": 0
           },
           {
            "bin_start": 0.6000000000000001,
            "bin_end": 0.7000000000000001,
            "count": 0
           },
           {
            "bin_start": 0.7000000000000001,
            "bin_end": 0.8,
            "count": 0
           },
           {
            "bin_start": 0.8,
            "bin_end": 0.9,
            "count": 0
           },
           {
            "bin_start": 0.9,
            "bin_end": 1,
            "count": 0
           }
          ]
         }
        },
        {
         "name": "1990",
         "dtype": "float64",
         "stats": {
          "unique_count": 0,
          "nan_count": 366,
          "min": null,
          "max": null,
          "histogram": [
           {
            "bin_start": 0,
            "bin_end": 0.1,
            "count": 0
           },
           {
            "bin_start": 0.1,
            "bin_end": 0.2,
            "count": 0
           },
           {
            "bin_start": 0.2,
            "bin_end": 0.30000000000000004,
            "count": 0
           },
           {
            "bin_start": 0.30000000000000004,
            "bin_end": 0.4,
            "count": 0
           },
           {
            "bin_start": 0.4,
            "bin_end": 0.5,
            "count": 0
           },
           {
            "bin_start": 0.5,
            "bin_end": 0.6000000000000001,
            "count": 0
           },
           {
            "bin_start": 0.6000000000000001,
            "bin_end": 0.7000000000000001,
            "count": 0
           },
           {
            "bin_start": 0.7000000000000001,
            "bin_end": 0.8,
            "count": 0
           },
           {
            "bin_start": 0.8,
            "bin_end": 0.9,
            "count": 0
           },
           {
            "bin_start": 0.9,
            "bin_end": 1,
            "count": 0
           }
          ]
         }
        },
        {
         "name": "1991",
         "dtype": "float64",
         "stats": {
          "unique_count": 0,
          "nan_count": 366,
          "min": null,
          "max": null,
          "histogram": [
           {
            "bin_start": 0,
            "bin_end": 0.1,
            "count": 0
           },
           {
            "bin_start": 0.1,
            "bin_end": 0.2,
            "count": 0
           },
           {
            "bin_start": 0.2,
            "bin_end": 0.30000000000000004,
            "count": 0
           },
           {
            "bin_start": 0.30000000000000004,
            "bin_end": 0.4,
            "count": 0
           },
           {
            "bin_start": 0.4,
            "bin_end": 0.5,
            "count": 0
           },
           {
            "bin_start": 0.5,
            "bin_end": 0.6000000000000001,
            "count": 0
           },
           {
            "bin_start": 0.6000000000000001,
            "bin_end": 0.7000000000000001,
            "count": 0
           },
           {
            "bin_start": 0.7000000000000001,
            "bin_end": 0.8,
            "count": 0
           },
           {
            "bin_start": 0.8,
            "bin_end": 0.9,
            "count": 0
           },
           {
            "bin_start": 0.9,
            "bin_end": 1,
            "count": 0
           }
          ]
         }
        },
        {
         "name": "1992",
         "dtype": "float64",
         "stats": {
          "unique_count": 0,
          "nan_count": 366,
          "min": null,
          "max": null,
          "histogram": [
           {
            "bin_start": 0,
            "bin_end": 0.1,
            "count": 0
           },
           {
            "bin_start": 0.1,
            "bin_end": 0.2,
            "count": 0
           },
           {
            "bin_start": 0.2,
            "bin_end": 0.30000000000000004,
            "count": 0
           },
           {
            "bin_start": 0.30000000000000004,
            "bin_end": 0.4,
            "count": 0
           },
           {
            "bin_start": 0.4,
            "bin_end": 0.5,
            "count": 0
           },
           {
            "bin_start": 0.5,
            "bin_end": 0.6000000000000001,
            "count": 0
           },
           {
            "bin_start": 0.6000000000000001,
            "bin_end": 0.7000000000000001,
            "count": 0
           },
           {
            "bin_start": 0.7000000000000001,
            "bin_end": 0.8,
            "count": 0
           },
           {
            "bin_start": 0.8,
            "bin_end": 0.9,
            "count": 0
           },
           {
            "bin_start": 0.9,
            "bin_end": 1,
            "count": 0
           }
          ]
         }
        },
        {
         "name": "1993",
         "dtype": "float64",
         "stats": {
          "unique_count": 0,
          "nan_count": 366,
          "min": null,
          "max": null,
          "histogram": [
           {
            "bin_start": 0,
            "bin_end": 0.1,
            "count": 0
           },
           {
            "bin_start": 0.1,
            "bin_end": 0.2,
            "count": 0
           },
           {
            "bin_start": 0.2,
            "bin_end": 0.30000000000000004,
            "count": 0
           },
           {
            "bin_start": 0.30000000000000004,
            "bin_end": 0.4,
            "count": 0
           },
           {
            "bin_start": 0.4,
            "bin_end": 0.5,
            "count": 0
           },
           {
            "bin_start": 0.5,
            "bin_end": 0.6000000000000001,
            "count": 0
           },
           {
            "bin_start": 0.6000000000000001,
            "bin_end": 0.7000000000000001,
            "count": 0
           },
           {
            "bin_start": 0.7000000000000001,
            "bin_end": 0.8,
            "count": 0
           },
           {
            "bin_start": 0.8,
            "bin_end": 0.9,
            "count": 0
           },
           {
            "bin_start": 0.9,
            "bin_end": 1,
            "count": 0
           }
          ]
         }
        },
        {
         "name": "1994",
         "dtype": "float64",
         "stats": {
          "unique_count": 0,
          "nan_count": 366,
          "min": null,
          "max": null,
          "histogram": [
           {
            "bin_start": 0,
            "bin_end": 0.1,
            "count": 0
           },
           {
            "bin_start": 0.1,
            "bin_end": 0.2,
            "count": 0
           },
           {
            "bin_start": 0.2,
            "bin_end": 0.30000000000000004,
            "count": 0
           },
           {
            "bin_start": 0.30000000000000004,
            "bin_end": 0.4,
            "count": 0
           },
           {
            "bin_start": 0.4,
            "bin_end": 0.5,
            "count": 0
           },
           {
            "bin_start": 0.5,
            "bin_end": 0.6000000000000001,
            "count": 0
           },
           {
            "bin_start": 0.6000000000000001,
            "bin_end": 0.7000000000000001,
            "count": 0
           },
           {
            "bin_start": 0.7000000000000001,
            "bin_end": 0.8,
            "count": 0
           },
           {
            "bin_start": 0.8,
            "bin_end": 0.9,
            "count": 0
           },
           {
            "bin_start": 0.9,
            "bin_end": 1,
            "count": 0
           }
          ]
         }
        },
        {
         "name": "1995",
         "dtype": "float64",
         "stats": {
          "unique_count": 0,
          "nan_count": 366,
          "min": null,
          "max": null,
          "histogram": [
           {
            "bin_start": 0,
            "bin_end": 0.1,
            "count": 0
           },
           {
            "bin_start": 0.1,
            "bin_end": 0.2,
            "count": 0
           },
           {
            "bin_start": 0.2,
            "bin_end": 0.30000000000000004,
            "count": 0
           },
           {
            "bin_start": 0.30000000000000004,
            "bin_end": 0.4,
            "count": 0
           },
           {
            "bin_start": 0.4,
            "bin_end": 0.5,
            "count": 0
           },
           {
            "bin_start": 0.5,
            "bin_end": 0.6000000000000001,
            "count": 0
           },
           {
            "bin_start": 0.6000000000000001,
            "bin_end": 0.7000000000000001,
            "count": 0
           },
           {
            "bin_start": 0.7000000000000001,
            "bin_end": 0.8,
            "count": 0
           },
           {
            "bin_start": 0.8,
            "bin_end": 0.9,
            "count": 0
           },
           {
            "bin_start": 0.9,
            "bin_end": 1,
            "count": 0
           }
          ]
         }
        },
        {
         "name": "1996",
         "dtype": "float64",
         "stats": {
          "unique_count": 0,
          "nan_count": 366,
          "min": null,
          "max": null,
          "histogram": [
           {
            "bin_start": 0,
            "bin_end": 0.1,
            "count": 0
           },
           {
            "bin_start": 0.1,
            "bin_end": 0.2,
            "count": 0
           },
           {
            "bin_start": 0.2,
            "bin_end": 0.30000000000000004,
            "count": 0
           },
           {
            "bin_start": 0.30000000000000004,
            "bin_end": 0.4,
            "count": 0
           },
           {
            "bin_start": 0.4,
            "bin_end": 0.5,
            "count": 0
           },
           {
            "bin_start": 0.5,
            "bin_end": 0.6000000000000001,
            "count": 0
           },
           {
            "bin_start": 0.6000000000000001,
            "bin_end": 0.7000000000000001,
            "count": 0
           },
           {
            "bin_start": 0.7000000000000001,
            "bin_end": 0.8,
            "count": 0
           },
           {
            "bin_start": 0.8,
            "bin_end": 0.9,
            "count": 0
           },
           {
            "bin_start": 0.9,
            "bin_end": 1,
            "count": 0
           }
          ]
         }
        },
        {
         "name": "1997",
         "dtype": "float64",
         "stats": {
          "unique_count": 0,
          "nan_count": 366,
          "min": null,
          "max": null,
          "histogram": [
           {
            "bin_start": 0,
            "bin_end": 0.1,
            "count": 0
           },
           {
            "bin_start": 0.1,
            "bin_end": 0.2,
            "count": 0
           },
           {
            "bin_start": 0.2,
            "bin_end": 0.30000000000000004,
            "count": 0
           },
           {
            "bin_start": 0.30000000000000004,
            "bin_end": 0.4,
            "count": 0
           },
           {
            "bin_start": 0.4,
            "bin_end": 0.5,
            "count": 0
           },
           {
            "bin_start": 0.5,
            "bin_end": 0.6000000000000001,
            "count": 0
           },
           {
            "bin_start": 0.6000000000000001,
            "bin_end": 0.7000000000000001,
            "count": 0
           },
           {
            "bin_start": 0.7000000000000001,
            "bin_end": 0.8,
            "count": 0
           },
           {
            "bin_start": 0.8,
            "bin_end": 0.9,
            "count": 0
           },
           {
            "bin_start": 0.9,
            "bin_end": 1,
            "count": 0
           }
          ]
         }
        },
        {
         "name": "1998",
         "dtype": "float64",
         "stats": {
          "unique_count": 0,
          "nan_count": 366,
          "min": null,
          "max": null,
          "histogram": [
           {
            "bin_start": 0,
            "bin_end": 0.1,
            "count": 0
           },
           {
            "bin_start": 0.1,
            "bin_end": 0.2,
            "count": 0
           },
           {
            "bin_start": 0.2,
            "bin_end": 0.30000000000000004,
            "count": 0
           },
           {
            "bin_start": 0.30000000000000004,
            "bin_end": 0.4,
            "count": 0
           },
           {
            "bin_start": 0.4,
            "bin_end": 0.5,
            "count": 0
           },
           {
            "bin_start": 0.5,
            "bin_end": 0.6000000000000001,
            "count": 0
           },
           {
            "bin_start": 0.6000000000000001,
            "bin_end": 0.7000000000000001,
            "count": 0
           },
           {
            "bin_start": 0.7000000000000001,
            "bin_end": 0.8,
            "count": 0
           },
           {
            "bin_start": 0.8,
            "bin_end": 0.9,
            "count": 0
           },
           {
            "bin_start": 0.9,
            "bin_end": 1,
            "count": 0
           }
          ]
         }
        },
        {
         "name": "1999",
         "dtype": "float64",
         "stats": {
          "unique_count": 0,
          "nan_count": 366,
          "min": null,
          "max": null,
          "histogram": [
           {
            "bin_start": 0,
            "bin_end": 0.1,
            "count": 0
           },
           {
            "bin_start": 0.1,
            "bin_end": 0.2,
            "count": 0
           },
           {
            "bin_start": 0.2,
            "bin_end": 0.30000000000000004,
            "count": 0
           },
           {
            "bin_start": 0.30000000000000004,
            "bin_end": 0.4,
            "count": 0
           },
           {
            "bin_start": 0.4,
            "bin_end": 0.5,
            "count": 0
           },
           {
            "bin_start": 0.5,
            "bin_end": 0.6000000000000001,
            "count": 0
           },
           {
            "bin_start": 0.6000000000000001,
            "bin_end": 0.7000000000000001,
            "count": 0
           },
           {
            "bin_start": 0.7000000000000001,
            "bin_end": 0.8,
            "count": 0
           },
           {
            "bin_start": 0.8,
            "bin_end": 0.9,
            "count": 0
           },
           {
            "bin_start": 0.9,
            "bin_end": 1,
            "count": 0
           }
          ]
         }
        },
        {
         "name": "2000",
         "dtype": "float64",
         "stats": {
          "unique_count": 0,
          "nan_count": 366,
          "min": null,
          "max": null,
          "histogram": [
           {
            "bin_start": 0,
            "bin_end": 0.1,
            "count": 0
           },
           {
            "bin_start": 0.1,
            "bin_end": 0.2,
            "count": 0
           },
           {
            "bin_start": 0.2,
            "bin_end": 0.30000000000000004,
            "count": 0
           },
           {
            "bin_start": 0.30000000000000004,
            "bin_end": 0.4,
            "count": 0
           },
           {
            "bin_start": 0.4,
            "bin_end": 0.5,
            "count": 0
           },
           {
            "bin_start": 0.5,
            "bin_end": 0.6000000000000001,
            "count": 0
           },
           {
            "bin_start": 0.6000000000000001,
            "bin_end": 0.7000000000000001,
            "count": 0
           },
           {
            "bin_start": 0.7000000000000001,
            "bin_end": 0.8,
            "count": 0
           },
           {
            "bin_start": 0.8,
            "bin_end": 0.9,
            "count": 0
           },
           {
            "bin_start": 0.9,
            "bin_end": 1,
            "count": 0
           }
          ]
         }
        },
        {
         "name": "2001",
         "dtype": "float64",
         "stats": {
          "unique_count": 0,
          "nan_count": 366,
          "min": null,
          "max": null,
          "histogram": [
           {
            "bin_start": 0,
            "bin_end": 0.1,
            "count": 0
           },
           {
            "bin_start": 0.1,
            "bin_end": 0.2,
            "count": 0
           },
           {
            "bin_start": 0.2,
            "bin_end": 0.30000000000000004,
            "count": 0
           },
           {
            "bin_start": 0.30000000000000004,
            "bin_end": 0.4,
            "count": 0
           },
           {
            "bin_start": 0.4,
            "bin_end": 0.5,
            "count": 0
           },
           {
            "bin_start": 0.5,
            "bin_end": 0.6000000000000001,
            "count": 0
           },
           {
            "bin_start": 0.6000000000000001,
            "bin_end": 0.7000000000000001,
            "count": 0
           },
           {
            "bin_start": 0.7000000000000001,
            "bin_end": 0.8,
            "count": 0
           },
           {
            "bin_start": 0.8,
            "bin_end": 0.9,
            "count": 0
           },
           {
            "bin_start": 0.9,
            "bin_end": 1,
            "count": 0
           }
          ]
         }
        },
        {
         "name": "2002",
         "dtype": "float64",
         "stats": {
          "unique_count": 0,
          "nan_count": 366,
          "min": null,
          "max": null,
          "histogram": [
           {
            "bin_start": 0,
            "bin_end": 0.1,
            "count": 0
           },
           {
            "bin_start": 0.1,
            "bin_end": 0.2,
            "count": 0
           },
           {
            "bin_start": 0.2,
            "bin_end": 0.30000000000000004,
            "count": 0
           },
           {
            "bin_start": 0.30000000000000004,
            "bin_end": 0.4,
            "count": 0
           },
           {
            "bin_start": 0.4,
            "bin_end": 0.5,
            "count": 0
           },
           {
            "bin_start": 0.5,
            "bin_end": 0.6000000000000001,
            "count": 0
           },
           {
            "bin_start": 0.6000000000000001,
            "bin_end": 0.7000000000000001,
            "count": 0
           },
           {
            "bin_start": 0.7000000000000001,
            "bin_end": 0.8,
            "count": 0
           },
           {
            "bin_start": 0.8,
            "bin_end": 0.9,
            "count": 0
           },
           {
            "bin_start": 0.9,
            "bin_end": 1,
            "count": 0
           }
          ]
         }
        },
        {
         "name": "2003",
         "dtype": "float64",
         "stats": {
          "unique_count": 0,
          "nan_count": 366,
          "min": null,
          "max": null,
          "histogram": [
           {
            "bin_start": 0,
            "bin_end": 0.1,
            "count": 0
           },
           {
            "bin_start": 0.1,
            "bin_end": 0.2,
            "count": 0
           },
           {
            "bin_start": 0.2,
            "bin_end": 0.30000000000000004,
            "count": 0
           },
           {
            "bin_start": 0.30000000000000004,
            "bin_end": 0.4,
            "count": 0
           },
           {
            "bin_start": 0.4,
            "bin_end": 0.5,
            "count": 0
           },
           {
            "bin_start": 0.5,
            "bin_end": 0.6000000000000001,
            "count": 0
           },
           {
            "bin_start": 0.6000000000000001,
            "bin_end": 0.7000000000000001,
            "count": 0
           },
           {
            "bin_start": 0.7000000000000001,
            "bin_end": 0.8,
            "count": 0
           },
           {
            "bin_start": 0.8,
            "bin_end": 0.9,
            "count": 0
           },
           {
            "bin_start": 0.9,
            "bin_end": 1,
            "count": 0
           }
          ]
         }
        },
        {
         "name": "2004",
         "dtype": "float64",
         "stats": {
          "unique_count": 0,
          "nan_count": 366,
          "min": null,
          "max": null,
          "histogram": [
           {
            "bin_start": 0,
            "bin_end": 0.1,
            "count": 0
           },
           {
            "bin_start": 0.1,
            "bin_end": 0.2,
            "count": 0
           },
           {
            "bin_start": 0.2,
            "bin_end": 0.30000000000000004,
            "count": 0
           },
           {
            "bin_start": 0.30000000000000004,
            "bin_end": 0.4,
            "count": 0
           },
           {
            "bin_start": 0.4,
            "bin_end": 0.5,
            "count": 0
           },
           {
            "bin_start": 0.5,
            "bin_end": 0.6000000000000001,
            "count": 0
           },
           {
            "bin_start": 0.6000000000000001,
            "bin_end": 0.7000000000000001,
            "count": 0
           },
           {
            "bin_start": 0.7000000000000001,
            "bin_end": 0.8,
            "count": 0
           },
           {
            "bin_start": 0.8,
            "bin_end": 0.9,
            "count": 0
           },
           {
            "bin_start": 0.9,
            "bin_end": 1,
            "count": 0
           }
          ]
         }
        },
        {
         "name": "2005",
         "dtype": "float64",
         "stats": {
          "unique_count": 0,
          "nan_count": 366,
          "min": null,
          "max": null,
          "histogram": [
           {
            "bin_start": 0,
            "bin_end": 0.1,
            "count": 0
           },
           {
            "bin_start": 0.1,
            "bin_end": 0.2,
            "count": 0
           },
           {
            "bin_start": 0.2,
            "bin_end": 0.30000000000000004,
            "count": 0
           },
           {
            "bin_start": 0.30000000000000004,
            "bin_end": 0.4,
            "count": 0
           },
           {
            "bin_start": 0.4,
            "bin_end": 0.5,
            "count": 0
           },
           {
            "bin_start": 0.5,
            "bin_end": 0.6000000000000001,
            "count": 0
           },
           {
            "bin_start": 0.6000000000000001,
            "bin_end": 0.7000000000000001,
            "count": 0
           },
           {
            "bin_start": 0.7000000000000001,
            "bin_end": 0.8,
            "count": 0
           },
           {
            "bin_start": 0.8,
            "bin_end": 0.9,
            "count": 0
           },
           {
            "bin_start": 0.9,
            "bin_end": 1,
            "count": 0
           }
          ]
         }
        },
        {
         "name": "2006",
         "dtype": "float64",
         "stats": {
          "unique_count": 0,
          "nan_count": 366,
          "min": null,
          "max": null,
          "histogram": [
           {
            "bin_start": 0,
            "bin_end": 0.1,
            "count": 0
           },
           {
            "bin_start": 0.1,
            "bin_end": 0.2,
            "count": 0
           },
           {
            "bin_start": 0.2,
            "bin_end": 0.30000000000000004,
            "count": 0
           },
           {
            "bin_start": 0.30000000000000004,
            "bin_end": 0.4,
            "count": 0
           },
           {
            "bin_start": 0.4,
            "bin_end": 0.5,
            "count": 0
           },
           {
            "bin_start": 0.5,
            "bin_end": 0.6000000000000001,
            "count": 0
           },
           {
            "bin_start": 0.6000000000000001,
            "bin_end": 0.7000000000000001,
            "count": 0
           },
           {
            "bin_start": 0.7000000000000001,
            "bin_end": 0.8,
            "count": 0
           },
           {
            "bin_start": 0.8,
            "bin_end": 0.9,
            "count": 0
           },
           {
            "bin_start": 0.9,
            "bin_end": 1,
            "count": 0
           }
          ]
         }
        },
        {
         "name": "2007",
         "dtype": "float64",
         "stats": {
          "unique_count": 0,
          "nan_count": 366,
          "min": null,
          "max": null,
          "histogram": [
           {
            "bin_start": 0,
            "bin_end": 0.1,
            "count": 0
           },
           {
            "bin_start": 0.1,
            "bin_end": 0.2,
            "count": 0
           },
           {
            "bin_start": 0.2,
            "bin_end": 0.30000000000000004,
            "count": 0
           },
           {
            "bin_start": 0.30000000000000004,
            "bin_end": 0.4,
            "count": 0
           },
           {
            "bin_start": 0.4,
            "bin_end": 0.5,
            "count": 0
           },
           {
            "bin_start": 0.5,
            "bin_end": 0.6000000000000001,
            "count": 0
           },
           {
            "bin_start": 0.6000000000000001,
            "bin_end": 0.7000000000000001,
            "count": 0
           },
           {
            "bin_start": 0.7000000000000001,
            "bin_end": 0.8,
            "count": 0
           },
           {
            "bin_start": 0.8,
            "bin_end": 0.9,
            "count": 0
           },
           {
            "bin_start": 0.9,
            "bin_end": 1,
            "count": 0
           }
          ]
         }
        },
        {
         "name": "2008",
         "dtype": "float64",
         "stats": {
          "unique_count": 0,
          "nan_count": 366,
          "min": null,
          "max": null,
          "histogram": [
           {
            "bin_start": 0,
            "bin_end": 0.1,
            "count": 0
           },
           {
            "bin_start": 0.1,
            "bin_end": 0.2,
            "count": 0
           },
           {
            "bin_start": 0.2,
            "bin_end": 0.30000000000000004,
            "count": 0
           },
           {
            "bin_start": 0.30000000000000004,
            "bin_end": 0.4,
            "count": 0
           },
           {
            "bin_start": 0.4,
            "bin_end": 0.5,
            "count": 0
           },
           {
            "bin_start": 0.5,
            "bin_end": 0.6000000000000001,
            "count": 0
           },
           {
            "bin_start": 0.6000000000000001,
            "bin_end": 0.7000000000000001,
            "count": 0
           },
           {
            "bin_start": 0.7000000000000001,
            "bin_end": 0.8,
            "count": 0
           },
           {
            "bin_start": 0.8,
            "bin_end": 0.9,
            "count": 0
           },
           {
            "bin_start": 0.9,
            "bin_end": 1,
            "count": 0
           }
          ]
         }
        },
        {
         "name": "2009",
         "dtype": "float64",
         "stats": {
          "unique_count": 0,
          "nan_count": 366,
          "min": null,
          "max": null,
          "histogram": [
           {
            "bin_start": 0,
            "bin_end": 0.1,
            "count": 0
           },
           {
            "bin_start": 0.1,
            "bin_end": 0.2,
            "count": 0
           },
           {
            "bin_start": 0.2,
            "bin_end": 0.30000000000000004,
            "count": 0
           },
           {
            "bin_start": 0.30000000000000004,
            "bin_end": 0.4,
            "count": 0
           },
           {
            "bin_start": 0.4,
            "bin_end": 0.5,
            "count": 0
           },
           {
            "bin_start": 0.5,
            "bin_end": 0.6000000000000001,
            "count": 0
           },
           {
            "bin_start": 0.6000000000000001,
            "bin_end": 0.7000000000000001,
            "count": 0
           },
           {
            "bin_start": 0.7000000000000001,
            "bin_end": 0.8,
            "count": 0
           },
           {
            "bin_start": 0.8,
            "bin_end": 0.9,
            "count": 0
           },
           {
            "bin_start": 0.9,
            "bin_end": 1,
            "count": 0
           }
          ]
         }
        },
        {
         "name": "2010",
         "dtype": "float64",
         "stats": {
          "unique_count": 0,
          "nan_count": 366,
          "min": null,
          "max": null,
          "histogram": [
           {
            "bin_start": 0,
            "bin_end": 0.1,
            "count": 0
           },
           {
            "bin_start": 0.1,
            "bin_end": 0.2,
            "count": 0
           },
           {
            "bin_start": 0.2,
            "bin_end": 0.30000000000000004,
            "count": 0
           },
           {
            "bin_start": 0.30000000000000004,
            "bin_end": 0.4,
            "count": 0
           },
           {
            "bin_start": 0.4,
            "bin_end": 0.5,
            "count": 0
           },
           {
            "bin_start": 0.5,
            "bin_end": 0.6000000000000001,
            "count": 0
           },
           {
            "bin_start": 0.6000000000000001,
            "bin_end": 0.7000000000000001,
            "count": 0
           },
           {
            "bin_start": 0.7000000000000001,
            "bin_end": 0.8,
            "count": 0
           },
           {
            "bin_start": 0.8,
            "bin_end": 0.9,
            "count": 0
           },
           {
            "bin_start": 0.9,
            "bin_end": 1,
            "count": 0
           }
          ]
         }
        },
        {
         "name": "2011",
         "dtype": "float64",
         "stats": {
          "unique_count": 0,
          "nan_count": 366,
          "min": null,
          "max": null,
          "histogram": [
           {
            "bin_start": 0,
            "bin_end": 0.1,
            "count": 0
           },
           {
            "bin_start": 0.1,
            "bin_end": 0.2,
            "count": 0
           },
           {
            "bin_start": 0.2,
            "bin_end": 0.30000000000000004,
            "count": 0
           },
           {
            "bin_start": 0.30000000000000004,
            "bin_end": 0.4,
            "count": 0
           },
           {
            "bin_start": 0.4,
            "bin_end": 0.5,
            "count": 0
           },
           {
            "bin_start": 0.5,
            "bin_end": 0.6000000000000001,
            "count": 0
           },
           {
            "bin_start": 0.6000000000000001,
            "bin_end": 0.7000000000000001,
            "count": 0
           },
           {
            "bin_start": 0.7000000000000001,
            "bin_end": 0.8,
            "count": 0
           },
           {
            "bin_start": 0.8,
            "bin_end": 0.9,
            "count": 0
           },
           {
            "bin_start": 0.9,
            "bin_end": 1,
            "count": 0
           }
          ]
         }
        },
        {
         "name": "2012",
         "dtype": "float64",
         "stats": {
          "unique_count": 0,
          "nan_count": 366,
          "min": null,
          "max": null,
          "histogram": [
           {
            "bin_start": 0,
            "bin_end": 0.1,
            "count": 0
           },
           {
            "bin_start": 0.1,
            "bin_end": 0.2,
            "count": 0
           },
           {
            "bin_start": 0.2,
            "bin_end": 0.30000000000000004,
            "count": 0
           },
           {
            "bin_start": 0.30000000000000004,
            "bin_end": 0.4,
            "count": 0
           },
           {
            "bin_start": 0.4,
            "bin_end": 0.5,
            "count": 0
           },
           {
            "bin_start": 0.5,
            "bin_end": 0.6000000000000001,
            "count": 0
           },
           {
            "bin_start": 0.6000000000000001,
            "bin_end": 0.7000000000000001,
            "count": 0
           },
           {
            "bin_start": 0.7000000000000001,
            "bin_end": 0.8,
            "count": 0
           },
           {
            "bin_start": 0.8,
            "bin_end": 0.9,
            "count": 0
           },
           {
            "bin_start": 0.9,
            "bin_end": 1,
            "count": 0
           }
          ]
         }
        },
        {
         "name": "2013",
         "dtype": "float64",
         "stats": {
          "unique_count": 0,
          "nan_count": 366,
          "min": null,
          "max": null,
          "histogram": [
           {
            "bin_start": 0,
            "bin_end": 0.1,
            "count": 0
           },
           {
            "bin_start": 0.1,
            "bin_end": 0.2,
            "count": 0
           },
           {
            "bin_start": 0.2,
            "bin_end": 0.30000000000000004,
            "count": 0
           },
           {
            "bin_start": 0.30000000000000004,
            "bin_end": 0.4,
            "count": 0
           },
           {
            "bin_start": 0.4,
            "bin_end": 0.5,
            "count": 0
           },
           {
            "bin_start": 0.5,
            "bin_end": 0.6000000000000001,
            "count": 0
           },
           {
            "bin_start": 0.6000000000000001,
            "bin_end": 0.7000000000000001,
            "count": 0
           },
           {
            "bin_start": 0.7000000000000001,
            "bin_end": 0.8,
            "count": 0
           },
           {
            "bin_start": 0.8,
            "bin_end": 0.9,
            "count": 0
           },
           {
            "bin_start": 0.9,
            "bin_end": 1,
            "count": 0
           }
          ]
         }
        },
        {
         "name": "2014",
         "dtype": "float64",
         "stats": {
          "unique_count": 0,
          "nan_count": 366,
          "min": null,
          "max": null,
          "histogram": [
           {
            "bin_start": 0,
            "bin_end": 0.1,
            "count": 0
           },
           {
            "bin_start": 0.1,
            "bin_end": 0.2,
            "count": 0
           },
           {
            "bin_start": 0.2,
            "bin_end": 0.30000000000000004,
            "count": 0
           },
           {
            "bin_start": 0.30000000000000004,
            "bin_end": 0.4,
            "count": 0
           },
           {
            "bin_start": 0.4,
            "bin_end": 0.5,
            "count": 0
           },
           {
            "bin_start": 0.5,
            "bin_end": 0.6000000000000001,
            "count": 0
           },
           {
            "bin_start": 0.6000000000000001,
            "bin_end": 0.7000000000000001,
            "count": 0
           },
           {
            "bin_start": 0.7000000000000001,
            "bin_end": 0.8,
            "count": 0
           },
           {
            "bin_start": 0.8,
            "bin_end": 0.9,
            "count": 0
           },
           {
            "bin_start": 0.9,
            "bin_end": 1,
            "count": 0
           }
          ]
         }
        },
        {
         "name": "2015",
         "dtype": "float64",
         "stats": {
          "unique_count": 0,
          "nan_count": 366,
          "min": null,
          "max": null,
          "histogram": [
           {
            "bin_start": 0,
            "bin_end": 0.1,
            "count": 0
           },
           {
            "bin_start": 0.1,
            "bin_end": 0.2,
            "count": 0
           },
           {
            "bin_start": 0.2,
            "bin_end": 0.30000000000000004,
            "count": 0
           },
           {
            "bin_start": 0.30000000000000004,
            "bin_end": 0.4,
            "count": 0
           },
           {
            "bin_start": 0.4,
            "bin_end": 0.5,
            "count": 0
           },
           {
            "bin_start": 0.5,
            "bin_end": 0.6000000000000001,
            "count": 0
           },
           {
            "bin_start": 0.6000000000000001,
            "bin_end": 0.7000000000000001,
            "count": 0
           },
           {
            "bin_start": 0.7000000000000001,
            "bin_end": 0.8,
            "count": 0
           },
           {
            "bin_start": 0.8,
            "bin_end": 0.9,
            "count": 0
           },
           {
            "bin_start": 0.9,
            "bin_end": 1,
            "count": 0
           }
          ]
         }
        },
        {
         "name": "2016",
         "dtype": "float64",
         "stats": {
          "unique_count": 0,
          "nan_count": 366,
          "min": null,
          "max": null,
          "histogram": [
           {
            "bin_start": 0,
            "bin_end": 0.1,
            "count": 0
           },
           {
            "bin_start": 0.1,
            "bin_end": 0.2,
            "count": 0
           },
           {
            "bin_start": 0.2,
            "bin_end": 0.30000000000000004,
            "count": 0
           },
           {
            "bin_start": 0.30000000000000004,
            "bin_end": 0.4,
            "count": 0
           },
           {
            "bin_start": 0.4,
            "bin_end": 0.5,
            "count": 0
           },
           {
            "bin_start": 0.5,
            "bin_end": 0.6000000000000001,
            "count": 0
           },
           {
            "bin_start": 0.6000000000000001,
            "bin_end": 0.7000000000000001,
            "count": 0
           },
           {
            "bin_start": 0.7000000000000001,
            "bin_end": 0.8,
            "count": 0
           },
           {
            "bin_start": 0.8,
            "bin_end": 0.9,
            "count": 0
           },
           {
            "bin_start": 0.9,
            "bin_end": 1,
            "count": 0
           }
          ]
         }
        },
        {
         "name": "2017",
         "dtype": "float64",
         "stats": {
          "unique_count": 0,
          "nan_count": 366,
          "min": null,
          "max": null,
          "histogram": [
           {
            "bin_start": 0,
            "bin_end": 0.1,
            "count": 0
           },
           {
            "bin_start": 0.1,
            "bin_end": 0.2,
            "count": 0
           },
           {
            "bin_start": 0.2,
            "bin_end": 0.30000000000000004,
            "count": 0
           },
           {
            "bin_start": 0.30000000000000004,
            "bin_end": 0.4,
            "count": 0
           },
           {
            "bin_start": 0.4,
            "bin_end": 0.5,
            "count": 0
           },
           {
            "bin_start": 0.5,
            "bin_end": 0.6000000000000001,
            "count": 0
           },
           {
            "bin_start": 0.6000000000000001,
            "bin_end": 0.7000000000000001,
            "count": 0
           },
           {
            "bin_start": 0.7000000000000001,
            "bin_end": 0.8,
            "count": 0
           },
           {
            "bin_start": 0.8,
            "bin_end": 0.9,
            "count": 0
           },
           {
            "bin_start": 0.9,
            "bin_end": 1,
            "count": 0
           }
          ]
         }
        },
        {
         "name": "2018",
         "dtype": "float64",
         "stats": {
          "unique_count": 0,
          "nan_count": 366,
          "min": null,
          "max": null,
          "histogram": [
           {
            "bin_start": 0,
            "bin_end": 0.1,
            "count": 0
           },
           {
            "bin_start": 0.1,
            "bin_end": 0.2,
            "count": 0
           },
           {
            "bin_start": 0.2,
            "bin_end": 0.30000000000000004,
            "count": 0
           },
           {
            "bin_start": 0.30000000000000004,
            "bin_end": 0.4,
            "count": 0
           },
           {
            "bin_start": 0.4,
            "bin_end": 0.5,
            "count": 0
           },
           {
            "bin_start": 0.5,
            "bin_end": 0.6000000000000001,
            "count": 0
           },
           {
            "bin_start": 0.6000000000000001,
            "bin_end": 0.7000000000000001,
            "count": 0
           },
           {
            "bin_start": 0.7000000000000001,
            "bin_end": 0.8,
            "count": 0
           },
           {
            "bin_start": 0.8,
            "bin_end": 0.9,
            "count": 0
           },
           {
            "bin_start": 0.9,
            "bin_end": 1,
            "count": 0
           }
          ]
         }
        },
        {
         "name": "2019",
         "dtype": "float64",
         "stats": {
          "unique_count": 0,
          "nan_count": 366,
          "min": null,
          "max": null,
          "histogram": [
           {
            "bin_start": 0,
            "bin_end": 0.1,
            "count": 0
           },
           {
            "bin_start": 0.1,
            "bin_end": 0.2,
            "count": 0
           },
           {
            "bin_start": 0.2,
            "bin_end": 0.30000000000000004,
            "count": 0
           },
           {
            "bin_start": 0.30000000000000004,
            "bin_end": 0.4,
            "count": 0
           },
           {
            "bin_start": 0.4,
            "bin_end": 0.5,
            "count": 0
           },
           {
            "bin_start": 0.5,
            "bin_end": 0.6000000000000001,
            "count": 0
           },
           {
            "bin_start": 0.6000000000000001,
            "bin_end": 0.7000000000000001,
            "count": 0
           },
           {
            "bin_start": 0.7000000000000001,
            "bin_end": 0.8,
            "count": 0
           },
           {
            "bin_start": 0.8,
            "bin_end": 0.9,
            "count": 0
           },
           {
            "bin_start": 0.9,
            "bin_end": 1,
            "count": 0
           }
          ]
         }
        },
        {
         "name": "2020",
         "dtype": "float64",
         "stats": {
          "unique_count": 0,
          "nan_count": 366,
          "min": null,
          "max": null,
          "histogram": [
           {
            "bin_start": 0,
            "bin_end": 0.1,
            "count": 0
           },
           {
            "bin_start": 0.1,
            "bin_end": 0.2,
            "count": 0
           },
           {
            "bin_start": 0.2,
            "bin_end": 0.30000000000000004,
            "count": 0
           },
           {
            "bin_start": 0.30000000000000004,
            "bin_end": 0.4,
            "count": 0
           },
           {
            "bin_start": 0.4,
            "bin_end": 0.5,
            "count": 0
           },
           {
            "bin_start": 0.5,
            "bin_end": 0.6000000000000001,
            "count": 0
           },
           {
            "bin_start": 0.6000000000000001,
            "bin_end": 0.7000000000000001,
            "count": 0
           },
           {
            "bin_start": 0.7000000000000001,
            "bin_end": 0.8,
            "count": 0
           },
           {
            "bin_start": 0.8,
            "bin_end": 0.9,
            "count": 0
           },
           {
            "bin_start": 0.9,
            "bin_end": 1,
            "count": 0
           }
          ]
         }
        },
        {
         "name": "_deepnote_index_column",
         "dtype": "int64"
        }
       ],
       "rows": [
        {
         "1980": "nan",
         "1981": "nan",
         "1982": "nan",
         "1983": "nan",
         "1984": "nan",
         "1985": "nan",
         "1986": "nan",
         "1987": "nan",
         "1988": "nan",
         "1989": "nan",
         "1990": "nan",
         "1991": "nan",
         "1992": "nan",
         "1993": "nan",
         "1994": "nan",
         "1995": "nan",
         "1996": "nan",
         "1997": "nan",
         "1998": "nan",
         "1999": "nan",
         "2000": "nan",
         "2001": "nan",
         "2002": "nan",
         "2003": "nan",
         "2004": "nan",
         "2005": "nan",
         "2006": "nan",
         "2007": "nan",
         "2008": "nan",
         "2009": "nan",
         "2010": "nan",
         "2011": "nan",
         "2012": "nan",
         "2013": "nan",
         "2014": "nan",
         "2015": "nan",
         "2016": "nan",
         "2017": "nan",
         "2018": "nan",
         "2019": "nan",
         "2020": "nan",
         "Country_Name": "British Virgin Islands",
         "Country_Code": "VGB",
         "Series_Name": "Agriculture, forestry, and fishing, value added (% of GDP)",
         "Series_Code": "NV.AGR.TOTL.ZS",
         "_deepnote_index_column": 40192
        },
        {
         "1980": "nan",
         "1981": "nan",
         "1982": "nan",
         "1983": "nan",
         "1984": "nan",
         "1985": "nan",
         "1986": "nan",
         "1987": "nan",
         "1988": "nan",
         "1989": "nan",
         "1990": "nan",
         "1991": "nan",
         "1992": "nan",
         "1993": "nan",
         "1994": "nan",
         "1995": "nan",
         "1996": "nan",
         "1997": "nan",
         "1998": "nan",
         "1999": "nan",
         "2000": "nan",
         "2001": "nan",
         "2002": "nan",
         "2003": "nan",
         "2004": "nan",
         "2005": "nan",
         "2006": "nan",
         "2007": "nan",
         "2008": "nan",
         "2009": "nan",
         "2010": "nan",
         "2011": "nan",
         "2012": "nan",
         "2013": "nan",
         "2014": "nan",
         "2015": "nan",
         "2016": "nan",
         "2017": "nan",
         "2018": "nan",
         "2019": "nan",
         "2020": "nan",
         "Country_Name": "British Virgin Islands",
         "Country_Code": "VGB",
         "Series_Name": "Agriculture, forestry, and fishing, value added (annual % growth)",
         "Series_Code": "NV.AGR.TOTL.KD.ZG",
         "_deepnote_index_column": 40193
        },
        {
         "1980": "nan",
         "1981": "nan",
         "1982": "nan",
         "1983": "nan",
         "1984": "nan",
         "1985": "nan",
         "1986": "nan",
         "1987": "nan",
         "1988": "nan",
         "1989": "nan",
         "1990": "nan",
         "1991": "nan",
         "1992": "nan",
         "1993": "nan",
         "1994": "nan",
         "1995": "nan",
         "1996": "nan",
         "1997": "nan",
         "1998": "nan",
         "1999": "nan",
         "2000": "nan",
         "2001": "nan",
         "2002": "nan",
         "2003": "nan",
         "2004": "nan",
         "2005": "nan",
         "2006": "nan",
         "2007": "nan",
         "2008": "nan",
         "2009": "nan",
         "2010": "nan",
         "2011": "nan",
         "2012": "nan",
         "2013": "nan",
         "2014": "nan",
         "2015": "nan",
         "2016": "nan",
         "2017": "nan",
         "2018": "nan",
         "2019": "nan",
         "2020": "nan",
         "Country_Name": "British Virgin Islands",
         "Country_Code": "VGB",
         "Series_Name": "Agriculture, forestry, and fishing, value added (current US$)",
         "Series_Code": "NV.AGR.TOTL.CD",
         "_deepnote_index_column": 40197
        },
        {
         "1980": "nan",
         "1981": "nan",
         "1982": "nan",
         "1983": "nan",
         "1984": "nan",
         "1985": "nan",
         "1986": "nan",
         "1987": "nan",
         "1988": "nan",
         "1989": "nan",
         "1990": "nan",
         "1991": "nan",
         "1992": "nan",
         "1993": "nan",
         "1994": "nan",
         "1995": "nan",
         "1996": "nan",
         "1997": "nan",
         "1998": "nan",
         "1999": "nan",
         "2000": "nan",
         "2001": "nan",
         "2002": "nan",
         "2003": "nan",
         "2004": "nan",
         "2005": "nan",
         "2006": "nan",
         "2007": "nan",
         "2008": "nan",
         "2009": "nan",
         "2010": "nan",
         "2011": "nan",
         "2012": "nan",
         "2013": "nan",
         "2014": "nan",
         "2015": "nan",
         "2016": "nan",
         "2017": "nan",
         "2018": "nan",
         "2019": "nan",
         "2020": "nan",
         "Country_Name": "British Virgin Islands",
         "Country_Code": "VGB",
         "Series_Name": "Fertilizer consumption (kilograms per hectare of arable land)",
         "Series_Code": "AG.CON.FERT.ZS",
         "_deepnote_index_column": 40552
        },
        {
         "1980": "nan",
         "1981": "nan",
         "1982": "nan",
         "1983": "nan",
         "1984": "nan",
         "1985": "nan",
         "1986": "nan",
         "1987": "nan",
         "1988": "nan",
         "1989": "nan",
         "1990": "nan",
         "1991": "nan",
         "1992": "nan",
         "1993": "nan",
         "1994": "nan",
         "1995": "nan",
         "1996": "nan",
         "1997": "nan",
         "1998": "nan",
         "1999": "nan",
         "2000": "nan",
         "2001": "nan",
         "2002": "nan",
         "2003": "nan",
         "2004": "nan",
         "2005": "nan",
         "2006": "nan",
         "2007": "nan",
         "2008": "nan",
         "2009": "nan",
         "2010": "nan",
         "2011": "nan",
         "2012": "nan",
         "2013": "nan",
         "2014": "nan",
         "2015": "nan",
         "2016": "nan",
         "2017": "nan",
         "2018": "nan",
         "2019": "nan",
         "2020": "nan",
         "Country_Name": "Burkina Faso",
         "Country_Code": "BFA",
         "Series_Name": "Agricultural irrigated land (% of total agricultural land)",
         "Series_Code": "AG.LND.IRIG.AG.ZS",
         "_deepnote_index_column": 44639
        },
        {
         "1980": "nan",
         "1981": "nan",
         "1982": "nan",
         "1983": "nan",
         "1984": "nan",
         "1985": "nan",
         "1986": "nan",
         "1987": "nan",
         "1988": "nan",
         "1989": "nan",
         "1990": "nan",
         "1991": "nan",
         "1992": "nan",
         "1993": "nan",
         "1994": "nan",
         "1995": "nan",
         "1996": "nan",
         "1997": "nan",
         "1998": "nan",
         "1999": "nan",
         "2000": "nan",
         "2001": "nan",
         "2002": "nan",
         "2003": "nan",
         "2004": "nan",
         "2005": "nan",
         "2006": "nan",
         "2007": "nan",
         "2008": "nan",
         "2009": "nan",
         "2010": "nan",
         "2011": "nan",
         "2012": "nan",
         "2013": "nan",
         "2014": "nan",
         "2015": "nan",
         "2016": "nan",
         "2017": "nan",
         "2018": "nan",
         "2019": "nan",
         "2020": "nan",
         "Country_Name": "Burkina Faso",
         "Country_Code": "BFA",
         "Series_Name": "Marine protected areas (% of territorial waters)",
         "Series_Code": "ER.MRN.PTMR.ZS",
         "_deepnote_index_column": 45328
        },
        {
         "1980": "nan",
         "1981": "nan",
         "1982": "nan",
         "1983": "nan",
         "1984": "nan",
         "1985": "nan",
         "1986": "nan",
         "1987": "nan",
         "1988": "nan",
         "1989": "nan",
         "1990": "nan",
         "1991": "nan",
         "1992": "nan",
         "1993": "nan",
         "1994": "nan",
         "1995": "nan",
         "1996": "nan",
         "1997": "nan",
         "1998": "nan",
         "1999": "nan",
         "2000": "nan",
         "2001": "nan",
         "2002": "nan",
         "2003": "nan",
         "2004": "nan",
         "2005": "nan",
         "2006": "nan",
         "2007": "nan",
         "2008": "nan",
         "2009": "nan",
         "2010": "nan",
         "2011": "nan",
         "2012": "nan",
         "2013": "nan",
         "2014": "nan",
         "2015": "nan",
         "2016": "nan",
         "2017": "nan",
         "2018": "nan",
         "2019": "nan",
         "2020": "nan",
         "Country_Name": "Burundi",
         "Country_Code": "BDI",
         "Series_Name": "Agricultural irrigated land (% of total agricultural land)",
         "Series_Code": "AG.LND.IRIG.AG.ZS",
         "_deepnote_index_column": 46125
        },
        {
         "1980": "nan",
         "1981": "nan",
         "1982": "nan",
         "1983": "nan",
         "1984": "nan",
         "1985": "nan",
         "1986": "nan",
         "1987": "nan",
         "1988": "nan",
         "1989": "nan",
         "1990": "nan",
         "1991": "nan",
         "1992": "nan",
         "1993": "nan",
         "1994": "nan",
         "1995": "nan",
         "1996": "nan",
         "1997": "nan",
         "1998": "nan",
         "1999": "nan",
         "2000": "nan",
         "2001": "nan",
         "2002": "nan",
         "2003": "nan",
         "2004": "nan",
         "2005": "nan",
         "2006": "nan",
         "2007": "nan",
         "2008": "nan",
         "2009": "nan",
         "2010": "nan",
         "2011": "nan",
         "2012": "nan",
         "2013": "nan",
         "2014": "nan",
         "2015": "nan",
         "2016": "nan",
         "2017": "nan",
         "2018": "nan",
         "2019": "nan",
         "2020": "nan",
         "Country_Name": "Burundi",
         "Country_Code": "BDI",
         "Series_Name": "Marine protected areas (% of territorial waters)",
         "Series_Code": "ER.MRN.PTMR.ZS",
         "_deepnote_index_column": 46814
        },
        {
         "1980": "nan",
         "1981": "nan",
         "1982": "nan",
         "1983": "nan",
         "1984": "nan",
         "1985": "nan",
         "1986": "nan",
         "1987": "nan",
         "1988": "nan",
         "1989": "nan",
         "1990": "nan",
         "1991": "nan",
         "1992": "nan",
         "1993": "nan",
         "1994": "nan",
         "1995": "nan",
         "1996": "nan",
         "1997": "nan",
         "1998": "nan",
         "1999": "nan",
         "2000": "nan",
         "2001": "nan",
         "2002": "nan",
         "2003": "nan",
         "2004": "nan",
         "2005": "nan",
         "2006": "nan",
         "2007": "nan",
         "2008": "nan",
         "2009": "nan",
         "2010": "nan",
         "2011": "nan",
         "2012": "nan",
         "2013": "nan",
         "2014": "nan",
         "2015": "nan",
         "2016": "nan",
         "2017": "nan",
         "2018": "nan",
         "2019": "nan",
         "2020": "nan",
         "Country_Name": "Cabo Verde",
         "Country_Code": "CPV",
         "Series_Name": "Agricultural irrigated land (% of total agricultural land)",
         "Series_Code": "AG.LND.IRIG.AG.ZS",
         "_deepnote_index_column": 47611
        },
        {
         "1980": "nan",
         "1981": "nan",
         "1982": "nan",
         "1983": "nan",
         "1984": "nan",
         "1985": "nan",
         "1986": "nan",
         "1987": "nan",
         "1988": "nan",
         "1989": "nan",
         "1990": "nan",
         "1991": "nan",
         "1992": "nan",
         "1993": "nan",
         "1994": "nan",
         "1995": "nan",
         "1996": "nan",
         "1997": "nan",
         "1998": "nan",
         "1999": "nan",
         "2000": "nan",
         "2001": "nan",
         "2002": "nan",
         "2003": "nan",
         "2004": "nan",
         "2005": "nan",
         "2006": "nan",
         "2007": "nan",
         "2008": "nan",
         "2009": "nan",
         "2010": "nan",
         "2011": "nan",
         "2012": "nan",
         "2013": "nan",
         "2014": "nan",
         "2015": "nan",
         "2016": "nan",
         "2017": "nan",
         "2018": "nan",
         "2019": "nan",
         "2020": "nan",
         "Country_Name": "Cambodia",
         "Country_Code": "KHM",
         "Series_Name": "Agricultural irrigated land (% of total agricultural land)",
         "Series_Code": "AG.LND.IRIG.AG.ZS",
         "_deepnote_index_column": 49097
        }
       ]
      },
      "text/plain": "                                             Country_Name Country_Code  \\\n661                                           Afghanistan          AFG   \n748                                           Afghanistan          AFG   \n4517                                       American Samoa          ASM   \n4528                                       American Samoa          ASM   \n4529                                       American Samoa          ASM   \n4533                                       American Samoa          ASM   \n6003                                              Andorra          AND   \n6034                                              Andorra          AND   \n6374                                              Andorra          AND   \n6692                                              Andorra          AND   \n7330                                              Andorra          AND   \n7489                                               Angola          AGO   \n8975                                  Antigua and Barbuda          ATG   \n12636                                             Armenia          ARM   \n13433                                               Aruba          ABW   \n13445                                               Aruba          ABW   \n17094                                             Austria          AUT   \n19377                                        Bahamas, The          BHS   \n23835                                            Barbados          BRB   \n26010                                             Belarus          BLR   \n28293                                              Belize          BLZ   \n31265                                             Bermuda          BMU   \n31296                                             Bermuda          BMU   \n32592                                             Bermuda          BMU   \n32751                                              Bhutan          BTN   \n33440                                              Bhutan          BTN   \n34926                                             Bolivia          BOL   \n35723                              Bosnia and Herzegovina          BIH   \n37898                                            Botswana          BWA   \n40181                              British Virgin Islands          VGB   \n40192                              British Virgin Islands          VGB   \n40193                              British Virgin Islands          VGB   \n40197                              British Virgin Islands          VGB   \n40552                              British Virgin Islands          VGB   \n44639                                        Burkina Faso          BFA   \n45328                                        Burkina Faso          BFA   \n46125                                             Burundi          BDI   \n46814                                             Burundi          BDI   \n47611                                          Cabo Verde          CPV   \n49097                                            Cambodia          KHM   \n50583                                            Cameroon          CMR   \n53555                                      Cayman Islands          CYM   \n55041                            Central African Republic          CAF   \n55730                            Central African Republic          CAF   \n56527                                                Chad          TCD   \n57216                                                Chad          TCD   \n58384                                     Channel Islands          CHI   \n58406                                     Channel Islands          CHI   \n58615                                     Channel Islands          CHI   \n58702                                     Channel Islands          CHI   \n59315                                     Channel Islands          CHI   \n60985                                               China          CHN   \n63957                                             Comoros          COM   \n63988                                             Comoros          COM   \n65284                                             Comoros          COM   \n65443                                    Congo, Dem. Rep.          COD   \n66929                                         Congo, Rep.          COG   \n68415                                          Costa Rica          CRI   \n69901                                       Cote d'Ivoire          CIV   \n72873                                                Cuba          CUB   \n74359                                             Curacao          CUW   \n74360                                             Curacao          CUW   \n74361                                             Curacao          CUW   \n74371                                             Curacao          CUW   \n74730                                             Curacao          CUW   \n78020                                             Czechia          CZE   \n80303                                            Djibouti          DJI   \n80334                                            Djibouti          DJI   \n81630                                            Djibouti          DJI   \n81789                                            Dominica          DMA   \n86247                                    Egypt, Arab Rep.          EGY   \n89219                                   Equatorial Guinea          GNQ   \n89821                                   Equatorial Guinea          GNQ   \n90705                                             Eritrea          ERI   \n94366                                            Eswatini          SWZ   \n95852                                            Ethiopia          ETH   \n96649                                       Faroe Islands          FRO   \n96661                                       Faroe Islands          FRO   \n97251                                       Faroe Islands          FRO   \n98135                                                Fiji          FJI   \n102593                                   French Polynesia          PYF   \n102605                                   French Polynesia          PYF   \n104079                                              Gabon          GAB   \n105565                                        Gambia, The          GMB   \n111509                                          Gibraltar          GIB   \n111510                                          Gibraltar          GIB   \n111511                                          Gibraltar          GIB   \n111520                                          Gibraltar          GIB   \n111521                                          Gibraltar          GIB   \n111525                                          Gibraltar          GIB   \n111540                                          Gibraltar          GIB   \n111880                                          Gibraltar          GIB   \n112111                                          Gibraltar          GIB   \n112836                                          Gibraltar          GIB   \n114481                                          Greenland          GRL   \n114512                                          Greenland          GRL   \n114852                                          Greenland          GRL   \n115083                                          Greenland          GRL   \n115808                                          Greenland          GRL   \n117453                                               Guam          GUM   \n117464                                               Guam          GUM   \n117465                                               Guam          GUM   \n117469                                               Guam          GUM   \n117824                                               Guam          GUM   \n121911                                      Guinea-Bissau          GNB   \n127855                               Hong Kong SAR, China          HKG   \n128262                               Hong Kong SAR, China          HKG   \n128263                               Hong Kong SAR, China          HKG   \n130030                                            Hungary          HUN   \n133799                                          Indonesia          IDN   \n136771                                               Iraq          IRQ   \n138257                                            Ireland          IRL   \n139743                                        Isle of Man          IMN   \n139774                                        Isle of Man          IMN   \n140114                                        Isle of Man          IMN   \n140345                                        Isle of Man          IMN   \n141070                                        Isle of Man          IMN   \n150145                                              Kenya          KEN   \n151631                                           Kiribati          KIR   \n153117                          Korea, Dem. People's Rep.          PRK   \n153128                          Korea, Dem. People's Rep.          PRK   \n153129                          Korea, Dem. People's Rep.          PRK   \n153133                          Korea, Dem. People's Rep.          PRK   \n153719                          Korea, Dem. People's Rep.          PRK   \n154603                                        Korea, Rep.          KOR   \n156089                                             Kosovo          XKX   \n156090                                             Kosovo          XKX   \n156091                                             Kosovo          XKX   \n156120                                             Kosovo          XKX   \n156164                                             Kosovo          XKX   \n156460                                             Kosovo          XKX   \n156482                                             Kosovo          XKX   \n156496                                             Kosovo          XKX   \n156497                                             Kosovo          XKX   \n156691                                             Kosovo          XKX   \n156778                                             Kosovo          XKX   \n157097                                             Kosovo          XKX   \n157391                                             Kosovo          XKX   \n157416                                             Kosovo          XKX   \n157575                                             Kuwait          KWT   \n159750                                    Kyrgyz Republic          KGZ   \n161236                                            Lao PDR          LAO   \n163519                                            Lebanon          LBN   \n165694                                            Lesotho          LSO   \n166491                                            Liberia          LBR   \n167093                                            Liberia          LBR   \n167977                                              Libya          LBY   \n169463                                      Liechtenstein          LIE   \n169475                                      Liechtenstein          LIE   \n169494                                      Liechtenstein          LIE   \n169834                                      Liechtenstein          LIE   \n170152                                      Liechtenstein          LIE   \n170790                                      Liechtenstein          LIE   \n172435                                         Luxembourg          LUX   \n172466                                         Luxembourg          LUX   \n173124                                         Luxembourg          LUX   \n173762                                         Luxembourg          LUX   \n173921                                   Macao SAR, China          MAC   \n173922                                   Macao SAR, China          MAC   \n173923                                   Macao SAR, China          MAC   \n173932                                   Macao SAR, China          MAC   \n173933                                   Macao SAR, China          MAC   \n173937                                   Macao SAR, China          MAC   \n173952                                   Macao SAR, China          MAC   \n174292                                   Macao SAR, China          MAC   \n174328                                   Macao SAR, China          MAC   \n174329                                   Macao SAR, China          MAC   \n174610                                   Macao SAR, China          MAC   \n175223                                   Macao SAR, China          MAC   \n175248                                   Macao SAR, China          MAC   \n177582                                             Malawi          MWI   \n179865                                           Maldives          MDV   \n179896                                           Maldives          MDV   \n181192                                           Maldives          MDV   \n181351                                               Mali          MLI   \n182040                                               Mali          MLI   \n184323                                   Marshall Islands          MHL   \n185840                                         Mauritania          MRT   \n187136                                         Mauritania          MRT   \n190267                              Micronesia, Fed. Sts.          FSM   \n192442                                            Moldova          MDA   \n193239                                             Monaco          MCO   \n193240                                             Monaco          MCO   \n193241                                             Monaco          MCO   \n193250                                             Monaco          MCO   \n193251                                             Monaco          MCO   \n193255                                             Monaco          MCO   \n193270                                             Monaco          MCO   \n193610                                             Monaco          MCO   \n194566                                             Monaco          MCO   \n194756                                           Mongolia          MNG   \n195414                                           Mongolia          MNG   \n196052                                           Mongolia          MNG   \n196211                                         Montenegro          MNE   \n202155                                            Namibia          NAM   \n203641                                              Nauru          NRU   \n203652                                              Nauru          NRU   \n203653                                              Nauru          NRU   \n203657                                              Nauru          NRU   \n204012                                              Nauru          NRU   \n204243                                              Nauru          NRU   \n204330                                              Nauru          NRU   \n204943                                              Nauru          NRU   \n205816                                              Nepal          NPL   \n208099                                      New Caledonia          NCL   \n208111                                      New Caledonia          NCL   \n211071                                          Nicaragua          NIC   \n213246                                              Niger          NER   \n216218                                    North Macedonia          MKD   \n217015                           Northern Mariana Islands          MNP   \n217026                           Northern Mariana Islands          MNP   \n217027                           Northern Mariana Islands          MNP   \n217031                           Northern Mariana Islands          MNP   \n222959                                              Palau          PLW   \n225931                                   Papua New Guinea          PNG   \n227417                                           Paraguay          PRY   \n228106                                           Paraguay          PRY   \n228903                                               Peru          PER   \n234859                                        Puerto Rico          PRI   \n241480                                             Rwanda          RWA   \n242277                                              Samoa          WSM   \n243763                                         San Marino          SMR   \n243794                                         San Marino          SMR   \n244452                                         San Marino          SMR   \n245065                                         San Marino          SMR   \n245090                                         San Marino          SMR   \n245249                              Sao Tome and Principe          STP   \n245280                              Sao Tome and Principe          STP   \n246576                              Sao Tome and Principe          STP   \n250396                                             Serbia          SRB   \n252679                                       Sierra Leone          SLE   \n254165                                          Singapore          SGP   \n255651                          Sint Maarten (Dutch part)          SXM   \n255652                          Sint Maarten (Dutch part)          SXM   \n255653                          Sint Maarten (Dutch part)          SXM   \n255663                          Sint Maarten (Dutch part)          SXM   \n255682                          Sint Maarten (Dutch part)          SXM   \n256022                          Sint Maarten (Dutch part)          SXM   \n256978                          Sint Maarten (Dutch part)          SXM   \n257826                                    Slovak Republic          SVK   \n260109                                    Solomon Islands          SLB   \n261595                                            Somalia          SOM   \n261626                                            Somalia          SOM   \n262197                                            Somalia          SOM   \n262922                                            Somalia          SOM   \n264567                                        South Sudan          SSD   \n265169                                        South Sudan          SSD   \n265256                                        South Sudan          SSD   \n267539                                          Sri Lanka          LKA   \n269025                                St. Kitts and Nevis          KNA   \n270511                                          St. Lucia          LCA   \n271997                           St. Martin (French part)          MAF   \n271998                           St. Martin (French part)          MAF   \n271999                           St. Martin (French part)          MAF   \n272008                           St. Martin (French part)          MAF   \n272009                           St. Martin (French part)          MAF   \n272013                           St. Martin (French part)          MAF   \n272028                           St. Martin (French part)          MAF   \n272368                           St. Martin (French part)          MAF   \n272599                           St. Martin (French part)          MAF   \n273324                           St. Martin (French part)          MAF   \n273483                     St. Vincent and the Grenadines          VCT   \n280116                                        Switzerland          CHE   \n283088                                         Tajikistan          TJK   \n283885                                           Tanzania          TZA   \n285371                                           Thailand          THA   \n288343                                               Togo          TGO   \n289829                                              Tonga          TON   \n295773                                       Turkmenistan          TKM   \n297259                           Turks and Caicos Islands          TCA   \n297630                           Turks and Caicos Islands          TCA   \n298745                                             Tuvalu          TUV   \n298757                                             Tuvalu          TUV   \n299116                                             Tuvalu          TUV   \n300920                                             Uganda          UGA   \n309836                                         Uzbekistan          UZB   \n310633                                            Vanuatu          VUT   \n313605                                           Viet Nam          VNM   \n315091                              Virgin Islands (U.S.)          VIR   \n315102                              Virgin Islands (U.S.)          VIR   \n315103                              Virgin Islands (U.S.)          VIR   \n315107                              Virgin Islands (U.S.)          VIR   \n317266                                 West Bank and Gaza          PSE   \n318063                                        Yemen, Rep.          YEM   \n319549                                             Zambia          ZMB   \n320238                                             Zambia          ZMB   \n321035                                           Zimbabwe          ZWE   \n321724                                           Zimbabwe          ZWE   \n322521                        Africa Eastern and Southern          AFE   \n324007                         Africa Western and Central          AFW   \n324696                         Africa Western and Central          AFW   \n325493                                         Arab World          ARB   \n326979                             Caribbean small states          CSS   \n328465                     Central Europe and the Baltics          CEB   \n329951                         Early-demographic dividend          EAR   \n331437                                East Asia & Pacific          EAS   \n332923        East Asia & Pacific (excluding high income)          EAP   \n334409         East Asia & Pacific (IDA & IBRD countries)          TEA   \n335895                                          Euro area          EMU   \n337381                              Europe & Central Asia          ECS   \n338867      Europe & Central Asia (excluding high income)          ECA   \n340353       Europe & Central Asia (IDA & IBRD countries)          TEC   \n341839                                     European Union          EUU   \n343325           Fragile and conflict affected situations          FCS   \n344014           Fragile and conflict affected situations          FCS   \n344811             Heavily indebted poor countries (HIPC)          HPC   \n345500             Heavily indebted poor countries (HIPC)          HPC   \n346297                                        High income          HIC   \n347783                                          IBRD only          IBD   \n349269                                   IDA & IBRD total          IBT   \n350755                                          IDA blend          IDB   \n351357                                          IDA blend          IDB   \n352241                                           IDA only          IDX   \n352930                                           IDA only          IDX   \n353727                                          IDA total          IDA   \n354416                                          IDA total          IDA   \n355213                          Late-demographic dividend          LTE   \n356699                          Latin America & Caribbean          LCN   \n358185  Latin America & Caribbean (excluding high income)          LAC   \n359671  Latin America & the Caribbean (IDA & IBRD coun...          TLA   \n361157       Least developed countries: UN classification          LDC   \n361846       Least developed countries: UN classification          LDC   \n362643                                Low & middle income          LMY   \n364129                                         Low income          LIC   \n364818                                         Low income          LIC   \n365615                                Lower middle income          LMC   \n367101                         Middle East & North Africa          MEA   \n368587  Middle East & North Africa (excluding high inc...          MNA   \n370073  Middle East & North Africa (IDA & IBRD countries)          TMN   \n371559                                      Middle income          MIC   \n373045                                      North America          NAC   \n374531                                     Not classified          INX   \n374532                                     Not classified          INX   \n374533                                     Not classified          INX   \n374542                                     Not classified          INX   \n374543                                     Not classified          INX   \n374547                                     Not classified          INX   \n374562                                     Not classified          INX   \n374606                                     Not classified          INX   \n374902                                     Not classified          INX   \n374924                                     Not classified          INX   \n374938                                     Not classified          INX   \n374939                                     Not classified          INX   \n375133                                     Not classified          INX   \n375220                                     Not classified          INX   \n375539                                     Not classified          INX   \n375551                                     Not classified          INX   \n375833                                     Not classified          INX   \n375858                                     Not classified          INX   \n376017                                       OECD members          OED   \n377503                                 Other small states          OSS   \n378989                        Pacific island small states          PSS   \n380475                          Post-demographic dividend          PST   \n381961                           Pre-demographic dividend          PRE   \n382650                           Pre-demographic dividend          PRE   \n383447                                       Small states          SST   \n384933                                         South Asia          SAS   \n386419                            South Asia (IDA & IBRD)          TSA   \n387905                                 Sub-Saharan Africa          SSF   \n388594                                 Sub-Saharan Africa          SSF   \n389391         Sub-Saharan Africa (excluding high income)          SSA   \n390080         Sub-Saharan Africa (excluding high income)          SSA   \n390877          Sub-Saharan Africa (IDA & IBRD countries)          TSS   \n391566          Sub-Saharan Africa (IDA & IBRD countries)          TSS   \n392363                                Upper middle income          UMC   \n393849                                              World          WLD   \n\n                                              Series_Name        Series_Code  \\\n661             International tourism, number of arrivals        ST.INT.ARVL   \n748      Marine protected areas (% of territorial waters)     ER.MRN.PTMR.ZS   \n4517    Agricultural irrigated land (% of total agricu...  AG.LND.IRIG.AG.ZS   \n4528    Agriculture, forestry, and fishing, value adde...     NV.AGR.TOTL.ZS   \n4529    Agriculture, forestry, and fishing, value adde...  NV.AGR.TOTL.KD.ZG   \n4533    Agriculture, forestry, and fishing, value adde...     NV.AGR.TOTL.CD   \n6003    Agricultural irrigated land (% of total agricu...  AG.LND.IRIG.AG.ZS   \n6034                 Aquaculture production (metric tons)     ER.FSH.AQUA.MT   \n6374    Fertilizer consumption (kilograms per hectare ...     AG.CON.FERT.ZS   \n6692     Marine protected areas (% of territorial waters)     ER.MRN.PTMR.ZS   \n7330             Total fisheries production (metric tons)     ER.FSH.PROD.MT   \n7489    Agricultural irrigated land (% of total agricu...  AG.LND.IRIG.AG.ZS   \n8975    Agricultural irrigated land (% of total agricu...  AG.LND.IRIG.AG.ZS   \n12636    Marine protected areas (% of territorial waters)     ER.MRN.PTMR.ZS   \n13433   Agricultural irrigated land (% of total agricu...  AG.LND.IRIG.AG.ZS   \n13445   Agriculture, forestry, and fishing, value adde...  NV.AGR.TOTL.KD.ZG   \n17094    Marine protected areas (% of territorial waters)     ER.MRN.PTMR.ZS   \n19377   Agricultural irrigated land (% of total agricu...  AG.LND.IRIG.AG.ZS   \n23835   Agricultural irrigated land (% of total agricu...  AG.LND.IRIG.AG.ZS   \n26010    Marine protected areas (% of territorial waters)     ER.MRN.PTMR.ZS   \n28293   Agricultural irrigated land (% of total agricu...  AG.LND.IRIG.AG.ZS   \n31265   Agricultural irrigated land (% of total agricu...  AG.LND.IRIG.AG.ZS   \n31296                Aquaculture production (metric tons)     ER.FSH.AQUA.MT   \n32592            Total fisheries production (metric tons)     ER.FSH.PROD.MT   \n32751   Agricultural irrigated land (% of total agricu...  AG.LND.IRIG.AG.ZS   \n33440    Marine protected areas (% of territorial waters)     ER.MRN.PTMR.ZS   \n34926    Marine protected areas (% of territorial waters)     ER.MRN.PTMR.ZS   \n35723   Agricultural irrigated land (% of total agricu...  AG.LND.IRIG.AG.ZS   \n37898    Marine protected areas (% of territorial waters)     ER.MRN.PTMR.ZS   \n40181   Agricultural irrigated land (% of total agricu...  AG.LND.IRIG.AG.ZS   \n40192   Agriculture, forestry, and fishing, value adde...     NV.AGR.TOTL.ZS   \n40193   Agriculture, forestry, and fishing, value adde...  NV.AGR.TOTL.KD.ZG   \n40197   Agriculture, forestry, and fishing, value adde...     NV.AGR.TOTL.CD   \n40552   Fertilizer consumption (kilograms per hectare ...     AG.CON.FERT.ZS   \n44639   Agricultural irrigated land (% of total agricu...  AG.LND.IRIG.AG.ZS   \n45328    Marine protected areas (% of territorial waters)     ER.MRN.PTMR.ZS   \n46125   Agricultural irrigated land (% of total agricu...  AG.LND.IRIG.AG.ZS   \n46814    Marine protected areas (% of territorial waters)     ER.MRN.PTMR.ZS   \n47611   Agricultural irrigated land (% of total agricu...  AG.LND.IRIG.AG.ZS   \n49097   Agricultural irrigated land (% of total agricu...  AG.LND.IRIG.AG.ZS   \n50583   Agricultural irrigated land (% of total agricu...  AG.LND.IRIG.AG.ZS   \n53555   Agricultural irrigated land (% of total agricu...  AG.LND.IRIG.AG.ZS   \n55041   Agricultural irrigated land (% of total agricu...  AG.LND.IRIG.AG.ZS   \n55730    Marine protected areas (% of territorial waters)     ER.MRN.PTMR.ZS   \n56527   Agricultural irrigated land (% of total agricu...  AG.LND.IRIG.AG.ZS   \n57216    Marine protected areas (% of territorial waters)     ER.MRN.PTMR.ZS   \n58384   Fertilizer consumption (kilograms per hectare ...     AG.CON.FERT.ZS   \n58406                            Fish species, threatened     EN.FSH.THRD.NO   \n58615           International tourism, number of arrivals        ST.INT.ARVL   \n58702    Marine protected areas (% of territorial waters)     ER.MRN.PTMR.ZS   \n59315   Terrestrial and marine protected areas (% of t...     ER.PTD.TOTL.ZS   \n60985   Agricultural irrigated land (% of total agricu...  AG.LND.IRIG.AG.ZS   \n63957   Agricultural irrigated land (% of total agricu...  AG.LND.IRIG.AG.ZS   \n63988                Aquaculture production (metric tons)     ER.FSH.AQUA.MT   \n65284            Total fisheries production (metric tons)     ER.FSH.PROD.MT   \n65443   Agricultural irrigated land (% of total agricu...  AG.LND.IRIG.AG.ZS   \n66929   Agricultural irrigated land (% of total agricu...  AG.LND.IRIG.AG.ZS   \n68415   Agricultural irrigated land (% of total agricu...  AG.LND.IRIG.AG.ZS   \n69901   Agricultural irrigated land (% of total agricu...  AG.LND.IRIG.AG.ZS   \n72873   Agricultural irrigated land (% of total agricu...  AG.LND.IRIG.AG.ZS   \n74359   Agricultural irrigated land (% of total agricu...  AG.LND.IRIG.AG.ZS   \n74360                  Agricultural land (% of land area)     AG.LND.AGRI.ZS   \n74361                          Agricultural land (sq. km)     AG.LND.AGRI.K2   \n74371   Agriculture, forestry, and fishing, value adde...  NV.AGR.TOTL.KD.ZG   \n74730   Fertilizer consumption (kilograms per hectare ...     AG.CON.FERT.ZS   \n78020    Marine protected areas (% of territorial waters)     ER.MRN.PTMR.ZS   \n80303   Agricultural irrigated land (% of total agricu...  AG.LND.IRIG.AG.ZS   \n80334                Aquaculture production (metric tons)     ER.FSH.AQUA.MT   \n81630            Total fisheries production (metric tons)     ER.FSH.PROD.MT   \n81789   Agricultural irrigated land (% of total agricu...  AG.LND.IRIG.AG.ZS   \n86247   Agricultural irrigated land (% of total agricu...  AG.LND.IRIG.AG.ZS   \n89219   Agricultural irrigated land (% of total agricu...  AG.LND.IRIG.AG.ZS   \n89821           International tourism, number of arrivals        ST.INT.ARVL   \n90705   Agricultural irrigated land (% of total agricu...  AG.LND.IRIG.AG.ZS   \n94366    Marine protected areas (% of territorial waters)     ER.MRN.PTMR.ZS   \n95852    Marine protected areas (% of territorial waters)     ER.MRN.PTMR.ZS   \n96649   Agricultural irrigated land (% of total agricu...  AG.LND.IRIG.AG.ZS   \n96661   Agriculture, forestry, and fishing, value adde...  NV.AGR.TOTL.KD.ZG   \n97251           International tourism, number of arrivals        ST.INT.ARVL   \n98135   Agricultural irrigated land (% of total agricu...  AG.LND.IRIG.AG.ZS   \n102593  Agricultural irrigated land (% of total agricu...  AG.LND.IRIG.AG.ZS   \n102605  Agriculture, forestry, and fishing, value adde...  NV.AGR.TOTL.KD.ZG   \n104079  Agricultural irrigated land (% of total agricu...  AG.LND.IRIG.AG.ZS   \n105565  Agricultural irrigated land (% of total agricu...  AG.LND.IRIG.AG.ZS   \n111509  Agricultural irrigated land (% of total agricu...  AG.LND.IRIG.AG.ZS   \n111510                 Agricultural land (% of land area)     AG.LND.AGRI.ZS   \n111511                         Agricultural land (sq. km)     AG.LND.AGRI.K2   \n111520  Agriculture, forestry, and fishing, value adde...     NV.AGR.TOTL.ZS   \n111521  Agriculture, forestry, and fishing, value adde...  NV.AGR.TOTL.KD.ZG   \n111525  Agriculture, forestry, and fishing, value adde...     NV.AGR.TOTL.CD   \n111540               Aquaculture production (metric tons)     ER.FSH.AQUA.MT   \n111880  Fertilizer consumption (kilograms per hectare ...     AG.CON.FERT.ZS   \n112111          International tourism, number of arrivals        ST.INT.ARVL   \n112836           Total fisheries production (metric tons)     ER.FSH.PROD.MT   \n114481  Agricultural irrigated land (% of total agricu...  AG.LND.IRIG.AG.ZS   \n114512               Aquaculture production (metric tons)     ER.FSH.AQUA.MT   \n114852  Fertilizer consumption (kilograms per hectare ...     AG.CON.FERT.ZS   \n115083          International tourism, number of arrivals        ST.INT.ARVL   \n115808           Total fisheries production (metric tons)     ER.FSH.PROD.MT   \n117453  Agricultural irrigated land (% of total agricu...  AG.LND.IRIG.AG.ZS   \n117464  Agriculture, forestry, and fishing, value adde...     NV.AGR.TOTL.ZS   \n117465  Agriculture, forestry, and fishing, value adde...  NV.AGR.TOTL.KD.ZG   \n117469  Agriculture, forestry, and fishing, value adde...     NV.AGR.TOTL.CD   \n117824  Fertilizer consumption (kilograms per hectare ...     AG.CON.FERT.ZS   \n121911  Agricultural irrigated land (% of total agricu...  AG.LND.IRIG.AG.ZS   \n127855  Agricultural irrigated land (% of total agricu...  AG.LND.IRIG.AG.ZS   \n128262                       Forest area (% of land area)     AG.LND.FRST.ZS   \n128263                               Forest area (sq. km)     AG.LND.FRST.K2   \n130030   Marine protected areas (% of territorial waters)     ER.MRN.PTMR.ZS   \n133799  Agricultural irrigated land (% of total agricu...  AG.LND.IRIG.AG.ZS   \n136771  Agricultural irrigated land (% of total agricu...  AG.LND.IRIG.AG.ZS   \n138257  Agricultural irrigated land (% of total agricu...  AG.LND.IRIG.AG.ZS   \n139743  Agricultural irrigated land (% of total agricu...  AG.LND.IRIG.AG.ZS   \n139774               Aquaculture production (metric tons)     ER.FSH.AQUA.MT   \n140114  Fertilizer consumption (kilograms per hectare ...     AG.CON.FERT.ZS   \n140345          International tourism, number of arrivals        ST.INT.ARVL   \n141070           Total fisheries production (metric tons)     ER.FSH.PROD.MT   \n150145  Agricultural irrigated land (% of total agricu...  AG.LND.IRIG.AG.ZS   \n151631  Agricultural irrigated land (% of total agricu...  AG.LND.IRIG.AG.ZS   \n153117  Agricultural irrigated land (% of total agricu...  AG.LND.IRIG.AG.ZS   \n153128  Agriculture, forestry, and fishing, value adde...     NV.AGR.TOTL.ZS   \n153129  Agriculture, forestry, and fishing, value adde...  NV.AGR.TOTL.KD.ZG   \n153133  Agriculture, forestry, and fishing, value adde...     NV.AGR.TOTL.CD   \n153719          International tourism, number of arrivals        ST.INT.ARVL   \n154603  Agricultural irrigated land (% of total agricu...  AG.LND.IRIG.AG.ZS   \n156089  Agricultural irrigated land (% of total agricu...  AG.LND.IRIG.AG.ZS   \n156090                 Agricultural land (% of land area)     AG.LND.AGRI.ZS   \n156091                         Agricultural land (sq. km)     AG.LND.AGRI.K2   \n156120               Aquaculture production (metric tons)     ER.FSH.AQUA.MT   \n156164         Capture fisheries production (metric tons)     ER.FSH.CAPT.MT   \n156460  Fertilizer consumption (kilograms per hectare ...     AG.CON.FERT.ZS   \n156482                           Fish species, threatened     EN.FSH.THRD.NO   \n156496                       Forest area (% of land area)     AG.LND.FRST.ZS   \n156497                               Forest area (sq. km)     AG.LND.FRST.K2   \n156691          International tourism, number of arrivals        ST.INT.ARVL   \n156778   Marine protected areas (% of territorial waters)     ER.MRN.PTMR.ZS   \n157097  Population density (people per sq. km of land ...        EN.POP.DNST   \n157391  Terrestrial and marine protected areas (% of t...     ER.PTD.TOTL.ZS   \n157416           Total fisheries production (metric tons)     ER.FSH.PROD.MT   \n157575  Agricultural irrigated land (% of total agricu...  AG.LND.IRIG.AG.ZS   \n159750   Marine protected areas (% of territorial waters)     ER.MRN.PTMR.ZS   \n161236   Marine protected areas (% of territorial waters)     ER.MRN.PTMR.ZS   \n163519  Agricultural irrigated land (% of total agricu...  AG.LND.IRIG.AG.ZS   \n165694   Marine protected areas (% of territorial waters)     ER.MRN.PTMR.ZS   \n166491  Agricultural irrigated land (% of total agricu...  AG.LND.IRIG.AG.ZS   \n167093          International tourism, number of arrivals        ST.INT.ARVL   \n167977  Agricultural irrigated land (% of total agricu...  AG.LND.IRIG.AG.ZS   \n169463  Agricultural irrigated land (% of total agricu...  AG.LND.IRIG.AG.ZS   \n169475  Agriculture, forestry, and fishing, value adde...  NV.AGR.TOTL.KD.ZG   \n169494               Aquaculture production (metric tons)     ER.FSH.AQUA.MT   \n169834  Fertilizer consumption (kilograms per hectare ...     AG.CON.FERT.ZS   \n170152   Marine protected areas (% of territorial waters)     ER.MRN.PTMR.ZS   \n170790           Total fisheries production (metric tons)     ER.FSH.PROD.MT   \n172435  Agricultural irrigated land (% of total agricu...  AG.LND.IRIG.AG.ZS   \n172466               Aquaculture production (metric tons)     ER.FSH.AQUA.MT   \n173124   Marine protected areas (% of territorial waters)     ER.MRN.PTMR.ZS   \n173762           Total fisheries production (metric tons)     ER.FSH.PROD.MT   \n173921  Agricultural irrigated land (% of total agricu...  AG.LND.IRIG.AG.ZS   \n173922                 Agricultural land (% of land area)     AG.LND.AGRI.ZS   \n173923                         Agricultural land (sq. km)     AG.LND.AGRI.K2   \n173932  Agriculture, forestry, and fishing, value adde...     NV.AGR.TOTL.ZS   \n173933  Agriculture, forestry, and fishing, value adde...  NV.AGR.TOTL.KD.ZG   \n173937  Agriculture, forestry, and fishing, value adde...     NV.AGR.TOTL.CD   \n173952               Aquaculture production (metric tons)     ER.FSH.AQUA.MT   \n174292  Fertilizer consumption (kilograms per hectare ...     AG.CON.FERT.ZS   \n174328                       Forest area (% of land area)     AG.LND.FRST.ZS   \n174329                               Forest area (sq. km)     AG.LND.FRST.K2   \n174610   Marine protected areas (% of territorial waters)     ER.MRN.PTMR.ZS   \n175223  Terrestrial and marine protected areas (% of t...     ER.PTD.TOTL.ZS   \n175248           Total fisheries production (metric tons)     ER.FSH.PROD.MT   \n177582   Marine protected areas (% of territorial waters)     ER.MRN.PTMR.ZS   \n179865  Agricultural irrigated land (% of total agricu...  AG.LND.IRIG.AG.ZS   \n179896               Aquaculture production (metric tons)     ER.FSH.AQUA.MT   \n181192           Total fisheries production (metric tons)     ER.FSH.PROD.MT   \n181351  Agricultural irrigated land (% of total agricu...  AG.LND.IRIG.AG.ZS   \n182040   Marine protected areas (% of territorial waters)     ER.MRN.PTMR.ZS   \n184323  Agricultural irrigated land (% of total agricu...  AG.LND.IRIG.AG.ZS   \n185840               Aquaculture production (metric tons)     ER.FSH.AQUA.MT   \n187136           Total fisheries production (metric tons)     ER.FSH.PROD.MT   \n190267  Agricultural irrigated land (% of total agricu...  AG.LND.IRIG.AG.ZS   \n192442   Marine protected areas (% of territorial waters)     ER.MRN.PTMR.ZS   \n193239  Agricultural irrigated land (% of total agricu...  AG.LND.IRIG.AG.ZS   \n193240                 Agricultural land (% of land area)     AG.LND.AGRI.ZS   \n193241                         Agricultural land (sq. km)     AG.LND.AGRI.K2   \n193250  Agriculture, forestry, and fishing, value adde...     NV.AGR.TOTL.ZS   \n193251  Agriculture, forestry, and fishing, value adde...  NV.AGR.TOTL.KD.ZG   \n193255  Agriculture, forestry, and fishing, value adde...     NV.AGR.TOTL.CD   \n193270               Aquaculture production (metric tons)     ER.FSH.AQUA.MT   \n193610  Fertilizer consumption (kilograms per hectare ...     AG.CON.FERT.ZS   \n194566           Total fisheries production (metric tons)     ER.FSH.PROD.MT   \n194756               Aquaculture production (metric tons)     ER.FSH.AQUA.MT   \n195414   Marine protected areas (% of territorial waters)     ER.MRN.PTMR.ZS   \n196052           Total fisheries production (metric tons)     ER.FSH.PROD.MT   \n196211  Agricultural irrigated land (% of total agricu...  AG.LND.IRIG.AG.ZS   \n202155  Agricultural irrigated land (% of total agricu...  AG.LND.IRIG.AG.ZS   \n203641  Agricultural irrigated land (% of total agricu...  AG.LND.IRIG.AG.ZS   \n203652  Agriculture, forestry, and fishing, value adde...     NV.AGR.TOTL.ZS   \n203653  Agriculture, forestry, and fishing, value adde...  NV.AGR.TOTL.KD.ZG   \n203657  Agriculture, forestry, and fishing, value adde...     NV.AGR.TOTL.CD   \n204012  Fertilizer consumption (kilograms per hectare ...     AG.CON.FERT.ZS   \n204243          International tourism, number of arrivals        ST.INT.ARVL   \n204330   Marine protected areas (% of territorial waters)     ER.MRN.PTMR.ZS   \n204943  Terrestrial and marine protected areas (% of t...     ER.PTD.TOTL.ZS   \n205816   Marine protected areas (% of territorial waters)     ER.MRN.PTMR.ZS   \n208099  Agricultural irrigated land (% of total agricu...  AG.LND.IRIG.AG.ZS   \n208111  Agriculture, forestry, and fishing, value adde...  NV.AGR.TOTL.KD.ZG   \n211071  Agricultural irrigated land (% of total agricu...  AG.LND.IRIG.AG.ZS   \n213246   Marine protected areas (% of territorial waters)     ER.MRN.PTMR.ZS   \n216218   Marine protected areas (% of territorial waters)     ER.MRN.PTMR.ZS   \n217015  Agricultural irrigated land (% of total agricu...  AG.LND.IRIG.AG.ZS   \n217026  Agriculture, forestry, and fishing, value adde...     NV.AGR.TOTL.ZS   \n217027  Agriculture, forestry, and fishing, value adde...  NV.AGR.TOTL.KD.ZG   \n217031  Agriculture, forestry, and fishing, value adde...     NV.AGR.TOTL.CD   \n222959  Agricultural irrigated land (% of total agricu...  AG.LND.IRIG.AG.ZS   \n225931  Agricultural irrigated land (% of total agricu...  AG.LND.IRIG.AG.ZS   \n227417  Agricultural irrigated land (% of total agricu...  AG.LND.IRIG.AG.ZS   \n228106   Marine protected areas (% of territorial waters)     ER.MRN.PTMR.ZS   \n228903  Agricultural irrigated land (% of total agricu...  AG.LND.IRIG.AG.ZS   \n234859  Agriculture, forestry, and fishing, value adde...  NV.AGR.TOTL.KD.ZG   \n241480   Marine protected areas (% of territorial waters)     ER.MRN.PTMR.ZS   \n242277  Agricultural irrigated land (% of total agricu...  AG.LND.IRIG.AG.ZS   \n243763  Agricultural irrigated land (% of total agricu...  AG.LND.IRIG.AG.ZS   \n243794               Aquaculture production (metric tons)     ER.FSH.AQUA.MT   \n244452   Marine protected areas (% of territorial waters)     ER.MRN.PTMR.ZS   \n245065  Terrestrial and marine protected areas (% of t...     ER.PTD.TOTL.ZS   \n245090           Total fisheries production (metric tons)     ER.FSH.PROD.MT   \n245249  Agricultural irrigated land (% of total agricu...  AG.LND.IRIG.AG.ZS   \n245280               Aquaculture production (metric tons)     ER.FSH.AQUA.MT   \n246576           Total fisheries production (metric tons)     ER.FSH.PROD.MT   \n250396   Marine protected areas (% of territorial waters)     ER.MRN.PTMR.ZS   \n252679  Agricultural irrigated land (% of total agricu...  AG.LND.IRIG.AG.ZS   \n254165  Agricultural irrigated land (% of total agricu...  AG.LND.IRIG.AG.ZS   \n255651  Agricultural irrigated land (% of total agricu...  AG.LND.IRIG.AG.ZS   \n255652                 Agricultural land (% of land area)     AG.LND.AGRI.ZS   \n255653                         Agricultural land (sq. km)     AG.LND.AGRI.K2   \n255663  Agriculture, forestry, and fishing, value adde...  NV.AGR.TOTL.KD.ZG   \n255682               Aquaculture production (metric tons)     ER.FSH.AQUA.MT   \n256022  Fertilizer consumption (kilograms per hectare ...     AG.CON.FERT.ZS   \n256978           Total fisheries production (metric tons)     ER.FSH.PROD.MT   \n257826   Marine protected areas (% of territorial waters)     ER.MRN.PTMR.ZS   \n260109  Agricultural irrigated land (% of total agricu...  AG.LND.IRIG.AG.ZS   \n261595  Agricultural irrigated land (% of total agricu...  AG.LND.IRIG.AG.ZS   \n261626               Aquaculture production (metric tons)     ER.FSH.AQUA.MT   \n262197          International tourism, number of arrivals        ST.INT.ARVL   \n262922           Total fisheries production (metric tons)     ER.FSH.PROD.MT   \n264567  Agricultural irrigated land (% of total agricu...  AG.LND.IRIG.AG.ZS   \n265169          International tourism, number of arrivals        ST.INT.ARVL   \n265256   Marine protected areas (% of territorial waters)     ER.MRN.PTMR.ZS   \n267539  Agricultural irrigated land (% of total agricu...  AG.LND.IRIG.AG.ZS   \n269025  Agricultural irrigated land (% of total agricu...  AG.LND.IRIG.AG.ZS   \n270511  Agricultural irrigated land (% of total agricu...  AG.LND.IRIG.AG.ZS   \n271997  Agricultural irrigated land (% of total agricu...  AG.LND.IRIG.AG.ZS   \n271998                 Agricultural land (% of land area)     AG.LND.AGRI.ZS   \n271999                         Agricultural land (sq. km)     AG.LND.AGRI.K2   \n272008  Agriculture, forestry, and fishing, value adde...     NV.AGR.TOTL.ZS   \n272009  Agriculture, forestry, and fishing, value adde...  NV.AGR.TOTL.KD.ZG   \n272013  Agriculture, forestry, and fishing, value adde...     NV.AGR.TOTL.CD   \n272028               Aquaculture production (metric tons)     ER.FSH.AQUA.MT   \n272368  Fertilizer consumption (kilograms per hectare ...     AG.CON.FERT.ZS   \n272599          International tourism, number of arrivals        ST.INT.ARVL   \n273324           Total fisheries production (metric tons)     ER.FSH.PROD.MT   \n273483  Agricultural irrigated land (% of total agricu...  AG.LND.IRIG.AG.ZS   \n280116   Marine protected areas (% of territorial waters)     ER.MRN.PTMR.ZS   \n283088   Marine protected areas (% of territorial waters)     ER.MRN.PTMR.ZS   \n283885  Agricultural irrigated land (% of total agricu...  AG.LND.IRIG.AG.ZS   \n285371  Agricultural irrigated land (% of total agricu...  AG.LND.IRIG.AG.ZS   \n288343  Agricultural irrigated land (% of total agricu...  AG.LND.IRIG.AG.ZS   \n289829  Agricultural irrigated land (% of total agricu...  AG.LND.IRIG.AG.ZS   \n295773  Agricultural irrigated land (% of total agricu...  AG.LND.IRIG.AG.ZS   \n297259  Agricultural irrigated land (% of total agricu...  AG.LND.IRIG.AG.ZS   \n297630  Fertilizer consumption (kilograms per hectare ...     AG.CON.FERT.ZS   \n298745  Agricultural irrigated land (% of total agricu...  AG.LND.IRIG.AG.ZS   \n298757  Agriculture, forestry, and fishing, value adde...  NV.AGR.TOTL.KD.ZG   \n299116  Fertilizer consumption (kilograms per hectare ...     AG.CON.FERT.ZS   \n300920   Marine protected areas (% of territorial waters)     ER.MRN.PTMR.ZS   \n309836   Marine protected areas (% of territorial waters)     ER.MRN.PTMR.ZS   \n310633  Agricultural irrigated land (% of total agricu...  AG.LND.IRIG.AG.ZS   \n313605  Agricultural irrigated land (% of total agricu...  AG.LND.IRIG.AG.ZS   \n315091  Agricultural irrigated land (% of total agricu...  AG.LND.IRIG.AG.ZS   \n315102  Agriculture, forestry, and fishing, value adde...     NV.AGR.TOTL.ZS   \n315103  Agriculture, forestry, and fishing, value adde...  NV.AGR.TOTL.KD.ZG   \n315107  Agriculture, forestry, and fishing, value adde...     NV.AGR.TOTL.CD   \n317266   Marine protected areas (% of territorial waters)     ER.MRN.PTMR.ZS   \n318063  Agricultural irrigated land (% of total agricu...  AG.LND.IRIG.AG.ZS   \n319549  Agricultural irrigated land (% of total agricu...  AG.LND.IRIG.AG.ZS   \n320238   Marine protected areas (% of territorial waters)     ER.MRN.PTMR.ZS   \n321035  Agricultural irrigated land (% of total agricu...  AG.LND.IRIG.AG.ZS   \n321724   Marine protected areas (% of territorial waters)     ER.MRN.PTMR.ZS   \n322521  Agricultural irrigated land (% of total agricu...  AG.LND.IRIG.AG.ZS   \n324007  Agricultural irrigated land (% of total agricu...  AG.LND.IRIG.AG.ZS   \n324696   Marine protected areas (% of territorial waters)     ER.MRN.PTMR.ZS   \n325493  Agricultural irrigated land (% of total agricu...  AG.LND.IRIG.AG.ZS   \n326979  Agricultural irrigated land (% of total agricu...  AG.LND.IRIG.AG.ZS   \n328465  Agricultural irrigated land (% of total agricu...  AG.LND.IRIG.AG.ZS   \n329951  Agricultural irrigated land (% of total agricu...  AG.LND.IRIG.AG.ZS   \n331437  Agricultural irrigated land (% of total agricu...  AG.LND.IRIG.AG.ZS   \n332923  Agricultural irrigated land (% of total agricu...  AG.LND.IRIG.AG.ZS   \n334409  Agricultural irrigated land (% of total agricu...  AG.LND.IRIG.AG.ZS   \n335895  Agricultural irrigated land (% of total agricu...  AG.LND.IRIG.AG.ZS   \n337381  Agricultural irrigated land (% of total agricu...  AG.LND.IRIG.AG.ZS   \n338867  Agricultural irrigated land (% of total agricu...  AG.LND.IRIG.AG.ZS   \n340353  Agricultural irrigated land (% of total agricu...  AG.LND.IRIG.AG.ZS   \n341839  Agricultural irrigated land (% of total agricu...  AG.LND.IRIG.AG.ZS   \n343325  Agricultural irrigated land (% of total agricu...  AG.LND.IRIG.AG.ZS   \n344014   Marine protected areas (% of territorial waters)     ER.MRN.PTMR.ZS   \n344811  Agricultural irrigated land (% of total agricu...  AG.LND.IRIG.AG.ZS   \n345500   Marine protected areas (% of territorial waters)     ER.MRN.PTMR.ZS   \n346297  Agricultural irrigated land (% of total agricu...  AG.LND.IRIG.AG.ZS   \n347783  Agricultural irrigated land (% of total agricu...  AG.LND.IRIG.AG.ZS   \n349269  Agricultural irrigated land (% of total agricu...  AG.LND.IRIG.AG.ZS   \n350755  Agricultural irrigated land (% of total agricu...  AG.LND.IRIG.AG.ZS   \n351357          International tourism, number of arrivals        ST.INT.ARVL   \n352241  Agricultural irrigated land (% of total agricu...  AG.LND.IRIG.AG.ZS   \n352930   Marine protected areas (% of territorial waters)     ER.MRN.PTMR.ZS   \n353727  Agricultural irrigated land (% of total agricu...  AG.LND.IRIG.AG.ZS   \n354416   Marine protected areas (% of territorial waters)     ER.MRN.PTMR.ZS   \n355213  Agricultural irrigated land (% of total agricu...  AG.LND.IRIG.AG.ZS   \n356699  Agricultural irrigated land (% of total agricu...  AG.LND.IRIG.AG.ZS   \n358185  Agricultural irrigated land (% of total agricu...  AG.LND.IRIG.AG.ZS   \n359671  Agricultural irrigated land (% of total agricu...  AG.LND.IRIG.AG.ZS   \n361157  Agricultural irrigated land (% of total agricu...  AG.LND.IRIG.AG.ZS   \n361846   Marine protected areas (% of territorial waters)     ER.MRN.PTMR.ZS   \n362643  Agricultural irrigated land (% of total agricu...  AG.LND.IRIG.AG.ZS   \n364129  Agricultural irrigated land (% of total agricu...  AG.LND.IRIG.AG.ZS   \n364818   Marine protected areas (% of territorial waters)     ER.MRN.PTMR.ZS   \n365615  Agricultural irrigated land (% of total agricu...  AG.LND.IRIG.AG.ZS   \n367101  Agricultural irrigated land (% of total agricu...  AG.LND.IRIG.AG.ZS   \n368587  Agricultural irrigated land (% of total agricu...  AG.LND.IRIG.AG.ZS   \n370073  Agricultural irrigated land (% of total agricu...  AG.LND.IRIG.AG.ZS   \n371559  Agricultural irrigated land (% of total agricu...  AG.LND.IRIG.AG.ZS   \n373045  Agricultural irrigated land (% of total agricu...  AG.LND.IRIG.AG.ZS   \n374531  Agricultural irrigated land (% of total agricu...  AG.LND.IRIG.AG.ZS   \n374532                 Agricultural land (% of land area)     AG.LND.AGRI.ZS   \n374533                         Agricultural land (sq. km)     AG.LND.AGRI.K2   \n374542  Agriculture, forestry, and fishing, value adde...     NV.AGR.TOTL.ZS   \n374543  Agriculture, forestry, and fishing, value adde...  NV.AGR.TOTL.KD.ZG   \n374547  Agriculture, forestry, and fishing, value adde...     NV.AGR.TOTL.CD   \n374562               Aquaculture production (metric tons)     ER.FSH.AQUA.MT   \n374606         Capture fisheries production (metric tons)     ER.FSH.CAPT.MT   \n374902  Fertilizer consumption (kilograms per hectare ...     AG.CON.FERT.ZS   \n374924                           Fish species, threatened     EN.FSH.THRD.NO   \n374938                       Forest area (% of land area)     AG.LND.FRST.ZS   \n374939                               Forest area (sq. km)     AG.LND.FRST.K2   \n375133          International tourism, number of arrivals        ST.INT.ARVL   \n375220   Marine protected areas (% of territorial waters)     ER.MRN.PTMR.ZS   \n375539  Population density (people per sq. km of land ...        EN.POP.DNST   \n375551                                  Population, total        SP.POP.TOTL   \n375833  Terrestrial and marine protected areas (% of t...     ER.PTD.TOTL.ZS   \n375858           Total fisheries production (metric tons)     ER.FSH.PROD.MT   \n376017  Agricultural irrigated land (% of total agricu...  AG.LND.IRIG.AG.ZS   \n377503  Agricultural irrigated land (% of total agricu...  AG.LND.IRIG.AG.ZS   \n378989  Agricultural irrigated land (% of total agricu...  AG.LND.IRIG.AG.ZS   \n380475  Agricultural irrigated land (% of total agricu...  AG.LND.IRIG.AG.ZS   \n381961  Agricultural irrigated land (% of total agricu...  AG.LND.IRIG.AG.ZS   \n382650   Marine protected areas (% of territorial waters)     ER.MRN.PTMR.ZS   \n383447  Agricultural irrigated land (% of total agricu...  AG.LND.IRIG.AG.ZS   \n384933  Agricultural irrigated land (% of total agricu...  AG.LND.IRIG.AG.ZS   \n386419  Agricultural irrigated land (% of total agricu...  AG.LND.IRIG.AG.ZS   \n387905  Agricultural irrigated land (% of total agricu...  AG.LND.IRIG.AG.ZS   \n388594   Marine protected areas (% of territorial waters)     ER.MRN.PTMR.ZS   \n389391  Agricultural irrigated land (% of total agricu...  AG.LND.IRIG.AG.ZS   \n390080   Marine protected areas (% of territorial waters)     ER.MRN.PTMR.ZS   \n390877  Agricultural irrigated land (% of total agricu...  AG.LND.IRIG.AG.ZS   \n391566   Marine protected areas (% of territorial waters)     ER.MRN.PTMR.ZS   \n392363  Agricultural irrigated land (% of total agricu...  AG.LND.IRIG.AG.ZS   \n393849  Agricultural irrigated land (% of total agricu...  AG.LND.IRIG.AG.ZS   \n\n        1980  1981  1982  1983  1984  1985  1986  1987  1988  1989  1990  \\\n661      NaN   NaN   NaN   NaN   NaN   NaN   NaN   NaN   NaN   NaN   NaN   \n748      NaN   NaN   NaN   NaN   NaN   NaN   NaN   NaN   NaN   NaN   NaN   \n4517     NaN   NaN   NaN   NaN   NaN   NaN   NaN   NaN   NaN   NaN   NaN   \n4528     NaN   NaN   NaN   NaN   NaN   NaN   NaN   NaN   NaN   NaN   NaN   \n4529     NaN   NaN   NaN   NaN   NaN   NaN   NaN   NaN   NaN   NaN   NaN   \n4533     NaN   NaN   NaN   NaN   NaN   NaN   NaN   NaN   NaN   NaN   NaN   \n6003     NaN   NaN   NaN   NaN   NaN   NaN   NaN   NaN   NaN   NaN   NaN   \n6034     NaN   NaN   NaN   NaN   NaN   NaN   NaN   NaN   NaN   NaN   NaN   \n6374     NaN   NaN   NaN   NaN   NaN   NaN   NaN   NaN   NaN   NaN   NaN   \n6692     NaN   NaN   NaN   NaN   NaN   NaN   NaN   NaN   NaN   NaN   NaN   \n7330     NaN   NaN   NaN   NaN   NaN   NaN   NaN   NaN   NaN   NaN   NaN   \n7489     NaN   NaN   NaN   NaN   NaN   NaN   NaN   NaN   NaN   NaN   NaN   \n8975     NaN   NaN   NaN   NaN   NaN   NaN   NaN   NaN   NaN   NaN   NaN   \n12636    NaN   NaN   NaN   NaN   NaN   NaN   NaN   NaN   NaN   NaN   NaN   \n13433    NaN   NaN   NaN   NaN   NaN   NaN   NaN   NaN   NaN   NaN   NaN   \n13445    NaN   NaN   NaN   NaN   NaN   NaN   NaN   NaN   NaN   NaN   NaN   \n17094    NaN   NaN   NaN   NaN   NaN   NaN   NaN   NaN   NaN   NaN   NaN   \n19377    NaN   NaN   NaN   NaN   NaN   NaN   NaN   NaN   NaN   NaN   NaN   \n23835    NaN   NaN   NaN   NaN   NaN   NaN   NaN   NaN   NaN   NaN   NaN   \n26010    NaN   NaN   NaN   NaN   NaN   NaN   NaN   NaN   NaN   NaN   NaN   \n28293    NaN   NaN   NaN   NaN   NaN   NaN   NaN   NaN   NaN   NaN   NaN   \n31265    NaN   NaN   NaN   NaN   NaN   NaN   NaN   NaN   NaN   NaN   NaN   \n31296    NaN   NaN   NaN   NaN   NaN   NaN   NaN   NaN   NaN   NaN   NaN   \n32592    NaN   NaN   NaN   NaN   NaN   NaN   NaN   NaN   NaN   NaN   NaN   \n32751    NaN   NaN   NaN   NaN   NaN   NaN   NaN   NaN   NaN   NaN   NaN   \n33440    NaN   NaN   NaN   NaN   NaN   NaN   NaN   NaN   NaN   NaN   NaN   \n34926    NaN   NaN   NaN   NaN   NaN   NaN   NaN   NaN   NaN   NaN   NaN   \n35723    NaN   NaN   NaN   NaN   NaN   NaN   NaN   NaN   NaN   NaN   NaN   \n37898    NaN   NaN   NaN   NaN   NaN   NaN   NaN   NaN   NaN   NaN   NaN   \n40181    NaN   NaN   NaN   NaN   NaN   NaN   NaN   NaN   NaN   NaN   NaN   \n40192    NaN   NaN   NaN   NaN   NaN   NaN   NaN   NaN   NaN   NaN   NaN   \n40193    NaN   NaN   NaN   NaN   NaN   NaN   NaN   NaN   NaN   NaN   NaN   \n40197    NaN   NaN   NaN   NaN   NaN   NaN   NaN   NaN   NaN   NaN   NaN   \n40552    NaN   NaN   NaN   NaN   NaN   NaN   NaN   NaN   NaN   NaN   NaN   \n44639    NaN   NaN   NaN   NaN   NaN   NaN   NaN   NaN   NaN   NaN   NaN   \n45328    NaN   NaN   NaN   NaN   NaN   NaN   NaN   NaN   NaN   NaN   NaN   \n46125    NaN   NaN   NaN   NaN   NaN   NaN   NaN   NaN   NaN   NaN   NaN   \n46814    NaN   NaN   NaN   NaN   NaN   NaN   NaN   NaN   NaN   NaN   NaN   \n47611    NaN   NaN   NaN   NaN   NaN   NaN   NaN   NaN   NaN   NaN   NaN   \n49097    NaN   NaN   NaN   NaN   NaN   NaN   NaN   NaN   NaN   NaN   NaN   \n50583    NaN   NaN   NaN   NaN   NaN   NaN   NaN   NaN   NaN   NaN   NaN   \n53555    NaN   NaN   NaN   NaN   NaN   NaN   NaN   NaN   NaN   NaN   NaN   \n55041    NaN   NaN   NaN   NaN   NaN   NaN   NaN   NaN   NaN   NaN   NaN   \n55730    NaN   NaN   NaN   NaN   NaN   NaN   NaN   NaN   NaN   NaN   NaN   \n56527    NaN   NaN   NaN   NaN   NaN   NaN   NaN   NaN   NaN   NaN   NaN   \n57216    NaN   NaN   NaN   NaN   NaN   NaN   NaN   NaN   NaN   NaN   NaN   \n58384    NaN   NaN   NaN   NaN   NaN   NaN   NaN   NaN   NaN   NaN   NaN   \n58406    NaN   NaN   NaN   NaN   NaN   NaN   NaN   NaN   NaN   NaN   NaN   \n58615    NaN   NaN   NaN   NaN   NaN   NaN   NaN   NaN   NaN   NaN   NaN   \n58702    NaN   NaN   NaN   NaN   NaN   NaN   NaN   NaN   NaN   NaN   NaN   \n59315    NaN   NaN   NaN   NaN   NaN   NaN   NaN   NaN   NaN   NaN   NaN   \n60985    NaN   NaN   NaN   NaN   NaN   NaN   NaN   NaN   NaN   NaN   NaN   \n63957    NaN   NaN   NaN   NaN   NaN   NaN   NaN   NaN   NaN   NaN   NaN   \n63988    NaN   NaN   NaN   NaN   NaN   NaN   NaN   NaN   NaN   NaN   NaN   \n65284    NaN   NaN   NaN   NaN   NaN   NaN   NaN   NaN   NaN   NaN   NaN   \n65443    NaN   NaN   NaN   NaN   NaN   NaN   NaN   NaN   NaN   NaN   NaN   \n66929    NaN   NaN   NaN   NaN   NaN   NaN   NaN   NaN   NaN   NaN   NaN   \n68415    NaN   NaN   NaN   NaN   NaN   NaN   NaN   NaN   NaN   NaN   NaN   \n69901    NaN   NaN   NaN   NaN   NaN   NaN   NaN   NaN   NaN   NaN   NaN   \n72873    NaN   NaN   NaN   NaN   NaN   NaN   NaN   NaN   NaN   NaN   NaN   \n74359    NaN   NaN   NaN   NaN   NaN   NaN   NaN   NaN   NaN   NaN   NaN   \n74360    NaN   NaN   NaN   NaN   NaN   NaN   NaN   NaN   NaN   NaN   NaN   \n74361    NaN   NaN   NaN   NaN   NaN   NaN   NaN   NaN   NaN   NaN   NaN   \n74371    NaN   NaN   NaN   NaN   NaN   NaN   NaN   NaN   NaN   NaN   NaN   \n74730    NaN   NaN   NaN   NaN   NaN   NaN   NaN   NaN   NaN   NaN   NaN   \n78020    NaN   NaN   NaN   NaN   NaN   NaN   NaN   NaN   NaN   NaN   NaN   \n80303    NaN   NaN   NaN   NaN   NaN   NaN   NaN   NaN   NaN   NaN   NaN   \n80334    NaN   NaN   NaN   NaN   NaN   NaN   NaN   NaN   NaN   NaN   NaN   \n81630    NaN   NaN   NaN   NaN   NaN   NaN   NaN   NaN   NaN   NaN   NaN   \n81789    NaN   NaN   NaN   NaN   NaN   NaN   NaN   NaN   NaN   NaN   NaN   \n86247    NaN   NaN   NaN   NaN   NaN   NaN   NaN   NaN   NaN   NaN   NaN   \n89219    NaN   NaN   NaN   NaN   NaN   NaN   NaN   NaN   NaN   NaN   NaN   \n89821    NaN   NaN   NaN   NaN   NaN   NaN   NaN   NaN   NaN   NaN   NaN   \n90705    NaN   NaN   NaN   NaN   NaN   NaN   NaN   NaN   NaN   NaN   NaN   \n94366    NaN   NaN   NaN   NaN   NaN   NaN   NaN   NaN   NaN   NaN   NaN   \n95852    NaN   NaN   NaN   NaN   NaN   NaN   NaN   NaN   NaN   NaN   NaN   \n96649    NaN   NaN   NaN   NaN   NaN   NaN   NaN   NaN   NaN   NaN   NaN   \n96661    NaN   NaN   NaN   NaN   NaN   NaN   NaN   NaN   NaN   NaN   NaN   \n97251    NaN   NaN   NaN   NaN   NaN   NaN   NaN   NaN   NaN   NaN   NaN   \n98135    NaN   NaN   NaN   NaN   NaN   NaN   NaN   NaN   NaN   NaN   NaN   \n102593   NaN   NaN   NaN   NaN   NaN   NaN   NaN   NaN   NaN   NaN   NaN   \n102605   NaN   NaN   NaN   NaN   NaN   NaN   NaN   NaN   NaN   NaN   NaN   \n104079   NaN   NaN   NaN   NaN   NaN   NaN   NaN   NaN   NaN   NaN   NaN   \n105565   NaN   NaN   NaN   NaN   NaN   NaN   NaN   NaN   NaN   NaN   NaN   \n111509   NaN   NaN   NaN   NaN   NaN   NaN   NaN   NaN   NaN   NaN   NaN   \n111510   NaN   NaN   NaN   NaN   NaN   NaN   NaN   NaN   NaN   NaN   NaN   \n111511   NaN   NaN   NaN   NaN   NaN   NaN   NaN   NaN   NaN   NaN   NaN   \n111520   NaN   NaN   NaN   NaN   NaN   NaN   NaN   NaN   NaN   NaN   NaN   \n111521   NaN   NaN   NaN   NaN   NaN   NaN   NaN   NaN   NaN   NaN   NaN   \n111525   NaN   NaN   NaN   NaN   NaN   NaN   NaN   NaN   NaN   NaN   NaN   \n111540   NaN   NaN   NaN   NaN   NaN   NaN   NaN   NaN   NaN   NaN   NaN   \n111880   NaN   NaN   NaN   NaN   NaN   NaN   NaN   NaN   NaN   NaN   NaN   \n112111   NaN   NaN   NaN   NaN   NaN   NaN   NaN   NaN   NaN   NaN   NaN   \n112836   NaN   NaN   NaN   NaN   NaN   NaN   NaN   NaN   NaN   NaN   NaN   \n114481   NaN   NaN   NaN   NaN   NaN   NaN   NaN   NaN   NaN   NaN   NaN   \n114512   NaN   NaN   NaN   NaN   NaN   NaN   NaN   NaN   NaN   NaN   NaN   \n114852   NaN   NaN   NaN   NaN   NaN   NaN   NaN   NaN   NaN   NaN   NaN   \n115083   NaN   NaN   NaN   NaN   NaN   NaN   NaN   NaN   NaN   NaN   NaN   \n115808   NaN   NaN   NaN   NaN   NaN   NaN   NaN   NaN   NaN   NaN   NaN   \n117453   NaN   NaN   NaN   NaN   NaN   NaN   NaN   NaN   NaN   NaN   NaN   \n117464   NaN   NaN   NaN   NaN   NaN   NaN   NaN   NaN   NaN   NaN   NaN   \n117465   NaN   NaN   NaN   NaN   NaN   NaN   NaN   NaN   NaN   NaN   NaN   \n117469   NaN   NaN   NaN   NaN   NaN   NaN   NaN   NaN   NaN   NaN   NaN   \n117824   NaN   NaN   NaN   NaN   NaN   NaN   NaN   NaN   NaN   NaN   NaN   \n121911   NaN   NaN   NaN   NaN   NaN   NaN   NaN   NaN   NaN   NaN   NaN   \n127855   NaN   NaN   NaN   NaN   NaN   NaN   NaN   NaN   NaN   NaN   NaN   \n128262   NaN   NaN   NaN   NaN   NaN   NaN   NaN   NaN   NaN   NaN   NaN   \n128263   NaN   NaN   NaN   NaN   NaN   NaN   NaN   NaN   NaN   NaN   NaN   \n130030   NaN   NaN   NaN   NaN   NaN   NaN   NaN   NaN   NaN   NaN   NaN   \n133799   NaN   NaN   NaN   NaN   NaN   NaN   NaN   NaN   NaN   NaN   NaN   \n136771   NaN   NaN   NaN   NaN   NaN   NaN   NaN   NaN   NaN   NaN   NaN   \n138257   NaN   NaN   NaN   NaN   NaN   NaN   NaN   NaN   NaN   NaN   NaN   \n139743   NaN   NaN   NaN   NaN   NaN   NaN   NaN   NaN   NaN   NaN   NaN   \n139774   NaN   NaN   NaN   NaN   NaN   NaN   NaN   NaN   NaN   NaN   NaN   \n140114   NaN   NaN   NaN   NaN   NaN   NaN   NaN   NaN   NaN   NaN   NaN   \n140345   NaN   NaN   NaN   NaN   NaN   NaN   NaN   NaN   NaN   NaN   NaN   \n141070   NaN   NaN   NaN   NaN   NaN   NaN   NaN   NaN   NaN   NaN   NaN   \n150145   NaN   NaN   NaN   NaN   NaN   NaN   NaN   NaN   NaN   NaN   NaN   \n151631   NaN   NaN   NaN   NaN   NaN   NaN   NaN   NaN   NaN   NaN   NaN   \n153117   NaN   NaN   NaN   NaN   NaN   NaN   NaN   NaN   NaN   NaN   NaN   \n153128   NaN   NaN   NaN   NaN   NaN   NaN   NaN   NaN   NaN   NaN   NaN   \n153129   NaN   NaN   NaN   NaN   NaN   NaN   NaN   NaN   NaN   NaN   NaN   \n153133   NaN   NaN   NaN   NaN   NaN   NaN   NaN   NaN   NaN   NaN   NaN   \n153719   NaN   NaN   NaN   NaN   NaN   NaN   NaN   NaN   NaN   NaN   NaN   \n154603   NaN   NaN   NaN   NaN   NaN   NaN   NaN   NaN   NaN   NaN   NaN   \n156089   NaN   NaN   NaN   NaN   NaN   NaN   NaN   NaN   NaN   NaN   NaN   \n156090   NaN   NaN   NaN   NaN   NaN   NaN   NaN   NaN   NaN   NaN   NaN   \n156091   NaN   NaN   NaN   NaN   NaN   NaN   NaN   NaN   NaN   NaN   NaN   \n156120   NaN   NaN   NaN   NaN   NaN   NaN   NaN   NaN   NaN   NaN   NaN   \n156164   NaN   NaN   NaN   NaN   NaN   NaN   NaN   NaN   NaN   NaN   NaN   \n156460   NaN   NaN   NaN   NaN   NaN   NaN   NaN   NaN   NaN   NaN   NaN   \n156482   NaN   NaN   NaN   NaN   NaN   NaN   NaN   NaN   NaN   NaN   NaN   \n156496   NaN   NaN   NaN   NaN   NaN   NaN   NaN   NaN   NaN   NaN   NaN   \n156497   NaN   NaN   NaN   NaN   NaN   NaN   NaN   NaN   NaN   NaN   NaN   \n156691   NaN   NaN   NaN   NaN   NaN   NaN   NaN   NaN   NaN   NaN   NaN   \n156778   NaN   NaN   NaN   NaN   NaN   NaN   NaN   NaN   NaN   NaN   NaN   \n157097   NaN   NaN   NaN   NaN   NaN   NaN   NaN   NaN   NaN   NaN   NaN   \n157391   NaN   NaN   NaN   NaN   NaN   NaN   NaN   NaN   NaN   NaN   NaN   \n157416   NaN   NaN   NaN   NaN   NaN   NaN   NaN   NaN   NaN   NaN   NaN   \n157575   NaN   NaN   NaN   NaN   NaN   NaN   NaN   NaN   NaN   NaN   NaN   \n159750   NaN   NaN   NaN   NaN   NaN   NaN   NaN   NaN   NaN   NaN   NaN   \n161236   NaN   NaN   NaN   NaN   NaN   NaN   NaN   NaN   NaN   NaN   NaN   \n163519   NaN   NaN   NaN   NaN   NaN   NaN   NaN   NaN   NaN   NaN   NaN   \n165694   NaN   NaN   NaN   NaN   NaN   NaN   NaN   NaN   NaN   NaN   NaN   \n166491   NaN   NaN   NaN   NaN   NaN   NaN   NaN   NaN   NaN   NaN   NaN   \n167093   NaN   NaN   NaN   NaN   NaN   NaN   NaN   NaN   NaN   NaN   NaN   \n167977   NaN   NaN   NaN   NaN   NaN   NaN   NaN   NaN   NaN   NaN   NaN   \n169463   NaN   NaN   NaN   NaN   NaN   NaN   NaN   NaN   NaN   NaN   NaN   \n169475   NaN   NaN   NaN   NaN   NaN   NaN   NaN   NaN   NaN   NaN   NaN   \n169494   NaN   NaN   NaN   NaN   NaN   NaN   NaN   NaN   NaN   NaN   NaN   \n169834   NaN   NaN   NaN   NaN   NaN   NaN   NaN   NaN   NaN   NaN   NaN   \n170152   NaN   NaN   NaN   NaN   NaN   NaN   NaN   NaN   NaN   NaN   NaN   \n170790   NaN   NaN   NaN   NaN   NaN   NaN   NaN   NaN   NaN   NaN   NaN   \n172435   NaN   NaN   NaN   NaN   NaN   NaN   NaN   NaN   NaN   NaN   NaN   \n172466   NaN   NaN   NaN   NaN   NaN   NaN   NaN   NaN   NaN   NaN   NaN   \n173124   NaN   NaN   NaN   NaN   NaN   NaN   NaN   NaN   NaN   NaN   NaN   \n173762   NaN   NaN   NaN   NaN   NaN   NaN   NaN   NaN   NaN   NaN   NaN   \n173921   NaN   NaN   NaN   NaN   NaN   NaN   NaN   NaN   NaN   NaN   NaN   \n173922   NaN   NaN   NaN   NaN   NaN   NaN   NaN   NaN   NaN   NaN   NaN   \n173923   NaN   NaN   NaN   NaN   NaN   NaN   NaN   NaN   NaN   NaN   NaN   \n173932   NaN   NaN   NaN   NaN   NaN   NaN   NaN   NaN   NaN   NaN   NaN   \n173933   NaN   NaN   NaN   NaN   NaN   NaN   NaN   NaN   NaN   NaN   NaN   \n173937   NaN   NaN   NaN   NaN   NaN   NaN   NaN   NaN   NaN   NaN   NaN   \n173952   NaN   NaN   NaN   NaN   NaN   NaN   NaN   NaN   NaN   NaN   NaN   \n174292   NaN   NaN   NaN   NaN   NaN   NaN   NaN   NaN   NaN   NaN   NaN   \n174328   NaN   NaN   NaN   NaN   NaN   NaN   NaN   NaN   NaN   NaN   NaN   \n174329   NaN   NaN   NaN   NaN   NaN   NaN   NaN   NaN   NaN   NaN   NaN   \n174610   NaN   NaN   NaN   NaN   NaN   NaN   NaN   NaN   NaN   NaN   NaN   \n175223   NaN   NaN   NaN   NaN   NaN   NaN   NaN   NaN   NaN   NaN   NaN   \n175248   NaN   NaN   NaN   NaN   NaN   NaN   NaN   NaN   NaN   NaN   NaN   \n177582   NaN   NaN   NaN   NaN   NaN   NaN   NaN   NaN   NaN   NaN   NaN   \n179865   NaN   NaN   NaN   NaN   NaN   NaN   NaN   NaN   NaN   NaN   NaN   \n179896   NaN   NaN   NaN   NaN   NaN   NaN   NaN   NaN   NaN   NaN   NaN   \n181192   NaN   NaN   NaN   NaN   NaN   NaN   NaN   NaN   NaN   NaN   NaN   \n181351   NaN   NaN   NaN   NaN   NaN   NaN   NaN   NaN   NaN   NaN   NaN   \n182040   NaN   NaN   NaN   NaN   NaN   NaN   NaN   NaN   NaN   NaN   NaN   \n184323   NaN   NaN   NaN   NaN   NaN   NaN   NaN   NaN   NaN   NaN   NaN   \n185840   NaN   NaN   NaN   NaN   NaN   NaN   NaN   NaN   NaN   NaN   NaN   \n187136   NaN   NaN   NaN   NaN   NaN   NaN   NaN   NaN   NaN   NaN   NaN   \n190267   NaN   NaN   NaN   NaN   NaN   NaN   NaN   NaN   NaN   NaN   NaN   \n192442   NaN   NaN   NaN   NaN   NaN   NaN   NaN   NaN   NaN   NaN   NaN   \n193239   NaN   NaN   NaN   NaN   NaN   NaN   NaN   NaN   NaN   NaN   NaN   \n193240   NaN   NaN   NaN   NaN   NaN   NaN   NaN   NaN   NaN   NaN   NaN   \n193241   NaN   NaN   NaN   NaN   NaN   NaN   NaN   NaN   NaN   NaN   NaN   \n193250   NaN   NaN   NaN   NaN   NaN   NaN   NaN   NaN   NaN   NaN   NaN   \n193251   NaN   NaN   NaN   NaN   NaN   NaN   NaN   NaN   NaN   NaN   NaN   \n193255   NaN   NaN   NaN   NaN   NaN   NaN   NaN   NaN   NaN   NaN   NaN   \n193270   NaN   NaN   NaN   NaN   NaN   NaN   NaN   NaN   NaN   NaN   NaN   \n193610   NaN   NaN   NaN   NaN   NaN   NaN   NaN   NaN   NaN   NaN   NaN   \n194566   NaN   NaN   NaN   NaN   NaN   NaN   NaN   NaN   NaN   NaN   NaN   \n194756   NaN   NaN   NaN   NaN   NaN   NaN   NaN   NaN   NaN   NaN   NaN   \n195414   NaN   NaN   NaN   NaN   NaN   NaN   NaN   NaN   NaN   NaN   NaN   \n196052   NaN   NaN   NaN   NaN   NaN   NaN   NaN   NaN   NaN   NaN   NaN   \n196211   NaN   NaN   NaN   NaN   NaN   NaN   NaN   NaN   NaN   NaN   NaN   \n202155   NaN   NaN   NaN   NaN   NaN   NaN   NaN   NaN   NaN   NaN   NaN   \n203641   NaN   NaN   NaN   NaN   NaN   NaN   NaN   NaN   NaN   NaN   NaN   \n203652   NaN   NaN   NaN   NaN   NaN   NaN   NaN   NaN   NaN   NaN   NaN   \n203653   NaN   NaN   NaN   NaN   NaN   NaN   NaN   NaN   NaN   NaN   NaN   \n203657   NaN   NaN   NaN   NaN   NaN   NaN   NaN   NaN   NaN   NaN   NaN   \n204012   NaN   NaN   NaN   NaN   NaN   NaN   NaN   NaN   NaN   NaN   NaN   \n204243   NaN   NaN   NaN   NaN   NaN   NaN   NaN   NaN   NaN   NaN   NaN   \n204330   NaN   NaN   NaN   NaN   NaN   NaN   NaN   NaN   NaN   NaN   NaN   \n204943   NaN   NaN   NaN   NaN   NaN   NaN   NaN   NaN   NaN   NaN   NaN   \n205816   NaN   NaN   NaN   NaN   NaN   NaN   NaN   NaN   NaN   NaN   NaN   \n208099   NaN   NaN   NaN   NaN   NaN   NaN   NaN   NaN   NaN   NaN   NaN   \n208111   NaN   NaN   NaN   NaN   NaN   NaN   NaN   NaN   NaN   NaN   NaN   \n211071   NaN   NaN   NaN   NaN   NaN   NaN   NaN   NaN   NaN   NaN   NaN   \n213246   NaN   NaN   NaN   NaN   NaN   NaN   NaN   NaN   NaN   NaN   NaN   \n216218   NaN   NaN   NaN   NaN   NaN   NaN   NaN   NaN   NaN   NaN   NaN   \n217015   NaN   NaN   NaN   NaN   NaN   NaN   NaN   NaN   NaN   NaN   NaN   \n217026   NaN   NaN   NaN   NaN   NaN   NaN   NaN   NaN   NaN   NaN   NaN   \n217027   NaN   NaN   NaN   NaN   NaN   NaN   NaN   NaN   NaN   NaN   NaN   \n217031   NaN   NaN   NaN   NaN   NaN   NaN   NaN   NaN   NaN   NaN   NaN   \n222959   NaN   NaN   NaN   NaN   NaN   NaN   NaN   NaN   NaN   NaN   NaN   \n225931   NaN   NaN   NaN   NaN   NaN   NaN   NaN   NaN   NaN   NaN   NaN   \n227417   NaN   NaN   NaN   NaN   NaN   NaN   NaN   NaN   NaN   NaN   NaN   \n228106   NaN   NaN   NaN   NaN   NaN   NaN   NaN   NaN   NaN   NaN   NaN   \n228903   NaN   NaN   NaN   NaN   NaN   NaN   NaN   NaN   NaN   NaN   NaN   \n234859   NaN   NaN   NaN   NaN   NaN   NaN   NaN   NaN   NaN   NaN   NaN   \n241480   NaN   NaN   NaN   NaN   NaN   NaN   NaN   NaN   NaN   NaN   NaN   \n242277   NaN   NaN   NaN   NaN   NaN   NaN   NaN   NaN   NaN   NaN   NaN   \n243763   NaN   NaN   NaN   NaN   NaN   NaN   NaN   NaN   NaN   NaN   NaN   \n243794   NaN   NaN   NaN   NaN   NaN   NaN   NaN   NaN   NaN   NaN   NaN   \n244452   NaN   NaN   NaN   NaN   NaN   NaN   NaN   NaN   NaN   NaN   NaN   \n245065   NaN   NaN   NaN   NaN   NaN   NaN   NaN   NaN   NaN   NaN   NaN   \n245090   NaN   NaN   NaN   NaN   NaN   NaN   NaN   NaN   NaN   NaN   NaN   \n245249   NaN   NaN   NaN   NaN   NaN   NaN   NaN   NaN   NaN   NaN   NaN   \n245280   NaN   NaN   NaN   NaN   NaN   NaN   NaN   NaN   NaN   NaN   NaN   \n246576   NaN   NaN   NaN   NaN   NaN   NaN   NaN   NaN   NaN   NaN   NaN   \n250396   NaN   NaN   NaN   NaN   NaN   NaN   NaN   NaN   NaN   NaN   NaN   \n252679   NaN   NaN   NaN   NaN   NaN   NaN   NaN   NaN   NaN   NaN   NaN   \n254165   NaN   NaN   NaN   NaN   NaN   NaN   NaN   NaN   NaN   NaN   NaN   \n255651   NaN   NaN   NaN   NaN   NaN   NaN   NaN   NaN   NaN   NaN   NaN   \n255652   NaN   NaN   NaN   NaN   NaN   NaN   NaN   NaN   NaN   NaN   NaN   \n255653   NaN   NaN   NaN   NaN   NaN   NaN   NaN   NaN   NaN   NaN   NaN   \n255663   NaN   NaN   NaN   NaN   NaN   NaN   NaN   NaN   NaN   NaN   NaN   \n255682   NaN   NaN   NaN   NaN   NaN   NaN   NaN   NaN   NaN   NaN   NaN   \n256022   NaN   NaN   NaN   NaN   NaN   NaN   NaN   NaN   NaN   NaN   NaN   \n256978   NaN   NaN   NaN   NaN   NaN   NaN   NaN   NaN   NaN   NaN   NaN   \n257826   NaN   NaN   NaN   NaN   NaN   NaN   NaN   NaN   NaN   NaN   NaN   \n260109   NaN   NaN   NaN   NaN   NaN   NaN   NaN   NaN   NaN   NaN   NaN   \n261595   NaN   NaN   NaN   NaN   NaN   NaN   NaN   NaN   NaN   NaN   NaN   \n261626   NaN   NaN   NaN   NaN   NaN   NaN   NaN   NaN   NaN   NaN   NaN   \n262197   NaN   NaN   NaN   NaN   NaN   NaN   NaN   NaN   NaN   NaN   NaN   \n262922   NaN   NaN   NaN   NaN   NaN   NaN   NaN   NaN   NaN   NaN   NaN   \n264567   NaN   NaN   NaN   NaN   NaN   NaN   NaN   NaN   NaN   NaN   NaN   \n265169   NaN   NaN   NaN   NaN   NaN   NaN   NaN   NaN   NaN   NaN   NaN   \n265256   NaN   NaN   NaN   NaN   NaN   NaN   NaN   NaN   NaN   NaN   NaN   \n267539   NaN   NaN   NaN   NaN   NaN   NaN   NaN   NaN   NaN   NaN   NaN   \n269025   NaN   NaN   NaN   NaN   NaN   NaN   NaN   NaN   NaN   NaN   NaN   \n270511   NaN   NaN   NaN   NaN   NaN   NaN   NaN   NaN   NaN   NaN   NaN   \n271997   NaN   NaN   NaN   NaN   NaN   NaN   NaN   NaN   NaN   NaN   NaN   \n271998   NaN   NaN   NaN   NaN   NaN   NaN   NaN   NaN   NaN   NaN   NaN   \n271999   NaN   NaN   NaN   NaN   NaN   NaN   NaN   NaN   NaN   NaN   NaN   \n272008   NaN   NaN   NaN   NaN   NaN   NaN   NaN   NaN   NaN   NaN   NaN   \n272009   NaN   NaN   NaN   NaN   NaN   NaN   NaN   NaN   NaN   NaN   NaN   \n272013   NaN   NaN   NaN   NaN   NaN   NaN   NaN   NaN   NaN   NaN   NaN   \n272028   NaN   NaN   NaN   NaN   NaN   NaN   NaN   NaN   NaN   NaN   NaN   \n272368   NaN   NaN   NaN   NaN   NaN   NaN   NaN   NaN   NaN   NaN   NaN   \n272599   NaN   NaN   NaN   NaN   NaN   NaN   NaN   NaN   NaN   NaN   NaN   \n273324   NaN   NaN   NaN   NaN   NaN   NaN   NaN   NaN   NaN   NaN   NaN   \n273483   NaN   NaN   NaN   NaN   NaN   NaN   NaN   NaN   NaN   NaN   NaN   \n280116   NaN   NaN   NaN   NaN   NaN   NaN   NaN   NaN   NaN   NaN   NaN   \n283088   NaN   NaN   NaN   NaN   NaN   NaN   NaN   NaN   NaN   NaN   NaN   \n283885   NaN   NaN   NaN   NaN   NaN   NaN   NaN   NaN   NaN   NaN   NaN   \n285371   NaN   NaN   NaN   NaN   NaN   NaN   NaN   NaN   NaN   NaN   NaN   \n288343   NaN   NaN   NaN   NaN   NaN   NaN   NaN   NaN   NaN   NaN   NaN   \n289829   NaN   NaN   NaN   NaN   NaN   NaN   NaN   NaN   NaN   NaN   NaN   \n295773   NaN   NaN   NaN   NaN   NaN   NaN   NaN   NaN   NaN   NaN   NaN   \n297259   NaN   NaN   NaN   NaN   NaN   NaN   NaN   NaN   NaN   NaN   NaN   \n297630   NaN   NaN   NaN   NaN   NaN   NaN   NaN   NaN   NaN   NaN   NaN   \n298745   NaN   NaN   NaN   NaN   NaN   NaN   NaN   NaN   NaN   NaN   NaN   \n298757   NaN   NaN   NaN   NaN   NaN   NaN   NaN   NaN   NaN   NaN   NaN   \n299116   NaN   NaN   NaN   NaN   NaN   NaN   NaN   NaN   NaN   NaN   NaN   \n300920   NaN   NaN   NaN   NaN   NaN   NaN   NaN   NaN   NaN   NaN   NaN   \n309836   NaN   NaN   NaN   NaN   NaN   NaN   NaN   NaN   NaN   NaN   NaN   \n310633   NaN   NaN   NaN   NaN   NaN   NaN   NaN   NaN   NaN   NaN   NaN   \n313605   NaN   NaN   NaN   NaN   NaN   NaN   NaN   NaN   NaN   NaN   NaN   \n315091   NaN   NaN   NaN   NaN   NaN   NaN   NaN   NaN   NaN   NaN   NaN   \n315102   NaN   NaN   NaN   NaN   NaN   NaN   NaN   NaN   NaN   NaN   NaN   \n315103   NaN   NaN   NaN   NaN   NaN   NaN   NaN   NaN   NaN   NaN   NaN   \n315107   NaN   NaN   NaN   NaN   NaN   NaN   NaN   NaN   NaN   NaN   NaN   \n317266   NaN   NaN   NaN   NaN   NaN   NaN   NaN   NaN   NaN   NaN   NaN   \n318063   NaN   NaN   NaN   NaN   NaN   NaN   NaN   NaN   NaN   NaN   NaN   \n319549   NaN   NaN   NaN   NaN   NaN   NaN   NaN   NaN   NaN   NaN   NaN   \n320238   NaN   NaN   NaN   NaN   NaN   NaN   NaN   NaN   NaN   NaN   NaN   \n321035   NaN   NaN   NaN   NaN   NaN   NaN   NaN   NaN   NaN   NaN   NaN   \n321724   NaN   NaN   NaN   NaN   NaN   NaN   NaN   NaN   NaN   NaN   NaN   \n322521   NaN   NaN   NaN   NaN   NaN   NaN   NaN   NaN   NaN   NaN   NaN   \n324007   NaN   NaN   NaN   NaN   NaN   NaN   NaN   NaN   NaN   NaN   NaN   \n324696   NaN   NaN   NaN   NaN   NaN   NaN   NaN   NaN   NaN   NaN   NaN   \n325493   NaN   NaN   NaN   NaN   NaN   NaN   NaN   NaN   NaN   NaN   NaN   \n326979   NaN   NaN   NaN   NaN   NaN   NaN   NaN   NaN   NaN   NaN   NaN   \n328465   NaN   NaN   NaN   NaN   NaN   NaN   NaN   NaN   NaN   NaN   NaN   \n329951   NaN   NaN   NaN   NaN   NaN   NaN   NaN   NaN   NaN   NaN   NaN   \n331437   NaN   NaN   NaN   NaN   NaN   NaN   NaN   NaN   NaN   NaN   NaN   \n332923   NaN   NaN   NaN   NaN   NaN   NaN   NaN   NaN   NaN   NaN   NaN   \n334409   NaN   NaN   NaN   NaN   NaN   NaN   NaN   NaN   NaN   NaN   NaN   \n335895   NaN   NaN   NaN   NaN   NaN   NaN   NaN   NaN   NaN   NaN   NaN   \n337381   NaN   NaN   NaN   NaN   NaN   NaN   NaN   NaN   NaN   NaN   NaN   \n338867   NaN   NaN   NaN   NaN   NaN   NaN   NaN   NaN   NaN   NaN   NaN   \n340353   NaN   NaN   NaN   NaN   NaN   NaN   NaN   NaN   NaN   NaN   NaN   \n341839   NaN   NaN   NaN   NaN   NaN   NaN   NaN   NaN   NaN   NaN   NaN   \n343325   NaN   NaN   NaN   NaN   NaN   NaN   NaN   NaN   NaN   NaN   NaN   \n344014   NaN   NaN   NaN   NaN   NaN   NaN   NaN   NaN   NaN   NaN   NaN   \n344811   NaN   NaN   NaN   NaN   NaN   NaN   NaN   NaN   NaN   NaN   NaN   \n345500   NaN   NaN   NaN   NaN   NaN   NaN   NaN   NaN   NaN   NaN   NaN   \n346297   NaN   NaN   NaN   NaN   NaN   NaN   NaN   NaN   NaN   NaN   NaN   \n347783   NaN   NaN   NaN   NaN   NaN   NaN   NaN   NaN   NaN   NaN   NaN   \n349269   NaN   NaN   NaN   NaN   NaN   NaN   NaN   NaN   NaN   NaN   NaN   \n350755   NaN   NaN   NaN   NaN   NaN   NaN   NaN   NaN   NaN   NaN   NaN   \n351357   NaN   NaN   NaN   NaN   NaN   NaN   NaN   NaN   NaN   NaN   NaN   \n352241   NaN   NaN   NaN   NaN   NaN   NaN   NaN   NaN   NaN   NaN   NaN   \n352930   NaN   NaN   NaN   NaN   NaN   NaN   NaN   NaN   NaN   NaN   NaN   \n353727   NaN   NaN   NaN   NaN   NaN   NaN   NaN   NaN   NaN   NaN   NaN   \n354416   NaN   NaN   NaN   NaN   NaN   NaN   NaN   NaN   NaN   NaN   NaN   \n355213   NaN   NaN   NaN   NaN   NaN   NaN   NaN   NaN   NaN   NaN   NaN   \n356699   NaN   NaN   NaN   NaN   NaN   NaN   NaN   NaN   NaN   NaN   NaN   \n358185   NaN   NaN   NaN   NaN   NaN   NaN   NaN   NaN   NaN   NaN   NaN   \n359671   NaN   NaN   NaN   NaN   NaN   NaN   NaN   NaN   NaN   NaN   NaN   \n361157   NaN   NaN   NaN   NaN   NaN   NaN   NaN   NaN   NaN   NaN   NaN   \n361846   NaN   NaN   NaN   NaN   NaN   NaN   NaN   NaN   NaN   NaN   NaN   \n362643   NaN   NaN   NaN   NaN   NaN   NaN   NaN   NaN   NaN   NaN   NaN   \n364129   NaN   NaN   NaN   NaN   NaN   NaN   NaN   NaN   NaN   NaN   NaN   \n364818   NaN   NaN   NaN   NaN   NaN   NaN   NaN   NaN   NaN   NaN   NaN   \n365615   NaN   NaN   NaN   NaN   NaN   NaN   NaN   NaN   NaN   NaN   NaN   \n367101   NaN   NaN   NaN   NaN   NaN   NaN   NaN   NaN   NaN   NaN   NaN   \n368587   NaN   NaN   NaN   NaN   NaN   NaN   NaN   NaN   NaN   NaN   NaN   \n370073   NaN   NaN   NaN   NaN   NaN   NaN   NaN   NaN   NaN   NaN   NaN   \n371559   NaN   NaN   NaN   NaN   NaN   NaN   NaN   NaN   NaN   NaN   NaN   \n373045   NaN   NaN   NaN   NaN   NaN   NaN   NaN   NaN   NaN   NaN   NaN   \n374531   NaN   NaN   NaN   NaN   NaN   NaN   NaN   NaN   NaN   NaN   NaN   \n374532   NaN   NaN   NaN   NaN   NaN   NaN   NaN   NaN   NaN   NaN   NaN   \n374533   NaN   NaN   NaN   NaN   NaN   NaN   NaN   NaN   NaN   NaN   NaN   \n374542   NaN   NaN   NaN   NaN   NaN   NaN   NaN   NaN   NaN   NaN   NaN   \n374543   NaN   NaN   NaN   NaN   NaN   NaN   NaN   NaN   NaN   NaN   NaN   \n374547   NaN   NaN   NaN   NaN   NaN   NaN   NaN   NaN   NaN   NaN   NaN   \n374562   NaN   NaN   NaN   NaN   NaN   NaN   NaN   NaN   NaN   NaN   NaN   \n374606   NaN   NaN   NaN   NaN   NaN   NaN   NaN   NaN   NaN   NaN   NaN   \n374902   NaN   NaN   NaN   NaN   NaN   NaN   NaN   NaN   NaN   NaN   NaN   \n374924   NaN   NaN   NaN   NaN   NaN   NaN   NaN   NaN   NaN   NaN   NaN   \n374938   NaN   NaN   NaN   NaN   NaN   NaN   NaN   NaN   NaN   NaN   NaN   \n374939   NaN   NaN   NaN   NaN   NaN   NaN   NaN   NaN   NaN   NaN   NaN   \n375133   NaN   NaN   NaN   NaN   NaN   NaN   NaN   NaN   NaN   NaN   NaN   \n375220   NaN   NaN   NaN   NaN   NaN   NaN   NaN   NaN   NaN   NaN   NaN   \n375539   NaN   NaN   NaN   NaN   NaN   NaN   NaN   NaN   NaN   NaN   NaN   \n375551   NaN   NaN   NaN   NaN   NaN   NaN   NaN   NaN   NaN   NaN   NaN   \n375833   NaN   NaN   NaN   NaN   NaN   NaN   NaN   NaN   NaN   NaN   NaN   \n375858   NaN   NaN   NaN   NaN   NaN   NaN   NaN   NaN   NaN   NaN   NaN   \n376017   NaN   NaN   NaN   NaN   NaN   NaN   NaN   NaN   NaN   NaN   NaN   \n377503   NaN   NaN   NaN   NaN   NaN   NaN   NaN   NaN   NaN   NaN   NaN   \n378989   NaN   NaN   NaN   NaN   NaN   NaN   NaN   NaN   NaN   NaN   NaN   \n380475   NaN   NaN   NaN   NaN   NaN   NaN   NaN   NaN   NaN   NaN   NaN   \n381961   NaN   NaN   NaN   NaN   NaN   NaN   NaN   NaN   NaN   NaN   NaN   \n382650   NaN   NaN   NaN   NaN   NaN   NaN   NaN   NaN   NaN   NaN   NaN   \n383447   NaN   NaN   NaN   NaN   NaN   NaN   NaN   NaN   NaN   NaN   NaN   \n384933   NaN   NaN   NaN   NaN   NaN   NaN   NaN   NaN   NaN   NaN   NaN   \n386419   NaN   NaN   NaN   NaN   NaN   NaN   NaN   NaN   NaN   NaN   NaN   \n387905   NaN   NaN   NaN   NaN   NaN   NaN   NaN   NaN   NaN   NaN   NaN   \n388594   NaN   NaN   NaN   NaN   NaN   NaN   NaN   NaN   NaN   NaN   NaN   \n389391   NaN   NaN   NaN   NaN   NaN   NaN   NaN   NaN   NaN   NaN   NaN   \n390080   NaN   NaN   NaN   NaN   NaN   NaN   NaN   NaN   NaN   NaN   NaN   \n390877   NaN   NaN   NaN   NaN   NaN   NaN   NaN   NaN   NaN   NaN   NaN   \n391566   NaN   NaN   NaN   NaN   NaN   NaN   NaN   NaN   NaN   NaN   NaN   \n392363   NaN   NaN   NaN   NaN   NaN   NaN   NaN   NaN   NaN   NaN   NaN   \n393849   NaN   NaN   NaN   NaN   NaN   NaN   NaN   NaN   NaN   NaN   NaN   \n\n        1991  1992  1993  1994  1995  1996  1997  1998  1999  2000  2001  \\\n661      NaN   NaN   NaN   NaN   NaN   NaN   NaN   NaN   NaN   NaN   NaN   \n748      NaN   NaN   NaN   NaN   NaN   NaN   NaN   NaN   NaN   NaN   NaN   \n4517     NaN   NaN   NaN   NaN   NaN   NaN   NaN   NaN   NaN   NaN   NaN   \n4528     NaN   NaN   NaN   NaN   NaN   NaN   NaN   NaN   NaN   NaN   NaN   \n4529     NaN   NaN   NaN   NaN   NaN   NaN   NaN   NaN   NaN   NaN   NaN   \n4533     NaN   NaN   NaN   NaN   NaN   NaN   NaN   NaN   NaN   NaN   NaN   \n6003     NaN   NaN   NaN   NaN   NaN   NaN   NaN   NaN   NaN   NaN   NaN   \n6034     NaN   NaN   NaN   NaN   NaN   NaN   NaN   NaN   NaN   NaN   NaN   \n6374     NaN   NaN   NaN   NaN   NaN   NaN   NaN   NaN   NaN   NaN   NaN   \n6692     NaN   NaN   NaN   NaN   NaN   NaN   NaN   NaN   NaN   NaN   NaN   \n7330     NaN   NaN   NaN   NaN   NaN   NaN   NaN   NaN   NaN   NaN   NaN   \n7489     NaN   NaN   NaN   NaN   NaN   NaN   NaN   NaN   NaN   NaN   NaN   \n8975     NaN   NaN   NaN   NaN   NaN   NaN   NaN   NaN   NaN   NaN   NaN   \n12636    NaN   NaN   NaN   NaN   NaN   NaN   NaN   NaN   NaN   NaN   NaN   \n13433    NaN   NaN   NaN   NaN   NaN   NaN   NaN   NaN   NaN   NaN   NaN   \n13445    NaN   NaN   NaN   NaN   NaN   NaN   NaN   NaN   NaN   NaN   NaN   \n17094    NaN   NaN   NaN   NaN   NaN   NaN   NaN   NaN   NaN   NaN   NaN   \n19377    NaN   NaN   NaN   NaN   NaN   NaN   NaN   NaN   NaN   NaN   NaN   \n23835    NaN   NaN   NaN   NaN   NaN   NaN   NaN   NaN   NaN   NaN   NaN   \n26010    NaN   NaN   NaN   NaN   NaN   NaN   NaN   NaN   NaN   NaN   NaN   \n28293    NaN   NaN   NaN   NaN   NaN   NaN   NaN   NaN   NaN   NaN   NaN   \n31265    NaN   NaN   NaN   NaN   NaN   NaN   NaN   NaN   NaN   NaN   NaN   \n31296    NaN   NaN   NaN   NaN   NaN   NaN   NaN   NaN   NaN   NaN   NaN   \n32592    NaN   NaN   NaN   NaN   NaN   NaN   NaN   NaN   NaN   NaN   NaN   \n32751    NaN   NaN   NaN   NaN   NaN   NaN   NaN   NaN   NaN   NaN   NaN   \n33440    NaN   NaN   NaN   NaN   NaN   NaN   NaN   NaN   NaN   NaN   NaN   \n34926    NaN   NaN   NaN   NaN   NaN   NaN   NaN   NaN   NaN   NaN   NaN   \n35723    NaN   NaN   NaN   NaN   NaN   NaN   NaN   NaN   NaN   NaN   NaN   \n37898    NaN   NaN   NaN   NaN   NaN   NaN   NaN   NaN   NaN   NaN   NaN   \n40181    NaN   NaN   NaN   NaN   NaN   NaN   NaN   NaN   NaN   NaN   NaN   \n40192    NaN   NaN   NaN   NaN   NaN   NaN   NaN   NaN   NaN   NaN   NaN   \n40193    NaN   NaN   NaN   NaN   NaN   NaN   NaN   NaN   NaN   NaN   NaN   \n40197    NaN   NaN   NaN   NaN   NaN   NaN   NaN   NaN   NaN   NaN   NaN   \n40552    NaN   NaN   NaN   NaN   NaN   NaN   NaN   NaN   NaN   NaN   NaN   \n44639    NaN   NaN   NaN   NaN   NaN   NaN   NaN   NaN   NaN   NaN   NaN   \n45328    NaN   NaN   NaN   NaN   NaN   NaN   NaN   NaN   NaN   NaN   NaN   \n46125    NaN   NaN   NaN   NaN   NaN   NaN   NaN   NaN   NaN   NaN   NaN   \n46814    NaN   NaN   NaN   NaN   NaN   NaN   NaN   NaN   NaN   NaN   NaN   \n47611    NaN   NaN   NaN   NaN   NaN   NaN   NaN   NaN   NaN   NaN   NaN   \n49097    NaN   NaN   NaN   NaN   NaN   NaN   NaN   NaN   NaN   NaN   NaN   \n50583    NaN   NaN   NaN   NaN   NaN   NaN   NaN   NaN   NaN   NaN   NaN   \n53555    NaN   NaN   NaN   NaN   NaN   NaN   NaN   NaN   NaN   NaN   NaN   \n55041    NaN   NaN   NaN   NaN   NaN   NaN   NaN   NaN   NaN   NaN   NaN   \n55730    NaN   NaN   NaN   NaN   NaN   NaN   NaN   NaN   NaN   NaN   NaN   \n56527    NaN   NaN   NaN   NaN   NaN   NaN   NaN   NaN   NaN   NaN   NaN   \n57216    NaN   NaN   NaN   NaN   NaN   NaN   NaN   NaN   NaN   NaN   NaN   \n58384    NaN   NaN   NaN   NaN   NaN   NaN   NaN   NaN   NaN   NaN   NaN   \n58406    NaN   NaN   NaN   NaN   NaN   NaN   NaN   NaN   NaN   NaN   NaN   \n58615    NaN   NaN   NaN   NaN   NaN   NaN   NaN   NaN   NaN   NaN   NaN   \n58702    NaN   NaN   NaN   NaN   NaN   NaN   NaN   NaN   NaN   NaN   NaN   \n59315    NaN   NaN   NaN   NaN   NaN   NaN   NaN   NaN   NaN   NaN   NaN   \n60985    NaN   NaN   NaN   NaN   NaN   NaN   NaN   NaN   NaN   NaN   NaN   \n63957    NaN   NaN   NaN   NaN   NaN   NaN   NaN   NaN   NaN   NaN   NaN   \n63988    NaN   NaN   NaN   NaN   NaN   NaN   NaN   NaN   NaN   NaN   NaN   \n65284    NaN   NaN   NaN   NaN   NaN   NaN   NaN   NaN   NaN   NaN   NaN   \n65443    NaN   NaN   NaN   NaN   NaN   NaN   NaN   NaN   NaN   NaN   NaN   \n66929    NaN   NaN   NaN   NaN   NaN   NaN   NaN   NaN   NaN   NaN   NaN   \n68415    NaN   NaN   NaN   NaN   NaN   NaN   NaN   NaN   NaN   NaN   NaN   \n69901    NaN   NaN   NaN   NaN   NaN   NaN   NaN   NaN   NaN   NaN   NaN   \n72873    NaN   NaN   NaN   NaN   NaN   NaN   NaN   NaN   NaN   NaN   NaN   \n74359    NaN   NaN   NaN   NaN   NaN   NaN   NaN   NaN   NaN   NaN   NaN   \n74360    NaN   NaN   NaN   NaN   NaN   NaN   NaN   NaN   NaN   NaN   NaN   \n74361    NaN   NaN   NaN   NaN   NaN   NaN   NaN   NaN   NaN   NaN   NaN   \n74371    NaN   NaN   NaN   NaN   NaN   NaN   NaN   NaN   NaN   NaN   NaN   \n74730    NaN   NaN   NaN   NaN   NaN   NaN   NaN   NaN   NaN   NaN   NaN   \n78020    NaN   NaN   NaN   NaN   NaN   NaN   NaN   NaN   NaN   NaN   NaN   \n80303    NaN   NaN   NaN   NaN   NaN   NaN   NaN   NaN   NaN   NaN   NaN   \n80334    NaN   NaN   NaN   NaN   NaN   NaN   NaN   NaN   NaN   NaN   NaN   \n81630    NaN   NaN   NaN   NaN   NaN   NaN   NaN   NaN   NaN   NaN   NaN   \n81789    NaN   NaN   NaN   NaN   NaN   NaN   NaN   NaN   NaN   NaN   NaN   \n86247    NaN   NaN   NaN   NaN   NaN   NaN   NaN   NaN   NaN   NaN   NaN   \n89219    NaN   NaN   NaN   NaN   NaN   NaN   NaN   NaN   NaN   NaN   NaN   \n89821    NaN   NaN   NaN   NaN   NaN   NaN   NaN   NaN   NaN   NaN   NaN   \n90705    NaN   NaN   NaN   NaN   NaN   NaN   NaN   NaN   NaN   NaN   NaN   \n94366    NaN   NaN   NaN   NaN   NaN   NaN   NaN   NaN   NaN   NaN   NaN   \n95852    NaN   NaN   NaN   NaN   NaN   NaN   NaN   NaN   NaN   NaN   NaN   \n96649    NaN   NaN   NaN   NaN   NaN   NaN   NaN   NaN   NaN   NaN   NaN   \n96661    NaN   NaN   NaN   NaN   NaN   NaN   NaN   NaN   NaN   NaN   NaN   \n97251    NaN   NaN   NaN   NaN   NaN   NaN   NaN   NaN   NaN   NaN   NaN   \n98135    NaN   NaN   NaN   NaN   NaN   NaN   NaN   NaN   NaN   NaN   NaN   \n102593   NaN   NaN   NaN   NaN   NaN   NaN   NaN   NaN   NaN   NaN   NaN   \n102605   NaN   NaN   NaN   NaN   NaN   NaN   NaN   NaN   NaN   NaN   NaN   \n104079   NaN   NaN   NaN   NaN   NaN   NaN   NaN   NaN   NaN   NaN   NaN   \n105565   NaN   NaN   NaN   NaN   NaN   NaN   NaN   NaN   NaN   NaN   NaN   \n111509   NaN   NaN   NaN   NaN   NaN   NaN   NaN   NaN   NaN   NaN   NaN   \n111510   NaN   NaN   NaN   NaN   NaN   NaN   NaN   NaN   NaN   NaN   NaN   \n111511   NaN   NaN   NaN   NaN   NaN   NaN   NaN   NaN   NaN   NaN   NaN   \n111520   NaN   NaN   NaN   NaN   NaN   NaN   NaN   NaN   NaN   NaN   NaN   \n111521   NaN   NaN   NaN   NaN   NaN   NaN   NaN   NaN   NaN   NaN   NaN   \n111525   NaN   NaN   NaN   NaN   NaN   NaN   NaN   NaN   NaN   NaN   NaN   \n111540   NaN   NaN   NaN   NaN   NaN   NaN   NaN   NaN   NaN   NaN   NaN   \n111880   NaN   NaN   NaN   NaN   NaN   NaN   NaN   NaN   NaN   NaN   NaN   \n112111   NaN   NaN   NaN   NaN   NaN   NaN   NaN   NaN   NaN   NaN   NaN   \n112836   NaN   NaN   NaN   NaN   NaN   NaN   NaN   NaN   NaN   NaN   NaN   \n114481   NaN   NaN   NaN   NaN   NaN   NaN   NaN   NaN   NaN   NaN   NaN   \n114512   NaN   NaN   NaN   NaN   NaN   NaN   NaN   NaN   NaN   NaN   NaN   \n114852   NaN   NaN   NaN   NaN   NaN   NaN   NaN   NaN   NaN   NaN   NaN   \n115083   NaN   NaN   NaN   NaN   NaN   NaN   NaN   NaN   NaN   NaN   NaN   \n115808   NaN   NaN   NaN   NaN   NaN   NaN   NaN   NaN   NaN   NaN   NaN   \n117453   NaN   NaN   NaN   NaN   NaN   NaN   NaN   NaN   NaN   NaN   NaN   \n117464   NaN   NaN   NaN   NaN   NaN   NaN   NaN   NaN   NaN   NaN   NaN   \n117465   NaN   NaN   NaN   NaN   NaN   NaN   NaN   NaN   NaN   NaN   NaN   \n117469   NaN   NaN   NaN   NaN   NaN   NaN   NaN   NaN   NaN   NaN   NaN   \n117824   NaN   NaN   NaN   NaN   NaN   NaN   NaN   NaN   NaN   NaN   NaN   \n121911   NaN   NaN   NaN   NaN   NaN   NaN   NaN   NaN   NaN   NaN   NaN   \n127855   NaN   NaN   NaN   NaN   NaN   NaN   NaN   NaN   NaN   NaN   NaN   \n128262   NaN   NaN   NaN   NaN   NaN   NaN   NaN   NaN   NaN   NaN   NaN   \n128263   NaN   NaN   NaN   NaN   NaN   NaN   NaN   NaN   NaN   NaN   NaN   \n130030   NaN   NaN   NaN   NaN   NaN   NaN   NaN   NaN   NaN   NaN   NaN   \n133799   NaN   NaN   NaN   NaN   NaN   NaN   NaN   NaN   NaN   NaN   NaN   \n136771   NaN   NaN   NaN   NaN   NaN   NaN   NaN   NaN   NaN   NaN   NaN   \n138257   NaN   NaN   NaN   NaN   NaN   NaN   NaN   NaN   NaN   NaN   NaN   \n139743   NaN   NaN   NaN   NaN   NaN   NaN   NaN   NaN   NaN   NaN   NaN   \n139774   NaN   NaN   NaN   NaN   NaN   NaN   NaN   NaN   NaN   NaN   NaN   \n140114   NaN   NaN   NaN   NaN   NaN   NaN   NaN   NaN   NaN   NaN   NaN   \n140345   NaN   NaN   NaN   NaN   NaN   NaN   NaN   NaN   NaN   NaN   NaN   \n141070   NaN   NaN   NaN   NaN   NaN   NaN   NaN   NaN   NaN   NaN   NaN   \n150145   NaN   NaN   NaN   NaN   NaN   NaN   NaN   NaN   NaN   NaN   NaN   \n151631   NaN   NaN   NaN   NaN   NaN   NaN   NaN   NaN   NaN   NaN   NaN   \n153117   NaN   NaN   NaN   NaN   NaN   NaN   NaN   NaN   NaN   NaN   NaN   \n153128   NaN   NaN   NaN   NaN   NaN   NaN   NaN   NaN   NaN   NaN   NaN   \n153129   NaN   NaN   NaN   NaN   NaN   NaN   NaN   NaN   NaN   NaN   NaN   \n153133   NaN   NaN   NaN   NaN   NaN   NaN   NaN   NaN   NaN   NaN   NaN   \n153719   NaN   NaN   NaN   NaN   NaN   NaN   NaN   NaN   NaN   NaN   NaN   \n154603   NaN   NaN   NaN   NaN   NaN   NaN   NaN   NaN   NaN   NaN   NaN   \n156089   NaN   NaN   NaN   NaN   NaN   NaN   NaN   NaN   NaN   NaN   NaN   \n156090   NaN   NaN   NaN   NaN   NaN   NaN   NaN   NaN   NaN   NaN   NaN   \n156091   NaN   NaN   NaN   NaN   NaN   NaN   NaN   NaN   NaN   NaN   NaN   \n156120   NaN   NaN   NaN   NaN   NaN   NaN   NaN   NaN   NaN   NaN   NaN   \n156164   NaN   NaN   NaN   NaN   NaN   NaN   NaN   NaN   NaN   NaN   NaN   \n156460   NaN   NaN   NaN   NaN   NaN   NaN   NaN   NaN   NaN   NaN   NaN   \n156482   NaN   NaN   NaN   NaN   NaN   NaN   NaN   NaN   NaN   NaN   NaN   \n156496   NaN   NaN   NaN   NaN   NaN   NaN   NaN   NaN   NaN   NaN   NaN   \n156497   NaN   NaN   NaN   NaN   NaN   NaN   NaN   NaN   NaN   NaN   NaN   \n156691   NaN   NaN   NaN   NaN   NaN   NaN   NaN   NaN   NaN   NaN   NaN   \n156778   NaN   NaN   NaN   NaN   NaN   NaN   NaN   NaN   NaN   NaN   NaN   \n157097   NaN   NaN   NaN   NaN   NaN   NaN   NaN   NaN   NaN   NaN   NaN   \n157391   NaN   NaN   NaN   NaN   NaN   NaN   NaN   NaN   NaN   NaN   NaN   \n157416   NaN   NaN   NaN   NaN   NaN   NaN   NaN   NaN   NaN   NaN   NaN   \n157575   NaN   NaN   NaN   NaN   NaN   NaN   NaN   NaN   NaN   NaN   NaN   \n159750   NaN   NaN   NaN   NaN   NaN   NaN   NaN   NaN   NaN   NaN   NaN   \n161236   NaN   NaN   NaN   NaN   NaN   NaN   NaN   NaN   NaN   NaN   NaN   \n163519   NaN   NaN   NaN   NaN   NaN   NaN   NaN   NaN   NaN   NaN   NaN   \n165694   NaN   NaN   NaN   NaN   NaN   NaN   NaN   NaN   NaN   NaN   NaN   \n166491   NaN   NaN   NaN   NaN   NaN   NaN   NaN   NaN   NaN   NaN   NaN   \n167093   NaN   NaN   NaN   NaN   NaN   NaN   NaN   NaN   NaN   NaN   NaN   \n167977   NaN   NaN   NaN   NaN   NaN   NaN   NaN   NaN   NaN   NaN   NaN   \n169463   NaN   NaN   NaN   NaN   NaN   NaN   NaN   NaN   NaN   NaN   NaN   \n169475   NaN   NaN   NaN   NaN   NaN   NaN   NaN   NaN   NaN   NaN   NaN   \n169494   NaN   NaN   NaN   NaN   NaN   NaN   NaN   NaN   NaN   NaN   NaN   \n169834   NaN   NaN   NaN   NaN   NaN   NaN   NaN   NaN   NaN   NaN   NaN   \n170152   NaN   NaN   NaN   NaN   NaN   NaN   NaN   NaN   NaN   NaN   NaN   \n170790   NaN   NaN   NaN   NaN   NaN   NaN   NaN   NaN   NaN   NaN   NaN   \n172435   NaN   NaN   NaN   NaN   NaN   NaN   NaN   NaN   NaN   NaN   NaN   \n172466   NaN   NaN   NaN   NaN   NaN   NaN   NaN   NaN   NaN   NaN   NaN   \n173124   NaN   NaN   NaN   NaN   NaN   NaN   NaN   NaN   NaN   NaN   NaN   \n173762   NaN   NaN   NaN   NaN   NaN   NaN   NaN   NaN   NaN   NaN   NaN   \n173921   NaN   NaN   NaN   NaN   NaN   NaN   NaN   NaN   NaN   NaN   NaN   \n173922   NaN   NaN   NaN   NaN   NaN   NaN   NaN   NaN   NaN   NaN   NaN   \n173923   NaN   NaN   NaN   NaN   NaN   NaN   NaN   NaN   NaN   NaN   NaN   \n173932   NaN   NaN   NaN   NaN   NaN   NaN   NaN   NaN   NaN   NaN   NaN   \n173933   NaN   NaN   NaN   NaN   NaN   NaN   NaN   NaN   NaN   NaN   NaN   \n173937   NaN   NaN   NaN   NaN   NaN   NaN   NaN   NaN   NaN   NaN   NaN   \n173952   NaN   NaN   NaN   NaN   NaN   NaN   NaN   NaN   NaN   NaN   NaN   \n174292   NaN   NaN   NaN   NaN   NaN   NaN   NaN   NaN   NaN   NaN   NaN   \n174328   NaN   NaN   NaN   NaN   NaN   NaN   NaN   NaN   NaN   NaN   NaN   \n174329   NaN   NaN   NaN   NaN   NaN   NaN   NaN   NaN   NaN   NaN   NaN   \n174610   NaN   NaN   NaN   NaN   NaN   NaN   NaN   NaN   NaN   NaN   NaN   \n175223   NaN   NaN   NaN   NaN   NaN   NaN   NaN   NaN   NaN   NaN   NaN   \n175248   NaN   NaN   NaN   NaN   NaN   NaN   NaN   NaN   NaN   NaN   NaN   \n177582   NaN   NaN   NaN   NaN   NaN   NaN   NaN   NaN   NaN   NaN   NaN   \n179865   NaN   NaN   NaN   NaN   NaN   NaN   NaN   NaN   NaN   NaN   NaN   \n179896   NaN   NaN   NaN   NaN   NaN   NaN   NaN   NaN   NaN   NaN   NaN   \n181192   NaN   NaN   NaN   NaN   NaN   NaN   NaN   NaN   NaN   NaN   NaN   \n181351   NaN   NaN   NaN   NaN   NaN   NaN   NaN   NaN   NaN   NaN   NaN   \n182040   NaN   NaN   NaN   NaN   NaN   NaN   NaN   NaN   NaN   NaN   NaN   \n184323   NaN   NaN   NaN   NaN   NaN   NaN   NaN   NaN   NaN   NaN   NaN   \n185840   NaN   NaN   NaN   NaN   NaN   NaN   NaN   NaN   NaN   NaN   NaN   \n187136   NaN   NaN   NaN   NaN   NaN   NaN   NaN   NaN   NaN   NaN   NaN   \n190267   NaN   NaN   NaN   NaN   NaN   NaN   NaN   NaN   NaN   NaN   NaN   \n192442   NaN   NaN   NaN   NaN   NaN   NaN   NaN   NaN   NaN   NaN   NaN   \n193239   NaN   NaN   NaN   NaN   NaN   NaN   NaN   NaN   NaN   NaN   NaN   \n193240   NaN   NaN   NaN   NaN   NaN   NaN   NaN   NaN   NaN   NaN   NaN   \n193241   NaN   NaN   NaN   NaN   NaN   NaN   NaN   NaN   NaN   NaN   NaN   \n193250   NaN   NaN   NaN   NaN   NaN   NaN   NaN   NaN   NaN   NaN   NaN   \n193251   NaN   NaN   NaN   NaN   NaN   NaN   NaN   NaN   NaN   NaN   NaN   \n193255   NaN   NaN   NaN   NaN   NaN   NaN   NaN   NaN   NaN   NaN   NaN   \n193270   NaN   NaN   NaN   NaN   NaN   NaN   NaN   NaN   NaN   NaN   NaN   \n193610   NaN   NaN   NaN   NaN   NaN   NaN   NaN   NaN   NaN   NaN   NaN   \n194566   NaN   NaN   NaN   NaN   NaN   NaN   NaN   NaN   NaN   NaN   NaN   \n194756   NaN   NaN   NaN   NaN   NaN   NaN   NaN   NaN   NaN   NaN   NaN   \n195414   NaN   NaN   NaN   NaN   NaN   NaN   NaN   NaN   NaN   NaN   NaN   \n196052   NaN   NaN   NaN   NaN   NaN   NaN   NaN   NaN   NaN   NaN   NaN   \n196211   NaN   NaN   NaN   NaN   NaN   NaN   NaN   NaN   NaN   NaN   NaN   \n202155   NaN   NaN   NaN   NaN   NaN   NaN   NaN   NaN   NaN   NaN   NaN   \n203641   NaN   NaN   NaN   NaN   NaN   NaN   NaN   NaN   NaN   NaN   NaN   \n203652   NaN   NaN   NaN   NaN   NaN   NaN   NaN   NaN   NaN   NaN   NaN   \n203653   NaN   NaN   NaN   NaN   NaN   NaN   NaN   NaN   NaN   NaN   NaN   \n203657   NaN   NaN   NaN   NaN   NaN   NaN   NaN   NaN   NaN   NaN   NaN   \n204012   NaN   NaN   NaN   NaN   NaN   NaN   NaN   NaN   NaN   NaN   NaN   \n204243   NaN   NaN   NaN   NaN   NaN   NaN   NaN   NaN   NaN   NaN   NaN   \n204330   NaN   NaN   NaN   NaN   NaN   NaN   NaN   NaN   NaN   NaN   NaN   \n204943   NaN   NaN   NaN   NaN   NaN   NaN   NaN   NaN   NaN   NaN   NaN   \n205816   NaN   NaN   NaN   NaN   NaN   NaN   NaN   NaN   NaN   NaN   NaN   \n208099   NaN   NaN   NaN   NaN   NaN   NaN   NaN   NaN   NaN   NaN   NaN   \n208111   NaN   NaN   NaN   NaN   NaN   NaN   NaN   NaN   NaN   NaN   NaN   \n211071   NaN   NaN   NaN   NaN   NaN   NaN   NaN   NaN   NaN   NaN   NaN   \n213246   NaN   NaN   NaN   NaN   NaN   NaN   NaN   NaN   NaN   NaN   NaN   \n216218   NaN   NaN   NaN   NaN   NaN   NaN   NaN   NaN   NaN   NaN   NaN   \n217015   NaN   NaN   NaN   NaN   NaN   NaN   NaN   NaN   NaN   NaN   NaN   \n217026   NaN   NaN   NaN   NaN   NaN   NaN   NaN   NaN   NaN   NaN   NaN   \n217027   NaN   NaN   NaN   NaN   NaN   NaN   NaN   NaN   NaN   NaN   NaN   \n217031   NaN   NaN   NaN   NaN   NaN   NaN   NaN   NaN   NaN   NaN   NaN   \n222959   NaN   NaN   NaN   NaN   NaN   NaN   NaN   NaN   NaN   NaN   NaN   \n225931   NaN   NaN   NaN   NaN   NaN   NaN   NaN   NaN   NaN   NaN   NaN   \n227417   NaN   NaN   NaN   NaN   NaN   NaN   NaN   NaN   NaN   NaN   NaN   \n228106   NaN   NaN   NaN   NaN   NaN   NaN   NaN   NaN   NaN   NaN   NaN   \n228903   NaN   NaN   NaN   NaN   NaN   NaN   NaN   NaN   NaN   NaN   NaN   \n234859   NaN   NaN   NaN   NaN   NaN   NaN   NaN   NaN   NaN   NaN   NaN   \n241480   NaN   NaN   NaN   NaN   NaN   NaN   NaN   NaN   NaN   NaN   NaN   \n242277   NaN   NaN   NaN   NaN   NaN   NaN   NaN   NaN   NaN   NaN   NaN   \n243763   NaN   NaN   NaN   NaN   NaN   NaN   NaN   NaN   NaN   NaN   NaN   \n243794   NaN   NaN   NaN   NaN   NaN   NaN   NaN   NaN   NaN   NaN   NaN   \n244452   NaN   NaN   NaN   NaN   NaN   NaN   NaN   NaN   NaN   NaN   NaN   \n245065   NaN   NaN   NaN   NaN   NaN   NaN   NaN   NaN   NaN   NaN   NaN   \n245090   NaN   NaN   NaN   NaN   NaN   NaN   NaN   NaN   NaN   NaN   NaN   \n245249   NaN   NaN   NaN   NaN   NaN   NaN   NaN   NaN   NaN   NaN   NaN   \n245280   NaN   NaN   NaN   NaN   NaN   NaN   NaN   NaN   NaN   NaN   NaN   \n246576   NaN   NaN   NaN   NaN   NaN   NaN   NaN   NaN   NaN   NaN   NaN   \n250396   NaN   NaN   NaN   NaN   NaN   NaN   NaN   NaN   NaN   NaN   NaN   \n252679   NaN   NaN   NaN   NaN   NaN   NaN   NaN   NaN   NaN   NaN   NaN   \n254165   NaN   NaN   NaN   NaN   NaN   NaN   NaN   NaN   NaN   NaN   NaN   \n255651   NaN   NaN   NaN   NaN   NaN   NaN   NaN   NaN   NaN   NaN   NaN   \n255652   NaN   NaN   NaN   NaN   NaN   NaN   NaN   NaN   NaN   NaN   NaN   \n255653   NaN   NaN   NaN   NaN   NaN   NaN   NaN   NaN   NaN   NaN   NaN   \n255663   NaN   NaN   NaN   NaN   NaN   NaN   NaN   NaN   NaN   NaN   NaN   \n255682   NaN   NaN   NaN   NaN   NaN   NaN   NaN   NaN   NaN   NaN   NaN   \n256022   NaN   NaN   NaN   NaN   NaN   NaN   NaN   NaN   NaN   NaN   NaN   \n256978   NaN   NaN   NaN   NaN   NaN   NaN   NaN   NaN   NaN   NaN   NaN   \n257826   NaN   NaN   NaN   NaN   NaN   NaN   NaN   NaN   NaN   NaN   NaN   \n260109   NaN   NaN   NaN   NaN   NaN   NaN   NaN   NaN   NaN   NaN   NaN   \n261595   NaN   NaN   NaN   NaN   NaN   NaN   NaN   NaN   NaN   NaN   NaN   \n261626   NaN   NaN   NaN   NaN   NaN   NaN   NaN   NaN   NaN   NaN   NaN   \n262197   NaN   NaN   NaN   NaN   NaN   NaN   NaN   NaN   NaN   NaN   NaN   \n262922   NaN   NaN   NaN   NaN   NaN   NaN   NaN   NaN   NaN   NaN   NaN   \n264567   NaN   NaN   NaN   NaN   NaN   NaN   NaN   NaN   NaN   NaN   NaN   \n265169   NaN   NaN   NaN   NaN   NaN   NaN   NaN   NaN   NaN   NaN   NaN   \n265256   NaN   NaN   NaN   NaN   NaN   NaN   NaN   NaN   NaN   NaN   NaN   \n267539   NaN   NaN   NaN   NaN   NaN   NaN   NaN   NaN   NaN   NaN   NaN   \n269025   NaN   NaN   NaN   NaN   NaN   NaN   NaN   NaN   NaN   NaN   NaN   \n270511   NaN   NaN   NaN   NaN   NaN   NaN   NaN   NaN   NaN   NaN   NaN   \n271997   NaN   NaN   NaN   NaN   NaN   NaN   NaN   NaN   NaN   NaN   NaN   \n271998   NaN   NaN   NaN   NaN   NaN   NaN   NaN   NaN   NaN   NaN   NaN   \n271999   NaN   NaN   NaN   NaN   NaN   NaN   NaN   NaN   NaN   NaN   NaN   \n272008   NaN   NaN   NaN   NaN   NaN   NaN   NaN   NaN   NaN   NaN   NaN   \n272009   NaN   NaN   NaN   NaN   NaN   NaN   NaN   NaN   NaN   NaN   NaN   \n272013   NaN   NaN   NaN   NaN   NaN   NaN   NaN   NaN   NaN   NaN   NaN   \n272028   NaN   NaN   NaN   NaN   NaN   NaN   NaN   NaN   NaN   NaN   NaN   \n272368   NaN   NaN   NaN   NaN   NaN   NaN   NaN   NaN   NaN   NaN   NaN   \n272599   NaN   NaN   NaN   NaN   NaN   NaN   NaN   NaN   NaN   NaN   NaN   \n273324   NaN   NaN   NaN   NaN   NaN   NaN   NaN   NaN   NaN   NaN   NaN   \n273483   NaN   NaN   NaN   NaN   NaN   NaN   NaN   NaN   NaN   NaN   NaN   \n280116   NaN   NaN   NaN   NaN   NaN   NaN   NaN   NaN   NaN   NaN   NaN   \n283088   NaN   NaN   NaN   NaN   NaN   NaN   NaN   NaN   NaN   NaN   NaN   \n283885   NaN   NaN   NaN   NaN   NaN   NaN   NaN   NaN   NaN   NaN   NaN   \n285371   NaN   NaN   NaN   NaN   NaN   NaN   NaN   NaN   NaN   NaN   NaN   \n288343   NaN   NaN   NaN   NaN   NaN   NaN   NaN   NaN   NaN   NaN   NaN   \n289829   NaN   NaN   NaN   NaN   NaN   NaN   NaN   NaN   NaN   NaN   NaN   \n295773   NaN   NaN   NaN   NaN   NaN   NaN   NaN   NaN   NaN   NaN   NaN   \n297259   NaN   NaN   NaN   NaN   NaN   NaN   NaN   NaN   NaN   NaN   NaN   \n297630   NaN   NaN   NaN   NaN   NaN   NaN   NaN   NaN   NaN   NaN   NaN   \n298745   NaN   NaN   NaN   NaN   NaN   NaN   NaN   NaN   NaN   NaN   NaN   \n298757   NaN   NaN   NaN   NaN   NaN   NaN   NaN   NaN   NaN   NaN   NaN   \n299116   NaN   NaN   NaN   NaN   NaN   NaN   NaN   NaN   NaN   NaN   NaN   \n300920   NaN   NaN   NaN   NaN   NaN   NaN   NaN   NaN   NaN   NaN   NaN   \n309836   NaN   NaN   NaN   NaN   NaN   NaN   NaN   NaN   NaN   NaN   NaN   \n310633   NaN   NaN   NaN   NaN   NaN   NaN   NaN   NaN   NaN   NaN   NaN   \n313605   NaN   NaN   NaN   NaN   NaN   NaN   NaN   NaN   NaN   NaN   NaN   \n315091   NaN   NaN   NaN   NaN   NaN   NaN   NaN   NaN   NaN   NaN   NaN   \n315102   NaN   NaN   NaN   NaN   NaN   NaN   NaN   NaN   NaN   NaN   NaN   \n315103   NaN   NaN   NaN   NaN   NaN   NaN   NaN   NaN   NaN   NaN   NaN   \n315107   NaN   NaN   NaN   NaN   NaN   NaN   NaN   NaN   NaN   NaN   NaN   \n317266   NaN   NaN   NaN   NaN   NaN   NaN   NaN   NaN   NaN   NaN   NaN   \n318063   NaN   NaN   NaN   NaN   NaN   NaN   NaN   NaN   NaN   NaN   NaN   \n319549   NaN   NaN   NaN   NaN   NaN   NaN   NaN   NaN   NaN   NaN   NaN   \n320238   NaN   NaN   NaN   NaN   NaN   NaN   NaN   NaN   NaN   NaN   NaN   \n321035   NaN   NaN   NaN   NaN   NaN   NaN   NaN   NaN   NaN   NaN   NaN   \n321724   NaN   NaN   NaN   NaN   NaN   NaN   NaN   NaN   NaN   NaN   NaN   \n322521   NaN   NaN   NaN   NaN   NaN   NaN   NaN   NaN   NaN   NaN   NaN   \n324007   NaN   NaN   NaN   NaN   NaN   NaN   NaN   NaN   NaN   NaN   NaN   \n324696   NaN   NaN   NaN   NaN   NaN   NaN   NaN   NaN   NaN   NaN   NaN   \n325493   NaN   NaN   NaN   NaN   NaN   NaN   NaN   NaN   NaN   NaN   NaN   \n326979   NaN   NaN   NaN   NaN   NaN   NaN   NaN   NaN   NaN   NaN   NaN   \n328465   NaN   NaN   NaN   NaN   NaN   NaN   NaN   NaN   NaN   NaN   NaN   \n329951   NaN   NaN   NaN   NaN   NaN   NaN   NaN   NaN   NaN   NaN   NaN   \n331437   NaN   NaN   NaN   NaN   NaN   NaN   NaN   NaN   NaN   NaN   NaN   \n332923   NaN   NaN   NaN   NaN   NaN   NaN   NaN   NaN   NaN   NaN   NaN   \n334409   NaN   NaN   NaN   NaN   NaN   NaN   NaN   NaN   NaN   NaN   NaN   \n335895   NaN   NaN   NaN   NaN   NaN   NaN   NaN   NaN   NaN   NaN   NaN   \n337381   NaN   NaN   NaN   NaN   NaN   NaN   NaN   NaN   NaN   NaN   NaN   \n338867   NaN   NaN   NaN   NaN   NaN   NaN   NaN   NaN   NaN   NaN   NaN   \n340353   NaN   NaN   NaN   NaN   NaN   NaN   NaN   NaN   NaN   NaN   NaN   \n341839   NaN   NaN   NaN   NaN   NaN   NaN   NaN   NaN   NaN   NaN   NaN   \n343325   NaN   NaN   NaN   NaN   NaN   NaN   NaN   NaN   NaN   NaN   NaN   \n344014   NaN   NaN   NaN   NaN   NaN   NaN   NaN   NaN   NaN   NaN   NaN   \n344811   NaN   NaN   NaN   NaN   NaN   NaN   NaN   NaN   NaN   NaN   NaN   \n345500   NaN   NaN   NaN   NaN   NaN   NaN   NaN   NaN   NaN   NaN   NaN   \n346297   NaN   NaN   NaN   NaN   NaN   NaN   NaN   NaN   NaN   NaN   NaN   \n347783   NaN   NaN   NaN   NaN   NaN   NaN   NaN   NaN   NaN   NaN   NaN   \n349269   NaN   NaN   NaN   NaN   NaN   NaN   NaN   NaN   NaN   NaN   NaN   \n350755   NaN   NaN   NaN   NaN   NaN   NaN   NaN   NaN   NaN   NaN   NaN   \n351357   NaN   NaN   NaN   NaN   NaN   NaN   NaN   NaN   NaN   NaN   NaN   \n352241   NaN   NaN   NaN   NaN   NaN   NaN   NaN   NaN   NaN   NaN   NaN   \n352930   NaN   NaN   NaN   NaN   NaN   NaN   NaN   NaN   NaN   NaN   NaN   \n353727   NaN   NaN   NaN   NaN   NaN   NaN   NaN   NaN   NaN   NaN   NaN   \n354416   NaN   NaN   NaN   NaN   NaN   NaN   NaN   NaN   NaN   NaN   NaN   \n355213   NaN   NaN   NaN   NaN   NaN   NaN   NaN   NaN   NaN   NaN   NaN   \n356699   NaN   NaN   NaN   NaN   NaN   NaN   NaN   NaN   NaN   NaN   NaN   \n358185   NaN   NaN   NaN   NaN   NaN   NaN   NaN   NaN   NaN   NaN   NaN   \n359671   NaN   NaN   NaN   NaN   NaN   NaN   NaN   NaN   NaN   NaN   NaN   \n361157   NaN   NaN   NaN   NaN   NaN   NaN   NaN   NaN   NaN   NaN   NaN   \n361846   NaN   NaN   NaN   NaN   NaN   NaN   NaN   NaN   NaN   NaN   NaN   \n362643   NaN   NaN   NaN   NaN   NaN   NaN   NaN   NaN   NaN   NaN   NaN   \n364129   NaN   NaN   NaN   NaN   NaN   NaN   NaN   NaN   NaN   NaN   NaN   \n364818   NaN   NaN   NaN   NaN   NaN   NaN   NaN   NaN   NaN   NaN   NaN   \n365615   NaN   NaN   NaN   NaN   NaN   NaN   NaN   NaN   NaN   NaN   NaN   \n367101   NaN   NaN   NaN   NaN   NaN   NaN   NaN   NaN   NaN   NaN   NaN   \n368587   NaN   NaN   NaN   NaN   NaN   NaN   NaN   NaN   NaN   NaN   NaN   \n370073   NaN   NaN   NaN   NaN   NaN   NaN   NaN   NaN   NaN   NaN   NaN   \n371559   NaN   NaN   NaN   NaN   NaN   NaN   NaN   NaN   NaN   NaN   NaN   \n373045   NaN   NaN   NaN   NaN   NaN   NaN   NaN   NaN   NaN   NaN   NaN   \n374531   NaN   NaN   NaN   NaN   NaN   NaN   NaN   NaN   NaN   NaN   NaN   \n374532   NaN   NaN   NaN   NaN   NaN   NaN   NaN   NaN   NaN   NaN   NaN   \n374533   NaN   NaN   NaN   NaN   NaN   NaN   NaN   NaN   NaN   NaN   NaN   \n374542   NaN   NaN   NaN   NaN   NaN   NaN   NaN   NaN   NaN   NaN   NaN   \n374543   NaN   NaN   NaN   NaN   NaN   NaN   NaN   NaN   NaN   NaN   NaN   \n374547   NaN   NaN   NaN   NaN   NaN   NaN   NaN   NaN   NaN   NaN   NaN   \n374562   NaN   NaN   NaN   NaN   NaN   NaN   NaN   NaN   NaN   NaN   NaN   \n374606   NaN   NaN   NaN   NaN   NaN   NaN   NaN   NaN   NaN   NaN   NaN   \n374902   NaN   NaN   NaN   NaN   NaN   NaN   NaN   NaN   NaN   NaN   NaN   \n374924   NaN   NaN   NaN   NaN   NaN   NaN   NaN   NaN   NaN   NaN   NaN   \n374938   NaN   NaN   NaN   NaN   NaN   NaN   NaN   NaN   NaN   NaN   NaN   \n374939   NaN   NaN   NaN   NaN   NaN   NaN   NaN   NaN   NaN   NaN   NaN   \n375133   NaN   NaN   NaN   NaN   NaN   NaN   NaN   NaN   NaN   NaN   NaN   \n375220   NaN   NaN   NaN   NaN   NaN   NaN   NaN   NaN   NaN   NaN   NaN   \n375539   NaN   NaN   NaN   NaN   NaN   NaN   NaN   NaN   NaN   NaN   NaN   \n375551   NaN   NaN   NaN   NaN   NaN   NaN   NaN   NaN   NaN   NaN   NaN   \n375833   NaN   NaN   NaN   NaN   NaN   NaN   NaN   NaN   NaN   NaN   NaN   \n375858   NaN   NaN   NaN   NaN   NaN   NaN   NaN   NaN   NaN   NaN   NaN   \n376017   NaN   NaN   NaN   NaN   NaN   NaN   NaN   NaN   NaN   NaN   NaN   \n377503   NaN   NaN   NaN   NaN   NaN   NaN   NaN   NaN   NaN   NaN   NaN   \n378989   NaN   NaN   NaN   NaN   NaN   NaN   NaN   NaN   NaN   NaN   NaN   \n380475   NaN   NaN   NaN   NaN   NaN   NaN   NaN   NaN   NaN   NaN   NaN   \n381961   NaN   NaN   NaN   NaN   NaN   NaN   NaN   NaN   NaN   NaN   NaN   \n382650   NaN   NaN   NaN   NaN   NaN   NaN   NaN   NaN   NaN   NaN   NaN   \n383447   NaN   NaN   NaN   NaN   NaN   NaN   NaN   NaN   NaN   NaN   NaN   \n384933   NaN   NaN   NaN   NaN   NaN   NaN   NaN   NaN   NaN   NaN   NaN   \n386419   NaN   NaN   NaN   NaN   NaN   NaN   NaN   NaN   NaN   NaN   NaN   \n387905   NaN   NaN   NaN   NaN   NaN   NaN   NaN   NaN   NaN   NaN   NaN   \n388594   NaN   NaN   NaN   NaN   NaN   NaN   NaN   NaN   NaN   NaN   NaN   \n389391   NaN   NaN   NaN   NaN   NaN   NaN   NaN   NaN   NaN   NaN   NaN   \n390080   NaN   NaN   NaN   NaN   NaN   NaN   NaN   NaN   NaN   NaN   NaN   \n390877   NaN   NaN   NaN   NaN   NaN   NaN   NaN   NaN   NaN   NaN   NaN   \n391566   NaN   NaN   NaN   NaN   NaN   NaN   NaN   NaN   NaN   NaN   NaN   \n392363   NaN   NaN   NaN   NaN   NaN   NaN   NaN   NaN   NaN   NaN   NaN   \n393849   NaN   NaN   NaN   NaN   NaN   NaN   NaN   NaN   NaN   NaN   NaN   \n\n        2002  2003  2004  2005  2006  2007  2008  2009  2010  2011  2012  \\\n661      NaN   NaN   NaN   NaN   NaN   NaN   NaN   NaN   NaN   NaN   NaN   \n748      NaN   NaN   NaN   NaN   NaN   NaN   NaN   NaN   NaN   NaN   NaN   \n4517     NaN   NaN   NaN   NaN   NaN   NaN   NaN   NaN   NaN   NaN   NaN   \n4528     NaN   NaN   NaN   NaN   NaN   NaN   NaN   NaN   NaN   NaN   NaN   \n4529     NaN   NaN   NaN   NaN   NaN   NaN   NaN   NaN   NaN   NaN   NaN   \n4533     NaN   NaN   NaN   NaN   NaN   NaN   NaN   NaN   NaN   NaN   NaN   \n6003     NaN   NaN   NaN   NaN   NaN   NaN   NaN   NaN   NaN   NaN   NaN   \n6034     NaN   NaN   NaN   NaN   NaN   NaN   NaN   NaN   NaN   NaN   NaN   \n6374     NaN   NaN   NaN   NaN   NaN   NaN   NaN   NaN   NaN   NaN   NaN   \n6692     NaN   NaN   NaN   NaN   NaN   NaN   NaN   NaN   NaN   NaN   NaN   \n7330     NaN   NaN   NaN   NaN   NaN   NaN   NaN   NaN   NaN   NaN   NaN   \n7489     NaN   NaN   NaN   NaN   NaN   NaN   NaN   NaN   NaN   NaN   NaN   \n8975     NaN   NaN   NaN   NaN   NaN   NaN   NaN   NaN   NaN   NaN   NaN   \n12636    NaN   NaN   NaN   NaN   NaN   NaN   NaN   NaN   NaN   NaN   NaN   \n13433    NaN   NaN   NaN   NaN   NaN   NaN   NaN   NaN   NaN   NaN   NaN   \n13445    NaN   NaN   NaN   NaN   NaN   NaN   NaN   NaN   NaN   NaN   NaN   \n17094    NaN   NaN   NaN   NaN   NaN   NaN   NaN   NaN   NaN   NaN   NaN   \n19377    NaN   NaN   NaN   NaN   NaN   NaN   NaN   NaN   NaN   NaN   NaN   \n23835    NaN   NaN   NaN   NaN   NaN   NaN   NaN   NaN   NaN   NaN   NaN   \n26010    NaN   NaN   NaN   NaN   NaN   NaN   NaN   NaN   NaN   NaN   NaN   \n28293    NaN   NaN   NaN   NaN   NaN   NaN   NaN   NaN   NaN   NaN   NaN   \n31265    NaN   NaN   NaN   NaN   NaN   NaN   NaN   NaN   NaN   NaN   NaN   \n31296    NaN   NaN   NaN   NaN   NaN   NaN   NaN   NaN   NaN   NaN   NaN   \n32592    NaN   NaN   NaN   NaN   NaN   NaN   NaN   NaN   NaN   NaN   NaN   \n32751    NaN   NaN   NaN   NaN   NaN   NaN   NaN   NaN   NaN   NaN   NaN   \n33440    NaN   NaN   NaN   NaN   NaN   NaN   NaN   NaN   NaN   NaN   NaN   \n34926    NaN   NaN   NaN   NaN   NaN   NaN   NaN   NaN   NaN   NaN   NaN   \n35723    NaN   NaN   NaN   NaN   NaN   NaN   NaN   NaN   NaN   NaN   NaN   \n37898    NaN   NaN   NaN   NaN   NaN   NaN   NaN   NaN   NaN   NaN   NaN   \n40181    NaN   NaN   NaN   NaN   NaN   NaN   NaN   NaN   NaN   NaN   NaN   \n40192    NaN   NaN   NaN   NaN   NaN   NaN   NaN   NaN   NaN   NaN   NaN   \n40193    NaN   NaN   NaN   NaN   NaN   NaN   NaN   NaN   NaN   NaN   NaN   \n40197    NaN   NaN   NaN   NaN   NaN   NaN   NaN   NaN   NaN   NaN   NaN   \n40552    NaN   NaN   NaN   NaN   NaN   NaN   NaN   NaN   NaN   NaN   NaN   \n44639    NaN   NaN   NaN   NaN   NaN   NaN   NaN   NaN   NaN   NaN   NaN   \n45328    NaN   NaN   NaN   NaN   NaN   NaN   NaN   NaN   NaN   NaN   NaN   \n46125    NaN   NaN   NaN   NaN   NaN   NaN   NaN   NaN   NaN   NaN   NaN   \n46814    NaN   NaN   NaN   NaN   NaN   NaN   NaN   NaN   NaN   NaN   NaN   \n47611    NaN   NaN   NaN   NaN   NaN   NaN   NaN   NaN   NaN   NaN   NaN   \n49097    NaN   NaN   NaN   NaN   NaN   NaN   NaN   NaN   NaN   NaN   NaN   \n50583    NaN   NaN   NaN   NaN   NaN   NaN   NaN   NaN   NaN   NaN   NaN   \n53555    NaN   NaN   NaN   NaN   NaN   NaN   NaN   NaN   NaN   NaN   NaN   \n55041    NaN   NaN   NaN   NaN   NaN   NaN   NaN   NaN   NaN   NaN   NaN   \n55730    NaN   NaN   NaN   NaN   NaN   NaN   NaN   NaN   NaN   NaN   NaN   \n56527    NaN   NaN   NaN   NaN   NaN   NaN   NaN   NaN   NaN   NaN   NaN   \n57216    NaN   NaN   NaN   NaN   NaN   NaN   NaN   NaN   NaN   NaN   NaN   \n58384    NaN   NaN   NaN   NaN   NaN   NaN   NaN   NaN   NaN   NaN   NaN   \n58406    NaN   NaN   NaN   NaN   NaN   NaN   NaN   NaN   NaN   NaN   NaN   \n58615    NaN   NaN   NaN   NaN   NaN   NaN   NaN   NaN   NaN   NaN   NaN   \n58702    NaN   NaN   NaN   NaN   NaN   NaN   NaN   NaN   NaN   NaN   NaN   \n59315    NaN   NaN   NaN   NaN   NaN   NaN   NaN   NaN   NaN   NaN   NaN   \n60985    NaN   NaN   NaN   NaN   NaN   NaN   NaN   NaN   NaN   NaN   NaN   \n63957    NaN   NaN   NaN   NaN   NaN   NaN   NaN   NaN   NaN   NaN   NaN   \n63988    NaN   NaN   NaN   NaN   NaN   NaN   NaN   NaN   NaN   NaN   NaN   \n65284    NaN   NaN   NaN   NaN   NaN   NaN   NaN   NaN   NaN   NaN   NaN   \n65443    NaN   NaN   NaN   NaN   NaN   NaN   NaN   NaN   NaN   NaN   NaN   \n66929    NaN   NaN   NaN   NaN   NaN   NaN   NaN   NaN   NaN   NaN   NaN   \n68415    NaN   NaN   NaN   NaN   NaN   NaN   NaN   NaN   NaN   NaN   NaN   \n69901    NaN   NaN   NaN   NaN   NaN   NaN   NaN   NaN   NaN   NaN   NaN   \n72873    NaN   NaN   NaN   NaN   NaN   NaN   NaN   NaN   NaN   NaN   NaN   \n74359    NaN   NaN   NaN   NaN   NaN   NaN   NaN   NaN   NaN   NaN   NaN   \n74360    NaN   NaN   NaN   NaN   NaN   NaN   NaN   NaN   NaN   NaN   NaN   \n74361    NaN   NaN   NaN   NaN   NaN   NaN   NaN   NaN   NaN   NaN   NaN   \n74371    NaN   NaN   NaN   NaN   NaN   NaN   NaN   NaN   NaN   NaN   NaN   \n74730    NaN   NaN   NaN   NaN   NaN   NaN   NaN   NaN   NaN   NaN   NaN   \n78020    NaN   NaN   NaN   NaN   NaN   NaN   NaN   NaN   NaN   NaN   NaN   \n80303    NaN   NaN   NaN   NaN   NaN   NaN   NaN   NaN   NaN   NaN   NaN   \n80334    NaN   NaN   NaN   NaN   NaN   NaN   NaN   NaN   NaN   NaN   NaN   \n81630    NaN   NaN   NaN   NaN   NaN   NaN   NaN   NaN   NaN   NaN   NaN   \n81789    NaN   NaN   NaN   NaN   NaN   NaN   NaN   NaN   NaN   NaN   NaN   \n86247    NaN   NaN   NaN   NaN   NaN   NaN   NaN   NaN   NaN   NaN   NaN   \n89219    NaN   NaN   NaN   NaN   NaN   NaN   NaN   NaN   NaN   NaN   NaN   \n89821    NaN   NaN   NaN   NaN   NaN   NaN   NaN   NaN   NaN   NaN   NaN   \n90705    NaN   NaN   NaN   NaN   NaN   NaN   NaN   NaN   NaN   NaN   NaN   \n94366    NaN   NaN   NaN   NaN   NaN   NaN   NaN   NaN   NaN   NaN   NaN   \n95852    NaN   NaN   NaN   NaN   NaN   NaN   NaN   NaN   NaN   NaN   NaN   \n96649    NaN   NaN   NaN   NaN   NaN   NaN   NaN   NaN   NaN   NaN   NaN   \n96661    NaN   NaN   NaN   NaN   NaN   NaN   NaN   NaN   NaN   NaN   NaN   \n97251    NaN   NaN   NaN   NaN   NaN   NaN   NaN   NaN   NaN   NaN   NaN   \n98135    NaN   NaN   NaN   NaN   NaN   NaN   NaN   NaN   NaN   NaN   NaN   \n102593   NaN   NaN   NaN   NaN   NaN   NaN   NaN   NaN   NaN   NaN   NaN   \n102605   NaN   NaN   NaN   NaN   NaN   NaN   NaN   NaN   NaN   NaN   NaN   \n104079   NaN   NaN   NaN   NaN   NaN   NaN   NaN   NaN   NaN   NaN   NaN   \n105565   NaN   NaN   NaN   NaN   NaN   NaN   NaN   NaN   NaN   NaN   NaN   \n111509   NaN   NaN   NaN   NaN   NaN   NaN   NaN   NaN   NaN   NaN   NaN   \n111510   NaN   NaN   NaN   NaN   NaN   NaN   NaN   NaN   NaN   NaN   NaN   \n111511   NaN   NaN   NaN   NaN   NaN   NaN   NaN   NaN   NaN   NaN   NaN   \n111520   NaN   NaN   NaN   NaN   NaN   NaN   NaN   NaN   NaN   NaN   NaN   \n111521   NaN   NaN   NaN   NaN   NaN   NaN   NaN   NaN   NaN   NaN   NaN   \n111525   NaN   NaN   NaN   NaN   NaN   NaN   NaN   NaN   NaN   NaN   NaN   \n111540   NaN   NaN   NaN   NaN   NaN   NaN   NaN   NaN   NaN   NaN   NaN   \n111880   NaN   NaN   NaN   NaN   NaN   NaN   NaN   NaN   NaN   NaN   NaN   \n112111   NaN   NaN   NaN   NaN   NaN   NaN   NaN   NaN   NaN   NaN   NaN   \n112836   NaN   NaN   NaN   NaN   NaN   NaN   NaN   NaN   NaN   NaN   NaN   \n114481   NaN   NaN   NaN   NaN   NaN   NaN   NaN   NaN   NaN   NaN   NaN   \n114512   NaN   NaN   NaN   NaN   NaN   NaN   NaN   NaN   NaN   NaN   NaN   \n114852   NaN   NaN   NaN   NaN   NaN   NaN   NaN   NaN   NaN   NaN   NaN   \n115083   NaN   NaN   NaN   NaN   NaN   NaN   NaN   NaN   NaN   NaN   NaN   \n115808   NaN   NaN   NaN   NaN   NaN   NaN   NaN   NaN   NaN   NaN   NaN   \n117453   NaN   NaN   NaN   NaN   NaN   NaN   NaN   NaN   NaN   NaN   NaN   \n117464   NaN   NaN   NaN   NaN   NaN   NaN   NaN   NaN   NaN   NaN   NaN   \n117465   NaN   NaN   NaN   NaN   NaN   NaN   NaN   NaN   NaN   NaN   NaN   \n117469   NaN   NaN   NaN   NaN   NaN   NaN   NaN   NaN   NaN   NaN   NaN   \n117824   NaN   NaN   NaN   NaN   NaN   NaN   NaN   NaN   NaN   NaN   NaN   \n121911   NaN   NaN   NaN   NaN   NaN   NaN   NaN   NaN   NaN   NaN   NaN   \n127855   NaN   NaN   NaN   NaN   NaN   NaN   NaN   NaN   NaN   NaN   NaN   \n128262   NaN   NaN   NaN   NaN   NaN   NaN   NaN   NaN   NaN   NaN   NaN   \n128263   NaN   NaN   NaN   NaN   NaN   NaN   NaN   NaN   NaN   NaN   NaN   \n130030   NaN   NaN   NaN   NaN   NaN   NaN   NaN   NaN   NaN   NaN   NaN   \n133799   NaN   NaN   NaN   NaN   NaN   NaN   NaN   NaN   NaN   NaN   NaN   \n136771   NaN   NaN   NaN   NaN   NaN   NaN   NaN   NaN   NaN   NaN   NaN   \n138257   NaN   NaN   NaN   NaN   NaN   NaN   NaN   NaN   NaN   NaN   NaN   \n139743   NaN   NaN   NaN   NaN   NaN   NaN   NaN   NaN   NaN   NaN   NaN   \n139774   NaN   NaN   NaN   NaN   NaN   NaN   NaN   NaN   NaN   NaN   NaN   \n140114   NaN   NaN   NaN   NaN   NaN   NaN   NaN   NaN   NaN   NaN   NaN   \n140345   NaN   NaN   NaN   NaN   NaN   NaN   NaN   NaN   NaN   NaN   NaN   \n141070   NaN   NaN   NaN   NaN   NaN   NaN   NaN   NaN   NaN   NaN   NaN   \n150145   NaN   NaN   NaN   NaN   NaN   NaN   NaN   NaN   NaN   NaN   NaN   \n151631   NaN   NaN   NaN   NaN   NaN   NaN   NaN   NaN   NaN   NaN   NaN   \n153117   NaN   NaN   NaN   NaN   NaN   NaN   NaN   NaN   NaN   NaN   NaN   \n153128   NaN   NaN   NaN   NaN   NaN   NaN   NaN   NaN   NaN   NaN   NaN   \n153129   NaN   NaN   NaN   NaN   NaN   NaN   NaN   NaN   NaN   NaN   NaN   \n153133   NaN   NaN   NaN   NaN   NaN   NaN   NaN   NaN   NaN   NaN   NaN   \n153719   NaN   NaN   NaN   NaN   NaN   NaN   NaN   NaN   NaN   NaN   NaN   \n154603   NaN   NaN   NaN   NaN   NaN   NaN   NaN   NaN   NaN   NaN   NaN   \n156089   NaN   NaN   NaN   NaN   NaN   NaN   NaN   NaN   NaN   NaN   NaN   \n156090   NaN   NaN   NaN   NaN   NaN   NaN   NaN   NaN   NaN   NaN   NaN   \n156091   NaN   NaN   NaN   NaN   NaN   NaN   NaN   NaN   NaN   NaN   NaN   \n156120   NaN   NaN   NaN   NaN   NaN   NaN   NaN   NaN   NaN   NaN   NaN   \n156164   NaN   NaN   NaN   NaN   NaN   NaN   NaN   NaN   NaN   NaN   NaN   \n156460   NaN   NaN   NaN   NaN   NaN   NaN   NaN   NaN   NaN   NaN   NaN   \n156482   NaN   NaN   NaN   NaN   NaN   NaN   NaN   NaN   NaN   NaN   NaN   \n156496   NaN   NaN   NaN   NaN   NaN   NaN   NaN   NaN   NaN   NaN   NaN   \n156497   NaN   NaN   NaN   NaN   NaN   NaN   NaN   NaN   NaN   NaN   NaN   \n156691   NaN   NaN   NaN   NaN   NaN   NaN   NaN   NaN   NaN   NaN   NaN   \n156778   NaN   NaN   NaN   NaN   NaN   NaN   NaN   NaN   NaN   NaN   NaN   \n157097   NaN   NaN   NaN   NaN   NaN   NaN   NaN   NaN   NaN   NaN   NaN   \n157391   NaN   NaN   NaN   NaN   NaN   NaN   NaN   NaN   NaN   NaN   NaN   \n157416   NaN   NaN   NaN   NaN   NaN   NaN   NaN   NaN   NaN   NaN   NaN   \n157575   NaN   NaN   NaN   NaN   NaN   NaN   NaN   NaN   NaN   NaN   NaN   \n159750   NaN   NaN   NaN   NaN   NaN   NaN   NaN   NaN   NaN   NaN   NaN   \n161236   NaN   NaN   NaN   NaN   NaN   NaN   NaN   NaN   NaN   NaN   NaN   \n163519   NaN   NaN   NaN   NaN   NaN   NaN   NaN   NaN   NaN   NaN   NaN   \n165694   NaN   NaN   NaN   NaN   NaN   NaN   NaN   NaN   NaN   NaN   NaN   \n166491   NaN   NaN   NaN   NaN   NaN   NaN   NaN   NaN   NaN   NaN   NaN   \n167093   NaN   NaN   NaN   NaN   NaN   NaN   NaN   NaN   NaN   NaN   NaN   \n167977   NaN   NaN   NaN   NaN   NaN   NaN   NaN   NaN   NaN   NaN   NaN   \n169463   NaN   NaN   NaN   NaN   NaN   NaN   NaN   NaN   NaN   NaN   NaN   \n169475   NaN   NaN   NaN   NaN   NaN   NaN   NaN   NaN   NaN   NaN   NaN   \n169494   NaN   NaN   NaN   NaN   NaN   NaN   NaN   NaN   NaN   NaN   NaN   \n169834   NaN   NaN   NaN   NaN   NaN   NaN   NaN   NaN   NaN   NaN   NaN   \n170152   NaN   NaN   NaN   NaN   NaN   NaN   NaN   NaN   NaN   NaN   NaN   \n170790   NaN   NaN   NaN   NaN   NaN   NaN   NaN   NaN   NaN   NaN   NaN   \n172435   NaN   NaN   NaN   NaN   NaN   NaN   NaN   NaN   NaN   NaN   NaN   \n172466   NaN   NaN   NaN   NaN   NaN   NaN   NaN   NaN   NaN   NaN   NaN   \n173124   NaN   NaN   NaN   NaN   NaN   NaN   NaN   NaN   NaN   NaN   NaN   \n173762   NaN   NaN   NaN   NaN   NaN   NaN   NaN   NaN   NaN   NaN   NaN   \n173921   NaN   NaN   NaN   NaN   NaN   NaN   NaN   NaN   NaN   NaN   NaN   \n173922   NaN   NaN   NaN   NaN   NaN   NaN   NaN   NaN   NaN   NaN   NaN   \n173923   NaN   NaN   NaN   NaN   NaN   NaN   NaN   NaN   NaN   NaN   NaN   \n173932   NaN   NaN   NaN   NaN   NaN   NaN   NaN   NaN   NaN   NaN   NaN   \n173933   NaN   NaN   NaN   NaN   NaN   NaN   NaN   NaN   NaN   NaN   NaN   \n173937   NaN   NaN   NaN   NaN   NaN   NaN   NaN   NaN   NaN   NaN   NaN   \n173952   NaN   NaN   NaN   NaN   NaN   NaN   NaN   NaN   NaN   NaN   NaN   \n174292   NaN   NaN   NaN   NaN   NaN   NaN   NaN   NaN   NaN   NaN   NaN   \n174328   NaN   NaN   NaN   NaN   NaN   NaN   NaN   NaN   NaN   NaN   NaN   \n174329   NaN   NaN   NaN   NaN   NaN   NaN   NaN   NaN   NaN   NaN   NaN   \n174610   NaN   NaN   NaN   NaN   NaN   NaN   NaN   NaN   NaN   NaN   NaN   \n175223   NaN   NaN   NaN   NaN   NaN   NaN   NaN   NaN   NaN   NaN   NaN   \n175248   NaN   NaN   NaN   NaN   NaN   NaN   NaN   NaN   NaN   NaN   NaN   \n177582   NaN   NaN   NaN   NaN   NaN   NaN   NaN   NaN   NaN   NaN   NaN   \n179865   NaN   NaN   NaN   NaN   NaN   NaN   NaN   NaN   NaN   NaN   NaN   \n179896   NaN   NaN   NaN   NaN   NaN   NaN   NaN   NaN   NaN   NaN   NaN   \n181192   NaN   NaN   NaN   NaN   NaN   NaN   NaN   NaN   NaN   NaN   NaN   \n181351   NaN   NaN   NaN   NaN   NaN   NaN   NaN   NaN   NaN   NaN   NaN   \n182040   NaN   NaN   NaN   NaN   NaN   NaN   NaN   NaN   NaN   NaN   NaN   \n184323   NaN   NaN   NaN   NaN   NaN   NaN   NaN   NaN   NaN   NaN   NaN   \n185840   NaN   NaN   NaN   NaN   NaN   NaN   NaN   NaN   NaN   NaN   NaN   \n187136   NaN   NaN   NaN   NaN   NaN   NaN   NaN   NaN   NaN   NaN   NaN   \n190267   NaN   NaN   NaN   NaN   NaN   NaN   NaN   NaN   NaN   NaN   NaN   \n192442   NaN   NaN   NaN   NaN   NaN   NaN   NaN   NaN   NaN   NaN   NaN   \n193239   NaN   NaN   NaN   NaN   NaN   NaN   NaN   NaN   NaN   NaN   NaN   \n193240   NaN   NaN   NaN   NaN   NaN   NaN   NaN   NaN   NaN   NaN   NaN   \n193241   NaN   NaN   NaN   NaN   NaN   NaN   NaN   NaN   NaN   NaN   NaN   \n193250   NaN   NaN   NaN   NaN   NaN   NaN   NaN   NaN   NaN   NaN   NaN   \n193251   NaN   NaN   NaN   NaN   NaN   NaN   NaN   NaN   NaN   NaN   NaN   \n193255   NaN   NaN   NaN   NaN   NaN   NaN   NaN   NaN   NaN   NaN   NaN   \n193270   NaN   NaN   NaN   NaN   NaN   NaN   NaN   NaN   NaN   NaN   NaN   \n193610   NaN   NaN   NaN   NaN   NaN   NaN   NaN   NaN   NaN   NaN   NaN   \n194566   NaN   NaN   NaN   NaN   NaN   NaN   NaN   NaN   NaN   NaN   NaN   \n194756   NaN   NaN   NaN   NaN   NaN   NaN   NaN   NaN   NaN   NaN   NaN   \n195414   NaN   NaN   NaN   NaN   NaN   NaN   NaN   NaN   NaN   NaN   NaN   \n196052   NaN   NaN   NaN   NaN   NaN   NaN   NaN   NaN   NaN   NaN   NaN   \n196211   NaN   NaN   NaN   NaN   NaN   NaN   NaN   NaN   NaN   NaN   NaN   \n202155   NaN   NaN   NaN   NaN   NaN   NaN   NaN   NaN   NaN   NaN   NaN   \n203641   NaN   NaN   NaN   NaN   NaN   NaN   NaN   NaN   NaN   NaN   NaN   \n203652   NaN   NaN   NaN   NaN   NaN   NaN   NaN   NaN   NaN   NaN   NaN   \n203653   NaN   NaN   NaN   NaN   NaN   NaN   NaN   NaN   NaN   NaN   NaN   \n203657   NaN   NaN   NaN   NaN   NaN   NaN   NaN   NaN   NaN   NaN   NaN   \n204012   NaN   NaN   NaN   NaN   NaN   NaN   NaN   NaN   NaN   NaN   NaN   \n204243   NaN   NaN   NaN   NaN   NaN   NaN   NaN   NaN   NaN   NaN   NaN   \n204330   NaN   NaN   NaN   NaN   NaN   NaN   NaN   NaN   NaN   NaN   NaN   \n204943   NaN   NaN   NaN   NaN   NaN   NaN   NaN   NaN   NaN   NaN   NaN   \n205816   NaN   NaN   NaN   NaN   NaN   NaN   NaN   NaN   NaN   NaN   NaN   \n208099   NaN   NaN   NaN   NaN   NaN   NaN   NaN   NaN   NaN   NaN   NaN   \n208111   NaN   NaN   NaN   NaN   NaN   NaN   NaN   NaN   NaN   NaN   NaN   \n211071   NaN   NaN   NaN   NaN   NaN   NaN   NaN   NaN   NaN   NaN   NaN   \n213246   NaN   NaN   NaN   NaN   NaN   NaN   NaN   NaN   NaN   NaN   NaN   \n216218   NaN   NaN   NaN   NaN   NaN   NaN   NaN   NaN   NaN   NaN   NaN   \n217015   NaN   NaN   NaN   NaN   NaN   NaN   NaN   NaN   NaN   NaN   NaN   \n217026   NaN   NaN   NaN   NaN   NaN   NaN   NaN   NaN   NaN   NaN   NaN   \n217027   NaN   NaN   NaN   NaN   NaN   NaN   NaN   NaN   NaN   NaN   NaN   \n217031   NaN   NaN   NaN   NaN   NaN   NaN   NaN   NaN   NaN   NaN   NaN   \n222959   NaN   NaN   NaN   NaN   NaN   NaN   NaN   NaN   NaN   NaN   NaN   \n225931   NaN   NaN   NaN   NaN   NaN   NaN   NaN   NaN   NaN   NaN   NaN   \n227417   NaN   NaN   NaN   NaN   NaN   NaN   NaN   NaN   NaN   NaN   NaN   \n228106   NaN   NaN   NaN   NaN   NaN   NaN   NaN   NaN   NaN   NaN   NaN   \n228903   NaN   NaN   NaN   NaN   NaN   NaN   NaN   NaN   NaN   NaN   NaN   \n234859   NaN   NaN   NaN   NaN   NaN   NaN   NaN   NaN   NaN   NaN   NaN   \n241480   NaN   NaN   NaN   NaN   NaN   NaN   NaN   NaN   NaN   NaN   NaN   \n242277   NaN   NaN   NaN   NaN   NaN   NaN   NaN   NaN   NaN   NaN   NaN   \n243763   NaN   NaN   NaN   NaN   NaN   NaN   NaN   NaN   NaN   NaN   NaN   \n243794   NaN   NaN   NaN   NaN   NaN   NaN   NaN   NaN   NaN   NaN   NaN   \n244452   NaN   NaN   NaN   NaN   NaN   NaN   NaN   NaN   NaN   NaN   NaN   \n245065   NaN   NaN   NaN   NaN   NaN   NaN   NaN   NaN   NaN   NaN   NaN   \n245090   NaN   NaN   NaN   NaN   NaN   NaN   NaN   NaN   NaN   NaN   NaN   \n245249   NaN   NaN   NaN   NaN   NaN   NaN   NaN   NaN   NaN   NaN   NaN   \n245280   NaN   NaN   NaN   NaN   NaN   NaN   NaN   NaN   NaN   NaN   NaN   \n246576   NaN   NaN   NaN   NaN   NaN   NaN   NaN   NaN   NaN   NaN   NaN   \n250396   NaN   NaN   NaN   NaN   NaN   NaN   NaN   NaN   NaN   NaN   NaN   \n252679   NaN   NaN   NaN   NaN   NaN   NaN   NaN   NaN   NaN   NaN   NaN   \n254165   NaN   NaN   NaN   NaN   NaN   NaN   NaN   NaN   NaN   NaN   NaN   \n255651   NaN   NaN   NaN   NaN   NaN   NaN   NaN   NaN   NaN   NaN   NaN   \n255652   NaN   NaN   NaN   NaN   NaN   NaN   NaN   NaN   NaN   NaN   NaN   \n255653   NaN   NaN   NaN   NaN   NaN   NaN   NaN   NaN   NaN   NaN   NaN   \n255663   NaN   NaN   NaN   NaN   NaN   NaN   NaN   NaN   NaN   NaN   NaN   \n255682   NaN   NaN   NaN   NaN   NaN   NaN   NaN   NaN   NaN   NaN   NaN   \n256022   NaN   NaN   NaN   NaN   NaN   NaN   NaN   NaN   NaN   NaN   NaN   \n256978   NaN   NaN   NaN   NaN   NaN   NaN   NaN   NaN   NaN   NaN   NaN   \n257826   NaN   NaN   NaN   NaN   NaN   NaN   NaN   NaN   NaN   NaN   NaN   \n260109   NaN   NaN   NaN   NaN   NaN   NaN   NaN   NaN   NaN   NaN   NaN   \n261595   NaN   NaN   NaN   NaN   NaN   NaN   NaN   NaN   NaN   NaN   NaN   \n261626   NaN   NaN   NaN   NaN   NaN   NaN   NaN   NaN   NaN   NaN   NaN   \n262197   NaN   NaN   NaN   NaN   NaN   NaN   NaN   NaN   NaN   NaN   NaN   \n262922   NaN   NaN   NaN   NaN   NaN   NaN   NaN   NaN   NaN   NaN   NaN   \n264567   NaN   NaN   NaN   NaN   NaN   NaN   NaN   NaN   NaN   NaN   NaN   \n265169   NaN   NaN   NaN   NaN   NaN   NaN   NaN   NaN   NaN   NaN   NaN   \n265256   NaN   NaN   NaN   NaN   NaN   NaN   NaN   NaN   NaN   NaN   NaN   \n267539   NaN   NaN   NaN   NaN   NaN   NaN   NaN   NaN   NaN   NaN   NaN   \n269025   NaN   NaN   NaN   NaN   NaN   NaN   NaN   NaN   NaN   NaN   NaN   \n270511   NaN   NaN   NaN   NaN   NaN   NaN   NaN   NaN   NaN   NaN   NaN   \n271997   NaN   NaN   NaN   NaN   NaN   NaN   NaN   NaN   NaN   NaN   NaN   \n271998   NaN   NaN   NaN   NaN   NaN   NaN   NaN   NaN   NaN   NaN   NaN   \n271999   NaN   NaN   NaN   NaN   NaN   NaN   NaN   NaN   NaN   NaN   NaN   \n272008   NaN   NaN   NaN   NaN   NaN   NaN   NaN   NaN   NaN   NaN   NaN   \n272009   NaN   NaN   NaN   NaN   NaN   NaN   NaN   NaN   NaN   NaN   NaN   \n272013   NaN   NaN   NaN   NaN   NaN   NaN   NaN   NaN   NaN   NaN   NaN   \n272028   NaN   NaN   NaN   NaN   NaN   NaN   NaN   NaN   NaN   NaN   NaN   \n272368   NaN   NaN   NaN   NaN   NaN   NaN   NaN   NaN   NaN   NaN   NaN   \n272599   NaN   NaN   NaN   NaN   NaN   NaN   NaN   NaN   NaN   NaN   NaN   \n273324   NaN   NaN   NaN   NaN   NaN   NaN   NaN   NaN   NaN   NaN   NaN   \n273483   NaN   NaN   NaN   NaN   NaN   NaN   NaN   NaN   NaN   NaN   NaN   \n280116   NaN   NaN   NaN   NaN   NaN   NaN   NaN   NaN   NaN   NaN   NaN   \n283088   NaN   NaN   NaN   NaN   NaN   NaN   NaN   NaN   NaN   NaN   NaN   \n283885   NaN   NaN   NaN   NaN   NaN   NaN   NaN   NaN   NaN   NaN   NaN   \n285371   NaN   NaN   NaN   NaN   NaN   NaN   NaN   NaN   NaN   NaN   NaN   \n288343   NaN   NaN   NaN   NaN   NaN   NaN   NaN   NaN   NaN   NaN   NaN   \n289829   NaN   NaN   NaN   NaN   NaN   NaN   NaN   NaN   NaN   NaN   NaN   \n295773   NaN   NaN   NaN   NaN   NaN   NaN   NaN   NaN   NaN   NaN   NaN   \n297259   NaN   NaN   NaN   NaN   NaN   NaN   NaN   NaN   NaN   NaN   NaN   \n297630   NaN   NaN   NaN   NaN   NaN   NaN   NaN   NaN   NaN   NaN   NaN   \n298745   NaN   NaN   NaN   NaN   NaN   NaN   NaN   NaN   NaN   NaN   NaN   \n298757   NaN   NaN   NaN   NaN   NaN   NaN   NaN   NaN   NaN   NaN   NaN   \n299116   NaN   NaN   NaN   NaN   NaN   NaN   NaN   NaN   NaN   NaN   NaN   \n300920   NaN   NaN   NaN   NaN   NaN   NaN   NaN   NaN   NaN   NaN   NaN   \n309836   NaN   NaN   NaN   NaN   NaN   NaN   NaN   NaN   NaN   NaN   NaN   \n310633   NaN   NaN   NaN   NaN   NaN   NaN   NaN   NaN   NaN   NaN   NaN   \n313605   NaN   NaN   NaN   NaN   NaN   NaN   NaN   NaN   NaN   NaN   NaN   \n315091   NaN   NaN   NaN   NaN   NaN   NaN   NaN   NaN   NaN   NaN   NaN   \n315102   NaN   NaN   NaN   NaN   NaN   NaN   NaN   NaN   NaN   NaN   NaN   \n315103   NaN   NaN   NaN   NaN   NaN   NaN   NaN   NaN   NaN   NaN   NaN   \n315107   NaN   NaN   NaN   NaN   NaN   NaN   NaN   NaN   NaN   NaN   NaN   \n317266   NaN   NaN   NaN   NaN   NaN   NaN   NaN   NaN   NaN   NaN   NaN   \n318063   NaN   NaN   NaN   NaN   NaN   NaN   NaN   NaN   NaN   NaN   NaN   \n319549   NaN   NaN   NaN   NaN   NaN   NaN   NaN   NaN   NaN   NaN   NaN   \n320238   NaN   NaN   NaN   NaN   NaN   NaN   NaN   NaN   NaN   NaN   NaN   \n321035   NaN   NaN   NaN   NaN   NaN   NaN   NaN   NaN   NaN   NaN   NaN   \n321724   NaN   NaN   NaN   NaN   NaN   NaN   NaN   NaN   NaN   NaN   NaN   \n322521   NaN   NaN   NaN   NaN   NaN   NaN   NaN   NaN   NaN   NaN   NaN   \n324007   NaN   NaN   NaN   NaN   NaN   NaN   NaN   NaN   NaN   NaN   NaN   \n324696   NaN   NaN   NaN   NaN   NaN   NaN   NaN   NaN   NaN   NaN   NaN   \n325493   NaN   NaN   NaN   NaN   NaN   NaN   NaN   NaN   NaN   NaN   NaN   \n326979   NaN   NaN   NaN   NaN   NaN   NaN   NaN   NaN   NaN   NaN   NaN   \n328465   NaN   NaN   NaN   NaN   NaN   NaN   NaN   NaN   NaN   NaN   NaN   \n329951   NaN   NaN   NaN   NaN   NaN   NaN   NaN   NaN   NaN   NaN   NaN   \n331437   NaN   NaN   NaN   NaN   NaN   NaN   NaN   NaN   NaN   NaN   NaN   \n332923   NaN   NaN   NaN   NaN   NaN   NaN   NaN   NaN   NaN   NaN   NaN   \n334409   NaN   NaN   NaN   NaN   NaN   NaN   NaN   NaN   NaN   NaN   NaN   \n335895   NaN   NaN   NaN   NaN   NaN   NaN   NaN   NaN   NaN   NaN   NaN   \n337381   NaN   NaN   NaN   NaN   NaN   NaN   NaN   NaN   NaN   NaN   NaN   \n338867   NaN   NaN   NaN   NaN   NaN   NaN   NaN   NaN   NaN   NaN   NaN   \n340353   NaN   NaN   NaN   NaN   NaN   NaN   NaN   NaN   NaN   NaN   NaN   \n341839   NaN   NaN   NaN   NaN   NaN   NaN   NaN   NaN   NaN   NaN   NaN   \n343325   NaN   NaN   NaN   NaN   NaN   NaN   NaN   NaN   NaN   NaN   NaN   \n344014   NaN   NaN   NaN   NaN   NaN   NaN   NaN   NaN   NaN   NaN   NaN   \n344811   NaN   NaN   NaN   NaN   NaN   NaN   NaN   NaN   NaN   NaN   NaN   \n345500   NaN   NaN   NaN   NaN   NaN   NaN   NaN   NaN   NaN   NaN   NaN   \n346297   NaN   NaN   NaN   NaN   NaN   NaN   NaN   NaN   NaN   NaN   NaN   \n347783   NaN   NaN   NaN   NaN   NaN   NaN   NaN   NaN   NaN   NaN   NaN   \n349269   NaN   NaN   NaN   NaN   NaN   NaN   NaN   NaN   NaN   NaN   NaN   \n350755   NaN   NaN   NaN   NaN   NaN   NaN   NaN   NaN   NaN   NaN   NaN   \n351357   NaN   NaN   NaN   NaN   NaN   NaN   NaN   NaN   NaN   NaN   NaN   \n352241   NaN   NaN   NaN   NaN   NaN   NaN   NaN   NaN   NaN   NaN   NaN   \n352930   NaN   NaN   NaN   NaN   NaN   NaN   NaN   NaN   NaN   NaN   NaN   \n353727   NaN   NaN   NaN   NaN   NaN   NaN   NaN   NaN   NaN   NaN   NaN   \n354416   NaN   NaN   NaN   NaN   NaN   NaN   NaN   NaN   NaN   NaN   NaN   \n355213   NaN   NaN   NaN   NaN   NaN   NaN   NaN   NaN   NaN   NaN   NaN   \n356699   NaN   NaN   NaN   NaN   NaN   NaN   NaN   NaN   NaN   NaN   NaN   \n358185   NaN   NaN   NaN   NaN   NaN   NaN   NaN   NaN   NaN   NaN   NaN   \n359671   NaN   NaN   NaN   NaN   NaN   NaN   NaN   NaN   NaN   NaN   NaN   \n361157   NaN   NaN   NaN   NaN   NaN   NaN   NaN   NaN   NaN   NaN   NaN   \n361846   NaN   NaN   NaN   NaN   NaN   NaN   NaN   NaN   NaN   NaN   NaN   \n362643   NaN   NaN   NaN   NaN   NaN   NaN   NaN   NaN   NaN   NaN   NaN   \n364129   NaN   NaN   NaN   NaN   NaN   NaN   NaN   NaN   NaN   NaN   NaN   \n364818   NaN   NaN   NaN   NaN   NaN   NaN   NaN   NaN   NaN   NaN   NaN   \n365615   NaN   NaN   NaN   NaN   NaN   NaN   NaN   NaN   NaN   NaN   NaN   \n367101   NaN   NaN   NaN   NaN   NaN   NaN   NaN   NaN   NaN   NaN   NaN   \n368587   NaN   NaN   NaN   NaN   NaN   NaN   NaN   NaN   NaN   NaN   NaN   \n370073   NaN   NaN   NaN   NaN   NaN   NaN   NaN   NaN   NaN   NaN   NaN   \n371559   NaN   NaN   NaN   NaN   NaN   NaN   NaN   NaN   NaN   NaN   NaN   \n373045   NaN   NaN   NaN   NaN   NaN   NaN   NaN   NaN   NaN   NaN   NaN   \n374531   NaN   NaN   NaN   NaN   NaN   NaN   NaN   NaN   NaN   NaN   NaN   \n374532   NaN   NaN   NaN   NaN   NaN   NaN   NaN   NaN   NaN   NaN   NaN   \n374533   NaN   NaN   NaN   NaN   NaN   NaN   NaN   NaN   NaN   NaN   NaN   \n374542   NaN   NaN   NaN   NaN   NaN   NaN   NaN   NaN   NaN   NaN   NaN   \n374543   NaN   NaN   NaN   NaN   NaN   NaN   NaN   NaN   NaN   NaN   NaN   \n374547   NaN   NaN   NaN   NaN   NaN   NaN   NaN   NaN   NaN   NaN   NaN   \n374562   NaN   NaN   NaN   NaN   NaN   NaN   NaN   NaN   NaN   NaN   NaN   \n374606   NaN   NaN   NaN   NaN   NaN   NaN   NaN   NaN   NaN   NaN   NaN   \n374902   NaN   NaN   NaN   NaN   NaN   NaN   NaN   NaN   NaN   NaN   NaN   \n374924   NaN   NaN   NaN   NaN   NaN   NaN   NaN   NaN   NaN   NaN   NaN   \n374938   NaN   NaN   NaN   NaN   NaN   NaN   NaN   NaN   NaN   NaN   NaN   \n374939   NaN   NaN   NaN   NaN   NaN   NaN   NaN   NaN   NaN   NaN   NaN   \n375133   NaN   NaN   NaN   NaN   NaN   NaN   NaN   NaN   NaN   NaN   NaN   \n375220   NaN   NaN   NaN   NaN   NaN   NaN   NaN   NaN   NaN   NaN   NaN   \n375539   NaN   NaN   NaN   NaN   NaN   NaN   NaN   NaN   NaN   NaN   NaN   \n375551   NaN   NaN   NaN   NaN   NaN   NaN   NaN   NaN   NaN   NaN   NaN   \n375833   NaN   NaN   NaN   NaN   NaN   NaN   NaN   NaN   NaN   NaN   NaN   \n375858   NaN   NaN   NaN   NaN   NaN   NaN   NaN   NaN   NaN   NaN   NaN   \n376017   NaN   NaN   NaN   NaN   NaN   NaN   NaN   NaN   NaN   NaN   NaN   \n377503   NaN   NaN   NaN   NaN   NaN   NaN   NaN   NaN   NaN   NaN   NaN   \n378989   NaN   NaN   NaN   NaN   NaN   NaN   NaN   NaN   NaN   NaN   NaN   \n380475   NaN   NaN   NaN   NaN   NaN   NaN   NaN   NaN   NaN   NaN   NaN   \n381961   NaN   NaN   NaN   NaN   NaN   NaN   NaN   NaN   NaN   NaN   NaN   \n382650   NaN   NaN   NaN   NaN   NaN   NaN   NaN   NaN   NaN   NaN   NaN   \n383447   NaN   NaN   NaN   NaN   NaN   NaN   NaN   NaN   NaN   NaN   NaN   \n384933   NaN   NaN   NaN   NaN   NaN   NaN   NaN   NaN   NaN   NaN   NaN   \n386419   NaN   NaN   NaN   NaN   NaN   NaN   NaN   NaN   NaN   NaN   NaN   \n387905   NaN   NaN   NaN   NaN   NaN   NaN   NaN   NaN   NaN   NaN   NaN   \n388594   NaN   NaN   NaN   NaN   NaN   NaN   NaN   NaN   NaN   NaN   NaN   \n389391   NaN   NaN   NaN   NaN   NaN   NaN   NaN   NaN   NaN   NaN   NaN   \n390080   NaN   NaN   NaN   NaN   NaN   NaN   NaN   NaN   NaN   NaN   NaN   \n390877   NaN   NaN   NaN   NaN   NaN   NaN   NaN   NaN   NaN   NaN   NaN   \n391566   NaN   NaN   NaN   NaN   NaN   NaN   NaN   NaN   NaN   NaN   NaN   \n392363   NaN   NaN   NaN   NaN   NaN   NaN   NaN   NaN   NaN   NaN   NaN   \n393849   NaN   NaN   NaN   NaN   NaN   NaN   NaN   NaN   NaN   NaN   NaN   \n\n        2013  2014  2015  2016  2017  2018  2019  2020  \n661      NaN   NaN   NaN   NaN   NaN   NaN   NaN   NaN  \n748      NaN   NaN   NaN   NaN   NaN   NaN   NaN   NaN  \n4517     NaN   NaN   NaN   NaN   NaN   NaN   NaN   NaN  \n4528     NaN   NaN   NaN   NaN   NaN   NaN   NaN   NaN  \n4529     NaN   NaN   NaN   NaN   NaN   NaN   NaN   NaN  \n4533     NaN   NaN   NaN   NaN   NaN   NaN   NaN   NaN  \n6003     NaN   NaN   NaN   NaN   NaN   NaN   NaN   NaN  \n6034     NaN   NaN   NaN   NaN   NaN   NaN   NaN   NaN  \n6374     NaN   NaN   NaN   NaN   NaN   NaN   NaN   NaN  \n6692     NaN   NaN   NaN   NaN   NaN   NaN   NaN   NaN  \n7330     NaN   NaN   NaN   NaN   NaN   NaN   NaN   NaN  \n7489     NaN   NaN   NaN   NaN   NaN   NaN   NaN   NaN  \n8975     NaN   NaN   NaN   NaN   NaN   NaN   NaN   NaN  \n12636    NaN   NaN   NaN   NaN   NaN   NaN   NaN   NaN  \n13433    NaN   NaN   NaN   NaN   NaN   NaN   NaN   NaN  \n13445    NaN   NaN   NaN   NaN   NaN   NaN   NaN   NaN  \n17094    NaN   NaN   NaN   NaN   NaN   NaN   NaN   NaN  \n19377    NaN   NaN   NaN   NaN   NaN   NaN   NaN   NaN  \n23835    NaN   NaN   NaN   NaN   NaN   NaN   NaN   NaN  \n26010    NaN   NaN   NaN   NaN   NaN   NaN   NaN   NaN  \n28293    NaN   NaN   NaN   NaN   NaN   NaN   NaN   NaN  \n31265    NaN   NaN   NaN   NaN   NaN   NaN   NaN   NaN  \n31296    NaN   NaN   NaN   NaN   NaN   NaN   NaN   NaN  \n32592    NaN   NaN   NaN   NaN   NaN   NaN   NaN   NaN  \n32751    NaN   NaN   NaN   NaN   NaN   NaN   NaN   NaN  \n33440    NaN   NaN   NaN   NaN   NaN   NaN   NaN   NaN  \n34926    NaN   NaN   NaN   NaN   NaN   NaN   NaN   NaN  \n35723    NaN   NaN   NaN   NaN   NaN   NaN   NaN   NaN  \n37898    NaN   NaN   NaN   NaN   NaN   NaN   NaN   NaN  \n40181    NaN   NaN   NaN   NaN   NaN   NaN   NaN   NaN  \n40192    NaN   NaN   NaN   NaN   NaN   NaN   NaN   NaN  \n40193    NaN   NaN   NaN   NaN   NaN   NaN   NaN   NaN  \n40197    NaN   NaN   NaN   NaN   NaN   NaN   NaN   NaN  \n40552    NaN   NaN   NaN   NaN   NaN   NaN   NaN   NaN  \n44639    NaN   NaN   NaN   NaN   NaN   NaN   NaN   NaN  \n45328    NaN   NaN   NaN   NaN   NaN   NaN   NaN   NaN  \n46125    NaN   NaN   NaN   NaN   NaN   NaN   NaN   NaN  \n46814    NaN   NaN   NaN   NaN   NaN   NaN   NaN   NaN  \n47611    NaN   NaN   NaN   NaN   NaN   NaN   NaN   NaN  \n49097    NaN   NaN   NaN   NaN   NaN   NaN   NaN   NaN  \n50583    NaN   NaN   NaN   NaN   NaN   NaN   NaN   NaN  \n53555    NaN   NaN   NaN   NaN   NaN   NaN   NaN   NaN  \n55041    NaN   NaN   NaN   NaN   NaN   NaN   NaN   NaN  \n55730    NaN   NaN   NaN   NaN   NaN   NaN   NaN   NaN  \n56527    NaN   NaN   NaN   NaN   NaN   NaN   NaN   NaN  \n57216    NaN   NaN   NaN   NaN   NaN   NaN   NaN   NaN  \n58384    NaN   NaN   NaN   NaN   NaN   NaN   NaN   NaN  \n58406    NaN   NaN   NaN   NaN   NaN   NaN   NaN   NaN  \n58615    NaN   NaN   NaN   NaN   NaN   NaN   NaN   NaN  \n58702    NaN   NaN   NaN   NaN   NaN   NaN   NaN   NaN  \n59315    NaN   NaN   NaN   NaN   NaN   NaN   NaN   NaN  \n60985    NaN   NaN   NaN   NaN   NaN   NaN   NaN   NaN  \n63957    NaN   NaN   NaN   NaN   NaN   NaN   NaN   NaN  \n63988    NaN   NaN   NaN   NaN   NaN   NaN   NaN   NaN  \n65284    NaN   NaN   NaN   NaN   NaN   NaN   NaN   NaN  \n65443    NaN   NaN   NaN   NaN   NaN   NaN   NaN   NaN  \n66929    NaN   NaN   NaN   NaN   NaN   NaN   NaN   NaN  \n68415    NaN   NaN   NaN   NaN   NaN   NaN   NaN   NaN  \n69901    NaN   NaN   NaN   NaN   NaN   NaN   NaN   NaN  \n72873    NaN   NaN   NaN   NaN   NaN   NaN   NaN   NaN  \n74359    NaN   NaN   NaN   NaN   NaN   NaN   NaN   NaN  \n74360    NaN   NaN   NaN   NaN   NaN   NaN   NaN   NaN  \n74361    NaN   NaN   NaN   NaN   NaN   NaN   NaN   NaN  \n74371    NaN   NaN   NaN   NaN   NaN   NaN   NaN   NaN  \n74730    NaN   NaN   NaN   NaN   NaN   NaN   NaN   NaN  \n78020    NaN   NaN   NaN   NaN   NaN   NaN   NaN   NaN  \n80303    NaN   NaN   NaN   NaN   NaN   NaN   NaN   NaN  \n80334    NaN   NaN   NaN   NaN   NaN   NaN   NaN   NaN  \n81630    NaN   NaN   NaN   NaN   NaN   NaN   NaN   NaN  \n81789    NaN   NaN   NaN   NaN   NaN   NaN   NaN   NaN  \n86247    NaN   NaN   NaN   NaN   NaN   NaN   NaN   NaN  \n89219    NaN   NaN   NaN   NaN   NaN   NaN   NaN   NaN  \n89821    NaN   NaN   NaN   NaN   NaN   NaN   NaN   NaN  \n90705    NaN   NaN   NaN   NaN   NaN   NaN   NaN   NaN  \n94366    NaN   NaN   NaN   NaN   NaN   NaN   NaN   NaN  \n95852    NaN   NaN   NaN   NaN   NaN   NaN   NaN   NaN  \n96649    NaN   NaN   NaN   NaN   NaN   NaN   NaN   NaN  \n96661    NaN   NaN   NaN   NaN   NaN   NaN   NaN   NaN  \n97251    NaN   NaN   NaN   NaN   NaN   NaN   NaN   NaN  \n98135    NaN   NaN   NaN   NaN   NaN   NaN   NaN   NaN  \n102593   NaN   NaN   NaN   NaN   NaN   NaN   NaN   NaN  \n102605   NaN   NaN   NaN   NaN   NaN   NaN   NaN   NaN  \n104079   NaN   NaN   NaN   NaN   NaN   NaN   NaN   NaN  \n105565   NaN   NaN   NaN   NaN   NaN   NaN   NaN   NaN  \n111509   NaN   NaN   NaN   NaN   NaN   NaN   NaN   NaN  \n111510   NaN   NaN   NaN   NaN   NaN   NaN   NaN   NaN  \n111511   NaN   NaN   NaN   NaN   NaN   NaN   NaN   NaN  \n111520   NaN   NaN   NaN   NaN   NaN   NaN   NaN   NaN  \n111521   NaN   NaN   NaN   NaN   NaN   NaN   NaN   NaN  \n111525   NaN   NaN   NaN   NaN   NaN   NaN   NaN   NaN  \n111540   NaN   NaN   NaN   NaN   NaN   NaN   NaN   NaN  \n111880   NaN   NaN   NaN   NaN   NaN   NaN   NaN   NaN  \n112111   NaN   NaN   NaN   NaN   NaN   NaN   NaN   NaN  \n112836   NaN   NaN   NaN   NaN   NaN   NaN   NaN   NaN  \n114481   NaN   NaN   NaN   NaN   NaN   NaN   NaN   NaN  \n114512   NaN   NaN   NaN   NaN   NaN   NaN   NaN   NaN  \n114852   NaN   NaN   NaN   NaN   NaN   NaN   NaN   NaN  \n115083   NaN   NaN   NaN   NaN   NaN   NaN   NaN   NaN  \n115808   NaN   NaN   NaN   NaN   NaN   NaN   NaN   NaN  \n117453   NaN   NaN   NaN   NaN   NaN   NaN   NaN   NaN  \n117464   NaN   NaN   NaN   NaN   NaN   NaN   NaN   NaN  \n117465   NaN   NaN   NaN   NaN   NaN   NaN   NaN   NaN  \n117469   NaN   NaN   NaN   NaN   NaN   NaN   NaN   NaN  \n117824   NaN   NaN   NaN   NaN   NaN   NaN   NaN   NaN  \n121911   NaN   NaN   NaN   NaN   NaN   NaN   NaN   NaN  \n127855   NaN   NaN   NaN   NaN   NaN   NaN   NaN   NaN  \n128262   NaN   NaN   NaN   NaN   NaN   NaN   NaN   NaN  \n128263   NaN   NaN   NaN   NaN   NaN   NaN   NaN   NaN  \n130030   NaN   NaN   NaN   NaN   NaN   NaN   NaN   NaN  \n133799   NaN   NaN   NaN   NaN   NaN   NaN   NaN   NaN  \n136771   NaN   NaN   NaN   NaN   NaN   NaN   NaN   NaN  \n138257   NaN   NaN   NaN   NaN   NaN   NaN   NaN   NaN  \n139743   NaN   NaN   NaN   NaN   NaN   NaN   NaN   NaN  \n139774   NaN   NaN   NaN   NaN   NaN   NaN   NaN   NaN  \n140114   NaN   NaN   NaN   NaN   NaN   NaN   NaN   NaN  \n140345   NaN   NaN   NaN   NaN   NaN   NaN   NaN   NaN  \n141070   NaN   NaN   NaN   NaN   NaN   NaN   NaN   NaN  \n150145   NaN   NaN   NaN   NaN   NaN   NaN   NaN   NaN  \n151631   NaN   NaN   NaN   NaN   NaN   NaN   NaN   NaN  \n153117   NaN   NaN   NaN   NaN   NaN   NaN   NaN   NaN  \n153128   NaN   NaN   NaN   NaN   NaN   NaN   NaN   NaN  \n153129   NaN   NaN   NaN   NaN   NaN   NaN   NaN   NaN  \n153133   NaN   NaN   NaN   NaN   NaN   NaN   NaN   NaN  \n153719   NaN   NaN   NaN   NaN   NaN   NaN   NaN   NaN  \n154603   NaN   NaN   NaN   NaN   NaN   NaN   NaN   NaN  \n156089   NaN   NaN   NaN   NaN   NaN   NaN   NaN   NaN  \n156090   NaN   NaN   NaN   NaN   NaN   NaN   NaN   NaN  \n156091   NaN   NaN   NaN   NaN   NaN   NaN   NaN   NaN  \n156120   NaN   NaN   NaN   NaN   NaN   NaN   NaN   NaN  \n156164   NaN   NaN   NaN   NaN   NaN   NaN   NaN   NaN  \n156460   NaN   NaN   NaN   NaN   NaN   NaN   NaN   NaN  \n156482   NaN   NaN   NaN   NaN   NaN   NaN   NaN   NaN  \n156496   NaN   NaN   NaN   NaN   NaN   NaN   NaN   NaN  \n156497   NaN   NaN   NaN   NaN   NaN   NaN   NaN   NaN  \n156691   NaN   NaN   NaN   NaN   NaN   NaN   NaN   NaN  \n156778   NaN   NaN   NaN   NaN   NaN   NaN   NaN   NaN  \n157097   NaN   NaN   NaN   NaN   NaN   NaN   NaN   NaN  \n157391   NaN   NaN   NaN   NaN   NaN   NaN   NaN   NaN  \n157416   NaN   NaN   NaN   NaN   NaN   NaN   NaN   NaN  \n157575   NaN   NaN   NaN   NaN   NaN   NaN   NaN   NaN  \n159750   NaN   NaN   NaN   NaN   NaN   NaN   NaN   NaN  \n161236   NaN   NaN   NaN   NaN   NaN   NaN   NaN   NaN  \n163519   NaN   NaN   NaN   NaN   NaN   NaN   NaN   NaN  \n165694   NaN   NaN   NaN   NaN   NaN   NaN   NaN   NaN  \n166491   NaN   NaN   NaN   NaN   NaN   NaN   NaN   NaN  \n167093   NaN   NaN   NaN   NaN   NaN   NaN   NaN   NaN  \n167977   NaN   NaN   NaN   NaN   NaN   NaN   NaN   NaN  \n169463   NaN   NaN   NaN   NaN   NaN   NaN   NaN   NaN  \n169475   NaN   NaN   NaN   NaN   NaN   NaN   NaN   NaN  \n169494   NaN   NaN   NaN   NaN   NaN   NaN   NaN   NaN  \n169834   NaN   NaN   NaN   NaN   NaN   NaN   NaN   NaN  \n170152   NaN   NaN   NaN   NaN   NaN   NaN   NaN   NaN  \n170790   NaN   NaN   NaN   NaN   NaN   NaN   NaN   NaN  \n172435   NaN   NaN   NaN   NaN   NaN   NaN   NaN   NaN  \n172466   NaN   NaN   NaN   NaN   NaN   NaN   NaN   NaN  \n173124   NaN   NaN   NaN   NaN   NaN   NaN   NaN   NaN  \n173762   NaN   NaN   NaN   NaN   NaN   NaN   NaN   NaN  \n173921   NaN   NaN   NaN   NaN   NaN   NaN   NaN   NaN  \n173922   NaN   NaN   NaN   NaN   NaN   NaN   NaN   NaN  \n173923   NaN   NaN   NaN   NaN   NaN   NaN   NaN   NaN  \n173932   NaN   NaN   NaN   NaN   NaN   NaN   NaN   NaN  \n173933   NaN   NaN   NaN   NaN   NaN   NaN   NaN   NaN  \n173937   NaN   NaN   NaN   NaN   NaN   NaN   NaN   NaN  \n173952   NaN   NaN   NaN   NaN   NaN   NaN   NaN   NaN  \n174292   NaN   NaN   NaN   NaN   NaN   NaN   NaN   NaN  \n174328   NaN   NaN   NaN   NaN   NaN   NaN   NaN   NaN  \n174329   NaN   NaN   NaN   NaN   NaN   NaN   NaN   NaN  \n174610   NaN   NaN   NaN   NaN   NaN   NaN   NaN   NaN  \n175223   NaN   NaN   NaN   NaN   NaN   NaN   NaN   NaN  \n175248   NaN   NaN   NaN   NaN   NaN   NaN   NaN   NaN  \n177582   NaN   NaN   NaN   NaN   NaN   NaN   NaN   NaN  \n179865   NaN   NaN   NaN   NaN   NaN   NaN   NaN   NaN  \n179896   NaN   NaN   NaN   NaN   NaN   NaN   NaN   NaN  \n181192   NaN   NaN   NaN   NaN   NaN   NaN   NaN   NaN  \n181351   NaN   NaN   NaN   NaN   NaN   NaN   NaN   NaN  \n182040   NaN   NaN   NaN   NaN   NaN   NaN   NaN   NaN  \n184323   NaN   NaN   NaN   NaN   NaN   NaN   NaN   NaN  \n185840   NaN   NaN   NaN   NaN   NaN   NaN   NaN   NaN  \n187136   NaN   NaN   NaN   NaN   NaN   NaN   NaN   NaN  \n190267   NaN   NaN   NaN   NaN   NaN   NaN   NaN   NaN  \n192442   NaN   NaN   NaN   NaN   NaN   NaN   NaN   NaN  \n193239   NaN   NaN   NaN   NaN   NaN   NaN   NaN   NaN  \n193240   NaN   NaN   NaN   NaN   NaN   NaN   NaN   NaN  \n193241   NaN   NaN   NaN   NaN   NaN   NaN   NaN   NaN  \n193250   NaN   NaN   NaN   NaN   NaN   NaN   NaN   NaN  \n193251   NaN   NaN   NaN   NaN   NaN   NaN   NaN   NaN  \n193255   NaN   NaN   NaN   NaN   NaN   NaN   NaN   NaN  \n193270   NaN   NaN   NaN   NaN   NaN   NaN   NaN   NaN  \n193610   NaN   NaN   NaN   NaN   NaN   NaN   NaN   NaN  \n194566   NaN   NaN   NaN   NaN   NaN   NaN   NaN   NaN  \n194756   NaN   NaN   NaN   NaN   NaN   NaN   NaN   NaN  \n195414   NaN   NaN   NaN   NaN   NaN   NaN   NaN   NaN  \n196052   NaN   NaN   NaN   NaN   NaN   NaN   NaN   NaN  \n196211   NaN   NaN   NaN   NaN   NaN   NaN   NaN   NaN  \n202155   NaN   NaN   NaN   NaN   NaN   NaN   NaN   NaN  \n203641   NaN   NaN   NaN   NaN   NaN   NaN   NaN   NaN  \n203652   NaN   NaN   NaN   NaN   NaN   NaN   NaN   NaN  \n203653   NaN   NaN   NaN   NaN   NaN   NaN   NaN   NaN  \n203657   NaN   NaN   NaN   NaN   NaN   NaN   NaN   NaN  \n204012   NaN   NaN   NaN   NaN   NaN   NaN   NaN   NaN  \n204243   NaN   NaN   NaN   NaN   NaN   NaN   NaN   NaN  \n204330   NaN   NaN   NaN   NaN   NaN   NaN   NaN   NaN  \n204943   NaN   NaN   NaN   NaN   NaN   NaN   NaN   NaN  \n205816   NaN   NaN   NaN   NaN   NaN   NaN   NaN   NaN  \n208099   NaN   NaN   NaN   NaN   NaN   NaN   NaN   NaN  \n208111   NaN   NaN   NaN   NaN   NaN   NaN   NaN   NaN  \n211071   NaN   NaN   NaN   NaN   NaN   NaN   NaN   NaN  \n213246   NaN   NaN   NaN   NaN   NaN   NaN   NaN   NaN  \n216218   NaN   NaN   NaN   NaN   NaN   NaN   NaN   NaN  \n217015   NaN   NaN   NaN   NaN   NaN   NaN   NaN   NaN  \n217026   NaN   NaN   NaN   NaN   NaN   NaN   NaN   NaN  \n217027   NaN   NaN   NaN   NaN   NaN   NaN   NaN   NaN  \n217031   NaN   NaN   NaN   NaN   NaN   NaN   NaN   NaN  \n222959   NaN   NaN   NaN   NaN   NaN   NaN   NaN   NaN  \n225931   NaN   NaN   NaN   NaN   NaN   NaN   NaN   NaN  \n227417   NaN   NaN   NaN   NaN   NaN   NaN   NaN   NaN  \n228106   NaN   NaN   NaN   NaN   NaN   NaN   NaN   NaN  \n228903   NaN   NaN   NaN   NaN   NaN   NaN   NaN   NaN  \n234859   NaN   NaN   NaN   NaN   NaN   NaN   NaN   NaN  \n241480   NaN   NaN   NaN   NaN   NaN   NaN   NaN   NaN  \n242277   NaN   NaN   NaN   NaN   NaN   NaN   NaN   NaN  \n243763   NaN   NaN   NaN   NaN   NaN   NaN   NaN   NaN  \n243794   NaN   NaN   NaN   NaN   NaN   NaN   NaN   NaN  \n244452   NaN   NaN   NaN   NaN   NaN   NaN   NaN   NaN  \n245065   NaN   NaN   NaN   NaN   NaN   NaN   NaN   NaN  \n245090   NaN   NaN   NaN   NaN   NaN   NaN   NaN   NaN  \n245249   NaN   NaN   NaN   NaN   NaN   NaN   NaN   NaN  \n245280   NaN   NaN   NaN   NaN   NaN   NaN   NaN   NaN  \n246576   NaN   NaN   NaN   NaN   NaN   NaN   NaN   NaN  \n250396   NaN   NaN   NaN   NaN   NaN   NaN   NaN   NaN  \n252679   NaN   NaN   NaN   NaN   NaN   NaN   NaN   NaN  \n254165   NaN   NaN   NaN   NaN   NaN   NaN   NaN   NaN  \n255651   NaN   NaN   NaN   NaN   NaN   NaN   NaN   NaN  \n255652   NaN   NaN   NaN   NaN   NaN   NaN   NaN   NaN  \n255653   NaN   NaN   NaN   NaN   NaN   NaN   NaN   NaN  \n255663   NaN   NaN   NaN   NaN   NaN   NaN   NaN   NaN  \n255682   NaN   NaN   NaN   NaN   NaN   NaN   NaN   NaN  \n256022   NaN   NaN   NaN   NaN   NaN   NaN   NaN   NaN  \n256978   NaN   NaN   NaN   NaN   NaN   NaN   NaN   NaN  \n257826   NaN   NaN   NaN   NaN   NaN   NaN   NaN   NaN  \n260109   NaN   NaN   NaN   NaN   NaN   NaN   NaN   NaN  \n261595   NaN   NaN   NaN   NaN   NaN   NaN   NaN   NaN  \n261626   NaN   NaN   NaN   NaN   NaN   NaN   NaN   NaN  \n262197   NaN   NaN   NaN   NaN   NaN   NaN   NaN   NaN  \n262922   NaN   NaN   NaN   NaN   NaN   NaN   NaN   NaN  \n264567   NaN   NaN   NaN   NaN   NaN   NaN   NaN   NaN  \n265169   NaN   NaN   NaN   NaN   NaN   NaN   NaN   NaN  \n265256   NaN   NaN   NaN   NaN   NaN   NaN   NaN   NaN  \n267539   NaN   NaN   NaN   NaN   NaN   NaN   NaN   NaN  \n269025   NaN   NaN   NaN   NaN   NaN   NaN   NaN   NaN  \n270511   NaN   NaN   NaN   NaN   NaN   NaN   NaN   NaN  \n271997   NaN   NaN   NaN   NaN   NaN   NaN   NaN   NaN  \n271998   NaN   NaN   NaN   NaN   NaN   NaN   NaN   NaN  \n271999   NaN   NaN   NaN   NaN   NaN   NaN   NaN   NaN  \n272008   NaN   NaN   NaN   NaN   NaN   NaN   NaN   NaN  \n272009   NaN   NaN   NaN   NaN   NaN   NaN   NaN   NaN  \n272013   NaN   NaN   NaN   NaN   NaN   NaN   NaN   NaN  \n272028   NaN   NaN   NaN   NaN   NaN   NaN   NaN   NaN  \n272368   NaN   NaN   NaN   NaN   NaN   NaN   NaN   NaN  \n272599   NaN   NaN   NaN   NaN   NaN   NaN   NaN   NaN  \n273324   NaN   NaN   NaN   NaN   NaN   NaN   NaN   NaN  \n273483   NaN   NaN   NaN   NaN   NaN   NaN   NaN   NaN  \n280116   NaN   NaN   NaN   NaN   NaN   NaN   NaN   NaN  \n283088   NaN   NaN   NaN   NaN   NaN   NaN   NaN   NaN  \n283885   NaN   NaN   NaN   NaN   NaN   NaN   NaN   NaN  \n285371   NaN   NaN   NaN   NaN   NaN   NaN   NaN   NaN  \n288343   NaN   NaN   NaN   NaN   NaN   NaN   NaN   NaN  \n289829   NaN   NaN   NaN   NaN   NaN   NaN   NaN   NaN  \n295773   NaN   NaN   NaN   NaN   NaN   NaN   NaN   NaN  \n297259   NaN   NaN   NaN   NaN   NaN   NaN   NaN   NaN  \n297630   NaN   NaN   NaN   NaN   NaN   NaN   NaN   NaN  \n298745   NaN   NaN   NaN   NaN   NaN   NaN   NaN   NaN  \n298757   NaN   NaN   NaN   NaN   NaN   NaN   NaN   NaN  \n299116   NaN   NaN   NaN   NaN   NaN   NaN   NaN   NaN  \n300920   NaN   NaN   NaN   NaN   NaN   NaN   NaN   NaN  \n309836   NaN   NaN   NaN   NaN   NaN   NaN   NaN   NaN  \n310633   NaN   NaN   NaN   NaN   NaN   NaN   NaN   NaN  \n313605   NaN   NaN   NaN   NaN   NaN   NaN   NaN   NaN  \n315091   NaN   NaN   NaN   NaN   NaN   NaN   NaN   NaN  \n315102   NaN   NaN   NaN   NaN   NaN   NaN   NaN   NaN  \n315103   NaN   NaN   NaN   NaN   NaN   NaN   NaN   NaN  \n315107   NaN   NaN   NaN   NaN   NaN   NaN   NaN   NaN  \n317266   NaN   NaN   NaN   NaN   NaN   NaN   NaN   NaN  \n318063   NaN   NaN   NaN   NaN   NaN   NaN   NaN   NaN  \n319549   NaN   NaN   NaN   NaN   NaN   NaN   NaN   NaN  \n320238   NaN   NaN   NaN   NaN   NaN   NaN   NaN   NaN  \n321035   NaN   NaN   NaN   NaN   NaN   NaN   NaN   NaN  \n321724   NaN   NaN   NaN   NaN   NaN   NaN   NaN   NaN  \n322521   NaN   NaN   NaN   NaN   NaN   NaN   NaN   NaN  \n324007   NaN   NaN   NaN   NaN   NaN   NaN   NaN   NaN  \n324696   NaN   NaN   NaN   NaN   NaN   NaN   NaN   NaN  \n325493   NaN   NaN   NaN   NaN   NaN   NaN   NaN   NaN  \n326979   NaN   NaN   NaN   NaN   NaN   NaN   NaN   NaN  \n328465   NaN   NaN   NaN   NaN   NaN   NaN   NaN   NaN  \n329951   NaN   NaN   NaN   NaN   NaN   NaN   NaN   NaN  \n331437   NaN   NaN   NaN   NaN   NaN   NaN   NaN   NaN  \n332923   NaN   NaN   NaN   NaN   NaN   NaN   NaN   NaN  \n334409   NaN   NaN   NaN   NaN   NaN   NaN   NaN   NaN  \n335895   NaN   NaN   NaN   NaN   NaN   NaN   NaN   NaN  \n337381   NaN   NaN   NaN   NaN   NaN   NaN   NaN   NaN  \n338867   NaN   NaN   NaN   NaN   NaN   NaN   NaN   NaN  \n340353   NaN   NaN   NaN   NaN   NaN   NaN   NaN   NaN  \n341839   NaN   NaN   NaN   NaN   NaN   NaN   NaN   NaN  \n343325   NaN   NaN   NaN   NaN   NaN   NaN   NaN   NaN  \n344014   NaN   NaN   NaN   NaN   NaN   NaN   NaN   NaN  \n344811   NaN   NaN   NaN   NaN   NaN   NaN   NaN   NaN  \n345500   NaN   NaN   NaN   NaN   NaN   NaN   NaN   NaN  \n346297   NaN   NaN   NaN   NaN   NaN   NaN   NaN   NaN  \n347783   NaN   NaN   NaN   NaN   NaN   NaN   NaN   NaN  \n349269   NaN   NaN   NaN   NaN   NaN   NaN   NaN   NaN  \n350755   NaN   NaN   NaN   NaN   NaN   NaN   NaN   NaN  \n351357   NaN   NaN   NaN   NaN   NaN   NaN   NaN   NaN  \n352241   NaN   NaN   NaN   NaN   NaN   NaN   NaN   NaN  \n352930   NaN   NaN   NaN   NaN   NaN   NaN   NaN   NaN  \n353727   NaN   NaN   NaN   NaN   NaN   NaN   NaN   NaN  \n354416   NaN   NaN   NaN   NaN   NaN   NaN   NaN   NaN  \n355213   NaN   NaN   NaN   NaN   NaN   NaN   NaN   NaN  \n356699   NaN   NaN   NaN   NaN   NaN   NaN   NaN   NaN  \n358185   NaN   NaN   NaN   NaN   NaN   NaN   NaN   NaN  \n359671   NaN   NaN   NaN   NaN   NaN   NaN   NaN   NaN  \n361157   NaN   NaN   NaN   NaN   NaN   NaN   NaN   NaN  \n361846   NaN   NaN   NaN   NaN   NaN   NaN   NaN   NaN  \n362643   NaN   NaN   NaN   NaN   NaN   NaN   NaN   NaN  \n364129   NaN   NaN   NaN   NaN   NaN   NaN   NaN   NaN  \n364818   NaN   NaN   NaN   NaN   NaN   NaN   NaN   NaN  \n365615   NaN   NaN   NaN   NaN   NaN   NaN   NaN   NaN  \n367101   NaN   NaN   NaN   NaN   NaN   NaN   NaN   NaN  \n368587   NaN   NaN   NaN   NaN   NaN   NaN   NaN   NaN  \n370073   NaN   NaN   NaN   NaN   NaN   NaN   NaN   NaN  \n371559   NaN   NaN   NaN   NaN   NaN   NaN   NaN   NaN  \n373045   NaN   NaN   NaN   NaN   NaN   NaN   NaN   NaN  \n374531   NaN   NaN   NaN   NaN   NaN   NaN   NaN   NaN  \n374532   NaN   NaN   NaN   NaN   NaN   NaN   NaN   NaN  \n374533   NaN   NaN   NaN   NaN   NaN   NaN   NaN   NaN  \n374542   NaN   NaN   NaN   NaN   NaN   NaN   NaN   NaN  \n374543   NaN   NaN   NaN   NaN   NaN   NaN   NaN   NaN  \n374547   NaN   NaN   NaN   NaN   NaN   NaN   NaN   NaN  \n374562   NaN   NaN   NaN   NaN   NaN   NaN   NaN   NaN  \n374606   NaN   NaN   NaN   NaN   NaN   NaN   NaN   NaN  \n374902   NaN   NaN   NaN   NaN   NaN   NaN   NaN   NaN  \n374924   NaN   NaN   NaN   NaN   NaN   NaN   NaN   NaN  \n374938   NaN   NaN   NaN   NaN   NaN   NaN   NaN   NaN  \n374939   NaN   NaN   NaN   NaN   NaN   NaN   NaN   NaN  \n375133   NaN   NaN   NaN   NaN   NaN   NaN   NaN   NaN  \n375220   NaN   NaN   NaN   NaN   NaN   NaN   NaN   NaN  \n375539   NaN   NaN   NaN   NaN   NaN   NaN   NaN   NaN  \n375551   NaN   NaN   NaN   NaN   NaN   NaN   NaN   NaN  \n375833   NaN   NaN   NaN   NaN   NaN   NaN   NaN   NaN  \n375858   NaN   NaN   NaN   NaN   NaN   NaN   NaN   NaN  \n376017   NaN   NaN   NaN   NaN   NaN   NaN   NaN   NaN  \n377503   NaN   NaN   NaN   NaN   NaN   NaN   NaN   NaN  \n378989   NaN   NaN   NaN   NaN   NaN   NaN   NaN   NaN  \n380475   NaN   NaN   NaN   NaN   NaN   NaN   NaN   NaN  \n381961   NaN   NaN   NaN   NaN   NaN   NaN   NaN   NaN  \n382650   NaN   NaN   NaN   NaN   NaN   NaN   NaN   NaN  \n383447   NaN   NaN   NaN   NaN   NaN   NaN   NaN   NaN  \n384933   NaN   NaN   NaN   NaN   NaN   NaN   NaN   NaN  \n386419   NaN   NaN   NaN   NaN   NaN   NaN   NaN   NaN  \n387905   NaN   NaN   NaN   NaN   NaN   NaN   NaN   NaN  \n388594   NaN   NaN   NaN   NaN   NaN   NaN   NaN   NaN  \n389391   NaN   NaN   NaN   NaN   NaN   NaN   NaN   NaN  \n390080   NaN   NaN   NaN   NaN   NaN   NaN   NaN   NaN  \n390877   NaN   NaN   NaN   NaN   NaN   NaN   NaN   NaN  \n391566   NaN   NaN   NaN   NaN   NaN   NaN   NaN   NaN  \n392363   NaN   NaN   NaN   NaN   NaN   NaN   NaN   NaN  \n393849   NaN   NaN   NaN   NaN   NaN   NaN   NaN   NaN  ",
      "text/html": "<div>\n<style scoped>\n    .dataframe tbody tr th:only-of-type {\n        vertical-align: middle;\n    }\n\n    .dataframe tbody tr th {\n        vertical-align: top;\n    }\n\n    .dataframe thead th {\n        text-align: right;\n    }\n</style>\n<table border=\"1\" class=\"dataframe\">\n  <thead>\n    <tr style=\"text-align: right;\">\n      <th></th>\n      <th>Country_Name</th>\n      <th>Country_Code</th>\n      <th>Series_Name</th>\n      <th>Series_Code</th>\n      <th>1980</th>\n      <th>1981</th>\n      <th>1982</th>\n      <th>1983</th>\n      <th>1984</th>\n      <th>1985</th>\n      <th>1986</th>\n      <th>1987</th>\n      <th>1988</th>\n      <th>1989</th>\n      <th>1990</th>\n      <th>1991</th>\n      <th>1992</th>\n      <th>1993</th>\n      <th>1994</th>\n      <th>1995</th>\n      <th>1996</th>\n      <th>1997</th>\n      <th>1998</th>\n      <th>1999</th>\n      <th>2000</th>\n      <th>2001</th>\n      <th>2002</th>\n      <th>2003</th>\n      <th>2004</th>\n      <th>2005</th>\n      <th>2006</th>\n      <th>2007</th>\n      <th>2008</th>\n      <th>2009</th>\n      <th>2010</th>\n      <th>2011</th>\n      <th>2012</th>\n      <th>2013</th>\n      <th>2014</th>\n      <th>2015</th>\n      <th>2016</th>\n      <th>2017</th>\n      <th>2018</th>\n      <th>2019</th>\n      <th>2020</th>\n    </tr>\n  </thead>\n  <tbody>\n    <tr>\n      <th>661</th>\n      <td>Afghanistan</td>\n      <td>AFG</td>\n      <td>International tourism, number of arrivals</td>\n      <td>ST.INT.ARVL</td>\n      <td>NaN</td>\n      <td>NaN</td>\n      <td>NaN</td>\n      <td>NaN</td>\n      <td>NaN</td>\n      <td>NaN</td>\n      <td>NaN</td>\n      <td>NaN</td>\n      <td>NaN</td>\n      <td>NaN</td>\n      <td>NaN</td>\n      <td>NaN</td>\n      <td>NaN</td>\n      <td>NaN</td>\n      <td>NaN</td>\n      <td>NaN</td>\n      <td>NaN</td>\n      <td>NaN</td>\n      <td>NaN</td>\n      <td>NaN</td>\n      <td>NaN</td>\n      <td>NaN</td>\n      <td>NaN</td>\n      <td>NaN</td>\n      <td>NaN</td>\n      <td>NaN</td>\n      <td>NaN</td>\n      <td>NaN</td>\n      <td>NaN</td>\n      <td>NaN</td>\n      <td>NaN</td>\n      <td>NaN</td>\n      <td>NaN</td>\n      <td>NaN</td>\n      <td>NaN</td>\n      <td>NaN</td>\n      <td>NaN</td>\n      <td>NaN</td>\n      <td>NaN</td>\n      <td>NaN</td>\n      <td>NaN</td>\n    </tr>\n    <tr>\n      <th>748</th>\n      <td>Afghanistan</td>\n      <td>AFG</td>\n      <td>Marine protected areas (% of territorial waters)</td>\n      <td>ER.MRN.PTMR.ZS</td>\n      <td>NaN</td>\n      <td>NaN</td>\n      <td>NaN</td>\n      <td>NaN</td>\n      <td>NaN</td>\n      <td>NaN</td>\n      <td>NaN</td>\n      <td>NaN</td>\n      <td>NaN</td>\n      <td>NaN</td>\n      <td>NaN</td>\n      <td>NaN</td>\n      <td>NaN</td>\n      <td>NaN</td>\n      <td>NaN</td>\n      <td>NaN</td>\n      <td>NaN</td>\n      <td>NaN</td>\n      <td>NaN</td>\n      <td>NaN</td>\n      <td>NaN</td>\n      <td>NaN</td>\n      <td>NaN</td>\n      <td>NaN</td>\n      <td>NaN</td>\n      <td>NaN</td>\n      <td>NaN</td>\n      <td>NaN</td>\n      <td>NaN</td>\n      <td>NaN</td>\n      <td>NaN</td>\n      <td>NaN</td>\n      <td>NaN</td>\n      <td>NaN</td>\n      <td>NaN</td>\n      <td>NaN</td>\n      <td>NaN</td>\n      <td>NaN</td>\n      <td>NaN</td>\n      <td>NaN</td>\n      <td>NaN</td>\n    </tr>\n    <tr>\n      <th>4517</th>\n      <td>American Samoa</td>\n      <td>ASM</td>\n      <td>Agricultural irrigated land (% of total agricu...</td>\n      <td>AG.LND.IRIG.AG.ZS</td>\n      <td>NaN</td>\n      <td>NaN</td>\n      <td>NaN</td>\n      <td>NaN</td>\n      <td>NaN</td>\n      <td>NaN</td>\n      <td>NaN</td>\n      <td>NaN</td>\n      <td>NaN</td>\n      <td>NaN</td>\n      <td>NaN</td>\n      <td>NaN</td>\n      <td>NaN</td>\n      <td>NaN</td>\n      <td>NaN</td>\n      <td>NaN</td>\n      <td>NaN</td>\n      <td>NaN</td>\n      <td>NaN</td>\n      <td>NaN</td>\n      <td>NaN</td>\n      <td>NaN</td>\n      <td>NaN</td>\n      <td>NaN</td>\n      <td>NaN</td>\n      <td>NaN</td>\n      <td>NaN</td>\n      <td>NaN</td>\n      <td>NaN</td>\n      <td>NaN</td>\n      <td>NaN</td>\n      <td>NaN</td>\n      <td>NaN</td>\n      <td>NaN</td>\n      <td>NaN</td>\n      <td>NaN</td>\n      <td>NaN</td>\n      <td>NaN</td>\n      <td>NaN</td>\n      <td>NaN</td>\n      <td>NaN</td>\n    </tr>\n    <tr>\n      <th>4528</th>\n      <td>American Samoa</td>\n      <td>ASM</td>\n      <td>Agriculture, forestry, and fishing, value adde...</td>\n      <td>NV.AGR.TOTL.ZS</td>\n      <td>NaN</td>\n      <td>NaN</td>\n      <td>NaN</td>\n      <td>NaN</td>\n      <td>NaN</td>\n      <td>NaN</td>\n      <td>NaN</td>\n      <td>NaN</td>\n      <td>NaN</td>\n      <td>NaN</td>\n      <td>NaN</td>\n      <td>NaN</td>\n      <td>NaN</td>\n      <td>NaN</td>\n      <td>NaN</td>\n      <td>NaN</td>\n      <td>NaN</td>\n      <td>NaN</td>\n      <td>NaN</td>\n      <td>NaN</td>\n      <td>NaN</td>\n      <td>NaN</td>\n      <td>NaN</td>\n      <td>NaN</td>\n      <td>NaN</td>\n      <td>NaN</td>\n      <td>NaN</td>\n      <td>NaN</td>\n      <td>NaN</td>\n      <td>NaN</td>\n      <td>NaN</td>\n      <td>NaN</td>\n      <td>NaN</td>\n      <td>NaN</td>\n      <td>NaN</td>\n      <td>NaN</td>\n      <td>NaN</td>\n      <td>NaN</td>\n      <td>NaN</td>\n      <td>NaN</td>\n      <td>NaN</td>\n    </tr>\n    <tr>\n      <th>4529</th>\n      <td>American Samoa</td>\n      <td>ASM</td>\n      <td>Agriculture, forestry, and fishing, value adde...</td>\n      <td>NV.AGR.TOTL.KD.ZG</td>\n      <td>NaN</td>\n      <td>NaN</td>\n      <td>NaN</td>\n      <td>NaN</td>\n      <td>NaN</td>\n      <td>NaN</td>\n      <td>NaN</td>\n      <td>NaN</td>\n      <td>NaN</td>\n      <td>NaN</td>\n      <td>NaN</td>\n      <td>NaN</td>\n      <td>NaN</td>\n      <td>NaN</td>\n      <td>NaN</td>\n      <td>NaN</td>\n      <td>NaN</td>\n      <td>NaN</td>\n      <td>NaN</td>\n      <td>NaN</td>\n      <td>NaN</td>\n      <td>NaN</td>\n      <td>NaN</td>\n      <td>NaN</td>\n      <td>NaN</td>\n      <td>NaN</td>\n      <td>NaN</td>\n      <td>NaN</td>\n      <td>NaN</td>\n      <td>NaN</td>\n      <td>NaN</td>\n      <td>NaN</td>\n      <td>NaN</td>\n      <td>NaN</td>\n      <td>NaN</td>\n      <td>NaN</td>\n      <td>NaN</td>\n      <td>NaN</td>\n      <td>NaN</td>\n      <td>NaN</td>\n      <td>NaN</td>\n    </tr>\n    <tr>\n      <th>4533</th>\n      <td>American Samoa</td>\n      <td>ASM</td>\n      <td>Agriculture, forestry, and fishing, value adde...</td>\n      <td>NV.AGR.TOTL.CD</td>\n      <td>NaN</td>\n      <td>NaN</td>\n      <td>NaN</td>\n      <td>NaN</td>\n      <td>NaN</td>\n      <td>NaN</td>\n      <td>NaN</td>\n      <td>NaN</td>\n      <td>NaN</td>\n      <td>NaN</td>\n      <td>NaN</td>\n      <td>NaN</td>\n      <td>NaN</td>\n      <td>NaN</td>\n      <td>NaN</td>\n      <td>NaN</td>\n      <td>NaN</td>\n      <td>NaN</td>\n      <td>NaN</td>\n      <td>NaN</td>\n      <td>NaN</td>\n      <td>NaN</td>\n      <td>NaN</td>\n      <td>NaN</td>\n      <td>NaN</td>\n      <td>NaN</td>\n      <td>NaN</td>\n      <td>NaN</td>\n      <td>NaN</td>\n      <td>NaN</td>\n      <td>NaN</td>\n      <td>NaN</td>\n      <td>NaN</td>\n      <td>NaN</td>\n      <td>NaN</td>\n      <td>NaN</td>\n      <td>NaN</td>\n      <td>NaN</td>\n      <td>NaN</td>\n      <td>NaN</td>\n      <td>NaN</td>\n    </tr>\n    <tr>\n      <th>6003</th>\n      <td>Andorra</td>\n      <td>AND</td>\n      <td>Agricultural irrigated land (% of total agricu...</td>\n      <td>AG.LND.IRIG.AG.ZS</td>\n      <td>NaN</td>\n      <td>NaN</td>\n      <td>NaN</td>\n      <td>NaN</td>\n      <td>NaN</td>\n      <td>NaN</td>\n      <td>NaN</td>\n      <td>NaN</td>\n      <td>NaN</td>\n      <td>NaN</td>\n      <td>NaN</td>\n      <td>NaN</td>\n      <td>NaN</td>\n      <td>NaN</td>\n      <td>NaN</td>\n      <td>NaN</td>\n      <td>NaN</td>\n      <td>NaN</td>\n      <td>NaN</td>\n      <td>NaN</td>\n      <td>NaN</td>\n      <td>NaN</td>\n      <td>NaN</td>\n      <td>NaN</td>\n      <td>NaN</td>\n      <td>NaN</td>\n      <td>NaN</td>\n      <td>NaN</td>\n      <td>NaN</td>\n      <td>NaN</td>\n      <td>NaN</td>\n      <td>NaN</td>\n      <td>NaN</td>\n      <td>NaN</td>\n      <td>NaN</td>\n      <td>NaN</td>\n      <td>NaN</td>\n      <td>NaN</td>\n      <td>NaN</td>\n      <td>NaN</td>\n      <td>NaN</td>\n    </tr>\n    <tr>\n      <th>6034</th>\n      <td>Andorra</td>\n      <td>AND</td>\n      <td>Aquaculture production (metric tons)</td>\n      <td>ER.FSH.AQUA.MT</td>\n      <td>NaN</td>\n      <td>NaN</td>\n      <td>NaN</td>\n      <td>NaN</td>\n      <td>NaN</td>\n      <td>NaN</td>\n      <td>NaN</td>\n      <td>NaN</td>\n      <td>NaN</td>\n      <td>NaN</td>\n      <td>NaN</td>\n      <td>NaN</td>\n      <td>NaN</td>\n      <td>NaN</td>\n      <td>NaN</td>\n      <td>NaN</td>\n      <td>NaN</td>\n      <td>NaN</td>\n      <td>NaN</td>\n      <td>NaN</td>\n      <td>NaN</td>\n      <td>NaN</td>\n      <td>NaN</td>\n      <td>NaN</td>\n      <td>NaN</td>\n      <td>NaN</td>\n      <td>NaN</td>\n      <td>NaN</td>\n      <td>NaN</td>\n      <td>NaN</td>\n      <td>NaN</td>\n      <td>NaN</td>\n      <td>NaN</td>\n      <td>NaN</td>\n      <td>NaN</td>\n      <td>NaN</td>\n      <td>NaN</td>\n      <td>NaN</td>\n      <td>NaN</td>\n      <td>NaN</td>\n      <td>NaN</td>\n    </tr>\n    <tr>\n      <th>6374</th>\n      <td>Andorra</td>\n      <td>AND</td>\n      <td>Fertilizer consumption (kilograms per hectare ...</td>\n      <td>AG.CON.FERT.ZS</td>\n      <td>NaN</td>\n      <td>NaN</td>\n      <td>NaN</td>\n      <td>NaN</td>\n      <td>NaN</td>\n      <td>NaN</td>\n      <td>NaN</td>\n      <td>NaN</td>\n      <td>NaN</td>\n      <td>NaN</td>\n      <td>NaN</td>\n      <td>NaN</td>\n      <td>NaN</td>\n      <td>NaN</td>\n      <td>NaN</td>\n      <td>NaN</td>\n      <td>NaN</td>\n      <td>NaN</td>\n      <td>NaN</td>\n      <td>NaN</td>\n      <td>NaN</td>\n      <td>NaN</td>\n      <td>NaN</td>\n      <td>NaN</td>\n      <td>NaN</td>\n      <td>NaN</td>\n      <td>NaN</td>\n      <td>NaN</td>\n      <td>NaN</td>\n      <td>NaN</td>\n      <td>NaN</td>\n      <td>NaN</td>\n      <td>NaN</td>\n      <td>NaN</td>\n      <td>NaN</td>\n      <td>NaN</td>\n      <td>NaN</td>\n      <td>NaN</td>\n      <td>NaN</td>\n      <td>NaN</td>\n      <td>NaN</td>\n    </tr>\n    <tr>\n      <th>6692</th>\n      <td>Andorra</td>\n      <td>AND</td>\n      <td>Marine protected areas (% of territorial waters)</td>\n      <td>ER.MRN.PTMR.ZS</td>\n      <td>NaN</td>\n      <td>NaN</td>\n      <td>NaN</td>\n      <td>NaN</td>\n      <td>NaN</td>\n      <td>NaN</td>\n      <td>NaN</td>\n      <td>NaN</td>\n      <td>NaN</td>\n      <td>NaN</td>\n      <td>NaN</td>\n      <td>NaN</td>\n      <td>NaN</td>\n      <td>NaN</td>\n      <td>NaN</td>\n      <td>NaN</td>\n      <td>NaN</td>\n      <td>NaN</td>\n      <td>NaN</td>\n      <td>NaN</td>\n      <td>NaN</td>\n      <td>NaN</td>\n      <td>NaN</td>\n      <td>NaN</td>\n      <td>NaN</td>\n      <td>NaN</td>\n      <td>NaN</td>\n      <td>NaN</td>\n      <td>NaN</td>\n      <td>NaN</td>\n      <td>NaN</td>\n      <td>NaN</td>\n      <td>NaN</td>\n      <td>NaN</td>\n      <td>NaN</td>\n      <td>NaN</td>\n      <td>NaN</td>\n      <td>NaN</td>\n      <td>NaN</td>\n      <td>NaN</td>\n      <td>NaN</td>\n    </tr>\n    <tr>\n      <th>7330</th>\n      <td>Andorra</td>\n      <td>AND</td>\n      <td>Total fisheries production (metric tons)</td>\n      <td>ER.FSH.PROD.MT</td>\n      <td>NaN</td>\n      <td>NaN</td>\n      <td>NaN</td>\n      <td>NaN</td>\n      <td>NaN</td>\n      <td>NaN</td>\n      <td>NaN</td>\n      <td>NaN</td>\n      <td>NaN</td>\n      <td>NaN</td>\n      <td>NaN</td>\n      <td>NaN</td>\n      <td>NaN</td>\n      <td>NaN</td>\n      <td>NaN</td>\n      <td>NaN</td>\n      <td>NaN</td>\n      <td>NaN</td>\n      <td>NaN</td>\n      <td>NaN</td>\n      <td>NaN</td>\n      <td>NaN</td>\n      <td>NaN</td>\n      <td>NaN</td>\n      <td>NaN</td>\n      <td>NaN</td>\n      <td>NaN</td>\n      <td>NaN</td>\n      <td>NaN</td>\n      <td>NaN</td>\n      <td>NaN</td>\n      <td>NaN</td>\n      <td>NaN</td>\n      <td>NaN</td>\n      <td>NaN</td>\n      <td>NaN</td>\n      <td>NaN</td>\n      <td>NaN</td>\n      <td>NaN</td>\n      <td>NaN</td>\n      <td>NaN</td>\n    </tr>\n    <tr>\n      <th>7489</th>\n      <td>Angola</td>\n      <td>AGO</td>\n      <td>Agricultural irrigated land (% of total agricu...</td>\n      <td>AG.LND.IRIG.AG.ZS</td>\n      <td>NaN</td>\n      <td>NaN</td>\n      <td>NaN</td>\n      <td>NaN</td>\n      <td>NaN</td>\n      <td>NaN</td>\n      <td>NaN</td>\n      <td>NaN</td>\n      <td>NaN</td>\n      <td>NaN</td>\n      <td>NaN</td>\n      <td>NaN</td>\n      <td>NaN</td>\n      <td>NaN</td>\n      <td>NaN</td>\n      <td>NaN</td>\n      <td>NaN</td>\n      <td>NaN</td>\n      <td>NaN</td>\n      <td>NaN</td>\n      <td>NaN</td>\n      <td>NaN</td>\n      <td>NaN</td>\n      <td>NaN</td>\n      <td>NaN</td>\n      <td>NaN</td>\n      <td>NaN</td>\n      <td>NaN</td>\n      <td>NaN</td>\n      <td>NaN</td>\n      <td>NaN</td>\n      <td>NaN</td>\n      <td>NaN</td>\n      <td>NaN</td>\n      <td>NaN</td>\n      <td>NaN</td>\n      <td>NaN</td>\n      <td>NaN</td>\n      <td>NaN</td>\n      <td>NaN</td>\n      <td>NaN</td>\n    </tr>\n    <tr>\n      <th>8975</th>\n      <td>Antigua and Barbuda</td>\n      <td>ATG</td>\n      <td>Agricultural irrigated land (% of total agricu...</td>\n      <td>AG.LND.IRIG.AG.ZS</td>\n      <td>NaN</td>\n      <td>NaN</td>\n      <td>NaN</td>\n      <td>NaN</td>\n      <td>NaN</td>\n      <td>NaN</td>\n      <td>NaN</td>\n      <td>NaN</td>\n      <td>NaN</td>\n      <td>NaN</td>\n      <td>NaN</td>\n      <td>NaN</td>\n      <td>NaN</td>\n      <td>NaN</td>\n      <td>NaN</td>\n      <td>NaN</td>\n      <td>NaN</td>\n      <td>NaN</td>\n      <td>NaN</td>\n      <td>NaN</td>\n      <td>NaN</td>\n      <td>NaN</td>\n      <td>NaN</td>\n      <td>NaN</td>\n      <td>NaN</td>\n      <td>NaN</td>\n      <td>NaN</td>\n      <td>NaN</td>\n      <td>NaN</td>\n      <td>NaN</td>\n      <td>NaN</td>\n      <td>NaN</td>\n      <td>NaN</td>\n      <td>NaN</td>\n      <td>NaN</td>\n      <td>NaN</td>\n      <td>NaN</td>\n      <td>NaN</td>\n      <td>NaN</td>\n      <td>NaN</td>\n      <td>NaN</td>\n    </tr>\n    <tr>\n      <th>12636</th>\n      <td>Armenia</td>\n      <td>ARM</td>\n      <td>Marine protected areas (% of territorial waters)</td>\n      <td>ER.MRN.PTMR.ZS</td>\n      <td>NaN</td>\n      <td>NaN</td>\n      <td>NaN</td>\n      <td>NaN</td>\n      <td>NaN</td>\n      <td>NaN</td>\n      <td>NaN</td>\n      <td>NaN</td>\n      <td>NaN</td>\n      <td>NaN</td>\n      <td>NaN</td>\n      <td>NaN</td>\n      <td>NaN</td>\n      <td>NaN</td>\n      <td>NaN</td>\n      <td>NaN</td>\n      <td>NaN</td>\n      <td>NaN</td>\n      <td>NaN</td>\n      <td>NaN</td>\n      <td>NaN</td>\n      <td>NaN</td>\n      <td>NaN</td>\n      <td>NaN</td>\n      <td>NaN</td>\n      <td>NaN</td>\n      <td>NaN</td>\n      <td>NaN</td>\n      <td>NaN</td>\n      <td>NaN</td>\n      <td>NaN</td>\n      <td>NaN</td>\n      <td>NaN</td>\n      <td>NaN</td>\n      <td>NaN</td>\n      <td>NaN</td>\n      <td>NaN</td>\n      <td>NaN</td>\n      <td>NaN</td>\n      <td>NaN</td>\n      <td>NaN</td>\n    </tr>\n    <tr>\n      <th>13433</th>\n      <td>Aruba</td>\n      <td>ABW</td>\n      <td>Agricultural irrigated land (% of total agricu...</td>\n      <td>AG.LND.IRIG.AG.ZS</td>\n      <td>NaN</td>\n      <td>NaN</td>\n      <td>NaN</td>\n      <td>NaN</td>\n      <td>NaN</td>\n      <td>NaN</td>\n      <td>NaN</td>\n      <td>NaN</td>\n      <td>NaN</td>\n      <td>NaN</td>\n      <td>NaN</td>\n      <td>NaN</td>\n      <td>NaN</td>\n      <td>NaN</td>\n      <td>NaN</td>\n      <td>NaN</td>\n      <td>NaN</td>\n      <td>NaN</td>\n      <td>NaN</td>\n      <td>NaN</td>\n      <td>NaN</td>\n      <td>NaN</td>\n      <td>NaN</td>\n      <td>NaN</td>\n      <td>NaN</td>\n      <td>NaN</td>\n      <td>NaN</td>\n      <td>NaN</td>\n      <td>NaN</td>\n      <td>NaN</td>\n      <td>NaN</td>\n      <td>NaN</td>\n      <td>NaN</td>\n      <td>NaN</td>\n      <td>NaN</td>\n      <td>NaN</td>\n      <td>NaN</td>\n      <td>NaN</td>\n      <td>NaN</td>\n      <td>NaN</td>\n      <td>NaN</td>\n    </tr>\n    <tr>\n      <th>13445</th>\n      <td>Aruba</td>\n      <td>ABW</td>\n      <td>Agriculture, forestry, and fishing, value adde...</td>\n      <td>NV.AGR.TOTL.KD.ZG</td>\n      <td>NaN</td>\n      <td>NaN</td>\n      <td>NaN</td>\n      <td>NaN</td>\n      <td>NaN</td>\n      <td>NaN</td>\n      <td>NaN</td>\n      <td>NaN</td>\n      <td>NaN</td>\n      <td>NaN</td>\n      <td>NaN</td>\n      <td>NaN</td>\n      <td>NaN</td>\n      <td>NaN</td>\n      <td>NaN</td>\n      <td>NaN</td>\n      <td>NaN</td>\n      <td>NaN</td>\n      <td>NaN</td>\n      <td>NaN</td>\n      <td>NaN</td>\n      <td>NaN</td>\n      <td>NaN</td>\n      <td>NaN</td>\n      <td>NaN</td>\n      <td>NaN</td>\n      <td>NaN</td>\n      <td>NaN</td>\n      <td>NaN</td>\n      <td>NaN</td>\n      <td>NaN</td>\n      <td>NaN</td>\n      <td>NaN</td>\n      <td>NaN</td>\n      <td>NaN</td>\n      <td>NaN</td>\n      <td>NaN</td>\n      <td>NaN</td>\n      <td>NaN</td>\n      <td>NaN</td>\n      <td>NaN</td>\n    </tr>\n    <tr>\n      <th>17094</th>\n      <td>Austria</td>\n      <td>AUT</td>\n      <td>Marine protected areas (% of territorial waters)</td>\n      <td>ER.MRN.PTMR.ZS</td>\n      <td>NaN</td>\n      <td>NaN</td>\n      <td>NaN</td>\n      <td>NaN</td>\n      <td>NaN</td>\n      <td>NaN</td>\n      <td>NaN</td>\n      <td>NaN</td>\n      <td>NaN</td>\n      <td>NaN</td>\n      <td>NaN</td>\n      <td>NaN</td>\n      <td>NaN</td>\n      <td>NaN</td>\n      <td>NaN</td>\n      <td>NaN</td>\n      <td>NaN</td>\n      <td>NaN</td>\n      <td>NaN</td>\n      <td>NaN</td>\n      <td>NaN</td>\n      <td>NaN</td>\n      <td>NaN</td>\n      <td>NaN</td>\n      <td>NaN</td>\n      <td>NaN</td>\n      <td>NaN</td>\n      <td>NaN</td>\n      <td>NaN</td>\n      <td>NaN</td>\n      <td>NaN</td>\n      <td>NaN</td>\n      <td>NaN</td>\n      <td>NaN</td>\n      <td>NaN</td>\n      <td>NaN</td>\n      <td>NaN</td>\n      <td>NaN</td>\n      <td>NaN</td>\n      <td>NaN</td>\n      <td>NaN</td>\n    </tr>\n    <tr>\n      <th>19377</th>\n      <td>Bahamas, The</td>\n      <td>BHS</td>\n      <td>Agricultural irrigated land (% of total agricu...</td>\n      <td>AG.LND.IRIG.AG.ZS</td>\n      <td>NaN</td>\n      <td>NaN</td>\n      <td>NaN</td>\n      <td>NaN</td>\n      <td>NaN</td>\n      <td>NaN</td>\n      <td>NaN</td>\n      <td>NaN</td>\n      <td>NaN</td>\n      <td>NaN</td>\n      <td>NaN</td>\n      <td>NaN</td>\n      <td>NaN</td>\n      <td>NaN</td>\n      <td>NaN</td>\n      <td>NaN</td>\n      <td>NaN</td>\n      <td>NaN</td>\n      <td>NaN</td>\n      <td>NaN</td>\n      <td>NaN</td>\n      <td>NaN</td>\n      <td>NaN</td>\n      <td>NaN</td>\n      <td>NaN</td>\n      <td>NaN</td>\n      <td>NaN</td>\n      <td>NaN</td>\n      <td>NaN</td>\n      <td>NaN</td>\n      <td>NaN</td>\n      <td>NaN</td>\n      <td>NaN</td>\n      <td>NaN</td>\n      <td>NaN</td>\n      <td>NaN</td>\n      <td>NaN</td>\n      <td>NaN</td>\n      <td>NaN</td>\n      <td>NaN</td>\n      <td>NaN</td>\n    </tr>\n    <tr>\n      <th>23835</th>\n      <td>Barbados</td>\n      <td>BRB</td>\n      <td>Agricultural irrigated land (% of total agricu...</td>\n      <td>AG.LND.IRIG.AG.ZS</td>\n      <td>NaN</td>\n      <td>NaN</td>\n      <td>NaN</td>\n      <td>NaN</td>\n      <td>NaN</td>\n      <td>NaN</td>\n      <td>NaN</td>\n      <td>NaN</td>\n      <td>NaN</td>\n      <td>NaN</td>\n      <td>NaN</td>\n      <td>NaN</td>\n      <td>NaN</td>\n      <td>NaN</td>\n      <td>NaN</td>\n      <td>NaN</td>\n      <td>NaN</td>\n      <td>NaN</td>\n      <td>NaN</td>\n      <td>NaN</td>\n      <td>NaN</td>\n      <td>NaN</td>\n      <td>NaN</td>\n      <td>NaN</td>\n      <td>NaN</td>\n      <td>NaN</td>\n      <td>NaN</td>\n      <td>NaN</td>\n      <td>NaN</td>\n      <td>NaN</td>\n      <td>NaN</td>\n      <td>NaN</td>\n      <td>NaN</td>\n      <td>NaN</td>\n      <td>NaN</td>\n      <td>NaN</td>\n      <td>NaN</td>\n      <td>NaN</td>\n      <td>NaN</td>\n      <td>NaN</td>\n      <td>NaN</td>\n    </tr>\n    <tr>\n      <th>26010</th>\n      <td>Belarus</td>\n      <td>BLR</td>\n      <td>Marine protected areas (% of territorial waters)</td>\n      <td>ER.MRN.PTMR.ZS</td>\n      <td>NaN</td>\n      <td>NaN</td>\n      <td>NaN</td>\n      <td>NaN</td>\n      <td>NaN</td>\n      <td>NaN</td>\n      <td>NaN</td>\n      <td>NaN</td>\n      <td>NaN</td>\n      <td>NaN</td>\n      <td>NaN</td>\n      <td>NaN</td>\n      <td>NaN</td>\n      <td>NaN</td>\n      <td>NaN</td>\n      <td>NaN</td>\n      <td>NaN</td>\n      <td>NaN</td>\n      <td>NaN</td>\n      <td>NaN</td>\n      <td>NaN</td>\n      <td>NaN</td>\n      <td>NaN</td>\n      <td>NaN</td>\n      <td>NaN</td>\n      <td>NaN</td>\n      <td>NaN</td>\n      <td>NaN</td>\n      <td>NaN</td>\n      <td>NaN</td>\n      <td>NaN</td>\n      <td>NaN</td>\n      <td>NaN</td>\n      <td>NaN</td>\n      <td>NaN</td>\n      <td>NaN</td>\n      <td>NaN</td>\n      <td>NaN</td>\n      <td>NaN</td>\n      <td>NaN</td>\n      <td>NaN</td>\n    </tr>\n    <tr>\n      <th>28293</th>\n      <td>Belize</td>\n      <td>BLZ</td>\n      <td>Agricultural irrigated land (% of total agricu...</td>\n      <td>AG.LND.IRIG.AG.ZS</td>\n      <td>NaN</td>\n      <td>NaN</td>\n      <td>NaN</td>\n      <td>NaN</td>\n      <td>NaN</td>\n      <td>NaN</td>\n      <td>NaN</td>\n      <td>NaN</td>\n      <td>NaN</td>\n      <td>NaN</td>\n      <td>NaN</td>\n      <td>NaN</td>\n      <td>NaN</td>\n      <td>NaN</td>\n      <td>NaN</td>\n      <td>NaN</td>\n      <td>NaN</td>\n      <td>NaN</td>\n      <td>NaN</td>\n      <td>NaN</td>\n      <td>NaN</td>\n      <td>NaN</td>\n      <td>NaN</td>\n      <td>NaN</td>\n      <td>NaN</td>\n      <td>NaN</td>\n      <td>NaN</td>\n      <td>NaN</td>\n      <td>NaN</td>\n      <td>NaN</td>\n      <td>NaN</td>\n      <td>NaN</td>\n      <td>NaN</td>\n      <td>NaN</td>\n      <td>NaN</td>\n      <td>NaN</td>\n      <td>NaN</td>\n      <td>NaN</td>\n      <td>NaN</td>\n      <td>NaN</td>\n      <td>NaN</td>\n    </tr>\n    <tr>\n      <th>31265</th>\n      <td>Bermuda</td>\n      <td>BMU</td>\n      <td>Agricultural irrigated land (% of total agricu...</td>\n      <td>AG.LND.IRIG.AG.ZS</td>\n      <td>NaN</td>\n      <td>NaN</td>\n      <td>NaN</td>\n      <td>NaN</td>\n      <td>NaN</td>\n      <td>NaN</td>\n      <td>NaN</td>\n      <td>NaN</td>\n      <td>NaN</td>\n      <td>NaN</td>\n      <td>NaN</td>\n      <td>NaN</td>\n      <td>NaN</td>\n      <td>NaN</td>\n      <td>NaN</td>\n      <td>NaN</td>\n      <td>NaN</td>\n      <td>NaN</td>\n      <td>NaN</td>\n      <td>NaN</td>\n      <td>NaN</td>\n      <td>NaN</td>\n      <td>NaN</td>\n      <td>NaN</td>\n      <td>NaN</td>\n      <td>NaN</td>\n      <td>NaN</td>\n      <td>NaN</td>\n      <td>NaN</td>\n      <td>NaN</td>\n      <td>NaN</td>\n      <td>NaN</td>\n      <td>NaN</td>\n      <td>NaN</td>\n      <td>NaN</td>\n      <td>NaN</td>\n      <td>NaN</td>\n      <td>NaN</td>\n      <td>NaN</td>\n      <td>NaN</td>\n      <td>NaN</td>\n    </tr>\n    <tr>\n      <th>31296</th>\n      <td>Bermuda</td>\n      <td>BMU</td>\n      <td>Aquaculture production (metric tons)</td>\n      <td>ER.FSH.AQUA.MT</td>\n      <td>NaN</td>\n      <td>NaN</td>\n      <td>NaN</td>\n      <td>NaN</td>\n      <td>NaN</td>\n      <td>NaN</td>\n      <td>NaN</td>\n      <td>NaN</td>\n      <td>NaN</td>\n      <td>NaN</td>\n      <td>NaN</td>\n      <td>NaN</td>\n      <td>NaN</td>\n      <td>NaN</td>\n      <td>NaN</td>\n      <td>NaN</td>\n      <td>NaN</td>\n      <td>NaN</td>\n      <td>NaN</td>\n      <td>NaN</td>\n      <td>NaN</td>\n      <td>NaN</td>\n      <td>NaN</td>\n      <td>NaN</td>\n      <td>NaN</td>\n      <td>NaN</td>\n      <td>NaN</td>\n      <td>NaN</td>\n      <td>NaN</td>\n      <td>NaN</td>\n      <td>NaN</td>\n      <td>NaN</td>\n      <td>NaN</td>\n      <td>NaN</td>\n      <td>NaN</td>\n      <td>NaN</td>\n      <td>NaN</td>\n      <td>NaN</td>\n      <td>NaN</td>\n      <td>NaN</td>\n      <td>NaN</td>\n    </tr>\n    <tr>\n      <th>32592</th>\n      <td>Bermuda</td>\n      <td>BMU</td>\n      <td>Total fisheries production (metric tons)</td>\n      <td>ER.FSH.PROD.MT</td>\n      <td>NaN</td>\n      <td>NaN</td>\n      <td>NaN</td>\n      <td>NaN</td>\n      <td>NaN</td>\n      <td>NaN</td>\n      <td>NaN</td>\n      <td>NaN</td>\n      <td>NaN</td>\n      <td>NaN</td>\n      <td>NaN</td>\n      <td>NaN</td>\n      <td>NaN</td>\n      <td>NaN</td>\n      <td>NaN</td>\n      <td>NaN</td>\n      <td>NaN</td>\n      <td>NaN</td>\n      <td>NaN</td>\n      <td>NaN</td>\n      <td>NaN</td>\n      <td>NaN</td>\n      <td>NaN</td>\n      <td>NaN</td>\n      <td>NaN</td>\n      <td>NaN</td>\n      <td>NaN</td>\n      <td>NaN</td>\n      <td>NaN</td>\n      <td>NaN</td>\n      <td>NaN</td>\n      <td>NaN</td>\n      <td>NaN</td>\n      <td>NaN</td>\n      <td>NaN</td>\n      <td>NaN</td>\n      <td>NaN</td>\n      <td>NaN</td>\n      <td>NaN</td>\n      <td>NaN</td>\n      <td>NaN</td>\n    </tr>\n    <tr>\n      <th>32751</th>\n      <td>Bhutan</td>\n      <td>BTN</td>\n      <td>Agricultural irrigated land (% of total agricu...</td>\n      <td>AG.LND.IRIG.AG.ZS</td>\n      <td>NaN</td>\n      <td>NaN</td>\n      <td>NaN</td>\n      <td>NaN</td>\n      <td>NaN</td>\n      <td>NaN</td>\n      <td>NaN</td>\n      <td>NaN</td>\n      <td>NaN</td>\n      <td>NaN</td>\n      <td>NaN</td>\n      <td>NaN</td>\n      <td>NaN</td>\n      <td>NaN</td>\n      <td>NaN</td>\n      <td>NaN</td>\n      <td>NaN</td>\n      <td>NaN</td>\n      <td>NaN</td>\n      <td>NaN</td>\n      <td>NaN</td>\n      <td>NaN</td>\n      <td>NaN</td>\n      <td>NaN</td>\n      <td>NaN</td>\n      <td>NaN</td>\n      <td>NaN</td>\n      <td>NaN</td>\n      <td>NaN</td>\n      <td>NaN</td>\n      <td>NaN</td>\n      <td>NaN</td>\n      <td>NaN</td>\n      <td>NaN</td>\n      <td>NaN</td>\n      <td>NaN</td>\n      <td>NaN</td>\n      <td>NaN</td>\n      <td>NaN</td>\n      <td>NaN</td>\n      <td>NaN</td>\n    </tr>\n    <tr>\n      <th>33440</th>\n      <td>Bhutan</td>\n      <td>BTN</td>\n      <td>Marine protected areas (% of territorial waters)</td>\n      <td>ER.MRN.PTMR.ZS</td>\n      <td>NaN</td>\n      <td>NaN</td>\n      <td>NaN</td>\n      <td>NaN</td>\n      <td>NaN</td>\n      <td>NaN</td>\n      <td>NaN</td>\n      <td>NaN</td>\n      <td>NaN</td>\n      <td>NaN</td>\n      <td>NaN</td>\n      <td>NaN</td>\n      <td>NaN</td>\n      <td>NaN</td>\n      <td>NaN</td>\n      <td>NaN</td>\n      <td>NaN</td>\n      <td>NaN</td>\n      <td>NaN</td>\n      <td>NaN</td>\n      <td>NaN</td>\n      <td>NaN</td>\n      <td>NaN</td>\n      <td>NaN</td>\n      <td>NaN</td>\n      <td>NaN</td>\n      <td>NaN</td>\n      <td>NaN</td>\n      <td>NaN</td>\n      <td>NaN</td>\n      <td>NaN</td>\n      <td>NaN</td>\n      <td>NaN</td>\n      <td>NaN</td>\n      <td>NaN</td>\n      <td>NaN</td>\n      <td>NaN</td>\n      <td>NaN</td>\n      <td>NaN</td>\n      <td>NaN</td>\n      <td>NaN</td>\n    </tr>\n    <tr>\n      <th>34926</th>\n      <td>Bolivia</td>\n      <td>BOL</td>\n      <td>Marine protected areas (% of territorial waters)</td>\n      <td>ER.MRN.PTMR.ZS</td>\n      <td>NaN</td>\n      <td>NaN</td>\n      <td>NaN</td>\n      <td>NaN</td>\n      <td>NaN</td>\n      <td>NaN</td>\n      <td>NaN</td>\n      <td>NaN</td>\n      <td>NaN</td>\n      <td>NaN</td>\n      <td>NaN</td>\n      <td>NaN</td>\n      <td>NaN</td>\n      <td>NaN</td>\n      <td>NaN</td>\n      <td>NaN</td>\n      <td>NaN</td>\n      <td>NaN</td>\n      <td>NaN</td>\n      <td>NaN</td>\n      <td>NaN</td>\n      <td>NaN</td>\n      <td>NaN</td>\n      <td>NaN</td>\n      <td>NaN</td>\n      <td>NaN</td>\n      <td>NaN</td>\n      <td>NaN</td>\n      <td>NaN</td>\n      <td>NaN</td>\n      <td>NaN</td>\n      <td>NaN</td>\n      <td>NaN</td>\n      <td>NaN</td>\n      <td>NaN</td>\n      <td>NaN</td>\n      <td>NaN</td>\n      <td>NaN</td>\n      <td>NaN</td>\n      <td>NaN</td>\n      <td>NaN</td>\n    </tr>\n    <tr>\n      <th>35723</th>\n      <td>Bosnia and Herzegovina</td>\n      <td>BIH</td>\n      <td>Agricultural irrigated land (% of total agricu...</td>\n      <td>AG.LND.IRIG.AG.ZS</td>\n      <td>NaN</td>\n      <td>NaN</td>\n      <td>NaN</td>\n      <td>NaN</td>\n      <td>NaN</td>\n      <td>NaN</td>\n      <td>NaN</td>\n      <td>NaN</td>\n      <td>NaN</td>\n      <td>NaN</td>\n      <td>NaN</td>\n      <td>NaN</td>\n      <td>NaN</td>\n      <td>NaN</td>\n      <td>NaN</td>\n      <td>NaN</td>\n      <td>NaN</td>\n      <td>NaN</td>\n      <td>NaN</td>\n      <td>NaN</td>\n      <td>NaN</td>\n      <td>NaN</td>\n      <td>NaN</td>\n      <td>NaN</td>\n      <td>NaN</td>\n      <td>NaN</td>\n      <td>NaN</td>\n      <td>NaN</td>\n      <td>NaN</td>\n      <td>NaN</td>\n      <td>NaN</td>\n      <td>NaN</td>\n      <td>NaN</td>\n      <td>NaN</td>\n      <td>NaN</td>\n      <td>NaN</td>\n      <td>NaN</td>\n      <td>NaN</td>\n      <td>NaN</td>\n      <td>NaN</td>\n      <td>NaN</td>\n    </tr>\n    <tr>\n      <th>37898</th>\n      <td>Botswana</td>\n      <td>BWA</td>\n      <td>Marine protected areas (% of territorial waters)</td>\n      <td>ER.MRN.PTMR.ZS</td>\n      <td>NaN</td>\n      <td>NaN</td>\n      <td>NaN</td>\n      <td>NaN</td>\n      <td>NaN</td>\n      <td>NaN</td>\n      <td>NaN</td>\n      <td>NaN</td>\n      <td>NaN</td>\n      <td>NaN</td>\n      <td>NaN</td>\n      <td>NaN</td>\n      <td>NaN</td>\n      <td>NaN</td>\n      <td>NaN</td>\n      <td>NaN</td>\n      <td>NaN</td>\n      <td>NaN</td>\n      <td>NaN</td>\n      <td>NaN</td>\n      <td>NaN</td>\n      <td>NaN</td>\n      <td>NaN</td>\n      <td>NaN</td>\n      <td>NaN</td>\n      <td>NaN</td>\n      <td>NaN</td>\n      <td>NaN</td>\n      <td>NaN</td>\n      <td>NaN</td>\n      <td>NaN</td>\n      <td>NaN</td>\n      <td>NaN</td>\n      <td>NaN</td>\n      <td>NaN</td>\n      <td>NaN</td>\n      <td>NaN</td>\n      <td>NaN</td>\n      <td>NaN</td>\n      <td>NaN</td>\n      <td>NaN</td>\n    </tr>\n    <tr>\n      <th>40181</th>\n      <td>British Virgin Islands</td>\n      <td>VGB</td>\n      <td>Agricultural irrigated land (% of total agricu...</td>\n      <td>AG.LND.IRIG.AG.ZS</td>\n      <td>NaN</td>\n      <td>NaN</td>\n      <td>NaN</td>\n      <td>NaN</td>\n      <td>NaN</td>\n      <td>NaN</td>\n      <td>NaN</td>\n      <td>NaN</td>\n      <td>NaN</td>\n      <td>NaN</td>\n      <td>NaN</td>\n      <td>NaN</td>\n      <td>NaN</td>\n      <td>NaN</td>\n      <td>NaN</td>\n      <td>NaN</td>\n      <td>NaN</td>\n      <td>NaN</td>\n      <td>NaN</td>\n      <td>NaN</td>\n      <td>NaN</td>\n      <td>NaN</td>\n      <td>NaN</td>\n      <td>NaN</td>\n      <td>NaN</td>\n      <td>NaN</td>\n      <td>NaN</td>\n      <td>NaN</td>\n      <td>NaN</td>\n      <td>NaN</td>\n      <td>NaN</td>\n      <td>NaN</td>\n      <td>NaN</td>\n      <td>NaN</td>\n      <td>NaN</td>\n      <td>NaN</td>\n      <td>NaN</td>\n      <td>NaN</td>\n      <td>NaN</td>\n      <td>NaN</td>\n      <td>NaN</td>\n    </tr>\n    <tr>\n      <th>40192</th>\n      <td>British Virgin Islands</td>\n      <td>VGB</td>\n      <td>Agriculture, forestry, and fishing, value adde...</td>\n      <td>NV.AGR.TOTL.ZS</td>\n      <td>NaN</td>\n      <td>NaN</td>\n      <td>NaN</td>\n      <td>NaN</td>\n      <td>NaN</td>\n      <td>NaN</td>\n      <td>NaN</td>\n      <td>NaN</td>\n      <td>NaN</td>\n      <td>NaN</td>\n      <td>NaN</td>\n      <td>NaN</td>\n      <td>NaN</td>\n      <td>NaN</td>\n      <td>NaN</td>\n      <td>NaN</td>\n      <td>NaN</td>\n      <td>NaN</td>\n      <td>NaN</td>\n      <td>NaN</td>\n      <td>NaN</td>\n      <td>NaN</td>\n      <td>NaN</td>\n      <td>NaN</td>\n      <td>NaN</td>\n      <td>NaN</td>\n      <td>NaN</td>\n      <td>NaN</td>\n      <td>NaN</td>\n      <td>NaN</td>\n      <td>NaN</td>\n      <td>NaN</td>\n      <td>NaN</td>\n      <td>NaN</td>\n      <td>NaN</td>\n      <td>NaN</td>\n      <td>NaN</td>\n      <td>NaN</td>\n      <td>NaN</td>\n      <td>NaN</td>\n      <td>NaN</td>\n    </tr>\n    <tr>\n      <th>40193</th>\n      <td>British Virgin Islands</td>\n      <td>VGB</td>\n      <td>Agriculture, forestry, and fishing, value adde...</td>\n      <td>NV.AGR.TOTL.KD.ZG</td>\n      <td>NaN</td>\n      <td>NaN</td>\n      <td>NaN</td>\n      <td>NaN</td>\n      <td>NaN</td>\n      <td>NaN</td>\n      <td>NaN</td>\n      <td>NaN</td>\n      <td>NaN</td>\n      <td>NaN</td>\n      <td>NaN</td>\n      <td>NaN</td>\n      <td>NaN</td>\n      <td>NaN</td>\n      <td>NaN</td>\n      <td>NaN</td>\n      <td>NaN</td>\n      <td>NaN</td>\n      <td>NaN</td>\n      <td>NaN</td>\n      <td>NaN</td>\n      <td>NaN</td>\n      <td>NaN</td>\n      <td>NaN</td>\n      <td>NaN</td>\n      <td>NaN</td>\n      <td>NaN</td>\n      <td>NaN</td>\n      <td>NaN</td>\n      <td>NaN</td>\n      <td>NaN</td>\n      <td>NaN</td>\n      <td>NaN</td>\n      <td>NaN</td>\n      <td>NaN</td>\n      <td>NaN</td>\n      <td>NaN</td>\n      <td>NaN</td>\n      <td>NaN</td>\n      <td>NaN</td>\n      <td>NaN</td>\n    </tr>\n    <tr>\n      <th>40197</th>\n      <td>British Virgin Islands</td>\n      <td>VGB</td>\n      <td>Agriculture, forestry, and fishing, value adde...</td>\n      <td>NV.AGR.TOTL.CD</td>\n      <td>NaN</td>\n      <td>NaN</td>\n      <td>NaN</td>\n      <td>NaN</td>\n      <td>NaN</td>\n      <td>NaN</td>\n      <td>NaN</td>\n      <td>NaN</td>\n      <td>NaN</td>\n      <td>NaN</td>\n      <td>NaN</td>\n      <td>NaN</td>\n      <td>NaN</td>\n      <td>NaN</td>\n      <td>NaN</td>\n      <td>NaN</td>\n      <td>NaN</td>\n      <td>NaN</td>\n      <td>NaN</td>\n      <td>NaN</td>\n      <td>NaN</td>\n      <td>NaN</td>\n      <td>NaN</td>\n      <td>NaN</td>\n      <td>NaN</td>\n      <td>NaN</td>\n      <td>NaN</td>\n      <td>NaN</td>\n      <td>NaN</td>\n      <td>NaN</td>\n      <td>NaN</td>\n      <td>NaN</td>\n      <td>NaN</td>\n      <td>NaN</td>\n      <td>NaN</td>\n      <td>NaN</td>\n      <td>NaN</td>\n      <td>NaN</td>\n      <td>NaN</td>\n      <td>NaN</td>\n      <td>NaN</td>\n    </tr>\n    <tr>\n      <th>40552</th>\n      <td>British Virgin Islands</td>\n      <td>VGB</td>\n      <td>Fertilizer consumption (kilograms per hectare ...</td>\n      <td>AG.CON.FERT.ZS</td>\n      <td>NaN</td>\n      <td>NaN</td>\n      <td>NaN</td>\n      <td>NaN</td>\n      <td>NaN</td>\n      <td>NaN</td>\n      <td>NaN</td>\n      <td>NaN</td>\n      <td>NaN</td>\n      <td>NaN</td>\n      <td>NaN</td>\n      <td>NaN</td>\n      <td>NaN</td>\n      <td>NaN</td>\n      <td>NaN</td>\n      <td>NaN</td>\n      <td>NaN</td>\n      <td>NaN</td>\n      <td>NaN</td>\n      <td>NaN</td>\n      <td>NaN</td>\n      <td>NaN</td>\n      <td>NaN</td>\n      <td>NaN</td>\n      <td>NaN</td>\n      <td>NaN</td>\n      <td>NaN</td>\n      <td>NaN</td>\n      <td>NaN</td>\n      <td>NaN</td>\n      <td>NaN</td>\n      <td>NaN</td>\n      <td>NaN</td>\n      <td>NaN</td>\n      <td>NaN</td>\n      <td>NaN</td>\n      <td>NaN</td>\n      <td>NaN</td>\n      <td>NaN</td>\n      <td>NaN</td>\n      <td>NaN</td>\n    </tr>\n    <tr>\n      <th>44639</th>\n      <td>Burkina Faso</td>\n      <td>BFA</td>\n      <td>Agricultural irrigated land (% of total agricu...</td>\n      <td>AG.LND.IRIG.AG.ZS</td>\n      <td>NaN</td>\n      <td>NaN</td>\n      <td>NaN</td>\n      <td>NaN</td>\n      <td>NaN</td>\n      <td>NaN</td>\n      <td>NaN</td>\n      <td>NaN</td>\n      <td>NaN</td>\n      <td>NaN</td>\n      <td>NaN</td>\n      <td>NaN</td>\n      <td>NaN</td>\n      <td>NaN</td>\n      <td>NaN</td>\n      <td>NaN</td>\n      <td>NaN</td>\n      <td>NaN</td>\n      <td>NaN</td>\n      <td>NaN</td>\n      <td>NaN</td>\n      <td>NaN</td>\n      <td>NaN</td>\n      <td>NaN</td>\n      <td>NaN</td>\n      <td>NaN</td>\n      <td>NaN</td>\n      <td>NaN</td>\n      <td>NaN</td>\n      <td>NaN</td>\n      <td>NaN</td>\n      <td>NaN</td>\n      <td>NaN</td>\n      <td>NaN</td>\n      <td>NaN</td>\n      <td>NaN</td>\n      <td>NaN</td>\n      <td>NaN</td>\n      <td>NaN</td>\n      <td>NaN</td>\n      <td>NaN</td>\n    </tr>\n    <tr>\n      <th>45328</th>\n      <td>Burkina Faso</td>\n      <td>BFA</td>\n      <td>Marine protected areas (% of territorial waters)</td>\n      <td>ER.MRN.PTMR.ZS</td>\n      <td>NaN</td>\n      <td>NaN</td>\n      <td>NaN</td>\n      <td>NaN</td>\n      <td>NaN</td>\n      <td>NaN</td>\n      <td>NaN</td>\n      <td>NaN</td>\n      <td>NaN</td>\n      <td>NaN</td>\n      <td>NaN</td>\n      <td>NaN</td>\n      <td>NaN</td>\n      <td>NaN</td>\n      <td>NaN</td>\n      <td>NaN</td>\n      <td>NaN</td>\n      <td>NaN</td>\n      <td>NaN</td>\n      <td>NaN</td>\n      <td>NaN</td>\n      <td>NaN</td>\n      <td>NaN</td>\n      <td>NaN</td>\n      <td>NaN</td>\n      <td>NaN</td>\n      <td>NaN</td>\n      <td>NaN</td>\n      <td>NaN</td>\n      <td>NaN</td>\n      <td>NaN</td>\n      <td>NaN</td>\n      <td>NaN</td>\n      <td>NaN</td>\n      <td>NaN</td>\n      <td>NaN</td>\n      <td>NaN</td>\n      <td>NaN</td>\n      <td>NaN</td>\n      <td>NaN</td>\n      <td>NaN</td>\n    </tr>\n    <tr>\n      <th>46125</th>\n      <td>Burundi</td>\n      <td>BDI</td>\n      <td>Agricultural irrigated land (% of total agricu...</td>\n      <td>AG.LND.IRIG.AG.ZS</td>\n      <td>NaN</td>\n      <td>NaN</td>\n      <td>NaN</td>\n      <td>NaN</td>\n      <td>NaN</td>\n      <td>NaN</td>\n      <td>NaN</td>\n      <td>NaN</td>\n      <td>NaN</td>\n      <td>NaN</td>\n      <td>NaN</td>\n      <td>NaN</td>\n      <td>NaN</td>\n      <td>NaN</td>\n      <td>NaN</td>\n      <td>NaN</td>\n      <td>NaN</td>\n      <td>NaN</td>\n      <td>NaN</td>\n      <td>NaN</td>\n      <td>NaN</td>\n      <td>NaN</td>\n      <td>NaN</td>\n      <td>NaN</td>\n      <td>NaN</td>\n      <td>NaN</td>\n      <td>NaN</td>\n      <td>NaN</td>\n      <td>NaN</td>\n      <td>NaN</td>\n      <td>NaN</td>\n      <td>NaN</td>\n      <td>NaN</td>\n      <td>NaN</td>\n      <td>NaN</td>\n      <td>NaN</td>\n      <td>NaN</td>\n      <td>NaN</td>\n      <td>NaN</td>\n      <td>NaN</td>\n      <td>NaN</td>\n    </tr>\n    <tr>\n      <th>46814</th>\n      <td>Burundi</td>\n      <td>BDI</td>\n      <td>Marine protected areas (% of territorial waters)</td>\n      <td>ER.MRN.PTMR.ZS</td>\n      <td>NaN</td>\n      <td>NaN</td>\n      <td>NaN</td>\n      <td>NaN</td>\n      <td>NaN</td>\n      <td>NaN</td>\n      <td>NaN</td>\n      <td>NaN</td>\n      <td>NaN</td>\n      <td>NaN</td>\n      <td>NaN</td>\n      <td>NaN</td>\n      <td>NaN</td>\n      <td>NaN</td>\n      <td>NaN</td>\n      <td>NaN</td>\n      <td>NaN</td>\n      <td>NaN</td>\n      <td>NaN</td>\n      <td>NaN</td>\n      <td>NaN</td>\n      <td>NaN</td>\n      <td>NaN</td>\n      <td>NaN</td>\n      <td>NaN</td>\n      <td>NaN</td>\n      <td>NaN</td>\n      <td>NaN</td>\n      <td>NaN</td>\n      <td>NaN</td>\n      <td>NaN</td>\n      <td>NaN</td>\n      <td>NaN</td>\n      <td>NaN</td>\n      <td>NaN</td>\n      <td>NaN</td>\n      <td>NaN</td>\n      <td>NaN</td>\n      <td>NaN</td>\n      <td>NaN</td>\n      <td>NaN</td>\n    </tr>\n    <tr>\n      <th>47611</th>\n      <td>Cabo Verde</td>\n      <td>CPV</td>\n      <td>Agricultural irrigated land (% of total agricu...</td>\n      <td>AG.LND.IRIG.AG.ZS</td>\n      <td>NaN</td>\n      <td>NaN</td>\n      <td>NaN</td>\n      <td>NaN</td>\n      <td>NaN</td>\n      <td>NaN</td>\n      <td>NaN</td>\n      <td>NaN</td>\n      <td>NaN</td>\n      <td>NaN</td>\n      <td>NaN</td>\n      <td>NaN</td>\n      <td>NaN</td>\n      <td>NaN</td>\n      <td>NaN</td>\n      <td>NaN</td>\n      <td>NaN</td>\n      <td>NaN</td>\n      <td>NaN</td>\n      <td>NaN</td>\n      <td>NaN</td>\n      <td>NaN</td>\n      <td>NaN</td>\n      <td>NaN</td>\n      <td>NaN</td>\n      <td>NaN</td>\n      <td>NaN</td>\n      <td>NaN</td>\n      <td>NaN</td>\n      <td>NaN</td>\n      <td>NaN</td>\n      <td>NaN</td>\n      <td>NaN</td>\n      <td>NaN</td>\n      <td>NaN</td>\n      <td>NaN</td>\n      <td>NaN</td>\n      <td>NaN</td>\n      <td>NaN</td>\n      <td>NaN</td>\n      <td>NaN</td>\n    </tr>\n    <tr>\n      <th>49097</th>\n      <td>Cambodia</td>\n      <td>KHM</td>\n      <td>Agricultural irrigated land (% of total agricu...</td>\n      <td>AG.LND.IRIG.AG.ZS</td>\n      <td>NaN</td>\n      <td>NaN</td>\n      <td>NaN</td>\n      <td>NaN</td>\n      <td>NaN</td>\n      <td>NaN</td>\n      <td>NaN</td>\n      <td>NaN</td>\n      <td>NaN</td>\n      <td>NaN</td>\n      <td>NaN</td>\n      <td>NaN</td>\n      <td>NaN</td>\n      <td>NaN</td>\n      <td>NaN</td>\n      <td>NaN</td>\n      <td>NaN</td>\n      <td>NaN</td>\n      <td>NaN</td>\n      <td>NaN</td>\n      <td>NaN</td>\n      <td>NaN</td>\n      <td>NaN</td>\n      <td>NaN</td>\n      <td>NaN</td>\n      <td>NaN</td>\n      <td>NaN</td>\n      <td>NaN</td>\n      <td>NaN</td>\n      <td>NaN</td>\n      <td>NaN</td>\n      <td>NaN</td>\n      <td>NaN</td>\n      <td>NaN</td>\n      <td>NaN</td>\n      <td>NaN</td>\n      <td>NaN</td>\n      <td>NaN</td>\n      <td>NaN</td>\n      <td>NaN</td>\n      <td>NaN</td>\n    </tr>\n    <tr>\n      <th>50583</th>\n      <td>Cameroon</td>\n      <td>CMR</td>\n      <td>Agricultural irrigated land (% of total agricu...</td>\n      <td>AG.LND.IRIG.AG.ZS</td>\n      <td>NaN</td>\n      <td>NaN</td>\n      <td>NaN</td>\n      <td>NaN</td>\n      <td>NaN</td>\n      <td>NaN</td>\n      <td>NaN</td>\n      <td>NaN</td>\n      <td>NaN</td>\n      <td>NaN</td>\n      <td>NaN</td>\n      <td>NaN</td>\n      <td>NaN</td>\n      <td>NaN</td>\n      <td>NaN</td>\n      <td>NaN</td>\n      <td>NaN</td>\n      <td>NaN</td>\n      <td>NaN</td>\n      <td>NaN</td>\n      <td>NaN</td>\n      <td>NaN</td>\n      <td>NaN</td>\n      <td>NaN</td>\n      <td>NaN</td>\n      <td>NaN</td>\n      <td>NaN</td>\n      <td>NaN</td>\n      <td>NaN</td>\n      <td>NaN</td>\n      <td>NaN</td>\n      <td>NaN</td>\n      <td>NaN</td>\n      <td>NaN</td>\n      <td>NaN</td>\n      <td>NaN</td>\n      <td>NaN</td>\n      <td>NaN</td>\n      <td>NaN</td>\n      <td>NaN</td>\n      <td>NaN</td>\n    </tr>\n    <tr>\n      <th>53555</th>\n      <td>Cayman Islands</td>\n      <td>CYM</td>\n      <td>Agricultural irrigated land (% of total agricu...</td>\n      <td>AG.LND.IRIG.AG.ZS</td>\n      <td>NaN</td>\n      <td>NaN</td>\n      <td>NaN</td>\n      <td>NaN</td>\n      <td>NaN</td>\n      <td>NaN</td>\n      <td>NaN</td>\n      <td>NaN</td>\n      <td>NaN</td>\n      <td>NaN</td>\n      <td>NaN</td>\n      <td>NaN</td>\n      <td>NaN</td>\n      <td>NaN</td>\n      <td>NaN</td>\n      <td>NaN</td>\n      <td>NaN</td>\n      <td>NaN</td>\n      <td>NaN</td>\n      <td>NaN</td>\n      <td>NaN</td>\n      <td>NaN</td>\n      <td>NaN</td>\n      <td>NaN</td>\n      <td>NaN</td>\n      <td>NaN</td>\n      <td>NaN</td>\n      <td>NaN</td>\n      <td>NaN</td>\n      <td>NaN</td>\n      <td>NaN</td>\n      <td>NaN</td>\n      <td>NaN</td>\n      <td>NaN</td>\n      <td>NaN</td>\n      <td>NaN</td>\n      <td>NaN</td>\n      <td>NaN</td>\n      <td>NaN</td>\n      <td>NaN</td>\n      <td>NaN</td>\n    </tr>\n    <tr>\n      <th>55041</th>\n      <td>Central African Republic</td>\n      <td>CAF</td>\n      <td>Agricultural irrigated land (% of total agricu...</td>\n      <td>AG.LND.IRIG.AG.ZS</td>\n      <td>NaN</td>\n      <td>NaN</td>\n      <td>NaN</td>\n      <td>NaN</td>\n      <td>NaN</td>\n      <td>NaN</td>\n      <td>NaN</td>\n      <td>NaN</td>\n      <td>NaN</td>\n      <td>NaN</td>\n      <td>NaN</td>\n      <td>NaN</td>\n      <td>NaN</td>\n      <td>NaN</td>\n      <td>NaN</td>\n      <td>NaN</td>\n      <td>NaN</td>\n      <td>NaN</td>\n      <td>NaN</td>\n      <td>NaN</td>\n      <td>NaN</td>\n      <td>NaN</td>\n      <td>NaN</td>\n      <td>NaN</td>\n      <td>NaN</td>\n      <td>NaN</td>\n      <td>NaN</td>\n      <td>NaN</td>\n      <td>NaN</td>\n      <td>NaN</td>\n      <td>NaN</td>\n      <td>NaN</td>\n      <td>NaN</td>\n      <td>NaN</td>\n      <td>NaN</td>\n      <td>NaN</td>\n      <td>NaN</td>\n      <td>NaN</td>\n      <td>NaN</td>\n      <td>NaN</td>\n      <td>NaN</td>\n    </tr>\n    <tr>\n      <th>55730</th>\n      <td>Central African Republic</td>\n      <td>CAF</td>\n      <td>Marine protected areas (% of territorial waters)</td>\n      <td>ER.MRN.PTMR.ZS</td>\n      <td>NaN</td>\n      <td>NaN</td>\n      <td>NaN</td>\n      <td>NaN</td>\n      <td>NaN</td>\n      <td>NaN</td>\n      <td>NaN</td>\n      <td>NaN</td>\n      <td>NaN</td>\n      <td>NaN</td>\n      <td>NaN</td>\n      <td>NaN</td>\n      <td>NaN</td>\n      <td>NaN</td>\n      <td>NaN</td>\n      <td>NaN</td>\n      <td>NaN</td>\n      <td>NaN</td>\n      <td>NaN</td>\n      <td>NaN</td>\n      <td>NaN</td>\n      <td>NaN</td>\n      <td>NaN</td>\n      <td>NaN</td>\n      <td>NaN</td>\n      <td>NaN</td>\n      <td>NaN</td>\n      <td>NaN</td>\n      <td>NaN</td>\n      <td>NaN</td>\n      <td>NaN</td>\n      <td>NaN</td>\n      <td>NaN</td>\n      <td>NaN</td>\n      <td>NaN</td>\n      <td>NaN</td>\n      <td>NaN</td>\n      <td>NaN</td>\n      <td>NaN</td>\n      <td>NaN</td>\n      <td>NaN</td>\n    </tr>\n    <tr>\n      <th>56527</th>\n      <td>Chad</td>\n      <td>TCD</td>\n      <td>Agricultural irrigated land (% of total agricu...</td>\n      <td>AG.LND.IRIG.AG.ZS</td>\n      <td>NaN</td>\n      <td>NaN</td>\n      <td>NaN</td>\n      <td>NaN</td>\n      <td>NaN</td>\n      <td>NaN</td>\n      <td>NaN</td>\n      <td>NaN</td>\n      <td>NaN</td>\n      <td>NaN</td>\n      <td>NaN</td>\n      <td>NaN</td>\n      <td>NaN</td>\n      <td>NaN</td>\n      <td>NaN</td>\n      <td>NaN</td>\n      <td>NaN</td>\n      <td>NaN</td>\n      <td>NaN</td>\n      <td>NaN</td>\n      <td>NaN</td>\n      <td>NaN</td>\n      <td>NaN</td>\n      <td>NaN</td>\n      <td>NaN</td>\n      <td>NaN</td>\n      <td>NaN</td>\n      <td>NaN</td>\n      <td>NaN</td>\n      <td>NaN</td>\n      <td>NaN</td>\n      <td>NaN</td>\n      <td>NaN</td>\n      <td>NaN</td>\n      <td>NaN</td>\n      <td>NaN</td>\n      <td>NaN</td>\n      <td>NaN</td>\n      <td>NaN</td>\n      <td>NaN</td>\n      <td>NaN</td>\n    </tr>\n    <tr>\n      <th>57216</th>\n      <td>Chad</td>\n      <td>TCD</td>\n      <td>Marine protected areas (% of territorial waters)</td>\n      <td>ER.MRN.PTMR.ZS</td>\n      <td>NaN</td>\n      <td>NaN</td>\n      <td>NaN</td>\n      <td>NaN</td>\n      <td>NaN</td>\n      <td>NaN</td>\n      <td>NaN</td>\n      <td>NaN</td>\n      <td>NaN</td>\n      <td>NaN</td>\n      <td>NaN</td>\n      <td>NaN</td>\n      <td>NaN</td>\n      <td>NaN</td>\n      <td>NaN</td>\n      <td>NaN</td>\n      <td>NaN</td>\n      <td>NaN</td>\n      <td>NaN</td>\n      <td>NaN</td>\n      <td>NaN</td>\n      <td>NaN</td>\n      <td>NaN</td>\n      <td>NaN</td>\n      <td>NaN</td>\n      <td>NaN</td>\n      <td>NaN</td>\n      <td>NaN</td>\n      <td>NaN</td>\n      <td>NaN</td>\n      <td>NaN</td>\n      <td>NaN</td>\n      <td>NaN</td>\n      <td>NaN</td>\n      <td>NaN</td>\n      <td>NaN</td>\n      <td>NaN</td>\n      <td>NaN</td>\n      <td>NaN</td>\n      <td>NaN</td>\n      <td>NaN</td>\n    </tr>\n    <tr>\n      <th>58384</th>\n      <td>Channel Islands</td>\n      <td>CHI</td>\n      <td>Fertilizer consumption (kilograms per hectare ...</td>\n      <td>AG.CON.FERT.ZS</td>\n      <td>NaN</td>\n      <td>NaN</td>\n      <td>NaN</td>\n      <td>NaN</td>\n      <td>NaN</td>\n      <td>NaN</td>\n      <td>NaN</td>\n      <td>NaN</td>\n      <td>NaN</td>\n      <td>NaN</td>\n      <td>NaN</td>\n      <td>NaN</td>\n      <td>NaN</td>\n      <td>NaN</td>\n      <td>NaN</td>\n      <td>NaN</td>\n      <td>NaN</td>\n      <td>NaN</td>\n      <td>NaN</td>\n      <td>NaN</td>\n      <td>NaN</td>\n      <td>NaN</td>\n      <td>NaN</td>\n      <td>NaN</td>\n      <td>NaN</td>\n      <td>NaN</td>\n      <td>NaN</td>\n      <td>NaN</td>\n      <td>NaN</td>\n      <td>NaN</td>\n      <td>NaN</td>\n      <td>NaN</td>\n      <td>NaN</td>\n      <td>NaN</td>\n      <td>NaN</td>\n      <td>NaN</td>\n      <td>NaN</td>\n      <td>NaN</td>\n      <td>NaN</td>\n      <td>NaN</td>\n      <td>NaN</td>\n    </tr>\n    <tr>\n      <th>58406</th>\n      <td>Channel Islands</td>\n      <td>CHI</td>\n      <td>Fish species, threatened</td>\n      <td>EN.FSH.THRD.NO</td>\n      <td>NaN</td>\n      <td>NaN</td>\n      <td>NaN</td>\n      <td>NaN</td>\n      <td>NaN</td>\n      <td>NaN</td>\n      <td>NaN</td>\n      <td>NaN</td>\n      <td>NaN</td>\n      <td>NaN</td>\n      <td>NaN</td>\n      <td>NaN</td>\n      <td>NaN</td>\n      <td>NaN</td>\n      <td>NaN</td>\n      <td>NaN</td>\n      <td>NaN</td>\n      <td>NaN</td>\n      <td>NaN</td>\n      <td>NaN</td>\n      <td>NaN</td>\n      <td>NaN</td>\n      <td>NaN</td>\n      <td>NaN</td>\n      <td>NaN</td>\n      <td>NaN</td>\n      <td>NaN</td>\n      <td>NaN</td>\n      <td>NaN</td>\n      <td>NaN</td>\n      <td>NaN</td>\n      <td>NaN</td>\n      <td>NaN</td>\n      <td>NaN</td>\n      <td>NaN</td>\n      <td>NaN</td>\n      <td>NaN</td>\n      <td>NaN</td>\n      <td>NaN</td>\n      <td>NaN</td>\n      <td>NaN</td>\n    </tr>\n    <tr>\n      <th>58615</th>\n      <td>Channel Islands</td>\n      <td>CHI</td>\n      <td>International tourism, number of arrivals</td>\n      <td>ST.INT.ARVL</td>\n      <td>NaN</td>\n      <td>NaN</td>\n      <td>NaN</td>\n      <td>NaN</td>\n      <td>NaN</td>\n      <td>NaN</td>\n      <td>NaN</td>\n      <td>NaN</td>\n      <td>NaN</td>\n      <td>NaN</td>\n      <td>NaN</td>\n      <td>NaN</td>\n      <td>NaN</td>\n      <td>NaN</td>\n      <td>NaN</td>\n      <td>NaN</td>\n      <td>NaN</td>\n      <td>NaN</td>\n      <td>NaN</td>\n      <td>NaN</td>\n      <td>NaN</td>\n      <td>NaN</td>\n      <td>NaN</td>\n      <td>NaN</td>\n      <td>NaN</td>\n      <td>NaN</td>\n      <td>NaN</td>\n      <td>NaN</td>\n      <td>NaN</td>\n      <td>NaN</td>\n      <td>NaN</td>\n      <td>NaN</td>\n      <td>NaN</td>\n      <td>NaN</td>\n      <td>NaN</td>\n      <td>NaN</td>\n      <td>NaN</td>\n      <td>NaN</td>\n      <td>NaN</td>\n      <td>NaN</td>\n      <td>NaN</td>\n    </tr>\n    <tr>\n      <th>58702</th>\n      <td>Channel Islands</td>\n      <td>CHI</td>\n      <td>Marine protected areas (% of territorial waters)</td>\n      <td>ER.MRN.PTMR.ZS</td>\n      <td>NaN</td>\n      <td>NaN</td>\n      <td>NaN</td>\n      <td>NaN</td>\n      <td>NaN</td>\n      <td>NaN</td>\n      <td>NaN</td>\n      <td>NaN</td>\n      <td>NaN</td>\n      <td>NaN</td>\n      <td>NaN</td>\n      <td>NaN</td>\n      <td>NaN</td>\n      <td>NaN</td>\n      <td>NaN</td>\n      <td>NaN</td>\n      <td>NaN</td>\n      <td>NaN</td>\n      <td>NaN</td>\n      <td>NaN</td>\n      <td>NaN</td>\n      <td>NaN</td>\n      <td>NaN</td>\n      <td>NaN</td>\n      <td>NaN</td>\n      <td>NaN</td>\n      <td>NaN</td>\n      <td>NaN</td>\n      <td>NaN</td>\n      <td>NaN</td>\n      <td>NaN</td>\n      <td>NaN</td>\n      <td>NaN</td>\n      <td>NaN</td>\n      <td>NaN</td>\n      <td>NaN</td>\n      <td>NaN</td>\n      <td>NaN</td>\n      <td>NaN</td>\n      <td>NaN</td>\n      <td>NaN</td>\n    </tr>\n    <tr>\n      <th>59315</th>\n      <td>Channel Islands</td>\n      <td>CHI</td>\n      <td>Terrestrial and marine protected areas (% of t...</td>\n      <td>ER.PTD.TOTL.ZS</td>\n      <td>NaN</td>\n      <td>NaN</td>\n      <td>NaN</td>\n      <td>NaN</td>\n      <td>NaN</td>\n      <td>NaN</td>\n      <td>NaN</td>\n      <td>NaN</td>\n      <td>NaN</td>\n      <td>NaN</td>\n      <td>NaN</td>\n      <td>NaN</td>\n      <td>NaN</td>\n      <td>NaN</td>\n      <td>NaN</td>\n      <td>NaN</td>\n      <td>NaN</td>\n      <td>NaN</td>\n      <td>NaN</td>\n      <td>NaN</td>\n      <td>NaN</td>\n      <td>NaN</td>\n      <td>NaN</td>\n      <td>NaN</td>\n      <td>NaN</td>\n      <td>NaN</td>\n      <td>NaN</td>\n      <td>NaN</td>\n      <td>NaN</td>\n      <td>NaN</td>\n      <td>NaN</td>\n      <td>NaN</td>\n      <td>NaN</td>\n      <td>NaN</td>\n      <td>NaN</td>\n      <td>NaN</td>\n      <td>NaN</td>\n      <td>NaN</td>\n      <td>NaN</td>\n      <td>NaN</td>\n      <td>NaN</td>\n    </tr>\n    <tr>\n      <th>60985</th>\n      <td>China</td>\n      <td>CHN</td>\n      <td>Agricultural irrigated land (% of total agricu...</td>\n      <td>AG.LND.IRIG.AG.ZS</td>\n      <td>NaN</td>\n      <td>NaN</td>\n      <td>NaN</td>\n      <td>NaN</td>\n      <td>NaN</td>\n      <td>NaN</td>\n      <td>NaN</td>\n      <td>NaN</td>\n      <td>NaN</td>\n      <td>NaN</td>\n      <td>NaN</td>\n      <td>NaN</td>\n      <td>NaN</td>\n      <td>NaN</td>\n      <td>NaN</td>\n      <td>NaN</td>\n      <td>NaN</td>\n      <td>NaN</td>\n      <td>NaN</td>\n      <td>NaN</td>\n      <td>NaN</td>\n      <td>NaN</td>\n      <td>NaN</td>\n      <td>NaN</td>\n      <td>NaN</td>\n      <td>NaN</td>\n      <td>NaN</td>\n      <td>NaN</td>\n      <td>NaN</td>\n      <td>NaN</td>\n      <td>NaN</td>\n      <td>NaN</td>\n      <td>NaN</td>\n      <td>NaN</td>\n      <td>NaN</td>\n      <td>NaN</td>\n      <td>NaN</td>\n      <td>NaN</td>\n      <td>NaN</td>\n      <td>NaN</td>\n      <td>NaN</td>\n    </tr>\n    <tr>\n      <th>63957</th>\n      <td>Comoros</td>\n      <td>COM</td>\n      <td>Agricultural irrigated land (% of total agricu...</td>\n      <td>AG.LND.IRIG.AG.ZS</td>\n      <td>NaN</td>\n      <td>NaN</td>\n      <td>NaN</td>\n      <td>NaN</td>\n      <td>NaN</td>\n      <td>NaN</td>\n      <td>NaN</td>\n      <td>NaN</td>\n      <td>NaN</td>\n      <td>NaN</td>\n      <td>NaN</td>\n      <td>NaN</td>\n      <td>NaN</td>\n      <td>NaN</td>\n      <td>NaN</td>\n      <td>NaN</td>\n      <td>NaN</td>\n      <td>NaN</td>\n      <td>NaN</td>\n      <td>NaN</td>\n      <td>NaN</td>\n      <td>NaN</td>\n      <td>NaN</td>\n      <td>NaN</td>\n      <td>NaN</td>\n      <td>NaN</td>\n      <td>NaN</td>\n      <td>NaN</td>\n      <td>NaN</td>\n      <td>NaN</td>\n      <td>NaN</td>\n      <td>NaN</td>\n      <td>NaN</td>\n      <td>NaN</td>\n      <td>NaN</td>\n      <td>NaN</td>\n      <td>NaN</td>\n      <td>NaN</td>\n      <td>NaN</td>\n      <td>NaN</td>\n      <td>NaN</td>\n    </tr>\n    <tr>\n      <th>63988</th>\n      <td>Comoros</td>\n      <td>COM</td>\n      <td>Aquaculture production (metric tons)</td>\n      <td>ER.FSH.AQUA.MT</td>\n      <td>NaN</td>\n      <td>NaN</td>\n      <td>NaN</td>\n      <td>NaN</td>\n      <td>NaN</td>\n      <td>NaN</td>\n      <td>NaN</td>\n      <td>NaN</td>\n      <td>NaN</td>\n      <td>NaN</td>\n      <td>NaN</td>\n      <td>NaN</td>\n      <td>NaN</td>\n      <td>NaN</td>\n      <td>NaN</td>\n      <td>NaN</td>\n      <td>NaN</td>\n      <td>NaN</td>\n      <td>NaN</td>\n      <td>NaN</td>\n      <td>NaN</td>\n      <td>NaN</td>\n      <td>NaN</td>\n      <td>NaN</td>\n      <td>NaN</td>\n      <td>NaN</td>\n      <td>NaN</td>\n      <td>NaN</td>\n      <td>NaN</td>\n      <td>NaN</td>\n      <td>NaN</td>\n      <td>NaN</td>\n      <td>NaN</td>\n      <td>NaN</td>\n      <td>NaN</td>\n      <td>NaN</td>\n      <td>NaN</td>\n      <td>NaN</td>\n      <td>NaN</td>\n      <td>NaN</td>\n      <td>NaN</td>\n    </tr>\n    <tr>\n      <th>65284</th>\n      <td>Comoros</td>\n      <td>COM</td>\n      <td>Total fisheries production (metric tons)</td>\n      <td>ER.FSH.PROD.MT</td>\n      <td>NaN</td>\n      <td>NaN</td>\n      <td>NaN</td>\n      <td>NaN</td>\n      <td>NaN</td>\n      <td>NaN</td>\n      <td>NaN</td>\n      <td>NaN</td>\n      <td>NaN</td>\n      <td>NaN</td>\n      <td>NaN</td>\n      <td>NaN</td>\n      <td>NaN</td>\n      <td>NaN</td>\n      <td>NaN</td>\n      <td>NaN</td>\n      <td>NaN</td>\n      <td>NaN</td>\n      <td>NaN</td>\n      <td>NaN</td>\n      <td>NaN</td>\n      <td>NaN</td>\n      <td>NaN</td>\n      <td>NaN</td>\n      <td>NaN</td>\n      <td>NaN</td>\n      <td>NaN</td>\n      <td>NaN</td>\n      <td>NaN</td>\n      <td>NaN</td>\n      <td>NaN</td>\n      <td>NaN</td>\n      <td>NaN</td>\n      <td>NaN</td>\n      <td>NaN</td>\n      <td>NaN</td>\n      <td>NaN</td>\n      <td>NaN</td>\n      <td>NaN</td>\n      <td>NaN</td>\n      <td>NaN</td>\n    </tr>\n    <tr>\n      <th>65443</th>\n      <td>Congo, Dem. Rep.</td>\n      <td>COD</td>\n      <td>Agricultural irrigated land (% of total agricu...</td>\n      <td>AG.LND.IRIG.AG.ZS</td>\n      <td>NaN</td>\n      <td>NaN</td>\n      <td>NaN</td>\n      <td>NaN</td>\n      <td>NaN</td>\n      <td>NaN</td>\n      <td>NaN</td>\n      <td>NaN</td>\n      <td>NaN</td>\n      <td>NaN</td>\n      <td>NaN</td>\n      <td>NaN</td>\n      <td>NaN</td>\n      <td>NaN</td>\n      <td>NaN</td>\n      <td>NaN</td>\n      <td>NaN</td>\n      <td>NaN</td>\n      <td>NaN</td>\n      <td>NaN</td>\n      <td>NaN</td>\n      <td>NaN</td>\n      <td>NaN</td>\n      <td>NaN</td>\n      <td>NaN</td>\n      <td>NaN</td>\n      <td>NaN</td>\n      <td>NaN</td>\n      <td>NaN</td>\n      <td>NaN</td>\n      <td>NaN</td>\n      <td>NaN</td>\n      <td>NaN</td>\n      <td>NaN</td>\n      <td>NaN</td>\n      <td>NaN</td>\n      <td>NaN</td>\n      <td>NaN</td>\n      <td>NaN</td>\n      <td>NaN</td>\n      <td>NaN</td>\n    </tr>\n    <tr>\n      <th>66929</th>\n      <td>Congo, Rep.</td>\n      <td>COG</td>\n      <td>Agricultural irrigated land (% of total agricu...</td>\n      <td>AG.LND.IRIG.AG.ZS</td>\n      <td>NaN</td>\n      <td>NaN</td>\n      <td>NaN</td>\n      <td>NaN</td>\n      <td>NaN</td>\n      <td>NaN</td>\n      <td>NaN</td>\n      <td>NaN</td>\n      <td>NaN</td>\n      <td>NaN</td>\n      <td>NaN</td>\n      <td>NaN</td>\n      <td>NaN</td>\n      <td>NaN</td>\n      <td>NaN</td>\n      <td>NaN</td>\n      <td>NaN</td>\n      <td>NaN</td>\n      <td>NaN</td>\n      <td>NaN</td>\n      <td>NaN</td>\n      <td>NaN</td>\n      <td>NaN</td>\n      <td>NaN</td>\n      <td>NaN</td>\n      <td>NaN</td>\n      <td>NaN</td>\n      <td>NaN</td>\n      <td>NaN</td>\n      <td>NaN</td>\n      <td>NaN</td>\n      <td>NaN</td>\n      <td>NaN</td>\n      <td>NaN</td>\n      <td>NaN</td>\n      <td>NaN</td>\n      <td>NaN</td>\n      <td>NaN</td>\n      <td>NaN</td>\n      <td>NaN</td>\n      <td>NaN</td>\n    </tr>\n    <tr>\n      <th>68415</th>\n      <td>Costa Rica</td>\n      <td>CRI</td>\n      <td>Agricultural irrigated land (% of total agricu...</td>\n      <td>AG.LND.IRIG.AG.ZS</td>\n      <td>NaN</td>\n      <td>NaN</td>\n      <td>NaN</td>\n      <td>NaN</td>\n      <td>NaN</td>\n      <td>NaN</td>\n      <td>NaN</td>\n      <td>NaN</td>\n      <td>NaN</td>\n      <td>NaN</td>\n      <td>NaN</td>\n      <td>NaN</td>\n      <td>NaN</td>\n      <td>NaN</td>\n      <td>NaN</td>\n      <td>NaN</td>\n      <td>NaN</td>\n      <td>NaN</td>\n      <td>NaN</td>\n      <td>NaN</td>\n      <td>NaN</td>\n      <td>NaN</td>\n      <td>NaN</td>\n      <td>NaN</td>\n      <td>NaN</td>\n      <td>NaN</td>\n      <td>NaN</td>\n      <td>NaN</td>\n      <td>NaN</td>\n      <td>NaN</td>\n      <td>NaN</td>\n      <td>NaN</td>\n      <td>NaN</td>\n      <td>NaN</td>\n      <td>NaN</td>\n      <td>NaN</td>\n      <td>NaN</td>\n      <td>NaN</td>\n      <td>NaN</td>\n      <td>NaN</td>\n      <td>NaN</td>\n    </tr>\n    <tr>\n      <th>69901</th>\n      <td>Cote d'Ivoire</td>\n      <td>CIV</td>\n      <td>Agricultural irrigated land (% of total agricu...</td>\n      <td>AG.LND.IRIG.AG.ZS</td>\n      <td>NaN</td>\n      <td>NaN</td>\n      <td>NaN</td>\n      <td>NaN</td>\n      <td>NaN</td>\n      <td>NaN</td>\n      <td>NaN</td>\n      <td>NaN</td>\n      <td>NaN</td>\n      <td>NaN</td>\n      <td>NaN</td>\n      <td>NaN</td>\n      <td>NaN</td>\n      <td>NaN</td>\n      <td>NaN</td>\n      <td>NaN</td>\n      <td>NaN</td>\n      <td>NaN</td>\n      <td>NaN</td>\n      <td>NaN</td>\n      <td>NaN</td>\n      <td>NaN</td>\n      <td>NaN</td>\n      <td>NaN</td>\n      <td>NaN</td>\n      <td>NaN</td>\n      <td>NaN</td>\n      <td>NaN</td>\n      <td>NaN</td>\n      <td>NaN</td>\n      <td>NaN</td>\n      <td>NaN</td>\n      <td>NaN</td>\n      <td>NaN</td>\n      <td>NaN</td>\n      <td>NaN</td>\n      <td>NaN</td>\n      <td>NaN</td>\n      <td>NaN</td>\n      <td>NaN</td>\n      <td>NaN</td>\n    </tr>\n    <tr>\n      <th>72873</th>\n      <td>Cuba</td>\n      <td>CUB</td>\n      <td>Agricultural irrigated land (% of total agricu...</td>\n      <td>AG.LND.IRIG.AG.ZS</td>\n      <td>NaN</td>\n      <td>NaN</td>\n      <td>NaN</td>\n      <td>NaN</td>\n      <td>NaN</td>\n      <td>NaN</td>\n      <td>NaN</td>\n      <td>NaN</td>\n      <td>NaN</td>\n      <td>NaN</td>\n      <td>NaN</td>\n      <td>NaN</td>\n      <td>NaN</td>\n      <td>NaN</td>\n      <td>NaN</td>\n      <td>NaN</td>\n      <td>NaN</td>\n      <td>NaN</td>\n      <td>NaN</td>\n      <td>NaN</td>\n      <td>NaN</td>\n      <td>NaN</td>\n      <td>NaN</td>\n      <td>NaN</td>\n      <td>NaN</td>\n      <td>NaN</td>\n      <td>NaN</td>\n      <td>NaN</td>\n      <td>NaN</td>\n      <td>NaN</td>\n      <td>NaN</td>\n      <td>NaN</td>\n      <td>NaN</td>\n      <td>NaN</td>\n      <td>NaN</td>\n      <td>NaN</td>\n      <td>NaN</td>\n      <td>NaN</td>\n      <td>NaN</td>\n      <td>NaN</td>\n      <td>NaN</td>\n    </tr>\n    <tr>\n      <th>74359</th>\n      <td>Curacao</td>\n      <td>CUW</td>\n      <td>Agricultural irrigated land (% of total agricu...</td>\n      <td>AG.LND.IRIG.AG.ZS</td>\n      <td>NaN</td>\n      <td>NaN</td>\n      <td>NaN</td>\n      <td>NaN</td>\n      <td>NaN</td>\n      <td>NaN</td>\n      <td>NaN</td>\n      <td>NaN</td>\n      <td>NaN</td>\n      <td>NaN</td>\n      <td>NaN</td>\n      <td>NaN</td>\n      <td>NaN</td>\n      <td>NaN</td>\n      <td>NaN</td>\n      <td>NaN</td>\n      <td>NaN</td>\n      <td>NaN</td>\n      <td>NaN</td>\n      <td>NaN</td>\n      <td>NaN</td>\n      <td>NaN</td>\n      <td>NaN</td>\n      <td>NaN</td>\n      <td>NaN</td>\n      <td>NaN</td>\n      <td>NaN</td>\n      <td>NaN</td>\n      <td>NaN</td>\n      <td>NaN</td>\n      <td>NaN</td>\n      <td>NaN</td>\n      <td>NaN</td>\n      <td>NaN</td>\n      <td>NaN</td>\n      <td>NaN</td>\n      <td>NaN</td>\n      <td>NaN</td>\n      <td>NaN</td>\n      <td>NaN</td>\n      <td>NaN</td>\n    </tr>\n    <tr>\n      <th>74360</th>\n      <td>Curacao</td>\n      <td>CUW</td>\n      <td>Agricultural land (% of land area)</td>\n      <td>AG.LND.AGRI.ZS</td>\n      <td>NaN</td>\n      <td>NaN</td>\n      <td>NaN</td>\n      <td>NaN</td>\n      <td>NaN</td>\n      <td>NaN</td>\n      <td>NaN</td>\n      <td>NaN</td>\n      <td>NaN</td>\n      <td>NaN</td>\n      <td>NaN</td>\n      <td>NaN</td>\n      <td>NaN</td>\n      <td>NaN</td>\n      <td>NaN</td>\n      <td>NaN</td>\n      <td>NaN</td>\n      <td>NaN</td>\n      <td>NaN</td>\n      <td>NaN</td>\n      <td>NaN</td>\n      <td>NaN</td>\n      <td>NaN</td>\n      <td>NaN</td>\n      <td>NaN</td>\n      <td>NaN</td>\n      <td>NaN</td>\n      <td>NaN</td>\n      <td>NaN</td>\n      <td>NaN</td>\n      <td>NaN</td>\n      <td>NaN</td>\n      <td>NaN</td>\n      <td>NaN</td>\n      <td>NaN</td>\n      <td>NaN</td>\n      <td>NaN</td>\n      <td>NaN</td>\n      <td>NaN</td>\n      <td>NaN</td>\n      <td>NaN</td>\n    </tr>\n    <tr>\n      <th>74361</th>\n      <td>Curacao</td>\n      <td>CUW</td>\n      <td>Agricultural land (sq. km)</td>\n      <td>AG.LND.AGRI.K2</td>\n      <td>NaN</td>\n      <td>NaN</td>\n      <td>NaN</td>\n      <td>NaN</td>\n      <td>NaN</td>\n      <td>NaN</td>\n      <td>NaN</td>\n      <td>NaN</td>\n      <td>NaN</td>\n      <td>NaN</td>\n      <td>NaN</td>\n      <td>NaN</td>\n      <td>NaN</td>\n      <td>NaN</td>\n      <td>NaN</td>\n      <td>NaN</td>\n      <td>NaN</td>\n      <td>NaN</td>\n      <td>NaN</td>\n      <td>NaN</td>\n      <td>NaN</td>\n      <td>NaN</td>\n      <td>NaN</td>\n      <td>NaN</td>\n      <td>NaN</td>\n      <td>NaN</td>\n      <td>NaN</td>\n      <td>NaN</td>\n      <td>NaN</td>\n      <td>NaN</td>\n      <td>NaN</td>\n      <td>NaN</td>\n      <td>NaN</td>\n      <td>NaN</td>\n      <td>NaN</td>\n      <td>NaN</td>\n      <td>NaN</td>\n      <td>NaN</td>\n      <td>NaN</td>\n      <td>NaN</td>\n      <td>NaN</td>\n    </tr>\n    <tr>\n      <th>74371</th>\n      <td>Curacao</td>\n      <td>CUW</td>\n      <td>Agriculture, forestry, and fishing, value adde...</td>\n      <td>NV.AGR.TOTL.KD.ZG</td>\n      <td>NaN</td>\n      <td>NaN</td>\n      <td>NaN</td>\n      <td>NaN</td>\n      <td>NaN</td>\n      <td>NaN</td>\n      <td>NaN</td>\n      <td>NaN</td>\n      <td>NaN</td>\n      <td>NaN</td>\n      <td>NaN</td>\n      <td>NaN</td>\n      <td>NaN</td>\n      <td>NaN</td>\n      <td>NaN</td>\n      <td>NaN</td>\n      <td>NaN</td>\n      <td>NaN</td>\n      <td>NaN</td>\n      <td>NaN</td>\n      <td>NaN</td>\n      <td>NaN</td>\n      <td>NaN</td>\n      <td>NaN</td>\n      <td>NaN</td>\n      <td>NaN</td>\n      <td>NaN</td>\n      <td>NaN</td>\n      <td>NaN</td>\n      <td>NaN</td>\n      <td>NaN</td>\n      <td>NaN</td>\n      <td>NaN</td>\n      <td>NaN</td>\n      <td>NaN</td>\n      <td>NaN</td>\n      <td>NaN</td>\n      <td>NaN</td>\n      <td>NaN</td>\n      <td>NaN</td>\n      <td>NaN</td>\n    </tr>\n    <tr>\n      <th>74730</th>\n      <td>Curacao</td>\n      <td>CUW</td>\n      <td>Fertilizer consumption (kilograms per hectare ...</td>\n      <td>AG.CON.FERT.ZS</td>\n      <td>NaN</td>\n      <td>NaN</td>\n      <td>NaN</td>\n      <td>NaN</td>\n      <td>NaN</td>\n      <td>NaN</td>\n      <td>NaN</td>\n      <td>NaN</td>\n      <td>NaN</td>\n      <td>NaN</td>\n      <td>NaN</td>\n      <td>NaN</td>\n      <td>NaN</td>\n      <td>NaN</td>\n      <td>NaN</td>\n      <td>NaN</td>\n      <td>NaN</td>\n      <td>NaN</td>\n      <td>NaN</td>\n      <td>NaN</td>\n      <td>NaN</td>\n      <td>NaN</td>\n      <td>NaN</td>\n      <td>NaN</td>\n      <td>NaN</td>\n      <td>NaN</td>\n      <td>NaN</td>\n      <td>NaN</td>\n      <td>NaN</td>\n      <td>NaN</td>\n      <td>NaN</td>\n      <td>NaN</td>\n      <td>NaN</td>\n      <td>NaN</td>\n      <td>NaN</td>\n      <td>NaN</td>\n      <td>NaN</td>\n      <td>NaN</td>\n      <td>NaN</td>\n      <td>NaN</td>\n      <td>NaN</td>\n    </tr>\n    <tr>\n      <th>78020</th>\n      <td>Czechia</td>\n      <td>CZE</td>\n      <td>Marine protected areas (% of territorial waters)</td>\n      <td>ER.MRN.PTMR.ZS</td>\n      <td>NaN</td>\n      <td>NaN</td>\n      <td>NaN</td>\n      <td>NaN</td>\n      <td>NaN</td>\n      <td>NaN</td>\n      <td>NaN</td>\n      <td>NaN</td>\n      <td>NaN</td>\n      <td>NaN</td>\n      <td>NaN</td>\n      <td>NaN</td>\n      <td>NaN</td>\n      <td>NaN</td>\n      <td>NaN</td>\n      <td>NaN</td>\n      <td>NaN</td>\n      <td>NaN</td>\n      <td>NaN</td>\n      <td>NaN</td>\n      <td>NaN</td>\n      <td>NaN</td>\n      <td>NaN</td>\n      <td>NaN</td>\n      <td>NaN</td>\n      <td>NaN</td>\n      <td>NaN</td>\n      <td>NaN</td>\n      <td>NaN</td>\n      <td>NaN</td>\n      <td>NaN</td>\n      <td>NaN</td>\n      <td>NaN</td>\n      <td>NaN</td>\n      <td>NaN</td>\n      <td>NaN</td>\n      <td>NaN</td>\n      <td>NaN</td>\n      <td>NaN</td>\n      <td>NaN</td>\n      <td>NaN</td>\n    </tr>\n    <tr>\n      <th>80303</th>\n      <td>Djibouti</td>\n      <td>DJI</td>\n      <td>Agricultural irrigated land (% of total agricu...</td>\n      <td>AG.LND.IRIG.AG.ZS</td>\n      <td>NaN</td>\n      <td>NaN</td>\n      <td>NaN</td>\n      <td>NaN</td>\n      <td>NaN</td>\n      <td>NaN</td>\n      <td>NaN</td>\n      <td>NaN</td>\n      <td>NaN</td>\n      <td>NaN</td>\n      <td>NaN</td>\n      <td>NaN</td>\n      <td>NaN</td>\n      <td>NaN</td>\n      <td>NaN</td>\n      <td>NaN</td>\n      <td>NaN</td>\n      <td>NaN</td>\n      <td>NaN</td>\n      <td>NaN</td>\n      <td>NaN</td>\n      <td>NaN</td>\n      <td>NaN</td>\n      <td>NaN</td>\n      <td>NaN</td>\n      <td>NaN</td>\n      <td>NaN</td>\n      <td>NaN</td>\n      <td>NaN</td>\n      <td>NaN</td>\n      <td>NaN</td>\n      <td>NaN</td>\n      <td>NaN</td>\n      <td>NaN</td>\n      <td>NaN</td>\n      <td>NaN</td>\n      <td>NaN</td>\n      <td>NaN</td>\n      <td>NaN</td>\n      <td>NaN</td>\n      <td>NaN</td>\n    </tr>\n    <tr>\n      <th>80334</th>\n      <td>Djibouti</td>\n      <td>DJI</td>\n      <td>Aquaculture production (metric tons)</td>\n      <td>ER.FSH.AQUA.MT</td>\n      <td>NaN</td>\n      <td>NaN</td>\n      <td>NaN</td>\n      <td>NaN</td>\n      <td>NaN</td>\n      <td>NaN</td>\n      <td>NaN</td>\n      <td>NaN</td>\n      <td>NaN</td>\n      <td>NaN</td>\n      <td>NaN</td>\n      <td>NaN</td>\n      <td>NaN</td>\n      <td>NaN</td>\n      <td>NaN</td>\n      <td>NaN</td>\n      <td>NaN</td>\n      <td>NaN</td>\n      <td>NaN</td>\n      <td>NaN</td>\n      <td>NaN</td>\n      <td>NaN</td>\n      <td>NaN</td>\n      <td>NaN</td>\n      <td>NaN</td>\n      <td>NaN</td>\n      <td>NaN</td>\n      <td>NaN</td>\n      <td>NaN</td>\n      <td>NaN</td>\n      <td>NaN</td>\n      <td>NaN</td>\n      <td>NaN</td>\n      <td>NaN</td>\n      <td>NaN</td>\n      <td>NaN</td>\n      <td>NaN</td>\n      <td>NaN</td>\n      <td>NaN</td>\n      <td>NaN</td>\n      <td>NaN</td>\n    </tr>\n    <tr>\n      <th>81630</th>\n      <td>Djibouti</td>\n      <td>DJI</td>\n      <td>Total fisheries production (metric tons)</td>\n      <td>ER.FSH.PROD.MT</td>\n      <td>NaN</td>\n      <td>NaN</td>\n      <td>NaN</td>\n      <td>NaN</td>\n      <td>NaN</td>\n      <td>NaN</td>\n      <td>NaN</td>\n      <td>NaN</td>\n      <td>NaN</td>\n      <td>NaN</td>\n      <td>NaN</td>\n      <td>NaN</td>\n      <td>NaN</td>\n      <td>NaN</td>\n      <td>NaN</td>\n      <td>NaN</td>\n      <td>NaN</td>\n      <td>NaN</td>\n      <td>NaN</td>\n      <td>NaN</td>\n      <td>NaN</td>\n      <td>NaN</td>\n      <td>NaN</td>\n      <td>NaN</td>\n      <td>NaN</td>\n      <td>NaN</td>\n      <td>NaN</td>\n      <td>NaN</td>\n      <td>NaN</td>\n      <td>NaN</td>\n      <td>NaN</td>\n      <td>NaN</td>\n      <td>NaN</td>\n      <td>NaN</td>\n      <td>NaN</td>\n      <td>NaN</td>\n      <td>NaN</td>\n      <td>NaN</td>\n      <td>NaN</td>\n      <td>NaN</td>\n      <td>NaN</td>\n    </tr>\n    <tr>\n      <th>81789</th>\n      <td>Dominica</td>\n      <td>DMA</td>\n      <td>Agricultural irrigated land (% of total agricu...</td>\n      <td>AG.LND.IRIG.AG.ZS</td>\n      <td>NaN</td>\n      <td>NaN</td>\n      <td>NaN</td>\n      <td>NaN</td>\n      <td>NaN</td>\n      <td>NaN</td>\n      <td>NaN</td>\n      <td>NaN</td>\n      <td>NaN</td>\n      <td>NaN</td>\n      <td>NaN</td>\n      <td>NaN</td>\n      <td>NaN</td>\n      <td>NaN</td>\n      <td>NaN</td>\n      <td>NaN</td>\n      <td>NaN</td>\n      <td>NaN</td>\n      <td>NaN</td>\n      <td>NaN</td>\n      <td>NaN</td>\n      <td>NaN</td>\n      <td>NaN</td>\n      <td>NaN</td>\n      <td>NaN</td>\n      <td>NaN</td>\n      <td>NaN</td>\n      <td>NaN</td>\n      <td>NaN</td>\n      <td>NaN</td>\n      <td>NaN</td>\n      <td>NaN</td>\n      <td>NaN</td>\n      <td>NaN</td>\n      <td>NaN</td>\n      <td>NaN</td>\n      <td>NaN</td>\n      <td>NaN</td>\n      <td>NaN</td>\n      <td>NaN</td>\n      <td>NaN</td>\n    </tr>\n    <tr>\n      <th>86247</th>\n      <td>Egypt, Arab Rep.</td>\n      <td>EGY</td>\n      <td>Agricultural irrigated land (% of total agricu...</td>\n      <td>AG.LND.IRIG.AG.ZS</td>\n      <td>NaN</td>\n      <td>NaN</td>\n      <td>NaN</td>\n      <td>NaN</td>\n      <td>NaN</td>\n      <td>NaN</td>\n      <td>NaN</td>\n      <td>NaN</td>\n      <td>NaN</td>\n      <td>NaN</td>\n      <td>NaN</td>\n      <td>NaN</td>\n      <td>NaN</td>\n      <td>NaN</td>\n      <td>NaN</td>\n      <td>NaN</td>\n      <td>NaN</td>\n      <td>NaN</td>\n      <td>NaN</td>\n      <td>NaN</td>\n      <td>NaN</td>\n      <td>NaN</td>\n      <td>NaN</td>\n      <td>NaN</td>\n      <td>NaN</td>\n      <td>NaN</td>\n      <td>NaN</td>\n      <td>NaN</td>\n      <td>NaN</td>\n      <td>NaN</td>\n      <td>NaN</td>\n      <td>NaN</td>\n      <td>NaN</td>\n      <td>NaN</td>\n      <td>NaN</td>\n      <td>NaN</td>\n      <td>NaN</td>\n      <td>NaN</td>\n      <td>NaN</td>\n      <td>NaN</td>\n      <td>NaN</td>\n    </tr>\n    <tr>\n      <th>89219</th>\n      <td>Equatorial Guinea</td>\n      <td>GNQ</td>\n      <td>Agricultural irrigated land (% of total agricu...</td>\n      <td>AG.LND.IRIG.AG.ZS</td>\n      <td>NaN</td>\n      <td>NaN</td>\n      <td>NaN</td>\n      <td>NaN</td>\n      <td>NaN</td>\n      <td>NaN</td>\n      <td>NaN</td>\n      <td>NaN</td>\n      <td>NaN</td>\n      <td>NaN</td>\n      <td>NaN</td>\n      <td>NaN</td>\n      <td>NaN</td>\n      <td>NaN</td>\n      <td>NaN</td>\n      <td>NaN</td>\n      <td>NaN</td>\n      <td>NaN</td>\n      <td>NaN</td>\n      <td>NaN</td>\n      <td>NaN</td>\n      <td>NaN</td>\n      <td>NaN</td>\n      <td>NaN</td>\n      <td>NaN</td>\n      <td>NaN</td>\n      <td>NaN</td>\n      <td>NaN</td>\n      <td>NaN</td>\n      <td>NaN</td>\n      <td>NaN</td>\n      <td>NaN</td>\n      <td>NaN</td>\n      <td>NaN</td>\n      <td>NaN</td>\n      <td>NaN</td>\n      <td>NaN</td>\n      <td>NaN</td>\n      <td>NaN</td>\n      <td>NaN</td>\n      <td>NaN</td>\n    </tr>\n    <tr>\n      <th>89821</th>\n      <td>Equatorial Guinea</td>\n      <td>GNQ</td>\n      <td>International tourism, number of arrivals</td>\n      <td>ST.INT.ARVL</td>\n      <td>NaN</td>\n      <td>NaN</td>\n      <td>NaN</td>\n      <td>NaN</td>\n      <td>NaN</td>\n      <td>NaN</td>\n      <td>NaN</td>\n      <td>NaN</td>\n      <td>NaN</td>\n      <td>NaN</td>\n      <td>NaN</td>\n      <td>NaN</td>\n      <td>NaN</td>\n      <td>NaN</td>\n      <td>NaN</td>\n      <td>NaN</td>\n      <td>NaN</td>\n      <td>NaN</td>\n      <td>NaN</td>\n      <td>NaN</td>\n      <td>NaN</td>\n      <td>NaN</td>\n      <td>NaN</td>\n      <td>NaN</td>\n      <td>NaN</td>\n      <td>NaN</td>\n      <td>NaN</td>\n      <td>NaN</td>\n      <td>NaN</td>\n      <td>NaN</td>\n      <td>NaN</td>\n      <td>NaN</td>\n      <td>NaN</td>\n      <td>NaN</td>\n      <td>NaN</td>\n      <td>NaN</td>\n      <td>NaN</td>\n      <td>NaN</td>\n      <td>NaN</td>\n      <td>NaN</td>\n      <td>NaN</td>\n    </tr>\n    <tr>\n      <th>90705</th>\n      <td>Eritrea</td>\n      <td>ERI</td>\n      <td>Agricultural irrigated land (% of total agricu...</td>\n      <td>AG.LND.IRIG.AG.ZS</td>\n      <td>NaN</td>\n      <td>NaN</td>\n      <td>NaN</td>\n      <td>NaN</td>\n      <td>NaN</td>\n      <td>NaN</td>\n      <td>NaN</td>\n      <td>NaN</td>\n      <td>NaN</td>\n      <td>NaN</td>\n      <td>NaN</td>\n      <td>NaN</td>\n      <td>NaN</td>\n      <td>NaN</td>\n      <td>NaN</td>\n      <td>NaN</td>\n      <td>NaN</td>\n      <td>NaN</td>\n      <td>NaN</td>\n      <td>NaN</td>\n      <td>NaN</td>\n      <td>NaN</td>\n      <td>NaN</td>\n      <td>NaN</td>\n      <td>NaN</td>\n      <td>NaN</td>\n      <td>NaN</td>\n      <td>NaN</td>\n      <td>NaN</td>\n      <td>NaN</td>\n      <td>NaN</td>\n      <td>NaN</td>\n      <td>NaN</td>\n      <td>NaN</td>\n      <td>NaN</td>\n      <td>NaN</td>\n      <td>NaN</td>\n      <td>NaN</td>\n      <td>NaN</td>\n      <td>NaN</td>\n      <td>NaN</td>\n    </tr>\n    <tr>\n      <th>94366</th>\n      <td>Eswatini</td>\n      <td>SWZ</td>\n      <td>Marine protected areas (% of territorial waters)</td>\n      <td>ER.MRN.PTMR.ZS</td>\n      <td>NaN</td>\n      <td>NaN</td>\n      <td>NaN</td>\n      <td>NaN</td>\n      <td>NaN</td>\n      <td>NaN</td>\n      <td>NaN</td>\n      <td>NaN</td>\n      <td>NaN</td>\n      <td>NaN</td>\n      <td>NaN</td>\n      <td>NaN</td>\n      <td>NaN</td>\n      <td>NaN</td>\n      <td>NaN</td>\n      <td>NaN</td>\n      <td>NaN</td>\n      <td>NaN</td>\n      <td>NaN</td>\n      <td>NaN</td>\n      <td>NaN</td>\n      <td>NaN</td>\n      <td>NaN</td>\n      <td>NaN</td>\n      <td>NaN</td>\n      <td>NaN</td>\n      <td>NaN</td>\n      <td>NaN</td>\n      <td>NaN</td>\n      <td>NaN</td>\n      <td>NaN</td>\n      <td>NaN</td>\n      <td>NaN</td>\n      <td>NaN</td>\n      <td>NaN</td>\n      <td>NaN</td>\n      <td>NaN</td>\n      <td>NaN</td>\n      <td>NaN</td>\n      <td>NaN</td>\n      <td>NaN</td>\n    </tr>\n    <tr>\n      <th>95852</th>\n      <td>Ethiopia</td>\n      <td>ETH</td>\n      <td>Marine protected areas (% of territorial waters)</td>\n      <td>ER.MRN.PTMR.ZS</td>\n      <td>NaN</td>\n      <td>NaN</td>\n      <td>NaN</td>\n      <td>NaN</td>\n      <td>NaN</td>\n      <td>NaN</td>\n      <td>NaN</td>\n      <td>NaN</td>\n      <td>NaN</td>\n      <td>NaN</td>\n      <td>NaN</td>\n      <td>NaN</td>\n      <td>NaN</td>\n      <td>NaN</td>\n      <td>NaN</td>\n      <td>NaN</td>\n      <td>NaN</td>\n      <td>NaN</td>\n      <td>NaN</td>\n      <td>NaN</td>\n      <td>NaN</td>\n      <td>NaN</td>\n      <td>NaN</td>\n      <td>NaN</td>\n      <td>NaN</td>\n      <td>NaN</td>\n      <td>NaN</td>\n      <td>NaN</td>\n      <td>NaN</td>\n      <td>NaN</td>\n      <td>NaN</td>\n      <td>NaN</td>\n      <td>NaN</td>\n      <td>NaN</td>\n      <td>NaN</td>\n      <td>NaN</td>\n      <td>NaN</td>\n      <td>NaN</td>\n      <td>NaN</td>\n      <td>NaN</td>\n      <td>NaN</td>\n    </tr>\n    <tr>\n      <th>96649</th>\n      <td>Faroe Islands</td>\n      <td>FRO</td>\n      <td>Agricultural irrigated land (% of total agricu...</td>\n      <td>AG.LND.IRIG.AG.ZS</td>\n      <td>NaN</td>\n      <td>NaN</td>\n      <td>NaN</td>\n      <td>NaN</td>\n      <td>NaN</td>\n      <td>NaN</td>\n      <td>NaN</td>\n      <td>NaN</td>\n      <td>NaN</td>\n      <td>NaN</td>\n      <td>NaN</td>\n      <td>NaN</td>\n      <td>NaN</td>\n      <td>NaN</td>\n      <td>NaN</td>\n      <td>NaN</td>\n      <td>NaN</td>\n      <td>NaN</td>\n      <td>NaN</td>\n      <td>NaN</td>\n      <td>NaN</td>\n      <td>NaN</td>\n      <td>NaN</td>\n      <td>NaN</td>\n      <td>NaN</td>\n      <td>NaN</td>\n      <td>NaN</td>\n      <td>NaN</td>\n      <td>NaN</td>\n      <td>NaN</td>\n      <td>NaN</td>\n      <td>NaN</td>\n      <td>NaN</td>\n      <td>NaN</td>\n      <td>NaN</td>\n      <td>NaN</td>\n      <td>NaN</td>\n      <td>NaN</td>\n      <td>NaN</td>\n      <td>NaN</td>\n      <td>NaN</td>\n    </tr>\n    <tr>\n      <th>96661</th>\n      <td>Faroe Islands</td>\n      <td>FRO</td>\n      <td>Agriculture, forestry, and fishing, value adde...</td>\n      <td>NV.AGR.TOTL.KD.ZG</td>\n      <td>NaN</td>\n      <td>NaN</td>\n      <td>NaN</td>\n      <td>NaN</td>\n      <td>NaN</td>\n      <td>NaN</td>\n      <td>NaN</td>\n      <td>NaN</td>\n      <td>NaN</td>\n      <td>NaN</td>\n      <td>NaN</td>\n      <td>NaN</td>\n      <td>NaN</td>\n      <td>NaN</td>\n      <td>NaN</td>\n      <td>NaN</td>\n      <td>NaN</td>\n      <td>NaN</td>\n      <td>NaN</td>\n      <td>NaN</td>\n      <td>NaN</td>\n      <td>NaN</td>\n      <td>NaN</td>\n      <td>NaN</td>\n      <td>NaN</td>\n      <td>NaN</td>\n      <td>NaN</td>\n      <td>NaN</td>\n      <td>NaN</td>\n      <td>NaN</td>\n      <td>NaN</td>\n      <td>NaN</td>\n      <td>NaN</td>\n      <td>NaN</td>\n      <td>NaN</td>\n      <td>NaN</td>\n      <td>NaN</td>\n      <td>NaN</td>\n      <td>NaN</td>\n      <td>NaN</td>\n      <td>NaN</td>\n    </tr>\n    <tr>\n      <th>97251</th>\n      <td>Faroe Islands</td>\n      <td>FRO</td>\n      <td>International tourism, number of arrivals</td>\n      <td>ST.INT.ARVL</td>\n      <td>NaN</td>\n      <td>NaN</td>\n      <td>NaN</td>\n      <td>NaN</td>\n      <td>NaN</td>\n      <td>NaN</td>\n      <td>NaN</td>\n      <td>NaN</td>\n      <td>NaN</td>\n      <td>NaN</td>\n      <td>NaN</td>\n      <td>NaN</td>\n      <td>NaN</td>\n      <td>NaN</td>\n      <td>NaN</td>\n      <td>NaN</td>\n      <td>NaN</td>\n      <td>NaN</td>\n      <td>NaN</td>\n      <td>NaN</td>\n      <td>NaN</td>\n      <td>NaN</td>\n      <td>NaN</td>\n      <td>NaN</td>\n      <td>NaN</td>\n      <td>NaN</td>\n      <td>NaN</td>\n      <td>NaN</td>\n      <td>NaN</td>\n      <td>NaN</td>\n      <td>NaN</td>\n      <td>NaN</td>\n      <td>NaN</td>\n      <td>NaN</td>\n      <td>NaN</td>\n      <td>NaN</td>\n      <td>NaN</td>\n      <td>NaN</td>\n      <td>NaN</td>\n      <td>NaN</td>\n      <td>NaN</td>\n    </tr>\n    <tr>\n      <th>98135</th>\n      <td>Fiji</td>\n      <td>FJI</td>\n      <td>Agricultural irrigated land (% of total agricu...</td>\n      <td>AG.LND.IRIG.AG.ZS</td>\n      <td>NaN</td>\n      <td>NaN</td>\n      <td>NaN</td>\n      <td>NaN</td>\n      <td>NaN</td>\n      <td>NaN</td>\n      <td>NaN</td>\n      <td>NaN</td>\n      <td>NaN</td>\n      <td>NaN</td>\n      <td>NaN</td>\n      <td>NaN</td>\n      <td>NaN</td>\n      <td>NaN</td>\n      <td>NaN</td>\n      <td>NaN</td>\n      <td>NaN</td>\n      <td>NaN</td>\n      <td>NaN</td>\n      <td>NaN</td>\n      <td>NaN</td>\n      <td>NaN</td>\n      <td>NaN</td>\n      <td>NaN</td>\n      <td>NaN</td>\n      <td>NaN</td>\n      <td>NaN</td>\n      <td>NaN</td>\n      <td>NaN</td>\n      <td>NaN</td>\n      <td>NaN</td>\n      <td>NaN</td>\n      <td>NaN</td>\n      <td>NaN</td>\n      <td>NaN</td>\n      <td>NaN</td>\n      <td>NaN</td>\n      <td>NaN</td>\n      <td>NaN</td>\n      <td>NaN</td>\n      <td>NaN</td>\n    </tr>\n    <tr>\n      <th>102593</th>\n      <td>French Polynesia</td>\n      <td>PYF</td>\n      <td>Agricultural irrigated land (% of total agricu...</td>\n      <td>AG.LND.IRIG.AG.ZS</td>\n      <td>NaN</td>\n      <td>NaN</td>\n      <td>NaN</td>\n      <td>NaN</td>\n      <td>NaN</td>\n      <td>NaN</td>\n      <td>NaN</td>\n      <td>NaN</td>\n      <td>NaN</td>\n      <td>NaN</td>\n      <td>NaN</td>\n      <td>NaN</td>\n      <td>NaN</td>\n      <td>NaN</td>\n      <td>NaN</td>\n      <td>NaN</td>\n      <td>NaN</td>\n      <td>NaN</td>\n      <td>NaN</td>\n      <td>NaN</td>\n      <td>NaN</td>\n      <td>NaN</td>\n      <td>NaN</td>\n      <td>NaN</td>\n      <td>NaN</td>\n      <td>NaN</td>\n      <td>NaN</td>\n      <td>NaN</td>\n      <td>NaN</td>\n      <td>NaN</td>\n      <td>NaN</td>\n      <td>NaN</td>\n      <td>NaN</td>\n      <td>NaN</td>\n      <td>NaN</td>\n      <td>NaN</td>\n      <td>NaN</td>\n      <td>NaN</td>\n      <td>NaN</td>\n      <td>NaN</td>\n      <td>NaN</td>\n    </tr>\n    <tr>\n      <th>102605</th>\n      <td>French Polynesia</td>\n      <td>PYF</td>\n      <td>Agriculture, forestry, and fishing, value adde...</td>\n      <td>NV.AGR.TOTL.KD.ZG</td>\n      <td>NaN</td>\n      <td>NaN</td>\n      <td>NaN</td>\n      <td>NaN</td>\n      <td>NaN</td>\n      <td>NaN</td>\n      <td>NaN</td>\n      <td>NaN</td>\n      <td>NaN</td>\n      <td>NaN</td>\n      <td>NaN</td>\n      <td>NaN</td>\n      <td>NaN</td>\n      <td>NaN</td>\n      <td>NaN</td>\n      <td>NaN</td>\n      <td>NaN</td>\n      <td>NaN</td>\n      <td>NaN</td>\n      <td>NaN</td>\n      <td>NaN</td>\n      <td>NaN</td>\n      <td>NaN</td>\n      <td>NaN</td>\n      <td>NaN</td>\n      <td>NaN</td>\n      <td>NaN</td>\n      <td>NaN</td>\n      <td>NaN</td>\n      <td>NaN</td>\n      <td>NaN</td>\n      <td>NaN</td>\n      <td>NaN</td>\n      <td>NaN</td>\n      <td>NaN</td>\n      <td>NaN</td>\n      <td>NaN</td>\n      <td>NaN</td>\n      <td>NaN</td>\n      <td>NaN</td>\n      <td>NaN</td>\n    </tr>\n    <tr>\n      <th>104079</th>\n      <td>Gabon</td>\n      <td>GAB</td>\n      <td>Agricultural irrigated land (% of total agricu...</td>\n      <td>AG.LND.IRIG.AG.ZS</td>\n      <td>NaN</td>\n      <td>NaN</td>\n      <td>NaN</td>\n      <td>NaN</td>\n      <td>NaN</td>\n      <td>NaN</td>\n      <td>NaN</td>\n      <td>NaN</td>\n      <td>NaN</td>\n      <td>NaN</td>\n      <td>NaN</td>\n      <td>NaN</td>\n      <td>NaN</td>\n      <td>NaN</td>\n      <td>NaN</td>\n      <td>NaN</td>\n      <td>NaN</td>\n      <td>NaN</td>\n      <td>NaN</td>\n      <td>NaN</td>\n      <td>NaN</td>\n      <td>NaN</td>\n      <td>NaN</td>\n      <td>NaN</td>\n      <td>NaN</td>\n      <td>NaN</td>\n      <td>NaN</td>\n      <td>NaN</td>\n      <td>NaN</td>\n      <td>NaN</td>\n      <td>NaN</td>\n      <td>NaN</td>\n      <td>NaN</td>\n      <td>NaN</td>\n      <td>NaN</td>\n      <td>NaN</td>\n      <td>NaN</td>\n      <td>NaN</td>\n      <td>NaN</td>\n      <td>NaN</td>\n      <td>NaN</td>\n    </tr>\n    <tr>\n      <th>105565</th>\n      <td>Gambia, The</td>\n      <td>GMB</td>\n      <td>Agricultural irrigated land (% of total agricu...</td>\n      <td>AG.LND.IRIG.AG.ZS</td>\n      <td>NaN</td>\n      <td>NaN</td>\n      <td>NaN</td>\n      <td>NaN</td>\n      <td>NaN</td>\n      <td>NaN</td>\n      <td>NaN</td>\n      <td>NaN</td>\n      <td>NaN</td>\n      <td>NaN</td>\n      <td>NaN</td>\n      <td>NaN</td>\n      <td>NaN</td>\n      <td>NaN</td>\n      <td>NaN</td>\n      <td>NaN</td>\n      <td>NaN</td>\n      <td>NaN</td>\n      <td>NaN</td>\n      <td>NaN</td>\n      <td>NaN</td>\n      <td>NaN</td>\n      <td>NaN</td>\n      <td>NaN</td>\n      <td>NaN</td>\n      <td>NaN</td>\n      <td>NaN</td>\n      <td>NaN</td>\n      <td>NaN</td>\n      <td>NaN</td>\n      <td>NaN</td>\n      <td>NaN</td>\n      <td>NaN</td>\n      <td>NaN</td>\n      <td>NaN</td>\n      <td>NaN</td>\n      <td>NaN</td>\n      <td>NaN</td>\n      <td>NaN</td>\n      <td>NaN</td>\n      <td>NaN</td>\n    </tr>\n    <tr>\n      <th>111509</th>\n      <td>Gibraltar</td>\n      <td>GIB</td>\n      <td>Agricultural irrigated land (% of total agricu...</td>\n      <td>AG.LND.IRIG.AG.ZS</td>\n      <td>NaN</td>\n      <td>NaN</td>\n      <td>NaN</td>\n      <td>NaN</td>\n      <td>NaN</td>\n      <td>NaN</td>\n      <td>NaN</td>\n      <td>NaN</td>\n      <td>NaN</td>\n      <td>NaN</td>\n      <td>NaN</td>\n      <td>NaN</td>\n      <td>NaN</td>\n      <td>NaN</td>\n      <td>NaN</td>\n      <td>NaN</td>\n      <td>NaN</td>\n      <td>NaN</td>\n      <td>NaN</td>\n      <td>NaN</td>\n      <td>NaN</td>\n      <td>NaN</td>\n      <td>NaN</td>\n      <td>NaN</td>\n      <td>NaN</td>\n      <td>NaN</td>\n      <td>NaN</td>\n      <td>NaN</td>\n      <td>NaN</td>\n      <td>NaN</td>\n      <td>NaN</td>\n      <td>NaN</td>\n      <td>NaN</td>\n      <td>NaN</td>\n      <td>NaN</td>\n      <td>NaN</td>\n      <td>NaN</td>\n      <td>NaN</td>\n      <td>NaN</td>\n      <td>NaN</td>\n      <td>NaN</td>\n    </tr>\n    <tr>\n      <th>111510</th>\n      <td>Gibraltar</td>\n      <td>GIB</td>\n      <td>Agricultural land (% of land area)</td>\n      <td>AG.LND.AGRI.ZS</td>\n      <td>NaN</td>\n      <td>NaN</td>\n      <td>NaN</td>\n      <td>NaN</td>\n      <td>NaN</td>\n      <td>NaN</td>\n      <td>NaN</td>\n      <td>NaN</td>\n      <td>NaN</td>\n      <td>NaN</td>\n      <td>NaN</td>\n      <td>NaN</td>\n      <td>NaN</td>\n      <td>NaN</td>\n      <td>NaN</td>\n      <td>NaN</td>\n      <td>NaN</td>\n      <td>NaN</td>\n      <td>NaN</td>\n      <td>NaN</td>\n      <td>NaN</td>\n      <td>NaN</td>\n      <td>NaN</td>\n      <td>NaN</td>\n      <td>NaN</td>\n      <td>NaN</td>\n      <td>NaN</td>\n      <td>NaN</td>\n      <td>NaN</td>\n      <td>NaN</td>\n      <td>NaN</td>\n      <td>NaN</td>\n      <td>NaN</td>\n      <td>NaN</td>\n      <td>NaN</td>\n      <td>NaN</td>\n      <td>NaN</td>\n      <td>NaN</td>\n      <td>NaN</td>\n      <td>NaN</td>\n      <td>NaN</td>\n    </tr>\n    <tr>\n      <th>111511</th>\n      <td>Gibraltar</td>\n      <td>GIB</td>\n      <td>Agricultural land (sq. km)</td>\n      <td>AG.LND.AGRI.K2</td>\n      <td>NaN</td>\n      <td>NaN</td>\n      <td>NaN</td>\n      <td>NaN</td>\n      <td>NaN</td>\n      <td>NaN</td>\n      <td>NaN</td>\n      <td>NaN</td>\n      <td>NaN</td>\n      <td>NaN</td>\n      <td>NaN</td>\n      <td>NaN</td>\n      <td>NaN</td>\n      <td>NaN</td>\n      <td>NaN</td>\n      <td>NaN</td>\n      <td>NaN</td>\n      <td>NaN</td>\n      <td>NaN</td>\n      <td>NaN</td>\n      <td>NaN</td>\n      <td>NaN</td>\n      <td>NaN</td>\n      <td>NaN</td>\n      <td>NaN</td>\n      <td>NaN</td>\n      <td>NaN</td>\n      <td>NaN</td>\n      <td>NaN</td>\n      <td>NaN</td>\n      <td>NaN</td>\n      <td>NaN</td>\n      <td>NaN</td>\n      <td>NaN</td>\n      <td>NaN</td>\n      <td>NaN</td>\n      <td>NaN</td>\n      <td>NaN</td>\n      <td>NaN</td>\n      <td>NaN</td>\n      <td>NaN</td>\n    </tr>\n    <tr>\n      <th>111520</th>\n      <td>Gibraltar</td>\n      <td>GIB</td>\n      <td>Agriculture, forestry, and fishing, value adde...</td>\n      <td>NV.AGR.TOTL.ZS</td>\n      <td>NaN</td>\n      <td>NaN</td>\n      <td>NaN</td>\n      <td>NaN</td>\n      <td>NaN</td>\n      <td>NaN</td>\n      <td>NaN</td>\n      <td>NaN</td>\n      <td>NaN</td>\n      <td>NaN</td>\n      <td>NaN</td>\n      <td>NaN</td>\n      <td>NaN</td>\n      <td>NaN</td>\n      <td>NaN</td>\n      <td>NaN</td>\n      <td>NaN</td>\n      <td>NaN</td>\n      <td>NaN</td>\n      <td>NaN</td>\n      <td>NaN</td>\n      <td>NaN</td>\n      <td>NaN</td>\n      <td>NaN</td>\n      <td>NaN</td>\n      <td>NaN</td>\n      <td>NaN</td>\n      <td>NaN</td>\n      <td>NaN</td>\n      <td>NaN</td>\n      <td>NaN</td>\n      <td>NaN</td>\n      <td>NaN</td>\n      <td>NaN</td>\n      <td>NaN</td>\n      <td>NaN</td>\n      <td>NaN</td>\n      <td>NaN</td>\n      <td>NaN</td>\n      <td>NaN</td>\n      <td>NaN</td>\n    </tr>\n    <tr>\n      <th>111521</th>\n      <td>Gibraltar</td>\n      <td>GIB</td>\n      <td>Agriculture, forestry, and fishing, value adde...</td>\n      <td>NV.AGR.TOTL.KD.ZG</td>\n      <td>NaN</td>\n      <td>NaN</td>\n      <td>NaN</td>\n      <td>NaN</td>\n      <td>NaN</td>\n      <td>NaN</td>\n      <td>NaN</td>\n      <td>NaN</td>\n      <td>NaN</td>\n      <td>NaN</td>\n      <td>NaN</td>\n      <td>NaN</td>\n      <td>NaN</td>\n      <td>NaN</td>\n      <td>NaN</td>\n      <td>NaN</td>\n      <td>NaN</td>\n      <td>NaN</td>\n      <td>NaN</td>\n      <td>NaN</td>\n      <td>NaN</td>\n      <td>NaN</td>\n      <td>NaN</td>\n      <td>NaN</td>\n      <td>NaN</td>\n      <td>NaN</td>\n      <td>NaN</td>\n      <td>NaN</td>\n      <td>NaN</td>\n      <td>NaN</td>\n      <td>NaN</td>\n      <td>NaN</td>\n      <td>NaN</td>\n      <td>NaN</td>\n      <td>NaN</td>\n      <td>NaN</td>\n      <td>NaN</td>\n      <td>NaN</td>\n      <td>NaN</td>\n      <td>NaN</td>\n      <td>NaN</td>\n    </tr>\n    <tr>\n      <th>111525</th>\n      <td>Gibraltar</td>\n      <td>GIB</td>\n      <td>Agriculture, forestry, and fishing, value adde...</td>\n      <td>NV.AGR.TOTL.CD</td>\n      <td>NaN</td>\n      <td>NaN</td>\n      <td>NaN</td>\n      <td>NaN</td>\n      <td>NaN</td>\n      <td>NaN</td>\n      <td>NaN</td>\n      <td>NaN</td>\n      <td>NaN</td>\n      <td>NaN</td>\n      <td>NaN</td>\n      <td>NaN</td>\n      <td>NaN</td>\n      <td>NaN</td>\n      <td>NaN</td>\n      <td>NaN</td>\n      <td>NaN</td>\n      <td>NaN</td>\n      <td>NaN</td>\n      <td>NaN</td>\n      <td>NaN</td>\n      <td>NaN</td>\n      <td>NaN</td>\n      <td>NaN</td>\n      <td>NaN</td>\n      <td>NaN</td>\n      <td>NaN</td>\n      <td>NaN</td>\n      <td>NaN</td>\n      <td>NaN</td>\n      <td>NaN</td>\n      <td>NaN</td>\n      <td>NaN</td>\n      <td>NaN</td>\n      <td>NaN</td>\n      <td>NaN</td>\n      <td>NaN</td>\n      <td>NaN</td>\n      <td>NaN</td>\n      <td>NaN</td>\n      <td>NaN</td>\n    </tr>\n    <tr>\n      <th>111540</th>\n      <td>Gibraltar</td>\n      <td>GIB</td>\n      <td>Aquaculture production (metric tons)</td>\n      <td>ER.FSH.AQUA.MT</td>\n      <td>NaN</td>\n      <td>NaN</td>\n      <td>NaN</td>\n      <td>NaN</td>\n      <td>NaN</td>\n      <td>NaN</td>\n      <td>NaN</td>\n      <td>NaN</td>\n      <td>NaN</td>\n      <td>NaN</td>\n      <td>NaN</td>\n      <td>NaN</td>\n      <td>NaN</td>\n      <td>NaN</td>\n      <td>NaN</td>\n      <td>NaN</td>\n      <td>NaN</td>\n      <td>NaN</td>\n      <td>NaN</td>\n      <td>NaN</td>\n      <td>NaN</td>\n      <td>NaN</td>\n      <td>NaN</td>\n      <td>NaN</td>\n      <td>NaN</td>\n      <td>NaN</td>\n      <td>NaN</td>\n      <td>NaN</td>\n      <td>NaN</td>\n      <td>NaN</td>\n      <td>NaN</td>\n      <td>NaN</td>\n      <td>NaN</td>\n      <td>NaN</td>\n      <td>NaN</td>\n      <td>NaN</td>\n      <td>NaN</td>\n      <td>NaN</td>\n      <td>NaN</td>\n      <td>NaN</td>\n      <td>NaN</td>\n    </tr>\n    <tr>\n      <th>111880</th>\n      <td>Gibraltar</td>\n      <td>GIB</td>\n      <td>Fertilizer consumption (kilograms per hectare ...</td>\n      <td>AG.CON.FERT.ZS</td>\n      <td>NaN</td>\n      <td>NaN</td>\n      <td>NaN</td>\n      <td>NaN</td>\n      <td>NaN</td>\n      <td>NaN</td>\n      <td>NaN</td>\n      <td>NaN</td>\n      <td>NaN</td>\n      <td>NaN</td>\n      <td>NaN</td>\n      <td>NaN</td>\n      <td>NaN</td>\n      <td>NaN</td>\n      <td>NaN</td>\n      <td>NaN</td>\n      <td>NaN</td>\n      <td>NaN</td>\n      <td>NaN</td>\n      <td>NaN</td>\n      <td>NaN</td>\n      <td>NaN</td>\n      <td>NaN</td>\n      <td>NaN</td>\n      <td>NaN</td>\n      <td>NaN</td>\n      <td>NaN</td>\n      <td>NaN</td>\n      <td>NaN</td>\n      <td>NaN</td>\n      <td>NaN</td>\n      <td>NaN</td>\n      <td>NaN</td>\n      <td>NaN</td>\n      <td>NaN</td>\n      <td>NaN</td>\n      <td>NaN</td>\n      <td>NaN</td>\n      <td>NaN</td>\n      <td>NaN</td>\n      <td>NaN</td>\n    </tr>\n    <tr>\n      <th>112111</th>\n      <td>Gibraltar</td>\n      <td>GIB</td>\n      <td>International tourism, number of arrivals</td>\n      <td>ST.INT.ARVL</td>\n      <td>NaN</td>\n      <td>NaN</td>\n      <td>NaN</td>\n      <td>NaN</td>\n      <td>NaN</td>\n      <td>NaN</td>\n      <td>NaN</td>\n      <td>NaN</td>\n      <td>NaN</td>\n      <td>NaN</td>\n      <td>NaN</td>\n      <td>NaN</td>\n      <td>NaN</td>\n      <td>NaN</td>\n      <td>NaN</td>\n      <td>NaN</td>\n      <td>NaN</td>\n      <td>NaN</td>\n      <td>NaN</td>\n      <td>NaN</td>\n      <td>NaN</td>\n      <td>NaN</td>\n      <td>NaN</td>\n      <td>NaN</td>\n      <td>NaN</td>\n      <td>NaN</td>\n      <td>NaN</td>\n      <td>NaN</td>\n      <td>NaN</td>\n      <td>NaN</td>\n      <td>NaN</td>\n      <td>NaN</td>\n      <td>NaN</td>\n      <td>NaN</td>\n      <td>NaN</td>\n      <td>NaN</td>\n      <td>NaN</td>\n      <td>NaN</td>\n      <td>NaN</td>\n      <td>NaN</td>\n      <td>NaN</td>\n    </tr>\n    <tr>\n      <th>112836</th>\n      <td>Gibraltar</td>\n      <td>GIB</td>\n      <td>Total fisheries production (metric tons)</td>\n      <td>ER.FSH.PROD.MT</td>\n      <td>NaN</td>\n      <td>NaN</td>\n      <td>NaN</td>\n      <td>NaN</td>\n      <td>NaN</td>\n      <td>NaN</td>\n      <td>NaN</td>\n      <td>NaN</td>\n      <td>NaN</td>\n      <td>NaN</td>\n      <td>NaN</td>\n      <td>NaN</td>\n      <td>NaN</td>\n      <td>NaN</td>\n      <td>NaN</td>\n      <td>NaN</td>\n      <td>NaN</td>\n      <td>NaN</td>\n      <td>NaN</td>\n      <td>NaN</td>\n      <td>NaN</td>\n      <td>NaN</td>\n      <td>NaN</td>\n      <td>NaN</td>\n      <td>NaN</td>\n      <td>NaN</td>\n      <td>NaN</td>\n      <td>NaN</td>\n      <td>NaN</td>\n      <td>NaN</td>\n      <td>NaN</td>\n      <td>NaN</td>\n      <td>NaN</td>\n      <td>NaN</td>\n      <td>NaN</td>\n      <td>NaN</td>\n      <td>NaN</td>\n      <td>NaN</td>\n      <td>NaN</td>\n      <td>NaN</td>\n      <td>NaN</td>\n    </tr>\n    <tr>\n      <th>114481</th>\n      <td>Greenland</td>\n      <td>GRL</td>\n      <td>Agricultural irrigated land (% of total agricu...</td>\n      <td>AG.LND.IRIG.AG.ZS</td>\n      <td>NaN</td>\n      <td>NaN</td>\n      <td>NaN</td>\n      <td>NaN</td>\n      <td>NaN</td>\n      <td>NaN</td>\n      <td>NaN</td>\n      <td>NaN</td>\n      <td>NaN</td>\n      <td>NaN</td>\n      <td>NaN</td>\n      <td>NaN</td>\n      <td>NaN</td>\n      <td>NaN</td>\n      <td>NaN</td>\n      <td>NaN</td>\n      <td>NaN</td>\n      <td>NaN</td>\n      <td>NaN</td>\n      <td>NaN</td>\n      <td>NaN</td>\n      <td>NaN</td>\n      <td>NaN</td>\n      <td>NaN</td>\n      <td>NaN</td>\n      <td>NaN</td>\n      <td>NaN</td>\n      <td>NaN</td>\n      <td>NaN</td>\n      <td>NaN</td>\n      <td>NaN</td>\n      <td>NaN</td>\n      <td>NaN</td>\n      <td>NaN</td>\n      <td>NaN</td>\n      <td>NaN</td>\n      <td>NaN</td>\n      <td>NaN</td>\n      <td>NaN</td>\n      <td>NaN</td>\n      <td>NaN</td>\n    </tr>\n    <tr>\n      <th>114512</th>\n      <td>Greenland</td>\n      <td>GRL</td>\n      <td>Aquaculture production (metric tons)</td>\n      <td>ER.FSH.AQUA.MT</td>\n      <td>NaN</td>\n      <td>NaN</td>\n      <td>NaN</td>\n      <td>NaN</td>\n      <td>NaN</td>\n      <td>NaN</td>\n      <td>NaN</td>\n      <td>NaN</td>\n      <td>NaN</td>\n      <td>NaN</td>\n      <td>NaN</td>\n      <td>NaN</td>\n      <td>NaN</td>\n      <td>NaN</td>\n      <td>NaN</td>\n      <td>NaN</td>\n      <td>NaN</td>\n      <td>NaN</td>\n      <td>NaN</td>\n      <td>NaN</td>\n      <td>NaN</td>\n      <td>NaN</td>\n      <td>NaN</td>\n      <td>NaN</td>\n      <td>NaN</td>\n      <td>NaN</td>\n      <td>NaN</td>\n      <td>NaN</td>\n      <td>NaN</td>\n      <td>NaN</td>\n      <td>NaN</td>\n      <td>NaN</td>\n      <td>NaN</td>\n      <td>NaN</td>\n      <td>NaN</td>\n      <td>NaN</td>\n      <td>NaN</td>\n      <td>NaN</td>\n      <td>NaN</td>\n      <td>NaN</td>\n      <td>NaN</td>\n    </tr>\n    <tr>\n      <th>114852</th>\n      <td>Greenland</td>\n      <td>GRL</td>\n      <td>Fertilizer consumption (kilograms per hectare ...</td>\n      <td>AG.CON.FERT.ZS</td>\n      <td>NaN</td>\n      <td>NaN</td>\n      <td>NaN</td>\n      <td>NaN</td>\n      <td>NaN</td>\n      <td>NaN</td>\n      <td>NaN</td>\n      <td>NaN</td>\n      <td>NaN</td>\n      <td>NaN</td>\n      <td>NaN</td>\n      <td>NaN</td>\n      <td>NaN</td>\n      <td>NaN</td>\n      <td>NaN</td>\n      <td>NaN</td>\n      <td>NaN</td>\n      <td>NaN</td>\n      <td>NaN</td>\n      <td>NaN</td>\n      <td>NaN</td>\n      <td>NaN</td>\n      <td>NaN</td>\n      <td>NaN</td>\n      <td>NaN</td>\n      <td>NaN</td>\n      <td>NaN</td>\n      <td>NaN</td>\n      <td>NaN</td>\n      <td>NaN</td>\n      <td>NaN</td>\n      <td>NaN</td>\n      <td>NaN</td>\n      <td>NaN</td>\n      <td>NaN</td>\n      <td>NaN</td>\n      <td>NaN</td>\n      <td>NaN</td>\n      <td>NaN</td>\n      <td>NaN</td>\n      <td>NaN</td>\n    </tr>\n    <tr>\n      <th>115083</th>\n      <td>Greenland</td>\n      <td>GRL</td>\n      <td>International tourism, number of arrivals</td>\n      <td>ST.INT.ARVL</td>\n      <td>NaN</td>\n      <td>NaN</td>\n      <td>NaN</td>\n      <td>NaN</td>\n      <td>NaN</td>\n      <td>NaN</td>\n      <td>NaN</td>\n      <td>NaN</td>\n      <td>NaN</td>\n      <td>NaN</td>\n      <td>NaN</td>\n      <td>NaN</td>\n      <td>NaN</td>\n      <td>NaN</td>\n      <td>NaN</td>\n      <td>NaN</td>\n      <td>NaN</td>\n      <td>NaN</td>\n      <td>NaN</td>\n      <td>NaN</td>\n      <td>NaN</td>\n      <td>NaN</td>\n      <td>NaN</td>\n      <td>NaN</td>\n      <td>NaN</td>\n      <td>NaN</td>\n      <td>NaN</td>\n      <td>NaN</td>\n      <td>NaN</td>\n      <td>NaN</td>\n      <td>NaN</td>\n      <td>NaN</td>\n      <td>NaN</td>\n      <td>NaN</td>\n      <td>NaN</td>\n      <td>NaN</td>\n      <td>NaN</td>\n      <td>NaN</td>\n      <td>NaN</td>\n      <td>NaN</td>\n      <td>NaN</td>\n    </tr>\n    <tr>\n      <th>115808</th>\n      <td>Greenland</td>\n      <td>GRL</td>\n      <td>Total fisheries production (metric tons)</td>\n      <td>ER.FSH.PROD.MT</td>\n      <td>NaN</td>\n      <td>NaN</td>\n      <td>NaN</td>\n      <td>NaN</td>\n      <td>NaN</td>\n      <td>NaN</td>\n      <td>NaN</td>\n      <td>NaN</td>\n      <td>NaN</td>\n      <td>NaN</td>\n      <td>NaN</td>\n      <td>NaN</td>\n      <td>NaN</td>\n      <td>NaN</td>\n      <td>NaN</td>\n      <td>NaN</td>\n      <td>NaN</td>\n      <td>NaN</td>\n      <td>NaN</td>\n      <td>NaN</td>\n      <td>NaN</td>\n      <td>NaN</td>\n      <td>NaN</td>\n      <td>NaN</td>\n      <td>NaN</td>\n      <td>NaN</td>\n      <td>NaN</td>\n      <td>NaN</td>\n      <td>NaN</td>\n      <td>NaN</td>\n      <td>NaN</td>\n      <td>NaN</td>\n      <td>NaN</td>\n      <td>NaN</td>\n      <td>NaN</td>\n      <td>NaN</td>\n      <td>NaN</td>\n      <td>NaN</td>\n      <td>NaN</td>\n      <td>NaN</td>\n      <td>NaN</td>\n    </tr>\n    <tr>\n      <th>117453</th>\n      <td>Guam</td>\n      <td>GUM</td>\n      <td>Agricultural irrigated land (% of total agricu...</td>\n      <td>AG.LND.IRIG.AG.ZS</td>\n      <td>NaN</td>\n      <td>NaN</td>\n      <td>NaN</td>\n      <td>NaN</td>\n      <td>NaN</td>\n      <td>NaN</td>\n      <td>NaN</td>\n      <td>NaN</td>\n      <td>NaN</td>\n      <td>NaN</td>\n      <td>NaN</td>\n      <td>NaN</td>\n      <td>NaN</td>\n      <td>NaN</td>\n      <td>NaN</td>\n      <td>NaN</td>\n      <td>NaN</td>\n      <td>NaN</td>\n      <td>NaN</td>\n      <td>NaN</td>\n      <td>NaN</td>\n      <td>NaN</td>\n      <td>NaN</td>\n      <td>NaN</td>\n      <td>NaN</td>\n      <td>NaN</td>\n      <td>NaN</td>\n      <td>NaN</td>\n      <td>NaN</td>\n      <td>NaN</td>\n      <td>NaN</td>\n      <td>NaN</td>\n      <td>NaN</td>\n      <td>NaN</td>\n      <td>NaN</td>\n      <td>NaN</td>\n      <td>NaN</td>\n      <td>NaN</td>\n      <td>NaN</td>\n      <td>NaN</td>\n      <td>NaN</td>\n    </tr>\n    <tr>\n      <th>117464</th>\n      <td>Guam</td>\n      <td>GUM</td>\n      <td>Agriculture, forestry, and fishing, value adde...</td>\n      <td>NV.AGR.TOTL.ZS</td>\n      <td>NaN</td>\n      <td>NaN</td>\n      <td>NaN</td>\n      <td>NaN</td>\n      <td>NaN</td>\n      <td>NaN</td>\n      <td>NaN</td>\n      <td>NaN</td>\n      <td>NaN</td>\n      <td>NaN</td>\n      <td>NaN</td>\n      <td>NaN</td>\n      <td>NaN</td>\n      <td>NaN</td>\n      <td>NaN</td>\n      <td>NaN</td>\n      <td>NaN</td>\n      <td>NaN</td>\n      <td>NaN</td>\n      <td>NaN</td>\n      <td>NaN</td>\n      <td>NaN</td>\n      <td>NaN</td>\n      <td>NaN</td>\n      <td>NaN</td>\n      <td>NaN</td>\n      <td>NaN</td>\n      <td>NaN</td>\n      <td>NaN</td>\n      <td>NaN</td>\n      <td>NaN</td>\n      <td>NaN</td>\n      <td>NaN</td>\n      <td>NaN</td>\n      <td>NaN</td>\n      <td>NaN</td>\n      <td>NaN</td>\n      <td>NaN</td>\n      <td>NaN</td>\n      <td>NaN</td>\n      <td>NaN</td>\n    </tr>\n    <tr>\n      <th>117465</th>\n      <td>Guam</td>\n      <td>GUM</td>\n      <td>Agriculture, forestry, and fishing, value adde...</td>\n      <td>NV.AGR.TOTL.KD.ZG</td>\n      <td>NaN</td>\n      <td>NaN</td>\n      <td>NaN</td>\n      <td>NaN</td>\n      <td>NaN</td>\n      <td>NaN</td>\n      <td>NaN</td>\n      <td>NaN</td>\n      <td>NaN</td>\n      <td>NaN</td>\n      <td>NaN</td>\n      <td>NaN</td>\n      <td>NaN</td>\n      <td>NaN</td>\n      <td>NaN</td>\n      <td>NaN</td>\n      <td>NaN</td>\n      <td>NaN</td>\n      <td>NaN</td>\n      <td>NaN</td>\n      <td>NaN</td>\n      <td>NaN</td>\n      <td>NaN</td>\n      <td>NaN</td>\n      <td>NaN</td>\n      <td>NaN</td>\n      <td>NaN</td>\n      <td>NaN</td>\n      <td>NaN</td>\n      <td>NaN</td>\n      <td>NaN</td>\n      <td>NaN</td>\n      <td>NaN</td>\n      <td>NaN</td>\n      <td>NaN</td>\n      <td>NaN</td>\n      <td>NaN</td>\n      <td>NaN</td>\n      <td>NaN</td>\n      <td>NaN</td>\n      <td>NaN</td>\n    </tr>\n    <tr>\n      <th>117469</th>\n      <td>Guam</td>\n      <td>GUM</td>\n      <td>Agriculture, forestry, and fishing, value adde...</td>\n      <td>NV.AGR.TOTL.CD</td>\n      <td>NaN</td>\n      <td>NaN</td>\n      <td>NaN</td>\n      <td>NaN</td>\n      <td>NaN</td>\n      <td>NaN</td>\n      <td>NaN</td>\n      <td>NaN</td>\n      <td>NaN</td>\n      <td>NaN</td>\n      <td>NaN</td>\n      <td>NaN</td>\n      <td>NaN</td>\n      <td>NaN</td>\n      <td>NaN</td>\n      <td>NaN</td>\n      <td>NaN</td>\n      <td>NaN</td>\n      <td>NaN</td>\n      <td>NaN</td>\n      <td>NaN</td>\n      <td>NaN</td>\n      <td>NaN</td>\n      <td>NaN</td>\n      <td>NaN</td>\n      <td>NaN</td>\n      <td>NaN</td>\n      <td>NaN</td>\n      <td>NaN</td>\n      <td>NaN</td>\n      <td>NaN</td>\n      <td>NaN</td>\n      <td>NaN</td>\n      <td>NaN</td>\n      <td>NaN</td>\n      <td>NaN</td>\n      <td>NaN</td>\n      <td>NaN</td>\n      <td>NaN</td>\n      <td>NaN</td>\n      <td>NaN</td>\n    </tr>\n    <tr>\n      <th>117824</th>\n      <td>Guam</td>\n      <td>GUM</td>\n      <td>Fertilizer consumption (kilograms per hectare ...</td>\n      <td>AG.CON.FERT.ZS</td>\n      <td>NaN</td>\n      <td>NaN</td>\n      <td>NaN</td>\n      <td>NaN</td>\n      <td>NaN</td>\n      <td>NaN</td>\n      <td>NaN</td>\n      <td>NaN</td>\n      <td>NaN</td>\n      <td>NaN</td>\n      <td>NaN</td>\n      <td>NaN</td>\n      <td>NaN</td>\n      <td>NaN</td>\n      <td>NaN</td>\n      <td>NaN</td>\n      <td>NaN</td>\n      <td>NaN</td>\n      <td>NaN</td>\n      <td>NaN</td>\n      <td>NaN</td>\n      <td>NaN</td>\n      <td>NaN</td>\n      <td>NaN</td>\n      <td>NaN</td>\n      <td>NaN</td>\n      <td>NaN</td>\n      <td>NaN</td>\n      <td>NaN</td>\n      <td>NaN</td>\n      <td>NaN</td>\n      <td>NaN</td>\n      <td>NaN</td>\n      <td>NaN</td>\n      <td>NaN</td>\n      <td>NaN</td>\n      <td>NaN</td>\n      <td>NaN</td>\n      <td>NaN</td>\n      <td>NaN</td>\n      <td>NaN</td>\n    </tr>\n    <tr>\n      <th>121911</th>\n      <td>Guinea-Bissau</td>\n      <td>GNB</td>\n      <td>Agricultural irrigated land (% of total agricu...</td>\n      <td>AG.LND.IRIG.AG.ZS</td>\n      <td>NaN</td>\n      <td>NaN</td>\n      <td>NaN</td>\n      <td>NaN</td>\n      <td>NaN</td>\n      <td>NaN</td>\n      <td>NaN</td>\n      <td>NaN</td>\n      <td>NaN</td>\n      <td>NaN</td>\n      <td>NaN</td>\n      <td>NaN</td>\n      <td>NaN</td>\n      <td>NaN</td>\n      <td>NaN</td>\n      <td>NaN</td>\n      <td>NaN</td>\n      <td>NaN</td>\n      <td>NaN</td>\n      <td>NaN</td>\n      <td>NaN</td>\n      <td>NaN</td>\n      <td>NaN</td>\n      <td>NaN</td>\n      <td>NaN</td>\n      <td>NaN</td>\n      <td>NaN</td>\n      <td>NaN</td>\n      <td>NaN</td>\n      <td>NaN</td>\n      <td>NaN</td>\n      <td>NaN</td>\n      <td>NaN</td>\n      <td>NaN</td>\n      <td>NaN</td>\n      <td>NaN</td>\n      <td>NaN</td>\n      <td>NaN</td>\n      <td>NaN</td>\n      <td>NaN</td>\n      <td>NaN</td>\n    </tr>\n    <tr>\n      <th>127855</th>\n      <td>Hong Kong SAR, China</td>\n      <td>HKG</td>\n      <td>Agricultural irrigated land (% of total agricu...</td>\n      <td>AG.LND.IRIG.AG.ZS</td>\n      <td>NaN</td>\n      <td>NaN</td>\n      <td>NaN</td>\n      <td>NaN</td>\n      <td>NaN</td>\n      <td>NaN</td>\n      <td>NaN</td>\n      <td>NaN</td>\n      <td>NaN</td>\n      <td>NaN</td>\n      <td>NaN</td>\n      <td>NaN</td>\n      <td>NaN</td>\n      <td>NaN</td>\n      <td>NaN</td>\n      <td>NaN</td>\n      <td>NaN</td>\n      <td>NaN</td>\n      <td>NaN</td>\n      <td>NaN</td>\n      <td>NaN</td>\n      <td>NaN</td>\n      <td>NaN</td>\n      <td>NaN</td>\n      <td>NaN</td>\n      <td>NaN</td>\n      <td>NaN</td>\n      <td>NaN</td>\n      <td>NaN</td>\n      <td>NaN</td>\n      <td>NaN</td>\n      <td>NaN</td>\n      <td>NaN</td>\n      <td>NaN</td>\n      <td>NaN</td>\n      <td>NaN</td>\n      <td>NaN</td>\n      <td>NaN</td>\n      <td>NaN</td>\n      <td>NaN</td>\n      <td>NaN</td>\n    </tr>\n    <tr>\n      <th>128262</th>\n      <td>Hong Kong SAR, China</td>\n      <td>HKG</td>\n      <td>Forest area (% of land area)</td>\n      <td>AG.LND.FRST.ZS</td>\n      <td>NaN</td>\n      <td>NaN</td>\n      <td>NaN</td>\n      <td>NaN</td>\n      <td>NaN</td>\n      <td>NaN</td>\n      <td>NaN</td>\n      <td>NaN</td>\n      <td>NaN</td>\n      <td>NaN</td>\n      <td>NaN</td>\n      <td>NaN</td>\n      <td>NaN</td>\n      <td>NaN</td>\n      <td>NaN</td>\n      <td>NaN</td>\n      <td>NaN</td>\n      <td>NaN</td>\n      <td>NaN</td>\n      <td>NaN</td>\n      <td>NaN</td>\n      <td>NaN</td>\n      <td>NaN</td>\n      <td>NaN</td>\n      <td>NaN</td>\n      <td>NaN</td>\n      <td>NaN</td>\n      <td>NaN</td>\n      <td>NaN</td>\n      <td>NaN</td>\n      <td>NaN</td>\n      <td>NaN</td>\n      <td>NaN</td>\n      <td>NaN</td>\n      <td>NaN</td>\n      <td>NaN</td>\n      <td>NaN</td>\n      <td>NaN</td>\n      <td>NaN</td>\n      <td>NaN</td>\n      <td>NaN</td>\n    </tr>\n    <tr>\n      <th>128263</th>\n      <td>Hong Kong SAR, China</td>\n      <td>HKG</td>\n      <td>Forest area (sq. km)</td>\n      <td>AG.LND.FRST.K2</td>\n      <td>NaN</td>\n      <td>NaN</td>\n      <td>NaN</td>\n      <td>NaN</td>\n      <td>NaN</td>\n      <td>NaN</td>\n      <td>NaN</td>\n      <td>NaN</td>\n      <td>NaN</td>\n      <td>NaN</td>\n      <td>NaN</td>\n      <td>NaN</td>\n      <td>NaN</td>\n      <td>NaN</td>\n      <td>NaN</td>\n      <td>NaN</td>\n      <td>NaN</td>\n      <td>NaN</td>\n      <td>NaN</td>\n      <td>NaN</td>\n      <td>NaN</td>\n      <td>NaN</td>\n      <td>NaN</td>\n      <td>NaN</td>\n      <td>NaN</td>\n      <td>NaN</td>\n      <td>NaN</td>\n      <td>NaN</td>\n      <td>NaN</td>\n      <td>NaN</td>\n      <td>NaN</td>\n      <td>NaN</td>\n      <td>NaN</td>\n      <td>NaN</td>\n      <td>NaN</td>\n      <td>NaN</td>\n      <td>NaN</td>\n      <td>NaN</td>\n      <td>NaN</td>\n      <td>NaN</td>\n      <td>NaN</td>\n    </tr>\n    <tr>\n      <th>130030</th>\n      <td>Hungary</td>\n      <td>HUN</td>\n      <td>Marine protected areas (% of territorial waters)</td>\n      <td>ER.MRN.PTMR.ZS</td>\n      <td>NaN</td>\n      <td>NaN</td>\n      <td>NaN</td>\n      <td>NaN</td>\n      <td>NaN</td>\n      <td>NaN</td>\n      <td>NaN</td>\n      <td>NaN</td>\n      <td>NaN</td>\n      <td>NaN</td>\n      <td>NaN</td>\n      <td>NaN</td>\n      <td>NaN</td>\n      <td>NaN</td>\n      <td>NaN</td>\n      <td>NaN</td>\n      <td>NaN</td>\n      <td>NaN</td>\n      <td>NaN</td>\n      <td>NaN</td>\n      <td>NaN</td>\n      <td>NaN</td>\n      <td>NaN</td>\n      <td>NaN</td>\n      <td>NaN</td>\n      <td>NaN</td>\n      <td>NaN</td>\n      <td>NaN</td>\n      <td>NaN</td>\n      <td>NaN</td>\n      <td>NaN</td>\n      <td>NaN</td>\n      <td>NaN</td>\n      <td>NaN</td>\n      <td>NaN</td>\n      <td>NaN</td>\n      <td>NaN</td>\n      <td>NaN</td>\n      <td>NaN</td>\n      <td>NaN</td>\n      <td>NaN</td>\n    </tr>\n    <tr>\n      <th>133799</th>\n      <td>Indonesia</td>\n      <td>IDN</td>\n      <td>Agricultural irrigated land (% of total agricu...</td>\n      <td>AG.LND.IRIG.AG.ZS</td>\n      <td>NaN</td>\n      <td>NaN</td>\n      <td>NaN</td>\n      <td>NaN</td>\n      <td>NaN</td>\n      <td>NaN</td>\n      <td>NaN</td>\n      <td>NaN</td>\n      <td>NaN</td>\n      <td>NaN</td>\n      <td>NaN</td>\n      <td>NaN</td>\n      <td>NaN</td>\n      <td>NaN</td>\n      <td>NaN</td>\n      <td>NaN</td>\n      <td>NaN</td>\n      <td>NaN</td>\n      <td>NaN</td>\n      <td>NaN</td>\n      <td>NaN</td>\n      <td>NaN</td>\n      <td>NaN</td>\n      <td>NaN</td>\n      <td>NaN</td>\n      <td>NaN</td>\n      <td>NaN</td>\n      <td>NaN</td>\n      <td>NaN</td>\n      <td>NaN</td>\n      <td>NaN</td>\n      <td>NaN</td>\n      <td>NaN</td>\n      <td>NaN</td>\n      <td>NaN</td>\n      <td>NaN</td>\n      <td>NaN</td>\n      <td>NaN</td>\n      <td>NaN</td>\n      <td>NaN</td>\n      <td>NaN</td>\n    </tr>\n    <tr>\n      <th>136771</th>\n      <td>Iraq</td>\n      <td>IRQ</td>\n      <td>Agricultural irrigated land (% of total agricu...</td>\n      <td>AG.LND.IRIG.AG.ZS</td>\n      <td>NaN</td>\n      <td>NaN</td>\n      <td>NaN</td>\n      <td>NaN</td>\n      <td>NaN</td>\n      <td>NaN</td>\n      <td>NaN</td>\n      <td>NaN</td>\n      <td>NaN</td>\n      <td>NaN</td>\n      <td>NaN</td>\n      <td>NaN</td>\n      <td>NaN</td>\n      <td>NaN</td>\n      <td>NaN</td>\n      <td>NaN</td>\n      <td>NaN</td>\n      <td>NaN</td>\n      <td>NaN</td>\n      <td>NaN</td>\n      <td>NaN</td>\n      <td>NaN</td>\n      <td>NaN</td>\n      <td>NaN</td>\n      <td>NaN</td>\n      <td>NaN</td>\n      <td>NaN</td>\n      <td>NaN</td>\n      <td>NaN</td>\n      <td>NaN</td>\n      <td>NaN</td>\n      <td>NaN</td>\n      <td>NaN</td>\n      <td>NaN</td>\n      <td>NaN</td>\n      <td>NaN</td>\n      <td>NaN</td>\n      <td>NaN</td>\n      <td>NaN</td>\n      <td>NaN</td>\n      <td>NaN</td>\n    </tr>\n    <tr>\n      <th>138257</th>\n      <td>Ireland</td>\n      <td>IRL</td>\n      <td>Agricultural irrigated land (% of total agricu...</td>\n      <td>AG.LND.IRIG.AG.ZS</td>\n      <td>NaN</td>\n      <td>NaN</td>\n      <td>NaN</td>\n      <td>NaN</td>\n      <td>NaN</td>\n      <td>NaN</td>\n      <td>NaN</td>\n      <td>NaN</td>\n      <td>NaN</td>\n      <td>NaN</td>\n      <td>NaN</td>\n      <td>NaN</td>\n      <td>NaN</td>\n      <td>NaN</td>\n      <td>NaN</td>\n      <td>NaN</td>\n      <td>NaN</td>\n      <td>NaN</td>\n      <td>NaN</td>\n      <td>NaN</td>\n      <td>NaN</td>\n      <td>NaN</td>\n      <td>NaN</td>\n      <td>NaN</td>\n      <td>NaN</td>\n      <td>NaN</td>\n      <td>NaN</td>\n      <td>NaN</td>\n      <td>NaN</td>\n      <td>NaN</td>\n      <td>NaN</td>\n      <td>NaN</td>\n      <td>NaN</td>\n      <td>NaN</td>\n      <td>NaN</td>\n      <td>NaN</td>\n      <td>NaN</td>\n      <td>NaN</td>\n      <td>NaN</td>\n      <td>NaN</td>\n      <td>NaN</td>\n    </tr>\n    <tr>\n      <th>139743</th>\n      <td>Isle of Man</td>\n      <td>IMN</td>\n      <td>Agricultural irrigated land (% of total agricu...</td>\n      <td>AG.LND.IRIG.AG.ZS</td>\n      <td>NaN</td>\n      <td>NaN</td>\n      <td>NaN</td>\n      <td>NaN</td>\n      <td>NaN</td>\n      <td>NaN</td>\n      <td>NaN</td>\n      <td>NaN</td>\n      <td>NaN</td>\n      <td>NaN</td>\n      <td>NaN</td>\n      <td>NaN</td>\n      <td>NaN</td>\n      <td>NaN</td>\n      <td>NaN</td>\n      <td>NaN</td>\n      <td>NaN</td>\n      <td>NaN</td>\n      <td>NaN</td>\n      <td>NaN</td>\n      <td>NaN</td>\n      <td>NaN</td>\n      <td>NaN</td>\n      <td>NaN</td>\n      <td>NaN</td>\n      <td>NaN</td>\n      <td>NaN</td>\n      <td>NaN</td>\n      <td>NaN</td>\n      <td>NaN</td>\n      <td>NaN</td>\n      <td>NaN</td>\n      <td>NaN</td>\n      <td>NaN</td>\n      <td>NaN</td>\n      <td>NaN</td>\n      <td>NaN</td>\n      <td>NaN</td>\n      <td>NaN</td>\n      <td>NaN</td>\n      <td>NaN</td>\n    </tr>\n    <tr>\n      <th>139774</th>\n      <td>Isle of Man</td>\n      <td>IMN</td>\n      <td>Aquaculture production (metric tons)</td>\n      <td>ER.FSH.AQUA.MT</td>\n      <td>NaN</td>\n      <td>NaN</td>\n      <td>NaN</td>\n      <td>NaN</td>\n      <td>NaN</td>\n      <td>NaN</td>\n      <td>NaN</td>\n      <td>NaN</td>\n      <td>NaN</td>\n      <td>NaN</td>\n      <td>NaN</td>\n      <td>NaN</td>\n      <td>NaN</td>\n      <td>NaN</td>\n      <td>NaN</td>\n      <td>NaN</td>\n      <td>NaN</td>\n      <td>NaN</td>\n      <td>NaN</td>\n      <td>NaN</td>\n      <td>NaN</td>\n      <td>NaN</td>\n      <td>NaN</td>\n      <td>NaN</td>\n      <td>NaN</td>\n      <td>NaN</td>\n      <td>NaN</td>\n      <td>NaN</td>\n      <td>NaN</td>\n      <td>NaN</td>\n      <td>NaN</td>\n      <td>NaN</td>\n      <td>NaN</td>\n      <td>NaN</td>\n      <td>NaN</td>\n      <td>NaN</td>\n      <td>NaN</td>\n      <td>NaN</td>\n      <td>NaN</td>\n      <td>NaN</td>\n      <td>NaN</td>\n    </tr>\n    <tr>\n      <th>140114</th>\n      <td>Isle of Man</td>\n      <td>IMN</td>\n      <td>Fertilizer consumption (kilograms per hectare ...</td>\n      <td>AG.CON.FERT.ZS</td>\n      <td>NaN</td>\n      <td>NaN</td>\n      <td>NaN</td>\n      <td>NaN</td>\n      <td>NaN</td>\n      <td>NaN</td>\n      <td>NaN</td>\n      <td>NaN</td>\n      <td>NaN</td>\n      <td>NaN</td>\n      <td>NaN</td>\n      <td>NaN</td>\n      <td>NaN</td>\n      <td>NaN</td>\n      <td>NaN</td>\n      <td>NaN</td>\n      <td>NaN</td>\n      <td>NaN</td>\n      <td>NaN</td>\n      <td>NaN</td>\n      <td>NaN</td>\n      <td>NaN</td>\n      <td>NaN</td>\n      <td>NaN</td>\n      <td>NaN</td>\n      <td>NaN</td>\n      <td>NaN</td>\n      <td>NaN</td>\n      <td>NaN</td>\n      <td>NaN</td>\n      <td>NaN</td>\n      <td>NaN</td>\n      <td>NaN</td>\n      <td>NaN</td>\n      <td>NaN</td>\n      <td>NaN</td>\n      <td>NaN</td>\n      <td>NaN</td>\n      <td>NaN</td>\n      <td>NaN</td>\n      <td>NaN</td>\n    </tr>\n    <tr>\n      <th>140345</th>\n      <td>Isle of Man</td>\n      <td>IMN</td>\n      <td>International tourism, number of arrivals</td>\n      <td>ST.INT.ARVL</td>\n      <td>NaN</td>\n      <td>NaN</td>\n      <td>NaN</td>\n      <td>NaN</td>\n      <td>NaN</td>\n      <td>NaN</td>\n      <td>NaN</td>\n      <td>NaN</td>\n      <td>NaN</td>\n      <td>NaN</td>\n      <td>NaN</td>\n      <td>NaN</td>\n      <td>NaN</td>\n      <td>NaN</td>\n      <td>NaN</td>\n      <td>NaN</td>\n      <td>NaN</td>\n      <td>NaN</td>\n      <td>NaN</td>\n      <td>NaN</td>\n      <td>NaN</td>\n      <td>NaN</td>\n      <td>NaN</td>\n      <td>NaN</td>\n      <td>NaN</td>\n      <td>NaN</td>\n      <td>NaN</td>\n      <td>NaN</td>\n      <td>NaN</td>\n      <td>NaN</td>\n      <td>NaN</td>\n      <td>NaN</td>\n      <td>NaN</td>\n      <td>NaN</td>\n      <td>NaN</td>\n      <td>NaN</td>\n      <td>NaN</td>\n      <td>NaN</td>\n      <td>NaN</td>\n      <td>NaN</td>\n      <td>NaN</td>\n    </tr>\n    <tr>\n      <th>141070</th>\n      <td>Isle of Man</td>\n      <td>IMN</td>\n      <td>Total fisheries production (metric tons)</td>\n      <td>ER.FSH.PROD.MT</td>\n      <td>NaN</td>\n      <td>NaN</td>\n      <td>NaN</td>\n      <td>NaN</td>\n      <td>NaN</td>\n      <td>NaN</td>\n      <td>NaN</td>\n      <td>NaN</td>\n      <td>NaN</td>\n      <td>NaN</td>\n      <td>NaN</td>\n      <td>NaN</td>\n      <td>NaN</td>\n      <td>NaN</td>\n      <td>NaN</td>\n      <td>NaN</td>\n      <td>NaN</td>\n      <td>NaN</td>\n      <td>NaN</td>\n      <td>NaN</td>\n      <td>NaN</td>\n      <td>NaN</td>\n      <td>NaN</td>\n      <td>NaN</td>\n      <td>NaN</td>\n      <td>NaN</td>\n      <td>NaN</td>\n      <td>NaN</td>\n      <td>NaN</td>\n      <td>NaN</td>\n      <td>NaN</td>\n      <td>NaN</td>\n      <td>NaN</td>\n      <td>NaN</td>\n      <td>NaN</td>\n      <td>NaN</td>\n      <td>NaN</td>\n      <td>NaN</td>\n      <td>NaN</td>\n      <td>NaN</td>\n      <td>NaN</td>\n    </tr>\n    <tr>\n      <th>150145</th>\n      <td>Kenya</td>\n      <td>KEN</td>\n      <td>Agricultural irrigated land (% of total agricu...</td>\n      <td>AG.LND.IRIG.AG.ZS</td>\n      <td>NaN</td>\n      <td>NaN</td>\n      <td>NaN</td>\n      <td>NaN</td>\n      <td>NaN</td>\n      <td>NaN</td>\n      <td>NaN</td>\n      <td>NaN</td>\n      <td>NaN</td>\n      <td>NaN</td>\n      <td>NaN</td>\n      <td>NaN</td>\n      <td>NaN</td>\n      <td>NaN</td>\n      <td>NaN</td>\n      <td>NaN</td>\n      <td>NaN</td>\n      <td>NaN</td>\n      <td>NaN</td>\n      <td>NaN</td>\n      <td>NaN</td>\n      <td>NaN</td>\n      <td>NaN</td>\n      <td>NaN</td>\n      <td>NaN</td>\n      <td>NaN</td>\n      <td>NaN</td>\n      <td>NaN</td>\n      <td>NaN</td>\n      <td>NaN</td>\n      <td>NaN</td>\n      <td>NaN</td>\n      <td>NaN</td>\n      <td>NaN</td>\n      <td>NaN</td>\n      <td>NaN</td>\n      <td>NaN</td>\n      <td>NaN</td>\n      <td>NaN</td>\n      <td>NaN</td>\n      <td>NaN</td>\n    </tr>\n    <tr>\n      <th>151631</th>\n      <td>Kiribati</td>\n      <td>KIR</td>\n      <td>Agricultural irrigated land (% of total agricu...</td>\n      <td>AG.LND.IRIG.AG.ZS</td>\n      <td>NaN</td>\n      <td>NaN</td>\n      <td>NaN</td>\n      <td>NaN</td>\n      <td>NaN</td>\n      <td>NaN</td>\n      <td>NaN</td>\n      <td>NaN</td>\n      <td>NaN</td>\n      <td>NaN</td>\n      <td>NaN</td>\n      <td>NaN</td>\n      <td>NaN</td>\n      <td>NaN</td>\n      <td>NaN</td>\n      <td>NaN</td>\n      <td>NaN</td>\n      <td>NaN</td>\n      <td>NaN</td>\n      <td>NaN</td>\n      <td>NaN</td>\n      <td>NaN</td>\n      <td>NaN</td>\n      <td>NaN</td>\n      <td>NaN</td>\n      <td>NaN</td>\n      <td>NaN</td>\n      <td>NaN</td>\n      <td>NaN</td>\n      <td>NaN</td>\n      <td>NaN</td>\n      <td>NaN</td>\n      <td>NaN</td>\n      <td>NaN</td>\n      <td>NaN</td>\n      <td>NaN</td>\n      <td>NaN</td>\n      <td>NaN</td>\n      <td>NaN</td>\n      <td>NaN</td>\n      <td>NaN</td>\n    </tr>\n    <tr>\n      <th>153117</th>\n      <td>Korea, Dem. People's Rep.</td>\n      <td>PRK</td>\n      <td>Agricultural irrigated land (% of total agricu...</td>\n      <td>AG.LND.IRIG.AG.ZS</td>\n      <td>NaN</td>\n      <td>NaN</td>\n      <td>NaN</td>\n      <td>NaN</td>\n      <td>NaN</td>\n      <td>NaN</td>\n      <td>NaN</td>\n      <td>NaN</td>\n      <td>NaN</td>\n      <td>NaN</td>\n      <td>NaN</td>\n      <td>NaN</td>\n      <td>NaN</td>\n      <td>NaN</td>\n      <td>NaN</td>\n      <td>NaN</td>\n      <td>NaN</td>\n      <td>NaN</td>\n      <td>NaN</td>\n      <td>NaN</td>\n      <td>NaN</td>\n      <td>NaN</td>\n      <td>NaN</td>\n      <td>NaN</td>\n      <td>NaN</td>\n      <td>NaN</td>\n      <td>NaN</td>\n      <td>NaN</td>\n      <td>NaN</td>\n      <td>NaN</td>\n      <td>NaN</td>\n      <td>NaN</td>\n      <td>NaN</td>\n      <td>NaN</td>\n      <td>NaN</td>\n      <td>NaN</td>\n      <td>NaN</td>\n      <td>NaN</td>\n      <td>NaN</td>\n      <td>NaN</td>\n      <td>NaN</td>\n    </tr>\n    <tr>\n      <th>153128</th>\n      <td>Korea, Dem. People's Rep.</td>\n      <td>PRK</td>\n      <td>Agriculture, forestry, and fishing, value adde...</td>\n      <td>NV.AGR.TOTL.ZS</td>\n      <td>NaN</td>\n      <td>NaN</td>\n      <td>NaN</td>\n      <td>NaN</td>\n      <td>NaN</td>\n      <td>NaN</td>\n      <td>NaN</td>\n      <td>NaN</td>\n      <td>NaN</td>\n      <td>NaN</td>\n      <td>NaN</td>\n      <td>NaN</td>\n      <td>NaN</td>\n      <td>NaN</td>\n      <td>NaN</td>\n      <td>NaN</td>\n      <td>NaN</td>\n      <td>NaN</td>\n      <td>NaN</td>\n      <td>NaN</td>\n      <td>NaN</td>\n      <td>NaN</td>\n      <td>NaN</td>\n      <td>NaN</td>\n      <td>NaN</td>\n      <td>NaN</td>\n      <td>NaN</td>\n      <td>NaN</td>\n      <td>NaN</td>\n      <td>NaN</td>\n      <td>NaN</td>\n      <td>NaN</td>\n      <td>NaN</td>\n      <td>NaN</td>\n      <td>NaN</td>\n      <td>NaN</td>\n      <td>NaN</td>\n      <td>NaN</td>\n      <td>NaN</td>\n      <td>NaN</td>\n      <td>NaN</td>\n    </tr>\n    <tr>\n      <th>153129</th>\n      <td>Korea, Dem. People's Rep.</td>\n      <td>PRK</td>\n      <td>Agriculture, forestry, and fishing, value adde...</td>\n      <td>NV.AGR.TOTL.KD.ZG</td>\n      <td>NaN</td>\n      <td>NaN</td>\n      <td>NaN</td>\n      <td>NaN</td>\n      <td>NaN</td>\n      <td>NaN</td>\n      <td>NaN</td>\n      <td>NaN</td>\n      <td>NaN</td>\n      <td>NaN</td>\n      <td>NaN</td>\n      <td>NaN</td>\n      <td>NaN</td>\n      <td>NaN</td>\n      <td>NaN</td>\n      <td>NaN</td>\n      <td>NaN</td>\n      <td>NaN</td>\n      <td>NaN</td>\n      <td>NaN</td>\n      <td>NaN</td>\n      <td>NaN</td>\n      <td>NaN</td>\n      <td>NaN</td>\n      <td>NaN</td>\n      <td>NaN</td>\n      <td>NaN</td>\n      <td>NaN</td>\n      <td>NaN</td>\n      <td>NaN</td>\n      <td>NaN</td>\n      <td>NaN</td>\n      <td>NaN</td>\n      <td>NaN</td>\n      <td>NaN</td>\n      <td>NaN</td>\n      <td>NaN</td>\n      <td>NaN</td>\n      <td>NaN</td>\n      <td>NaN</td>\n      <td>NaN</td>\n    </tr>\n    <tr>\n      <th>153133</th>\n      <td>Korea, Dem. People's Rep.</td>\n      <td>PRK</td>\n      <td>Agriculture, forestry, and fishing, value adde...</td>\n      <td>NV.AGR.TOTL.CD</td>\n      <td>NaN</td>\n      <td>NaN</td>\n      <td>NaN</td>\n      <td>NaN</td>\n      <td>NaN</td>\n      <td>NaN</td>\n      <td>NaN</td>\n      <td>NaN</td>\n      <td>NaN</td>\n      <td>NaN</td>\n      <td>NaN</td>\n      <td>NaN</td>\n      <td>NaN</td>\n      <td>NaN</td>\n      <td>NaN</td>\n      <td>NaN</td>\n      <td>NaN</td>\n      <td>NaN</td>\n      <td>NaN</td>\n      <td>NaN</td>\n      <td>NaN</td>\n      <td>NaN</td>\n      <td>NaN</td>\n      <td>NaN</td>\n      <td>NaN</td>\n      <td>NaN</td>\n      <td>NaN</td>\n      <td>NaN</td>\n      <td>NaN</td>\n      <td>NaN</td>\n      <td>NaN</td>\n      <td>NaN</td>\n      <td>NaN</td>\n      <td>NaN</td>\n      <td>NaN</td>\n      <td>NaN</td>\n      <td>NaN</td>\n      <td>NaN</td>\n      <td>NaN</td>\n      <td>NaN</td>\n      <td>NaN</td>\n    </tr>\n    <tr>\n      <th>153719</th>\n      <td>Korea, Dem. People's Rep.</td>\n      <td>PRK</td>\n      <td>International tourism, number of arrivals</td>\n      <td>ST.INT.ARVL</td>\n      <td>NaN</td>\n      <td>NaN</td>\n      <td>NaN</td>\n      <td>NaN</td>\n      <td>NaN</td>\n      <td>NaN</td>\n      <td>NaN</td>\n      <td>NaN</td>\n      <td>NaN</td>\n      <td>NaN</td>\n      <td>NaN</td>\n      <td>NaN</td>\n      <td>NaN</td>\n      <td>NaN</td>\n      <td>NaN</td>\n      <td>NaN</td>\n      <td>NaN</td>\n      <td>NaN</td>\n      <td>NaN</td>\n      <td>NaN</td>\n      <td>NaN</td>\n      <td>NaN</td>\n      <td>NaN</td>\n      <td>NaN</td>\n      <td>NaN</td>\n      <td>NaN</td>\n      <td>NaN</td>\n      <td>NaN</td>\n      <td>NaN</td>\n      <td>NaN</td>\n      <td>NaN</td>\n      <td>NaN</td>\n      <td>NaN</td>\n      <td>NaN</td>\n      <td>NaN</td>\n      <td>NaN</td>\n      <td>NaN</td>\n      <td>NaN</td>\n      <td>NaN</td>\n      <td>NaN</td>\n      <td>NaN</td>\n    </tr>\n    <tr>\n      <th>154603</th>\n      <td>Korea, Rep.</td>\n      <td>KOR</td>\n      <td>Agricultural irrigated land (% of total agricu...</td>\n      <td>AG.LND.IRIG.AG.ZS</td>\n      <td>NaN</td>\n      <td>NaN</td>\n      <td>NaN</td>\n      <td>NaN</td>\n      <td>NaN</td>\n      <td>NaN</td>\n      <td>NaN</td>\n      <td>NaN</td>\n      <td>NaN</td>\n      <td>NaN</td>\n      <td>NaN</td>\n      <td>NaN</td>\n      <td>NaN</td>\n      <td>NaN</td>\n      <td>NaN</td>\n      <td>NaN</td>\n      <td>NaN</td>\n      <td>NaN</td>\n      <td>NaN</td>\n      <td>NaN</td>\n      <td>NaN</td>\n      <td>NaN</td>\n      <td>NaN</td>\n      <td>NaN</td>\n      <td>NaN</td>\n      <td>NaN</td>\n      <td>NaN</td>\n      <td>NaN</td>\n      <td>NaN</td>\n      <td>NaN</td>\n      <td>NaN</td>\n      <td>NaN</td>\n      <td>NaN</td>\n      <td>NaN</td>\n      <td>NaN</td>\n      <td>NaN</td>\n      <td>NaN</td>\n      <td>NaN</td>\n      <td>NaN</td>\n      <td>NaN</td>\n      <td>NaN</td>\n    </tr>\n    <tr>\n      <th>156089</th>\n      <td>Kosovo</td>\n      <td>XKX</td>\n      <td>Agricultural irrigated land (% of total agricu...</td>\n      <td>AG.LND.IRIG.AG.ZS</td>\n      <td>NaN</td>\n      <td>NaN</td>\n      <td>NaN</td>\n      <td>NaN</td>\n      <td>NaN</td>\n      <td>NaN</td>\n      <td>NaN</td>\n      <td>NaN</td>\n      <td>NaN</td>\n      <td>NaN</td>\n      <td>NaN</td>\n      <td>NaN</td>\n      <td>NaN</td>\n      <td>NaN</td>\n      <td>NaN</td>\n      <td>NaN</td>\n      <td>NaN</td>\n      <td>NaN</td>\n      <td>NaN</td>\n      <td>NaN</td>\n      <td>NaN</td>\n      <td>NaN</td>\n      <td>NaN</td>\n      <td>NaN</td>\n      <td>NaN</td>\n      <td>NaN</td>\n      <td>NaN</td>\n      <td>NaN</td>\n      <td>NaN</td>\n      <td>NaN</td>\n      <td>NaN</td>\n      <td>NaN</td>\n      <td>NaN</td>\n      <td>NaN</td>\n      <td>NaN</td>\n      <td>NaN</td>\n      <td>NaN</td>\n      <td>NaN</td>\n      <td>NaN</td>\n      <td>NaN</td>\n      <td>NaN</td>\n    </tr>\n    <tr>\n      <th>156090</th>\n      <td>Kosovo</td>\n      <td>XKX</td>\n      <td>Agricultural land (% of land area)</td>\n      <td>AG.LND.AGRI.ZS</td>\n      <td>NaN</td>\n      <td>NaN</td>\n      <td>NaN</td>\n      <td>NaN</td>\n      <td>NaN</td>\n      <td>NaN</td>\n      <td>NaN</td>\n      <td>NaN</td>\n      <td>NaN</td>\n      <td>NaN</td>\n      <td>NaN</td>\n      <td>NaN</td>\n      <td>NaN</td>\n      <td>NaN</td>\n      <td>NaN</td>\n      <td>NaN</td>\n      <td>NaN</td>\n      <td>NaN</td>\n      <td>NaN</td>\n      <td>NaN</td>\n      <td>NaN</td>\n      <td>NaN</td>\n      <td>NaN</td>\n      <td>NaN</td>\n      <td>NaN</td>\n      <td>NaN</td>\n      <td>NaN</td>\n      <td>NaN</td>\n      <td>NaN</td>\n      <td>NaN</td>\n      <td>NaN</td>\n      <td>NaN</td>\n      <td>NaN</td>\n      <td>NaN</td>\n      <td>NaN</td>\n      <td>NaN</td>\n      <td>NaN</td>\n      <td>NaN</td>\n      <td>NaN</td>\n      <td>NaN</td>\n      <td>NaN</td>\n    </tr>\n    <tr>\n      <th>156091</th>\n      <td>Kosovo</td>\n      <td>XKX</td>\n      <td>Agricultural land (sq. km)</td>\n      <td>AG.LND.AGRI.K2</td>\n      <td>NaN</td>\n      <td>NaN</td>\n      <td>NaN</td>\n      <td>NaN</td>\n      <td>NaN</td>\n      <td>NaN</td>\n      <td>NaN</td>\n      <td>NaN</td>\n      <td>NaN</td>\n      <td>NaN</td>\n      <td>NaN</td>\n      <td>NaN</td>\n      <td>NaN</td>\n      <td>NaN</td>\n      <td>NaN</td>\n      <td>NaN</td>\n      <td>NaN</td>\n      <td>NaN</td>\n      <td>NaN</td>\n      <td>NaN</td>\n      <td>NaN</td>\n      <td>NaN</td>\n      <td>NaN</td>\n      <td>NaN</td>\n      <td>NaN</td>\n      <td>NaN</td>\n      <td>NaN</td>\n      <td>NaN</td>\n      <td>NaN</td>\n      <td>NaN</td>\n      <td>NaN</td>\n      <td>NaN</td>\n      <td>NaN</td>\n      <td>NaN</td>\n      <td>NaN</td>\n      <td>NaN</td>\n      <td>NaN</td>\n      <td>NaN</td>\n      <td>NaN</td>\n      <td>NaN</td>\n      <td>NaN</td>\n    </tr>\n    <tr>\n      <th>156120</th>\n      <td>Kosovo</td>\n      <td>XKX</td>\n      <td>Aquaculture production (metric tons)</td>\n      <td>ER.FSH.AQUA.MT</td>\n      <td>NaN</td>\n      <td>NaN</td>\n      <td>NaN</td>\n      <td>NaN</td>\n      <td>NaN</td>\n      <td>NaN</td>\n      <td>NaN</td>\n      <td>NaN</td>\n      <td>NaN</td>\n      <td>NaN</td>\n      <td>NaN</td>\n      <td>NaN</td>\n      <td>NaN</td>\n      <td>NaN</td>\n      <td>NaN</td>\n      <td>NaN</td>\n      <td>NaN</td>\n      <td>NaN</td>\n      <td>NaN</td>\n      <td>NaN</td>\n      <td>NaN</td>\n      <td>NaN</td>\n      <td>NaN</td>\n      <td>NaN</td>\n      <td>NaN</td>\n      <td>NaN</td>\n      <td>NaN</td>\n      <td>NaN</td>\n      <td>NaN</td>\n      <td>NaN</td>\n      <td>NaN</td>\n      <td>NaN</td>\n      <td>NaN</td>\n      <td>NaN</td>\n      <td>NaN</td>\n      <td>NaN</td>\n      <td>NaN</td>\n      <td>NaN</td>\n      <td>NaN</td>\n      <td>NaN</td>\n      <td>NaN</td>\n    </tr>\n    <tr>\n      <th>156164</th>\n      <td>Kosovo</td>\n      <td>XKX</td>\n      <td>Capture fisheries production (metric tons)</td>\n      <td>ER.FSH.CAPT.MT</td>\n      <td>NaN</td>\n      <td>NaN</td>\n      <td>NaN</td>\n      <td>NaN</td>\n      <td>NaN</td>\n      <td>NaN</td>\n      <td>NaN</td>\n      <td>NaN</td>\n      <td>NaN</td>\n      <td>NaN</td>\n      <td>NaN</td>\n      <td>NaN</td>\n      <td>NaN</td>\n      <td>NaN</td>\n      <td>NaN</td>\n      <td>NaN</td>\n      <td>NaN</td>\n      <td>NaN</td>\n      <td>NaN</td>\n      <td>NaN</td>\n      <td>NaN</td>\n      <td>NaN</td>\n      <td>NaN</td>\n      <td>NaN</td>\n      <td>NaN</td>\n      <td>NaN</td>\n      <td>NaN</td>\n      <td>NaN</td>\n      <td>NaN</td>\n      <td>NaN</td>\n      <td>NaN</td>\n      <td>NaN</td>\n      <td>NaN</td>\n      <td>NaN</td>\n      <td>NaN</td>\n      <td>NaN</td>\n      <td>NaN</td>\n      <td>NaN</td>\n      <td>NaN</td>\n      <td>NaN</td>\n      <td>NaN</td>\n    </tr>\n    <tr>\n      <th>156460</th>\n      <td>Kosovo</td>\n      <td>XKX</td>\n      <td>Fertilizer consumption (kilograms per hectare ...</td>\n      <td>AG.CON.FERT.ZS</td>\n      <td>NaN</td>\n      <td>NaN</td>\n      <td>NaN</td>\n      <td>NaN</td>\n      <td>NaN</td>\n      <td>NaN</td>\n      <td>NaN</td>\n      <td>NaN</td>\n      <td>NaN</td>\n      <td>NaN</td>\n      <td>NaN</td>\n      <td>NaN</td>\n      <td>NaN</td>\n      <td>NaN</td>\n      <td>NaN</td>\n      <td>NaN</td>\n      <td>NaN</td>\n      <td>NaN</td>\n      <td>NaN</td>\n      <td>NaN</td>\n      <td>NaN</td>\n      <td>NaN</td>\n      <td>NaN</td>\n      <td>NaN</td>\n      <td>NaN</td>\n      <td>NaN</td>\n      <td>NaN</td>\n      <td>NaN</td>\n      <td>NaN</td>\n      <td>NaN</td>\n      <td>NaN</td>\n      <td>NaN</td>\n      <td>NaN</td>\n      <td>NaN</td>\n      <td>NaN</td>\n      <td>NaN</td>\n      <td>NaN</td>\n      <td>NaN</td>\n      <td>NaN</td>\n      <td>NaN</td>\n      <td>NaN</td>\n    </tr>\n    <tr>\n      <th>156482</th>\n      <td>Kosovo</td>\n      <td>XKX</td>\n      <td>Fish species, threatened</td>\n      <td>EN.FSH.THRD.NO</td>\n      <td>NaN</td>\n      <td>NaN</td>\n      <td>NaN</td>\n      <td>NaN</td>\n      <td>NaN</td>\n      <td>NaN</td>\n      <td>NaN</td>\n      <td>NaN</td>\n      <td>NaN</td>\n      <td>NaN</td>\n      <td>NaN</td>\n      <td>NaN</td>\n      <td>NaN</td>\n      <td>NaN</td>\n      <td>NaN</td>\n      <td>NaN</td>\n      <td>NaN</td>\n      <td>NaN</td>\n      <td>NaN</td>\n      <td>NaN</td>\n      <td>NaN</td>\n      <td>NaN</td>\n      <td>NaN</td>\n      <td>NaN</td>\n      <td>NaN</td>\n      <td>NaN</td>\n      <td>NaN</td>\n      <td>NaN</td>\n      <td>NaN</td>\n      <td>NaN</td>\n      <td>NaN</td>\n      <td>NaN</td>\n      <td>NaN</td>\n      <td>NaN</td>\n      <td>NaN</td>\n      <td>NaN</td>\n      <td>NaN</td>\n      <td>NaN</td>\n      <td>NaN</td>\n      <td>NaN</td>\n      <td>NaN</td>\n    </tr>\n    <tr>\n      <th>156496</th>\n      <td>Kosovo</td>\n      <td>XKX</td>\n      <td>Forest area (% of land area)</td>\n      <td>AG.LND.FRST.ZS</td>\n      <td>NaN</td>\n      <td>NaN</td>\n      <td>NaN</td>\n      <td>NaN</td>\n      <td>NaN</td>\n      <td>NaN</td>\n      <td>NaN</td>\n      <td>NaN</td>\n      <td>NaN</td>\n      <td>NaN</td>\n      <td>NaN</td>\n      <td>NaN</td>\n      <td>NaN</td>\n      <td>NaN</td>\n      <td>NaN</td>\n      <td>NaN</td>\n      <td>NaN</td>\n      <td>NaN</td>\n      <td>NaN</td>\n      <td>NaN</td>\n      <td>NaN</td>\n      <td>NaN</td>\n      <td>NaN</td>\n      <td>NaN</td>\n      <td>NaN</td>\n      <td>NaN</td>\n      <td>NaN</td>\n      <td>NaN</td>\n      <td>NaN</td>\n      <td>NaN</td>\n      <td>NaN</td>\n      <td>NaN</td>\n      <td>NaN</td>\n      <td>NaN</td>\n      <td>NaN</td>\n      <td>NaN</td>\n      <td>NaN</td>\n      <td>NaN</td>\n      <td>NaN</td>\n      <td>NaN</td>\n      <td>NaN</td>\n    </tr>\n    <tr>\n      <th>156497</th>\n      <td>Kosovo</td>\n      <td>XKX</td>\n      <td>Forest area (sq. km)</td>\n      <td>AG.LND.FRST.K2</td>\n      <td>NaN</td>\n      <td>NaN</td>\n      <td>NaN</td>\n      <td>NaN</td>\n      <td>NaN</td>\n      <td>NaN</td>\n      <td>NaN</td>\n      <td>NaN</td>\n      <td>NaN</td>\n      <td>NaN</td>\n      <td>NaN</td>\n      <td>NaN</td>\n      <td>NaN</td>\n      <td>NaN</td>\n      <td>NaN</td>\n      <td>NaN</td>\n      <td>NaN</td>\n      <td>NaN</td>\n      <td>NaN</td>\n      <td>NaN</td>\n      <td>NaN</td>\n      <td>NaN</td>\n      <td>NaN</td>\n      <td>NaN</td>\n      <td>NaN</td>\n      <td>NaN</td>\n      <td>NaN</td>\n      <td>NaN</td>\n      <td>NaN</td>\n      <td>NaN</td>\n      <td>NaN</td>\n      <td>NaN</td>\n      <td>NaN</td>\n      <td>NaN</td>\n      <td>NaN</td>\n      <td>NaN</td>\n      <td>NaN</td>\n      <td>NaN</td>\n      <td>NaN</td>\n      <td>NaN</td>\n      <td>NaN</td>\n    </tr>\n    <tr>\n      <th>156691</th>\n      <td>Kosovo</td>\n      <td>XKX</td>\n      <td>International tourism, number of arrivals</td>\n      <td>ST.INT.ARVL</td>\n      <td>NaN</td>\n      <td>NaN</td>\n      <td>NaN</td>\n      <td>NaN</td>\n      <td>NaN</td>\n      <td>NaN</td>\n      <td>NaN</td>\n      <td>NaN</td>\n      <td>NaN</td>\n      <td>NaN</td>\n      <td>NaN</td>\n      <td>NaN</td>\n      <td>NaN</td>\n      <td>NaN</td>\n      <td>NaN</td>\n      <td>NaN</td>\n      <td>NaN</td>\n      <td>NaN</td>\n      <td>NaN</td>\n      <td>NaN</td>\n      <td>NaN</td>\n      <td>NaN</td>\n      <td>NaN</td>\n      <td>NaN</td>\n      <td>NaN</td>\n      <td>NaN</td>\n      <td>NaN</td>\n      <td>NaN</td>\n      <td>NaN</td>\n      <td>NaN</td>\n      <td>NaN</td>\n      <td>NaN</td>\n      <td>NaN</td>\n      <td>NaN</td>\n      <td>NaN</td>\n      <td>NaN</td>\n      <td>NaN</td>\n      <td>NaN</td>\n      <td>NaN</td>\n      <td>NaN</td>\n      <td>NaN</td>\n    </tr>\n    <tr>\n      <th>156778</th>\n      <td>Kosovo</td>\n      <td>XKX</td>\n      <td>Marine protected areas (% of territorial waters)</td>\n      <td>ER.MRN.PTMR.ZS</td>\n      <td>NaN</td>\n      <td>NaN</td>\n      <td>NaN</td>\n      <td>NaN</td>\n      <td>NaN</td>\n      <td>NaN</td>\n      <td>NaN</td>\n      <td>NaN</td>\n      <td>NaN</td>\n      <td>NaN</td>\n      <td>NaN</td>\n      <td>NaN</td>\n      <td>NaN</td>\n      <td>NaN</td>\n      <td>NaN</td>\n      <td>NaN</td>\n      <td>NaN</td>\n      <td>NaN</td>\n      <td>NaN</td>\n      <td>NaN</td>\n      <td>NaN</td>\n      <td>NaN</td>\n      <td>NaN</td>\n      <td>NaN</td>\n      <td>NaN</td>\n      <td>NaN</td>\n      <td>NaN</td>\n      <td>NaN</td>\n      <td>NaN</td>\n      <td>NaN</td>\n      <td>NaN</td>\n      <td>NaN</td>\n      <td>NaN</td>\n      <td>NaN</td>\n      <td>NaN</td>\n      <td>NaN</td>\n      <td>NaN</td>\n      <td>NaN</td>\n      <td>NaN</td>\n      <td>NaN</td>\n      <td>NaN</td>\n    </tr>\n    <tr>\n      <th>157097</th>\n      <td>Kosovo</td>\n      <td>XKX</td>\n      <td>Population density (people per sq. km of land ...</td>\n      <td>EN.POP.DNST</td>\n      <td>NaN</td>\n      <td>NaN</td>\n      <td>NaN</td>\n      <td>NaN</td>\n      <td>NaN</td>\n      <td>NaN</td>\n      <td>NaN</td>\n      <td>NaN</td>\n      <td>NaN</td>\n      <td>NaN</td>\n      <td>NaN</td>\n      <td>NaN</td>\n      <td>NaN</td>\n      <td>NaN</td>\n      <td>NaN</td>\n      <td>NaN</td>\n      <td>NaN</td>\n      <td>NaN</td>\n      <td>NaN</td>\n      <td>NaN</td>\n      <td>NaN</td>\n      <td>NaN</td>\n      <td>NaN</td>\n      <td>NaN</td>\n      <td>NaN</td>\n      <td>NaN</td>\n      <td>NaN</td>\n      <td>NaN</td>\n      <td>NaN</td>\n      <td>NaN</td>\n      <td>NaN</td>\n      <td>NaN</td>\n      <td>NaN</td>\n      <td>NaN</td>\n      <td>NaN</td>\n      <td>NaN</td>\n      <td>NaN</td>\n      <td>NaN</td>\n      <td>NaN</td>\n      <td>NaN</td>\n      <td>NaN</td>\n    </tr>\n    <tr>\n      <th>157391</th>\n      <td>Kosovo</td>\n      <td>XKX</td>\n      <td>Terrestrial and marine protected areas (% of t...</td>\n      <td>ER.PTD.TOTL.ZS</td>\n      <td>NaN</td>\n      <td>NaN</td>\n      <td>NaN</td>\n      <td>NaN</td>\n      <td>NaN</td>\n      <td>NaN</td>\n      <td>NaN</td>\n      <td>NaN</td>\n      <td>NaN</td>\n      <td>NaN</td>\n      <td>NaN</td>\n      <td>NaN</td>\n      <td>NaN</td>\n      <td>NaN</td>\n      <td>NaN</td>\n      <td>NaN</td>\n      <td>NaN</td>\n      <td>NaN</td>\n      <td>NaN</td>\n      <td>NaN</td>\n      <td>NaN</td>\n      <td>NaN</td>\n      <td>NaN</td>\n      <td>NaN</td>\n      <td>NaN</td>\n      <td>NaN</td>\n      <td>NaN</td>\n      <td>NaN</td>\n      <td>NaN</td>\n      <td>NaN</td>\n      <td>NaN</td>\n      <td>NaN</td>\n      <td>NaN</td>\n      <td>NaN</td>\n      <td>NaN</td>\n      <td>NaN</td>\n      <td>NaN</td>\n      <td>NaN</td>\n      <td>NaN</td>\n      <td>NaN</td>\n      <td>NaN</td>\n    </tr>\n    <tr>\n      <th>157416</th>\n      <td>Kosovo</td>\n      <td>XKX</td>\n      <td>Total fisheries production (metric tons)</td>\n      <td>ER.FSH.PROD.MT</td>\n      <td>NaN</td>\n      <td>NaN</td>\n      <td>NaN</td>\n      <td>NaN</td>\n      <td>NaN</td>\n      <td>NaN</td>\n      <td>NaN</td>\n      <td>NaN</td>\n      <td>NaN</td>\n      <td>NaN</td>\n      <td>NaN</td>\n      <td>NaN</td>\n      <td>NaN</td>\n      <td>NaN</td>\n      <td>NaN</td>\n      <td>NaN</td>\n      <td>NaN</td>\n      <td>NaN</td>\n      <td>NaN</td>\n      <td>NaN</td>\n      <td>NaN</td>\n      <td>NaN</td>\n      <td>NaN</td>\n      <td>NaN</td>\n      <td>NaN</td>\n      <td>NaN</td>\n      <td>NaN</td>\n      <td>NaN</td>\n      <td>NaN</td>\n      <td>NaN</td>\n      <td>NaN</td>\n      <td>NaN</td>\n      <td>NaN</td>\n      <td>NaN</td>\n      <td>NaN</td>\n      <td>NaN</td>\n      <td>NaN</td>\n      <td>NaN</td>\n      <td>NaN</td>\n      <td>NaN</td>\n      <td>NaN</td>\n    </tr>\n    <tr>\n      <th>157575</th>\n      <td>Kuwait</td>\n      <td>KWT</td>\n      <td>Agricultural irrigated land (% of total agricu...</td>\n      <td>AG.LND.IRIG.AG.ZS</td>\n      <td>NaN</td>\n      <td>NaN</td>\n      <td>NaN</td>\n      <td>NaN</td>\n      <td>NaN</td>\n      <td>NaN</td>\n      <td>NaN</td>\n      <td>NaN</td>\n      <td>NaN</td>\n      <td>NaN</td>\n      <td>NaN</td>\n      <td>NaN</td>\n      <td>NaN</td>\n      <td>NaN</td>\n      <td>NaN</td>\n      <td>NaN</td>\n      <td>NaN</td>\n      <td>NaN</td>\n      <td>NaN</td>\n      <td>NaN</td>\n      <td>NaN</td>\n      <td>NaN</td>\n      <td>NaN</td>\n      <td>NaN</td>\n      <td>NaN</td>\n      <td>NaN</td>\n      <td>NaN</td>\n      <td>NaN</td>\n      <td>NaN</td>\n      <td>NaN</td>\n      <td>NaN</td>\n      <td>NaN</td>\n      <td>NaN</td>\n      <td>NaN</td>\n      <td>NaN</td>\n      <td>NaN</td>\n      <td>NaN</td>\n      <td>NaN</td>\n      <td>NaN</td>\n      <td>NaN</td>\n      <td>NaN</td>\n    </tr>\n    <tr>\n      <th>159750</th>\n      <td>Kyrgyz Republic</td>\n      <td>KGZ</td>\n      <td>Marine protected areas (% of territorial waters)</td>\n      <td>ER.MRN.PTMR.ZS</td>\n      <td>NaN</td>\n      <td>NaN</td>\n      <td>NaN</td>\n      <td>NaN</td>\n      <td>NaN</td>\n      <td>NaN</td>\n      <td>NaN</td>\n      <td>NaN</td>\n      <td>NaN</td>\n      <td>NaN</td>\n      <td>NaN</td>\n      <td>NaN</td>\n      <td>NaN</td>\n      <td>NaN</td>\n      <td>NaN</td>\n      <td>NaN</td>\n      <td>NaN</td>\n      <td>NaN</td>\n      <td>NaN</td>\n      <td>NaN</td>\n      <td>NaN</td>\n      <td>NaN</td>\n      <td>NaN</td>\n      <td>NaN</td>\n      <td>NaN</td>\n      <td>NaN</td>\n      <td>NaN</td>\n      <td>NaN</td>\n      <td>NaN</td>\n      <td>NaN</td>\n      <td>NaN</td>\n      <td>NaN</td>\n      <td>NaN</td>\n      <td>NaN</td>\n      <td>NaN</td>\n      <td>NaN</td>\n      <td>NaN</td>\n      <td>NaN</td>\n      <td>NaN</td>\n      <td>NaN</td>\n      <td>NaN</td>\n    </tr>\n    <tr>\n      <th>161236</th>\n      <td>Lao PDR</td>\n      <td>LAO</td>\n      <td>Marine protected areas (% of territorial waters)</td>\n      <td>ER.MRN.PTMR.ZS</td>\n      <td>NaN</td>\n      <td>NaN</td>\n      <td>NaN</td>\n      <td>NaN</td>\n      <td>NaN</td>\n      <td>NaN</td>\n      <td>NaN</td>\n      <td>NaN</td>\n      <td>NaN</td>\n      <td>NaN</td>\n      <td>NaN</td>\n      <td>NaN</td>\n      <td>NaN</td>\n      <td>NaN</td>\n      <td>NaN</td>\n      <td>NaN</td>\n      <td>NaN</td>\n      <td>NaN</td>\n      <td>NaN</td>\n      <td>NaN</td>\n      <td>NaN</td>\n      <td>NaN</td>\n      <td>NaN</td>\n      <td>NaN</td>\n      <td>NaN</td>\n      <td>NaN</td>\n      <td>NaN</td>\n      <td>NaN</td>\n      <td>NaN</td>\n      <td>NaN</td>\n      <td>NaN</td>\n      <td>NaN</td>\n      <td>NaN</td>\n      <td>NaN</td>\n      <td>NaN</td>\n      <td>NaN</td>\n      <td>NaN</td>\n      <td>NaN</td>\n      <td>NaN</td>\n      <td>NaN</td>\n      <td>NaN</td>\n    </tr>\n    <tr>\n      <th>163519</th>\n      <td>Lebanon</td>\n      <td>LBN</td>\n      <td>Agricultural irrigated land (% of total agricu...</td>\n      <td>AG.LND.IRIG.AG.ZS</td>\n      <td>NaN</td>\n      <td>NaN</td>\n      <td>NaN</td>\n      <td>NaN</td>\n      <td>NaN</td>\n      <td>NaN</td>\n      <td>NaN</td>\n      <td>NaN</td>\n      <td>NaN</td>\n      <td>NaN</td>\n      <td>NaN</td>\n      <td>NaN</td>\n      <td>NaN</td>\n      <td>NaN</td>\n      <td>NaN</td>\n      <td>NaN</td>\n      <td>NaN</td>\n      <td>NaN</td>\n      <td>NaN</td>\n      <td>NaN</td>\n      <td>NaN</td>\n      <td>NaN</td>\n      <td>NaN</td>\n      <td>NaN</td>\n      <td>NaN</td>\n      <td>NaN</td>\n      <td>NaN</td>\n      <td>NaN</td>\n      <td>NaN</td>\n      <td>NaN</td>\n      <td>NaN</td>\n      <td>NaN</td>\n      <td>NaN</td>\n      <td>NaN</td>\n      <td>NaN</td>\n      <td>NaN</td>\n      <td>NaN</td>\n      <td>NaN</td>\n      <td>NaN</td>\n      <td>NaN</td>\n      <td>NaN</td>\n    </tr>\n    <tr>\n      <th>165694</th>\n      <td>Lesotho</td>\n      <td>LSO</td>\n      <td>Marine protected areas (% of territorial waters)</td>\n      <td>ER.MRN.PTMR.ZS</td>\n      <td>NaN</td>\n      <td>NaN</td>\n      <td>NaN</td>\n      <td>NaN</td>\n      <td>NaN</td>\n      <td>NaN</td>\n      <td>NaN</td>\n      <td>NaN</td>\n      <td>NaN</td>\n      <td>NaN</td>\n      <td>NaN</td>\n      <td>NaN</td>\n      <td>NaN</td>\n      <td>NaN</td>\n      <td>NaN</td>\n      <td>NaN</td>\n      <td>NaN</td>\n      <td>NaN</td>\n      <td>NaN</td>\n      <td>NaN</td>\n      <td>NaN</td>\n      <td>NaN</td>\n      <td>NaN</td>\n      <td>NaN</td>\n      <td>NaN</td>\n      <td>NaN</td>\n      <td>NaN</td>\n      <td>NaN</td>\n      <td>NaN</td>\n      <td>NaN</td>\n      <td>NaN</td>\n      <td>NaN</td>\n      <td>NaN</td>\n      <td>NaN</td>\n      <td>NaN</td>\n      <td>NaN</td>\n      <td>NaN</td>\n      <td>NaN</td>\n      <td>NaN</td>\n      <td>NaN</td>\n      <td>NaN</td>\n    </tr>\n    <tr>\n      <th>166491</th>\n      <td>Liberia</td>\n      <td>LBR</td>\n      <td>Agricultural irrigated land (% of total agricu...</td>\n      <td>AG.LND.IRIG.AG.ZS</td>\n      <td>NaN</td>\n      <td>NaN</td>\n      <td>NaN</td>\n      <td>NaN</td>\n      <td>NaN</td>\n      <td>NaN</td>\n      <td>NaN</td>\n      <td>NaN</td>\n      <td>NaN</td>\n      <td>NaN</td>\n      <td>NaN</td>\n      <td>NaN</td>\n      <td>NaN</td>\n      <td>NaN</td>\n      <td>NaN</td>\n      <td>NaN</td>\n      <td>NaN</td>\n      <td>NaN</td>\n      <td>NaN</td>\n      <td>NaN</td>\n      <td>NaN</td>\n      <td>NaN</td>\n      <td>NaN</td>\n      <td>NaN</td>\n      <td>NaN</td>\n      <td>NaN</td>\n      <td>NaN</td>\n      <td>NaN</td>\n      <td>NaN</td>\n      <td>NaN</td>\n      <td>NaN</td>\n      <td>NaN</td>\n      <td>NaN</td>\n      <td>NaN</td>\n      <td>NaN</td>\n      <td>NaN</td>\n      <td>NaN</td>\n      <td>NaN</td>\n      <td>NaN</td>\n      <td>NaN</td>\n      <td>NaN</td>\n    </tr>\n    <tr>\n      <th>167093</th>\n      <td>Liberia</td>\n      <td>LBR</td>\n      <td>International tourism, number of arrivals</td>\n      <td>ST.INT.ARVL</td>\n      <td>NaN</td>\n      <td>NaN</td>\n      <td>NaN</td>\n      <td>NaN</td>\n      <td>NaN</td>\n      <td>NaN</td>\n      <td>NaN</td>\n      <td>NaN</td>\n      <td>NaN</td>\n      <td>NaN</td>\n      <td>NaN</td>\n      <td>NaN</td>\n      <td>NaN</td>\n      <td>NaN</td>\n      <td>NaN</td>\n      <td>NaN</td>\n      <td>NaN</td>\n      <td>NaN</td>\n      <td>NaN</td>\n      <td>NaN</td>\n      <td>NaN</td>\n      <td>NaN</td>\n      <td>NaN</td>\n      <td>NaN</td>\n      <td>NaN</td>\n      <td>NaN</td>\n      <td>NaN</td>\n      <td>NaN</td>\n      <td>NaN</td>\n      <td>NaN</td>\n      <td>NaN</td>\n      <td>NaN</td>\n      <td>NaN</td>\n      <td>NaN</td>\n      <td>NaN</td>\n      <td>NaN</td>\n      <td>NaN</td>\n      <td>NaN</td>\n      <td>NaN</td>\n      <td>NaN</td>\n      <td>NaN</td>\n    </tr>\n    <tr>\n      <th>167977</th>\n      <td>Libya</td>\n      <td>LBY</td>\n      <td>Agricultural irrigated land (% of total agricu...</td>\n      <td>AG.LND.IRIG.AG.ZS</td>\n      <td>NaN</td>\n      <td>NaN</td>\n      <td>NaN</td>\n      <td>NaN</td>\n      <td>NaN</td>\n      <td>NaN</td>\n      <td>NaN</td>\n      <td>NaN</td>\n      <td>NaN</td>\n      <td>NaN</td>\n      <td>NaN</td>\n      <td>NaN</td>\n      <td>NaN</td>\n      <td>NaN</td>\n      <td>NaN</td>\n      <td>NaN</td>\n      <td>NaN</td>\n      <td>NaN</td>\n      <td>NaN</td>\n      <td>NaN</td>\n      <td>NaN</td>\n      <td>NaN</td>\n      <td>NaN</td>\n      <td>NaN</td>\n      <td>NaN</td>\n      <td>NaN</td>\n      <td>NaN</td>\n      <td>NaN</td>\n      <td>NaN</td>\n      <td>NaN</td>\n      <td>NaN</td>\n      <td>NaN</td>\n      <td>NaN</td>\n      <td>NaN</td>\n      <td>NaN</td>\n      <td>NaN</td>\n      <td>NaN</td>\n      <td>NaN</td>\n      <td>NaN</td>\n      <td>NaN</td>\n      <td>NaN</td>\n    </tr>\n    <tr>\n      <th>169463</th>\n      <td>Liechtenstein</td>\n      <td>LIE</td>\n      <td>Agricultural irrigated land (% of total agricu...</td>\n      <td>AG.LND.IRIG.AG.ZS</td>\n      <td>NaN</td>\n      <td>NaN</td>\n      <td>NaN</td>\n      <td>NaN</td>\n      <td>NaN</td>\n      <td>NaN</td>\n      <td>NaN</td>\n      <td>NaN</td>\n      <td>NaN</td>\n      <td>NaN</td>\n      <td>NaN</td>\n      <td>NaN</td>\n      <td>NaN</td>\n      <td>NaN</td>\n      <td>NaN</td>\n      <td>NaN</td>\n      <td>NaN</td>\n      <td>NaN</td>\n      <td>NaN</td>\n      <td>NaN</td>\n      <td>NaN</td>\n      <td>NaN</td>\n      <td>NaN</td>\n      <td>NaN</td>\n      <td>NaN</td>\n      <td>NaN</td>\n      <td>NaN</td>\n      <td>NaN</td>\n      <td>NaN</td>\n      <td>NaN</td>\n      <td>NaN</td>\n      <td>NaN</td>\n      <td>NaN</td>\n      <td>NaN</td>\n      <td>NaN</td>\n      <td>NaN</td>\n      <td>NaN</td>\n      <td>NaN</td>\n      <td>NaN</td>\n      <td>NaN</td>\n      <td>NaN</td>\n    </tr>\n    <tr>\n      <th>169475</th>\n      <td>Liechtenstein</td>\n      <td>LIE</td>\n      <td>Agriculture, forestry, and fishing, value adde...</td>\n      <td>NV.AGR.TOTL.KD.ZG</td>\n      <td>NaN</td>\n      <td>NaN</td>\n      <td>NaN</td>\n      <td>NaN</td>\n      <td>NaN</td>\n      <td>NaN</td>\n      <td>NaN</td>\n      <td>NaN</td>\n      <td>NaN</td>\n      <td>NaN</td>\n      <td>NaN</td>\n      <td>NaN</td>\n      <td>NaN</td>\n      <td>NaN</td>\n      <td>NaN</td>\n      <td>NaN</td>\n      <td>NaN</td>\n      <td>NaN</td>\n      <td>NaN</td>\n      <td>NaN</td>\n      <td>NaN</td>\n      <td>NaN</td>\n      <td>NaN</td>\n      <td>NaN</td>\n      <td>NaN</td>\n      <td>NaN</td>\n      <td>NaN</td>\n      <td>NaN</td>\n      <td>NaN</td>\n      <td>NaN</td>\n      <td>NaN</td>\n      <td>NaN</td>\n      <td>NaN</td>\n      <td>NaN</td>\n      <td>NaN</td>\n      <td>NaN</td>\n      <td>NaN</td>\n      <td>NaN</td>\n      <td>NaN</td>\n      <td>NaN</td>\n      <td>NaN</td>\n    </tr>\n    <tr>\n      <th>169494</th>\n      <td>Liechtenstein</td>\n      <td>LIE</td>\n      <td>Aquaculture production (metric tons)</td>\n      <td>ER.FSH.AQUA.MT</td>\n      <td>NaN</td>\n      <td>NaN</td>\n      <td>NaN</td>\n      <td>NaN</td>\n      <td>NaN</td>\n      <td>NaN</td>\n      <td>NaN</td>\n      <td>NaN</td>\n      <td>NaN</td>\n      <td>NaN</td>\n      <td>NaN</td>\n      <td>NaN</td>\n      <td>NaN</td>\n      <td>NaN</td>\n      <td>NaN</td>\n      <td>NaN</td>\n      <td>NaN</td>\n      <td>NaN</td>\n      <td>NaN</td>\n      <td>NaN</td>\n      <td>NaN</td>\n      <td>NaN</td>\n      <td>NaN</td>\n      <td>NaN</td>\n      <td>NaN</td>\n      <td>NaN</td>\n      <td>NaN</td>\n      <td>NaN</td>\n      <td>NaN</td>\n      <td>NaN</td>\n      <td>NaN</td>\n      <td>NaN</td>\n      <td>NaN</td>\n      <td>NaN</td>\n      <td>NaN</td>\n      <td>NaN</td>\n      <td>NaN</td>\n      <td>NaN</td>\n      <td>NaN</td>\n      <td>NaN</td>\n      <td>NaN</td>\n    </tr>\n    <tr>\n      <th>169834</th>\n      <td>Liechtenstein</td>\n      <td>LIE</td>\n      <td>Fertilizer consumption (kilograms per hectare ...</td>\n      <td>AG.CON.FERT.ZS</td>\n      <td>NaN</td>\n      <td>NaN</td>\n      <td>NaN</td>\n      <td>NaN</td>\n      <td>NaN</td>\n      <td>NaN</td>\n      <td>NaN</td>\n      <td>NaN</td>\n      <td>NaN</td>\n      <td>NaN</td>\n      <td>NaN</td>\n      <td>NaN</td>\n      <td>NaN</td>\n      <td>NaN</td>\n      <td>NaN</td>\n      <td>NaN</td>\n      <td>NaN</td>\n      <td>NaN</td>\n      <td>NaN</td>\n      <td>NaN</td>\n      <td>NaN</td>\n      <td>NaN</td>\n      <td>NaN</td>\n      <td>NaN</td>\n      <td>NaN</td>\n      <td>NaN</td>\n      <td>NaN</td>\n      <td>NaN</td>\n      <td>NaN</td>\n      <td>NaN</td>\n      <td>NaN</td>\n      <td>NaN</td>\n      <td>NaN</td>\n      <td>NaN</td>\n      <td>NaN</td>\n      <td>NaN</td>\n      <td>NaN</td>\n      <td>NaN</td>\n      <td>NaN</td>\n      <td>NaN</td>\n      <td>NaN</td>\n    </tr>\n    <tr>\n      <th>170152</th>\n      <td>Liechtenstein</td>\n      <td>LIE</td>\n      <td>Marine protected areas (% of territorial waters)</td>\n      <td>ER.MRN.PTMR.ZS</td>\n      <td>NaN</td>\n      <td>NaN</td>\n      <td>NaN</td>\n      <td>NaN</td>\n      <td>NaN</td>\n      <td>NaN</td>\n      <td>NaN</td>\n      <td>NaN</td>\n      <td>NaN</td>\n      <td>NaN</td>\n      <td>NaN</td>\n      <td>NaN</td>\n      <td>NaN</td>\n      <td>NaN</td>\n      <td>NaN</td>\n      <td>NaN</td>\n      <td>NaN</td>\n      <td>NaN</td>\n      <td>NaN</td>\n      <td>NaN</td>\n      <td>NaN</td>\n      <td>NaN</td>\n      <td>NaN</td>\n      <td>NaN</td>\n      <td>NaN</td>\n      <td>NaN</td>\n      <td>NaN</td>\n      <td>NaN</td>\n      <td>NaN</td>\n      <td>NaN</td>\n      <td>NaN</td>\n      <td>NaN</td>\n      <td>NaN</td>\n      <td>NaN</td>\n      <td>NaN</td>\n      <td>NaN</td>\n      <td>NaN</td>\n      <td>NaN</td>\n      <td>NaN</td>\n      <td>NaN</td>\n      <td>NaN</td>\n    </tr>\n    <tr>\n      <th>170790</th>\n      <td>Liechtenstein</td>\n      <td>LIE</td>\n      <td>Total fisheries production (metric tons)</td>\n      <td>ER.FSH.PROD.MT</td>\n      <td>NaN</td>\n      <td>NaN</td>\n      <td>NaN</td>\n      <td>NaN</td>\n      <td>NaN</td>\n      <td>NaN</td>\n      <td>NaN</td>\n      <td>NaN</td>\n      <td>NaN</td>\n      <td>NaN</td>\n      <td>NaN</td>\n      <td>NaN</td>\n      <td>NaN</td>\n      <td>NaN</td>\n      <td>NaN</td>\n      <td>NaN</td>\n      <td>NaN</td>\n      <td>NaN</td>\n      <td>NaN</td>\n      <td>NaN</td>\n      <td>NaN</td>\n      <td>NaN</td>\n      <td>NaN</td>\n      <td>NaN</td>\n      <td>NaN</td>\n      <td>NaN</td>\n      <td>NaN</td>\n      <td>NaN</td>\n      <td>NaN</td>\n      <td>NaN</td>\n      <td>NaN</td>\n      <td>NaN</td>\n      <td>NaN</td>\n      <td>NaN</td>\n      <td>NaN</td>\n      <td>NaN</td>\n      <td>NaN</td>\n      <td>NaN</td>\n      <td>NaN</td>\n      <td>NaN</td>\n      <td>NaN</td>\n    </tr>\n    <tr>\n      <th>172435</th>\n      <td>Luxembourg</td>\n      <td>LUX</td>\n      <td>Agricultural irrigated land (% of total agricu...</td>\n      <td>AG.LND.IRIG.AG.ZS</td>\n      <td>NaN</td>\n      <td>NaN</td>\n      <td>NaN</td>\n      <td>NaN</td>\n      <td>NaN</td>\n      <td>NaN</td>\n      <td>NaN</td>\n      <td>NaN</td>\n      <td>NaN</td>\n      <td>NaN</td>\n      <td>NaN</td>\n      <td>NaN</td>\n      <td>NaN</td>\n      <td>NaN</td>\n      <td>NaN</td>\n      <td>NaN</td>\n      <td>NaN</td>\n      <td>NaN</td>\n      <td>NaN</td>\n      <td>NaN</td>\n      <td>NaN</td>\n      <td>NaN</td>\n      <td>NaN</td>\n      <td>NaN</td>\n      <td>NaN</td>\n      <td>NaN</td>\n      <td>NaN</td>\n      <td>NaN</td>\n      <td>NaN</td>\n      <td>NaN</td>\n      <td>NaN</td>\n      <td>NaN</td>\n      <td>NaN</td>\n      <td>NaN</td>\n      <td>NaN</td>\n      <td>NaN</td>\n      <td>NaN</td>\n      <td>NaN</td>\n      <td>NaN</td>\n      <td>NaN</td>\n      <td>NaN</td>\n    </tr>\n    <tr>\n      <th>172466</th>\n      <td>Luxembourg</td>\n      <td>LUX</td>\n      <td>Aquaculture production (metric tons)</td>\n      <td>ER.FSH.AQUA.MT</td>\n      <td>NaN</td>\n      <td>NaN</td>\n      <td>NaN</td>\n      <td>NaN</td>\n      <td>NaN</td>\n      <td>NaN</td>\n      <td>NaN</td>\n      <td>NaN</td>\n      <td>NaN</td>\n      <td>NaN</td>\n      <td>NaN</td>\n      <td>NaN</td>\n      <td>NaN</td>\n      <td>NaN</td>\n      <td>NaN</td>\n      <td>NaN</td>\n      <td>NaN</td>\n      <td>NaN</td>\n      <td>NaN</td>\n      <td>NaN</td>\n      <td>NaN</td>\n      <td>NaN</td>\n      <td>NaN</td>\n      <td>NaN</td>\n      <td>NaN</td>\n      <td>NaN</td>\n      <td>NaN</td>\n      <td>NaN</td>\n      <td>NaN</td>\n      <td>NaN</td>\n      <td>NaN</td>\n      <td>NaN</td>\n      <td>NaN</td>\n      <td>NaN</td>\n      <td>NaN</td>\n      <td>NaN</td>\n      <td>NaN</td>\n      <td>NaN</td>\n      <td>NaN</td>\n      <td>NaN</td>\n      <td>NaN</td>\n    </tr>\n    <tr>\n      <th>173124</th>\n      <td>Luxembourg</td>\n      <td>LUX</td>\n      <td>Marine protected areas (% of territorial waters)</td>\n      <td>ER.MRN.PTMR.ZS</td>\n      <td>NaN</td>\n      <td>NaN</td>\n      <td>NaN</td>\n      <td>NaN</td>\n      <td>NaN</td>\n      <td>NaN</td>\n      <td>NaN</td>\n      <td>NaN</td>\n      <td>NaN</td>\n      <td>NaN</td>\n      <td>NaN</td>\n      <td>NaN</td>\n      <td>NaN</td>\n      <td>NaN</td>\n      <td>NaN</td>\n      <td>NaN</td>\n      <td>NaN</td>\n      <td>NaN</td>\n      <td>NaN</td>\n      <td>NaN</td>\n      <td>NaN</td>\n      <td>NaN</td>\n      <td>NaN</td>\n      <td>NaN</td>\n      <td>NaN</td>\n      <td>NaN</td>\n      <td>NaN</td>\n      <td>NaN</td>\n      <td>NaN</td>\n      <td>NaN</td>\n      <td>NaN</td>\n      <td>NaN</td>\n      <td>NaN</td>\n      <td>NaN</td>\n      <td>NaN</td>\n      <td>NaN</td>\n      <td>NaN</td>\n      <td>NaN</td>\n      <td>NaN</td>\n      <td>NaN</td>\n      <td>NaN</td>\n    </tr>\n    <tr>\n      <th>173762</th>\n      <td>Luxembourg</td>\n      <td>LUX</td>\n      <td>Total fisheries production (metric tons)</td>\n      <td>ER.FSH.PROD.MT</td>\n      <td>NaN</td>\n      <td>NaN</td>\n      <td>NaN</td>\n      <td>NaN</td>\n      <td>NaN</td>\n      <td>NaN</td>\n      <td>NaN</td>\n      <td>NaN</td>\n      <td>NaN</td>\n      <td>NaN</td>\n      <td>NaN</td>\n      <td>NaN</td>\n      <td>NaN</td>\n      <td>NaN</td>\n      <td>NaN</td>\n      <td>NaN</td>\n      <td>NaN</td>\n      <td>NaN</td>\n      <td>NaN</td>\n      <td>NaN</td>\n      <td>NaN</td>\n      <td>NaN</td>\n      <td>NaN</td>\n      <td>NaN</td>\n      <td>NaN</td>\n      <td>NaN</td>\n      <td>NaN</td>\n      <td>NaN</td>\n      <td>NaN</td>\n      <td>NaN</td>\n      <td>NaN</td>\n      <td>NaN</td>\n      <td>NaN</td>\n      <td>NaN</td>\n      <td>NaN</td>\n      <td>NaN</td>\n      <td>NaN</td>\n      <td>NaN</td>\n      <td>NaN</td>\n      <td>NaN</td>\n      <td>NaN</td>\n    </tr>\n    <tr>\n      <th>173921</th>\n      <td>Macao SAR, China</td>\n      <td>MAC</td>\n      <td>Agricultural irrigated land (% of total agricu...</td>\n      <td>AG.LND.IRIG.AG.ZS</td>\n      <td>NaN</td>\n      <td>NaN</td>\n      <td>NaN</td>\n      <td>NaN</td>\n      <td>NaN</td>\n      <td>NaN</td>\n      <td>NaN</td>\n      <td>NaN</td>\n      <td>NaN</td>\n      <td>NaN</td>\n      <td>NaN</td>\n      <td>NaN</td>\n      <td>NaN</td>\n      <td>NaN</td>\n      <td>NaN</td>\n      <td>NaN</td>\n      <td>NaN</td>\n      <td>NaN</td>\n      <td>NaN</td>\n      <td>NaN</td>\n      <td>NaN</td>\n      <td>NaN</td>\n      <td>NaN</td>\n      <td>NaN</td>\n      <td>NaN</td>\n      <td>NaN</td>\n      <td>NaN</td>\n      <td>NaN</td>\n      <td>NaN</td>\n      <td>NaN</td>\n      <td>NaN</td>\n      <td>NaN</td>\n      <td>NaN</td>\n      <td>NaN</td>\n      <td>NaN</td>\n      <td>NaN</td>\n      <td>NaN</td>\n      <td>NaN</td>\n      <td>NaN</td>\n      <td>NaN</td>\n      <td>NaN</td>\n    </tr>\n    <tr>\n      <th>173922</th>\n      <td>Macao SAR, China</td>\n      <td>MAC</td>\n      <td>Agricultural land (% of land area)</td>\n      <td>AG.LND.AGRI.ZS</td>\n      <td>NaN</td>\n      <td>NaN</td>\n      <td>NaN</td>\n      <td>NaN</td>\n      <td>NaN</td>\n      <td>NaN</td>\n      <td>NaN</td>\n      <td>NaN</td>\n      <td>NaN</td>\n      <td>NaN</td>\n      <td>NaN</td>\n      <td>NaN</td>\n      <td>NaN</td>\n      <td>NaN</td>\n      <td>NaN</td>\n      <td>NaN</td>\n      <td>NaN</td>\n      <td>NaN</td>\n      <td>NaN</td>\n      <td>NaN</td>\n      <td>NaN</td>\n      <td>NaN</td>\n      <td>NaN</td>\n      <td>NaN</td>\n      <td>NaN</td>\n      <td>NaN</td>\n      <td>NaN</td>\n      <td>NaN</td>\n      <td>NaN</td>\n      <td>NaN</td>\n      <td>NaN</td>\n      <td>NaN</td>\n      <td>NaN</td>\n      <td>NaN</td>\n      <td>NaN</td>\n      <td>NaN</td>\n      <td>NaN</td>\n      <td>NaN</td>\n      <td>NaN</td>\n      <td>NaN</td>\n      <td>NaN</td>\n    </tr>\n    <tr>\n      <th>173923</th>\n      <td>Macao SAR, China</td>\n      <td>MAC</td>\n      <td>Agricultural land (sq. km)</td>\n      <td>AG.LND.AGRI.K2</td>\n      <td>NaN</td>\n      <td>NaN</td>\n      <td>NaN</td>\n      <td>NaN</td>\n      <td>NaN</td>\n      <td>NaN</td>\n      <td>NaN</td>\n      <td>NaN</td>\n      <td>NaN</td>\n      <td>NaN</td>\n      <td>NaN</td>\n      <td>NaN</td>\n      <td>NaN</td>\n      <td>NaN</td>\n      <td>NaN</td>\n      <td>NaN</td>\n      <td>NaN</td>\n      <td>NaN</td>\n      <td>NaN</td>\n      <td>NaN</td>\n      <td>NaN</td>\n      <td>NaN</td>\n      <td>NaN</td>\n      <td>NaN</td>\n      <td>NaN</td>\n      <td>NaN</td>\n      <td>NaN</td>\n      <td>NaN</td>\n      <td>NaN</td>\n      <td>NaN</td>\n      <td>NaN</td>\n      <td>NaN</td>\n      <td>NaN</td>\n      <td>NaN</td>\n      <td>NaN</td>\n      <td>NaN</td>\n      <td>NaN</td>\n      <td>NaN</td>\n      <td>NaN</td>\n      <td>NaN</td>\n      <td>NaN</td>\n    </tr>\n    <tr>\n      <th>173932</th>\n      <td>Macao SAR, China</td>\n      <td>MAC</td>\n      <td>Agriculture, forestry, and fishing, value adde...</td>\n      <td>NV.AGR.TOTL.ZS</td>\n      <td>NaN</td>\n      <td>NaN</td>\n      <td>NaN</td>\n      <td>NaN</td>\n      <td>NaN</td>\n      <td>NaN</td>\n      <td>NaN</td>\n      <td>NaN</td>\n      <td>NaN</td>\n      <td>NaN</td>\n      <td>NaN</td>\n      <td>NaN</td>\n      <td>NaN</td>\n      <td>NaN</td>\n      <td>NaN</td>\n      <td>NaN</td>\n      <td>NaN</td>\n      <td>NaN</td>\n      <td>NaN</td>\n      <td>NaN</td>\n      <td>NaN</td>\n      <td>NaN</td>\n      <td>NaN</td>\n      <td>NaN</td>\n      <td>NaN</td>\n      <td>NaN</td>\n      <td>NaN</td>\n      <td>NaN</td>\n      <td>NaN</td>\n      <td>NaN</td>\n      <td>NaN</td>\n      <td>NaN</td>\n      <td>NaN</td>\n      <td>NaN</td>\n      <td>NaN</td>\n      <td>NaN</td>\n      <td>NaN</td>\n      <td>NaN</td>\n      <td>NaN</td>\n      <td>NaN</td>\n      <td>NaN</td>\n    </tr>\n    <tr>\n      <th>173933</th>\n      <td>Macao SAR, China</td>\n      <td>MAC</td>\n      <td>Agriculture, forestry, and fishing, value adde...</td>\n      <td>NV.AGR.TOTL.KD.ZG</td>\n      <td>NaN</td>\n      <td>NaN</td>\n      <td>NaN</td>\n      <td>NaN</td>\n      <td>NaN</td>\n      <td>NaN</td>\n      <td>NaN</td>\n      <td>NaN</td>\n      <td>NaN</td>\n      <td>NaN</td>\n      <td>NaN</td>\n      <td>NaN</td>\n      <td>NaN</td>\n      <td>NaN</td>\n      <td>NaN</td>\n      <td>NaN</td>\n      <td>NaN</td>\n      <td>NaN</td>\n      <td>NaN</td>\n      <td>NaN</td>\n      <td>NaN</td>\n      <td>NaN</td>\n      <td>NaN</td>\n      <td>NaN</td>\n      <td>NaN</td>\n      <td>NaN</td>\n      <td>NaN</td>\n      <td>NaN</td>\n      <td>NaN</td>\n      <td>NaN</td>\n      <td>NaN</td>\n      <td>NaN</td>\n      <td>NaN</td>\n      <td>NaN</td>\n      <td>NaN</td>\n      <td>NaN</td>\n      <td>NaN</td>\n      <td>NaN</td>\n      <td>NaN</td>\n      <td>NaN</td>\n      <td>NaN</td>\n    </tr>\n    <tr>\n      <th>173937</th>\n      <td>Macao SAR, China</td>\n      <td>MAC</td>\n      <td>Agriculture, forestry, and fishing, value adde...</td>\n      <td>NV.AGR.TOTL.CD</td>\n      <td>NaN</td>\n      <td>NaN</td>\n      <td>NaN</td>\n      <td>NaN</td>\n      <td>NaN</td>\n      <td>NaN</td>\n      <td>NaN</td>\n      <td>NaN</td>\n      <td>NaN</td>\n      <td>NaN</td>\n      <td>NaN</td>\n      <td>NaN</td>\n      <td>NaN</td>\n      <td>NaN</td>\n      <td>NaN</td>\n      <td>NaN</td>\n      <td>NaN</td>\n      <td>NaN</td>\n      <td>NaN</td>\n      <td>NaN</td>\n      <td>NaN</td>\n      <td>NaN</td>\n      <td>NaN</td>\n      <td>NaN</td>\n      <td>NaN</td>\n      <td>NaN</td>\n      <td>NaN</td>\n      <td>NaN</td>\n      <td>NaN</td>\n      <td>NaN</td>\n      <td>NaN</td>\n      <td>NaN</td>\n      <td>NaN</td>\n      <td>NaN</td>\n      <td>NaN</td>\n      <td>NaN</td>\n      <td>NaN</td>\n      <td>NaN</td>\n      <td>NaN</td>\n      <td>NaN</td>\n      <td>NaN</td>\n    </tr>\n    <tr>\n      <th>173952</th>\n      <td>Macao SAR, China</td>\n      <td>MAC</td>\n      <td>Aquaculture production (metric tons)</td>\n      <td>ER.FSH.AQUA.MT</td>\n      <td>NaN</td>\n      <td>NaN</td>\n      <td>NaN</td>\n      <td>NaN</td>\n      <td>NaN</td>\n      <td>NaN</td>\n      <td>NaN</td>\n      <td>NaN</td>\n      <td>NaN</td>\n      <td>NaN</td>\n      <td>NaN</td>\n      <td>NaN</td>\n      <td>NaN</td>\n      <td>NaN</td>\n      <td>NaN</td>\n      <td>NaN</td>\n      <td>NaN</td>\n      <td>NaN</td>\n      <td>NaN</td>\n      <td>NaN</td>\n      <td>NaN</td>\n      <td>NaN</td>\n      <td>NaN</td>\n      <td>NaN</td>\n      <td>NaN</td>\n      <td>NaN</td>\n      <td>NaN</td>\n      <td>NaN</td>\n      <td>NaN</td>\n      <td>NaN</td>\n      <td>NaN</td>\n      <td>NaN</td>\n      <td>NaN</td>\n      <td>NaN</td>\n      <td>NaN</td>\n      <td>NaN</td>\n      <td>NaN</td>\n      <td>NaN</td>\n      <td>NaN</td>\n      <td>NaN</td>\n      <td>NaN</td>\n    </tr>\n    <tr>\n      <th>174292</th>\n      <td>Macao SAR, China</td>\n      <td>MAC</td>\n      <td>Fertilizer consumption (kilograms per hectare ...</td>\n      <td>AG.CON.FERT.ZS</td>\n      <td>NaN</td>\n      <td>NaN</td>\n      <td>NaN</td>\n      <td>NaN</td>\n      <td>NaN</td>\n      <td>NaN</td>\n      <td>NaN</td>\n      <td>NaN</td>\n      <td>NaN</td>\n      <td>NaN</td>\n      <td>NaN</td>\n      <td>NaN</td>\n      <td>NaN</td>\n      <td>NaN</td>\n      <td>NaN</td>\n      <td>NaN</td>\n      <td>NaN</td>\n      <td>NaN</td>\n      <td>NaN</td>\n      <td>NaN</td>\n      <td>NaN</td>\n      <td>NaN</td>\n      <td>NaN</td>\n      <td>NaN</td>\n      <td>NaN</td>\n      <td>NaN</td>\n      <td>NaN</td>\n      <td>NaN</td>\n      <td>NaN</td>\n      <td>NaN</td>\n      <td>NaN</td>\n      <td>NaN</td>\n      <td>NaN</td>\n      <td>NaN</td>\n      <td>NaN</td>\n      <td>NaN</td>\n      <td>NaN</td>\n      <td>NaN</td>\n      <td>NaN</td>\n      <td>NaN</td>\n      <td>NaN</td>\n    </tr>\n    <tr>\n      <th>174328</th>\n      <td>Macao SAR, China</td>\n      <td>MAC</td>\n      <td>Forest area (% of land area)</td>\n      <td>AG.LND.FRST.ZS</td>\n      <td>NaN</td>\n      <td>NaN</td>\n      <td>NaN</td>\n      <td>NaN</td>\n      <td>NaN</td>\n      <td>NaN</td>\n      <td>NaN</td>\n      <td>NaN</td>\n      <td>NaN</td>\n      <td>NaN</td>\n      <td>NaN</td>\n      <td>NaN</td>\n      <td>NaN</td>\n      <td>NaN</td>\n      <td>NaN</td>\n      <td>NaN</td>\n      <td>NaN</td>\n      <td>NaN</td>\n      <td>NaN</td>\n      <td>NaN</td>\n      <td>NaN</td>\n      <td>NaN</td>\n      <td>NaN</td>\n      <td>NaN</td>\n      <td>NaN</td>\n      <td>NaN</td>\n      <td>NaN</td>\n      <td>NaN</td>\n      <td>NaN</td>\n      <td>NaN</td>\n      <td>NaN</td>\n      <td>NaN</td>\n      <td>NaN</td>\n      <td>NaN</td>\n      <td>NaN</td>\n      <td>NaN</td>\n      <td>NaN</td>\n      <td>NaN</td>\n      <td>NaN</td>\n      <td>NaN</td>\n      <td>NaN</td>\n    </tr>\n    <tr>\n      <th>174329</th>\n      <td>Macao SAR, China</td>\n      <td>MAC</td>\n      <td>Forest area (sq. km)</td>\n      <td>AG.LND.FRST.K2</td>\n      <td>NaN</td>\n      <td>NaN</td>\n      <td>NaN</td>\n      <td>NaN</td>\n      <td>NaN</td>\n      <td>NaN</td>\n      <td>NaN</td>\n      <td>NaN</td>\n      <td>NaN</td>\n      <td>NaN</td>\n      <td>NaN</td>\n      <td>NaN</td>\n      <td>NaN</td>\n      <td>NaN</td>\n      <td>NaN</td>\n      <td>NaN</td>\n      <td>NaN</td>\n      <td>NaN</td>\n      <td>NaN</td>\n      <td>NaN</td>\n      <td>NaN</td>\n      <td>NaN</td>\n      <td>NaN</td>\n      <td>NaN</td>\n      <td>NaN</td>\n      <td>NaN</td>\n      <td>NaN</td>\n      <td>NaN</td>\n      <td>NaN</td>\n      <td>NaN</td>\n      <td>NaN</td>\n      <td>NaN</td>\n      <td>NaN</td>\n      <td>NaN</td>\n      <td>NaN</td>\n      <td>NaN</td>\n      <td>NaN</td>\n      <td>NaN</td>\n      <td>NaN</td>\n      <td>NaN</td>\n      <td>NaN</td>\n    </tr>\n    <tr>\n      <th>174610</th>\n      <td>Macao SAR, China</td>\n      <td>MAC</td>\n      <td>Marine protected areas (% of territorial waters)</td>\n      <td>ER.MRN.PTMR.ZS</td>\n      <td>NaN</td>\n      <td>NaN</td>\n      <td>NaN</td>\n      <td>NaN</td>\n      <td>NaN</td>\n      <td>NaN</td>\n      <td>NaN</td>\n      <td>NaN</td>\n      <td>NaN</td>\n      <td>NaN</td>\n      <td>NaN</td>\n      <td>NaN</td>\n      <td>NaN</td>\n      <td>NaN</td>\n      <td>NaN</td>\n      <td>NaN</td>\n      <td>NaN</td>\n      <td>NaN</td>\n      <td>NaN</td>\n      <td>NaN</td>\n      <td>NaN</td>\n      <td>NaN</td>\n      <td>NaN</td>\n      <td>NaN</td>\n      <td>NaN</td>\n      <td>NaN</td>\n      <td>NaN</td>\n      <td>NaN</td>\n      <td>NaN</td>\n      <td>NaN</td>\n      <td>NaN</td>\n      <td>NaN</td>\n      <td>NaN</td>\n      <td>NaN</td>\n      <td>NaN</td>\n      <td>NaN</td>\n      <td>NaN</td>\n      <td>NaN</td>\n      <td>NaN</td>\n      <td>NaN</td>\n      <td>NaN</td>\n    </tr>\n    <tr>\n      <th>175223</th>\n      <td>Macao SAR, China</td>\n      <td>MAC</td>\n      <td>Terrestrial and marine protected areas (% of t...</td>\n      <td>ER.PTD.TOTL.ZS</td>\n      <td>NaN</td>\n      <td>NaN</td>\n      <td>NaN</td>\n      <td>NaN</td>\n      <td>NaN</td>\n      <td>NaN</td>\n      <td>NaN</td>\n      <td>NaN</td>\n      <td>NaN</td>\n      <td>NaN</td>\n      <td>NaN</td>\n      <td>NaN</td>\n      <td>NaN</td>\n      <td>NaN</td>\n      <td>NaN</td>\n      <td>NaN</td>\n      <td>NaN</td>\n      <td>NaN</td>\n      <td>NaN</td>\n      <td>NaN</td>\n      <td>NaN</td>\n      <td>NaN</td>\n      <td>NaN</td>\n      <td>NaN</td>\n      <td>NaN</td>\n      <td>NaN</td>\n      <td>NaN</td>\n      <td>NaN</td>\n      <td>NaN</td>\n      <td>NaN</td>\n      <td>NaN</td>\n      <td>NaN</td>\n      <td>NaN</td>\n      <td>NaN</td>\n      <td>NaN</td>\n      <td>NaN</td>\n      <td>NaN</td>\n      <td>NaN</td>\n      <td>NaN</td>\n      <td>NaN</td>\n      <td>NaN</td>\n    </tr>\n    <tr>\n      <th>175248</th>\n      <td>Macao SAR, China</td>\n      <td>MAC</td>\n      <td>Total fisheries production (metric tons)</td>\n      <td>ER.FSH.PROD.MT</td>\n      <td>NaN</td>\n      <td>NaN</td>\n      <td>NaN</td>\n      <td>NaN</td>\n      <td>NaN</td>\n      <td>NaN</td>\n      <td>NaN</td>\n      <td>NaN</td>\n      <td>NaN</td>\n      <td>NaN</td>\n      <td>NaN</td>\n      <td>NaN</td>\n      <td>NaN</td>\n      <td>NaN</td>\n      <td>NaN</td>\n      <td>NaN</td>\n      <td>NaN</td>\n      <td>NaN</td>\n      <td>NaN</td>\n      <td>NaN</td>\n      <td>NaN</td>\n      <td>NaN</td>\n      <td>NaN</td>\n      <td>NaN</td>\n      <td>NaN</td>\n      <td>NaN</td>\n      <td>NaN</td>\n      <td>NaN</td>\n      <td>NaN</td>\n      <td>NaN</td>\n      <td>NaN</td>\n      <td>NaN</td>\n      <td>NaN</td>\n      <td>NaN</td>\n      <td>NaN</td>\n      <td>NaN</td>\n      <td>NaN</td>\n      <td>NaN</td>\n      <td>NaN</td>\n      <td>NaN</td>\n      <td>NaN</td>\n    </tr>\n    <tr>\n      <th>177582</th>\n      <td>Malawi</td>\n      <td>MWI</td>\n      <td>Marine protected areas (% of territorial waters)</td>\n      <td>ER.MRN.PTMR.ZS</td>\n      <td>NaN</td>\n      <td>NaN</td>\n      <td>NaN</td>\n      <td>NaN</td>\n      <td>NaN</td>\n      <td>NaN</td>\n      <td>NaN</td>\n      <td>NaN</td>\n      <td>NaN</td>\n      <td>NaN</td>\n      <td>NaN</td>\n      <td>NaN</td>\n      <td>NaN</td>\n      <td>NaN</td>\n      <td>NaN</td>\n      <td>NaN</td>\n      <td>NaN</td>\n      <td>NaN</td>\n      <td>NaN</td>\n      <td>NaN</td>\n      <td>NaN</td>\n      <td>NaN</td>\n      <td>NaN</td>\n      <td>NaN</td>\n      <td>NaN</td>\n      <td>NaN</td>\n      <td>NaN</td>\n      <td>NaN</td>\n      <td>NaN</td>\n      <td>NaN</td>\n      <td>NaN</td>\n      <td>NaN</td>\n      <td>NaN</td>\n      <td>NaN</td>\n      <td>NaN</td>\n      <td>NaN</td>\n      <td>NaN</td>\n      <td>NaN</td>\n      <td>NaN</td>\n      <td>NaN</td>\n      <td>NaN</td>\n    </tr>\n    <tr>\n      <th>179865</th>\n      <td>Maldives</td>\n      <td>MDV</td>\n      <td>Agricultural irrigated land (% of total agricu...</td>\n      <td>AG.LND.IRIG.AG.ZS</td>\n      <td>NaN</td>\n      <td>NaN</td>\n      <td>NaN</td>\n      <td>NaN</td>\n      <td>NaN</td>\n      <td>NaN</td>\n      <td>NaN</td>\n      <td>NaN</td>\n      <td>NaN</td>\n      <td>NaN</td>\n      <td>NaN</td>\n      <td>NaN</td>\n      <td>NaN</td>\n      <td>NaN</td>\n      <td>NaN</td>\n      <td>NaN</td>\n      <td>NaN</td>\n      <td>NaN</td>\n      <td>NaN</td>\n      <td>NaN</td>\n      <td>NaN</td>\n      <td>NaN</td>\n      <td>NaN</td>\n      <td>NaN</td>\n      <td>NaN</td>\n      <td>NaN</td>\n      <td>NaN</td>\n      <td>NaN</td>\n      <td>NaN</td>\n      <td>NaN</td>\n      <td>NaN</td>\n      <td>NaN</td>\n      <td>NaN</td>\n      <td>NaN</td>\n      <td>NaN</td>\n      <td>NaN</td>\n      <td>NaN</td>\n      <td>NaN</td>\n      <td>NaN</td>\n      <td>NaN</td>\n      <td>NaN</td>\n    </tr>\n    <tr>\n      <th>179896</th>\n      <td>Maldives</td>\n      <td>MDV</td>\n      <td>Aquaculture production (metric tons)</td>\n      <td>ER.FSH.AQUA.MT</td>\n      <td>NaN</td>\n      <td>NaN</td>\n      <td>NaN</td>\n      <td>NaN</td>\n      <td>NaN</td>\n      <td>NaN</td>\n      <td>NaN</td>\n      <td>NaN</td>\n      <td>NaN</td>\n      <td>NaN</td>\n      <td>NaN</td>\n      <td>NaN</td>\n      <td>NaN</td>\n      <td>NaN</td>\n      <td>NaN</td>\n      <td>NaN</td>\n      <td>NaN</td>\n      <td>NaN</td>\n      <td>NaN</td>\n      <td>NaN</td>\n      <td>NaN</td>\n      <td>NaN</td>\n      <td>NaN</td>\n      <td>NaN</td>\n      <td>NaN</td>\n      <td>NaN</td>\n      <td>NaN</td>\n      <td>NaN</td>\n      <td>NaN</td>\n      <td>NaN</td>\n      <td>NaN</td>\n      <td>NaN</td>\n      <td>NaN</td>\n      <td>NaN</td>\n      <td>NaN</td>\n      <td>NaN</td>\n      <td>NaN</td>\n      <td>NaN</td>\n      <td>NaN</td>\n      <td>NaN</td>\n      <td>NaN</td>\n    </tr>\n    <tr>\n      <th>181192</th>\n      <td>Maldives</td>\n      <td>MDV</td>\n      <td>Total fisheries production (metric tons)</td>\n      <td>ER.FSH.PROD.MT</td>\n      <td>NaN</td>\n      <td>NaN</td>\n      <td>NaN</td>\n      <td>NaN</td>\n      <td>NaN</td>\n      <td>NaN</td>\n      <td>NaN</td>\n      <td>NaN</td>\n      <td>NaN</td>\n      <td>NaN</td>\n      <td>NaN</td>\n      <td>NaN</td>\n      <td>NaN</td>\n      <td>NaN</td>\n      <td>NaN</td>\n      <td>NaN</td>\n      <td>NaN</td>\n      <td>NaN</td>\n      <td>NaN</td>\n      <td>NaN</td>\n      <td>NaN</td>\n      <td>NaN</td>\n      <td>NaN</td>\n      <td>NaN</td>\n      <td>NaN</td>\n      <td>NaN</td>\n      <td>NaN</td>\n      <td>NaN</td>\n      <td>NaN</td>\n      <td>NaN</td>\n      <td>NaN</td>\n      <td>NaN</td>\n      <td>NaN</td>\n      <td>NaN</td>\n      <td>NaN</td>\n      <td>NaN</td>\n      <td>NaN</td>\n      <td>NaN</td>\n      <td>NaN</td>\n      <td>NaN</td>\n      <td>NaN</td>\n    </tr>\n    <tr>\n      <th>181351</th>\n      <td>Mali</td>\n      <td>MLI</td>\n      <td>Agricultural irrigated land (% of total agricu...</td>\n      <td>AG.LND.IRIG.AG.ZS</td>\n      <td>NaN</td>\n      <td>NaN</td>\n      <td>NaN</td>\n      <td>NaN</td>\n      <td>NaN</td>\n      <td>NaN</td>\n      <td>NaN</td>\n      <td>NaN</td>\n      <td>NaN</td>\n      <td>NaN</td>\n      <td>NaN</td>\n      <td>NaN</td>\n      <td>NaN</td>\n      <td>NaN</td>\n      <td>NaN</td>\n      <td>NaN</td>\n      <td>NaN</td>\n      <td>NaN</td>\n      <td>NaN</td>\n      <td>NaN</td>\n      <td>NaN</td>\n      <td>NaN</td>\n      <td>NaN</td>\n      <td>NaN</td>\n      <td>NaN</td>\n      <td>NaN</td>\n      <td>NaN</td>\n      <td>NaN</td>\n      <td>NaN</td>\n      <td>NaN</td>\n      <td>NaN</td>\n      <td>NaN</td>\n      <td>NaN</td>\n      <td>NaN</td>\n      <td>NaN</td>\n      <td>NaN</td>\n      <td>NaN</td>\n      <td>NaN</td>\n      <td>NaN</td>\n      <td>NaN</td>\n      <td>NaN</td>\n    </tr>\n    <tr>\n      <th>182040</th>\n      <td>Mali</td>\n      <td>MLI</td>\n      <td>Marine protected areas (% of territorial waters)</td>\n      <td>ER.MRN.PTMR.ZS</td>\n      <td>NaN</td>\n      <td>NaN</td>\n      <td>NaN</td>\n      <td>NaN</td>\n      <td>NaN</td>\n      <td>NaN</td>\n      <td>NaN</td>\n      <td>NaN</td>\n      <td>NaN</td>\n      <td>NaN</td>\n      <td>NaN</td>\n      <td>NaN</td>\n      <td>NaN</td>\n      <td>NaN</td>\n      <td>NaN</td>\n      <td>NaN</td>\n      <td>NaN</td>\n      <td>NaN</td>\n      <td>NaN</td>\n      <td>NaN</td>\n      <td>NaN</td>\n      <td>NaN</td>\n      <td>NaN</td>\n      <td>NaN</td>\n      <td>NaN</td>\n      <td>NaN</td>\n      <td>NaN</td>\n      <td>NaN</td>\n      <td>NaN</td>\n      <td>NaN</td>\n      <td>NaN</td>\n      <td>NaN</td>\n      <td>NaN</td>\n      <td>NaN</td>\n      <td>NaN</td>\n      <td>NaN</td>\n      <td>NaN</td>\n      <td>NaN</td>\n      <td>NaN</td>\n      <td>NaN</td>\n      <td>NaN</td>\n    </tr>\n    <tr>\n      <th>184323</th>\n      <td>Marshall Islands</td>\n      <td>MHL</td>\n      <td>Agricultural irrigated land (% of total agricu...</td>\n      <td>AG.LND.IRIG.AG.ZS</td>\n      <td>NaN</td>\n      <td>NaN</td>\n      <td>NaN</td>\n      <td>NaN</td>\n      <td>NaN</td>\n      <td>NaN</td>\n      <td>NaN</td>\n      <td>NaN</td>\n      <td>NaN</td>\n      <td>NaN</td>\n      <td>NaN</td>\n      <td>NaN</td>\n      <td>NaN</td>\n      <td>NaN</td>\n      <td>NaN</td>\n      <td>NaN</td>\n      <td>NaN</td>\n      <td>NaN</td>\n      <td>NaN</td>\n      <td>NaN</td>\n      <td>NaN</td>\n      <td>NaN</td>\n      <td>NaN</td>\n      <td>NaN</td>\n      <td>NaN</td>\n      <td>NaN</td>\n      <td>NaN</td>\n      <td>NaN</td>\n      <td>NaN</td>\n      <td>NaN</td>\n      <td>NaN</td>\n      <td>NaN</td>\n      <td>NaN</td>\n      <td>NaN</td>\n      <td>NaN</td>\n      <td>NaN</td>\n      <td>NaN</td>\n      <td>NaN</td>\n      <td>NaN</td>\n      <td>NaN</td>\n      <td>NaN</td>\n    </tr>\n    <tr>\n      <th>185840</th>\n      <td>Mauritania</td>\n      <td>MRT</td>\n      <td>Aquaculture production (metric tons)</td>\n      <td>ER.FSH.AQUA.MT</td>\n      <td>NaN</td>\n      <td>NaN</td>\n      <td>NaN</td>\n      <td>NaN</td>\n      <td>NaN</td>\n      <td>NaN</td>\n      <td>NaN</td>\n      <td>NaN</td>\n      <td>NaN</td>\n      <td>NaN</td>\n      <td>NaN</td>\n      <td>NaN</td>\n      <td>NaN</td>\n      <td>NaN</td>\n      <td>NaN</td>\n      <td>NaN</td>\n      <td>NaN</td>\n      <td>NaN</td>\n      <td>NaN</td>\n      <td>NaN</td>\n      <td>NaN</td>\n      <td>NaN</td>\n      <td>NaN</td>\n      <td>NaN</td>\n      <td>NaN</td>\n      <td>NaN</td>\n      <td>NaN</td>\n      <td>NaN</td>\n      <td>NaN</td>\n      <td>NaN</td>\n      <td>NaN</td>\n      <td>NaN</td>\n      <td>NaN</td>\n      <td>NaN</td>\n      <td>NaN</td>\n      <td>NaN</td>\n      <td>NaN</td>\n      <td>NaN</td>\n      <td>NaN</td>\n      <td>NaN</td>\n      <td>NaN</td>\n    </tr>\n    <tr>\n      <th>187136</th>\n      <td>Mauritania</td>\n      <td>MRT</td>\n      <td>Total fisheries production (metric tons)</td>\n      <td>ER.FSH.PROD.MT</td>\n      <td>NaN</td>\n      <td>NaN</td>\n      <td>NaN</td>\n      <td>NaN</td>\n      <td>NaN</td>\n      <td>NaN</td>\n      <td>NaN</td>\n      <td>NaN</td>\n      <td>NaN</td>\n      <td>NaN</td>\n      <td>NaN</td>\n      <td>NaN</td>\n      <td>NaN</td>\n      <td>NaN</td>\n      <td>NaN</td>\n      <td>NaN</td>\n      <td>NaN</td>\n      <td>NaN</td>\n      <td>NaN</td>\n      <td>NaN</td>\n      <td>NaN</td>\n      <td>NaN</td>\n      <td>NaN</td>\n      <td>NaN</td>\n      <td>NaN</td>\n      <td>NaN</td>\n      <td>NaN</td>\n      <td>NaN</td>\n      <td>NaN</td>\n      <td>NaN</td>\n      <td>NaN</td>\n      <td>NaN</td>\n      <td>NaN</td>\n      <td>NaN</td>\n      <td>NaN</td>\n      <td>NaN</td>\n      <td>NaN</td>\n      <td>NaN</td>\n      <td>NaN</td>\n      <td>NaN</td>\n      <td>NaN</td>\n    </tr>\n    <tr>\n      <th>190267</th>\n      <td>Micronesia, Fed. Sts.</td>\n      <td>FSM</td>\n      <td>Agricultural irrigated land (% of total agricu...</td>\n      <td>AG.LND.IRIG.AG.ZS</td>\n      <td>NaN</td>\n      <td>NaN</td>\n      <td>NaN</td>\n      <td>NaN</td>\n      <td>NaN</td>\n      <td>NaN</td>\n      <td>NaN</td>\n      <td>NaN</td>\n      <td>NaN</td>\n      <td>NaN</td>\n      <td>NaN</td>\n      <td>NaN</td>\n      <td>NaN</td>\n      <td>NaN</td>\n      <td>NaN</td>\n      <td>NaN</td>\n      <td>NaN</td>\n      <td>NaN</td>\n      <td>NaN</td>\n      <td>NaN</td>\n      <td>NaN</td>\n      <td>NaN</td>\n      <td>NaN</td>\n      <td>NaN</td>\n      <td>NaN</td>\n      <td>NaN</td>\n      <td>NaN</td>\n      <td>NaN</td>\n      <td>NaN</td>\n      <td>NaN</td>\n      <td>NaN</td>\n      <td>NaN</td>\n      <td>NaN</td>\n      <td>NaN</td>\n      <td>NaN</td>\n      <td>NaN</td>\n      <td>NaN</td>\n      <td>NaN</td>\n      <td>NaN</td>\n      <td>NaN</td>\n      <td>NaN</td>\n    </tr>\n    <tr>\n      <th>192442</th>\n      <td>Moldova</td>\n      <td>MDA</td>\n      <td>Marine protected areas (% of territorial waters)</td>\n      <td>ER.MRN.PTMR.ZS</td>\n      <td>NaN</td>\n      <td>NaN</td>\n      <td>NaN</td>\n      <td>NaN</td>\n      <td>NaN</td>\n      <td>NaN</td>\n      <td>NaN</td>\n      <td>NaN</td>\n      <td>NaN</td>\n      <td>NaN</td>\n      <td>NaN</td>\n      <td>NaN</td>\n      <td>NaN</td>\n      <td>NaN</td>\n      <td>NaN</td>\n      <td>NaN</td>\n      <td>NaN</td>\n      <td>NaN</td>\n      <td>NaN</td>\n      <td>NaN</td>\n      <td>NaN</td>\n      <td>NaN</td>\n      <td>NaN</td>\n      <td>NaN</td>\n      <td>NaN</td>\n      <td>NaN</td>\n      <td>NaN</td>\n      <td>NaN</td>\n      <td>NaN</td>\n      <td>NaN</td>\n      <td>NaN</td>\n      <td>NaN</td>\n      <td>NaN</td>\n      <td>NaN</td>\n      <td>NaN</td>\n      <td>NaN</td>\n      <td>NaN</td>\n      <td>NaN</td>\n      <td>NaN</td>\n      <td>NaN</td>\n      <td>NaN</td>\n    </tr>\n    <tr>\n      <th>193239</th>\n      <td>Monaco</td>\n      <td>MCO</td>\n      <td>Agricultural irrigated land (% of total agricu...</td>\n      <td>AG.LND.IRIG.AG.ZS</td>\n      <td>NaN</td>\n      <td>NaN</td>\n      <td>NaN</td>\n      <td>NaN</td>\n      <td>NaN</td>\n      <td>NaN</td>\n      <td>NaN</td>\n      <td>NaN</td>\n      <td>NaN</td>\n      <td>NaN</td>\n      <td>NaN</td>\n      <td>NaN</td>\n      <td>NaN</td>\n      <td>NaN</td>\n      <td>NaN</td>\n      <td>NaN</td>\n      <td>NaN</td>\n      <td>NaN</td>\n      <td>NaN</td>\n      <td>NaN</td>\n      <td>NaN</td>\n      <td>NaN</td>\n      <td>NaN</td>\n      <td>NaN</td>\n      <td>NaN</td>\n      <td>NaN</td>\n      <td>NaN</td>\n      <td>NaN</td>\n      <td>NaN</td>\n      <td>NaN</td>\n      <td>NaN</td>\n      <td>NaN</td>\n      <td>NaN</td>\n      <td>NaN</td>\n      <td>NaN</td>\n      <td>NaN</td>\n      <td>NaN</td>\n      <td>NaN</td>\n      <td>NaN</td>\n      <td>NaN</td>\n      <td>NaN</td>\n    </tr>\n    <tr>\n      <th>193240</th>\n      <td>Monaco</td>\n      <td>MCO</td>\n      <td>Agricultural land (% of land area)</td>\n      <td>AG.LND.AGRI.ZS</td>\n      <td>NaN</td>\n      <td>NaN</td>\n      <td>NaN</td>\n      <td>NaN</td>\n      <td>NaN</td>\n      <td>NaN</td>\n      <td>NaN</td>\n      <td>NaN</td>\n      <td>NaN</td>\n      <td>NaN</td>\n      <td>NaN</td>\n      <td>NaN</td>\n      <td>NaN</td>\n      <td>NaN</td>\n      <td>NaN</td>\n      <td>NaN</td>\n      <td>NaN</td>\n      <td>NaN</td>\n      <td>NaN</td>\n      <td>NaN</td>\n      <td>NaN</td>\n      <td>NaN</td>\n      <td>NaN</td>\n      <td>NaN</td>\n      <td>NaN</td>\n      <td>NaN</td>\n      <td>NaN</td>\n      <td>NaN</td>\n      <td>NaN</td>\n      <td>NaN</td>\n      <td>NaN</td>\n      <td>NaN</td>\n      <td>NaN</td>\n      <td>NaN</td>\n      <td>NaN</td>\n      <td>NaN</td>\n      <td>NaN</td>\n      <td>NaN</td>\n      <td>NaN</td>\n      <td>NaN</td>\n      <td>NaN</td>\n    </tr>\n    <tr>\n      <th>193241</th>\n      <td>Monaco</td>\n      <td>MCO</td>\n      <td>Agricultural land (sq. km)</td>\n      <td>AG.LND.AGRI.K2</td>\n      <td>NaN</td>\n      <td>NaN</td>\n      <td>NaN</td>\n      <td>NaN</td>\n      <td>NaN</td>\n      <td>NaN</td>\n      <td>NaN</td>\n      <td>NaN</td>\n      <td>NaN</td>\n      <td>NaN</td>\n      <td>NaN</td>\n      <td>NaN</td>\n      <td>NaN</td>\n      <td>NaN</td>\n      <td>NaN</td>\n      <td>NaN</td>\n      <td>NaN</td>\n      <td>NaN</td>\n      <td>NaN</td>\n      <td>NaN</td>\n      <td>NaN</td>\n      <td>NaN</td>\n      <td>NaN</td>\n      <td>NaN</td>\n      <td>NaN</td>\n      <td>NaN</td>\n      <td>NaN</td>\n      <td>NaN</td>\n      <td>NaN</td>\n      <td>NaN</td>\n      <td>NaN</td>\n      <td>NaN</td>\n      <td>NaN</td>\n      <td>NaN</td>\n      <td>NaN</td>\n      <td>NaN</td>\n      <td>NaN</td>\n      <td>NaN</td>\n      <td>NaN</td>\n      <td>NaN</td>\n      <td>NaN</td>\n    </tr>\n    <tr>\n      <th>193250</th>\n      <td>Monaco</td>\n      <td>MCO</td>\n      <td>Agriculture, forestry, and fishing, value adde...</td>\n      <td>NV.AGR.TOTL.ZS</td>\n      <td>NaN</td>\n      <td>NaN</td>\n      <td>NaN</td>\n      <td>NaN</td>\n      <td>NaN</td>\n      <td>NaN</td>\n      <td>NaN</td>\n      <td>NaN</td>\n      <td>NaN</td>\n      <td>NaN</td>\n      <td>NaN</td>\n      <td>NaN</td>\n      <td>NaN</td>\n      <td>NaN</td>\n      <td>NaN</td>\n      <td>NaN</td>\n      <td>NaN</td>\n      <td>NaN</td>\n      <td>NaN</td>\n      <td>NaN</td>\n      <td>NaN</td>\n      <td>NaN</td>\n      <td>NaN</td>\n      <td>NaN</td>\n      <td>NaN</td>\n      <td>NaN</td>\n      <td>NaN</td>\n      <td>NaN</td>\n      <td>NaN</td>\n      <td>NaN</td>\n      <td>NaN</td>\n      <td>NaN</td>\n      <td>NaN</td>\n      <td>NaN</td>\n      <td>NaN</td>\n      <td>NaN</td>\n      <td>NaN</td>\n      <td>NaN</td>\n      <td>NaN</td>\n      <td>NaN</td>\n      <td>NaN</td>\n    </tr>\n    <tr>\n      <th>193251</th>\n      <td>Monaco</td>\n      <td>MCO</td>\n      <td>Agriculture, forestry, and fishing, value adde...</td>\n      <td>NV.AGR.TOTL.KD.ZG</td>\n      <td>NaN</td>\n      <td>NaN</td>\n      <td>NaN</td>\n      <td>NaN</td>\n      <td>NaN</td>\n      <td>NaN</td>\n      <td>NaN</td>\n      <td>NaN</td>\n      <td>NaN</td>\n      <td>NaN</td>\n      <td>NaN</td>\n      <td>NaN</td>\n      <td>NaN</td>\n      <td>NaN</td>\n      <td>NaN</td>\n      <td>NaN</td>\n      <td>NaN</td>\n      <td>NaN</td>\n      <td>NaN</td>\n      <td>NaN</td>\n      <td>NaN</td>\n      <td>NaN</td>\n      <td>NaN</td>\n      <td>NaN</td>\n      <td>NaN</td>\n      <td>NaN</td>\n      <td>NaN</td>\n      <td>NaN</td>\n      <td>NaN</td>\n      <td>NaN</td>\n      <td>NaN</td>\n      <td>NaN</td>\n      <td>NaN</td>\n      <td>NaN</td>\n      <td>NaN</td>\n      <td>NaN</td>\n      <td>NaN</td>\n      <td>NaN</td>\n      <td>NaN</td>\n      <td>NaN</td>\n      <td>NaN</td>\n    </tr>\n    <tr>\n      <th>193255</th>\n      <td>Monaco</td>\n      <td>MCO</td>\n      <td>Agriculture, forestry, and fishing, value adde...</td>\n      <td>NV.AGR.TOTL.CD</td>\n      <td>NaN</td>\n      <td>NaN</td>\n      <td>NaN</td>\n      <td>NaN</td>\n      <td>NaN</td>\n      <td>NaN</td>\n      <td>NaN</td>\n      <td>NaN</td>\n      <td>NaN</td>\n      <td>NaN</td>\n      <td>NaN</td>\n      <td>NaN</td>\n      <td>NaN</td>\n      <td>NaN</td>\n      <td>NaN</td>\n      <td>NaN</td>\n      <td>NaN</td>\n      <td>NaN</td>\n      <td>NaN</td>\n      <td>NaN</td>\n      <td>NaN</td>\n      <td>NaN</td>\n      <td>NaN</td>\n      <td>NaN</td>\n      <td>NaN</td>\n      <td>NaN</td>\n      <td>NaN</td>\n      <td>NaN</td>\n      <td>NaN</td>\n      <td>NaN</td>\n      <td>NaN</td>\n      <td>NaN</td>\n      <td>NaN</td>\n      <td>NaN</td>\n      <td>NaN</td>\n      <td>NaN</td>\n      <td>NaN</td>\n      <td>NaN</td>\n      <td>NaN</td>\n      <td>NaN</td>\n      <td>NaN</td>\n    </tr>\n    <tr>\n      <th>193270</th>\n      <td>Monaco</td>\n      <td>MCO</td>\n      <td>Aquaculture production (metric tons)</td>\n      <td>ER.FSH.AQUA.MT</td>\n      <td>NaN</td>\n      <td>NaN</td>\n      <td>NaN</td>\n      <td>NaN</td>\n      <td>NaN</td>\n      <td>NaN</td>\n      <td>NaN</td>\n      <td>NaN</td>\n      <td>NaN</td>\n      <td>NaN</td>\n      <td>NaN</td>\n      <td>NaN</td>\n      <td>NaN</td>\n      <td>NaN</td>\n      <td>NaN</td>\n      <td>NaN</td>\n      <td>NaN</td>\n      <td>NaN</td>\n      <td>NaN</td>\n      <td>NaN</td>\n      <td>NaN</td>\n      <td>NaN</td>\n      <td>NaN</td>\n      <td>NaN</td>\n      <td>NaN</td>\n      <td>NaN</td>\n      <td>NaN</td>\n      <td>NaN</td>\n      <td>NaN</td>\n      <td>NaN</td>\n      <td>NaN</td>\n      <td>NaN</td>\n      <td>NaN</td>\n      <td>NaN</td>\n      <td>NaN</td>\n      <td>NaN</td>\n      <td>NaN</td>\n      <td>NaN</td>\n      <td>NaN</td>\n      <td>NaN</td>\n      <td>NaN</td>\n    </tr>\n    <tr>\n      <th>193610</th>\n      <td>Monaco</td>\n      <td>MCO</td>\n      <td>Fertilizer consumption (kilograms per hectare ...</td>\n      <td>AG.CON.FERT.ZS</td>\n      <td>NaN</td>\n      <td>NaN</td>\n      <td>NaN</td>\n      <td>NaN</td>\n      <td>NaN</td>\n      <td>NaN</td>\n      <td>NaN</td>\n      <td>NaN</td>\n      <td>NaN</td>\n      <td>NaN</td>\n      <td>NaN</td>\n      <td>NaN</td>\n      <td>NaN</td>\n      <td>NaN</td>\n      <td>NaN</td>\n      <td>NaN</td>\n      <td>NaN</td>\n      <td>NaN</td>\n      <td>NaN</td>\n      <td>NaN</td>\n      <td>NaN</td>\n      <td>NaN</td>\n      <td>NaN</td>\n      <td>NaN</td>\n      <td>NaN</td>\n      <td>NaN</td>\n      <td>NaN</td>\n      <td>NaN</td>\n      <td>NaN</td>\n      <td>NaN</td>\n      <td>NaN</td>\n      <td>NaN</td>\n      <td>NaN</td>\n      <td>NaN</td>\n      <td>NaN</td>\n      <td>NaN</td>\n      <td>NaN</td>\n      <td>NaN</td>\n      <td>NaN</td>\n      <td>NaN</td>\n      <td>NaN</td>\n    </tr>\n    <tr>\n      <th>194566</th>\n      <td>Monaco</td>\n      <td>MCO</td>\n      <td>Total fisheries production (metric tons)</td>\n      <td>ER.FSH.PROD.MT</td>\n      <td>NaN</td>\n      <td>NaN</td>\n      <td>NaN</td>\n      <td>NaN</td>\n      <td>NaN</td>\n      <td>NaN</td>\n      <td>NaN</td>\n      <td>NaN</td>\n      <td>NaN</td>\n      <td>NaN</td>\n      <td>NaN</td>\n      <td>NaN</td>\n      <td>NaN</td>\n      <td>NaN</td>\n      <td>NaN</td>\n      <td>NaN</td>\n      <td>NaN</td>\n      <td>NaN</td>\n      <td>NaN</td>\n      <td>NaN</td>\n      <td>NaN</td>\n      <td>NaN</td>\n      <td>NaN</td>\n      <td>NaN</td>\n      <td>NaN</td>\n      <td>NaN</td>\n      <td>NaN</td>\n      <td>NaN</td>\n      <td>NaN</td>\n      <td>NaN</td>\n      <td>NaN</td>\n      <td>NaN</td>\n      <td>NaN</td>\n      <td>NaN</td>\n      <td>NaN</td>\n      <td>NaN</td>\n      <td>NaN</td>\n      <td>NaN</td>\n      <td>NaN</td>\n      <td>NaN</td>\n      <td>NaN</td>\n    </tr>\n    <tr>\n      <th>194756</th>\n      <td>Mongolia</td>\n      <td>MNG</td>\n      <td>Aquaculture production (metric tons)</td>\n      <td>ER.FSH.AQUA.MT</td>\n      <td>NaN</td>\n      <td>NaN</td>\n      <td>NaN</td>\n      <td>NaN</td>\n      <td>NaN</td>\n      <td>NaN</td>\n      <td>NaN</td>\n      <td>NaN</td>\n      <td>NaN</td>\n      <td>NaN</td>\n      <td>NaN</td>\n      <td>NaN</td>\n      <td>NaN</td>\n      <td>NaN</td>\n      <td>NaN</td>\n      <td>NaN</td>\n      <td>NaN</td>\n      <td>NaN</td>\n      <td>NaN</td>\n      <td>NaN</td>\n      <td>NaN</td>\n      <td>NaN</td>\n      <td>NaN</td>\n      <td>NaN</td>\n      <td>NaN</td>\n      <td>NaN</td>\n      <td>NaN</td>\n      <td>NaN</td>\n      <td>NaN</td>\n      <td>NaN</td>\n      <td>NaN</td>\n      <td>NaN</td>\n      <td>NaN</td>\n      <td>NaN</td>\n      <td>NaN</td>\n      <td>NaN</td>\n      <td>NaN</td>\n      <td>NaN</td>\n      <td>NaN</td>\n      <td>NaN</td>\n      <td>NaN</td>\n    </tr>\n    <tr>\n      <th>195414</th>\n      <td>Mongolia</td>\n      <td>MNG</td>\n      <td>Marine protected areas (% of territorial waters)</td>\n      <td>ER.MRN.PTMR.ZS</td>\n      <td>NaN</td>\n      <td>NaN</td>\n      <td>NaN</td>\n      <td>NaN</td>\n      <td>NaN</td>\n      <td>NaN</td>\n      <td>NaN</td>\n      <td>NaN</td>\n      <td>NaN</td>\n      <td>NaN</td>\n      <td>NaN</td>\n      <td>NaN</td>\n      <td>NaN</td>\n      <td>NaN</td>\n      <td>NaN</td>\n      <td>NaN</td>\n      <td>NaN</td>\n      <td>NaN</td>\n      <td>NaN</td>\n      <td>NaN</td>\n      <td>NaN</td>\n      <td>NaN</td>\n      <td>NaN</td>\n      <td>NaN</td>\n      <td>NaN</td>\n      <td>NaN</td>\n      <td>NaN</td>\n      <td>NaN</td>\n      <td>NaN</td>\n      <td>NaN</td>\n      <td>NaN</td>\n      <td>NaN</td>\n      <td>NaN</td>\n      <td>NaN</td>\n      <td>NaN</td>\n      <td>NaN</td>\n      <td>NaN</td>\n      <td>NaN</td>\n      <td>NaN</td>\n      <td>NaN</td>\n      <td>NaN</td>\n    </tr>\n    <tr>\n      <th>196052</th>\n      <td>Mongolia</td>\n      <td>MNG</td>\n      <td>Total fisheries production (metric tons)</td>\n      <td>ER.FSH.PROD.MT</td>\n      <td>NaN</td>\n      <td>NaN</td>\n      <td>NaN</td>\n      <td>NaN</td>\n      <td>NaN</td>\n      <td>NaN</td>\n      <td>NaN</td>\n      <td>NaN</td>\n      <td>NaN</td>\n      <td>NaN</td>\n      <td>NaN</td>\n      <td>NaN</td>\n      <td>NaN</td>\n      <td>NaN</td>\n      <td>NaN</td>\n      <td>NaN</td>\n      <td>NaN</td>\n      <td>NaN</td>\n      <td>NaN</td>\n      <td>NaN</td>\n      <td>NaN</td>\n      <td>NaN</td>\n      <td>NaN</td>\n      <td>NaN</td>\n      <td>NaN</td>\n      <td>NaN</td>\n      <td>NaN</td>\n      <td>NaN</td>\n      <td>NaN</td>\n      <td>NaN</td>\n      <td>NaN</td>\n      <td>NaN</td>\n      <td>NaN</td>\n      <td>NaN</td>\n      <td>NaN</td>\n      <td>NaN</td>\n      <td>NaN</td>\n      <td>NaN</td>\n      <td>NaN</td>\n      <td>NaN</td>\n      <td>NaN</td>\n    </tr>\n    <tr>\n      <th>196211</th>\n      <td>Montenegro</td>\n      <td>MNE</td>\n      <td>Agricultural irrigated land (% of total agricu...</td>\n      <td>AG.LND.IRIG.AG.ZS</td>\n      <td>NaN</td>\n      <td>NaN</td>\n      <td>NaN</td>\n      <td>NaN</td>\n      <td>NaN</td>\n      <td>NaN</td>\n      <td>NaN</td>\n      <td>NaN</td>\n      <td>NaN</td>\n      <td>NaN</td>\n      <td>NaN</td>\n      <td>NaN</td>\n      <td>NaN</td>\n      <td>NaN</td>\n      <td>NaN</td>\n      <td>NaN</td>\n      <td>NaN</td>\n      <td>NaN</td>\n      <td>NaN</td>\n      <td>NaN</td>\n      <td>NaN</td>\n      <td>NaN</td>\n      <td>NaN</td>\n      <td>NaN</td>\n      <td>NaN</td>\n      <td>NaN</td>\n      <td>NaN</td>\n      <td>NaN</td>\n      <td>NaN</td>\n      <td>NaN</td>\n      <td>NaN</td>\n      <td>NaN</td>\n      <td>NaN</td>\n      <td>NaN</td>\n      <td>NaN</td>\n      <td>NaN</td>\n      <td>NaN</td>\n      <td>NaN</td>\n      <td>NaN</td>\n      <td>NaN</td>\n      <td>NaN</td>\n    </tr>\n    <tr>\n      <th>202155</th>\n      <td>Namibia</td>\n      <td>NAM</td>\n      <td>Agricultural irrigated land (% of total agricu...</td>\n      <td>AG.LND.IRIG.AG.ZS</td>\n      <td>NaN</td>\n      <td>NaN</td>\n      <td>NaN</td>\n      <td>NaN</td>\n      <td>NaN</td>\n      <td>NaN</td>\n      <td>NaN</td>\n      <td>NaN</td>\n      <td>NaN</td>\n      <td>NaN</td>\n      <td>NaN</td>\n      <td>NaN</td>\n      <td>NaN</td>\n      <td>NaN</td>\n      <td>NaN</td>\n      <td>NaN</td>\n      <td>NaN</td>\n      <td>NaN</td>\n      <td>NaN</td>\n      <td>NaN</td>\n      <td>NaN</td>\n      <td>NaN</td>\n      <td>NaN</td>\n      <td>NaN</td>\n      <td>NaN</td>\n      <td>NaN</td>\n      <td>NaN</td>\n      <td>NaN</td>\n      <td>NaN</td>\n      <td>NaN</td>\n      <td>NaN</td>\n      <td>NaN</td>\n      <td>NaN</td>\n      <td>NaN</td>\n      <td>NaN</td>\n      <td>NaN</td>\n      <td>NaN</td>\n      <td>NaN</td>\n      <td>NaN</td>\n      <td>NaN</td>\n      <td>NaN</td>\n    </tr>\n    <tr>\n      <th>203641</th>\n      <td>Nauru</td>\n      <td>NRU</td>\n      <td>Agricultural irrigated land (% of total agricu...</td>\n      <td>AG.LND.IRIG.AG.ZS</td>\n      <td>NaN</td>\n      <td>NaN</td>\n      <td>NaN</td>\n      <td>NaN</td>\n      <td>NaN</td>\n      <td>NaN</td>\n      <td>NaN</td>\n      <td>NaN</td>\n      <td>NaN</td>\n      <td>NaN</td>\n      <td>NaN</td>\n      <td>NaN</td>\n      <td>NaN</td>\n      <td>NaN</td>\n      <td>NaN</td>\n      <td>NaN</td>\n      <td>NaN</td>\n      <td>NaN</td>\n      <td>NaN</td>\n      <td>NaN</td>\n      <td>NaN</td>\n      <td>NaN</td>\n      <td>NaN</td>\n      <td>NaN</td>\n      <td>NaN</td>\n      <td>NaN</td>\n      <td>NaN</td>\n      <td>NaN</td>\n      <td>NaN</td>\n      <td>NaN</td>\n      <td>NaN</td>\n      <td>NaN</td>\n      <td>NaN</td>\n      <td>NaN</td>\n      <td>NaN</td>\n      <td>NaN</td>\n      <td>NaN</td>\n      <td>NaN</td>\n      <td>NaN</td>\n      <td>NaN</td>\n      <td>NaN</td>\n    </tr>\n    <tr>\n      <th>203652</th>\n      <td>Nauru</td>\n      <td>NRU</td>\n      <td>Agriculture, forestry, and fishing, value adde...</td>\n      <td>NV.AGR.TOTL.ZS</td>\n      <td>NaN</td>\n      <td>NaN</td>\n      <td>NaN</td>\n      <td>NaN</td>\n      <td>NaN</td>\n      <td>NaN</td>\n      <td>NaN</td>\n      <td>NaN</td>\n      <td>NaN</td>\n      <td>NaN</td>\n      <td>NaN</td>\n      <td>NaN</td>\n      <td>NaN</td>\n      <td>NaN</td>\n      <td>NaN</td>\n      <td>NaN</td>\n      <td>NaN</td>\n      <td>NaN</td>\n      <td>NaN</td>\n      <td>NaN</td>\n      <td>NaN</td>\n      <td>NaN</td>\n      <td>NaN</td>\n      <td>NaN</td>\n      <td>NaN</td>\n      <td>NaN</td>\n      <td>NaN</td>\n      <td>NaN</td>\n      <td>NaN</td>\n      <td>NaN</td>\n      <td>NaN</td>\n      <td>NaN</td>\n      <td>NaN</td>\n      <td>NaN</td>\n      <td>NaN</td>\n      <td>NaN</td>\n      <td>NaN</td>\n      <td>NaN</td>\n      <td>NaN</td>\n      <td>NaN</td>\n      <td>NaN</td>\n    </tr>\n    <tr>\n      <th>203653</th>\n      <td>Nauru</td>\n      <td>NRU</td>\n      <td>Agriculture, forestry, and fishing, value adde...</td>\n      <td>NV.AGR.TOTL.KD.ZG</td>\n      <td>NaN</td>\n      <td>NaN</td>\n      <td>NaN</td>\n      <td>NaN</td>\n      <td>NaN</td>\n      <td>NaN</td>\n      <td>NaN</td>\n      <td>NaN</td>\n      <td>NaN</td>\n      <td>NaN</td>\n      <td>NaN</td>\n      <td>NaN</td>\n      <td>NaN</td>\n      <td>NaN</td>\n      <td>NaN</td>\n      <td>NaN</td>\n      <td>NaN</td>\n      <td>NaN</td>\n      <td>NaN</td>\n      <td>NaN</td>\n      <td>NaN</td>\n      <td>NaN</td>\n      <td>NaN</td>\n      <td>NaN</td>\n      <td>NaN</td>\n      <td>NaN</td>\n      <td>NaN</td>\n      <td>NaN</td>\n      <td>NaN</td>\n      <td>NaN</td>\n      <td>NaN</td>\n      <td>NaN</td>\n      <td>NaN</td>\n      <td>NaN</td>\n      <td>NaN</td>\n      <td>NaN</td>\n      <td>NaN</td>\n      <td>NaN</td>\n      <td>NaN</td>\n      <td>NaN</td>\n      <td>NaN</td>\n    </tr>\n    <tr>\n      <th>203657</th>\n      <td>Nauru</td>\n      <td>NRU</td>\n      <td>Agriculture, forestry, and fishing, value adde...</td>\n      <td>NV.AGR.TOTL.CD</td>\n      <td>NaN</td>\n      <td>NaN</td>\n      <td>NaN</td>\n      <td>NaN</td>\n      <td>NaN</td>\n      <td>NaN</td>\n      <td>NaN</td>\n      <td>NaN</td>\n      <td>NaN</td>\n      <td>NaN</td>\n      <td>NaN</td>\n      <td>NaN</td>\n      <td>NaN</td>\n      <td>NaN</td>\n      <td>NaN</td>\n      <td>NaN</td>\n      <td>NaN</td>\n      <td>NaN</td>\n      <td>NaN</td>\n      <td>NaN</td>\n      <td>NaN</td>\n      <td>NaN</td>\n      <td>NaN</td>\n      <td>NaN</td>\n      <td>NaN</td>\n      <td>NaN</td>\n      <td>NaN</td>\n      <td>NaN</td>\n      <td>NaN</td>\n      <td>NaN</td>\n      <td>NaN</td>\n      <td>NaN</td>\n      <td>NaN</td>\n      <td>NaN</td>\n      <td>NaN</td>\n      <td>NaN</td>\n      <td>NaN</td>\n      <td>NaN</td>\n      <td>NaN</td>\n      <td>NaN</td>\n      <td>NaN</td>\n    </tr>\n    <tr>\n      <th>204012</th>\n      <td>Nauru</td>\n      <td>NRU</td>\n      <td>Fertilizer consumption (kilograms per hectare ...</td>\n      <td>AG.CON.FERT.ZS</td>\n      <td>NaN</td>\n      <td>NaN</td>\n      <td>NaN</td>\n      <td>NaN</td>\n      <td>NaN</td>\n      <td>NaN</td>\n      <td>NaN</td>\n      <td>NaN</td>\n      <td>NaN</td>\n      <td>NaN</td>\n      <td>NaN</td>\n      <td>NaN</td>\n      <td>NaN</td>\n      <td>NaN</td>\n      <td>NaN</td>\n      <td>NaN</td>\n      <td>NaN</td>\n      <td>NaN</td>\n      <td>NaN</td>\n      <td>NaN</td>\n      <td>NaN</td>\n      <td>NaN</td>\n      <td>NaN</td>\n      <td>NaN</td>\n      <td>NaN</td>\n      <td>NaN</td>\n      <td>NaN</td>\n      <td>NaN</td>\n      <td>NaN</td>\n      <td>NaN</td>\n      <td>NaN</td>\n      <td>NaN</td>\n      <td>NaN</td>\n      <td>NaN</td>\n      <td>NaN</td>\n      <td>NaN</td>\n      <td>NaN</td>\n      <td>NaN</td>\n      <td>NaN</td>\n      <td>NaN</td>\n      <td>NaN</td>\n    </tr>\n    <tr>\n      <th>204243</th>\n      <td>Nauru</td>\n      <td>NRU</td>\n      <td>International tourism, number of arrivals</td>\n      <td>ST.INT.ARVL</td>\n      <td>NaN</td>\n      <td>NaN</td>\n      <td>NaN</td>\n      <td>NaN</td>\n      <td>NaN</td>\n      <td>NaN</td>\n      <td>NaN</td>\n      <td>NaN</td>\n      <td>NaN</td>\n      <td>NaN</td>\n      <td>NaN</td>\n      <td>NaN</td>\n      <td>NaN</td>\n      <td>NaN</td>\n      <td>NaN</td>\n      <td>NaN</td>\n      <td>NaN</td>\n      <td>NaN</td>\n      <td>NaN</td>\n      <td>NaN</td>\n      <td>NaN</td>\n      <td>NaN</td>\n      <td>NaN</td>\n      <td>NaN</td>\n      <td>NaN</td>\n      <td>NaN</td>\n      <td>NaN</td>\n      <td>NaN</td>\n      <td>NaN</td>\n      <td>NaN</td>\n      <td>NaN</td>\n      <td>NaN</td>\n      <td>NaN</td>\n      <td>NaN</td>\n      <td>NaN</td>\n      <td>NaN</td>\n      <td>NaN</td>\n      <td>NaN</td>\n      <td>NaN</td>\n      <td>NaN</td>\n      <td>NaN</td>\n    </tr>\n    <tr>\n      <th>204330</th>\n      <td>Nauru</td>\n      <td>NRU</td>\n      <td>Marine protected areas (% of territorial waters)</td>\n      <td>ER.MRN.PTMR.ZS</td>\n      <td>NaN</td>\n      <td>NaN</td>\n      <td>NaN</td>\n      <td>NaN</td>\n      <td>NaN</td>\n      <td>NaN</td>\n      <td>NaN</td>\n      <td>NaN</td>\n      <td>NaN</td>\n      <td>NaN</td>\n      <td>NaN</td>\n      <td>NaN</td>\n      <td>NaN</td>\n      <td>NaN</td>\n      <td>NaN</td>\n      <td>NaN</td>\n      <td>NaN</td>\n      <td>NaN</td>\n      <td>NaN</td>\n      <td>NaN</td>\n      <td>NaN</td>\n      <td>NaN</td>\n      <td>NaN</td>\n      <td>NaN</td>\n      <td>NaN</td>\n      <td>NaN</td>\n      <td>NaN</td>\n      <td>NaN</td>\n      <td>NaN</td>\n      <td>NaN</td>\n      <td>NaN</td>\n      <td>NaN</td>\n      <td>NaN</td>\n      <td>NaN</td>\n      <td>NaN</td>\n      <td>NaN</td>\n      <td>NaN</td>\n      <td>NaN</td>\n      <td>NaN</td>\n      <td>NaN</td>\n      <td>NaN</td>\n    </tr>\n    <tr>\n      <th>204943</th>\n      <td>Nauru</td>\n      <td>NRU</td>\n      <td>Terrestrial and marine protected areas (% of t...</td>\n      <td>ER.PTD.TOTL.ZS</td>\n      <td>NaN</td>\n      <td>NaN</td>\n      <td>NaN</td>\n      <td>NaN</td>\n      <td>NaN</td>\n      <td>NaN</td>\n      <td>NaN</td>\n      <td>NaN</td>\n      <td>NaN</td>\n      <td>NaN</td>\n      <td>NaN</td>\n      <td>NaN</td>\n      <td>NaN</td>\n      <td>NaN</td>\n      <td>NaN</td>\n      <td>NaN</td>\n      <td>NaN</td>\n      <td>NaN</td>\n      <td>NaN</td>\n      <td>NaN</td>\n      <td>NaN</td>\n      <td>NaN</td>\n      <td>NaN</td>\n      <td>NaN</td>\n      <td>NaN</td>\n      <td>NaN</td>\n      <td>NaN</td>\n      <td>NaN</td>\n      <td>NaN</td>\n      <td>NaN</td>\n      <td>NaN</td>\n      <td>NaN</td>\n      <td>NaN</td>\n      <td>NaN</td>\n      <td>NaN</td>\n      <td>NaN</td>\n      <td>NaN</td>\n      <td>NaN</td>\n      <td>NaN</td>\n      <td>NaN</td>\n      <td>NaN</td>\n    </tr>\n    <tr>\n      <th>205816</th>\n      <td>Nepal</td>\n      <td>NPL</td>\n      <td>Marine protected areas (% of territorial waters)</td>\n      <td>ER.MRN.PTMR.ZS</td>\n      <td>NaN</td>\n      <td>NaN</td>\n      <td>NaN</td>\n      <td>NaN</td>\n      <td>NaN</td>\n      <td>NaN</td>\n      <td>NaN</td>\n      <td>NaN</td>\n      <td>NaN</td>\n      <td>NaN</td>\n      <td>NaN</td>\n      <td>NaN</td>\n      <td>NaN</td>\n      <td>NaN</td>\n      <td>NaN</td>\n      <td>NaN</td>\n      <td>NaN</td>\n      <td>NaN</td>\n      <td>NaN</td>\n      <td>NaN</td>\n      <td>NaN</td>\n      <td>NaN</td>\n      <td>NaN</td>\n      <td>NaN</td>\n      <td>NaN</td>\n      <td>NaN</td>\n      <td>NaN</td>\n      <td>NaN</td>\n      <td>NaN</td>\n      <td>NaN</td>\n      <td>NaN</td>\n      <td>NaN</td>\n      <td>NaN</td>\n      <td>NaN</td>\n      <td>NaN</td>\n      <td>NaN</td>\n      <td>NaN</td>\n      <td>NaN</td>\n      <td>NaN</td>\n      <td>NaN</td>\n      <td>NaN</td>\n    </tr>\n    <tr>\n      <th>208099</th>\n      <td>New Caledonia</td>\n      <td>NCL</td>\n      <td>Agricultural irrigated land (% of total agricu...</td>\n      <td>AG.LND.IRIG.AG.ZS</td>\n      <td>NaN</td>\n      <td>NaN</td>\n      <td>NaN</td>\n      <td>NaN</td>\n      <td>NaN</td>\n      <td>NaN</td>\n      <td>NaN</td>\n      <td>NaN</td>\n      <td>NaN</td>\n      <td>NaN</td>\n      <td>NaN</td>\n      <td>NaN</td>\n      <td>NaN</td>\n      <td>NaN</td>\n      <td>NaN</td>\n      <td>NaN</td>\n      <td>NaN</td>\n      <td>NaN</td>\n      <td>NaN</td>\n      <td>NaN</td>\n      <td>NaN</td>\n      <td>NaN</td>\n      <td>NaN</td>\n      <td>NaN</td>\n      <td>NaN</td>\n      <td>NaN</td>\n      <td>NaN</td>\n      <td>NaN</td>\n      <td>NaN</td>\n      <td>NaN</td>\n      <td>NaN</td>\n      <td>NaN</td>\n      <td>NaN</td>\n      <td>NaN</td>\n      <td>NaN</td>\n      <td>NaN</td>\n      <td>NaN</td>\n      <td>NaN</td>\n      <td>NaN</td>\n      <td>NaN</td>\n      <td>NaN</td>\n    </tr>\n    <tr>\n      <th>208111</th>\n      <td>New Caledonia</td>\n      <td>NCL</td>\n      <td>Agriculture, forestry, and fishing, value adde...</td>\n      <td>NV.AGR.TOTL.KD.ZG</td>\n      <td>NaN</td>\n      <td>NaN</td>\n      <td>NaN</td>\n      <td>NaN</td>\n      <td>NaN</td>\n      <td>NaN</td>\n      <td>NaN</td>\n      <td>NaN</td>\n      <td>NaN</td>\n      <td>NaN</td>\n      <td>NaN</td>\n      <td>NaN</td>\n      <td>NaN</td>\n      <td>NaN</td>\n      <td>NaN</td>\n      <td>NaN</td>\n      <td>NaN</td>\n      <td>NaN</td>\n      <td>NaN</td>\n      <td>NaN</td>\n      <td>NaN</td>\n      <td>NaN</td>\n      <td>NaN</td>\n      <td>NaN</td>\n      <td>NaN</td>\n      <td>NaN</td>\n      <td>NaN</td>\n      <td>NaN</td>\n      <td>NaN</td>\n      <td>NaN</td>\n      <td>NaN</td>\n      <td>NaN</td>\n      <td>NaN</td>\n      <td>NaN</td>\n      <td>NaN</td>\n      <td>NaN</td>\n      <td>NaN</td>\n      <td>NaN</td>\n      <td>NaN</td>\n      <td>NaN</td>\n      <td>NaN</td>\n    </tr>\n    <tr>\n      <th>211071</th>\n      <td>Nicaragua</td>\n      <td>NIC</td>\n      <td>Agricultural irrigated land (% of total agricu...</td>\n      <td>AG.LND.IRIG.AG.ZS</td>\n      <td>NaN</td>\n      <td>NaN</td>\n      <td>NaN</td>\n      <td>NaN</td>\n      <td>NaN</td>\n      <td>NaN</td>\n      <td>NaN</td>\n      <td>NaN</td>\n      <td>NaN</td>\n      <td>NaN</td>\n      <td>NaN</td>\n      <td>NaN</td>\n      <td>NaN</td>\n      <td>NaN</td>\n      <td>NaN</td>\n      <td>NaN</td>\n      <td>NaN</td>\n      <td>NaN</td>\n      <td>NaN</td>\n      <td>NaN</td>\n      <td>NaN</td>\n      <td>NaN</td>\n      <td>NaN</td>\n      <td>NaN</td>\n      <td>NaN</td>\n      <td>NaN</td>\n      <td>NaN</td>\n      <td>NaN</td>\n      <td>NaN</td>\n      <td>NaN</td>\n      <td>NaN</td>\n      <td>NaN</td>\n      <td>NaN</td>\n      <td>NaN</td>\n      <td>NaN</td>\n      <td>NaN</td>\n      <td>NaN</td>\n      <td>NaN</td>\n      <td>NaN</td>\n      <td>NaN</td>\n      <td>NaN</td>\n    </tr>\n    <tr>\n      <th>213246</th>\n      <td>Niger</td>\n      <td>NER</td>\n      <td>Marine protected areas (% of territorial waters)</td>\n      <td>ER.MRN.PTMR.ZS</td>\n      <td>NaN</td>\n      <td>NaN</td>\n      <td>NaN</td>\n      <td>NaN</td>\n      <td>NaN</td>\n      <td>NaN</td>\n      <td>NaN</td>\n      <td>NaN</td>\n      <td>NaN</td>\n      <td>NaN</td>\n      <td>NaN</td>\n      <td>NaN</td>\n      <td>NaN</td>\n      <td>NaN</td>\n      <td>NaN</td>\n      <td>NaN</td>\n      <td>NaN</td>\n      <td>NaN</td>\n      <td>NaN</td>\n      <td>NaN</td>\n      <td>NaN</td>\n      <td>NaN</td>\n      <td>NaN</td>\n      <td>NaN</td>\n      <td>NaN</td>\n      <td>NaN</td>\n      <td>NaN</td>\n      <td>NaN</td>\n      <td>NaN</td>\n      <td>NaN</td>\n      <td>NaN</td>\n      <td>NaN</td>\n      <td>NaN</td>\n      <td>NaN</td>\n      <td>NaN</td>\n      <td>NaN</td>\n      <td>NaN</td>\n      <td>NaN</td>\n      <td>NaN</td>\n      <td>NaN</td>\n      <td>NaN</td>\n    </tr>\n    <tr>\n      <th>216218</th>\n      <td>North Macedonia</td>\n      <td>MKD</td>\n      <td>Marine protected areas (% of territorial waters)</td>\n      <td>ER.MRN.PTMR.ZS</td>\n      <td>NaN</td>\n      <td>NaN</td>\n      <td>NaN</td>\n      <td>NaN</td>\n      <td>NaN</td>\n      <td>NaN</td>\n      <td>NaN</td>\n      <td>NaN</td>\n      <td>NaN</td>\n      <td>NaN</td>\n      <td>NaN</td>\n      <td>NaN</td>\n      <td>NaN</td>\n      <td>NaN</td>\n      <td>NaN</td>\n      <td>NaN</td>\n      <td>NaN</td>\n      <td>NaN</td>\n      <td>NaN</td>\n      <td>NaN</td>\n      <td>NaN</td>\n      <td>NaN</td>\n      <td>NaN</td>\n      <td>NaN</td>\n      <td>NaN</td>\n      <td>NaN</td>\n      <td>NaN</td>\n      <td>NaN</td>\n      <td>NaN</td>\n      <td>NaN</td>\n      <td>NaN</td>\n      <td>NaN</td>\n      <td>NaN</td>\n      <td>NaN</td>\n      <td>NaN</td>\n      <td>NaN</td>\n      <td>NaN</td>\n      <td>NaN</td>\n      <td>NaN</td>\n      <td>NaN</td>\n      <td>NaN</td>\n    </tr>\n    <tr>\n      <th>217015</th>\n      <td>Northern Mariana Islands</td>\n      <td>MNP</td>\n      <td>Agricultural irrigated land (% of total agricu...</td>\n      <td>AG.LND.IRIG.AG.ZS</td>\n      <td>NaN</td>\n      <td>NaN</td>\n      <td>NaN</td>\n      <td>NaN</td>\n      <td>NaN</td>\n      <td>NaN</td>\n      <td>NaN</td>\n      <td>NaN</td>\n      <td>NaN</td>\n      <td>NaN</td>\n      <td>NaN</td>\n      <td>NaN</td>\n      <td>NaN</td>\n      <td>NaN</td>\n      <td>NaN</td>\n      <td>NaN</td>\n      <td>NaN</td>\n      <td>NaN</td>\n      <td>NaN</td>\n      <td>NaN</td>\n      <td>NaN</td>\n      <td>NaN</td>\n      <td>NaN</td>\n      <td>NaN</td>\n      <td>NaN</td>\n      <td>NaN</td>\n      <td>NaN</td>\n      <td>NaN</td>\n      <td>NaN</td>\n      <td>NaN</td>\n      <td>NaN</td>\n      <td>NaN</td>\n      <td>NaN</td>\n      <td>NaN</td>\n      <td>NaN</td>\n      <td>NaN</td>\n      <td>NaN</td>\n      <td>NaN</td>\n      <td>NaN</td>\n      <td>NaN</td>\n      <td>NaN</td>\n    </tr>\n    <tr>\n      <th>217026</th>\n      <td>Northern Mariana Islands</td>\n      <td>MNP</td>\n      <td>Agriculture, forestry, and fishing, value adde...</td>\n      <td>NV.AGR.TOTL.ZS</td>\n      <td>NaN</td>\n      <td>NaN</td>\n      <td>NaN</td>\n      <td>NaN</td>\n      <td>NaN</td>\n      <td>NaN</td>\n      <td>NaN</td>\n      <td>NaN</td>\n      <td>NaN</td>\n      <td>NaN</td>\n      <td>NaN</td>\n      <td>NaN</td>\n      <td>NaN</td>\n      <td>NaN</td>\n      <td>NaN</td>\n      <td>NaN</td>\n      <td>NaN</td>\n      <td>NaN</td>\n      <td>NaN</td>\n      <td>NaN</td>\n      <td>NaN</td>\n      <td>NaN</td>\n      <td>NaN</td>\n      <td>NaN</td>\n      <td>NaN</td>\n      <td>NaN</td>\n      <td>NaN</td>\n      <td>NaN</td>\n      <td>NaN</td>\n      <td>NaN</td>\n      <td>NaN</td>\n      <td>NaN</td>\n      <td>NaN</td>\n      <td>NaN</td>\n      <td>NaN</td>\n      <td>NaN</td>\n      <td>NaN</td>\n      <td>NaN</td>\n      <td>NaN</td>\n      <td>NaN</td>\n      <td>NaN</td>\n    </tr>\n    <tr>\n      <th>217027</th>\n      <td>Northern Mariana Islands</td>\n      <td>MNP</td>\n      <td>Agriculture, forestry, and fishing, value adde...</td>\n      <td>NV.AGR.TOTL.KD.ZG</td>\n      <td>NaN</td>\n      <td>NaN</td>\n      <td>NaN</td>\n      <td>NaN</td>\n      <td>NaN</td>\n      <td>NaN</td>\n      <td>NaN</td>\n      <td>NaN</td>\n      <td>NaN</td>\n      <td>NaN</td>\n      <td>NaN</td>\n      <td>NaN</td>\n      <td>NaN</td>\n      <td>NaN</td>\n      <td>NaN</td>\n      <td>NaN</td>\n      <td>NaN</td>\n      <td>NaN</td>\n      <td>NaN</td>\n      <td>NaN</td>\n      <td>NaN</td>\n      <td>NaN</td>\n      <td>NaN</td>\n      <td>NaN</td>\n      <td>NaN</td>\n      <td>NaN</td>\n      <td>NaN</td>\n      <td>NaN</td>\n      <td>NaN</td>\n      <td>NaN</td>\n      <td>NaN</td>\n      <td>NaN</td>\n      <td>NaN</td>\n      <td>NaN</td>\n      <td>NaN</td>\n      <td>NaN</td>\n      <td>NaN</td>\n      <td>NaN</td>\n      <td>NaN</td>\n      <td>NaN</td>\n      <td>NaN</td>\n    </tr>\n    <tr>\n      <th>217031</th>\n      <td>Northern Mariana Islands</td>\n      <td>MNP</td>\n      <td>Agriculture, forestry, and fishing, value adde...</td>\n      <td>NV.AGR.TOTL.CD</td>\n      <td>NaN</td>\n      <td>NaN</td>\n      <td>NaN</td>\n      <td>NaN</td>\n      <td>NaN</td>\n      <td>NaN</td>\n      <td>NaN</td>\n      <td>NaN</td>\n      <td>NaN</td>\n      <td>NaN</td>\n      <td>NaN</td>\n      <td>NaN</td>\n      <td>NaN</td>\n      <td>NaN</td>\n      <td>NaN</td>\n      <td>NaN</td>\n      <td>NaN</td>\n      <td>NaN</td>\n      <td>NaN</td>\n      <td>NaN</td>\n      <td>NaN</td>\n      <td>NaN</td>\n      <td>NaN</td>\n      <td>NaN</td>\n      <td>NaN</td>\n      <td>NaN</td>\n      <td>NaN</td>\n      <td>NaN</td>\n      <td>NaN</td>\n      <td>NaN</td>\n      <td>NaN</td>\n      <td>NaN</td>\n      <td>NaN</td>\n      <td>NaN</td>\n      <td>NaN</td>\n      <td>NaN</td>\n      <td>NaN</td>\n      <td>NaN</td>\n      <td>NaN</td>\n      <td>NaN</td>\n      <td>NaN</td>\n    </tr>\n    <tr>\n      <th>222959</th>\n      <td>Palau</td>\n      <td>PLW</td>\n      <td>Agricultural irrigated land (% of total agricu...</td>\n      <td>AG.LND.IRIG.AG.ZS</td>\n      <td>NaN</td>\n      <td>NaN</td>\n      <td>NaN</td>\n      <td>NaN</td>\n      <td>NaN</td>\n      <td>NaN</td>\n      <td>NaN</td>\n      <td>NaN</td>\n      <td>NaN</td>\n      <td>NaN</td>\n      <td>NaN</td>\n      <td>NaN</td>\n      <td>NaN</td>\n      <td>NaN</td>\n      <td>NaN</td>\n      <td>NaN</td>\n      <td>NaN</td>\n      <td>NaN</td>\n      <td>NaN</td>\n      <td>NaN</td>\n      <td>NaN</td>\n      <td>NaN</td>\n      <td>NaN</td>\n      <td>NaN</td>\n      <td>NaN</td>\n      <td>NaN</td>\n      <td>NaN</td>\n      <td>NaN</td>\n      <td>NaN</td>\n      <td>NaN</td>\n      <td>NaN</td>\n      <td>NaN</td>\n      <td>NaN</td>\n      <td>NaN</td>\n      <td>NaN</td>\n      <td>NaN</td>\n      <td>NaN</td>\n      <td>NaN</td>\n      <td>NaN</td>\n      <td>NaN</td>\n      <td>NaN</td>\n    </tr>\n    <tr>\n      <th>225931</th>\n      <td>Papua New Guinea</td>\n      <td>PNG</td>\n      <td>Agricultural irrigated land (% of total agricu...</td>\n      <td>AG.LND.IRIG.AG.ZS</td>\n      <td>NaN</td>\n      <td>NaN</td>\n      <td>NaN</td>\n      <td>NaN</td>\n      <td>NaN</td>\n      <td>NaN</td>\n      <td>NaN</td>\n      <td>NaN</td>\n      <td>NaN</td>\n      <td>NaN</td>\n      <td>NaN</td>\n      <td>NaN</td>\n      <td>NaN</td>\n      <td>NaN</td>\n      <td>NaN</td>\n      <td>NaN</td>\n      <td>NaN</td>\n      <td>NaN</td>\n      <td>NaN</td>\n      <td>NaN</td>\n      <td>NaN</td>\n      <td>NaN</td>\n      <td>NaN</td>\n      <td>NaN</td>\n      <td>NaN</td>\n      <td>NaN</td>\n      <td>NaN</td>\n      <td>NaN</td>\n      <td>NaN</td>\n      <td>NaN</td>\n      <td>NaN</td>\n      <td>NaN</td>\n      <td>NaN</td>\n      <td>NaN</td>\n      <td>NaN</td>\n      <td>NaN</td>\n      <td>NaN</td>\n      <td>NaN</td>\n      <td>NaN</td>\n      <td>NaN</td>\n      <td>NaN</td>\n    </tr>\n    <tr>\n      <th>227417</th>\n      <td>Paraguay</td>\n      <td>PRY</td>\n      <td>Agricultural irrigated land (% of total agricu...</td>\n      <td>AG.LND.IRIG.AG.ZS</td>\n      <td>NaN</td>\n      <td>NaN</td>\n      <td>NaN</td>\n      <td>NaN</td>\n      <td>NaN</td>\n      <td>NaN</td>\n      <td>NaN</td>\n      <td>NaN</td>\n      <td>NaN</td>\n      <td>NaN</td>\n      <td>NaN</td>\n      <td>NaN</td>\n      <td>NaN</td>\n      <td>NaN</td>\n      <td>NaN</td>\n      <td>NaN</td>\n      <td>NaN</td>\n      <td>NaN</td>\n      <td>NaN</td>\n      <td>NaN</td>\n      <td>NaN</td>\n      <td>NaN</td>\n      <td>NaN</td>\n      <td>NaN</td>\n      <td>NaN</td>\n      <td>NaN</td>\n      <td>NaN</td>\n      <td>NaN</td>\n      <td>NaN</td>\n      <td>NaN</td>\n      <td>NaN</td>\n      <td>NaN</td>\n      <td>NaN</td>\n      <td>NaN</td>\n      <td>NaN</td>\n      <td>NaN</td>\n      <td>NaN</td>\n      <td>NaN</td>\n      <td>NaN</td>\n      <td>NaN</td>\n      <td>NaN</td>\n    </tr>\n    <tr>\n      <th>228106</th>\n      <td>Paraguay</td>\n      <td>PRY</td>\n      <td>Marine protected areas (% of territorial waters)</td>\n      <td>ER.MRN.PTMR.ZS</td>\n      <td>NaN</td>\n      <td>NaN</td>\n      <td>NaN</td>\n      <td>NaN</td>\n      <td>NaN</td>\n      <td>NaN</td>\n      <td>NaN</td>\n      <td>NaN</td>\n      <td>NaN</td>\n      <td>NaN</td>\n      <td>NaN</td>\n      <td>NaN</td>\n      <td>NaN</td>\n      <td>NaN</td>\n      <td>NaN</td>\n      <td>NaN</td>\n      <td>NaN</td>\n      <td>NaN</td>\n      <td>NaN</td>\n      <td>NaN</td>\n      <td>NaN</td>\n      <td>NaN</td>\n      <td>NaN</td>\n      <td>NaN</td>\n      <td>NaN</td>\n      <td>NaN</td>\n      <td>NaN</td>\n      <td>NaN</td>\n      <td>NaN</td>\n      <td>NaN</td>\n      <td>NaN</td>\n      <td>NaN</td>\n      <td>NaN</td>\n      <td>NaN</td>\n      <td>NaN</td>\n      <td>NaN</td>\n      <td>NaN</td>\n      <td>NaN</td>\n      <td>NaN</td>\n      <td>NaN</td>\n      <td>NaN</td>\n    </tr>\n    <tr>\n      <th>228903</th>\n      <td>Peru</td>\n      <td>PER</td>\n      <td>Agricultural irrigated land (% of total agricu...</td>\n      <td>AG.LND.IRIG.AG.ZS</td>\n      <td>NaN</td>\n      <td>NaN</td>\n      <td>NaN</td>\n      <td>NaN</td>\n      <td>NaN</td>\n      <td>NaN</td>\n      <td>NaN</td>\n      <td>NaN</td>\n      <td>NaN</td>\n      <td>NaN</td>\n      <td>NaN</td>\n      <td>NaN</td>\n      <td>NaN</td>\n      <td>NaN</td>\n      <td>NaN</td>\n      <td>NaN</td>\n      <td>NaN</td>\n      <td>NaN</td>\n      <td>NaN</td>\n      <td>NaN</td>\n      <td>NaN</td>\n      <td>NaN</td>\n      <td>NaN</td>\n      <td>NaN</td>\n      <td>NaN</td>\n      <td>NaN</td>\n      <td>NaN</td>\n      <td>NaN</td>\n      <td>NaN</td>\n      <td>NaN</td>\n      <td>NaN</td>\n      <td>NaN</td>\n      <td>NaN</td>\n      <td>NaN</td>\n      <td>NaN</td>\n      <td>NaN</td>\n      <td>NaN</td>\n      <td>NaN</td>\n      <td>NaN</td>\n      <td>NaN</td>\n      <td>NaN</td>\n    </tr>\n    <tr>\n      <th>234859</th>\n      <td>Puerto Rico</td>\n      <td>PRI</td>\n      <td>Agriculture, forestry, and fishing, value adde...</td>\n      <td>NV.AGR.TOTL.KD.ZG</td>\n      <td>NaN</td>\n      <td>NaN</td>\n      <td>NaN</td>\n      <td>NaN</td>\n      <td>NaN</td>\n      <td>NaN</td>\n      <td>NaN</td>\n      <td>NaN</td>\n      <td>NaN</td>\n      <td>NaN</td>\n      <td>NaN</td>\n      <td>NaN</td>\n      <td>NaN</td>\n      <td>NaN</td>\n      <td>NaN</td>\n      <td>NaN</td>\n      <td>NaN</td>\n      <td>NaN</td>\n      <td>NaN</td>\n      <td>NaN</td>\n      <td>NaN</td>\n      <td>NaN</td>\n      <td>NaN</td>\n      <td>NaN</td>\n      <td>NaN</td>\n      <td>NaN</td>\n      <td>NaN</td>\n      <td>NaN</td>\n      <td>NaN</td>\n      <td>NaN</td>\n      <td>NaN</td>\n      <td>NaN</td>\n      <td>NaN</td>\n      <td>NaN</td>\n      <td>NaN</td>\n      <td>NaN</td>\n      <td>NaN</td>\n      <td>NaN</td>\n      <td>NaN</td>\n      <td>NaN</td>\n      <td>NaN</td>\n    </tr>\n    <tr>\n      <th>241480</th>\n      <td>Rwanda</td>\n      <td>RWA</td>\n      <td>Marine protected areas (% of territorial waters)</td>\n      <td>ER.MRN.PTMR.ZS</td>\n      <td>NaN</td>\n      <td>NaN</td>\n      <td>NaN</td>\n      <td>NaN</td>\n      <td>NaN</td>\n      <td>NaN</td>\n      <td>NaN</td>\n      <td>NaN</td>\n      <td>NaN</td>\n      <td>NaN</td>\n      <td>NaN</td>\n      <td>NaN</td>\n      <td>NaN</td>\n      <td>NaN</td>\n      <td>NaN</td>\n      <td>NaN</td>\n      <td>NaN</td>\n      <td>NaN</td>\n      <td>NaN</td>\n      <td>NaN</td>\n      <td>NaN</td>\n      <td>NaN</td>\n      <td>NaN</td>\n      <td>NaN</td>\n      <td>NaN</td>\n      <td>NaN</td>\n      <td>NaN</td>\n      <td>NaN</td>\n      <td>NaN</td>\n      <td>NaN</td>\n      <td>NaN</td>\n      <td>NaN</td>\n      <td>NaN</td>\n      <td>NaN</td>\n      <td>NaN</td>\n      <td>NaN</td>\n      <td>NaN</td>\n      <td>NaN</td>\n      <td>NaN</td>\n      <td>NaN</td>\n      <td>NaN</td>\n    </tr>\n    <tr>\n      <th>242277</th>\n      <td>Samoa</td>\n      <td>WSM</td>\n      <td>Agricultural irrigated land (% of total agricu...</td>\n      <td>AG.LND.IRIG.AG.ZS</td>\n      <td>NaN</td>\n      <td>NaN</td>\n      <td>NaN</td>\n      <td>NaN</td>\n      <td>NaN</td>\n      <td>NaN</td>\n      <td>NaN</td>\n      <td>NaN</td>\n      <td>NaN</td>\n      <td>NaN</td>\n      <td>NaN</td>\n      <td>NaN</td>\n      <td>NaN</td>\n      <td>NaN</td>\n      <td>NaN</td>\n      <td>NaN</td>\n      <td>NaN</td>\n      <td>NaN</td>\n      <td>NaN</td>\n      <td>NaN</td>\n      <td>NaN</td>\n      <td>NaN</td>\n      <td>NaN</td>\n      <td>NaN</td>\n      <td>NaN</td>\n      <td>NaN</td>\n      <td>NaN</td>\n      <td>NaN</td>\n      <td>NaN</td>\n      <td>NaN</td>\n      <td>NaN</td>\n      <td>NaN</td>\n      <td>NaN</td>\n      <td>NaN</td>\n      <td>NaN</td>\n      <td>NaN</td>\n      <td>NaN</td>\n      <td>NaN</td>\n      <td>NaN</td>\n      <td>NaN</td>\n      <td>NaN</td>\n    </tr>\n    <tr>\n      <th>243763</th>\n      <td>San Marino</td>\n      <td>SMR</td>\n      <td>Agricultural irrigated land (% of total agricu...</td>\n      <td>AG.LND.IRIG.AG.ZS</td>\n      <td>NaN</td>\n      <td>NaN</td>\n      <td>NaN</td>\n      <td>NaN</td>\n      <td>NaN</td>\n      <td>NaN</td>\n      <td>NaN</td>\n      <td>NaN</td>\n      <td>NaN</td>\n      <td>NaN</td>\n      <td>NaN</td>\n      <td>NaN</td>\n      <td>NaN</td>\n      <td>NaN</td>\n      <td>NaN</td>\n      <td>NaN</td>\n      <td>NaN</td>\n      <td>NaN</td>\n      <td>NaN</td>\n      <td>NaN</td>\n      <td>NaN</td>\n      <td>NaN</td>\n      <td>NaN</td>\n      <td>NaN</td>\n      <td>NaN</td>\n      <td>NaN</td>\n      <td>NaN</td>\n      <td>NaN</td>\n      <td>NaN</td>\n      <td>NaN</td>\n      <td>NaN</td>\n      <td>NaN</td>\n      <td>NaN</td>\n      <td>NaN</td>\n      <td>NaN</td>\n      <td>NaN</td>\n      <td>NaN</td>\n      <td>NaN</td>\n      <td>NaN</td>\n      <td>NaN</td>\n      <td>NaN</td>\n    </tr>\n    <tr>\n      <th>243794</th>\n      <td>San Marino</td>\n      <td>SMR</td>\n      <td>Aquaculture production (metric tons)</td>\n      <td>ER.FSH.AQUA.MT</td>\n      <td>NaN</td>\n      <td>NaN</td>\n      <td>NaN</td>\n      <td>NaN</td>\n      <td>NaN</td>\n      <td>NaN</td>\n      <td>NaN</td>\n      <td>NaN</td>\n      <td>NaN</td>\n      <td>NaN</td>\n      <td>NaN</td>\n      <td>NaN</td>\n      <td>NaN</td>\n      <td>NaN</td>\n      <td>NaN</td>\n      <td>NaN</td>\n      <td>NaN</td>\n      <td>NaN</td>\n      <td>NaN</td>\n      <td>NaN</td>\n      <td>NaN</td>\n      <td>NaN</td>\n      <td>NaN</td>\n      <td>NaN</td>\n      <td>NaN</td>\n      <td>NaN</td>\n      <td>NaN</td>\n      <td>NaN</td>\n      <td>NaN</td>\n      <td>NaN</td>\n      <td>NaN</td>\n      <td>NaN</td>\n      <td>NaN</td>\n      <td>NaN</td>\n      <td>NaN</td>\n      <td>NaN</td>\n      <td>NaN</td>\n      <td>NaN</td>\n      <td>NaN</td>\n      <td>NaN</td>\n      <td>NaN</td>\n    </tr>\n    <tr>\n      <th>244452</th>\n      <td>San Marino</td>\n      <td>SMR</td>\n      <td>Marine protected areas (% of territorial waters)</td>\n      <td>ER.MRN.PTMR.ZS</td>\n      <td>NaN</td>\n      <td>NaN</td>\n      <td>NaN</td>\n      <td>NaN</td>\n      <td>NaN</td>\n      <td>NaN</td>\n      <td>NaN</td>\n      <td>NaN</td>\n      <td>NaN</td>\n      <td>NaN</td>\n      <td>NaN</td>\n      <td>NaN</td>\n      <td>NaN</td>\n      <td>NaN</td>\n      <td>NaN</td>\n      <td>NaN</td>\n      <td>NaN</td>\n      <td>NaN</td>\n      <td>NaN</td>\n      <td>NaN</td>\n      <td>NaN</td>\n      <td>NaN</td>\n      <td>NaN</td>\n      <td>NaN</td>\n      <td>NaN</td>\n      <td>NaN</td>\n      <td>NaN</td>\n      <td>NaN</td>\n      <td>NaN</td>\n      <td>NaN</td>\n      <td>NaN</td>\n      <td>NaN</td>\n      <td>NaN</td>\n      <td>NaN</td>\n      <td>NaN</td>\n      <td>NaN</td>\n      <td>NaN</td>\n      <td>NaN</td>\n      <td>NaN</td>\n      <td>NaN</td>\n      <td>NaN</td>\n    </tr>\n    <tr>\n      <th>245065</th>\n      <td>San Marino</td>\n      <td>SMR</td>\n      <td>Terrestrial and marine protected areas (% of t...</td>\n      <td>ER.PTD.TOTL.ZS</td>\n      <td>NaN</td>\n      <td>NaN</td>\n      <td>NaN</td>\n      <td>NaN</td>\n      <td>NaN</td>\n      <td>NaN</td>\n      <td>NaN</td>\n      <td>NaN</td>\n      <td>NaN</td>\n      <td>NaN</td>\n      <td>NaN</td>\n      <td>NaN</td>\n      <td>NaN</td>\n      <td>NaN</td>\n      <td>NaN</td>\n      <td>NaN</td>\n      <td>NaN</td>\n      <td>NaN</td>\n      <td>NaN</td>\n      <td>NaN</td>\n      <td>NaN</td>\n      <td>NaN</td>\n      <td>NaN</td>\n      <td>NaN</td>\n      <td>NaN</td>\n      <td>NaN</td>\n      <td>NaN</td>\n      <td>NaN</td>\n      <td>NaN</td>\n      <td>NaN</td>\n      <td>NaN</td>\n      <td>NaN</td>\n      <td>NaN</td>\n      <td>NaN</td>\n      <td>NaN</td>\n      <td>NaN</td>\n      <td>NaN</td>\n      <td>NaN</td>\n      <td>NaN</td>\n      <td>NaN</td>\n      <td>NaN</td>\n    </tr>\n    <tr>\n      <th>245090</th>\n      <td>San Marino</td>\n      <td>SMR</td>\n      <td>Total fisheries production (metric tons)</td>\n      <td>ER.FSH.PROD.MT</td>\n      <td>NaN</td>\n      <td>NaN</td>\n      <td>NaN</td>\n      <td>NaN</td>\n      <td>NaN</td>\n      <td>NaN</td>\n      <td>NaN</td>\n      <td>NaN</td>\n      <td>NaN</td>\n      <td>NaN</td>\n      <td>NaN</td>\n      <td>NaN</td>\n      <td>NaN</td>\n      <td>NaN</td>\n      <td>NaN</td>\n      <td>NaN</td>\n      <td>NaN</td>\n      <td>NaN</td>\n      <td>NaN</td>\n      <td>NaN</td>\n      <td>NaN</td>\n      <td>NaN</td>\n      <td>NaN</td>\n      <td>NaN</td>\n      <td>NaN</td>\n      <td>NaN</td>\n      <td>NaN</td>\n      <td>NaN</td>\n      <td>NaN</td>\n      <td>NaN</td>\n      <td>NaN</td>\n      <td>NaN</td>\n      <td>NaN</td>\n      <td>NaN</td>\n      <td>NaN</td>\n      <td>NaN</td>\n      <td>NaN</td>\n      <td>NaN</td>\n      <td>NaN</td>\n      <td>NaN</td>\n      <td>NaN</td>\n    </tr>\n    <tr>\n      <th>245249</th>\n      <td>Sao Tome and Principe</td>\n      <td>STP</td>\n      <td>Agricultural irrigated land (% of total agricu...</td>\n      <td>AG.LND.IRIG.AG.ZS</td>\n      <td>NaN</td>\n      <td>NaN</td>\n      <td>NaN</td>\n      <td>NaN</td>\n      <td>NaN</td>\n      <td>NaN</td>\n      <td>NaN</td>\n      <td>NaN</td>\n      <td>NaN</td>\n      <td>NaN</td>\n      <td>NaN</td>\n      <td>NaN</td>\n      <td>NaN</td>\n      <td>NaN</td>\n      <td>NaN</td>\n      <td>NaN</td>\n      <td>NaN</td>\n      <td>NaN</td>\n      <td>NaN</td>\n      <td>NaN</td>\n      <td>NaN</td>\n      <td>NaN</td>\n      <td>NaN</td>\n      <td>NaN</td>\n      <td>NaN</td>\n      <td>NaN</td>\n      <td>NaN</td>\n      <td>NaN</td>\n      <td>NaN</td>\n      <td>NaN</td>\n      <td>NaN</td>\n      <td>NaN</td>\n      <td>NaN</td>\n      <td>NaN</td>\n      <td>NaN</td>\n      <td>NaN</td>\n      <td>NaN</td>\n      <td>NaN</td>\n      <td>NaN</td>\n      <td>NaN</td>\n      <td>NaN</td>\n    </tr>\n    <tr>\n      <th>245280</th>\n      <td>Sao Tome and Principe</td>\n      <td>STP</td>\n      <td>Aquaculture production (metric tons)</td>\n      <td>ER.FSH.AQUA.MT</td>\n      <td>NaN</td>\n      <td>NaN</td>\n      <td>NaN</td>\n      <td>NaN</td>\n      <td>NaN</td>\n      <td>NaN</td>\n      <td>NaN</td>\n      <td>NaN</td>\n      <td>NaN</td>\n      <td>NaN</td>\n      <td>NaN</td>\n      <td>NaN</td>\n      <td>NaN</td>\n      <td>NaN</td>\n      <td>NaN</td>\n      <td>NaN</td>\n      <td>NaN</td>\n      <td>NaN</td>\n      <td>NaN</td>\n      <td>NaN</td>\n      <td>NaN</td>\n      <td>NaN</td>\n      <td>NaN</td>\n      <td>NaN</td>\n      <td>NaN</td>\n      <td>NaN</td>\n      <td>NaN</td>\n      <td>NaN</td>\n      <td>NaN</td>\n      <td>NaN</td>\n      <td>NaN</td>\n      <td>NaN</td>\n      <td>NaN</td>\n      <td>NaN</td>\n      <td>NaN</td>\n      <td>NaN</td>\n      <td>NaN</td>\n      <td>NaN</td>\n      <td>NaN</td>\n      <td>NaN</td>\n      <td>NaN</td>\n    </tr>\n    <tr>\n      <th>246576</th>\n      <td>Sao Tome and Principe</td>\n      <td>STP</td>\n      <td>Total fisheries production (metric tons)</td>\n      <td>ER.FSH.PROD.MT</td>\n      <td>NaN</td>\n      <td>NaN</td>\n      <td>NaN</td>\n      <td>NaN</td>\n      <td>NaN</td>\n      <td>NaN</td>\n      <td>NaN</td>\n      <td>NaN</td>\n      <td>NaN</td>\n      <td>NaN</td>\n      <td>NaN</td>\n      <td>NaN</td>\n      <td>NaN</td>\n      <td>NaN</td>\n      <td>NaN</td>\n      <td>NaN</td>\n      <td>NaN</td>\n      <td>NaN</td>\n      <td>NaN</td>\n      <td>NaN</td>\n      <td>NaN</td>\n      <td>NaN</td>\n      <td>NaN</td>\n      <td>NaN</td>\n      <td>NaN</td>\n      <td>NaN</td>\n      <td>NaN</td>\n      <td>NaN</td>\n      <td>NaN</td>\n      <td>NaN</td>\n      <td>NaN</td>\n      <td>NaN</td>\n      <td>NaN</td>\n      <td>NaN</td>\n      <td>NaN</td>\n      <td>NaN</td>\n      <td>NaN</td>\n      <td>NaN</td>\n      <td>NaN</td>\n      <td>NaN</td>\n      <td>NaN</td>\n    </tr>\n    <tr>\n      <th>250396</th>\n      <td>Serbia</td>\n      <td>SRB</td>\n      <td>Marine protected areas (% of territorial waters)</td>\n      <td>ER.MRN.PTMR.ZS</td>\n      <td>NaN</td>\n      <td>NaN</td>\n      <td>NaN</td>\n      <td>NaN</td>\n      <td>NaN</td>\n      <td>NaN</td>\n      <td>NaN</td>\n      <td>NaN</td>\n      <td>NaN</td>\n      <td>NaN</td>\n      <td>NaN</td>\n      <td>NaN</td>\n      <td>NaN</td>\n      <td>NaN</td>\n      <td>NaN</td>\n      <td>NaN</td>\n      <td>NaN</td>\n      <td>NaN</td>\n      <td>NaN</td>\n      <td>NaN</td>\n      <td>NaN</td>\n      <td>NaN</td>\n      <td>NaN</td>\n      <td>NaN</td>\n      <td>NaN</td>\n      <td>NaN</td>\n      <td>NaN</td>\n      <td>NaN</td>\n      <td>NaN</td>\n      <td>NaN</td>\n      <td>NaN</td>\n      <td>NaN</td>\n      <td>NaN</td>\n      <td>NaN</td>\n      <td>NaN</td>\n      <td>NaN</td>\n      <td>NaN</td>\n      <td>NaN</td>\n      <td>NaN</td>\n      <td>NaN</td>\n      <td>NaN</td>\n    </tr>\n    <tr>\n      <th>252679</th>\n      <td>Sierra Leone</td>\n      <td>SLE</td>\n      <td>Agricultural irrigated land (% of total agricu...</td>\n      <td>AG.LND.IRIG.AG.ZS</td>\n      <td>NaN</td>\n      <td>NaN</td>\n      <td>NaN</td>\n      <td>NaN</td>\n      <td>NaN</td>\n      <td>NaN</td>\n      <td>NaN</td>\n      <td>NaN</td>\n      <td>NaN</td>\n      <td>NaN</td>\n      <td>NaN</td>\n      <td>NaN</td>\n      <td>NaN</td>\n      <td>NaN</td>\n      <td>NaN</td>\n      <td>NaN</td>\n      <td>NaN</td>\n      <td>NaN</td>\n      <td>NaN</td>\n      <td>NaN</td>\n      <td>NaN</td>\n      <td>NaN</td>\n      <td>NaN</td>\n      <td>NaN</td>\n      <td>NaN</td>\n      <td>NaN</td>\n      <td>NaN</td>\n      <td>NaN</td>\n      <td>NaN</td>\n      <td>NaN</td>\n      <td>NaN</td>\n      <td>NaN</td>\n      <td>NaN</td>\n      <td>NaN</td>\n      <td>NaN</td>\n      <td>NaN</td>\n      <td>NaN</td>\n      <td>NaN</td>\n      <td>NaN</td>\n      <td>NaN</td>\n      <td>NaN</td>\n    </tr>\n    <tr>\n      <th>254165</th>\n      <td>Singapore</td>\n      <td>SGP</td>\n      <td>Agricultural irrigated land (% of total agricu...</td>\n      <td>AG.LND.IRIG.AG.ZS</td>\n      <td>NaN</td>\n      <td>NaN</td>\n      <td>NaN</td>\n      <td>NaN</td>\n      <td>NaN</td>\n      <td>NaN</td>\n      <td>NaN</td>\n      <td>NaN</td>\n      <td>NaN</td>\n      <td>NaN</td>\n      <td>NaN</td>\n      <td>NaN</td>\n      <td>NaN</td>\n      <td>NaN</td>\n      <td>NaN</td>\n      <td>NaN</td>\n      <td>NaN</td>\n      <td>NaN</td>\n      <td>NaN</td>\n      <td>NaN</td>\n      <td>NaN</td>\n      <td>NaN</td>\n      <td>NaN</td>\n      <td>NaN</td>\n      <td>NaN</td>\n      <td>NaN</td>\n      <td>NaN</td>\n      <td>NaN</td>\n      <td>NaN</td>\n      <td>NaN</td>\n      <td>NaN</td>\n      <td>NaN</td>\n      <td>NaN</td>\n      <td>NaN</td>\n      <td>NaN</td>\n      <td>NaN</td>\n      <td>NaN</td>\n      <td>NaN</td>\n      <td>NaN</td>\n      <td>NaN</td>\n      <td>NaN</td>\n    </tr>\n    <tr>\n      <th>255651</th>\n      <td>Sint Maarten (Dutch part)</td>\n      <td>SXM</td>\n      <td>Agricultural irrigated land (% of total agricu...</td>\n      <td>AG.LND.IRIG.AG.ZS</td>\n      <td>NaN</td>\n      <td>NaN</td>\n      <td>NaN</td>\n      <td>NaN</td>\n      <td>NaN</td>\n      <td>NaN</td>\n      <td>NaN</td>\n      <td>NaN</td>\n      <td>NaN</td>\n      <td>NaN</td>\n      <td>NaN</td>\n      <td>NaN</td>\n      <td>NaN</td>\n      <td>NaN</td>\n      <td>NaN</td>\n      <td>NaN</td>\n      <td>NaN</td>\n      <td>NaN</td>\n      <td>NaN</td>\n      <td>NaN</td>\n      <td>NaN</td>\n      <td>NaN</td>\n      <td>NaN</td>\n      <td>NaN</td>\n      <td>NaN</td>\n      <td>NaN</td>\n      <td>NaN</td>\n      <td>NaN</td>\n      <td>NaN</td>\n      <td>NaN</td>\n      <td>NaN</td>\n      <td>NaN</td>\n      <td>NaN</td>\n      <td>NaN</td>\n      <td>NaN</td>\n      <td>NaN</td>\n      <td>NaN</td>\n      <td>NaN</td>\n      <td>NaN</td>\n      <td>NaN</td>\n      <td>NaN</td>\n    </tr>\n    <tr>\n      <th>255652</th>\n      <td>Sint Maarten (Dutch part)</td>\n      <td>SXM</td>\n      <td>Agricultural land (% of land area)</td>\n      <td>AG.LND.AGRI.ZS</td>\n      <td>NaN</td>\n      <td>NaN</td>\n      <td>NaN</td>\n      <td>NaN</td>\n      <td>NaN</td>\n      <td>NaN</td>\n      <td>NaN</td>\n      <td>NaN</td>\n      <td>NaN</td>\n      <td>NaN</td>\n      <td>NaN</td>\n      <td>NaN</td>\n      <td>NaN</td>\n      <td>NaN</td>\n      <td>NaN</td>\n      <td>NaN</td>\n      <td>NaN</td>\n      <td>NaN</td>\n      <td>NaN</td>\n      <td>NaN</td>\n      <td>NaN</td>\n      <td>NaN</td>\n      <td>NaN</td>\n      <td>NaN</td>\n      <td>NaN</td>\n      <td>NaN</td>\n      <td>NaN</td>\n      <td>NaN</td>\n      <td>NaN</td>\n      <td>NaN</td>\n      <td>NaN</td>\n      <td>NaN</td>\n      <td>NaN</td>\n      <td>NaN</td>\n      <td>NaN</td>\n      <td>NaN</td>\n      <td>NaN</td>\n      <td>NaN</td>\n      <td>NaN</td>\n      <td>NaN</td>\n      <td>NaN</td>\n    </tr>\n    <tr>\n      <th>255653</th>\n      <td>Sint Maarten (Dutch part)</td>\n      <td>SXM</td>\n      <td>Agricultural land (sq. km)</td>\n      <td>AG.LND.AGRI.K2</td>\n      <td>NaN</td>\n      <td>NaN</td>\n      <td>NaN</td>\n      <td>NaN</td>\n      <td>NaN</td>\n      <td>NaN</td>\n      <td>NaN</td>\n      <td>NaN</td>\n      <td>NaN</td>\n      <td>NaN</td>\n      <td>NaN</td>\n      <td>NaN</td>\n      <td>NaN</td>\n      <td>NaN</td>\n      <td>NaN</td>\n      <td>NaN</td>\n      <td>NaN</td>\n      <td>NaN</td>\n      <td>NaN</td>\n      <td>NaN</td>\n      <td>NaN</td>\n      <td>NaN</td>\n      <td>NaN</td>\n      <td>NaN</td>\n      <td>NaN</td>\n      <td>NaN</td>\n      <td>NaN</td>\n      <td>NaN</td>\n      <td>NaN</td>\n      <td>NaN</td>\n      <td>NaN</td>\n      <td>NaN</td>\n      <td>NaN</td>\n      <td>NaN</td>\n      <td>NaN</td>\n      <td>NaN</td>\n      <td>NaN</td>\n      <td>NaN</td>\n      <td>NaN</td>\n      <td>NaN</td>\n      <td>NaN</td>\n    </tr>\n    <tr>\n      <th>255663</th>\n      <td>Sint Maarten (Dutch part)</td>\n      <td>SXM</td>\n      <td>Agriculture, forestry, and fishing, value adde...</td>\n      <td>NV.AGR.TOTL.KD.ZG</td>\n      <td>NaN</td>\n      <td>NaN</td>\n      <td>NaN</td>\n      <td>NaN</td>\n      <td>NaN</td>\n      <td>NaN</td>\n      <td>NaN</td>\n      <td>NaN</td>\n      <td>NaN</td>\n      <td>NaN</td>\n      <td>NaN</td>\n      <td>NaN</td>\n      <td>NaN</td>\n      <td>NaN</td>\n      <td>NaN</td>\n      <td>NaN</td>\n      <td>NaN</td>\n      <td>NaN</td>\n      <td>NaN</td>\n      <td>NaN</td>\n      <td>NaN</td>\n      <td>NaN</td>\n      <td>NaN</td>\n      <td>NaN</td>\n      <td>NaN</td>\n      <td>NaN</td>\n      <td>NaN</td>\n      <td>NaN</td>\n      <td>NaN</td>\n      <td>NaN</td>\n      <td>NaN</td>\n      <td>NaN</td>\n      <td>NaN</td>\n      <td>NaN</td>\n      <td>NaN</td>\n      <td>NaN</td>\n      <td>NaN</td>\n      <td>NaN</td>\n      <td>NaN</td>\n      <td>NaN</td>\n      <td>NaN</td>\n    </tr>\n    <tr>\n      <th>255682</th>\n      <td>Sint Maarten (Dutch part)</td>\n      <td>SXM</td>\n      <td>Aquaculture production (metric tons)</td>\n      <td>ER.FSH.AQUA.MT</td>\n      <td>NaN</td>\n      <td>NaN</td>\n      <td>NaN</td>\n      <td>NaN</td>\n      <td>NaN</td>\n      <td>NaN</td>\n      <td>NaN</td>\n      <td>NaN</td>\n      <td>NaN</td>\n      <td>NaN</td>\n      <td>NaN</td>\n      <td>NaN</td>\n      <td>NaN</td>\n      <td>NaN</td>\n      <td>NaN</td>\n      <td>NaN</td>\n      <td>NaN</td>\n      <td>NaN</td>\n      <td>NaN</td>\n      <td>NaN</td>\n      <td>NaN</td>\n      <td>NaN</td>\n      <td>NaN</td>\n      <td>NaN</td>\n      <td>NaN</td>\n      <td>NaN</td>\n      <td>NaN</td>\n      <td>NaN</td>\n      <td>NaN</td>\n      <td>NaN</td>\n      <td>NaN</td>\n      <td>NaN</td>\n      <td>NaN</td>\n      <td>NaN</td>\n      <td>NaN</td>\n      <td>NaN</td>\n      <td>NaN</td>\n      <td>NaN</td>\n      <td>NaN</td>\n      <td>NaN</td>\n      <td>NaN</td>\n    </tr>\n    <tr>\n      <th>256022</th>\n      <td>Sint Maarten (Dutch part)</td>\n      <td>SXM</td>\n      <td>Fertilizer consumption (kilograms per hectare ...</td>\n      <td>AG.CON.FERT.ZS</td>\n      <td>NaN</td>\n      <td>NaN</td>\n      <td>NaN</td>\n      <td>NaN</td>\n      <td>NaN</td>\n      <td>NaN</td>\n      <td>NaN</td>\n      <td>NaN</td>\n      <td>NaN</td>\n      <td>NaN</td>\n      <td>NaN</td>\n      <td>NaN</td>\n      <td>NaN</td>\n      <td>NaN</td>\n      <td>NaN</td>\n      <td>NaN</td>\n      <td>NaN</td>\n      <td>NaN</td>\n      <td>NaN</td>\n      <td>NaN</td>\n      <td>NaN</td>\n      <td>NaN</td>\n      <td>NaN</td>\n      <td>NaN</td>\n      <td>NaN</td>\n      <td>NaN</td>\n      <td>NaN</td>\n      <td>NaN</td>\n      <td>NaN</td>\n      <td>NaN</td>\n      <td>NaN</td>\n      <td>NaN</td>\n      <td>NaN</td>\n      <td>NaN</td>\n      <td>NaN</td>\n      <td>NaN</td>\n      <td>NaN</td>\n      <td>NaN</td>\n      <td>NaN</td>\n      <td>NaN</td>\n      <td>NaN</td>\n    </tr>\n    <tr>\n      <th>256978</th>\n      <td>Sint Maarten (Dutch part)</td>\n      <td>SXM</td>\n      <td>Total fisheries production (metric tons)</td>\n      <td>ER.FSH.PROD.MT</td>\n      <td>NaN</td>\n      <td>NaN</td>\n      <td>NaN</td>\n      <td>NaN</td>\n      <td>NaN</td>\n      <td>NaN</td>\n      <td>NaN</td>\n      <td>NaN</td>\n      <td>NaN</td>\n      <td>NaN</td>\n      <td>NaN</td>\n      <td>NaN</td>\n      <td>NaN</td>\n      <td>NaN</td>\n      <td>NaN</td>\n      <td>NaN</td>\n      <td>NaN</td>\n      <td>NaN</td>\n      <td>NaN</td>\n      <td>NaN</td>\n      <td>NaN</td>\n      <td>NaN</td>\n      <td>NaN</td>\n      <td>NaN</td>\n      <td>NaN</td>\n      <td>NaN</td>\n      <td>NaN</td>\n      <td>NaN</td>\n      <td>NaN</td>\n      <td>NaN</td>\n      <td>NaN</td>\n      <td>NaN</td>\n      <td>NaN</td>\n      <td>NaN</td>\n      <td>NaN</td>\n      <td>NaN</td>\n      <td>NaN</td>\n      <td>NaN</td>\n      <td>NaN</td>\n      <td>NaN</td>\n      <td>NaN</td>\n    </tr>\n    <tr>\n      <th>257826</th>\n      <td>Slovak Republic</td>\n      <td>SVK</td>\n      <td>Marine protected areas (% of territorial waters)</td>\n      <td>ER.MRN.PTMR.ZS</td>\n      <td>NaN</td>\n      <td>NaN</td>\n      <td>NaN</td>\n      <td>NaN</td>\n      <td>NaN</td>\n      <td>NaN</td>\n      <td>NaN</td>\n      <td>NaN</td>\n      <td>NaN</td>\n      <td>NaN</td>\n      <td>NaN</td>\n      <td>NaN</td>\n      <td>NaN</td>\n      <td>NaN</td>\n      <td>NaN</td>\n      <td>NaN</td>\n      <td>NaN</td>\n      <td>NaN</td>\n      <td>NaN</td>\n      <td>NaN</td>\n      <td>NaN</td>\n      <td>NaN</td>\n      <td>NaN</td>\n      <td>NaN</td>\n      <td>NaN</td>\n      <td>NaN</td>\n      <td>NaN</td>\n      <td>NaN</td>\n      <td>NaN</td>\n      <td>NaN</td>\n      <td>NaN</td>\n      <td>NaN</td>\n      <td>NaN</td>\n      <td>NaN</td>\n      <td>NaN</td>\n      <td>NaN</td>\n      <td>NaN</td>\n      <td>NaN</td>\n      <td>NaN</td>\n      <td>NaN</td>\n      <td>NaN</td>\n    </tr>\n    <tr>\n      <th>260109</th>\n      <td>Solomon Islands</td>\n      <td>SLB</td>\n      <td>Agricultural irrigated land (% of total agricu...</td>\n      <td>AG.LND.IRIG.AG.ZS</td>\n      <td>NaN</td>\n      <td>NaN</td>\n      <td>NaN</td>\n      <td>NaN</td>\n      <td>NaN</td>\n      <td>NaN</td>\n      <td>NaN</td>\n      <td>NaN</td>\n      <td>NaN</td>\n      <td>NaN</td>\n      <td>NaN</td>\n      <td>NaN</td>\n      <td>NaN</td>\n      <td>NaN</td>\n      <td>NaN</td>\n      <td>NaN</td>\n      <td>NaN</td>\n      <td>NaN</td>\n      <td>NaN</td>\n      <td>NaN</td>\n      <td>NaN</td>\n      <td>NaN</td>\n      <td>NaN</td>\n      <td>NaN</td>\n      <td>NaN</td>\n      <td>NaN</td>\n      <td>NaN</td>\n      <td>NaN</td>\n      <td>NaN</td>\n      <td>NaN</td>\n      <td>NaN</td>\n      <td>NaN</td>\n      <td>NaN</td>\n      <td>NaN</td>\n      <td>NaN</td>\n      <td>NaN</td>\n      <td>NaN</td>\n      <td>NaN</td>\n      <td>NaN</td>\n      <td>NaN</td>\n      <td>NaN</td>\n    </tr>\n    <tr>\n      <th>261595</th>\n      <td>Somalia</td>\n      <td>SOM</td>\n      <td>Agricultural irrigated land (% of total agricu...</td>\n      <td>AG.LND.IRIG.AG.ZS</td>\n      <td>NaN</td>\n      <td>NaN</td>\n      <td>NaN</td>\n      <td>NaN</td>\n      <td>NaN</td>\n      <td>NaN</td>\n      <td>NaN</td>\n      <td>NaN</td>\n      <td>NaN</td>\n      <td>NaN</td>\n      <td>NaN</td>\n      <td>NaN</td>\n      <td>NaN</td>\n      <td>NaN</td>\n      <td>NaN</td>\n      <td>NaN</td>\n      <td>NaN</td>\n      <td>NaN</td>\n      <td>NaN</td>\n      <td>NaN</td>\n      <td>NaN</td>\n      <td>NaN</td>\n      <td>NaN</td>\n      <td>NaN</td>\n      <td>NaN</td>\n      <td>NaN</td>\n      <td>NaN</td>\n      <td>NaN</td>\n      <td>NaN</td>\n      <td>NaN</td>\n      <td>NaN</td>\n      <td>NaN</td>\n      <td>NaN</td>\n      <td>NaN</td>\n      <td>NaN</td>\n      <td>NaN</td>\n      <td>NaN</td>\n      <td>NaN</td>\n      <td>NaN</td>\n      <td>NaN</td>\n      <td>NaN</td>\n    </tr>\n    <tr>\n      <th>261626</th>\n      <td>Somalia</td>\n      <td>SOM</td>\n      <td>Aquaculture production (metric tons)</td>\n      <td>ER.FSH.AQUA.MT</td>\n      <td>NaN</td>\n      <td>NaN</td>\n      <td>NaN</td>\n      <td>NaN</td>\n      <td>NaN</td>\n      <td>NaN</td>\n      <td>NaN</td>\n      <td>NaN</td>\n      <td>NaN</td>\n      <td>NaN</td>\n      <td>NaN</td>\n      <td>NaN</td>\n      <td>NaN</td>\n      <td>NaN</td>\n      <td>NaN</td>\n      <td>NaN</td>\n      <td>NaN</td>\n      <td>NaN</td>\n      <td>NaN</td>\n      <td>NaN</td>\n      <td>NaN</td>\n      <td>NaN</td>\n      <td>NaN</td>\n      <td>NaN</td>\n      <td>NaN</td>\n      <td>NaN</td>\n      <td>NaN</td>\n      <td>NaN</td>\n      <td>NaN</td>\n      <td>NaN</td>\n      <td>NaN</td>\n      <td>NaN</td>\n      <td>NaN</td>\n      <td>NaN</td>\n      <td>NaN</td>\n      <td>NaN</td>\n      <td>NaN</td>\n      <td>NaN</td>\n      <td>NaN</td>\n      <td>NaN</td>\n      <td>NaN</td>\n    </tr>\n    <tr>\n      <th>262197</th>\n      <td>Somalia</td>\n      <td>SOM</td>\n      <td>International tourism, number of arrivals</td>\n      <td>ST.INT.ARVL</td>\n      <td>NaN</td>\n      <td>NaN</td>\n      <td>NaN</td>\n      <td>NaN</td>\n      <td>NaN</td>\n      <td>NaN</td>\n      <td>NaN</td>\n      <td>NaN</td>\n      <td>NaN</td>\n      <td>NaN</td>\n      <td>NaN</td>\n      <td>NaN</td>\n      <td>NaN</td>\n      <td>NaN</td>\n      <td>NaN</td>\n      <td>NaN</td>\n      <td>NaN</td>\n      <td>NaN</td>\n      <td>NaN</td>\n      <td>NaN</td>\n      <td>NaN</td>\n      <td>NaN</td>\n      <td>NaN</td>\n      <td>NaN</td>\n      <td>NaN</td>\n      <td>NaN</td>\n      <td>NaN</td>\n      <td>NaN</td>\n      <td>NaN</td>\n      <td>NaN</td>\n      <td>NaN</td>\n      <td>NaN</td>\n      <td>NaN</td>\n      <td>NaN</td>\n      <td>NaN</td>\n      <td>NaN</td>\n      <td>NaN</td>\n      <td>NaN</td>\n      <td>NaN</td>\n      <td>NaN</td>\n      <td>NaN</td>\n    </tr>\n    <tr>\n      <th>262922</th>\n      <td>Somalia</td>\n      <td>SOM</td>\n      <td>Total fisheries production (metric tons)</td>\n      <td>ER.FSH.PROD.MT</td>\n      <td>NaN</td>\n      <td>NaN</td>\n      <td>NaN</td>\n      <td>NaN</td>\n      <td>NaN</td>\n      <td>NaN</td>\n      <td>NaN</td>\n      <td>NaN</td>\n      <td>NaN</td>\n      <td>NaN</td>\n      <td>NaN</td>\n      <td>NaN</td>\n      <td>NaN</td>\n      <td>NaN</td>\n      <td>NaN</td>\n      <td>NaN</td>\n      <td>NaN</td>\n      <td>NaN</td>\n      <td>NaN</td>\n      <td>NaN</td>\n      <td>NaN</td>\n      <td>NaN</td>\n      <td>NaN</td>\n      <td>NaN</td>\n      <td>NaN</td>\n      <td>NaN</td>\n      <td>NaN</td>\n      <td>NaN</td>\n      <td>NaN</td>\n      <td>NaN</td>\n      <td>NaN</td>\n      <td>NaN</td>\n      <td>NaN</td>\n      <td>NaN</td>\n      <td>NaN</td>\n      <td>NaN</td>\n      <td>NaN</td>\n      <td>NaN</td>\n      <td>NaN</td>\n      <td>NaN</td>\n      <td>NaN</td>\n    </tr>\n    <tr>\n      <th>264567</th>\n      <td>South Sudan</td>\n      <td>SSD</td>\n      <td>Agricultural irrigated land (% of total agricu...</td>\n      <td>AG.LND.IRIG.AG.ZS</td>\n      <td>NaN</td>\n      <td>NaN</td>\n      <td>NaN</td>\n      <td>NaN</td>\n      <td>NaN</td>\n      <td>NaN</td>\n      <td>NaN</td>\n      <td>NaN</td>\n      <td>NaN</td>\n      <td>NaN</td>\n      <td>NaN</td>\n      <td>NaN</td>\n      <td>NaN</td>\n      <td>NaN</td>\n      <td>NaN</td>\n      <td>NaN</td>\n      <td>NaN</td>\n      <td>NaN</td>\n      <td>NaN</td>\n      <td>NaN</td>\n      <td>NaN</td>\n      <td>NaN</td>\n      <td>NaN</td>\n      <td>NaN</td>\n      <td>NaN</td>\n      <td>NaN</td>\n      <td>NaN</td>\n      <td>NaN</td>\n      <td>NaN</td>\n      <td>NaN</td>\n      <td>NaN</td>\n      <td>NaN</td>\n      <td>NaN</td>\n      <td>NaN</td>\n      <td>NaN</td>\n      <td>NaN</td>\n      <td>NaN</td>\n      <td>NaN</td>\n      <td>NaN</td>\n      <td>NaN</td>\n      <td>NaN</td>\n    </tr>\n    <tr>\n      <th>265169</th>\n      <td>South Sudan</td>\n      <td>SSD</td>\n      <td>International tourism, number of arrivals</td>\n      <td>ST.INT.ARVL</td>\n      <td>NaN</td>\n      <td>NaN</td>\n      <td>NaN</td>\n      <td>NaN</td>\n      <td>NaN</td>\n      <td>NaN</td>\n      <td>NaN</td>\n      <td>NaN</td>\n      <td>NaN</td>\n      <td>NaN</td>\n      <td>NaN</td>\n      <td>NaN</td>\n      <td>NaN</td>\n      <td>NaN</td>\n      <td>NaN</td>\n      <td>NaN</td>\n      <td>NaN</td>\n      <td>NaN</td>\n      <td>NaN</td>\n      <td>NaN</td>\n      <td>NaN</td>\n      <td>NaN</td>\n      <td>NaN</td>\n      <td>NaN</td>\n      <td>NaN</td>\n      <td>NaN</td>\n      <td>NaN</td>\n      <td>NaN</td>\n      <td>NaN</td>\n      <td>NaN</td>\n      <td>NaN</td>\n      <td>NaN</td>\n      <td>NaN</td>\n      <td>NaN</td>\n      <td>NaN</td>\n      <td>NaN</td>\n      <td>NaN</td>\n      <td>NaN</td>\n      <td>NaN</td>\n      <td>NaN</td>\n      <td>NaN</td>\n    </tr>\n    <tr>\n      <th>265256</th>\n      <td>South Sudan</td>\n      <td>SSD</td>\n      <td>Marine protected areas (% of territorial waters)</td>\n      <td>ER.MRN.PTMR.ZS</td>\n      <td>NaN</td>\n      <td>NaN</td>\n      <td>NaN</td>\n      <td>NaN</td>\n      <td>NaN</td>\n      <td>NaN</td>\n      <td>NaN</td>\n      <td>NaN</td>\n      <td>NaN</td>\n      <td>NaN</td>\n      <td>NaN</td>\n      <td>NaN</td>\n      <td>NaN</td>\n      <td>NaN</td>\n      <td>NaN</td>\n      <td>NaN</td>\n      <td>NaN</td>\n      <td>NaN</td>\n      <td>NaN</td>\n      <td>NaN</td>\n      <td>NaN</td>\n      <td>NaN</td>\n      <td>NaN</td>\n      <td>NaN</td>\n      <td>NaN</td>\n      <td>NaN</td>\n      <td>NaN</td>\n      <td>NaN</td>\n      <td>NaN</td>\n      <td>NaN</td>\n      <td>NaN</td>\n      <td>NaN</td>\n      <td>NaN</td>\n      <td>NaN</td>\n      <td>NaN</td>\n      <td>NaN</td>\n      <td>NaN</td>\n      <td>NaN</td>\n      <td>NaN</td>\n      <td>NaN</td>\n      <td>NaN</td>\n    </tr>\n    <tr>\n      <th>267539</th>\n      <td>Sri Lanka</td>\n      <td>LKA</td>\n      <td>Agricultural irrigated land (% of total agricu...</td>\n      <td>AG.LND.IRIG.AG.ZS</td>\n      <td>NaN</td>\n      <td>NaN</td>\n      <td>NaN</td>\n      <td>NaN</td>\n      <td>NaN</td>\n      <td>NaN</td>\n      <td>NaN</td>\n      <td>NaN</td>\n      <td>NaN</td>\n      <td>NaN</td>\n      <td>NaN</td>\n      <td>NaN</td>\n      <td>NaN</td>\n      <td>NaN</td>\n      <td>NaN</td>\n      <td>NaN</td>\n      <td>NaN</td>\n      <td>NaN</td>\n      <td>NaN</td>\n      <td>NaN</td>\n      <td>NaN</td>\n      <td>NaN</td>\n      <td>NaN</td>\n      <td>NaN</td>\n      <td>NaN</td>\n      <td>NaN</td>\n      <td>NaN</td>\n      <td>NaN</td>\n      <td>NaN</td>\n      <td>NaN</td>\n      <td>NaN</td>\n      <td>NaN</td>\n      <td>NaN</td>\n      <td>NaN</td>\n      <td>NaN</td>\n      <td>NaN</td>\n      <td>NaN</td>\n      <td>NaN</td>\n      <td>NaN</td>\n      <td>NaN</td>\n      <td>NaN</td>\n    </tr>\n    <tr>\n      <th>269025</th>\n      <td>St. Kitts and Nevis</td>\n      <td>KNA</td>\n      <td>Agricultural irrigated land (% of total agricu...</td>\n      <td>AG.LND.IRIG.AG.ZS</td>\n      <td>NaN</td>\n      <td>NaN</td>\n      <td>NaN</td>\n      <td>NaN</td>\n      <td>NaN</td>\n      <td>NaN</td>\n      <td>NaN</td>\n      <td>NaN</td>\n      <td>NaN</td>\n      <td>NaN</td>\n      <td>NaN</td>\n      <td>NaN</td>\n      <td>NaN</td>\n      <td>NaN</td>\n      <td>NaN</td>\n      <td>NaN</td>\n      <td>NaN</td>\n      <td>NaN</td>\n      <td>NaN</td>\n      <td>NaN</td>\n      <td>NaN</td>\n      <td>NaN</td>\n      <td>NaN</td>\n      <td>NaN</td>\n      <td>NaN</td>\n      <td>NaN</td>\n      <td>NaN</td>\n      <td>NaN</td>\n      <td>NaN</td>\n      <td>NaN</td>\n      <td>NaN</td>\n      <td>NaN</td>\n      <td>NaN</td>\n      <td>NaN</td>\n      <td>NaN</td>\n      <td>NaN</td>\n      <td>NaN</td>\n      <td>NaN</td>\n      <td>NaN</td>\n      <td>NaN</td>\n      <td>NaN</td>\n    </tr>\n    <tr>\n      <th>270511</th>\n      <td>St. Lucia</td>\n      <td>LCA</td>\n      <td>Agricultural irrigated land (% of total agricu...</td>\n      <td>AG.LND.IRIG.AG.ZS</td>\n      <td>NaN</td>\n      <td>NaN</td>\n      <td>NaN</td>\n      <td>NaN</td>\n      <td>NaN</td>\n      <td>NaN</td>\n      <td>NaN</td>\n      <td>NaN</td>\n      <td>NaN</td>\n      <td>NaN</td>\n      <td>NaN</td>\n      <td>NaN</td>\n      <td>NaN</td>\n      <td>NaN</td>\n      <td>NaN</td>\n      <td>NaN</td>\n      <td>NaN</td>\n      <td>NaN</td>\n      <td>NaN</td>\n      <td>NaN</td>\n      <td>NaN</td>\n      <td>NaN</td>\n      <td>NaN</td>\n      <td>NaN</td>\n      <td>NaN</td>\n      <td>NaN</td>\n      <td>NaN</td>\n      <td>NaN</td>\n      <td>NaN</td>\n      <td>NaN</td>\n      <td>NaN</td>\n      <td>NaN</td>\n      <td>NaN</td>\n      <td>NaN</td>\n      <td>NaN</td>\n      <td>NaN</td>\n      <td>NaN</td>\n      <td>NaN</td>\n      <td>NaN</td>\n      <td>NaN</td>\n      <td>NaN</td>\n    </tr>\n    <tr>\n      <th>271997</th>\n      <td>St. Martin (French part)</td>\n      <td>MAF</td>\n      <td>Agricultural irrigated land (% of total agricu...</td>\n      <td>AG.LND.IRIG.AG.ZS</td>\n      <td>NaN</td>\n      <td>NaN</td>\n      <td>NaN</td>\n      <td>NaN</td>\n      <td>NaN</td>\n      <td>NaN</td>\n      <td>NaN</td>\n      <td>NaN</td>\n      <td>NaN</td>\n      <td>NaN</td>\n      <td>NaN</td>\n      <td>NaN</td>\n      <td>NaN</td>\n      <td>NaN</td>\n      <td>NaN</td>\n      <td>NaN</td>\n      <td>NaN</td>\n      <td>NaN</td>\n      <td>NaN</td>\n      <td>NaN</td>\n      <td>NaN</td>\n      <td>NaN</td>\n      <td>NaN</td>\n      <td>NaN</td>\n      <td>NaN</td>\n      <td>NaN</td>\n      <td>NaN</td>\n      <td>NaN</td>\n      <td>NaN</td>\n      <td>NaN</td>\n      <td>NaN</td>\n      <td>NaN</td>\n      <td>NaN</td>\n      <td>NaN</td>\n      <td>NaN</td>\n      <td>NaN</td>\n      <td>NaN</td>\n      <td>NaN</td>\n      <td>NaN</td>\n      <td>NaN</td>\n      <td>NaN</td>\n    </tr>\n    <tr>\n      <th>271998</th>\n      <td>St. Martin (French part)</td>\n      <td>MAF</td>\n      <td>Agricultural land (% of land area)</td>\n      <td>AG.LND.AGRI.ZS</td>\n      <td>NaN</td>\n      <td>NaN</td>\n      <td>NaN</td>\n      <td>NaN</td>\n      <td>NaN</td>\n      <td>NaN</td>\n      <td>NaN</td>\n      <td>NaN</td>\n      <td>NaN</td>\n      <td>NaN</td>\n      <td>NaN</td>\n      <td>NaN</td>\n      <td>NaN</td>\n      <td>NaN</td>\n      <td>NaN</td>\n      <td>NaN</td>\n      <td>NaN</td>\n      <td>NaN</td>\n      <td>NaN</td>\n      <td>NaN</td>\n      <td>NaN</td>\n      <td>NaN</td>\n      <td>NaN</td>\n      <td>NaN</td>\n      <td>NaN</td>\n      <td>NaN</td>\n      <td>NaN</td>\n      <td>NaN</td>\n      <td>NaN</td>\n      <td>NaN</td>\n      <td>NaN</td>\n      <td>NaN</td>\n      <td>NaN</td>\n      <td>NaN</td>\n      <td>NaN</td>\n      <td>NaN</td>\n      <td>NaN</td>\n      <td>NaN</td>\n      <td>NaN</td>\n      <td>NaN</td>\n      <td>NaN</td>\n    </tr>\n    <tr>\n      <th>271999</th>\n      <td>St. Martin (French part)</td>\n      <td>MAF</td>\n      <td>Agricultural land (sq. km)</td>\n      <td>AG.LND.AGRI.K2</td>\n      <td>NaN</td>\n      <td>NaN</td>\n      <td>NaN</td>\n      <td>NaN</td>\n      <td>NaN</td>\n      <td>NaN</td>\n      <td>NaN</td>\n      <td>NaN</td>\n      <td>NaN</td>\n      <td>NaN</td>\n      <td>NaN</td>\n      <td>NaN</td>\n      <td>NaN</td>\n      <td>NaN</td>\n      <td>NaN</td>\n      <td>NaN</td>\n      <td>NaN</td>\n      <td>NaN</td>\n      <td>NaN</td>\n      <td>NaN</td>\n      <td>NaN</td>\n      <td>NaN</td>\n      <td>NaN</td>\n      <td>NaN</td>\n      <td>NaN</td>\n      <td>NaN</td>\n      <td>NaN</td>\n      <td>NaN</td>\n      <td>NaN</td>\n      <td>NaN</td>\n      <td>NaN</td>\n      <td>NaN</td>\n      <td>NaN</td>\n      <td>NaN</td>\n      <td>NaN</td>\n      <td>NaN</td>\n      <td>NaN</td>\n      <td>NaN</td>\n      <td>NaN</td>\n      <td>NaN</td>\n      <td>NaN</td>\n    </tr>\n    <tr>\n      <th>272008</th>\n      <td>St. Martin (French part)</td>\n      <td>MAF</td>\n      <td>Agriculture, forestry, and fishing, value adde...</td>\n      <td>NV.AGR.TOTL.ZS</td>\n      <td>NaN</td>\n      <td>NaN</td>\n      <td>NaN</td>\n      <td>NaN</td>\n      <td>NaN</td>\n      <td>NaN</td>\n      <td>NaN</td>\n      <td>NaN</td>\n      <td>NaN</td>\n      <td>NaN</td>\n      <td>NaN</td>\n      <td>NaN</td>\n      <td>NaN</td>\n      <td>NaN</td>\n      <td>NaN</td>\n      <td>NaN</td>\n      <td>NaN</td>\n      <td>NaN</td>\n      <td>NaN</td>\n      <td>NaN</td>\n      <td>NaN</td>\n      <td>NaN</td>\n      <td>NaN</td>\n      <td>NaN</td>\n      <td>NaN</td>\n      <td>NaN</td>\n      <td>NaN</td>\n      <td>NaN</td>\n      <td>NaN</td>\n      <td>NaN</td>\n      <td>NaN</td>\n      <td>NaN</td>\n      <td>NaN</td>\n      <td>NaN</td>\n      <td>NaN</td>\n      <td>NaN</td>\n      <td>NaN</td>\n      <td>NaN</td>\n      <td>NaN</td>\n      <td>NaN</td>\n      <td>NaN</td>\n    </tr>\n    <tr>\n      <th>272009</th>\n      <td>St. Martin (French part)</td>\n      <td>MAF</td>\n      <td>Agriculture, forestry, and fishing, value adde...</td>\n      <td>NV.AGR.TOTL.KD.ZG</td>\n      <td>NaN</td>\n      <td>NaN</td>\n      <td>NaN</td>\n      <td>NaN</td>\n      <td>NaN</td>\n      <td>NaN</td>\n      <td>NaN</td>\n      <td>NaN</td>\n      <td>NaN</td>\n      <td>NaN</td>\n      <td>NaN</td>\n      <td>NaN</td>\n      <td>NaN</td>\n      <td>NaN</td>\n      <td>NaN</td>\n      <td>NaN</td>\n      <td>NaN</td>\n      <td>NaN</td>\n      <td>NaN</td>\n      <td>NaN</td>\n      <td>NaN</td>\n      <td>NaN</td>\n      <td>NaN</td>\n      <td>NaN</td>\n      <td>NaN</td>\n      <td>NaN</td>\n      <td>NaN</td>\n      <td>NaN</td>\n      <td>NaN</td>\n      <td>NaN</td>\n      <td>NaN</td>\n      <td>NaN</td>\n      <td>NaN</td>\n      <td>NaN</td>\n      <td>NaN</td>\n      <td>NaN</td>\n      <td>NaN</td>\n      <td>NaN</td>\n      <td>NaN</td>\n      <td>NaN</td>\n      <td>NaN</td>\n    </tr>\n    <tr>\n      <th>272013</th>\n      <td>St. Martin (French part)</td>\n      <td>MAF</td>\n      <td>Agriculture, forestry, and fishing, value adde...</td>\n      <td>NV.AGR.TOTL.CD</td>\n      <td>NaN</td>\n      <td>NaN</td>\n      <td>NaN</td>\n      <td>NaN</td>\n      <td>NaN</td>\n      <td>NaN</td>\n      <td>NaN</td>\n      <td>NaN</td>\n      <td>NaN</td>\n      <td>NaN</td>\n      <td>NaN</td>\n      <td>NaN</td>\n      <td>NaN</td>\n      <td>NaN</td>\n      <td>NaN</td>\n      <td>NaN</td>\n      <td>NaN</td>\n      <td>NaN</td>\n      <td>NaN</td>\n      <td>NaN</td>\n      <td>NaN</td>\n      <td>NaN</td>\n      <td>NaN</td>\n      <td>NaN</td>\n      <td>NaN</td>\n      <td>NaN</td>\n      <td>NaN</td>\n      <td>NaN</td>\n      <td>NaN</td>\n      <td>NaN</td>\n      <td>NaN</td>\n      <td>NaN</td>\n      <td>NaN</td>\n      <td>NaN</td>\n      <td>NaN</td>\n      <td>NaN</td>\n      <td>NaN</td>\n      <td>NaN</td>\n      <td>NaN</td>\n      <td>NaN</td>\n      <td>NaN</td>\n    </tr>\n    <tr>\n      <th>272028</th>\n      <td>St. Martin (French part)</td>\n      <td>MAF</td>\n      <td>Aquaculture production (metric tons)</td>\n      <td>ER.FSH.AQUA.MT</td>\n      <td>NaN</td>\n      <td>NaN</td>\n      <td>NaN</td>\n      <td>NaN</td>\n      <td>NaN</td>\n      <td>NaN</td>\n      <td>NaN</td>\n      <td>NaN</td>\n      <td>NaN</td>\n      <td>NaN</td>\n      <td>NaN</td>\n      <td>NaN</td>\n      <td>NaN</td>\n      <td>NaN</td>\n      <td>NaN</td>\n      <td>NaN</td>\n      <td>NaN</td>\n      <td>NaN</td>\n      <td>NaN</td>\n      <td>NaN</td>\n      <td>NaN</td>\n      <td>NaN</td>\n      <td>NaN</td>\n      <td>NaN</td>\n      <td>NaN</td>\n      <td>NaN</td>\n      <td>NaN</td>\n      <td>NaN</td>\n      <td>NaN</td>\n      <td>NaN</td>\n      <td>NaN</td>\n      <td>NaN</td>\n      <td>NaN</td>\n      <td>NaN</td>\n      <td>NaN</td>\n      <td>NaN</td>\n      <td>NaN</td>\n      <td>NaN</td>\n      <td>NaN</td>\n      <td>NaN</td>\n      <td>NaN</td>\n    </tr>\n    <tr>\n      <th>272368</th>\n      <td>St. Martin (French part)</td>\n      <td>MAF</td>\n      <td>Fertilizer consumption (kilograms per hectare ...</td>\n      <td>AG.CON.FERT.ZS</td>\n      <td>NaN</td>\n      <td>NaN</td>\n      <td>NaN</td>\n      <td>NaN</td>\n      <td>NaN</td>\n      <td>NaN</td>\n      <td>NaN</td>\n      <td>NaN</td>\n      <td>NaN</td>\n      <td>NaN</td>\n      <td>NaN</td>\n      <td>NaN</td>\n      <td>NaN</td>\n      <td>NaN</td>\n      <td>NaN</td>\n      <td>NaN</td>\n      <td>NaN</td>\n      <td>NaN</td>\n      <td>NaN</td>\n      <td>NaN</td>\n      <td>NaN</td>\n      <td>NaN</td>\n      <td>NaN</td>\n      <td>NaN</td>\n      <td>NaN</td>\n      <td>NaN</td>\n      <td>NaN</td>\n      <td>NaN</td>\n      <td>NaN</td>\n      <td>NaN</td>\n      <td>NaN</td>\n      <td>NaN</td>\n      <td>NaN</td>\n      <td>NaN</td>\n      <td>NaN</td>\n      <td>NaN</td>\n      <td>NaN</td>\n      <td>NaN</td>\n      <td>NaN</td>\n      <td>NaN</td>\n      <td>NaN</td>\n    </tr>\n    <tr>\n      <th>272599</th>\n      <td>St. Martin (French part)</td>\n      <td>MAF</td>\n      <td>International tourism, number of arrivals</td>\n      <td>ST.INT.ARVL</td>\n      <td>NaN</td>\n      <td>NaN</td>\n      <td>NaN</td>\n      <td>NaN</td>\n      <td>NaN</td>\n      <td>NaN</td>\n      <td>NaN</td>\n      <td>NaN</td>\n      <td>NaN</td>\n      <td>NaN</td>\n      <td>NaN</td>\n      <td>NaN</td>\n      <td>NaN</td>\n      <td>NaN</td>\n      <td>NaN</td>\n      <td>NaN</td>\n      <td>NaN</td>\n      <td>NaN</td>\n      <td>NaN</td>\n      <td>NaN</td>\n      <td>NaN</td>\n      <td>NaN</td>\n      <td>NaN</td>\n      <td>NaN</td>\n      <td>NaN</td>\n      <td>NaN</td>\n      <td>NaN</td>\n      <td>NaN</td>\n      <td>NaN</td>\n      <td>NaN</td>\n      <td>NaN</td>\n      <td>NaN</td>\n      <td>NaN</td>\n      <td>NaN</td>\n      <td>NaN</td>\n      <td>NaN</td>\n      <td>NaN</td>\n      <td>NaN</td>\n      <td>NaN</td>\n      <td>NaN</td>\n      <td>NaN</td>\n    </tr>\n    <tr>\n      <th>273324</th>\n      <td>St. Martin (French part)</td>\n      <td>MAF</td>\n      <td>Total fisheries production (metric tons)</td>\n      <td>ER.FSH.PROD.MT</td>\n      <td>NaN</td>\n      <td>NaN</td>\n      <td>NaN</td>\n      <td>NaN</td>\n      <td>NaN</td>\n      <td>NaN</td>\n      <td>NaN</td>\n      <td>NaN</td>\n      <td>NaN</td>\n      <td>NaN</td>\n      <td>NaN</td>\n      <td>NaN</td>\n      <td>NaN</td>\n      <td>NaN</td>\n      <td>NaN</td>\n      <td>NaN</td>\n      <td>NaN</td>\n      <td>NaN</td>\n      <td>NaN</td>\n      <td>NaN</td>\n      <td>NaN</td>\n      <td>NaN</td>\n      <td>NaN</td>\n      <td>NaN</td>\n      <td>NaN</td>\n      <td>NaN</td>\n      <td>NaN</td>\n      <td>NaN</td>\n      <td>NaN</td>\n      <td>NaN</td>\n      <td>NaN</td>\n      <td>NaN</td>\n      <td>NaN</td>\n      <td>NaN</td>\n      <td>NaN</td>\n      <td>NaN</td>\n      <td>NaN</td>\n      <td>NaN</td>\n      <td>NaN</td>\n      <td>NaN</td>\n      <td>NaN</td>\n    </tr>\n    <tr>\n      <th>273483</th>\n      <td>St. Vincent and the Grenadines</td>\n      <td>VCT</td>\n      <td>Agricultural irrigated land (% of total agricu...</td>\n      <td>AG.LND.IRIG.AG.ZS</td>\n      <td>NaN</td>\n      <td>NaN</td>\n      <td>NaN</td>\n      <td>NaN</td>\n      <td>NaN</td>\n      <td>NaN</td>\n      <td>NaN</td>\n      <td>NaN</td>\n      <td>NaN</td>\n      <td>NaN</td>\n      <td>NaN</td>\n      <td>NaN</td>\n      <td>NaN</td>\n      <td>NaN</td>\n      <td>NaN</td>\n      <td>NaN</td>\n      <td>NaN</td>\n      <td>NaN</td>\n      <td>NaN</td>\n      <td>NaN</td>\n      <td>NaN</td>\n      <td>NaN</td>\n      <td>NaN</td>\n      <td>NaN</td>\n      <td>NaN</td>\n      <td>NaN</td>\n      <td>NaN</td>\n      <td>NaN</td>\n      <td>NaN</td>\n      <td>NaN</td>\n      <td>NaN</td>\n      <td>NaN</td>\n      <td>NaN</td>\n      <td>NaN</td>\n      <td>NaN</td>\n      <td>NaN</td>\n      <td>NaN</td>\n      <td>NaN</td>\n      <td>NaN</td>\n      <td>NaN</td>\n      <td>NaN</td>\n    </tr>\n    <tr>\n      <th>280116</th>\n      <td>Switzerland</td>\n      <td>CHE</td>\n      <td>Marine protected areas (% of territorial waters)</td>\n      <td>ER.MRN.PTMR.ZS</td>\n      <td>NaN</td>\n      <td>NaN</td>\n      <td>NaN</td>\n      <td>NaN</td>\n      <td>NaN</td>\n      <td>NaN</td>\n      <td>NaN</td>\n      <td>NaN</td>\n      <td>NaN</td>\n      <td>NaN</td>\n      <td>NaN</td>\n      <td>NaN</td>\n      <td>NaN</td>\n      <td>NaN</td>\n      <td>NaN</td>\n      <td>NaN</td>\n      <td>NaN</td>\n      <td>NaN</td>\n      <td>NaN</td>\n      <td>NaN</td>\n      <td>NaN</td>\n      <td>NaN</td>\n      <td>NaN</td>\n      <td>NaN</td>\n      <td>NaN</td>\n      <td>NaN</td>\n      <td>NaN</td>\n      <td>NaN</td>\n      <td>NaN</td>\n      <td>NaN</td>\n      <td>NaN</td>\n      <td>NaN</td>\n      <td>NaN</td>\n      <td>NaN</td>\n      <td>NaN</td>\n      <td>NaN</td>\n      <td>NaN</td>\n      <td>NaN</td>\n      <td>NaN</td>\n      <td>NaN</td>\n      <td>NaN</td>\n    </tr>\n    <tr>\n      <th>283088</th>\n      <td>Tajikistan</td>\n      <td>TJK</td>\n      <td>Marine protected areas (% of territorial waters)</td>\n      <td>ER.MRN.PTMR.ZS</td>\n      <td>NaN</td>\n      <td>NaN</td>\n      <td>NaN</td>\n      <td>NaN</td>\n      <td>NaN</td>\n      <td>NaN</td>\n      <td>NaN</td>\n      <td>NaN</td>\n      <td>NaN</td>\n      <td>NaN</td>\n      <td>NaN</td>\n      <td>NaN</td>\n      <td>NaN</td>\n      <td>NaN</td>\n      <td>NaN</td>\n      <td>NaN</td>\n      <td>NaN</td>\n      <td>NaN</td>\n      <td>NaN</td>\n      <td>NaN</td>\n      <td>NaN</td>\n      <td>NaN</td>\n      <td>NaN</td>\n      <td>NaN</td>\n      <td>NaN</td>\n      <td>NaN</td>\n      <td>NaN</td>\n      <td>NaN</td>\n      <td>NaN</td>\n      <td>NaN</td>\n      <td>NaN</td>\n      <td>NaN</td>\n      <td>NaN</td>\n      <td>NaN</td>\n      <td>NaN</td>\n      <td>NaN</td>\n      <td>NaN</td>\n      <td>NaN</td>\n      <td>NaN</td>\n      <td>NaN</td>\n      <td>NaN</td>\n    </tr>\n    <tr>\n      <th>283885</th>\n      <td>Tanzania</td>\n      <td>TZA</td>\n      <td>Agricultural irrigated land (% of total agricu...</td>\n      <td>AG.LND.IRIG.AG.ZS</td>\n      <td>NaN</td>\n      <td>NaN</td>\n      <td>NaN</td>\n      <td>NaN</td>\n      <td>NaN</td>\n      <td>NaN</td>\n      <td>NaN</td>\n      <td>NaN</td>\n      <td>NaN</td>\n      <td>NaN</td>\n      <td>NaN</td>\n      <td>NaN</td>\n      <td>NaN</td>\n      <td>NaN</td>\n      <td>NaN</td>\n      <td>NaN</td>\n      <td>NaN</td>\n      <td>NaN</td>\n      <td>NaN</td>\n      <td>NaN</td>\n      <td>NaN</td>\n      <td>NaN</td>\n      <td>NaN</td>\n      <td>NaN</td>\n      <td>NaN</td>\n      <td>NaN</td>\n      <td>NaN</td>\n      <td>NaN</td>\n      <td>NaN</td>\n      <td>NaN</td>\n      <td>NaN</td>\n      <td>NaN</td>\n      <td>NaN</td>\n      <td>NaN</td>\n      <td>NaN</td>\n      <td>NaN</td>\n      <td>NaN</td>\n      <td>NaN</td>\n      <td>NaN</td>\n      <td>NaN</td>\n      <td>NaN</td>\n    </tr>\n    <tr>\n      <th>285371</th>\n      <td>Thailand</td>\n      <td>THA</td>\n      <td>Agricultural irrigated land (% of total agricu...</td>\n      <td>AG.LND.IRIG.AG.ZS</td>\n      <td>NaN</td>\n      <td>NaN</td>\n      <td>NaN</td>\n      <td>NaN</td>\n      <td>NaN</td>\n      <td>NaN</td>\n      <td>NaN</td>\n      <td>NaN</td>\n      <td>NaN</td>\n      <td>NaN</td>\n      <td>NaN</td>\n      <td>NaN</td>\n      <td>NaN</td>\n      <td>NaN</td>\n      <td>NaN</td>\n      <td>NaN</td>\n      <td>NaN</td>\n      <td>NaN</td>\n      <td>NaN</td>\n      <td>NaN</td>\n      <td>NaN</td>\n      <td>NaN</td>\n      <td>NaN</td>\n      <td>NaN</td>\n      <td>NaN</td>\n      <td>NaN</td>\n      <td>NaN</td>\n      <td>NaN</td>\n      <td>NaN</td>\n      <td>NaN</td>\n      <td>NaN</td>\n      <td>NaN</td>\n      <td>NaN</td>\n      <td>NaN</td>\n      <td>NaN</td>\n      <td>NaN</td>\n      <td>NaN</td>\n      <td>NaN</td>\n      <td>NaN</td>\n      <td>NaN</td>\n      <td>NaN</td>\n    </tr>\n    <tr>\n      <th>288343</th>\n      <td>Togo</td>\n      <td>TGO</td>\n      <td>Agricultural irrigated land (% of total agricu...</td>\n      <td>AG.LND.IRIG.AG.ZS</td>\n      <td>NaN</td>\n      <td>NaN</td>\n      <td>NaN</td>\n      <td>NaN</td>\n      <td>NaN</td>\n      <td>NaN</td>\n      <td>NaN</td>\n      <td>NaN</td>\n      <td>NaN</td>\n      <td>NaN</td>\n      <td>NaN</td>\n      <td>NaN</td>\n      <td>NaN</td>\n      <td>NaN</td>\n      <td>NaN</td>\n      <td>NaN</td>\n      <td>NaN</td>\n      <td>NaN</td>\n      <td>NaN</td>\n      <td>NaN</td>\n      <td>NaN</td>\n      <td>NaN</td>\n      <td>NaN</td>\n      <td>NaN</td>\n      <td>NaN</td>\n      <td>NaN</td>\n      <td>NaN</td>\n      <td>NaN</td>\n      <td>NaN</td>\n      <td>NaN</td>\n      <td>NaN</td>\n      <td>NaN</td>\n      <td>NaN</td>\n      <td>NaN</td>\n      <td>NaN</td>\n      <td>NaN</td>\n      <td>NaN</td>\n      <td>NaN</td>\n      <td>NaN</td>\n      <td>NaN</td>\n      <td>NaN</td>\n    </tr>\n    <tr>\n      <th>289829</th>\n      <td>Tonga</td>\n      <td>TON</td>\n      <td>Agricultural irrigated land (% of total agricu...</td>\n      <td>AG.LND.IRIG.AG.ZS</td>\n      <td>NaN</td>\n      <td>NaN</td>\n      <td>NaN</td>\n      <td>NaN</td>\n      <td>NaN</td>\n      <td>NaN</td>\n      <td>NaN</td>\n      <td>NaN</td>\n      <td>NaN</td>\n      <td>NaN</td>\n      <td>NaN</td>\n      <td>NaN</td>\n      <td>NaN</td>\n      <td>NaN</td>\n      <td>NaN</td>\n      <td>NaN</td>\n      <td>NaN</td>\n      <td>NaN</td>\n      <td>NaN</td>\n      <td>NaN</td>\n      <td>NaN</td>\n      <td>NaN</td>\n      <td>NaN</td>\n      <td>NaN</td>\n      <td>NaN</td>\n      <td>NaN</td>\n      <td>NaN</td>\n      <td>NaN</td>\n      <td>NaN</td>\n      <td>NaN</td>\n      <td>NaN</td>\n      <td>NaN</td>\n      <td>NaN</td>\n      <td>NaN</td>\n      <td>NaN</td>\n      <td>NaN</td>\n      <td>NaN</td>\n      <td>NaN</td>\n      <td>NaN</td>\n      <td>NaN</td>\n      <td>NaN</td>\n    </tr>\n    <tr>\n      <th>295773</th>\n      <td>Turkmenistan</td>\n      <td>TKM</td>\n      <td>Agricultural irrigated land (% of total agricu...</td>\n      <td>AG.LND.IRIG.AG.ZS</td>\n      <td>NaN</td>\n      <td>NaN</td>\n      <td>NaN</td>\n      <td>NaN</td>\n      <td>NaN</td>\n      <td>NaN</td>\n      <td>NaN</td>\n      <td>NaN</td>\n      <td>NaN</td>\n      <td>NaN</td>\n      <td>NaN</td>\n      <td>NaN</td>\n      <td>NaN</td>\n      <td>NaN</td>\n      <td>NaN</td>\n      <td>NaN</td>\n      <td>NaN</td>\n      <td>NaN</td>\n      <td>NaN</td>\n      <td>NaN</td>\n      <td>NaN</td>\n      <td>NaN</td>\n      <td>NaN</td>\n      <td>NaN</td>\n      <td>NaN</td>\n      <td>NaN</td>\n      <td>NaN</td>\n      <td>NaN</td>\n      <td>NaN</td>\n      <td>NaN</td>\n      <td>NaN</td>\n      <td>NaN</td>\n      <td>NaN</td>\n      <td>NaN</td>\n      <td>NaN</td>\n      <td>NaN</td>\n      <td>NaN</td>\n      <td>NaN</td>\n      <td>NaN</td>\n      <td>NaN</td>\n      <td>NaN</td>\n    </tr>\n    <tr>\n      <th>297259</th>\n      <td>Turks and Caicos Islands</td>\n      <td>TCA</td>\n      <td>Agricultural irrigated land (% of total agricu...</td>\n      <td>AG.LND.IRIG.AG.ZS</td>\n      <td>NaN</td>\n      <td>NaN</td>\n      <td>NaN</td>\n      <td>NaN</td>\n      <td>NaN</td>\n      <td>NaN</td>\n      <td>NaN</td>\n      <td>NaN</td>\n      <td>NaN</td>\n      <td>NaN</td>\n      <td>NaN</td>\n      <td>NaN</td>\n      <td>NaN</td>\n      <td>NaN</td>\n      <td>NaN</td>\n      <td>NaN</td>\n      <td>NaN</td>\n      <td>NaN</td>\n      <td>NaN</td>\n      <td>NaN</td>\n      <td>NaN</td>\n      <td>NaN</td>\n      <td>NaN</td>\n      <td>NaN</td>\n      <td>NaN</td>\n      <td>NaN</td>\n      <td>NaN</td>\n      <td>NaN</td>\n      <td>NaN</td>\n      <td>NaN</td>\n      <td>NaN</td>\n      <td>NaN</td>\n      <td>NaN</td>\n      <td>NaN</td>\n      <td>NaN</td>\n      <td>NaN</td>\n      <td>NaN</td>\n      <td>NaN</td>\n      <td>NaN</td>\n      <td>NaN</td>\n      <td>NaN</td>\n    </tr>\n    <tr>\n      <th>297630</th>\n      <td>Turks and Caicos Islands</td>\n      <td>TCA</td>\n      <td>Fertilizer consumption (kilograms per hectare ...</td>\n      <td>AG.CON.FERT.ZS</td>\n      <td>NaN</td>\n      <td>NaN</td>\n      <td>NaN</td>\n      <td>NaN</td>\n      <td>NaN</td>\n      <td>NaN</td>\n      <td>NaN</td>\n      <td>NaN</td>\n      <td>NaN</td>\n      <td>NaN</td>\n      <td>NaN</td>\n      <td>NaN</td>\n      <td>NaN</td>\n      <td>NaN</td>\n      <td>NaN</td>\n      <td>NaN</td>\n      <td>NaN</td>\n      <td>NaN</td>\n      <td>NaN</td>\n      <td>NaN</td>\n      <td>NaN</td>\n      <td>NaN</td>\n      <td>NaN</td>\n      <td>NaN</td>\n      <td>NaN</td>\n      <td>NaN</td>\n      <td>NaN</td>\n      <td>NaN</td>\n      <td>NaN</td>\n      <td>NaN</td>\n      <td>NaN</td>\n      <td>NaN</td>\n      <td>NaN</td>\n      <td>NaN</td>\n      <td>NaN</td>\n      <td>NaN</td>\n      <td>NaN</td>\n      <td>NaN</td>\n      <td>NaN</td>\n      <td>NaN</td>\n      <td>NaN</td>\n    </tr>\n    <tr>\n      <th>298745</th>\n      <td>Tuvalu</td>\n      <td>TUV</td>\n      <td>Agricultural irrigated land (% of total agricu...</td>\n      <td>AG.LND.IRIG.AG.ZS</td>\n      <td>NaN</td>\n      <td>NaN</td>\n      <td>NaN</td>\n      <td>NaN</td>\n      <td>NaN</td>\n      <td>NaN</td>\n      <td>NaN</td>\n      <td>NaN</td>\n      <td>NaN</td>\n      <td>NaN</td>\n      <td>NaN</td>\n      <td>NaN</td>\n      <td>NaN</td>\n      <td>NaN</td>\n      <td>NaN</td>\n      <td>NaN</td>\n      <td>NaN</td>\n      <td>NaN</td>\n      <td>NaN</td>\n      <td>NaN</td>\n      <td>NaN</td>\n      <td>NaN</td>\n      <td>NaN</td>\n      <td>NaN</td>\n      <td>NaN</td>\n      <td>NaN</td>\n      <td>NaN</td>\n      <td>NaN</td>\n      <td>NaN</td>\n      <td>NaN</td>\n      <td>NaN</td>\n      <td>NaN</td>\n      <td>NaN</td>\n      <td>NaN</td>\n      <td>NaN</td>\n      <td>NaN</td>\n      <td>NaN</td>\n      <td>NaN</td>\n      <td>NaN</td>\n      <td>NaN</td>\n      <td>NaN</td>\n    </tr>\n    <tr>\n      <th>298757</th>\n      <td>Tuvalu</td>\n      <td>TUV</td>\n      <td>Agriculture, forestry, and fishing, value adde...</td>\n      <td>NV.AGR.TOTL.KD.ZG</td>\n      <td>NaN</td>\n      <td>NaN</td>\n      <td>NaN</td>\n      <td>NaN</td>\n      <td>NaN</td>\n      <td>NaN</td>\n      <td>NaN</td>\n      <td>NaN</td>\n      <td>NaN</td>\n      <td>NaN</td>\n      <td>NaN</td>\n      <td>NaN</td>\n      <td>NaN</td>\n      <td>NaN</td>\n      <td>NaN</td>\n      <td>NaN</td>\n      <td>NaN</td>\n      <td>NaN</td>\n      <td>NaN</td>\n      <td>NaN</td>\n      <td>NaN</td>\n      <td>NaN</td>\n      <td>NaN</td>\n      <td>NaN</td>\n      <td>NaN</td>\n      <td>NaN</td>\n      <td>NaN</td>\n      <td>NaN</td>\n      <td>NaN</td>\n      <td>NaN</td>\n      <td>NaN</td>\n      <td>NaN</td>\n      <td>NaN</td>\n      <td>NaN</td>\n      <td>NaN</td>\n      <td>NaN</td>\n      <td>NaN</td>\n      <td>NaN</td>\n      <td>NaN</td>\n      <td>NaN</td>\n      <td>NaN</td>\n    </tr>\n    <tr>\n      <th>299116</th>\n      <td>Tuvalu</td>\n      <td>TUV</td>\n      <td>Fertilizer consumption (kilograms per hectare ...</td>\n      <td>AG.CON.FERT.ZS</td>\n      <td>NaN</td>\n      <td>NaN</td>\n      <td>NaN</td>\n      <td>NaN</td>\n      <td>NaN</td>\n      <td>NaN</td>\n      <td>NaN</td>\n      <td>NaN</td>\n      <td>NaN</td>\n      <td>NaN</td>\n      <td>NaN</td>\n      <td>NaN</td>\n      <td>NaN</td>\n      <td>NaN</td>\n      <td>NaN</td>\n      <td>NaN</td>\n      <td>NaN</td>\n      <td>NaN</td>\n      <td>NaN</td>\n      <td>NaN</td>\n      <td>NaN</td>\n      <td>NaN</td>\n      <td>NaN</td>\n      <td>NaN</td>\n      <td>NaN</td>\n      <td>NaN</td>\n      <td>NaN</td>\n      <td>NaN</td>\n      <td>NaN</td>\n      <td>NaN</td>\n      <td>NaN</td>\n      <td>NaN</td>\n      <td>NaN</td>\n      <td>NaN</td>\n      <td>NaN</td>\n      <td>NaN</td>\n      <td>NaN</td>\n      <td>NaN</td>\n      <td>NaN</td>\n      <td>NaN</td>\n      <td>NaN</td>\n    </tr>\n    <tr>\n      <th>300920</th>\n      <td>Uganda</td>\n      <td>UGA</td>\n      <td>Marine protected areas (% of territorial waters)</td>\n      <td>ER.MRN.PTMR.ZS</td>\n      <td>NaN</td>\n      <td>NaN</td>\n      <td>NaN</td>\n      <td>NaN</td>\n      <td>NaN</td>\n      <td>NaN</td>\n      <td>NaN</td>\n      <td>NaN</td>\n      <td>NaN</td>\n      <td>NaN</td>\n      <td>NaN</td>\n      <td>NaN</td>\n      <td>NaN</td>\n      <td>NaN</td>\n      <td>NaN</td>\n      <td>NaN</td>\n      <td>NaN</td>\n      <td>NaN</td>\n      <td>NaN</td>\n      <td>NaN</td>\n      <td>NaN</td>\n      <td>NaN</td>\n      <td>NaN</td>\n      <td>NaN</td>\n      <td>NaN</td>\n      <td>NaN</td>\n      <td>NaN</td>\n      <td>NaN</td>\n      <td>NaN</td>\n      <td>NaN</td>\n      <td>NaN</td>\n      <td>NaN</td>\n      <td>NaN</td>\n      <td>NaN</td>\n      <td>NaN</td>\n      <td>NaN</td>\n      <td>NaN</td>\n      <td>NaN</td>\n      <td>NaN</td>\n      <td>NaN</td>\n      <td>NaN</td>\n    </tr>\n    <tr>\n      <th>309836</th>\n      <td>Uzbekistan</td>\n      <td>UZB</td>\n      <td>Marine protected areas (% of territorial waters)</td>\n      <td>ER.MRN.PTMR.ZS</td>\n      <td>NaN</td>\n      <td>NaN</td>\n      <td>NaN</td>\n      <td>NaN</td>\n      <td>NaN</td>\n      <td>NaN</td>\n      <td>NaN</td>\n      <td>NaN</td>\n      <td>NaN</td>\n      <td>NaN</td>\n      <td>NaN</td>\n      <td>NaN</td>\n      <td>NaN</td>\n      <td>NaN</td>\n      <td>NaN</td>\n      <td>NaN</td>\n      <td>NaN</td>\n      <td>NaN</td>\n      <td>NaN</td>\n      <td>NaN</td>\n      <td>NaN</td>\n      <td>NaN</td>\n      <td>NaN</td>\n      <td>NaN</td>\n      <td>NaN</td>\n      <td>NaN</td>\n      <td>NaN</td>\n      <td>NaN</td>\n      <td>NaN</td>\n      <td>NaN</td>\n      <td>NaN</td>\n      <td>NaN</td>\n      <td>NaN</td>\n      <td>NaN</td>\n      <td>NaN</td>\n      <td>NaN</td>\n      <td>NaN</td>\n      <td>NaN</td>\n      <td>NaN</td>\n      <td>NaN</td>\n      <td>NaN</td>\n    </tr>\n    <tr>\n      <th>310633</th>\n      <td>Vanuatu</td>\n      <td>VUT</td>\n      <td>Agricultural irrigated land (% of total agricu...</td>\n      <td>AG.LND.IRIG.AG.ZS</td>\n      <td>NaN</td>\n      <td>NaN</td>\n      <td>NaN</td>\n      <td>NaN</td>\n      <td>NaN</td>\n      <td>NaN</td>\n      <td>NaN</td>\n      <td>NaN</td>\n      <td>NaN</td>\n      <td>NaN</td>\n      <td>NaN</td>\n      <td>NaN</td>\n      <td>NaN</td>\n      <td>NaN</td>\n      <td>NaN</td>\n      <td>NaN</td>\n      <td>NaN</td>\n      <td>NaN</td>\n      <td>NaN</td>\n      <td>NaN</td>\n      <td>NaN</td>\n      <td>NaN</td>\n      <td>NaN</td>\n      <td>NaN</td>\n      <td>NaN</td>\n      <td>NaN</td>\n      <td>NaN</td>\n      <td>NaN</td>\n      <td>NaN</td>\n      <td>NaN</td>\n      <td>NaN</td>\n      <td>NaN</td>\n      <td>NaN</td>\n      <td>NaN</td>\n      <td>NaN</td>\n      <td>NaN</td>\n      <td>NaN</td>\n      <td>NaN</td>\n      <td>NaN</td>\n      <td>NaN</td>\n      <td>NaN</td>\n    </tr>\n    <tr>\n      <th>313605</th>\n      <td>Viet Nam</td>\n      <td>VNM</td>\n      <td>Agricultural irrigated land (% of total agricu...</td>\n      <td>AG.LND.IRIG.AG.ZS</td>\n      <td>NaN</td>\n      <td>NaN</td>\n      <td>NaN</td>\n      <td>NaN</td>\n      <td>NaN</td>\n      <td>NaN</td>\n      <td>NaN</td>\n      <td>NaN</td>\n      <td>NaN</td>\n      <td>NaN</td>\n      <td>NaN</td>\n      <td>NaN</td>\n      <td>NaN</td>\n      <td>NaN</td>\n      <td>NaN</td>\n      <td>NaN</td>\n      <td>NaN</td>\n      <td>NaN</td>\n      <td>NaN</td>\n      <td>NaN</td>\n      <td>NaN</td>\n      <td>NaN</td>\n      <td>NaN</td>\n      <td>NaN</td>\n      <td>NaN</td>\n      <td>NaN</td>\n      <td>NaN</td>\n      <td>NaN</td>\n      <td>NaN</td>\n      <td>NaN</td>\n      <td>NaN</td>\n      <td>NaN</td>\n      <td>NaN</td>\n      <td>NaN</td>\n      <td>NaN</td>\n      <td>NaN</td>\n      <td>NaN</td>\n      <td>NaN</td>\n      <td>NaN</td>\n      <td>NaN</td>\n      <td>NaN</td>\n    </tr>\n    <tr>\n      <th>315091</th>\n      <td>Virgin Islands (U.S.)</td>\n      <td>VIR</td>\n      <td>Agricultural irrigated land (% of total agricu...</td>\n      <td>AG.LND.IRIG.AG.ZS</td>\n      <td>NaN</td>\n      <td>NaN</td>\n      <td>NaN</td>\n      <td>NaN</td>\n      <td>NaN</td>\n      <td>NaN</td>\n      <td>NaN</td>\n      <td>NaN</td>\n      <td>NaN</td>\n      <td>NaN</td>\n      <td>NaN</td>\n      <td>NaN</td>\n      <td>NaN</td>\n      <td>NaN</td>\n      <td>NaN</td>\n      <td>NaN</td>\n      <td>NaN</td>\n      <td>NaN</td>\n      <td>NaN</td>\n      <td>NaN</td>\n      <td>NaN</td>\n      <td>NaN</td>\n      <td>NaN</td>\n      <td>NaN</td>\n      <td>NaN</td>\n      <td>NaN</td>\n      <td>NaN</td>\n      <td>NaN</td>\n      <td>NaN</td>\n      <td>NaN</td>\n      <td>NaN</td>\n      <td>NaN</td>\n      <td>NaN</td>\n      <td>NaN</td>\n      <td>NaN</td>\n      <td>NaN</td>\n      <td>NaN</td>\n      <td>NaN</td>\n      <td>NaN</td>\n      <td>NaN</td>\n      <td>NaN</td>\n    </tr>\n    <tr>\n      <th>315102</th>\n      <td>Virgin Islands (U.S.)</td>\n      <td>VIR</td>\n      <td>Agriculture, forestry, and fishing, value adde...</td>\n      <td>NV.AGR.TOTL.ZS</td>\n      <td>NaN</td>\n      <td>NaN</td>\n      <td>NaN</td>\n      <td>NaN</td>\n      <td>NaN</td>\n      <td>NaN</td>\n      <td>NaN</td>\n      <td>NaN</td>\n      <td>NaN</td>\n      <td>NaN</td>\n      <td>NaN</td>\n      <td>NaN</td>\n      <td>NaN</td>\n      <td>NaN</td>\n      <td>NaN</td>\n      <td>NaN</td>\n      <td>NaN</td>\n      <td>NaN</td>\n      <td>NaN</td>\n      <td>NaN</td>\n      <td>NaN</td>\n      <td>NaN</td>\n      <td>NaN</td>\n      <td>NaN</td>\n      <td>NaN</td>\n      <td>NaN</td>\n      <td>NaN</td>\n      <td>NaN</td>\n      <td>NaN</td>\n      <td>NaN</td>\n      <td>NaN</td>\n      <td>NaN</td>\n      <td>NaN</td>\n      <td>NaN</td>\n      <td>NaN</td>\n      <td>NaN</td>\n      <td>NaN</td>\n      <td>NaN</td>\n      <td>NaN</td>\n      <td>NaN</td>\n      <td>NaN</td>\n    </tr>\n    <tr>\n      <th>315103</th>\n      <td>Virgin Islands (U.S.)</td>\n      <td>VIR</td>\n      <td>Agriculture, forestry, and fishing, value adde...</td>\n      <td>NV.AGR.TOTL.KD.ZG</td>\n      <td>NaN</td>\n      <td>NaN</td>\n      <td>NaN</td>\n      <td>NaN</td>\n      <td>NaN</td>\n      <td>NaN</td>\n      <td>NaN</td>\n      <td>NaN</td>\n      <td>NaN</td>\n      <td>NaN</td>\n      <td>NaN</td>\n      <td>NaN</td>\n      <td>NaN</td>\n      <td>NaN</td>\n      <td>NaN</td>\n      <td>NaN</td>\n      <td>NaN</td>\n      <td>NaN</td>\n      <td>NaN</td>\n      <td>NaN</td>\n      <td>NaN</td>\n      <td>NaN</td>\n      <td>NaN</td>\n      <td>NaN</td>\n      <td>NaN</td>\n      <td>NaN</td>\n      <td>NaN</td>\n      <td>NaN</td>\n      <td>NaN</td>\n      <td>NaN</td>\n      <td>NaN</td>\n      <td>NaN</td>\n      <td>NaN</td>\n      <td>NaN</td>\n      <td>NaN</td>\n      <td>NaN</td>\n      <td>NaN</td>\n      <td>NaN</td>\n      <td>NaN</td>\n      <td>NaN</td>\n      <td>NaN</td>\n    </tr>\n    <tr>\n      <th>315107</th>\n      <td>Virgin Islands (U.S.)</td>\n      <td>VIR</td>\n      <td>Agriculture, forestry, and fishing, value adde...</td>\n      <td>NV.AGR.TOTL.CD</td>\n      <td>NaN</td>\n      <td>NaN</td>\n      <td>NaN</td>\n      <td>NaN</td>\n      <td>NaN</td>\n      <td>NaN</td>\n      <td>NaN</td>\n      <td>NaN</td>\n      <td>NaN</td>\n      <td>NaN</td>\n      <td>NaN</td>\n      <td>NaN</td>\n      <td>NaN</td>\n      <td>NaN</td>\n      <td>NaN</td>\n      <td>NaN</td>\n      <td>NaN</td>\n      <td>NaN</td>\n      <td>NaN</td>\n      <td>NaN</td>\n      <td>NaN</td>\n      <td>NaN</td>\n      <td>NaN</td>\n      <td>NaN</td>\n      <td>NaN</td>\n      <td>NaN</td>\n      <td>NaN</td>\n      <td>NaN</td>\n      <td>NaN</td>\n      <td>NaN</td>\n      <td>NaN</td>\n      <td>NaN</td>\n      <td>NaN</td>\n      <td>NaN</td>\n      <td>NaN</td>\n      <td>NaN</td>\n      <td>NaN</td>\n      <td>NaN</td>\n      <td>NaN</td>\n      <td>NaN</td>\n      <td>NaN</td>\n    </tr>\n    <tr>\n      <th>317266</th>\n      <td>West Bank and Gaza</td>\n      <td>PSE</td>\n      <td>Marine protected areas (% of territorial waters)</td>\n      <td>ER.MRN.PTMR.ZS</td>\n      <td>NaN</td>\n      <td>NaN</td>\n      <td>NaN</td>\n      <td>NaN</td>\n      <td>NaN</td>\n      <td>NaN</td>\n      <td>NaN</td>\n      <td>NaN</td>\n      <td>NaN</td>\n      <td>NaN</td>\n      <td>NaN</td>\n      <td>NaN</td>\n      <td>NaN</td>\n      <td>NaN</td>\n      <td>NaN</td>\n      <td>NaN</td>\n      <td>NaN</td>\n      <td>NaN</td>\n      <td>NaN</td>\n      <td>NaN</td>\n      <td>NaN</td>\n      <td>NaN</td>\n      <td>NaN</td>\n      <td>NaN</td>\n      <td>NaN</td>\n      <td>NaN</td>\n      <td>NaN</td>\n      <td>NaN</td>\n      <td>NaN</td>\n      <td>NaN</td>\n      <td>NaN</td>\n      <td>NaN</td>\n      <td>NaN</td>\n      <td>NaN</td>\n      <td>NaN</td>\n      <td>NaN</td>\n      <td>NaN</td>\n      <td>NaN</td>\n      <td>NaN</td>\n      <td>NaN</td>\n      <td>NaN</td>\n    </tr>\n    <tr>\n      <th>318063</th>\n      <td>Yemen, Rep.</td>\n      <td>YEM</td>\n      <td>Agricultural irrigated land (% of total agricu...</td>\n      <td>AG.LND.IRIG.AG.ZS</td>\n      <td>NaN</td>\n      <td>NaN</td>\n      <td>NaN</td>\n      <td>NaN</td>\n      <td>NaN</td>\n      <td>NaN</td>\n      <td>NaN</td>\n      <td>NaN</td>\n      <td>NaN</td>\n      <td>NaN</td>\n      <td>NaN</td>\n      <td>NaN</td>\n      <td>NaN</td>\n      <td>NaN</td>\n      <td>NaN</td>\n      <td>NaN</td>\n      <td>NaN</td>\n      <td>NaN</td>\n      <td>NaN</td>\n      <td>NaN</td>\n      <td>NaN</td>\n      <td>NaN</td>\n      <td>NaN</td>\n      <td>NaN</td>\n      <td>NaN</td>\n      <td>NaN</td>\n      <td>NaN</td>\n      <td>NaN</td>\n      <td>NaN</td>\n      <td>NaN</td>\n      <td>NaN</td>\n      <td>NaN</td>\n      <td>NaN</td>\n      <td>NaN</td>\n      <td>NaN</td>\n      <td>NaN</td>\n      <td>NaN</td>\n      <td>NaN</td>\n      <td>NaN</td>\n      <td>NaN</td>\n      <td>NaN</td>\n    </tr>\n    <tr>\n      <th>319549</th>\n      <td>Zambia</td>\n      <td>ZMB</td>\n      <td>Agricultural irrigated land (% of total agricu...</td>\n      <td>AG.LND.IRIG.AG.ZS</td>\n      <td>NaN</td>\n      <td>NaN</td>\n      <td>NaN</td>\n      <td>NaN</td>\n      <td>NaN</td>\n      <td>NaN</td>\n      <td>NaN</td>\n      <td>NaN</td>\n      <td>NaN</td>\n      <td>NaN</td>\n      <td>NaN</td>\n      <td>NaN</td>\n      <td>NaN</td>\n      <td>NaN</td>\n      <td>NaN</td>\n      <td>NaN</td>\n      <td>NaN</td>\n      <td>NaN</td>\n      <td>NaN</td>\n      <td>NaN</td>\n      <td>NaN</td>\n      <td>NaN</td>\n      <td>NaN</td>\n      <td>NaN</td>\n      <td>NaN</td>\n      <td>NaN</td>\n      <td>NaN</td>\n      <td>NaN</td>\n      <td>NaN</td>\n      <td>NaN</td>\n      <td>NaN</td>\n      <td>NaN</td>\n      <td>NaN</td>\n      <td>NaN</td>\n      <td>NaN</td>\n      <td>NaN</td>\n      <td>NaN</td>\n      <td>NaN</td>\n      <td>NaN</td>\n      <td>NaN</td>\n      <td>NaN</td>\n    </tr>\n    <tr>\n      <th>320238</th>\n      <td>Zambia</td>\n      <td>ZMB</td>\n      <td>Marine protected areas (% of territorial waters)</td>\n      <td>ER.MRN.PTMR.ZS</td>\n      <td>NaN</td>\n      <td>NaN</td>\n      <td>NaN</td>\n      <td>NaN</td>\n      <td>NaN</td>\n      <td>NaN</td>\n      <td>NaN</td>\n      <td>NaN</td>\n      <td>NaN</td>\n      <td>NaN</td>\n      <td>NaN</td>\n      <td>NaN</td>\n      <td>NaN</td>\n      <td>NaN</td>\n      <td>NaN</td>\n      <td>NaN</td>\n      <td>NaN</td>\n      <td>NaN</td>\n      <td>NaN</td>\n      <td>NaN</td>\n      <td>NaN</td>\n      <td>NaN</td>\n      <td>NaN</td>\n      <td>NaN</td>\n      <td>NaN</td>\n      <td>NaN</td>\n      <td>NaN</td>\n      <td>NaN</td>\n      <td>NaN</td>\n      <td>NaN</td>\n      <td>NaN</td>\n      <td>NaN</td>\n      <td>NaN</td>\n      <td>NaN</td>\n      <td>NaN</td>\n      <td>NaN</td>\n      <td>NaN</td>\n      <td>NaN</td>\n      <td>NaN</td>\n      <td>NaN</td>\n      <td>NaN</td>\n    </tr>\n    <tr>\n      <th>321035</th>\n      <td>Zimbabwe</td>\n      <td>ZWE</td>\n      <td>Agricultural irrigated land (% of total agricu...</td>\n      <td>AG.LND.IRIG.AG.ZS</td>\n      <td>NaN</td>\n      <td>NaN</td>\n      <td>NaN</td>\n      <td>NaN</td>\n      <td>NaN</td>\n      <td>NaN</td>\n      <td>NaN</td>\n      <td>NaN</td>\n      <td>NaN</td>\n      <td>NaN</td>\n      <td>NaN</td>\n      <td>NaN</td>\n      <td>NaN</td>\n      <td>NaN</td>\n      <td>NaN</td>\n      <td>NaN</td>\n      <td>NaN</td>\n      <td>NaN</td>\n      <td>NaN</td>\n      <td>NaN</td>\n      <td>NaN</td>\n      <td>NaN</td>\n      <td>NaN</td>\n      <td>NaN</td>\n      <td>NaN</td>\n      <td>NaN</td>\n      <td>NaN</td>\n      <td>NaN</td>\n      <td>NaN</td>\n      <td>NaN</td>\n      <td>NaN</td>\n      <td>NaN</td>\n      <td>NaN</td>\n      <td>NaN</td>\n      <td>NaN</td>\n      <td>NaN</td>\n      <td>NaN</td>\n      <td>NaN</td>\n      <td>NaN</td>\n      <td>NaN</td>\n      <td>NaN</td>\n    </tr>\n    <tr>\n      <th>321724</th>\n      <td>Zimbabwe</td>\n      <td>ZWE</td>\n      <td>Marine protected areas (% of territorial waters)</td>\n      <td>ER.MRN.PTMR.ZS</td>\n      <td>NaN</td>\n      <td>NaN</td>\n      <td>NaN</td>\n      <td>NaN</td>\n      <td>NaN</td>\n      <td>NaN</td>\n      <td>NaN</td>\n      <td>NaN</td>\n      <td>NaN</td>\n      <td>NaN</td>\n      <td>NaN</td>\n      <td>NaN</td>\n      <td>NaN</td>\n      <td>NaN</td>\n      <td>NaN</td>\n      <td>NaN</td>\n      <td>NaN</td>\n      <td>NaN</td>\n      <td>NaN</td>\n      <td>NaN</td>\n      <td>NaN</td>\n      <td>NaN</td>\n      <td>NaN</td>\n      <td>NaN</td>\n      <td>NaN</td>\n      <td>NaN</td>\n      <td>NaN</td>\n      <td>NaN</td>\n      <td>NaN</td>\n      <td>NaN</td>\n      <td>NaN</td>\n      <td>NaN</td>\n      <td>NaN</td>\n      <td>NaN</td>\n      <td>NaN</td>\n      <td>NaN</td>\n      <td>NaN</td>\n      <td>NaN</td>\n      <td>NaN</td>\n      <td>NaN</td>\n      <td>NaN</td>\n    </tr>\n    <tr>\n      <th>322521</th>\n      <td>Africa Eastern and Southern</td>\n      <td>AFE</td>\n      <td>Agricultural irrigated land (% of total agricu...</td>\n      <td>AG.LND.IRIG.AG.ZS</td>\n      <td>NaN</td>\n      <td>NaN</td>\n      <td>NaN</td>\n      <td>NaN</td>\n      <td>NaN</td>\n      <td>NaN</td>\n      <td>NaN</td>\n      <td>NaN</td>\n      <td>NaN</td>\n      <td>NaN</td>\n      <td>NaN</td>\n      <td>NaN</td>\n      <td>NaN</td>\n      <td>NaN</td>\n      <td>NaN</td>\n      <td>NaN</td>\n      <td>NaN</td>\n      <td>NaN</td>\n      <td>NaN</td>\n      <td>NaN</td>\n      <td>NaN</td>\n      <td>NaN</td>\n      <td>NaN</td>\n      <td>NaN</td>\n      <td>NaN</td>\n      <td>NaN</td>\n      <td>NaN</td>\n      <td>NaN</td>\n      <td>NaN</td>\n      <td>NaN</td>\n      <td>NaN</td>\n      <td>NaN</td>\n      <td>NaN</td>\n      <td>NaN</td>\n      <td>NaN</td>\n      <td>NaN</td>\n      <td>NaN</td>\n      <td>NaN</td>\n      <td>NaN</td>\n      <td>NaN</td>\n      <td>NaN</td>\n    </tr>\n    <tr>\n      <th>324007</th>\n      <td>Africa Western and Central</td>\n      <td>AFW</td>\n      <td>Agricultural irrigated land (% of total agricu...</td>\n      <td>AG.LND.IRIG.AG.ZS</td>\n      <td>NaN</td>\n      <td>NaN</td>\n      <td>NaN</td>\n      <td>NaN</td>\n      <td>NaN</td>\n      <td>NaN</td>\n      <td>NaN</td>\n      <td>NaN</td>\n      <td>NaN</td>\n      <td>NaN</td>\n      <td>NaN</td>\n      <td>NaN</td>\n      <td>NaN</td>\n      <td>NaN</td>\n      <td>NaN</td>\n      <td>NaN</td>\n      <td>NaN</td>\n      <td>NaN</td>\n      <td>NaN</td>\n      <td>NaN</td>\n      <td>NaN</td>\n      <td>NaN</td>\n      <td>NaN</td>\n      <td>NaN</td>\n      <td>NaN</td>\n      <td>NaN</td>\n      <td>NaN</td>\n      <td>NaN</td>\n      <td>NaN</td>\n      <td>NaN</td>\n      <td>NaN</td>\n      <td>NaN</td>\n      <td>NaN</td>\n      <td>NaN</td>\n      <td>NaN</td>\n      <td>NaN</td>\n      <td>NaN</td>\n      <td>NaN</td>\n      <td>NaN</td>\n      <td>NaN</td>\n      <td>NaN</td>\n    </tr>\n    <tr>\n      <th>324696</th>\n      <td>Africa Western and Central</td>\n      <td>AFW</td>\n      <td>Marine protected areas (% of territorial waters)</td>\n      <td>ER.MRN.PTMR.ZS</td>\n      <td>NaN</td>\n      <td>NaN</td>\n      <td>NaN</td>\n      <td>NaN</td>\n      <td>NaN</td>\n      <td>NaN</td>\n      <td>NaN</td>\n      <td>NaN</td>\n      <td>NaN</td>\n      <td>NaN</td>\n      <td>NaN</td>\n      <td>NaN</td>\n      <td>NaN</td>\n      <td>NaN</td>\n      <td>NaN</td>\n      <td>NaN</td>\n      <td>NaN</td>\n      <td>NaN</td>\n      <td>NaN</td>\n      <td>NaN</td>\n      <td>NaN</td>\n      <td>NaN</td>\n      <td>NaN</td>\n      <td>NaN</td>\n      <td>NaN</td>\n      <td>NaN</td>\n      <td>NaN</td>\n      <td>NaN</td>\n      <td>NaN</td>\n      <td>NaN</td>\n      <td>NaN</td>\n      <td>NaN</td>\n      <td>NaN</td>\n      <td>NaN</td>\n      <td>NaN</td>\n      <td>NaN</td>\n      <td>NaN</td>\n      <td>NaN</td>\n      <td>NaN</td>\n      <td>NaN</td>\n      <td>NaN</td>\n    </tr>\n    <tr>\n      <th>325493</th>\n      <td>Arab World</td>\n      <td>ARB</td>\n      <td>Agricultural irrigated land (% of total agricu...</td>\n      <td>AG.LND.IRIG.AG.ZS</td>\n      <td>NaN</td>\n      <td>NaN</td>\n      <td>NaN</td>\n      <td>NaN</td>\n      <td>NaN</td>\n      <td>NaN</td>\n      <td>NaN</td>\n      <td>NaN</td>\n      <td>NaN</td>\n      <td>NaN</td>\n      <td>NaN</td>\n      <td>NaN</td>\n      <td>NaN</td>\n      <td>NaN</td>\n      <td>NaN</td>\n      <td>NaN</td>\n      <td>NaN</td>\n      <td>NaN</td>\n      <td>NaN</td>\n      <td>NaN</td>\n      <td>NaN</td>\n      <td>NaN</td>\n      <td>NaN</td>\n      <td>NaN</td>\n      <td>NaN</td>\n      <td>NaN</td>\n      <td>NaN</td>\n      <td>NaN</td>\n      <td>NaN</td>\n      <td>NaN</td>\n      <td>NaN</td>\n      <td>NaN</td>\n      <td>NaN</td>\n      <td>NaN</td>\n      <td>NaN</td>\n      <td>NaN</td>\n      <td>NaN</td>\n      <td>NaN</td>\n      <td>NaN</td>\n      <td>NaN</td>\n      <td>NaN</td>\n    </tr>\n    <tr>\n      <th>326979</th>\n      <td>Caribbean small states</td>\n      <td>CSS</td>\n      <td>Agricultural irrigated land (% of total agricu...</td>\n      <td>AG.LND.IRIG.AG.ZS</td>\n      <td>NaN</td>\n      <td>NaN</td>\n      <td>NaN</td>\n      <td>NaN</td>\n      <td>NaN</td>\n      <td>NaN</td>\n      <td>NaN</td>\n      <td>NaN</td>\n      <td>NaN</td>\n      <td>NaN</td>\n      <td>NaN</td>\n      <td>NaN</td>\n      <td>NaN</td>\n      <td>NaN</td>\n      <td>NaN</td>\n      <td>NaN</td>\n      <td>NaN</td>\n      <td>NaN</td>\n      <td>NaN</td>\n      <td>NaN</td>\n      <td>NaN</td>\n      <td>NaN</td>\n      <td>NaN</td>\n      <td>NaN</td>\n      <td>NaN</td>\n      <td>NaN</td>\n      <td>NaN</td>\n      <td>NaN</td>\n      <td>NaN</td>\n      <td>NaN</td>\n      <td>NaN</td>\n      <td>NaN</td>\n      <td>NaN</td>\n      <td>NaN</td>\n      <td>NaN</td>\n      <td>NaN</td>\n      <td>NaN</td>\n      <td>NaN</td>\n      <td>NaN</td>\n      <td>NaN</td>\n      <td>NaN</td>\n    </tr>\n    <tr>\n      <th>328465</th>\n      <td>Central Europe and the Baltics</td>\n      <td>CEB</td>\n      <td>Agricultural irrigated land (% of total agricu...</td>\n      <td>AG.LND.IRIG.AG.ZS</td>\n      <td>NaN</td>\n      <td>NaN</td>\n      <td>NaN</td>\n      <td>NaN</td>\n      <td>NaN</td>\n      <td>NaN</td>\n      <td>NaN</td>\n      <td>NaN</td>\n      <td>NaN</td>\n      <td>NaN</td>\n      <td>NaN</td>\n      <td>NaN</td>\n      <td>NaN</td>\n      <td>NaN</td>\n      <td>NaN</td>\n      <td>NaN</td>\n      <td>NaN</td>\n      <td>NaN</td>\n      <td>NaN</td>\n      <td>NaN</td>\n      <td>NaN</td>\n      <td>NaN</td>\n      <td>NaN</td>\n      <td>NaN</td>\n      <td>NaN</td>\n      <td>NaN</td>\n      <td>NaN</td>\n      <td>NaN</td>\n      <td>NaN</td>\n      <td>NaN</td>\n      <td>NaN</td>\n      <td>NaN</td>\n      <td>NaN</td>\n      <td>NaN</td>\n      <td>NaN</td>\n      <td>NaN</td>\n      <td>NaN</td>\n      <td>NaN</td>\n      <td>NaN</td>\n      <td>NaN</td>\n      <td>NaN</td>\n    </tr>\n    <tr>\n      <th>329951</th>\n      <td>Early-demographic dividend</td>\n      <td>EAR</td>\n      <td>Agricultural irrigated land (% of total agricu...</td>\n      <td>AG.LND.IRIG.AG.ZS</td>\n      <td>NaN</td>\n      <td>NaN</td>\n      <td>NaN</td>\n      <td>NaN</td>\n      <td>NaN</td>\n      <td>NaN</td>\n      <td>NaN</td>\n      <td>NaN</td>\n      <td>NaN</td>\n      <td>NaN</td>\n      <td>NaN</td>\n      <td>NaN</td>\n      <td>NaN</td>\n      <td>NaN</td>\n      <td>NaN</td>\n      <td>NaN</td>\n      <td>NaN</td>\n      <td>NaN</td>\n      <td>NaN</td>\n      <td>NaN</td>\n      <td>NaN</td>\n      <td>NaN</td>\n      <td>NaN</td>\n      <td>NaN</td>\n      <td>NaN</td>\n      <td>NaN</td>\n      <td>NaN</td>\n      <td>NaN</td>\n      <td>NaN</td>\n      <td>NaN</td>\n      <td>NaN</td>\n      <td>NaN</td>\n      <td>NaN</td>\n      <td>NaN</td>\n      <td>NaN</td>\n      <td>NaN</td>\n      <td>NaN</td>\n      <td>NaN</td>\n      <td>NaN</td>\n      <td>NaN</td>\n      <td>NaN</td>\n    </tr>\n    <tr>\n      <th>331437</th>\n      <td>East Asia &amp; Pacific</td>\n      <td>EAS</td>\n      <td>Agricultural irrigated land (% of total agricu...</td>\n      <td>AG.LND.IRIG.AG.ZS</td>\n      <td>NaN</td>\n      <td>NaN</td>\n      <td>NaN</td>\n      <td>NaN</td>\n      <td>NaN</td>\n      <td>NaN</td>\n      <td>NaN</td>\n      <td>NaN</td>\n      <td>NaN</td>\n      <td>NaN</td>\n      <td>NaN</td>\n      <td>NaN</td>\n      <td>NaN</td>\n      <td>NaN</td>\n      <td>NaN</td>\n      <td>NaN</td>\n      <td>NaN</td>\n      <td>NaN</td>\n      <td>NaN</td>\n      <td>NaN</td>\n      <td>NaN</td>\n      <td>NaN</td>\n      <td>NaN</td>\n      <td>NaN</td>\n      <td>NaN</td>\n      <td>NaN</td>\n      <td>NaN</td>\n      <td>NaN</td>\n      <td>NaN</td>\n      <td>NaN</td>\n      <td>NaN</td>\n      <td>NaN</td>\n      <td>NaN</td>\n      <td>NaN</td>\n      <td>NaN</td>\n      <td>NaN</td>\n      <td>NaN</td>\n      <td>NaN</td>\n      <td>NaN</td>\n      <td>NaN</td>\n      <td>NaN</td>\n    </tr>\n    <tr>\n      <th>332923</th>\n      <td>East Asia &amp; Pacific (excluding high income)</td>\n      <td>EAP</td>\n      <td>Agricultural irrigated land (% of total agricu...</td>\n      <td>AG.LND.IRIG.AG.ZS</td>\n      <td>NaN</td>\n      <td>NaN</td>\n      <td>NaN</td>\n      <td>NaN</td>\n      <td>NaN</td>\n      <td>NaN</td>\n      <td>NaN</td>\n      <td>NaN</td>\n      <td>NaN</td>\n      <td>NaN</td>\n      <td>NaN</td>\n      <td>NaN</td>\n      <td>NaN</td>\n      <td>NaN</td>\n      <td>NaN</td>\n      <td>NaN</td>\n      <td>NaN</td>\n      <td>NaN</td>\n      <td>NaN</td>\n      <td>NaN</td>\n      <td>NaN</td>\n      <td>NaN</td>\n      <td>NaN</td>\n      <td>NaN</td>\n      <td>NaN</td>\n      <td>NaN</td>\n      <td>NaN</td>\n      <td>NaN</td>\n      <td>NaN</td>\n      <td>NaN</td>\n      <td>NaN</td>\n      <td>NaN</td>\n      <td>NaN</td>\n      <td>NaN</td>\n      <td>NaN</td>\n      <td>NaN</td>\n      <td>NaN</td>\n      <td>NaN</td>\n      <td>NaN</td>\n      <td>NaN</td>\n      <td>NaN</td>\n    </tr>\n    <tr>\n      <th>334409</th>\n      <td>East Asia &amp; Pacific (IDA &amp; IBRD countries)</td>\n      <td>TEA</td>\n      <td>Agricultural irrigated land (% of total agricu...</td>\n      <td>AG.LND.IRIG.AG.ZS</td>\n      <td>NaN</td>\n      <td>NaN</td>\n      <td>NaN</td>\n      <td>NaN</td>\n      <td>NaN</td>\n      <td>NaN</td>\n      <td>NaN</td>\n      <td>NaN</td>\n      <td>NaN</td>\n      <td>NaN</td>\n      <td>NaN</td>\n      <td>NaN</td>\n      <td>NaN</td>\n      <td>NaN</td>\n      <td>NaN</td>\n      <td>NaN</td>\n      <td>NaN</td>\n      <td>NaN</td>\n      <td>NaN</td>\n      <td>NaN</td>\n      <td>NaN</td>\n      <td>NaN</td>\n      <td>NaN</td>\n      <td>NaN</td>\n      <td>NaN</td>\n      <td>NaN</td>\n      <td>NaN</td>\n      <td>NaN</td>\n      <td>NaN</td>\n      <td>NaN</td>\n      <td>NaN</td>\n      <td>NaN</td>\n      <td>NaN</td>\n      <td>NaN</td>\n      <td>NaN</td>\n      <td>NaN</td>\n      <td>NaN</td>\n      <td>NaN</td>\n      <td>NaN</td>\n      <td>NaN</td>\n      <td>NaN</td>\n    </tr>\n    <tr>\n      <th>335895</th>\n      <td>Euro area</td>\n      <td>EMU</td>\n      <td>Agricultural irrigated land (% of total agricu...</td>\n      <td>AG.LND.IRIG.AG.ZS</td>\n      <td>NaN</td>\n      <td>NaN</td>\n      <td>NaN</td>\n      <td>NaN</td>\n      <td>NaN</td>\n      <td>NaN</td>\n      <td>NaN</td>\n      <td>NaN</td>\n      <td>NaN</td>\n      <td>NaN</td>\n      <td>NaN</td>\n      <td>NaN</td>\n      <td>NaN</td>\n      <td>NaN</td>\n      <td>NaN</td>\n      <td>NaN</td>\n      <td>NaN</td>\n      <td>NaN</td>\n      <td>NaN</td>\n      <td>NaN</td>\n      <td>NaN</td>\n      <td>NaN</td>\n      <td>NaN</td>\n      <td>NaN</td>\n      <td>NaN</td>\n      <td>NaN</td>\n      <td>NaN</td>\n      <td>NaN</td>\n      <td>NaN</td>\n      <td>NaN</td>\n      <td>NaN</td>\n      <td>NaN</td>\n      <td>NaN</td>\n      <td>NaN</td>\n      <td>NaN</td>\n      <td>NaN</td>\n      <td>NaN</td>\n      <td>NaN</td>\n      <td>NaN</td>\n      <td>NaN</td>\n      <td>NaN</td>\n    </tr>\n    <tr>\n      <th>337381</th>\n      <td>Europe &amp; Central Asia</td>\n      <td>ECS</td>\n      <td>Agricultural irrigated land (% of total agricu...</td>\n      <td>AG.LND.IRIG.AG.ZS</td>\n      <td>NaN</td>\n      <td>NaN</td>\n      <td>NaN</td>\n      <td>NaN</td>\n      <td>NaN</td>\n      <td>NaN</td>\n      <td>NaN</td>\n      <td>NaN</td>\n      <td>NaN</td>\n      <td>NaN</td>\n      <td>NaN</td>\n      <td>NaN</td>\n      <td>NaN</td>\n      <td>NaN</td>\n      <td>NaN</td>\n      <td>NaN</td>\n      <td>NaN</td>\n      <td>NaN</td>\n      <td>NaN</td>\n      <td>NaN</td>\n      <td>NaN</td>\n      <td>NaN</td>\n      <td>NaN</td>\n      <td>NaN</td>\n      <td>NaN</td>\n      <td>NaN</td>\n      <td>NaN</td>\n      <td>NaN</td>\n      <td>NaN</td>\n      <td>NaN</td>\n      <td>NaN</td>\n      <td>NaN</td>\n      <td>NaN</td>\n      <td>NaN</td>\n      <td>NaN</td>\n      <td>NaN</td>\n      <td>NaN</td>\n      <td>NaN</td>\n      <td>NaN</td>\n      <td>NaN</td>\n      <td>NaN</td>\n    </tr>\n    <tr>\n      <th>338867</th>\n      <td>Europe &amp; Central Asia (excluding high income)</td>\n      <td>ECA</td>\n      <td>Agricultural irrigated land (% of total agricu...</td>\n      <td>AG.LND.IRIG.AG.ZS</td>\n      <td>NaN</td>\n      <td>NaN</td>\n      <td>NaN</td>\n      <td>NaN</td>\n      <td>NaN</td>\n      <td>NaN</td>\n      <td>NaN</td>\n      <td>NaN</td>\n      <td>NaN</td>\n      <td>NaN</td>\n      <td>NaN</td>\n      <td>NaN</td>\n      <td>NaN</td>\n      <td>NaN</td>\n      <td>NaN</td>\n      <td>NaN</td>\n      <td>NaN</td>\n      <td>NaN</td>\n      <td>NaN</td>\n      <td>NaN</td>\n      <td>NaN</td>\n      <td>NaN</td>\n      <td>NaN</td>\n      <td>NaN</td>\n      <td>NaN</td>\n      <td>NaN</td>\n      <td>NaN</td>\n      <td>NaN</td>\n      <td>NaN</td>\n      <td>NaN</td>\n      <td>NaN</td>\n      <td>NaN</td>\n      <td>NaN</td>\n      <td>NaN</td>\n      <td>NaN</td>\n      <td>NaN</td>\n      <td>NaN</td>\n      <td>NaN</td>\n      <td>NaN</td>\n      <td>NaN</td>\n      <td>NaN</td>\n    </tr>\n    <tr>\n      <th>340353</th>\n      <td>Europe &amp; Central Asia (IDA &amp; IBRD countries)</td>\n      <td>TEC</td>\n      <td>Agricultural irrigated land (% of total agricu...</td>\n      <td>AG.LND.IRIG.AG.ZS</td>\n      <td>NaN</td>\n      <td>NaN</td>\n      <td>NaN</td>\n      <td>NaN</td>\n      <td>NaN</td>\n      <td>NaN</td>\n      <td>NaN</td>\n      <td>NaN</td>\n      <td>NaN</td>\n      <td>NaN</td>\n      <td>NaN</td>\n      <td>NaN</td>\n      <td>NaN</td>\n      <td>NaN</td>\n      <td>NaN</td>\n      <td>NaN</td>\n      <td>NaN</td>\n      <td>NaN</td>\n      <td>NaN</td>\n      <td>NaN</td>\n      <td>NaN</td>\n      <td>NaN</td>\n      <td>NaN</td>\n      <td>NaN</td>\n      <td>NaN</td>\n      <td>NaN</td>\n      <td>NaN</td>\n      <td>NaN</td>\n      <td>NaN</td>\n      <td>NaN</td>\n      <td>NaN</td>\n      <td>NaN</td>\n      <td>NaN</td>\n      <td>NaN</td>\n      <td>NaN</td>\n      <td>NaN</td>\n      <td>NaN</td>\n      <td>NaN</td>\n      <td>NaN</td>\n      <td>NaN</td>\n      <td>NaN</td>\n    </tr>\n    <tr>\n      <th>341839</th>\n      <td>European Union</td>\n      <td>EUU</td>\n      <td>Agricultural irrigated land (% of total agricu...</td>\n      <td>AG.LND.IRIG.AG.ZS</td>\n      <td>NaN</td>\n      <td>NaN</td>\n      <td>NaN</td>\n      <td>NaN</td>\n      <td>NaN</td>\n      <td>NaN</td>\n      <td>NaN</td>\n      <td>NaN</td>\n      <td>NaN</td>\n      <td>NaN</td>\n      <td>NaN</td>\n      <td>NaN</td>\n      <td>NaN</td>\n      <td>NaN</td>\n      <td>NaN</td>\n      <td>NaN</td>\n      <td>NaN</td>\n      <td>NaN</td>\n      <td>NaN</td>\n      <td>NaN</td>\n      <td>NaN</td>\n      <td>NaN</td>\n      <td>NaN</td>\n      <td>NaN</td>\n      <td>NaN</td>\n      <td>NaN</td>\n      <td>NaN</td>\n      <td>NaN</td>\n      <td>NaN</td>\n      <td>NaN</td>\n      <td>NaN</td>\n      <td>NaN</td>\n      <td>NaN</td>\n      <td>NaN</td>\n      <td>NaN</td>\n      <td>NaN</td>\n      <td>NaN</td>\n      <td>NaN</td>\n      <td>NaN</td>\n      <td>NaN</td>\n      <td>NaN</td>\n    </tr>\n    <tr>\n      <th>343325</th>\n      <td>Fragile and conflict affected situations</td>\n      <td>FCS</td>\n      <td>Agricultural irrigated land (% of total agricu...</td>\n      <td>AG.LND.IRIG.AG.ZS</td>\n      <td>NaN</td>\n      <td>NaN</td>\n      <td>NaN</td>\n      <td>NaN</td>\n      <td>NaN</td>\n      <td>NaN</td>\n      <td>NaN</td>\n      <td>NaN</td>\n      <td>NaN</td>\n      <td>NaN</td>\n      <td>NaN</td>\n      <td>NaN</td>\n      <td>NaN</td>\n      <td>NaN</td>\n      <td>NaN</td>\n      <td>NaN</td>\n      <td>NaN</td>\n      <td>NaN</td>\n      <td>NaN</td>\n      <td>NaN</td>\n      <td>NaN</td>\n      <td>NaN</td>\n      <td>NaN</td>\n      <td>NaN</td>\n      <td>NaN</td>\n      <td>NaN</td>\n      <td>NaN</td>\n      <td>NaN</td>\n      <td>NaN</td>\n      <td>NaN</td>\n      <td>NaN</td>\n      <td>NaN</td>\n      <td>NaN</td>\n      <td>NaN</td>\n      <td>NaN</td>\n      <td>NaN</td>\n      <td>NaN</td>\n      <td>NaN</td>\n      <td>NaN</td>\n      <td>NaN</td>\n      <td>NaN</td>\n    </tr>\n    <tr>\n      <th>344014</th>\n      <td>Fragile and conflict affected situations</td>\n      <td>FCS</td>\n      <td>Marine protected areas (% of territorial waters)</td>\n      <td>ER.MRN.PTMR.ZS</td>\n      <td>NaN</td>\n      <td>NaN</td>\n      <td>NaN</td>\n      <td>NaN</td>\n      <td>NaN</td>\n      <td>NaN</td>\n      <td>NaN</td>\n      <td>NaN</td>\n      <td>NaN</td>\n      <td>NaN</td>\n      <td>NaN</td>\n      <td>NaN</td>\n      <td>NaN</td>\n      <td>NaN</td>\n      <td>NaN</td>\n      <td>NaN</td>\n      <td>NaN</td>\n      <td>NaN</td>\n      <td>NaN</td>\n      <td>NaN</td>\n      <td>NaN</td>\n      <td>NaN</td>\n      <td>NaN</td>\n      <td>NaN</td>\n      <td>NaN</td>\n      <td>NaN</td>\n      <td>NaN</td>\n      <td>NaN</td>\n      <td>NaN</td>\n      <td>NaN</td>\n      <td>NaN</td>\n      <td>NaN</td>\n      <td>NaN</td>\n      <td>NaN</td>\n      <td>NaN</td>\n      <td>NaN</td>\n      <td>NaN</td>\n      <td>NaN</td>\n      <td>NaN</td>\n      <td>NaN</td>\n      <td>NaN</td>\n    </tr>\n    <tr>\n      <th>344811</th>\n      <td>Heavily indebted poor countries (HIPC)</td>\n      <td>HPC</td>\n      <td>Agricultural irrigated land (% of total agricu...</td>\n      <td>AG.LND.IRIG.AG.ZS</td>\n      <td>NaN</td>\n      <td>NaN</td>\n      <td>NaN</td>\n      <td>NaN</td>\n      <td>NaN</td>\n      <td>NaN</td>\n      <td>NaN</td>\n      <td>NaN</td>\n      <td>NaN</td>\n      <td>NaN</td>\n      <td>NaN</td>\n      <td>NaN</td>\n      <td>NaN</td>\n      <td>NaN</td>\n      <td>NaN</td>\n      <td>NaN</td>\n      <td>NaN</td>\n      <td>NaN</td>\n      <td>NaN</td>\n      <td>NaN</td>\n      <td>NaN</td>\n      <td>NaN</td>\n      <td>NaN</td>\n      <td>NaN</td>\n      <td>NaN</td>\n      <td>NaN</td>\n      <td>NaN</td>\n      <td>NaN</td>\n      <td>NaN</td>\n      <td>NaN</td>\n      <td>NaN</td>\n      <td>NaN</td>\n      <td>NaN</td>\n      <td>NaN</td>\n      <td>NaN</td>\n      <td>NaN</td>\n      <td>NaN</td>\n      <td>NaN</td>\n      <td>NaN</td>\n      <td>NaN</td>\n      <td>NaN</td>\n    </tr>\n    <tr>\n      <th>345500</th>\n      <td>Heavily indebted poor countries (HIPC)</td>\n      <td>HPC</td>\n      <td>Marine protected areas (% of territorial waters)</td>\n      <td>ER.MRN.PTMR.ZS</td>\n      <td>NaN</td>\n      <td>NaN</td>\n      <td>NaN</td>\n      <td>NaN</td>\n      <td>NaN</td>\n      <td>NaN</td>\n      <td>NaN</td>\n      <td>NaN</td>\n      <td>NaN</td>\n      <td>NaN</td>\n      <td>NaN</td>\n      <td>NaN</td>\n      <td>NaN</td>\n      <td>NaN</td>\n      <td>NaN</td>\n      <td>NaN</td>\n      <td>NaN</td>\n      <td>NaN</td>\n      <td>NaN</td>\n      <td>NaN</td>\n      <td>NaN</td>\n      <td>NaN</td>\n      <td>NaN</td>\n      <td>NaN</td>\n      <td>NaN</td>\n      <td>NaN</td>\n      <td>NaN</td>\n      <td>NaN</td>\n      <td>NaN</td>\n      <td>NaN</td>\n      <td>NaN</td>\n      <td>NaN</td>\n      <td>NaN</td>\n      <td>NaN</td>\n      <td>NaN</td>\n      <td>NaN</td>\n      <td>NaN</td>\n      <td>NaN</td>\n      <td>NaN</td>\n      <td>NaN</td>\n      <td>NaN</td>\n    </tr>\n    <tr>\n      <th>346297</th>\n      <td>High income</td>\n      <td>HIC</td>\n      <td>Agricultural irrigated land (% of total agricu...</td>\n      <td>AG.LND.IRIG.AG.ZS</td>\n      <td>NaN</td>\n      <td>NaN</td>\n      <td>NaN</td>\n      <td>NaN</td>\n      <td>NaN</td>\n      <td>NaN</td>\n      <td>NaN</td>\n      <td>NaN</td>\n      <td>NaN</td>\n      <td>NaN</td>\n      <td>NaN</td>\n      <td>NaN</td>\n      <td>NaN</td>\n      <td>NaN</td>\n      <td>NaN</td>\n      <td>NaN</td>\n      <td>NaN</td>\n      <td>NaN</td>\n      <td>NaN</td>\n      <td>NaN</td>\n      <td>NaN</td>\n      <td>NaN</td>\n      <td>NaN</td>\n      <td>NaN</td>\n      <td>NaN</td>\n      <td>NaN</td>\n      <td>NaN</td>\n      <td>NaN</td>\n      <td>NaN</td>\n      <td>NaN</td>\n      <td>NaN</td>\n      <td>NaN</td>\n      <td>NaN</td>\n      <td>NaN</td>\n      <td>NaN</td>\n      <td>NaN</td>\n      <td>NaN</td>\n      <td>NaN</td>\n      <td>NaN</td>\n      <td>NaN</td>\n      <td>NaN</td>\n    </tr>\n    <tr>\n      <th>347783</th>\n      <td>IBRD only</td>\n      <td>IBD</td>\n      <td>Agricultural irrigated land (% of total agricu...</td>\n      <td>AG.LND.IRIG.AG.ZS</td>\n      <td>NaN</td>\n      <td>NaN</td>\n      <td>NaN</td>\n      <td>NaN</td>\n      <td>NaN</td>\n      <td>NaN</td>\n      <td>NaN</td>\n      <td>NaN</td>\n      <td>NaN</td>\n      <td>NaN</td>\n      <td>NaN</td>\n      <td>NaN</td>\n      <td>NaN</td>\n      <td>NaN</td>\n      <td>NaN</td>\n      <td>NaN</td>\n      <td>NaN</td>\n      <td>NaN</td>\n      <td>NaN</td>\n      <td>NaN</td>\n      <td>NaN</td>\n      <td>NaN</td>\n      <td>NaN</td>\n      <td>NaN</td>\n      <td>NaN</td>\n      <td>NaN</td>\n      <td>NaN</td>\n      <td>NaN</td>\n      <td>NaN</td>\n      <td>NaN</td>\n      <td>NaN</td>\n      <td>NaN</td>\n      <td>NaN</td>\n      <td>NaN</td>\n      <td>NaN</td>\n      <td>NaN</td>\n      <td>NaN</td>\n      <td>NaN</td>\n      <td>NaN</td>\n      <td>NaN</td>\n      <td>NaN</td>\n    </tr>\n    <tr>\n      <th>349269</th>\n      <td>IDA &amp; IBRD total</td>\n      <td>IBT</td>\n      <td>Agricultural irrigated land (% of total agricu...</td>\n      <td>AG.LND.IRIG.AG.ZS</td>\n      <td>NaN</td>\n      <td>NaN</td>\n      <td>NaN</td>\n      <td>NaN</td>\n      <td>NaN</td>\n      <td>NaN</td>\n      <td>NaN</td>\n      <td>NaN</td>\n      <td>NaN</td>\n      <td>NaN</td>\n      <td>NaN</td>\n      <td>NaN</td>\n      <td>NaN</td>\n      <td>NaN</td>\n      <td>NaN</td>\n      <td>NaN</td>\n      <td>NaN</td>\n      <td>NaN</td>\n      <td>NaN</td>\n      <td>NaN</td>\n      <td>NaN</td>\n      <td>NaN</td>\n      <td>NaN</td>\n      <td>NaN</td>\n      <td>NaN</td>\n      <td>NaN</td>\n      <td>NaN</td>\n      <td>NaN</td>\n      <td>NaN</td>\n      <td>NaN</td>\n      <td>NaN</td>\n      <td>NaN</td>\n      <td>NaN</td>\n      <td>NaN</td>\n      <td>NaN</td>\n      <td>NaN</td>\n      <td>NaN</td>\n      <td>NaN</td>\n      <td>NaN</td>\n      <td>NaN</td>\n      <td>NaN</td>\n    </tr>\n    <tr>\n      <th>350755</th>\n      <td>IDA blend</td>\n      <td>IDB</td>\n      <td>Agricultural irrigated land (% of total agricu...</td>\n      <td>AG.LND.IRIG.AG.ZS</td>\n      <td>NaN</td>\n      <td>NaN</td>\n      <td>NaN</td>\n      <td>NaN</td>\n      <td>NaN</td>\n      <td>NaN</td>\n      <td>NaN</td>\n      <td>NaN</td>\n      <td>NaN</td>\n      <td>NaN</td>\n      <td>NaN</td>\n      <td>NaN</td>\n      <td>NaN</td>\n      <td>NaN</td>\n      <td>NaN</td>\n      <td>NaN</td>\n      <td>NaN</td>\n      <td>NaN</td>\n      <td>NaN</td>\n      <td>NaN</td>\n      <td>NaN</td>\n      <td>NaN</td>\n      <td>NaN</td>\n      <td>NaN</td>\n      <td>NaN</td>\n      <td>NaN</td>\n      <td>NaN</td>\n      <td>NaN</td>\n      <td>NaN</td>\n      <td>NaN</td>\n      <td>NaN</td>\n      <td>NaN</td>\n      <td>NaN</td>\n      <td>NaN</td>\n      <td>NaN</td>\n      <td>NaN</td>\n      <td>NaN</td>\n      <td>NaN</td>\n      <td>NaN</td>\n      <td>NaN</td>\n      <td>NaN</td>\n    </tr>\n    <tr>\n      <th>351357</th>\n      <td>IDA blend</td>\n      <td>IDB</td>\n      <td>International tourism, number of arrivals</td>\n      <td>ST.INT.ARVL</td>\n      <td>NaN</td>\n      <td>NaN</td>\n      <td>NaN</td>\n      <td>NaN</td>\n      <td>NaN</td>\n      <td>NaN</td>\n      <td>NaN</td>\n      <td>NaN</td>\n      <td>NaN</td>\n      <td>NaN</td>\n      <td>NaN</td>\n      <td>NaN</td>\n      <td>NaN</td>\n      <td>NaN</td>\n      <td>NaN</td>\n      <td>NaN</td>\n      <td>NaN</td>\n      <td>NaN</td>\n      <td>NaN</td>\n      <td>NaN</td>\n      <td>NaN</td>\n      <td>NaN</td>\n      <td>NaN</td>\n      <td>NaN</td>\n      <td>NaN</td>\n      <td>NaN</td>\n      <td>NaN</td>\n      <td>NaN</td>\n      <td>NaN</td>\n      <td>NaN</td>\n      <td>NaN</td>\n      <td>NaN</td>\n      <td>NaN</td>\n      <td>NaN</td>\n      <td>NaN</td>\n      <td>NaN</td>\n      <td>NaN</td>\n      <td>NaN</td>\n      <td>NaN</td>\n      <td>NaN</td>\n      <td>NaN</td>\n    </tr>\n    <tr>\n      <th>352241</th>\n      <td>IDA only</td>\n      <td>IDX</td>\n      <td>Agricultural irrigated land (% of total agricu...</td>\n      <td>AG.LND.IRIG.AG.ZS</td>\n      <td>NaN</td>\n      <td>NaN</td>\n      <td>NaN</td>\n      <td>NaN</td>\n      <td>NaN</td>\n      <td>NaN</td>\n      <td>NaN</td>\n      <td>NaN</td>\n      <td>NaN</td>\n      <td>NaN</td>\n      <td>NaN</td>\n      <td>NaN</td>\n      <td>NaN</td>\n      <td>NaN</td>\n      <td>NaN</td>\n      <td>NaN</td>\n      <td>NaN</td>\n      <td>NaN</td>\n      <td>NaN</td>\n      <td>NaN</td>\n      <td>NaN</td>\n      <td>NaN</td>\n      <td>NaN</td>\n      <td>NaN</td>\n      <td>NaN</td>\n      <td>NaN</td>\n      <td>NaN</td>\n      <td>NaN</td>\n      <td>NaN</td>\n      <td>NaN</td>\n      <td>NaN</td>\n      <td>NaN</td>\n      <td>NaN</td>\n      <td>NaN</td>\n      <td>NaN</td>\n      <td>NaN</td>\n      <td>NaN</td>\n      <td>NaN</td>\n      <td>NaN</td>\n      <td>NaN</td>\n      <td>NaN</td>\n    </tr>\n    <tr>\n      <th>352930</th>\n      <td>IDA only</td>\n      <td>IDX</td>\n      <td>Marine protected areas (% of territorial waters)</td>\n      <td>ER.MRN.PTMR.ZS</td>\n      <td>NaN</td>\n      <td>NaN</td>\n      <td>NaN</td>\n      <td>NaN</td>\n      <td>NaN</td>\n      <td>NaN</td>\n      <td>NaN</td>\n      <td>NaN</td>\n      <td>NaN</td>\n      <td>NaN</td>\n      <td>NaN</td>\n      <td>NaN</td>\n      <td>NaN</td>\n      <td>NaN</td>\n      <td>NaN</td>\n      <td>NaN</td>\n      <td>NaN</td>\n      <td>NaN</td>\n      <td>NaN</td>\n      <td>NaN</td>\n      <td>NaN</td>\n      <td>NaN</td>\n      <td>NaN</td>\n      <td>NaN</td>\n      <td>NaN</td>\n      <td>NaN</td>\n      <td>NaN</td>\n      <td>NaN</td>\n      <td>NaN</td>\n      <td>NaN</td>\n      <td>NaN</td>\n      <td>NaN</td>\n      <td>NaN</td>\n      <td>NaN</td>\n      <td>NaN</td>\n      <td>NaN</td>\n      <td>NaN</td>\n      <td>NaN</td>\n      <td>NaN</td>\n      <td>NaN</td>\n      <td>NaN</td>\n    </tr>\n    <tr>\n      <th>353727</th>\n      <td>IDA total</td>\n      <td>IDA</td>\n      <td>Agricultural irrigated land (% of total agricu...</td>\n      <td>AG.LND.IRIG.AG.ZS</td>\n      <td>NaN</td>\n      <td>NaN</td>\n      <td>NaN</td>\n      <td>NaN</td>\n      <td>NaN</td>\n      <td>NaN</td>\n      <td>NaN</td>\n      <td>NaN</td>\n      <td>NaN</td>\n      <td>NaN</td>\n      <td>NaN</td>\n      <td>NaN</td>\n      <td>NaN</td>\n      <td>NaN</td>\n      <td>NaN</td>\n      <td>NaN</td>\n      <td>NaN</td>\n      <td>NaN</td>\n      <td>NaN</td>\n      <td>NaN</td>\n      <td>NaN</td>\n      <td>NaN</td>\n      <td>NaN</td>\n      <td>NaN</td>\n      <td>NaN</td>\n      <td>NaN</td>\n      <td>NaN</td>\n      <td>NaN</td>\n      <td>NaN</td>\n      <td>NaN</td>\n      <td>NaN</td>\n      <td>NaN</td>\n      <td>NaN</td>\n      <td>NaN</td>\n      <td>NaN</td>\n      <td>NaN</td>\n      <td>NaN</td>\n      <td>NaN</td>\n      <td>NaN</td>\n      <td>NaN</td>\n      <td>NaN</td>\n    </tr>\n    <tr>\n      <th>354416</th>\n      <td>IDA total</td>\n      <td>IDA</td>\n      <td>Marine protected areas (% of territorial waters)</td>\n      <td>ER.MRN.PTMR.ZS</td>\n      <td>NaN</td>\n      <td>NaN</td>\n      <td>NaN</td>\n      <td>NaN</td>\n      <td>NaN</td>\n      <td>NaN</td>\n      <td>NaN</td>\n      <td>NaN</td>\n      <td>NaN</td>\n      <td>NaN</td>\n      <td>NaN</td>\n      <td>NaN</td>\n      <td>NaN</td>\n      <td>NaN</td>\n      <td>NaN</td>\n      <td>NaN</td>\n      <td>NaN</td>\n      <td>NaN</td>\n      <td>NaN</td>\n      <td>NaN</td>\n      <td>NaN</td>\n      <td>NaN</td>\n      <td>NaN</td>\n      <td>NaN</td>\n      <td>NaN</td>\n      <td>NaN</td>\n      <td>NaN</td>\n      <td>NaN</td>\n      <td>NaN</td>\n      <td>NaN</td>\n      <td>NaN</td>\n      <td>NaN</td>\n      <td>NaN</td>\n      <td>NaN</td>\n      <td>NaN</td>\n      <td>NaN</td>\n      <td>NaN</td>\n      <td>NaN</td>\n      <td>NaN</td>\n      <td>NaN</td>\n      <td>NaN</td>\n    </tr>\n    <tr>\n      <th>355213</th>\n      <td>Late-demographic dividend</td>\n      <td>LTE</td>\n      <td>Agricultural irrigated land (% of total agricu...</td>\n      <td>AG.LND.IRIG.AG.ZS</td>\n      <td>NaN</td>\n      <td>NaN</td>\n      <td>NaN</td>\n      <td>NaN</td>\n      <td>NaN</td>\n      <td>NaN</td>\n      <td>NaN</td>\n      <td>NaN</td>\n      <td>NaN</td>\n      <td>NaN</td>\n      <td>NaN</td>\n      <td>NaN</td>\n      <td>NaN</td>\n      <td>NaN</td>\n      <td>NaN</td>\n      <td>NaN</td>\n      <td>NaN</td>\n      <td>NaN</td>\n      <td>NaN</td>\n      <td>NaN</td>\n      <td>NaN</td>\n      <td>NaN</td>\n      <td>NaN</td>\n      <td>NaN</td>\n      <td>NaN</td>\n      <td>NaN</td>\n      <td>NaN</td>\n      <td>NaN</td>\n      <td>NaN</td>\n      <td>NaN</td>\n      <td>NaN</td>\n      <td>NaN</td>\n      <td>NaN</td>\n      <td>NaN</td>\n      <td>NaN</td>\n      <td>NaN</td>\n      <td>NaN</td>\n      <td>NaN</td>\n      <td>NaN</td>\n      <td>NaN</td>\n      <td>NaN</td>\n    </tr>\n    <tr>\n      <th>356699</th>\n      <td>Latin America &amp; Caribbean</td>\n      <td>LCN</td>\n      <td>Agricultural irrigated land (% of total agricu...</td>\n      <td>AG.LND.IRIG.AG.ZS</td>\n      <td>NaN</td>\n      <td>NaN</td>\n      <td>NaN</td>\n      <td>NaN</td>\n      <td>NaN</td>\n      <td>NaN</td>\n      <td>NaN</td>\n      <td>NaN</td>\n      <td>NaN</td>\n      <td>NaN</td>\n      <td>NaN</td>\n      <td>NaN</td>\n      <td>NaN</td>\n      <td>NaN</td>\n      <td>NaN</td>\n      <td>NaN</td>\n      <td>NaN</td>\n      <td>NaN</td>\n      <td>NaN</td>\n      <td>NaN</td>\n      <td>NaN</td>\n      <td>NaN</td>\n      <td>NaN</td>\n      <td>NaN</td>\n      <td>NaN</td>\n      <td>NaN</td>\n      <td>NaN</td>\n      <td>NaN</td>\n      <td>NaN</td>\n      <td>NaN</td>\n      <td>NaN</td>\n      <td>NaN</td>\n      <td>NaN</td>\n      <td>NaN</td>\n      <td>NaN</td>\n      <td>NaN</td>\n      <td>NaN</td>\n      <td>NaN</td>\n      <td>NaN</td>\n      <td>NaN</td>\n      <td>NaN</td>\n    </tr>\n    <tr>\n      <th>358185</th>\n      <td>Latin America &amp; Caribbean (excluding high income)</td>\n      <td>LAC</td>\n      <td>Agricultural irrigated land (% of total agricu...</td>\n      <td>AG.LND.IRIG.AG.ZS</td>\n      <td>NaN</td>\n      <td>NaN</td>\n      <td>NaN</td>\n      <td>NaN</td>\n      <td>NaN</td>\n      <td>NaN</td>\n      <td>NaN</td>\n      <td>NaN</td>\n      <td>NaN</td>\n      <td>NaN</td>\n      <td>NaN</td>\n      <td>NaN</td>\n      <td>NaN</td>\n      <td>NaN</td>\n      <td>NaN</td>\n      <td>NaN</td>\n      <td>NaN</td>\n      <td>NaN</td>\n      <td>NaN</td>\n      <td>NaN</td>\n      <td>NaN</td>\n      <td>NaN</td>\n      <td>NaN</td>\n      <td>NaN</td>\n      <td>NaN</td>\n      <td>NaN</td>\n      <td>NaN</td>\n      <td>NaN</td>\n      <td>NaN</td>\n      <td>NaN</td>\n      <td>NaN</td>\n      <td>NaN</td>\n      <td>NaN</td>\n      <td>NaN</td>\n      <td>NaN</td>\n      <td>NaN</td>\n      <td>NaN</td>\n      <td>NaN</td>\n      <td>NaN</td>\n      <td>NaN</td>\n      <td>NaN</td>\n    </tr>\n    <tr>\n      <th>359671</th>\n      <td>Latin America &amp; the Caribbean (IDA &amp; IBRD coun...</td>\n      <td>TLA</td>\n      <td>Agricultural irrigated land (% of total agricu...</td>\n      <td>AG.LND.IRIG.AG.ZS</td>\n      <td>NaN</td>\n      <td>NaN</td>\n      <td>NaN</td>\n      <td>NaN</td>\n      <td>NaN</td>\n      <td>NaN</td>\n      <td>NaN</td>\n      <td>NaN</td>\n      <td>NaN</td>\n      <td>NaN</td>\n      <td>NaN</td>\n      <td>NaN</td>\n      <td>NaN</td>\n      <td>NaN</td>\n      <td>NaN</td>\n      <td>NaN</td>\n      <td>NaN</td>\n      <td>NaN</td>\n      <td>NaN</td>\n      <td>NaN</td>\n      <td>NaN</td>\n      <td>NaN</td>\n      <td>NaN</td>\n      <td>NaN</td>\n      <td>NaN</td>\n      <td>NaN</td>\n      <td>NaN</td>\n      <td>NaN</td>\n      <td>NaN</td>\n      <td>NaN</td>\n      <td>NaN</td>\n      <td>NaN</td>\n      <td>NaN</td>\n      <td>NaN</td>\n      <td>NaN</td>\n      <td>NaN</td>\n      <td>NaN</td>\n      <td>NaN</td>\n      <td>NaN</td>\n      <td>NaN</td>\n      <td>NaN</td>\n    </tr>\n    <tr>\n      <th>361157</th>\n      <td>Least developed countries: UN classification</td>\n      <td>LDC</td>\n      <td>Agricultural irrigated land (% of total agricu...</td>\n      <td>AG.LND.IRIG.AG.ZS</td>\n      <td>NaN</td>\n      <td>NaN</td>\n      <td>NaN</td>\n      <td>NaN</td>\n      <td>NaN</td>\n      <td>NaN</td>\n      <td>NaN</td>\n      <td>NaN</td>\n      <td>NaN</td>\n      <td>NaN</td>\n      <td>NaN</td>\n      <td>NaN</td>\n      <td>NaN</td>\n      <td>NaN</td>\n      <td>NaN</td>\n      <td>NaN</td>\n      <td>NaN</td>\n      <td>NaN</td>\n      <td>NaN</td>\n      <td>NaN</td>\n      <td>NaN</td>\n      <td>NaN</td>\n      <td>NaN</td>\n      <td>NaN</td>\n      <td>NaN</td>\n      <td>NaN</td>\n      <td>NaN</td>\n      <td>NaN</td>\n      <td>NaN</td>\n      <td>NaN</td>\n      <td>NaN</td>\n      <td>NaN</td>\n      <td>NaN</td>\n      <td>NaN</td>\n      <td>NaN</td>\n      <td>NaN</td>\n      <td>NaN</td>\n      <td>NaN</td>\n      <td>NaN</td>\n      <td>NaN</td>\n      <td>NaN</td>\n    </tr>\n    <tr>\n      <th>361846</th>\n      <td>Least developed countries: UN classification</td>\n      <td>LDC</td>\n      <td>Marine protected areas (% of territorial waters)</td>\n      <td>ER.MRN.PTMR.ZS</td>\n      <td>NaN</td>\n      <td>NaN</td>\n      <td>NaN</td>\n      <td>NaN</td>\n      <td>NaN</td>\n      <td>NaN</td>\n      <td>NaN</td>\n      <td>NaN</td>\n      <td>NaN</td>\n      <td>NaN</td>\n      <td>NaN</td>\n      <td>NaN</td>\n      <td>NaN</td>\n      <td>NaN</td>\n      <td>NaN</td>\n      <td>NaN</td>\n      <td>NaN</td>\n      <td>NaN</td>\n      <td>NaN</td>\n      <td>NaN</td>\n      <td>NaN</td>\n      <td>NaN</td>\n      <td>NaN</td>\n      <td>NaN</td>\n      <td>NaN</td>\n      <td>NaN</td>\n      <td>NaN</td>\n      <td>NaN</td>\n      <td>NaN</td>\n      <td>NaN</td>\n      <td>NaN</td>\n      <td>NaN</td>\n      <td>NaN</td>\n      <td>NaN</td>\n      <td>NaN</td>\n      <td>NaN</td>\n      <td>NaN</td>\n      <td>NaN</td>\n      <td>NaN</td>\n      <td>NaN</td>\n      <td>NaN</td>\n    </tr>\n    <tr>\n      <th>362643</th>\n      <td>Low &amp; middle income</td>\n      <td>LMY</td>\n      <td>Agricultural irrigated land (% of total agricu...</td>\n      <td>AG.LND.IRIG.AG.ZS</td>\n      <td>NaN</td>\n      <td>NaN</td>\n      <td>NaN</td>\n      <td>NaN</td>\n      <td>NaN</td>\n      <td>NaN</td>\n      <td>NaN</td>\n      <td>NaN</td>\n      <td>NaN</td>\n      <td>NaN</td>\n      <td>NaN</td>\n      <td>NaN</td>\n      <td>NaN</td>\n      <td>NaN</td>\n      <td>NaN</td>\n      <td>NaN</td>\n      <td>NaN</td>\n      <td>NaN</td>\n      <td>NaN</td>\n      <td>NaN</td>\n      <td>NaN</td>\n      <td>NaN</td>\n      <td>NaN</td>\n      <td>NaN</td>\n      <td>NaN</td>\n      <td>NaN</td>\n      <td>NaN</td>\n      <td>NaN</td>\n      <td>NaN</td>\n      <td>NaN</td>\n      <td>NaN</td>\n      <td>NaN</td>\n      <td>NaN</td>\n      <td>NaN</td>\n      <td>NaN</td>\n      <td>NaN</td>\n      <td>NaN</td>\n      <td>NaN</td>\n      <td>NaN</td>\n      <td>NaN</td>\n      <td>NaN</td>\n    </tr>\n    <tr>\n      <th>364129</th>\n      <td>Low income</td>\n      <td>LIC</td>\n      <td>Agricultural irrigated land (% of total agricu...</td>\n      <td>AG.LND.IRIG.AG.ZS</td>\n      <td>NaN</td>\n      <td>NaN</td>\n      <td>NaN</td>\n      <td>NaN</td>\n      <td>NaN</td>\n      <td>NaN</td>\n      <td>NaN</td>\n      <td>NaN</td>\n      <td>NaN</td>\n      <td>NaN</td>\n      <td>NaN</td>\n      <td>NaN</td>\n      <td>NaN</td>\n      <td>NaN</td>\n      <td>NaN</td>\n      <td>NaN</td>\n      <td>NaN</td>\n      <td>NaN</td>\n      <td>NaN</td>\n      <td>NaN</td>\n      <td>NaN</td>\n      <td>NaN</td>\n      <td>NaN</td>\n      <td>NaN</td>\n      <td>NaN</td>\n      <td>NaN</td>\n      <td>NaN</td>\n      <td>NaN</td>\n      <td>NaN</td>\n      <td>NaN</td>\n      <td>NaN</td>\n      <td>NaN</td>\n      <td>NaN</td>\n      <td>NaN</td>\n      <td>NaN</td>\n      <td>NaN</td>\n      <td>NaN</td>\n      <td>NaN</td>\n      <td>NaN</td>\n      <td>NaN</td>\n      <td>NaN</td>\n    </tr>\n    <tr>\n      <th>364818</th>\n      <td>Low income</td>\n      <td>LIC</td>\n      <td>Marine protected areas (% of territorial waters)</td>\n      <td>ER.MRN.PTMR.ZS</td>\n      <td>NaN</td>\n      <td>NaN</td>\n      <td>NaN</td>\n      <td>NaN</td>\n      <td>NaN</td>\n      <td>NaN</td>\n      <td>NaN</td>\n      <td>NaN</td>\n      <td>NaN</td>\n      <td>NaN</td>\n      <td>NaN</td>\n      <td>NaN</td>\n      <td>NaN</td>\n      <td>NaN</td>\n      <td>NaN</td>\n      <td>NaN</td>\n      <td>NaN</td>\n      <td>NaN</td>\n      <td>NaN</td>\n      <td>NaN</td>\n      <td>NaN</td>\n      <td>NaN</td>\n      <td>NaN</td>\n      <td>NaN</td>\n      <td>NaN</td>\n      <td>NaN</td>\n      <td>NaN</td>\n      <td>NaN</td>\n      <td>NaN</td>\n      <td>NaN</td>\n      <td>NaN</td>\n      <td>NaN</td>\n      <td>NaN</td>\n      <td>NaN</td>\n      <td>NaN</td>\n      <td>NaN</td>\n      <td>NaN</td>\n      <td>NaN</td>\n      <td>NaN</td>\n      <td>NaN</td>\n      <td>NaN</td>\n    </tr>\n    <tr>\n      <th>365615</th>\n      <td>Lower middle income</td>\n      <td>LMC</td>\n      <td>Agricultural irrigated land (% of total agricu...</td>\n      <td>AG.LND.IRIG.AG.ZS</td>\n      <td>NaN</td>\n      <td>NaN</td>\n      <td>NaN</td>\n      <td>NaN</td>\n      <td>NaN</td>\n      <td>NaN</td>\n      <td>NaN</td>\n      <td>NaN</td>\n      <td>NaN</td>\n      <td>NaN</td>\n      <td>NaN</td>\n      <td>NaN</td>\n      <td>NaN</td>\n      <td>NaN</td>\n      <td>NaN</td>\n      <td>NaN</td>\n      <td>NaN</td>\n      <td>NaN</td>\n      <td>NaN</td>\n      <td>NaN</td>\n      <td>NaN</td>\n      <td>NaN</td>\n      <td>NaN</td>\n      <td>NaN</td>\n      <td>NaN</td>\n      <td>NaN</td>\n      <td>NaN</td>\n      <td>NaN</td>\n      <td>NaN</td>\n      <td>NaN</td>\n      <td>NaN</td>\n      <td>NaN</td>\n      <td>NaN</td>\n      <td>NaN</td>\n      <td>NaN</td>\n      <td>NaN</td>\n      <td>NaN</td>\n      <td>NaN</td>\n      <td>NaN</td>\n      <td>NaN</td>\n      <td>NaN</td>\n    </tr>\n    <tr>\n      <th>367101</th>\n      <td>Middle East &amp; North Africa</td>\n      <td>MEA</td>\n      <td>Agricultural irrigated land (% of total agricu...</td>\n      <td>AG.LND.IRIG.AG.ZS</td>\n      <td>NaN</td>\n      <td>NaN</td>\n      <td>NaN</td>\n      <td>NaN</td>\n      <td>NaN</td>\n      <td>NaN</td>\n      <td>NaN</td>\n      <td>NaN</td>\n      <td>NaN</td>\n      <td>NaN</td>\n      <td>NaN</td>\n      <td>NaN</td>\n      <td>NaN</td>\n      <td>NaN</td>\n      <td>NaN</td>\n      <td>NaN</td>\n      <td>NaN</td>\n      <td>NaN</td>\n      <td>NaN</td>\n      <td>NaN</td>\n      <td>NaN</td>\n      <td>NaN</td>\n      <td>NaN</td>\n      <td>NaN</td>\n      <td>NaN</td>\n      <td>NaN</td>\n      <td>NaN</td>\n      <td>NaN</td>\n      <td>NaN</td>\n      <td>NaN</td>\n      <td>NaN</td>\n      <td>NaN</td>\n      <td>NaN</td>\n      <td>NaN</td>\n      <td>NaN</td>\n      <td>NaN</td>\n      <td>NaN</td>\n      <td>NaN</td>\n      <td>NaN</td>\n      <td>NaN</td>\n      <td>NaN</td>\n    </tr>\n    <tr>\n      <th>368587</th>\n      <td>Middle East &amp; North Africa (excluding high inc...</td>\n      <td>MNA</td>\n      <td>Agricultural irrigated land (% of total agricu...</td>\n      <td>AG.LND.IRIG.AG.ZS</td>\n      <td>NaN</td>\n      <td>NaN</td>\n      <td>NaN</td>\n      <td>NaN</td>\n      <td>NaN</td>\n      <td>NaN</td>\n      <td>NaN</td>\n      <td>NaN</td>\n      <td>NaN</td>\n      <td>NaN</td>\n      <td>NaN</td>\n      <td>NaN</td>\n      <td>NaN</td>\n      <td>NaN</td>\n      <td>NaN</td>\n      <td>NaN</td>\n      <td>NaN</td>\n      <td>NaN</td>\n      <td>NaN</td>\n      <td>NaN</td>\n      <td>NaN</td>\n      <td>NaN</td>\n      <td>NaN</td>\n      <td>NaN</td>\n      <td>NaN</td>\n      <td>NaN</td>\n      <td>NaN</td>\n      <td>NaN</td>\n      <td>NaN</td>\n      <td>NaN</td>\n      <td>NaN</td>\n      <td>NaN</td>\n      <td>NaN</td>\n      <td>NaN</td>\n      <td>NaN</td>\n      <td>NaN</td>\n      <td>NaN</td>\n      <td>NaN</td>\n      <td>NaN</td>\n      <td>NaN</td>\n      <td>NaN</td>\n    </tr>\n    <tr>\n      <th>370073</th>\n      <td>Middle East &amp; North Africa (IDA &amp; IBRD countries)</td>\n      <td>TMN</td>\n      <td>Agricultural irrigated land (% of total agricu...</td>\n      <td>AG.LND.IRIG.AG.ZS</td>\n      <td>NaN</td>\n      <td>NaN</td>\n      <td>NaN</td>\n      <td>NaN</td>\n      <td>NaN</td>\n      <td>NaN</td>\n      <td>NaN</td>\n      <td>NaN</td>\n      <td>NaN</td>\n      <td>NaN</td>\n      <td>NaN</td>\n      <td>NaN</td>\n      <td>NaN</td>\n      <td>NaN</td>\n      <td>NaN</td>\n      <td>NaN</td>\n      <td>NaN</td>\n      <td>NaN</td>\n      <td>NaN</td>\n      <td>NaN</td>\n      <td>NaN</td>\n      <td>NaN</td>\n      <td>NaN</td>\n      <td>NaN</td>\n      <td>NaN</td>\n      <td>NaN</td>\n      <td>NaN</td>\n      <td>NaN</td>\n      <td>NaN</td>\n      <td>NaN</td>\n      <td>NaN</td>\n      <td>NaN</td>\n      <td>NaN</td>\n      <td>NaN</td>\n      <td>NaN</td>\n      <td>NaN</td>\n      <td>NaN</td>\n      <td>NaN</td>\n      <td>NaN</td>\n      <td>NaN</td>\n      <td>NaN</td>\n    </tr>\n    <tr>\n      <th>371559</th>\n      <td>Middle income</td>\n      <td>MIC</td>\n      <td>Agricultural irrigated land (% of total agricu...</td>\n      <td>AG.LND.IRIG.AG.ZS</td>\n      <td>NaN</td>\n      <td>NaN</td>\n      <td>NaN</td>\n      <td>NaN</td>\n      <td>NaN</td>\n      <td>NaN</td>\n      <td>NaN</td>\n      <td>NaN</td>\n      <td>NaN</td>\n      <td>NaN</td>\n      <td>NaN</td>\n      <td>NaN</td>\n      <td>NaN</td>\n      <td>NaN</td>\n      <td>NaN</td>\n      <td>NaN</td>\n      <td>NaN</td>\n      <td>NaN</td>\n      <td>NaN</td>\n      <td>NaN</td>\n      <td>NaN</td>\n      <td>NaN</td>\n      <td>NaN</td>\n      <td>NaN</td>\n      <td>NaN</td>\n      <td>NaN</td>\n      <td>NaN</td>\n      <td>NaN</td>\n      <td>NaN</td>\n      <td>NaN</td>\n      <td>NaN</td>\n      <td>NaN</td>\n      <td>NaN</td>\n      <td>NaN</td>\n      <td>NaN</td>\n      <td>NaN</td>\n      <td>NaN</td>\n      <td>NaN</td>\n      <td>NaN</td>\n      <td>NaN</td>\n      <td>NaN</td>\n    </tr>\n    <tr>\n      <th>373045</th>\n      <td>North America</td>\n      <td>NAC</td>\n      <td>Agricultural irrigated land (% of total agricu...</td>\n      <td>AG.LND.IRIG.AG.ZS</td>\n      <td>NaN</td>\n      <td>NaN</td>\n      <td>NaN</td>\n      <td>NaN</td>\n      <td>NaN</td>\n      <td>NaN</td>\n      <td>NaN</td>\n      <td>NaN</td>\n      <td>NaN</td>\n      <td>NaN</td>\n      <td>NaN</td>\n      <td>NaN</td>\n      <td>NaN</td>\n      <td>NaN</td>\n      <td>NaN</td>\n      <td>NaN</td>\n      <td>NaN</td>\n      <td>NaN</td>\n      <td>NaN</td>\n      <td>NaN</td>\n      <td>NaN</td>\n      <td>NaN</td>\n      <td>NaN</td>\n      <td>NaN</td>\n      <td>NaN</td>\n      <td>NaN</td>\n      <td>NaN</td>\n      <td>NaN</td>\n      <td>NaN</td>\n      <td>NaN</td>\n      <td>NaN</td>\n      <td>NaN</td>\n      <td>NaN</td>\n      <td>NaN</td>\n      <td>NaN</td>\n      <td>NaN</td>\n      <td>NaN</td>\n      <td>NaN</td>\n      <td>NaN</td>\n      <td>NaN</td>\n      <td>NaN</td>\n    </tr>\n    <tr>\n      <th>374531</th>\n      <td>Not classified</td>\n      <td>INX</td>\n      <td>Agricultural irrigated land (% of total agricu...</td>\n      <td>AG.LND.IRIG.AG.ZS</td>\n      <td>NaN</td>\n      <td>NaN</td>\n      <td>NaN</td>\n      <td>NaN</td>\n      <td>NaN</td>\n      <td>NaN</td>\n      <td>NaN</td>\n      <td>NaN</td>\n      <td>NaN</td>\n      <td>NaN</td>\n      <td>NaN</td>\n      <td>NaN</td>\n      <td>NaN</td>\n      <td>NaN</td>\n      <td>NaN</td>\n      <td>NaN</td>\n      <td>NaN</td>\n      <td>NaN</td>\n      <td>NaN</td>\n      <td>NaN</td>\n      <td>NaN</td>\n      <td>NaN</td>\n      <td>NaN</td>\n      <td>NaN</td>\n      <td>NaN</td>\n      <td>NaN</td>\n      <td>NaN</td>\n      <td>NaN</td>\n      <td>NaN</td>\n      <td>NaN</td>\n      <td>NaN</td>\n      <td>NaN</td>\n      <td>NaN</td>\n      <td>NaN</td>\n      <td>NaN</td>\n      <td>NaN</td>\n      <td>NaN</td>\n      <td>NaN</td>\n      <td>NaN</td>\n      <td>NaN</td>\n      <td>NaN</td>\n    </tr>\n    <tr>\n      <th>374532</th>\n      <td>Not classified</td>\n      <td>INX</td>\n      <td>Agricultural land (% of land area)</td>\n      <td>AG.LND.AGRI.ZS</td>\n      <td>NaN</td>\n      <td>NaN</td>\n      <td>NaN</td>\n      <td>NaN</td>\n      <td>NaN</td>\n      <td>NaN</td>\n      <td>NaN</td>\n      <td>NaN</td>\n      <td>NaN</td>\n      <td>NaN</td>\n      <td>NaN</td>\n      <td>NaN</td>\n      <td>NaN</td>\n      <td>NaN</td>\n      <td>NaN</td>\n      <td>NaN</td>\n      <td>NaN</td>\n      <td>NaN</td>\n      <td>NaN</td>\n      <td>NaN</td>\n      <td>NaN</td>\n      <td>NaN</td>\n      <td>NaN</td>\n      <td>NaN</td>\n      <td>NaN</td>\n      <td>NaN</td>\n      <td>NaN</td>\n      <td>NaN</td>\n      <td>NaN</td>\n      <td>NaN</td>\n      <td>NaN</td>\n      <td>NaN</td>\n      <td>NaN</td>\n      <td>NaN</td>\n      <td>NaN</td>\n      <td>NaN</td>\n      <td>NaN</td>\n      <td>NaN</td>\n      <td>NaN</td>\n      <td>NaN</td>\n      <td>NaN</td>\n    </tr>\n    <tr>\n      <th>374533</th>\n      <td>Not classified</td>\n      <td>INX</td>\n      <td>Agricultural land (sq. km)</td>\n      <td>AG.LND.AGRI.K2</td>\n      <td>NaN</td>\n      <td>NaN</td>\n      <td>NaN</td>\n      <td>NaN</td>\n      <td>NaN</td>\n      <td>NaN</td>\n      <td>NaN</td>\n      <td>NaN</td>\n      <td>NaN</td>\n      <td>NaN</td>\n      <td>NaN</td>\n      <td>NaN</td>\n      <td>NaN</td>\n      <td>NaN</td>\n      <td>NaN</td>\n      <td>NaN</td>\n      <td>NaN</td>\n      <td>NaN</td>\n      <td>NaN</td>\n      <td>NaN</td>\n      <td>NaN</td>\n      <td>NaN</td>\n      <td>NaN</td>\n      <td>NaN</td>\n      <td>NaN</td>\n      <td>NaN</td>\n      <td>NaN</td>\n      <td>NaN</td>\n      <td>NaN</td>\n      <td>NaN</td>\n      <td>NaN</td>\n      <td>NaN</td>\n      <td>NaN</td>\n      <td>NaN</td>\n      <td>NaN</td>\n      <td>NaN</td>\n      <td>NaN</td>\n      <td>NaN</td>\n      <td>NaN</td>\n      <td>NaN</td>\n      <td>NaN</td>\n    </tr>\n    <tr>\n      <th>374542</th>\n      <td>Not classified</td>\n      <td>INX</td>\n      <td>Agriculture, forestry, and fishing, value adde...</td>\n      <td>NV.AGR.TOTL.ZS</td>\n      <td>NaN</td>\n      <td>NaN</td>\n      <td>NaN</td>\n      <td>NaN</td>\n      <td>NaN</td>\n      <td>NaN</td>\n      <td>NaN</td>\n      <td>NaN</td>\n      <td>NaN</td>\n      <td>NaN</td>\n      <td>NaN</td>\n      <td>NaN</td>\n      <td>NaN</td>\n      <td>NaN</td>\n      <td>NaN</td>\n      <td>NaN</td>\n      <td>NaN</td>\n      <td>NaN</td>\n      <td>NaN</td>\n      <td>NaN</td>\n      <td>NaN</td>\n      <td>NaN</td>\n      <td>NaN</td>\n      <td>NaN</td>\n      <td>NaN</td>\n      <td>NaN</td>\n      <td>NaN</td>\n      <td>NaN</td>\n      <td>NaN</td>\n      <td>NaN</td>\n      <td>NaN</td>\n      <td>NaN</td>\n      <td>NaN</td>\n      <td>NaN</td>\n      <td>NaN</td>\n      <td>NaN</td>\n      <td>NaN</td>\n      <td>NaN</td>\n      <td>NaN</td>\n      <td>NaN</td>\n      <td>NaN</td>\n    </tr>\n    <tr>\n      <th>374543</th>\n      <td>Not classified</td>\n      <td>INX</td>\n      <td>Agriculture, forestry, and fishing, value adde...</td>\n      <td>NV.AGR.TOTL.KD.ZG</td>\n      <td>NaN</td>\n      <td>NaN</td>\n      <td>NaN</td>\n      <td>NaN</td>\n      <td>NaN</td>\n      <td>NaN</td>\n      <td>NaN</td>\n      <td>NaN</td>\n      <td>NaN</td>\n      <td>NaN</td>\n      <td>NaN</td>\n      <td>NaN</td>\n      <td>NaN</td>\n      <td>NaN</td>\n      <td>NaN</td>\n      <td>NaN</td>\n      <td>NaN</td>\n      <td>NaN</td>\n      <td>NaN</td>\n      <td>NaN</td>\n      <td>NaN</td>\n      <td>NaN</td>\n      <td>NaN</td>\n      <td>NaN</td>\n      <td>NaN</td>\n      <td>NaN</td>\n      <td>NaN</td>\n      <td>NaN</td>\n      <td>NaN</td>\n      <td>NaN</td>\n      <td>NaN</td>\n      <td>NaN</td>\n      <td>NaN</td>\n      <td>NaN</td>\n      <td>NaN</td>\n      <td>NaN</td>\n      <td>NaN</td>\n      <td>NaN</td>\n      <td>NaN</td>\n      <td>NaN</td>\n      <td>NaN</td>\n    </tr>\n    <tr>\n      <th>374547</th>\n      <td>Not classified</td>\n      <td>INX</td>\n      <td>Agriculture, forestry, and fishing, value adde...</td>\n      <td>NV.AGR.TOTL.CD</td>\n      <td>NaN</td>\n      <td>NaN</td>\n      <td>NaN</td>\n      <td>NaN</td>\n      <td>NaN</td>\n      <td>NaN</td>\n      <td>NaN</td>\n      <td>NaN</td>\n      <td>NaN</td>\n      <td>NaN</td>\n      <td>NaN</td>\n      <td>NaN</td>\n      <td>NaN</td>\n      <td>NaN</td>\n      <td>NaN</td>\n      <td>NaN</td>\n      <td>NaN</td>\n      <td>NaN</td>\n      <td>NaN</td>\n      <td>NaN</td>\n      <td>NaN</td>\n      <td>NaN</td>\n      <td>NaN</td>\n      <td>NaN</td>\n      <td>NaN</td>\n      <td>NaN</td>\n      <td>NaN</td>\n      <td>NaN</td>\n      <td>NaN</td>\n      <td>NaN</td>\n      <td>NaN</td>\n      <td>NaN</td>\n      <td>NaN</td>\n      <td>NaN</td>\n      <td>NaN</td>\n      <td>NaN</td>\n      <td>NaN</td>\n      <td>NaN</td>\n      <td>NaN</td>\n      <td>NaN</td>\n      <td>NaN</td>\n    </tr>\n    <tr>\n      <th>374562</th>\n      <td>Not classified</td>\n      <td>INX</td>\n      <td>Aquaculture production (metric tons)</td>\n      <td>ER.FSH.AQUA.MT</td>\n      <td>NaN</td>\n      <td>NaN</td>\n      <td>NaN</td>\n      <td>NaN</td>\n      <td>NaN</td>\n      <td>NaN</td>\n      <td>NaN</td>\n      <td>NaN</td>\n      <td>NaN</td>\n      <td>NaN</td>\n      <td>NaN</td>\n      <td>NaN</td>\n      <td>NaN</td>\n      <td>NaN</td>\n      <td>NaN</td>\n      <td>NaN</td>\n      <td>NaN</td>\n      <td>NaN</td>\n      <td>NaN</td>\n      <td>NaN</td>\n      <td>NaN</td>\n      <td>NaN</td>\n      <td>NaN</td>\n      <td>NaN</td>\n      <td>NaN</td>\n      <td>NaN</td>\n      <td>NaN</td>\n      <td>NaN</td>\n      <td>NaN</td>\n      <td>NaN</td>\n      <td>NaN</td>\n      <td>NaN</td>\n      <td>NaN</td>\n      <td>NaN</td>\n      <td>NaN</td>\n      <td>NaN</td>\n      <td>NaN</td>\n      <td>NaN</td>\n      <td>NaN</td>\n      <td>NaN</td>\n      <td>NaN</td>\n    </tr>\n    <tr>\n      <th>374606</th>\n      <td>Not classified</td>\n      <td>INX</td>\n      <td>Capture fisheries production (metric tons)</td>\n      <td>ER.FSH.CAPT.MT</td>\n      <td>NaN</td>\n      <td>NaN</td>\n      <td>NaN</td>\n      <td>NaN</td>\n      <td>NaN</td>\n      <td>NaN</td>\n      <td>NaN</td>\n      <td>NaN</td>\n      <td>NaN</td>\n      <td>NaN</td>\n      <td>NaN</td>\n      <td>NaN</td>\n      <td>NaN</td>\n      <td>NaN</td>\n      <td>NaN</td>\n      <td>NaN</td>\n      <td>NaN</td>\n      <td>NaN</td>\n      <td>NaN</td>\n      <td>NaN</td>\n      <td>NaN</td>\n      <td>NaN</td>\n      <td>NaN</td>\n      <td>NaN</td>\n      <td>NaN</td>\n      <td>NaN</td>\n      <td>NaN</td>\n      <td>NaN</td>\n      <td>NaN</td>\n      <td>NaN</td>\n      <td>NaN</td>\n      <td>NaN</td>\n      <td>NaN</td>\n      <td>NaN</td>\n      <td>NaN</td>\n      <td>NaN</td>\n      <td>NaN</td>\n      <td>NaN</td>\n      <td>NaN</td>\n      <td>NaN</td>\n      <td>NaN</td>\n    </tr>\n    <tr>\n      <th>374902</th>\n      <td>Not classified</td>\n      <td>INX</td>\n      <td>Fertilizer consumption (kilograms per hectare ...</td>\n      <td>AG.CON.FERT.ZS</td>\n      <td>NaN</td>\n      <td>NaN</td>\n      <td>NaN</td>\n      <td>NaN</td>\n      <td>NaN</td>\n      <td>NaN</td>\n      <td>NaN</td>\n      <td>NaN</td>\n      <td>NaN</td>\n      <td>NaN</td>\n      <td>NaN</td>\n      <td>NaN</td>\n      <td>NaN</td>\n      <td>NaN</td>\n      <td>NaN</td>\n      <td>NaN</td>\n      <td>NaN</td>\n      <td>NaN</td>\n      <td>NaN</td>\n      <td>NaN</td>\n      <td>NaN</td>\n      <td>NaN</td>\n      <td>NaN</td>\n      <td>NaN</td>\n      <td>NaN</td>\n      <td>NaN</td>\n      <td>NaN</td>\n      <td>NaN</td>\n      <td>NaN</td>\n      <td>NaN</td>\n      <td>NaN</td>\n      <td>NaN</td>\n      <td>NaN</td>\n      <td>NaN</td>\n      <td>NaN</td>\n      <td>NaN</td>\n      <td>NaN</td>\n      <td>NaN</td>\n      <td>NaN</td>\n      <td>NaN</td>\n      <td>NaN</td>\n    </tr>\n    <tr>\n      <th>374924</th>\n      <td>Not classified</td>\n      <td>INX</td>\n      <td>Fish species, threatened</td>\n      <td>EN.FSH.THRD.NO</td>\n      <td>NaN</td>\n      <td>NaN</td>\n      <td>NaN</td>\n      <td>NaN</td>\n      <td>NaN</td>\n      <td>NaN</td>\n      <td>NaN</td>\n      <td>NaN</td>\n      <td>NaN</td>\n      <td>NaN</td>\n      <td>NaN</td>\n      <td>NaN</td>\n      <td>NaN</td>\n      <td>NaN</td>\n      <td>NaN</td>\n      <td>NaN</td>\n      <td>NaN</td>\n      <td>NaN</td>\n      <td>NaN</td>\n      <td>NaN</td>\n      <td>NaN</td>\n      <td>NaN</td>\n      <td>NaN</td>\n      <td>NaN</td>\n      <td>NaN</td>\n      <td>NaN</td>\n      <td>NaN</td>\n      <td>NaN</td>\n      <td>NaN</td>\n      <td>NaN</td>\n      <td>NaN</td>\n      <td>NaN</td>\n      <td>NaN</td>\n      <td>NaN</td>\n      <td>NaN</td>\n      <td>NaN</td>\n      <td>NaN</td>\n      <td>NaN</td>\n      <td>NaN</td>\n      <td>NaN</td>\n      <td>NaN</td>\n    </tr>\n    <tr>\n      <th>374938</th>\n      <td>Not classified</td>\n      <td>INX</td>\n      <td>Forest area (% of land area)</td>\n      <td>AG.LND.FRST.ZS</td>\n      <td>NaN</td>\n      <td>NaN</td>\n      <td>NaN</td>\n      <td>NaN</td>\n      <td>NaN</td>\n      <td>NaN</td>\n      <td>NaN</td>\n      <td>NaN</td>\n      <td>NaN</td>\n      <td>NaN</td>\n      <td>NaN</td>\n      <td>NaN</td>\n      <td>NaN</td>\n      <td>NaN</td>\n      <td>NaN</td>\n      <td>NaN</td>\n      <td>NaN</td>\n      <td>NaN</td>\n      <td>NaN</td>\n      <td>NaN</td>\n      <td>NaN</td>\n      <td>NaN</td>\n      <td>NaN</td>\n      <td>NaN</td>\n      <td>NaN</td>\n      <td>NaN</td>\n      <td>NaN</td>\n      <td>NaN</td>\n      <td>NaN</td>\n      <td>NaN</td>\n      <td>NaN</td>\n      <td>NaN</td>\n      <td>NaN</td>\n      <td>NaN</td>\n      <td>NaN</td>\n      <td>NaN</td>\n      <td>NaN</td>\n      <td>NaN</td>\n      <td>NaN</td>\n      <td>NaN</td>\n      <td>NaN</td>\n    </tr>\n    <tr>\n      <th>374939</th>\n      <td>Not classified</td>\n      <td>INX</td>\n      <td>Forest area (sq. km)</td>\n      <td>AG.LND.FRST.K2</td>\n      <td>NaN</td>\n      <td>NaN</td>\n      <td>NaN</td>\n      <td>NaN</td>\n      <td>NaN</td>\n      <td>NaN</td>\n      <td>NaN</td>\n      <td>NaN</td>\n      <td>NaN</td>\n      <td>NaN</td>\n      <td>NaN</td>\n      <td>NaN</td>\n      <td>NaN</td>\n      <td>NaN</td>\n      <td>NaN</td>\n      <td>NaN</td>\n      <td>NaN</td>\n      <td>NaN</td>\n      <td>NaN</td>\n      <td>NaN</td>\n      <td>NaN</td>\n      <td>NaN</td>\n      <td>NaN</td>\n      <td>NaN</td>\n      <td>NaN</td>\n      <td>NaN</td>\n      <td>NaN</td>\n      <td>NaN</td>\n      <td>NaN</td>\n      <td>NaN</td>\n      <td>NaN</td>\n      <td>NaN</td>\n      <td>NaN</td>\n      <td>NaN</td>\n      <td>NaN</td>\n      <td>NaN</td>\n      <td>NaN</td>\n      <td>NaN</td>\n      <td>NaN</td>\n      <td>NaN</td>\n      <td>NaN</td>\n    </tr>\n    <tr>\n      <th>375133</th>\n      <td>Not classified</td>\n      <td>INX</td>\n      <td>International tourism, number of arrivals</td>\n      <td>ST.INT.ARVL</td>\n      <td>NaN</td>\n      <td>NaN</td>\n      <td>NaN</td>\n      <td>NaN</td>\n      <td>NaN</td>\n      <td>NaN</td>\n      <td>NaN</td>\n      <td>NaN</td>\n      <td>NaN</td>\n      <td>NaN</td>\n      <td>NaN</td>\n      <td>NaN</td>\n      <td>NaN</td>\n      <td>NaN</td>\n      <td>NaN</td>\n      <td>NaN</td>\n      <td>NaN</td>\n      <td>NaN</td>\n      <td>NaN</td>\n      <td>NaN</td>\n      <td>NaN</td>\n      <td>NaN</td>\n      <td>NaN</td>\n      <td>NaN</td>\n      <td>NaN</td>\n      <td>NaN</td>\n      <td>NaN</td>\n      <td>NaN</td>\n      <td>NaN</td>\n      <td>NaN</td>\n      <td>NaN</td>\n      <td>NaN</td>\n      <td>NaN</td>\n      <td>NaN</td>\n      <td>NaN</td>\n      <td>NaN</td>\n      <td>NaN</td>\n      <td>NaN</td>\n      <td>NaN</td>\n      <td>NaN</td>\n      <td>NaN</td>\n    </tr>\n    <tr>\n      <th>375220</th>\n      <td>Not classified</td>\n      <td>INX</td>\n      <td>Marine protected areas (% of territorial waters)</td>\n      <td>ER.MRN.PTMR.ZS</td>\n      <td>NaN</td>\n      <td>NaN</td>\n      <td>NaN</td>\n      <td>NaN</td>\n      <td>NaN</td>\n      <td>NaN</td>\n      <td>NaN</td>\n      <td>NaN</td>\n      <td>NaN</td>\n      <td>NaN</td>\n      <td>NaN</td>\n      <td>NaN</td>\n      <td>NaN</td>\n      <td>NaN</td>\n      <td>NaN</td>\n      <td>NaN</td>\n      <td>NaN</td>\n      <td>NaN</td>\n      <td>NaN</td>\n      <td>NaN</td>\n      <td>NaN</td>\n      <td>NaN</td>\n      <td>NaN</td>\n      <td>NaN</td>\n      <td>NaN</td>\n      <td>NaN</td>\n      <td>NaN</td>\n      <td>NaN</td>\n      <td>NaN</td>\n      <td>NaN</td>\n      <td>NaN</td>\n      <td>NaN</td>\n      <td>NaN</td>\n      <td>NaN</td>\n      <td>NaN</td>\n      <td>NaN</td>\n      <td>NaN</td>\n      <td>NaN</td>\n      <td>NaN</td>\n      <td>NaN</td>\n      <td>NaN</td>\n    </tr>\n    <tr>\n      <th>375539</th>\n      <td>Not classified</td>\n      <td>INX</td>\n      <td>Population density (people per sq. km of land ...</td>\n      <td>EN.POP.DNST</td>\n      <td>NaN</td>\n      <td>NaN</td>\n      <td>NaN</td>\n      <td>NaN</td>\n      <td>NaN</td>\n      <td>NaN</td>\n      <td>NaN</td>\n      <td>NaN</td>\n      <td>NaN</td>\n      <td>NaN</td>\n      <td>NaN</td>\n      <td>NaN</td>\n      <td>NaN</td>\n      <td>NaN</td>\n      <td>NaN</td>\n      <td>NaN</td>\n      <td>NaN</td>\n      <td>NaN</td>\n      <td>NaN</td>\n      <td>NaN</td>\n      <td>NaN</td>\n      <td>NaN</td>\n      <td>NaN</td>\n      <td>NaN</td>\n      <td>NaN</td>\n      <td>NaN</td>\n      <td>NaN</td>\n      <td>NaN</td>\n      <td>NaN</td>\n      <td>NaN</td>\n      <td>NaN</td>\n      <td>NaN</td>\n      <td>NaN</td>\n      <td>NaN</td>\n      <td>NaN</td>\n      <td>NaN</td>\n      <td>NaN</td>\n      <td>NaN</td>\n      <td>NaN</td>\n      <td>NaN</td>\n      <td>NaN</td>\n    </tr>\n    <tr>\n      <th>375551</th>\n      <td>Not classified</td>\n      <td>INX</td>\n      <td>Population, total</td>\n      <td>SP.POP.TOTL</td>\n      <td>NaN</td>\n      <td>NaN</td>\n      <td>NaN</td>\n      <td>NaN</td>\n      <td>NaN</td>\n      <td>NaN</td>\n      <td>NaN</td>\n      <td>NaN</td>\n      <td>NaN</td>\n      <td>NaN</td>\n      <td>NaN</td>\n      <td>NaN</td>\n      <td>NaN</td>\n      <td>NaN</td>\n      <td>NaN</td>\n      <td>NaN</td>\n      <td>NaN</td>\n      <td>NaN</td>\n      <td>NaN</td>\n      <td>NaN</td>\n      <td>NaN</td>\n      <td>NaN</td>\n      <td>NaN</td>\n      <td>NaN</td>\n      <td>NaN</td>\n      <td>NaN</td>\n      <td>NaN</td>\n      <td>NaN</td>\n      <td>NaN</td>\n      <td>NaN</td>\n      <td>NaN</td>\n      <td>NaN</td>\n      <td>NaN</td>\n      <td>NaN</td>\n      <td>NaN</td>\n      <td>NaN</td>\n      <td>NaN</td>\n      <td>NaN</td>\n      <td>NaN</td>\n      <td>NaN</td>\n      <td>NaN</td>\n    </tr>\n    <tr>\n      <th>375833</th>\n      <td>Not classified</td>\n      <td>INX</td>\n      <td>Terrestrial and marine protected areas (% of t...</td>\n      <td>ER.PTD.TOTL.ZS</td>\n      <td>NaN</td>\n      <td>NaN</td>\n      <td>NaN</td>\n      <td>NaN</td>\n      <td>NaN</td>\n      <td>NaN</td>\n      <td>NaN</td>\n      <td>NaN</td>\n      <td>NaN</td>\n      <td>NaN</td>\n      <td>NaN</td>\n      <td>NaN</td>\n      <td>NaN</td>\n      <td>NaN</td>\n      <td>NaN</td>\n      <td>NaN</td>\n      <td>NaN</td>\n      <td>NaN</td>\n      <td>NaN</td>\n      <td>NaN</td>\n      <td>NaN</td>\n      <td>NaN</td>\n      <td>NaN</td>\n      <td>NaN</td>\n      <td>NaN</td>\n      <td>NaN</td>\n      <td>NaN</td>\n      <td>NaN</td>\n      <td>NaN</td>\n      <td>NaN</td>\n      <td>NaN</td>\n      <td>NaN</td>\n      <td>NaN</td>\n      <td>NaN</td>\n      <td>NaN</td>\n      <td>NaN</td>\n      <td>NaN</td>\n      <td>NaN</td>\n      <td>NaN</td>\n      <td>NaN</td>\n      <td>NaN</td>\n    </tr>\n    <tr>\n      <th>375858</th>\n      <td>Not classified</td>\n      <td>INX</td>\n      <td>Total fisheries production (metric tons)</td>\n      <td>ER.FSH.PROD.MT</td>\n      <td>NaN</td>\n      <td>NaN</td>\n      <td>NaN</td>\n      <td>NaN</td>\n      <td>NaN</td>\n      <td>NaN</td>\n      <td>NaN</td>\n      <td>NaN</td>\n      <td>NaN</td>\n      <td>NaN</td>\n      <td>NaN</td>\n      <td>NaN</td>\n      <td>NaN</td>\n      <td>NaN</td>\n      <td>NaN</td>\n      <td>NaN</td>\n      <td>NaN</td>\n      <td>NaN</td>\n      <td>NaN</td>\n      <td>NaN</td>\n      <td>NaN</td>\n      <td>NaN</td>\n      <td>NaN</td>\n      <td>NaN</td>\n      <td>NaN</td>\n      <td>NaN</td>\n      <td>NaN</td>\n      <td>NaN</td>\n      <td>NaN</td>\n      <td>NaN</td>\n      <td>NaN</td>\n      <td>NaN</td>\n      <td>NaN</td>\n      <td>NaN</td>\n      <td>NaN</td>\n      <td>NaN</td>\n      <td>NaN</td>\n      <td>NaN</td>\n      <td>NaN</td>\n      <td>NaN</td>\n      <td>NaN</td>\n    </tr>\n    <tr>\n      <th>376017</th>\n      <td>OECD members</td>\n      <td>OED</td>\n      <td>Agricultural irrigated land (% of total agricu...</td>\n      <td>AG.LND.IRIG.AG.ZS</td>\n      <td>NaN</td>\n      <td>NaN</td>\n      <td>NaN</td>\n      <td>NaN</td>\n      <td>NaN</td>\n      <td>NaN</td>\n      <td>NaN</td>\n      <td>NaN</td>\n      <td>NaN</td>\n      <td>NaN</td>\n      <td>NaN</td>\n      <td>NaN</td>\n      <td>NaN</td>\n      <td>NaN</td>\n      <td>NaN</td>\n      <td>NaN</td>\n      <td>NaN</td>\n      <td>NaN</td>\n      <td>NaN</td>\n      <td>NaN</td>\n      <td>NaN</td>\n      <td>NaN</td>\n      <td>NaN</td>\n      <td>NaN</td>\n      <td>NaN</td>\n      <td>NaN</td>\n      <td>NaN</td>\n      <td>NaN</td>\n      <td>NaN</td>\n      <td>NaN</td>\n      <td>NaN</td>\n      <td>NaN</td>\n      <td>NaN</td>\n      <td>NaN</td>\n      <td>NaN</td>\n      <td>NaN</td>\n      <td>NaN</td>\n      <td>NaN</td>\n      <td>NaN</td>\n      <td>NaN</td>\n      <td>NaN</td>\n    </tr>\n    <tr>\n      <th>377503</th>\n      <td>Other small states</td>\n      <td>OSS</td>\n      <td>Agricultural irrigated land (% of total agricu...</td>\n      <td>AG.LND.IRIG.AG.ZS</td>\n      <td>NaN</td>\n      <td>NaN</td>\n      <td>NaN</td>\n      <td>NaN</td>\n      <td>NaN</td>\n      <td>NaN</td>\n      <td>NaN</td>\n      <td>NaN</td>\n      <td>NaN</td>\n      <td>NaN</td>\n      <td>NaN</td>\n      <td>NaN</td>\n      <td>NaN</td>\n      <td>NaN</td>\n      <td>NaN</td>\n      <td>NaN</td>\n      <td>NaN</td>\n      <td>NaN</td>\n      <td>NaN</td>\n      <td>NaN</td>\n      <td>NaN</td>\n      <td>NaN</td>\n      <td>NaN</td>\n      <td>NaN</td>\n      <td>NaN</td>\n      <td>NaN</td>\n      <td>NaN</td>\n      <td>NaN</td>\n      <td>NaN</td>\n      <td>NaN</td>\n      <td>NaN</td>\n      <td>NaN</td>\n      <td>NaN</td>\n      <td>NaN</td>\n      <td>NaN</td>\n      <td>NaN</td>\n      <td>NaN</td>\n      <td>NaN</td>\n      <td>NaN</td>\n      <td>NaN</td>\n      <td>NaN</td>\n    </tr>\n    <tr>\n      <th>378989</th>\n      <td>Pacific island small states</td>\n      <td>PSS</td>\n      <td>Agricultural irrigated land (% of total agricu...</td>\n      <td>AG.LND.IRIG.AG.ZS</td>\n      <td>NaN</td>\n      <td>NaN</td>\n      <td>NaN</td>\n      <td>NaN</td>\n      <td>NaN</td>\n      <td>NaN</td>\n      <td>NaN</td>\n      <td>NaN</td>\n      <td>NaN</td>\n      <td>NaN</td>\n      <td>NaN</td>\n      <td>NaN</td>\n      <td>NaN</td>\n      <td>NaN</td>\n      <td>NaN</td>\n      <td>NaN</td>\n      <td>NaN</td>\n      <td>NaN</td>\n      <td>NaN</td>\n      <td>NaN</td>\n      <td>NaN</td>\n      <td>NaN</td>\n      <td>NaN</td>\n      <td>NaN</td>\n      <td>NaN</td>\n      <td>NaN</td>\n      <td>NaN</td>\n      <td>NaN</td>\n      <td>NaN</td>\n      <td>NaN</td>\n      <td>NaN</td>\n      <td>NaN</td>\n      <td>NaN</td>\n      <td>NaN</td>\n      <td>NaN</td>\n      <td>NaN</td>\n      <td>NaN</td>\n      <td>NaN</td>\n      <td>NaN</td>\n      <td>NaN</td>\n      <td>NaN</td>\n    </tr>\n    <tr>\n      <th>380475</th>\n      <td>Post-demographic dividend</td>\n      <td>PST</td>\n      <td>Agricultural irrigated land (% of total agricu...</td>\n      <td>AG.LND.IRIG.AG.ZS</td>\n      <td>NaN</td>\n      <td>NaN</td>\n      <td>NaN</td>\n      <td>NaN</td>\n      <td>NaN</td>\n      <td>NaN</td>\n      <td>NaN</td>\n      <td>NaN</td>\n      <td>NaN</td>\n      <td>NaN</td>\n      <td>NaN</td>\n      <td>NaN</td>\n      <td>NaN</td>\n      <td>NaN</td>\n      <td>NaN</td>\n      <td>NaN</td>\n      <td>NaN</td>\n      <td>NaN</td>\n      <td>NaN</td>\n      <td>NaN</td>\n      <td>NaN</td>\n      <td>NaN</td>\n      <td>NaN</td>\n      <td>NaN</td>\n      <td>NaN</td>\n      <td>NaN</td>\n      <td>NaN</td>\n      <td>NaN</td>\n      <td>NaN</td>\n      <td>NaN</td>\n      <td>NaN</td>\n      <td>NaN</td>\n      <td>NaN</td>\n      <td>NaN</td>\n      <td>NaN</td>\n      <td>NaN</td>\n      <td>NaN</td>\n      <td>NaN</td>\n      <td>NaN</td>\n      <td>NaN</td>\n      <td>NaN</td>\n    </tr>\n    <tr>\n      <th>381961</th>\n      <td>Pre-demographic dividend</td>\n      <td>PRE</td>\n      <td>Agricultural irrigated land (% of total agricu...</td>\n      <td>AG.LND.IRIG.AG.ZS</td>\n      <td>NaN</td>\n      <td>NaN</td>\n      <td>NaN</td>\n      <td>NaN</td>\n      <td>NaN</td>\n      <td>NaN</td>\n      <td>NaN</td>\n      <td>NaN</td>\n      <td>NaN</td>\n      <td>NaN</td>\n      <td>NaN</td>\n      <td>NaN</td>\n      <td>NaN</td>\n      <td>NaN</td>\n      <td>NaN</td>\n      <td>NaN</td>\n      <td>NaN</td>\n      <td>NaN</td>\n      <td>NaN</td>\n      <td>NaN</td>\n      <td>NaN</td>\n      <td>NaN</td>\n      <td>NaN</td>\n      <td>NaN</td>\n      <td>NaN</td>\n      <td>NaN</td>\n      <td>NaN</td>\n      <td>NaN</td>\n      <td>NaN</td>\n      <td>NaN</td>\n      <td>NaN</td>\n      <td>NaN</td>\n      <td>NaN</td>\n      <td>NaN</td>\n      <td>NaN</td>\n      <td>NaN</td>\n      <td>NaN</td>\n      <td>NaN</td>\n      <td>NaN</td>\n      <td>NaN</td>\n      <td>NaN</td>\n    </tr>\n    <tr>\n      <th>382650</th>\n      <td>Pre-demographic dividend</td>\n      <td>PRE</td>\n      <td>Marine protected areas (% of territorial waters)</td>\n      <td>ER.MRN.PTMR.ZS</td>\n      <td>NaN</td>\n      <td>NaN</td>\n      <td>NaN</td>\n      <td>NaN</td>\n      <td>NaN</td>\n      <td>NaN</td>\n      <td>NaN</td>\n      <td>NaN</td>\n      <td>NaN</td>\n      <td>NaN</td>\n      <td>NaN</td>\n      <td>NaN</td>\n      <td>NaN</td>\n      <td>NaN</td>\n      <td>NaN</td>\n      <td>NaN</td>\n      <td>NaN</td>\n      <td>NaN</td>\n      <td>NaN</td>\n      <td>NaN</td>\n      <td>NaN</td>\n      <td>NaN</td>\n      <td>NaN</td>\n      <td>NaN</td>\n      <td>NaN</td>\n      <td>NaN</td>\n      <td>NaN</td>\n      <td>NaN</td>\n      <td>NaN</td>\n      <td>NaN</td>\n      <td>NaN</td>\n      <td>NaN</td>\n      <td>NaN</td>\n      <td>NaN</td>\n      <td>NaN</td>\n      <td>NaN</td>\n      <td>NaN</td>\n      <td>NaN</td>\n      <td>NaN</td>\n      <td>NaN</td>\n      <td>NaN</td>\n    </tr>\n    <tr>\n      <th>383447</th>\n      <td>Small states</td>\n      <td>SST</td>\n      <td>Agricultural irrigated land (% of total agricu...</td>\n      <td>AG.LND.IRIG.AG.ZS</td>\n      <td>NaN</td>\n      <td>NaN</td>\n      <td>NaN</td>\n      <td>NaN</td>\n      <td>NaN</td>\n      <td>NaN</td>\n      <td>NaN</td>\n      <td>NaN</td>\n      <td>NaN</td>\n      <td>NaN</td>\n      <td>NaN</td>\n      <td>NaN</td>\n      <td>NaN</td>\n      <td>NaN</td>\n      <td>NaN</td>\n      <td>NaN</td>\n      <td>NaN</td>\n      <td>NaN</td>\n      <td>NaN</td>\n      <td>NaN</td>\n      <td>NaN</td>\n      <td>NaN</td>\n      <td>NaN</td>\n      <td>NaN</td>\n      <td>NaN</td>\n      <td>NaN</td>\n      <td>NaN</td>\n      <td>NaN</td>\n      <td>NaN</td>\n      <td>NaN</td>\n      <td>NaN</td>\n      <td>NaN</td>\n      <td>NaN</td>\n      <td>NaN</td>\n      <td>NaN</td>\n      <td>NaN</td>\n      <td>NaN</td>\n      <td>NaN</td>\n      <td>NaN</td>\n      <td>NaN</td>\n      <td>NaN</td>\n    </tr>\n    <tr>\n      <th>384933</th>\n      <td>South Asia</td>\n      <td>SAS</td>\n      <td>Agricultural irrigated land (% of total agricu...</td>\n      <td>AG.LND.IRIG.AG.ZS</td>\n      <td>NaN</td>\n      <td>NaN</td>\n      <td>NaN</td>\n      <td>NaN</td>\n      <td>NaN</td>\n      <td>NaN</td>\n      <td>NaN</td>\n      <td>NaN</td>\n      <td>NaN</td>\n      <td>NaN</td>\n      <td>NaN</td>\n      <td>NaN</td>\n      <td>NaN</td>\n      <td>NaN</td>\n      <td>NaN</td>\n      <td>NaN</td>\n      <td>NaN</td>\n      <td>NaN</td>\n      <td>NaN</td>\n      <td>NaN</td>\n      <td>NaN</td>\n      <td>NaN</td>\n      <td>NaN</td>\n      <td>NaN</td>\n      <td>NaN</td>\n      <td>NaN</td>\n      <td>NaN</td>\n      <td>NaN</td>\n      <td>NaN</td>\n      <td>NaN</td>\n      <td>NaN</td>\n      <td>NaN</td>\n      <td>NaN</td>\n      <td>NaN</td>\n      <td>NaN</td>\n      <td>NaN</td>\n      <td>NaN</td>\n      <td>NaN</td>\n      <td>NaN</td>\n      <td>NaN</td>\n      <td>NaN</td>\n    </tr>\n    <tr>\n      <th>386419</th>\n      <td>South Asia (IDA &amp; IBRD)</td>\n      <td>TSA</td>\n      <td>Agricultural irrigated land (% of total agricu...</td>\n      <td>AG.LND.IRIG.AG.ZS</td>\n      <td>NaN</td>\n      <td>NaN</td>\n      <td>NaN</td>\n      <td>NaN</td>\n      <td>NaN</td>\n      <td>NaN</td>\n      <td>NaN</td>\n      <td>NaN</td>\n      <td>NaN</td>\n      <td>NaN</td>\n      <td>NaN</td>\n      <td>NaN</td>\n      <td>NaN</td>\n      <td>NaN</td>\n      <td>NaN</td>\n      <td>NaN</td>\n      <td>NaN</td>\n      <td>NaN</td>\n      <td>NaN</td>\n      <td>NaN</td>\n      <td>NaN</td>\n      <td>NaN</td>\n      <td>NaN</td>\n      <td>NaN</td>\n      <td>NaN</td>\n      <td>NaN</td>\n      <td>NaN</td>\n      <td>NaN</td>\n      <td>NaN</td>\n      <td>NaN</td>\n      <td>NaN</td>\n      <td>NaN</td>\n      <td>NaN</td>\n      <td>NaN</td>\n      <td>NaN</td>\n      <td>NaN</td>\n      <td>NaN</td>\n      <td>NaN</td>\n      <td>NaN</td>\n      <td>NaN</td>\n      <td>NaN</td>\n    </tr>\n    <tr>\n      <th>387905</th>\n      <td>Sub-Saharan Africa</td>\n      <td>SSF</td>\n      <td>Agricultural irrigated land (% of total agricu...</td>\n      <td>AG.LND.IRIG.AG.ZS</td>\n      <td>NaN</td>\n      <td>NaN</td>\n      <td>NaN</td>\n      <td>NaN</td>\n      <td>NaN</td>\n      <td>NaN</td>\n      <td>NaN</td>\n      <td>NaN</td>\n      <td>NaN</td>\n      <td>NaN</td>\n      <td>NaN</td>\n      <td>NaN</td>\n      <td>NaN</td>\n      <td>NaN</td>\n      <td>NaN</td>\n      <td>NaN</td>\n      <td>NaN</td>\n      <td>NaN</td>\n      <td>NaN</td>\n      <td>NaN</td>\n      <td>NaN</td>\n      <td>NaN</td>\n      <td>NaN</td>\n      <td>NaN</td>\n      <td>NaN</td>\n      <td>NaN</td>\n      <td>NaN</td>\n      <td>NaN</td>\n      <td>NaN</td>\n      <td>NaN</td>\n      <td>NaN</td>\n      <td>NaN</td>\n      <td>NaN</td>\n      <td>NaN</td>\n      <td>NaN</td>\n      <td>NaN</td>\n      <td>NaN</td>\n      <td>NaN</td>\n      <td>NaN</td>\n      <td>NaN</td>\n      <td>NaN</td>\n    </tr>\n    <tr>\n      <th>388594</th>\n      <td>Sub-Saharan Africa</td>\n      <td>SSF</td>\n      <td>Marine protected areas (% of territorial waters)</td>\n      <td>ER.MRN.PTMR.ZS</td>\n      <td>NaN</td>\n      <td>NaN</td>\n      <td>NaN</td>\n      <td>NaN</td>\n      <td>NaN</td>\n      <td>NaN</td>\n      <td>NaN</td>\n      <td>NaN</td>\n      <td>NaN</td>\n      <td>NaN</td>\n      <td>NaN</td>\n      <td>NaN</td>\n      <td>NaN</td>\n      <td>NaN</td>\n      <td>NaN</td>\n      <td>NaN</td>\n      <td>NaN</td>\n      <td>NaN</td>\n      <td>NaN</td>\n      <td>NaN</td>\n      <td>NaN</td>\n      <td>NaN</td>\n      <td>NaN</td>\n      <td>NaN</td>\n      <td>NaN</td>\n      <td>NaN</td>\n      <td>NaN</td>\n      <td>NaN</td>\n      <td>NaN</td>\n      <td>NaN</td>\n      <td>NaN</td>\n      <td>NaN</td>\n      <td>NaN</td>\n      <td>NaN</td>\n      <td>NaN</td>\n      <td>NaN</td>\n      <td>NaN</td>\n      <td>NaN</td>\n      <td>NaN</td>\n      <td>NaN</td>\n      <td>NaN</td>\n    </tr>\n    <tr>\n      <th>389391</th>\n      <td>Sub-Saharan Africa (excluding high income)</td>\n      <td>SSA</td>\n      <td>Agricultural irrigated land (% of total agricu...</td>\n      <td>AG.LND.IRIG.AG.ZS</td>\n      <td>NaN</td>\n      <td>NaN</td>\n      <td>NaN</td>\n      <td>NaN</td>\n      <td>NaN</td>\n      <td>NaN</td>\n      <td>NaN</td>\n      <td>NaN</td>\n      <td>NaN</td>\n      <td>NaN</td>\n      <td>NaN</td>\n      <td>NaN</td>\n      <td>NaN</td>\n      <td>NaN</td>\n      <td>NaN</td>\n      <td>NaN</td>\n      <td>NaN</td>\n      <td>NaN</td>\n      <td>NaN</td>\n      <td>NaN</td>\n      <td>NaN</td>\n      <td>NaN</td>\n      <td>NaN</td>\n      <td>NaN</td>\n      <td>NaN</td>\n      <td>NaN</td>\n      <td>NaN</td>\n      <td>NaN</td>\n      <td>NaN</td>\n      <td>NaN</td>\n      <td>NaN</td>\n      <td>NaN</td>\n      <td>NaN</td>\n      <td>NaN</td>\n      <td>NaN</td>\n      <td>NaN</td>\n      <td>NaN</td>\n      <td>NaN</td>\n      <td>NaN</td>\n      <td>NaN</td>\n      <td>NaN</td>\n    </tr>\n    <tr>\n      <th>390080</th>\n      <td>Sub-Saharan Africa (excluding high income)</td>\n      <td>SSA</td>\n      <td>Marine protected areas (% of territorial waters)</td>\n      <td>ER.MRN.PTMR.ZS</td>\n      <td>NaN</td>\n      <td>NaN</td>\n      <td>NaN</td>\n      <td>NaN</td>\n      <td>NaN</td>\n      <td>NaN</td>\n      <td>NaN</td>\n      <td>NaN</td>\n      <td>NaN</td>\n      <td>NaN</td>\n      <td>NaN</td>\n      <td>NaN</td>\n      <td>NaN</td>\n      <td>NaN</td>\n      <td>NaN</td>\n      <td>NaN</td>\n      <td>NaN</td>\n      <td>NaN</td>\n      <td>NaN</td>\n      <td>NaN</td>\n      <td>NaN</td>\n      <td>NaN</td>\n      <td>NaN</td>\n      <td>NaN</td>\n      <td>NaN</td>\n      <td>NaN</td>\n      <td>NaN</td>\n      <td>NaN</td>\n      <td>NaN</td>\n      <td>NaN</td>\n      <td>NaN</td>\n      <td>NaN</td>\n      <td>NaN</td>\n      <td>NaN</td>\n      <td>NaN</td>\n      <td>NaN</td>\n      <td>NaN</td>\n      <td>NaN</td>\n      <td>NaN</td>\n      <td>NaN</td>\n      <td>NaN</td>\n    </tr>\n    <tr>\n      <th>390877</th>\n      <td>Sub-Saharan Africa (IDA &amp; IBRD countries)</td>\n      <td>TSS</td>\n      <td>Agricultural irrigated land (% of total agricu...</td>\n      <td>AG.LND.IRIG.AG.ZS</td>\n      <td>NaN</td>\n      <td>NaN</td>\n      <td>NaN</td>\n      <td>NaN</td>\n      <td>NaN</td>\n      <td>NaN</td>\n      <td>NaN</td>\n      <td>NaN</td>\n      <td>NaN</td>\n      <td>NaN</td>\n      <td>NaN</td>\n      <td>NaN</td>\n      <td>NaN</td>\n      <td>NaN</td>\n      <td>NaN</td>\n      <td>NaN</td>\n      <td>NaN</td>\n      <td>NaN</td>\n      <td>NaN</td>\n      <td>NaN</td>\n      <td>NaN</td>\n      <td>NaN</td>\n      <td>NaN</td>\n      <td>NaN</td>\n      <td>NaN</td>\n      <td>NaN</td>\n      <td>NaN</td>\n      <td>NaN</td>\n      <td>NaN</td>\n      <td>NaN</td>\n      <td>NaN</td>\n      <td>NaN</td>\n      <td>NaN</td>\n      <td>NaN</td>\n      <td>NaN</td>\n      <td>NaN</td>\n      <td>NaN</td>\n      <td>NaN</td>\n      <td>NaN</td>\n      <td>NaN</td>\n      <td>NaN</td>\n    </tr>\n    <tr>\n      <th>391566</th>\n      <td>Sub-Saharan Africa (IDA &amp; IBRD countries)</td>\n      <td>TSS</td>\n      <td>Marine protected areas (% of territorial waters)</td>\n      <td>ER.MRN.PTMR.ZS</td>\n      <td>NaN</td>\n      <td>NaN</td>\n      <td>NaN</td>\n      <td>NaN</td>\n      <td>NaN</td>\n      <td>NaN</td>\n      <td>NaN</td>\n      <td>NaN</td>\n      <td>NaN</td>\n      <td>NaN</td>\n      <td>NaN</td>\n      <td>NaN</td>\n      <td>NaN</td>\n      <td>NaN</td>\n      <td>NaN</td>\n      <td>NaN</td>\n      <td>NaN</td>\n      <td>NaN</td>\n      <td>NaN</td>\n      <td>NaN</td>\n      <td>NaN</td>\n      <td>NaN</td>\n      <td>NaN</td>\n      <td>NaN</td>\n      <td>NaN</td>\n      <td>NaN</td>\n      <td>NaN</td>\n      <td>NaN</td>\n      <td>NaN</td>\n      <td>NaN</td>\n      <td>NaN</td>\n      <td>NaN</td>\n      <td>NaN</td>\n      <td>NaN</td>\n      <td>NaN</td>\n      <td>NaN</td>\n      <td>NaN</td>\n      <td>NaN</td>\n      <td>NaN</td>\n      <td>NaN</td>\n      <td>NaN</td>\n    </tr>\n    <tr>\n      <th>392363</th>\n      <td>Upper middle income</td>\n      <td>UMC</td>\n      <td>Agricultural irrigated land (% of total agricu...</td>\n      <td>AG.LND.IRIG.AG.ZS</td>\n      <td>NaN</td>\n      <td>NaN</td>\n      <td>NaN</td>\n      <td>NaN</td>\n      <td>NaN</td>\n      <td>NaN</td>\n      <td>NaN</td>\n      <td>NaN</td>\n      <td>NaN</td>\n      <td>NaN</td>\n      <td>NaN</td>\n      <td>NaN</td>\n      <td>NaN</td>\n      <td>NaN</td>\n      <td>NaN</td>\n      <td>NaN</td>\n      <td>NaN</td>\n      <td>NaN</td>\n      <td>NaN</td>\n      <td>NaN</td>\n      <td>NaN</td>\n      <td>NaN</td>\n      <td>NaN</td>\n      <td>NaN</td>\n      <td>NaN</td>\n      <td>NaN</td>\n      <td>NaN</td>\n      <td>NaN</td>\n      <td>NaN</td>\n      <td>NaN</td>\n      <td>NaN</td>\n      <td>NaN</td>\n      <td>NaN</td>\n      <td>NaN</td>\n      <td>NaN</td>\n      <td>NaN</td>\n      <td>NaN</td>\n      <td>NaN</td>\n      <td>NaN</td>\n      <td>NaN</td>\n      <td>NaN</td>\n    </tr>\n    <tr>\n      <th>393849</th>\n      <td>World</td>\n      <td>WLD</td>\n      <td>Agricultural irrigated land (% of total agricu...</td>\n      <td>AG.LND.IRIG.AG.ZS</td>\n      <td>NaN</td>\n      <td>NaN</td>\n      <td>NaN</td>\n      <td>NaN</td>\n      <td>NaN</td>\n      <td>NaN</td>\n      <td>NaN</td>\n      <td>NaN</td>\n      <td>NaN</td>\n      <td>NaN</td>\n      <td>NaN</td>\n      <td>NaN</td>\n      <td>NaN</td>\n      <td>NaN</td>\n      <td>NaN</td>\n      <td>NaN</td>\n      <td>NaN</td>\n      <td>NaN</td>\n      <td>NaN</td>\n      <td>NaN</td>\n      <td>NaN</td>\n      <td>NaN</td>\n      <td>NaN</td>\n      <td>NaN</td>\n      <td>NaN</td>\n      <td>NaN</td>\n      <td>NaN</td>\n      <td>NaN</td>\n      <td>NaN</td>\n      <td>NaN</td>\n      <td>NaN</td>\n      <td>NaN</td>\n      <td>NaN</td>\n      <td>NaN</td>\n      <td>NaN</td>\n      <td>NaN</td>\n      <td>NaN</td>\n      <td>NaN</td>\n      <td>NaN</td>\n      <td>NaN</td>\n      <td>NaN</td>\n    </tr>\n  </tbody>\n</table>\n</div>"
     },
     "metadata": {}
    }
   ],
   "outputs_reference": "s3:deepnote-cell-outputs-production/153edae1-5c13-47a2-8c0d-6ba34024ced1",
   "content_dependencies": null
  },
  {
   "cell_type": "code",
   "metadata": {
    "source_hash": null,
    "execution_start": 1710022414699,
    "execution_millis": 300,
    "deepnote_table_state": {
     "sortBy": [],
     "filters": [],
     "pageSize": 50,
     "pageIndex": 0
    },
    "deepnote_table_loading": false,
    "deepnote_to_be_reexecuted": false,
    "deepnote_app_block_visible": true,
    "cell_id": "7c7807b66b5943a4b50db455c97d4bed",
    "deepnote_cell_type": "code"
   },
   "source": [
    "df.loc[(df[columns_years].isna().all(axis=1)) & (df['Country_Code'].isin(gcb.Country_Code.unique()))]"
   ],
   "block_group": "a15bc0dec72641f5a8977488268ac0df",
   "execution_count": null,
   "outputs": [
    {
     "output_type": "execute_result",
     "execution_count": 75,
     "data": {
      "application/vnd.deepnote.dataframe.v3+json": {
       "column_count": 45,
       "row_count": 63,
       "columns": [
        {
         "name": "Country_Name",
         "dtype": "object",
         "stats": {
          "unique_count": 45,
          "nan_count": 0,
          "categories": [
           {
            "name": "Northern Mariana Islands",
            "count": 4
           },
           {
            "name": "Bermuda",
            "count": 3
           },
           {
            "name": "43 others",
            "count": 56
           }
          ]
         }
        },
        {
         "name": "Country_Code",
         "dtype": "object",
         "stats": {
          "unique_count": 45,
          "nan_count": 0,
          "categories": [
           {
            "name": "MNP",
            "count": 4
           },
           {
            "name": "BMU",
            "count": 3
           },
           {
            "name": "43 others",
            "count": 56
           }
          ]
         }
        },
        {
         "name": "Series_Name",
         "dtype": "object",
         "stats": {
          "unique_count": 7,
          "nan_count": 0,
          "categories": [
           {
            "name": "Agricultural irrigated land (% of total agricultural land)",
            "count": 45
           },
           {
            "name": "Aquaculture production (metric tons)",
            "count": 5
           },
           {
            "name": "5 others",
            "count": 13
           }
          ]
         }
        },
        {
         "name": "Series_Code",
         "dtype": "object",
         "stats": {
          "unique_count": 7,
          "nan_count": 0,
          "categories": [
           {
            "name": "AG.LND.IRIG.AG.ZS",
            "count": 45
           },
           {
            "name": "ER.FSH.AQUA.MT",
            "count": 5
           },
           {
            "name": "5 others",
            "count": 13
           }
          ]
         }
        },
        {
         "name": "1980",
         "dtype": "float64",
         "stats": {
          "unique_count": 0,
          "nan_count": 63,
          "min": null,
          "max": null,
          "histogram": [
           {
            "bin_start": 0,
            "bin_end": 0.1,
            "count": 0
           },
           {
            "bin_start": 0.1,
            "bin_end": 0.2,
            "count": 0
           },
           {
            "bin_start": 0.2,
            "bin_end": 0.30000000000000004,
            "count": 0
           },
           {
            "bin_start": 0.30000000000000004,
            "bin_end": 0.4,
            "count": 0
           },
           {
            "bin_start": 0.4,
            "bin_end": 0.5,
            "count": 0
           },
           {
            "bin_start": 0.5,
            "bin_end": 0.6000000000000001,
            "count": 0
           },
           {
            "bin_start": 0.6000000000000001,
            "bin_end": 0.7000000000000001,
            "count": 0
           },
           {
            "bin_start": 0.7000000000000001,
            "bin_end": 0.8,
            "count": 0
           },
           {
            "bin_start": 0.8,
            "bin_end": 0.9,
            "count": 0
           },
           {
            "bin_start": 0.9,
            "bin_end": 1,
            "count": 0
           }
          ]
         }
        },
        {
         "name": "1981",
         "dtype": "float64",
         "stats": {
          "unique_count": 0,
          "nan_count": 63,
          "min": null,
          "max": null,
          "histogram": [
           {
            "bin_start": 0,
            "bin_end": 0.1,
            "count": 0
           },
           {
            "bin_start": 0.1,
            "bin_end": 0.2,
            "count": 0
           },
           {
            "bin_start": 0.2,
            "bin_end": 0.30000000000000004,
            "count": 0
           },
           {
            "bin_start": 0.30000000000000004,
            "bin_end": 0.4,
            "count": 0
           },
           {
            "bin_start": 0.4,
            "bin_end": 0.5,
            "count": 0
           },
           {
            "bin_start": 0.5,
            "bin_end": 0.6000000000000001,
            "count": 0
           },
           {
            "bin_start": 0.6000000000000001,
            "bin_end": 0.7000000000000001,
            "count": 0
           },
           {
            "bin_start": 0.7000000000000001,
            "bin_end": 0.8,
            "count": 0
           },
           {
            "bin_start": 0.8,
            "bin_end": 0.9,
            "count": 0
           },
           {
            "bin_start": 0.9,
            "bin_end": 1,
            "count": 0
           }
          ]
         }
        },
        {
         "name": "1982",
         "dtype": "float64",
         "stats": {
          "unique_count": 0,
          "nan_count": 63,
          "min": null,
          "max": null,
          "histogram": [
           {
            "bin_start": 0,
            "bin_end": 0.1,
            "count": 0
           },
           {
            "bin_start": 0.1,
            "bin_end": 0.2,
            "count": 0
           },
           {
            "bin_start": 0.2,
            "bin_end": 0.30000000000000004,
            "count": 0
           },
           {
            "bin_start": 0.30000000000000004,
            "bin_end": 0.4,
            "count": 0
           },
           {
            "bin_start": 0.4,
            "bin_end": 0.5,
            "count": 0
           },
           {
            "bin_start": 0.5,
            "bin_end": 0.6000000000000001,
            "count": 0
           },
           {
            "bin_start": 0.6000000000000001,
            "bin_end": 0.7000000000000001,
            "count": 0
           },
           {
            "bin_start": 0.7000000000000001,
            "bin_end": 0.8,
            "count": 0
           },
           {
            "bin_start": 0.8,
            "bin_end": 0.9,
            "count": 0
           },
           {
            "bin_start": 0.9,
            "bin_end": 1,
            "count": 0
           }
          ]
         }
        },
        {
         "name": "1983",
         "dtype": "float64",
         "stats": {
          "unique_count": 0,
          "nan_count": 63,
          "min": null,
          "max": null,
          "histogram": [
           {
            "bin_start": 0,
            "bin_end": 0.1,
            "count": 0
           },
           {
            "bin_start": 0.1,
            "bin_end": 0.2,
            "count": 0
           },
           {
            "bin_start": 0.2,
            "bin_end": 0.30000000000000004,
            "count": 0
           },
           {
            "bin_start": 0.30000000000000004,
            "bin_end": 0.4,
            "count": 0
           },
           {
            "bin_start": 0.4,
            "bin_end": 0.5,
            "count": 0
           },
           {
            "bin_start": 0.5,
            "bin_end": 0.6000000000000001,
            "count": 0
           },
           {
            "bin_start": 0.6000000000000001,
            "bin_end": 0.7000000000000001,
            "count": 0
           },
           {
            "bin_start": 0.7000000000000001,
            "bin_end": 0.8,
            "count": 0
           },
           {
            "bin_start": 0.8,
            "bin_end": 0.9,
            "count": 0
           },
           {
            "bin_start": 0.9,
            "bin_end": 1,
            "count": 0
           }
          ]
         }
        },
        {
         "name": "1984",
         "dtype": "float64",
         "stats": {
          "unique_count": 0,
          "nan_count": 63,
          "min": null,
          "max": null,
          "histogram": [
           {
            "bin_start": 0,
            "bin_end": 0.1,
            "count": 0
           },
           {
            "bin_start": 0.1,
            "bin_end": 0.2,
            "count": 0
           },
           {
            "bin_start": 0.2,
            "bin_end": 0.30000000000000004,
            "count": 0
           },
           {
            "bin_start": 0.30000000000000004,
            "bin_end": 0.4,
            "count": 0
           },
           {
            "bin_start": 0.4,
            "bin_end": 0.5,
            "count": 0
           },
           {
            "bin_start": 0.5,
            "bin_end": 0.6000000000000001,
            "count": 0
           },
           {
            "bin_start": 0.6000000000000001,
            "bin_end": 0.7000000000000001,
            "count": 0
           },
           {
            "bin_start": 0.7000000000000001,
            "bin_end": 0.8,
            "count": 0
           },
           {
            "bin_start": 0.8,
            "bin_end": 0.9,
            "count": 0
           },
           {
            "bin_start": 0.9,
            "bin_end": 1,
            "count": 0
           }
          ]
         }
        },
        {
         "name": "1985",
         "dtype": "float64",
         "stats": {
          "unique_count": 0,
          "nan_count": 63,
          "min": null,
          "max": null,
          "histogram": [
           {
            "bin_start": 0,
            "bin_end": 0.1,
            "count": 0
           },
           {
            "bin_start": 0.1,
            "bin_end": 0.2,
            "count": 0
           },
           {
            "bin_start": 0.2,
            "bin_end": 0.30000000000000004,
            "count": 0
           },
           {
            "bin_start": 0.30000000000000004,
            "bin_end": 0.4,
            "count": 0
           },
           {
            "bin_start": 0.4,
            "bin_end": 0.5,
            "count": 0
           },
           {
            "bin_start": 0.5,
            "bin_end": 0.6000000000000001,
            "count": 0
           },
           {
            "bin_start": 0.6000000000000001,
            "bin_end": 0.7000000000000001,
            "count": 0
           },
           {
            "bin_start": 0.7000000000000001,
            "bin_end": 0.8,
            "count": 0
           },
           {
            "bin_start": 0.8,
            "bin_end": 0.9,
            "count": 0
           },
           {
            "bin_start": 0.9,
            "bin_end": 1,
            "count": 0
           }
          ]
         }
        },
        {
         "name": "1986",
         "dtype": "float64",
         "stats": {
          "unique_count": 0,
          "nan_count": 63,
          "min": null,
          "max": null,
          "histogram": [
           {
            "bin_start": 0,
            "bin_end": 0.1,
            "count": 0
           },
           {
            "bin_start": 0.1,
            "bin_end": 0.2,
            "count": 0
           },
           {
            "bin_start": 0.2,
            "bin_end": 0.30000000000000004,
            "count": 0
           },
           {
            "bin_start": 0.30000000000000004,
            "bin_end": 0.4,
            "count": 0
           },
           {
            "bin_start": 0.4,
            "bin_end": 0.5,
            "count": 0
           },
           {
            "bin_start": 0.5,
            "bin_end": 0.6000000000000001,
            "count": 0
           },
           {
            "bin_start": 0.6000000000000001,
            "bin_end": 0.7000000000000001,
            "count": 0
           },
           {
            "bin_start": 0.7000000000000001,
            "bin_end": 0.8,
            "count": 0
           },
           {
            "bin_start": 0.8,
            "bin_end": 0.9,
            "count": 0
           },
           {
            "bin_start": 0.9,
            "bin_end": 1,
            "count": 0
           }
          ]
         }
        },
        {
         "name": "1987",
         "dtype": "float64",
         "stats": {
          "unique_count": 0,
          "nan_count": 63,
          "min": null,
          "max": null,
          "histogram": [
           {
            "bin_start": 0,
            "bin_end": 0.1,
            "count": 0
           },
           {
            "bin_start": 0.1,
            "bin_end": 0.2,
            "count": 0
           },
           {
            "bin_start": 0.2,
            "bin_end": 0.30000000000000004,
            "count": 0
           },
           {
            "bin_start": 0.30000000000000004,
            "bin_end": 0.4,
            "count": 0
           },
           {
            "bin_start": 0.4,
            "bin_end": 0.5,
            "count": 0
           },
           {
            "bin_start": 0.5,
            "bin_end": 0.6000000000000001,
            "count": 0
           },
           {
            "bin_start": 0.6000000000000001,
            "bin_end": 0.7000000000000001,
            "count": 0
           },
           {
            "bin_start": 0.7000000000000001,
            "bin_end": 0.8,
            "count": 0
           },
           {
            "bin_start": 0.8,
            "bin_end": 0.9,
            "count": 0
           },
           {
            "bin_start": 0.9,
            "bin_end": 1,
            "count": 0
           }
          ]
         }
        },
        {
         "name": "1988",
         "dtype": "float64",
         "stats": {
          "unique_count": 0,
          "nan_count": 63,
          "min": null,
          "max": null,
          "histogram": [
           {
            "bin_start": 0,
            "bin_end": 0.1,
            "count": 0
           },
           {
            "bin_start": 0.1,
            "bin_end": 0.2,
            "count": 0
           },
           {
            "bin_start": 0.2,
            "bin_end": 0.30000000000000004,
            "count": 0
           },
           {
            "bin_start": 0.30000000000000004,
            "bin_end": 0.4,
            "count": 0
           },
           {
            "bin_start": 0.4,
            "bin_end": 0.5,
            "count": 0
           },
           {
            "bin_start": 0.5,
            "bin_end": 0.6000000000000001,
            "count": 0
           },
           {
            "bin_start": 0.6000000000000001,
            "bin_end": 0.7000000000000001,
            "count": 0
           },
           {
            "bin_start": 0.7000000000000001,
            "bin_end": 0.8,
            "count": 0
           },
           {
            "bin_start": 0.8,
            "bin_end": 0.9,
            "count": 0
           },
           {
            "bin_start": 0.9,
            "bin_end": 1,
            "count": 0
           }
          ]
         }
        },
        {
         "name": "1989",
         "dtype": "float64",
         "stats": {
          "unique_count": 0,
          "nan_count": 63,
          "min": null,
          "max": null,
          "histogram": [
           {
            "bin_start": 0,
            "bin_end": 0.1,
            "count": 0
           },
           {
            "bin_start": 0.1,
            "bin_end": 0.2,
            "count": 0
           },
           {
            "bin_start": 0.2,
            "bin_end": 0.30000000000000004,
            "count": 0
           },
           {
            "bin_start": 0.30000000000000004,
            "bin_end": 0.4,
            "count": 0
           },
           {
            "bin_start": 0.4,
            "bin_end": 0.5,
            "count": 0
           },
           {
            "bin_start": 0.5,
            "bin_end": 0.6000000000000001,
            "count": 0
           },
           {
            "bin_start": 0.6000000000000001,
            "bin_end": 0.7000000000000001,
            "count": 0
           },
           {
            "bin_start": 0.7000000000000001,
            "bin_end": 0.8,
            "count": 0
           },
           {
            "bin_start": 0.8,
            "bin_end": 0.9,
            "count": 0
           },
           {
            "bin_start": 0.9,
            "bin_end": 1,
            "count": 0
           }
          ]
         }
        },
        {
         "name": "1990",
         "dtype": "float64",
         "stats": {
          "unique_count": 0,
          "nan_count": 63,
          "min": null,
          "max": null,
          "histogram": [
           {
            "bin_start": 0,
            "bin_end": 0.1,
            "count": 0
           },
           {
            "bin_start": 0.1,
            "bin_end": 0.2,
            "count": 0
           },
           {
            "bin_start": 0.2,
            "bin_end": 0.30000000000000004,
            "count": 0
           },
           {
            "bin_start": 0.30000000000000004,
            "bin_end": 0.4,
            "count": 0
           },
           {
            "bin_start": 0.4,
            "bin_end": 0.5,
            "count": 0
           },
           {
            "bin_start": 0.5,
            "bin_end": 0.6000000000000001,
            "count": 0
           },
           {
            "bin_start": 0.6000000000000001,
            "bin_end": 0.7000000000000001,
            "count": 0
           },
           {
            "bin_start": 0.7000000000000001,
            "bin_end": 0.8,
            "count": 0
           },
           {
            "bin_start": 0.8,
            "bin_end": 0.9,
            "count": 0
           },
           {
            "bin_start": 0.9,
            "bin_end": 1,
            "count": 0
           }
          ]
         }
        },
        {
         "name": "1991",
         "dtype": "float64",
         "stats": {
          "unique_count": 0,
          "nan_count": 63,
          "min": null,
          "max": null,
          "histogram": [
           {
            "bin_start": 0,
            "bin_end": 0.1,
            "count": 0
           },
           {
            "bin_start": 0.1,
            "bin_end": 0.2,
            "count": 0
           },
           {
            "bin_start": 0.2,
            "bin_end": 0.30000000000000004,
            "count": 0
           },
           {
            "bin_start": 0.30000000000000004,
            "bin_end": 0.4,
            "count": 0
           },
           {
            "bin_start": 0.4,
            "bin_end": 0.5,
            "count": 0
           },
           {
            "bin_start": 0.5,
            "bin_end": 0.6000000000000001,
            "count": 0
           },
           {
            "bin_start": 0.6000000000000001,
            "bin_end": 0.7000000000000001,
            "count": 0
           },
           {
            "bin_start": 0.7000000000000001,
            "bin_end": 0.8,
            "count": 0
           },
           {
            "bin_start": 0.8,
            "bin_end": 0.9,
            "count": 0
           },
           {
            "bin_start": 0.9,
            "bin_end": 1,
            "count": 0
           }
          ]
         }
        },
        {
         "name": "1992",
         "dtype": "float64",
         "stats": {
          "unique_count": 0,
          "nan_count": 63,
          "min": null,
          "max": null,
          "histogram": [
           {
            "bin_start": 0,
            "bin_end": 0.1,
            "count": 0
           },
           {
            "bin_start": 0.1,
            "bin_end": 0.2,
            "count": 0
           },
           {
            "bin_start": 0.2,
            "bin_end": 0.30000000000000004,
            "count": 0
           },
           {
            "bin_start": 0.30000000000000004,
            "bin_end": 0.4,
            "count": 0
           },
           {
            "bin_start": 0.4,
            "bin_end": 0.5,
            "count": 0
           },
           {
            "bin_start": 0.5,
            "bin_end": 0.6000000000000001,
            "count": 0
           },
           {
            "bin_start": 0.6000000000000001,
            "bin_end": 0.7000000000000001,
            "count": 0
           },
           {
            "bin_start": 0.7000000000000001,
            "bin_end": 0.8,
            "count": 0
           },
           {
            "bin_start": 0.8,
            "bin_end": 0.9,
            "count": 0
           },
           {
            "bin_start": 0.9,
            "bin_end": 1,
            "count": 0
           }
          ]
         }
        },
        {
         "name": "1993",
         "dtype": "float64",
         "stats": {
          "unique_count": 0,
          "nan_count": 63,
          "min": null,
          "max": null,
          "histogram": [
           {
            "bin_start": 0,
            "bin_end": 0.1,
            "count": 0
           },
           {
            "bin_start": 0.1,
            "bin_end": 0.2,
            "count": 0
           },
           {
            "bin_start": 0.2,
            "bin_end": 0.30000000000000004,
            "count": 0
           },
           {
            "bin_start": 0.30000000000000004,
            "bin_end": 0.4,
            "count": 0
           },
           {
            "bin_start": 0.4,
            "bin_end": 0.5,
            "count": 0
           },
           {
            "bin_start": 0.5,
            "bin_end": 0.6000000000000001,
            "count": 0
           },
           {
            "bin_start": 0.6000000000000001,
            "bin_end": 0.7000000000000001,
            "count": 0
           },
           {
            "bin_start": 0.7000000000000001,
            "bin_end": 0.8,
            "count": 0
           },
           {
            "bin_start": 0.8,
            "bin_end": 0.9,
            "count": 0
           },
           {
            "bin_start": 0.9,
            "bin_end": 1,
            "count": 0
           }
          ]
         }
        },
        {
         "name": "1994",
         "dtype": "float64",
         "stats": {
          "unique_count": 0,
          "nan_count": 63,
          "min": null,
          "max": null,
          "histogram": [
           {
            "bin_start": 0,
            "bin_end": 0.1,
            "count": 0
           },
           {
            "bin_start": 0.1,
            "bin_end": 0.2,
            "count": 0
           },
           {
            "bin_start": 0.2,
            "bin_end": 0.30000000000000004,
            "count": 0
           },
           {
            "bin_start": 0.30000000000000004,
            "bin_end": 0.4,
            "count": 0
           },
           {
            "bin_start": 0.4,
            "bin_end": 0.5,
            "count": 0
           },
           {
            "bin_start": 0.5,
            "bin_end": 0.6000000000000001,
            "count": 0
           },
           {
            "bin_start": 0.6000000000000001,
            "bin_end": 0.7000000000000001,
            "count": 0
           },
           {
            "bin_start": 0.7000000000000001,
            "bin_end": 0.8,
            "count": 0
           },
           {
            "bin_start": 0.8,
            "bin_end": 0.9,
            "count": 0
           },
           {
            "bin_start": 0.9,
            "bin_end": 1,
            "count": 0
           }
          ]
         }
        },
        {
         "name": "1995",
         "dtype": "float64",
         "stats": {
          "unique_count": 0,
          "nan_count": 63,
          "min": null,
          "max": null,
          "histogram": [
           {
            "bin_start": 0,
            "bin_end": 0.1,
            "count": 0
           },
           {
            "bin_start": 0.1,
            "bin_end": 0.2,
            "count": 0
           },
           {
            "bin_start": 0.2,
            "bin_end": 0.30000000000000004,
            "count": 0
           },
           {
            "bin_start": 0.30000000000000004,
            "bin_end": 0.4,
            "count": 0
           },
           {
            "bin_start": 0.4,
            "bin_end": 0.5,
            "count": 0
           },
           {
            "bin_start": 0.5,
            "bin_end": 0.6000000000000001,
            "count": 0
           },
           {
            "bin_start": 0.6000000000000001,
            "bin_end": 0.7000000000000001,
            "count": 0
           },
           {
            "bin_start": 0.7000000000000001,
            "bin_end": 0.8,
            "count": 0
           },
           {
            "bin_start": 0.8,
            "bin_end": 0.9,
            "count": 0
           },
           {
            "bin_start": 0.9,
            "bin_end": 1,
            "count": 0
           }
          ]
         }
        },
        {
         "name": "1996",
         "dtype": "float64",
         "stats": {
          "unique_count": 0,
          "nan_count": 63,
          "min": null,
          "max": null,
          "histogram": [
           {
            "bin_start": 0,
            "bin_end": 0.1,
            "count": 0
           },
           {
            "bin_start": 0.1,
            "bin_end": 0.2,
            "count": 0
           },
           {
            "bin_start": 0.2,
            "bin_end": 0.30000000000000004,
            "count": 0
           },
           {
            "bin_start": 0.30000000000000004,
            "bin_end": 0.4,
            "count": 0
           },
           {
            "bin_start": 0.4,
            "bin_end": 0.5,
            "count": 0
           },
           {
            "bin_start": 0.5,
            "bin_end": 0.6000000000000001,
            "count": 0
           },
           {
            "bin_start": 0.6000000000000001,
            "bin_end": 0.7000000000000001,
            "count": 0
           },
           {
            "bin_start": 0.7000000000000001,
            "bin_end": 0.8,
            "count": 0
           },
           {
            "bin_start": 0.8,
            "bin_end": 0.9,
            "count": 0
           },
           {
            "bin_start": 0.9,
            "bin_end": 1,
            "count": 0
           }
          ]
         }
        },
        {
         "name": "1997",
         "dtype": "float64",
         "stats": {
          "unique_count": 0,
          "nan_count": 63,
          "min": null,
          "max": null,
          "histogram": [
           {
            "bin_start": 0,
            "bin_end": 0.1,
            "count": 0
           },
           {
            "bin_start": 0.1,
            "bin_end": 0.2,
            "count": 0
           },
           {
            "bin_start": 0.2,
            "bin_end": 0.30000000000000004,
            "count": 0
           },
           {
            "bin_start": 0.30000000000000004,
            "bin_end": 0.4,
            "count": 0
           },
           {
            "bin_start": 0.4,
            "bin_end": 0.5,
            "count": 0
           },
           {
            "bin_start": 0.5,
            "bin_end": 0.6000000000000001,
            "count": 0
           },
           {
            "bin_start": 0.6000000000000001,
            "bin_end": 0.7000000000000001,
            "count": 0
           },
           {
            "bin_start": 0.7000000000000001,
            "bin_end": 0.8,
            "count": 0
           },
           {
            "bin_start": 0.8,
            "bin_end": 0.9,
            "count": 0
           },
           {
            "bin_start": 0.9,
            "bin_end": 1,
            "count": 0
           }
          ]
         }
        },
        {
         "name": "1998",
         "dtype": "float64",
         "stats": {
          "unique_count": 0,
          "nan_count": 63,
          "min": null,
          "max": null,
          "histogram": [
           {
            "bin_start": 0,
            "bin_end": 0.1,
            "count": 0
           },
           {
            "bin_start": 0.1,
            "bin_end": 0.2,
            "count": 0
           },
           {
            "bin_start": 0.2,
            "bin_end": 0.30000000000000004,
            "count": 0
           },
           {
            "bin_start": 0.30000000000000004,
            "bin_end": 0.4,
            "count": 0
           },
           {
            "bin_start": 0.4,
            "bin_end": 0.5,
            "count": 0
           },
           {
            "bin_start": 0.5,
            "bin_end": 0.6000000000000001,
            "count": 0
           },
           {
            "bin_start": 0.6000000000000001,
            "bin_end": 0.7000000000000001,
            "count": 0
           },
           {
            "bin_start": 0.7000000000000001,
            "bin_end": 0.8,
            "count": 0
           },
           {
            "bin_start": 0.8,
            "bin_end": 0.9,
            "count": 0
           },
           {
            "bin_start": 0.9,
            "bin_end": 1,
            "count": 0
           }
          ]
         }
        },
        {
         "name": "1999",
         "dtype": "float64",
         "stats": {
          "unique_count": 0,
          "nan_count": 63,
          "min": null,
          "max": null,
          "histogram": [
           {
            "bin_start": 0,
            "bin_end": 0.1,
            "count": 0
           },
           {
            "bin_start": 0.1,
            "bin_end": 0.2,
            "count": 0
           },
           {
            "bin_start": 0.2,
            "bin_end": 0.30000000000000004,
            "count": 0
           },
           {
            "bin_start": 0.30000000000000004,
            "bin_end": 0.4,
            "count": 0
           },
           {
            "bin_start": 0.4,
            "bin_end": 0.5,
            "count": 0
           },
           {
            "bin_start": 0.5,
            "bin_end": 0.6000000000000001,
            "count": 0
           },
           {
            "bin_start": 0.6000000000000001,
            "bin_end": 0.7000000000000001,
            "count": 0
           },
           {
            "bin_start": 0.7000000000000001,
            "bin_end": 0.8,
            "count": 0
           },
           {
            "bin_start": 0.8,
            "bin_end": 0.9,
            "count": 0
           },
           {
            "bin_start": 0.9,
            "bin_end": 1,
            "count": 0
           }
          ]
         }
        },
        {
         "name": "2000",
         "dtype": "float64",
         "stats": {
          "unique_count": 0,
          "nan_count": 63,
          "min": null,
          "max": null,
          "histogram": [
           {
            "bin_start": 0,
            "bin_end": 0.1,
            "count": 0
           },
           {
            "bin_start": 0.1,
            "bin_end": 0.2,
            "count": 0
           },
           {
            "bin_start": 0.2,
            "bin_end": 0.30000000000000004,
            "count": 0
           },
           {
            "bin_start": 0.30000000000000004,
            "bin_end": 0.4,
            "count": 0
           },
           {
            "bin_start": 0.4,
            "bin_end": 0.5,
            "count": 0
           },
           {
            "bin_start": 0.5,
            "bin_end": 0.6000000000000001,
            "count": 0
           },
           {
            "bin_start": 0.6000000000000001,
            "bin_end": 0.7000000000000001,
            "count": 0
           },
           {
            "bin_start": 0.7000000000000001,
            "bin_end": 0.8,
            "count": 0
           },
           {
            "bin_start": 0.8,
            "bin_end": 0.9,
            "count": 0
           },
           {
            "bin_start": 0.9,
            "bin_end": 1,
            "count": 0
           }
          ]
         }
        },
        {
         "name": "2001",
         "dtype": "float64",
         "stats": {
          "unique_count": 0,
          "nan_count": 63,
          "min": null,
          "max": null,
          "histogram": [
           {
            "bin_start": 0,
            "bin_end": 0.1,
            "count": 0
           },
           {
            "bin_start": 0.1,
            "bin_end": 0.2,
            "count": 0
           },
           {
            "bin_start": 0.2,
            "bin_end": 0.30000000000000004,
            "count": 0
           },
           {
            "bin_start": 0.30000000000000004,
            "bin_end": 0.4,
            "count": 0
           },
           {
            "bin_start": 0.4,
            "bin_end": 0.5,
            "count": 0
           },
           {
            "bin_start": 0.5,
            "bin_end": 0.6000000000000001,
            "count": 0
           },
           {
            "bin_start": 0.6000000000000001,
            "bin_end": 0.7000000000000001,
            "count": 0
           },
           {
            "bin_start": 0.7000000000000001,
            "bin_end": 0.8,
            "count": 0
           },
           {
            "bin_start": 0.8,
            "bin_end": 0.9,
            "count": 0
           },
           {
            "bin_start": 0.9,
            "bin_end": 1,
            "count": 0
           }
          ]
         }
        },
        {
         "name": "2002",
         "dtype": "float64",
         "stats": {
          "unique_count": 0,
          "nan_count": 63,
          "min": null,
          "max": null,
          "histogram": [
           {
            "bin_start": 0,
            "bin_end": 0.1,
            "count": 0
           },
           {
            "bin_start": 0.1,
            "bin_end": 0.2,
            "count": 0
           },
           {
            "bin_start": 0.2,
            "bin_end": 0.30000000000000004,
            "count": 0
           },
           {
            "bin_start": 0.30000000000000004,
            "bin_end": 0.4,
            "count": 0
           },
           {
            "bin_start": 0.4,
            "bin_end": 0.5,
            "count": 0
           },
           {
            "bin_start": 0.5,
            "bin_end": 0.6000000000000001,
            "count": 0
           },
           {
            "bin_start": 0.6000000000000001,
            "bin_end": 0.7000000000000001,
            "count": 0
           },
           {
            "bin_start": 0.7000000000000001,
            "bin_end": 0.8,
            "count": 0
           },
           {
            "bin_start": 0.8,
            "bin_end": 0.9,
            "count": 0
           },
           {
            "bin_start": 0.9,
            "bin_end": 1,
            "count": 0
           }
          ]
         }
        },
        {
         "name": "2003",
         "dtype": "float64",
         "stats": {
          "unique_count": 0,
          "nan_count": 63,
          "min": null,
          "max": null,
          "histogram": [
           {
            "bin_start": 0,
            "bin_end": 0.1,
            "count": 0
           },
           {
            "bin_start": 0.1,
            "bin_end": 0.2,
            "count": 0
           },
           {
            "bin_start": 0.2,
            "bin_end": 0.30000000000000004,
            "count": 0
           },
           {
            "bin_start": 0.30000000000000004,
            "bin_end": 0.4,
            "count": 0
           },
           {
            "bin_start": 0.4,
            "bin_end": 0.5,
            "count": 0
           },
           {
            "bin_start": 0.5,
            "bin_end": 0.6000000000000001,
            "count": 0
           },
           {
            "bin_start": 0.6000000000000001,
            "bin_end": 0.7000000000000001,
            "count": 0
           },
           {
            "bin_start": 0.7000000000000001,
            "bin_end": 0.8,
            "count": 0
           },
           {
            "bin_start": 0.8,
            "bin_end": 0.9,
            "count": 0
           },
           {
            "bin_start": 0.9,
            "bin_end": 1,
            "count": 0
           }
          ]
         }
        },
        {
         "name": "2004",
         "dtype": "float64",
         "stats": {
          "unique_count": 0,
          "nan_count": 63,
          "min": null,
          "max": null,
          "histogram": [
           {
            "bin_start": 0,
            "bin_end": 0.1,
            "count": 0
           },
           {
            "bin_start": 0.1,
            "bin_end": 0.2,
            "count": 0
           },
           {
            "bin_start": 0.2,
            "bin_end": 0.30000000000000004,
            "count": 0
           },
           {
            "bin_start": 0.30000000000000004,
            "bin_end": 0.4,
            "count": 0
           },
           {
            "bin_start": 0.4,
            "bin_end": 0.5,
            "count": 0
           },
           {
            "bin_start": 0.5,
            "bin_end": 0.6000000000000001,
            "count": 0
           },
           {
            "bin_start": 0.6000000000000001,
            "bin_end": 0.7000000000000001,
            "count": 0
           },
           {
            "bin_start": 0.7000000000000001,
            "bin_end": 0.8,
            "count": 0
           },
           {
            "bin_start": 0.8,
            "bin_end": 0.9,
            "count": 0
           },
           {
            "bin_start": 0.9,
            "bin_end": 1,
            "count": 0
           }
          ]
         }
        },
        {
         "name": "2005",
         "dtype": "float64",
         "stats": {
          "unique_count": 0,
          "nan_count": 63,
          "min": null,
          "max": null,
          "histogram": [
           {
            "bin_start": 0,
            "bin_end": 0.1,
            "count": 0
           },
           {
            "bin_start": 0.1,
            "bin_end": 0.2,
            "count": 0
           },
           {
            "bin_start": 0.2,
            "bin_end": 0.30000000000000004,
            "count": 0
           },
           {
            "bin_start": 0.30000000000000004,
            "bin_end": 0.4,
            "count": 0
           },
           {
            "bin_start": 0.4,
            "bin_end": 0.5,
            "count": 0
           },
           {
            "bin_start": 0.5,
            "bin_end": 0.6000000000000001,
            "count": 0
           },
           {
            "bin_start": 0.6000000000000001,
            "bin_end": 0.7000000000000001,
            "count": 0
           },
           {
            "bin_start": 0.7000000000000001,
            "bin_end": 0.8,
            "count": 0
           },
           {
            "bin_start": 0.8,
            "bin_end": 0.9,
            "count": 0
           },
           {
            "bin_start": 0.9,
            "bin_end": 1,
            "count": 0
           }
          ]
         }
        },
        {
         "name": "2006",
         "dtype": "float64",
         "stats": {
          "unique_count": 0,
          "nan_count": 63,
          "min": null,
          "max": null,
          "histogram": [
           {
            "bin_start": 0,
            "bin_end": 0.1,
            "count": 0
           },
           {
            "bin_start": 0.1,
            "bin_end": 0.2,
            "count": 0
           },
           {
            "bin_start": 0.2,
            "bin_end": 0.30000000000000004,
            "count": 0
           },
           {
            "bin_start": 0.30000000000000004,
            "bin_end": 0.4,
            "count": 0
           },
           {
            "bin_start": 0.4,
            "bin_end": 0.5,
            "count": 0
           },
           {
            "bin_start": 0.5,
            "bin_end": 0.6000000000000001,
            "count": 0
           },
           {
            "bin_start": 0.6000000000000001,
            "bin_end": 0.7000000000000001,
            "count": 0
           },
           {
            "bin_start": 0.7000000000000001,
            "bin_end": 0.8,
            "count": 0
           },
           {
            "bin_start": 0.8,
            "bin_end": 0.9,
            "count": 0
           },
           {
            "bin_start": 0.9,
            "bin_end": 1,
            "count": 0
           }
          ]
         }
        },
        {
         "name": "2007",
         "dtype": "float64",
         "stats": {
          "unique_count": 0,
          "nan_count": 63,
          "min": null,
          "max": null,
          "histogram": [
           {
            "bin_start": 0,
            "bin_end": 0.1,
            "count": 0
           },
           {
            "bin_start": 0.1,
            "bin_end": 0.2,
            "count": 0
           },
           {
            "bin_start": 0.2,
            "bin_end": 0.30000000000000004,
            "count": 0
           },
           {
            "bin_start": 0.30000000000000004,
            "bin_end": 0.4,
            "count": 0
           },
           {
            "bin_start": 0.4,
            "bin_end": 0.5,
            "count": 0
           },
           {
            "bin_start": 0.5,
            "bin_end": 0.6000000000000001,
            "count": 0
           },
           {
            "bin_start": 0.6000000000000001,
            "bin_end": 0.7000000000000001,
            "count": 0
           },
           {
            "bin_start": 0.7000000000000001,
            "bin_end": 0.8,
            "count": 0
           },
           {
            "bin_start": 0.8,
            "bin_end": 0.9,
            "count": 0
           },
           {
            "bin_start": 0.9,
            "bin_end": 1,
            "count": 0
           }
          ]
         }
        },
        {
         "name": "2008",
         "dtype": "float64",
         "stats": {
          "unique_count": 0,
          "nan_count": 63,
          "min": null,
          "max": null,
          "histogram": [
           {
            "bin_start": 0,
            "bin_end": 0.1,
            "count": 0
           },
           {
            "bin_start": 0.1,
            "bin_end": 0.2,
            "count": 0
           },
           {
            "bin_start": 0.2,
            "bin_end": 0.30000000000000004,
            "count": 0
           },
           {
            "bin_start": 0.30000000000000004,
            "bin_end": 0.4,
            "count": 0
           },
           {
            "bin_start": 0.4,
            "bin_end": 0.5,
            "count": 0
           },
           {
            "bin_start": 0.5,
            "bin_end": 0.6000000000000001,
            "count": 0
           },
           {
            "bin_start": 0.6000000000000001,
            "bin_end": 0.7000000000000001,
            "count": 0
           },
           {
            "bin_start": 0.7000000000000001,
            "bin_end": 0.8,
            "count": 0
           },
           {
            "bin_start": 0.8,
            "bin_end": 0.9,
            "count": 0
           },
           {
            "bin_start": 0.9,
            "bin_end": 1,
            "count": 0
           }
          ]
         }
        },
        {
         "name": "2009",
         "dtype": "float64",
         "stats": {
          "unique_count": 0,
          "nan_count": 63,
          "min": null,
          "max": null,
          "histogram": [
           {
            "bin_start": 0,
            "bin_end": 0.1,
            "count": 0
           },
           {
            "bin_start": 0.1,
            "bin_end": 0.2,
            "count": 0
           },
           {
            "bin_start": 0.2,
            "bin_end": 0.30000000000000004,
            "count": 0
           },
           {
            "bin_start": 0.30000000000000004,
            "bin_end": 0.4,
            "count": 0
           },
           {
            "bin_start": 0.4,
            "bin_end": 0.5,
            "count": 0
           },
           {
            "bin_start": 0.5,
            "bin_end": 0.6000000000000001,
            "count": 0
           },
           {
            "bin_start": 0.6000000000000001,
            "bin_end": 0.7000000000000001,
            "count": 0
           },
           {
            "bin_start": 0.7000000000000001,
            "bin_end": 0.8,
            "count": 0
           },
           {
            "bin_start": 0.8,
            "bin_end": 0.9,
            "count": 0
           },
           {
            "bin_start": 0.9,
            "bin_end": 1,
            "count": 0
           }
          ]
         }
        },
        {
         "name": "2010",
         "dtype": "float64",
         "stats": {
          "unique_count": 0,
          "nan_count": 63,
          "min": null,
          "max": null,
          "histogram": [
           {
            "bin_start": 0,
            "bin_end": 0.1,
            "count": 0
           },
           {
            "bin_start": 0.1,
            "bin_end": 0.2,
            "count": 0
           },
           {
            "bin_start": 0.2,
            "bin_end": 0.30000000000000004,
            "count": 0
           },
           {
            "bin_start": 0.30000000000000004,
            "bin_end": 0.4,
            "count": 0
           },
           {
            "bin_start": 0.4,
            "bin_end": 0.5,
            "count": 0
           },
           {
            "bin_start": 0.5,
            "bin_end": 0.6000000000000001,
            "count": 0
           },
           {
            "bin_start": 0.6000000000000001,
            "bin_end": 0.7000000000000001,
            "count": 0
           },
           {
            "bin_start": 0.7000000000000001,
            "bin_end": 0.8,
            "count": 0
           },
           {
            "bin_start": 0.8,
            "bin_end": 0.9,
            "count": 0
           },
           {
            "bin_start": 0.9,
            "bin_end": 1,
            "count": 0
           }
          ]
         }
        },
        {
         "name": "2011",
         "dtype": "float64",
         "stats": {
          "unique_count": 0,
          "nan_count": 63,
          "min": null,
          "max": null,
          "histogram": [
           {
            "bin_start": 0,
            "bin_end": 0.1,
            "count": 0
           },
           {
            "bin_start": 0.1,
            "bin_end": 0.2,
            "count": 0
           },
           {
            "bin_start": 0.2,
            "bin_end": 0.30000000000000004,
            "count": 0
           },
           {
            "bin_start": 0.30000000000000004,
            "bin_end": 0.4,
            "count": 0
           },
           {
            "bin_start": 0.4,
            "bin_end": 0.5,
            "count": 0
           },
           {
            "bin_start": 0.5,
            "bin_end": 0.6000000000000001,
            "count": 0
           },
           {
            "bin_start": 0.6000000000000001,
            "bin_end": 0.7000000000000001,
            "count": 0
           },
           {
            "bin_start": 0.7000000000000001,
            "bin_end": 0.8,
            "count": 0
           },
           {
            "bin_start": 0.8,
            "bin_end": 0.9,
            "count": 0
           },
           {
            "bin_start": 0.9,
            "bin_end": 1,
            "count": 0
           }
          ]
         }
        },
        {
         "name": "2012",
         "dtype": "float64",
         "stats": {
          "unique_count": 0,
          "nan_count": 63,
          "min": null,
          "max": null,
          "histogram": [
           {
            "bin_start": 0,
            "bin_end": 0.1,
            "count": 0
           },
           {
            "bin_start": 0.1,
            "bin_end": 0.2,
            "count": 0
           },
           {
            "bin_start": 0.2,
            "bin_end": 0.30000000000000004,
            "count": 0
           },
           {
            "bin_start": 0.30000000000000004,
            "bin_end": 0.4,
            "count": 0
           },
           {
            "bin_start": 0.4,
            "bin_end": 0.5,
            "count": 0
           },
           {
            "bin_start": 0.5,
            "bin_end": 0.6000000000000001,
            "count": 0
           },
           {
            "bin_start": 0.6000000000000001,
            "bin_end": 0.7000000000000001,
            "count": 0
           },
           {
            "bin_start": 0.7000000000000001,
            "bin_end": 0.8,
            "count": 0
           },
           {
            "bin_start": 0.8,
            "bin_end": 0.9,
            "count": 0
           },
           {
            "bin_start": 0.9,
            "bin_end": 1,
            "count": 0
           }
          ]
         }
        },
        {
         "name": "2013",
         "dtype": "float64",
         "stats": {
          "unique_count": 0,
          "nan_count": 63,
          "min": null,
          "max": null,
          "histogram": [
           {
            "bin_start": 0,
            "bin_end": 0.1,
            "count": 0
           },
           {
            "bin_start": 0.1,
            "bin_end": 0.2,
            "count": 0
           },
           {
            "bin_start": 0.2,
            "bin_end": 0.30000000000000004,
            "count": 0
           },
           {
            "bin_start": 0.30000000000000004,
            "bin_end": 0.4,
            "count": 0
           },
           {
            "bin_start": 0.4,
            "bin_end": 0.5,
            "count": 0
           },
           {
            "bin_start": 0.5,
            "bin_end": 0.6000000000000001,
            "count": 0
           },
           {
            "bin_start": 0.6000000000000001,
            "bin_end": 0.7000000000000001,
            "count": 0
           },
           {
            "bin_start": 0.7000000000000001,
            "bin_end": 0.8,
            "count": 0
           },
           {
            "bin_start": 0.8,
            "bin_end": 0.9,
            "count": 0
           },
           {
            "bin_start": 0.9,
            "bin_end": 1,
            "count": 0
           }
          ]
         }
        },
        {
         "name": "2014",
         "dtype": "float64",
         "stats": {
          "unique_count": 0,
          "nan_count": 63,
          "min": null,
          "max": null,
          "histogram": [
           {
            "bin_start": 0,
            "bin_end": 0.1,
            "count": 0
           },
           {
            "bin_start": 0.1,
            "bin_end": 0.2,
            "count": 0
           },
           {
            "bin_start": 0.2,
            "bin_end": 0.30000000000000004,
            "count": 0
           },
           {
            "bin_start": 0.30000000000000004,
            "bin_end": 0.4,
            "count": 0
           },
           {
            "bin_start": 0.4,
            "bin_end": 0.5,
            "count": 0
           },
           {
            "bin_start": 0.5,
            "bin_end": 0.6000000000000001,
            "count": 0
           },
           {
            "bin_start": 0.6000000000000001,
            "bin_end": 0.7000000000000001,
            "count": 0
           },
           {
            "bin_start": 0.7000000000000001,
            "bin_end": 0.8,
            "count": 0
           },
           {
            "bin_start": 0.8,
            "bin_end": 0.9,
            "count": 0
           },
           {
            "bin_start": 0.9,
            "bin_end": 1,
            "count": 0
           }
          ]
         }
        },
        {
         "name": "2015",
         "dtype": "float64",
         "stats": {
          "unique_count": 0,
          "nan_count": 63,
          "min": null,
          "max": null,
          "histogram": [
           {
            "bin_start": 0,
            "bin_end": 0.1,
            "count": 0
           },
           {
            "bin_start": 0.1,
            "bin_end": 0.2,
            "count": 0
           },
           {
            "bin_start": 0.2,
            "bin_end": 0.30000000000000004,
            "count": 0
           },
           {
            "bin_start": 0.30000000000000004,
            "bin_end": 0.4,
            "count": 0
           },
           {
            "bin_start": 0.4,
            "bin_end": 0.5,
            "count": 0
           },
           {
            "bin_start": 0.5,
            "bin_end": 0.6000000000000001,
            "count": 0
           },
           {
            "bin_start": 0.6000000000000001,
            "bin_end": 0.7000000000000001,
            "count": 0
           },
           {
            "bin_start": 0.7000000000000001,
            "bin_end": 0.8,
            "count": 0
           },
           {
            "bin_start": 0.8,
            "bin_end": 0.9,
            "count": 0
           },
           {
            "bin_start": 0.9,
            "bin_end": 1,
            "count": 0
           }
          ]
         }
        },
        {
         "name": "2016",
         "dtype": "float64",
         "stats": {
          "unique_count": 0,
          "nan_count": 63,
          "min": null,
          "max": null,
          "histogram": [
           {
            "bin_start": 0,
            "bin_end": 0.1,
            "count": 0
           },
           {
            "bin_start": 0.1,
            "bin_end": 0.2,
            "count": 0
           },
           {
            "bin_start": 0.2,
            "bin_end": 0.30000000000000004,
            "count": 0
           },
           {
            "bin_start": 0.30000000000000004,
            "bin_end": 0.4,
            "count": 0
           },
           {
            "bin_start": 0.4,
            "bin_end": 0.5,
            "count": 0
           },
           {
            "bin_start": 0.5,
            "bin_end": 0.6000000000000001,
            "count": 0
           },
           {
            "bin_start": 0.6000000000000001,
            "bin_end": 0.7000000000000001,
            "count": 0
           },
           {
            "bin_start": 0.7000000000000001,
            "bin_end": 0.8,
            "count": 0
           },
           {
            "bin_start": 0.8,
            "bin_end": 0.9,
            "count": 0
           },
           {
            "bin_start": 0.9,
            "bin_end": 1,
            "count": 0
           }
          ]
         }
        },
        {
         "name": "2017",
         "dtype": "float64",
         "stats": {
          "unique_count": 0,
          "nan_count": 63,
          "min": null,
          "max": null,
          "histogram": [
           {
            "bin_start": 0,
            "bin_end": 0.1,
            "count": 0
           },
           {
            "bin_start": 0.1,
            "bin_end": 0.2,
            "count": 0
           },
           {
            "bin_start": 0.2,
            "bin_end": 0.30000000000000004,
            "count": 0
           },
           {
            "bin_start": 0.30000000000000004,
            "bin_end": 0.4,
            "count": 0
           },
           {
            "bin_start": 0.4,
            "bin_end": 0.5,
            "count": 0
           },
           {
            "bin_start": 0.5,
            "bin_end": 0.6000000000000001,
            "count": 0
           },
           {
            "bin_start": 0.6000000000000001,
            "bin_end": 0.7000000000000001,
            "count": 0
           },
           {
            "bin_start": 0.7000000000000001,
            "bin_end": 0.8,
            "count": 0
           },
           {
            "bin_start": 0.8,
            "bin_end": 0.9,
            "count": 0
           },
           {
            "bin_start": 0.9,
            "bin_end": 1,
            "count": 0
           }
          ]
         }
        },
        {
         "name": "2018",
         "dtype": "float64",
         "stats": {
          "unique_count": 0,
          "nan_count": 63,
          "min": null,
          "max": null,
          "histogram": [
           {
            "bin_start": 0,
            "bin_end": 0.1,
            "count": 0
           },
           {
            "bin_start": 0.1,
            "bin_end": 0.2,
            "count": 0
           },
           {
            "bin_start": 0.2,
            "bin_end": 0.30000000000000004,
            "count": 0
           },
           {
            "bin_start": 0.30000000000000004,
            "bin_end": 0.4,
            "count": 0
           },
           {
            "bin_start": 0.4,
            "bin_end": 0.5,
            "count": 0
           },
           {
            "bin_start": 0.5,
            "bin_end": 0.6000000000000001,
            "count": 0
           },
           {
            "bin_start": 0.6000000000000001,
            "bin_end": 0.7000000000000001,
            "count": 0
           },
           {
            "bin_start": 0.7000000000000001,
            "bin_end": 0.8,
            "count": 0
           },
           {
            "bin_start": 0.8,
            "bin_end": 0.9,
            "count": 0
           },
           {
            "bin_start": 0.9,
            "bin_end": 1,
            "count": 0
           }
          ]
         }
        },
        {
         "name": "2019",
         "dtype": "float64",
         "stats": {
          "unique_count": 0,
          "nan_count": 63,
          "min": null,
          "max": null,
          "histogram": [
           {
            "bin_start": 0,
            "bin_end": 0.1,
            "count": 0
           },
           {
            "bin_start": 0.1,
            "bin_end": 0.2,
            "count": 0
           },
           {
            "bin_start": 0.2,
            "bin_end": 0.30000000000000004,
            "count": 0
           },
           {
            "bin_start": 0.30000000000000004,
            "bin_end": 0.4,
            "count": 0
           },
           {
            "bin_start": 0.4,
            "bin_end": 0.5,
            "count": 0
           },
           {
            "bin_start": 0.5,
            "bin_end": 0.6000000000000001,
            "count": 0
           },
           {
            "bin_start": 0.6000000000000001,
            "bin_end": 0.7000000000000001,
            "count": 0
           },
           {
            "bin_start": 0.7000000000000001,
            "bin_end": 0.8,
            "count": 0
           },
           {
            "bin_start": 0.8,
            "bin_end": 0.9,
            "count": 0
           },
           {
            "bin_start": 0.9,
            "bin_end": 1,
            "count": 0
           }
          ]
         }
        },
        {
         "name": "2020",
         "dtype": "float64",
         "stats": {
          "unique_count": 0,
          "nan_count": 63,
          "min": null,
          "max": null,
          "histogram": [
           {
            "bin_start": 0,
            "bin_end": 0.1,
            "count": 0
           },
           {
            "bin_start": 0.1,
            "bin_end": 0.2,
            "count": 0
           },
           {
            "bin_start": 0.2,
            "bin_end": 0.30000000000000004,
            "count": 0
           },
           {
            "bin_start": 0.30000000000000004,
            "bin_end": 0.4,
            "count": 0
           },
           {
            "bin_start": 0.4,
            "bin_end": 0.5,
            "count": 0
           },
           {
            "bin_start": 0.5,
            "bin_end": 0.6000000000000001,
            "count": 0
           },
           {
            "bin_start": 0.6000000000000001,
            "bin_end": 0.7000000000000001,
            "count": 0
           },
           {
            "bin_start": 0.7000000000000001,
            "bin_end": 0.8,
            "count": 0
           },
           {
            "bin_start": 0.8,
            "bin_end": 0.9,
            "count": 0
           },
           {
            "bin_start": 0.9,
            "bin_end": 1,
            "count": 0
           }
          ]
         }
        },
        {
         "name": "_deepnote_index_column",
         "dtype": "int64"
        }
       ],
       "rows": [
        {
         "1980": "nan",
         "1981": "nan",
         "1982": "nan",
         "1983": "nan",
         "1984": "nan",
         "1985": "nan",
         "1986": "nan",
         "1987": "nan",
         "1988": "nan",
         "1989": "nan",
         "1990": "nan",
         "1991": "nan",
         "1992": "nan",
         "1993": "nan",
         "1994": "nan",
         "1995": "nan",
         "1996": "nan",
         "1997": "nan",
         "1998": "nan",
         "1999": "nan",
         "2000": "nan",
         "2001": "nan",
         "2002": "nan",
         "2003": "nan",
         "2004": "nan",
         "2005": "nan",
         "2006": "nan",
         "2007": "nan",
         "2008": "nan",
         "2009": "nan",
         "2010": "nan",
         "2011": "nan",
         "2012": "nan",
         "2013": "nan",
         "2014": "nan",
         "2015": "nan",
         "2016": "nan",
         "2017": "nan",
         "2018": "nan",
         "2019": "nan",
         "2020": "nan",
         "Country_Name": "Antigua and Barbuda",
         "Country_Code": "ATG",
         "Series_Name": "Agricultural irrigated land (% of total agricultural land)",
         "Series_Code": "AG.LND.IRIG.AG.ZS",
         "_deepnote_index_column": 8975
        },
        {
         "1980": "nan",
         "1981": "nan",
         "1982": "nan",
         "1983": "nan",
         "1984": "nan",
         "1985": "nan",
         "1986": "nan",
         "1987": "nan",
         "1988": "nan",
         "1989": "nan",
         "1990": "nan",
         "1991": "nan",
         "1992": "nan",
         "1993": "nan",
         "1994": "nan",
         "1995": "nan",
         "1996": "nan",
         "1997": "nan",
         "1998": "nan",
         "1999": "nan",
         "2000": "nan",
         "2001": "nan",
         "2002": "nan",
         "2003": "nan",
         "2004": "nan",
         "2005": "nan",
         "2006": "nan",
         "2007": "nan",
         "2008": "nan",
         "2009": "nan",
         "2010": "nan",
         "2011": "nan",
         "2012": "nan",
         "2013": "nan",
         "2014": "nan",
         "2015": "nan",
         "2016": "nan",
         "2017": "nan",
         "2018": "nan",
         "2019": "nan",
         "2020": "nan",
         "Country_Name": "Bahamas, The",
         "Country_Code": "BHS",
         "Series_Name": "Agricultural irrigated land (% of total agricultural land)",
         "Series_Code": "AG.LND.IRIG.AG.ZS",
         "_deepnote_index_column": 19377
        },
        {
         "1980": "nan",
         "1981": "nan",
         "1982": "nan",
         "1983": "nan",
         "1984": "nan",
         "1985": "nan",
         "1986": "nan",
         "1987": "nan",
         "1988": "nan",
         "1989": "nan",
         "1990": "nan",
         "1991": "nan",
         "1992": "nan",
         "1993": "nan",
         "1994": "nan",
         "1995": "nan",
         "1996": "nan",
         "1997": "nan",
         "1998": "nan",
         "1999": "nan",
         "2000": "nan",
         "2001": "nan",
         "2002": "nan",
         "2003": "nan",
         "2004": "nan",
         "2005": "nan",
         "2006": "nan",
         "2007": "nan",
         "2008": "nan",
         "2009": "nan",
         "2010": "nan",
         "2011": "nan",
         "2012": "nan",
         "2013": "nan",
         "2014": "nan",
         "2015": "nan",
         "2016": "nan",
         "2017": "nan",
         "2018": "nan",
         "2019": "nan",
         "2020": "nan",
         "Country_Name": "Barbados",
         "Country_Code": "BRB",
         "Series_Name": "Agricultural irrigated land (% of total agricultural land)",
         "Series_Code": "AG.LND.IRIG.AG.ZS",
         "_deepnote_index_column": 23835
        },
        {
         "1980": "nan",
         "1981": "nan",
         "1982": "nan",
         "1983": "nan",
         "1984": "nan",
         "1985": "nan",
         "1986": "nan",
         "1987": "nan",
         "1988": "nan",
         "1989": "nan",
         "1990": "nan",
         "1991": "nan",
         "1992": "nan",
         "1993": "nan",
         "1994": "nan",
         "1995": "nan",
         "1996": "nan",
         "1997": "nan",
         "1998": "nan",
         "1999": "nan",
         "2000": "nan",
         "2001": "nan",
         "2002": "nan",
         "2003": "nan",
         "2004": "nan",
         "2005": "nan",
         "2006": "nan",
         "2007": "nan",
         "2008": "nan",
         "2009": "nan",
         "2010": "nan",
         "2011": "nan",
         "2012": "nan",
         "2013": "nan",
         "2014": "nan",
         "2015": "nan",
         "2016": "nan",
         "2017": "nan",
         "2018": "nan",
         "2019": "nan",
         "2020": "nan",
         "Country_Name": "Belize",
         "Country_Code": "BLZ",
         "Series_Name": "Agricultural irrigated land (% of total agricultural land)",
         "Series_Code": "AG.LND.IRIG.AG.ZS",
         "_deepnote_index_column": 28293
        },
        {
         "1980": "nan",
         "1981": "nan",
         "1982": "nan",
         "1983": "nan",
         "1984": "nan",
         "1985": "nan",
         "1986": "nan",
         "1987": "nan",
         "1988": "nan",
         "1989": "nan",
         "1990": "nan",
         "1991": "nan",
         "1992": "nan",
         "1993": "nan",
         "1994": "nan",
         "1995": "nan",
         "1996": "nan",
         "1997": "nan",
         "1998": "nan",
         "1999": "nan",
         "2000": "nan",
         "2001": "nan",
         "2002": "nan",
         "2003": "nan",
         "2004": "nan",
         "2005": "nan",
         "2006": "nan",
         "2007": "nan",
         "2008": "nan",
         "2009": "nan",
         "2010": "nan",
         "2011": "nan",
         "2012": "nan",
         "2013": "nan",
         "2014": "nan",
         "2015": "nan",
         "2016": "nan",
         "2017": "nan",
         "2018": "nan",
         "2019": "nan",
         "2020": "nan",
         "Country_Name": "Bermuda",
         "Country_Code": "BMU",
         "Series_Name": "Agricultural irrigated land (% of total agricultural land)",
         "Series_Code": "AG.LND.IRIG.AG.ZS",
         "_deepnote_index_column": 31265
        },
        {
         "1980": "nan",
         "1981": "nan",
         "1982": "nan",
         "1983": "nan",
         "1984": "nan",
         "1985": "nan",
         "1986": "nan",
         "1987": "nan",
         "1988": "nan",
         "1989": "nan",
         "1990": "nan",
         "1991": "nan",
         "1992": "nan",
         "1993": "nan",
         "1994": "nan",
         "1995": "nan",
         "1996": "nan",
         "1997": "nan",
         "1998": "nan",
         "1999": "nan",
         "2000": "nan",
         "2001": "nan",
         "2002": "nan",
         "2003": "nan",
         "2004": "nan",
         "2005": "nan",
         "2006": "nan",
         "2007": "nan",
         "2008": "nan",
         "2009": "nan",
         "2010": "nan",
         "2011": "nan",
         "2012": "nan",
         "2013": "nan",
         "2014": "nan",
         "2015": "nan",
         "2016": "nan",
         "2017": "nan",
         "2018": "nan",
         "2019": "nan",
         "2020": "nan",
         "Country_Name": "Bermuda",
         "Country_Code": "BMU",
         "Series_Name": "Aquaculture production (metric tons)",
         "Series_Code": "ER.FSH.AQUA.MT",
         "_deepnote_index_column": 31296
        },
        {
         "1980": "nan",
         "1981": "nan",
         "1982": "nan",
         "1983": "nan",
         "1984": "nan",
         "1985": "nan",
         "1986": "nan",
         "1987": "nan",
         "1988": "nan",
         "1989": "nan",
         "1990": "nan",
         "1991": "nan",
         "1992": "nan",
         "1993": "nan",
         "1994": "nan",
         "1995": "nan",
         "1996": "nan",
         "1997": "nan",
         "1998": "nan",
         "1999": "nan",
         "2000": "nan",
         "2001": "nan",
         "2002": "nan",
         "2003": "nan",
         "2004": "nan",
         "2005": "nan",
         "2006": "nan",
         "2007": "nan",
         "2008": "nan",
         "2009": "nan",
         "2010": "nan",
         "2011": "nan",
         "2012": "nan",
         "2013": "nan",
         "2014": "nan",
         "2015": "nan",
         "2016": "nan",
         "2017": "nan",
         "2018": "nan",
         "2019": "nan",
         "2020": "nan",
         "Country_Name": "Bermuda",
         "Country_Code": "BMU",
         "Series_Name": "Total fisheries production (metric tons)",
         "Series_Code": "ER.FSH.PROD.MT",
         "_deepnote_index_column": 32592
        },
        {
         "1980": "nan",
         "1981": "nan",
         "1982": "nan",
         "1983": "nan",
         "1984": "nan",
         "1985": "nan",
         "1986": "nan",
         "1987": "nan",
         "1988": "nan",
         "1989": "nan",
         "1990": "nan",
         "1991": "nan",
         "1992": "nan",
         "1993": "nan",
         "1994": "nan",
         "1995": "nan",
         "1996": "nan",
         "1997": "nan",
         "1998": "nan",
         "1999": "nan",
         "2000": "nan",
         "2001": "nan",
         "2002": "nan",
         "2003": "nan",
         "2004": "nan",
         "2005": "nan",
         "2006": "nan",
         "2007": "nan",
         "2008": "nan",
         "2009": "nan",
         "2010": "nan",
         "2011": "nan",
         "2012": "nan",
         "2013": "nan",
         "2014": "nan",
         "2015": "nan",
         "2016": "nan",
         "2017": "nan",
         "2018": "nan",
         "2019": "nan",
         "2020": "nan",
         "Country_Name": "Cambodia",
         "Country_Code": "KHM",
         "Series_Name": "Agricultural irrigated land (% of total agricultural land)",
         "Series_Code": "AG.LND.IRIG.AG.ZS",
         "_deepnote_index_column": 49097
        },
        {
         "1980": "nan",
         "1981": "nan",
         "1982": "nan",
         "1983": "nan",
         "1984": "nan",
         "1985": "nan",
         "1986": "nan",
         "1987": "nan",
         "1988": "nan",
         "1989": "nan",
         "1990": "nan",
         "1991": "nan",
         "1992": "nan",
         "1993": "nan",
         "1994": "nan",
         "1995": "nan",
         "1996": "nan",
         "1997": "nan",
         "1998": "nan",
         "1999": "nan",
         "2000": "nan",
         "2001": "nan",
         "2002": "nan",
         "2003": "nan",
         "2004": "nan",
         "2005": "nan",
         "2006": "nan",
         "2007": "nan",
         "2008": "nan",
         "2009": "nan",
         "2010": "nan",
         "2011": "nan",
         "2012": "nan",
         "2013": "nan",
         "2014": "nan",
         "2015": "nan",
         "2016": "nan",
         "2017": "nan",
         "2018": "nan",
         "2019": "nan",
         "2020": "nan",
         "Country_Name": "Cayman Islands",
         "Country_Code": "CYM",
         "Series_Name": "Agricultural irrigated land (% of total agricultural land)",
         "Series_Code": "AG.LND.IRIG.AG.ZS",
         "_deepnote_index_column": 53555
        },
        {
         "1980": "nan",
         "1981": "nan",
         "1982": "nan",
         "1983": "nan",
         "1984": "nan",
         "1985": "nan",
         "1986": "nan",
         "1987": "nan",
         "1988": "nan",
         "1989": "nan",
         "1990": "nan",
         "1991": "nan",
         "1992": "nan",
         "1993": "nan",
         "1994": "nan",
         "1995": "nan",
         "1996": "nan",
         "1997": "nan",
         "1998": "nan",
         "1999": "nan",
         "2000": "nan",
         "2001": "nan",
         "2002": "nan",
         "2003": "nan",
         "2004": "nan",
         "2005": "nan",
         "2006": "nan",
         "2007": "nan",
         "2008": "nan",
         "2009": "nan",
         "2010": "nan",
         "2011": "nan",
         "2012": "nan",
         "2013": "nan",
         "2014": "nan",
         "2015": "nan",
         "2016": "nan",
         "2017": "nan",
         "2018": "nan",
         "2019": "nan",
         "2020": "nan",
         "Country_Name": "China",
         "Country_Code": "CHN",
         "Series_Name": "Agricultural irrigated land (% of total agricultural land)",
         "Series_Code": "AG.LND.IRIG.AG.ZS",
         "_deepnote_index_column": 60985
        },
        {
         "1980": "nan",
         "1981": "nan",
         "1982": "nan",
         "1983": "nan",
         "1984": "nan",
         "1985": "nan",
         "1986": "nan",
         "1987": "nan",
         "1988": "nan",
         "1989": "nan",
         "1990": "nan",
         "1991": "nan",
         "1992": "nan",
         "1993": "nan",
         "1994": "nan",
         "1995": "nan",
         "1996": "nan",
         "1997": "nan",
         "1998": "nan",
         "1999": "nan",
         "2000": "nan",
         "2001": "nan",
         "2002": "nan",
         "2003": "nan",
         "2004": "nan",
         "2005": "nan",
         "2006": "nan",
         "2007": "nan",
         "2008": "nan",
         "2009": "nan",
         "2010": "nan",
         "2011": "nan",
         "2012": "nan",
         "2013": "nan",
         "2014": "nan",
         "2015": "nan",
         "2016": "nan",
         "2017": "nan",
         "2018": "nan",
         "2019": "nan",
         "2020": "nan",
         "Country_Name": "Comoros",
         "Country_Code": "COM",
         "Series_Name": "Agricultural irrigated land (% of total agricultural land)",
         "Series_Code": "AG.LND.IRIG.AG.ZS",
         "_deepnote_index_column": 63957
        },
        {
         "1980": "nan",
         "1981": "nan",
         "1982": "nan",
         "1983": "nan",
         "1984": "nan",
         "1985": "nan",
         "1986": "nan",
         "1987": "nan",
         "1988": "nan",
         "1989": "nan",
         "1990": "nan",
         "1991": "nan",
         "1992": "nan",
         "1993": "nan",
         "1994": "nan",
         "1995": "nan",
         "1996": "nan",
         "1997": "nan",
         "1998": "nan",
         "1999": "nan",
         "2000": "nan",
         "2001": "nan",
         "2002": "nan",
         "2003": "nan",
         "2004": "nan",
         "2005": "nan",
         "2006": "nan",
         "2007": "nan",
         "2008": "nan",
         "2009": "nan",
         "2010": "nan",
         "2011": "nan",
         "2012": "nan",
         "2013": "nan",
         "2014": "nan",
         "2015": "nan",
         "2016": "nan",
         "2017": "nan",
         "2018": "nan",
         "2019": "nan",
         "2020": "nan",
         "Country_Name": "Comoros",
         "Country_Code": "COM",
         "Series_Name": "Aquaculture production (metric tons)",
         "Series_Code": "ER.FSH.AQUA.MT",
         "_deepnote_index_column": 63988
        },
        {
         "1980": "nan",
         "1981": "nan",
         "1982": "nan",
         "1983": "nan",
         "1984": "nan",
         "1985": "nan",
         "1986": "nan",
         "1987": "nan",
         "1988": "nan",
         "1989": "nan",
         "1990": "nan",
         "1991": "nan",
         "1992": "nan",
         "1993": "nan",
         "1994": "nan",
         "1995": "nan",
         "1996": "nan",
         "1997": "nan",
         "1998": "nan",
         "1999": "nan",
         "2000": "nan",
         "2001": "nan",
         "2002": "nan",
         "2003": "nan",
         "2004": "nan",
         "2005": "nan",
         "2006": "nan",
         "2007": "nan",
         "2008": "nan",
         "2009": "nan",
         "2010": "nan",
         "2011": "nan",
         "2012": "nan",
         "2013": "nan",
         "2014": "nan",
         "2015": "nan",
         "2016": "nan",
         "2017": "nan",
         "2018": "nan",
         "2019": "nan",
         "2020": "nan",
         "Country_Name": "Comoros",
         "Country_Code": "COM",
         "Series_Name": "Total fisheries production (metric tons)",
         "Series_Code": "ER.FSH.PROD.MT",
         "_deepnote_index_column": 65284
        },
        {
         "1980": "nan",
         "1981": "nan",
         "1982": "nan",
         "1983": "nan",
         "1984": "nan",
         "1985": "nan",
         "1986": "nan",
         "1987": "nan",
         "1988": "nan",
         "1989": "nan",
         "1990": "nan",
         "1991": "nan",
         "1992": "nan",
         "1993": "nan",
         "1994": "nan",
         "1995": "nan",
         "1996": "nan",
         "1997": "nan",
         "1998": "nan",
         "1999": "nan",
         "2000": "nan",
         "2001": "nan",
         "2002": "nan",
         "2003": "nan",
         "2004": "nan",
         "2005": "nan",
         "2006": "nan",
         "2007": "nan",
         "2008": "nan",
         "2009": "nan",
         "2010": "nan",
         "2011": "nan",
         "2012": "nan",
         "2013": "nan",
         "2014": "nan",
         "2015": "nan",
         "2016": "nan",
         "2017": "nan",
         "2018": "nan",
         "2019": "nan",
         "2020": "nan",
         "Country_Name": "Costa Rica",
         "Country_Code": "CRI",
         "Series_Name": "Agricultural irrigated land (% of total agricultural land)",
         "Series_Code": "AG.LND.IRIG.AG.ZS",
         "_deepnote_index_column": 68415
        },
        {
         "1980": "nan",
         "1981": "nan",
         "1982": "nan",
         "1983": "nan",
         "1984": "nan",
         "1985": "nan",
         "1986": "nan",
         "1987": "nan",
         "1988": "nan",
         "1989": "nan",
         "1990": "nan",
         "1991": "nan",
         "1992": "nan",
         "1993": "nan",
         "1994": "nan",
         "1995": "nan",
         "1996": "nan",
         "1997": "nan",
         "1998": "nan",
         "1999": "nan",
         "2000": "nan",
         "2001": "nan",
         "2002": "nan",
         "2003": "nan",
         "2004": "nan",
         "2005": "nan",
         "2006": "nan",
         "2007": "nan",
         "2008": "nan",
         "2009": "nan",
         "2010": "nan",
         "2011": "nan",
         "2012": "nan",
         "2013": "nan",
         "2014": "nan",
         "2015": "nan",
         "2016": "nan",
         "2017": "nan",
         "2018": "nan",
         "2019": "nan",
         "2020": "nan",
         "Country_Name": "Cuba",
         "Country_Code": "CUB",
         "Series_Name": "Agricultural irrigated land (% of total agricultural land)",
         "Series_Code": "AG.LND.IRIG.AG.ZS",
         "_deepnote_index_column": 72873
        },
        {
         "1980": "nan",
         "1981": "nan",
         "1982": "nan",
         "1983": "nan",
         "1984": "nan",
         "1985": "nan",
         "1986": "nan",
         "1987": "nan",
         "1988": "nan",
         "1989": "nan",
         "1990": "nan",
         "1991": "nan",
         "1992": "nan",
         "1993": "nan",
         "1994": "nan",
         "1995": "nan",
         "1996": "nan",
         "1997": "nan",
         "1998": "nan",
         "1999": "nan",
         "2000": "nan",
         "2001": "nan",
         "2002": "nan",
         "2003": "nan",
         "2004": "nan",
         "2005": "nan",
         "2006": "nan",
         "2007": "nan",
         "2008": "nan",
         "2009": "nan",
         "2010": "nan",
         "2011": "nan",
         "2012": "nan",
         "2013": "nan",
         "2014": "nan",
         "2015": "nan",
         "2016": "nan",
         "2017": "nan",
         "2018": "nan",
         "2019": "nan",
         "2020": "nan",
         "Country_Name": "Djibouti",
         "Country_Code": "DJI",
         "Series_Name": "Agricultural irrigated land (% of total agricultural land)",
         "Series_Code": "AG.LND.IRIG.AG.ZS",
         "_deepnote_index_column": 80303
        },
        {
         "1980": "nan",
         "1981": "nan",
         "1982": "nan",
         "1983": "nan",
         "1984": "nan",
         "1985": "nan",
         "1986": "nan",
         "1987": "nan",
         "1988": "nan",
         "1989": "nan",
         "1990": "nan",
         "1991": "nan",
         "1992": "nan",
         "1993": "nan",
         "1994": "nan",
         "1995": "nan",
         "1996": "nan",
         "1997": "nan",
         "1998": "nan",
         "1999": "nan",
         "2000": "nan",
         "2001": "nan",
         "2002": "nan",
         "2003": "nan",
         "2004": "nan",
         "2005": "nan",
         "2006": "nan",
         "2007": "nan",
         "2008": "nan",
         "2009": "nan",
         "2010": "nan",
         "2011": "nan",
         "2012": "nan",
         "2013": "nan",
         "2014": "nan",
         "2015": "nan",
         "2016": "nan",
         "2017": "nan",
         "2018": "nan",
         "2019": "nan",
         "2020": "nan",
         "Country_Name": "Djibouti",
         "Country_Code": "DJI",
         "Series_Name": "Aquaculture production (metric tons)",
         "Series_Code": "ER.FSH.AQUA.MT",
         "_deepnote_index_column": 80334
        },
        {
         "1980": "nan",
         "1981": "nan",
         "1982": "nan",
         "1983": "nan",
         "1984": "nan",
         "1985": "nan",
         "1986": "nan",
         "1987": "nan",
         "1988": "nan",
         "1989": "nan",
         "1990": "nan",
         "1991": "nan",
         "1992": "nan",
         "1993": "nan",
         "1994": "nan",
         "1995": "nan",
         "1996": "nan",
         "1997": "nan",
         "1998": "nan",
         "1999": "nan",
         "2000": "nan",
         "2001": "nan",
         "2002": "nan",
         "2003": "nan",
         "2004": "nan",
         "2005": "nan",
         "2006": "nan",
         "2007": "nan",
         "2008": "nan",
         "2009": "nan",
         "2010": "nan",
         "2011": "nan",
         "2012": "nan",
         "2013": "nan",
         "2014": "nan",
         "2015": "nan",
         "2016": "nan",
         "2017": "nan",
         "2018": "nan",
         "2019": "nan",
         "2020": "nan",
         "Country_Name": "Djibouti",
         "Country_Code": "DJI",
         "Series_Name": "Total fisheries production (metric tons)",
         "Series_Code": "ER.FSH.PROD.MT",
         "_deepnote_index_column": 81630
        },
        {
         "1980": "nan",
         "1981": "nan",
         "1982": "nan",
         "1983": "nan",
         "1984": "nan",
         "1985": "nan",
         "1986": "nan",
         "1987": "nan",
         "1988": "nan",
         "1989": "nan",
         "1990": "nan",
         "1991": "nan",
         "1992": "nan",
         "1993": "nan",
         "1994": "nan",
         "1995": "nan",
         "1996": "nan",
         "1997": "nan",
         "1998": "nan",
         "1999": "nan",
         "2000": "nan",
         "2001": "nan",
         "2002": "nan",
         "2003": "nan",
         "2004": "nan",
         "2005": "nan",
         "2006": "nan",
         "2007": "nan",
         "2008": "nan",
         "2009": "nan",
         "2010": "nan",
         "2011": "nan",
         "2012": "nan",
         "2013": "nan",
         "2014": "nan",
         "2015": "nan",
         "2016": "nan",
         "2017": "nan",
         "2018": "nan",
         "2019": "nan",
         "2020": "nan",
         "Country_Name": "Dominica",
         "Country_Code": "DMA",
         "Series_Name": "Agricultural irrigated land (% of total agricultural land)",
         "Series_Code": "AG.LND.IRIG.AG.ZS",
         "_deepnote_index_column": 81789
        },
        {
         "1980": "nan",
         "1981": "nan",
         "1982": "nan",
         "1983": "nan",
         "1984": "nan",
         "1985": "nan",
         "1986": "nan",
         "1987": "nan",
         "1988": "nan",
         "1989": "nan",
         "1990": "nan",
         "1991": "nan",
         "1992": "nan",
         "1993": "nan",
         "1994": "nan",
         "1995": "nan",
         "1996": "nan",
         "1997": "nan",
         "1998": "nan",
         "1999": "nan",
         "2000": "nan",
         "2001": "nan",
         "2002": "nan",
         "2003": "nan",
         "2004": "nan",
         "2005": "nan",
         "2006": "nan",
         "2007": "nan",
         "2008": "nan",
         "2009": "nan",
         "2010": "nan",
         "2011": "nan",
         "2012": "nan",
         "2013": "nan",
         "2014": "nan",
         "2015": "nan",
         "2016": "nan",
         "2017": "nan",
         "2018": "nan",
         "2019": "nan",
         "2020": "nan",
         "Country_Name": "Egypt, Arab Rep.",
         "Country_Code": "EGY",
         "Series_Name": "Agricultural irrigated land (% of total agricultural land)",
         "Series_Code": "AG.LND.IRIG.AG.ZS",
         "_deepnote_index_column": 86247
        },
        {
         "1980": "nan",
         "1981": "nan",
         "1982": "nan",
         "1983": "nan",
         "1984": "nan",
         "1985": "nan",
         "1986": "nan",
         "1987": "nan",
         "1988": "nan",
         "1989": "nan",
         "1990": "nan",
         "1991": "nan",
         "1992": "nan",
         "1993": "nan",
         "1994": "nan",
         "1995": "nan",
         "1996": "nan",
         "1997": "nan",
         "1998": "nan",
         "1999": "nan",
         "2000": "nan",
         "2001": "nan",
         "2002": "nan",
         "2003": "nan",
         "2004": "nan",
         "2005": "nan",
         "2006": "nan",
         "2007": "nan",
         "2008": "nan",
         "2009": "nan",
         "2010": "nan",
         "2011": "nan",
         "2012": "nan",
         "2013": "nan",
         "2014": "nan",
         "2015": "nan",
         "2016": "nan",
         "2017": "nan",
         "2018": "nan",
         "2019": "nan",
         "2020": "nan",
         "Country_Name": "Eritrea",
         "Country_Code": "ERI",
         "Series_Name": "Agricultural irrigated land (% of total agricultural land)",
         "Series_Code": "AG.LND.IRIG.AG.ZS",
         "_deepnote_index_column": 90705
        },
        {
         "1980": "nan",
         "1981": "nan",
         "1982": "nan",
         "1983": "nan",
         "1984": "nan",
         "1985": "nan",
         "1986": "nan",
         "1987": "nan",
         "1988": "nan",
         "1989": "nan",
         "1990": "nan",
         "1991": "nan",
         "1992": "nan",
         "1993": "nan",
         "1994": "nan",
         "1995": "nan",
         "1996": "nan",
         "1997": "nan",
         "1998": "nan",
         "1999": "nan",
         "2000": "nan",
         "2001": "nan",
         "2002": "nan",
         "2003": "nan",
         "2004": "nan",
         "2005": "nan",
         "2006": "nan",
         "2007": "nan",
         "2008": "nan",
         "2009": "nan",
         "2010": "nan",
         "2011": "nan",
         "2012": "nan",
         "2013": "nan",
         "2014": "nan",
         "2015": "nan",
         "2016": "nan",
         "2017": "nan",
         "2018": "nan",
         "2019": "nan",
         "2020": "nan",
         "Country_Name": "Fiji",
         "Country_Code": "FJI",
         "Series_Name": "Agricultural irrigated land (% of total agricultural land)",
         "Series_Code": "AG.LND.IRIG.AG.ZS",
         "_deepnote_index_column": 98135
        },
        {
         "1980": "nan",
         "1981": "nan",
         "1982": "nan",
         "1983": "nan",
         "1984": "nan",
         "1985": "nan",
         "1986": "nan",
         "1987": "nan",
         "1988": "nan",
         "1989": "nan",
         "1990": "nan",
         "1991": "nan",
         "1992": "nan",
         "1993": "nan",
         "1994": "nan",
         "1995": "nan",
         "1996": "nan",
         "1997": "nan",
         "1998": "nan",
         "1999": "nan",
         "2000": "nan",
         "2001": "nan",
         "2002": "nan",
         "2003": "nan",
         "2004": "nan",
         "2005": "nan",
         "2006": "nan",
         "2007": "nan",
         "2008": "nan",
         "2009": "nan",
         "2010": "nan",
         "2011": "nan",
         "2012": "nan",
         "2013": "nan",
         "2014": "nan",
         "2015": "nan",
         "2016": "nan",
         "2017": "nan",
         "2018": "nan",
         "2019": "nan",
         "2020": "nan",
         "Country_Name": "French Polynesia",
         "Country_Code": "PYF",
         "Series_Name": "Agricultural irrigated land (% of total agricultural land)",
         "Series_Code": "AG.LND.IRIG.AG.ZS",
         "_deepnote_index_column": 102593
        },
        {
         "1980": "nan",
         "1981": "nan",
         "1982": "nan",
         "1983": "nan",
         "1984": "nan",
         "1985": "nan",
         "1986": "nan",
         "1987": "nan",
         "1988": "nan",
         "1989": "nan",
         "1990": "nan",
         "1991": "nan",
         "1992": "nan",
         "1993": "nan",
         "1994": "nan",
         "1995": "nan",
         "1996": "nan",
         "1997": "nan",
         "1998": "nan",
         "1999": "nan",
         "2000": "nan",
         "2001": "nan",
         "2002": "nan",
         "2003": "nan",
         "2004": "nan",
         "2005": "nan",
         "2006": "nan",
         "2007": "nan",
         "2008": "nan",
         "2009": "nan",
         "2010": "nan",
         "2011": "nan",
         "2012": "nan",
         "2013": "nan",
         "2014": "nan",
         "2015": "nan",
         "2016": "nan",
         "2017": "nan",
         "2018": "nan",
         "2019": "nan",
         "2020": "nan",
         "Country_Name": "French Polynesia",
         "Country_Code": "PYF",
         "Series_Name": "Agriculture, forestry, and fishing, value added (annual % growth)",
         "Series_Code": "NV.AGR.TOTL.KD.ZG",
         "_deepnote_index_column": 102605
        },
        {
         "1980": "nan",
         "1981": "nan",
         "1982": "nan",
         "1983": "nan",
         "1984": "nan",
         "1985": "nan",
         "1986": "nan",
         "1987": "nan",
         "1988": "nan",
         "1989": "nan",
         "1990": "nan",
         "1991": "nan",
         "1992": "nan",
         "1993": "nan",
         "1994": "nan",
         "1995": "nan",
         "1996": "nan",
         "1997": "nan",
         "1998": "nan",
         "1999": "nan",
         "2000": "nan",
         "2001": "nan",
         "2002": "nan",
         "2003": "nan",
         "2004": "nan",
         "2005": "nan",
         "2006": "nan",
         "2007": "nan",
         "2008": "nan",
         "2009": "nan",
         "2010": "nan",
         "2011": "nan",
         "2012": "nan",
         "2013": "nan",
         "2014": "nan",
         "2015": "nan",
         "2016": "nan",
         "2017": "nan",
         "2018": "nan",
         "2019": "nan",
         "2020": "nan",
         "Country_Name": "Indonesia",
         "Country_Code": "IDN",
         "Series_Name": "Agricultural irrigated land (% of total agricultural land)",
         "Series_Code": "AG.LND.IRIG.AG.ZS",
         "_deepnote_index_column": 133799
        },
        {
         "1980": "nan",
         "1981": "nan",
         "1982": "nan",
         "1983": "nan",
         "1984": "nan",
         "1985": "nan",
         "1986": "nan",
         "1987": "nan",
         "1988": "nan",
         "1989": "nan",
         "1990": "nan",
         "1991": "nan",
         "1992": "nan",
         "1993": "nan",
         "1994": "nan",
         "1995": "nan",
         "1996": "nan",
         "1997": "nan",
         "1998": "nan",
         "1999": "nan",
         "2000": "nan",
         "2001": "nan",
         "2002": "nan",
         "2003": "nan",
         "2004": "nan",
         "2005": "nan",
         "2006": "nan",
         "2007": "nan",
         "2008": "nan",
         "2009": "nan",
         "2010": "nan",
         "2011": "nan",
         "2012": "nan",
         "2013": "nan",
         "2014": "nan",
         "2015": "nan",
         "2016": "nan",
         "2017": "nan",
         "2018": "nan",
         "2019": "nan",
         "2020": "nan",
         "Country_Name": "Kenya",
         "Country_Code": "KEN",
         "Series_Name": "Agricultural irrigated land (% of total agricultural land)",
         "Series_Code": "AG.LND.IRIG.AG.ZS",
         "_deepnote_index_column": 150145
        },
        {
         "1980": "nan",
         "1981": "nan",
         "1982": "nan",
         "1983": "nan",
         "1984": "nan",
         "1985": "nan",
         "1986": "nan",
         "1987": "nan",
         "1988": "nan",
         "1989": "nan",
         "1990": "nan",
         "1991": "nan",
         "1992": "nan",
         "1993": "nan",
         "1994": "nan",
         "1995": "nan",
         "1996": "nan",
         "1997": "nan",
         "1998": "nan",
         "1999": "nan",
         "2000": "nan",
         "2001": "nan",
         "2002": "nan",
         "2003": "nan",
         "2004": "nan",
         "2005": "nan",
         "2006": "nan",
         "2007": "nan",
         "2008": "nan",
         "2009": "nan",
         "2010": "nan",
         "2011": "nan",
         "2012": "nan",
         "2013": "nan",
         "2014": "nan",
         "2015": "nan",
         "2016": "nan",
         "2017": "nan",
         "2018": "nan",
         "2019": "nan",
         "2020": "nan",
         "Country_Name": "Kiribati",
         "Country_Code": "KIR",
         "Series_Name": "Agricultural irrigated land (% of total agricultural land)",
         "Series_Code": "AG.LND.IRIG.AG.ZS",
         "_deepnote_index_column": 151631
        },
        {
         "1980": "nan",
         "1981": "nan",
         "1982": "nan",
         "1983": "nan",
         "1984": "nan",
         "1985": "nan",
         "1986": "nan",
         "1987": "nan",
         "1988": "nan",
         "1989": "nan",
         "1990": "nan",
         "1991": "nan",
         "1992": "nan",
         "1993": "nan",
         "1994": "nan",
         "1995": "nan",
         "1996": "nan",
         "1997": "nan",
         "1998": "nan",
         "1999": "nan",
         "2000": "nan",
         "2001": "nan",
         "2002": "nan",
         "2003": "nan",
         "2004": "nan",
         "2005": "nan",
         "2006": "nan",
         "2007": "nan",
         "2008": "nan",
         "2009": "nan",
         "2010": "nan",
         "2011": "nan",
         "2012": "nan",
         "2013": "nan",
         "2014": "nan",
         "2015": "nan",
         "2016": "nan",
         "2017": "nan",
         "2018": "nan",
         "2019": "nan",
         "2020": "nan",
         "Country_Name": "Kuwait",
         "Country_Code": "KWT",
         "Series_Name": "Agricultural irrigated land (% of total agricultural land)",
         "Series_Code": "AG.LND.IRIG.AG.ZS",
         "_deepnote_index_column": 157575
        },
        {
         "1980": "nan",
         "1981": "nan",
         "1982": "nan",
         "1983": "nan",
         "1984": "nan",
         "1985": "nan",
         "1986": "nan",
         "1987": "nan",
         "1988": "nan",
         "1989": "nan",
         "1990": "nan",
         "1991": "nan",
         "1992": "nan",
         "1993": "nan",
         "1994": "nan",
         "1995": "nan",
         "1996": "nan",
         "1997": "nan",
         "1998": "nan",
         "1999": "nan",
         "2000": "nan",
         "2001": "nan",
         "2002": "nan",
         "2003": "nan",
         "2004": "nan",
         "2005": "nan",
         "2006": "nan",
         "2007": "nan",
         "2008": "nan",
         "2009": "nan",
         "2010": "nan",
         "2011": "nan",
         "2012": "nan",
         "2013": "nan",
         "2014": "nan",
         "2015": "nan",
         "2016": "nan",
         "2017": "nan",
         "2018": "nan",
         "2019": "nan",
         "2020": "nan",
         "Country_Name": "Maldives",
         "Country_Code": "MDV",
         "Series_Name": "Agricultural irrigated land (% of total agricultural land)",
         "Series_Code": "AG.LND.IRIG.AG.ZS",
         "_deepnote_index_column": 179865
        },
        {
         "1980": "nan",
         "1981": "nan",
         "1982": "nan",
         "1983": "nan",
         "1984": "nan",
         "1985": "nan",
         "1986": "nan",
         "1987": "nan",
         "1988": "nan",
         "1989": "nan",
         "1990": "nan",
         "1991": "nan",
         "1992": "nan",
         "1993": "nan",
         "1994": "nan",
         "1995": "nan",
         "1996": "nan",
         "1997": "nan",
         "1998": "nan",
         "1999": "nan",
         "2000": "nan",
         "2001": "nan",
         "2002": "nan",
         "2003": "nan",
         "2004": "nan",
         "2005": "nan",
         "2006": "nan",
         "2007": "nan",
         "2008": "nan",
         "2009": "nan",
         "2010": "nan",
         "2011": "nan",
         "2012": "nan",
         "2013": "nan",
         "2014": "nan",
         "2015": "nan",
         "2016": "nan",
         "2017": "nan",
         "2018": "nan",
         "2019": "nan",
         "2020": "nan",
         "Country_Name": "Maldives",
         "Country_Code": "MDV",
         "Series_Name": "Aquaculture production (metric tons)",
         "Series_Code": "ER.FSH.AQUA.MT",
         "_deepnote_index_column": 179896
        },
        {
         "1980": "nan",
         "1981": "nan",
         "1982": "nan",
         "1983": "nan",
         "1984": "nan",
         "1985": "nan",
         "1986": "nan",
         "1987": "nan",
         "1988": "nan",
         "1989": "nan",
         "1990": "nan",
         "1991": "nan",
         "1992": "nan",
         "1993": "nan",
         "1994": "nan",
         "1995": "nan",
         "1996": "nan",
         "1997": "nan",
         "1998": "nan",
         "1999": "nan",
         "2000": "nan",
         "2001": "nan",
         "2002": "nan",
         "2003": "nan",
         "2004": "nan",
         "2005": "nan",
         "2006": "nan",
         "2007": "nan",
         "2008": "nan",
         "2009": "nan",
         "2010": "nan",
         "2011": "nan",
         "2012": "nan",
         "2013": "nan",
         "2014": "nan",
         "2015": "nan",
         "2016": "nan",
         "2017": "nan",
         "2018": "nan",
         "2019": "nan",
         "2020": "nan",
         "Country_Name": "Maldives",
         "Country_Code": "MDV",
         "Series_Name": "Total fisheries production (metric tons)",
         "Series_Code": "ER.FSH.PROD.MT",
         "_deepnote_index_column": 181192
        },
        {
         "1980": "nan",
         "1981": "nan",
         "1982": "nan",
         "1983": "nan",
         "1984": "nan",
         "1985": "nan",
         "1986": "nan",
         "1987": "nan",
         "1988": "nan",
         "1989": "nan",
         "1990": "nan",
         "1991": "nan",
         "1992": "nan",
         "1993": "nan",
         "1994": "nan",
         "1995": "nan",
         "1996": "nan",
         "1997": "nan",
         "1998": "nan",
         "1999": "nan",
         "2000": "nan",
         "2001": "nan",
         "2002": "nan",
         "2003": "nan",
         "2004": "nan",
         "2005": "nan",
         "2006": "nan",
         "2007": "nan",
         "2008": "nan",
         "2009": "nan",
         "2010": "nan",
         "2011": "nan",
         "2012": "nan",
         "2013": "nan",
         "2014": "nan",
         "2015": "nan",
         "2016": "nan",
         "2017": "nan",
         "2018": "nan",
         "2019": "nan",
         "2020": "nan",
         "Country_Name": "Marshall Islands",
         "Country_Code": "MHL",
         "Series_Name": "Agricultural irrigated land (% of total agricultural land)",
         "Series_Code": "AG.LND.IRIG.AG.ZS",
         "_deepnote_index_column": 184323
        },
        {
         "1980": "nan",
         "1981": "nan",
         "1982": "nan",
         "1983": "nan",
         "1984": "nan",
         "1985": "nan",
         "1986": "nan",
         "1987": "nan",
         "1988": "nan",
         "1989": "nan",
         "1990": "nan",
         "1991": "nan",
         "1992": "nan",
         "1993": "nan",
         "1994": "nan",
         "1995": "nan",
         "1996": "nan",
         "1997": "nan",
         "1998": "nan",
         "1999": "nan",
         "2000": "nan",
         "2001": "nan",
         "2002": "nan",
         "2003": "nan",
         "2004": "nan",
         "2005": "nan",
         "2006": "nan",
         "2007": "nan",
         "2008": "nan",
         "2009": "nan",
         "2010": "nan",
         "2011": "nan",
         "2012": "nan",
         "2013": "nan",
         "2014": "nan",
         "2015": "nan",
         "2016": "nan",
         "2017": "nan",
         "2018": "nan",
         "2019": "nan",
         "2020": "nan",
         "Country_Name": "Micronesia, Fed. Sts.",
         "Country_Code": "FSM",
         "Series_Name": "Agricultural irrigated land (% of total agricultural land)",
         "Series_Code": "AG.LND.IRIG.AG.ZS",
         "_deepnote_index_column": 190267
        },
        {
         "1980": "nan",
         "1981": "nan",
         "1982": "nan",
         "1983": "nan",
         "1984": "nan",
         "1985": "nan",
         "1986": "nan",
         "1987": "nan",
         "1988": "nan",
         "1989": "nan",
         "1990": "nan",
         "1991": "nan",
         "1992": "nan",
         "1993": "nan",
         "1994": "nan",
         "1995": "nan",
         "1996": "nan",
         "1997": "nan",
         "1998": "nan",
         "1999": "nan",
         "2000": "nan",
         "2001": "nan",
         "2002": "nan",
         "2003": "nan",
         "2004": "nan",
         "2005": "nan",
         "2006": "nan",
         "2007": "nan",
         "2008": "nan",
         "2009": "nan",
         "2010": "nan",
         "2011": "nan",
         "2012": "nan",
         "2013": "nan",
         "2014": "nan",
         "2015": "nan",
         "2016": "nan",
         "2017": "nan",
         "2018": "nan",
         "2019": "nan",
         "2020": "nan",
         "Country_Name": "New Caledonia",
         "Country_Code": "NCL",
         "Series_Name": "Agricultural irrigated land (% of total agricultural land)",
         "Series_Code": "AG.LND.IRIG.AG.ZS",
         "_deepnote_index_column": 208099
        },
        {
         "1980": "nan",
         "1981": "nan",
         "1982": "nan",
         "1983": "nan",
         "1984": "nan",
         "1985": "nan",
         "1986": "nan",
         "1987": "nan",
         "1988": "nan",
         "1989": "nan",
         "1990": "nan",
         "1991": "nan",
         "1992": "nan",
         "1993": "nan",
         "1994": "nan",
         "1995": "nan",
         "1996": "nan",
         "1997": "nan",
         "1998": "nan",
         "1999": "nan",
         "2000": "nan",
         "2001": "nan",
         "2002": "nan",
         "2003": "nan",
         "2004": "nan",
         "2005": "nan",
         "2006": "nan",
         "2007": "nan",
         "2008": "nan",
         "2009": "nan",
         "2010": "nan",
         "2011": "nan",
         "2012": "nan",
         "2013": "nan",
         "2014": "nan",
         "2015": "nan",
         "2016": "nan",
         "2017": "nan",
         "2018": "nan",
         "2019": "nan",
         "2020": "nan",
         "Country_Name": "New Caledonia",
         "Country_Code": "NCL",
         "Series_Name": "Agriculture, forestry, and fishing, value added (annual % growth)",
         "Series_Code": "NV.AGR.TOTL.KD.ZG",
         "_deepnote_index_column": 208111
        },
        {
         "1980": "nan",
         "1981": "nan",
         "1982": "nan",
         "1983": "nan",
         "1984": "nan",
         "1985": "nan",
         "1986": "nan",
         "1987": "nan",
         "1988": "nan",
         "1989": "nan",
         "1990": "nan",
         "1991": "nan",
         "1992": "nan",
         "1993": "nan",
         "1994": "nan",
         "1995": "nan",
         "1996": "nan",
         "1997": "nan",
         "1998": "nan",
         "1999": "nan",
         "2000": "nan",
         "2001": "nan",
         "2002": "nan",
         "2003": "nan",
         "2004": "nan",
         "2005": "nan",
         "2006": "nan",
         "2007": "nan",
         "2008": "nan",
         "2009": "nan",
         "2010": "nan",
         "2011": "nan",
         "2012": "nan",
         "2013": "nan",
         "2014": "nan",
         "2015": "nan",
         "2016": "nan",
         "2017": "nan",
         "2018": "nan",
         "2019": "nan",
         "2020": "nan",
         "Country_Name": "Nicaragua",
         "Country_Code": "NIC",
         "Series_Name": "Agricultural irrigated land (% of total agricultural land)",
         "Series_Code": "AG.LND.IRIG.AG.ZS",
         "_deepnote_index_column": 211071
        },
        {
         "1980": "nan",
         "1981": "nan",
         "1982": "nan",
         "1983": "nan",
         "1984": "nan",
         "1985": "nan",
         "1986": "nan",
         "1987": "nan",
         "1988": "nan",
         "1989": "nan",
         "1990": "nan",
         "1991": "nan",
         "1992": "nan",
         "1993": "nan",
         "1994": "nan",
         "1995": "nan",
         "1996": "nan",
         "1997": "nan",
         "1998": "nan",
         "1999": "nan",
         "2000": "nan",
         "2001": "nan",
         "2002": "nan",
         "2003": "nan",
         "2004": "nan",
         "2005": "nan",
         "2006": "nan",
         "2007": "nan",
         "2008": "nan",
         "2009": "nan",
         "2010": "nan",
         "2011": "nan",
         "2012": "nan",
         "2013": "nan",
         "2014": "nan",
         "2015": "nan",
         "2016": "nan",
         "2017": "nan",
         "2018": "nan",
         "2019": "nan",
         "2020": "nan",
         "Country_Name": "Northern Mariana Islands",
         "Country_Code": "MNP",
         "Series_Name": "Agricultural irrigated land (% of total agricultural land)",
         "Series_Code": "AG.LND.IRIG.AG.ZS",
         "_deepnote_index_column": 217015
        },
        {
         "1980": "nan",
         "1981": "nan",
         "1982": "nan",
         "1983": "nan",
         "1984": "nan",
         "1985": "nan",
         "1986": "nan",
         "1987": "nan",
         "1988": "nan",
         "1989": "nan",
         "1990": "nan",
         "1991": "nan",
         "1992": "nan",
         "1993": "nan",
         "1994": "nan",
         "1995": "nan",
         "1996": "nan",
         "1997": "nan",
         "1998": "nan",
         "1999": "nan",
         "2000": "nan",
         "2001": "nan",
         "2002": "nan",
         "2003": "nan",
         "2004": "nan",
         "2005": "nan",
         "2006": "nan",
         "2007": "nan",
         "2008": "nan",
         "2009": "nan",
         "2010": "nan",
         "2011": "nan",
         "2012": "nan",
         "2013": "nan",
         "2014": "nan",
         "2015": "nan",
         "2016": "nan",
         "2017": "nan",
         "2018": "nan",
         "2019": "nan",
         "2020": "nan",
         "Country_Name": "Northern Mariana Islands",
         "Country_Code": "MNP",
         "Series_Name": "Agriculture, forestry, and fishing, value added (% of GDP)",
         "Series_Code": "NV.AGR.TOTL.ZS",
         "_deepnote_index_column": 217026
        },
        {
         "1980": "nan",
         "1981": "nan",
         "1982": "nan",
         "1983": "nan",
         "1984": "nan",
         "1985": "nan",
         "1986": "nan",
         "1987": "nan",
         "1988": "nan",
         "1989": "nan",
         "1990": "nan",
         "1991": "nan",
         "1992": "nan",
         "1993": "nan",
         "1994": "nan",
         "1995": "nan",
         "1996": "nan",
         "1997": "nan",
         "1998": "nan",
         "1999": "nan",
         "2000": "nan",
         "2001": "nan",
         "2002": "nan",
         "2003": "nan",
         "2004": "nan",
         "2005": "nan",
         "2006": "nan",
         "2007": "nan",
         "2008": "nan",
         "2009": "nan",
         "2010": "nan",
         "2011": "nan",
         "2012": "nan",
         "2013": "nan",
         "2014": "nan",
         "2015": "nan",
         "2016": "nan",
         "2017": "nan",
         "2018": "nan",
         "2019": "nan",
         "2020": "nan",
         "Country_Name": "Northern Mariana Islands",
         "Country_Code": "MNP",
         "Series_Name": "Agriculture, forestry, and fishing, value added (annual % growth)",
         "Series_Code": "NV.AGR.TOTL.KD.ZG",
         "_deepnote_index_column": 217027
        },
        {
         "1980": "nan",
         "1981": "nan",
         "1982": "nan",
         "1983": "nan",
         "1984": "nan",
         "1985": "nan",
         "1986": "nan",
         "1987": "nan",
         "1988": "nan",
         "1989": "nan",
         "1990": "nan",
         "1991": "nan",
         "1992": "nan",
         "1993": "nan",
         "1994": "nan",
         "1995": "nan",
         "1996": "nan",
         "1997": "nan",
         "1998": "nan",
         "1999": "nan",
         "2000": "nan",
         "2001": "nan",
         "2002": "nan",
         "2003": "nan",
         "2004": "nan",
         "2005": "nan",
         "2006": "nan",
         "2007": "nan",
         "2008": "nan",
         "2009": "nan",
         "2010": "nan",
         "2011": "nan",
         "2012": "nan",
         "2013": "nan",
         "2014": "nan",
         "2015": "nan",
         "2016": "nan",
         "2017": "nan",
         "2018": "nan",
         "2019": "nan",
         "2020": "nan",
         "Country_Name": "Northern Mariana Islands",
         "Country_Code": "MNP",
         "Series_Name": "Agriculture, forestry, and fishing, value added (current US$)",
         "Series_Code": "NV.AGR.TOTL.CD",
         "_deepnote_index_column": 217031
        },
        {
         "1980": "nan",
         "1981": "nan",
         "1982": "nan",
         "1983": "nan",
         "1984": "nan",
         "1985": "nan",
         "1986": "nan",
         "1987": "nan",
         "1988": "nan",
         "1989": "nan",
         "1990": "nan",
         "1991": "nan",
         "1992": "nan",
         "1993": "nan",
         "1994": "nan",
         "1995": "nan",
         "1996": "nan",
         "1997": "nan",
         "1998": "nan",
         "1999": "nan",
         "2000": "nan",
         "2001": "nan",
         "2002": "nan",
         "2003": "nan",
         "2004": "nan",
         "2005": "nan",
         "2006": "nan",
         "2007": "nan",
         "2008": "nan",
         "2009": "nan",
         "2010": "nan",
         "2011": "nan",
         "2012": "nan",
         "2013": "nan",
         "2014": "nan",
         "2015": "nan",
         "2016": "nan",
         "2017": "nan",
         "2018": "nan",
         "2019": "nan",
         "2020": "nan",
         "Country_Name": "Palau",
         "Country_Code": "PLW",
         "Series_Name": "Agricultural irrigated land (% of total agricultural land)",
         "Series_Code": "AG.LND.IRIG.AG.ZS",
         "_deepnote_index_column": 222959
        },
        {
         "1980": "nan",
         "1981": "nan",
         "1982": "nan",
         "1983": "nan",
         "1984": "nan",
         "1985": "nan",
         "1986": "nan",
         "1987": "nan",
         "1988": "nan",
         "1989": "nan",
         "1990": "nan",
         "1991": "nan",
         "1992": "nan",
         "1993": "nan",
         "1994": "nan",
         "1995": "nan",
         "1996": "nan",
         "1997": "nan",
         "1998": "nan",
         "1999": "nan",
         "2000": "nan",
         "2001": "nan",
         "2002": "nan",
         "2003": "nan",
         "2004": "nan",
         "2005": "nan",
         "2006": "nan",
         "2007": "nan",
         "2008": "nan",
         "2009": "nan",
         "2010": "nan",
         "2011": "nan",
         "2012": "nan",
         "2013": "nan",
         "2014": "nan",
         "2015": "nan",
         "2016": "nan",
         "2017": "nan",
         "2018": "nan",
         "2019": "nan",
         "2020": "nan",
         "Country_Name": "Papua New Guinea",
         "Country_Code": "PNG",
         "Series_Name": "Agricultural irrigated land (% of total agricultural land)",
         "Series_Code": "AG.LND.IRIG.AG.ZS",
         "_deepnote_index_column": 225931
        },
        {
         "1980": "nan",
         "1981": "nan",
         "1982": "nan",
         "1983": "nan",
         "1984": "nan",
         "1985": "nan",
         "1986": "nan",
         "1987": "nan",
         "1988": "nan",
         "1989": "nan",
         "1990": "nan",
         "1991": "nan",
         "1992": "nan",
         "1993": "nan",
         "1994": "nan",
         "1995": "nan",
         "1996": "nan",
         "1997": "nan",
         "1998": "nan",
         "1999": "nan",
         "2000": "nan",
         "2001": "nan",
         "2002": "nan",
         "2003": "nan",
         "2004": "nan",
         "2005": "nan",
         "2006": "nan",
         "2007": "nan",
         "2008": "nan",
         "2009": "nan",
         "2010": "nan",
         "2011": "nan",
         "2012": "nan",
         "2013": "nan",
         "2014": "nan",
         "2015": "nan",
         "2016": "nan",
         "2017": "nan",
         "2018": "nan",
         "2019": "nan",
         "2020": "nan",
         "Country_Name": "Samoa",
         "Country_Code": "WSM",
         "Series_Name": "Agricultural irrigated land (% of total agricultural land)",
         "Series_Code": "AG.LND.IRIG.AG.ZS",
         "_deepnote_index_column": 242277
        },
        {
         "1980": "nan",
         "1981": "nan",
         "1982": "nan",
         "1983": "nan",
         "1984": "nan",
         "1985": "nan",
         "1986": "nan",
         "1987": "nan",
         "1988": "nan",
         "1989": "nan",
         "1990": "nan",
         "1991": "nan",
         "1992": "nan",
         "1993": "nan",
         "1994": "nan",
         "1995": "nan",
         "1996": "nan",
         "1997": "nan",
         "1998": "nan",
         "1999": "nan",
         "2000": "nan",
         "2001": "nan",
         "2002": "nan",
         "2003": "nan",
         "2004": "nan",
         "2005": "nan",
         "2006": "nan",
         "2007": "nan",
         "2008": "nan",
         "2009": "nan",
         "2010": "nan",
         "2011": "nan",
         "2012": "nan",
         "2013": "nan",
         "2014": "nan",
         "2015": "nan",
         "2016": "nan",
         "2017": "nan",
         "2018": "nan",
         "2019": "nan",
         "2020": "nan",
         "Country_Name": "Sao Tome and Principe",
         "Country_Code": "STP",
         "Series_Name": "Agricultural irrigated land (% of total agricultural land)",
         "Series_Code": "AG.LND.IRIG.AG.ZS",
         "_deepnote_index_column": 245249
        },
        {
         "1980": "nan",
         "1981": "nan",
         "1982": "nan",
         "1983": "nan",
         "1984": "nan",
         "1985": "nan",
         "1986": "nan",
         "1987": "nan",
         "1988": "nan",
         "1989": "nan",
         "1990": "nan",
         "1991": "nan",
         "1992": "nan",
         "1993": "nan",
         "1994": "nan",
         "1995": "nan",
         "1996": "nan",
         "1997": "nan",
         "1998": "nan",
         "1999": "nan",
         "2000": "nan",
         "2001": "nan",
         "2002": "nan",
         "2003": "nan",
         "2004": "nan",
         "2005": "nan",
         "2006": "nan",
         "2007": "nan",
         "2008": "nan",
         "2009": "nan",
         "2010": "nan",
         "2011": "nan",
         "2012": "nan",
         "2013": "nan",
         "2014": "nan",
         "2015": "nan",
         "2016": "nan",
         "2017": "nan",
         "2018": "nan",
         "2019": "nan",
         "2020": "nan",
         "Country_Name": "Sao Tome and Principe",
         "Country_Code": "STP",
         "Series_Name": "Aquaculture production (metric tons)",
         "Series_Code": "ER.FSH.AQUA.MT",
         "_deepnote_index_column": 245280
        },
        {
         "1980": "nan",
         "1981": "nan",
         "1982": "nan",
         "1983": "nan",
         "1984": "nan",
         "1985": "nan",
         "1986": "nan",
         "1987": "nan",
         "1988": "nan",
         "1989": "nan",
         "1990": "nan",
         "1991": "nan",
         "1992": "nan",
         "1993": "nan",
         "1994": "nan",
         "1995": "nan",
         "1996": "nan",
         "1997": "nan",
         "1998": "nan",
         "1999": "nan",
         "2000": "nan",
         "2001": "nan",
         "2002": "nan",
         "2003": "nan",
         "2004": "nan",
         "2005": "nan",
         "2006": "nan",
         "2007": "nan",
         "2008": "nan",
         "2009": "nan",
         "2010": "nan",
         "2011": "nan",
         "2012": "nan",
         "2013": "nan",
         "2014": "nan",
         "2015": "nan",
         "2016": "nan",
         "2017": "nan",
         "2018": "nan",
         "2019": "nan",
         "2020": "nan",
         "Country_Name": "Sao Tome and Principe",
         "Country_Code": "STP",
         "Series_Name": "Total fisheries production (metric tons)",
         "Series_Code": "ER.FSH.PROD.MT",
         "_deepnote_index_column": 246576
        },
        {
         "1980": "nan",
         "1981": "nan",
         "1982": "nan",
         "1983": "nan",
         "1984": "nan",
         "1985": "nan",
         "1986": "nan",
         "1987": "nan",
         "1988": "nan",
         "1989": "nan",
         "1990": "nan",
         "1991": "nan",
         "1992": "nan",
         "1993": "nan",
         "1994": "nan",
         "1995": "nan",
         "1996": "nan",
         "1997": "nan",
         "1998": "nan",
         "1999": "nan",
         "2000": "nan",
         "2001": "nan",
         "2002": "nan",
         "2003": "nan",
         "2004": "nan",
         "2005": "nan",
         "2006": "nan",
         "2007": "nan",
         "2008": "nan",
         "2009": "nan",
         "2010": "nan",
         "2011": "nan",
         "2012": "nan",
         "2013": "nan",
         "2014": "nan",
         "2015": "nan",
         "2016": "nan",
         "2017": "nan",
         "2018": "nan",
         "2019": "nan",
         "2020": "nan",
         "Country_Name": "Singapore",
         "Country_Code": "SGP",
         "Series_Name": "Agricultural irrigated land (% of total agricultural land)",
         "Series_Code": "AG.LND.IRIG.AG.ZS",
         "_deepnote_index_column": 254165
        },
        {
         "1980": "nan",
         "1981": "nan",
         "1982": "nan",
         "1983": "nan",
         "1984": "nan",
         "1985": "nan",
         "1986": "nan",
         "1987": "nan",
         "1988": "nan",
         "1989": "nan",
         "1990": "nan",
         "1991": "nan",
         "1992": "nan",
         "1993": "nan",
         "1994": "nan",
         "1995": "nan",
         "1996": "nan",
         "1997": "nan",
         "1998": "nan",
         "1999": "nan",
         "2000": "nan",
         "2001": "nan",
         "2002": "nan",
         "2003": "nan",
         "2004": "nan",
         "2005": "nan",
         "2006": "nan",
         "2007": "nan",
         "2008": "nan",
         "2009": "nan",
         "2010": "nan",
         "2011": "nan",
         "2012": "nan",
         "2013": "nan",
         "2014": "nan",
         "2015": "nan",
         "2016": "nan",
         "2017": "nan",
         "2018": "nan",
         "2019": "nan",
         "2020": "nan",
         "Country_Name": "Solomon Islands",
         "Country_Code": "SLB",
         "Series_Name": "Agricultural irrigated land (% of total agricultural land)",
         "Series_Code": "AG.LND.IRIG.AG.ZS",
         "_deepnote_index_column": 260109
        },
        {
         "1980": "nan",
         "1981": "nan",
         "1982": "nan",
         "1983": "nan",
         "1984": "nan",
         "1985": "nan",
         "1986": "nan",
         "1987": "nan",
         "1988": "nan",
         "1989": "nan",
         "1990": "nan",
         "1991": "nan",
         "1992": "nan",
         "1993": "nan",
         "1994": "nan",
         "1995": "nan",
         "1996": "nan",
         "1997": "nan",
         "1998": "nan",
         "1999": "nan",
         "2000": "nan",
         "2001": "nan",
         "2002": "nan",
         "2003": "nan",
         "2004": "nan",
         "2005": "nan",
         "2006": "nan",
         "2007": "nan",
         "2008": "nan",
         "2009": "nan",
         "2010": "nan",
         "2011": "nan",
         "2012": "nan",
         "2013": "nan",
         "2014": "nan",
         "2015": "nan",
         "2016": "nan",
         "2017": "nan",
         "2018": "nan",
         "2019": "nan",
         "2020": "nan",
         "Country_Name": "Sri Lanka",
         "Country_Code": "LKA",
         "Series_Name": "Agricultural irrigated land (% of total agricultural land)",
         "Series_Code": "AG.LND.IRIG.AG.ZS",
         "_deepnote_index_column": 267539
        },
        {
         "1980": "nan",
         "1981": "nan",
         "1982": "nan",
         "1983": "nan",
         "1984": "nan",
         "1985": "nan",
         "1986": "nan",
         "1987": "nan",
         "1988": "nan",
         "1989": "nan",
         "1990": "nan",
         "1991": "nan",
         "1992": "nan",
         "1993": "nan",
         "1994": "nan",
         "1995": "nan",
         "1996": "nan",
         "1997": "nan",
         "1998": "nan",
         "1999": "nan",
         "2000": "nan",
         "2001": "nan",
         "2002": "nan",
         "2003": "nan",
         "2004": "nan",
         "2005": "nan",
         "2006": "nan",
         "2007": "nan",
         "2008": "nan",
         "2009": "nan",
         "2010": "nan",
         "2011": "nan",
         "2012": "nan",
         "2013": "nan",
         "2014": "nan",
         "2015": "nan",
         "2016": "nan",
         "2017": "nan",
         "2018": "nan",
         "2019": "nan",
         "2020": "nan",
         "Country_Name": "St. Kitts and Nevis",
         "Country_Code": "KNA",
         "Series_Name": "Agricultural irrigated land (% of total agricultural land)",
         "Series_Code": "AG.LND.IRIG.AG.ZS",
         "_deepnote_index_column": 269025
        }
       ]
      },
      "text/plain": "                          Country_Name Country_Code  \\\n8975               Antigua and Barbuda          ATG   \n19377                     Bahamas, The          BHS   \n23835                         Barbados          BRB   \n28293                           Belize          BLZ   \n31265                          Bermuda          BMU   \n31296                          Bermuda          BMU   \n32592                          Bermuda          BMU   \n49097                         Cambodia          KHM   \n53555                   Cayman Islands          CYM   \n60985                            China          CHN   \n63957                          Comoros          COM   \n63988                          Comoros          COM   \n65284                          Comoros          COM   \n68415                       Costa Rica          CRI   \n72873                             Cuba          CUB   \n80303                         Djibouti          DJI   \n80334                         Djibouti          DJI   \n81630                         Djibouti          DJI   \n81789                         Dominica          DMA   \n86247                 Egypt, Arab Rep.          EGY   \n90705                          Eritrea          ERI   \n98135                             Fiji          FJI   \n102593                French Polynesia          PYF   \n102605                French Polynesia          PYF   \n133799                       Indonesia          IDN   \n150145                           Kenya          KEN   \n151631                        Kiribati          KIR   \n157575                          Kuwait          KWT   \n179865                        Maldives          MDV   \n179896                        Maldives          MDV   \n181192                        Maldives          MDV   \n184323                Marshall Islands          MHL   \n190267           Micronesia, Fed. Sts.          FSM   \n208099                   New Caledonia          NCL   \n208111                   New Caledonia          NCL   \n211071                       Nicaragua          NIC   \n217015        Northern Mariana Islands          MNP   \n217026        Northern Mariana Islands          MNP   \n217027        Northern Mariana Islands          MNP   \n217031        Northern Mariana Islands          MNP   \n222959                           Palau          PLW   \n225931                Papua New Guinea          PNG   \n242277                           Samoa          WSM   \n245249           Sao Tome and Principe          STP   \n245280           Sao Tome and Principe          STP   \n246576           Sao Tome and Principe          STP   \n254165                       Singapore          SGP   \n260109                 Solomon Islands          SLB   \n267539                       Sri Lanka          LKA   \n269025             St. Kitts and Nevis          KNA   \n270511                       St. Lucia          LCA   \n273483  St. Vincent and the Grenadines          VCT   \n283885                        Tanzania          TZA   \n285371                        Thailand          THA   \n289829                           Tonga          TON   \n297259        Turks and Caicos Islands          TCA   \n297630        Turks and Caicos Islands          TCA   \n298745                          Tuvalu          TUV   \n298757                          Tuvalu          TUV   \n299116                          Tuvalu          TUV   \n310633                         Vanuatu          VUT   \n313605                        Viet Nam          VNM   \n318063                     Yemen, Rep.          YEM   \n\n                                              Series_Name        Series_Code  \\\n8975    Agricultural irrigated land (% of total agricu...  AG.LND.IRIG.AG.ZS   \n19377   Agricultural irrigated land (% of total agricu...  AG.LND.IRIG.AG.ZS   \n23835   Agricultural irrigated land (% of total agricu...  AG.LND.IRIG.AG.ZS   \n28293   Agricultural irrigated land (% of total agricu...  AG.LND.IRIG.AG.ZS   \n31265   Agricultural irrigated land (% of total agricu...  AG.LND.IRIG.AG.ZS   \n31296                Aquaculture production (metric tons)     ER.FSH.AQUA.MT   \n32592            Total fisheries production (metric tons)     ER.FSH.PROD.MT   \n49097   Agricultural irrigated land (% of total agricu...  AG.LND.IRIG.AG.ZS   \n53555   Agricultural irrigated land (% of total agricu...  AG.LND.IRIG.AG.ZS   \n60985   Agricultural irrigated land (% of total agricu...  AG.LND.IRIG.AG.ZS   \n63957   Agricultural irrigated land (% of total agricu...  AG.LND.IRIG.AG.ZS   \n63988                Aquaculture production (metric tons)     ER.FSH.AQUA.MT   \n65284            Total fisheries production (metric tons)     ER.FSH.PROD.MT   \n68415   Agricultural irrigated land (% of total agricu...  AG.LND.IRIG.AG.ZS   \n72873   Agricultural irrigated land (% of total agricu...  AG.LND.IRIG.AG.ZS   \n80303   Agricultural irrigated land (% of total agricu...  AG.LND.IRIG.AG.ZS   \n80334                Aquaculture production (metric tons)     ER.FSH.AQUA.MT   \n81630            Total fisheries production (metric tons)     ER.FSH.PROD.MT   \n81789   Agricultural irrigated land (% of total agricu...  AG.LND.IRIG.AG.ZS   \n86247   Agricultural irrigated land (% of total agricu...  AG.LND.IRIG.AG.ZS   \n90705   Agricultural irrigated land (% of total agricu...  AG.LND.IRIG.AG.ZS   \n98135   Agricultural irrigated land (% of total agricu...  AG.LND.IRIG.AG.ZS   \n102593  Agricultural irrigated land (% of total agricu...  AG.LND.IRIG.AG.ZS   \n102605  Agriculture, forestry, and fishing, value adde...  NV.AGR.TOTL.KD.ZG   \n133799  Agricultural irrigated land (% of total agricu...  AG.LND.IRIG.AG.ZS   \n150145  Agricultural irrigated land (% of total agricu...  AG.LND.IRIG.AG.ZS   \n151631  Agricultural irrigated land (% of total agricu...  AG.LND.IRIG.AG.ZS   \n157575  Agricultural irrigated land (% of total agricu...  AG.LND.IRIG.AG.ZS   \n179865  Agricultural irrigated land (% of total agricu...  AG.LND.IRIG.AG.ZS   \n179896               Aquaculture production (metric tons)     ER.FSH.AQUA.MT   \n181192           Total fisheries production (metric tons)     ER.FSH.PROD.MT   \n184323  Agricultural irrigated land (% of total agricu...  AG.LND.IRIG.AG.ZS   \n190267  Agricultural irrigated land (% of total agricu...  AG.LND.IRIG.AG.ZS   \n208099  Agricultural irrigated land (% of total agricu...  AG.LND.IRIG.AG.ZS   \n208111  Agriculture, forestry, and fishing, value adde...  NV.AGR.TOTL.KD.ZG   \n211071  Agricultural irrigated land (% of total agricu...  AG.LND.IRIG.AG.ZS   \n217015  Agricultural irrigated land (% of total agricu...  AG.LND.IRIG.AG.ZS   \n217026  Agriculture, forestry, and fishing, value adde...     NV.AGR.TOTL.ZS   \n217027  Agriculture, forestry, and fishing, value adde...  NV.AGR.TOTL.KD.ZG   \n217031  Agriculture, forestry, and fishing, value adde...     NV.AGR.TOTL.CD   \n222959  Agricultural irrigated land (% of total agricu...  AG.LND.IRIG.AG.ZS   \n225931  Agricultural irrigated land (% of total agricu...  AG.LND.IRIG.AG.ZS   \n242277  Agricultural irrigated land (% of total agricu...  AG.LND.IRIG.AG.ZS   \n245249  Agricultural irrigated land (% of total agricu...  AG.LND.IRIG.AG.ZS   \n245280               Aquaculture production (metric tons)     ER.FSH.AQUA.MT   \n246576           Total fisheries production (metric tons)     ER.FSH.PROD.MT   \n254165  Agricultural irrigated land (% of total agricu...  AG.LND.IRIG.AG.ZS   \n260109  Agricultural irrigated land (% of total agricu...  AG.LND.IRIG.AG.ZS   \n267539  Agricultural irrigated land (% of total agricu...  AG.LND.IRIG.AG.ZS   \n269025  Agricultural irrigated land (% of total agricu...  AG.LND.IRIG.AG.ZS   \n270511  Agricultural irrigated land (% of total agricu...  AG.LND.IRIG.AG.ZS   \n273483  Agricultural irrigated land (% of total agricu...  AG.LND.IRIG.AG.ZS   \n283885  Agricultural irrigated land (% of total agricu...  AG.LND.IRIG.AG.ZS   \n285371  Agricultural irrigated land (% of total agricu...  AG.LND.IRIG.AG.ZS   \n289829  Agricultural irrigated land (% of total agricu...  AG.LND.IRIG.AG.ZS   \n297259  Agricultural irrigated land (% of total agricu...  AG.LND.IRIG.AG.ZS   \n297630  Fertilizer consumption (kilograms per hectare ...     AG.CON.FERT.ZS   \n298745  Agricultural irrigated land (% of total agricu...  AG.LND.IRIG.AG.ZS   \n298757  Agriculture, forestry, and fishing, value adde...  NV.AGR.TOTL.KD.ZG   \n299116  Fertilizer consumption (kilograms per hectare ...     AG.CON.FERT.ZS   \n310633  Agricultural irrigated land (% of total agricu...  AG.LND.IRIG.AG.ZS   \n313605  Agricultural irrigated land (% of total agricu...  AG.LND.IRIG.AG.ZS   \n318063  Agricultural irrigated land (% of total agricu...  AG.LND.IRIG.AG.ZS   \n\n        1980  1981  1982  1983  1984  1985  1986  1987  1988  1989  1990  \\\n8975     NaN   NaN   NaN   NaN   NaN   NaN   NaN   NaN   NaN   NaN   NaN   \n19377    NaN   NaN   NaN   NaN   NaN   NaN   NaN   NaN   NaN   NaN   NaN   \n23835    NaN   NaN   NaN   NaN   NaN   NaN   NaN   NaN   NaN   NaN   NaN   \n28293    NaN   NaN   NaN   NaN   NaN   NaN   NaN   NaN   NaN   NaN   NaN   \n31265    NaN   NaN   NaN   NaN   NaN   NaN   NaN   NaN   NaN   NaN   NaN   \n31296    NaN   NaN   NaN   NaN   NaN   NaN   NaN   NaN   NaN   NaN   NaN   \n32592    NaN   NaN   NaN   NaN   NaN   NaN   NaN   NaN   NaN   NaN   NaN   \n49097    NaN   NaN   NaN   NaN   NaN   NaN   NaN   NaN   NaN   NaN   NaN   \n53555    NaN   NaN   NaN   NaN   NaN   NaN   NaN   NaN   NaN   NaN   NaN   \n60985    NaN   NaN   NaN   NaN   NaN   NaN   NaN   NaN   NaN   NaN   NaN   \n63957    NaN   NaN   NaN   NaN   NaN   NaN   NaN   NaN   NaN   NaN   NaN   \n63988    NaN   NaN   NaN   NaN   NaN   NaN   NaN   NaN   NaN   NaN   NaN   \n65284    NaN   NaN   NaN   NaN   NaN   NaN   NaN   NaN   NaN   NaN   NaN   \n68415    NaN   NaN   NaN   NaN   NaN   NaN   NaN   NaN   NaN   NaN   NaN   \n72873    NaN   NaN   NaN   NaN   NaN   NaN   NaN   NaN   NaN   NaN   NaN   \n80303    NaN   NaN   NaN   NaN   NaN   NaN   NaN   NaN   NaN   NaN   NaN   \n80334    NaN   NaN   NaN   NaN   NaN   NaN   NaN   NaN   NaN   NaN   NaN   \n81630    NaN   NaN   NaN   NaN   NaN   NaN   NaN   NaN   NaN   NaN   NaN   \n81789    NaN   NaN   NaN   NaN   NaN   NaN   NaN   NaN   NaN   NaN   NaN   \n86247    NaN   NaN   NaN   NaN   NaN   NaN   NaN   NaN   NaN   NaN   NaN   \n90705    NaN   NaN   NaN   NaN   NaN   NaN   NaN   NaN   NaN   NaN   NaN   \n98135    NaN   NaN   NaN   NaN   NaN   NaN   NaN   NaN   NaN   NaN   NaN   \n102593   NaN   NaN   NaN   NaN   NaN   NaN   NaN   NaN   NaN   NaN   NaN   \n102605   NaN   NaN   NaN   NaN   NaN   NaN   NaN   NaN   NaN   NaN   NaN   \n133799   NaN   NaN   NaN   NaN   NaN   NaN   NaN   NaN   NaN   NaN   NaN   \n150145   NaN   NaN   NaN   NaN   NaN   NaN   NaN   NaN   NaN   NaN   NaN   \n151631   NaN   NaN   NaN   NaN   NaN   NaN   NaN   NaN   NaN   NaN   NaN   \n157575   NaN   NaN   NaN   NaN   NaN   NaN   NaN   NaN   NaN   NaN   NaN   \n179865   NaN   NaN   NaN   NaN   NaN   NaN   NaN   NaN   NaN   NaN   NaN   \n179896   NaN   NaN   NaN   NaN   NaN   NaN   NaN   NaN   NaN   NaN   NaN   \n181192   NaN   NaN   NaN   NaN   NaN   NaN   NaN   NaN   NaN   NaN   NaN   \n184323   NaN   NaN   NaN   NaN   NaN   NaN   NaN   NaN   NaN   NaN   NaN   \n190267   NaN   NaN   NaN   NaN   NaN   NaN   NaN   NaN   NaN   NaN   NaN   \n208099   NaN   NaN   NaN   NaN   NaN   NaN   NaN   NaN   NaN   NaN   NaN   \n208111   NaN   NaN   NaN   NaN   NaN   NaN   NaN   NaN   NaN   NaN   NaN   \n211071   NaN   NaN   NaN   NaN   NaN   NaN   NaN   NaN   NaN   NaN   NaN   \n217015   NaN   NaN   NaN   NaN   NaN   NaN   NaN   NaN   NaN   NaN   NaN   \n217026   NaN   NaN   NaN   NaN   NaN   NaN   NaN   NaN   NaN   NaN   NaN   \n217027   NaN   NaN   NaN   NaN   NaN   NaN   NaN   NaN   NaN   NaN   NaN   \n217031   NaN   NaN   NaN   NaN   NaN   NaN   NaN   NaN   NaN   NaN   NaN   \n222959   NaN   NaN   NaN   NaN   NaN   NaN   NaN   NaN   NaN   NaN   NaN   \n225931   NaN   NaN   NaN   NaN   NaN   NaN   NaN   NaN   NaN   NaN   NaN   \n242277   NaN   NaN   NaN   NaN   NaN   NaN   NaN   NaN   NaN   NaN   NaN   \n245249   NaN   NaN   NaN   NaN   NaN   NaN   NaN   NaN   NaN   NaN   NaN   \n245280   NaN   NaN   NaN   NaN   NaN   NaN   NaN   NaN   NaN   NaN   NaN   \n246576   NaN   NaN   NaN   NaN   NaN   NaN   NaN   NaN   NaN   NaN   NaN   \n254165   NaN   NaN   NaN   NaN   NaN   NaN   NaN   NaN   NaN   NaN   NaN   \n260109   NaN   NaN   NaN   NaN   NaN   NaN   NaN   NaN   NaN   NaN   NaN   \n267539   NaN   NaN   NaN   NaN   NaN   NaN   NaN   NaN   NaN   NaN   NaN   \n269025   NaN   NaN   NaN   NaN   NaN   NaN   NaN   NaN   NaN   NaN   NaN   \n270511   NaN   NaN   NaN   NaN   NaN   NaN   NaN   NaN   NaN   NaN   NaN   \n273483   NaN   NaN   NaN   NaN   NaN   NaN   NaN   NaN   NaN   NaN   NaN   \n283885   NaN   NaN   NaN   NaN   NaN   NaN   NaN   NaN   NaN   NaN   NaN   \n285371   NaN   NaN   NaN   NaN   NaN   NaN   NaN   NaN   NaN   NaN   NaN   \n289829   NaN   NaN   NaN   NaN   NaN   NaN   NaN   NaN   NaN   NaN   NaN   \n297259   NaN   NaN   NaN   NaN   NaN   NaN   NaN   NaN   NaN   NaN   NaN   \n297630   NaN   NaN   NaN   NaN   NaN   NaN   NaN   NaN   NaN   NaN   NaN   \n298745   NaN   NaN   NaN   NaN   NaN   NaN   NaN   NaN   NaN   NaN   NaN   \n298757   NaN   NaN   NaN   NaN   NaN   NaN   NaN   NaN   NaN   NaN   NaN   \n299116   NaN   NaN   NaN   NaN   NaN   NaN   NaN   NaN   NaN   NaN   NaN   \n310633   NaN   NaN   NaN   NaN   NaN   NaN   NaN   NaN   NaN   NaN   NaN   \n313605   NaN   NaN   NaN   NaN   NaN   NaN   NaN   NaN   NaN   NaN   NaN   \n318063   NaN   NaN   NaN   NaN   NaN   NaN   NaN   NaN   NaN   NaN   NaN   \n\n        1991  1992  1993  1994  1995  1996  1997  1998  1999  2000  2001  \\\n8975     NaN   NaN   NaN   NaN   NaN   NaN   NaN   NaN   NaN   NaN   NaN   \n19377    NaN   NaN   NaN   NaN   NaN   NaN   NaN   NaN   NaN   NaN   NaN   \n23835    NaN   NaN   NaN   NaN   NaN   NaN   NaN   NaN   NaN   NaN   NaN   \n28293    NaN   NaN   NaN   NaN   NaN   NaN   NaN   NaN   NaN   NaN   NaN   \n31265    NaN   NaN   NaN   NaN   NaN   NaN   NaN   NaN   NaN   NaN   NaN   \n31296    NaN   NaN   NaN   NaN   NaN   NaN   NaN   NaN   NaN   NaN   NaN   \n32592    NaN   NaN   NaN   NaN   NaN   NaN   NaN   NaN   NaN   NaN   NaN   \n49097    NaN   NaN   NaN   NaN   NaN   NaN   NaN   NaN   NaN   NaN   NaN   \n53555    NaN   NaN   NaN   NaN   NaN   NaN   NaN   NaN   NaN   NaN   NaN   \n60985    NaN   NaN   NaN   NaN   NaN   NaN   NaN   NaN   NaN   NaN   NaN   \n63957    NaN   NaN   NaN   NaN   NaN   NaN   NaN   NaN   NaN   NaN   NaN   \n63988    NaN   NaN   NaN   NaN   NaN   NaN   NaN   NaN   NaN   NaN   NaN   \n65284    NaN   NaN   NaN   NaN   NaN   NaN   NaN   NaN   NaN   NaN   NaN   \n68415    NaN   NaN   NaN   NaN   NaN   NaN   NaN   NaN   NaN   NaN   NaN   \n72873    NaN   NaN   NaN   NaN   NaN   NaN   NaN   NaN   NaN   NaN   NaN   \n80303    NaN   NaN   NaN   NaN   NaN   NaN   NaN   NaN   NaN   NaN   NaN   \n80334    NaN   NaN   NaN   NaN   NaN   NaN   NaN   NaN   NaN   NaN   NaN   \n81630    NaN   NaN   NaN   NaN   NaN   NaN   NaN   NaN   NaN   NaN   NaN   \n81789    NaN   NaN   NaN   NaN   NaN   NaN   NaN   NaN   NaN   NaN   NaN   \n86247    NaN   NaN   NaN   NaN   NaN   NaN   NaN   NaN   NaN   NaN   NaN   \n90705    NaN   NaN   NaN   NaN   NaN   NaN   NaN   NaN   NaN   NaN   NaN   \n98135    NaN   NaN   NaN   NaN   NaN   NaN   NaN   NaN   NaN   NaN   NaN   \n102593   NaN   NaN   NaN   NaN   NaN   NaN   NaN   NaN   NaN   NaN   NaN   \n102605   NaN   NaN   NaN   NaN   NaN   NaN   NaN   NaN   NaN   NaN   NaN   \n133799   NaN   NaN   NaN   NaN   NaN   NaN   NaN   NaN   NaN   NaN   NaN   \n150145   NaN   NaN   NaN   NaN   NaN   NaN   NaN   NaN   NaN   NaN   NaN   \n151631   NaN   NaN   NaN   NaN   NaN   NaN   NaN   NaN   NaN   NaN   NaN   \n157575   NaN   NaN   NaN   NaN   NaN   NaN   NaN   NaN   NaN   NaN   NaN   \n179865   NaN   NaN   NaN   NaN   NaN   NaN   NaN   NaN   NaN   NaN   NaN   \n179896   NaN   NaN   NaN   NaN   NaN   NaN   NaN   NaN   NaN   NaN   NaN   \n181192   NaN   NaN   NaN   NaN   NaN   NaN   NaN   NaN   NaN   NaN   NaN   \n184323   NaN   NaN   NaN   NaN   NaN   NaN   NaN   NaN   NaN   NaN   NaN   \n190267   NaN   NaN   NaN   NaN   NaN   NaN   NaN   NaN   NaN   NaN   NaN   \n208099   NaN   NaN   NaN   NaN   NaN   NaN   NaN   NaN   NaN   NaN   NaN   \n208111   NaN   NaN   NaN   NaN   NaN   NaN   NaN   NaN   NaN   NaN   NaN   \n211071   NaN   NaN   NaN   NaN   NaN   NaN   NaN   NaN   NaN   NaN   NaN   \n217015   NaN   NaN   NaN   NaN   NaN   NaN   NaN   NaN   NaN   NaN   NaN   \n217026   NaN   NaN   NaN   NaN   NaN   NaN   NaN   NaN   NaN   NaN   NaN   \n217027   NaN   NaN   NaN   NaN   NaN   NaN   NaN   NaN   NaN   NaN   NaN   \n217031   NaN   NaN   NaN   NaN   NaN   NaN   NaN   NaN   NaN   NaN   NaN   \n222959   NaN   NaN   NaN   NaN   NaN   NaN   NaN   NaN   NaN   NaN   NaN   \n225931   NaN   NaN   NaN   NaN   NaN   NaN   NaN   NaN   NaN   NaN   NaN   \n242277   NaN   NaN   NaN   NaN   NaN   NaN   NaN   NaN   NaN   NaN   NaN   \n245249   NaN   NaN   NaN   NaN   NaN   NaN   NaN   NaN   NaN   NaN   NaN   \n245280   NaN   NaN   NaN   NaN   NaN   NaN   NaN   NaN   NaN   NaN   NaN   \n246576   NaN   NaN   NaN   NaN   NaN   NaN   NaN   NaN   NaN   NaN   NaN   \n254165   NaN   NaN   NaN   NaN   NaN   NaN   NaN   NaN   NaN   NaN   NaN   \n260109   NaN   NaN   NaN   NaN   NaN   NaN   NaN   NaN   NaN   NaN   NaN   \n267539   NaN   NaN   NaN   NaN   NaN   NaN   NaN   NaN   NaN   NaN   NaN   \n269025   NaN   NaN   NaN   NaN   NaN   NaN   NaN   NaN   NaN   NaN   NaN   \n270511   NaN   NaN   NaN   NaN   NaN   NaN   NaN   NaN   NaN   NaN   NaN   \n273483   NaN   NaN   NaN   NaN   NaN   NaN   NaN   NaN   NaN   NaN   NaN   \n283885   NaN   NaN   NaN   NaN   NaN   NaN   NaN   NaN   NaN   NaN   NaN   \n285371   NaN   NaN   NaN   NaN   NaN   NaN   NaN   NaN   NaN   NaN   NaN   \n289829   NaN   NaN   NaN   NaN   NaN   NaN   NaN   NaN   NaN   NaN   NaN   \n297259   NaN   NaN   NaN   NaN   NaN   NaN   NaN   NaN   NaN   NaN   NaN   \n297630   NaN   NaN   NaN   NaN   NaN   NaN   NaN   NaN   NaN   NaN   NaN   \n298745   NaN   NaN   NaN   NaN   NaN   NaN   NaN   NaN   NaN   NaN   NaN   \n298757   NaN   NaN   NaN   NaN   NaN   NaN   NaN   NaN   NaN   NaN   NaN   \n299116   NaN   NaN   NaN   NaN   NaN   NaN   NaN   NaN   NaN   NaN   NaN   \n310633   NaN   NaN   NaN   NaN   NaN   NaN   NaN   NaN   NaN   NaN   NaN   \n313605   NaN   NaN   NaN   NaN   NaN   NaN   NaN   NaN   NaN   NaN   NaN   \n318063   NaN   NaN   NaN   NaN   NaN   NaN   NaN   NaN   NaN   NaN   NaN   \n\n        2002  2003  2004  2005  2006  2007  2008  2009  2010  2011  2012  \\\n8975     NaN   NaN   NaN   NaN   NaN   NaN   NaN   NaN   NaN   NaN   NaN   \n19377    NaN   NaN   NaN   NaN   NaN   NaN   NaN   NaN   NaN   NaN   NaN   \n23835    NaN   NaN   NaN   NaN   NaN   NaN   NaN   NaN   NaN   NaN   NaN   \n28293    NaN   NaN   NaN   NaN   NaN   NaN   NaN   NaN   NaN   NaN   NaN   \n31265    NaN   NaN   NaN   NaN   NaN   NaN   NaN   NaN   NaN   NaN   NaN   \n31296    NaN   NaN   NaN   NaN   NaN   NaN   NaN   NaN   NaN   NaN   NaN   \n32592    NaN   NaN   NaN   NaN   NaN   NaN   NaN   NaN   NaN   NaN   NaN   \n49097    NaN   NaN   NaN   NaN   NaN   NaN   NaN   NaN   NaN   NaN   NaN   \n53555    NaN   NaN   NaN   NaN   NaN   NaN   NaN   NaN   NaN   NaN   NaN   \n60985    NaN   NaN   NaN   NaN   NaN   NaN   NaN   NaN   NaN   NaN   NaN   \n63957    NaN   NaN   NaN   NaN   NaN   NaN   NaN   NaN   NaN   NaN   NaN   \n63988    NaN   NaN   NaN   NaN   NaN   NaN   NaN   NaN   NaN   NaN   NaN   \n65284    NaN   NaN   NaN   NaN   NaN   NaN   NaN   NaN   NaN   NaN   NaN   \n68415    NaN   NaN   NaN   NaN   NaN   NaN   NaN   NaN   NaN   NaN   NaN   \n72873    NaN   NaN   NaN   NaN   NaN   NaN   NaN   NaN   NaN   NaN   NaN   \n80303    NaN   NaN   NaN   NaN   NaN   NaN   NaN   NaN   NaN   NaN   NaN   \n80334    NaN   NaN   NaN   NaN   NaN   NaN   NaN   NaN   NaN   NaN   NaN   \n81630    NaN   NaN   NaN   NaN   NaN   NaN   NaN   NaN   NaN   NaN   NaN   \n81789    NaN   NaN   NaN   NaN   NaN   NaN   NaN   NaN   NaN   NaN   NaN   \n86247    NaN   NaN   NaN   NaN   NaN   NaN   NaN   NaN   NaN   NaN   NaN   \n90705    NaN   NaN   NaN   NaN   NaN   NaN   NaN   NaN   NaN   NaN   NaN   \n98135    NaN   NaN   NaN   NaN   NaN   NaN   NaN   NaN   NaN   NaN   NaN   \n102593   NaN   NaN   NaN   NaN   NaN   NaN   NaN   NaN   NaN   NaN   NaN   \n102605   NaN   NaN   NaN   NaN   NaN   NaN   NaN   NaN   NaN   NaN   NaN   \n133799   NaN   NaN   NaN   NaN   NaN   NaN   NaN   NaN   NaN   NaN   NaN   \n150145   NaN   NaN   NaN   NaN   NaN   NaN   NaN   NaN   NaN   NaN   NaN   \n151631   NaN   NaN   NaN   NaN   NaN   NaN   NaN   NaN   NaN   NaN   NaN   \n157575   NaN   NaN   NaN   NaN   NaN   NaN   NaN   NaN   NaN   NaN   NaN   \n179865   NaN   NaN   NaN   NaN   NaN   NaN   NaN   NaN   NaN   NaN   NaN   \n179896   NaN   NaN   NaN   NaN   NaN   NaN   NaN   NaN   NaN   NaN   NaN   \n181192   NaN   NaN   NaN   NaN   NaN   NaN   NaN   NaN   NaN   NaN   NaN   \n184323   NaN   NaN   NaN   NaN   NaN   NaN   NaN   NaN   NaN   NaN   NaN   \n190267   NaN   NaN   NaN   NaN   NaN   NaN   NaN   NaN   NaN   NaN   NaN   \n208099   NaN   NaN   NaN   NaN   NaN   NaN   NaN   NaN   NaN   NaN   NaN   \n208111   NaN   NaN   NaN   NaN   NaN   NaN   NaN   NaN   NaN   NaN   NaN   \n211071   NaN   NaN   NaN   NaN   NaN   NaN   NaN   NaN   NaN   NaN   NaN   \n217015   NaN   NaN   NaN   NaN   NaN   NaN   NaN   NaN   NaN   NaN   NaN   \n217026   NaN   NaN   NaN   NaN   NaN   NaN   NaN   NaN   NaN   NaN   NaN   \n217027   NaN   NaN   NaN   NaN   NaN   NaN   NaN   NaN   NaN   NaN   NaN   \n217031   NaN   NaN   NaN   NaN   NaN   NaN   NaN   NaN   NaN   NaN   NaN   \n222959   NaN   NaN   NaN   NaN   NaN   NaN   NaN   NaN   NaN   NaN   NaN   \n225931   NaN   NaN   NaN   NaN   NaN   NaN   NaN   NaN   NaN   NaN   NaN   \n242277   NaN   NaN   NaN   NaN   NaN   NaN   NaN   NaN   NaN   NaN   NaN   \n245249   NaN   NaN   NaN   NaN   NaN   NaN   NaN   NaN   NaN   NaN   NaN   \n245280   NaN   NaN   NaN   NaN   NaN   NaN   NaN   NaN   NaN   NaN   NaN   \n246576   NaN   NaN   NaN   NaN   NaN   NaN   NaN   NaN   NaN   NaN   NaN   \n254165   NaN   NaN   NaN   NaN   NaN   NaN   NaN   NaN   NaN   NaN   NaN   \n260109   NaN   NaN   NaN   NaN   NaN   NaN   NaN   NaN   NaN   NaN   NaN   \n267539   NaN   NaN   NaN   NaN   NaN   NaN   NaN   NaN   NaN   NaN   NaN   \n269025   NaN   NaN   NaN   NaN   NaN   NaN   NaN   NaN   NaN   NaN   NaN   \n270511   NaN   NaN   NaN   NaN   NaN   NaN   NaN   NaN   NaN   NaN   NaN   \n273483   NaN   NaN   NaN   NaN   NaN   NaN   NaN   NaN   NaN   NaN   NaN   \n283885   NaN   NaN   NaN   NaN   NaN   NaN   NaN   NaN   NaN   NaN   NaN   \n285371   NaN   NaN   NaN   NaN   NaN   NaN   NaN   NaN   NaN   NaN   NaN   \n289829   NaN   NaN   NaN   NaN   NaN   NaN   NaN   NaN   NaN   NaN   NaN   \n297259   NaN   NaN   NaN   NaN   NaN   NaN   NaN   NaN   NaN   NaN   NaN   \n297630   NaN   NaN   NaN   NaN   NaN   NaN   NaN   NaN   NaN   NaN   NaN   \n298745   NaN   NaN   NaN   NaN   NaN   NaN   NaN   NaN   NaN   NaN   NaN   \n298757   NaN   NaN   NaN   NaN   NaN   NaN   NaN   NaN   NaN   NaN   NaN   \n299116   NaN   NaN   NaN   NaN   NaN   NaN   NaN   NaN   NaN   NaN   NaN   \n310633   NaN   NaN   NaN   NaN   NaN   NaN   NaN   NaN   NaN   NaN   NaN   \n313605   NaN   NaN   NaN   NaN   NaN   NaN   NaN   NaN   NaN   NaN   NaN   \n318063   NaN   NaN   NaN   NaN   NaN   NaN   NaN   NaN   NaN   NaN   NaN   \n\n        2013  2014  2015  2016  2017  2018  2019  2020  \n8975     NaN   NaN   NaN   NaN   NaN   NaN   NaN   NaN  \n19377    NaN   NaN   NaN   NaN   NaN   NaN   NaN   NaN  \n23835    NaN   NaN   NaN   NaN   NaN   NaN   NaN   NaN  \n28293    NaN   NaN   NaN   NaN   NaN   NaN   NaN   NaN  \n31265    NaN   NaN   NaN   NaN   NaN   NaN   NaN   NaN  \n31296    NaN   NaN   NaN   NaN   NaN   NaN   NaN   NaN  \n32592    NaN   NaN   NaN   NaN   NaN   NaN   NaN   NaN  \n49097    NaN   NaN   NaN   NaN   NaN   NaN   NaN   NaN  \n53555    NaN   NaN   NaN   NaN   NaN   NaN   NaN   NaN  \n60985    NaN   NaN   NaN   NaN   NaN   NaN   NaN   NaN  \n63957    NaN   NaN   NaN   NaN   NaN   NaN   NaN   NaN  \n63988    NaN   NaN   NaN   NaN   NaN   NaN   NaN   NaN  \n65284    NaN   NaN   NaN   NaN   NaN   NaN   NaN   NaN  \n68415    NaN   NaN   NaN   NaN   NaN   NaN   NaN   NaN  \n72873    NaN   NaN   NaN   NaN   NaN   NaN   NaN   NaN  \n80303    NaN   NaN   NaN   NaN   NaN   NaN   NaN   NaN  \n80334    NaN   NaN   NaN   NaN   NaN   NaN   NaN   NaN  \n81630    NaN   NaN   NaN   NaN   NaN   NaN   NaN   NaN  \n81789    NaN   NaN   NaN   NaN   NaN   NaN   NaN   NaN  \n86247    NaN   NaN   NaN   NaN   NaN   NaN   NaN   NaN  \n90705    NaN   NaN   NaN   NaN   NaN   NaN   NaN   NaN  \n98135    NaN   NaN   NaN   NaN   NaN   NaN   NaN   NaN  \n102593   NaN   NaN   NaN   NaN   NaN   NaN   NaN   NaN  \n102605   NaN   NaN   NaN   NaN   NaN   NaN   NaN   NaN  \n133799   NaN   NaN   NaN   NaN   NaN   NaN   NaN   NaN  \n150145   NaN   NaN   NaN   NaN   NaN   NaN   NaN   NaN  \n151631   NaN   NaN   NaN   NaN   NaN   NaN   NaN   NaN  \n157575   NaN   NaN   NaN   NaN   NaN   NaN   NaN   NaN  \n179865   NaN   NaN   NaN   NaN   NaN   NaN   NaN   NaN  \n179896   NaN   NaN   NaN   NaN   NaN   NaN   NaN   NaN  \n181192   NaN   NaN   NaN   NaN   NaN   NaN   NaN   NaN  \n184323   NaN   NaN   NaN   NaN   NaN   NaN   NaN   NaN  \n190267   NaN   NaN   NaN   NaN   NaN   NaN   NaN   NaN  \n208099   NaN   NaN   NaN   NaN   NaN   NaN   NaN   NaN  \n208111   NaN   NaN   NaN   NaN   NaN   NaN   NaN   NaN  \n211071   NaN   NaN   NaN   NaN   NaN   NaN   NaN   NaN  \n217015   NaN   NaN   NaN   NaN   NaN   NaN   NaN   NaN  \n217026   NaN   NaN   NaN   NaN   NaN   NaN   NaN   NaN  \n217027   NaN   NaN   NaN   NaN   NaN   NaN   NaN   NaN  \n217031   NaN   NaN   NaN   NaN   NaN   NaN   NaN   NaN  \n222959   NaN   NaN   NaN   NaN   NaN   NaN   NaN   NaN  \n225931   NaN   NaN   NaN   NaN   NaN   NaN   NaN   NaN  \n242277   NaN   NaN   NaN   NaN   NaN   NaN   NaN   NaN  \n245249   NaN   NaN   NaN   NaN   NaN   NaN   NaN   NaN  \n245280   NaN   NaN   NaN   NaN   NaN   NaN   NaN   NaN  \n246576   NaN   NaN   NaN   NaN   NaN   NaN   NaN   NaN  \n254165   NaN   NaN   NaN   NaN   NaN   NaN   NaN   NaN  \n260109   NaN   NaN   NaN   NaN   NaN   NaN   NaN   NaN  \n267539   NaN   NaN   NaN   NaN   NaN   NaN   NaN   NaN  \n269025   NaN   NaN   NaN   NaN   NaN   NaN   NaN   NaN  \n270511   NaN   NaN   NaN   NaN   NaN   NaN   NaN   NaN  \n273483   NaN   NaN   NaN   NaN   NaN   NaN   NaN   NaN  \n283885   NaN   NaN   NaN   NaN   NaN   NaN   NaN   NaN  \n285371   NaN   NaN   NaN   NaN   NaN   NaN   NaN   NaN  \n289829   NaN   NaN   NaN   NaN   NaN   NaN   NaN   NaN  \n297259   NaN   NaN   NaN   NaN   NaN   NaN   NaN   NaN  \n297630   NaN   NaN   NaN   NaN   NaN   NaN   NaN   NaN  \n298745   NaN   NaN   NaN   NaN   NaN   NaN   NaN   NaN  \n298757   NaN   NaN   NaN   NaN   NaN   NaN   NaN   NaN  \n299116   NaN   NaN   NaN   NaN   NaN   NaN   NaN   NaN  \n310633   NaN   NaN   NaN   NaN   NaN   NaN   NaN   NaN  \n313605   NaN   NaN   NaN   NaN   NaN   NaN   NaN   NaN  \n318063   NaN   NaN   NaN   NaN   NaN   NaN   NaN   NaN  ",
      "text/html": "<div>\n<style scoped>\n    .dataframe tbody tr th:only-of-type {\n        vertical-align: middle;\n    }\n\n    .dataframe tbody tr th {\n        vertical-align: top;\n    }\n\n    .dataframe thead th {\n        text-align: right;\n    }\n</style>\n<table border=\"1\" class=\"dataframe\">\n  <thead>\n    <tr style=\"text-align: right;\">\n      <th></th>\n      <th>Country_Name</th>\n      <th>Country_Code</th>\n      <th>Series_Name</th>\n      <th>Series_Code</th>\n      <th>1980</th>\n      <th>1981</th>\n      <th>1982</th>\n      <th>1983</th>\n      <th>1984</th>\n      <th>1985</th>\n      <th>1986</th>\n      <th>1987</th>\n      <th>1988</th>\n      <th>1989</th>\n      <th>1990</th>\n      <th>1991</th>\n      <th>1992</th>\n      <th>1993</th>\n      <th>1994</th>\n      <th>1995</th>\n      <th>1996</th>\n      <th>1997</th>\n      <th>1998</th>\n      <th>1999</th>\n      <th>2000</th>\n      <th>2001</th>\n      <th>2002</th>\n      <th>2003</th>\n      <th>2004</th>\n      <th>2005</th>\n      <th>2006</th>\n      <th>2007</th>\n      <th>2008</th>\n      <th>2009</th>\n      <th>2010</th>\n      <th>2011</th>\n      <th>2012</th>\n      <th>2013</th>\n      <th>2014</th>\n      <th>2015</th>\n      <th>2016</th>\n      <th>2017</th>\n      <th>2018</th>\n      <th>2019</th>\n      <th>2020</th>\n    </tr>\n  </thead>\n  <tbody>\n    <tr>\n      <th>8975</th>\n      <td>Antigua and Barbuda</td>\n      <td>ATG</td>\n      <td>Agricultural irrigated land (% of total agricu...</td>\n      <td>AG.LND.IRIG.AG.ZS</td>\n      <td>NaN</td>\n      <td>NaN</td>\n      <td>NaN</td>\n      <td>NaN</td>\n      <td>NaN</td>\n      <td>NaN</td>\n      <td>NaN</td>\n      <td>NaN</td>\n      <td>NaN</td>\n      <td>NaN</td>\n      <td>NaN</td>\n      <td>NaN</td>\n      <td>NaN</td>\n      <td>NaN</td>\n      <td>NaN</td>\n      <td>NaN</td>\n      <td>NaN</td>\n      <td>NaN</td>\n      <td>NaN</td>\n      <td>NaN</td>\n      <td>NaN</td>\n      <td>NaN</td>\n      <td>NaN</td>\n      <td>NaN</td>\n      <td>NaN</td>\n      <td>NaN</td>\n      <td>NaN</td>\n      <td>NaN</td>\n      <td>NaN</td>\n      <td>NaN</td>\n      <td>NaN</td>\n      <td>NaN</td>\n      <td>NaN</td>\n      <td>NaN</td>\n      <td>NaN</td>\n      <td>NaN</td>\n      <td>NaN</td>\n      <td>NaN</td>\n      <td>NaN</td>\n      <td>NaN</td>\n      <td>NaN</td>\n    </tr>\n    <tr>\n      <th>19377</th>\n      <td>Bahamas, The</td>\n      <td>BHS</td>\n      <td>Agricultural irrigated land (% of total agricu...</td>\n      <td>AG.LND.IRIG.AG.ZS</td>\n      <td>NaN</td>\n      <td>NaN</td>\n      <td>NaN</td>\n      <td>NaN</td>\n      <td>NaN</td>\n      <td>NaN</td>\n      <td>NaN</td>\n      <td>NaN</td>\n      <td>NaN</td>\n      <td>NaN</td>\n      <td>NaN</td>\n      <td>NaN</td>\n      <td>NaN</td>\n      <td>NaN</td>\n      <td>NaN</td>\n      <td>NaN</td>\n      <td>NaN</td>\n      <td>NaN</td>\n      <td>NaN</td>\n      <td>NaN</td>\n      <td>NaN</td>\n      <td>NaN</td>\n      <td>NaN</td>\n      <td>NaN</td>\n      <td>NaN</td>\n      <td>NaN</td>\n      <td>NaN</td>\n      <td>NaN</td>\n      <td>NaN</td>\n      <td>NaN</td>\n      <td>NaN</td>\n      <td>NaN</td>\n      <td>NaN</td>\n      <td>NaN</td>\n      <td>NaN</td>\n      <td>NaN</td>\n      <td>NaN</td>\n      <td>NaN</td>\n      <td>NaN</td>\n      <td>NaN</td>\n      <td>NaN</td>\n    </tr>\n    <tr>\n      <th>23835</th>\n      <td>Barbados</td>\n      <td>BRB</td>\n      <td>Agricultural irrigated land (% of total agricu...</td>\n      <td>AG.LND.IRIG.AG.ZS</td>\n      <td>NaN</td>\n      <td>NaN</td>\n      <td>NaN</td>\n      <td>NaN</td>\n      <td>NaN</td>\n      <td>NaN</td>\n      <td>NaN</td>\n      <td>NaN</td>\n      <td>NaN</td>\n      <td>NaN</td>\n      <td>NaN</td>\n      <td>NaN</td>\n      <td>NaN</td>\n      <td>NaN</td>\n      <td>NaN</td>\n      <td>NaN</td>\n      <td>NaN</td>\n      <td>NaN</td>\n      <td>NaN</td>\n      <td>NaN</td>\n      <td>NaN</td>\n      <td>NaN</td>\n      <td>NaN</td>\n      <td>NaN</td>\n      <td>NaN</td>\n      <td>NaN</td>\n      <td>NaN</td>\n      <td>NaN</td>\n      <td>NaN</td>\n      <td>NaN</td>\n      <td>NaN</td>\n      <td>NaN</td>\n      <td>NaN</td>\n      <td>NaN</td>\n      <td>NaN</td>\n      <td>NaN</td>\n      <td>NaN</td>\n      <td>NaN</td>\n      <td>NaN</td>\n      <td>NaN</td>\n      <td>NaN</td>\n    </tr>\n    <tr>\n      <th>28293</th>\n      <td>Belize</td>\n      <td>BLZ</td>\n      <td>Agricultural irrigated land (% of total agricu...</td>\n      <td>AG.LND.IRIG.AG.ZS</td>\n      <td>NaN</td>\n      <td>NaN</td>\n      <td>NaN</td>\n      <td>NaN</td>\n      <td>NaN</td>\n      <td>NaN</td>\n      <td>NaN</td>\n      <td>NaN</td>\n      <td>NaN</td>\n      <td>NaN</td>\n      <td>NaN</td>\n      <td>NaN</td>\n      <td>NaN</td>\n      <td>NaN</td>\n      <td>NaN</td>\n      <td>NaN</td>\n      <td>NaN</td>\n      <td>NaN</td>\n      <td>NaN</td>\n      <td>NaN</td>\n      <td>NaN</td>\n      <td>NaN</td>\n      <td>NaN</td>\n      <td>NaN</td>\n      <td>NaN</td>\n      <td>NaN</td>\n      <td>NaN</td>\n      <td>NaN</td>\n      <td>NaN</td>\n      <td>NaN</td>\n      <td>NaN</td>\n      <td>NaN</td>\n      <td>NaN</td>\n      <td>NaN</td>\n      <td>NaN</td>\n      <td>NaN</td>\n      <td>NaN</td>\n      <td>NaN</td>\n      <td>NaN</td>\n      <td>NaN</td>\n      <td>NaN</td>\n    </tr>\n    <tr>\n      <th>31265</th>\n      <td>Bermuda</td>\n      <td>BMU</td>\n      <td>Agricultural irrigated land (% of total agricu...</td>\n      <td>AG.LND.IRIG.AG.ZS</td>\n      <td>NaN</td>\n      <td>NaN</td>\n      <td>NaN</td>\n      <td>NaN</td>\n      <td>NaN</td>\n      <td>NaN</td>\n      <td>NaN</td>\n      <td>NaN</td>\n      <td>NaN</td>\n      <td>NaN</td>\n      <td>NaN</td>\n      <td>NaN</td>\n      <td>NaN</td>\n      <td>NaN</td>\n      <td>NaN</td>\n      <td>NaN</td>\n      <td>NaN</td>\n      <td>NaN</td>\n      <td>NaN</td>\n      <td>NaN</td>\n      <td>NaN</td>\n      <td>NaN</td>\n      <td>NaN</td>\n      <td>NaN</td>\n      <td>NaN</td>\n      <td>NaN</td>\n      <td>NaN</td>\n      <td>NaN</td>\n      <td>NaN</td>\n      <td>NaN</td>\n      <td>NaN</td>\n      <td>NaN</td>\n      <td>NaN</td>\n      <td>NaN</td>\n      <td>NaN</td>\n      <td>NaN</td>\n      <td>NaN</td>\n      <td>NaN</td>\n      <td>NaN</td>\n      <td>NaN</td>\n      <td>NaN</td>\n    </tr>\n    <tr>\n      <th>31296</th>\n      <td>Bermuda</td>\n      <td>BMU</td>\n      <td>Aquaculture production (metric tons)</td>\n      <td>ER.FSH.AQUA.MT</td>\n      <td>NaN</td>\n      <td>NaN</td>\n      <td>NaN</td>\n      <td>NaN</td>\n      <td>NaN</td>\n      <td>NaN</td>\n      <td>NaN</td>\n      <td>NaN</td>\n      <td>NaN</td>\n      <td>NaN</td>\n      <td>NaN</td>\n      <td>NaN</td>\n      <td>NaN</td>\n      <td>NaN</td>\n      <td>NaN</td>\n      <td>NaN</td>\n      <td>NaN</td>\n      <td>NaN</td>\n      <td>NaN</td>\n      <td>NaN</td>\n      <td>NaN</td>\n      <td>NaN</td>\n      <td>NaN</td>\n      <td>NaN</td>\n      <td>NaN</td>\n      <td>NaN</td>\n      <td>NaN</td>\n      <td>NaN</td>\n      <td>NaN</td>\n      <td>NaN</td>\n      <td>NaN</td>\n      <td>NaN</td>\n      <td>NaN</td>\n      <td>NaN</td>\n      <td>NaN</td>\n      <td>NaN</td>\n      <td>NaN</td>\n      <td>NaN</td>\n      <td>NaN</td>\n      <td>NaN</td>\n      <td>NaN</td>\n    </tr>\n    <tr>\n      <th>32592</th>\n      <td>Bermuda</td>\n      <td>BMU</td>\n      <td>Total fisheries production (metric tons)</td>\n      <td>ER.FSH.PROD.MT</td>\n      <td>NaN</td>\n      <td>NaN</td>\n      <td>NaN</td>\n      <td>NaN</td>\n      <td>NaN</td>\n      <td>NaN</td>\n      <td>NaN</td>\n      <td>NaN</td>\n      <td>NaN</td>\n      <td>NaN</td>\n      <td>NaN</td>\n      <td>NaN</td>\n      <td>NaN</td>\n      <td>NaN</td>\n      <td>NaN</td>\n      <td>NaN</td>\n      <td>NaN</td>\n      <td>NaN</td>\n      <td>NaN</td>\n      <td>NaN</td>\n      <td>NaN</td>\n      <td>NaN</td>\n      <td>NaN</td>\n      <td>NaN</td>\n      <td>NaN</td>\n      <td>NaN</td>\n      <td>NaN</td>\n      <td>NaN</td>\n      <td>NaN</td>\n      <td>NaN</td>\n      <td>NaN</td>\n      <td>NaN</td>\n      <td>NaN</td>\n      <td>NaN</td>\n      <td>NaN</td>\n      <td>NaN</td>\n      <td>NaN</td>\n      <td>NaN</td>\n      <td>NaN</td>\n      <td>NaN</td>\n      <td>NaN</td>\n    </tr>\n    <tr>\n      <th>49097</th>\n      <td>Cambodia</td>\n      <td>KHM</td>\n      <td>Agricultural irrigated land (% of total agricu...</td>\n      <td>AG.LND.IRIG.AG.ZS</td>\n      <td>NaN</td>\n      <td>NaN</td>\n      <td>NaN</td>\n      <td>NaN</td>\n      <td>NaN</td>\n      <td>NaN</td>\n      <td>NaN</td>\n      <td>NaN</td>\n      <td>NaN</td>\n      <td>NaN</td>\n      <td>NaN</td>\n      <td>NaN</td>\n      <td>NaN</td>\n      <td>NaN</td>\n      <td>NaN</td>\n      <td>NaN</td>\n      <td>NaN</td>\n      <td>NaN</td>\n      <td>NaN</td>\n      <td>NaN</td>\n      <td>NaN</td>\n      <td>NaN</td>\n      <td>NaN</td>\n      <td>NaN</td>\n      <td>NaN</td>\n      <td>NaN</td>\n      <td>NaN</td>\n      <td>NaN</td>\n      <td>NaN</td>\n      <td>NaN</td>\n      <td>NaN</td>\n      <td>NaN</td>\n      <td>NaN</td>\n      <td>NaN</td>\n      <td>NaN</td>\n      <td>NaN</td>\n      <td>NaN</td>\n      <td>NaN</td>\n      <td>NaN</td>\n      <td>NaN</td>\n      <td>NaN</td>\n    </tr>\n    <tr>\n      <th>53555</th>\n      <td>Cayman Islands</td>\n      <td>CYM</td>\n      <td>Agricultural irrigated land (% of total agricu...</td>\n      <td>AG.LND.IRIG.AG.ZS</td>\n      <td>NaN</td>\n      <td>NaN</td>\n      <td>NaN</td>\n      <td>NaN</td>\n      <td>NaN</td>\n      <td>NaN</td>\n      <td>NaN</td>\n      <td>NaN</td>\n      <td>NaN</td>\n      <td>NaN</td>\n      <td>NaN</td>\n      <td>NaN</td>\n      <td>NaN</td>\n      <td>NaN</td>\n      <td>NaN</td>\n      <td>NaN</td>\n      <td>NaN</td>\n      <td>NaN</td>\n      <td>NaN</td>\n      <td>NaN</td>\n      <td>NaN</td>\n      <td>NaN</td>\n      <td>NaN</td>\n      <td>NaN</td>\n      <td>NaN</td>\n      <td>NaN</td>\n      <td>NaN</td>\n      <td>NaN</td>\n      <td>NaN</td>\n      <td>NaN</td>\n      <td>NaN</td>\n      <td>NaN</td>\n      <td>NaN</td>\n      <td>NaN</td>\n      <td>NaN</td>\n      <td>NaN</td>\n      <td>NaN</td>\n      <td>NaN</td>\n      <td>NaN</td>\n      <td>NaN</td>\n      <td>NaN</td>\n    </tr>\n    <tr>\n      <th>60985</th>\n      <td>China</td>\n      <td>CHN</td>\n      <td>Agricultural irrigated land (% of total agricu...</td>\n      <td>AG.LND.IRIG.AG.ZS</td>\n      <td>NaN</td>\n      <td>NaN</td>\n      <td>NaN</td>\n      <td>NaN</td>\n      <td>NaN</td>\n      <td>NaN</td>\n      <td>NaN</td>\n      <td>NaN</td>\n      <td>NaN</td>\n      <td>NaN</td>\n      <td>NaN</td>\n      <td>NaN</td>\n      <td>NaN</td>\n      <td>NaN</td>\n      <td>NaN</td>\n      <td>NaN</td>\n      <td>NaN</td>\n      <td>NaN</td>\n      <td>NaN</td>\n      <td>NaN</td>\n      <td>NaN</td>\n      <td>NaN</td>\n      <td>NaN</td>\n      <td>NaN</td>\n      <td>NaN</td>\n      <td>NaN</td>\n      <td>NaN</td>\n      <td>NaN</td>\n      <td>NaN</td>\n      <td>NaN</td>\n      <td>NaN</td>\n      <td>NaN</td>\n      <td>NaN</td>\n      <td>NaN</td>\n      <td>NaN</td>\n      <td>NaN</td>\n      <td>NaN</td>\n      <td>NaN</td>\n      <td>NaN</td>\n      <td>NaN</td>\n      <td>NaN</td>\n    </tr>\n    <tr>\n      <th>63957</th>\n      <td>Comoros</td>\n      <td>COM</td>\n      <td>Agricultural irrigated land (% of total agricu...</td>\n      <td>AG.LND.IRIG.AG.ZS</td>\n      <td>NaN</td>\n      <td>NaN</td>\n      <td>NaN</td>\n      <td>NaN</td>\n      <td>NaN</td>\n      <td>NaN</td>\n      <td>NaN</td>\n      <td>NaN</td>\n      <td>NaN</td>\n      <td>NaN</td>\n      <td>NaN</td>\n      <td>NaN</td>\n      <td>NaN</td>\n      <td>NaN</td>\n      <td>NaN</td>\n      <td>NaN</td>\n      <td>NaN</td>\n      <td>NaN</td>\n      <td>NaN</td>\n      <td>NaN</td>\n      <td>NaN</td>\n      <td>NaN</td>\n      <td>NaN</td>\n      <td>NaN</td>\n      <td>NaN</td>\n      <td>NaN</td>\n      <td>NaN</td>\n      <td>NaN</td>\n      <td>NaN</td>\n      <td>NaN</td>\n      <td>NaN</td>\n      <td>NaN</td>\n      <td>NaN</td>\n      <td>NaN</td>\n      <td>NaN</td>\n      <td>NaN</td>\n      <td>NaN</td>\n      <td>NaN</td>\n      <td>NaN</td>\n      <td>NaN</td>\n      <td>NaN</td>\n    </tr>\n    <tr>\n      <th>63988</th>\n      <td>Comoros</td>\n      <td>COM</td>\n      <td>Aquaculture production (metric tons)</td>\n      <td>ER.FSH.AQUA.MT</td>\n      <td>NaN</td>\n      <td>NaN</td>\n      <td>NaN</td>\n      <td>NaN</td>\n      <td>NaN</td>\n      <td>NaN</td>\n      <td>NaN</td>\n      <td>NaN</td>\n      <td>NaN</td>\n      <td>NaN</td>\n      <td>NaN</td>\n      <td>NaN</td>\n      <td>NaN</td>\n      <td>NaN</td>\n      <td>NaN</td>\n      <td>NaN</td>\n      <td>NaN</td>\n      <td>NaN</td>\n      <td>NaN</td>\n      <td>NaN</td>\n      <td>NaN</td>\n      <td>NaN</td>\n      <td>NaN</td>\n      <td>NaN</td>\n      <td>NaN</td>\n      <td>NaN</td>\n      <td>NaN</td>\n      <td>NaN</td>\n      <td>NaN</td>\n      <td>NaN</td>\n      <td>NaN</td>\n      <td>NaN</td>\n      <td>NaN</td>\n      <td>NaN</td>\n      <td>NaN</td>\n      <td>NaN</td>\n      <td>NaN</td>\n      <td>NaN</td>\n      <td>NaN</td>\n      <td>NaN</td>\n      <td>NaN</td>\n    </tr>\n    <tr>\n      <th>65284</th>\n      <td>Comoros</td>\n      <td>COM</td>\n      <td>Total fisheries production (metric tons)</td>\n      <td>ER.FSH.PROD.MT</td>\n      <td>NaN</td>\n      <td>NaN</td>\n      <td>NaN</td>\n      <td>NaN</td>\n      <td>NaN</td>\n      <td>NaN</td>\n      <td>NaN</td>\n      <td>NaN</td>\n      <td>NaN</td>\n      <td>NaN</td>\n      <td>NaN</td>\n      <td>NaN</td>\n      <td>NaN</td>\n      <td>NaN</td>\n      <td>NaN</td>\n      <td>NaN</td>\n      <td>NaN</td>\n      <td>NaN</td>\n      <td>NaN</td>\n      <td>NaN</td>\n      <td>NaN</td>\n      <td>NaN</td>\n      <td>NaN</td>\n      <td>NaN</td>\n      <td>NaN</td>\n      <td>NaN</td>\n      <td>NaN</td>\n      <td>NaN</td>\n      <td>NaN</td>\n      <td>NaN</td>\n      <td>NaN</td>\n      <td>NaN</td>\n      <td>NaN</td>\n      <td>NaN</td>\n      <td>NaN</td>\n      <td>NaN</td>\n      <td>NaN</td>\n      <td>NaN</td>\n      <td>NaN</td>\n      <td>NaN</td>\n      <td>NaN</td>\n    </tr>\n    <tr>\n      <th>68415</th>\n      <td>Costa Rica</td>\n      <td>CRI</td>\n      <td>Agricultural irrigated land (% of total agricu...</td>\n      <td>AG.LND.IRIG.AG.ZS</td>\n      <td>NaN</td>\n      <td>NaN</td>\n      <td>NaN</td>\n      <td>NaN</td>\n      <td>NaN</td>\n      <td>NaN</td>\n      <td>NaN</td>\n      <td>NaN</td>\n      <td>NaN</td>\n      <td>NaN</td>\n      <td>NaN</td>\n      <td>NaN</td>\n      <td>NaN</td>\n      <td>NaN</td>\n      <td>NaN</td>\n      <td>NaN</td>\n      <td>NaN</td>\n      <td>NaN</td>\n      <td>NaN</td>\n      <td>NaN</td>\n      <td>NaN</td>\n      <td>NaN</td>\n      <td>NaN</td>\n      <td>NaN</td>\n      <td>NaN</td>\n      <td>NaN</td>\n      <td>NaN</td>\n      <td>NaN</td>\n      <td>NaN</td>\n      <td>NaN</td>\n      <td>NaN</td>\n      <td>NaN</td>\n      <td>NaN</td>\n      <td>NaN</td>\n      <td>NaN</td>\n      <td>NaN</td>\n      <td>NaN</td>\n      <td>NaN</td>\n      <td>NaN</td>\n      <td>NaN</td>\n      <td>NaN</td>\n    </tr>\n    <tr>\n      <th>72873</th>\n      <td>Cuba</td>\n      <td>CUB</td>\n      <td>Agricultural irrigated land (% of total agricu...</td>\n      <td>AG.LND.IRIG.AG.ZS</td>\n      <td>NaN</td>\n      <td>NaN</td>\n      <td>NaN</td>\n      <td>NaN</td>\n      <td>NaN</td>\n      <td>NaN</td>\n      <td>NaN</td>\n      <td>NaN</td>\n      <td>NaN</td>\n      <td>NaN</td>\n      <td>NaN</td>\n      <td>NaN</td>\n      <td>NaN</td>\n      <td>NaN</td>\n      <td>NaN</td>\n      <td>NaN</td>\n      <td>NaN</td>\n      <td>NaN</td>\n      <td>NaN</td>\n      <td>NaN</td>\n      <td>NaN</td>\n      <td>NaN</td>\n      <td>NaN</td>\n      <td>NaN</td>\n      <td>NaN</td>\n      <td>NaN</td>\n      <td>NaN</td>\n      <td>NaN</td>\n      <td>NaN</td>\n      <td>NaN</td>\n      <td>NaN</td>\n      <td>NaN</td>\n      <td>NaN</td>\n      <td>NaN</td>\n      <td>NaN</td>\n      <td>NaN</td>\n      <td>NaN</td>\n      <td>NaN</td>\n      <td>NaN</td>\n      <td>NaN</td>\n      <td>NaN</td>\n    </tr>\n    <tr>\n      <th>80303</th>\n      <td>Djibouti</td>\n      <td>DJI</td>\n      <td>Agricultural irrigated land (% of total agricu...</td>\n      <td>AG.LND.IRIG.AG.ZS</td>\n      <td>NaN</td>\n      <td>NaN</td>\n      <td>NaN</td>\n      <td>NaN</td>\n      <td>NaN</td>\n      <td>NaN</td>\n      <td>NaN</td>\n      <td>NaN</td>\n      <td>NaN</td>\n      <td>NaN</td>\n      <td>NaN</td>\n      <td>NaN</td>\n      <td>NaN</td>\n      <td>NaN</td>\n      <td>NaN</td>\n      <td>NaN</td>\n      <td>NaN</td>\n      <td>NaN</td>\n      <td>NaN</td>\n      <td>NaN</td>\n      <td>NaN</td>\n      <td>NaN</td>\n      <td>NaN</td>\n      <td>NaN</td>\n      <td>NaN</td>\n      <td>NaN</td>\n      <td>NaN</td>\n      <td>NaN</td>\n      <td>NaN</td>\n      <td>NaN</td>\n      <td>NaN</td>\n      <td>NaN</td>\n      <td>NaN</td>\n      <td>NaN</td>\n      <td>NaN</td>\n      <td>NaN</td>\n      <td>NaN</td>\n      <td>NaN</td>\n      <td>NaN</td>\n      <td>NaN</td>\n      <td>NaN</td>\n    </tr>\n    <tr>\n      <th>80334</th>\n      <td>Djibouti</td>\n      <td>DJI</td>\n      <td>Aquaculture production (metric tons)</td>\n      <td>ER.FSH.AQUA.MT</td>\n      <td>NaN</td>\n      <td>NaN</td>\n      <td>NaN</td>\n      <td>NaN</td>\n      <td>NaN</td>\n      <td>NaN</td>\n      <td>NaN</td>\n      <td>NaN</td>\n      <td>NaN</td>\n      <td>NaN</td>\n      <td>NaN</td>\n      <td>NaN</td>\n      <td>NaN</td>\n      <td>NaN</td>\n      <td>NaN</td>\n      <td>NaN</td>\n      <td>NaN</td>\n      <td>NaN</td>\n      <td>NaN</td>\n      <td>NaN</td>\n      <td>NaN</td>\n      <td>NaN</td>\n      <td>NaN</td>\n      <td>NaN</td>\n      <td>NaN</td>\n      <td>NaN</td>\n      <td>NaN</td>\n      <td>NaN</td>\n      <td>NaN</td>\n      <td>NaN</td>\n      <td>NaN</td>\n      <td>NaN</td>\n      <td>NaN</td>\n      <td>NaN</td>\n      <td>NaN</td>\n      <td>NaN</td>\n      <td>NaN</td>\n      <td>NaN</td>\n      <td>NaN</td>\n      <td>NaN</td>\n      <td>NaN</td>\n    </tr>\n    <tr>\n      <th>81630</th>\n      <td>Djibouti</td>\n      <td>DJI</td>\n      <td>Total fisheries production (metric tons)</td>\n      <td>ER.FSH.PROD.MT</td>\n      <td>NaN</td>\n      <td>NaN</td>\n      <td>NaN</td>\n      <td>NaN</td>\n      <td>NaN</td>\n      <td>NaN</td>\n      <td>NaN</td>\n      <td>NaN</td>\n      <td>NaN</td>\n      <td>NaN</td>\n      <td>NaN</td>\n      <td>NaN</td>\n      <td>NaN</td>\n      <td>NaN</td>\n      <td>NaN</td>\n      <td>NaN</td>\n      <td>NaN</td>\n      <td>NaN</td>\n      <td>NaN</td>\n      <td>NaN</td>\n      <td>NaN</td>\n      <td>NaN</td>\n      <td>NaN</td>\n      <td>NaN</td>\n      <td>NaN</td>\n      <td>NaN</td>\n      <td>NaN</td>\n      <td>NaN</td>\n      <td>NaN</td>\n      <td>NaN</td>\n      <td>NaN</td>\n      <td>NaN</td>\n      <td>NaN</td>\n      <td>NaN</td>\n      <td>NaN</td>\n      <td>NaN</td>\n      <td>NaN</td>\n      <td>NaN</td>\n      <td>NaN</td>\n      <td>NaN</td>\n      <td>NaN</td>\n    </tr>\n    <tr>\n      <th>81789</th>\n      <td>Dominica</td>\n      <td>DMA</td>\n      <td>Agricultural irrigated land (% of total agricu...</td>\n      <td>AG.LND.IRIG.AG.ZS</td>\n      <td>NaN</td>\n      <td>NaN</td>\n      <td>NaN</td>\n      <td>NaN</td>\n      <td>NaN</td>\n      <td>NaN</td>\n      <td>NaN</td>\n      <td>NaN</td>\n      <td>NaN</td>\n      <td>NaN</td>\n      <td>NaN</td>\n      <td>NaN</td>\n      <td>NaN</td>\n      <td>NaN</td>\n      <td>NaN</td>\n      <td>NaN</td>\n      <td>NaN</td>\n      <td>NaN</td>\n      <td>NaN</td>\n      <td>NaN</td>\n      <td>NaN</td>\n      <td>NaN</td>\n      <td>NaN</td>\n      <td>NaN</td>\n      <td>NaN</td>\n      <td>NaN</td>\n      <td>NaN</td>\n      <td>NaN</td>\n      <td>NaN</td>\n      <td>NaN</td>\n      <td>NaN</td>\n      <td>NaN</td>\n      <td>NaN</td>\n      <td>NaN</td>\n      <td>NaN</td>\n      <td>NaN</td>\n      <td>NaN</td>\n      <td>NaN</td>\n      <td>NaN</td>\n      <td>NaN</td>\n      <td>NaN</td>\n    </tr>\n    <tr>\n      <th>86247</th>\n      <td>Egypt, Arab Rep.</td>\n      <td>EGY</td>\n      <td>Agricultural irrigated land (% of total agricu...</td>\n      <td>AG.LND.IRIG.AG.ZS</td>\n      <td>NaN</td>\n      <td>NaN</td>\n      <td>NaN</td>\n      <td>NaN</td>\n      <td>NaN</td>\n      <td>NaN</td>\n      <td>NaN</td>\n      <td>NaN</td>\n      <td>NaN</td>\n      <td>NaN</td>\n      <td>NaN</td>\n      <td>NaN</td>\n      <td>NaN</td>\n      <td>NaN</td>\n      <td>NaN</td>\n      <td>NaN</td>\n      <td>NaN</td>\n      <td>NaN</td>\n      <td>NaN</td>\n      <td>NaN</td>\n      <td>NaN</td>\n      <td>NaN</td>\n      <td>NaN</td>\n      <td>NaN</td>\n      <td>NaN</td>\n      <td>NaN</td>\n      <td>NaN</td>\n      <td>NaN</td>\n      <td>NaN</td>\n      <td>NaN</td>\n      <td>NaN</td>\n      <td>NaN</td>\n      <td>NaN</td>\n      <td>NaN</td>\n      <td>NaN</td>\n      <td>NaN</td>\n      <td>NaN</td>\n      <td>NaN</td>\n      <td>NaN</td>\n      <td>NaN</td>\n      <td>NaN</td>\n    </tr>\n    <tr>\n      <th>90705</th>\n      <td>Eritrea</td>\n      <td>ERI</td>\n      <td>Agricultural irrigated land (% of total agricu...</td>\n      <td>AG.LND.IRIG.AG.ZS</td>\n      <td>NaN</td>\n      <td>NaN</td>\n      <td>NaN</td>\n      <td>NaN</td>\n      <td>NaN</td>\n      <td>NaN</td>\n      <td>NaN</td>\n      <td>NaN</td>\n      <td>NaN</td>\n      <td>NaN</td>\n      <td>NaN</td>\n      <td>NaN</td>\n      <td>NaN</td>\n      <td>NaN</td>\n      <td>NaN</td>\n      <td>NaN</td>\n      <td>NaN</td>\n      <td>NaN</td>\n      <td>NaN</td>\n      <td>NaN</td>\n      <td>NaN</td>\n      <td>NaN</td>\n      <td>NaN</td>\n      <td>NaN</td>\n      <td>NaN</td>\n      <td>NaN</td>\n      <td>NaN</td>\n      <td>NaN</td>\n      <td>NaN</td>\n      <td>NaN</td>\n      <td>NaN</td>\n      <td>NaN</td>\n      <td>NaN</td>\n      <td>NaN</td>\n      <td>NaN</td>\n      <td>NaN</td>\n      <td>NaN</td>\n      <td>NaN</td>\n      <td>NaN</td>\n      <td>NaN</td>\n      <td>NaN</td>\n    </tr>\n    <tr>\n      <th>98135</th>\n      <td>Fiji</td>\n      <td>FJI</td>\n      <td>Agricultural irrigated land (% of total agricu...</td>\n      <td>AG.LND.IRIG.AG.ZS</td>\n      <td>NaN</td>\n      <td>NaN</td>\n      <td>NaN</td>\n      <td>NaN</td>\n      <td>NaN</td>\n      <td>NaN</td>\n      <td>NaN</td>\n      <td>NaN</td>\n      <td>NaN</td>\n      <td>NaN</td>\n      <td>NaN</td>\n      <td>NaN</td>\n      <td>NaN</td>\n      <td>NaN</td>\n      <td>NaN</td>\n      <td>NaN</td>\n      <td>NaN</td>\n      <td>NaN</td>\n      <td>NaN</td>\n      <td>NaN</td>\n      <td>NaN</td>\n      <td>NaN</td>\n      <td>NaN</td>\n      <td>NaN</td>\n      <td>NaN</td>\n      <td>NaN</td>\n      <td>NaN</td>\n      <td>NaN</td>\n      <td>NaN</td>\n      <td>NaN</td>\n      <td>NaN</td>\n      <td>NaN</td>\n      <td>NaN</td>\n      <td>NaN</td>\n      <td>NaN</td>\n      <td>NaN</td>\n      <td>NaN</td>\n      <td>NaN</td>\n      <td>NaN</td>\n      <td>NaN</td>\n      <td>NaN</td>\n    </tr>\n    <tr>\n      <th>102593</th>\n      <td>French Polynesia</td>\n      <td>PYF</td>\n      <td>Agricultural irrigated land (% of total agricu...</td>\n      <td>AG.LND.IRIG.AG.ZS</td>\n      <td>NaN</td>\n      <td>NaN</td>\n      <td>NaN</td>\n      <td>NaN</td>\n      <td>NaN</td>\n      <td>NaN</td>\n      <td>NaN</td>\n      <td>NaN</td>\n      <td>NaN</td>\n      <td>NaN</td>\n      <td>NaN</td>\n      <td>NaN</td>\n      <td>NaN</td>\n      <td>NaN</td>\n      <td>NaN</td>\n      <td>NaN</td>\n      <td>NaN</td>\n      <td>NaN</td>\n      <td>NaN</td>\n      <td>NaN</td>\n      <td>NaN</td>\n      <td>NaN</td>\n      <td>NaN</td>\n      <td>NaN</td>\n      <td>NaN</td>\n      <td>NaN</td>\n      <td>NaN</td>\n      <td>NaN</td>\n      <td>NaN</td>\n      <td>NaN</td>\n      <td>NaN</td>\n      <td>NaN</td>\n      <td>NaN</td>\n      <td>NaN</td>\n      <td>NaN</td>\n      <td>NaN</td>\n      <td>NaN</td>\n      <td>NaN</td>\n      <td>NaN</td>\n      <td>NaN</td>\n      <td>NaN</td>\n    </tr>\n    <tr>\n      <th>102605</th>\n      <td>French Polynesia</td>\n      <td>PYF</td>\n      <td>Agriculture, forestry, and fishing, value adde...</td>\n      <td>NV.AGR.TOTL.KD.ZG</td>\n      <td>NaN</td>\n      <td>NaN</td>\n      <td>NaN</td>\n      <td>NaN</td>\n      <td>NaN</td>\n      <td>NaN</td>\n      <td>NaN</td>\n      <td>NaN</td>\n      <td>NaN</td>\n      <td>NaN</td>\n      <td>NaN</td>\n      <td>NaN</td>\n      <td>NaN</td>\n      <td>NaN</td>\n      <td>NaN</td>\n      <td>NaN</td>\n      <td>NaN</td>\n      <td>NaN</td>\n      <td>NaN</td>\n      <td>NaN</td>\n      <td>NaN</td>\n      <td>NaN</td>\n      <td>NaN</td>\n      <td>NaN</td>\n      <td>NaN</td>\n      <td>NaN</td>\n      <td>NaN</td>\n      <td>NaN</td>\n      <td>NaN</td>\n      <td>NaN</td>\n      <td>NaN</td>\n      <td>NaN</td>\n      <td>NaN</td>\n      <td>NaN</td>\n      <td>NaN</td>\n      <td>NaN</td>\n      <td>NaN</td>\n      <td>NaN</td>\n      <td>NaN</td>\n      <td>NaN</td>\n      <td>NaN</td>\n    </tr>\n    <tr>\n      <th>133799</th>\n      <td>Indonesia</td>\n      <td>IDN</td>\n      <td>Agricultural irrigated land (% of total agricu...</td>\n      <td>AG.LND.IRIG.AG.ZS</td>\n      <td>NaN</td>\n      <td>NaN</td>\n      <td>NaN</td>\n      <td>NaN</td>\n      <td>NaN</td>\n      <td>NaN</td>\n      <td>NaN</td>\n      <td>NaN</td>\n      <td>NaN</td>\n      <td>NaN</td>\n      <td>NaN</td>\n      <td>NaN</td>\n      <td>NaN</td>\n      <td>NaN</td>\n      <td>NaN</td>\n      <td>NaN</td>\n      <td>NaN</td>\n      <td>NaN</td>\n      <td>NaN</td>\n      <td>NaN</td>\n      <td>NaN</td>\n      <td>NaN</td>\n      <td>NaN</td>\n      <td>NaN</td>\n      <td>NaN</td>\n      <td>NaN</td>\n      <td>NaN</td>\n      <td>NaN</td>\n      <td>NaN</td>\n      <td>NaN</td>\n      <td>NaN</td>\n      <td>NaN</td>\n      <td>NaN</td>\n      <td>NaN</td>\n      <td>NaN</td>\n      <td>NaN</td>\n      <td>NaN</td>\n      <td>NaN</td>\n      <td>NaN</td>\n      <td>NaN</td>\n      <td>NaN</td>\n    </tr>\n    <tr>\n      <th>150145</th>\n      <td>Kenya</td>\n      <td>KEN</td>\n      <td>Agricultural irrigated land (% of total agricu...</td>\n      <td>AG.LND.IRIG.AG.ZS</td>\n      <td>NaN</td>\n      <td>NaN</td>\n      <td>NaN</td>\n      <td>NaN</td>\n      <td>NaN</td>\n      <td>NaN</td>\n      <td>NaN</td>\n      <td>NaN</td>\n      <td>NaN</td>\n      <td>NaN</td>\n      <td>NaN</td>\n      <td>NaN</td>\n      <td>NaN</td>\n      <td>NaN</td>\n      <td>NaN</td>\n      <td>NaN</td>\n      <td>NaN</td>\n      <td>NaN</td>\n      <td>NaN</td>\n      <td>NaN</td>\n      <td>NaN</td>\n      <td>NaN</td>\n      <td>NaN</td>\n      <td>NaN</td>\n      <td>NaN</td>\n      <td>NaN</td>\n      <td>NaN</td>\n      <td>NaN</td>\n      <td>NaN</td>\n      <td>NaN</td>\n      <td>NaN</td>\n      <td>NaN</td>\n      <td>NaN</td>\n      <td>NaN</td>\n      <td>NaN</td>\n      <td>NaN</td>\n      <td>NaN</td>\n      <td>NaN</td>\n      <td>NaN</td>\n      <td>NaN</td>\n      <td>NaN</td>\n    </tr>\n    <tr>\n      <th>151631</th>\n      <td>Kiribati</td>\n      <td>KIR</td>\n      <td>Agricultural irrigated land (% of total agricu...</td>\n      <td>AG.LND.IRIG.AG.ZS</td>\n      <td>NaN</td>\n      <td>NaN</td>\n      <td>NaN</td>\n      <td>NaN</td>\n      <td>NaN</td>\n      <td>NaN</td>\n      <td>NaN</td>\n      <td>NaN</td>\n      <td>NaN</td>\n      <td>NaN</td>\n      <td>NaN</td>\n      <td>NaN</td>\n      <td>NaN</td>\n      <td>NaN</td>\n      <td>NaN</td>\n      <td>NaN</td>\n      <td>NaN</td>\n      <td>NaN</td>\n      <td>NaN</td>\n      <td>NaN</td>\n      <td>NaN</td>\n      <td>NaN</td>\n      <td>NaN</td>\n      <td>NaN</td>\n      <td>NaN</td>\n      <td>NaN</td>\n      <td>NaN</td>\n      <td>NaN</td>\n      <td>NaN</td>\n      <td>NaN</td>\n      <td>NaN</td>\n      <td>NaN</td>\n      <td>NaN</td>\n      <td>NaN</td>\n      <td>NaN</td>\n      <td>NaN</td>\n      <td>NaN</td>\n      <td>NaN</td>\n      <td>NaN</td>\n      <td>NaN</td>\n      <td>NaN</td>\n    </tr>\n    <tr>\n      <th>157575</th>\n      <td>Kuwait</td>\n      <td>KWT</td>\n      <td>Agricultural irrigated land (% of total agricu...</td>\n      <td>AG.LND.IRIG.AG.ZS</td>\n      <td>NaN</td>\n      <td>NaN</td>\n      <td>NaN</td>\n      <td>NaN</td>\n      <td>NaN</td>\n      <td>NaN</td>\n      <td>NaN</td>\n      <td>NaN</td>\n      <td>NaN</td>\n      <td>NaN</td>\n      <td>NaN</td>\n      <td>NaN</td>\n      <td>NaN</td>\n      <td>NaN</td>\n      <td>NaN</td>\n      <td>NaN</td>\n      <td>NaN</td>\n      <td>NaN</td>\n      <td>NaN</td>\n      <td>NaN</td>\n      <td>NaN</td>\n      <td>NaN</td>\n      <td>NaN</td>\n      <td>NaN</td>\n      <td>NaN</td>\n      <td>NaN</td>\n      <td>NaN</td>\n      <td>NaN</td>\n      <td>NaN</td>\n      <td>NaN</td>\n      <td>NaN</td>\n      <td>NaN</td>\n      <td>NaN</td>\n      <td>NaN</td>\n      <td>NaN</td>\n      <td>NaN</td>\n      <td>NaN</td>\n      <td>NaN</td>\n      <td>NaN</td>\n      <td>NaN</td>\n      <td>NaN</td>\n    </tr>\n    <tr>\n      <th>179865</th>\n      <td>Maldives</td>\n      <td>MDV</td>\n      <td>Agricultural irrigated land (% of total agricu...</td>\n      <td>AG.LND.IRIG.AG.ZS</td>\n      <td>NaN</td>\n      <td>NaN</td>\n      <td>NaN</td>\n      <td>NaN</td>\n      <td>NaN</td>\n      <td>NaN</td>\n      <td>NaN</td>\n      <td>NaN</td>\n      <td>NaN</td>\n      <td>NaN</td>\n      <td>NaN</td>\n      <td>NaN</td>\n      <td>NaN</td>\n      <td>NaN</td>\n      <td>NaN</td>\n      <td>NaN</td>\n      <td>NaN</td>\n      <td>NaN</td>\n      <td>NaN</td>\n      <td>NaN</td>\n      <td>NaN</td>\n      <td>NaN</td>\n      <td>NaN</td>\n      <td>NaN</td>\n      <td>NaN</td>\n      <td>NaN</td>\n      <td>NaN</td>\n      <td>NaN</td>\n      <td>NaN</td>\n      <td>NaN</td>\n      <td>NaN</td>\n      <td>NaN</td>\n      <td>NaN</td>\n      <td>NaN</td>\n      <td>NaN</td>\n      <td>NaN</td>\n      <td>NaN</td>\n      <td>NaN</td>\n      <td>NaN</td>\n      <td>NaN</td>\n      <td>NaN</td>\n    </tr>\n    <tr>\n      <th>179896</th>\n      <td>Maldives</td>\n      <td>MDV</td>\n      <td>Aquaculture production (metric tons)</td>\n      <td>ER.FSH.AQUA.MT</td>\n      <td>NaN</td>\n      <td>NaN</td>\n      <td>NaN</td>\n      <td>NaN</td>\n      <td>NaN</td>\n      <td>NaN</td>\n      <td>NaN</td>\n      <td>NaN</td>\n      <td>NaN</td>\n      <td>NaN</td>\n      <td>NaN</td>\n      <td>NaN</td>\n      <td>NaN</td>\n      <td>NaN</td>\n      <td>NaN</td>\n      <td>NaN</td>\n      <td>NaN</td>\n      <td>NaN</td>\n      <td>NaN</td>\n      <td>NaN</td>\n      <td>NaN</td>\n      <td>NaN</td>\n      <td>NaN</td>\n      <td>NaN</td>\n      <td>NaN</td>\n      <td>NaN</td>\n      <td>NaN</td>\n      <td>NaN</td>\n      <td>NaN</td>\n      <td>NaN</td>\n      <td>NaN</td>\n      <td>NaN</td>\n      <td>NaN</td>\n      <td>NaN</td>\n      <td>NaN</td>\n      <td>NaN</td>\n      <td>NaN</td>\n      <td>NaN</td>\n      <td>NaN</td>\n      <td>NaN</td>\n      <td>NaN</td>\n    </tr>\n    <tr>\n      <th>181192</th>\n      <td>Maldives</td>\n      <td>MDV</td>\n      <td>Total fisheries production (metric tons)</td>\n      <td>ER.FSH.PROD.MT</td>\n      <td>NaN</td>\n      <td>NaN</td>\n      <td>NaN</td>\n      <td>NaN</td>\n      <td>NaN</td>\n      <td>NaN</td>\n      <td>NaN</td>\n      <td>NaN</td>\n      <td>NaN</td>\n      <td>NaN</td>\n      <td>NaN</td>\n      <td>NaN</td>\n      <td>NaN</td>\n      <td>NaN</td>\n      <td>NaN</td>\n      <td>NaN</td>\n      <td>NaN</td>\n      <td>NaN</td>\n      <td>NaN</td>\n      <td>NaN</td>\n      <td>NaN</td>\n      <td>NaN</td>\n      <td>NaN</td>\n      <td>NaN</td>\n      <td>NaN</td>\n      <td>NaN</td>\n      <td>NaN</td>\n      <td>NaN</td>\n      <td>NaN</td>\n      <td>NaN</td>\n      <td>NaN</td>\n      <td>NaN</td>\n      <td>NaN</td>\n      <td>NaN</td>\n      <td>NaN</td>\n      <td>NaN</td>\n      <td>NaN</td>\n      <td>NaN</td>\n      <td>NaN</td>\n      <td>NaN</td>\n      <td>NaN</td>\n    </tr>\n    <tr>\n      <th>184323</th>\n      <td>Marshall Islands</td>\n      <td>MHL</td>\n      <td>Agricultural irrigated land (% of total agricu...</td>\n      <td>AG.LND.IRIG.AG.ZS</td>\n      <td>NaN</td>\n      <td>NaN</td>\n      <td>NaN</td>\n      <td>NaN</td>\n      <td>NaN</td>\n      <td>NaN</td>\n      <td>NaN</td>\n      <td>NaN</td>\n      <td>NaN</td>\n      <td>NaN</td>\n      <td>NaN</td>\n      <td>NaN</td>\n      <td>NaN</td>\n      <td>NaN</td>\n      <td>NaN</td>\n      <td>NaN</td>\n      <td>NaN</td>\n      <td>NaN</td>\n      <td>NaN</td>\n      <td>NaN</td>\n      <td>NaN</td>\n      <td>NaN</td>\n      <td>NaN</td>\n      <td>NaN</td>\n      <td>NaN</td>\n      <td>NaN</td>\n      <td>NaN</td>\n      <td>NaN</td>\n      <td>NaN</td>\n      <td>NaN</td>\n      <td>NaN</td>\n      <td>NaN</td>\n      <td>NaN</td>\n      <td>NaN</td>\n      <td>NaN</td>\n      <td>NaN</td>\n      <td>NaN</td>\n      <td>NaN</td>\n      <td>NaN</td>\n      <td>NaN</td>\n      <td>NaN</td>\n    </tr>\n    <tr>\n      <th>190267</th>\n      <td>Micronesia, Fed. Sts.</td>\n      <td>FSM</td>\n      <td>Agricultural irrigated land (% of total agricu...</td>\n      <td>AG.LND.IRIG.AG.ZS</td>\n      <td>NaN</td>\n      <td>NaN</td>\n      <td>NaN</td>\n      <td>NaN</td>\n      <td>NaN</td>\n      <td>NaN</td>\n      <td>NaN</td>\n      <td>NaN</td>\n      <td>NaN</td>\n      <td>NaN</td>\n      <td>NaN</td>\n      <td>NaN</td>\n      <td>NaN</td>\n      <td>NaN</td>\n      <td>NaN</td>\n      <td>NaN</td>\n      <td>NaN</td>\n      <td>NaN</td>\n      <td>NaN</td>\n      <td>NaN</td>\n      <td>NaN</td>\n      <td>NaN</td>\n      <td>NaN</td>\n      <td>NaN</td>\n      <td>NaN</td>\n      <td>NaN</td>\n      <td>NaN</td>\n      <td>NaN</td>\n      <td>NaN</td>\n      <td>NaN</td>\n      <td>NaN</td>\n      <td>NaN</td>\n      <td>NaN</td>\n      <td>NaN</td>\n      <td>NaN</td>\n      <td>NaN</td>\n      <td>NaN</td>\n      <td>NaN</td>\n      <td>NaN</td>\n      <td>NaN</td>\n      <td>NaN</td>\n    </tr>\n    <tr>\n      <th>208099</th>\n      <td>New Caledonia</td>\n      <td>NCL</td>\n      <td>Agricultural irrigated land (% of total agricu...</td>\n      <td>AG.LND.IRIG.AG.ZS</td>\n      <td>NaN</td>\n      <td>NaN</td>\n      <td>NaN</td>\n      <td>NaN</td>\n      <td>NaN</td>\n      <td>NaN</td>\n      <td>NaN</td>\n      <td>NaN</td>\n      <td>NaN</td>\n      <td>NaN</td>\n      <td>NaN</td>\n      <td>NaN</td>\n      <td>NaN</td>\n      <td>NaN</td>\n      <td>NaN</td>\n      <td>NaN</td>\n      <td>NaN</td>\n      <td>NaN</td>\n      <td>NaN</td>\n      <td>NaN</td>\n      <td>NaN</td>\n      <td>NaN</td>\n      <td>NaN</td>\n      <td>NaN</td>\n      <td>NaN</td>\n      <td>NaN</td>\n      <td>NaN</td>\n      <td>NaN</td>\n      <td>NaN</td>\n      <td>NaN</td>\n      <td>NaN</td>\n      <td>NaN</td>\n      <td>NaN</td>\n      <td>NaN</td>\n      <td>NaN</td>\n      <td>NaN</td>\n      <td>NaN</td>\n      <td>NaN</td>\n      <td>NaN</td>\n      <td>NaN</td>\n      <td>NaN</td>\n    </tr>\n    <tr>\n      <th>208111</th>\n      <td>New Caledonia</td>\n      <td>NCL</td>\n      <td>Agriculture, forestry, and fishing, value adde...</td>\n      <td>NV.AGR.TOTL.KD.ZG</td>\n      <td>NaN</td>\n      <td>NaN</td>\n      <td>NaN</td>\n      <td>NaN</td>\n      <td>NaN</td>\n      <td>NaN</td>\n      <td>NaN</td>\n      <td>NaN</td>\n      <td>NaN</td>\n      <td>NaN</td>\n      <td>NaN</td>\n      <td>NaN</td>\n      <td>NaN</td>\n      <td>NaN</td>\n      <td>NaN</td>\n      <td>NaN</td>\n      <td>NaN</td>\n      <td>NaN</td>\n      <td>NaN</td>\n      <td>NaN</td>\n      <td>NaN</td>\n      <td>NaN</td>\n      <td>NaN</td>\n      <td>NaN</td>\n      <td>NaN</td>\n      <td>NaN</td>\n      <td>NaN</td>\n      <td>NaN</td>\n      <td>NaN</td>\n      <td>NaN</td>\n      <td>NaN</td>\n      <td>NaN</td>\n      <td>NaN</td>\n      <td>NaN</td>\n      <td>NaN</td>\n      <td>NaN</td>\n      <td>NaN</td>\n      <td>NaN</td>\n      <td>NaN</td>\n      <td>NaN</td>\n      <td>NaN</td>\n    </tr>\n    <tr>\n      <th>211071</th>\n      <td>Nicaragua</td>\n      <td>NIC</td>\n      <td>Agricultural irrigated land (% of total agricu...</td>\n      <td>AG.LND.IRIG.AG.ZS</td>\n      <td>NaN</td>\n      <td>NaN</td>\n      <td>NaN</td>\n      <td>NaN</td>\n      <td>NaN</td>\n      <td>NaN</td>\n      <td>NaN</td>\n      <td>NaN</td>\n      <td>NaN</td>\n      <td>NaN</td>\n      <td>NaN</td>\n      <td>NaN</td>\n      <td>NaN</td>\n      <td>NaN</td>\n      <td>NaN</td>\n      <td>NaN</td>\n      <td>NaN</td>\n      <td>NaN</td>\n      <td>NaN</td>\n      <td>NaN</td>\n      <td>NaN</td>\n      <td>NaN</td>\n      <td>NaN</td>\n      <td>NaN</td>\n      <td>NaN</td>\n      <td>NaN</td>\n      <td>NaN</td>\n      <td>NaN</td>\n      <td>NaN</td>\n      <td>NaN</td>\n      <td>NaN</td>\n      <td>NaN</td>\n      <td>NaN</td>\n      <td>NaN</td>\n      <td>NaN</td>\n      <td>NaN</td>\n      <td>NaN</td>\n      <td>NaN</td>\n      <td>NaN</td>\n      <td>NaN</td>\n      <td>NaN</td>\n    </tr>\n    <tr>\n      <th>217015</th>\n      <td>Northern Mariana Islands</td>\n      <td>MNP</td>\n      <td>Agricultural irrigated land (% of total agricu...</td>\n      <td>AG.LND.IRIG.AG.ZS</td>\n      <td>NaN</td>\n      <td>NaN</td>\n      <td>NaN</td>\n      <td>NaN</td>\n      <td>NaN</td>\n      <td>NaN</td>\n      <td>NaN</td>\n      <td>NaN</td>\n      <td>NaN</td>\n      <td>NaN</td>\n      <td>NaN</td>\n      <td>NaN</td>\n      <td>NaN</td>\n      <td>NaN</td>\n      <td>NaN</td>\n      <td>NaN</td>\n      <td>NaN</td>\n      <td>NaN</td>\n      <td>NaN</td>\n      <td>NaN</td>\n      <td>NaN</td>\n      <td>NaN</td>\n      <td>NaN</td>\n      <td>NaN</td>\n      <td>NaN</td>\n      <td>NaN</td>\n      <td>NaN</td>\n      <td>NaN</td>\n      <td>NaN</td>\n      <td>NaN</td>\n      <td>NaN</td>\n      <td>NaN</td>\n      <td>NaN</td>\n      <td>NaN</td>\n      <td>NaN</td>\n      <td>NaN</td>\n      <td>NaN</td>\n      <td>NaN</td>\n      <td>NaN</td>\n      <td>NaN</td>\n      <td>NaN</td>\n    </tr>\n    <tr>\n      <th>217026</th>\n      <td>Northern Mariana Islands</td>\n      <td>MNP</td>\n      <td>Agriculture, forestry, and fishing, value adde...</td>\n      <td>NV.AGR.TOTL.ZS</td>\n      <td>NaN</td>\n      <td>NaN</td>\n      <td>NaN</td>\n      <td>NaN</td>\n      <td>NaN</td>\n      <td>NaN</td>\n      <td>NaN</td>\n      <td>NaN</td>\n      <td>NaN</td>\n      <td>NaN</td>\n      <td>NaN</td>\n      <td>NaN</td>\n      <td>NaN</td>\n      <td>NaN</td>\n      <td>NaN</td>\n      <td>NaN</td>\n      <td>NaN</td>\n      <td>NaN</td>\n      <td>NaN</td>\n      <td>NaN</td>\n      <td>NaN</td>\n      <td>NaN</td>\n      <td>NaN</td>\n      <td>NaN</td>\n      <td>NaN</td>\n      <td>NaN</td>\n      <td>NaN</td>\n      <td>NaN</td>\n      <td>NaN</td>\n      <td>NaN</td>\n      <td>NaN</td>\n      <td>NaN</td>\n      <td>NaN</td>\n      <td>NaN</td>\n      <td>NaN</td>\n      <td>NaN</td>\n      <td>NaN</td>\n      <td>NaN</td>\n      <td>NaN</td>\n      <td>NaN</td>\n      <td>NaN</td>\n    </tr>\n    <tr>\n      <th>217027</th>\n      <td>Northern Mariana Islands</td>\n      <td>MNP</td>\n      <td>Agriculture, forestry, and fishing, value adde...</td>\n      <td>NV.AGR.TOTL.KD.ZG</td>\n      <td>NaN</td>\n      <td>NaN</td>\n      <td>NaN</td>\n      <td>NaN</td>\n      <td>NaN</td>\n      <td>NaN</td>\n      <td>NaN</td>\n      <td>NaN</td>\n      <td>NaN</td>\n      <td>NaN</td>\n      <td>NaN</td>\n      <td>NaN</td>\n      <td>NaN</td>\n      <td>NaN</td>\n      <td>NaN</td>\n      <td>NaN</td>\n      <td>NaN</td>\n      <td>NaN</td>\n      <td>NaN</td>\n      <td>NaN</td>\n      <td>NaN</td>\n      <td>NaN</td>\n      <td>NaN</td>\n      <td>NaN</td>\n      <td>NaN</td>\n      <td>NaN</td>\n      <td>NaN</td>\n      <td>NaN</td>\n      <td>NaN</td>\n      <td>NaN</td>\n      <td>NaN</td>\n      <td>NaN</td>\n      <td>NaN</td>\n      <td>NaN</td>\n      <td>NaN</td>\n      <td>NaN</td>\n      <td>NaN</td>\n      <td>NaN</td>\n      <td>NaN</td>\n      <td>NaN</td>\n      <td>NaN</td>\n    </tr>\n    <tr>\n      <th>217031</th>\n      <td>Northern Mariana Islands</td>\n      <td>MNP</td>\n      <td>Agriculture, forestry, and fishing, value adde...</td>\n      <td>NV.AGR.TOTL.CD</td>\n      <td>NaN</td>\n      <td>NaN</td>\n      <td>NaN</td>\n      <td>NaN</td>\n      <td>NaN</td>\n      <td>NaN</td>\n      <td>NaN</td>\n      <td>NaN</td>\n      <td>NaN</td>\n      <td>NaN</td>\n      <td>NaN</td>\n      <td>NaN</td>\n      <td>NaN</td>\n      <td>NaN</td>\n      <td>NaN</td>\n      <td>NaN</td>\n      <td>NaN</td>\n      <td>NaN</td>\n      <td>NaN</td>\n      <td>NaN</td>\n      <td>NaN</td>\n      <td>NaN</td>\n      <td>NaN</td>\n      <td>NaN</td>\n      <td>NaN</td>\n      <td>NaN</td>\n      <td>NaN</td>\n      <td>NaN</td>\n      <td>NaN</td>\n      <td>NaN</td>\n      <td>NaN</td>\n      <td>NaN</td>\n      <td>NaN</td>\n      <td>NaN</td>\n      <td>NaN</td>\n      <td>NaN</td>\n      <td>NaN</td>\n      <td>NaN</td>\n      <td>NaN</td>\n      <td>NaN</td>\n      <td>NaN</td>\n    </tr>\n    <tr>\n      <th>222959</th>\n      <td>Palau</td>\n      <td>PLW</td>\n      <td>Agricultural irrigated land (% of total agricu...</td>\n      <td>AG.LND.IRIG.AG.ZS</td>\n      <td>NaN</td>\n      <td>NaN</td>\n      <td>NaN</td>\n      <td>NaN</td>\n      <td>NaN</td>\n      <td>NaN</td>\n      <td>NaN</td>\n      <td>NaN</td>\n      <td>NaN</td>\n      <td>NaN</td>\n      <td>NaN</td>\n      <td>NaN</td>\n      <td>NaN</td>\n      <td>NaN</td>\n      <td>NaN</td>\n      <td>NaN</td>\n      <td>NaN</td>\n      <td>NaN</td>\n      <td>NaN</td>\n      <td>NaN</td>\n      <td>NaN</td>\n      <td>NaN</td>\n      <td>NaN</td>\n      <td>NaN</td>\n      <td>NaN</td>\n      <td>NaN</td>\n      <td>NaN</td>\n      <td>NaN</td>\n      <td>NaN</td>\n      <td>NaN</td>\n      <td>NaN</td>\n      <td>NaN</td>\n      <td>NaN</td>\n      <td>NaN</td>\n      <td>NaN</td>\n      <td>NaN</td>\n      <td>NaN</td>\n      <td>NaN</td>\n      <td>NaN</td>\n      <td>NaN</td>\n      <td>NaN</td>\n    </tr>\n    <tr>\n      <th>225931</th>\n      <td>Papua New Guinea</td>\n      <td>PNG</td>\n      <td>Agricultural irrigated land (% of total agricu...</td>\n      <td>AG.LND.IRIG.AG.ZS</td>\n      <td>NaN</td>\n      <td>NaN</td>\n      <td>NaN</td>\n      <td>NaN</td>\n      <td>NaN</td>\n      <td>NaN</td>\n      <td>NaN</td>\n      <td>NaN</td>\n      <td>NaN</td>\n      <td>NaN</td>\n      <td>NaN</td>\n      <td>NaN</td>\n      <td>NaN</td>\n      <td>NaN</td>\n      <td>NaN</td>\n      <td>NaN</td>\n      <td>NaN</td>\n      <td>NaN</td>\n      <td>NaN</td>\n      <td>NaN</td>\n      <td>NaN</td>\n      <td>NaN</td>\n      <td>NaN</td>\n      <td>NaN</td>\n      <td>NaN</td>\n      <td>NaN</td>\n      <td>NaN</td>\n      <td>NaN</td>\n      <td>NaN</td>\n      <td>NaN</td>\n      <td>NaN</td>\n      <td>NaN</td>\n      <td>NaN</td>\n      <td>NaN</td>\n      <td>NaN</td>\n      <td>NaN</td>\n      <td>NaN</td>\n      <td>NaN</td>\n      <td>NaN</td>\n      <td>NaN</td>\n      <td>NaN</td>\n    </tr>\n    <tr>\n      <th>242277</th>\n      <td>Samoa</td>\n      <td>WSM</td>\n      <td>Agricultural irrigated land (% of total agricu...</td>\n      <td>AG.LND.IRIG.AG.ZS</td>\n      <td>NaN</td>\n      <td>NaN</td>\n      <td>NaN</td>\n      <td>NaN</td>\n      <td>NaN</td>\n      <td>NaN</td>\n      <td>NaN</td>\n      <td>NaN</td>\n      <td>NaN</td>\n      <td>NaN</td>\n      <td>NaN</td>\n      <td>NaN</td>\n      <td>NaN</td>\n      <td>NaN</td>\n      <td>NaN</td>\n      <td>NaN</td>\n      <td>NaN</td>\n      <td>NaN</td>\n      <td>NaN</td>\n      <td>NaN</td>\n      <td>NaN</td>\n      <td>NaN</td>\n      <td>NaN</td>\n      <td>NaN</td>\n      <td>NaN</td>\n      <td>NaN</td>\n      <td>NaN</td>\n      <td>NaN</td>\n      <td>NaN</td>\n      <td>NaN</td>\n      <td>NaN</td>\n      <td>NaN</td>\n      <td>NaN</td>\n      <td>NaN</td>\n      <td>NaN</td>\n      <td>NaN</td>\n      <td>NaN</td>\n      <td>NaN</td>\n      <td>NaN</td>\n      <td>NaN</td>\n      <td>NaN</td>\n    </tr>\n    <tr>\n      <th>245249</th>\n      <td>Sao Tome and Principe</td>\n      <td>STP</td>\n      <td>Agricultural irrigated land (% of total agricu...</td>\n      <td>AG.LND.IRIG.AG.ZS</td>\n      <td>NaN</td>\n      <td>NaN</td>\n      <td>NaN</td>\n      <td>NaN</td>\n      <td>NaN</td>\n      <td>NaN</td>\n      <td>NaN</td>\n      <td>NaN</td>\n      <td>NaN</td>\n      <td>NaN</td>\n      <td>NaN</td>\n      <td>NaN</td>\n      <td>NaN</td>\n      <td>NaN</td>\n      <td>NaN</td>\n      <td>NaN</td>\n      <td>NaN</td>\n      <td>NaN</td>\n      <td>NaN</td>\n      <td>NaN</td>\n      <td>NaN</td>\n      <td>NaN</td>\n      <td>NaN</td>\n      <td>NaN</td>\n      <td>NaN</td>\n      <td>NaN</td>\n      <td>NaN</td>\n      <td>NaN</td>\n      <td>NaN</td>\n      <td>NaN</td>\n      <td>NaN</td>\n      <td>NaN</td>\n      <td>NaN</td>\n      <td>NaN</td>\n      <td>NaN</td>\n      <td>NaN</td>\n      <td>NaN</td>\n      <td>NaN</td>\n      <td>NaN</td>\n      <td>NaN</td>\n      <td>NaN</td>\n    </tr>\n    <tr>\n      <th>245280</th>\n      <td>Sao Tome and Principe</td>\n      <td>STP</td>\n      <td>Aquaculture production (metric tons)</td>\n      <td>ER.FSH.AQUA.MT</td>\n      <td>NaN</td>\n      <td>NaN</td>\n      <td>NaN</td>\n      <td>NaN</td>\n      <td>NaN</td>\n      <td>NaN</td>\n      <td>NaN</td>\n      <td>NaN</td>\n      <td>NaN</td>\n      <td>NaN</td>\n      <td>NaN</td>\n      <td>NaN</td>\n      <td>NaN</td>\n      <td>NaN</td>\n      <td>NaN</td>\n      <td>NaN</td>\n      <td>NaN</td>\n      <td>NaN</td>\n      <td>NaN</td>\n      <td>NaN</td>\n      <td>NaN</td>\n      <td>NaN</td>\n      <td>NaN</td>\n      <td>NaN</td>\n      <td>NaN</td>\n      <td>NaN</td>\n      <td>NaN</td>\n      <td>NaN</td>\n      <td>NaN</td>\n      <td>NaN</td>\n      <td>NaN</td>\n      <td>NaN</td>\n      <td>NaN</td>\n      <td>NaN</td>\n      <td>NaN</td>\n      <td>NaN</td>\n      <td>NaN</td>\n      <td>NaN</td>\n      <td>NaN</td>\n      <td>NaN</td>\n      <td>NaN</td>\n    </tr>\n    <tr>\n      <th>246576</th>\n      <td>Sao Tome and Principe</td>\n      <td>STP</td>\n      <td>Total fisheries production (metric tons)</td>\n      <td>ER.FSH.PROD.MT</td>\n      <td>NaN</td>\n      <td>NaN</td>\n      <td>NaN</td>\n      <td>NaN</td>\n      <td>NaN</td>\n      <td>NaN</td>\n      <td>NaN</td>\n      <td>NaN</td>\n      <td>NaN</td>\n      <td>NaN</td>\n      <td>NaN</td>\n      <td>NaN</td>\n      <td>NaN</td>\n      <td>NaN</td>\n      <td>NaN</td>\n      <td>NaN</td>\n      <td>NaN</td>\n      <td>NaN</td>\n      <td>NaN</td>\n      <td>NaN</td>\n      <td>NaN</td>\n      <td>NaN</td>\n      <td>NaN</td>\n      <td>NaN</td>\n      <td>NaN</td>\n      <td>NaN</td>\n      <td>NaN</td>\n      <td>NaN</td>\n      <td>NaN</td>\n      <td>NaN</td>\n      <td>NaN</td>\n      <td>NaN</td>\n      <td>NaN</td>\n      <td>NaN</td>\n      <td>NaN</td>\n      <td>NaN</td>\n      <td>NaN</td>\n      <td>NaN</td>\n      <td>NaN</td>\n      <td>NaN</td>\n      <td>NaN</td>\n    </tr>\n    <tr>\n      <th>254165</th>\n      <td>Singapore</td>\n      <td>SGP</td>\n      <td>Agricultural irrigated land (% of total agricu...</td>\n      <td>AG.LND.IRIG.AG.ZS</td>\n      <td>NaN</td>\n      <td>NaN</td>\n      <td>NaN</td>\n      <td>NaN</td>\n      <td>NaN</td>\n      <td>NaN</td>\n      <td>NaN</td>\n      <td>NaN</td>\n      <td>NaN</td>\n      <td>NaN</td>\n      <td>NaN</td>\n      <td>NaN</td>\n      <td>NaN</td>\n      <td>NaN</td>\n      <td>NaN</td>\n      <td>NaN</td>\n      <td>NaN</td>\n      <td>NaN</td>\n      <td>NaN</td>\n      <td>NaN</td>\n      <td>NaN</td>\n      <td>NaN</td>\n      <td>NaN</td>\n      <td>NaN</td>\n      <td>NaN</td>\n      <td>NaN</td>\n      <td>NaN</td>\n      <td>NaN</td>\n      <td>NaN</td>\n      <td>NaN</td>\n      <td>NaN</td>\n      <td>NaN</td>\n      <td>NaN</td>\n      <td>NaN</td>\n      <td>NaN</td>\n      <td>NaN</td>\n      <td>NaN</td>\n      <td>NaN</td>\n      <td>NaN</td>\n      <td>NaN</td>\n      <td>NaN</td>\n    </tr>\n    <tr>\n      <th>260109</th>\n      <td>Solomon Islands</td>\n      <td>SLB</td>\n      <td>Agricultural irrigated land (% of total agricu...</td>\n      <td>AG.LND.IRIG.AG.ZS</td>\n      <td>NaN</td>\n      <td>NaN</td>\n      <td>NaN</td>\n      <td>NaN</td>\n      <td>NaN</td>\n      <td>NaN</td>\n      <td>NaN</td>\n      <td>NaN</td>\n      <td>NaN</td>\n      <td>NaN</td>\n      <td>NaN</td>\n      <td>NaN</td>\n      <td>NaN</td>\n      <td>NaN</td>\n      <td>NaN</td>\n      <td>NaN</td>\n      <td>NaN</td>\n      <td>NaN</td>\n      <td>NaN</td>\n      <td>NaN</td>\n      <td>NaN</td>\n      <td>NaN</td>\n      <td>NaN</td>\n      <td>NaN</td>\n      <td>NaN</td>\n      <td>NaN</td>\n      <td>NaN</td>\n      <td>NaN</td>\n      <td>NaN</td>\n      <td>NaN</td>\n      <td>NaN</td>\n      <td>NaN</td>\n      <td>NaN</td>\n      <td>NaN</td>\n      <td>NaN</td>\n      <td>NaN</td>\n      <td>NaN</td>\n      <td>NaN</td>\n      <td>NaN</td>\n      <td>NaN</td>\n      <td>NaN</td>\n    </tr>\n    <tr>\n      <th>267539</th>\n      <td>Sri Lanka</td>\n      <td>LKA</td>\n      <td>Agricultural irrigated land (% of total agricu...</td>\n      <td>AG.LND.IRIG.AG.ZS</td>\n      <td>NaN</td>\n      <td>NaN</td>\n      <td>NaN</td>\n      <td>NaN</td>\n      <td>NaN</td>\n      <td>NaN</td>\n      <td>NaN</td>\n      <td>NaN</td>\n      <td>NaN</td>\n      <td>NaN</td>\n      <td>NaN</td>\n      <td>NaN</td>\n      <td>NaN</td>\n      <td>NaN</td>\n      <td>NaN</td>\n      <td>NaN</td>\n      <td>NaN</td>\n      <td>NaN</td>\n      <td>NaN</td>\n      <td>NaN</td>\n      <td>NaN</td>\n      <td>NaN</td>\n      <td>NaN</td>\n      <td>NaN</td>\n      <td>NaN</td>\n      <td>NaN</td>\n      <td>NaN</td>\n      <td>NaN</td>\n      <td>NaN</td>\n      <td>NaN</td>\n      <td>NaN</td>\n      <td>NaN</td>\n      <td>NaN</td>\n      <td>NaN</td>\n      <td>NaN</td>\n      <td>NaN</td>\n      <td>NaN</td>\n      <td>NaN</td>\n      <td>NaN</td>\n      <td>NaN</td>\n      <td>NaN</td>\n    </tr>\n    <tr>\n      <th>269025</th>\n      <td>St. Kitts and Nevis</td>\n      <td>KNA</td>\n      <td>Agricultural irrigated land (% of total agricu...</td>\n      <td>AG.LND.IRIG.AG.ZS</td>\n      <td>NaN</td>\n      <td>NaN</td>\n      <td>NaN</td>\n      <td>NaN</td>\n      <td>NaN</td>\n      <td>NaN</td>\n      <td>NaN</td>\n      <td>NaN</td>\n      <td>NaN</td>\n      <td>NaN</td>\n      <td>NaN</td>\n      <td>NaN</td>\n      <td>NaN</td>\n      <td>NaN</td>\n      <td>NaN</td>\n      <td>NaN</td>\n      <td>NaN</td>\n      <td>NaN</td>\n      <td>NaN</td>\n      <td>NaN</td>\n      <td>NaN</td>\n      <td>NaN</td>\n      <td>NaN</td>\n      <td>NaN</td>\n      <td>NaN</td>\n      <td>NaN</td>\n      <td>NaN</td>\n      <td>NaN</td>\n      <td>NaN</td>\n      <td>NaN</td>\n      <td>NaN</td>\n      <td>NaN</td>\n      <td>NaN</td>\n      <td>NaN</td>\n      <td>NaN</td>\n      <td>NaN</td>\n      <td>NaN</td>\n      <td>NaN</td>\n      <td>NaN</td>\n      <td>NaN</td>\n      <td>NaN</td>\n    </tr>\n    <tr>\n      <th>270511</th>\n      <td>St. Lucia</td>\n      <td>LCA</td>\n      <td>Agricultural irrigated land (% of total agricu...</td>\n      <td>AG.LND.IRIG.AG.ZS</td>\n      <td>NaN</td>\n      <td>NaN</td>\n      <td>NaN</td>\n      <td>NaN</td>\n      <td>NaN</td>\n      <td>NaN</td>\n      <td>NaN</td>\n      <td>NaN</td>\n      <td>NaN</td>\n      <td>NaN</td>\n      <td>NaN</td>\n      <td>NaN</td>\n      <td>NaN</td>\n      <td>NaN</td>\n      <td>NaN</td>\n      <td>NaN</td>\n      <td>NaN</td>\n      <td>NaN</td>\n      <td>NaN</td>\n      <td>NaN</td>\n      <td>NaN</td>\n      <td>NaN</td>\n      <td>NaN</td>\n      <td>NaN</td>\n      <td>NaN</td>\n      <td>NaN</td>\n      <td>NaN</td>\n      <td>NaN</td>\n      <td>NaN</td>\n      <td>NaN</td>\n      <td>NaN</td>\n      <td>NaN</td>\n      <td>NaN</td>\n      <td>NaN</td>\n      <td>NaN</td>\n      <td>NaN</td>\n      <td>NaN</td>\n      <td>NaN</td>\n      <td>NaN</td>\n      <td>NaN</td>\n      <td>NaN</td>\n    </tr>\n    <tr>\n      <th>273483</th>\n      <td>St. Vincent and the Grenadines</td>\n      <td>VCT</td>\n      <td>Agricultural irrigated land (% of total agricu...</td>\n      <td>AG.LND.IRIG.AG.ZS</td>\n      <td>NaN</td>\n      <td>NaN</td>\n      <td>NaN</td>\n      <td>NaN</td>\n      <td>NaN</td>\n      <td>NaN</td>\n      <td>NaN</td>\n      <td>NaN</td>\n      <td>NaN</td>\n      <td>NaN</td>\n      <td>NaN</td>\n      <td>NaN</td>\n      <td>NaN</td>\n      <td>NaN</td>\n      <td>NaN</td>\n      <td>NaN</td>\n      <td>NaN</td>\n      <td>NaN</td>\n      <td>NaN</td>\n      <td>NaN</td>\n      <td>NaN</td>\n      <td>NaN</td>\n      <td>NaN</td>\n      <td>NaN</td>\n      <td>NaN</td>\n      <td>NaN</td>\n      <td>NaN</td>\n      <td>NaN</td>\n      <td>NaN</td>\n      <td>NaN</td>\n      <td>NaN</td>\n      <td>NaN</td>\n      <td>NaN</td>\n      <td>NaN</td>\n      <td>NaN</td>\n      <td>NaN</td>\n      <td>NaN</td>\n      <td>NaN</td>\n      <td>NaN</td>\n      <td>NaN</td>\n      <td>NaN</td>\n    </tr>\n    <tr>\n      <th>283885</th>\n      <td>Tanzania</td>\n      <td>TZA</td>\n      <td>Agricultural irrigated land (% of total agricu...</td>\n      <td>AG.LND.IRIG.AG.ZS</td>\n      <td>NaN</td>\n      <td>NaN</td>\n      <td>NaN</td>\n      <td>NaN</td>\n      <td>NaN</td>\n      <td>NaN</td>\n      <td>NaN</td>\n      <td>NaN</td>\n      <td>NaN</td>\n      <td>NaN</td>\n      <td>NaN</td>\n      <td>NaN</td>\n      <td>NaN</td>\n      <td>NaN</td>\n      <td>NaN</td>\n      <td>NaN</td>\n      <td>NaN</td>\n      <td>NaN</td>\n      <td>NaN</td>\n      <td>NaN</td>\n      <td>NaN</td>\n      <td>NaN</td>\n      <td>NaN</td>\n      <td>NaN</td>\n      <td>NaN</td>\n      <td>NaN</td>\n      <td>NaN</td>\n      <td>NaN</td>\n      <td>NaN</td>\n      <td>NaN</td>\n      <td>NaN</td>\n      <td>NaN</td>\n      <td>NaN</td>\n      <td>NaN</td>\n      <td>NaN</td>\n      <td>NaN</td>\n      <td>NaN</td>\n      <td>NaN</td>\n      <td>NaN</td>\n      <td>NaN</td>\n      <td>NaN</td>\n    </tr>\n    <tr>\n      <th>285371</th>\n      <td>Thailand</td>\n      <td>THA</td>\n      <td>Agricultural irrigated land (% of total agricu...</td>\n      <td>AG.LND.IRIG.AG.ZS</td>\n      <td>NaN</td>\n      <td>NaN</td>\n      <td>NaN</td>\n      <td>NaN</td>\n      <td>NaN</td>\n      <td>NaN</td>\n      <td>NaN</td>\n      <td>NaN</td>\n      <td>NaN</td>\n      <td>NaN</td>\n      <td>NaN</td>\n      <td>NaN</td>\n      <td>NaN</td>\n      <td>NaN</td>\n      <td>NaN</td>\n      <td>NaN</td>\n      <td>NaN</td>\n      <td>NaN</td>\n      <td>NaN</td>\n      <td>NaN</td>\n      <td>NaN</td>\n      <td>NaN</td>\n      <td>NaN</td>\n      <td>NaN</td>\n      <td>NaN</td>\n      <td>NaN</td>\n      <td>NaN</td>\n      <td>NaN</td>\n      <td>NaN</td>\n      <td>NaN</td>\n      <td>NaN</td>\n      <td>NaN</td>\n      <td>NaN</td>\n      <td>NaN</td>\n      <td>NaN</td>\n      <td>NaN</td>\n      <td>NaN</td>\n      <td>NaN</td>\n      <td>NaN</td>\n      <td>NaN</td>\n      <td>NaN</td>\n    </tr>\n    <tr>\n      <th>289829</th>\n      <td>Tonga</td>\n      <td>TON</td>\n      <td>Agricultural irrigated land (% of total agricu...</td>\n      <td>AG.LND.IRIG.AG.ZS</td>\n      <td>NaN</td>\n      <td>NaN</td>\n      <td>NaN</td>\n      <td>NaN</td>\n      <td>NaN</td>\n      <td>NaN</td>\n      <td>NaN</td>\n      <td>NaN</td>\n      <td>NaN</td>\n      <td>NaN</td>\n      <td>NaN</td>\n      <td>NaN</td>\n      <td>NaN</td>\n      <td>NaN</td>\n      <td>NaN</td>\n      <td>NaN</td>\n      <td>NaN</td>\n      <td>NaN</td>\n      <td>NaN</td>\n      <td>NaN</td>\n      <td>NaN</td>\n      <td>NaN</td>\n      <td>NaN</td>\n      <td>NaN</td>\n      <td>NaN</td>\n      <td>NaN</td>\n      <td>NaN</td>\n      <td>NaN</td>\n      <td>NaN</td>\n      <td>NaN</td>\n      <td>NaN</td>\n      <td>NaN</td>\n      <td>NaN</td>\n      <td>NaN</td>\n      <td>NaN</td>\n      <td>NaN</td>\n      <td>NaN</td>\n      <td>NaN</td>\n      <td>NaN</td>\n      <td>NaN</td>\n      <td>NaN</td>\n    </tr>\n    <tr>\n      <th>297259</th>\n      <td>Turks and Caicos Islands</td>\n      <td>TCA</td>\n      <td>Agricultural irrigated land (% of total agricu...</td>\n      <td>AG.LND.IRIG.AG.ZS</td>\n      <td>NaN</td>\n      <td>NaN</td>\n      <td>NaN</td>\n      <td>NaN</td>\n      <td>NaN</td>\n      <td>NaN</td>\n      <td>NaN</td>\n      <td>NaN</td>\n      <td>NaN</td>\n      <td>NaN</td>\n      <td>NaN</td>\n      <td>NaN</td>\n      <td>NaN</td>\n      <td>NaN</td>\n      <td>NaN</td>\n      <td>NaN</td>\n      <td>NaN</td>\n      <td>NaN</td>\n      <td>NaN</td>\n      <td>NaN</td>\n      <td>NaN</td>\n      <td>NaN</td>\n      <td>NaN</td>\n      <td>NaN</td>\n      <td>NaN</td>\n      <td>NaN</td>\n      <td>NaN</td>\n      <td>NaN</td>\n      <td>NaN</td>\n      <td>NaN</td>\n      <td>NaN</td>\n      <td>NaN</td>\n      <td>NaN</td>\n      <td>NaN</td>\n      <td>NaN</td>\n      <td>NaN</td>\n      <td>NaN</td>\n      <td>NaN</td>\n      <td>NaN</td>\n      <td>NaN</td>\n      <td>NaN</td>\n    </tr>\n    <tr>\n      <th>297630</th>\n      <td>Turks and Caicos Islands</td>\n      <td>TCA</td>\n      <td>Fertilizer consumption (kilograms per hectare ...</td>\n      <td>AG.CON.FERT.ZS</td>\n      <td>NaN</td>\n      <td>NaN</td>\n      <td>NaN</td>\n      <td>NaN</td>\n      <td>NaN</td>\n      <td>NaN</td>\n      <td>NaN</td>\n      <td>NaN</td>\n      <td>NaN</td>\n      <td>NaN</td>\n      <td>NaN</td>\n      <td>NaN</td>\n      <td>NaN</td>\n      <td>NaN</td>\n      <td>NaN</td>\n      <td>NaN</td>\n      <td>NaN</td>\n      <td>NaN</td>\n      <td>NaN</td>\n      <td>NaN</td>\n      <td>NaN</td>\n      <td>NaN</td>\n      <td>NaN</td>\n      <td>NaN</td>\n      <td>NaN</td>\n      <td>NaN</td>\n      <td>NaN</td>\n      <td>NaN</td>\n      <td>NaN</td>\n      <td>NaN</td>\n      <td>NaN</td>\n      <td>NaN</td>\n      <td>NaN</td>\n      <td>NaN</td>\n      <td>NaN</td>\n      <td>NaN</td>\n      <td>NaN</td>\n      <td>NaN</td>\n      <td>NaN</td>\n      <td>NaN</td>\n      <td>NaN</td>\n    </tr>\n    <tr>\n      <th>298745</th>\n      <td>Tuvalu</td>\n      <td>TUV</td>\n      <td>Agricultural irrigated land (% of total agricu...</td>\n      <td>AG.LND.IRIG.AG.ZS</td>\n      <td>NaN</td>\n      <td>NaN</td>\n      <td>NaN</td>\n      <td>NaN</td>\n      <td>NaN</td>\n      <td>NaN</td>\n      <td>NaN</td>\n      <td>NaN</td>\n      <td>NaN</td>\n      <td>NaN</td>\n      <td>NaN</td>\n      <td>NaN</td>\n      <td>NaN</td>\n      <td>NaN</td>\n      <td>NaN</td>\n      <td>NaN</td>\n      <td>NaN</td>\n      <td>NaN</td>\n      <td>NaN</td>\n      <td>NaN</td>\n      <td>NaN</td>\n      <td>NaN</td>\n      <td>NaN</td>\n      <td>NaN</td>\n      <td>NaN</td>\n      <td>NaN</td>\n      <td>NaN</td>\n      <td>NaN</td>\n      <td>NaN</td>\n      <td>NaN</td>\n      <td>NaN</td>\n      <td>NaN</td>\n      <td>NaN</td>\n      <td>NaN</td>\n      <td>NaN</td>\n      <td>NaN</td>\n      <td>NaN</td>\n      <td>NaN</td>\n      <td>NaN</td>\n      <td>NaN</td>\n      <td>NaN</td>\n    </tr>\n    <tr>\n      <th>298757</th>\n      <td>Tuvalu</td>\n      <td>TUV</td>\n      <td>Agriculture, forestry, and fishing, value adde...</td>\n      <td>NV.AGR.TOTL.KD.ZG</td>\n      <td>NaN</td>\n      <td>NaN</td>\n      <td>NaN</td>\n      <td>NaN</td>\n      <td>NaN</td>\n      <td>NaN</td>\n      <td>NaN</td>\n      <td>NaN</td>\n      <td>NaN</td>\n      <td>NaN</td>\n      <td>NaN</td>\n      <td>NaN</td>\n      <td>NaN</td>\n      <td>NaN</td>\n      <td>NaN</td>\n      <td>NaN</td>\n      <td>NaN</td>\n      <td>NaN</td>\n      <td>NaN</td>\n      <td>NaN</td>\n      <td>NaN</td>\n      <td>NaN</td>\n      <td>NaN</td>\n      <td>NaN</td>\n      <td>NaN</td>\n      <td>NaN</td>\n      <td>NaN</td>\n      <td>NaN</td>\n      <td>NaN</td>\n      <td>NaN</td>\n      <td>NaN</td>\n      <td>NaN</td>\n      <td>NaN</td>\n      <td>NaN</td>\n      <td>NaN</td>\n      <td>NaN</td>\n      <td>NaN</td>\n      <td>NaN</td>\n      <td>NaN</td>\n      <td>NaN</td>\n      <td>NaN</td>\n    </tr>\n    <tr>\n      <th>299116</th>\n      <td>Tuvalu</td>\n      <td>TUV</td>\n      <td>Fertilizer consumption (kilograms per hectare ...</td>\n      <td>AG.CON.FERT.ZS</td>\n      <td>NaN</td>\n      <td>NaN</td>\n      <td>NaN</td>\n      <td>NaN</td>\n      <td>NaN</td>\n      <td>NaN</td>\n      <td>NaN</td>\n      <td>NaN</td>\n      <td>NaN</td>\n      <td>NaN</td>\n      <td>NaN</td>\n      <td>NaN</td>\n      <td>NaN</td>\n      <td>NaN</td>\n      <td>NaN</td>\n      <td>NaN</td>\n      <td>NaN</td>\n      <td>NaN</td>\n      <td>NaN</td>\n      <td>NaN</td>\n      <td>NaN</td>\n      <td>NaN</td>\n      <td>NaN</td>\n      <td>NaN</td>\n      <td>NaN</td>\n      <td>NaN</td>\n      <td>NaN</td>\n      <td>NaN</td>\n      <td>NaN</td>\n      <td>NaN</td>\n      <td>NaN</td>\n      <td>NaN</td>\n      <td>NaN</td>\n      <td>NaN</td>\n      <td>NaN</td>\n      <td>NaN</td>\n      <td>NaN</td>\n      <td>NaN</td>\n      <td>NaN</td>\n      <td>NaN</td>\n      <td>NaN</td>\n    </tr>\n    <tr>\n      <th>310633</th>\n      <td>Vanuatu</td>\n      <td>VUT</td>\n      <td>Agricultural irrigated land (% of total agricu...</td>\n      <td>AG.LND.IRIG.AG.ZS</td>\n      <td>NaN</td>\n      <td>NaN</td>\n      <td>NaN</td>\n      <td>NaN</td>\n      <td>NaN</td>\n      <td>NaN</td>\n      <td>NaN</td>\n      <td>NaN</td>\n      <td>NaN</td>\n      <td>NaN</td>\n      <td>NaN</td>\n      <td>NaN</td>\n      <td>NaN</td>\n      <td>NaN</td>\n      <td>NaN</td>\n      <td>NaN</td>\n      <td>NaN</td>\n      <td>NaN</td>\n      <td>NaN</td>\n      <td>NaN</td>\n      <td>NaN</td>\n      <td>NaN</td>\n      <td>NaN</td>\n      <td>NaN</td>\n      <td>NaN</td>\n      <td>NaN</td>\n      <td>NaN</td>\n      <td>NaN</td>\n      <td>NaN</td>\n      <td>NaN</td>\n      <td>NaN</td>\n      <td>NaN</td>\n      <td>NaN</td>\n      <td>NaN</td>\n      <td>NaN</td>\n      <td>NaN</td>\n      <td>NaN</td>\n      <td>NaN</td>\n      <td>NaN</td>\n      <td>NaN</td>\n      <td>NaN</td>\n    </tr>\n    <tr>\n      <th>313605</th>\n      <td>Viet Nam</td>\n      <td>VNM</td>\n      <td>Agricultural irrigated land (% of total agricu...</td>\n      <td>AG.LND.IRIG.AG.ZS</td>\n      <td>NaN</td>\n      <td>NaN</td>\n      <td>NaN</td>\n      <td>NaN</td>\n      <td>NaN</td>\n      <td>NaN</td>\n      <td>NaN</td>\n      <td>NaN</td>\n      <td>NaN</td>\n      <td>NaN</td>\n      <td>NaN</td>\n      <td>NaN</td>\n      <td>NaN</td>\n      <td>NaN</td>\n      <td>NaN</td>\n      <td>NaN</td>\n      <td>NaN</td>\n      <td>NaN</td>\n      <td>NaN</td>\n      <td>NaN</td>\n      <td>NaN</td>\n      <td>NaN</td>\n      <td>NaN</td>\n      <td>NaN</td>\n      <td>NaN</td>\n      <td>NaN</td>\n      <td>NaN</td>\n      <td>NaN</td>\n      <td>NaN</td>\n      <td>NaN</td>\n      <td>NaN</td>\n      <td>NaN</td>\n      <td>NaN</td>\n      <td>NaN</td>\n      <td>NaN</td>\n      <td>NaN</td>\n      <td>NaN</td>\n      <td>NaN</td>\n      <td>NaN</td>\n      <td>NaN</td>\n      <td>NaN</td>\n    </tr>\n    <tr>\n      <th>318063</th>\n      <td>Yemen, Rep.</td>\n      <td>YEM</td>\n      <td>Agricultural irrigated land (% of total agricu...</td>\n      <td>AG.LND.IRIG.AG.ZS</td>\n      <td>NaN</td>\n      <td>NaN</td>\n      <td>NaN</td>\n      <td>NaN</td>\n      <td>NaN</td>\n      <td>NaN</td>\n      <td>NaN</td>\n      <td>NaN</td>\n      <td>NaN</td>\n      <td>NaN</td>\n      <td>NaN</td>\n      <td>NaN</td>\n      <td>NaN</td>\n      <td>NaN</td>\n      <td>NaN</td>\n      <td>NaN</td>\n      <td>NaN</td>\n      <td>NaN</td>\n      <td>NaN</td>\n      <td>NaN</td>\n      <td>NaN</td>\n      <td>NaN</td>\n      <td>NaN</td>\n      <td>NaN</td>\n      <td>NaN</td>\n      <td>NaN</td>\n      <td>NaN</td>\n      <td>NaN</td>\n      <td>NaN</td>\n      <td>NaN</td>\n      <td>NaN</td>\n      <td>NaN</td>\n      <td>NaN</td>\n      <td>NaN</td>\n      <td>NaN</td>\n      <td>NaN</td>\n      <td>NaN</td>\n      <td>NaN</td>\n      <td>NaN</td>\n      <td>NaN</td>\n      <td>NaN</td>\n    </tr>\n  </tbody>\n</table>\n</div>"
     },
     "metadata": {}
    }
   ],
   "outputs_reference": "s3:deepnote-cell-outputs-production/ccf53616-4473-412a-a978-a99a8d1d1f46",
   "content_dependencies": null
  },
  {
   "cell_type": "code",
   "metadata": {
    "source_hash": null,
    "execution_start": 1710015463807,
    "execution_millis": 107,
    "deepnote_to_be_reexecuted": false,
    "deepnote_app_block_visible": true,
    "cell_id": "8970979ab7714fce8fdda72bc8380ca6",
    "deepnote_cell_type": "code"
   },
   "source": [
    "len(gcb.Country_Code.sort_values().unique())"
   ],
   "block_group": "c543a9234d6049a6a604e61d12f21874",
   "execution_count": null,
   "outputs": [
    {
     "output_type": "execute_result",
     "execution_count": 20,
     "data": {
      "text/plain": "85"
     },
     "metadata": {}
    }
   ],
   "outputs_reference": "dbtable:cell_outputs/599fdd58-1e8a-43f5-b917-ab879fbba5e9",
   "content_dependencies": null
  },
  {
   "cell_type": "code",
   "metadata": {
    "source_hash": null,
    "execution_start": 1710015629486,
    "execution_millis": 259,
    "deepnote_to_be_reexecuted": false,
    "deepnote_app_block_visible": true,
    "cell_id": "4586881d80504709aefe605cc6a2e9ef",
    "deepnote_cell_type": "code"
   },
   "source": [
    "gcb.groupby(['Country_Name','Date_Year'])['AG.LND.IRIG.AG.ZS'].mean()"
   ],
   "block_group": "74e907c256d34d1f96d25a05860cacfe",
   "execution_count": null,
   "outputs": [
    {
     "output_type": "execute_result",
     "execution_count": 23,
     "data": {
      "text/plain": "Country_Name                                  Date_Year\nAntigua and Barbuda                           2003.00       NaN\n                                              2004.00       NaN\nAustralia                                     1992.00       NaN\n                                              1997.00       NaN\n                                              1998.00       NaN\n                                              1999.00       NaN\n                                              2002.00      0.57\n                                              2003.00      0.54\n                                              2004.00      0.61\n                                              2005.00      0.59\n                                              2006.00      0.62\n                                              2007.00      0.48\n                                              2008.00      0.48\n                                              2009.00      0.46\n                                              2010.00      0.49\n                                              2011.00      0.50\n                                              2012.00      0.55\n                                              2013.00      0.64\n                                              2014.00      0.63\n                                              2015.00      0.62\n                                              2016.00      0.63\n                                              2017.00      0.60\nBahamas                                       1983.00       NaN\n                                              1987.00       NaN\n                                              1990.00       NaN\n                                              1991.00       NaN\n                                              1992.00       NaN\n                                              1993.00       NaN\n                                              1994.00       NaN\n                                              1995.00       NaN\n                                              1998.00       NaN\n                                              1999.00       NaN\n                                              2002.00       NaN\n                                              2003.00       NaN\n                                              2004.00       NaN\n                                              2005.00       NaN\n                                              2006.00       NaN\n                                              2007.00       NaN\n                                              2008.00       NaN\n                                              2009.00       NaN\n                                              2010.00       NaN\n                                              2011.00       NaN\n                                              2012.00       NaN\n                                              2013.00       NaN\n                                              2014.00       NaN\n                                              2015.00       NaN\n                                              2016.00       NaN\n                                              2017.00       NaN\n                                              2018.00       NaN\n                                              2019.00       NaN\nBahrain                                       1996.00       NaN\n                                              1998.00       NaN\nBangladesh                                    2005.00     51.12\n                                              2006.00     52.62\nBarbados                                      1987.00       NaN\n                                              1998.00       NaN\n                                              2003.00       NaN\n                                              2004.00       NaN\n                                              2005.00       NaN\n                                              2006.00       NaN\nBelize                                        1995.00       NaN\n                                              1998.00       NaN\n                                              1999.00       NaN\n                                              2000.00       NaN\n                                              2003.00       NaN\n                                              2004.00       NaN\n                                              2005.00       NaN\n                                              2006.00       NaN\n                                              2007.00       NaN\n                                              2008.00       NaN\n                                              2009.00       NaN\n                                              2010.00       NaN\n                                              2011.00       NaN\n                                              2012.00       NaN\n                                              2014.00       NaN\n                                              2016.00       NaN\n                                              2018.00       NaN\n                                              2019.00       NaN\nBermuda                                       1988.00       NaN\n                                              1991.00       NaN\n                                              1998.00       NaN\n                                              2000.00       NaN\n                                              2003.00       NaN\n                                              2005.00       NaN\nBrazil                                        1994.00       NaN\n                                              1998.00       NaN\n                                              2000.00       NaN\n                                              2001.00       NaN\n                                              2002.00       NaN\n                                              2003.00       NaN\n                                              2004.00       NaN\n                                              2005.00       NaN\n                                              2006.00      1.95\n                                              2007.00       NaN\n                                              2008.00       NaN\n                                              2009.00       NaN\n                                              2010.00       NaN\nBrunei                                        2010.00       NaN\n                                              2011.00       NaN\n                                              2016.00       NaN\nCambodia                                      1998.00       NaN\n                                              2003.00       NaN\n                                              2009.00       NaN\n                                              2010.00       NaN\n                                              2013.00       NaN\nCayman Islands                                1987.00       NaN\n                                              1988.00       NaN\n                                              1998.00       NaN\n                                              1999.00       NaN\n                                              2000.00       NaN\n                                              2002.00       NaN\n                                              2005.00       NaN\n                                              2009.00       NaN\nChile                                         2000.00       NaN\nChina                                         2002.00       NaN\n                                              2003.00       NaN\n                                              2004.00       NaN\n                                              2005.00       NaN\n                                              2006.00       NaN\n                                              2007.00       NaN\n                                              2008.00       NaN\n                                              2009.00       NaN\n                                              2010.00       NaN\n                                              2011.00       NaN\n                                              2012.00       NaN\nColombia                                      1987.00       NaN\n                                              1997.00       NaN\n                                              1998.00       NaN\n                                              1999.00       NaN\n                                              2003.00       NaN\n                                              2004.00       NaN\n                                              2005.00       NaN\n                                              2006.00       NaN\n                                              2007.00       NaN\n                                              2010.00       NaN\n                                              2017.00       NaN\n                                              2018.00       NaN\n                                              2019.00       NaN\nCommonwealth of the Northern Mariana Islands  2001.00       NaN\n                                              2003.00       NaN\nComoro Islands                                1998.00       NaN\n                                              2010.00       NaN\nCosta Rica                                    1983.00       NaN\n                                              1984.00       NaN\n                                              1987.00       NaN\n                                              1994.00       NaN\n                                              1998.00       NaN\n                                              2004.00       NaN\n                                              2009.00       NaN\n                                              2010.00       NaN\nCuba                                          1998.00       NaN\n                                              1999.00       NaN\n                                              2001.00       NaN\n                                              2003.00       NaN\n                                              2004.00       NaN\n                                              2005.00       NaN\n                                              2006.00       NaN\n                                              2007.00       NaN\n                                              2008.00       NaN\n                                              2009.00       NaN\nDjibouti                                      2005.00       NaN\n                                              2008.00       NaN\nDominica                                      2004.00       NaN\n                                              2005.00       NaN\n                                              2006.00       NaN\n                                              2007.00       NaN\n                                              2008.00       NaN\n                                              2009.00       NaN\n                                              2014.00       NaN\n                                              2018.00       NaN\nDominican Republic                            1987.00       NaN\n                                              2003.00      7.77\n                                              2004.00      8.94\n                                              2005.00      9.94\n                                              2006.00      9.19\n                                              2007.00      8.90\n                                              2008.00      8.85\n                                              2009.00      8.97\n                                              2010.00      8.66\n                                              2011.00      8.69\n                                              2012.00       NaN\n                                              2013.00       NaN\n                                              2014.00       NaN\n                                              2018.00     12.27\nEast Timor                                    2004.00       NaN\n                                              2017.00       NaN\nEcuador                                       1983.00       NaN\n                                              1987.00       NaN\n                                              1998.00       NaN\n                                              2009.00     12.64\nEgypt                                         2003.00       NaN\n                                              2004.00       NaN\n                                              2005.00       NaN\n                                              2006.00       NaN\n                                              2007.00       NaN\n                                              2008.00       NaN\n                                              2009.00       NaN\n                                              2010.00       NaN\n                                              2011.00       NaN\n                                              2012.00       NaN\n                                              2013.00       NaN\n                                              2014.00       NaN\n                                              2015.00       NaN\n                                              2016.00       NaN\n                                              2017.00       NaN\n                                              2018.00       NaN\n                                              2019.00       NaN\nEritrea                                       1998.00       NaN\nFederated States of Micronesia                1998.00       NaN\n                                              2002.00       NaN\n                                              2003.00       NaN\n                                              2004.00       NaN\n                                              2005.00       NaN\n                                              2006.00       NaN\n                                              2007.00       NaN\n                                              2008.00       NaN\nFiji                                          1998.00       NaN\n                                              1999.00       NaN\n                                              2000.00       NaN\n                                              2001.00       NaN\n                                              2002.00       NaN\n                                              2003.00       NaN\n                                              2004.00       NaN\n                                              2005.00       NaN\n                                              2006.00       NaN\n                                              2007.00       NaN\n                                              2008.00       NaN\n                                              2009.00       NaN\n                                              2010.00       NaN\n                                              2011.00       NaN\n                                              2012.00       NaN\n                                              2013.00       NaN\n                                              2014.00       NaN\n                                              2015.00       NaN\n                                              2016.00       NaN\n                                              2017.00       NaN\n                                              2018.00       NaN\n                                              2019.00       NaN\nFrance                                        1983.00       NaN\n                                              1986.00       NaN\n                                              1987.00       NaN\n                                              1998.00       NaN\n                                              2001.00       NaN\n                                              2002.00       NaN\n                                              2003.00       NaN\n                                              2004.00       NaN\n                                              2005.00      5.77\n                                              2006.00       NaN\n                                              2007.00      5.18\n                                              2008.00       NaN\n                                              2009.00       NaN\n                                              2010.00      5.47\n                                              2011.00       NaN\n                                              2012.00       NaN\n                                              2013.00      4.95\n                                              2014.00       NaN\n                                              2015.00       NaN\n                                              2016.00       NaN\n                                              2017.00       NaN\n                                              2018.00       NaN\n                                              2019.00       NaN\nFrench Polynesia                              1991.00       NaN\n                                              1994.00       NaN\n                                              1995.00       NaN\n                                              1996.00       NaN\n                                              2000.00       NaN\n                                              2001.00       NaN\n                                              2002.00       NaN\n                                              2003.00       NaN\n                                              2004.00       NaN\n                                              2005.00       NaN\n                                              2006.00       NaN\n                                              2007.00       NaN\n                                              2008.00       NaN\n                                              2009.00       NaN\n                                              2010.00       NaN\n                                              2011.00       NaN\n                                              2012.00       NaN\n                                              2013.00       NaN\n                                              2014.00       NaN\n                                              2015.00       NaN\n                                              2016.00       NaN\n                                              2017.00       NaN\n                                              2018.00       NaN\n                                              2019.00       NaN\nGrenada                                       2010.00       NaN\n                                              2014.00       NaN\n                                              2015.00       NaN\n                                              2016.00       NaN\n                                              2017.00       NaN\n                                              2018.00       NaN\n                                              2019.00       NaN\nGuatemala                                     2006.00       NaN\nHaiti                                         1998.00       NaN\n                                              2003.00       NaN\n                                              2011.00       NaN\n                                              2012.00       NaN\n                                              2013.00      3.87\n                                              2014.00       NaN\n                                              2015.00       NaN\n                                              2016.00       NaN\nHonduras                                      1988.00       NaN\n                                              1998.00       NaN\n                                              2003.00       NaN\n                                              2004.00       NaN\n                                              2005.00      2.59\n                                              2006.00       NaN\n                                              2007.00       NaN\n                                              2008.00       NaN\n                                              2009.00       NaN\n                                              2011.00       NaN\n                                              2015.00       NaN\n                                              2016.00       NaN\nIndia                                         1998.00       NaN\n                                              1999.00       NaN\n                                              2002.00     31.53\n                                              2005.00     32.87\n                                              2006.00     33.82\n                                              2007.00     34.93\n                                              2008.00     34.65\n                                              2010.00     34.49\n                                              2016.00     37.48\nIndonesia                                     1983.00       NaN\n                                              1998.00       NaN\n                                              2002.00       NaN\n                                              2003.00       NaN\n                                              2004.00       NaN\n                                              2005.00       NaN\n                                              2006.00       NaN\n                                              2007.00       NaN\n                                              2008.00       NaN\n                                              2009.00       NaN\n                                              2010.00       NaN\n                                              2011.00       NaN\n                                              2012.00       NaN\n                                              2013.00       NaN\n                                              2014.00       NaN\n                                              2015.00       NaN\n                                              2016.00       NaN\n                                              2017.00       NaN\n                                              2018.00       NaN\n                                              2019.00       NaN\nIran                                          2003.00       NaN\n                                              2004.00       NaN\n                                              2007.00       NaN\n                                              2009.00     16.98\n                                              2012.00     16.74\n                                              2016.00     16.58\n                                              2017.00       NaN\nIsrael                                        1998.00       NaN\nJamaica                                       1987.00       NaN\n                                              1998.00       NaN\n                                              2000.00       NaN\n                                              2003.00       NaN\n                                              2004.00       NaN\n                                              2005.00       NaN\n                                              2006.00       NaN\n                                              2007.00       NaN\n                                              2008.00       NaN\n                                              2009.00       NaN\n                                              2010.00      7.29\n                                              2011.00       NaN\n                                              2012.00       NaN\n                                              2013.00       NaN\n                                              2014.00       NaN\n                                              2015.00       NaN\n                                              2016.00       NaN\n                                              2017.00       NaN\nJapan                                         1983.00       NaN\n                                              1986.00       NaN\n                                              1998.00       NaN\n                                              2001.00     32.61\n                                              2003.00     32.30\n                                              2004.00     33.21\n                                              2005.00     33.50\n                                              2006.00     33.32\n                                              2007.00     33.20\n                                              2008.00     32.49\n                                              2009.00     32.59\n                                              2010.00     32.81\n                                              2011.00     32.00\n                                              2012.00     32.19\n                                              2013.00     32.65\n                                              2014.00     32.30\n                                              2015.00       NaN\n                                              2016.00       NaN\nJordan                                        2008.00      9.54\nKenya                                         1998.00       NaN\n                                              2001.00       NaN\n                                              2003.00       NaN\n                                              2004.00       NaN\n                                              2005.00       NaN\n                                              2007.00       NaN\n                                              2008.00       NaN\n                                              2009.00       NaN\n                                              2010.00       NaN\n                                              2016.00       NaN\nKiribati                                      2004.00       NaN\n                                              2011.00       NaN\nKuwait                                        2000.00       NaN\n                                              2006.00       NaN\nMadagascar                                    1998.00       NaN\n                                              2001.00      2.18\n                                              2002.00      2.18\n                                              2003.00      2.18\n                                              2004.00      2.18\n                                              2005.00      2.18\n                                              2006.00      2.18\n                                              2007.00      2.18\n                                              2008.00       NaN\n                                              2009.00       NaN\n                                              2010.00       NaN\n                                              2011.00       NaN\n                                              2016.00       NaN\n                                              2019.00       NaN\nMalaysia                                      1998.00       NaN\n                                              2002.00       NaN\n                                              2003.00       NaN\n                                              2004.00       NaN\n                                              2005.00       NaN\n                                              2006.00       NaN\n                                              2007.00       NaN\n                                              2008.00       NaN\n                                              2009.00       NaN\n                                              2010.00       NaN\n                                              2011.00       NaN\n                                              2012.00       NaN\n                                              2013.00      5.51\n                                              2014.00      5.48\n                                              2015.00      5.16\n                                              2016.00      5.16\n                                              2017.00      5.16\n                                              2018.00      5.16\n                                              2019.00      5.16\nMaldives                                      1987.00       NaN\n                                              1998.00       NaN\n                                              2003.00       NaN\n                                              2005.00       NaN\n                                              2006.00       NaN\n                                              2007.00       NaN\n                                              2008.00       NaN\n                                              2009.00       NaN\n                                              2010.00       NaN\n                                              2011.00       NaN\n                                              2012.00       NaN\n                                              2013.00       NaN\n                                              2014.00       NaN\n                                              2015.00       NaN\n                                              2016.00       NaN\n                                              2017.00       NaN\n                                              2018.00       NaN\n                                              2019.00       NaN\nMarshall Islands                              1992.00       NaN\n                                              1993.00       NaN\n                                              2002.00       NaN\n                                              2005.00       NaN\n                                              2006.00       NaN\n                                              2012.00       NaN\n                                              2013.00       NaN\nMauritius                                     1998.00       NaN\n                                              2001.00       NaN\n                                              2002.00     21.00\n                                              2003.00     22.22\n                                              2004.00     21.43\n                                              2005.00     21.88\n                                              2006.00     22.34\n                                              2009.00     23.08\n                                              2010.00     21.98\n                                              2016.00     19.53\nMexico                                        1987.00       NaN\n                                              1997.00       NaN\n                                              1998.00       NaN\n                                              1999.00       NaN\n                                              2000.00       NaN\n                                              2003.00      1.91\n                                              2004.00      1.95\n                                              2005.00      5.05\n                                              2006.00      5.07\n                                              2007.00      4.98\n                                              2008.00      5.43\n                                              2009.00      5.48\n                                              2010.00      5.81\n                                              2011.00      6.38\n                                              2012.00      5.69\nMozambique                                    1999.00       NaN\n                                              2005.00       NaN\n                                              2006.00       NaN\n                                              2008.00       NaN\n                                              2009.00       NaN\n                                              2010.00       NaN\nMyanmar                                       2003.00       NaN\n                                              2004.00       NaN\n                                              2005.00       NaN\n                                              2013.00       NaN\nNetherlands Antilles                          1987.00       NaN\n                                              1992.00       NaN\n                                              1998.00       NaN\n                                              1999.00       NaN\n                                              2000.00       NaN\n                                              2003.00       NaN\n                                              2004.00       NaN\n                                              2005.00      4.80\n                                              2006.00       NaN\n                                              2007.00     10.55\n                                              2008.00       NaN\n                                              2009.00       NaN\n                                              2010.00      7.32\n                                              2011.00       NaN\n                                              2012.00       NaN\n                                              2013.00      5.51\n                                              2014.00       NaN\n                                              2016.00     11.07\nNew Caledonia                                 1983.00       NaN\n                                              2003.00       NaN\n                                              2004.00       NaN\n                                              2005.00       NaN\n                                              2006.00       NaN\n                                              2007.00       NaN\n                                              2008.00       NaN\n                                              2009.00       NaN\n                                              2010.00       NaN\n                                              2011.00       NaN\nNicaragua                                     2003.00       NaN\nOman                                          1990.00       NaN\n                                              1998.00       NaN\n                                              2002.00       NaN\n                                              2009.00       NaN\n                                              2010.00       NaN\n                                              2011.00       NaN\n                                              2012.00       NaN\n                                              2013.00      4.78\n                                              2014.00      4.84\n                                              2015.00      5.77\n                                              2016.00      5.89\n                                              2017.00      6.95\nPalau                                         1998.00       NaN\n                                              1999.00       NaN\n                                              2002.00       NaN\n                                              2003.00       NaN\n                                              2006.00       NaN\nPanama                                        1983.00       NaN\n                                              1985.00       NaN\n                                              1987.00       NaN\n                                              1993.00       NaN\n                                              1997.00       NaN\n                                              1998.00       NaN\n                                              2002.00       NaN\n                                              2005.00       NaN\n                                              2006.00       NaN\n                                              2012.00      0.94\nPapua New Guinea                              1996.00       NaN\n                                              1998.00       NaN\n                                              1999.00       NaN\n                                              2000.00       NaN\n                                              2004.00       NaN\n                                              2006.00       NaN\n                                              2008.00       NaN\n                                              2009.00       NaN\nPhilippines                                   1994.00       NaN\n                                              1998.00       NaN\n                                              2000.00       NaN\n                                              2003.00       NaN\n                                              2004.00       NaN\n                                              2005.00       NaN\n                                              2006.00      8.33\n                                              2007.00      8.23\n                                              2008.00      9.07\n                                              2009.00      9.40\n                                              2010.00      9.11\n                                              2011.00      9.27\n                                              2012.00       NaN\n                                              2013.00       NaN\n                                              2014.00       NaN\n                                              2015.00       NaN\n                                              2016.00       NaN\n                                              2017.00       NaN\n                                              2018.00       NaN\n                                              2019.00       NaN\nSaint Kitts and Nevis                         2007.00       NaN\n                                              2013.00       NaN\n                                              2014.00       NaN\n                                              2015.00       NaN\n                                              2017.00       NaN\n                                              2018.00       NaN\n                                              2019.00       NaN\nSaint Lucia                                   2003.00       NaN\n                                              2004.00       NaN\n                                              2005.00       NaN\n                                              2006.00       NaN\n                                              2007.00       NaN\n                                              2008.00       NaN\n                                              2009.00       NaN\n                                              2010.00       NaN\n                                              2014.00       NaN\nSaint Vincent and the Grenadines              1999.00       NaN\n                                              2003.00       NaN\n                                              2004.00       NaN\n                                              2005.00       NaN\n                                              2007.00       NaN\nSamoa                                         1998.00       NaN\n                                              2002.00       NaN\nSao Tome & Principe                           2017.00       NaN\n                                              2018.00       NaN\nSaudi Arabia                                  1998.00       NaN\n                                              2008.00       NaN\n                                              2009.00       NaN\n                                              2010.00       NaN\nSeychelles                                    1998.00       NaN\n                                              2005.00       NaN\nSingapore                                     1998.00       NaN\nSolomon Islands                               2000.00       NaN\n                                              2005.00       NaN\n                                              2006.00       NaN\n                                              2007.00       NaN\n                                              2008.00       NaN\n                                              2009.00       NaN\n                                              2010.00       NaN\n                                              2011.00       NaN\n                                              2012.00       NaN\n                                              2013.00       NaN\n                                              2016.00       NaN\nSouth Africa                                  2000.00       NaN\n                                              2001.00       NaN\n                                              2005.00       NaN\n                                              2007.00       NaN\nSri Lanka                                     1998.00       NaN\n                                              2002.00       NaN\n                                              2003.00       NaN\n                                              2004.00       NaN\n                                              2005.00       NaN\n                                              2010.00       NaN\nSudan                                         2004.00       NaN\n                                              2009.00       NaN\nTanzania                                      1993.00       NaN\n                                              1998.00       NaN\n                                              2003.00       NaN\n                                              2004.00       NaN\n                                              2005.00       NaN\n                                              2006.00       NaN\n                                              2007.00       NaN\n                                              2008.00       NaN\n                                              2010.00       NaN\n                                              2016.00       NaN\nThailand                                      1990.00       NaN\n                                              1991.00       NaN\n                                              1994.00       NaN\n                                              1995.00       NaN\n                                              1997.00       NaN\n                                              1998.00       NaN\n                                              2000.00       NaN\n                                              2002.00       NaN\n                                              2003.00       NaN\n                                              2004.00       NaN\n                                              2005.00       NaN\n                                              2006.00       NaN\n                                              2007.00       NaN\n                                              2008.00       NaN\n                                              2009.00       NaN\n                                              2010.00       NaN\n                                              2011.00       NaN\n                                              2012.00       NaN\n                                              2013.00       NaN\n                                              2014.00       NaN\n                                              2015.00       NaN\n                                              2016.00       NaN\n                                              2017.00       NaN\n                                              2018.00       NaN\n                                              2019.00       NaN\nTonga                                         2000.00       NaN\n                                              2013.00       NaN\nTrinidad and Tobago                           1987.00       NaN\n                                              2005.00       NaN\n                                              2007.00       NaN\n                                              2009.00       NaN\n                                              2015.00       NaN\n                                              2016.00       NaN\n                                              2017.00       NaN\n                                              2018.00       NaN\n                                              2019.00       NaN\nTurks and Caicos                              1987.00       NaN\n                                              1999.00       NaN\n                                              2004.00       NaN\n                                              2005.00       NaN\n                                              2007.00       NaN\n                                              2008.00       NaN\n                                              2009.00       NaN\n                                              2010.00       NaN\n                                              2011.00       NaN\n                                              2012.00       NaN\n                                              2013.00       NaN\n                                              2014.00       NaN\n                                              2015.00       NaN\n                                              2016.00       NaN\n                                              2017.00       NaN\n                                              2018.00       NaN\nTuvalu                                        2002.00       NaN\n                                              2004.00       NaN\nUnited Arab Emirates                          1996.00       NaN\n                                              1998.00       NaN\n                                              2000.00       NaN\n                                              2002.00       NaN\n                                              2004.00       NaN\n                                              2007.00       NaN\n                                              2009.00       NaN\n                                              2010.00     19.37\n                                              2011.00     18.30\n                                              2012.00     12.77\n                                              2013.00     20.93\n                                              2019.00     23.66\nUnited Kingdom                                1987.00       NaN\n                                              1998.00       NaN\n                                              2003.00      1.34\n                                              2004.00       NaN\n                                              2005.00      1.23\n                                              2006.00       NaN\n                                              2007.00      0.78\n                                              2008.00       NaN\n                                              2009.00       NaN\n                                              2010.00      0.39\n                                              2011.00       NaN\n                                              2012.00       NaN\nUnited States                                 1986.00       NaN\n                                              1987.00       NaN\n                                              1993.00       NaN\n                                              1994.00       NaN\n                                              1996.00       NaN\n                                              1997.00       NaN\n                                              1998.00       NaN\n                                              1999.00       NaN\n                                              2000.00       NaN\n                                              2001.00       NaN\n                                              2002.00      5.42\n                                              2003.00       NaN\n                                              2004.00       NaN\n                                              2005.00       NaN\n                                              2006.00       NaN\n                                              2007.00      5.55\n                                              2008.00      5.41\n                                              2009.00       NaN\n                                              2010.00       NaN\n                                              2011.00       NaN\n                                              2012.00      5.60\n                                              2013.00       NaN\n                                              2014.00       NaN\n                                              2015.00       NaN\n                                              2016.00       NaN\n                                              2017.00      5.79\n                                              2018.00       NaN\n                                              2019.00       NaN\nVanuatu                                       1998.00       NaN\n                                              2004.00       NaN\n                                              2008.00       NaN\n                                              2011.00       NaN\n                                              2012.00       NaN\nVenezuela                                     1987.00       NaN\n                                              1999.00       NaN\n                                              2002.00       NaN\n                                              2004.00       NaN\n                                              2005.00       NaN\n                                              2006.00       NaN\n                                              2010.00       NaN\nVietnam                                       1998.00       NaN\n                                              2003.00       NaN\n                                              2004.00       NaN\n                                              2005.00       NaN\n                                              2006.00       NaN\n                                              2010.00       NaN\nYemen                                         2008.00       NaN\nName: AG.LND.IRIG.AG.ZS, dtype: float64"
     },
     "metadata": {}
    }
   ],
   "outputs_reference": "s3:deepnote-cell-outputs-production/53edee1d-d893-4722-808c-51dc1d4fa431",
   "content_dependencies": null
  },
  {
   "cell_type": "code",
   "metadata": {
    "source_hash": null,
    "execution_start": 1710020019172,
    "execution_millis": 81,
    "deepnote_table_state": {
     "sortBy": [],
     "filters": [],
     "pageSize": 10,
     "pageIndex": 24
    },
    "deepnote_table_loading": false,
    "deepnote_to_be_reexecuted": false,
    "deepnote_app_block_visible": true,
    "cell_id": "a138b5665f244f4ea87ce5baec3024ce",
    "deepnote_cell_type": "code"
   },
   "source": [
    "df[(df['Series_Code'] == 'AG.LND.IRIG.AG.ZS') & (df['Country_Name'] == 'Malaysia')][columns_years].mean(axis=1)"
   ],
   "block_group": "9cec0a8405f44e9bb5a1f98b8266c263",
   "execution_count": null,
   "outputs": [
    {
     "output_type": "execute_result",
     "execution_count": 41,
     "data": {
      "text/plain": "178379   5.24\ndtype: float64"
     },
     "metadata": {}
    }
   ],
   "outputs_reference": "dbtable:cell_outputs/4e31a731-3a98-40a9-bb24-de3310355103",
   "content_dependencies": null
  },
  {
   "cell_type": "code",
   "metadata": {
    "source_hash": null,
    "execution_start": 1710022876581,
    "execution_millis": 21,
    "deepnote_to_be_reexecuted": false,
    "deepnote_app_block_visible": true,
    "cell_id": "58e9510bab4b4bdd8fe8770f29994c46",
    "deepnote_cell_type": "code"
   },
   "source": [
    "# Missing AG.CON.FERT.PT.ZS values\n",
    "map_fert_pct = {\n",
    "               'ATG': 7.69, 'BHS': 8.33, 'BRB': 39.00, 'BLZ': 3.48, 'BMU': 0, \n",
    "               'KHM': 9.17, 'CYM': 7.69, 'CHN': 51.48, 'COM': 0.13, 'CRI': 18.14,\n",
    "               'CUB': 15.68, 'DJI': 100, 'DMA': 0.87, 'EGY': 100, 'ERI': 5.49,\n",
    "               'FJI': 1.59, 'PYF': 3.88, 'IDN': 41.54, 'KEN': 2.34, 'KIR': 0,\n",
    "               'KWT': 67.6, 'MDV': 0, 'MHL': 0, 'FSM': 0, 'NCL': 0, 'NIC': 10.89,\n",
    "               'MNP': 0, 'PLW': 0, 'PNG': 0, 'WSM': 0, 'STP': 9.7, 'SGP': 0,\n",
    "               'SLB': 0.04, 'LKA': 29.23, 'KNA': 0.49, 'LCA': 32.26,\n",
    "               'VCT': 5.98, 'TZA': 2.32, 'THA': 33.76, 'TON': 0, 'TCA': 0, \n",
    "               'TUV': 0, 'VUT': 0, 'VNM': 48.67, 'YEM': 41.8\n",
    "               }"
   ],
   "block_group": "5fbbe185ad2a44cfaea7dda1f6458f10",
   "execution_count": null,
   "outputs": [],
   "outputs_reference": null,
   "content_dependencies": null
  },
  {
   "cell_type": "code",
   "metadata": {
    "deepnote_app_block_visible": true,
    "cell_id": "edd8e6f4813b4dda9be899ff2c2643b6",
    "deepnote_cell_type": "code"
   },
   "source": [],
   "block_group": "4b9f880736224cfda50a7c8aabd3081f",
   "execution_count": null,
   "outputs": [],
   "outputs_reference": null,
   "content_dependencies": null
  },
  {
   "cell_type": "code",
   "metadata": {
    "deepnote_app_block_visible": true,
    "cell_id": "97328740c79d4b2fb6c3d7e048c2873e",
    "deepnote_cell_type": "code"
   },
   "source": [],
   "block_group": "95af70a19dea4a3a9865a504ab475317",
   "execution_count": null,
   "outputs": [],
   "outputs_reference": null,
   "content_dependencies": null
  },
  {
   "cell_type": "code",
   "metadata": {
    "source_hash": null,
    "execution_start": 1710021619046,
    "execution_millis": 187,
    "deepnote_to_be_reexecuted": false,
    "deepnote_app_block_visible": true,
    "cell_id": "4c1f2325f5c84787a048544c70069129",
    "deepnote_cell_type": "code"
   },
   "source": [
    "fert.sample(10)"
   ],
   "block_group": "3d7e7f67e2bf4c92a3f4228d1e6505dd",
   "execution_count": null,
   "outputs": [
    {
     "output_type": "execute_result",
     "execution_count": 62,
     "data": {
      "application/vnd.deepnote.dataframe.v3+json": {
       "column_count": 13,
       "row_count": 10,
       "columns": [
        {
         "name": "Area Code",
         "dtype": "int64",
         "stats": {
          "unique_count": 10,
          "nan_count": 0,
          "min": "9",
          "max": "5504",
          "histogram": [
           {
            "bin_start": 9,
            "bin_end": 558.5,
            "count": 9
           },
           {
            "bin_start": 558.5,
            "bin_end": 1108,
            "count": 0
           },
           {
            "bin_start": 1108,
            "bin_end": 1657.5,
            "count": 0
           },
           {
            "bin_start": 1657.5,
            "bin_end": 2207,
            "count": 0
           },
           {
            "bin_start": 2207,
            "bin_end": 2756.5,
            "count": 0
           },
           {
            "bin_start": 2756.5,
            "bin_end": 3306,
            "count": 0
           },
           {
            "bin_start": 3306,
            "bin_end": 3855.5,
            "count": 0
           },
           {
            "bin_start": 3855.5,
            "bin_end": 4405,
            "count": 0
           },
           {
            "bin_start": 4405,
            "bin_end": 4954.5,
            "count": 0
           },
           {
            "bin_start": 4954.5,
            "bin_end": 5504,
            "count": 1
           }
          ]
         }
        },
        {
         "name": "Area Code (M49)",
         "dtype": "object",
         "stats": {
          "unique_count": 10,
          "nan_count": 0,
          "categories": [
           {
            "name": "'620",
            "count": 1
           },
           {
            "name": "'894",
            "count": 1
           },
           {
            "name": "8 others",
            "count": 8
           }
          ]
         }
        },
        {
         "name": "Area",
         "dtype": "object",
         "stats": {
          "unique_count": 10,
          "nan_count": 0,
          "categories": [
           {
            "name": "Portugal",
            "count": 1
           },
           {
            "name": "Zambia",
            "count": 1
           },
           {
            "name": "8 others",
            "count": 8
           }
          ]
         }
        },
        {
         "name": "Item Code",
         "dtype": "int64",
         "stats": {
          "unique_count": 3,
          "nan_count": 0,
          "min": "3102",
          "max": "3104",
          "histogram": [
           {
            "bin_start": 3102,
            "bin_end": 3102.2,
            "count": 5
           },
           {
            "bin_start": 3102.2,
            "bin_end": 3102.4,
            "count": 0
           },
           {
            "bin_start": 3102.4,
            "bin_end": 3102.6,
            "count": 0
           },
           {
            "bin_start": 3102.6,
            "bin_end": 3102.8,
            "count": 0
           },
           {
            "bin_start": 3102.8,
            "bin_end": 3103,
            "count": 0
           },
           {
            "bin_start": 3103,
            "bin_end": 3103.2,
            "count": 2
           },
           {
            "bin_start": 3103.2,
            "bin_end": 3103.4,
            "count": 0
           },
           {
            "bin_start": 3103.4,
            "bin_end": 3103.6,
            "count": 0
           },
           {
            "bin_start": 3103.6,
            "bin_end": 3103.8,
            "count": 0
           },
           {
            "bin_start": 3103.8,
            "bin_end": 3104,
            "count": 3
           }
          ]
         }
        },
        {
         "name": "Item",
         "dtype": "object",
         "stats": {
          "unique_count": 3,
          "nan_count": 0,
          "categories": [
           {
            "name": "Nutrient nitrogen N (total)",
            "count": 5
           },
           {
            "name": "Nutrient potash K2O (total)",
            "count": 3
           },
           {
            "name": "Nutrient phosphate P2O5 (total)",
            "count": 2
           }
          ]
         }
        },
        {
         "name": "Element Code",
         "dtype": "int64",
         "stats": {
          "unique_count": 6,
          "nan_count": 0,
          "min": "5157",
          "max": "5910",
          "histogram": [
           {
            "bin_start": 5157,
            "bin_end": 5232.3,
            "count": 8
           },
           {
            "bin_start": 5232.3,
            "bin_end": 5307.6,
            "count": 0
           },
           {
            "bin_start": 5307.6,
            "bin_end": 5382.9,
            "count": 0
           },
           {
            "bin_start": 5382.9,
            "bin_end": 5458.2,
            "count": 0
           },
           {
            "bin_start": 5458.2,
            "bin_end": 5533.5,
            "count": 0
           },
           {
            "bin_start": 5533.5,
            "bin_end": 5608.8,
            "count": 0
           },
           {
            "bin_start": 5608.8,
            "bin_end": 5684.1,
            "count": 1
           },
           {
            "bin_start": 5684.1,
            "bin_end": 5759.4,
            "count": 0
           },
           {
            "bin_start": 5759.4,
            "bin_end": 5834.7,
            "count": 0
           },
           {
            "bin_start": 5834.7,
            "bin_end": 5910,
            "count": 1
           }
          ]
         }
        },
        {
         "name": "Element",
         "dtype": "object",
         "stats": {
          "unique_count": 6,
          "nan_count": 0,
          "categories": [
           {
            "name": "Use per value of agricultural production",
            "count": 4
           },
           {
            "name": "Use per capita",
            "count": 2
           },
           {
            "name": "4 others",
            "count": 4
           }
          ]
         }
        },
        {
         "name": "Year Code",
         "dtype": "int64",
         "stats": {
          "unique_count": 10,
          "nan_count": 0,
          "min": "1969",
          "max": "2020",
          "histogram": [
           {
            "bin_start": 1969,
            "bin_end": 1974.1,
            "count": 1
           },
           {
            "bin_start": 1974.1,
            "bin_end": 1979.2,
            "count": 0
           },
           {
            "bin_start": 1979.2,
            "bin_end": 1984.3,
            "count": 2
           },
           {
            "bin_start": 1984.3,
            "bin_end": 1989.4,
            "count": 1
           },
           {
            "bin_start": 1989.4,
            "bin_end": 1994.5,
            "count": 0
           },
           {
            "bin_start": 1994.5,
            "bin_end": 1999.6,
            "count": 2
           },
           {
            "bin_start": 1999.6,
            "bin_end": 2004.7,
            "count": 0
           },
           {
            "bin_start": 2004.7,
            "bin_end": 2009.8,
            "count": 2
           },
           {
            "bin_start": 2009.8,
            "bin_end": 2014.9,
            "count": 0
           },
           {
            "bin_start": 2014.9,
            "bin_end": 2020,
            "count": 2
           }
          ]
         }
        },
        {
         "name": "Year",
         "dtype": "int64",
         "stats": {
          "unique_count": 10,
          "nan_count": 0,
          "min": "1969",
          "max": "2020",
          "histogram": [
           {
            "bin_start": 1969,
            "bin_end": 1974.1,
            "count": 1
           },
           {
            "bin_start": 1974.1,
            "bin_end": 1979.2,
            "count": 0
           },
           {
            "bin_start": 1979.2,
            "bin_end": 1984.3,
            "count": 2
           },
           {
            "bin_start": 1984.3,
            "bin_end": 1989.4,
            "count": 1
           },
           {
            "bin_start": 1989.4,
            "bin_end": 1994.5,
            "count": 0
           },
           {
            "bin_start": 1994.5,
            "bin_end": 1999.6,
            "count": 2
           },
           {
            "bin_start": 1999.6,
            "bin_end": 2004.7,
            "count": 0
           },
           {
            "bin_start": 2004.7,
            "bin_end": 2009.8,
            "count": 2
           },
           {
            "bin_start": 2009.8,
            "bin_end": 2014.9,
            "count": 0
           },
           {
            "bin_start": 2014.9,
            "bin_end": 2020,
            "count": 2
           }
          ]
         }
        },
        {
         "name": "Unit",
         "dtype": "object",
         "stats": {
          "unique_count": 4,
          "nan_count": 0,
          "categories": [
           {
            "name": "kg/1000 Int.$",
            "count": 4
           },
           {
            "name": "t",
            "count": 3
           },
           {
            "name": "2 others",
            "count": 3
           }
          ]
         }
        },
        {
         "name": "Value",
         "dtype": "float64",
         "stats": {
          "unique_count": 10,
          "nan_count": 0,
          "min": "1.41",
          "max": "705000.0",
          "histogram": [
           {
            "bin_start": 1.41,
            "bin_end": 70501.269,
            "count": 8
           },
           {
            "bin_start": 70501.269,
            "bin_end": 141001.128,
            "count": 1
           },
           {
            "bin_start": 141001.128,
            "bin_end": 211500.987,
            "count": 0
           },
           {
            "bin_start": 211500.987,
            "bin_end": 282000.84599999996,
            "count": 0
           },
           {
            "bin_start": 282000.84599999996,
            "bin_end": 352500.70499999996,
            "count": 0
           },
           {
            "bin_start": 352500.70499999996,
            "bin_end": 423000.56399999995,
            "count": 0
           },
           {
            "bin_start": 423000.56399999995,
            "bin_end": 493500.42299999995,
            "count": 0
           },
           {
            "bin_start": 493500.42299999995,
            "bin_end": 564000.282,
            "count": 0
           },
           {
            "bin_start": 564000.282,
            "bin_end": 634500.141,
            "count": 0
           },
           {
            "bin_start": 634500.141,
            "bin_end": 705000,
            "count": 1
           }
          ]
         }
        },
        {
         "name": "Flag",
         "dtype": "object",
         "stats": {
          "unique_count": 3,
          "nan_count": 0,
          "categories": [
           {
            "name": "E",
            "count": 8
           },
           {
            "name": "A",
            "count": 1
           },
           {
            "name": "X",
            "count": 1
           }
          ]
         }
        },
        {
         "name": "Note",
         "dtype": "object",
         "stats": {
          "unique_count": 1,
          "nan_count": 9,
          "categories": [
           {
            "name": "Official data from questionnaire",
            "count": 1
           },
           {
            "name": "Missing",
            "count": 9
           }
          ]
         }
        },
        {
         "name": "_deepnote_index_column",
         "dtype": "int64"
        }
       ],
       "rows": [
        {
         "Area Code": 174,
         "Area Code (M49)": "'620",
         "Area": "Portugal",
         "Item Code": 3103,
         "Item": "Nutrient phosphate P2O5 (total)",
         "Element Code": 5157,
         "Element": "Agricultural Use",
         "Year Code": 1988,
         "Year": 1988,
         "Unit": "t",
         "Value": 89100,
         "Flag": "A",
         "Note": "Official data from questionnaire",
         "_deepnote_index_column": 131940
        },
        {
         "Area Code": 251,
         "Area Code (M49)": "'894",
         "Area": "Zambia",
         "Item Code": 3104,
         "Item": "Nutrient potash K2O (total)",
         "Element Code": 5172,
         "Element": "Use per capita",
         "Year Code": 2020,
         "Year": 2020,
         "Unit": "kg/cap",
         "Value": 2.83,
         "Flag": "E",
         "Note": "nan",
         "_deepnote_index_column": 180137
        },
        {
         "Area Code": 106,
         "Area Code (M49)": "'380",
         "Area": "Italy",
         "Item Code": 3102,
         "Item": "Nutrient nitrogen N (total)",
         "Element Code": 5173,
         "Element": "Use per value of agricultural production",
         "Year Code": 1980,
         "Year": 1980,
         "Unit": "kg/1000 Int.$",
         "Value": 21.49,
         "Flag": "E",
         "Note": "nan",
         "_deepnote_index_column": 84086
        },
        {
         "Area Code": 248,
         "Area Code (M49)": "'890",
         "Area": "Yugoslav SFR",
         "Item Code": 3102,
         "Item": "Nutrient nitrogen N (total)",
         "Element Code": 5172,
         "Element": "Use per capita",
         "Year Code": 1982,
         "Year": 1982,
         "Unit": "kg/cap",
         "Value": 22.97,
         "Flag": "E",
         "Note": "nan",
         "_deepnote_index_column": 178735
        },
        {
         "Area Code": 225,
         "Area Code (M49)": "'784",
         "Area": "United Arab Emirates",
         "Item Code": 3102,
         "Item": "Nutrient nitrogen N (total)",
         "Element Code": 5610,
         "Element": "Import Quantity",
         "Year Code": 2007,
         "Year": 2007,
         "Unit": "t",
         "Value": 12979.87,
         "Flag": "E",
         "Note": "nan",
         "_deepnote_index_column": 168157
        },
        {
         "Area Code": 5504,
         "Area Code (M49)": "'061",
         "Area": "Polynesia",
         "Item Code": 3104,
         "Item": "Nutrient potash K2O (total)",
         "Element Code": 5173,
         "Element": "Use per value of agricultural production",
         "Year Code": 1995,
         "Year": 1995,
         "Unit": "kg/1000 Int.$",
         "Value": 1.52,
         "Flag": "E",
         "Note": "nan",
         "_deepnote_index_column": 213677
        },
        {
         "Area Code": 159,
         "Area Code (M49)": "'566",
         "Area": "Nigeria",
         "Item Code": 3104,
         "Item": "Nutrient potash K2O (total)",
         "Element Code": 5173,
         "Element": "Use per value of agricultural production",
         "Year Code": 2017,
         "Year": 2017,
         "Unit": "kg/1000 Int.$",
         "Value": 2.31,
         "Flag": "E",
         "Note": "nan",
         "_deepnote_index_column": 119809
        },
        {
         "Area Code": 9,
         "Area Code (M49)": "'032",
         "Area": "Argentina",
         "Item Code": 3102,
         "Item": "Nutrient nitrogen N (total)",
         "Element Code": 5159,
         "Element": "Use per area of cropland",
         "Year Code": 1969,
         "Year": 1969,
         "Unit": "kg/ha",
         "Value": 1.41,
         "Flag": "E",
         "Note": "nan",
         "_deepnote_index_column": 5053
        },
        {
         "Area Code": 222,
         "Area Code (M49)": "'788",
         "Area": "Tunisia",
         "Item Code": 3103,
         "Item": "Nutrient phosphate P2O5 (total)",
         "Element Code": 5910,
         "Element": "Export Quantity",
         "Year Code": 1996,
         "Year": 1996,
         "Unit": "t",
         "Value": 705000,
         "Flag": "X",
         "Note": "nan",
         "_deepnote_index_column": 163749
        },
        {
         "Area Code": 44,
         "Area Code (M49)": "'170",
         "Area": "Colombia",
         "Item Code": 3102,
         "Item": "Nutrient nitrogen N (total)",
         "Element Code": 5173,
         "Element": "Use per value of agricultural production",
         "Year Code": 2009,
         "Year": 2009,
         "Unit": "kg/1000 Int.$",
         "Value": 19.35,
         "Flag": "E",
         "Note": "nan",
         "_deepnote_index_column": 36259
        }
       ]
      },
      "text/plain": "        Area Code Area Code (M49)                  Area  Item Code  \\\n131940        174            '620              Portugal       3103   \n180137        251            '894                Zambia       3104   \n84086         106            '380                 Italy       3102   \n178735        248            '890          Yugoslav SFR       3102   \n168157        225            '784  United Arab Emirates       3102   \n213677       5504            '061             Polynesia       3104   \n119809        159            '566               Nigeria       3104   \n5053            9            '032             Argentina       3102   \n163749        222            '788               Tunisia       3103   \n36259          44            '170              Colombia       3102   \n\n                                   Item  Element Code  \\\n131940  Nutrient phosphate P2O5 (total)          5157   \n180137      Nutrient potash K2O (total)          5172   \n84086       Nutrient nitrogen N (total)          5173   \n178735      Nutrient nitrogen N (total)          5172   \n168157      Nutrient nitrogen N (total)          5610   \n213677      Nutrient potash K2O (total)          5173   \n119809      Nutrient potash K2O (total)          5173   \n5053        Nutrient nitrogen N (total)          5159   \n163749  Nutrient phosphate P2O5 (total)          5910   \n36259       Nutrient nitrogen N (total)          5173   \n\n                                         Element  Year Code  Year  \\\n131940                          Agricultural Use       1988  1988   \n180137                            Use per capita       2020  2020   \n84086   Use per value of agricultural production       1980  1980   \n178735                            Use per capita       1982  1982   \n168157                           Import Quantity       2007  2007   \n213677  Use per value of agricultural production       1995  1995   \n119809  Use per value of agricultural production       2017  2017   \n5053                    Use per area of cropland       1969  1969   \n163749                           Export Quantity       1996  1996   \n36259   Use per value of agricultural production       2009  2009   \n\n                 Unit     Value Flag                              Note  \n131940              t  89100.00    A  Official data from questionnaire  \n180137         kg/cap      2.83    E                               NaN  \n84086   kg/1000 Int.$     21.49    E                               NaN  \n178735         kg/cap     22.97    E                               NaN  \n168157              t  12979.87    E                               NaN  \n213677  kg/1000 Int.$      1.52    E                               NaN  \n119809  kg/1000 Int.$      2.31    E                               NaN  \n5053            kg/ha      1.41    E                               NaN  \n163749              t 705000.00    X                               NaN  \n36259   kg/1000 Int.$     19.35    E                               NaN  ",
      "text/html": "<div>\n<style scoped>\n    .dataframe tbody tr th:only-of-type {\n        vertical-align: middle;\n    }\n\n    .dataframe tbody tr th {\n        vertical-align: top;\n    }\n\n    .dataframe thead th {\n        text-align: right;\n    }\n</style>\n<table border=\"1\" class=\"dataframe\">\n  <thead>\n    <tr style=\"text-align: right;\">\n      <th></th>\n      <th>Area Code</th>\n      <th>Area Code (M49)</th>\n      <th>Area</th>\n      <th>Item Code</th>\n      <th>Item</th>\n      <th>Element Code</th>\n      <th>Element</th>\n      <th>Year Code</th>\n      <th>Year</th>\n      <th>Unit</th>\n      <th>Value</th>\n      <th>Flag</th>\n      <th>Note</th>\n    </tr>\n  </thead>\n  <tbody>\n    <tr>\n      <th>131940</th>\n      <td>174</td>\n      <td>'620</td>\n      <td>Portugal</td>\n      <td>3103</td>\n      <td>Nutrient phosphate P2O5 (total)</td>\n      <td>5157</td>\n      <td>Agricultural Use</td>\n      <td>1988</td>\n      <td>1988</td>\n      <td>t</td>\n      <td>89100.00</td>\n      <td>A</td>\n      <td>Official data from questionnaire</td>\n    </tr>\n    <tr>\n      <th>180137</th>\n      <td>251</td>\n      <td>'894</td>\n      <td>Zambia</td>\n      <td>3104</td>\n      <td>Nutrient potash K2O (total)</td>\n      <td>5172</td>\n      <td>Use per capita</td>\n      <td>2020</td>\n      <td>2020</td>\n      <td>kg/cap</td>\n      <td>2.83</td>\n      <td>E</td>\n      <td>NaN</td>\n    </tr>\n    <tr>\n      <th>84086</th>\n      <td>106</td>\n      <td>'380</td>\n      <td>Italy</td>\n      <td>3102</td>\n      <td>Nutrient nitrogen N (total)</td>\n      <td>5173</td>\n      <td>Use per value of agricultural production</td>\n      <td>1980</td>\n      <td>1980</td>\n      <td>kg/1000 Int.$</td>\n      <td>21.49</td>\n      <td>E</td>\n      <td>NaN</td>\n    </tr>\n    <tr>\n      <th>178735</th>\n      <td>248</td>\n      <td>'890</td>\n      <td>Yugoslav SFR</td>\n      <td>3102</td>\n      <td>Nutrient nitrogen N (total)</td>\n      <td>5172</td>\n      <td>Use per capita</td>\n      <td>1982</td>\n      <td>1982</td>\n      <td>kg/cap</td>\n      <td>22.97</td>\n      <td>E</td>\n      <td>NaN</td>\n    </tr>\n    <tr>\n      <th>168157</th>\n      <td>225</td>\n      <td>'784</td>\n      <td>United Arab Emirates</td>\n      <td>3102</td>\n      <td>Nutrient nitrogen N (total)</td>\n      <td>5610</td>\n      <td>Import Quantity</td>\n      <td>2007</td>\n      <td>2007</td>\n      <td>t</td>\n      <td>12979.87</td>\n      <td>E</td>\n      <td>NaN</td>\n    </tr>\n    <tr>\n      <th>213677</th>\n      <td>5504</td>\n      <td>'061</td>\n      <td>Polynesia</td>\n      <td>3104</td>\n      <td>Nutrient potash K2O (total)</td>\n      <td>5173</td>\n      <td>Use per value of agricultural production</td>\n      <td>1995</td>\n      <td>1995</td>\n      <td>kg/1000 Int.$</td>\n      <td>1.52</td>\n      <td>E</td>\n      <td>NaN</td>\n    </tr>\n    <tr>\n      <th>119809</th>\n      <td>159</td>\n      <td>'566</td>\n      <td>Nigeria</td>\n      <td>3104</td>\n      <td>Nutrient potash K2O (total)</td>\n      <td>5173</td>\n      <td>Use per value of agricultural production</td>\n      <td>2017</td>\n      <td>2017</td>\n      <td>kg/1000 Int.$</td>\n      <td>2.31</td>\n      <td>E</td>\n      <td>NaN</td>\n    </tr>\n    <tr>\n      <th>5053</th>\n      <td>9</td>\n      <td>'032</td>\n      <td>Argentina</td>\n      <td>3102</td>\n      <td>Nutrient nitrogen N (total)</td>\n      <td>5159</td>\n      <td>Use per area of cropland</td>\n      <td>1969</td>\n      <td>1969</td>\n      <td>kg/ha</td>\n      <td>1.41</td>\n      <td>E</td>\n      <td>NaN</td>\n    </tr>\n    <tr>\n      <th>163749</th>\n      <td>222</td>\n      <td>'788</td>\n      <td>Tunisia</td>\n      <td>3103</td>\n      <td>Nutrient phosphate P2O5 (total)</td>\n      <td>5910</td>\n      <td>Export Quantity</td>\n      <td>1996</td>\n      <td>1996</td>\n      <td>t</td>\n      <td>705000.00</td>\n      <td>X</td>\n      <td>NaN</td>\n    </tr>\n    <tr>\n      <th>36259</th>\n      <td>44</td>\n      <td>'170</td>\n      <td>Colombia</td>\n      <td>3102</td>\n      <td>Nutrient nitrogen N (total)</td>\n      <td>5173</td>\n      <td>Use per value of agricultural production</td>\n      <td>2009</td>\n      <td>2009</td>\n      <td>kg/1000 Int.$</td>\n      <td>19.35</td>\n      <td>E</td>\n      <td>NaN</td>\n    </tr>\n  </tbody>\n</table>\n</div>"
     },
     "metadata": {}
    }
   ],
   "outputs_reference": "s3:deepnote-cell-outputs-production/9724314a-db39-45d6-b9ea-100373ac1624",
   "content_dependencies": null
  },
  {
   "cell_type": "code",
   "metadata": {
    "source_hash": null,
    "execution_start": 1710021638679,
    "execution_millis": 106,
    "deepnote_to_be_reexecuted": false,
    "deepnote_app_block_visible": true,
    "cell_id": "414ef05f900444deada3f8a0a460586e",
    "deepnote_cell_type": "code"
   },
   "source": [
    "# Add a country code variable for easy joining with other datasets\n",
    "fert_with_codes = pd.merge(\n",
    "    fert, country_code_df[['Country_Name','Country_Code']], \n",
    "    how=\"left\", left_on=\"Area\", right_on=\"Country_Name\")"
   ],
   "block_group": "d7d43d1963b64d0a888fce7e383367f6",
   "execution_count": null,
   "outputs": [],
   "outputs_reference": null,
   "content_dependencies": null
  },
  {
   "cell_type": "code",
   "metadata": {
    "source_hash": null,
    "execution_start": 1710021707662,
    "execution_millis": 173,
    "deepnote_to_be_reexecuted": false,
    "deepnote_app_block_visible": true,
    "cell_id": "2ae972c8ed0743a494b8c460af432822",
    "deepnote_cell_type": "code"
   },
   "source": [
    "fert_with_codes[fert_with_codes['Country_Code'].isna()].sample(10)"
   ],
   "block_group": "3ac26285428c47cb9d468e0080802fd7",
   "execution_count": null,
   "outputs": [
    {
     "output_type": "execute_result",
     "execution_count": 67,
     "data": {
      "application/vnd.deepnote.dataframe.v3+json": {
       "column_count": 15,
       "row_count": 10,
       "columns": [
        {
         "name": "Area Code",
         "dtype": "int64",
         "stats": {
          "unique_count": 10,
          "nan_count": 0,
          "min": "223",
          "max": "5803",
          "histogram": [
           {
            "bin_start": 223,
            "bin_end": 781,
            "count": 1
           },
           {
            "bin_start": 781,
            "bin_end": 1339,
            "count": 0
           },
           {
            "bin_start": 1339,
            "bin_end": 1897,
            "count": 0
           },
           {
            "bin_start": 1897,
            "bin_end": 2455,
            "count": 0
           },
           {
            "bin_start": 2455,
            "bin_end": 3013,
            "count": 0
           },
           {
            "bin_start": 3013,
            "bin_end": 3571,
            "count": 0
           },
           {
            "bin_start": 3571,
            "bin_end": 4129,
            "count": 0
           },
           {
            "bin_start": 4129,
            "bin_end": 4687,
            "count": 0
           },
           {
            "bin_start": 4687,
            "bin_end": 5245,
            "count": 4
           },
           {
            "bin_start": 5245,
            "bin_end": 5803,
            "count": 5
           }
          ]
         }
        },
        {
         "name": "Area Code (M49)",
         "dtype": "object",
         "stats": {
          "unique_count": 10,
          "nan_count": 0,
          "categories": [
           {
            "name": "'722",
            "count": 1
           },
           {
            "name": "'001",
            "count": 1
           },
           {
            "name": "8 others",
            "count": 8
           }
          ]
         }
        },
        {
         "name": "Area",
         "dtype": "object",
         "stats": {
          "unique_count": 10,
          "nan_count": 0,
          "categories": [
           {
            "name": "Small Island Developing States",
            "count": 1
           },
           {
            "name": "World",
            "count": 1
           },
           {
            "name": "8 others",
            "count": 8
           }
          ]
         }
        },
        {
         "name": "Item Code",
         "dtype": "int64",
         "stats": {
          "unique_count": 3,
          "nan_count": 0,
          "min": "3102",
          "max": "3104",
          "histogram": [
           {
            "bin_start": 3102,
            "bin_end": 3102.2,
            "count": 4
           },
           {
            "bin_start": 3102.2,
            "bin_end": 3102.4,
            "count": 0
           },
           {
            "bin_start": 3102.4,
            "bin_end": 3102.6,
            "count": 0
           },
           {
            "bin_start": 3102.6,
            "bin_end": 3102.8,
            "count": 0
           },
           {
            "bin_start": 3102.8,
            "bin_end": 3103,
            "count": 0
           },
           {
            "bin_start": 3103,
            "bin_end": 3103.2,
            "count": 1
           },
           {
            "bin_start": 3103.2,
            "bin_end": 3103.4,
            "count": 0
           },
           {
            "bin_start": 3103.4,
            "bin_end": 3103.6,
            "count": 0
           },
           {
            "bin_start": 3103.6,
            "bin_end": 3103.8,
            "count": 0
           },
           {
            "bin_start": 3103.8,
            "bin_end": 3104,
            "count": 5
           }
          ]
         }
        },
        {
         "name": "Item",
         "dtype": "object",
         "stats": {
          "unique_count": 3,
          "nan_count": 0,
          "categories": [
           {
            "name": "Nutrient potash K2O (total)",
            "count": 5
           },
           {
            "name": "Nutrient nitrogen N (total)",
            "count": 4
           },
           {
            "name": "Nutrient phosphate P2O5 (total)",
            "count": 1
           }
          ]
         }
        },
        {
         "name": "Element Code",
         "dtype": "int64",
         "stats": {
          "unique_count": 6,
          "nan_count": 0,
          "min": "5157",
          "max": "5910",
          "histogram": [
           {
            "bin_start": 5157,
            "bin_end": 5232.3,
            "count": 5
           },
           {
            "bin_start": 5232.3,
            "bin_end": 5307.6,
            "count": 0
           },
           {
            "bin_start": 5307.6,
            "bin_end": 5382.9,
            "count": 0
           },
           {
            "bin_start": 5382.9,
            "bin_end": 5458.2,
            "count": 0
           },
           {
            "bin_start": 5458.2,
            "bin_end": 5533.5,
            "count": 2
           },
           {
            "bin_start": 5533.5,
            "bin_end": 5608.8,
            "count": 0
           },
           {
            "bin_start": 5608.8,
            "bin_end": 5684.1,
            "count": 2
           },
           {
            "bin_start": 5684.1,
            "bin_end": 5759.4,
            "count": 0
           },
           {
            "bin_start": 5759.4,
            "bin_end": 5834.7,
            "count": 0
           },
           {
            "bin_start": 5834.7,
            "bin_end": 5910,
            "count": 1
           }
          ]
         }
        },
        {
         "name": "Element",
         "dtype": "object",
         "stats": {
          "unique_count": 6,
          "nan_count": 0,
          "categories": [
           {
            "name": "Import Quantity",
            "count": 2
           },
           {
            "name": "Production",
            "count": 2
           },
           {
            "name": "4 others",
            "count": 6
           }
          ]
         }
        },
        {
         "name": "Year Code",
         "dtype": "int64",
         "stats": {
          "unique_count": 10,
          "nan_count": 0,
          "min": "1964",
          "max": "2019",
          "histogram": [
           {
            "bin_start": 1964,
            "bin_end": 1969.5,
            "count": 3
           },
           {
            "bin_start": 1969.5,
            "bin_end": 1975,
            "count": 1
           },
           {
            "bin_start": 1975,
            "bin_end": 1980.5,
            "count": 0
           },
           {
            "bin_start": 1980.5,
            "bin_end": 1986,
            "count": 2
           },
           {
            "bin_start": 1986,
            "bin_end": 1991.5,
            "count": 1
           },
           {
            "bin_start": 1991.5,
            "bin_end": 1997,
            "count": 1
           },
           {
            "bin_start": 1997,
            "bin_end": 2002.5,
            "count": 0
           },
           {
            "bin_start": 2002.5,
            "bin_end": 2008,
            "count": 0
           },
           {
            "bin_start": 2008,
            "bin_end": 2013.5,
            "count": 1
           },
           {
            "bin_start": 2013.5,
            "bin_end": 2019,
            "count": 1
           }
          ]
         }
        },
        {
         "name": "Year",
         "dtype": "int64",
         "stats": {
          "unique_count": 10,
          "nan_count": 0,
          "min": "1964",
          "max": "2019",
          "histogram": [
           {
            "bin_start": 1964,
            "bin_end": 1969.5,
            "count": 3
           },
           {
            "bin_start": 1969.5,
            "bin_end": 1975,
            "count": 1
           },
           {
            "bin_start": 1975,
            "bin_end": 1980.5,
            "count": 0
           },
           {
            "bin_start": 1980.5,
            "bin_end": 1986,
            "count": 2
           },
           {
            "bin_start": 1986,
            "bin_end": 1991.5,
            "count": 1
           },
           {
            "bin_start": 1991.5,
            "bin_end": 1997,
            "count": 1
           },
           {
            "bin_start": 1997,
            "bin_end": 2002.5,
            "count": 0
           },
           {
            "bin_start": 2002.5,
            "bin_end": 2008,
            "count": 0
           },
           {
            "bin_start": 2008,
            "bin_end": 2013.5,
            "count": 1
           },
           {
            "bin_start": 2013.5,
            "bin_end": 2019,
            "count": 1
           }
          ]
         }
        },
        {
         "name": "Unit",
         "dtype": "object",
         "stats": {
          "unique_count": 3,
          "nan_count": 0,
          "categories": [
           {
            "name": "t",
            "count": 7
           },
           {
            "name": "kg/ha",
            "count": 2
           },
           {
            "name": "kg/1000 Int.$",
            "count": 1
           }
          ]
         }
        },
        {
         "name": "Value",
         "dtype": "float64",
         "stats": {
          "unique_count": 10,
          "nan_count": 0,
          "min": "1.65",
          "max": "12258392.0",
          "histogram": [
           {
            "bin_start": 1.65,
            "bin_end": 1225840.6849999998,
            "count": 8
           },
           {
            "bin_start": 1225840.6849999998,
            "bin_end": 2451679.7199999997,
            "count": 0
           },
           {
            "bin_start": 2451679.7199999997,
            "bin_end": 3677518.7549999994,
            "count": 1
           },
           {
            "bin_start": 3677518.7549999994,
            "bin_end": 4903357.79,
            "count": 0
           },
           {
            "bin_start": 4903357.79,
            "bin_end": 6129196.825,
            "count": 0
           },
           {
            "bin_start": 6129196.825,
            "bin_end": 7355035.859999999,
            "count": 0
           },
           {
            "bin_start": 7355035.859999999,
            "bin_end": 8580874.895,
            "count": 0
           },
           {
            "bin_start": 8580874.895,
            "bin_end": 9806713.93,
            "count": 0
           },
           {
            "bin_start": 9806713.93,
            "bin_end": 1.1032552965E7,
            "count": 0
           },
           {
            "bin_start": 1.1032552965E7,
            "bin_end": 12258392,
            "count": 1
           }
          ]
         }
        },
        {
         "name": "Flag",
         "dtype": "object",
         "stats": {
          "unique_count": 3,
          "nan_count": 0,
          "categories": [
           {
            "name": "E",
            "count": 7
           },
           {
            "name": "A",
            "count": 2
           },
           {
            "name": "X",
            "count": 1
           }
          ]
         }
        },
        {
         "name": "Note",
         "dtype": "object",
         "stats": {
          "unique_count": 0,
          "nan_count": 10,
          "categories": [
           {
            "name": "Missing",
            "count": 10
           }
          ]
         }
        },
        {
         "name": "Country_Name",
         "dtype": "object",
         "stats": {
          "unique_count": 0,
          "nan_count": 10,
          "categories": [
           {
            "name": "Missing",
            "count": 10
           }
          ]
         }
        },
        {
         "name": "Country_Code",
         "dtype": "object",
         "stats": {
          "unique_count": 0,
          "nan_count": 10,
          "categories": [
           {
            "name": "Missing",
            "count": 10
           }
          ]
         }
        },
        {
         "name": "_deepnote_index_column",
         "dtype": "int64"
        }
       ],
       "rows": [
        {
         "Area Code": 5803,
         "Area Code (M49)": "'722",
         "Area": "Small Island Developing States",
         "Item Code": 3104,
         "Item": "Nutrient potash K2O (total)",
         "Element Code": 5910,
         "Element": "Export Quantity",
         "Year Code": 2010,
         "Year": 2010,
         "Unit": "t",
         "Value": 46124.01,
         "Flag": "E",
         "Note": "nan",
         "Country_Name": "nan",
         "Country_Code": "nan",
         "_deepnote_index_column": 218288
        },
        {
         "Area Code": 5000,
         "Area Code (M49)": "'001",
         "Area": "World",
         "Item Code": 3102,
         "Item": "Nutrient nitrogen N (total)",
         "Element Code": 5610,
         "Element": "Import Quantity",
         "Year Code": 1981,
         "Year": 1981,
         "Unit": "t",
         "Value": 12258392,
         "Flag": "E",
         "Note": "nan",
         "Country_Name": "nan",
         "Country_Code": "nan",
         "_deepnote_index_column": 181397
        },
        {
         "Area Code": 5304,
         "Area Code (M49)": "'035",
         "Area": "South-eastern Asia",
         "Item Code": 3102,
         "Item": "Nutrient nitrogen N (total)",
         "Element Code": 5610,
         "Element": "Import Quantity",
         "Year Code": 1982,
         "Year": 1982,
         "Unit": "t",
         "Value": 1064454,
         "Flag": "E",
         "Note": "nan",
         "Country_Name": "nan",
         "Country_Code": "nan",
         "_deepnote_index_column": 200244
        },
        {
         "Area Code": 5104,
         "Area Code (M49)": "'018",
         "Area": "Southern Africa",
         "Item Code": 3103,
         "Item": "Nutrient phosphate P2O5 (total)",
         "Element Code": 5510,
         "Element": "Production",
         "Year Code": 2019,
         "Year": 2019,
         "Unit": "t",
         "Value": 186200,
         "Flag": "E",
         "Note": "nan",
         "Country_Name": "nan",
         "Country_Code": "nan",
         "_deepnote_index_column": 187748
        },
        {
         "Area Code": 223,
         "Area Code (M49)": "'792",
         "Area": "Türkiye",
         "Item Code": 3104,
         "Item": "Nutrient potash K2O (total)",
         "Element Code": 5157,
         "Element": "Agricultural Use",
         "Year Code": 1996,
         "Year": 1996,
         "Unit": "t",
         "Value": 73500,
         "Flag": "X",
         "Note": "nan",
         "Country_Name": "nan",
         "Country_Code": "nan",
         "_deepnote_index_column": 165321
        },
        {
         "Area Code": 5302,
         "Area Code (M49)": "'030",
         "Area": "Eastern Asia",
         "Item Code": 3104,
         "Item": "Nutrient potash K2O (total)",
         "Element Code": 5159,
         "Element": "Use per area of cropland",
         "Year Code": 1971,
         "Year": 1971,
         "Unit": "kg/ha",
         "Value": 6.25,
         "Flag": "E",
         "Note": "nan",
         "Country_Name": "nan",
         "Country_Code": "nan",
         "_deepnote_index_column": 198828
        },
        {
         "Area Code": 5300,
         "Area Code (M49)": "'142",
         "Area": "Asia",
         "Item Code": 3104,
         "Item": "Nutrient potash K2O (total)",
         "Element Code": 5159,
         "Element": "Use per area of cropland",
         "Year Code": 1964,
         "Year": 1964,
         "Unit": "kg/ha",
         "Value": 1.65,
         "Flag": "E",
         "Note": "nan",
         "Country_Name": "nan",
         "Country_Code": "nan",
         "_deepnote_index_column": 196951
        },
        {
         "Area Code": 5404,
         "Area Code (M49)": "'155",
         "Area": "Western Europe",
         "Item Code": 3102,
         "Item": "Nutrient nitrogen N (total)",
         "Element Code": 5157,
         "Element": "Agricultural Use",
         "Year Code": 1965,
         "Year": 1965,
         "Unit": "t",
         "Value": 2739119,
         "Flag": "A",
         "Note": "nan",
         "Country_Name": "nan",
         "Country_Code": "nan",
         "_deepnote_index_column": 207928
        },
        {
         "Area Code": 5206,
         "Area Code (M49)": "'029",
         "Area": "Caribbean",
         "Item Code": 3102,
         "Item": "Nutrient nitrogen N (total)",
         "Element Code": 5173,
         "Element": "Use per value of agricultural production",
         "Year Code": 1988,
         "Year": 1988,
         "Unit": "kg/1000 Int.$",
         "Value": 29.78,
         "Flag": "E",
         "Note": "nan",
         "Country_Name": "nan",
         "Country_Code": "nan",
         "_deepnote_index_column": 193800
        },
        {
         "Area Code": 5207,
         "Area Code (M49)": "'005",
         "Area": "South America",
         "Item Code": 3104,
         "Item": "Nutrient potash K2O (total)",
         "Element Code": 5510,
         "Element": "Production",
         "Year Code": 1969,
         "Year": 1969,
         "Unit": "t",
         "Value": 17424,
         "Flag": "A",
         "Note": "nan",
         "Country_Name": "nan",
         "Country_Code": "nan",
         "_deepnote_index_column": 195431
        }
       ]
      },
      "text/plain": "        Area Code Area Code (M49)                            Area  Item Code  \\\n218288       5803            '722  Small Island Developing States       3104   \n181397       5000            '001                           World       3102   \n200244       5304            '035              South-eastern Asia       3102   \n187748       5104            '018                 Southern Africa       3103   \n165321        223            '792                         Türkiye       3104   \n198828       5302            '030                    Eastern Asia       3104   \n196951       5300            '142                            Asia       3104   \n207928       5404            '155                  Western Europe       3102   \n193800       5206            '029                       Caribbean       3102   \n195431       5207            '005                   South America       3104   \n\n                                   Item  Element Code  \\\n218288      Nutrient potash K2O (total)          5910   \n181397      Nutrient nitrogen N (total)          5610   \n200244      Nutrient nitrogen N (total)          5610   \n187748  Nutrient phosphate P2O5 (total)          5510   \n165321      Nutrient potash K2O (total)          5157   \n198828      Nutrient potash K2O (total)          5159   \n196951      Nutrient potash K2O (total)          5159   \n207928      Nutrient nitrogen N (total)          5157   \n193800      Nutrient nitrogen N (total)          5173   \n195431      Nutrient potash K2O (total)          5510   \n\n                                         Element  Year Code  Year  \\\n218288                           Export Quantity       2010  2010   \n181397                           Import Quantity       1981  1981   \n200244                           Import Quantity       1982  1982   \n187748                                Production       2019  2019   \n165321                          Agricultural Use       1996  1996   \n198828                  Use per area of cropland       1971  1971   \n196951                  Use per area of cropland       1964  1964   \n207928                          Agricultural Use       1965  1965   \n193800  Use per value of agricultural production       1988  1988   \n195431                                Production       1969  1969   \n\n                 Unit       Value Flag Note Country_Name Country_Code  \n218288              t    46124.01    E  NaN          NaN          NaN  \n181397              t 12258392.00    E  NaN          NaN          NaN  \n200244              t  1064454.00    E  NaN          NaN          NaN  \n187748              t   186200.00    E  NaN          NaN          NaN  \n165321              t    73500.00    X  NaN          NaN          NaN  \n198828          kg/ha        6.25    E  NaN          NaN          NaN  \n196951          kg/ha        1.65    E  NaN          NaN          NaN  \n207928              t  2739119.00    A  NaN          NaN          NaN  \n193800  kg/1000 Int.$       29.78    E  NaN          NaN          NaN  \n195431              t    17424.00    A  NaN          NaN          NaN  ",
      "text/html": "<div>\n<style scoped>\n    .dataframe tbody tr th:only-of-type {\n        vertical-align: middle;\n    }\n\n    .dataframe tbody tr th {\n        vertical-align: top;\n    }\n\n    .dataframe thead th {\n        text-align: right;\n    }\n</style>\n<table border=\"1\" class=\"dataframe\">\n  <thead>\n    <tr style=\"text-align: right;\">\n      <th></th>\n      <th>Area Code</th>\n      <th>Area Code (M49)</th>\n      <th>Area</th>\n      <th>Item Code</th>\n      <th>Item</th>\n      <th>Element Code</th>\n      <th>Element</th>\n      <th>Year Code</th>\n      <th>Year</th>\n      <th>Unit</th>\n      <th>Value</th>\n      <th>Flag</th>\n      <th>Note</th>\n      <th>Country_Name</th>\n      <th>Country_Code</th>\n    </tr>\n  </thead>\n  <tbody>\n    <tr>\n      <th>218288</th>\n      <td>5803</td>\n      <td>'722</td>\n      <td>Small Island Developing States</td>\n      <td>3104</td>\n      <td>Nutrient potash K2O (total)</td>\n      <td>5910</td>\n      <td>Export Quantity</td>\n      <td>2010</td>\n      <td>2010</td>\n      <td>t</td>\n      <td>46124.01</td>\n      <td>E</td>\n      <td>NaN</td>\n      <td>NaN</td>\n      <td>NaN</td>\n    </tr>\n    <tr>\n      <th>181397</th>\n      <td>5000</td>\n      <td>'001</td>\n      <td>World</td>\n      <td>3102</td>\n      <td>Nutrient nitrogen N (total)</td>\n      <td>5610</td>\n      <td>Import Quantity</td>\n      <td>1981</td>\n      <td>1981</td>\n      <td>t</td>\n      <td>12258392.00</td>\n      <td>E</td>\n      <td>NaN</td>\n      <td>NaN</td>\n      <td>NaN</td>\n    </tr>\n    <tr>\n      <th>200244</th>\n      <td>5304</td>\n      <td>'035</td>\n      <td>South-eastern Asia</td>\n      <td>3102</td>\n      <td>Nutrient nitrogen N (total)</td>\n      <td>5610</td>\n      <td>Import Quantity</td>\n      <td>1982</td>\n      <td>1982</td>\n      <td>t</td>\n      <td>1064454.00</td>\n      <td>E</td>\n      <td>NaN</td>\n      <td>NaN</td>\n      <td>NaN</td>\n    </tr>\n    <tr>\n      <th>187748</th>\n      <td>5104</td>\n      <td>'018</td>\n      <td>Southern Africa</td>\n      <td>3103</td>\n      <td>Nutrient phosphate P2O5 (total)</td>\n      <td>5510</td>\n      <td>Production</td>\n      <td>2019</td>\n      <td>2019</td>\n      <td>t</td>\n      <td>186200.00</td>\n      <td>E</td>\n      <td>NaN</td>\n      <td>NaN</td>\n      <td>NaN</td>\n    </tr>\n    <tr>\n      <th>165321</th>\n      <td>223</td>\n      <td>'792</td>\n      <td>Türkiye</td>\n      <td>3104</td>\n      <td>Nutrient potash K2O (total)</td>\n      <td>5157</td>\n      <td>Agricultural Use</td>\n      <td>1996</td>\n      <td>1996</td>\n      <td>t</td>\n      <td>73500.00</td>\n      <td>X</td>\n      <td>NaN</td>\n      <td>NaN</td>\n      <td>NaN</td>\n    </tr>\n    <tr>\n      <th>198828</th>\n      <td>5302</td>\n      <td>'030</td>\n      <td>Eastern Asia</td>\n      <td>3104</td>\n      <td>Nutrient potash K2O (total)</td>\n      <td>5159</td>\n      <td>Use per area of cropland</td>\n      <td>1971</td>\n      <td>1971</td>\n      <td>kg/ha</td>\n      <td>6.25</td>\n      <td>E</td>\n      <td>NaN</td>\n      <td>NaN</td>\n      <td>NaN</td>\n    </tr>\n    <tr>\n      <th>196951</th>\n      <td>5300</td>\n      <td>'142</td>\n      <td>Asia</td>\n      <td>3104</td>\n      <td>Nutrient potash K2O (total)</td>\n      <td>5159</td>\n      <td>Use per area of cropland</td>\n      <td>1964</td>\n      <td>1964</td>\n      <td>kg/ha</td>\n      <td>1.65</td>\n      <td>E</td>\n      <td>NaN</td>\n      <td>NaN</td>\n      <td>NaN</td>\n    </tr>\n    <tr>\n      <th>207928</th>\n      <td>5404</td>\n      <td>'155</td>\n      <td>Western Europe</td>\n      <td>3102</td>\n      <td>Nutrient nitrogen N (total)</td>\n      <td>5157</td>\n      <td>Agricultural Use</td>\n      <td>1965</td>\n      <td>1965</td>\n      <td>t</td>\n      <td>2739119.00</td>\n      <td>A</td>\n      <td>NaN</td>\n      <td>NaN</td>\n      <td>NaN</td>\n    </tr>\n    <tr>\n      <th>193800</th>\n      <td>5206</td>\n      <td>'029</td>\n      <td>Caribbean</td>\n      <td>3102</td>\n      <td>Nutrient nitrogen N (total)</td>\n      <td>5173</td>\n      <td>Use per value of agricultural production</td>\n      <td>1988</td>\n      <td>1988</td>\n      <td>kg/1000 Int.$</td>\n      <td>29.78</td>\n      <td>E</td>\n      <td>NaN</td>\n      <td>NaN</td>\n      <td>NaN</td>\n    </tr>\n    <tr>\n      <th>195431</th>\n      <td>5207</td>\n      <td>'005</td>\n      <td>South America</td>\n      <td>3104</td>\n      <td>Nutrient potash K2O (total)</td>\n      <td>5510</td>\n      <td>Production</td>\n      <td>1969</td>\n      <td>1969</td>\n      <td>t</td>\n      <td>17424.00</td>\n      <td>A</td>\n      <td>NaN</td>\n      <td>NaN</td>\n      <td>NaN</td>\n    </tr>\n  </tbody>\n</table>\n</div>"
     },
     "metadata": {}
    }
   ],
   "outputs_reference": "s3:deepnote-cell-outputs-production/6f00288e-901c-4710-9abf-a2158f15000e",
   "content_dependencies": null
  },
  {
   "cell_type": "code",
   "metadata": {
    "source_hash": null,
    "execution_start": 1710021393948,
    "execution_millis": 83,
    "deepnote_to_be_reexecuted": false,
    "deepnote_app_block_visible": true,
    "cell_id": "e96887d122434da4b2b624d65c7f083a",
    "deepnote_cell_type": "code"
   },
   "source": [
    " fert[(fert['Element'] == 'Agricultural Use') & (fert['Year'] >= 1980) & (fert['Area'].isin(gcb.Country_Name.unique()))]['Area'].unique()"
   ],
   "block_group": "21a4659a8a6346c28fcdc6df5e1d0d04",
   "execution_count": null,
   "outputs": [
    {
     "output_type": "execute_result",
     "execution_count": 59,
     "data": {
      "text/plain": "array(['Antigua and Barbuda', 'Australia', 'Bahamas', 'Bahrain',\n       'Bangladesh', 'Barbados', 'Belize', 'Bermuda', 'Brazil',\n       'Cambodia', 'Cayman Islands', 'Chile', 'China', 'Colombia',\n       'Costa Rica', 'Cuba', 'Djibouti', 'Dominica', 'Dominican Republic',\n       'Ecuador', 'Egypt', 'Eritrea', 'Fiji', 'France',\n       'French Polynesia', 'Grenada', 'Guatemala', 'Haiti', 'Honduras',\n       'India', 'Indonesia', 'Israel', 'Jamaica', 'Japan', 'Jordan',\n       'Kenya', 'Kiribati', 'Kuwait', 'Madagascar', 'Malaysia',\n       'Maldives', 'Mauritius', 'Mexico', 'Mozambique', 'Myanmar',\n       'New Caledonia', 'Nicaragua', 'Oman', 'Palau', 'Panama',\n       'Papua New Guinea', 'Philippines', 'Saint Kitts and Nevis',\n       'Saint Lucia', 'Saint Vincent and the Grenadines', 'Samoa',\n       'Saudi Arabia', 'Seychelles', 'Singapore', 'Solomon Islands',\n       'South Africa', 'Sri Lanka', 'Sudan', 'Thailand', 'Tonga',\n       'Trinidad and Tobago', 'Tuvalu', 'United Arab Emirates', 'Vanuatu',\n       'Yemen'], dtype=object)"
     },
     "metadata": {}
    }
   ],
   "outputs_reference": "s3:deepnote-cell-outputs-production/f1a5688f-27fd-407a-83fc-0476efd16c4b",
   "content_dependencies": null
  },
  {
   "cell_type": "code",
   "metadata": {
    "source_hash": null,
    "execution_start": 1710021413240,
    "execution_millis": 51,
    "deepnote_to_be_reexecuted": false,
    "deepnote_app_block_visible": true,
    "cell_id": "b1f906d79f2a4fd29c4a6b409c6b551b",
    "deepnote_cell_type": "code"
   },
   "source": [
    "gcb.Country_Name.sort_values().unique()"
   ],
   "block_group": "5dd6997f0431449db11a71d488051c5a",
   "execution_count": null,
   "outputs": [
    {
     "output_type": "execute_result",
     "execution_count": 60,
     "data": {
      "text/plain": "array(['Antigua and Barbuda', 'Australia', 'Bahamas', 'Bahrain',\n       'Bangladesh', 'Barbados', 'Belize', 'Bermuda', 'Brazil', 'Brunei',\n       'Cambodia', 'Cayman Islands', 'Chile', 'China', 'Colombia',\n       'Commonwealth of the Northern Mariana Islands', 'Comoro Islands',\n       'Costa Rica', 'Cuba', 'Djibouti', 'Dominica', 'Dominican Republic',\n       'East Timor', 'Ecuador', 'Egypt', 'Eritrea',\n       'Federated States of Micronesia', 'Fiji', 'France',\n       'French Polynesia', 'Grenada', 'Guatemala', 'Haiti', 'Honduras',\n       'India', 'Indonesia', 'Iran', 'Israel', 'Jamaica', 'Japan',\n       'Jordan', 'Kenya', 'Kiribati', 'Kuwait', 'Madagascar', 'Malaysia',\n       'Maldives', 'Marshall Islands', 'Mauritius', 'Mexico',\n       'Mozambique', 'Myanmar', 'Netherlands Antilles', 'New Caledonia',\n       'Nicaragua', 'Oman', 'Palau', 'Panama', 'Papua New Guinea',\n       'Philippines', 'Saint Kitts and Nevis', 'Saint Lucia',\n       'Saint Vincent and the Grenadines', 'Samoa', 'Sao Tome & Principe',\n       'Saudi Arabia', 'Seychelles', 'Singapore', 'Solomon Islands',\n       'South Africa', 'Sri Lanka', 'Sudan', 'Tanzania', 'Thailand',\n       'Tonga', 'Trinidad and Tobago', 'Turks and Caicos', 'Tuvalu',\n       'United Arab Emirates', 'United Kingdom', 'United States',\n       'Vanuatu', 'Venezuela', 'Vietnam', 'Yemen'], dtype=object)"
     },
     "metadata": {}
    }
   ],
   "outputs_reference": "s3:deepnote-cell-outputs-production/95ff70b0-215a-401b-bd42-c2c281e3fab5",
   "content_dependencies": null
  },
  {
   "cell_type": "code",
   "metadata": {
    "deepnote_app_block_visible": true,
    "cell_id": "54a3c02d47dd408a98769af1ebcb796c",
    "deepnote_cell_type": "code"
   },
   "source": [],
   "block_group": "bd19ed3895f547a991a2e2b91f3a4190",
   "execution_count": null,
   "outputs": [],
   "outputs_reference": null,
   "content_dependencies": null
  },
  {
   "cell_type": "markdown",
   "source": [
    "<a style='text-decoration:none;line-height:16px;display:flex;color:#5B5B62;padding:10px;justify-content:end;' href='https://deepnote.com?utm_source=created-in-deepnote-cell&projectId=6a5ab9c4-f125-4a61-a0b4-af0fc5325c87' target=\"_blank\">\n",
    "<img alt='Created in deepnote.com' style='display:inline;max-height:16px;margin:0px;margin-right:7.5px;' src='data:image/svg+xml;base64,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' > </img>\n",
    "Created in <span style='font-weight:600;margin-left:4px;'>Deepnote</span></a>"
   ],
   "metadata": {
    "created_in_deepnote_cell": true,
    "deepnote_cell_type": "markdown"
   }
  }
 ],
 "nbformat": 4,
 "nbformat_minor": 0,
 "metadata": {
  "deepnote_app_layout": "powerful-article",
  "deepnote_app_reactivity_enabled": true,
  "deepnote_notebook_id": "f11b448002ce4dacb355e4195f329308",
  "deepnote_execution_queue": []
 }
}
