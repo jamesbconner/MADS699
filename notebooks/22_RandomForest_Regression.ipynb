{
 "cells": [
  {
   "cell_type": "markdown",
   "metadata": {
    "formattedRanges": [],
    "cell_id": "98193acd32da44e898648fc8fb9e582e",
    "deepnote_cell_type": "text-cell-h1"
   },
   "source": [
    "# Regression - RandomForest"
   ],
   "block_group": "32f6fa1f7f994b23b0b2b2dc8b0bf23f"
  },
  {
   "cell_type": "markdown",
   "metadata": {
    "formattedRanges": [],
    "cell_id": "f93fe8ba2fd0452a8a2a5eca4910f3c7",
    "deepnote_cell_type": "text-cell-h2"
   },
   "source": [
    "## Notebook Setup"
   ],
   "block_group": "29ed4039cfd54b349b8f3d87d7145ed2"
  },
  {
   "cell_type": "markdown",
   "metadata": {
    "formattedRanges": [],
    "cell_id": "cb3bed02a6bd4c24a22fe1a9e4f8facb",
    "deepnote_cell_type": "text-cell-h3"
   },
   "source": [
    "### Import Libraries"
   ],
   "block_group": "30174eb3e1644d56a9722f4cadbae9ea"
  },
  {
   "cell_type": "code",
   "metadata": {
    "source_hash": null,
    "execution_start": 1711906037119,
    "execution_millis": 2601,
    "deepnote_to_be_reexecuted": false,
    "cell_id": "80339930e715418c82df916fda1518c8",
    "deepnote_cell_type": "code"
   },
   "source": [
    "# Import Standard Libraries\n",
    "import os\n",
    "import datetime\n",
    "import pickle\n",
    "import itertools\n",
    "import pandas as pd\n",
    "import numpy as np\n",
    "\n",
    "# Import Visualization Libraries\n",
    "import seaborn as sns\n",
    "import matplotlib.pyplot as plt\n",
    "import plotly.express as px\n",
    "import plotly.graph_objects as go\n",
    "import shap"
   ],
   "block_group": "05c857c6f7da4c33843aa801a1f1d5eb",
   "execution_count": null,
   "outputs": [],
   "outputs_reference": "dbtable:cell_outputs/7916ea65-8684-49c4-9a43-26169776ac80"
  },
  {
   "cell_type": "code",
   "metadata": {
    "source_hash": null,
    "execution_start": 1711906039723,
    "execution_millis": 479,
    "deepnote_to_be_reexecuted": false,
    "cell_id": "078eb67c3cf5445aa79df2fc297d73fb",
    "deepnote_cell_type": "code"
   },
   "source": [
    "# Import Modeling Libraries\n",
    "from sklearn import set_config\n",
    "from sklearn.model_selection import KFold, cross_val_score\n",
    "from sklearn.ensemble import RandomForestRegressor\n",
    "from sklearn.metrics import r2_score, mean_absolute_error, mean_squared_error\n",
    "from hyperopt import STATUS_OK, Trials, fmin, hp, tpe\n",
    "from hyperopt.early_stop import no_progress_loss\n",
    "import neptune"
   ],
   "block_group": "bbc9a4f4fb38400583bcd92244ffeb26",
   "execution_count": null,
   "outputs": [],
   "outputs_reference": null
  },
  {
   "cell_type": "code",
   "metadata": {
    "source_hash": null,
    "execution_start": 1711906040205,
    "execution_millis": 84,
    "deepnote_to_be_reexecuted": false,
    "cell_id": "9b01c9cab4384f548b774b8f29f5dd72",
    "deepnote_cell_type": "code"
   },
   "source": [
    "# Pandas Configs\n",
    "pd.set_option('mode.chained_assignment', None)\n",
    "pd.options.display.float_format = '{:.2f}'.format\n",
    "pd.options.display.max_columns = None\n",
    "pd.options.display.max_rows = None\n",
    "\n",
    "# Ignore Warnings\n",
    "import warnings\n",
    "warnings.simplefilter('ignore', category=FutureWarning)\n",
    "warnings.simplefilter('ignore', category=UserWarning)\n",
    "warnings.simplefilter(action=\"ignore\", category=pd.errors.PerformanceWarning)\n",
    "\n",
    "# MapBox Token for Plotly Maps\n",
    "px.set_mapbox_access_token(os.environ.get(\"MAPBOX_TOKEN\"))\n",
    "\n",
    "# Scikit Learn Configs\n",
    "set_config(transform_output=\"pandas\")"
   ],
   "block_group": "3843638c580f457a96c6f8b9104151a1",
   "execution_count": null,
   "outputs": [],
   "outputs_reference": null
  },
  {
   "cell_type": "markdown",
   "metadata": {
    "formattedRanges": [],
    "cell_id": "ac011a12ac094a87a4334f76e0deafa7",
    "deepnote_cell_type": "text-cell-h3"
   },
   "source": [
    "### Common Functions"
   ],
   "block_group": "f5c9bdc5f12f4922b8611bc7e4495a2f"
  },
  {
   "cell_type": "code",
   "metadata": {
    "source_hash": null,
    "execution_start": 1711906040214,
    "execution_millis": 2020,
    "deepnote_to_be_reexecuted": false,
    "cell_id": "c79f4c12e23b4f0ba561d5ad59daee0f",
    "deepnote_cell_type": "code"
   },
   "source": [
    "def import_data(common_path=\"/work/data\", xy_path=\"Xy_Data\", location_name='CARB'):\n",
    "    \"\"\"\n",
    "    This function imports the data from the specified data path and location geography\n",
    "    \"\"\"\n",
    "\n",
    "    data_path = os.path.join(common_path, xy_path)\n",
    "\n",
    "    # Import the training, validation and holdout data\n",
    "    X_train_trans = pd.read_parquet(f\"{data_path}/X_train_trans_{location_name}.parquet\")\n",
    "    X_val_trans = pd.read_parquet(f\"{data_path}/X_val_trans_{location_name}.parquet\")\n",
    "    X_holdout_trans = pd.read_parquet(f\"{data_path}/X_holdout_trans_{location_name}.parquet\")\n",
    "\n",
    "    y_train = pd.read_parquet(f\"{data_path}/y_train_{location_name}.parquet\")\n",
    "    y_val = pd.read_parquet(f\"{data_path}/y_val_{location_name}.parquet\")\n",
    "    y_holdout = pd.read_parquet(f\"{data_path}/y_holdout_{location_name}.parquet\")\n",
    "\n",
    "    # y is not transformed\n",
    "    y_train_trans = y_train\n",
    "    y_val_trans = y_val\n",
    "    y_holdout_trans = y_holdout\n",
    "\n",
    "    return X_train_trans, X_val_trans, X_holdout_trans, y_train_trans, y_val_trans, y_holdout_trans\n",
    "\n",
    "# Import some data temporarily, as some of the other functions use the Xy data in argument defaults\n",
    "X_train_trans, X_val_trans, X_holdout_trans, y_train_trans, y_val_trans, y_holdout_trans = import_data(location_name='CARB')"
   ],
   "block_group": "9660e1c6e12b411ca148a862863d70c0",
   "execution_count": null,
   "outputs": [],
   "outputs_reference": null
  },
  {
   "cell_type": "code",
   "metadata": {
    "source_hash": null,
    "execution_start": 1711906042237,
    "execution_millis": 67,
    "deepnote_to_be_reexecuted": false,
    "cell_id": "cc204e27dda545a091a6d321855b0485",
    "deepnote_cell_type": "code"
   },
   "source": [
    "def objective(space):\n",
    "    \"\"\"\n",
    "    This is the RandomForest hyperparam objective function\n",
    "    Hyperparams are passed into this function, which are then used in the model object\n",
    "    The model object is then used in the cross_val_scores function \n",
    "    This results in a list of MAE scores, which are then returned as \n",
    "      the loss and std vars to the trials object\n",
    "    \"\"\"\n",
    "    space['n_estimators'] = int(space['n_estimators'])\n",
    "    #space['max_depth'] = int(space['max_depth'])\n",
    "    space['min_samples_split'] = int(space['min_samples_split'])\n",
    "    space['min_samples_leaf'] = int(space['min_samples_leaf'])\n",
    "    space['max_leaf_nodes'] = int(space['max_leaf_nodes'])\n",
    "\n",
    "    model=RandomForestRegressor(\n",
    "                    n_estimators = space['n_estimators'],\n",
    "                    max_features = space['max_features'],\n",
    "                    #max_depth = None if space['max_leaf_nodes'] == 0 else space['max_depth'],\n",
    "                    min_samples_split = space['min_samples_split'],\n",
    "                    min_samples_leaf = space['min_samples_leaf'],\n",
    "                    min_weight_fraction_leaf = space['min_weight_fraction_leaf'],\n",
    "                    #ccp_alpha = space['ccp_alpha'],\n",
    "                    max_leaf_nodes = None if space['max_leaf_nodes'] == 0 else space['max_leaf_nodes'],\n",
    "                    max_depth = None,\n",
    "                    bootstrap = True,\n",
    "                    criterion = 'squared_error',\n",
    "                    n_jobs = -1,\n",
    "                    random_state = 42\n",
    "                    )\n",
    "\n",
    "    kf = KFold(n_splits=5, shuffle=True, random_state=42)\n",
    "    mae_scores = -cross_val_score(model, X_train_trans, y_train_trans, cv=kf, scoring='neg_mean_absolute_error')\n",
    "    mean_mae = mae_scores.mean()\n",
    "    std_mae = mae_scores.std()\n",
    "\n",
    "    # Emit model specific params and metrics to Neptune\n",
    "    run[\"parameters/n_estimators\"].log(space['n_estimators'])\n",
    "    # run[\"parameters/max_features\"].log(space['max_features']) # No need to log max_features\n",
    "    # run[\"parameters/max_depth\"].log(space['max_depth'])\n",
    "    run[\"parameters/min_samples_split\"].log(space['min_samples_split'])\n",
    "    run[\"parameters/min_samples_leaf\"].log(space['min_samples_leaf'])\n",
    "    run[\"parameters/min_weight_fraction_leaf\"].log(space['min_weight_fraction_leaf'])\n",
    "    #run[\"parameters/ccp_alpha\"].log(space['ccp_alpha'])\n",
    "    run[\"parameters/max_leaf_nodes\"].log(space['max_leaf_nodes'])\n",
    "    \n",
    "    # Emit standard params and metrics to Neptune\n",
    "    run['parameters/all_parameters'].log(str(space))\n",
    "    run['metrics/mae_scores'].log(str(mae_scores.tolist()))\n",
    "    run[\"metrics/mean_mae\"].log(mean_mae)\n",
    "    run[\"metrics/std_mae\"].log(std_mae)\n",
    "\n",
    "    return {'loss': mean_mae, 'status': STATUS_OK, 'std': std_mae}"
   ],
   "block_group": "570d02885298436ab0a34273dd10239d",
   "execution_count": null,
   "outputs": [],
   "outputs_reference": null
  },
  {
   "cell_type": "code",
   "metadata": {
    "source_hash": null,
    "execution_start": 1711906042237,
    "execution_millis": 67,
    "deepnote_to_be_reexecuted": false,
    "cell_id": "cabd802a2af643f79dfad27b69c7c35c",
    "deepnote_cell_type": "code"
   },
   "source": [
    "def model_score(hps, val=True, train=False, holdout=False, Xtt=X_train_trans, ytt=y_train_trans, Xvt=X_val_trans, yvt=y_val_trans, Xht=X_holdout_trans, yht=y_holdout_trans):\n",
    "    \"\"\"\n",
    "    This function rebuilds the model with the desired hyperparameters\n",
    "    val: True will evaluate the model on the validation data\n",
    "    holdout: True will evaluate the model on the holdout data\n",
    "    train: True will evaluate the model on the train data\n",
    "    Xtt: X_train_trans\n",
    "    ytt: y_train_trans\n",
    "    Xvt: X_val_trans\n",
    "    yvt: y_val_trans\n",
    "    Xht: X_holdout_trans\n",
    "    yht: y_holdout_trans\n",
    "    \"\"\"\n",
    "\n",
    "    # Rebuild model\n",
    "    model = RandomForestRegressor(**hps)\n",
    "    model.fit(Xtt, ytt)\n",
    "\n",
    "    # Evaluate model and print results\n",
    "    if train:\n",
    "        # Evaluation on train data\n",
    "        train_pred = model.predict(Xtt)\n",
    "        train_mae = mean_absolute_error(ytt, train_pred)\n",
    "        train_mse = mean_squared_error(ytt, train_pred)\n",
    "        train_rmse = mean_squared_error(ytt, train_pred, squared=False)\n",
    "        train_rsq = r2_score(ytt, train_pred)\n",
    "        print(\" \")\n",
    "        print(f\"Train Mean Absolute Error: {train_mae:.4f}\")\n",
    "        print(f\"Train Mean Squared Error: {train_mse:.4f}\")\n",
    "        print(f\"Train Root Mean Squared Error: {train_rmse:.4f}\")\n",
    "        print(f\"Train R^2 Score: {train_rsq:.4f}\")\n",
    "\n",
    "    if val:\n",
    "        # Evaluation on validation data\n",
    "        val_pred = model.predict(Xvt)\n",
    "        val_mae = mean_absolute_error(yvt, val_pred)\n",
    "        val_mse = mean_squared_error(yvt, val_pred)\n",
    "        val_rmse = mean_squared_error(yvt, val_pred, squared=False)\n",
    "        val_rsq = r2_score(yvt, val_pred)\n",
    "        print(\" \")\n",
    "        print(f\"Validation Mean Absolute Error: {val_mae:.4f}\")\n",
    "        print(f\"Validation Mean Squared Error: {val_mse:.4f}\")\n",
    "        print(f\"Validation Root Mean Squared Error: {val_rmse:.4f}\")\n",
    "        print(f\"Validation R^2 Score: {val_rsq:.4f}\")\n",
    "\n",
    "    if holdout:\n",
    "        # Evaluation on holdout data\n",
    "        holdout_pred = model.predict(Xht)\n",
    "        holdout_mae = mean_absolute_error(yht, holdout_pred)\n",
    "        holdout_mse = mean_squared_error(yht, holdout_pred)\n",
    "        holdout_rmse = mean_squared_error(yht, holdout_pred, squared=False)\n",
    "        holdout_rsq = r2_score(yht, holdout_pred)\n",
    "        print(\" \")\n",
    "        print(f\"Holdout Mean Absolute Error: {holdout_mae:.4f}\")\n",
    "        print(f\"Holdout Mean Squared Error: {holdout_mse:.4f}\")\n",
    "        print(f\"Holdout Root Mean Squared Error: {holdout_rmse:.4f}\")\n",
    "        print(f\"Holdout R^2 Score: {holdout_rsq:.4f}\")\n",
    "\n",
    "    return model"
   ],
   "block_group": "3727a082acc74d6182de877cc8ddc676",
   "execution_count": null,
   "outputs": [],
   "outputs_reference": null
  },
  {
   "cell_type": "code",
   "metadata": {
    "source_hash": null,
    "execution_start": 1711906042245,
    "execution_millis": 86,
    "deepnote_to_be_reexecuted": false,
    "cell_id": "db40cc37d2924a0ea97dfff9427a1574",
    "deepnote_cell_type": "code"
   },
   "source": [
    "def plot_feat_importance(model):\n",
    "    \"\"\"\n",
    "    Plot the feature importance\n",
    "    model: The model object itself\n",
    "    \"\"\"\n",
    "    fi_df = pd.DataFrame({'Feature':model.feature_names_in_,'Importance':model.feature_importances_}).sort_values(by='Importance', ascending=True)\n",
    "    \n",
    "    # Plot the feature importance\n",
    "    fig = px.bar(fi_df, x=\"Importance\", y=\"Feature\", orientation='h', color_discrete_sequence=['darkorange'])\n",
    "    fig.update_xaxes(categoryorder='total ascending')\n",
    "    fig.update_layout(\n",
    "        title={\n",
    "            'text': \"Feature Importance For The Model\",\n",
    "            'x': 0.5, 'xanchor': 'center',\n",
    "            'y':0.90, 'yanchor':'top'},\n",
    "        xaxis=dict(title=\"Feature Importance\", title_standoff=2),\n",
    "        yaxis=dict(title=\"Feature\", title_standoff=0),\n",
    "        height=400, width=650)\n",
    "    fig.add_annotation(\n",
    "        dict(text=f\"Data Sources: Global Coral Beaching Database, World Bank WDI\\nMarine Ecoregions of the World\", x=0.5, y=-0.25, showarrow=False,\n",
    "            font=dict(\n",
    "                size=10,\n",
    "                color=\"grey\"),\n",
    "            xref=\"paper\", yref=\"paper\", align=\"center\"\n",
    "        )\n",
    "    )\n",
    "\n",
    "    fig.show()"
   ],
   "block_group": "621af0ad2cf14c4e8f356c824a53201b",
   "execution_count": null,
   "outputs": [],
   "outputs_reference": null
  },
  {
   "cell_type": "code",
   "metadata": {
    "source_hash": null,
    "execution_start": 1711906042245,
    "execution_millis": 87,
    "deepnote_to_be_reexecuted": false,
    "cell_id": "d581c9ade6fc41cc9902359203441d5b",
    "deepnote_cell_type": "code"
   },
   "source": [
    "def write_out(model, trials, params, feat_cols=[], common_path=\"/work/models\", model_family=\"randomforest_reg\", location_name=\"CARB\"):\n",
    "    \"\"\"\n",
    "    Write out the model artifacts to disk\n",
    "    model: The model object itself\n",
    "    trial: The Hyperopt trials object\n",
    "    params: The best model hyperparameters from the trials object\n",
    "    common_path: The common path for model artifacts e.g. '/work/models'\n",
    "    model_family: The model family, e.g. 'xgboost_reg', 'lightgbm_reg'\n",
    "    location_name: The geography that the model is trained for, e.g. 'SEAA', 'CARB', 'GLOB'\n",
    "    \"\"\"\n",
    "    date_time_str = datetime.datetime.now().strftime(\"%Y%m%d_%H%M%S\")\n",
    "    model_path = os.path.join(common_path, model_family, location_name)\n",
    " \n",
    "    # make sure the path exists\n",
    "    os.makedirs(model_path, exist_ok=True)\n",
    "\n",
    "    # Write out the HyperOpt Trials object\n",
    "    with open(model_path+'/'+date_time_str+'_trials.pkl', 'wb') as f:\n",
    "        pickle.dump(trials, f)\n",
    "\n",
    "    # Write out the XGBoost Model Object\n",
    "    with open(model_path+'/'+date_time_str+'_model.pkl', 'wb') as f:\n",
    "        pickle.dump(model, f)\n",
    "\n",
    "    # Write out the XGBoost Best Params\n",
    "    with open(model_path+'/'+date_time_str+'_params.pkl', 'wb') as f:\n",
    "        pickle.dump(params, f)\n",
    "    \n",
    "    # Write out the feature columns if they exist\n",
    "    if len(feat_cols) > 0:\n",
    "        with open(model_path+'/'+date_time_str+'_feat_cols.pkl', 'wb') as f:\n",
    "            pickle.dump(feat_cols, f)"
   ],
   "block_group": "1b88100b784648c2b6425083bc317439",
   "execution_count": null,
   "outputs": [],
   "outputs_reference": null
  },
  {
   "cell_type": "code",
   "metadata": {
    "source_hash": null,
    "execution_start": 1711906042265,
    "execution_millis": 67,
    "deepnote_to_be_reexecuted": false,
    "cell_id": "e63f63824bc842728f45eab8e3e6a362",
    "deepnote_cell_type": "code"
   },
   "source": [
    "def feat_ablation(model, hps, Xtt, ytt, Xvt, yvt, Xht, yht, abl_list_to_combo=[]):\n",
    "    \"\"\"\n",
    "    Perform feature ablation analysis\n",
    "    model: The model object itself\n",
    "    Xtt: X_train_trans\n",
    "    ytt: y_train_trans\n",
    "    Xvt: X_val_trans\n",
    "    yvt: y_val_trans\n",
    "    Xht: X_holdout_trans\n",
    "    yht: y_holdout_trans\n",
    "    \"\"\"\n",
    "    \n",
    "    # Create the base model object with hyperparameters\n",
    "    # Note: this model will be refit during the ablation loop\n",
    "    abl_model = model_score(hps, Xtt=Xtt, ytt=ytt, Xvt=Xvt, yvt=yvt, Xht=Xht, yht=yht, train=False, val=False, holdout=False)\n",
    "    \n",
    "    # Evaluation on train data\n",
    "    train_pred = abl_model.predict(Xtt)\n",
    "    baseline_mae_train = mean_absolute_error(ytt, train_pred)\n",
    "    \n",
    "    # Evaluation on validation data\n",
    "    val_pred = abl_model.predict(Xvt)\n",
    "    baseline_mae_val = mean_absolute_error(yvt, val_pred)\n",
    "\n",
    "    print(f\"Baseline Mean MAE: {baseline_mae_train:.4f}, Validation MAE: {baseline_mae_val:.4f}\")\n",
    "\n",
    "\n",
    "    # Features for ablation \n",
    "    # Start with all features\n",
    "    abl_list = [[x] for x in Xtt.columns]\n",
    "\n",
    "    # Now create combos of features passed in as abl_list_to_combo\n",
    "    # Create combos of all items in abl_list_to_combo\n",
    "    # Range stars at 2 to skip single columns\n",
    "    abl_combo_list = [combo for r in range(2, len(abl_list_to_combo) + 1) \n",
    "        for combo in itertools.combinations(abl_list_to_combo, r)]\n",
    "\n",
    "    # Itertools combinations() creates tuples. \n",
    "    #   Convert each combination from a tuple to a list for ablation\n",
    "    abl_combo_list = [list(combo) for combo in abl_combo_list]\n",
    "\n",
    "    # Add the ablation combos to the ablation list\n",
    "    abl_list = abl_list + abl_combo_list\n",
    "\n",
    "\n",
    "    # Create the ablation loop\n",
    "    ablation_results_list = []\n",
    "\n",
    "    # Feat ablation loop\n",
    "    for feature in abl_list:\n",
    "        # drop ablated cols\n",
    "        modified_X_train_trans = Xtt.drop(columns=feature)\n",
    "        modified_X_val_trans = Xvt.drop(columns=feature)\n",
    "\n",
    "        # Fit the model with ablated features        \n",
    "        abl_model.fit(modified_X_train_trans, ytt)\n",
    "\n",
    "        # Evaluation on train data\n",
    "        modified_train_predictions = abl_model.predict(modified_X_train_trans)\n",
    "        modified_mae_train = mean_absolute_error(ytt, modified_train_predictions)\n",
    "\n",
    "        # Evaluation on validation data\n",
    "        modified_val_predictions = abl_model.predict(modified_X_val_trans)\n",
    "        modified_mae_val = mean_absolute_error(yvt, modified_val_predictions)\n",
    "        \n",
    "        # Calculate MAE changes\n",
    "        mae_change_train = baseline_mae_train - modified_mae_train\n",
    "        mae_change_val = baseline_mae_val - modified_mae_val\n",
    "\n",
    "        ablation_result_dict = {\n",
    "            'Removed_Feature': \", \".join(feature),\n",
    "            'Train_MAE': modified_mae_train,\n",
    "            'Train_MAE_Change': mae_change_train,\n",
    "            'Train_MAE_Pct_Change': 100*(1-(modified_mae_train/baseline_mae_train)),\n",
    "            'Val_MAE': modified_mae_val,\n",
    "            'Val_MAE_Change': mae_change_val,\n",
    "            'Val_MAE_Pct_Change': 100*(1-(modified_mae_val/baseline_mae_val))\n",
    "        }\n",
    "        \n",
    "        ablation_results_list.append(ablation_result_dict)\n",
    "    \n",
    "    feature_ablation_df = pd.DataFrame(ablation_results_list)\n",
    "    \n",
    "    return feature_ablation_df, baseline_mae_val, baseline_mae_train"
   ],
   "block_group": "0c78b8575d3e4fed8c1258672fbd63cf",
   "execution_count": null,
   "outputs": [],
   "outputs_reference": null
  },
  {
   "cell_type": "code",
   "metadata": {
    "source_hash": null,
    "execution_start": 1711906042266,
    "execution_millis": 66,
    "deepnote_to_be_reexecuted": false,
    "cell_id": "a3cf960bf3574e58b6941649eaf3cdd6",
    "deepnote_cell_type": "code"
   },
   "source": [
    "# Define the Hyperparameter space\n",
    "space = {\n",
    "    'n_estimators': hp.quniform('n_estimators', 100, 2500, 1),\n",
    "    'max_features': hp.choice('max_features', ['sqrt', 'log2', None]),\n",
    "    #'max_depth': hp.quniform('max_depth', 0, 20, 1),\n",
    "    'min_samples_leaf': hp.quniform('min_samples_leaf', 3, 24, 1),\n",
    "    #'min_samples_split': hp.quniform('min_samples_split', 2, 48, 1),\n",
    "    'min_samples_split': hp.quniform('min_samples_split', 2, 12, 1),\n",
    "    'min_weight_fraction_leaf': hp.uniform('min_weight_fraction_leaf', 0.0, 0.5),\n",
    "    'max_leaf_nodes': hp.quniform('max_leaf_nodes', 2, 1500, 1),\n",
    "    #'ccp_alpha': hp.uniform('ccp_alpha', 0.03, 0.12)\n",
    "}"
   ],
   "block_group": "3a00bdd5413841deb53ccbfa46d6227b",
   "execution_count": null,
   "outputs": [],
   "outputs_reference": null
  },
  {
   "cell_type": "markdown",
   "metadata": {
    "is_collapsed": false,
    "formattedRanges": [],
    "deepnote_app_block_visible": false,
    "cell_id": "57ab3434310c4407a9b021a8a5bd934f",
    "deepnote_cell_type": "text-cell-h1"
   },
   "source": [
    "# Caribbean Region"
   ],
   "block_group": "f1427867b545433990280c904087c651"
  },
  {
   "cell_type": "markdown",
   "metadata": {
    "formattedRanges": [],
    "cell_id": "d55ce993c8e74ab48cd703d94e5681d9",
    "deepnote_cell_type": "text-cell-h2"
   },
   "source": [
    "## Import the Data"
   ],
   "block_group": "c032e474be5b4808bc0f5c47e96918cb"
  },
  {
   "cell_type": "code",
   "metadata": {
    "source_hash": null,
    "execution_start": 1711906042300,
    "execution_millis": 896,
    "deepnote_to_be_reexecuted": false,
    "cell_id": "73d45b0d4ef0475db0728cab046e69d4",
    "deepnote_cell_type": "code"
   },
   "source": [
    "X_train_trans, X_val_trans, X_holdout_trans, y_train_trans, y_val_trans, y_holdout_trans = import_data(location_name='CARB')"
   ],
   "block_group": "0f53ed0fda7a4769b509d8d3f314d469",
   "execution_count": null,
   "outputs": [],
   "outputs_reference": null
  },
  {
   "cell_type": "markdown",
   "metadata": {
    "is_collapsed": false,
    "formattedRanges": [],
    "deepnote_app_block_visible": false,
    "cell_id": "60724d070c5242a3a5a62c112f00cac7",
    "deepnote_cell_type": "text-cell-h2"
   },
   "source": [
    "## Hyperparameter Tuning"
   ],
   "block_group": "8e8a57b936db489b84c356e2b0f80e08"
  },
  {
   "cell_type": "markdown",
   "metadata": {
    "formattedRanges": [],
    "cell_id": "3ceea9a017b9493cba02b01beb534240",
    "deepnote_cell_type": "text-cell-h3"
   },
   "source": [
    "### Execute Hyperparameter search"
   ],
   "block_group": "016820d33d6942cc9f17cc230e41c67b"
  },
  {
   "cell_type": "code",
   "metadata": {
    "source_hash": null,
    "execution_start": 1711906043199,
    "execution_millis": 1236343,
    "deepnote_to_be_reexecuted": false,
    "cell_id": "4bc6a625477b4502b4fbe58b7e111461",
    "deepnote_cell_type": "code"
   },
   "source": [
    "# Instantiate Neptune instance\n",
    "run = neptune.init_run(\n",
    "    name=\"RandomForest Reg Caribbean\",\n",
    "    tags=[\"RandomForest\", \"regression\", \"hyperopt\", \"RMSE\", \"Caribbean\", \"CARB\"],\n",
    "    description=\"RandomForest Hyperopt with RMSE on Caribbean\"\n",
    ")\n",
    "\n",
    "# Create the Trials object\n",
    "CARB_trials = Trials()\n",
    "\n",
    "# Create the fmin object\n",
    "CARB_best_hyperparams = fmin(fn = objective,\n",
    "                            space = space,\n",
    "                            algo = tpe.suggest,\n",
    "                            max_evals = 1000,\n",
    "                            trials = CARB_trials,\n",
    "                            show_progressbar=True,\n",
    "                            early_stop_fn=no_progress_loss(100))\n",
    "\n",
    "# Stop Neptune instance\n",
    "run.stop()\n",
    "\n",
    "CARB_best_trial = CARB_trials.best_trial\n",
    "CARB_best_hps = CARB_best_hyperparams.copy()\n",
    "\n",
    "CARB_best_hps['max_features'] = ['sqrt', 'log2', None][CARB_best_hps['max_features']]\n",
    "CARB_best_hps['n_estimators'] = int(CARB_best_hps['n_estimators'])\n",
    "#CARB_best_hps['max_depth'] = int(CARB_best_hps['max_depth'])\n",
    "CARB_best_hps['min_samples_split'] = int(CARB_best_hps['min_samples_split'])\n",
    "CARB_best_hps['min_samples_leaf'] = int(CARB_best_hps['min_samples_leaf'])\n",
    "CARB_best_hps['max_leaf_nodes'] = int(CARB_best_hps['max_leaf_nodes'])"
   ],
   "block_group": "9fd65f126f234996825f29b02f9cfbad",
   "execution_count": null,
   "outputs": [],
   "outputs_reference": "s3:deepnote-cell-outputs-production/e80a6749-a086-49ca-bd49-7deff8e2c47a"
  },
  {
   "cell_type": "markdown",
   "metadata": {
    "formattedRanges": [],
    "cell_id": "768c13607c06485e813f4b67a72be047",
    "deepnote_cell_type": "text-cell-h3"
   },
   "source": [
    "### Review the Hyperparameter Search Validation MAE Scores and Hyperparameters"
   ],
   "block_group": "5e18df8b4a3748f894e8aa1ba861e660"
  },
  {
   "cell_type": "code",
   "metadata": {
    "source_hash": null,
    "execution_start": 1711907279545,
    "execution_millis": 307,
    "deepnote_to_be_reexecuted": false,
    "cell_id": "413fef4cbae147b0b71f9edfbe212028",
    "deepnote_cell_type": "code"
   },
   "source": [
    "# What's the best trial from the search? Report the MAE & StdDev\n",
    "print(f\"Best Mean Absolute Error: {CARB_trials.best_trial['result']['loss']:.4f}\")\n",
    "print(f\"Best Standard Error: {CARB_trials.best_trial['result']['std']:.4f}\")"
   ],
   "block_group": "e03cff7282584c11b165765d2b929b2a",
   "execution_count": null,
   "outputs": [],
   "outputs_reference": "dbtable:cell_outputs/b3171c3b-ebbf-4934-aa30-755f6a9806be"
  },
  {
   "cell_type": "code",
   "metadata": {
    "source_hash": null,
    "execution_start": 1711907279546,
    "execution_millis": 307,
    "deepnote_to_be_reexecuted": false,
    "cell_id": "e5c76844ee0c4f7fba4563765c64213e",
    "deepnote_cell_type": "code"
   },
   "source": [
    "# Display the best hyperparameters\n",
    "CARB_best_hps"
   ],
   "block_group": "2d368b28481d4163990b20c6623a2207",
   "execution_count": null,
   "outputs": [],
   "outputs_reference": "dbtable:cell_outputs/5aa46bf9-c7e6-46b2-a37a-5cffb8d7ac45"
  },
  {
   "cell_type": "markdown",
   "metadata": {
    "formattedRanges": [],
    "cell_id": "e2121f6f61534b97bd67230e72f34d21",
    "deepnote_cell_type": "text-cell-h2"
   },
   "source": [
    "## Recreate the model and get new MAE and Feature Importance"
   ],
   "block_group": "510eb6a614644592ba9b30bfd46bb4e1"
  },
  {
   "cell_type": "code",
   "metadata": {
    "source_hash": null,
    "execution_start": 1711907279549,
    "execution_millis": 54877,
    "deepnote_to_be_reexecuted": false,
    "cell_id": "0b3c351ab74c42c398e7b81ad0cb5370",
    "deepnote_cell_type": "code"
   },
   "source": [
    "# Recreate the model with the best hyperparameters\n",
    "CARB_model = model_score(CARB_best_hps, holdout=True, val=True)\n",
    "\n",
    "# Plot the feature importance\n",
    "plot_feat_importance(CARB_model)"
   ],
   "block_group": "2ca3dcfbf27f41bab8cb7866df059743",
   "execution_count": null,
   "outputs": [],
   "outputs_reference": "s3:deepnote-cell-outputs-production/f1484147-a5a9-4dd2-832a-969b7b1e23bb"
  },
  {
   "cell_type": "markdown",
   "metadata": {
    "is_collapsed": false,
    "formattedRanges": [],
    "deepnote_app_block_visible": false,
    "cell_id": "984864e9d5a143d2b5d6c18513a65ade",
    "deepnote_cell_type": "text-cell-h2"
   },
   "source": [
    "## Feature Ablation"
   ],
   "block_group": "09cdeccecbf240e68a8256985a4b599f"
  },
  {
   "cell_type": "code",
   "metadata": {
    "source_hash": null,
    "execution_start": 1711907334432,
    "execution_millis": 1043778,
    "deepnote_to_be_reexecuted": false,
    "cell_id": "b807d833835e45289c58a129606884f3",
    "deepnote_cell_type": "code"
   },
   "source": [
    "%%time\n",
    "# First run through the feature ablation process\n",
    "# This will determine which features can potentially be removed\n",
    "CARB_feature_ablation_df, CARB_baseline_mae_val, CARB_baseline_mae_train = feat_ablation(\n",
    "    model=CARB_model, hps=CARB_best_hps, \n",
    "    Xtt=X_train_trans, ytt=y_train_trans, \n",
    "    Xvt=X_val_trans, yvt=y_val_trans, \n",
    "    Xht=X_holdout_trans, yht=y_holdout_trans)"
   ],
   "block_group": "8c29dae6f92447749a2fa116b323bea8",
   "execution_count": null,
   "outputs": [],
   "outputs_reference": "dbtable:cell_outputs/f25f989a-b860-48d5-85d9-2f39552ebb77"
  },
  {
   "cell_type": "code",
   "metadata": {
    "source_hash": null,
    "execution_start": 1711908378212,
    "execution_millis": 239,
    "deepnote_table_state": {
     "sortBy": [],
     "filters": [],
     "pageSize": 50,
     "pageIndex": 0
    },
    "deepnote_table_loading": false,
    "deepnote_to_be_reexecuted": false,
    "cell_id": "df449b7269574d87b35f95a442da2e90",
    "deepnote_cell_type": "code"
   },
   "source": [
    "# Show the feature ablation dataframe, sorted by the change in MAE to Validation data\n",
    "CARB_feature_ablation_df.sort_values('Val_MAE_Change', ascending=False)"
   ],
   "block_group": "ced566f9b071492da231bf8860fc5a06",
   "execution_count": null,
   "outputs": [],
   "outputs_reference": "s3:deepnote-cell-outputs-production/015bffe4-7aed-4eec-b46e-5f2d7dfad075"
  },
  {
   "cell_type": "code",
   "metadata": {
    "source_hash": null,
    "execution_start": 1711908378271,
    "execution_millis": 336,
    "deepnote_to_be_reexecuted": false,
    "cell_id": "763353677eef402f9890bd032f710bf0",
    "deepnote_cell_type": "code"
   },
   "source": [
    "# Generate the top 5 features to use in feature ablation combinations\n",
    "CARB_abl_list_to_combo = CARB_feature_ablation_df[CARB_feature_ablation_df['Val_MAE'] <= CARB_baseline_mae_val].sort_values('Val_MAE_Change', ascending=False)['Removed_Feature'].head(1).values[0].split(', ')\n",
    "\n",
    "# Show the top 5 features\n",
    "CARB_abl_list_to_combo"
   ],
   "block_group": "0b0bc9eb4cb24a989669e7b5c4f843e0",
   "execution_count": null,
   "outputs": [],
   "outputs_reference": "dbtable:cell_outputs/0af61a2f-e631-4945-bae1-e725db3cdb26"
  },
  {
   "cell_type": "code",
   "metadata": {
    "source_hash": null,
    "execution_start": 1711908378272,
    "execution_millis": 1043551,
    "deepnote_to_be_reexecuted": false,
    "cell_id": "e78ea9ae6ff94f69b85b1306880472d8",
    "deepnote_cell_type": "code"
   },
   "source": [
    "%%time\n",
    "# Second run through the feature ablation process\n",
    "# This time including the top 5 features whose removal decreased the MAE\n",
    "# These top 5 features will be combined using itertools\n",
    "CARB_feature_ablation_df, CARB_baseline_mae_val, CARB_baseline_mae_train = feat_ablation(\n",
    "    model=CARB_model, hps=CARB_best_hps, \n",
    "    Xtt=X_train_trans, ytt=y_train_trans, \n",
    "    Xvt=X_val_trans, yvt=y_val_trans, \n",
    "    Xht=X_holdout_trans, yht=y_holdout_trans, \n",
    "    abl_list_to_combo=CARB_abl_list_to_combo)"
   ],
   "block_group": "5f05f331a8af4a41825c9a285ca236e7",
   "execution_count": null,
   "outputs": [],
   "outputs_reference": "dbtable:cell_outputs/4a13aa2b-eaf8-43f4-bbf5-a14bc66e4ccd"
  },
  {
   "cell_type": "code",
   "metadata": {
    "source_hash": null,
    "execution_start": 1711909421826,
    "execution_millis": 258,
    "deepnote_table_state": {
     "sortBy": [
      {
       "id": "Val_MAE_Change",
       "type": "desc"
      }
     ],
     "filters": [],
     "pageSize": 25,
     "pageIndex": 0
    },
    "deepnote_table_loading": false,
    "deepnote_to_be_reexecuted": false,
    "cell_id": "2af4d28dd55544c788d7fbb0c8e4272f",
    "deepnote_cell_type": "code"
   },
   "source": [
    "# Show the feature ablation dataframe, sorted by the change in MAE to Validation data\n",
    "CARB_feature_ablation_df[CARB_feature_ablation_df['Val_MAE'] <= CARB_baseline_mae_val]"
   ],
   "block_group": "8c0621fd67824838aa555fb148c8c08c",
   "execution_count": null,
   "outputs": [],
   "outputs_reference": "s3:deepnote-cell-outputs-production/6487460d-0e4b-43bb-ab89-1997aa768898"
  },
  {
   "cell_type": "code",
   "metadata": {
    "source_hash": null,
    "execution_start": 1711909421869,
    "execution_millis": 378,
    "deepnote_to_be_reexecuted": false,
    "cell_id": "b04c4fdf4df247619fbdde3cf7a37ea2",
    "deepnote_cell_type": "code"
   },
   "source": [
    "# Show the top 1 feature, which we'll remove.  Might be multiple features, so we split the string\n",
    "CARB_feature_ablation_df[CARB_feature_ablation_df['Val_MAE'] <= CARB_baseline_mae_val].sort_values('Val_MAE_Change', ascending=False)['Removed_Feature'].head(1).to_list()"
   ],
   "block_group": "c54e98cf034a41098b1ef44b9c043231",
   "execution_count": null,
   "outputs": [],
   "outputs_reference": "dbtable:cell_outputs/3622d2e8-950a-4e88-a029-01aa09ab51bc"
  },
  {
   "cell_type": "code",
   "metadata": {
    "source_hash": null,
    "execution_start": 1711909421869,
    "execution_millis": 52183,
    "deepnote_to_be_reexecuted": false,
    "cell_id": "14d00128d5974d80807b5bfeeea789a3",
    "deepnote_cell_type": "code"
   },
   "source": [
    "# Define the top features to drop\n",
    "CARB_drop_cols = CARB_feature_ablation_df[CARB_feature_ablation_df['Val_MAE'] <= CARB_baseline_mae_val].sort_values('Val_MAE_Change', ascending=False)['Removed_Feature'].head(1).values[0].split(', ')\n",
    "\n",
    "# Create the feature columns list for saving out\n",
    "CARB_feat_columns = X_train_trans.drop(columns=CARB_drop_cols).columns.to_list()\n",
    "\n",
    "# Recreate the model with the dropped columns\n",
    "# It should have a lower MAE score than the original\n",
    "CARB_experiment_model = model_score(\n",
    "    CARB_best_hps, val=True, \n",
    "    Xtt=X_train_trans.drop(columns=CARB_drop_cols), ytt=y_train_trans, \n",
    "    Xvt=X_val_trans.drop(columns=CARB_drop_cols), yvt=y_val_trans, \n",
    "    Xht=X_holdout_trans.drop(columns=CARB_drop_cols), yht=y_holdout_trans)\n",
    "\n",
    "# Plot the feature importance for this model\n",
    "plot_feat_importance(CARB_experiment_model)"
   ],
   "block_group": "610f1a852a7f4193a65c1f1d15924609",
   "execution_count": null,
   "outputs": [],
   "outputs_reference": "s3:deepnote-cell-outputs-production/29af9d02-9ef5-4638-bf8b-101670173127"
  },
  {
   "cell_type": "markdown",
   "metadata": {
    "formattedRanges": [],
    "cell_id": "0761cdf945874472897ac560f725d1fa",
    "deepnote_cell_type": "text-cell-h3"
   },
   "source": [
    "### Output the Model, Trials, Parameters and Feature List to disk"
   ],
   "block_group": "b8c3eec0f6b94fcc9e32ba6f2c5ff2a7"
  },
  {
   "cell_type": "code",
   "metadata": {
    "source_hash": null,
    "execution_start": 1711909474057,
    "execution_millis": 1544,
    "deepnote_to_be_reexecuted": false,
    "cell_id": "67bb98e2e1a742aa8ac6eb18b7141bed",
    "deepnote_cell_type": "code"
   },
   "source": [
    "# Write out the model artifacts to disk\n",
    "write_out(model=CARB_model, trials=CARB_trials, params=CARB_best_hps, feat_cols=CARB_feat_columns, location_name='CARB')"
   ],
   "block_group": "053444987e0d411ba8f0852f8762f731",
   "execution_count": null,
   "outputs": [],
   "outputs_reference": null
  },
  {
   "cell_type": "markdown",
   "metadata": {
    "is_collapsed": false,
    "formattedRanges": [],
    "deepnote_app_block_visible": false,
    "cell_id": "c41c9f97be684128bca302dc4aa2ef84",
    "deepnote_cell_type": "text-cell-h2"
   },
   "source": [
    "## Review Holdout Truth vs Predictions"
   ],
   "block_group": "139ee5a3d74144fc807ec52d372ad6e4"
  },
  {
   "cell_type": "code",
   "metadata": {
    "source_hash": null,
    "execution_start": 1711909475604,
    "execution_millis": 206,
    "deepnote_to_be_reexecuted": false,
    "cell_id": "a521191a12fc48968d45047f0efd4192",
    "deepnote_cell_type": "code"
   },
   "source": [
    "eval_df = y_val_trans.copy(deep=True)\n",
    "CARB_val_pred = CARB_model.predict(X_val_trans)\n",
    "eval_df['predictions'] = CARB_val_pred.tolist()\n",
    "eval_df['diff'] = eval_df['y_val'] - eval_df['predictions']"
   ],
   "block_group": "0abf6862b25e4bc4b4061e7db1e64a3e",
   "execution_count": null,
   "outputs": [],
   "outputs_reference": null
  },
  {
   "cell_type": "code",
   "metadata": {
    "source_hash": null,
    "execution_start": 1711909475812,
    "execution_millis": 250,
    "deepnote_table_state": {
     "sortBy": [],
     "filters": [],
     "pageSize": 25,
     "pageIndex": 0
    },
    "deepnote_table_loading": false,
    "deepnote_to_be_reexecuted": false,
    "cell_id": "9243da5e13744c24955566956ad3cd51",
    "deepnote_cell_type": "code"
   },
   "source": [
    "eval_df.sort_values(by='diff', ascending=False).head(20)"
   ],
   "block_group": "e11ab89146f34829a95efb1a627531f9",
   "execution_count": null,
   "outputs": [],
   "outputs_reference": "s3:deepnote-cell-outputs-production/27c0267c-daef-40bb-8635-22452dcabb65"
  },
  {
   "cell_type": "code",
   "metadata": {
    "source_hash": null,
    "execution_start": 1711909475820,
    "execution_millis": 654,
    "deepnote_to_be_reexecuted": false,
    "cell_id": "16c2d19dd3664c808ae480b958ed4900",
    "deepnote_cell_type": "code"
   },
   "source": [
    "fig = px.histogram(eval_df[eval_df['y_val'] > 5], x='diff', nbins=100, title='Distribution of the diff between prediction and holdout where true value > 5')\n",
    "\n",
    "# Show the plot\n",
    "fig.show()"
   ],
   "block_group": "b515f851aad24673ab421c56adc26d09",
   "execution_count": null,
   "outputs": [],
   "outputs_reference": "s3:deepnote-cell-outputs-production/17166a29-bb0d-453c-9f94-eefdbab96f4a"
  },
  {
   "cell_type": "code",
   "metadata": {
    "source_hash": null,
    "execution_start": 1711909475843,
    "execution_millis": 632,
    "deepnote_table_state": {
     "sortBy": [],
     "filters": [],
     "pageSize": 25,
     "pageIndex": 0
    },
    "deepnote_table_loading": false,
    "deepnote_to_be_reexecuted": false,
    "cell_id": "970e509b0d9d486799d5a7a077682f8e",
    "deepnote_cell_type": "code"
   },
   "source": [
    "#eval_df[(eval_df['diff'].between(-5,5))]\n",
    "#eval_df[(eval_df['diff'].between(-5,5)) & (eval_df['y_val'] > 5)]\n",
    "eval_df[~(eval_df['diff'].between(-5,5))]\n"
   ],
   "block_group": "c4537cf4ea804253a4da3993acd0b6e3",
   "execution_count": null,
   "outputs": [],
   "outputs_reference": "s3:deepnote-cell-outputs-production/7ad8feee-2f80-48a3-bd49-4fd31815e27e"
  },
  {
   "cell_type": "markdown",
   "metadata": {
    "formattedRanges": [],
    "cell_id": "20d40f0296784bb4857a2ff5fbb1e35c",
    "deepnote_cell_type": "text-cell-h2"
   },
   "source": [
    "## SHAP Analysis"
   ],
   "block_group": "e40d498cd3a04efe8340bcd336d42635"
  },
  {
   "cell_type": "markdown",
   "metadata": {
    "formattedRanges": [],
    "cell_id": "a1a81d0d401c4527a206a731bcd8d707",
    "deepnote_cell_type": "text-cell-h3"
   },
   "source": [
    "### Create SHAP Objects"
   ],
   "block_group": "df59f68bcdf4446b81ee99beccaa87d0"
  },
  {
   "cell_type": "code",
   "metadata": {
    "source_hash": null,
    "execution_start": 1711909475890,
    "execution_millis": 585,
    "deepnote_to_be_reexecuted": false,
    "cell_id": "e00020aec43248cb80035a5a35be81a9",
    "deepnote_cell_type": "code"
   },
   "source": [
    "# %%time\n",
    "# CARB_X_val_trans = X_val_trans.copy(deep=True)\n",
    "# CARB_y_val_trans = y_val_trans.copy(deep=True)\n",
    "# explainer = shap.TreeExplainer(CARB_model)\n",
    "# shap_values = explainer(CARB_X_val_trans)\n",
    "# shap_interaction = explainer.shap_interaction_values(CARB_X_val_trans)\n",
    "# sv = explainer.shap_values(CARB_X_val_trans)\n",
    "# shap.initjs()"
   ],
   "block_group": "c7de2fc85ece4c89b3ca9e620545be73",
   "execution_count": null,
   "outputs": [],
   "outputs_reference": null
  },
  {
   "cell_type": "code",
   "metadata": {
    "source_hash": null,
    "execution_start": 1711909475891,
    "execution_millis": 585,
    "deepnote_to_be_reexecuted": false,
    "cell_id": "35e9d79347ae43f7b9a3fd81ead39b30",
    "deepnote_cell_type": "code"
   },
   "source": [
    "# Beeswarm Importance\n",
    "# plt.figure(figsize=(8,6))\n",
    "# plt.title(f\"SHAP Beeswarm Analysis\")\n",
    "# shap.plots.beeswarm(shap_values, max_display=32)\n",
    "# plt.close()"
   ],
   "block_group": "9d7304cc62fd4802b6aba47b154e7a5a",
   "execution_count": null,
   "outputs": [],
   "outputs_reference": null
  },
  {
   "cell_type": "markdown",
   "metadata": {
    "formattedRanges": [],
    "cell_id": "94a8be88a0534297b2a38d13ab2e4072",
    "deepnote_cell_type": "text-cell-h3"
   },
   "source": [
    "### Investigate Individual Predictions"
   ],
   "block_group": "00a6d7f716f04492af4d77a7895ea7be"
  },
  {
   "cell_type": "code",
   "metadata": {
    "source_hash": null,
    "execution_start": 1711909475892,
    "execution_millis": 584,
    "deepnote_to_be_reexecuted": false,
    "cell_id": "86c3537c7c164a11a4282168bb1f26f1",
    "deepnote_cell_type": "code"
   },
   "source": [
    "# investigate = CARB_X_val_trans.index.get_loc(5466)\n",
    "# print(CARB_y_val_trans.iloc[investigate])"
   ],
   "block_group": "fd49f345257942e4832f92ff46b8724a",
   "execution_count": null,
   "outputs": [],
   "outputs_reference": null
  },
  {
   "cell_type": "code",
   "metadata": {
    "source_hash": null,
    "execution_start": 1711909475897,
    "execution_millis": 579,
    "deepnote_to_be_reexecuted": false,
    "cell_id": "8240dde533b34460b8b4f29e153ce7af",
    "deepnote_cell_type": "code"
   },
   "source": [
    "# Waterfall on a prediction\n",
    "# plt.figure(figsize=(8,6))\n",
    "# shap.plots.waterfall(shap_values[investigate], max_display=20) # , show=False\n",
    "# plt.close()"
   ],
   "block_group": "8a661b7b2e6a44dd8e188e2d0ace7bcb",
   "execution_count": null,
   "outputs": [],
   "outputs_reference": null
  },
  {
   "cell_type": "code",
   "metadata": {
    "source_hash": null,
    "execution_start": 1711909475906,
    "execution_millis": 571,
    "deepnote_to_be_reexecuted": false,
    "cell_id": "17ee18a32ea0427cb7e73cec36796217",
    "deepnote_cell_type": "code"
   },
   "source": [
    "# Decision plot on a prediction\n",
    "# shap.decision_plot(explainer.expected_value, explainer.shap_values(CARB_X_val_trans)[investigate], CARB_X_val_trans, feature_display_range=slice(-1,-51,-1))"
   ],
   "block_group": "8b40f4b93b644aa691bcfa4a76cd747d",
   "execution_count": null,
   "outputs": [],
   "outputs_reference": null
  },
  {
   "cell_type": "markdown",
   "metadata": {
    "is_collapsed": false,
    "formattedRanges": [],
    "deepnote_app_block_visible": false,
    "cell_id": "c7a44b9bb4884e1f897fc393123a920d",
    "deepnote_cell_type": "text-cell-h1"
   },
   "source": [
    "# South East Asia and Australia Region"
   ],
   "block_group": "f341c9600c0d47c09020907304caa863"
  },
  {
   "cell_type": "markdown",
   "metadata": {
    "formattedRanges": [],
    "cell_id": "60d2c1870ad24236bc6fb3ea410d76b7",
    "deepnote_cell_type": "text-cell-h2"
   },
   "source": [
    "## Import the Data"
   ],
   "block_group": "cff5ae98cd7c4689b9c0553657bd6760"
  },
  {
   "cell_type": "code",
   "metadata": {
    "allow_embed": false,
    "source_hash": null,
    "execution_start": 1711909475906,
    "execution_millis": 1688,
    "deepnote_to_be_reexecuted": false,
    "cell_id": "5c7c8e37a14a4e2fa23b4005aa29c579",
    "deepnote_cell_type": "code"
   },
   "source": [
    "X_train_trans, X_val_trans, X_holdout_trans, y_train_trans, y_val_trans, y_holdout_trans = import_data(location_name='SEAA')"
   ],
   "block_group": "d837398a0964481daf71b0dbb17f99c4",
   "execution_count": null,
   "outputs": [],
   "outputs_reference": null
  },
  {
   "cell_type": "markdown",
   "metadata": {
    "is_collapsed": false,
    "formattedRanges": [],
    "deepnote_app_block_visible": false,
    "cell_id": "1c54c7eacdd041e9b5dd290fd3df7b13",
    "deepnote_cell_type": "text-cell-h2"
   },
   "source": [
    "## Hyperparameter Tuning"
   ],
   "block_group": "cbad4f42081647f7ac57de419a0937f5"
  },
  {
   "cell_type": "markdown",
   "metadata": {
    "formattedRanges": [],
    "cell_id": "8953786dd3974e8f9429caa4e686104c",
    "deepnote_cell_type": "text-cell-h3"
   },
   "source": [
    "### Execute Hyperparameter search"
   ],
   "block_group": "df0da39a99ac424997e15f3b6df3a25d"
  },
  {
   "cell_type": "code",
   "metadata": {
    "allow_embed": false,
    "source_hash": null,
    "execution_start": 1711909477603,
    "execution_millis": 1954240,
    "deepnote_to_be_reexecuted": false,
    "cell_id": "7aa9e774aee346c08fefbbf2197bdb47",
    "deepnote_cell_type": "code"
   },
   "source": [
    "# Instantiate Neptune instance\n",
    "run = neptune.init_run(\n",
    "    name=\"RandomForest Reg South East Asia and Australia\",\n",
    "    tags=[\"RandomForest\", \"regression\", \"hyperopt\", \"RMSE\", \"South East Asia and Australia\", \"SEAA\"],\n",
    "    description=\"RandomForest Hyperopt with RMSE on South East Asia and Australia\"\n",
    ")\n",
    "\n",
    "# Create the Trials object\n",
    "SEAA_trials = Trials()\n",
    "\n",
    "# Create the fmin object\n",
    "SEAA_best_hyperparams = fmin(fn = objective,\n",
    "                            space = space,\n",
    "                            algo = tpe.suggest,\n",
    "                            max_evals = 1000,\n",
    "                            trials = SEAA_trials,\n",
    "                            show_progressbar=True,\n",
    "                            early_stop_fn=no_progress_loss(100))\n",
    "\n",
    "# Stop Neptune instance\n",
    "run.stop()\n",
    "\n",
    "SEAA_best_trial = SEAA_trials.best_trial\n",
    "SEAA_best_hps = SEAA_best_hyperparams.copy()\n",
    "\n",
    "SEAA_best_hps['max_features'] = ['sqrt', 'log2', None][SEAA_best_hps['max_features']]\n",
    "SEAA_best_hps['n_estimators'] = int(SEAA_best_hps['n_estimators'])\n",
    "#SEAA_best_hps['max_depth'] = int(SEAA_best_hps['max_depth'])\n",
    "SEAA_best_hps['min_samples_split'] = int(SEAA_best_hps['min_samples_split'])\n",
    "SEAA_best_hps['min_samples_leaf'] = int(SEAA_best_hps['min_samples_leaf'])\n",
    "SEAA_best_hps['max_leaf_nodes'] = int(SEAA_best_hps['max_leaf_nodes'])"
   ],
   "block_group": "b3ce289555a342078b8854ab5a577ff0",
   "execution_count": null,
   "outputs": [],
   "outputs_reference": "dbtable:cell_outputs/7592759b-4c9c-4269-bf1d-5eedff2b2bd5"
  },
  {
   "cell_type": "markdown",
   "metadata": {
    "formattedRanges": [],
    "cell_id": "6fc21e53de1c4824a431dfb0effc36a8",
    "deepnote_cell_type": "text-cell-h3"
   },
   "source": [
    "### Review the Hyperparameter Search Validation MAE Scores and Hyperparameters"
   ],
   "block_group": "872d9797753c43cb9ea0aac9295f236b"
  },
  {
   "cell_type": "code",
   "metadata": {
    "allow_embed": false,
    "source_hash": null,
    "execution_start": 1711911431849,
    "execution_millis": 207,
    "deepnote_to_be_reexecuted": false,
    "cell_id": "e74cbc1963d948c1a249050ea3b58a3b",
    "deepnote_cell_type": "code"
   },
   "source": [
    "# What's the best trial from the search? Report the MAE & StdDev\n",
    "print(f\"Best Mean Absolute Error: {SEAA_trials.best_trial['result']['loss']:.4f}\")\n",
    "print(f\"Best Standard Error: {SEAA_trials.best_trial['result']['std']:.4f}\")"
   ],
   "block_group": "fd46e183b105449c82b6966a3161785f",
   "execution_count": null,
   "outputs": [],
   "outputs_reference": "dbtable:cell_outputs/c489fe92-8c66-4fd7-8e7d-4773f3a45b1c"
  },
  {
   "cell_type": "code",
   "metadata": {
    "allow_embed": false,
    "source_hash": null,
    "execution_start": 1711911431850,
    "execution_millis": 206,
    "deepnote_to_be_reexecuted": false,
    "cell_id": "e42d2d6893fc4df29ee9a2ab80f056b2",
    "deepnote_cell_type": "code"
   },
   "source": [
    "# Display the best hyperparameters\n",
    "SEAA_best_hps"
   ],
   "block_group": "c9fe859c0c0c4df99b6aca669ed43e3b",
   "execution_count": null,
   "outputs": [],
   "outputs_reference": "dbtable:cell_outputs/5da93e10-1318-4d47-86d2-eae101d88b04"
  },
  {
   "cell_type": "markdown",
   "metadata": {
    "formattedRanges": [],
    "cell_id": "6de2d64657534c849365e997a1cbc0ec",
    "deepnote_cell_type": "text-cell-h2"
   },
   "source": [
    "## Recreate the model and get new MAE and Feature Importance"
   ],
   "block_group": "e369fe5d08df4bc8bc3637c0b156625a"
  },
  {
   "cell_type": "code",
   "metadata": {
    "allow_embed": false,
    "source_hash": null,
    "execution_start": 1711911431852,
    "execution_millis": 21136,
    "deepnote_to_be_reexecuted": false,
    "cell_id": "e0065d28ad924b94983207364d5c9d09",
    "deepnote_cell_type": "code"
   },
   "source": [
    "# Recreate the model with the best hyperparameters\n",
    "SEAA_model = model_score(SEAA_best_hps, holdout=True, val=True)\n",
    "\n",
    "# Plot the feature importance\n",
    "plot_feat_importance(SEAA_model)"
   ],
   "block_group": "c5c82f407c184f76948bacfcc0f1478b",
   "execution_count": null,
   "outputs": [],
   "outputs_reference": "s3:deepnote-cell-outputs-production/4dfb15bd-9ab1-47db-ac88-192a912ed2e6"
  },
  {
   "cell_type": "markdown",
   "metadata": {
    "is_collapsed": false,
    "formattedRanges": [],
    "deepnote_app_block_visible": false,
    "cell_id": "6baa3f6234a74dabbc8fe0e7a9e31451",
    "deepnote_cell_type": "text-cell-h2"
   },
   "source": [
    "## Feature Ablation"
   ],
   "block_group": "d9a9481de5f54ec2a6e306f3023ac159"
  },
  {
   "cell_type": "code",
   "metadata": {
    "allow_embed": false,
    "source_hash": null,
    "execution_start": 1711911452991,
    "execution_millis": 445138,
    "deepnote_to_be_reexecuted": false,
    "cell_id": "8787715d7f6740fa9093013040e8cdfe",
    "deepnote_cell_type": "code"
   },
   "source": [
    "%%time\n",
    "# First run through the feature ablation process\n",
    "# This will determine which features can potentially be removed\n",
    "SEAA_feature_ablation_df, SEAA_baseline_mae_val, SEAA_baseline_mae_train = feat_ablation(\n",
    "    model=SEAA_model, hps=SEAA_best_hps, \n",
    "    Xtt=X_train_trans, ytt=y_train_trans, \n",
    "    Xvt=X_val_trans, yvt=y_val_trans, \n",
    "    Xht=X_holdout_trans, yht=y_holdout_trans)"
   ],
   "block_group": "8347e696994342b79295873e6e8eea83",
   "execution_count": null,
   "outputs": [],
   "outputs_reference": "dbtable:cell_outputs/aff11416-740b-47ed-b107-4edeb699e957"
  },
  {
   "cell_type": "code",
   "metadata": {
    "allow_embed": false,
    "source_hash": null,
    "execution_start": 1711911898132,
    "execution_millis": 262,
    "deepnote_table_state": {
     "sortBy": [
      {
       "id": "Val_MAE_Change",
       "type": "desc"
      }
     ],
     "filters": [],
     "pageSize": 25,
     "pageIndex": 0
    },
    "deepnote_table_loading": false,
    "deepnote_to_be_reexecuted": false,
    "cell_id": "07a58a37077b469a8ef03f7f36ce2ce6",
    "deepnote_cell_type": "code"
   },
   "source": [
    "# Show the feature ablation dataframe, sorted by the change in MAE to Validation data\n",
    "SEAA_feature_ablation_df.sort_values('Val_MAE_Change', ascending=False)"
   ],
   "block_group": "624745dcf51c4b7cb8a4f882ab2fcb62",
   "execution_count": null,
   "outputs": [],
   "outputs_reference": "s3:deepnote-cell-outputs-production/21eec6ab-0268-466c-a5b3-a3bb98949c07"
  },
  {
   "cell_type": "code",
   "metadata": {
    "allow_embed": false,
    "source_hash": null,
    "execution_start": 1711911898180,
    "execution_millis": 215,
    "deepnote_to_be_reexecuted": false,
    "cell_id": "6543b453c6f14bc790eb3e934a6acc4d",
    "deepnote_cell_type": "code"
   },
   "source": [
    "# Generate the top 5 features to use in feature ablation combinations\n",
    "SEAA_abl_list_to_combo = SEAA_feature_ablation_df[SEAA_feature_ablation_df['Val_MAE'] <= SEAA_baseline_mae_val].sort_values('Val_MAE_Change', ascending=False)['Removed_Feature'].head(5).to_list()\n",
    "\n",
    "# Review the list\n",
    "SEAA_abl_list_to_combo"
   ],
   "block_group": "f9f68d95c6424277b4b637b6bd3d3b96",
   "execution_count": null,
   "outputs": [],
   "outputs_reference": "dbtable:cell_outputs/5ef9384a-5ef7-4525-bb07-72fa2272a6cd"
  },
  {
   "cell_type": "code",
   "metadata": {
    "allow_embed": false,
    "source_hash": null,
    "execution_start": 1711911898181,
    "execution_millis": 1018754,
    "deepnote_to_be_reexecuted": false,
    "cell_id": "728e884cf2e1478397bbb8389e2dedbc",
    "deepnote_cell_type": "code"
   },
   "source": [
    "%%time\n",
    "# Second run through the feature ablation process\n",
    "# This time including the top 5 features whose removal decreased the MAE\n",
    "# These top 5 features will be combined using itertools\n",
    "SEAA_feature_ablation_df, SEAA_baseline_mae_val, SEAA_baseline_mae_train = feat_ablation(\n",
    "    model=SEAA_model, hps=SEAA_best_hps, \n",
    "    Xtt=X_train_trans, ytt=y_train_trans, \n",
    "    Xvt=X_val_trans, yvt=y_val_trans, \n",
    "    Xht=X_holdout_trans, yht=y_holdout_trans, \n",
    "    abl_list_to_combo=SEAA_abl_list_to_combo)"
   ],
   "block_group": "7aecb9616931456e9083fcb8d8353b16",
   "execution_count": null,
   "outputs": [],
   "outputs_reference": "dbtable:cell_outputs/fd4790f3-dbb8-487d-9c6e-08de8e5c0e5b"
  },
  {
   "cell_type": "code",
   "metadata": {
    "allow_embed": false,
    "source_hash": null,
    "execution_start": 1711912916938,
    "execution_millis": 341,
    "deepnote_table_state": {
     "sortBy": [
      {
       "id": "Val_MAE_Change",
       "type": "asc"
      }
     ],
     "filters": [],
     "pageSize": 10,
     "pageIndex": 0
    },
    "deepnote_table_loading": false,
    "deepnote_to_be_reexecuted": false,
    "cell_id": "83783a63fdc74603aa6b332f0349f87b",
    "deepnote_cell_type": "code"
   },
   "source": [
    "# Show the feature ablation dataframe, sorted by the change in MAE to Validation data\n",
    "SEAA_feature_ablation_df[SEAA_feature_ablation_df['Val_MAE'] <= SEAA_baseline_mae_val].sort_values('Val_MAE_Change', ascending=False)"
   ],
   "block_group": "159962259d324ce8a5cc9c4d185ddbb5",
   "execution_count": null,
   "outputs": [],
   "outputs_reference": "s3:deepnote-cell-outputs-production/4bcb542f-be19-4fcb-abfe-3cfc6c057a8c"
  },
  {
   "cell_type": "code",
   "metadata": {
    "allow_embed": false,
    "source_hash": null,
    "execution_start": 1711912916940,
    "execution_millis": 339,
    "deepnote_to_be_reexecuted": false,
    "cell_id": "a13bebf64eb34464b468862040d26103",
    "deepnote_cell_type": "code"
   },
   "source": [
    "# Show the top 1 feature, which we'll remove.  Might be multiple features, so we split the string\n",
    "SEAA_feature_ablation_df[SEAA_feature_ablation_df['Val_MAE'] <= SEAA_baseline_mae_val].sort_values('Val_MAE_Change', ascending=False)['Removed_Feature'].head(1).values[0].split(', ')"
   ],
   "block_group": "a92985f843fb48d2b7e4d9361a57df12",
   "execution_count": null,
   "outputs": [],
   "outputs_reference": "dbtable:cell_outputs/59b75b27-abd0-46fb-91f5-8be4545bca23"
  },
  {
   "cell_type": "code",
   "metadata": {
    "allow_embed": false,
    "source_hash": null,
    "execution_start": 1711912916982,
    "execution_millis": 20215,
    "deepnote_to_be_reexecuted": false,
    "cell_id": "80665df6dbe64b9bb4140222a3b34a19",
    "deepnote_cell_type": "code"
   },
   "source": [
    "# Define the top features to drop\n",
    "SEAA_drop_cols = SEAA_feature_ablation_df[SEAA_feature_ablation_df['Val_MAE'] <= SEAA_baseline_mae_val].sort_values('Val_MAE_Change', ascending=False)['Removed_Feature'].head(1).values[0].split(', ')\n",
    "\n",
    "# Create the feature columns list for saving out\n",
    "SEAA_feat_columns = X_train_trans.drop(columns=SEAA_drop_cols).columns.to_list()\n",
    "\n",
    "# Recreate the model with the dropped columns\n",
    "# It should have a lower MAE score than the original\n",
    "SEAA_experiment_model = model_score(\n",
    "    SEAA_best_hps, val=True, \n",
    "    Xtt=X_train_trans.drop(columns=SEAA_drop_cols), ytt=y_train_trans, \n",
    "    Xvt=X_val_trans.drop(columns=SEAA_drop_cols), yvt=y_val_trans, \n",
    "    Xht=X_holdout_trans.drop(columns=SEAA_drop_cols), yht=y_holdout_trans)\n",
    "\n",
    "# Plot the feature importance for this model\n",
    "plot_feat_importance(SEAA_experiment_model)"
   ],
   "block_group": "c5dbe7c2c21b480e860e9c78dd969be2",
   "execution_count": null,
   "outputs": [],
   "outputs_reference": "s3:deepnote-cell-outputs-production/ffbb6161-72ad-4d1e-a4ee-9268d2df0e6c"
  },
  {
   "cell_type": "markdown",
   "metadata": {
    "formattedRanges": [],
    "cell_id": "82169528c3a24f6e9691131e60a518a6",
    "deepnote_cell_type": "text-cell-h3"
   },
   "source": [
    "### Output the Model, Trials, Parameters and Feature List to disk"
   ],
   "block_group": "c25d9529059e488ab7a48c1fd8ffba4a"
  },
  {
   "cell_type": "code",
   "metadata": {
    "allow_embed": false,
    "source_hash": null,
    "execution_start": 1711912937201,
    "execution_millis": 2309,
    "deepnote_to_be_reexecuted": false,
    "cell_id": "4f74a2b5c16b44dda5cf0fcf2d14d65c",
    "deepnote_cell_type": "code"
   },
   "source": [
    "# Write out the model artifacts to disk\n",
    "write_out(model=SEAA_model, trials=SEAA_trials, params=SEAA_best_hps, feat_cols=SEAA_feat_columns, location_name='SEAA')"
   ],
   "block_group": "f219c4dc92074d4a933b1070a253ff81",
   "execution_count": null,
   "outputs": [],
   "outputs_reference": null
  },
  {
   "cell_type": "markdown",
   "metadata": {
    "is_collapsed": false,
    "formattedRanges": [],
    "deepnote_app_block_visible": false,
    "cell_id": "b1209aa80609418d992598ca2bb4aa93",
    "deepnote_cell_type": "text-cell-h2"
   },
   "source": [
    "## Review Holdout Truth vs Predictions"
   ],
   "block_group": "447d79d82f0f4ab885a152003698d89e"
  },
  {
   "cell_type": "code",
   "metadata": {
    "allow_embed": false,
    "source_hash": null,
    "execution_start": 1711912939513,
    "execution_millis": 210,
    "deepnote_to_be_reexecuted": false,
    "cell_id": "24eb019ebde84909abb88a59825cfc53",
    "deepnote_cell_type": "code"
   },
   "source": [
    "eval_df = y_val_trans.copy(deep=True)\n",
    "SEAA_val_pred = SEAA_model.predict(X_val_trans)\n",
    "eval_df['predictions'] = SEAA_val_pred.tolist()\n",
    "eval_df['diff'] = eval_df['y_val'] - eval_df['predictions']"
   ],
   "block_group": "546b1c3bc72a4eaf9fb55114186e5b6e",
   "execution_count": null,
   "outputs": [],
   "outputs_reference": null
  },
  {
   "cell_type": "code",
   "metadata": {
    "allow_embed": false,
    "source_hash": null,
    "execution_start": 1711912939725,
    "execution_millis": 158,
    "deepnote_to_be_reexecuted": false,
    "cell_id": "df8b733031a5442e8c56b9998c337a93",
    "deepnote_cell_type": "code"
   },
   "source": [
    "eval_df.sort_values(by='diff', ascending=False).head(20)"
   ],
   "block_group": "6022961bb2734057b33f05de2285a0d1",
   "execution_count": null,
   "outputs": [],
   "outputs_reference": "s3:deepnote-cell-outputs-production/69bcba18-51e7-4337-9276-c3794d3bcd4a"
  },
  {
   "cell_type": "code",
   "metadata": {
    "allow_embed": false,
    "source_hash": null,
    "execution_start": 1711912939735,
    "execution_millis": 535,
    "deepnote_to_be_reexecuted": false,
    "cell_id": "c61c3b6c03234cf092dd219d89d62bc0",
    "deepnote_cell_type": "code"
   },
   "source": [
    "fig = px.histogram(eval_df[eval_df['y_val'] > 5], x='diff', nbins=100, title='Distribution of the diff between prediction and holdout where true value > 5')\n",
    "\n",
    "# Show the plot\n",
    "fig.show()"
   ],
   "block_group": "9a11553a73b14acaa05e7d6b6c05eebe",
   "execution_count": null,
   "outputs": [],
   "outputs_reference": "s3:deepnote-cell-outputs-production/5bd665aa-a112-4600-a9be-63edbf8384cc"
  },
  {
   "cell_type": "code",
   "metadata": {
    "allow_embed": false,
    "source_hash": null,
    "execution_start": 1711912939767,
    "execution_millis": 503,
    "deepnote_table_state": {
     "sortBy": [],
     "filters": [],
     "pageSize": 10,
     "pageIndex": 3
    },
    "deepnote_table_loading": false,
    "deepnote_to_be_reexecuted": false,
    "cell_id": "cacca232b12d4f1fb30a8711c895b4c1",
    "deepnote_cell_type": "code"
   },
   "source": [
    "#eval_df[(eval_df['diff'].between(-5,5))]\n",
    "#eval_df[(eval_df['diff'].between(-5,5)) & (eval_df['y_val'] > 5)]\n",
    "eval_df[~(eval_df['diff'].between(-5,5))]\n"
   ],
   "block_group": "90d8f7a3d5424ab68d7f8e74cb5c280d",
   "execution_count": null,
   "outputs": [],
   "outputs_reference": "s3:deepnote-cell-outputs-production/b8b20751-ed3d-467d-9890-0dcb85453e26"
  },
  {
   "cell_type": "markdown",
   "metadata": {
    "formattedRanges": [],
    "cell_id": "456bc67c0e894b56be2601ba48307124",
    "deepnote_cell_type": "text-cell-h2"
   },
   "source": [
    "## SHAP Analysis"
   ],
   "block_group": "1a48ac9a830b47f5b1ea7782af14e4a9"
  },
  {
   "cell_type": "markdown",
   "metadata": {
    "formattedRanges": [],
    "cell_id": "511663efe30c4be58ff47775e006a086",
    "deepnote_cell_type": "text-cell-h3"
   },
   "source": [
    "### Create SHAP Objects"
   ],
   "block_group": "ae48355f01664c9a8d89107f0a22b66e"
  },
  {
   "cell_type": "code",
   "metadata": {
    "allow_embed": false,
    "source_hash": null,
    "execution_start": 1711912939842,
    "execution_millis": 429,
    "deepnote_to_be_reexecuted": false,
    "cell_id": "ca0d8dace9fa4f00bacc82345e9d049d",
    "deepnote_cell_type": "code"
   },
   "source": [
    "# %%time\n",
    "# SEAA_X_val_trans = X_val_trans.copy(deep=True)\n",
    "# SEAA_y_val_trans = y_val_trans.copy(deep=True)\n",
    "# explainer = shap.TreeExplainer(SEAA_model)\n",
    "# shap_values = explainer(SEAA_X_val_trans)\n",
    "# shap_interaction = explainer.shap_interaction_values(SEAA_X_val_trans)\n",
    "# sv = explainer.shap_values(SEAA_X_val_trans)\n",
    "# shap.initjs()"
   ],
   "block_group": "64e8cb9efe5b451aa5e93c2d51259afb",
   "execution_count": null,
   "outputs": [],
   "outputs_reference": null
  },
  {
   "cell_type": "code",
   "metadata": {
    "allow_embed": false,
    "source_hash": null,
    "execution_start": 1711912939844,
    "execution_millis": 427,
    "deepnote_to_be_reexecuted": false,
    "cell_id": "4bf6f3a26d9a4357866e61347e2ae180",
    "deepnote_cell_type": "code"
   },
   "source": [
    "# Beeswarm Importance\n",
    "# plt.figure(figsize=(8,6))\n",
    "# plt.title(f\"SHAP Beeswarm Analysis\")\n",
    "# shap.plots.beeswarm(shap_values, max_display=32)\n",
    "# plt.close()"
   ],
   "block_group": "3a88eb20d9c64823a76adef51c186864",
   "execution_count": null,
   "outputs": [],
   "outputs_reference": null
  },
  {
   "cell_type": "markdown",
   "metadata": {
    "formattedRanges": [],
    "cell_id": "bdf87a97653e4d18bf3f6ea143fe655e",
    "deepnote_cell_type": "text-cell-h3"
   },
   "source": [
    "### Investigate Individual Predictions"
   ],
   "block_group": "da32583c077a4dd0bed7c9b6dafa0168"
  },
  {
   "cell_type": "code",
   "metadata": {
    "allow_embed": false,
    "source_hash": null,
    "execution_start": 1711912939846,
    "execution_millis": 425,
    "deepnote_to_be_reexecuted": false,
    "cell_id": "466585fa358e4ab8b251bb04fd0beda1",
    "deepnote_cell_type": "code"
   },
   "source": [
    "# investigate = SEAA_X_val_trans.index.get_loc(38207)\n",
    "# print(SEAA_y_val_trans.iloc[investigate])"
   ],
   "block_group": "3acda7e0d4fe484b878674325e976389",
   "execution_count": null,
   "outputs": [],
   "outputs_reference": null
  },
  {
   "cell_type": "code",
   "metadata": {
    "allow_embed": false,
    "source_hash": null,
    "execution_start": 1711912939847,
    "execution_millis": 425,
    "deepnote_to_be_reexecuted": false,
    "cell_id": "c5656ef9216d4c688ace2032cbeccc6f",
    "deepnote_cell_type": "code"
   },
   "source": [
    "# Waterfall on a prediction\n",
    "# plt.figure(figsize=(8,6))\n",
    "# shap.plots.waterfall(shap_values[investigate], max_display=20) # , show=False\n",
    "# plt.close()"
   ],
   "block_group": "92a1dd8a5c8b4ba59e7cf70195441812",
   "execution_count": null,
   "outputs": [],
   "outputs_reference": null
  },
  {
   "cell_type": "code",
   "metadata": {
    "allow_embed": false,
    "source_hash": null,
    "execution_start": 1711912939862,
    "execution_millis": 410,
    "deepnote_to_be_reexecuted": false,
    "cell_id": "1565c0702db448cf8b4ff78f299cc421",
    "deepnote_cell_type": "code"
   },
   "source": [
    "# Decision plot on a prediction\n",
    "# shap.decision_plot(explainer.expected_value, explainer.shap_values(SEAA_X_val_trans)[investigate], SEAA_X_val_trans, feature_display_range=slice(-1,-51,-1))"
   ],
   "block_group": "22e1bc5c7d8c4735a69e946fa6b51244",
   "execution_count": null,
   "outputs": [],
   "outputs_reference": null
  },
  {
   "cell_type": "markdown",
   "metadata": {
    "is_collapsed": false,
    "formattedRanges": [],
    "deepnote_app_block_visible": false,
    "cell_id": "8b19569d41e04b719b36ee2823d2aea6",
    "deepnote_cell_type": "text-cell-h1"
   },
   "source": [
    "# Global Region"
   ],
   "block_group": "a584de73603b49d793ecacc93e374f80"
  },
  {
   "cell_type": "markdown",
   "metadata": {
    "formattedRanges": [],
    "cell_id": "19cb22913eef4ffa88dbaf687c662905",
    "deepnote_cell_type": "text-cell-h2"
   },
   "source": [
    "## Import the Data"
   ],
   "block_group": "86d0ec526fb34672a3d9f3a03e15f879"
  },
  {
   "cell_type": "code",
   "metadata": {
    "allow_embed": false,
    "source_hash": null,
    "execution_start": 1711912939863,
    "execution_millis": 2186,
    "deepnote_to_be_reexecuted": false,
    "cell_id": "eb649a9121ad46a39d45fbb896b836ca",
    "deepnote_cell_type": "code"
   },
   "source": [
    "X_train_trans, X_val_trans, X_holdout_trans, y_train_trans, y_val_trans, y_holdout_trans = import_data(location_name='GLOB')"
   ],
   "block_group": "e1e21d891a3e4f338e25963369e65d8a",
   "execution_count": null,
   "outputs": [],
   "outputs_reference": null
  },
  {
   "cell_type": "markdown",
   "metadata": {
    "is_collapsed": false,
    "formattedRanges": [],
    "deepnote_app_block_visible": false,
    "cell_id": "717ea3d656a2413d86a6ea4ed0e4afb3",
    "deepnote_cell_type": "text-cell-h2"
   },
   "source": [
    "## Hyperparameter Tuning"
   ],
   "block_group": "3efdc3d0ddf24a72b73df049b596c786"
  },
  {
   "cell_type": "markdown",
   "metadata": {
    "formattedRanges": [],
    "cell_id": "af258738cec147d690555c2668e6d812",
    "deepnote_cell_type": "text-cell-h3"
   },
   "source": [
    "### Execute Hyperparameter search"
   ],
   "block_group": "dc944e390b4a4d04bbd2384f35c7340c"
  },
  {
   "cell_type": "code",
   "metadata": {
    "allow_embed": false,
    "source_hash": null,
    "execution_start": 1711912942051,
    "execution_millis": 6366559,
    "deepnote_to_be_reexecuted": false,
    "cell_id": "7dd2e8f253624c35be1e205febdbf29f",
    "deepnote_cell_type": "code"
   },
   "source": [
    "# Instantiate Neptune instance\n",
    "run = neptune.init_run(\n",
    "    name=\"RandomForest Reg Global\",\n",
    "    tags=[\"RandomForest\", \"regression\", \"hyperopt\", \"MAE\", \"Global\", \"GLOB\"],\n",
    "    description=\"RandomForest Hyperopt with MAE on Global\"\n",
    ")\n",
    "\n",
    "# Create the Trials object\n",
    "GLOB_trials = Trials()\n",
    "\n",
    "# Create the fmin object\n",
    "GLOB_best_hyperparams = fmin(fn = objective,\n",
    "                            space = space,\n",
    "                            algo = tpe.suggest,\n",
    "                            max_evals = 1000,\n",
    "                            trials = GLOB_trials,\n",
    "                            show_progressbar=True,\n",
    "                            early_stop_fn=no_progress_loss(100))\n",
    "\n",
    "# Stop Neptune instance\n",
    "run.stop()\n",
    "\n",
    "GLOB_best_trial = GLOB_trials.best_trial\n",
    "GLOB_best_hps = GLOB_best_hyperparams.copy()\n",
    "\n",
    "GLOB_best_hps['max_features'] = ['sqrt', 'log2', None][GLOB_best_hps['max_features']]\n",
    "GLOB_best_hps['n_estimators'] = int(GLOB_best_hps['n_estimators'])\n",
    "GLOB_best_hps['min_samples_split'] = int(GLOB_best_hps['min_samples_split'])\n",
    "GLOB_best_hps['min_samples_leaf'] = int(GLOB_best_hps['min_samples_leaf'])\n",
    "GLOB_best_hps['max_leaf_nodes'] = int(GLOB_best_hps['max_leaf_nodes'])"
   ],
   "block_group": "1776510bdd99442f9874cf103d702222",
   "execution_count": null,
   "outputs": [],
   "outputs_reference": "dbtable:cell_outputs/27e5c564-6b5a-4b02-8e73-ce9b08b548f5"
  },
  {
   "cell_type": "markdown",
   "metadata": {
    "formattedRanges": [],
    "cell_id": "b9cec0012edb4d96a5195bacdb0d4034",
    "deepnote_cell_type": "text-cell-h3"
   },
   "source": [
    "### Review the Hyperparameter Search Validation MAE Scores and Hyperparameters"
   ],
   "block_group": "61bd6e2c8fc140d68614dfb1e60c48ef"
  },
  {
   "cell_type": "code",
   "metadata": {
    "allow_embed": false,
    "source_hash": null,
    "execution_start": 1711919308613,
    "execution_millis": 146,
    "deepnote_to_be_reexecuted": false,
    "cell_id": "5d04f511561c4d46add3ec15727c17cd",
    "deepnote_cell_type": "code"
   },
   "source": [
    "# What's the best trial from the search? Report the MAE & StdDev\n",
    "print(f\"Best Mean Absolute Error: {GLOB_trials.best_trial['result']['loss']:.4f}\")\n",
    "print(f\"Best Standard Error: {GLOB_trials.best_trial['result']['std']:.4f}\")"
   ],
   "block_group": "e056d40a802b4357b990a30e43cdba4f",
   "execution_count": null,
   "outputs": [],
   "outputs_reference": "dbtable:cell_outputs/9de6b0bc-6c80-4e20-a5d2-c9410b574bdc"
  },
  {
   "cell_type": "code",
   "metadata": {
    "allow_embed": false,
    "source_hash": null,
    "execution_start": 1711919308616,
    "execution_millis": 144,
    "deepnote_to_be_reexecuted": false,
    "cell_id": "2894c8cf419745898ae1b66ff92f3ab1",
    "deepnote_cell_type": "code"
   },
   "source": [
    "# Display the best hyperparameters\n",
    "GLOB_best_hps"
   ],
   "block_group": "aa716addc1694e019c0d428c08dceb6d",
   "execution_count": null,
   "outputs": [],
   "outputs_reference": "dbtable:cell_outputs/c755d8ea-58c8-47ee-90ee-dfa9bb9faaa8"
  },
  {
   "cell_type": "markdown",
   "metadata": {
    "formattedRanges": [],
    "cell_id": "6bf346ebbc164179ba5473bd1901dcc7",
    "deepnote_cell_type": "text-cell-h2"
   },
   "source": [
    "## Recreate the model and get new MAE and Feature Importance"
   ],
   "block_group": "912fbbad7199497894979b7dc1b61e97"
  },
  {
   "cell_type": "code",
   "metadata": {
    "allow_embed": false,
    "source_hash": null,
    "execution_start": 1711919308619,
    "execution_millis": 77313,
    "deepnote_to_be_reexecuted": false,
    "cell_id": "fbd60af48f5c42a88c9bc3d8f9908e65",
    "deepnote_cell_type": "code"
   },
   "source": [
    "# Recreate the model with the best hyperparameters\n",
    "GLOB_model = model_score(GLOB_best_hps, holdout=True, val=True)\n",
    "\n",
    "# Plot the feature importance\n",
    "plot_feat_importance(GLOB_model)"
   ],
   "block_group": "5120b378df9e4f43a834a2c3bb6e083e",
   "execution_count": null,
   "outputs": [],
   "outputs_reference": "s3:deepnote-cell-outputs-production/821796af-70f7-401d-b39e-2ed89b0947b0"
  },
  {
   "cell_type": "markdown",
   "metadata": {
    "is_collapsed": false,
    "formattedRanges": [],
    "deepnote_app_block_visible": false,
    "cell_id": "ff8747bedac449f99a700a5a0f64bf85",
    "deepnote_cell_type": "text-cell-h2"
   },
   "source": [
    "## Feature Ablation"
   ],
   "block_group": "c1fad2cc29234ec8a11e4d9e1085ade3"
  },
  {
   "cell_type": "code",
   "metadata": {
    "allow_embed": false,
    "source_hash": null,
    "execution_start": 1711919385935,
    "execution_millis": 4058737,
    "deepnote_to_be_reexecuted": false,
    "cell_id": "62a999542e364ea5827ddd016981eef7",
    "deepnote_cell_type": "code"
   },
   "source": [
    "%%time\n",
    "# First run through the feature ablation process\n",
    "# This will determine which features can potentially be removed\n",
    "GLOB_feature_ablation_df, GLOB_baseline_mae_val, GLOB_baseline_mae_train = feat_ablation(\n",
    "    model=GLOB_model, hps=GLOB_best_hps, \n",
    "    Xtt=X_train_trans, ytt=y_train_trans, \n",
    "    Xvt=X_val_trans, yvt=y_val_trans, \n",
    "    Xht=X_holdout_trans, yht=y_holdout_trans)"
   ],
   "block_group": "8b92f836a63c425eb9f8d4826498cf20",
   "execution_count": null,
   "outputs": [],
   "outputs_reference": "dbtable:cell_outputs/09e4a140-3726-437c-85c7-12bdc2cc7442"
  },
  {
   "cell_type": "code",
   "metadata": {
    "allow_embed": false,
    "source_hash": null,
    "execution_start": 1711923444674,
    "execution_millis": 165,
    "deepnote_to_be_reexecuted": false,
    "cell_id": "9a777742ed3a44019ae77e201435fc73",
    "deepnote_cell_type": "code"
   },
   "source": [
    "# Show the feature ablation dataframe, sorted by the change in MAE to Validation data\n",
    "GLOB_feature_ablation_df.sort_values('Val_MAE_Change', ascending=False)"
   ],
   "block_group": "4392e5db898c4499bc7943bbad5cc728",
   "execution_count": null,
   "outputs": [],
   "outputs_reference": "s3:deepnote-cell-outputs-production/b4ad5678-b43a-4c22-846a-d9d77203c7cd"
  },
  {
   "cell_type": "code",
   "metadata": {
    "allow_embed": false,
    "source_hash": null,
    "execution_start": 1711923444721,
    "execution_millis": 238,
    "deepnote_to_be_reexecuted": false,
    "cell_id": "98f3d0ef92af4a539f9f8312594f4ee6",
    "deepnote_cell_type": "code"
   },
   "source": [
    "# Generate the top 5 features to use in feature ablation combinations\n",
    "GLOB_abl_list_to_combo = GLOB_feature_ablation_df[GLOB_feature_ablation_df['Val_MAE'] <= GLOB_baseline_mae_val].sort_values('Val_MAE_Change', ascending=False)['Removed_Feature'].head(5).to_list()\n",
    "\n",
    "# Review the list\n",
    "GLOB_abl_list_to_combo"
   ],
   "block_group": "83d0ed212ee6466198b0179ba9269cf1",
   "execution_count": null,
   "outputs": [],
   "outputs_reference": "dbtable:cell_outputs/4d49b7f5-103a-45bb-a217-6ac7affcf57f"
  },
  {
   "cell_type": "code",
   "metadata": {
    "allow_embed": false,
    "source_hash": null,
    "execution_start": 1711923444721,
    "execution_millis": 8920368,
    "deepnote_to_be_reexecuted": false,
    "cell_id": "458f330887834cf7a98716a74c906410",
    "deepnote_cell_type": "code"
   },
   "source": [
    "%%time\n",
    "# Second run through the feature ablation process\n",
    "# This time including the top 5 features whose removal decreased the MAE\n",
    "# These top 5 features will be combined using itertools\n",
    "GLOB_feature_ablation_df, GLOB_baseline_mae_val, GLOB_baseline_mae_train = feat_ablation(\n",
    "    model=GLOB_model, hps=GLOB_best_hps, \n",
    "    Xtt=X_train_trans, ytt=y_train_trans, \n",
    "    Xvt=X_val_trans, yvt=y_val_trans, \n",
    "    Xht=X_holdout_trans, yht=y_holdout_trans, \n",
    "    abl_list_to_combo=GLOB_abl_list_to_combo)"
   ],
   "block_group": "f200bd7659614ef28c3116ecc05440df",
   "execution_count": null,
   "outputs": [],
   "outputs_reference": "dbtable:cell_outputs/e87314d5-9bcc-44f0-b6c1-645a4de1581c"
  },
  {
   "cell_type": "code",
   "metadata": {
    "allow_embed": false,
    "source_hash": null,
    "execution_start": 1711932365092,
    "execution_millis": 207,
    "deepnote_to_be_reexecuted": false,
    "cell_id": "c733b127930f45fbb1f03a8ddfe68fdf",
    "deepnote_cell_type": "code"
   },
   "source": [
    "# Show the feature ablation dataframe, sorted by the change in MAE to Validation data\n",
    "GLOB_feature_ablation_df[GLOB_feature_ablation_df['Val_MAE'] <= GLOB_baseline_mae_val].sort_values('Val_MAE_Change', ascending=False)"
   ],
   "block_group": "5cc95ff33bdd4888a0f7d9781d0e2d86",
   "execution_count": null,
   "outputs": [],
   "outputs_reference": "s3:deepnote-cell-outputs-production/69c14483-ebc0-4bab-9ee7-5d38202735ac"
  },
  {
   "cell_type": "code",
   "metadata": {
    "allow_embed": false,
    "source_hash": null,
    "execution_start": 1711932365136,
    "execution_millis": 358,
    "deepnote_to_be_reexecuted": false,
    "cell_id": "6c89b78440c1427db0bf82eecc830116",
    "deepnote_cell_type": "code"
   },
   "source": [
    "# Show the top 1 feature, which we'll remove.  Might be multiple features, so we split the string\n",
    "GLOB_feature_ablation_df[GLOB_feature_ablation_df['Val_MAE'] <= GLOB_baseline_mae_val].sort_values('Val_MAE_Change', ascending=False)['Removed_Feature'].head(1).values[0].split(', ')"
   ],
   "block_group": "bc1fc3195edd4a08b46c864a07fd3ae4",
   "execution_count": null,
   "outputs": [],
   "outputs_reference": "dbtable:cell_outputs/9b845d2a-53e3-44b2-875b-c31377a66615"
  },
  {
   "cell_type": "code",
   "metadata": {
    "allow_embed": false,
    "source_hash": null,
    "execution_start": 1711932365137,
    "execution_millis": 190591,
    "deepnote_to_be_reexecuted": false,
    "cell_id": "f8db359112ae46a2a5c80ea68ea8ec08",
    "deepnote_cell_type": "code"
   },
   "source": [
    "# Define the top features to drop\n",
    "GLOB_drop_cols = GLOB_feature_ablation_df[GLOB_feature_ablation_df['Val_MAE'] <= GLOB_baseline_mae_val].sort_values('Val_MAE_Change', ascending=False)['Removed_Feature'].head(1).values[0].split(', ')\n",
    "\n",
    "# Create the feature columns list for saving out\n",
    "GLOB_feat_columns = X_train_trans.drop(columns=GLOB_drop_cols).columns.to_list()\n",
    "\n",
    "# Recreate the model with the dropped columns\n",
    "# It should have a lower MAE score than the original\n",
    "GLOB_experiment_model = model_score(\n",
    "    GLOB_best_hps, val=True, \n",
    "    Xtt=X_train_trans.drop(columns=GLOB_drop_cols), ytt=y_train_trans, \n",
    "    Xvt=X_val_trans.drop(columns=GLOB_drop_cols), yvt=y_val_trans, \n",
    "    Xht=X_holdout_trans.drop(columns=GLOB_drop_cols), yht=y_holdout_trans)\n",
    "\n",
    "# Plot the feature importance for this model\n",
    "plot_feat_importance(GLOB_experiment_model)"
   ],
   "block_group": "9313c375d98f4879a358467e3ce6819e",
   "execution_count": null,
   "outputs": [],
   "outputs_reference": "s3:deepnote-cell-outputs-production/15e022fd-829c-446e-b1a9-5cb92920a212"
  },
  {
   "cell_type": "markdown",
   "metadata": {
    "formattedRanges": [],
    "cell_id": "4c5af566f3944ce6b2da0af90c7946c9",
    "deepnote_cell_type": "text-cell-h3"
   },
   "source": [
    "### Output the Model, Trials, Parameters and Feature List to disk"
   ],
   "block_group": "b9eac4ea455b48b58740c9b83e92f6d0"
  },
  {
   "cell_type": "code",
   "metadata": {
    "allow_embed": false,
    "source_hash": null,
    "execution_start": 1711932555730,
    "execution_millis": 2582,
    "deepnote_to_be_reexecuted": false,
    "cell_id": "fd4de7c0f9c04411b6047ef4306271a3",
    "deepnote_cell_type": "code"
   },
   "source": [
    "# Write out the model artifacts to disk\n",
    "write_out(model=GLOB_model, trials=GLOB_trials, params=GLOB_best_hps, feat_cols=GLOB_feat_columns, location_name='GLOB')"
   ],
   "block_group": "89b3dbc9af16406bbbcc033c58e90ea3",
   "execution_count": null,
   "outputs": [],
   "outputs_reference": null
  },
  {
   "cell_type": "markdown",
   "metadata": {
    "is_collapsed": false,
    "formattedRanges": [],
    "deepnote_app_block_visible": false,
    "cell_id": "878b23184a9f46e3bb6fb68406298b64",
    "deepnote_cell_type": "text-cell-h2"
   },
   "source": [
    "## Review Holdout Truth vs Predictions"
   ],
   "block_group": "704832f69a18426db2be350dc8185126"
  },
  {
   "cell_type": "code",
   "metadata": {
    "allow_embed": false,
    "source_hash": null,
    "execution_start": 1711932558318,
    "execution_millis": 610,
    "deepnote_to_be_reexecuted": false,
    "cell_id": "e5898c1a530c462b85c13edbb85fb8eb",
    "deepnote_cell_type": "code"
   },
   "source": [
    "eval_df = y_val_trans.copy(deep=True)\n",
    "GLOB_val_pred = GLOB_model.predict(X_val_trans)\n",
    "eval_df['predictions'] = GLOB_val_pred.tolist()\n",
    "eval_df['diff'] = eval_df['y_val'] - eval_df['predictions']"
   ],
   "block_group": "23d196f97dd8434eb11ebb78ba065de5",
   "execution_count": null,
   "outputs": [],
   "outputs_reference": null
  },
  {
   "cell_type": "code",
   "metadata": {
    "allow_embed": false,
    "source_hash": null,
    "execution_start": 1711932558934,
    "execution_millis": 321,
    "deepnote_to_be_reexecuted": false,
    "cell_id": "93caa438dbcf477bb9b24354a1146af1",
    "deepnote_cell_type": "code"
   },
   "source": [
    "eval_df.sort_values(by='diff', ascending=False).head(20)"
   ],
   "block_group": "292c87623efe4fdface5afb5e22498ba",
   "execution_count": null,
   "outputs": [],
   "outputs_reference": "s3:deepnote-cell-outputs-production/999e1907-76b3-4803-9708-b629163cee3a"
  },
  {
   "cell_type": "code",
   "metadata": {
    "allow_embed": false,
    "source_hash": null,
    "execution_start": 1711932558960,
    "execution_millis": 822,
    "deepnote_to_be_reexecuted": false,
    "cell_id": "73ffd0b7420f46b6ab70e52a65bca79a",
    "deepnote_cell_type": "code"
   },
   "source": [
    "fig = px.histogram(eval_df[eval_df['y_val'] > 5], x='diff', nbins=100, title='Distribution of the diff between prediction and holdout where true value > 5')\n",
    "\n",
    "# Show the plot\n",
    "fig.show()"
   ],
   "block_group": "c5b4d3b362b64db3a5943f75eed89d58",
   "execution_count": null,
   "outputs": [],
   "outputs_reference": "s3:deepnote-cell-outputs-production/cc0951ba-c140-4c45-bdb2-aaddbf4a9f66"
  },
  {
   "cell_type": "code",
   "metadata": {
    "allow_embed": false,
    "source_hash": null,
    "execution_start": 1711932559067,
    "execution_millis": 715,
    "deepnote_table_state": {
     "sortBy": [],
     "filters": [],
     "pageSize": 10,
     "pageIndex": 1
    },
    "deepnote_table_loading": false,
    "deepnote_to_be_reexecuted": false,
    "cell_id": "997eccde985d49b0a25eff3f5ea79e30",
    "deepnote_cell_type": "code"
   },
   "source": [
    "#eval_df[(eval_df['diff'].between(-5,5))]\n",
    "#eval_df[(eval_df['diff'].between(-5,5)) & (eval_df['y_val'] > 5)]\n",
    "eval_df[~(eval_df['diff'].between(-5,5))]\n"
   ],
   "block_group": "d71da7be0b1d46dfb11cdbd40a6653a2",
   "execution_count": null,
   "outputs": [],
   "outputs_reference": "s3:deepnote-cell-outputs-production/f0a57c9b-ad5d-4984-a629-82d8690404f5"
  },
  {
   "cell_type": "markdown",
   "metadata": {
    "formattedRanges": [],
    "cell_id": "621b7001d155492d9f20920a55a6a58a",
    "deepnote_cell_type": "text-cell-h2"
   },
   "source": [
    "## SHAP Analysis"
   ],
   "block_group": "8a1c191d1c0241aa8b6bc891e2f182c7"
  },
  {
   "cell_type": "markdown",
   "metadata": {
    "formattedRanges": [],
    "cell_id": "ae41e62150584831a62b1d8a5cd598cd",
    "deepnote_cell_type": "text-cell-h3"
   },
   "source": [
    "### Create SHAP Objects"
   ],
   "block_group": "05972dcfef08491d885afeb4efe53e2f"
  },
  {
   "cell_type": "code",
   "metadata": {
    "allow_embed": false,
    "source_hash": null,
    "execution_start": 1711932559186,
    "execution_millis": 596,
    "deepnote_to_be_reexecuted": false,
    "cell_id": "df6bf15eb054462ea451e13e7da77e46",
    "deepnote_cell_type": "code"
   },
   "source": [
    "# %%time\n",
    "# GLOB_X_val_trans = X_val_trans.copy(deep=True)\n",
    "# GLOB_y_val_trans = y_val_trans.copy(deep=True)\n",
    "# explainer = shap.TreeExplainer(GLOB_model)\n",
    "# shap_values = explainer(GLOB_X_val_trans)\n",
    "# shap_interaction = explainer.shap_interaction_values(GLOB_X_val_trans)\n",
    "# sv = explainer.shap_values(GLOB_X_val_trans)\n",
    "# shap.initjs()"
   ],
   "block_group": "9285dde16cf841b18e19256342c657da",
   "execution_count": null,
   "outputs": [],
   "outputs_reference": null
  },
  {
   "cell_type": "code",
   "metadata": {
    "allow_embed": false,
    "source_hash": null,
    "execution_start": 1711932559192,
    "execution_millis": 591,
    "deepnote_to_be_reexecuted": false,
    "cell_id": "289c0ffcd1b94cbeb8bb66906d45b4fc",
    "deepnote_cell_type": "code"
   },
   "source": [
    "# Beeswarm Importance\n",
    "# plt.figure(figsize=(8,6))\n",
    "# plt.title(f\"SHAP Beeswarm Analysis\")\n",
    "# shap.plots.beeswarm(shap_values, max_display=32)\n",
    "# plt.close()"
   ],
   "block_group": "a19de9f41044416fbcd6ccc21fc1236d",
   "execution_count": null,
   "outputs": [],
   "outputs_reference": null
  },
  {
   "cell_type": "markdown",
   "metadata": {
    "formattedRanges": [],
    "cell_id": "95a73a1bf99343f999badf44db047194",
    "deepnote_cell_type": "text-cell-h3"
   },
   "source": [
    "### Investigate Individual Predictions"
   ],
   "block_group": "903c99806bc6476c9bc100199682144a"
  },
  {
   "cell_type": "code",
   "metadata": {
    "allow_embed": false,
    "source_hash": null,
    "execution_start": 1711932559202,
    "execution_millis": 581,
    "deepnote_to_be_reexecuted": false,
    "cell_id": "f08b80606364457ea038710580cab1db",
    "deepnote_cell_type": "code"
   },
   "source": [
    "# investigate = GLOB_X_val_trans.index.get_loc(39332)\n",
    "# print(GLOB_y_val_trans.iloc[investigate])"
   ],
   "block_group": "1a8264ccffb6433e9a2fb2c64afe1065",
   "execution_count": null,
   "outputs": [],
   "outputs_reference": null
  },
  {
   "cell_type": "code",
   "metadata": {
    "allow_embed": false,
    "source_hash": null,
    "execution_start": 1711932559252,
    "execution_millis": 531,
    "deepnote_to_be_reexecuted": false,
    "cell_id": "df07b8dabd554e2aa9ccfa3e008b8a1d",
    "deepnote_cell_type": "code"
   },
   "source": [
    "# Waterfall on a prediction\n",
    "# plt.figure(figsize=(8,6))\n",
    "# shap.plots.waterfall(shap_values[investigate], max_display=20) # , show=False\n",
    "# plt.close()"
   ],
   "block_group": "0d5041f6dd0b44eb9ef8db6b48a14a86",
   "execution_count": null,
   "outputs": [],
   "outputs_reference": null
  },
  {
   "cell_type": "code",
   "metadata": {
    "allow_embed": false,
    "source_hash": null,
    "execution_start": 1711932559253,
    "execution_millis": 531,
    "deepnote_to_be_reexecuted": false,
    "cell_id": "88a4495bc68440c098d6df522cadb164",
    "deepnote_cell_type": "code"
   },
   "source": [
    "# Decision plot on a prediction\n",
    "# shap.decision_plot(explainer.expected_value, explainer.shap_values(GLOB_X_val_trans)[investigate], GLOB_X_val_trans, feature_display_range=slice(-1,-51,-1))"
   ],
   "block_group": "04e394adeb624ea59d44136900e2b8df",
   "execution_count": null,
   "outputs": [],
   "outputs_reference": null
  }
 ],
 "nbformat": 4,
 "nbformat_minor": 0,
 "metadata": {
  "deepnote_notebook_id": "25a9598fb5364ed1a880834db0c6da51",
  "deepnote_execution_queue": []
 }
}
