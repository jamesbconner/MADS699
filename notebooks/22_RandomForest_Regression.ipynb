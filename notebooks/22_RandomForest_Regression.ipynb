{
 "cells": [
  {
   "cell_type": "markdown",
   "metadata": {
    "cell_id": "98193acd32da44e898648fc8fb9e582e",
    "deepnote_cell_type": "text-cell-h1",
    "formattedRanges": []
   },
   "source": [
    "# Regression - RandomForest"
   ]
  },
  {
   "cell_type": "markdown",
   "metadata": {
    "cell_id": "f93fe8ba2fd0452a8a2a5eca4910f3c7",
    "deepnote_cell_type": "text-cell-h2",
    "formattedRanges": []
   },
   "source": [
    "## Notebook Setup"
   ]
  },
  {
   "cell_type": "markdown",
   "metadata": {
    "cell_id": "cb3bed02a6bd4c24a22fe1a9e4f8facb",
    "deepnote_cell_type": "text-cell-h3",
    "formattedRanges": []
   },
   "source": [
    "### Import Libraries"
   ]
  },
  {
   "cell_type": "code",
   "execution_count": 1,
   "metadata": {
    "ExecuteTime": {
     "end_time": "2024-04-07T21:08:45.108678100Z",
     "start_time": "2024-04-07T21:08:43.745464300Z"
    },
    "cell_id": "80339930e715418c82df916fda1518c8",
    "deepnote_cell_type": "code",
    "deepnote_to_be_reexecuted": false,
    "execution_millis": 2601,
    "execution_start": 1711906037119,
    "source_hash": null
   },
   "outputs": [
    {
     "name": "stdout",
     "output_type": "stream",
     "text": [
      "Loading dotenv file\n"
     ]
    }
   ],
   "source": [
    "# Import Standard Libraries\n",
    "import os\n",
    "import datetime\n",
    "import pickle\n",
    "import itertools\n",
    "import pandas as pd\n",
    "import numpy as np\n",
    "\n",
    "# Import Visualization Libraries\n",
    "import seaborn as sns\n",
    "import matplotlib.pyplot as plt\n",
    "import plotly.express as px\n",
    "import plotly.graph_objects as go\n",
    "import shap\n",
    "\n",
    "# Import custom functions\n",
    "import env_functions as ef\n",
    "import s3_functions as sf\n",
    "import common_functions as cf"
   ]
  },
  {
   "cell_type": "code",
   "execution_count": null,
   "metadata": {
    "cell_id": "078eb67c3cf5445aa79df2fc297d73fb",
    "deepnote_cell_type": "code",
    "deepnote_to_be_reexecuted": false,
    "execution_millis": 479,
    "execution_start": 1711906039723,
    "source_hash": null
   },
   "outputs": [],
   "source": [
    "# Import Modeling Libraries\n",
    "from sklearn import set_config\n",
    "from sklearn.model_selection import KFold, cross_val_score\n",
    "from sklearn.ensemble import RandomForestRegressor\n",
    "from sklearn.metrics import r2_score, mean_absolute_error, mean_squared_error\n",
    "from hyperopt import STATUS_OK, Trials, fmin, hp, tpe\n",
    "from hyperopt.early_stop import no_progress_loss\n",
    "import neptune"
   ]
  },
  {
   "cell_type": "code",
   "execution_count": null,
   "metadata": {},
   "outputs": [],
   "source": [
    "# Determine the environment and get appropriate vars\n",
    "deepnote, env_vars = ef.load_env_vars()\n",
    "\n",
    "# Iterate through the vars and set them as global vars\n",
    "for var_name, var in env_vars.items():\n",
    "    globals()[var_name] = var\n",
    "\n",
    "# If not in the DeepNote environment, create a dict for aws creds\n",
    "#   that were located in the environment file.  This will be passed\n",
    "#   to all aws s3 functions.\n",
    "if not deepnote:\n",
    "    aws_env_vars = {\n",
    "        'access_key_id': aws_access_key_id,\n",
    "        'secret_access_key': aws_secret_access_key,\n",
    "        'bucket_name': s3_bucket_name\n",
    "    }"
   ]
  },
  {
   "cell_type": "code",
   "execution_count": null,
   "metadata": {
    "cell_id": "9b01c9cab4384f548b774b8f29f5dd72",
    "deepnote_cell_type": "code",
    "deepnote_to_be_reexecuted": false,
    "execution_millis": 84,
    "execution_start": 1711906040205,
    "source_hash": null
   },
   "outputs": [],
   "source": [
    "# Pandas Configs\n",
    "pd.set_option('mode.chained_assignment', None)\n",
    "pd.options.display.float_format = '{:.2f}'.format\n",
    "pd.options.display.max_columns = None\n",
    "pd.options.display.max_rows = None\n",
    "\n",
    "# Ignore Warnings\n",
    "import warnings\n",
    "warnings.simplefilter('ignore', category=FutureWarning)\n",
    "warnings.simplefilter('ignore', category=UserWarning)\n",
    "warnings.simplefilter(action=\"ignore\", category=pd.errors.PerformanceWarning)\n",
    "\n",
    "# MapBox Token for Plotly Maps\n",
    "px.set_mapbox_access_token(os.environ.get(\"MAPBOX_TOKEN\"))\n",
    "\n",
    "# Scikit Learn Configs\n",
    "set_config(transform_output=\"pandas\")"
   ]
  },
  {
   "cell_type": "markdown",
   "metadata": {
    "cell_id": "ac011a12ac094a87a4334f76e0deafa7",
    "deepnote_cell_type": "text-cell-h3",
    "formattedRanges": []
   },
   "source": [
    "### Common Functions"
   ]
  },
  {
   "cell_type": "code",
   "execution_count": null,
   "metadata": {
    "cell_id": "cc204e27dda545a091a6d321855b0485",
    "deepnote_cell_type": "code",
    "deepnote_to_be_reexecuted": false,
    "execution_millis": 67,
    "execution_start": 1711906042237,
    "source_hash": null
   },
   "outputs": [],
   "source": [
    "def objective(space):\n",
    "    \"\"\"\n",
    "    This is the RandomForest hyperparam objective function\n",
    "    Hyperparams are passed into this function, which are then used in the model object\n",
    "    The model object is then used in the cross_val_scores function \n",
    "    This results in a list of MAE scores, which are then returned as \n",
    "      the loss and std vars to the trials object\n",
    "    \"\"\"\n",
    "    space['n_estimators'] = int(space['n_estimators'])\n",
    "    #space['max_depth'] = int(space['max_depth'])\n",
    "    space['min_samples_split'] = int(space['min_samples_split'])\n",
    "    space['min_samples_leaf'] = int(space['min_samples_leaf'])\n",
    "    space['max_leaf_nodes'] = int(space['max_leaf_nodes'])\n",
    "\n",
    "    model=RandomForestRegressor(\n",
    "                    n_estimators = space['n_estimators'],\n",
    "                    max_features = space['max_features'],\n",
    "                    #max_depth = None if space['max_leaf_nodes'] == 0 else space['max_depth'],\n",
    "                    min_samples_split = space['min_samples_split'],\n",
    "                    min_samples_leaf = space['min_samples_leaf'],\n",
    "                    min_weight_fraction_leaf = space['min_weight_fraction_leaf'],\n",
    "                    #ccp_alpha = space['ccp_alpha'],\n",
    "                    max_leaf_nodes = None if space['max_leaf_nodes'] == 0 else space['max_leaf_nodes'],\n",
    "                    max_depth = None,\n",
    "                    bootstrap = True,\n",
    "                    criterion = 'squared_error',\n",
    "                    n_jobs = -1,\n",
    "                    random_state = 42\n",
    "                    )\n",
    "\n",
    "    kf = KFold(n_splits=5, shuffle=True, random_state=42)\n",
    "    mae_scores = -cross_val_score(model, X_train_trans, y_train_trans, cv=kf, scoring='neg_mean_absolute_error')\n",
    "    mean_mae = mae_scores.mean()\n",
    "    std_mae = mae_scores.std()\n",
    "\n",
    "    # Emit model specific params and metrics to Neptune\n",
    "    run[\"parameters/n_estimators\"].log(space['n_estimators'])\n",
    "    # run[\"parameters/max_features\"].log(space['max_features']) # No need to log max_features\n",
    "    # run[\"parameters/max_depth\"].log(space['max_depth'])\n",
    "    run[\"parameters/min_samples_split\"].log(space['min_samples_split'])\n",
    "    run[\"parameters/min_samples_leaf\"].log(space['min_samples_leaf'])\n",
    "    run[\"parameters/min_weight_fraction_leaf\"].log(space['min_weight_fraction_leaf'])\n",
    "    #run[\"parameters/ccp_alpha\"].log(space['ccp_alpha'])\n",
    "    run[\"parameters/max_leaf_nodes\"].log(space['max_leaf_nodes'])\n",
    "    \n",
    "    # Emit standard params and metrics to Neptune\n",
    "    run['parameters/all_parameters'].log(str(space))\n",
    "    run['metrics/mae_scores'].log(str(mae_scores.tolist()))\n",
    "    run[\"metrics/mean_mae\"].log(mean_mae)\n",
    "    run[\"metrics/std_mae\"].log(std_mae)\n",
    "\n",
    "    return {'loss': mean_mae, 'status': STATUS_OK, 'std': std_mae}"
   ]
  },
  {
   "cell_type": "code",
   "execution_count": null,
   "metadata": {
    "cell_id": "a3cf960bf3574e58b6941649eaf3cdd6",
    "deepnote_cell_type": "code",
    "deepnote_to_be_reexecuted": false,
    "execution_millis": 66,
    "execution_start": 1711906042266,
    "source_hash": null
   },
   "outputs": [],
   "source": [
    "# Define the Hyperparameter space\n",
    "space = {\n",
    "    'n_estimators': hp.quniform('n_estimators', 100, 2500, 1),\n",
    "    'max_features': hp.choice('max_features', ['sqrt', 'log2', None]),\n",
    "    #'max_depth': hp.quniform('max_depth', 0, 20, 1),\n",
    "    'min_samples_leaf': hp.quniform('min_samples_leaf', 3, 24, 1),\n",
    "    #'min_samples_split': hp.quniform('min_samples_split', 2, 48, 1),\n",
    "    'min_samples_split': hp.quniform('min_samples_split', 2, 12, 1),\n",
    "    'min_weight_fraction_leaf': hp.uniform('min_weight_fraction_leaf', 0.0, 0.5),\n",
    "    'max_leaf_nodes': hp.quniform('max_leaf_nodes', 2, 1500, 1),\n",
    "    #'ccp_alpha': hp.uniform('ccp_alpha', 0.03, 0.12)\n",
    "}"
   ]
  },
  {
   "cell_type": "markdown",
   "metadata": {
    "cell_id": "57ab3434310c4407a9b021a8a5bd934f",
    "deepnote_app_block_visible": false,
    "deepnote_cell_type": "text-cell-h1",
    "formattedRanges": [],
    "is_collapsed": false
   },
   "source": [
    "# Caribbean Region"
   ]
  },
  {
   "cell_type": "markdown",
   "metadata": {
    "cell_id": "d55ce993c8e74ab48cd703d94e5681d9",
    "deepnote_cell_type": "text-cell-h2",
    "formattedRanges": []
   },
   "source": [
    "## Import the Data"
   ]
  },
  {
   "cell_type": "code",
   "execution_count": null,
   "metadata": {
    "cell_id": "73d45b0d4ef0475db0728cab046e69d4",
    "deepnote_cell_type": "code",
    "deepnote_to_be_reexecuted": false,
    "execution_millis": 896,
    "execution_start": 1711906042300,
    "source_hash": null
   },
   "outputs": [],
   "source": [
    "X_train_trans, X_val_trans, X_holdout_trans, y_train_trans, y_val_trans, y_holdout_trans = cf.import_data(location_name='CARB')"
   ]
  },
  {
   "cell_type": "markdown",
   "metadata": {
    "cell_id": "60724d070c5242a3a5a62c112f00cac7",
    "deepnote_app_block_visible": false,
    "deepnote_cell_type": "text-cell-h2",
    "formattedRanges": [],
    "is_collapsed": false
   },
   "source": [
    "## Hyperparameter Tuning"
   ]
  },
  {
   "cell_type": "markdown",
   "metadata": {
    "cell_id": "3ceea9a017b9493cba02b01beb534240",
    "deepnote_cell_type": "text-cell-h3",
    "formattedRanges": []
   },
   "source": [
    "### Execute Hyperparameter search"
   ]
  },
  {
   "cell_type": "code",
   "execution_count": null,
   "metadata": {
    "cell_id": "4bc6a625477b4502b4fbe58b7e111461",
    "deepnote_cell_type": "code",
    "deepnote_to_be_reexecuted": false,
    "execution_millis": 1236343,
    "execution_start": 1711906043199,
    "source_hash": null
   },
   "outputs": [],
   "source": [
    "# Instantiate Neptune instance\n",
    "run = neptune.init_run(\n",
    "    name=\"RandomForest Reg Caribbean\",\n",
    "    tags=[\"RandomForest\", \"regression\", \"hyperopt\", \"RMSE\", \"Caribbean\", \"CARB\"],\n",
    "    description=\"RandomForest Hyperopt with RMSE on Caribbean\"\n",
    ")\n",
    "\n",
    "# Create the Trials object\n",
    "CARB_trials = Trials()\n",
    "\n",
    "# Create the fmin object\n",
    "CARB_best_hyperparams = fmin(fn = objective,\n",
    "                            space = space,\n",
    "                            algo = tpe.suggest,\n",
    "                            max_evals = 1000,\n",
    "                            trials = CARB_trials,\n",
    "                            show_progressbar=True,\n",
    "                            early_stop_fn=no_progress_loss(100))\n",
    "\n",
    "# Stop Neptune instance\n",
    "run.stop()\n",
    "\n",
    "CARB_best_trial = CARB_trials.best_trial\n",
    "CARB_best_hps = CARB_best_hyperparams.copy()\n",
    "\n",
    "CARB_best_hps['max_features'] = ['sqrt', 'log2', None][CARB_best_hps['max_features']]\n",
    "CARB_best_hps['n_estimators'] = int(CARB_best_hps['n_estimators'])\n",
    "CARB_best_hps['min_samples_split'] = int(CARB_best_hps['min_samples_split'])\n",
    "CARB_best_hps['min_samples_leaf'] = int(CARB_best_hps['min_samples_leaf'])\n",
    "CARB_best_hps['max_leaf_nodes'] = int(CARB_best_hps['max_leaf_nodes'])"
   ]
  },
  {
   "cell_type": "markdown",
   "metadata": {
    "cell_id": "768c13607c06485e813f4b67a72be047",
    "deepnote_cell_type": "text-cell-h3",
    "formattedRanges": []
   },
   "source": [
    "### Review the Hyperparameter Search Validation MAE Scores and Hyperparameters"
   ]
  },
  {
   "cell_type": "code",
   "execution_count": null,
   "metadata": {
    "cell_id": "413fef4cbae147b0b71f9edfbe212028",
    "deepnote_cell_type": "code",
    "deepnote_to_be_reexecuted": false,
    "execution_millis": 307,
    "execution_start": 1711907279545,
    "source_hash": null
   },
   "outputs": [],
   "source": [
    "# What's the best trial from the search? Report the MAE & StdDev\n",
    "print(f\"Best Mean Absolute Error: {CARB_trials.best_trial['result']['loss']:.4f}\")\n",
    "print(f\"Best Standard Error: {CARB_trials.best_trial['result']['std']:.4f}\")"
   ]
  },
  {
   "cell_type": "code",
   "execution_count": null,
   "metadata": {
    "cell_id": "e5c76844ee0c4f7fba4563765c64213e",
    "deepnote_cell_type": "code",
    "deepnote_to_be_reexecuted": false,
    "execution_millis": 307,
    "execution_start": 1711907279546,
    "source_hash": null
   },
   "outputs": [],
   "source": [
    "# Display the best hyperparameters\n",
    "CARB_best_hps"
   ]
  },
  {
   "cell_type": "markdown",
   "metadata": {
    "cell_id": "e2121f6f61534b97bd67230e72f34d21",
    "deepnote_cell_type": "text-cell-h2",
    "formattedRanges": []
   },
   "source": [
    "## Recreate the model and get new MAE and Feature Importance"
   ]
  },
  {
   "cell_type": "code",
   "execution_count": null,
   "metadata": {
    "cell_id": "0b3c351ab74c42c398e7b81ad0cb5370",
    "deepnote_cell_type": "code",
    "deepnote_to_be_reexecuted": false,
    "execution_millis": 54877,
    "execution_start": 1711907279549,
    "source_hash": null
   },
   "outputs": [],
   "source": [
    "# Recreate the model with the best hyperparameters\n",
    "CARB_model = cf.model_score(hps=CARB_best_hps, model_type='rf', holdout=True, val=True, Xtt=X_train_trans, ytt=y_train_trans, Xvt=X_val_trans, yvt=y_val_trans, Xht=X_holdout_trans, yht=y_holdout_trans)\n",
    "\n",
    "# Plot the feature importance\n",
    "cf.plot_feat_importance(CARB_model)"
   ]
  },
  {
   "cell_type": "markdown",
   "metadata": {
    "cell_id": "984864e9d5a143d2b5d6c18513a65ade",
    "deepnote_app_block_visible": false,
    "deepnote_cell_type": "text-cell-h2",
    "formattedRanges": [],
    "is_collapsed": false
   },
   "source": [
    "## Feature Ablation"
   ]
  },
  {
   "cell_type": "code",
   "execution_count": null,
   "metadata": {
    "cell_id": "b807d833835e45289c58a129606884f3",
    "deepnote_cell_type": "code",
    "deepnote_to_be_reexecuted": false,
    "execution_millis": 1043778,
    "execution_start": 1711907334432,
    "source_hash": null
   },
   "outputs": [],
   "source": [
    "%%time\n",
    "# First run through the feature ablation process\n",
    "# This will determine which features can potentially be removed\n",
    "CARB_feature_ablation_df, CARB_baseline_mae_val, CARB_baseline_mae_train = cf.feat_ablation(\n",
    "    model=CARB_model, hps=CARB_best_hps, model_type='rf',\n",
    "    Xtt=X_train_trans, ytt=y_train_trans, \n",
    "    Xvt=X_val_trans, yvt=y_val_trans, \n",
    "    Xht=X_holdout_trans, yht=y_holdout_trans)"
   ]
  },
  {
   "cell_type": "code",
   "execution_count": null,
   "metadata": {
    "cell_id": "df449b7269574d87b35f95a442da2e90",
    "deepnote_cell_type": "code",
    "deepnote_table_loading": false,
    "deepnote_table_state": {
     "filters": [],
     "pageIndex": 0,
     "pageSize": 50,
     "sortBy": []
    },
    "deepnote_to_be_reexecuted": false,
    "execution_millis": 239,
    "execution_start": 1711908378212,
    "source_hash": null
   },
   "outputs": [],
   "source": [
    "# Show the feature ablation dataframe, sorted by the change in MAE to Validation data\n",
    "CARB_feature_ablation_df.sort_values('Val_MAE_Change', ascending=False)"
   ]
  },
  {
   "cell_type": "code",
   "execution_count": null,
   "metadata": {
    "cell_id": "763353677eef402f9890bd032f710bf0",
    "deepnote_cell_type": "code",
    "deepnote_to_be_reexecuted": false,
    "execution_millis": 336,
    "execution_start": 1711908378271,
    "source_hash": null
   },
   "outputs": [],
   "source": [
    "# Generate the top 5 features to use in feature ablation combinations\n",
    "CARB_abl_list_to_combo = CARB_feature_ablation_df[CARB_feature_ablation_df['Val_MAE'] <= CARB_baseline_mae_val].sort_values('Val_MAE_Change', ascending=False)['Removed_Feature'].head(1).values[0].split(', ')\n",
    "\n",
    "# Show the top 5 features\n",
    "CARB_abl_list_to_combo"
   ]
  },
  {
   "cell_type": "code",
   "execution_count": null,
   "metadata": {
    "cell_id": "e78ea9ae6ff94f69b85b1306880472d8",
    "deepnote_cell_type": "code",
    "deepnote_to_be_reexecuted": false,
    "execution_millis": 1043551,
    "execution_start": 1711908378272,
    "source_hash": null
   },
   "outputs": [],
   "source": [
    "%%time\n",
    "# Second run through the feature ablation process\n",
    "# This time including the top 5 features whose removal decreased the MAE\n",
    "# These top 5 features will be combined using itertools\n",
    "CARB_feature_ablation_df, CARB_baseline_mae_val, CARB_baseline_mae_train = cf.feat_ablation(\n",
    "    model=CARB_model, hps=CARB_best_hps, model_type='rf',\n",
    "    Xtt=X_train_trans, ytt=y_train_trans, \n",
    "    Xvt=X_val_trans, yvt=y_val_trans, \n",
    "    Xht=X_holdout_trans, yht=y_holdout_trans, \n",
    "    abl_list_to_combo=CARB_abl_list_to_combo)"
   ]
  },
  {
   "cell_type": "code",
   "execution_count": null,
   "metadata": {
    "cell_id": "2af4d28dd55544c788d7fbb0c8e4272f",
    "deepnote_cell_type": "code",
    "deepnote_table_loading": false,
    "deepnote_table_state": {
     "filters": [],
     "pageIndex": 0,
     "pageSize": 25,
     "sortBy": [
      {
       "id": "Val_MAE_Change",
       "type": "desc"
      }
     ]
    },
    "deepnote_to_be_reexecuted": false,
    "execution_millis": 258,
    "execution_start": 1711909421826,
    "source_hash": null
   },
   "outputs": [],
   "source": [
    "# Show the feature ablation dataframe, sorted by the change in MAE to Validation data\n",
    "CARB_feature_ablation_df[CARB_feature_ablation_df['Val_MAE'] <= CARB_baseline_mae_val]"
   ]
  },
  {
   "cell_type": "code",
   "execution_count": null,
   "metadata": {
    "cell_id": "b04c4fdf4df247619fbdde3cf7a37ea2",
    "deepnote_cell_type": "code",
    "deepnote_to_be_reexecuted": false,
    "execution_millis": 378,
    "execution_start": 1711909421869,
    "source_hash": null
   },
   "outputs": [],
   "source": [
    "# Show the top 1 feature, which we'll remove.  Might be multiple features, so we split the string\n",
    "CARB_feature_ablation_df[CARB_feature_ablation_df['Val_MAE'] <= CARB_baseline_mae_val].sort_values('Val_MAE_Change', ascending=False)['Removed_Feature'].head(1).to_list()"
   ]
  },
  {
   "cell_type": "code",
   "execution_count": null,
   "metadata": {
    "cell_id": "14d00128d5974d80807b5bfeeea789a3",
    "deepnote_cell_type": "code",
    "deepnote_to_be_reexecuted": false,
    "execution_millis": 52183,
    "execution_start": 1711909421869,
    "source_hash": null
   },
   "outputs": [],
   "source": [
    "# Define the top features to drop\n",
    "CARB_drop_cols = CARB_feature_ablation_df[CARB_feature_ablation_df['Val_MAE'] <= CARB_baseline_mae_val].sort_values('Val_MAE_Change', ascending=False)['Removed_Feature'].head(1).values[0].split(', ')\n",
    "\n",
    "# Create the feature columns list for saving out\n",
    "CARB_feat_columns = X_train_trans.drop(columns=CARB_drop_cols).columns.to_list()\n",
    "\n",
    "# Recreate the model with the dropped columns\n",
    "# It should have a lower MAE score than the original\n",
    "CARB_experiment_model = cf.model_score(\n",
    "    CARB_best_hps, val=True, model_type='rf', \n",
    "    Xtt=X_train_trans.drop(columns=CARB_drop_cols), ytt=y_train_trans, \n",
    "    Xvt=X_val_trans.drop(columns=CARB_drop_cols), yvt=y_val_trans, \n",
    "    Xht=X_holdout_trans.drop(columns=CARB_drop_cols), yht=y_holdout_trans)\n",
    "\n",
    "# Plot the feature importance for this model\n",
    "cf.plot_feat_importance(CARB_experiment_model)"
   ]
  },
  {
   "cell_type": "markdown",
   "metadata": {
    "cell_id": "0761cdf945874472897ac560f725d1fa",
    "deepnote_cell_type": "text-cell-h3",
    "formattedRanges": []
   },
   "source": [
    "### Output the Model, Trials, Parameters and Feature List to disk"
   ]
  },
  {
   "cell_type": "code",
   "execution_count": null,
   "metadata": {
    "cell_id": "67bb98e2e1a742aa8ac6eb18b7141bed",
    "deepnote_cell_type": "code",
    "deepnote_to_be_reexecuted": false,
    "execution_millis": 1544,
    "execution_start": 1711909474057,
    "source_hash": null
   },
   "outputs": [],
   "source": [
    "# Write out the model artifacts to disk\n",
    "cf.write_out(model=CARB_model, trials=CARB_trials, params=CARB_best_hps, feat_cols=CARB_feat_columns, model_family='randomforest_reg', location_name='CARB')"
   ]
  },
  {
   "cell_type": "markdown",
   "metadata": {
    "cell_id": "c41c9f97be684128bca302dc4aa2ef84",
    "deepnote_app_block_visible": false,
    "deepnote_cell_type": "text-cell-h2",
    "formattedRanges": [],
    "is_collapsed": false
   },
   "source": [
    "## Review Holdout Truth vs Predictions"
   ]
  },
  {
   "cell_type": "code",
   "execution_count": null,
   "metadata": {
    "cell_id": "a521191a12fc48968d45047f0efd4192",
    "deepnote_cell_type": "code",
    "deepnote_to_be_reexecuted": false,
    "execution_millis": 206,
    "execution_start": 1711909475604,
    "source_hash": null
   },
   "outputs": [],
   "source": [
    "eval_df = y_val_trans.copy(deep=True)\n",
    "CARB_val_pred = CARB_model.predict(X_val_trans)\n",
    "eval_df['predictions'] = CARB_val_pred.tolist()\n",
    "eval_df['diff'] = eval_df['y_val'] - eval_df['predictions']"
   ]
  },
  {
   "cell_type": "code",
   "execution_count": null,
   "metadata": {
    "cell_id": "9243da5e13744c24955566956ad3cd51",
    "deepnote_cell_type": "code",
    "deepnote_table_loading": false,
    "deepnote_table_state": {
     "filters": [],
     "pageIndex": 0,
     "pageSize": 25,
     "sortBy": []
    },
    "deepnote_to_be_reexecuted": false,
    "execution_millis": 250,
    "execution_start": 1711909475812,
    "source_hash": null
   },
   "outputs": [],
   "source": [
    "eval_df.sort_values(by='diff', ascending=False).head(20)"
   ]
  },
  {
   "cell_type": "code",
   "execution_count": null,
   "metadata": {
    "cell_id": "16c2d19dd3664c808ae480b958ed4900",
    "deepnote_cell_type": "code",
    "deepnote_to_be_reexecuted": false,
    "execution_millis": 654,
    "execution_start": 1711909475820,
    "source_hash": null
   },
   "outputs": [],
   "source": [
    "fig = px.histogram(eval_df[eval_df['y_val'] > 5], x='diff', nbins=100, title='Distribution of the diff between prediction and holdout where true value > 5')\n",
    "\n",
    "# Show the plot\n",
    "fig.show()"
   ]
  },
  {
   "cell_type": "code",
   "execution_count": null,
   "metadata": {
    "cell_id": "970e509b0d9d486799d5a7a077682f8e",
    "deepnote_cell_type": "code",
    "deepnote_table_loading": false,
    "deepnote_table_state": {
     "filters": [],
     "pageIndex": 0,
     "pageSize": 25,
     "sortBy": []
    },
    "deepnote_to_be_reexecuted": false,
    "execution_millis": 632,
    "execution_start": 1711909475843,
    "source_hash": null
   },
   "outputs": [],
   "source": [
    "#eval_df[(eval_df['diff'].between(-5,5))]\n",
    "#eval_df[(eval_df['diff'].between(-5,5)) & (eval_df['y_val'] > 5)]\n",
    "eval_df[~(eval_df['diff'].between(-5,5))]\n"
   ]
  },
  {
   "cell_type": "markdown",
   "metadata": {
    "cell_id": "20d40f0296784bb4857a2ff5fbb1e35c",
    "deepnote_cell_type": "text-cell-h2",
    "formattedRanges": []
   },
   "source": [
    "## SHAP Analysis"
   ]
  },
  {
   "cell_type": "markdown",
   "metadata": {
    "cell_id": "a1a81d0d401c4527a206a731bcd8d707",
    "deepnote_cell_type": "text-cell-h3",
    "formattedRanges": []
   },
   "source": [
    "### Create SHAP Objects"
   ]
  },
  {
   "cell_type": "code",
   "execution_count": null,
   "metadata": {
    "cell_id": "e00020aec43248cb80035a5a35be81a9",
    "deepnote_cell_type": "code",
    "deepnote_to_be_reexecuted": false,
    "execution_millis": 585,
    "execution_start": 1711909475890,
    "source_hash": null
   },
   "outputs": [],
   "source": [
    "# %%time\n",
    "# CARB_X_val_trans = X_val_trans.copy(deep=True)\n",
    "# CARB_y_val_trans = y_val_trans.copy(deep=True)\n",
    "# explainer = shap.TreeExplainer(CARB_model)\n",
    "# shap_values = explainer(CARB_X_val_trans)\n",
    "# shap_interaction = explainer.shap_interaction_values(CARB_X_val_trans)\n",
    "# sv = explainer.shap_values(CARB_X_val_trans)\n",
    "# shap.initjs()"
   ]
  },
  {
   "cell_type": "code",
   "execution_count": null,
   "metadata": {
    "cell_id": "35e9d79347ae43f7b9a3fd81ead39b30",
    "deepnote_cell_type": "code",
    "deepnote_to_be_reexecuted": false,
    "execution_millis": 585,
    "execution_start": 1711909475891,
    "source_hash": null
   },
   "outputs": [],
   "source": [
    "# Beeswarm Importance\n",
    "# plt.figure(figsize=(8,6))\n",
    "# plt.title(f\"SHAP Beeswarm Analysis\")\n",
    "# shap.plots.beeswarm(shap_values, max_display=32)\n",
    "# plt.close()"
   ]
  },
  {
   "cell_type": "markdown",
   "metadata": {
    "cell_id": "94a8be88a0534297b2a38d13ab2e4072",
    "deepnote_cell_type": "text-cell-h3",
    "formattedRanges": []
   },
   "source": [
    "### Investigate Individual Predictions"
   ]
  },
  {
   "cell_type": "code",
   "execution_count": null,
   "metadata": {
    "cell_id": "86c3537c7c164a11a4282168bb1f26f1",
    "deepnote_cell_type": "code",
    "deepnote_to_be_reexecuted": false,
    "execution_millis": 584,
    "execution_start": 1711909475892,
    "source_hash": null
   },
   "outputs": [],
   "source": [
    "# investigate = CARB_X_val_trans.index.get_loc(5466)\n",
    "# print(CARB_y_val_trans.iloc[investigate])"
   ]
  },
  {
   "cell_type": "code",
   "execution_count": null,
   "metadata": {
    "cell_id": "8240dde533b34460b8b4f29e153ce7af",
    "deepnote_cell_type": "code",
    "deepnote_to_be_reexecuted": false,
    "execution_millis": 579,
    "execution_start": 1711909475897,
    "source_hash": null
   },
   "outputs": [],
   "source": [
    "# Waterfall on a prediction\n",
    "# plt.figure(figsize=(8,6))\n",
    "# shap.plots.waterfall(shap_values[investigate], max_display=20) # , show=False\n",
    "# plt.close()"
   ]
  },
  {
   "cell_type": "code",
   "execution_count": null,
   "metadata": {
    "cell_id": "17ee18a32ea0427cb7e73cec36796217",
    "deepnote_cell_type": "code",
    "deepnote_to_be_reexecuted": false,
    "execution_millis": 571,
    "execution_start": 1711909475906,
    "source_hash": null
   },
   "outputs": [],
   "source": [
    "# Decision plot on a prediction\n",
    "# shap.decision_plot(explainer.expected_value, explainer.shap_values(CARB_X_val_trans)[investigate], CARB_X_val_trans, feature_display_range=slice(-1,-51,-1))"
   ]
  },
  {
   "cell_type": "markdown",
   "metadata": {
    "cell_id": "c7a44b9bb4884e1f897fc393123a920d",
    "deepnote_app_block_visible": false,
    "deepnote_cell_type": "text-cell-h1",
    "formattedRanges": [],
    "is_collapsed": false
   },
   "source": [
    "# South East Asia and Australia Region"
   ]
  },
  {
   "cell_type": "markdown",
   "metadata": {
    "cell_id": "60d2c1870ad24236bc6fb3ea410d76b7",
    "deepnote_cell_type": "text-cell-h2",
    "formattedRanges": []
   },
   "source": [
    "## Import the Data"
   ]
  },
  {
   "cell_type": "code",
   "execution_count": null,
   "metadata": {
    "allow_embed": false,
    "cell_id": "5c7c8e37a14a4e2fa23b4005aa29c579",
    "deepnote_cell_type": "code",
    "deepnote_to_be_reexecuted": false,
    "execution_millis": 1688,
    "execution_start": 1711909475906,
    "source_hash": null
   },
   "outputs": [],
   "source": [
    "X_train_trans, X_val_trans, X_holdout_trans, y_train_trans, y_val_trans, y_holdout_trans = cf.import_data(location_name='SEAA')"
   ]
  },
  {
   "cell_type": "markdown",
   "metadata": {
    "cell_id": "1c54c7eacdd041e9b5dd290fd3df7b13",
    "deepnote_app_block_visible": false,
    "deepnote_cell_type": "text-cell-h2",
    "formattedRanges": [],
    "is_collapsed": false
   },
   "source": [
    "## Hyperparameter Tuning"
   ]
  },
  {
   "cell_type": "markdown",
   "metadata": {
    "cell_id": "8953786dd3974e8f9429caa4e686104c",
    "deepnote_cell_type": "text-cell-h3",
    "formattedRanges": []
   },
   "source": [
    "### Execute Hyperparameter search"
   ]
  },
  {
   "cell_type": "code",
   "execution_count": null,
   "metadata": {
    "allow_embed": false,
    "cell_id": "7aa9e774aee346c08fefbbf2197bdb47",
    "deepnote_cell_type": "code",
    "deepnote_to_be_reexecuted": false,
    "execution_millis": 1954240,
    "execution_start": 1711909477603,
    "source_hash": null
   },
   "outputs": [],
   "source": [
    "# Instantiate Neptune instance\n",
    "run = neptune.init_run(\n",
    "    name=\"RandomForest Reg South East Asia and Australia\",\n",
    "    tags=[\"RandomForest\", \"regression\", \"hyperopt\", \"RMSE\", \"South East Asia and Australia\", \"SEAA\"],\n",
    "    description=\"RandomForest Hyperopt with RMSE on South East Asia and Australia\"\n",
    ")\n",
    "\n",
    "# Create the Trials object\n",
    "SEAA_trials = Trials()\n",
    "\n",
    "# Create the fmin object\n",
    "SEAA_best_hyperparams = fmin(fn = objective,\n",
    "                            space = space,\n",
    "                            algo = tpe.suggest,\n",
    "                            max_evals = 1000,\n",
    "                            trials = SEAA_trials,\n",
    "                            show_progressbar=True,\n",
    "                            early_stop_fn=no_progress_loss(100))\n",
    "\n",
    "# Stop Neptune instance\n",
    "run.stop()\n",
    "\n",
    "SEAA_best_trial = SEAA_trials.best_trial\n",
    "SEAA_best_hps = SEAA_best_hyperparams.copy()\n",
    "\n",
    "SEAA_best_hps['max_features'] = ['sqrt', 'log2', None][SEAA_best_hps['max_features']]\n",
    "SEAA_best_hps['n_estimators'] = int(SEAA_best_hps['n_estimators'])\n",
    "#SEAA_best_hps['max_depth'] = int(SEAA_best_hps['max_depth'])\n",
    "SEAA_best_hps['min_samples_split'] = int(SEAA_best_hps['min_samples_split'])\n",
    "SEAA_best_hps['min_samples_leaf'] = int(SEAA_best_hps['min_samples_leaf'])\n",
    "SEAA_best_hps['max_leaf_nodes'] = int(SEAA_best_hps['max_leaf_nodes'])"
   ]
  },
  {
   "cell_type": "markdown",
   "metadata": {
    "cell_id": "6fc21e53de1c4824a431dfb0effc36a8",
    "deepnote_cell_type": "text-cell-h3",
    "formattedRanges": []
   },
   "source": [
    "### Review the Hyperparameter Search Validation MAE Scores and Hyperparameters"
   ]
  },
  {
   "cell_type": "code",
   "execution_count": null,
   "metadata": {
    "allow_embed": false,
    "cell_id": "e74cbc1963d948c1a249050ea3b58a3b",
    "deepnote_cell_type": "code",
    "deepnote_to_be_reexecuted": false,
    "execution_millis": 207,
    "execution_start": 1711911431849,
    "source_hash": null
   },
   "outputs": [],
   "source": [
    "# What's the best trial from the search? Report the MAE & StdDev\n",
    "print(f\"Best Mean Absolute Error: {SEAA_trials.best_trial['result']['loss']:.4f}\")\n",
    "print(f\"Best Standard Error: {SEAA_trials.best_trial['result']['std']:.4f}\")"
   ]
  },
  {
   "cell_type": "code",
   "execution_count": null,
   "metadata": {
    "allow_embed": false,
    "cell_id": "e42d2d6893fc4df29ee9a2ab80f056b2",
    "deepnote_cell_type": "code",
    "deepnote_to_be_reexecuted": false,
    "execution_millis": 206,
    "execution_start": 1711911431850,
    "source_hash": null
   },
   "outputs": [],
   "source": [
    "# Display the best hyperparameters\n",
    "SEAA_best_hps"
   ]
  },
  {
   "cell_type": "markdown",
   "metadata": {
    "cell_id": "6de2d64657534c849365e997a1cbc0ec",
    "deepnote_cell_type": "text-cell-h2",
    "formattedRanges": []
   },
   "source": [
    "## Recreate the model and get new MAE and Feature Importance"
   ]
  },
  {
   "cell_type": "code",
   "execution_count": null,
   "metadata": {
    "allow_embed": false,
    "cell_id": "e0065d28ad924b94983207364d5c9d09",
    "deepnote_cell_type": "code",
    "deepnote_to_be_reexecuted": false,
    "execution_millis": 21136,
    "execution_start": 1711911431852,
    "source_hash": null
   },
   "outputs": [],
   "source": [
    "# Recreate the model with the best hyperparameters\n",
    "SEAA_model = cf.model_score(hps=SEAA_best_hps, model_type='rf', holdout=True, val=True, Xtt=X_train_trans, ytt=y_train_trans, Xvt=X_val_trans, yvt=y_val_trans, Xht=X_holdout_trans, yht=y_holdout_trans)\n",
    "\n",
    "# Plot the feature importance\n",
    "cf.plot_feat_importance(SEAA_model)"
   ]
  },
  {
   "cell_type": "markdown",
   "metadata": {
    "cell_id": "6baa3f6234a74dabbc8fe0e7a9e31451",
    "deepnote_app_block_visible": false,
    "deepnote_cell_type": "text-cell-h2",
    "formattedRanges": [],
    "is_collapsed": false
   },
   "source": [
    "## Feature Ablation"
   ]
  },
  {
   "cell_type": "code",
   "execution_count": null,
   "metadata": {
    "allow_embed": false,
    "cell_id": "8787715d7f6740fa9093013040e8cdfe",
    "deepnote_cell_type": "code",
    "deepnote_to_be_reexecuted": false,
    "execution_millis": 445138,
    "execution_start": 1711911452991,
    "source_hash": null
   },
   "outputs": [],
   "source": [
    "%%time\n",
    "# First run through the feature ablation process\n",
    "# This will determine which features can potentially be removed\n",
    "SEAA_feature_ablation_df, SEAA_baseline_mae_val, SEAA_baseline_mae_train = cf.feat_ablation(\n",
    "    model=SEAA_model, hps=SEAA_best_hps, model_type='rf',\n",
    "    Xtt=X_train_trans, ytt=y_train_trans, \n",
    "    Xvt=X_val_trans, yvt=y_val_trans, \n",
    "    Xht=X_holdout_trans, yht=y_holdout_trans)"
   ]
  },
  {
   "cell_type": "code",
   "execution_count": null,
   "metadata": {
    "allow_embed": false,
    "cell_id": "07a58a37077b469a8ef03f7f36ce2ce6",
    "deepnote_cell_type": "code",
    "deepnote_table_loading": false,
    "deepnote_table_state": {
     "filters": [],
     "pageIndex": 0,
     "pageSize": 25,
     "sortBy": [
      {
       "id": "Val_MAE_Change",
       "type": "desc"
      }
     ]
    },
    "deepnote_to_be_reexecuted": false,
    "execution_millis": 262,
    "execution_start": 1711911898132,
    "source_hash": null
   },
   "outputs": [],
   "source": [
    "# Show the feature ablation dataframe, sorted by the change in MAE to Validation data\n",
    "SEAA_feature_ablation_df.sort_values('Val_MAE_Change', ascending=False)"
   ]
  },
  {
   "cell_type": "code",
   "execution_count": null,
   "metadata": {
    "allow_embed": false,
    "cell_id": "6543b453c6f14bc790eb3e934a6acc4d",
    "deepnote_cell_type": "code",
    "deepnote_to_be_reexecuted": false,
    "execution_millis": 215,
    "execution_start": 1711911898180,
    "source_hash": null
   },
   "outputs": [],
   "source": [
    "# Generate the top 5 features to use in feature ablation combinations\n",
    "SEAA_abl_list_to_combo = SEAA_feature_ablation_df[SEAA_feature_ablation_df['Val_MAE'] <= SEAA_baseline_mae_val].sort_values('Val_MAE_Change', ascending=False)['Removed_Feature'].head(5).to_list()\n",
    "\n",
    "# Review the list\n",
    "SEAA_abl_list_to_combo"
   ]
  },
  {
   "cell_type": "code",
   "execution_count": null,
   "metadata": {
    "allow_embed": false,
    "cell_id": "728e884cf2e1478397bbb8389e2dedbc",
    "deepnote_cell_type": "code",
    "deepnote_to_be_reexecuted": false,
    "execution_millis": 1018754,
    "execution_start": 1711911898181,
    "source_hash": null
   },
   "outputs": [],
   "source": [
    "%%time\n",
    "# Second run through the feature ablation process\n",
    "# This time including the top 5 features whose removal decreased the MAE\n",
    "# These top 5 features will be combined using itertools\n",
    "SEAA_feature_ablation_df, SEAA_baseline_mae_val, SEAA_baseline_mae_train = cf.feat_ablation(\n",
    "    model=SEAA_model, hps=SEAA_best_hps, model_type='rf',\n",
    "    Xtt=X_train_trans, ytt=y_train_trans, \n",
    "    Xvt=X_val_trans, yvt=y_val_trans, \n",
    "    Xht=X_holdout_trans, yht=y_holdout_trans, \n",
    "    abl_list_to_combo=SEAA_abl_list_to_combo)"
   ]
  },
  {
   "cell_type": "code",
   "execution_count": null,
   "metadata": {
    "allow_embed": false,
    "cell_id": "83783a63fdc74603aa6b332f0349f87b",
    "deepnote_cell_type": "code",
    "deepnote_table_loading": false,
    "deepnote_table_state": {
     "filters": [],
     "pageIndex": 0,
     "pageSize": 10,
     "sortBy": [
      {
       "id": "Val_MAE_Change",
       "type": "asc"
      }
     ]
    },
    "deepnote_to_be_reexecuted": false,
    "execution_millis": 341,
    "execution_start": 1711912916938,
    "source_hash": null
   },
   "outputs": [],
   "source": [
    "# Show the feature ablation dataframe, sorted by the change in MAE to Validation data\n",
    "SEAA_feature_ablation_df[SEAA_feature_ablation_df['Val_MAE'] <= SEAA_baseline_mae_val].sort_values('Val_MAE_Change', ascending=False)"
   ]
  },
  {
   "cell_type": "code",
   "execution_count": null,
   "metadata": {
    "allow_embed": false,
    "cell_id": "a13bebf64eb34464b468862040d26103",
    "deepnote_cell_type": "code",
    "deepnote_to_be_reexecuted": false,
    "execution_millis": 339,
    "execution_start": 1711912916940,
    "source_hash": null
   },
   "outputs": [],
   "source": [
    "# Show the top 1 feature, which we'll remove.  Might be multiple features, so we split the string\n",
    "SEAA_feature_ablation_df[SEAA_feature_ablation_df['Val_MAE'] <= SEAA_baseline_mae_val].sort_values('Val_MAE_Change', ascending=False)['Removed_Feature'].head(1).values[0].split(', ')"
   ]
  },
  {
   "cell_type": "code",
   "execution_count": null,
   "metadata": {
    "allow_embed": false,
    "cell_id": "80665df6dbe64b9bb4140222a3b34a19",
    "deepnote_cell_type": "code",
    "deepnote_to_be_reexecuted": false,
    "execution_millis": 20215,
    "execution_start": 1711912916982,
    "source_hash": null
   },
   "outputs": [],
   "source": [
    "# Define the top features to drop\n",
    "SEAA_drop_cols = SEAA_feature_ablation_df[SEAA_feature_ablation_df['Val_MAE'] <= SEAA_baseline_mae_val].sort_values('Val_MAE_Change', ascending=False)['Removed_Feature'].head(1).values[0].split(', ')\n",
    "\n",
    "# Create the feature columns list for saving out\n",
    "SEAA_feat_columns = X_train_trans.drop(columns=SEAA_drop_cols).columns.to_list()\n",
    "\n",
    "# Recreate the model with the dropped columns\n",
    "# It should have a lower MAE score than the original\n",
    "SEAA_experiment_model = cf.model_score(\n",
    "    SEAA_best_hps, val=True, model_type='rf', \n",
    "    Xtt=X_train_trans.drop(columns=SEAA_drop_cols), ytt=y_train_trans, \n",
    "    Xvt=X_val_trans.drop(columns=SEAA_drop_cols), yvt=y_val_trans, \n",
    "    Xht=X_holdout_trans.drop(columns=SEAA_drop_cols), yht=y_holdout_trans)\n",
    "\n",
    "# Plot the feature importance for this model\n",
    "cf.plot_feat_importance(SEAA_experiment_model)"
   ]
  },
  {
   "cell_type": "markdown",
   "metadata": {
    "cell_id": "82169528c3a24f6e9691131e60a518a6",
    "deepnote_cell_type": "text-cell-h3",
    "formattedRanges": []
   },
   "source": [
    "### Output the Model, Trials, Parameters and Feature List to disk"
   ]
  },
  {
   "cell_type": "code",
   "execution_count": null,
   "metadata": {
    "allow_embed": false,
    "cell_id": "4f74a2b5c16b44dda5cf0fcf2d14d65c",
    "deepnote_cell_type": "code",
    "deepnote_to_be_reexecuted": false,
    "execution_millis": 2309,
    "execution_start": 1711912937201,
    "source_hash": null
   },
   "outputs": [],
   "source": [
    "# Write out the model artifacts to disk\n",
    "cf.write_out(model=SEAA_model, trials=SEAA_trials, params=SEAA_best_hps, feat_cols=SEAA_feat_columns, model_family='randomforest_reg', location_name='SEAA')"
   ]
  },
  {
   "cell_type": "markdown",
   "metadata": {
    "cell_id": "b1209aa80609418d992598ca2bb4aa93",
    "deepnote_app_block_visible": false,
    "deepnote_cell_type": "text-cell-h2",
    "formattedRanges": [],
    "is_collapsed": false
   },
   "source": [
    "## Review Holdout Truth vs Predictions"
   ]
  },
  {
   "cell_type": "code",
   "execution_count": null,
   "metadata": {
    "allow_embed": false,
    "cell_id": "24eb019ebde84909abb88a59825cfc53",
    "deepnote_cell_type": "code",
    "deepnote_to_be_reexecuted": false,
    "execution_millis": 210,
    "execution_start": 1711912939513,
    "source_hash": null
   },
   "outputs": [],
   "source": [
    "eval_df = y_val_trans.copy(deep=True)\n",
    "SEAA_val_pred = SEAA_model.predict(X_val_trans)\n",
    "eval_df['predictions'] = SEAA_val_pred.tolist()\n",
    "eval_df['diff'] = eval_df['y_val'] - eval_df['predictions']"
   ]
  },
  {
   "cell_type": "code",
   "execution_count": null,
   "metadata": {
    "allow_embed": false,
    "cell_id": "df8b733031a5442e8c56b9998c337a93",
    "deepnote_cell_type": "code",
    "deepnote_to_be_reexecuted": false,
    "execution_millis": 158,
    "execution_start": 1711912939725,
    "source_hash": null
   },
   "outputs": [],
   "source": [
    "eval_df.sort_values(by='diff', ascending=False).head(20)"
   ]
  },
  {
   "cell_type": "code",
   "execution_count": null,
   "metadata": {
    "allow_embed": false,
    "cell_id": "c61c3b6c03234cf092dd219d89d62bc0",
    "deepnote_cell_type": "code",
    "deepnote_to_be_reexecuted": false,
    "execution_millis": 535,
    "execution_start": 1711912939735,
    "source_hash": null
   },
   "outputs": [],
   "source": [
    "fig = px.histogram(eval_df[eval_df['y_val'] > 5], x='diff', nbins=100, title='Distribution of the diff between prediction and holdout where true value > 5')\n",
    "\n",
    "# Show the plot\n",
    "fig.show()"
   ]
  },
  {
   "cell_type": "code",
   "execution_count": null,
   "metadata": {
    "allow_embed": false,
    "cell_id": "cacca232b12d4f1fb30a8711c895b4c1",
    "deepnote_cell_type": "code",
    "deepnote_table_loading": false,
    "deepnote_table_state": {
     "filters": [],
     "pageIndex": 3,
     "pageSize": 10,
     "sortBy": []
    },
    "deepnote_to_be_reexecuted": false,
    "execution_millis": 503,
    "execution_start": 1711912939767,
    "source_hash": null
   },
   "outputs": [],
   "source": [
    "#eval_df[(eval_df['diff'].between(-5,5))]\n",
    "#eval_df[(eval_df['diff'].between(-5,5)) & (eval_df['y_val'] > 5)]\n",
    "eval_df[~(eval_df['diff'].between(-5,5))]\n"
   ]
  },
  {
   "cell_type": "markdown",
   "metadata": {
    "cell_id": "456bc67c0e894b56be2601ba48307124",
    "deepnote_cell_type": "text-cell-h2",
    "formattedRanges": []
   },
   "source": [
    "## SHAP Analysis"
   ]
  },
  {
   "cell_type": "markdown",
   "metadata": {
    "cell_id": "511663efe30c4be58ff47775e006a086",
    "deepnote_cell_type": "text-cell-h3",
    "formattedRanges": []
   },
   "source": [
    "### Create SHAP Objects"
   ]
  },
  {
   "cell_type": "code",
   "execution_count": null,
   "metadata": {
    "allow_embed": false,
    "cell_id": "ca0d8dace9fa4f00bacc82345e9d049d",
    "deepnote_cell_type": "code",
    "deepnote_to_be_reexecuted": false,
    "execution_millis": 429,
    "execution_start": 1711912939842,
    "source_hash": null
   },
   "outputs": [],
   "source": [
    "# %%time\n",
    "# SEAA_X_val_trans = X_val_trans.copy(deep=True)\n",
    "# SEAA_y_val_trans = y_val_trans.copy(deep=True)\n",
    "# explainer = shap.TreeExplainer(SEAA_model)\n",
    "# shap_values = explainer(SEAA_X_val_trans)\n",
    "# shap_interaction = explainer.shap_interaction_values(SEAA_X_val_trans)\n",
    "# sv = explainer.shap_values(SEAA_X_val_trans)\n",
    "# shap.initjs()"
   ]
  },
  {
   "cell_type": "code",
   "execution_count": null,
   "metadata": {
    "allow_embed": false,
    "cell_id": "4bf6f3a26d9a4357866e61347e2ae180",
    "deepnote_cell_type": "code",
    "deepnote_to_be_reexecuted": false,
    "execution_millis": 427,
    "execution_start": 1711912939844,
    "source_hash": null
   },
   "outputs": [],
   "source": [
    "# Beeswarm Importance\n",
    "# plt.figure(figsize=(8,6))\n",
    "# plt.title(f\"SHAP Beeswarm Analysis\")\n",
    "# shap.plots.beeswarm(shap_values, max_display=32)\n",
    "# plt.close()"
   ]
  },
  {
   "cell_type": "markdown",
   "metadata": {
    "cell_id": "bdf87a97653e4d18bf3f6ea143fe655e",
    "deepnote_cell_type": "text-cell-h3",
    "formattedRanges": []
   },
   "source": [
    "### Investigate Individual Predictions"
   ]
  },
  {
   "cell_type": "code",
   "execution_count": null,
   "metadata": {
    "allow_embed": false,
    "cell_id": "466585fa358e4ab8b251bb04fd0beda1",
    "deepnote_cell_type": "code",
    "deepnote_to_be_reexecuted": false,
    "execution_millis": 425,
    "execution_start": 1711912939846,
    "source_hash": null
   },
   "outputs": [],
   "source": [
    "# investigate = SEAA_X_val_trans.index.get_loc(38207)\n",
    "# print(SEAA_y_val_trans.iloc[investigate])"
   ]
  },
  {
   "cell_type": "code",
   "execution_count": null,
   "metadata": {
    "allow_embed": false,
    "cell_id": "c5656ef9216d4c688ace2032cbeccc6f",
    "deepnote_cell_type": "code",
    "deepnote_to_be_reexecuted": false,
    "execution_millis": 425,
    "execution_start": 1711912939847,
    "source_hash": null
   },
   "outputs": [],
   "source": [
    "# Waterfall on a prediction\n",
    "# plt.figure(figsize=(8,6))\n",
    "# shap.plots.waterfall(shap_values[investigate], max_display=20) # , show=False\n",
    "# plt.close()"
   ]
  },
  {
   "cell_type": "code",
   "execution_count": null,
   "metadata": {
    "allow_embed": false,
    "cell_id": "1565c0702db448cf8b4ff78f299cc421",
    "deepnote_cell_type": "code",
    "deepnote_to_be_reexecuted": false,
    "execution_millis": 410,
    "execution_start": 1711912939862,
    "source_hash": null
   },
   "outputs": [],
   "source": [
    "# Decision plot on a prediction\n",
    "# shap.decision_plot(explainer.expected_value, explainer.shap_values(SEAA_X_val_trans)[investigate], SEAA_X_val_trans, feature_display_range=slice(-1,-51,-1))"
   ]
  },
  {
   "cell_type": "markdown",
   "metadata": {
    "cell_id": "8b19569d41e04b719b36ee2823d2aea6",
    "deepnote_app_block_visible": false,
    "deepnote_cell_type": "text-cell-h1",
    "formattedRanges": [],
    "is_collapsed": false
   },
   "source": [
    "# Global Region"
   ]
  },
  {
   "cell_type": "markdown",
   "metadata": {
    "cell_id": "19cb22913eef4ffa88dbaf687c662905",
    "deepnote_cell_type": "text-cell-h2",
    "formattedRanges": []
   },
   "source": [
    "## Import the Data"
   ]
  },
  {
   "cell_type": "code",
   "execution_count": null,
   "metadata": {
    "allow_embed": false,
    "cell_id": "eb649a9121ad46a39d45fbb896b836ca",
    "deepnote_cell_type": "code",
    "deepnote_to_be_reexecuted": false,
    "execution_millis": 2186,
    "execution_start": 1711912939863,
    "source_hash": null
   },
   "outputs": [],
   "source": [
    "X_train_trans, X_val_trans, X_holdout_trans, y_train_trans, y_val_trans, y_holdout_trans = cf.import_data(location_name='GLOB')"
   ]
  },
  {
   "cell_type": "markdown",
   "metadata": {
    "cell_id": "717ea3d656a2413d86a6ea4ed0e4afb3",
    "deepnote_app_block_visible": false,
    "deepnote_cell_type": "text-cell-h2",
    "formattedRanges": [],
    "is_collapsed": false
   },
   "source": [
    "## Hyperparameter Tuning"
   ]
  },
  {
   "cell_type": "markdown",
   "metadata": {
    "cell_id": "af258738cec147d690555c2668e6d812",
    "deepnote_cell_type": "text-cell-h3",
    "formattedRanges": []
   },
   "source": [
    "### Execute Hyperparameter search"
   ]
  },
  {
   "cell_type": "code",
   "execution_count": null,
   "metadata": {
    "allow_embed": false,
    "cell_id": "7dd2e8f253624c35be1e205febdbf29f",
    "deepnote_cell_type": "code",
    "deepnote_to_be_reexecuted": false,
    "execution_millis": 6366559,
    "execution_start": 1711912942051,
    "source_hash": null
   },
   "outputs": [],
   "source": [
    "# Instantiate Neptune instance\n",
    "run = neptune.init_run(\n",
    "    name=\"RandomForest Reg Global\",\n",
    "    tags=[\"RandomForest\", \"regression\", \"hyperopt\", \"MAE\", \"Global\", \"GLOB\"],\n",
    "    description=\"RandomForest Hyperopt with MAE on Global\"\n",
    ")\n",
    "\n",
    "# Create the Trials object\n",
    "GLOB_trials = Trials()\n",
    "\n",
    "# Create the fmin object\n",
    "GLOB_best_hyperparams = fmin(fn = objective,\n",
    "                            space = space,\n",
    "                            algo = tpe.suggest,\n",
    "                            max_evals = 1000,\n",
    "                            trials = GLOB_trials,\n",
    "                            show_progressbar=True,\n",
    "                            early_stop_fn=no_progress_loss(100))\n",
    "\n",
    "# Stop Neptune instance\n",
    "run.stop()\n",
    "\n",
    "GLOB_best_trial = GLOB_trials.best_trial\n",
    "GLOB_best_hps = GLOB_best_hyperparams.copy()\n",
    "\n",
    "GLOB_best_hps['max_features'] = ['sqrt', 'log2', None][GLOB_best_hps['max_features']]\n",
    "GLOB_best_hps['n_estimators'] = int(GLOB_best_hps['n_estimators'])\n",
    "GLOB_best_hps['min_samples_split'] = int(GLOB_best_hps['min_samples_split'])\n",
    "GLOB_best_hps['min_samples_leaf'] = int(GLOB_best_hps['min_samples_leaf'])\n",
    "GLOB_best_hps['max_leaf_nodes'] = int(GLOB_best_hps['max_leaf_nodes'])"
   ]
  },
  {
   "cell_type": "markdown",
   "metadata": {
    "cell_id": "b9cec0012edb4d96a5195bacdb0d4034",
    "deepnote_cell_type": "text-cell-h3",
    "formattedRanges": []
   },
   "source": [
    "### Review the Hyperparameter Search Validation MAE Scores and Hyperparameters"
   ]
  },
  {
   "cell_type": "code",
   "execution_count": null,
   "metadata": {
    "allow_embed": false,
    "cell_id": "5d04f511561c4d46add3ec15727c17cd",
    "deepnote_cell_type": "code",
    "deepnote_to_be_reexecuted": false,
    "execution_millis": 146,
    "execution_start": 1711919308613,
    "source_hash": null
   },
   "outputs": [],
   "source": [
    "# What's the best trial from the search? Report the MAE & StdDev\n",
    "print(f\"Best Mean Absolute Error: {GLOB_trials.best_trial['result']['loss']:.4f}\")\n",
    "print(f\"Best Standard Error: {GLOB_trials.best_trial['result']['std']:.4f}\")"
   ]
  },
  {
   "cell_type": "code",
   "execution_count": null,
   "metadata": {
    "allow_embed": false,
    "cell_id": "2894c8cf419745898ae1b66ff92f3ab1",
    "deepnote_cell_type": "code",
    "deepnote_to_be_reexecuted": false,
    "execution_millis": 144,
    "execution_start": 1711919308616,
    "source_hash": null
   },
   "outputs": [],
   "source": [
    "# Display the best hyperparameters\n",
    "GLOB_best_hps"
   ]
  },
  {
   "cell_type": "markdown",
   "metadata": {
    "cell_id": "6bf346ebbc164179ba5473bd1901dcc7",
    "deepnote_cell_type": "text-cell-h2",
    "formattedRanges": []
   },
   "source": [
    "## Recreate the model and get new MAE and Feature Importance"
   ]
  },
  {
   "cell_type": "code",
   "execution_count": null,
   "metadata": {
    "allow_embed": false,
    "cell_id": "fbd60af48f5c42a88c9bc3d8f9908e65",
    "deepnote_cell_type": "code",
    "deepnote_to_be_reexecuted": false,
    "execution_millis": 77313,
    "execution_start": 1711919308619,
    "source_hash": null
   },
   "outputs": [],
   "source": [
    "# Recreate the model with the best hyperparameters\n",
    "GLOB_model = cf.model_score(hps=GLOB_best_hps, model_type='rf', holdout=True, val=True, Xtt=X_train_trans, ytt=y_train_trans, Xvt=X_val_trans, yvt=y_val_trans, Xht=X_holdout_trans, yht=y_holdout_trans)\n",
    "\n",
    "# Plot the feature importance\n",
    "cf.plot_feat_importance(GLOB_model)"
   ]
  },
  {
   "cell_type": "markdown",
   "metadata": {
    "cell_id": "ff8747bedac449f99a700a5a0f64bf85",
    "deepnote_app_block_visible": false,
    "deepnote_cell_type": "text-cell-h2",
    "formattedRanges": [],
    "is_collapsed": false
   },
   "source": [
    "## Feature Ablation"
   ]
  },
  {
   "cell_type": "code",
   "execution_count": null,
   "metadata": {
    "allow_embed": false,
    "cell_id": "62a999542e364ea5827ddd016981eef7",
    "deepnote_cell_type": "code",
    "deepnote_to_be_reexecuted": false,
    "execution_millis": 4058737,
    "execution_start": 1711919385935,
    "source_hash": null
   },
   "outputs": [],
   "source": [
    "%%time\n",
    "# First run through the feature ablation process\n",
    "# This will determine which features can potentially be removed\n",
    "GLOB_feature_ablation_df, GLOB_baseline_mae_val, GLOB_baseline_mae_train = cf.feat_ablation(\n",
    "    model=GLOB_model, hps=GLOB_best_hps, model_type='rf',\n",
    "    Xtt=X_train_trans, ytt=y_train_trans, \n",
    "    Xvt=X_val_trans, yvt=y_val_trans, \n",
    "    Xht=X_holdout_trans, yht=y_holdout_trans)"
   ]
  },
  {
   "cell_type": "code",
   "execution_count": null,
   "metadata": {
    "allow_embed": false,
    "cell_id": "9a777742ed3a44019ae77e201435fc73",
    "deepnote_cell_type": "code",
    "deepnote_to_be_reexecuted": false,
    "execution_millis": 165,
    "execution_start": 1711923444674,
    "source_hash": null
   },
   "outputs": [],
   "source": [
    "# Show the feature ablation dataframe, sorted by the change in MAE to Validation data\n",
    "GLOB_feature_ablation_df.sort_values('Val_MAE_Change', ascending=False)"
   ]
  },
  {
   "cell_type": "code",
   "execution_count": null,
   "metadata": {
    "allow_embed": false,
    "cell_id": "98f3d0ef92af4a539f9f8312594f4ee6",
    "deepnote_cell_type": "code",
    "deepnote_to_be_reexecuted": false,
    "execution_millis": 238,
    "execution_start": 1711923444721,
    "source_hash": null
   },
   "outputs": [],
   "source": [
    "# Generate the top 5 features to use in feature ablation combinations\n",
    "GLOB_abl_list_to_combo = GLOB_feature_ablation_df[GLOB_feature_ablation_df['Val_MAE'] <= GLOB_baseline_mae_val].sort_values('Val_MAE_Change', ascending=False)['Removed_Feature'].head(5).to_list()\n",
    "\n",
    "# Review the list\n",
    "GLOB_abl_list_to_combo"
   ]
  },
  {
   "cell_type": "code",
   "execution_count": null,
   "metadata": {
    "allow_embed": false,
    "cell_id": "458f330887834cf7a98716a74c906410",
    "deepnote_cell_type": "code",
    "deepnote_to_be_reexecuted": false,
    "execution_millis": 8920368,
    "execution_start": 1711923444721,
    "source_hash": null
   },
   "outputs": [],
   "source": [
    "%%time\n",
    "# Second run through the feature ablation process\n",
    "# This time including the top 5 features whose removal decreased the MAE\n",
    "# These top 5 features will be combined using itertools\n",
    "GLOB_feature_ablation_df, GLOB_baseline_mae_val, GLOB_baseline_mae_train = cf.feat_ablation(\n",
    "    model=GLOB_model, hps=GLOB_best_hps, model_type='rf',\n",
    "    Xtt=X_train_trans, ytt=y_train_trans, \n",
    "    Xvt=X_val_trans, yvt=y_val_trans, \n",
    "    Xht=X_holdout_trans, yht=y_holdout_trans, \n",
    "    abl_list_to_combo=GLOB_abl_list_to_combo)"
   ]
  },
  {
   "cell_type": "code",
   "execution_count": null,
   "metadata": {
    "allow_embed": false,
    "cell_id": "c733b127930f45fbb1f03a8ddfe68fdf",
    "deepnote_cell_type": "code",
    "deepnote_to_be_reexecuted": false,
    "execution_millis": 207,
    "execution_start": 1711932365092,
    "source_hash": null
   },
   "outputs": [],
   "source": [
    "# Show the feature ablation dataframe, sorted by the change in MAE to Validation data\n",
    "GLOB_feature_ablation_df[GLOB_feature_ablation_df['Val_MAE'] <= GLOB_baseline_mae_val].sort_values('Val_MAE_Change', ascending=False)"
   ]
  },
  {
   "cell_type": "code",
   "execution_count": null,
   "metadata": {
    "allow_embed": false,
    "cell_id": "6c89b78440c1427db0bf82eecc830116",
    "deepnote_cell_type": "code",
    "deepnote_to_be_reexecuted": false,
    "execution_millis": 358,
    "execution_start": 1711932365136,
    "source_hash": null
   },
   "outputs": [],
   "source": [
    "# Show the top 1 feature, which we'll remove.  Might be multiple features, so we split the string\n",
    "GLOB_feature_ablation_df[GLOB_feature_ablation_df['Val_MAE'] <= GLOB_baseline_mae_val].sort_values('Val_MAE_Change', ascending=False)['Removed_Feature'].head(1).values[0].split(', ')"
   ]
  },
  {
   "cell_type": "code",
   "execution_count": null,
   "metadata": {
    "allow_embed": false,
    "cell_id": "f8db359112ae46a2a5c80ea68ea8ec08",
    "deepnote_cell_type": "code",
    "deepnote_to_be_reexecuted": false,
    "execution_millis": 190591,
    "execution_start": 1711932365137,
    "source_hash": null
   },
   "outputs": [],
   "source": [
    "# Define the top features to drop\n",
    "GLOB_drop_cols = GLOB_feature_ablation_df[GLOB_feature_ablation_df['Val_MAE'] <= GLOB_baseline_mae_val].sort_values('Val_MAE_Change', ascending=False)['Removed_Feature'].head(1).values[0].split(', ')\n",
    "\n",
    "# Create the feature columns list for saving out\n",
    "GLOB_feat_columns = X_train_trans.drop(columns=GLOB_drop_cols).columns.to_list()\n",
    "\n",
    "# Recreate the model with the dropped columns\n",
    "# It should have a lower MAE score than the original\n",
    "GLOB_experiment_model = cf.model_score(\n",
    "    GLOB_best_hps, val=True, model_type='rf', \n",
    "    Xtt=X_train_trans.drop(columns=GLOB_drop_cols), ytt=y_train_trans, \n",
    "    Xvt=X_val_trans.drop(columns=GLOB_drop_cols), yvt=y_val_trans, \n",
    "    Xht=X_holdout_trans.drop(columns=GLOB_drop_cols), yht=y_holdout_trans)\n",
    "\n",
    "# Plot the feature importance for this model\n",
    "cf.plot_feat_importance(GLOB_experiment_model)"
   ]
  },
  {
   "cell_type": "markdown",
   "metadata": {
    "cell_id": "4c5af566f3944ce6b2da0af90c7946c9",
    "deepnote_cell_type": "text-cell-h3",
    "formattedRanges": []
   },
   "source": [
    "### Output the Model, Trials, Parameters and Feature List to disk"
   ]
  },
  {
   "cell_type": "code",
   "execution_count": null,
   "metadata": {
    "allow_embed": false,
    "cell_id": "fd4de7c0f9c04411b6047ef4306271a3",
    "deepnote_cell_type": "code",
    "deepnote_to_be_reexecuted": false,
    "execution_millis": 2582,
    "execution_start": 1711932555730,
    "source_hash": null
   },
   "outputs": [],
   "source": [
    "# Write out the model artifacts to disk\n",
    "cf.write_out(model=GLOB_model, trials=GLOB_trials, params=GLOB_best_hps, feat_cols=GLOB_feat_columns, model_family='randomforest_reg', location_name='GLOB')"
   ]
  },
  {
   "cell_type": "markdown",
   "metadata": {
    "cell_id": "878b23184a9f46e3bb6fb68406298b64",
    "deepnote_app_block_visible": false,
    "deepnote_cell_type": "text-cell-h2",
    "formattedRanges": [],
    "is_collapsed": false
   },
   "source": [
    "## Review Holdout Truth vs Predictions"
   ]
  },
  {
   "cell_type": "code",
   "execution_count": null,
   "metadata": {
    "allow_embed": false,
    "cell_id": "e5898c1a530c462b85c13edbb85fb8eb",
    "deepnote_cell_type": "code",
    "deepnote_to_be_reexecuted": false,
    "execution_millis": 610,
    "execution_start": 1711932558318,
    "source_hash": null
   },
   "outputs": [],
   "source": [
    "eval_df = y_val_trans.copy(deep=True)\n",
    "GLOB_val_pred = GLOB_model.predict(X_val_trans)\n",
    "eval_df['predictions'] = GLOB_val_pred.tolist()\n",
    "eval_df['diff'] = eval_df['y_val'] - eval_df['predictions']"
   ]
  },
  {
   "cell_type": "code",
   "execution_count": null,
   "metadata": {
    "allow_embed": false,
    "cell_id": "93caa438dbcf477bb9b24354a1146af1",
    "deepnote_cell_type": "code",
    "deepnote_to_be_reexecuted": false,
    "execution_millis": 321,
    "execution_start": 1711932558934,
    "source_hash": null
   },
   "outputs": [],
   "source": [
    "eval_df.sort_values(by='diff', ascending=False).head(20)"
   ]
  },
  {
   "cell_type": "code",
   "execution_count": null,
   "metadata": {
    "allow_embed": false,
    "cell_id": "73ffd0b7420f46b6ab70e52a65bca79a",
    "deepnote_cell_type": "code",
    "deepnote_to_be_reexecuted": false,
    "execution_millis": 822,
    "execution_start": 1711932558960,
    "source_hash": null
   },
   "outputs": [],
   "source": [
    "fig = px.histogram(eval_df[eval_df['y_val'] > 5], x='diff', nbins=100, title='Distribution of the diff between prediction and holdout where true value > 5')\n",
    "\n",
    "# Show the plot\n",
    "fig.show()"
   ]
  },
  {
   "cell_type": "code",
   "execution_count": null,
   "metadata": {
    "allow_embed": false,
    "cell_id": "997eccde985d49b0a25eff3f5ea79e30",
    "deepnote_cell_type": "code",
    "deepnote_table_loading": false,
    "deepnote_table_state": {
     "filters": [],
     "pageIndex": 1,
     "pageSize": 10,
     "sortBy": []
    },
    "deepnote_to_be_reexecuted": false,
    "execution_millis": 715,
    "execution_start": 1711932559067,
    "source_hash": null
   },
   "outputs": [],
   "source": [
    "#eval_df[(eval_df['diff'].between(-5,5))]\n",
    "#eval_df[(eval_df['diff'].between(-5,5)) & (eval_df['y_val'] > 5)]\n",
    "eval_df[~(eval_df['diff'].between(-5,5))]\n"
   ]
  },
  {
   "cell_type": "markdown",
   "metadata": {
    "cell_id": "621b7001d155492d9f20920a55a6a58a",
    "deepnote_cell_type": "text-cell-h2",
    "formattedRanges": []
   },
   "source": [
    "## SHAP Analysis"
   ]
  },
  {
   "cell_type": "markdown",
   "metadata": {
    "cell_id": "ae41e62150584831a62b1d8a5cd598cd",
    "deepnote_cell_type": "text-cell-h3",
    "formattedRanges": []
   },
   "source": [
    "### Create SHAP Objects"
   ]
  },
  {
   "cell_type": "code",
   "execution_count": null,
   "metadata": {
    "allow_embed": false,
    "cell_id": "df6bf15eb054462ea451e13e7da77e46",
    "deepnote_cell_type": "code",
    "deepnote_to_be_reexecuted": false,
    "execution_millis": 596,
    "execution_start": 1711932559186,
    "source_hash": null
   },
   "outputs": [],
   "source": [
    "# %%time\n",
    "# GLOB_X_val_trans = X_val_trans.copy(deep=True)\n",
    "# GLOB_y_val_trans = y_val_trans.copy(deep=True)\n",
    "# explainer = shap.TreeExplainer(GLOB_model)\n",
    "# shap_values = explainer(GLOB_X_val_trans)\n",
    "# shap_interaction = explainer.shap_interaction_values(GLOB_X_val_trans)\n",
    "# sv = explainer.shap_values(GLOB_X_val_trans)\n",
    "# shap.initjs()"
   ]
  },
  {
   "cell_type": "code",
   "execution_count": null,
   "metadata": {
    "allow_embed": false,
    "cell_id": "289c0ffcd1b94cbeb8bb66906d45b4fc",
    "deepnote_cell_type": "code",
    "deepnote_to_be_reexecuted": false,
    "execution_millis": 591,
    "execution_start": 1711932559192,
    "source_hash": null
   },
   "outputs": [],
   "source": [
    "# Beeswarm Importance\n",
    "# plt.figure(figsize=(8,6))\n",
    "# plt.title(f\"SHAP Beeswarm Analysis\")\n",
    "# shap.plots.beeswarm(shap_values, max_display=32)\n",
    "# plt.close()"
   ]
  },
  {
   "cell_type": "markdown",
   "metadata": {
    "cell_id": "95a73a1bf99343f999badf44db047194",
    "deepnote_cell_type": "text-cell-h3",
    "formattedRanges": []
   },
   "source": [
    "### Investigate Individual Predictions"
   ]
  },
  {
   "cell_type": "code",
   "execution_count": null,
   "metadata": {
    "allow_embed": false,
    "cell_id": "f08b80606364457ea038710580cab1db",
    "deepnote_cell_type": "code",
    "deepnote_to_be_reexecuted": false,
    "execution_millis": 581,
    "execution_start": 1711932559202,
    "source_hash": null
   },
   "outputs": [],
   "source": [
    "# investigate = GLOB_X_val_trans.index.get_loc(39332)\n",
    "# print(GLOB_y_val_trans.iloc[investigate])"
   ]
  },
  {
   "cell_type": "code",
   "execution_count": null,
   "metadata": {
    "allow_embed": false,
    "cell_id": "df07b8dabd554e2aa9ccfa3e008b8a1d",
    "deepnote_cell_type": "code",
    "deepnote_to_be_reexecuted": false,
    "execution_millis": 531,
    "execution_start": 1711932559252,
    "source_hash": null
   },
   "outputs": [],
   "source": [
    "# Waterfall on a prediction\n",
    "# plt.figure(figsize=(8,6))\n",
    "# shap.plots.waterfall(shap_values[investigate], max_display=20) # , show=False\n",
    "# plt.close()"
   ]
  },
  {
   "cell_type": "code",
   "execution_count": null,
   "metadata": {
    "allow_embed": false,
    "cell_id": "88a4495bc68440c098d6df522cadb164",
    "deepnote_cell_type": "code",
    "deepnote_to_be_reexecuted": false,
    "execution_millis": 531,
    "execution_start": 1711932559253,
    "source_hash": null
   },
   "outputs": [],
   "source": [
    "# Decision plot on a prediction\n",
    "# shap.decision_plot(explainer.expected_value, explainer.shap_values(GLOB_X_val_trans)[investigate], GLOB_X_val_trans, feature_display_range=slice(-1,-51,-1))"
   ]
  }
 ],
 "metadata": {
  "deepnote_execution_queue": [],
  "deepnote_notebook_id": "25a9598fb5364ed1a880834db0c6da51",
  "kernelspec": {
   "display_name": "Python 3 (ipykernel)",
   "language": "python",
   "name": "python3"
  },
  "language_info": {
   "codemirror_mode": {
    "name": "ipython",
    "version": 3
   },
   "file_extension": ".py",
   "mimetype": "text/x-python",
   "name": "python",
   "nbconvert_exporter": "python",
   "pygments_lexer": "ipython3",
   "version": "3.11.5"
  }
 },
 "nbformat": 4,
 "nbformat_minor": 1
}
