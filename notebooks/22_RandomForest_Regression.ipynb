{
 "cells": [
  {
   "cell_type": "markdown",
   "metadata": {
    "cell_id": "98193acd32da44e898648fc8fb9e582e",
    "deepnote_cell_type": "text-cell-h1",
    "formattedRanges": []
   },
   "source": [
    "# Regression - RandomForest"
   ]
  },
  {
   "cell_type": "markdown",
   "metadata": {
    "cell_id": "f93fe8ba2fd0452a8a2a5eca4910f3c7",
    "deepnote_cell_type": "text-cell-h2",
    "formattedRanges": []
   },
   "source": [
    "## Notebook Setup"
   ]
  },
  {
   "cell_type": "markdown",
   "metadata": {
    "cell_id": "cb3bed02a6bd4c24a22fe1a9e4f8facb",
    "deepnote_cell_type": "text-cell-h3",
    "formattedRanges": []
   },
   "source": [
    "### Import Libraries"
   ]
  },
  {
   "cell_type": "code",
   "execution_count": 1,
   "metadata": {
    "cell_id": "80339930e715418c82df916fda1518c8",
    "deepnote_cell_type": "code",
    "deepnote_to_be_reexecuted": false,
    "execution_millis": 2601,
    "execution_start": 1711906037119,
    "source_hash": null,
    "ExecuteTime": {
     "end_time": "2024-04-13T13:29:44.400207800Z",
     "start_time": "2024-04-13T13:29:41.509684900Z"
    }
   },
   "outputs": [
    {
     "name": "stdout",
     "output_type": "stream",
     "text": [
      "Loading dotenv file\n"
     ]
    }
   ],
   "source": [
    "# Import Standard Libraries\n",
    "import os\n",
    "import datetime\n",
    "import pickle\n",
    "import itertools\n",
    "import pandas as pd\n",
    "import numpy as np\n",
    "\n",
    "# Import Visualization Libraries\n",
    "import seaborn as sns\n",
    "import matplotlib.pyplot as plt\n",
    "import plotly.express as px\n",
    "import plotly.graph_objects as go\n",
    "import shap\n",
    "\n",
    "# Import custom functions\n",
    "import env_functions as ef\n",
    "import s3_functions as sf\n",
    "import common_functions as cf"
   ]
  },
  {
   "cell_type": "code",
   "execution_count": 2,
   "metadata": {
    "cell_id": "078eb67c3cf5445aa79df2fc297d73fb",
    "deepnote_cell_type": "code",
    "deepnote_to_be_reexecuted": false,
    "execution_millis": 479,
    "execution_start": 1711906039723,
    "source_hash": null,
    "ExecuteTime": {
     "end_time": "2024-04-13T13:29:46.995972700Z",
     "start_time": "2024-04-13T13:29:44.400207800Z"
    }
   },
   "outputs": [],
   "source": [
    "# Import Modeling Libraries\n",
    "from sklearn import set_config\n",
    "from sklearn.model_selection import KFold, cross_val_score\n",
    "from sklearn.ensemble import RandomForestRegressor\n",
    "from sklearn.metrics import r2_score, mean_absolute_error, mean_squared_error\n",
    "from hyperopt import STATUS_OK, Trials, fmin, hp, tpe\n",
    "from hyperopt.early_stop import no_progress_loss\n",
    "import neptune"
   ]
  },
  {
   "cell_type": "code",
   "execution_count": 3,
   "metadata": {
    "ExecuteTime": {
     "end_time": "2024-04-13T13:29:47.000782900Z",
     "start_time": "2024-04-13T13:29:46.997972600Z"
    }
   },
   "outputs": [
    {
     "name": "stdout",
     "output_type": "stream",
     "text": [
      "Loading dotenv file\n"
     ]
    }
   ],
   "source": [
    "# Determine the environment and get appropriate vars\n",
    "deepnote, env_vars = ef.load_env_vars()\n",
    "\n",
    "# Iterate through the vars and set them as global vars\n",
    "for var_name, var in env_vars.items():\n",
    "    globals()[var_name] = var\n",
    "\n",
    "# If not in the DeepNote environment, create a dict for aws creds\n",
    "#   that were located in the environment file.  This will be passed\n",
    "#   to all aws s3 functions.\n",
    "if not deepnote:\n",
    "    aws_env_vars = {\n",
    "        'access_key_id': aws_access_key_id,\n",
    "        'secret_access_key': aws_secret_access_key,\n",
    "        'bucket_name': s3_bucket_name\n",
    "    }"
   ]
  },
  {
   "cell_type": "code",
   "execution_count": 4,
   "metadata": {
    "cell_id": "9b01c9cab4384f548b774b8f29f5dd72",
    "deepnote_cell_type": "code",
    "deepnote_to_be_reexecuted": false,
    "execution_millis": 84,
    "execution_start": 1711906040205,
    "source_hash": null,
    "ExecuteTime": {
     "end_time": "2024-04-13T13:29:47.015279400Z",
     "start_time": "2024-04-13T13:29:47.001782600Z"
    }
   },
   "outputs": [],
   "source": [
    "# Pandas Configs\n",
    "pd.set_option('mode.chained_assignment', None)\n",
    "pd.options.display.float_format = '{:.2f}'.format\n",
    "pd.options.display.max_columns = None\n",
    "pd.options.display.max_rows = None\n",
    "\n",
    "# Ignore Warnings\n",
    "import warnings\n",
    "warnings.simplefilter('ignore', category=FutureWarning)\n",
    "warnings.simplefilter('ignore', category=UserWarning)\n",
    "warnings.simplefilter(action=\"ignore\", category=pd.errors.PerformanceWarning)\n",
    "\n",
    "# MapBox Token for Plotly Maps\n",
    "px.set_mapbox_access_token(os.environ.get(\"MAPBOX_TOKEN\"))\n",
    "\n",
    "# Scikit Learn Configs\n",
    "set_config(transform_output=\"pandas\")"
   ]
  },
  {
   "cell_type": "markdown",
   "metadata": {
    "cell_id": "ac011a12ac094a87a4334f76e0deafa7",
    "deepnote_cell_type": "text-cell-h3",
    "formattedRanges": []
   },
   "source": [
    "### Common Functions"
   ]
  },
  {
   "cell_type": "code",
   "execution_count": 5,
   "metadata": {
    "cell_id": "cc204e27dda545a091a6d321855b0485",
    "deepnote_cell_type": "code",
    "deepnote_to_be_reexecuted": false,
    "execution_millis": 67,
    "execution_start": 1711906042237,
    "source_hash": null,
    "ExecuteTime": {
     "end_time": "2024-04-13T13:30:24.872545700Z",
     "start_time": "2024-04-13T13:30:24.853573900Z"
    }
   },
   "outputs": [],
   "source": [
    "def objective(space):\n",
    "    \"\"\"\n",
    "    This is the RandomForest hyperparam objective function\n",
    "    Hyperparams are passed into this function, which are then used in the model object\n",
    "    The model object is then used in the cross_val_scores function \n",
    "    This results in a list of MAE scores, which are then returned as \n",
    "      the loss and std vars to the trials object\n",
    "    \"\"\"\n",
    "    space['n_estimators'] = int(space['n_estimators'])\n",
    "    space['min_samples_split'] = int(space['min_samples_split'])\n",
    "    space['min_samples_leaf'] = int(space['min_samples_leaf'])\n",
    "    space['max_leaf_nodes'] = int(space['max_leaf_nodes'])\n",
    "\n",
    "    model=RandomForestRegressor(\n",
    "                    n_estimators = space['n_estimators'],\n",
    "                    max_features = space['max_features'],\n",
    "                    min_samples_split = space['min_samples_split'],\n",
    "                    min_samples_leaf = space['min_samples_leaf'],\n",
    "                    min_weight_fraction_leaf = space['min_weight_fraction_leaf'],\n",
    "                    max_leaf_nodes = None if space['max_leaf_nodes'] == 0 else space['max_leaf_nodes'],\n",
    "                    max_depth = None,\n",
    "                    bootstrap = True,\n",
    "                    criterion = 'squared_error',\n",
    "                    n_jobs = -1,\n",
    "                    random_state = 42\n",
    "                    )\n",
    "\n",
    "    kf = KFold(n_splits=5, shuffle=True, random_state=42)\n",
    "    mae_scores = -cross_val_score(model, X_train_trans, y_train_trans, cv=kf, scoring='neg_mean_absolute_error')\n",
    "    mean_mae = mae_scores.mean()\n",
    "    std_mae = mae_scores.std()\n",
    "\n",
    "    # Emit model specific params and metrics to Neptune\n",
    "    run[\"parameters/n_estimators\"].log(space['n_estimators'])\n",
    "    run[\"parameters/min_samples_split\"].log(space['min_samples_split'])\n",
    "    run[\"parameters/min_samples_leaf\"].log(space['min_samples_leaf'])\n",
    "    run[\"parameters/min_weight_fraction_leaf\"].log(space['min_weight_fraction_leaf'])\n",
    "    run[\"parameters/max_leaf_nodes\"].log(space['max_leaf_nodes'])\n",
    "    \n",
    "    # Emit standard params and metrics to Neptune\n",
    "    run['parameters/all_parameters'].log(str(space))\n",
    "    run['metrics/mae_scores'].log(str(mae_scores.tolist()))\n",
    "    run[\"metrics/mean_mae\"].log(mean_mae)\n",
    "    run[\"metrics/std_mae\"].log(std_mae)\n",
    "\n",
    "    return {'loss': mean_mae, 'status': STATUS_OK, 'std': std_mae}"
   ]
  },
  {
   "cell_type": "code",
   "execution_count": 6,
   "metadata": {
    "cell_id": "a3cf960bf3574e58b6941649eaf3cdd6",
    "deepnote_cell_type": "code",
    "deepnote_to_be_reexecuted": false,
    "execution_millis": 66,
    "execution_start": 1711906042266,
    "source_hash": null,
    "ExecuteTime": {
     "end_time": "2024-04-13T13:30:25.933381500Z",
     "start_time": "2024-04-13T13:30:25.913781100Z"
    }
   },
   "outputs": [],
   "source": [
    "# Define the Hyperparameter space\n",
    "space = {\n",
    "    'n_estimators': hp.quniform('n_estimators', 100, 2500, 1),\n",
    "    'max_features': hp.choice('max_features', ['sqrt', 'log2', None]),\n",
    "    'min_samples_leaf': hp.quniform('min_samples_leaf', 3, 24, 1),\n",
    "    'min_samples_split': hp.quniform('min_samples_split', 2, 12, 1),\n",
    "    'min_weight_fraction_leaf': hp.uniform('min_weight_fraction_leaf', 0.0, 0.5),\n",
    "    'max_leaf_nodes': hp.quniform('max_leaf_nodes', 2, 1500, 1),\n",
    "}"
   ]
  },
  {
   "cell_type": "markdown",
   "metadata": {
    "cell_id": "57ab3434310c4407a9b021a8a5bd934f",
    "deepnote_app_block_visible": false,
    "deepnote_cell_type": "text-cell-h1",
    "formattedRanges": [],
    "is_collapsed": false
   },
   "source": [
    "# Caribbean Region"
   ]
  },
  {
   "cell_type": "markdown",
   "metadata": {
    "cell_id": "d55ce993c8e74ab48cd703d94e5681d9",
    "deepnote_cell_type": "text-cell-h2",
    "formattedRanges": []
   },
   "source": [
    "## Import the Data"
   ]
  },
  {
   "cell_type": "code",
   "execution_count": 7,
   "metadata": {
    "cell_id": "73d45b0d4ef0475db0728cab046e69d4",
    "deepnote_cell_type": "code",
    "deepnote_to_be_reexecuted": false,
    "execution_millis": 896,
    "execution_start": 1711906042300,
    "source_hash": null,
    "ExecuteTime": {
     "end_time": "2024-04-13T13:30:38.883129300Z",
     "start_time": "2024-04-13T13:30:36.001238400Z"
    }
   },
   "outputs": [],
   "source": [
    "X_train_trans, X_val_trans, X_holdout_trans, y_train_trans, y_val_trans, y_holdout_trans = cf.import_data(location_name='CARB')"
   ]
  },
  {
   "cell_type": "markdown",
   "metadata": {
    "cell_id": "60724d070c5242a3a5a62c112f00cac7",
    "deepnote_app_block_visible": false,
    "deepnote_cell_type": "text-cell-h2",
    "formattedRanges": [],
    "is_collapsed": false
   },
   "source": [
    "## Hyperparameter Tuning"
   ]
  },
  {
   "cell_type": "markdown",
   "metadata": {
    "cell_id": "3ceea9a017b9493cba02b01beb534240",
    "deepnote_cell_type": "text-cell-h3",
    "formattedRanges": []
   },
   "source": [
    "### Execute Hyperparameter search"
   ]
  },
  {
   "cell_type": "code",
   "execution_count": 8,
   "metadata": {
    "cell_id": "4bc6a625477b4502b4fbe58b7e111461",
    "deepnote_cell_type": "code",
    "deepnote_to_be_reexecuted": false,
    "execution_millis": 1236343,
    "execution_start": 1711906043199,
    "source_hash": null,
    "ExecuteTime": {
     "end_time": "2024-04-13T13:34:01.536147800Z",
     "start_time": "2024-04-13T13:30:47.280763900Z"
    }
   },
   "outputs": [
    {
     "name": "stderr",
     "output_type": "stream",
     "text": [
      "[neptune] [warning] NeptuneWarning: The following monitoring options are disabled by default in interactive sessions: 'capture_stdout', 'capture_stderr', 'capture_traceback', and 'capture_hardware_metrics'. To enable them, set each parameter to 'True' when initializing the run. The monitoring will continue until you call run.stop() or the kernel stops. Also note: Your source files can only be tracked if you pass the path(s) to the 'source_code' argument. For help, see the Neptune docs: https://docs.neptune.ai/logging/source_code/\n"
     ]
    },
    {
     "name": "stdout",
     "output_type": "stream",
     "text": [
      "[neptune] [info   ] Neptune initialized. Open in the app: https://app.neptune.ai/mads-capstone/capstone/e/CAP-173\n",
      "  5%|▍         | 47/1000 [03:08<1:03:42,  4.01s/trial, best loss: 12.432571646565716]\n"
     ]
    },
    {
     "ename": "KeyboardInterrupt",
     "evalue": "",
     "output_type": "error",
     "traceback": [
      "\u001B[1;31m---------------------------------------------------------------------------\u001B[0m",
      "\u001B[1;31mKeyboardInterrupt\u001B[0m                         Traceback (most recent call last)",
      "Cell \u001B[1;32mIn[8], line 12\u001B[0m\n\u001B[0;32m      9\u001B[0m CARB_trials \u001B[38;5;241m=\u001B[39m Trials()\n\u001B[0;32m     11\u001B[0m \u001B[38;5;66;03m# Create the fmin object\u001B[39;00m\n\u001B[1;32m---> 12\u001B[0m CARB_best_hyperparams \u001B[38;5;241m=\u001B[39m fmin(fn \u001B[38;5;241m=\u001B[39m objective,\n\u001B[0;32m     13\u001B[0m                             space \u001B[38;5;241m=\u001B[39m space,\n\u001B[0;32m     14\u001B[0m                             algo \u001B[38;5;241m=\u001B[39m tpe\u001B[38;5;241m.\u001B[39msuggest,\n\u001B[0;32m     15\u001B[0m                             max_evals \u001B[38;5;241m=\u001B[39m \u001B[38;5;241m1000\u001B[39m,\n\u001B[0;32m     16\u001B[0m                             trials \u001B[38;5;241m=\u001B[39m CARB_trials,\n\u001B[0;32m     17\u001B[0m                             show_progressbar\u001B[38;5;241m=\u001B[39m\u001B[38;5;28;01mTrue\u001B[39;00m,\n\u001B[0;32m     18\u001B[0m                             early_stop_fn\u001B[38;5;241m=\u001B[39mno_progress_loss(\u001B[38;5;241m100\u001B[39m))\n\u001B[0;32m     20\u001B[0m \u001B[38;5;66;03m# Stop Neptune instance\u001B[39;00m\n\u001B[0;32m     21\u001B[0m run\u001B[38;5;241m.\u001B[39mstop()\n",
      "File \u001B[1;32mD:\\Languages\\Anaconda\\envs\\mads\\Lib\\site-packages\\hyperopt\\fmin.py:540\u001B[0m, in \u001B[0;36mfmin\u001B[1;34m(fn, space, algo, max_evals, timeout, loss_threshold, trials, rstate, allow_trials_fmin, pass_expr_memo_ctrl, catch_eval_exceptions, verbose, return_argmin, points_to_evaluate, max_queue_len, show_progressbar, early_stop_fn, trials_save_file)\u001B[0m\n\u001B[0;32m    537\u001B[0m     fn \u001B[38;5;241m=\u001B[39m __objective_fmin_wrapper(fn)\n\u001B[0;32m    539\u001B[0m \u001B[38;5;28;01mif\u001B[39;00m allow_trials_fmin \u001B[38;5;129;01mand\u001B[39;00m \u001B[38;5;28mhasattr\u001B[39m(trials, \u001B[38;5;124m\"\u001B[39m\u001B[38;5;124mfmin\u001B[39m\u001B[38;5;124m\"\u001B[39m):\n\u001B[1;32m--> 540\u001B[0m     \u001B[38;5;28;01mreturn\u001B[39;00m trials\u001B[38;5;241m.\u001B[39mfmin(\n\u001B[0;32m    541\u001B[0m         fn,\n\u001B[0;32m    542\u001B[0m         space,\n\u001B[0;32m    543\u001B[0m         algo\u001B[38;5;241m=\u001B[39malgo,\n\u001B[0;32m    544\u001B[0m         max_evals\u001B[38;5;241m=\u001B[39mmax_evals,\n\u001B[0;32m    545\u001B[0m         timeout\u001B[38;5;241m=\u001B[39mtimeout,\n\u001B[0;32m    546\u001B[0m         loss_threshold\u001B[38;5;241m=\u001B[39mloss_threshold,\n\u001B[0;32m    547\u001B[0m         max_queue_len\u001B[38;5;241m=\u001B[39mmax_queue_len,\n\u001B[0;32m    548\u001B[0m         rstate\u001B[38;5;241m=\u001B[39mrstate,\n\u001B[0;32m    549\u001B[0m         pass_expr_memo_ctrl\u001B[38;5;241m=\u001B[39mpass_expr_memo_ctrl,\n\u001B[0;32m    550\u001B[0m         verbose\u001B[38;5;241m=\u001B[39mverbose,\n\u001B[0;32m    551\u001B[0m         catch_eval_exceptions\u001B[38;5;241m=\u001B[39mcatch_eval_exceptions,\n\u001B[0;32m    552\u001B[0m         return_argmin\u001B[38;5;241m=\u001B[39mreturn_argmin,\n\u001B[0;32m    553\u001B[0m         show_progressbar\u001B[38;5;241m=\u001B[39mshow_progressbar,\n\u001B[0;32m    554\u001B[0m         early_stop_fn\u001B[38;5;241m=\u001B[39mearly_stop_fn,\n\u001B[0;32m    555\u001B[0m         trials_save_file\u001B[38;5;241m=\u001B[39mtrials_save_file,\n\u001B[0;32m    556\u001B[0m     )\n\u001B[0;32m    558\u001B[0m \u001B[38;5;28;01mif\u001B[39;00m trials \u001B[38;5;129;01mis\u001B[39;00m \u001B[38;5;28;01mNone\u001B[39;00m:\n\u001B[0;32m    559\u001B[0m     \u001B[38;5;28;01mif\u001B[39;00m os\u001B[38;5;241m.\u001B[39mpath\u001B[38;5;241m.\u001B[39mexists(trials_save_file):\n",
      "File \u001B[1;32mD:\\Languages\\Anaconda\\envs\\mads\\Lib\\site-packages\\hyperopt\\base.py:671\u001B[0m, in \u001B[0;36mTrials.fmin\u001B[1;34m(self, fn, space, algo, max_evals, timeout, loss_threshold, max_queue_len, rstate, verbose, pass_expr_memo_ctrl, catch_eval_exceptions, return_argmin, show_progressbar, early_stop_fn, trials_save_file)\u001B[0m\n\u001B[0;32m    666\u001B[0m \u001B[38;5;66;03m# -- Stop-gap implementation!\u001B[39;00m\n\u001B[0;32m    667\u001B[0m \u001B[38;5;66;03m#    fmin should have been a Trials method in the first place\u001B[39;00m\n\u001B[0;32m    668\u001B[0m \u001B[38;5;66;03m#    but for now it's still sitting in another file.\u001B[39;00m\n\u001B[0;32m    669\u001B[0m \u001B[38;5;28;01mfrom\u001B[39;00m \u001B[38;5;21;01m.\u001B[39;00m\u001B[38;5;21;01mfmin\u001B[39;00m \u001B[38;5;28;01mimport\u001B[39;00m fmin\n\u001B[1;32m--> 671\u001B[0m \u001B[38;5;28;01mreturn\u001B[39;00m fmin(\n\u001B[0;32m    672\u001B[0m     fn,\n\u001B[0;32m    673\u001B[0m     space,\n\u001B[0;32m    674\u001B[0m     algo\u001B[38;5;241m=\u001B[39malgo,\n\u001B[0;32m    675\u001B[0m     max_evals\u001B[38;5;241m=\u001B[39mmax_evals,\n\u001B[0;32m    676\u001B[0m     timeout\u001B[38;5;241m=\u001B[39mtimeout,\n\u001B[0;32m    677\u001B[0m     loss_threshold\u001B[38;5;241m=\u001B[39mloss_threshold,\n\u001B[0;32m    678\u001B[0m     trials\u001B[38;5;241m=\u001B[39m\u001B[38;5;28mself\u001B[39m,\n\u001B[0;32m    679\u001B[0m     rstate\u001B[38;5;241m=\u001B[39mrstate,\n\u001B[0;32m    680\u001B[0m     verbose\u001B[38;5;241m=\u001B[39mverbose,\n\u001B[0;32m    681\u001B[0m     max_queue_len\u001B[38;5;241m=\u001B[39mmax_queue_len,\n\u001B[0;32m    682\u001B[0m     allow_trials_fmin\u001B[38;5;241m=\u001B[39m\u001B[38;5;28;01mFalse\u001B[39;00m,  \u001B[38;5;66;03m# -- prevent recursion\u001B[39;00m\n\u001B[0;32m    683\u001B[0m     pass_expr_memo_ctrl\u001B[38;5;241m=\u001B[39mpass_expr_memo_ctrl,\n\u001B[0;32m    684\u001B[0m     catch_eval_exceptions\u001B[38;5;241m=\u001B[39mcatch_eval_exceptions,\n\u001B[0;32m    685\u001B[0m     return_argmin\u001B[38;5;241m=\u001B[39mreturn_argmin,\n\u001B[0;32m    686\u001B[0m     show_progressbar\u001B[38;5;241m=\u001B[39mshow_progressbar,\n\u001B[0;32m    687\u001B[0m     early_stop_fn\u001B[38;5;241m=\u001B[39mearly_stop_fn,\n\u001B[0;32m    688\u001B[0m     trials_save_file\u001B[38;5;241m=\u001B[39mtrials_save_file,\n\u001B[0;32m    689\u001B[0m )\n",
      "File \u001B[1;32mD:\\Languages\\Anaconda\\envs\\mads\\Lib\\site-packages\\hyperopt\\fmin.py:586\u001B[0m, in \u001B[0;36mfmin\u001B[1;34m(fn, space, algo, max_evals, timeout, loss_threshold, trials, rstate, allow_trials_fmin, pass_expr_memo_ctrl, catch_eval_exceptions, verbose, return_argmin, points_to_evaluate, max_queue_len, show_progressbar, early_stop_fn, trials_save_file)\u001B[0m\n\u001B[0;32m    583\u001B[0m rval\u001B[38;5;241m.\u001B[39mcatch_eval_exceptions \u001B[38;5;241m=\u001B[39m catch_eval_exceptions\n\u001B[0;32m    585\u001B[0m \u001B[38;5;66;03m# next line is where the fmin is actually executed\u001B[39;00m\n\u001B[1;32m--> 586\u001B[0m rval\u001B[38;5;241m.\u001B[39mexhaust()\n\u001B[0;32m    588\u001B[0m \u001B[38;5;28;01mif\u001B[39;00m return_argmin:\n\u001B[0;32m    589\u001B[0m     \u001B[38;5;28;01mif\u001B[39;00m \u001B[38;5;28mlen\u001B[39m(trials\u001B[38;5;241m.\u001B[39mtrials) \u001B[38;5;241m==\u001B[39m \u001B[38;5;241m0\u001B[39m:\n",
      "File \u001B[1;32mD:\\Languages\\Anaconda\\envs\\mads\\Lib\\site-packages\\hyperopt\\fmin.py:364\u001B[0m, in \u001B[0;36mFMinIter.exhaust\u001B[1;34m(self)\u001B[0m\n\u001B[0;32m    362\u001B[0m \u001B[38;5;28;01mdef\u001B[39;00m \u001B[38;5;21mexhaust\u001B[39m(\u001B[38;5;28mself\u001B[39m):\n\u001B[0;32m    363\u001B[0m     n_done \u001B[38;5;241m=\u001B[39m \u001B[38;5;28mlen\u001B[39m(\u001B[38;5;28mself\u001B[39m\u001B[38;5;241m.\u001B[39mtrials)\n\u001B[1;32m--> 364\u001B[0m     \u001B[38;5;28mself\u001B[39m\u001B[38;5;241m.\u001B[39mrun(\u001B[38;5;28mself\u001B[39m\u001B[38;5;241m.\u001B[39mmax_evals \u001B[38;5;241m-\u001B[39m n_done, block_until_done\u001B[38;5;241m=\u001B[39m\u001B[38;5;28mself\u001B[39m\u001B[38;5;241m.\u001B[39masynchronous)\n\u001B[0;32m    365\u001B[0m     \u001B[38;5;28mself\u001B[39m\u001B[38;5;241m.\u001B[39mtrials\u001B[38;5;241m.\u001B[39mrefresh()\n\u001B[0;32m    366\u001B[0m     \u001B[38;5;28;01mreturn\u001B[39;00m \u001B[38;5;28mself\u001B[39m\n",
      "File \u001B[1;32mD:\\Languages\\Anaconda\\envs\\mads\\Lib\\site-packages\\hyperopt\\fmin.py:300\u001B[0m, in \u001B[0;36mFMinIter.run\u001B[1;34m(self, N, block_until_done)\u001B[0m\n\u001B[0;32m    297\u001B[0m     time\u001B[38;5;241m.\u001B[39msleep(\u001B[38;5;28mself\u001B[39m\u001B[38;5;241m.\u001B[39mpoll_interval_secs)\n\u001B[0;32m    298\u001B[0m \u001B[38;5;28;01melse\u001B[39;00m:\n\u001B[0;32m    299\u001B[0m     \u001B[38;5;66;03m# -- loop over trials and do the jobs directly\u001B[39;00m\n\u001B[1;32m--> 300\u001B[0m     \u001B[38;5;28mself\u001B[39m\u001B[38;5;241m.\u001B[39mserial_evaluate()\n\u001B[0;32m    302\u001B[0m \u001B[38;5;28mself\u001B[39m\u001B[38;5;241m.\u001B[39mtrials\u001B[38;5;241m.\u001B[39mrefresh()\n\u001B[0;32m    303\u001B[0m \u001B[38;5;28;01mif\u001B[39;00m \u001B[38;5;28mself\u001B[39m\u001B[38;5;241m.\u001B[39mtrials_save_file \u001B[38;5;241m!=\u001B[39m \u001B[38;5;124m\"\u001B[39m\u001B[38;5;124m\"\u001B[39m:\n",
      "File \u001B[1;32mD:\\Languages\\Anaconda\\envs\\mads\\Lib\\site-packages\\hyperopt\\fmin.py:178\u001B[0m, in \u001B[0;36mFMinIter.serial_evaluate\u001B[1;34m(self, N)\u001B[0m\n\u001B[0;32m    176\u001B[0m ctrl \u001B[38;5;241m=\u001B[39m base\u001B[38;5;241m.\u001B[39mCtrl(\u001B[38;5;28mself\u001B[39m\u001B[38;5;241m.\u001B[39mtrials, current_trial\u001B[38;5;241m=\u001B[39mtrial)\n\u001B[0;32m    177\u001B[0m \u001B[38;5;28;01mtry\u001B[39;00m:\n\u001B[1;32m--> 178\u001B[0m     result \u001B[38;5;241m=\u001B[39m \u001B[38;5;28mself\u001B[39m\u001B[38;5;241m.\u001B[39mdomain\u001B[38;5;241m.\u001B[39mevaluate(spec, ctrl)\n\u001B[0;32m    179\u001B[0m \u001B[38;5;28;01mexcept\u001B[39;00m \u001B[38;5;167;01mException\u001B[39;00m \u001B[38;5;28;01mas\u001B[39;00m e:\n\u001B[0;32m    180\u001B[0m     logger\u001B[38;5;241m.\u001B[39merror(\u001B[38;5;124m\"\u001B[39m\u001B[38;5;124mjob exception: \u001B[39m\u001B[38;5;132;01m%s\u001B[39;00m\u001B[38;5;124m\"\u001B[39m \u001B[38;5;241m%\u001B[39m \u001B[38;5;28mstr\u001B[39m(e))\n",
      "File \u001B[1;32mD:\\Languages\\Anaconda\\envs\\mads\\Lib\\site-packages\\hyperopt\\base.py:892\u001B[0m, in \u001B[0;36mDomain.evaluate\u001B[1;34m(self, config, ctrl, attach_attachments)\u001B[0m\n\u001B[0;32m    883\u001B[0m \u001B[38;5;28;01melse\u001B[39;00m:\n\u001B[0;32m    884\u001B[0m     \u001B[38;5;66;03m# -- the \"work\" of evaluating `config` can be written\u001B[39;00m\n\u001B[0;32m    885\u001B[0m     \u001B[38;5;66;03m#    either into the pyll part (self.expr)\u001B[39;00m\n\u001B[0;32m    886\u001B[0m     \u001B[38;5;66;03m#    or the normal Python part (self.fn)\u001B[39;00m\n\u001B[0;32m    887\u001B[0m     pyll_rval \u001B[38;5;241m=\u001B[39m pyll\u001B[38;5;241m.\u001B[39mrec_eval(\n\u001B[0;32m    888\u001B[0m         \u001B[38;5;28mself\u001B[39m\u001B[38;5;241m.\u001B[39mexpr,\n\u001B[0;32m    889\u001B[0m         memo\u001B[38;5;241m=\u001B[39mmemo,\n\u001B[0;32m    890\u001B[0m         print_node_on_error\u001B[38;5;241m=\u001B[39m\u001B[38;5;28mself\u001B[39m\u001B[38;5;241m.\u001B[39mrec_eval_print_node_on_error,\n\u001B[0;32m    891\u001B[0m     )\n\u001B[1;32m--> 892\u001B[0m     rval \u001B[38;5;241m=\u001B[39m \u001B[38;5;28mself\u001B[39m\u001B[38;5;241m.\u001B[39mfn(pyll_rval)\n\u001B[0;32m    894\u001B[0m \u001B[38;5;28;01mif\u001B[39;00m \u001B[38;5;28misinstance\u001B[39m(rval, (\u001B[38;5;28mfloat\u001B[39m, \u001B[38;5;28mint\u001B[39m, np\u001B[38;5;241m.\u001B[39mnumber)):\n\u001B[0;32m    895\u001B[0m     dict_rval \u001B[38;5;241m=\u001B[39m {\u001B[38;5;124m\"\u001B[39m\u001B[38;5;124mloss\u001B[39m\u001B[38;5;124m\"\u001B[39m: \u001B[38;5;28mfloat\u001B[39m(rval), \u001B[38;5;124m\"\u001B[39m\u001B[38;5;124mstatus\u001B[39m\u001B[38;5;124m\"\u001B[39m: STATUS_OK}\n",
      "Cell \u001B[1;32mIn[5], line 29\u001B[0m, in \u001B[0;36mobjective\u001B[1;34m(space)\u001B[0m\n\u001B[0;32m     14\u001B[0m model\u001B[38;5;241m=\u001B[39mRandomForestRegressor(\n\u001B[0;32m     15\u001B[0m                 n_estimators \u001B[38;5;241m=\u001B[39m space[\u001B[38;5;124m'\u001B[39m\u001B[38;5;124mn_estimators\u001B[39m\u001B[38;5;124m'\u001B[39m],\n\u001B[0;32m     16\u001B[0m                 max_features \u001B[38;5;241m=\u001B[39m space[\u001B[38;5;124m'\u001B[39m\u001B[38;5;124mmax_features\u001B[39m\u001B[38;5;124m'\u001B[39m],\n\u001B[1;32m   (...)\u001B[0m\n\u001B[0;32m     25\u001B[0m                 random_state \u001B[38;5;241m=\u001B[39m \u001B[38;5;241m42\u001B[39m\n\u001B[0;32m     26\u001B[0m                 )\n\u001B[0;32m     28\u001B[0m kf \u001B[38;5;241m=\u001B[39m KFold(n_splits\u001B[38;5;241m=\u001B[39m\u001B[38;5;241m5\u001B[39m, shuffle\u001B[38;5;241m=\u001B[39m\u001B[38;5;28;01mTrue\u001B[39;00m, random_state\u001B[38;5;241m=\u001B[39m\u001B[38;5;241m42\u001B[39m)\n\u001B[1;32m---> 29\u001B[0m mae_scores \u001B[38;5;241m=\u001B[39m \u001B[38;5;241m-\u001B[39mcross_val_score(model, X_train_trans, y_train_trans, cv\u001B[38;5;241m=\u001B[39mkf, scoring\u001B[38;5;241m=\u001B[39m\u001B[38;5;124m'\u001B[39m\u001B[38;5;124mneg_mean_absolute_error\u001B[39m\u001B[38;5;124m'\u001B[39m)\n\u001B[0;32m     30\u001B[0m mean_mae \u001B[38;5;241m=\u001B[39m mae_scores\u001B[38;5;241m.\u001B[39mmean()\n\u001B[0;32m     31\u001B[0m std_mae \u001B[38;5;241m=\u001B[39m mae_scores\u001B[38;5;241m.\u001B[39mstd()\n",
      "File \u001B[1;32mD:\\Languages\\Anaconda\\envs\\mads\\Lib\\site-packages\\sklearn\\model_selection\\_validation.py:515\u001B[0m, in \u001B[0;36mcross_val_score\u001B[1;34m(estimator, X, y, groups, scoring, cv, n_jobs, verbose, fit_params, pre_dispatch, error_score)\u001B[0m\n\u001B[0;32m    512\u001B[0m \u001B[38;5;66;03m# To ensure multimetric format is not supported\u001B[39;00m\n\u001B[0;32m    513\u001B[0m scorer \u001B[38;5;241m=\u001B[39m check_scoring(estimator, scoring\u001B[38;5;241m=\u001B[39mscoring)\n\u001B[1;32m--> 515\u001B[0m cv_results \u001B[38;5;241m=\u001B[39m cross_validate(\n\u001B[0;32m    516\u001B[0m     estimator\u001B[38;5;241m=\u001B[39mestimator,\n\u001B[0;32m    517\u001B[0m     X\u001B[38;5;241m=\u001B[39mX,\n\u001B[0;32m    518\u001B[0m     y\u001B[38;5;241m=\u001B[39my,\n\u001B[0;32m    519\u001B[0m     groups\u001B[38;5;241m=\u001B[39mgroups,\n\u001B[0;32m    520\u001B[0m     scoring\u001B[38;5;241m=\u001B[39m{\u001B[38;5;124m\"\u001B[39m\u001B[38;5;124mscore\u001B[39m\u001B[38;5;124m\"\u001B[39m: scorer},\n\u001B[0;32m    521\u001B[0m     cv\u001B[38;5;241m=\u001B[39mcv,\n\u001B[0;32m    522\u001B[0m     n_jobs\u001B[38;5;241m=\u001B[39mn_jobs,\n\u001B[0;32m    523\u001B[0m     verbose\u001B[38;5;241m=\u001B[39mverbose,\n\u001B[0;32m    524\u001B[0m     fit_params\u001B[38;5;241m=\u001B[39mfit_params,\n\u001B[0;32m    525\u001B[0m     pre_dispatch\u001B[38;5;241m=\u001B[39mpre_dispatch,\n\u001B[0;32m    526\u001B[0m     error_score\u001B[38;5;241m=\u001B[39merror_score,\n\u001B[0;32m    527\u001B[0m )\n\u001B[0;32m    528\u001B[0m \u001B[38;5;28;01mreturn\u001B[39;00m cv_results[\u001B[38;5;124m\"\u001B[39m\u001B[38;5;124mtest_score\u001B[39m\u001B[38;5;124m\"\u001B[39m]\n",
      "File \u001B[1;32mD:\\Languages\\Anaconda\\envs\\mads\\Lib\\site-packages\\sklearn\\model_selection\\_validation.py:266\u001B[0m, in \u001B[0;36mcross_validate\u001B[1;34m(estimator, X, y, groups, scoring, cv, n_jobs, verbose, fit_params, pre_dispatch, return_train_score, return_estimator, error_score)\u001B[0m\n\u001B[0;32m    263\u001B[0m \u001B[38;5;66;03m# We clone the estimator to make sure that all the folds are\u001B[39;00m\n\u001B[0;32m    264\u001B[0m \u001B[38;5;66;03m# independent, and that it is pickle-able.\u001B[39;00m\n\u001B[0;32m    265\u001B[0m parallel \u001B[38;5;241m=\u001B[39m Parallel(n_jobs\u001B[38;5;241m=\u001B[39mn_jobs, verbose\u001B[38;5;241m=\u001B[39mverbose, pre_dispatch\u001B[38;5;241m=\u001B[39mpre_dispatch)\n\u001B[1;32m--> 266\u001B[0m results \u001B[38;5;241m=\u001B[39m parallel(\n\u001B[0;32m    267\u001B[0m     delayed(_fit_and_score)(\n\u001B[0;32m    268\u001B[0m         clone(estimator),\n\u001B[0;32m    269\u001B[0m         X,\n\u001B[0;32m    270\u001B[0m         y,\n\u001B[0;32m    271\u001B[0m         scorers,\n\u001B[0;32m    272\u001B[0m         train,\n\u001B[0;32m    273\u001B[0m         test,\n\u001B[0;32m    274\u001B[0m         verbose,\n\u001B[0;32m    275\u001B[0m         \u001B[38;5;28;01mNone\u001B[39;00m,\n\u001B[0;32m    276\u001B[0m         fit_params,\n\u001B[0;32m    277\u001B[0m         return_train_score\u001B[38;5;241m=\u001B[39mreturn_train_score,\n\u001B[0;32m    278\u001B[0m         return_times\u001B[38;5;241m=\u001B[39m\u001B[38;5;28;01mTrue\u001B[39;00m,\n\u001B[0;32m    279\u001B[0m         return_estimator\u001B[38;5;241m=\u001B[39mreturn_estimator,\n\u001B[0;32m    280\u001B[0m         error_score\u001B[38;5;241m=\u001B[39merror_score,\n\u001B[0;32m    281\u001B[0m     )\n\u001B[0;32m    282\u001B[0m     \u001B[38;5;28;01mfor\u001B[39;00m train, test \u001B[38;5;129;01min\u001B[39;00m cv\u001B[38;5;241m.\u001B[39msplit(X, y, groups)\n\u001B[0;32m    283\u001B[0m )\n\u001B[0;32m    285\u001B[0m _warn_or_raise_about_fit_failures(results, error_score)\n\u001B[0;32m    287\u001B[0m \u001B[38;5;66;03m# For callabe scoring, the return type is only know after calling. If the\u001B[39;00m\n\u001B[0;32m    288\u001B[0m \u001B[38;5;66;03m# return type is a dictionary, the error scores can now be inserted with\u001B[39;00m\n\u001B[0;32m    289\u001B[0m \u001B[38;5;66;03m# the correct key.\u001B[39;00m\n",
      "File \u001B[1;32mD:\\Languages\\Anaconda\\envs\\mads\\Lib\\site-packages\\sklearn\\utils\\parallel.py:63\u001B[0m, in \u001B[0;36mParallel.__call__\u001B[1;34m(self, iterable)\u001B[0m\n\u001B[0;32m     58\u001B[0m config \u001B[38;5;241m=\u001B[39m get_config()\n\u001B[0;32m     59\u001B[0m iterable_with_config \u001B[38;5;241m=\u001B[39m (\n\u001B[0;32m     60\u001B[0m     (_with_config(delayed_func, config), args, kwargs)\n\u001B[0;32m     61\u001B[0m     \u001B[38;5;28;01mfor\u001B[39;00m delayed_func, args, kwargs \u001B[38;5;129;01min\u001B[39;00m iterable\n\u001B[0;32m     62\u001B[0m )\n\u001B[1;32m---> 63\u001B[0m \u001B[38;5;28;01mreturn\u001B[39;00m \u001B[38;5;28msuper\u001B[39m()\u001B[38;5;241m.\u001B[39m\u001B[38;5;21m__call__\u001B[39m(iterable_with_config)\n",
      "File \u001B[1;32mD:\\Languages\\Anaconda\\envs\\mads\\Lib\\site-packages\\joblib\\parallel.py:1088\u001B[0m, in \u001B[0;36mParallel.__call__\u001B[1;34m(self, iterable)\u001B[0m\n\u001B[0;32m   1085\u001B[0m \u001B[38;5;28;01mif\u001B[39;00m \u001B[38;5;28mself\u001B[39m\u001B[38;5;241m.\u001B[39mdispatch_one_batch(iterator):\n\u001B[0;32m   1086\u001B[0m     \u001B[38;5;28mself\u001B[39m\u001B[38;5;241m.\u001B[39m_iterating \u001B[38;5;241m=\u001B[39m \u001B[38;5;28mself\u001B[39m\u001B[38;5;241m.\u001B[39m_original_iterator \u001B[38;5;129;01mis\u001B[39;00m \u001B[38;5;129;01mnot\u001B[39;00m \u001B[38;5;28;01mNone\u001B[39;00m\n\u001B[1;32m-> 1088\u001B[0m \u001B[38;5;28;01mwhile\u001B[39;00m \u001B[38;5;28mself\u001B[39m\u001B[38;5;241m.\u001B[39mdispatch_one_batch(iterator):\n\u001B[0;32m   1089\u001B[0m     \u001B[38;5;28;01mpass\u001B[39;00m\n\u001B[0;32m   1091\u001B[0m \u001B[38;5;28;01mif\u001B[39;00m pre_dispatch \u001B[38;5;241m==\u001B[39m \u001B[38;5;124m\"\u001B[39m\u001B[38;5;124mall\u001B[39m\u001B[38;5;124m\"\u001B[39m \u001B[38;5;129;01mor\u001B[39;00m n_jobs \u001B[38;5;241m==\u001B[39m \u001B[38;5;241m1\u001B[39m:\n\u001B[0;32m   1092\u001B[0m     \u001B[38;5;66;03m# The iterable was consumed all at once by the above for loop.\u001B[39;00m\n\u001B[0;32m   1093\u001B[0m     \u001B[38;5;66;03m# No need to wait for async callbacks to trigger to\u001B[39;00m\n\u001B[0;32m   1094\u001B[0m     \u001B[38;5;66;03m# consumption.\u001B[39;00m\n",
      "File \u001B[1;32mD:\\Languages\\Anaconda\\envs\\mads\\Lib\\site-packages\\joblib\\parallel.py:901\u001B[0m, in \u001B[0;36mParallel.dispatch_one_batch\u001B[1;34m(self, iterator)\u001B[0m\n\u001B[0;32m    899\u001B[0m     \u001B[38;5;28;01mreturn\u001B[39;00m \u001B[38;5;28;01mFalse\u001B[39;00m\n\u001B[0;32m    900\u001B[0m \u001B[38;5;28;01melse\u001B[39;00m:\n\u001B[1;32m--> 901\u001B[0m     \u001B[38;5;28mself\u001B[39m\u001B[38;5;241m.\u001B[39m_dispatch(tasks)\n\u001B[0;32m    902\u001B[0m     \u001B[38;5;28;01mreturn\u001B[39;00m \u001B[38;5;28;01mTrue\u001B[39;00m\n",
      "File \u001B[1;32mD:\\Languages\\Anaconda\\envs\\mads\\Lib\\site-packages\\joblib\\parallel.py:819\u001B[0m, in \u001B[0;36mParallel._dispatch\u001B[1;34m(self, batch)\u001B[0m\n\u001B[0;32m    817\u001B[0m \u001B[38;5;28;01mwith\u001B[39;00m \u001B[38;5;28mself\u001B[39m\u001B[38;5;241m.\u001B[39m_lock:\n\u001B[0;32m    818\u001B[0m     job_idx \u001B[38;5;241m=\u001B[39m \u001B[38;5;28mlen\u001B[39m(\u001B[38;5;28mself\u001B[39m\u001B[38;5;241m.\u001B[39m_jobs)\n\u001B[1;32m--> 819\u001B[0m     job \u001B[38;5;241m=\u001B[39m \u001B[38;5;28mself\u001B[39m\u001B[38;5;241m.\u001B[39m_backend\u001B[38;5;241m.\u001B[39mapply_async(batch, callback\u001B[38;5;241m=\u001B[39mcb)\n\u001B[0;32m    820\u001B[0m     \u001B[38;5;66;03m# A job can complete so quickly than its callback is\u001B[39;00m\n\u001B[0;32m    821\u001B[0m     \u001B[38;5;66;03m# called before we get here, causing self._jobs to\u001B[39;00m\n\u001B[0;32m    822\u001B[0m     \u001B[38;5;66;03m# grow. To ensure correct results ordering, .insert is\u001B[39;00m\n\u001B[0;32m    823\u001B[0m     \u001B[38;5;66;03m# used (rather than .append) in the following line\u001B[39;00m\n\u001B[0;32m    824\u001B[0m     \u001B[38;5;28mself\u001B[39m\u001B[38;5;241m.\u001B[39m_jobs\u001B[38;5;241m.\u001B[39minsert(job_idx, job)\n",
      "File \u001B[1;32mD:\\Languages\\Anaconda\\envs\\mads\\Lib\\site-packages\\joblib\\_parallel_backends.py:208\u001B[0m, in \u001B[0;36mSequentialBackend.apply_async\u001B[1;34m(self, func, callback)\u001B[0m\n\u001B[0;32m    206\u001B[0m \u001B[38;5;28;01mdef\u001B[39;00m \u001B[38;5;21mapply_async\u001B[39m(\u001B[38;5;28mself\u001B[39m, func, callback\u001B[38;5;241m=\u001B[39m\u001B[38;5;28;01mNone\u001B[39;00m):\n\u001B[0;32m    207\u001B[0m \u001B[38;5;250m    \u001B[39m\u001B[38;5;124;03m\"\"\"Schedule a func to be run\"\"\"\u001B[39;00m\n\u001B[1;32m--> 208\u001B[0m     result \u001B[38;5;241m=\u001B[39m ImmediateResult(func)\n\u001B[0;32m    209\u001B[0m     \u001B[38;5;28;01mif\u001B[39;00m callback:\n\u001B[0;32m    210\u001B[0m         callback(result)\n",
      "File \u001B[1;32mD:\\Languages\\Anaconda\\envs\\mads\\Lib\\site-packages\\joblib\\_parallel_backends.py:597\u001B[0m, in \u001B[0;36mImmediateResult.__init__\u001B[1;34m(self, batch)\u001B[0m\n\u001B[0;32m    594\u001B[0m \u001B[38;5;28;01mdef\u001B[39;00m \u001B[38;5;21m__init__\u001B[39m(\u001B[38;5;28mself\u001B[39m, batch):\n\u001B[0;32m    595\u001B[0m     \u001B[38;5;66;03m# Don't delay the application, to avoid keeping the input\u001B[39;00m\n\u001B[0;32m    596\u001B[0m     \u001B[38;5;66;03m# arguments in memory\u001B[39;00m\n\u001B[1;32m--> 597\u001B[0m     \u001B[38;5;28mself\u001B[39m\u001B[38;5;241m.\u001B[39mresults \u001B[38;5;241m=\u001B[39m batch()\n",
      "File \u001B[1;32mD:\\Languages\\Anaconda\\envs\\mads\\Lib\\site-packages\\joblib\\parallel.py:288\u001B[0m, in \u001B[0;36mBatchedCalls.__call__\u001B[1;34m(self)\u001B[0m\n\u001B[0;32m    284\u001B[0m \u001B[38;5;28;01mdef\u001B[39;00m \u001B[38;5;21m__call__\u001B[39m(\u001B[38;5;28mself\u001B[39m):\n\u001B[0;32m    285\u001B[0m     \u001B[38;5;66;03m# Set the default nested backend to self._backend but do not set the\u001B[39;00m\n\u001B[0;32m    286\u001B[0m     \u001B[38;5;66;03m# change the default number of processes to -1\u001B[39;00m\n\u001B[0;32m    287\u001B[0m     \u001B[38;5;28;01mwith\u001B[39;00m parallel_backend(\u001B[38;5;28mself\u001B[39m\u001B[38;5;241m.\u001B[39m_backend, n_jobs\u001B[38;5;241m=\u001B[39m\u001B[38;5;28mself\u001B[39m\u001B[38;5;241m.\u001B[39m_n_jobs):\n\u001B[1;32m--> 288\u001B[0m         \u001B[38;5;28;01mreturn\u001B[39;00m [func(\u001B[38;5;241m*\u001B[39margs, \u001B[38;5;241m*\u001B[39m\u001B[38;5;241m*\u001B[39mkwargs)\n\u001B[0;32m    289\u001B[0m                 \u001B[38;5;28;01mfor\u001B[39;00m func, args, kwargs \u001B[38;5;129;01min\u001B[39;00m \u001B[38;5;28mself\u001B[39m\u001B[38;5;241m.\u001B[39mitems]\n",
      "File \u001B[1;32mD:\\Languages\\Anaconda\\envs\\mads\\Lib\\site-packages\\joblib\\parallel.py:288\u001B[0m, in \u001B[0;36m<listcomp>\u001B[1;34m(.0)\u001B[0m\n\u001B[0;32m    284\u001B[0m \u001B[38;5;28;01mdef\u001B[39;00m \u001B[38;5;21m__call__\u001B[39m(\u001B[38;5;28mself\u001B[39m):\n\u001B[0;32m    285\u001B[0m     \u001B[38;5;66;03m# Set the default nested backend to self._backend but do not set the\u001B[39;00m\n\u001B[0;32m    286\u001B[0m     \u001B[38;5;66;03m# change the default number of processes to -1\u001B[39;00m\n\u001B[0;32m    287\u001B[0m     \u001B[38;5;28;01mwith\u001B[39;00m parallel_backend(\u001B[38;5;28mself\u001B[39m\u001B[38;5;241m.\u001B[39m_backend, n_jobs\u001B[38;5;241m=\u001B[39m\u001B[38;5;28mself\u001B[39m\u001B[38;5;241m.\u001B[39m_n_jobs):\n\u001B[1;32m--> 288\u001B[0m         \u001B[38;5;28;01mreturn\u001B[39;00m [func(\u001B[38;5;241m*\u001B[39margs, \u001B[38;5;241m*\u001B[39m\u001B[38;5;241m*\u001B[39mkwargs)\n\u001B[0;32m    289\u001B[0m                 \u001B[38;5;28;01mfor\u001B[39;00m func, args, kwargs \u001B[38;5;129;01min\u001B[39;00m \u001B[38;5;28mself\u001B[39m\u001B[38;5;241m.\u001B[39mitems]\n",
      "File \u001B[1;32mD:\\Languages\\Anaconda\\envs\\mads\\Lib\\site-packages\\sklearn\\utils\\parallel.py:123\u001B[0m, in \u001B[0;36m_FuncWrapper.__call__\u001B[1;34m(self, *args, **kwargs)\u001B[0m\n\u001B[0;32m    121\u001B[0m     config \u001B[38;5;241m=\u001B[39m {}\n\u001B[0;32m    122\u001B[0m \u001B[38;5;28;01mwith\u001B[39;00m config_context(\u001B[38;5;241m*\u001B[39m\u001B[38;5;241m*\u001B[39mconfig):\n\u001B[1;32m--> 123\u001B[0m     \u001B[38;5;28;01mreturn\u001B[39;00m \u001B[38;5;28mself\u001B[39m\u001B[38;5;241m.\u001B[39mfunction(\u001B[38;5;241m*\u001B[39margs, \u001B[38;5;241m*\u001B[39m\u001B[38;5;241m*\u001B[39mkwargs)\n",
      "File \u001B[1;32mD:\\Languages\\Anaconda\\envs\\mads\\Lib\\site-packages\\sklearn\\model_selection\\_validation.py:678\u001B[0m, in \u001B[0;36m_fit_and_score\u001B[1;34m(estimator, X, y, scorer, train, test, verbose, parameters, fit_params, return_train_score, return_parameters, return_n_test_samples, return_times, return_estimator, split_progress, candidate_progress, error_score)\u001B[0m\n\u001B[0;32m    674\u001B[0m     estimator \u001B[38;5;241m=\u001B[39m estimator\u001B[38;5;241m.\u001B[39mset_params(\u001B[38;5;241m*\u001B[39m\u001B[38;5;241m*\u001B[39mcloned_parameters)\n\u001B[0;32m    676\u001B[0m start_time \u001B[38;5;241m=\u001B[39m time\u001B[38;5;241m.\u001B[39mtime()\n\u001B[1;32m--> 678\u001B[0m X_train, y_train \u001B[38;5;241m=\u001B[39m _safe_split(estimator, X, y, train)\n\u001B[0;32m    679\u001B[0m X_test, y_test \u001B[38;5;241m=\u001B[39m _safe_split(estimator, X, y, test, train)\n\u001B[0;32m    681\u001B[0m result \u001B[38;5;241m=\u001B[39m {}\n",
      "File \u001B[1;32mD:\\Languages\\Anaconda\\envs\\mads\\Lib\\site-packages\\sklearn\\utils\\metaestimators.py:233\u001B[0m, in \u001B[0;36m_safe_split\u001B[1;34m(estimator, X, y, indices, train_indices)\u001B[0m\n\u001B[0;32m    231\u001B[0m         X_subset \u001B[38;5;241m=\u001B[39m X[np\u001B[38;5;241m.\u001B[39mix_(indices, train_indices)]\n\u001B[0;32m    232\u001B[0m \u001B[38;5;28;01melse\u001B[39;00m:\n\u001B[1;32m--> 233\u001B[0m     X_subset \u001B[38;5;241m=\u001B[39m _safe_indexing(X, indices)\n\u001B[0;32m    235\u001B[0m \u001B[38;5;28;01mif\u001B[39;00m y \u001B[38;5;129;01mis\u001B[39;00m \u001B[38;5;129;01mnot\u001B[39;00m \u001B[38;5;28;01mNone\u001B[39;00m:\n\u001B[0;32m    236\u001B[0m     y_subset \u001B[38;5;241m=\u001B[39m _safe_indexing(y, indices)\n",
      "File \u001B[1;32mD:\\Languages\\Anaconda\\envs\\mads\\Lib\\site-packages\\sklearn\\utils\\__init__.py:354\u001B[0m, in \u001B[0;36m_safe_indexing\u001B[1;34m(X, indices, axis)\u001B[0m\n\u001B[0;32m    348\u001B[0m     \u001B[38;5;28;01mraise\u001B[39;00m \u001B[38;5;167;01mValueError\u001B[39;00m(\n\u001B[0;32m    349\u001B[0m         \u001B[38;5;124m\"\u001B[39m\u001B[38;5;124mSpecifying the columns using strings is only supported for \u001B[39m\u001B[38;5;124m\"\u001B[39m\n\u001B[0;32m    350\u001B[0m         \u001B[38;5;124m\"\u001B[39m\u001B[38;5;124mpandas DataFrames\u001B[39m\u001B[38;5;124m\"\u001B[39m\n\u001B[0;32m    351\u001B[0m     )\n\u001B[0;32m    353\u001B[0m \u001B[38;5;28;01mif\u001B[39;00m \u001B[38;5;28mhasattr\u001B[39m(X, \u001B[38;5;124m\"\u001B[39m\u001B[38;5;124miloc\u001B[39m\u001B[38;5;124m\"\u001B[39m):\n\u001B[1;32m--> 354\u001B[0m     \u001B[38;5;28;01mreturn\u001B[39;00m _pandas_indexing(X, indices, indices_dtype, axis\u001B[38;5;241m=\u001B[39maxis)\n\u001B[0;32m    355\u001B[0m \u001B[38;5;28;01melif\u001B[39;00m \u001B[38;5;28mhasattr\u001B[39m(X, \u001B[38;5;124m\"\u001B[39m\u001B[38;5;124mshape\u001B[39m\u001B[38;5;124m\"\u001B[39m):\n\u001B[0;32m    356\u001B[0m     \u001B[38;5;28;01mreturn\u001B[39;00m _array_indexing(X, indices, indices_dtype, axis\u001B[38;5;241m=\u001B[39maxis)\n",
      "File \u001B[1;32mD:\\Languages\\Anaconda\\envs\\mads\\Lib\\site-packages\\sklearn\\utils\\__init__.py:196\u001B[0m, in \u001B[0;36m_pandas_indexing\u001B[1;34m(X, key, key_dtype, axis)\u001B[0m\n\u001B[0;32m    191\u001B[0m     key \u001B[38;5;241m=\u001B[39m np\u001B[38;5;241m.\u001B[39masarray(key)\n\u001B[0;32m    193\u001B[0m \u001B[38;5;28;01mif\u001B[39;00m key_dtype \u001B[38;5;241m==\u001B[39m \u001B[38;5;124m\"\u001B[39m\u001B[38;5;124mint\u001B[39m\u001B[38;5;124m\"\u001B[39m \u001B[38;5;129;01mand\u001B[39;00m \u001B[38;5;129;01mnot\u001B[39;00m (\u001B[38;5;28misinstance\u001B[39m(key, \u001B[38;5;28mslice\u001B[39m) \u001B[38;5;129;01mor\u001B[39;00m np\u001B[38;5;241m.\u001B[39misscalar(key)):\n\u001B[0;32m    194\u001B[0m     \u001B[38;5;66;03m# using take() instead of iloc[] ensures the return value is a \"proper\"\u001B[39;00m\n\u001B[0;32m    195\u001B[0m     \u001B[38;5;66;03m# copy that will not raise SettingWithCopyWarning\u001B[39;00m\n\u001B[1;32m--> 196\u001B[0m     \u001B[38;5;28;01mreturn\u001B[39;00m X\u001B[38;5;241m.\u001B[39mtake(key, axis\u001B[38;5;241m=\u001B[39maxis)\n\u001B[0;32m    197\u001B[0m \u001B[38;5;28;01melse\u001B[39;00m:\n\u001B[0;32m    198\u001B[0m     \u001B[38;5;66;03m# check whether we should index with loc or iloc\u001B[39;00m\n\u001B[0;32m    199\u001B[0m     indexer \u001B[38;5;241m=\u001B[39m X\u001B[38;5;241m.\u001B[39miloc \u001B[38;5;28;01mif\u001B[39;00m key_dtype \u001B[38;5;241m==\u001B[39m \u001B[38;5;124m\"\u001B[39m\u001B[38;5;124mint\u001B[39m\u001B[38;5;124m\"\u001B[39m \u001B[38;5;28;01melse\u001B[39;00m X\u001B[38;5;241m.\u001B[39mloc\n",
      "File \u001B[1;32mD:\\Languages\\Anaconda\\envs\\mads\\Lib\\site-packages\\pandas\\core\\generic.py:4068\u001B[0m, in \u001B[0;36mNDFrame.take\u001B[1;34m(self, indices, axis, **kwargs)\u001B[0m\n\u001B[0;32m   4063\u001B[0m     \u001B[38;5;66;03m# We can get here with a slice via DataFrame.__getitem__\u001B[39;00m\n\u001B[0;32m   4064\u001B[0m     indices \u001B[38;5;241m=\u001B[39m np\u001B[38;5;241m.\u001B[39marange(\n\u001B[0;32m   4065\u001B[0m         indices\u001B[38;5;241m.\u001B[39mstart, indices\u001B[38;5;241m.\u001B[39mstop, indices\u001B[38;5;241m.\u001B[39mstep, dtype\u001B[38;5;241m=\u001B[39mnp\u001B[38;5;241m.\u001B[39mintp\n\u001B[0;32m   4066\u001B[0m     )\n\u001B[1;32m-> 4068\u001B[0m new_data \u001B[38;5;241m=\u001B[39m \u001B[38;5;28mself\u001B[39m\u001B[38;5;241m.\u001B[39m_mgr\u001B[38;5;241m.\u001B[39mtake(\n\u001B[0;32m   4069\u001B[0m     indices,\n\u001B[0;32m   4070\u001B[0m     axis\u001B[38;5;241m=\u001B[39m\u001B[38;5;28mself\u001B[39m\u001B[38;5;241m.\u001B[39m_get_block_manager_axis(axis),\n\u001B[0;32m   4071\u001B[0m     verify\u001B[38;5;241m=\u001B[39m\u001B[38;5;28;01mTrue\u001B[39;00m,\n\u001B[0;32m   4072\u001B[0m )\n\u001B[0;32m   4073\u001B[0m \u001B[38;5;28;01mreturn\u001B[39;00m \u001B[38;5;28mself\u001B[39m\u001B[38;5;241m.\u001B[39m_constructor_from_mgr(new_data, axes\u001B[38;5;241m=\u001B[39mnew_data\u001B[38;5;241m.\u001B[39maxes)\u001B[38;5;241m.\u001B[39m__finalize__(\n\u001B[0;32m   4074\u001B[0m     \u001B[38;5;28mself\u001B[39m, method\u001B[38;5;241m=\u001B[39m\u001B[38;5;124m\"\u001B[39m\u001B[38;5;124mtake\u001B[39m\u001B[38;5;124m\"\u001B[39m\n\u001B[0;32m   4075\u001B[0m )\n",
      "File \u001B[1;32mD:\\Languages\\Anaconda\\envs\\mads\\Lib\\site-packages\\pandas\\core\\internals\\managers.py:876\u001B[0m, in \u001B[0;36mBaseBlockManager.take\u001B[1;34m(self, indexer, axis, verify)\u001B[0m\n\u001B[0;32m    873\u001B[0m n \u001B[38;5;241m=\u001B[39m \u001B[38;5;28mself\u001B[39m\u001B[38;5;241m.\u001B[39mshape[axis]\n\u001B[0;32m    874\u001B[0m indexer \u001B[38;5;241m=\u001B[39m maybe_convert_indices(indexer, n, verify\u001B[38;5;241m=\u001B[39mverify)\n\u001B[1;32m--> 876\u001B[0m new_labels \u001B[38;5;241m=\u001B[39m \u001B[38;5;28mself\u001B[39m\u001B[38;5;241m.\u001B[39maxes[axis]\u001B[38;5;241m.\u001B[39mtake(indexer)\n\u001B[0;32m    877\u001B[0m \u001B[38;5;28;01mreturn\u001B[39;00m \u001B[38;5;28mself\u001B[39m\u001B[38;5;241m.\u001B[39mreindex_indexer(\n\u001B[0;32m    878\u001B[0m     new_axis\u001B[38;5;241m=\u001B[39mnew_labels,\n\u001B[0;32m    879\u001B[0m     indexer\u001B[38;5;241m=\u001B[39mindexer,\n\u001B[1;32m   (...)\u001B[0m\n\u001B[0;32m    882\u001B[0m     copy\u001B[38;5;241m=\u001B[39m\u001B[38;5;28;01mNone\u001B[39;00m,\n\u001B[0;32m    883\u001B[0m )\n",
      "File \u001B[1;32mD:\\Languages\\Anaconda\\envs\\mads\\Lib\\site-packages\\pandas\\core\\indexes\\base.py:1159\u001B[0m, in \u001B[0;36mIndex.take\u001B[1;34m(self, indices, axis, allow_fill, fill_value, **kwargs)\u001B[0m\n\u001B[0;32m   1157\u001B[0m values \u001B[38;5;241m=\u001B[39m \u001B[38;5;28mself\u001B[39m\u001B[38;5;241m.\u001B[39m_values\n\u001B[0;32m   1158\u001B[0m \u001B[38;5;28;01mif\u001B[39;00m \u001B[38;5;28misinstance\u001B[39m(values, np\u001B[38;5;241m.\u001B[39mndarray):\n\u001B[1;32m-> 1159\u001B[0m     taken \u001B[38;5;241m=\u001B[39m algos\u001B[38;5;241m.\u001B[39mtake(\n\u001B[0;32m   1160\u001B[0m         values, indices, allow_fill\u001B[38;5;241m=\u001B[39mallow_fill, fill_value\u001B[38;5;241m=\u001B[39m\u001B[38;5;28mself\u001B[39m\u001B[38;5;241m.\u001B[39m_na_value\n\u001B[0;32m   1161\u001B[0m     )\n\u001B[0;32m   1162\u001B[0m \u001B[38;5;28;01melse\u001B[39;00m:\n\u001B[0;32m   1163\u001B[0m     \u001B[38;5;66;03m# algos.take passes 'axis' keyword which not all EAs accept\u001B[39;00m\n\u001B[0;32m   1164\u001B[0m     taken \u001B[38;5;241m=\u001B[39m values\u001B[38;5;241m.\u001B[39mtake(\n\u001B[0;32m   1165\u001B[0m         indices, allow_fill\u001B[38;5;241m=\u001B[39mallow_fill, fill_value\u001B[38;5;241m=\u001B[39m\u001B[38;5;28mself\u001B[39m\u001B[38;5;241m.\u001B[39m_na_value\n\u001B[0;32m   1166\u001B[0m     )\n",
      "File \u001B[1;32mD:\\Languages\\Anaconda\\envs\\mads\\Lib\\site-packages\\pandas\\core\\algorithms.py:1319\u001B[0m, in \u001B[0;36mtake\u001B[1;34m(arr, indices, axis, allow_fill, fill_value)\u001B[0m\n\u001B[0;32m   1314\u001B[0m     result \u001B[38;5;241m=\u001B[39m take_nd(\n\u001B[0;32m   1315\u001B[0m         arr, indices, axis\u001B[38;5;241m=\u001B[39maxis, allow_fill\u001B[38;5;241m=\u001B[39m\u001B[38;5;28;01mTrue\u001B[39;00m, fill_value\u001B[38;5;241m=\u001B[39mfill_value\n\u001B[0;32m   1316\u001B[0m     )\n\u001B[0;32m   1317\u001B[0m \u001B[38;5;28;01melse\u001B[39;00m:\n\u001B[0;32m   1318\u001B[0m     \u001B[38;5;66;03m# NumPy style\u001B[39;00m\n\u001B[1;32m-> 1319\u001B[0m     result \u001B[38;5;241m=\u001B[39m arr\u001B[38;5;241m.\u001B[39mtake(indices, axis\u001B[38;5;241m=\u001B[39maxis)\n\u001B[0;32m   1320\u001B[0m \u001B[38;5;28;01mreturn\u001B[39;00m result\n",
      "\u001B[1;31mKeyboardInterrupt\u001B[0m: "
     ]
    }
   ],
   "source": [
    "# Instantiate Neptune instance\n",
    "run = neptune.init_run(\n",
    "    name=\"RandomForest Reg Caribbean\",\n",
    "    tags=[\"RandomForest\", \"regression\", \"hyperopt\", \"RMSE\", \"Caribbean\", \"CARB\"],\n",
    "    description=\"RandomForest Hyperopt with RMSE on Caribbean\"\n",
    ")\n",
    "\n",
    "# Create the Trials object\n",
    "CARB_trials = Trials()\n",
    "\n",
    "# Create the fmin object\n",
    "CARB_best_hyperparams = fmin(fn = objective,\n",
    "                            space = space,\n",
    "                            algo = tpe.suggest,\n",
    "                            max_evals = 1000,\n",
    "                            trials = CARB_trials,\n",
    "                            show_progressbar=True,\n",
    "                            early_stop_fn=no_progress_loss(100))\n",
    "\n",
    "# Stop Neptune instance\n",
    "run.stop()\n",
    "\n",
    "CARB_best_trial = CARB_trials.best_trial\n",
    "CARB_best_hps = CARB_best_hyperparams.copy()\n",
    "\n",
    "CARB_best_hps['max_features'] = ['sqrt', 'log2', None][CARB_best_hps['max_features']]\n",
    "CARB_best_hps['n_estimators'] = int(CARB_best_hps['n_estimators'])\n",
    "CARB_best_hps['min_samples_split'] = int(CARB_best_hps['min_samples_split'])\n",
    "CARB_best_hps['min_samples_leaf'] = int(CARB_best_hps['min_samples_leaf'])\n",
    "CARB_best_hps['max_leaf_nodes'] = int(CARB_best_hps['max_leaf_nodes'])"
   ]
  },
  {
   "cell_type": "code",
   "outputs": [
    {
     "name": "stdout",
     "output_type": "stream",
     "text": [
      "[neptune] [info   ] Shutting down background jobs, please wait a moment...\n",
      "[neptune] [info   ] Done!\n",
      "[neptune] [info   ] All 0 operations synced, thanks for waiting!\n",
      "[neptune] [info   ] Explore the metadata in the Neptune app: https://app.neptune.ai/mads-capstone/capstone/e/CAP-173/metadata\n"
     ]
    }
   ],
   "source": [
    "run.stop()"
   ],
   "metadata": {
    "collapsed": false,
    "ExecuteTime": {
     "end_time": "2024-04-13T13:34:15.681045Z",
     "start_time": "2024-04-13T13:34:15.539695800Z"
    }
   },
   "execution_count": 9
  },
  {
   "cell_type": "markdown",
   "metadata": {
    "cell_id": "768c13607c06485e813f4b67a72be047",
    "deepnote_cell_type": "text-cell-h3",
    "formattedRanges": []
   },
   "source": [
    "### Review the Hyperparameter Search Validation MAE Scores and Hyperparameters"
   ]
  },
  {
   "cell_type": "code",
   "execution_count": null,
   "metadata": {
    "cell_id": "413fef4cbae147b0b71f9edfbe212028",
    "deepnote_cell_type": "code",
    "deepnote_to_be_reexecuted": false,
    "execution_millis": 307,
    "execution_start": 1711907279545,
    "source_hash": null,
    "ExecuteTime": {
     "end_time": "2024-04-13T13:34:01.548663100Z",
     "start_time": "2024-04-13T13:34:01.537147500Z"
    }
   },
   "outputs": [],
   "source": [
    "# What's the best trial from the search? Report the MAE & StdDev\n",
    "print(f\"Best Mean Absolute Error: {CARB_trials.best_trial['result']['loss']:.4f}\")\n",
    "print(f\"Best Standard Error: {CARB_trials.best_trial['result']['std']:.4f}\")"
   ]
  },
  {
   "cell_type": "code",
   "execution_count": null,
   "metadata": {
    "cell_id": "e5c76844ee0c4f7fba4563765c64213e",
    "deepnote_cell_type": "code",
    "deepnote_to_be_reexecuted": false,
    "execution_millis": 307,
    "execution_start": 1711907279546,
    "source_hash": null,
    "ExecuteTime": {
     "start_time": "2024-04-13T13:34:01.538149200Z"
    }
   },
   "outputs": [],
   "source": [
    "# Display the best hyperparameters\n",
    "CARB_best_hps"
   ]
  },
  {
   "cell_type": "markdown",
   "metadata": {
    "cell_id": "e2121f6f61534b97bd67230e72f34d21",
    "deepnote_cell_type": "text-cell-h2",
    "formattedRanges": []
   },
   "source": [
    "## Recreate the model and get new MAE and Feature Importance"
   ]
  },
  {
   "cell_type": "code",
   "execution_count": null,
   "metadata": {
    "cell_id": "0b3c351ab74c42c398e7b81ad0cb5370",
    "deepnote_cell_type": "code",
    "deepnote_to_be_reexecuted": false,
    "execution_millis": 54877,
    "execution_start": 1711907279549,
    "source_hash": null,
    "ExecuteTime": {
     "start_time": "2024-04-13T13:34:01.538149200Z"
    }
   },
   "outputs": [],
   "source": [
    "# Recreate the model with the best hyperparameters\n",
    "CARB_model = cf.model_score(hps=CARB_best_hps, model_type='rf', holdout=True, val=True, Xtt=X_train_trans, ytt=y_train_trans, Xvt=X_val_trans, yvt=y_val_trans, Xht=X_holdout_trans, yht=y_holdout_trans)\n",
    "\n",
    "# Plot the feature importance\n",
    "cf.plot_feat_importance(CARB_model)"
   ]
  },
  {
   "cell_type": "markdown",
   "metadata": {
    "cell_id": "984864e9d5a143d2b5d6c18513a65ade",
    "deepnote_app_block_visible": false,
    "deepnote_cell_type": "text-cell-h2",
    "formattedRanges": [],
    "is_collapsed": false
   },
   "source": [
    "## Feature Ablation"
   ]
  },
  {
   "cell_type": "code",
   "execution_count": null,
   "metadata": {
    "cell_id": "b807d833835e45289c58a129606884f3",
    "deepnote_cell_type": "code",
    "deepnote_to_be_reexecuted": false,
    "execution_millis": 1043778,
    "execution_start": 1711907334432,
    "source_hash": null,
    "ExecuteTime": {
     "start_time": "2024-04-13T13:34:01.539146200Z"
    }
   },
   "outputs": [],
   "source": [
    "%%time\n",
    "# First run through the feature ablation process\n",
    "# This will determine which features can potentially be removed\n",
    "CARB_feature_ablation_df, CARB_baseline_mae_val, CARB_baseline_mae_train = cf.feat_ablation(\n",
    "    model=CARB_model, hps=CARB_best_hps, model_type='rf',\n",
    "    Xtt=X_train_trans, ytt=y_train_trans, \n",
    "    Xvt=X_val_trans, yvt=y_val_trans, \n",
    "    Xht=X_holdout_trans, yht=y_holdout_trans)"
   ]
  },
  {
   "cell_type": "code",
   "execution_count": null,
   "metadata": {
    "cell_id": "df449b7269574d87b35f95a442da2e90",
    "deepnote_cell_type": "code",
    "deepnote_table_loading": false,
    "deepnote_table_state": {
     "filters": [],
     "pageIndex": 0,
     "pageSize": 50,
     "sortBy": []
    },
    "deepnote_to_be_reexecuted": false,
    "execution_millis": 239,
    "execution_start": 1711908378212,
    "source_hash": null,
    "ExecuteTime": {
     "start_time": "2024-04-13T13:34:01.541146900Z"
    }
   },
   "outputs": [],
   "source": [
    "# Show the feature ablation dataframe, sorted by the change in MAE to Validation data\n",
    "CARB_feature_ablation_df.sort_values('Val_MAE_Change', ascending=False)"
   ]
  },
  {
   "cell_type": "code",
   "execution_count": null,
   "metadata": {
    "cell_id": "763353677eef402f9890bd032f710bf0",
    "deepnote_cell_type": "code",
    "deepnote_to_be_reexecuted": false,
    "execution_millis": 336,
    "execution_start": 1711908378271,
    "source_hash": null
   },
   "outputs": [],
   "source": [
    "%%time\n",
    "\n",
    "CARB_feat_ablation_len = len(CARB_feature_ablation_df[CARB_feature_ablation_df['Val_MAE'] <= CARB_baseline_mae_val].sort_values('Val_MAE_Change', ascending=False)['Removed_Feature'])\n",
    "\n",
    "if CARB_feat_ablation_len > 0:\n",
    "    # Generate the top features to use in feature ablation combinations\n",
    "    CARB_abl_list_to_combo = CARB_feature_ablation_df[CARB_feature_ablation_df['Val_MAE'] <= CARB_baseline_mae_val].sort_values('Val_MAE_Change', ascending=False)['Removed_Feature'].head(5).to_list()\n",
    "\n",
    "    # Second run through the feature ablation process\n",
    "    # This time including the top 5 features whose removal decreased the MAE\n",
    "    # These top 5 features will be combined using itertools, and retested \n",
    "    CARB_feature_ablation_df, CARB_baseline_mae_val, CARB_baseline_mae_train = cf.feat_ablation(\n",
    "        model=CARB_model, hps=CARB_best_hps, model_type='rf',\n",
    "        Xtt=X_train_trans, ytt=y_train_trans, \n",
    "        Xvt=X_val_trans, yvt=y_val_trans, \n",
    "        Xht=X_holdout_trans, yht=y_holdout_trans, \n",
    "        abl_list_to_combo=CARB_abl_list_to_combo)\n",
    "\n",
    "    # Show the top 1 feature that decreased the MAE in the second ablation run, which we'll remove.  \n",
    "    # Might be multiple features due to itertools combinations, so we split the string\n",
    "    CARB_drop_cols = CARB_feature_ablation_df[CARB_feature_ablation_df['Val_MAE'] <= CARB_baseline_mae_val].sort_values('Val_MAE_Change', ascending=False)['Removed_Feature'].head(1).values[0].split(', ')\n",
    "\n",
    "    # Create the feature columns list for saving out\n",
    "    CARB_feat_columns = X_train_trans.drop(columns=CARB_drop_cols).columns.to_list()\n",
    "\n",
    "    # Recreate the model with the dropped columns\n",
    "    # It should have a lower MAE score than the original\n",
    "    CARB_experiment_model = cf.model_score(\n",
    "        CARB_best_hps, val=True, model_type='rf',\n",
    "        Xtt=X_train_trans.drop(columns=CARB_drop_cols), ytt=y_train_trans, \n",
    "        Xvt=X_val_trans.drop(columns=CARB_drop_cols), yvt=y_val_trans, \n",
    "        Xht=X_holdout_trans.drop(columns=CARB_drop_cols), yht=y_holdout_trans)\n",
    "\n",
    "    # Plot the feature importance for this model\n",
    "    cf.plot_feat_importance(CARB_experiment_model)\n",
    "\n",
    "else:\n",
    "    CARB_feat_columns = X_train_trans.columns.to_list()\n",
    "\n"
   ]
  },
  {
   "cell_type": "markdown",
   "metadata": {
    "cell_id": "0761cdf945874472897ac560f725d1fa",
    "deepnote_cell_type": "text-cell-h3",
    "formattedRanges": []
   },
   "source": [
    "### Output the Model, Trials, Parameters and Feature List to disk"
   ]
  },
  {
   "cell_type": "code",
   "execution_count": null,
   "metadata": {
    "cell_id": "67bb98e2e1a742aa8ac6eb18b7141bed",
    "deepnote_cell_type": "code",
    "deepnote_to_be_reexecuted": false,
    "execution_millis": 1544,
    "execution_start": 1711909474057,
    "source_hash": null
   },
   "outputs": [],
   "source": [
    "# Write out the model artifacts to disk\n",
    "cf.write_out(model=CARB_model, trials=CARB_trials, params=CARB_best_hps, feat_cols=CARB_feat_columns, model_family='randomforest_reg', location_name='CARB')"
   ]
  },
  {
   "cell_type": "markdown",
   "metadata": {
    "cell_id": "c41c9f97be684128bca302dc4aa2ef84",
    "deepnote_app_block_visible": false,
    "deepnote_cell_type": "text-cell-h2",
    "formattedRanges": [],
    "is_collapsed": false
   },
   "source": [
    "## Review Holdout Truth vs Predictions"
   ]
  },
  {
   "cell_type": "code",
   "execution_count": null,
   "metadata": {
    "cell_id": "a521191a12fc48968d45047f0efd4192",
    "deepnote_cell_type": "code",
    "deepnote_to_be_reexecuted": false,
    "execution_millis": 206,
    "execution_start": 1711909475604,
    "source_hash": null
   },
   "outputs": [],
   "source": [
    "eval_df = y_val_trans.copy(deep=True)\n",
    "CARB_val_pred = CARB_model.predict(X_val_trans)\n",
    "eval_df['predictions'] = CARB_val_pred.tolist()\n",
    "eval_df['diff'] = eval_df['y_val'] - eval_df['predictions']"
   ]
  },
  {
   "cell_type": "code",
   "execution_count": null,
   "metadata": {
    "cell_id": "9243da5e13744c24955566956ad3cd51",
    "deepnote_cell_type": "code",
    "deepnote_table_loading": false,
    "deepnote_table_state": {
     "filters": [],
     "pageIndex": 0,
     "pageSize": 25,
     "sortBy": []
    },
    "deepnote_to_be_reexecuted": false,
    "execution_millis": 250,
    "execution_start": 1711909475812,
    "source_hash": null
   },
   "outputs": [],
   "source": [
    "eval_df.sort_values(by='diff', ascending=False).head(20)"
   ]
  },
  {
   "cell_type": "code",
   "execution_count": null,
   "metadata": {
    "cell_id": "16c2d19dd3664c808ae480b958ed4900",
    "deepnote_cell_type": "code",
    "deepnote_to_be_reexecuted": false,
    "execution_millis": 654,
    "execution_start": 1711909475820,
    "source_hash": null
   },
   "outputs": [],
   "source": [
    "fig = px.histogram(eval_df[eval_df['y_val'] > 5], x='diff', nbins=100, title='Distribution of the diff between prediction and holdout where true value > 5')\n",
    "\n",
    "# Show the plot\n",
    "fig.show()"
   ]
  },
  {
   "cell_type": "code",
   "execution_count": null,
   "metadata": {
    "cell_id": "970e509b0d9d486799d5a7a077682f8e",
    "deepnote_cell_type": "code",
    "deepnote_table_loading": false,
    "deepnote_table_state": {
     "filters": [],
     "pageIndex": 0,
     "pageSize": 25,
     "sortBy": []
    },
    "deepnote_to_be_reexecuted": false,
    "execution_millis": 632,
    "execution_start": 1711909475843,
    "source_hash": null
   },
   "outputs": [],
   "source": [
    "#eval_df[(eval_df['diff'].between(-5,5))]\n",
    "#eval_df[(eval_df['diff'].between(-5,5)) & (eval_df['y_val'] > 5)]\n",
    "eval_df[~(eval_df['diff'].between(-5,5))]\n"
   ]
  },
  {
   "cell_type": "markdown",
   "metadata": {
    "cell_id": "20d40f0296784bb4857a2ff5fbb1e35c",
    "deepnote_cell_type": "text-cell-h2",
    "formattedRanges": []
   },
   "source": [
    "## SHAP Analysis"
   ]
  },
  {
   "cell_type": "markdown",
   "metadata": {
    "cell_id": "a1a81d0d401c4527a206a731bcd8d707",
    "deepnote_cell_type": "text-cell-h3",
    "formattedRanges": []
   },
   "source": [
    "### Create SHAP Objects"
   ]
  },
  {
   "cell_type": "code",
   "execution_count": null,
   "metadata": {
    "cell_id": "e00020aec43248cb80035a5a35be81a9",
    "deepnote_cell_type": "code",
    "deepnote_to_be_reexecuted": false,
    "execution_millis": 585,
    "execution_start": 1711909475890,
    "source_hash": null
   },
   "outputs": [],
   "source": [
    "# %%time\n",
    "# CARB_X_val_trans = X_val_trans.copy(deep=True)\n",
    "# CARB_y_val_trans = y_val_trans.copy(deep=True)\n",
    "# explainer = shap.TreeExplainer(CARB_model)\n",
    "# shap_values = explainer(CARB_X_val_trans)\n",
    "# shap_interaction = explainer.shap_interaction_values(CARB_X_val_trans)\n",
    "# sv = explainer.shap_values(CARB_X_val_trans)\n",
    "# shap.initjs()"
   ]
  },
  {
   "cell_type": "code",
   "execution_count": null,
   "metadata": {
    "cell_id": "35e9d79347ae43f7b9a3fd81ead39b30",
    "deepnote_cell_type": "code",
    "deepnote_to_be_reexecuted": false,
    "execution_millis": 585,
    "execution_start": 1711909475891,
    "source_hash": null
   },
   "outputs": [],
   "source": [
    "# Beeswarm Importance\n",
    "# plt.figure(figsize=(8,6))\n",
    "# plt.title(f\"SHAP Beeswarm Analysis\")\n",
    "# shap.plots.beeswarm(shap_values, max_display=32)\n",
    "# plt.close()"
   ]
  },
  {
   "cell_type": "markdown",
   "metadata": {
    "cell_id": "94a8be88a0534297b2a38d13ab2e4072",
    "deepnote_cell_type": "text-cell-h3",
    "formattedRanges": []
   },
   "source": [
    "### Investigate Individual Predictions"
   ]
  },
  {
   "cell_type": "code",
   "execution_count": null,
   "metadata": {
    "cell_id": "86c3537c7c164a11a4282168bb1f26f1",
    "deepnote_cell_type": "code",
    "deepnote_to_be_reexecuted": false,
    "execution_millis": 584,
    "execution_start": 1711909475892,
    "source_hash": null
   },
   "outputs": [],
   "source": [
    "# investigate = CARB_X_val_trans.index.get_loc(5466)\n",
    "# print(CARB_y_val_trans.iloc[investigate])"
   ]
  },
  {
   "cell_type": "code",
   "execution_count": null,
   "metadata": {
    "cell_id": "8240dde533b34460b8b4f29e153ce7af",
    "deepnote_cell_type": "code",
    "deepnote_to_be_reexecuted": false,
    "execution_millis": 579,
    "execution_start": 1711909475897,
    "source_hash": null
   },
   "outputs": [],
   "source": [
    "# Waterfall on a prediction\n",
    "# plt.figure(figsize=(8,6))\n",
    "# shap.plots.waterfall(shap_values[investigate], max_display=20) # , show=False\n",
    "# plt.close()"
   ]
  },
  {
   "cell_type": "code",
   "execution_count": null,
   "metadata": {
    "cell_id": "17ee18a32ea0427cb7e73cec36796217",
    "deepnote_cell_type": "code",
    "deepnote_to_be_reexecuted": false,
    "execution_millis": 571,
    "execution_start": 1711909475906,
    "source_hash": null
   },
   "outputs": [],
   "source": [
    "# Decision plot on a prediction\n",
    "# shap.decision_plot(explainer.expected_value, explainer.shap_values(CARB_X_val_trans)[investigate], CARB_X_val_trans, feature_display_range=slice(-1,-51,-1))"
   ]
  },
  {
   "cell_type": "markdown",
   "metadata": {
    "cell_id": "c7a44b9bb4884e1f897fc393123a920d",
    "deepnote_app_block_visible": false,
    "deepnote_cell_type": "text-cell-h1",
    "formattedRanges": [],
    "is_collapsed": false
   },
   "source": [
    "# South East Asia and Australia Region"
   ]
  },
  {
   "cell_type": "markdown",
   "metadata": {
    "cell_id": "60d2c1870ad24236bc6fb3ea410d76b7",
    "deepnote_cell_type": "text-cell-h2",
    "formattedRanges": []
   },
   "source": [
    "## Import the Data"
   ]
  },
  {
   "cell_type": "code",
   "execution_count": null,
   "metadata": {
    "allow_embed": false,
    "cell_id": "5c7c8e37a14a4e2fa23b4005aa29c579",
    "deepnote_cell_type": "code",
    "deepnote_to_be_reexecuted": false,
    "execution_millis": 1688,
    "execution_start": 1711909475906,
    "source_hash": null
   },
   "outputs": [],
   "source": [
    "X_train_trans, X_val_trans, X_holdout_trans, y_train_trans, y_val_trans, y_holdout_trans = cf.import_data(location_name='SEAA')"
   ]
  },
  {
   "cell_type": "markdown",
   "metadata": {
    "cell_id": "1c54c7eacdd041e9b5dd290fd3df7b13",
    "deepnote_app_block_visible": false,
    "deepnote_cell_type": "text-cell-h2",
    "formattedRanges": [],
    "is_collapsed": false
   },
   "source": [
    "## Hyperparameter Tuning"
   ]
  },
  {
   "cell_type": "markdown",
   "metadata": {
    "cell_id": "8953786dd3974e8f9429caa4e686104c",
    "deepnote_cell_type": "text-cell-h3",
    "formattedRanges": []
   },
   "source": [
    "### Execute Hyperparameter search"
   ]
  },
  {
   "cell_type": "code",
   "execution_count": null,
   "metadata": {
    "allow_embed": false,
    "cell_id": "7aa9e774aee346c08fefbbf2197bdb47",
    "deepnote_cell_type": "code",
    "deepnote_to_be_reexecuted": false,
    "execution_millis": 1954240,
    "execution_start": 1711909477603,
    "source_hash": null
   },
   "outputs": [],
   "source": [
    "# Instantiate Neptune instance\n",
    "run = neptune.init_run(\n",
    "    name=\"RandomForest Reg South East Asia and Australia\",\n",
    "    tags=[\"RandomForest\", \"regression\", \"hyperopt\", \"RMSE\", \"South East Asia and Australia\", \"SEAA\"],\n",
    "    description=\"RandomForest Hyperopt with RMSE on South East Asia and Australia\"\n",
    ")\n",
    "\n",
    "# Create the Trials object\n",
    "SEAA_trials = Trials()\n",
    "\n",
    "# Create the fmin object\n",
    "SEAA_best_hyperparams = fmin(fn = objective,\n",
    "                            space = space,\n",
    "                            algo = tpe.suggest,\n",
    "                            max_evals = 1000,\n",
    "                            trials = SEAA_trials,\n",
    "                            show_progressbar=True,\n",
    "                            early_stop_fn=no_progress_loss(100))\n",
    "\n",
    "# Stop Neptune instance\n",
    "run.stop()\n",
    "\n",
    "SEAA_best_trial = SEAA_trials.best_trial\n",
    "SEAA_best_hps = SEAA_best_hyperparams.copy()\n",
    "\n",
    "SEAA_best_hps['max_features'] = ['sqrt', 'log2', None][SEAA_best_hps['max_features']]\n",
    "SEAA_best_hps['n_estimators'] = int(SEAA_best_hps['n_estimators'])\n",
    "#SEAA_best_hps['max_depth'] = int(SEAA_best_hps['max_depth'])\n",
    "SEAA_best_hps['min_samples_split'] = int(SEAA_best_hps['min_samples_split'])\n",
    "SEAA_best_hps['min_samples_leaf'] = int(SEAA_best_hps['min_samples_leaf'])\n",
    "SEAA_best_hps['max_leaf_nodes'] = int(SEAA_best_hps['max_leaf_nodes'])"
   ]
  },
  {
   "cell_type": "markdown",
   "metadata": {
    "cell_id": "6fc21e53de1c4824a431dfb0effc36a8",
    "deepnote_cell_type": "text-cell-h3",
    "formattedRanges": []
   },
   "source": [
    "### Review the Hyperparameter Search Validation MAE Scores and Hyperparameters"
   ]
  },
  {
   "cell_type": "code",
   "execution_count": null,
   "metadata": {
    "allow_embed": false,
    "cell_id": "e74cbc1963d948c1a249050ea3b58a3b",
    "deepnote_cell_type": "code",
    "deepnote_to_be_reexecuted": false,
    "execution_millis": 207,
    "execution_start": 1711911431849,
    "source_hash": null
   },
   "outputs": [],
   "source": [
    "# What's the best trial from the search? Report the MAE & StdDev\n",
    "print(f\"Best Mean Absolute Error: {SEAA_trials.best_trial['result']['loss']:.4f}\")\n",
    "print(f\"Best Standard Error: {SEAA_trials.best_trial['result']['std']:.4f}\")"
   ]
  },
  {
   "cell_type": "code",
   "execution_count": null,
   "metadata": {
    "allow_embed": false,
    "cell_id": "e42d2d6893fc4df29ee9a2ab80f056b2",
    "deepnote_cell_type": "code",
    "deepnote_to_be_reexecuted": false,
    "execution_millis": 206,
    "execution_start": 1711911431850,
    "source_hash": null
   },
   "outputs": [],
   "source": [
    "# Display the best hyperparameters\n",
    "SEAA_best_hps"
   ]
  },
  {
   "cell_type": "markdown",
   "metadata": {
    "cell_id": "6de2d64657534c849365e997a1cbc0ec",
    "deepnote_cell_type": "text-cell-h2",
    "formattedRanges": []
   },
   "source": [
    "## Recreate the model and get new MAE and Feature Importance"
   ]
  },
  {
   "cell_type": "code",
   "execution_count": null,
   "metadata": {
    "allow_embed": false,
    "cell_id": "e0065d28ad924b94983207364d5c9d09",
    "deepnote_cell_type": "code",
    "deepnote_to_be_reexecuted": false,
    "execution_millis": 21136,
    "execution_start": 1711911431852,
    "source_hash": null
   },
   "outputs": [],
   "source": [
    "# Recreate the model with the best hyperparameters\n",
    "SEAA_model = cf.model_score(hps=SEAA_best_hps, model_type='rf', holdout=True, val=True, Xtt=X_train_trans, ytt=y_train_trans, Xvt=X_val_trans, yvt=y_val_trans, Xht=X_holdout_trans, yht=y_holdout_trans)\n",
    "\n",
    "# Plot the feature importance\n",
    "cf.plot_feat_importance(SEAA_model)"
   ]
  },
  {
   "cell_type": "markdown",
   "metadata": {
    "cell_id": "6baa3f6234a74dabbc8fe0e7a9e31451",
    "deepnote_app_block_visible": false,
    "deepnote_cell_type": "text-cell-h2",
    "formattedRanges": [],
    "is_collapsed": false
   },
   "source": [
    "## Feature Ablation"
   ]
  },
  {
   "cell_type": "code",
   "execution_count": null,
   "metadata": {
    "allow_embed": false,
    "cell_id": "8787715d7f6740fa9093013040e8cdfe",
    "deepnote_cell_type": "code",
    "deepnote_to_be_reexecuted": false,
    "execution_millis": 445138,
    "execution_start": 1711911452991,
    "source_hash": null
   },
   "outputs": [],
   "source": [
    "%%time\n",
    "# First run through the feature ablation process\n",
    "# This will determine which features can potentially be removed\n",
    "SEAA_feature_ablation_df, SEAA_baseline_mae_val, SEAA_baseline_mae_train = cf.feat_ablation(\n",
    "    model=SEAA_model, hps=SEAA_best_hps, model_type='rf',\n",
    "    Xtt=X_train_trans, ytt=y_train_trans, \n",
    "    Xvt=X_val_trans, yvt=y_val_trans, \n",
    "    Xht=X_holdout_trans, yht=y_holdout_trans)"
   ]
  },
  {
   "cell_type": "code",
   "execution_count": null,
   "metadata": {
    "allow_embed": false,
    "cell_id": "07a58a37077b469a8ef03f7f36ce2ce6",
    "deepnote_cell_type": "code",
    "deepnote_table_loading": false,
    "deepnote_table_state": {
     "filters": [],
     "pageIndex": 0,
     "pageSize": 25,
     "sortBy": [
      {
       "id": "Val_MAE_Change",
       "type": "desc"
      }
     ]
    },
    "deepnote_to_be_reexecuted": false,
    "execution_millis": 262,
    "execution_start": 1711911898132,
    "source_hash": null
   },
   "outputs": [],
   "source": [
    "# Show the feature ablation dataframe, sorted by the change in MAE to Validation data\n",
    "SEAA_feature_ablation_df.sort_values('Val_MAE_Change', ascending=False)"
   ]
  },
  {
   "cell_type": "code",
   "execution_count": null,
   "metadata": {
    "allow_embed": false,
    "cell_id": "6543b453c6f14bc790eb3e934a6acc4d",
    "deepnote_cell_type": "code",
    "deepnote_to_be_reexecuted": false,
    "execution_millis": 215,
    "execution_start": 1711911898180,
    "source_hash": null
   },
   "outputs": [],
   "source": [
    "%%time\n",
    "\n",
    "SEAA_feat_ablation_len = len(SEAA_feature_ablation_df[SEAA_feature_ablation_df['Val_MAE'] <= SEAA_baseline_mae_val].sort_values('Val_MAE_Change', ascending=False)['Removed_Feature'])\n",
    "\n",
    "if SEAA_feat_ablation_len > 0:\n",
    "    # Generate the top features to use in feature ablation combinations\n",
    "    SEAA_abl_list_to_combo = SEAA_feature_ablation_df[SEAA_feature_ablation_df['Val_MAE'] <= SEAA_baseline_mae_val].sort_values('Val_MAE_Change', ascending=False)['Removed_Feature'].head(5).to_list()\n",
    "\n",
    "    # Second run through the feature ablation process\n",
    "    # This time including the top 5 features whose removal decreased the MAE\n",
    "    # These top 5 features will be combined using itertools, and retested \n",
    "    SEAA_feature_ablation_df, SEAA_baseline_mae_val, SEAA_baseline_mae_train = cf.feat_ablation(\n",
    "        model=SEAA_model, hps=SEAA_best_hps, model_type='rf',\n",
    "        Xtt=X_train_trans, ytt=y_train_trans, \n",
    "        Xvt=X_val_trans, yvt=y_val_trans, \n",
    "        Xht=X_holdout_trans, yht=y_holdout_trans, \n",
    "        abl_list_to_combo=SEAA_abl_list_to_combo)\n",
    "\n",
    "    # Show the top 1 feature that decreased the MAE in the second ablation run, which we'll remove.  \n",
    "    # Might be multiple features due to itertools combinations, so we split the string\n",
    "    SEAA_drop_cols = SEAA_feature_ablation_df[SEAA_feature_ablation_df['Val_MAE'] <= SEAA_baseline_mae_val].sort_values('Val_MAE_Change', ascending=False)['Removed_Feature'].head(1).values[0].split(', ')\n",
    "\n",
    "    # Create the feature columns list for saving out\n",
    "    SEAA_feat_columns = X_train_trans.drop(columns=SEAA_drop_cols).columns.to_list()\n",
    "\n",
    "    # Recreate the model with the dropped columns\n",
    "    # It should have a lower MAE score than the original\n",
    "    SEAA_experiment_model = cf.model_score(\n",
    "        SEAA_best_hps, val=True, model_type='rf',\n",
    "        Xtt=X_train_trans.drop(columns=SEAA_drop_cols), ytt=y_train_trans, \n",
    "        Xvt=X_val_trans.drop(columns=SEAA_drop_cols), yvt=y_val_trans, \n",
    "        Xht=X_holdout_trans.drop(columns=SEAA_drop_cols), yht=y_holdout_trans)\n",
    "\n",
    "    # Plot the feature importance for this model\n",
    "    cf.plot_feat_importance(SEAA_experiment_model)\n",
    "\n",
    "else:\n",
    "    SEAA_feat_columns = X_train_trans.columns.to_list()\n"
   ]
  },
  {
   "cell_type": "markdown",
   "metadata": {
    "cell_id": "82169528c3a24f6e9691131e60a518a6",
    "deepnote_cell_type": "text-cell-h3",
    "formattedRanges": []
   },
   "source": [
    "### Output the Model, Trials, Parameters and Feature List to disk"
   ]
  },
  {
   "cell_type": "code",
   "execution_count": null,
   "metadata": {
    "allow_embed": false,
    "cell_id": "4f74a2b5c16b44dda5cf0fcf2d14d65c",
    "deepnote_cell_type": "code",
    "deepnote_to_be_reexecuted": false,
    "execution_millis": 2309,
    "execution_start": 1711912937201,
    "source_hash": null
   },
   "outputs": [],
   "source": [
    "# Write out the model artifacts to disk\n",
    "cf.write_out(model=SEAA_model, trials=SEAA_trials, params=SEAA_best_hps, feat_cols=SEAA_feat_columns, model_family='randomforest_reg', location_name='SEAA')"
   ]
  },
  {
   "cell_type": "markdown",
   "metadata": {
    "cell_id": "b1209aa80609418d992598ca2bb4aa93",
    "deepnote_app_block_visible": false,
    "deepnote_cell_type": "text-cell-h2",
    "formattedRanges": [],
    "is_collapsed": false
   },
   "source": [
    "## Review Holdout Truth vs Predictions"
   ]
  },
  {
   "cell_type": "code",
   "execution_count": null,
   "metadata": {
    "allow_embed": false,
    "cell_id": "24eb019ebde84909abb88a59825cfc53",
    "deepnote_cell_type": "code",
    "deepnote_to_be_reexecuted": false,
    "execution_millis": 210,
    "execution_start": 1711912939513,
    "source_hash": null
   },
   "outputs": [],
   "source": [
    "eval_df = y_val_trans.copy(deep=True)\n",
    "SEAA_val_pred = SEAA_model.predict(X_val_trans)\n",
    "eval_df['predictions'] = SEAA_val_pred.tolist()\n",
    "eval_df['diff'] = eval_df['y_val'] - eval_df['predictions']"
   ]
  },
  {
   "cell_type": "code",
   "execution_count": null,
   "metadata": {
    "allow_embed": false,
    "cell_id": "df8b733031a5442e8c56b9998c337a93",
    "deepnote_cell_type": "code",
    "deepnote_to_be_reexecuted": false,
    "execution_millis": 158,
    "execution_start": 1711912939725,
    "source_hash": null
   },
   "outputs": [],
   "source": [
    "eval_df.sort_values(by='diff', ascending=False).head(20)"
   ]
  },
  {
   "cell_type": "code",
   "execution_count": null,
   "metadata": {
    "allow_embed": false,
    "cell_id": "c61c3b6c03234cf092dd219d89d62bc0",
    "deepnote_cell_type": "code",
    "deepnote_to_be_reexecuted": false,
    "execution_millis": 535,
    "execution_start": 1711912939735,
    "source_hash": null
   },
   "outputs": [],
   "source": [
    "fig = px.histogram(eval_df[eval_df['y_val'] > 5], x='diff', nbins=100, title='Distribution of the diff between prediction and holdout where true value > 5')\n",
    "\n",
    "# Show the plot\n",
    "fig.show()"
   ]
  },
  {
   "cell_type": "code",
   "execution_count": null,
   "metadata": {
    "allow_embed": false,
    "cell_id": "cacca232b12d4f1fb30a8711c895b4c1",
    "deepnote_cell_type": "code",
    "deepnote_table_loading": false,
    "deepnote_table_state": {
     "filters": [],
     "pageIndex": 3,
     "pageSize": 10,
     "sortBy": []
    },
    "deepnote_to_be_reexecuted": false,
    "execution_millis": 503,
    "execution_start": 1711912939767,
    "source_hash": null
   },
   "outputs": [],
   "source": [
    "#eval_df[(eval_df['diff'].between(-5,5))]\n",
    "#eval_df[(eval_df['diff'].between(-5,5)) & (eval_df['y_val'] > 5)]\n",
    "eval_df[~(eval_df['diff'].between(-5,5))]\n"
   ]
  },
  {
   "cell_type": "markdown",
   "metadata": {
    "cell_id": "456bc67c0e894b56be2601ba48307124",
    "deepnote_cell_type": "text-cell-h2",
    "formattedRanges": []
   },
   "source": [
    "## SHAP Analysis"
   ]
  },
  {
   "cell_type": "markdown",
   "metadata": {
    "cell_id": "511663efe30c4be58ff47775e006a086",
    "deepnote_cell_type": "text-cell-h3",
    "formattedRanges": []
   },
   "source": [
    "### Create SHAP Objects"
   ]
  },
  {
   "cell_type": "code",
   "execution_count": null,
   "metadata": {
    "allow_embed": false,
    "cell_id": "ca0d8dace9fa4f00bacc82345e9d049d",
    "deepnote_cell_type": "code",
    "deepnote_to_be_reexecuted": false,
    "execution_millis": 429,
    "execution_start": 1711912939842,
    "source_hash": null
   },
   "outputs": [],
   "source": [
    "# %%time\n",
    "# SEAA_X_val_trans = X_val_trans.copy(deep=True)\n",
    "# SEAA_y_val_trans = y_val_trans.copy(deep=True)\n",
    "# explainer = shap.TreeExplainer(SEAA_model)\n",
    "# shap_values = explainer(SEAA_X_val_trans)\n",
    "# shap_interaction = explainer.shap_interaction_values(SEAA_X_val_trans)\n",
    "# sv = explainer.shap_values(SEAA_X_val_trans)\n",
    "# shap.initjs()"
   ]
  },
  {
   "cell_type": "code",
   "execution_count": null,
   "metadata": {
    "allow_embed": false,
    "cell_id": "4bf6f3a26d9a4357866e61347e2ae180",
    "deepnote_cell_type": "code",
    "deepnote_to_be_reexecuted": false,
    "execution_millis": 427,
    "execution_start": 1711912939844,
    "source_hash": null
   },
   "outputs": [],
   "source": [
    "# Beeswarm Importance\n",
    "# plt.figure(figsize=(8,6))\n",
    "# plt.title(f\"SHAP Beeswarm Analysis\")\n",
    "# shap.plots.beeswarm(shap_values, max_display=32)\n",
    "# plt.close()"
   ]
  },
  {
   "cell_type": "markdown",
   "metadata": {
    "cell_id": "bdf87a97653e4d18bf3f6ea143fe655e",
    "deepnote_cell_type": "text-cell-h3",
    "formattedRanges": []
   },
   "source": [
    "### Investigate Individual Predictions"
   ]
  },
  {
   "cell_type": "code",
   "execution_count": null,
   "metadata": {
    "allow_embed": false,
    "cell_id": "466585fa358e4ab8b251bb04fd0beda1",
    "deepnote_cell_type": "code",
    "deepnote_to_be_reexecuted": false,
    "execution_millis": 425,
    "execution_start": 1711912939846,
    "source_hash": null
   },
   "outputs": [],
   "source": [
    "# investigate = SEAA_X_val_trans.index.get_loc(38207)\n",
    "# print(SEAA_y_val_trans.iloc[investigate])"
   ]
  },
  {
   "cell_type": "code",
   "execution_count": null,
   "metadata": {
    "allow_embed": false,
    "cell_id": "c5656ef9216d4c688ace2032cbeccc6f",
    "deepnote_cell_type": "code",
    "deepnote_to_be_reexecuted": false,
    "execution_millis": 425,
    "execution_start": 1711912939847,
    "source_hash": null
   },
   "outputs": [],
   "source": [
    "# Waterfall on a prediction\n",
    "# plt.figure(figsize=(8,6))\n",
    "# shap.plots.waterfall(shap_values[investigate], max_display=20) # , show=False\n",
    "# plt.close()"
   ]
  },
  {
   "cell_type": "code",
   "execution_count": null,
   "metadata": {
    "allow_embed": false,
    "cell_id": "1565c0702db448cf8b4ff78f299cc421",
    "deepnote_cell_type": "code",
    "deepnote_to_be_reexecuted": false,
    "execution_millis": 410,
    "execution_start": 1711912939862,
    "source_hash": null
   },
   "outputs": [],
   "source": [
    "# Decision plot on a prediction\n",
    "# shap.decision_plot(explainer.expected_value, explainer.shap_values(SEAA_X_val_trans)[investigate], SEAA_X_val_trans, feature_display_range=slice(-1,-51,-1))"
   ]
  },
  {
   "cell_type": "markdown",
   "metadata": {
    "cell_id": "8b19569d41e04b719b36ee2823d2aea6",
    "deepnote_app_block_visible": false,
    "deepnote_cell_type": "text-cell-h1",
    "formattedRanges": [],
    "is_collapsed": false
   },
   "source": [
    "# Global Region"
   ]
  },
  {
   "cell_type": "markdown",
   "metadata": {
    "cell_id": "19cb22913eef4ffa88dbaf687c662905",
    "deepnote_cell_type": "text-cell-h2",
    "formattedRanges": []
   },
   "source": [
    "## Import the Data"
   ]
  },
  {
   "cell_type": "code",
   "execution_count": null,
   "metadata": {
    "allow_embed": false,
    "cell_id": "eb649a9121ad46a39d45fbb896b836ca",
    "deepnote_cell_type": "code",
    "deepnote_to_be_reexecuted": false,
    "execution_millis": 2186,
    "execution_start": 1711912939863,
    "source_hash": null
   },
   "outputs": [],
   "source": [
    "X_train_trans, X_val_trans, X_holdout_trans, y_train_trans, y_val_trans, y_holdout_trans = cf.import_data(location_name='GLOB')"
   ]
  },
  {
   "cell_type": "markdown",
   "metadata": {
    "cell_id": "717ea3d656a2413d86a6ea4ed0e4afb3",
    "deepnote_app_block_visible": false,
    "deepnote_cell_type": "text-cell-h2",
    "formattedRanges": [],
    "is_collapsed": false
   },
   "source": [
    "## Hyperparameter Tuning"
   ]
  },
  {
   "cell_type": "markdown",
   "metadata": {
    "cell_id": "af258738cec147d690555c2668e6d812",
    "deepnote_cell_type": "text-cell-h3",
    "formattedRanges": []
   },
   "source": [
    "### Execute Hyperparameter search"
   ]
  },
  {
   "cell_type": "code",
   "execution_count": null,
   "metadata": {
    "allow_embed": false,
    "cell_id": "7dd2e8f253624c35be1e205febdbf29f",
    "deepnote_cell_type": "code",
    "deepnote_to_be_reexecuted": false,
    "execution_millis": 6366559,
    "execution_start": 1711912942051,
    "source_hash": null
   },
   "outputs": [],
   "source": [
    "# Instantiate Neptune instance\n",
    "run = neptune.init_run(\n",
    "    name=\"RandomForest Reg Global\",\n",
    "    tags=[\"RandomForest\", \"regression\", \"hyperopt\", \"MAE\", \"Global\", \"GLOB\"],\n",
    "    description=\"RandomForest Hyperopt with MAE on Global\"\n",
    ")\n",
    "\n",
    "# Create the Trials object\n",
    "GLOB_trials = Trials()\n",
    "\n",
    "# Create the fmin object\n",
    "GLOB_best_hyperparams = fmin(fn = objective,\n",
    "                            space = space,\n",
    "                            algo = tpe.suggest,\n",
    "                            max_evals = 1000,\n",
    "                            trials = GLOB_trials,\n",
    "                            show_progressbar=True,\n",
    "                            early_stop_fn=no_progress_loss(100))\n",
    "\n",
    "# Stop Neptune instance\n",
    "run.stop()\n",
    "\n",
    "GLOB_best_trial = GLOB_trials.best_trial\n",
    "GLOB_best_hps = GLOB_best_hyperparams.copy()\n",
    "\n",
    "GLOB_best_hps['max_features'] = ['sqrt', 'log2', None][GLOB_best_hps['max_features']]\n",
    "GLOB_best_hps['n_estimators'] = int(GLOB_best_hps['n_estimators'])\n",
    "GLOB_best_hps['min_samples_split'] = int(GLOB_best_hps['min_samples_split'])\n",
    "GLOB_best_hps['min_samples_leaf'] = int(GLOB_best_hps['min_samples_leaf'])\n",
    "GLOB_best_hps['max_leaf_nodes'] = int(GLOB_best_hps['max_leaf_nodes'])"
   ]
  },
  {
   "cell_type": "markdown",
   "metadata": {
    "cell_id": "b9cec0012edb4d96a5195bacdb0d4034",
    "deepnote_cell_type": "text-cell-h3",
    "formattedRanges": []
   },
   "source": [
    "### Review the Hyperparameter Search Validation MAE Scores and Hyperparameters"
   ]
  },
  {
   "cell_type": "code",
   "execution_count": null,
   "metadata": {
    "allow_embed": false,
    "cell_id": "5d04f511561c4d46add3ec15727c17cd",
    "deepnote_cell_type": "code",
    "deepnote_to_be_reexecuted": false,
    "execution_millis": 146,
    "execution_start": 1711919308613,
    "source_hash": null
   },
   "outputs": [],
   "source": [
    "# What's the best trial from the search? Report the MAE & StdDev\n",
    "print(f\"Best Mean Absolute Error: {GLOB_trials.best_trial['result']['loss']:.4f}\")\n",
    "print(f\"Best Standard Error: {GLOB_trials.best_trial['result']['std']:.4f}\")"
   ]
  },
  {
   "cell_type": "code",
   "execution_count": null,
   "metadata": {
    "allow_embed": false,
    "cell_id": "2894c8cf419745898ae1b66ff92f3ab1",
    "deepnote_cell_type": "code",
    "deepnote_to_be_reexecuted": false,
    "execution_millis": 144,
    "execution_start": 1711919308616,
    "source_hash": null
   },
   "outputs": [],
   "source": [
    "# Display the best hyperparameters\n",
    "GLOB_best_hps"
   ]
  },
  {
   "cell_type": "markdown",
   "metadata": {
    "cell_id": "6bf346ebbc164179ba5473bd1901dcc7",
    "deepnote_cell_type": "text-cell-h2",
    "formattedRanges": []
   },
   "source": [
    "## Recreate the model and get new MAE and Feature Importance"
   ]
  },
  {
   "cell_type": "code",
   "execution_count": null,
   "metadata": {
    "allow_embed": false,
    "cell_id": "fbd60af48f5c42a88c9bc3d8f9908e65",
    "deepnote_cell_type": "code",
    "deepnote_to_be_reexecuted": false,
    "execution_millis": 77313,
    "execution_start": 1711919308619,
    "source_hash": null
   },
   "outputs": [],
   "source": [
    "# Recreate the model with the best hyperparameters\n",
    "GLOB_model = cf.model_score(hps=GLOB_best_hps, model_type='rf', holdout=True, val=True, Xtt=X_train_trans, ytt=y_train_trans, Xvt=X_val_trans, yvt=y_val_trans, Xht=X_holdout_trans, yht=y_holdout_trans)\n",
    "\n",
    "# Plot the feature importance\n",
    "cf.plot_feat_importance(GLOB_model)"
   ]
  },
  {
   "cell_type": "markdown",
   "metadata": {
    "cell_id": "ff8747bedac449f99a700a5a0f64bf85",
    "deepnote_app_block_visible": false,
    "deepnote_cell_type": "text-cell-h2",
    "formattedRanges": [],
    "is_collapsed": false
   },
   "source": [
    "## Feature Ablation"
   ]
  },
  {
   "cell_type": "code",
   "execution_count": null,
   "metadata": {
    "allow_embed": false,
    "cell_id": "62a999542e364ea5827ddd016981eef7",
    "deepnote_cell_type": "code",
    "deepnote_to_be_reexecuted": false,
    "execution_millis": 4058737,
    "execution_start": 1711919385935,
    "source_hash": null
   },
   "outputs": [],
   "source": [
    "%%time\n",
    "# First run through the feature ablation process\n",
    "# This will determine which features can potentially be removed\n",
    "GLOB_feature_ablation_df, GLOB_baseline_mae_val, GLOB_baseline_mae_train = cf.feat_ablation(\n",
    "    model=GLOB_model, hps=GLOB_best_hps, model_type='rf',\n",
    "    Xtt=X_train_trans, ytt=y_train_trans, \n",
    "    Xvt=X_val_trans, yvt=y_val_trans, \n",
    "    Xht=X_holdout_trans, yht=y_holdout_trans)"
   ]
  },
  {
   "cell_type": "code",
   "execution_count": null,
   "metadata": {
    "allow_embed": false,
    "cell_id": "9a777742ed3a44019ae77e201435fc73",
    "deepnote_cell_type": "code",
    "deepnote_to_be_reexecuted": false,
    "execution_millis": 165,
    "execution_start": 1711923444674,
    "source_hash": null
   },
   "outputs": [],
   "source": [
    "# Show the feature ablation dataframe, sorted by the change in MAE to Validation data\n",
    "GLOB_feature_ablation_df.sort_values('Val_MAE_Change', ascending=False)"
   ]
  },
  {
   "cell_type": "code",
   "execution_count": null,
   "metadata": {
    "allow_embed": false,
    "cell_id": "98f3d0ef92af4a539f9f8312594f4ee6",
    "deepnote_cell_type": "code",
    "deepnote_to_be_reexecuted": false,
    "execution_millis": 238,
    "execution_start": 1711923444721,
    "source_hash": null
   },
   "outputs": [],
   "source": [
    "%%time\n",
    "\n",
    "GLOB_feat_ablation_len = len(GLOB_feature_ablation_df[GLOB_feature_ablation_df['Val_MAE'] <= GLOB_baseline_mae_val].sort_values('Val_MAE_Change', ascending=False)['Removed_Feature'])\n",
    "\n",
    "if GLOB_feat_ablation_len > 0:\n",
    "    # Generate the top features to use in feature ablation combinations\n",
    "    GLOB_abl_list_to_combo = GLOB_feature_ablation_df[GLOB_feature_ablation_df['Val_MAE'] <= GLOB_baseline_mae_val].sort_values('Val_MAE_Change', ascending=False)['Removed_Feature'].head(5).to_list()\n",
    "\n",
    "    # Second run through the feature ablation process\n",
    "    # This time including the top 5 features whose removal decreased the MAE\n",
    "    # These top 5 features will be combined using itertools, and retested \n",
    "    GLOB_feature_ablation_df, GLOB_baseline_mae_val, GLOB_baseline_mae_train = cf.feat_ablation(\n",
    "        model=GLOB_model, hps=GLOB_best_hps, model_type='rf',\n",
    "        Xtt=X_train_trans, ytt=y_train_trans, \n",
    "        Xvt=X_val_trans, yvt=y_val_trans, \n",
    "        Xht=X_holdout_trans, yht=y_holdout_trans, \n",
    "        abl_list_to_combo=GLOB_abl_list_to_combo)\n",
    "\n",
    "    # Show the top 1 feature that decreased the MAE in the second ablation run, which we'll remove.  \n",
    "    # Might be multiple features due to itertools combinations, so we split the string\n",
    "    GLOB_drop_cols = GLOB_feature_ablation_df[GLOB_feature_ablation_df['Val_MAE'] <= GLOB_baseline_mae_val].sort_values('Val_MAE_Change', ascending=False)['Removed_Feature'].head(1).values[0].split(', ')\n",
    "\n",
    "    # Create the feature columns list for saving out\n",
    "    GLOB_feat_columns = X_train_trans.drop(columns=GLOB_drop_cols).columns.to_list()\n",
    "\n",
    "    # Recreate the model with the dropped columns\n",
    "    # It should have a lower MAE score than the original\n",
    "    GLOB_experiment_model = cf.model_score(\n",
    "        GLOB_best_hps, val=True, model_type='rf',\n",
    "        Xtt=X_train_trans.drop(columns=GLOB_drop_cols), ytt=y_train_trans, \n",
    "        Xvt=X_val_trans.drop(columns=GLOB_drop_cols), yvt=y_val_trans, \n",
    "        Xht=X_holdout_trans.drop(columns=GLOB_drop_cols), yht=y_holdout_trans)\n",
    "\n",
    "    # Plot the feature importance for this model\n",
    "    cf.plot_feat_importance(GLOB_experiment_model)\n",
    "\n",
    "else:\n",
    "    GLOB_feat_columns = X_train_trans.columns.to_list()\n",
    "\n"
   ]
  },
  {
   "cell_type": "markdown",
   "metadata": {
    "cell_id": "4c5af566f3944ce6b2da0af90c7946c9",
    "deepnote_cell_type": "text-cell-h3",
    "formattedRanges": []
   },
   "source": [
    "### Output the Model, Trials, Parameters and Feature List to disk"
   ]
  },
  {
   "cell_type": "code",
   "execution_count": null,
   "metadata": {
    "allow_embed": false,
    "cell_id": "fd4de7c0f9c04411b6047ef4306271a3",
    "deepnote_cell_type": "code",
    "deepnote_to_be_reexecuted": false,
    "execution_millis": 2582,
    "execution_start": 1711932555730,
    "source_hash": null
   },
   "outputs": [],
   "source": [
    "# Write out the model artifacts to disk\n",
    "cf.write_out(model=GLOB_model, trials=GLOB_trials, params=GLOB_best_hps, feat_cols=GLOB_feat_columns, model_family='randomforest_reg', location_name='GLOB')"
   ]
  },
  {
   "cell_type": "markdown",
   "metadata": {
    "cell_id": "878b23184a9f46e3bb6fb68406298b64",
    "deepnote_app_block_visible": false,
    "deepnote_cell_type": "text-cell-h2",
    "formattedRanges": [],
    "is_collapsed": false
   },
   "source": [
    "## Review Holdout Truth vs Predictions"
   ]
  },
  {
   "cell_type": "code",
   "execution_count": null,
   "metadata": {
    "allow_embed": false,
    "cell_id": "e5898c1a530c462b85c13edbb85fb8eb",
    "deepnote_cell_type": "code",
    "deepnote_to_be_reexecuted": false,
    "execution_millis": 610,
    "execution_start": 1711932558318,
    "source_hash": null
   },
   "outputs": [],
   "source": [
    "eval_df = y_val_trans.copy(deep=True)\n",
    "GLOB_val_pred = GLOB_model.predict(X_val_trans)\n",
    "eval_df['predictions'] = GLOB_val_pred.tolist()\n",
    "eval_df['diff'] = eval_df['y_val'] - eval_df['predictions']"
   ]
  },
  {
   "cell_type": "code",
   "execution_count": null,
   "metadata": {
    "allow_embed": false,
    "cell_id": "93caa438dbcf477bb9b24354a1146af1",
    "deepnote_cell_type": "code",
    "deepnote_to_be_reexecuted": false,
    "execution_millis": 321,
    "execution_start": 1711932558934,
    "source_hash": null
   },
   "outputs": [],
   "source": [
    "eval_df.sort_values(by='diff', ascending=False).head(20)"
   ]
  },
  {
   "cell_type": "code",
   "execution_count": null,
   "metadata": {
    "allow_embed": false,
    "cell_id": "73ffd0b7420f46b6ab70e52a65bca79a",
    "deepnote_cell_type": "code",
    "deepnote_to_be_reexecuted": false,
    "execution_millis": 822,
    "execution_start": 1711932558960,
    "source_hash": null
   },
   "outputs": [],
   "source": [
    "fig = px.histogram(eval_df[eval_df['y_val'] > 5], x='diff', nbins=100, title='Distribution of the diff between prediction and holdout where true value > 5')\n",
    "\n",
    "# Show the plot\n",
    "fig.show()"
   ]
  },
  {
   "cell_type": "code",
   "execution_count": null,
   "metadata": {
    "allow_embed": false,
    "cell_id": "997eccde985d49b0a25eff3f5ea79e30",
    "deepnote_cell_type": "code",
    "deepnote_table_loading": false,
    "deepnote_table_state": {
     "filters": [],
     "pageIndex": 1,
     "pageSize": 10,
     "sortBy": []
    },
    "deepnote_to_be_reexecuted": false,
    "execution_millis": 715,
    "execution_start": 1711932559067,
    "source_hash": null
   },
   "outputs": [],
   "source": [
    "#eval_df[(eval_df['diff'].between(-5,5))]\n",
    "#eval_df[(eval_df['diff'].between(-5,5)) & (eval_df['y_val'] > 5)]\n",
    "eval_df[~(eval_df['diff'].between(-5,5))]\n"
   ]
  },
  {
   "cell_type": "markdown",
   "metadata": {
    "cell_id": "621b7001d155492d9f20920a55a6a58a",
    "deepnote_cell_type": "text-cell-h2",
    "formattedRanges": []
   },
   "source": [
    "## SHAP Analysis"
   ]
  },
  {
   "cell_type": "markdown",
   "metadata": {
    "cell_id": "ae41e62150584831a62b1d8a5cd598cd",
    "deepnote_cell_type": "text-cell-h3",
    "formattedRanges": []
   },
   "source": [
    "### Create SHAP Objects"
   ]
  },
  {
   "cell_type": "code",
   "execution_count": null,
   "metadata": {
    "allow_embed": false,
    "cell_id": "df6bf15eb054462ea451e13e7da77e46",
    "deepnote_cell_type": "code",
    "deepnote_to_be_reexecuted": false,
    "execution_millis": 596,
    "execution_start": 1711932559186,
    "source_hash": null
   },
   "outputs": [],
   "source": [
    "# %%time\n",
    "# GLOB_X_val_trans = X_val_trans.copy(deep=True)\n",
    "# GLOB_y_val_trans = y_val_trans.copy(deep=True)\n",
    "# explainer = shap.TreeExplainer(GLOB_model)\n",
    "# shap_values = explainer(GLOB_X_val_trans)\n",
    "# shap_interaction = explainer.shap_interaction_values(GLOB_X_val_trans)\n",
    "# sv = explainer.shap_values(GLOB_X_val_trans)\n",
    "# shap.initjs()"
   ]
  },
  {
   "cell_type": "code",
   "execution_count": null,
   "metadata": {
    "allow_embed": false,
    "cell_id": "289c0ffcd1b94cbeb8bb66906d45b4fc",
    "deepnote_cell_type": "code",
    "deepnote_to_be_reexecuted": false,
    "execution_millis": 591,
    "execution_start": 1711932559192,
    "source_hash": null
   },
   "outputs": [],
   "source": [
    "# Beeswarm Importance\n",
    "# plt.figure(figsize=(8,6))\n",
    "# plt.title(f\"SHAP Beeswarm Analysis\")\n",
    "# shap.plots.beeswarm(shap_values, max_display=32)\n",
    "# plt.close()"
   ]
  },
  {
   "cell_type": "markdown",
   "metadata": {
    "cell_id": "95a73a1bf99343f999badf44db047194",
    "deepnote_cell_type": "text-cell-h3",
    "formattedRanges": []
   },
   "source": [
    "### Investigate Individual Predictions"
   ]
  },
  {
   "cell_type": "code",
   "execution_count": null,
   "metadata": {
    "allow_embed": false,
    "cell_id": "f08b80606364457ea038710580cab1db",
    "deepnote_cell_type": "code",
    "deepnote_to_be_reexecuted": false,
    "execution_millis": 581,
    "execution_start": 1711932559202,
    "source_hash": null
   },
   "outputs": [],
   "source": [
    "# investigate = GLOB_X_val_trans.index.get_loc(39332)\n",
    "# print(GLOB_y_val_trans.iloc[investigate])"
   ]
  },
  {
   "cell_type": "code",
   "execution_count": null,
   "metadata": {
    "allow_embed": false,
    "cell_id": "df07b8dabd554e2aa9ccfa3e008b8a1d",
    "deepnote_cell_type": "code",
    "deepnote_to_be_reexecuted": false,
    "execution_millis": 531,
    "execution_start": 1711932559252,
    "source_hash": null
   },
   "outputs": [],
   "source": [
    "# Waterfall on a prediction\n",
    "# plt.figure(figsize=(8,6))\n",
    "# shap.plots.waterfall(shap_values[investigate], max_display=20) # , show=False\n",
    "# plt.close()"
   ]
  },
  {
   "cell_type": "code",
   "execution_count": null,
   "metadata": {
    "allow_embed": false,
    "cell_id": "88a4495bc68440c098d6df522cadb164",
    "deepnote_cell_type": "code",
    "deepnote_to_be_reexecuted": false,
    "execution_millis": 531,
    "execution_start": 1711932559253,
    "source_hash": null
   },
   "outputs": [],
   "source": [
    "# Decision plot on a prediction\n",
    "# shap.decision_plot(explainer.expected_value, explainer.shap_values(GLOB_X_val_trans)[investigate], GLOB_X_val_trans, feature_display_range=slice(-1,-51,-1))"
   ]
  }
 ],
 "metadata": {
  "deepnote_execution_queue": [],
  "deepnote_notebook_id": "25a9598fb5364ed1a880834db0c6da51",
  "kernelspec": {
   "display_name": "Python 3 (ipykernel)",
   "language": "python",
   "name": "python3"
  },
  "language_info": {
   "codemirror_mode": {
    "name": "ipython",
    "version": 3
   },
   "file_extension": ".py",
   "mimetype": "text/x-python",
   "name": "python",
   "nbconvert_exporter": "python",
   "pygments_lexer": "ipython3",
   "version": "3.11.5"
  }
 },
 "nbformat": 4,
 "nbformat_minor": 1
}
