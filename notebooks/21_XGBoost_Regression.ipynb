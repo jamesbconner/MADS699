{
 "cells": [
  {
   "cell_type": "markdown",
   "metadata": {
    "formattedRanges": [],
    "cell_id": "9ddedbd774ee42dfb23fb7c1f48ad8b6",
    "deepnote_cell_type": "text-cell-h1"
   },
   "source": [
    "# Regression - XGBoost"
   ],
   "block_group": "32f6fa1f7f994b23b0b2b2dc8b0bf23f"
  },
  {
   "cell_type": "markdown",
   "metadata": {
    "formattedRanges": [],
    "cell_id": "64d0f9fb1cc54c2f90efbe2002881b93",
    "deepnote_cell_type": "text-cell-h2"
   },
   "source": [
    "## Notebook Setup"
   ],
   "block_group": "29ed4039cfd54b349b8f3d87d7145ed2"
  },
  {
   "cell_type": "markdown",
   "metadata": {
    "formattedRanges": [],
    "cell_id": "79cc8ff5432b465fa19115c30859449d",
    "deepnote_cell_type": "text-cell-h3"
   },
   "source": [
    "### Import Libraries"
   ],
   "block_group": "30174eb3e1644d56a9722f4cadbae9ea"
  },
  {
   "cell_type": "code",
   "metadata": {
    "source_hash": null,
    "execution_start": 1711895102135,
    "execution_millis": 2132,
    "deepnote_to_be_reexecuted": false,
    "cell_id": "a8aab298eb8f4a1b9f7aadef9b37dc53",
    "deepnote_cell_type": "code"
   },
   "source": [
    "# Import Standard Libraries\n",
    "import os\n",
    "import datetime\n",
    "import pickle\n",
    "import itertools\n",
    "import pandas as pd\n",
    "import numpy as np\n",
    "\n",
    "# Import Visualization Libraries\n",
    "import seaborn as sns\n",
    "import matplotlib.pyplot as plt\n",
    "import plotly.express as px\n",
    "import plotly.graph_objects as go\n",
    "import shap"
   ],
   "block_group": "05c857c6f7da4c33843aa801a1f1d5eb",
   "execution_count": null,
   "outputs": [],
   "outputs_reference": "dbtable:cell_outputs/4b4ddedd-3f91-4fcf-ab94-d85d83877858"
  },
  {
   "cell_type": "code",
   "metadata": {
    "source_hash": null,
    "execution_start": 1711895106948,
    "execution_millis": 620,
    "deepnote_to_be_reexecuted": false,
    "cell_id": "afd8222f300d4d128772ffdc262fec11",
    "deepnote_cell_type": "code"
   },
   "source": [
    "# Import Modeling Libraries\n",
    "import xgboost as xgb\n",
    "from sklearn import set_config\n",
    "from sklearn.model_selection import KFold, cross_val_score\n",
    "from sklearn.metrics import r2_score, mean_absolute_error, mean_squared_error\n",
    "from hyperopt import STATUS_OK, Trials, fmin, hp, tpe\n",
    "from hyperopt.early_stop import no_progress_loss\n",
    "import neptune"
   ],
   "block_group": "bbc9a4f4fb38400583bcd92244ffeb26",
   "execution_count": null,
   "outputs": [],
   "outputs_reference": null
  },
  {
   "cell_type": "code",
   "metadata": {
    "source_hash": null,
    "execution_start": 1711895109515,
    "execution_millis": 69,
    "deepnote_to_be_reexecuted": false,
    "cell_id": "22c4b48132454307bb0a7c28ac157c0b",
    "deepnote_cell_type": "code"
   },
   "source": [
    "# Pandas Configs\n",
    "pd.set_option('mode.chained_assignment', None)\n",
    "pd.options.display.float_format = '{:.2f}'.format\n",
    "pd.options.display.max_columns = None\n",
    "pd.options.display.max_rows = None\n",
    "\n",
    "# Ignore Warnings\n",
    "import warnings\n",
    "warnings.simplefilter('ignore', category=FutureWarning)\n",
    "warnings.simplefilter('ignore', category=UserWarning)\n",
    "warnings.simplefilter(action=\"ignore\", category=pd.errors.PerformanceWarning)\n",
    "\n",
    "# MapBox Token for Plotly Maps\n",
    "px.set_mapbox_access_token(os.environ.get(\"MAPBOX_TOKEN\"))\n",
    "\n",
    "# Scikit Learn Configs\n",
    "set_config(transform_output=\"pandas\")"
   ],
   "block_group": "3843638c580f457a96c6f8b9104151a1",
   "execution_count": null,
   "outputs": [],
   "outputs_reference": null
  },
  {
   "cell_type": "markdown",
   "metadata": {
    "formattedRanges": [],
    "cell_id": "70fe14ff363c4940b1ad0d98506e95de",
    "deepnote_cell_type": "text-cell-h3"
   },
   "source": [
    "### Common Functions"
   ],
   "block_group": "f5c9bdc5f12f4922b8611bc7e4495a2f"
  },
  {
   "cell_type": "code",
   "metadata": {
    "source_hash": null,
    "execution_start": 1711895111418,
    "execution_millis": 2027,
    "deepnote_to_be_reexecuted": false,
    "cell_id": "d48d49fa6cc342b8bc0ef0863e496da8",
    "deepnote_cell_type": "code"
   },
   "source": [
    "def import_data(common_path=\"/work/data\", xy_path=\"Xy_Data\", location_name='CARB'):\n",
    "    \"\"\"\n",
    "    This function imports the data from the specified data path and location geography\n",
    "    \"\"\"\n",
    "\n",
    "    data_path = os.path.join(common_path, xy_path)\n",
    "\n",
    "    # Import the training, validation and holdout data\n",
    "    X_train_trans = pd.read_parquet(f\"{data_path}/X_train_trans_{location_name}.parquet\")\n",
    "    X_val_trans = pd.read_parquet(f\"{data_path}/X_val_trans_{location_name}.parquet\")\n",
    "    X_holdout_trans = pd.read_parquet(f\"{data_path}/X_holdout_trans_{location_name}.parquet\")\n",
    "\n",
    "    y_train = pd.read_parquet(f\"{data_path}/y_train_{location_name}.parquet\")\n",
    "    y_val = pd.read_parquet(f\"{data_path}/y_val_{location_name}.parquet\")\n",
    "    y_holdout = pd.read_parquet(f\"{data_path}/y_holdout_{location_name}.parquet\")\n",
    "\n",
    "    # y is not transformed\n",
    "    y_train_trans = y_train\n",
    "    y_val_trans = y_val\n",
    "    y_holdout_trans = y_holdout\n",
    "\n",
    "    return X_train_trans, X_val_trans, X_holdout_trans, y_train_trans, y_val_trans, y_holdout_trans\n",
    "\n",
    "# Import some data temporarily, as some of the other functions use the Xy data in argument defaults\n",
    "X_train_trans, X_val_trans, X_holdout_trans, y_train_trans, y_val_trans, y_holdout_trans = import_data(location_name='CARB')"
   ],
   "block_group": "9660e1c6e12b411ca148a862863d70c0",
   "execution_count": null,
   "outputs": [],
   "outputs_reference": null
  },
  {
   "cell_type": "code",
   "metadata": {
    "source_hash": null,
    "execution_start": 1711895113447,
    "execution_millis": 106,
    "deepnote_to_be_reexecuted": false,
    "cell_id": "8cdeb3a4ad044fa4be1b6be29863a863",
    "deepnote_cell_type": "code"
   },
   "source": [],
   "block_group": "a0f5294babae4354bee00c36c05a0ad9",
   "execution_count": null,
   "outputs": [],
   "outputs_reference": null
  },
  {
   "cell_type": "code",
   "metadata": {
    "source_hash": null,
    "execution_start": 1711895113452,
    "execution_millis": 114,
    "deepnote_to_be_reexecuted": false,
    "cell_id": "886a24c078ca40caa7d2a241ed2ca578",
    "deepnote_cell_type": "code"
   },
   "source": [
    "def objective(space):\n",
    "    \"\"\"\n",
    "    This is the XGBoost hyperparam objective function\n",
    "    Hyperparams are passed into this function, which are then used in the model object\n",
    "    The model object is then used in the cross_val_scores function \n",
    "    This results in a list of MAE scores, which are then returned as \n",
    "      the loss and std vars to the trials object\n",
    "    \"\"\"\n",
    "    model=xgb.XGBRegressor(\n",
    "                    n_estimators =int(space['n_estimators']), \n",
    "                    max_depth = int(space['max_depth']), \n",
    "                    gamma = space['gamma'],\n",
    "                    reg_alpha = int(space['reg_alpha']),\n",
    "                    min_child_weight=int(space['min_child_weight']), \n",
    "                    eta=space['eta'],\n",
    "                    colsample_bytree=space['colsample_bytree'], \n",
    "                    objective=\"reg:absoluteerror\",\n",
    "                    eval_metric=\"mae\", n_jobs=-1, tree_method='hist')\n",
    "    \n",
    "    evaluation = [( X_train_trans, y_train_trans ), ( X_holdout_trans, y_holdout_trans )]\n",
    "\n",
    "    kf = KFold(n_splits=5, shuffle=True, random_state=42)\n",
    "    mae_scores = -cross_val_score(model, X_train_trans, y_train_trans, cv=kf, scoring='neg_mean_absolute_error')\n",
    "    mean_mae = mae_scores.mean()\n",
    "    std_mae = mae_scores.std()\n",
    "\n",
    "    # Emit params and metrics to Neptune\n",
    "    run[\"parameters/max_depth\"].log(space['max_depth'])\n",
    "    run[\"parameters/eta\"].log(space['eta'])\n",
    "    run[\"parameters/gamma\"].log(space['gamma'])\n",
    "    run[\"parameters/reg_alpha\"].log(space['reg_alpha'])\n",
    "    run[\"parameters/reg_lambda\"].log(space['reg_lambda'])\n",
    "    run[\"parameters/colsample_bytree\"].log(space['colsample_bytree'])\n",
    "    run[\"parameters/min_child_weight\"].log(space['min_child_weight'])\n",
    "    run[\"parameters/n_estimators\"].log(space['n_estimators'])\n",
    "    run['parameters/all_parameters'].log(str(space))\n",
    "    run['metrics/mae_scores'].log(str(mae_scores.tolist()))\n",
    "    run[\"metrics/mean_mae\"].log(mean_mae)\n",
    "    run[\"metrics/std_mae\"].log(std_mae)\n",
    "\n",
    "    return {'loss': mean_mae, 'status': STATUS_OK, 'std': std_mae}"
   ],
   "block_group": "570d02885298436ab0a34273dd10239d",
   "execution_count": null,
   "outputs": [],
   "outputs_reference": null
  },
  {
   "cell_type": "code",
   "metadata": {
    "source_hash": null,
    "execution_start": 1711895114000,
    "execution_millis": 46,
    "deepnote_to_be_reexecuted": false,
    "cell_id": "598a5b3b9fb645e7931c437a790445d7",
    "deepnote_cell_type": "code"
   },
   "source": [
    "def model_score(hps, val=True, train=False, holdout=False, Xtt=X_train_trans, ytt=y_train_trans, Xvt=X_val_trans, yvt=y_val_trans, Xht=X_holdout_trans, yht=y_holdout_trans):\n",
    "    \"\"\"\n",
    "    This function rebuilds the model with the desired hyperparameters\n",
    "    val: True will evaluate the model on the validation data\n",
    "    holdout: True will evaluate the model on the holdout data\n",
    "    train: True will evaluate the model on the train data\n",
    "    Xtt: X_train_trans\n",
    "    ytt: y_train_trans\n",
    "    Xvt: X_val_trans\n",
    "    yvt: y_val_trans\n",
    "    Xht: X_holdout_trans\n",
    "    yht: y_holdout_trans\n",
    "    \"\"\"\n",
    "\n",
    "    # Rebuild model\n",
    "    model = xgb.XGBRegressor(**hps)\n",
    "    model.fit(Xtt, ytt)\n",
    "\n",
    "    # Evaluate model and print results\n",
    "    if train:\n",
    "        # Evaluation on train data\n",
    "        train_pred = model.predict(Xtt)\n",
    "        train_mae = mean_absolute_error(ytt, train_pred)\n",
    "        train_mse = mean_squared_error(ytt, train_pred)\n",
    "        train_rmse = mean_squared_error(ytt, train_pred, squared=False)\n",
    "        train_rsq = r2_score(ytt, train_pred)\n",
    "        print(\" \")\n",
    "        print(f\"Train Mean Absolute Error: {train_mae:.4f}\")\n",
    "        print(f\"Train Mean Squared Error: {train_mse:.4f}\")\n",
    "        print(f\"Train Root Mean Squared Error: {train_rmse:.4f}\")\n",
    "        print(f\"Train R^2 Score: {train_rsq:.4f}\")\n",
    "\n",
    "    if val:\n",
    "        # Evaluation on validation data\n",
    "        val_pred = model.predict(Xvt)\n",
    "        val_mae = mean_absolute_error(yvt, val_pred)\n",
    "        val_mse = mean_squared_error(yvt, val_pred)\n",
    "        val_rmse = mean_squared_error(yvt, val_pred, squared=False)\n",
    "        val_rsq = r2_score(yvt, val_pred)\n",
    "        print(\" \")\n",
    "        print(f\"Validation Mean Absolute Error: {val_mae:.4f}\")\n",
    "        print(f\"Validation Mean Squared Error: {val_mse:.4f}\")\n",
    "        print(f\"Validation Root Mean Squared Error: {val_rmse:.4f}\")\n",
    "        print(f\"Validation R^2 Score: {val_rsq:.4f}\")\n",
    "\n",
    "    if holdout:\n",
    "        # Evaluation on holdout data\n",
    "        holdout_pred = model.predict(Xht)\n",
    "        holdout_mae = mean_absolute_error(yht, holdout_pred)\n",
    "        holdout_mse = mean_squared_error(yht, holdout_pred)\n",
    "        holdout_rmse = mean_squared_error(yht, holdout_pred, squared=False)\n",
    "        holdout_rsq = r2_score(yht, holdout_pred)\n",
    "        print(\" \")\n",
    "        print(f\"Holdout Mean Absolute Error: {holdout_mae:.4f}\")\n",
    "        print(f\"Holdout Mean Squared Error: {holdout_mse:.4f}\")\n",
    "        print(f\"Holdout Root Mean Squared Error: {holdout_rmse:.4f}\")\n",
    "        print(f\"Holdout R^2 Score: {holdout_rsq:.4f}\")\n",
    "\n",
    "    return model"
   ],
   "block_group": "3727a082acc74d6182de877cc8ddc676",
   "execution_count": null,
   "outputs": [],
   "outputs_reference": null
  },
  {
   "cell_type": "code",
   "metadata": {
    "source_hash": null,
    "execution_start": 1711895114997,
    "execution_millis": 66,
    "deepnote_to_be_reexecuted": false,
    "cell_id": "b7d97d86317645d4b71a606b2b423134",
    "deepnote_cell_type": "code"
   },
   "source": [
    "def plot_feat_importance(model):\n",
    "    \"\"\"\n",
    "    Plot the feature importance\n",
    "    model: The model object itself\n",
    "    \"\"\"\n",
    "    fi_df = pd.DataFrame({'Feature':model.feature_names_in_,'Importance':model.feature_importances_}).sort_values(by='Importance', ascending=True)\n",
    "    \n",
    "    # Plot the feature importance\n",
    "    fig = px.bar(fi_df, x=\"Importance\", y=\"Feature\", orientation='h', color_discrete_sequence=['darkorange'])\n",
    "    fig.update_xaxes(categoryorder='total ascending')\n",
    "    fig.update_layout(\n",
    "        title={\n",
    "            'text': \"Feature Importance For The Model\",\n",
    "            'x': 0.5, 'xanchor': 'center',\n",
    "            'y':0.90, 'yanchor':'top'},\n",
    "        xaxis=dict(title=\"Feature Importance\", title_standoff=2),\n",
    "        yaxis=dict(title=\"Feature\", title_standoff=0),\n",
    "        height=400, width=650)\n",
    "    fig.add_annotation(\n",
    "        dict(text=f\"Data Sources: Global Coral Beaching Database, World Bank WDI\\nMarine Ecoregions of the World\", x=0.5, y=-0.25, showarrow=False,\n",
    "            font=dict(\n",
    "                size=10,\n",
    "                color=\"grey\"),\n",
    "            xref=\"paper\", yref=\"paper\", align=\"center\"\n",
    "        )\n",
    "    )\n",
    "\n",
    "    fig.show()"
   ],
   "block_group": "621af0ad2cf14c4e8f356c824a53201b",
   "execution_count": null,
   "outputs": [],
   "outputs_reference": null
  },
  {
   "cell_type": "code",
   "metadata": {
    "source_hash": null,
    "execution_start": 1711895115971,
    "execution_millis": 94,
    "deepnote_to_be_reexecuted": false,
    "cell_id": "e1d26a8ae56b4dc783aae3ac8c3ca4dc",
    "deepnote_cell_type": "code"
   },
   "source": [
    "def write_out(model, trials, params, feat_cols=[], common_path=\"/work/models\", model_family=\"xgboost_reg\", location_name=\"CARB\"):\n",
    "    \"\"\"\n",
    "    Write out the model artifacts to disk\n",
    "    model: The model object itself\n",
    "    trial: The Hyperopt trials object\n",
    "    params: The best model hyperparameters from the trials object\n",
    "    common_path: The common path for model artifacts e.g. '/work/models'\n",
    "    model_family: The model family, e.g. 'xgboost_reg', 'lightgbm_reg'\n",
    "    location_name: The geography that the model is trained for, e.g. 'SEAA', 'CARB', 'GLOB'\n",
    "    \"\"\"\n",
    "    date_time_str = datetime.datetime.now().strftime(\"%Y%m%d_%H%M%S\")\n",
    "    model_path = os.path.join(common_path, model_family, location_name)\n",
    " \n",
    "    # make sure the path exists\n",
    "    os.makedirs(model_path, exist_ok=True)\n",
    "\n",
    "    # Write out the HyperOpt Trials object\n",
    "    with open(model_path+'/'+date_time_str+'_trials.pkl', 'wb') as f:\n",
    "        pickle.dump(trials, f)\n",
    "\n",
    "    # Write out the XGBoost Model Object\n",
    "    with open(model_path+'/'+date_time_str+'_model.pkl', 'wb') as f:\n",
    "        pickle.dump(model, f)\n",
    "\n",
    "    # Write out the XGBoost Best Params\n",
    "    with open(model_path+'/'+date_time_str+'_params.pkl', 'wb') as f:\n",
    "        pickle.dump(params, f)\n",
    "    \n",
    "    # Write out the feature columns if they exist\n",
    "    if len(feat_cols) > 0:\n",
    "        with open(model_path+'/'+date_time_str+'_feat_cols.pkl', 'wb') as f:\n",
    "            pickle.dump(feat_cols, f)"
   ],
   "block_group": "1b88100b784648c2b6425083bc317439",
   "execution_count": null,
   "outputs": [],
   "outputs_reference": null
  },
  {
   "cell_type": "code",
   "metadata": {
    "source_hash": null,
    "execution_start": 1711895118286,
    "execution_millis": 89,
    "deepnote_to_be_reexecuted": false,
    "cell_id": "f426a7877e8c4e81b29484a5d5a95bbb",
    "deepnote_cell_type": "code"
   },
   "source": [
    "def feat_ablation(model, hps, Xtt, ytt, Xvt, yvt, Xht, yht, abl_list_to_combo=[]):\n",
    "    \"\"\"\n",
    "    Perform feature ablation analysis\n",
    "    model: The model object itself\n",
    "    Xtt: X_train_trans\n",
    "    ytt: y_train_trans\n",
    "    Xvt: X_val_trans\n",
    "    yvt: y_val_trans\n",
    "    Xht: X_holdout_trans\n",
    "    yht: y_holdout_trans\n",
    "    \"\"\"\n",
    "    \n",
    "    # Create the base model object with hyperparameters\n",
    "    # Note: this model will be refit during the ablation loop\n",
    "    abl_model = model_score(hps, Xtt=Xtt, ytt=ytt, Xvt=Xvt, yvt=yvt, Xht=Xht, yht=yht, train=False, val=False, holdout=False)\n",
    "    \n",
    "    # Evaluation on train data\n",
    "    train_pred = abl_model.predict(Xtt)\n",
    "    baseline_mae_train = mean_absolute_error(ytt, train_pred)\n",
    "    \n",
    "    # Evaluation on validation data\n",
    "    val_pred = abl_model.predict(Xvt)\n",
    "    baseline_mae_val = mean_absolute_error(yvt, val_pred)\n",
    "\n",
    "    print(f\"Baseline Mean MAE: {baseline_mae_train:.4f}, Validation MAE: {baseline_mae_val:.4f}\")\n",
    "\n",
    "\n",
    "    # Features for ablation \n",
    "    # Start with all features\n",
    "    abl_list = [[x] for x in Xtt.columns]\n",
    "\n",
    "    # Now create combos of features passed in as abl_list_to_combo\n",
    "    # Create combos of all items in abl_list_to_combo\n",
    "    # Range stars at 2 to skip single columns\n",
    "    abl_combo_list = [combo for r in range(2, len(abl_list_to_combo) + 1) \n",
    "        for combo in itertools.combinations(abl_list_to_combo, r)]\n",
    "\n",
    "    # Itertools combinations() creates tuples. \n",
    "    #   Convert each combination from a tuple to a list for ablation\n",
    "    abl_combo_list = [list(combo) for combo in abl_combo_list]\n",
    "\n",
    "    # Add the ablation combos to the ablation list\n",
    "    abl_list = abl_list + abl_combo_list\n",
    "\n",
    "\n",
    "    # Create the ablation loop\n",
    "    ablation_results_list = []\n",
    "\n",
    "    # Feat ablation loop\n",
    "    for feature in abl_list:\n",
    "        # drop ablated cols\n",
    "        modified_X_train_trans = Xtt.drop(columns=feature)\n",
    "        modified_X_val_trans = Xvt.drop(columns=feature)\n",
    "\n",
    "        # Fit the model with ablated features        \n",
    "        abl_model.fit(modified_X_train_trans, ytt)\n",
    "\n",
    "        # Evaluation on train data\n",
    "        modified_train_predictions = abl_model.predict(modified_X_train_trans)\n",
    "        modified_mae_train = mean_absolute_error(ytt, modified_train_predictions)\n",
    "\n",
    "        # Evaluation on validation data\n",
    "        modified_val_predictions = abl_model.predict(modified_X_val_trans)\n",
    "        modified_mae_val = mean_absolute_error(yvt, modified_val_predictions)\n",
    "        \n",
    "        # Calculate MAE changes\n",
    "        mae_change_train = baseline_mae_train - modified_mae_train\n",
    "        mae_change_val = baseline_mae_val - modified_mae_val\n",
    "\n",
    "        ablation_result_dict = {\n",
    "            'Removed_Feature': \", \".join(feature),\n",
    "            'Train_MAE': modified_mae_train,\n",
    "            'Train_MAE_Change': mae_change_train,\n",
    "            'Train_MAE_Pct_Change': 100*(1-(modified_mae_train/baseline_mae_train)),\n",
    "            'Val_MAE': modified_mae_val,\n",
    "            'Val_MAE_Change': mae_change_val,\n",
    "            'Val_MAE_Pct_Change': 100*(1-(modified_mae_val/baseline_mae_val))\n",
    "        }\n",
    "        \n",
    "        ablation_results_list.append(ablation_result_dict)\n",
    "    \n",
    "    feature_ablation_df = pd.DataFrame(ablation_results_list)\n",
    "    \n",
    "    return feature_ablation_df, baseline_mae_val, baseline_mae_train"
   ],
   "block_group": "0c78b8575d3e4fed8c1258672fbd63cf",
   "execution_count": null,
   "outputs": [],
   "outputs_reference": null
  },
  {
   "cell_type": "code",
   "metadata": {
    "source_hash": null,
    "execution_start": 1711895119453,
    "execution_millis": 22,
    "deepnote_to_be_reexecuted": false,
    "cell_id": "8aedae43f53746ec9754ae33048a45f2",
    "deepnote_cell_type": "code"
   },
   "source": [
    "# Define the Hyperparameter space\n",
    "space={\n",
    "    'max_depth': hp.quniform(\"max_depth\", 3, 20, 1),\n",
    "    'eta': hp.uniform('eta', 0.01, .3),\n",
    "    'gamma': hp.uniform ('gamma', 1, 10),\n",
    "    'reg_alpha' : hp.uniform('reg_alpha', 1, 20),\n",
    "    'reg_lambda' : hp.uniform('reg_lambda', 1, 20),\n",
    "    'colsample_bytree' : hp.uniform('colsample_bytree', 0.25, 1),\n",
    "    'min_child_weight' : hp.quniform('min_child_weight', 1, 10, 1),\n",
    "    'n_estimators': hp.quniform('n_estimators', 100, 1000, 1),\n",
    "    'subsample': hp.uniform('subsample', 0.1, 1),\n",
    "    'seed': 42\n",
    "    }"
   ],
   "block_group": "3a00bdd5413841deb53ccbfa46d6227b",
   "execution_count": null,
   "outputs": [],
   "outputs_reference": null
  },
  {
   "cell_type": "markdown",
   "metadata": {
    "is_collapsed": false,
    "formattedRanges": [],
    "deepnote_app_block_visible": false,
    "cell_id": "da31a3cf5540402aa51406cc8a110ee7",
    "deepnote_cell_type": "text-cell-h1"
   },
   "source": [
    "# Caribbean Region"
   ],
   "block_group": "f1427867b545433990280c904087c651"
  },
  {
   "cell_type": "markdown",
   "metadata": {
    "formattedRanges": [],
    "cell_id": "713dd0ac52114707b708c9f4a03be0e2",
    "deepnote_cell_type": "text-cell-h2"
   },
   "source": [
    "## Import the Data"
   ],
   "block_group": "c032e474be5b4808bc0f5c47e96918cb"
  },
  {
   "cell_type": "code",
   "metadata": {
    "source_hash": null,
    "execution_start": 1711895125440,
    "execution_millis": 1282,
    "deepnote_to_be_reexecuted": false,
    "cell_id": "a6d247d5c23d4149af840a64d2c286e6",
    "deepnote_cell_type": "code"
   },
   "source": [
    "X_train_trans, X_val_trans, X_holdout_trans, y_train_trans, y_val_trans, y_holdout_trans = import_data(location_name='CARB')"
   ],
   "block_group": "0f53ed0fda7a4769b509d8d3f314d469",
   "execution_count": null,
   "outputs": [],
   "outputs_reference": null
  },
  {
   "cell_type": "markdown",
   "metadata": {
    "is_collapsed": false,
    "formattedRanges": [],
    "deepnote_app_block_visible": false,
    "cell_id": "a633fea62cbf4f99bd1602ddadd90b2b",
    "deepnote_cell_type": "text-cell-h2"
   },
   "source": [
    "## Hyperparameter Tuning"
   ],
   "block_group": "8e8a57b936db489b84c356e2b0f80e08"
  },
  {
   "cell_type": "markdown",
   "metadata": {
    "formattedRanges": [],
    "cell_id": "245414f7a6824d18abd5288fe61e6154",
    "deepnote_cell_type": "text-cell-h3"
   },
   "source": [
    "### Execute Hyperparameter search"
   ],
   "block_group": "016820d33d6942cc9f17cc230e41c67b"
  },
  {
   "cell_type": "code",
   "metadata": {
    "source_hash": null,
    "execution_start": 1711895132856,
    "execution_millis": 1236104,
    "deepnote_to_be_reexecuted": false,
    "cell_id": "7482aa3d78c2471ca2835982443309a3",
    "deepnote_cell_type": "code"
   },
   "source": [
    "# Instantiate Neptune instance\n",
    "run = neptune.init_run(\n",
    "    name=\"XGBoost Reg Caribbean\",\n",
    "    tags=[\"XGBoost\", \"regression\", \"hyperopt\", \"MAE\", \"Caribbean\", \"CARB\"],\n",
    "    description=\"XGBoost Hyperopt with MAE on Caribbean\"\n",
    ")\n",
    "\n",
    "# Create the Trials object\n",
    "CARB_trials = Trials()\n",
    "\n",
    "# Create the fmin object\n",
    "CARB_best_hyperparams = fmin(fn = objective,\n",
    "                            space = space,\n",
    "                            algo = tpe.suggest,\n",
    "                            max_evals = 1000,\n",
    "                            trials = CARB_trials,\n",
    "                            show_progressbar=True,\n",
    "                            early_stop_fn=no_progress_loss(100))\n",
    "\n",
    "# Stop Neptune instance\n",
    "run.stop()\n",
    "\n",
    "CARB_best_trial = CARB_trials.best_trial\n",
    "CARB_best_hps = CARB_best_hyperparams.copy()\n",
    "\n",
    "CARB_best_hps['max_depth'] = int(CARB_best_hps['max_depth'])\n",
    "CARB_best_hps['min_child_weight'] = int(CARB_best_hps['min_child_weight'])\n",
    "CARB_best_hps['n_estimators'] = int(CARB_best_hps['n_estimators'])\n",
    "CARB_best_hps['reg_alpha'] = int(CARB_best_hps['reg_alpha'])"
   ],
   "block_group": "9fd65f126f234996825f29b02f9cfbad",
   "execution_count": null,
   "outputs": [],
   "outputs_reference": "s3:deepnote-cell-outputs-production/ed520ddd-146e-4458-a707-fcb809adcedf"
  },
  {
   "cell_type": "markdown",
   "metadata": {
    "formattedRanges": [],
    "cell_id": "f0c1f0a662214d388397296e92ef34df",
    "deepnote_cell_type": "text-cell-h3"
   },
   "source": [
    "### Review the Hyperparameter Search Validation MAE Scores and Hyperparameters"
   ],
   "block_group": "5e18df8b4a3748f894e8aa1ba861e660"
  },
  {
   "cell_type": "code",
   "metadata": {
    "source_hash": null,
    "execution_start": 1711896368967,
    "execution_millis": 516,
    "deepnote_to_be_reexecuted": false,
    "cell_id": "74052ccc9b884a81a17a5d4e93661aaa",
    "deepnote_cell_type": "code"
   },
   "source": [
    "# What's the best trial from the search? Report the MAE & StdDev\n",
    "print(f\"Best Mean Absolute Error: {CARB_trials.best_trial['result']['loss']:.4f}\")\n",
    "print(f\"Best Standard Error: {CARB_trials.best_trial['result']['std']:.4f}\")"
   ],
   "block_group": "e03cff7282584c11b165765d2b929b2a",
   "execution_count": null,
   "outputs": [],
   "outputs_reference": "dbtable:cell_outputs/242b4bd2-b222-4e16-b158-7e6c983ff941"
  },
  {
   "cell_type": "code",
   "metadata": {
    "source_hash": null,
    "execution_start": 1711896368974,
    "execution_millis": 510,
    "deepnote_to_be_reexecuted": false,
    "cell_id": "42149feaa0514864aeefd07b46b12115",
    "deepnote_cell_type": "code"
   },
   "source": [
    "# Display the best hyperparameters\n",
    "CARB_best_hps"
   ],
   "block_group": "2d368b28481d4163990b20c6623a2207",
   "execution_count": null,
   "outputs": [],
   "outputs_reference": "dbtable:cell_outputs/5be07744-b789-40d2-ab8c-78a87d4b8792"
  },
  {
   "cell_type": "markdown",
   "metadata": {
    "formattedRanges": [],
    "cell_id": "d4661a9d2593451a8cd64b886c5c579d",
    "deepnote_cell_type": "text-cell-h2"
   },
   "source": [
    "## Recreate the model and get new MAE and Feature Importance"
   ],
   "block_group": "510eb6a614644592ba9b30bfd46bb4e1"
  },
  {
   "cell_type": "code",
   "metadata": {
    "source_hash": null,
    "execution_start": 1711896368974,
    "execution_millis": 3032,
    "deepnote_to_be_reexecuted": false,
    "cell_id": "bd9a5e2869564cfbb4fd378f28575063",
    "deepnote_cell_type": "code"
   },
   "source": [
    "# Recreate the model with the best hyperparameters\n",
    "CARB_model = model_score(CARB_best_hps, holdout=True, val=True)\n",
    "\n",
    "# Plot the feature importance\n",
    "plot_feat_importance(CARB_model)"
   ],
   "block_group": "2ca3dcfbf27f41bab8cb7866df059743",
   "execution_count": null,
   "outputs": [],
   "outputs_reference": "s3:deepnote-cell-outputs-production/e16416d9-98ca-4e79-aa31-e42f4ea5d876"
  },
  {
   "cell_type": "markdown",
   "metadata": {
    "is_collapsed": false,
    "formattedRanges": [],
    "deepnote_app_block_visible": false,
    "cell_id": "bd8035551e4d4876b39b4af6e02220fe",
    "deepnote_cell_type": "text-cell-h2"
   },
   "source": [
    "## Feature Ablation"
   ],
   "block_group": "09cdeccecbf240e68a8256985a4b599f"
  },
  {
   "cell_type": "code",
   "metadata": {
    "source_hash": null,
    "execution_start": 1711896372009,
    "execution_millis": 54937,
    "deepnote_to_be_reexecuted": false,
    "cell_id": "37b42edd807d4d24ab7a2bb6f96bdf39",
    "deepnote_cell_type": "code"
   },
   "source": [
    "%%time\n",
    "# First run through the feature ablation process\n",
    "# This will determine which features can potentially be removed\n",
    "CARB_feature_ablation_df, CARB_baseline_mae_val, CARB_baseline_mae_train = feat_ablation(\n",
    "    model=CARB_model, hps=CARB_best_hps, \n",
    "    Xtt=X_train_trans, ytt=y_train_trans, \n",
    "    Xvt=X_val_trans, yvt=y_val_trans, \n",
    "    Xht=X_holdout_trans, yht=y_holdout_trans)"
   ],
   "block_group": "8c29dae6f92447749a2fa116b323bea8",
   "execution_count": null,
   "outputs": [],
   "outputs_reference": "dbtable:cell_outputs/dd489eab-54db-4eeb-a61f-046d674a891b"
  },
  {
   "cell_type": "code",
   "metadata": {
    "source_hash": null,
    "execution_start": 1711896426948,
    "execution_millis": 261,
    "deepnote_table_state": {
     "sortBy": [],
     "filters": [],
     "pageSize": 50,
     "pageIndex": 0
    },
    "deepnote_table_loading": false,
    "deepnote_to_be_reexecuted": false,
    "cell_id": "29b2c212b7fd442f920e0968caed25cd",
    "deepnote_cell_type": "code"
   },
   "source": [
    "# Show the feature ablation dataframe, sorted by the change in MAE to Validation data\n",
    "CARB_feature_ablation_df.sort_values('Val_MAE_Change', ascending=False)"
   ],
   "block_group": "ced566f9b071492da231bf8860fc5a06",
   "execution_count": null,
   "outputs": [],
   "outputs_reference": "s3:deepnote-cell-outputs-production/bcf9e053-5992-4792-b680-23f39696f55a"
  },
  {
   "cell_type": "code",
   "metadata": {
    "source_hash": null,
    "execution_start": 1711896426990,
    "execution_millis": 347,
    "deepnote_to_be_reexecuted": false,
    "cell_id": "6c6cb848856a40cbaf0f5a9a3c35bb40",
    "deepnote_cell_type": "code"
   },
   "source": [
    "# Generate the top 5 features to use in feature ablation combinations\n",
    "CARB_abl_list_to_combo = CARB_feature_ablation_df[CARB_feature_ablation_df['Val_MAE'] <= CARB_baseline_mae_val].sort_values('Val_MAE_Change', ascending=False)['Removed_Feature'].head(1).values[0].split(', ')\n",
    "\n",
    "# Show the top 5 features\n",
    "CARB_abl_list_to_combo"
   ],
   "block_group": "0b0bc9eb4cb24a989669e7b5c4f843e0",
   "execution_count": null,
   "outputs": [],
   "outputs_reference": "dbtable:cell_outputs/52cd9fd9-2105-43ab-8c32-385a3d51a9fc"
  },
  {
   "cell_type": "code",
   "metadata": {
    "source_hash": null,
    "execution_start": 1711896426991,
    "execution_millis": 51616,
    "deepnote_to_be_reexecuted": false,
    "cell_id": "573474982edd41b3a8b6f8fe64f1eafc",
    "deepnote_cell_type": "code"
   },
   "source": [
    "%%time\n",
    "# Second run through the feature ablation process\n",
    "# This time including the top 5 features whose removal decreased the MAE\n",
    "# These top 5 features will be combined using itertools\n",
    "CARB_feature_ablation_df, CARB_baseline_mae_val, CARB_baseline_mae_train = feat_ablation(\n",
    "    model=CARB_model, hps=CARB_best_hps, \n",
    "    Xtt=X_train_trans, ytt=y_train_trans, \n",
    "    Xvt=X_val_trans, yvt=y_val_trans, \n",
    "    Xht=X_holdout_trans, yht=y_holdout_trans, \n",
    "    abl_list_to_combo=CARB_abl_list_to_combo)"
   ],
   "block_group": "5f05f331a8af4a41825c9a285ca236e7",
   "execution_count": null,
   "outputs": [],
   "outputs_reference": "dbtable:cell_outputs/a88d2dbf-2971-4dff-bbff-8a5326d26f5d"
  },
  {
   "cell_type": "code",
   "metadata": {
    "source_hash": null,
    "execution_start": 1711896478609,
    "execution_millis": 168,
    "deepnote_table_state": {
     "sortBy": [
      {
       "id": "Val_MAE_Change",
       "type": "desc"
      }
     ],
     "filters": [],
     "pageSize": 25,
     "pageIndex": 0
    },
    "deepnote_table_loading": false,
    "deepnote_to_be_reexecuted": false,
    "cell_id": "59ce4e0b948945d8a654265234a1009b",
    "deepnote_cell_type": "code"
   },
   "source": [
    "# Show the feature ablation dataframe, sorted by the change in MAE to Validation data\n",
    "CARB_feature_ablation_df[CARB_feature_ablation_df['Val_MAE'] <= CARB_baseline_mae_val]"
   ],
   "block_group": "8c0621fd67824838aa555fb148c8c08c",
   "execution_count": null,
   "outputs": [],
   "outputs_reference": "s3:deepnote-cell-outputs-production/78507066-2712-4c05-9732-67ec883482f7"
  },
  {
   "cell_type": "code",
   "metadata": {
    "source_hash": null,
    "execution_start": 1711896478656,
    "execution_millis": 291,
    "deepnote_to_be_reexecuted": false,
    "cell_id": "9905240027894b0785efbed6b56e9efa",
    "deepnote_cell_type": "code"
   },
   "source": [
    "# Show the top 1 feature, which we'll remove.  Might be multiple features, so we split the string\n",
    "CARB_feature_ablation_df[CARB_feature_ablation_df['Val_MAE'] <= CARB_baseline_mae_val].sort_values('Val_MAE_Change', ascending=False)['Removed_Feature'].head(1).to_list()"
   ],
   "block_group": "c54e98cf034a41098b1ef44b9c043231",
   "execution_count": null,
   "outputs": [],
   "outputs_reference": "dbtable:cell_outputs/2aba02de-ee26-4c77-a7aa-7f4fb3b3a0b1"
  },
  {
   "cell_type": "code",
   "metadata": {
    "source_hash": null,
    "execution_start": 1711896757724,
    "execution_millis": 2521,
    "deepnote_to_be_reexecuted": false,
    "cell_id": "6b0fcf201d3c4cdabbcf3d5e9a4919e8",
    "deepnote_cell_type": "code"
   },
   "source": [
    "# Define the top features to drop\n",
    "CARB_drop_cols = CARB_feature_ablation_df[CARB_feature_ablation_df['Val_MAE'] <= CARB_baseline_mae_val].sort_values('Val_MAE_Change', ascending=False)['Removed_Feature'].head(1).values[0].split(', ')\n",
    "\n",
    "# Create the feature columns list for saving out\n",
    "CARB_feat_columns = X_train_trans.drop(columns=CARB_drop_cols).columns.to_list()\n",
    "\n",
    "# Recreate the model with the dropped columns\n",
    "# It should have a lower MAE score than the original\n",
    "CARB_experiment_model = model_score(\n",
    "    CARB_best_hps, val=True, \n",
    "    Xtt=X_train_trans.drop(columns=CARB_drop_cols), ytt=y_train_trans, \n",
    "    Xvt=X_val_trans.drop(columns=CARB_drop_cols), yvt=y_val_trans, \n",
    "    Xht=X_holdout_trans.drop(columns=CARB_drop_cols), yht=y_holdout_trans)\n",
    "\n",
    "# Plot the feature importance for this model\n",
    "plot_feat_importance(CARB_experiment_model)"
   ],
   "block_group": "610f1a852a7f4193a65c1f1d15924609",
   "execution_count": null,
   "outputs": [],
   "outputs_reference": "s3:deepnote-cell-outputs-production/24038435-ec32-40c7-9c63-954310de5e6a"
  },
  {
   "cell_type": "markdown",
   "metadata": {
    "formattedRanges": [],
    "cell_id": "005d92b4f0044b9e824c0bbfed49294e",
    "deepnote_cell_type": "text-cell-h3"
   },
   "source": [
    "### Output the Model, Trials, Parameters and Feature List to disk"
   ],
   "block_group": "b8c3eec0f6b94fcc9e32ba6f2c5ff2a7"
  },
  {
   "cell_type": "code",
   "metadata": {
    "source_hash": null,
    "execution_start": 1711896772524,
    "execution_millis": 1031,
    "deepnote_to_be_reexecuted": false,
    "cell_id": "043cc74a2c2b4a3fbfb0230a782bb11b",
    "deepnote_cell_type": "code"
   },
   "source": [
    "# Write out the model artifacts to disk\n",
    "write_out(model=CARB_model, trials=CARB_trials, params=CARB_best_hps, feat_cols=CARB_feat_columns, location_name='CARB')"
   ],
   "block_group": "053444987e0d411ba8f0852f8762f731",
   "execution_count": null,
   "outputs": [],
   "outputs_reference": null
  },
  {
   "cell_type": "markdown",
   "metadata": {
    "is_collapsed": false,
    "formattedRanges": [],
    "deepnote_app_block_visible": false,
    "cell_id": "fb9aaa3da69e4f3fab838cc4a5820020",
    "deepnote_cell_type": "text-cell-h2"
   },
   "source": [
    "## Review Holdout Truth vs Predictions"
   ],
   "block_group": "139ee5a3d74144fc807ec52d372ad6e4"
  },
  {
   "cell_type": "code",
   "metadata": {
    "source_hash": null,
    "execution_start": 1711896816777,
    "execution_millis": 96,
    "deepnote_to_be_reexecuted": false,
    "cell_id": "1b38f9f46fce48a4b2b0ce884eacfebf",
    "deepnote_cell_type": "code"
   },
   "source": [
    "eval_df = y_val_trans.copy(deep=True)\n",
    "CARB_val_pred = CARB_model.predict(X_val_trans)\n",
    "eval_df['predictions'] = CARB_val_pred.tolist()\n",
    "eval_df['diff'] = eval_df['y_val'] - eval_df['predictions']"
   ],
   "block_group": "0abf6862b25e4bc4b4061e7db1e64a3e",
   "execution_count": null,
   "outputs": [],
   "outputs_reference": null
  },
  {
   "cell_type": "code",
   "metadata": {
    "source_hash": null,
    "execution_start": 1711896817872,
    "execution_millis": 245,
    "deepnote_table_state": {
     "sortBy": [],
     "filters": [],
     "pageSize": 25,
     "pageIndex": 0
    },
    "deepnote_table_loading": false,
    "deepnote_to_be_reexecuted": false,
    "cell_id": "5147b0522b874bf28f1d5a2413608ae1",
    "deepnote_cell_type": "code"
   },
   "source": [
    "eval_df.sort_values(by='diff', ascending=False).head(20)"
   ],
   "block_group": "e11ab89146f34829a95efb1a627531f9",
   "execution_count": null,
   "outputs": [],
   "outputs_reference": "s3:deepnote-cell-outputs-production/57cd7427-391a-4c3d-b9f2-8f8fe1d56a80"
  },
  {
   "cell_type": "code",
   "metadata": {
    "source_hash": null,
    "execution_start": 1711896818905,
    "execution_millis": 124,
    "deepnote_to_be_reexecuted": false,
    "cell_id": "5ff6f22b22e04b509f91f7382ce83157",
    "deepnote_cell_type": "code"
   },
   "source": [
    "fig = px.histogram(eval_df[eval_df['y_val'] > 5], x='diff', nbins=100, title='Distribution of the diff between prediction and holdout where true value > 5')\n",
    "\n",
    "# Show the plot\n",
    "fig.show()"
   ],
   "block_group": "b515f851aad24673ab421c56adc26d09",
   "execution_count": null,
   "outputs": [],
   "outputs_reference": "s3:deepnote-cell-outputs-production/d81be159-c627-45c9-bd9a-6b094a39cf54"
  },
  {
   "cell_type": "code",
   "metadata": {
    "source_hash": null,
    "execution_start": 1711896820748,
    "execution_millis": 229,
    "deepnote_table_state": {
     "sortBy": [],
     "filters": [],
     "pageSize": 25,
     "pageIndex": 0
    },
    "deepnote_table_loading": false,
    "deepnote_to_be_reexecuted": false,
    "cell_id": "7360d95c36b34f838c550e0ebf474323",
    "deepnote_cell_type": "code"
   },
   "source": [
    "#eval_df[(eval_df['diff'].between(-5,5))]\n",
    "#eval_df[(eval_df['diff'].between(-5,5)) & (eval_df['y_val'] > 5)]\n",
    "eval_df[~(eval_df['diff'].between(-5,5))]\n"
   ],
   "block_group": "c4537cf4ea804253a4da3993acd0b6e3",
   "execution_count": null,
   "outputs": [],
   "outputs_reference": "s3:deepnote-cell-outputs-production/5cc8e2c7-f3bf-4235-bdfb-6bf0a3c2ba6c"
  },
  {
   "cell_type": "markdown",
   "metadata": {
    "formattedRanges": [],
    "cell_id": "48e823da3c9649ef92130f58f7479973",
    "deepnote_cell_type": "text-cell-h2"
   },
   "source": [
    "## SHAP Analysis"
   ],
   "block_group": "e40d498cd3a04efe8340bcd336d42635"
  },
  {
   "cell_type": "markdown",
   "metadata": {
    "formattedRanges": [],
    "cell_id": "2c5b503bbd0c49a7ac730ea0344ca8a2",
    "deepnote_cell_type": "text-cell-h3"
   },
   "source": [
    "### Create SHAP Objects"
   ],
   "block_group": "df59f68bcdf4446b81ee99beccaa87d0"
  },
  {
   "cell_type": "code",
   "metadata": {
    "source_hash": null,
    "execution_start": 1711896822182,
    "execution_millis": 81,
    "deepnote_to_be_reexecuted": false,
    "cell_id": "ff183d40be6644eab326d78a560e86ae",
    "deepnote_cell_type": "code"
   },
   "source": [
    "# %%time\n",
    "# CARB_X_val_trans = X_val_trans.copy(deep=True)\n",
    "# CARB_y_val_trans = y_val_trans.copy(deep=True)\n",
    "# explainer = shap.TreeExplainer(CARB_model)\n",
    "# shap_values = explainer(CARB_X_val_trans)\n",
    "# shap_interaction = explainer.shap_interaction_values(CARB_X_val_trans)\n",
    "# sv = explainer.shap_values(CARB_X_val_trans)\n",
    "# shap.initjs()"
   ],
   "block_group": "c7de2fc85ece4c89b3ca9e620545be73",
   "execution_count": null,
   "outputs": [],
   "outputs_reference": null
  },
  {
   "cell_type": "code",
   "metadata": {
    "source_hash": null,
    "execution_start": 1711896834791,
    "execution_millis": 238,
    "deepnote_to_be_reexecuted": false,
    "cell_id": "c600a6b49124457d9f65cdafd33fcc5f",
    "deepnote_cell_type": "code"
   },
   "source": [
    "# Beeswarm Importance\n",
    "# plt.figure(figsize=(8,6))\n",
    "# plt.title(f\"SHAP Beeswarm Analysis\")\n",
    "# shap.plots.beeswarm(shap_values, max_display=32)\n",
    "# plt.close()"
   ],
   "block_group": "9d7304cc62fd4802b6aba47b154e7a5a",
   "execution_count": null,
   "outputs": [],
   "outputs_reference": null
  },
  {
   "cell_type": "markdown",
   "metadata": {
    "formattedRanges": [],
    "cell_id": "bb97149f94b84932a8669528c5d591b1",
    "deepnote_cell_type": "text-cell-h3"
   },
   "source": [
    "### Investigate Individual Predictions"
   ],
   "block_group": "00a6d7f716f04492af4d77a7895ea7be"
  },
  {
   "cell_type": "code",
   "metadata": {
    "source_hash": null,
    "execution_start": 1711896836433,
    "execution_millis": 59,
    "deepnote_to_be_reexecuted": false,
    "cell_id": "e0b8512af488468ab365eec18d0ddda7",
    "deepnote_cell_type": "code"
   },
   "source": [
    "#investigate = CARB_X_val_trans.index.get_loc(5466)\n",
    "# print(CARB_y_val_trans.iloc[investigate])"
   ],
   "block_group": "fd49f345257942e4832f92ff46b8724a",
   "execution_count": null,
   "outputs": [],
   "outputs_reference": null
  },
  {
   "cell_type": "code",
   "metadata": {
    "source_hash": null,
    "execution_start": 1711896837752,
    "execution_millis": 303,
    "deepnote_to_be_reexecuted": false,
    "cell_id": "8e084397d99a4cd5a98b3adf437cdcd2",
    "deepnote_cell_type": "code"
   },
   "source": [
    "# Waterfall on a prediction\n",
    "# plt.figure(figsize=(8,6))\n",
    "# shap.plots.waterfall(shap_values[investigate], max_display=20) # , show=False\n",
    "# plt.close()"
   ],
   "block_group": "8a661b7b2e6a44dd8e188e2d0ace7bcb",
   "execution_count": null,
   "outputs": [],
   "outputs_reference": null
  },
  {
   "cell_type": "code",
   "metadata": {
    "source_hash": null,
    "execution_start": 1711896838555,
    "execution_millis": 236,
    "deepnote_to_be_reexecuted": false,
    "cell_id": "8712970a3a9b4b37822a38c001ded8db",
    "deepnote_cell_type": "code"
   },
   "source": [
    "# Decision plot on a prediction\n",
    "# shap.decision_plot(explainer.expected_value, explainer.shap_values(CARB_X_val_trans)[investigate], CARB_X_val_trans, feature_display_range=slice(-1,-51,-1))"
   ],
   "block_group": "8b40f4b93b644aa691bcfa4a76cd747d",
   "execution_count": null,
   "outputs": [],
   "outputs_reference": null
  },
  {
   "cell_type": "markdown",
   "metadata": {
    "is_collapsed": false,
    "formattedRanges": [],
    "deepnote_app_block_visible": false,
    "cell_id": "53e3505a98ff4ab2b1ddf1dabc19c6f7",
    "deepnote_cell_type": "text-cell-h1"
   },
   "source": [
    "# South East Asia and Australia Region"
   ],
   "block_group": "f341c9600c0d47c09020907304caa863"
  },
  {
   "cell_type": "markdown",
   "metadata": {
    "formattedRanges": [],
    "cell_id": "65e84202011c461490b3dbcd006d301e",
    "deepnote_cell_type": "text-cell-h2"
   },
   "source": [
    "## Import the Data"
   ],
   "block_group": "cff5ae98cd7c4689b9c0553657bd6760"
  },
  {
   "cell_type": "code",
   "metadata": {
    "allow_embed": false,
    "source_hash": null,
    "execution_start": 1711896840807,
    "execution_millis": 2325,
    "deepnote_to_be_reexecuted": false,
    "cell_id": "64cef83335da453fb77efd38aa75dfae",
    "deepnote_cell_type": "code"
   },
   "source": [
    "X_train_trans, X_val_trans, X_holdout_trans, y_train_trans, y_val_trans, y_holdout_trans = import_data(location_name='SEAA')"
   ],
   "block_group": "d837398a0964481daf71b0dbb17f99c4",
   "execution_count": null,
   "outputs": [],
   "outputs_reference": null
  },
  {
   "cell_type": "markdown",
   "metadata": {
    "is_collapsed": false,
    "formattedRanges": [],
    "deepnote_app_block_visible": false,
    "cell_id": "85770c3d397a4bb2bbb461b5d15c229a",
    "deepnote_cell_type": "text-cell-h2"
   },
   "source": [
    "## Hyperparameter Tuning"
   ],
   "block_group": "cbad4f42081647f7ac57de419a0937f5"
  },
  {
   "cell_type": "markdown",
   "metadata": {
    "formattedRanges": [],
    "cell_id": "cb06bb646bf34d1c8511650d1bf45f5d",
    "deepnote_cell_type": "text-cell-h3"
   },
   "source": [
    "### Execute Hyperparameter search"
   ],
   "block_group": "df0da39a99ac424997e15f3b6df3a25d"
  },
  {
   "cell_type": "code",
   "metadata": {
    "allow_embed": false,
    "source_hash": null,
    "execution_start": 1711896843534,
    "execution_millis": 1052882,
    "deepnote_to_be_reexecuted": false,
    "cell_id": "f744b8ad12e342c4bc61a1811761544a",
    "deepnote_cell_type": "code"
   },
   "source": [
    "# Instantiate Neptune instance\n",
    "run = neptune.init_run(\n",
    "    name=\"XGBoost Reg South East Asia and Australia\",\n",
    "    tags=[\"XGBoost\", \"regression\", \"hyperopt\", \"MAE\", \"South East Asia and Australia\", \"SEAA\"],\n",
    "    description=\"XGBoost Hyperopt with MAE on South East Asia and Australia\"\n",
    ")\n",
    "\n",
    "# Create the Trials object\n",
    "SEAA_trials = Trials()\n",
    "\n",
    "# Create the fmin object\n",
    "SEAA_best_hyperparams = fmin(fn = objective,\n",
    "                            space = space,\n",
    "                            algo = tpe.suggest,\n",
    "                            max_evals = 1000,\n",
    "                            trials = SEAA_trials,\n",
    "                            show_progressbar=True,\n",
    "                            early_stop_fn=no_progress_loss(100))\n",
    "\n",
    "# Stop Neptune instance\n",
    "run.stop()\n",
    "\n",
    "SEAA_best_trial = SEAA_trials.best_trial\n",
    "SEAA_best_hps = SEAA_best_hyperparams.copy()\n",
    "\n",
    "SEAA_best_hps['max_depth'] = int(SEAA_best_hps['max_depth'])\n",
    "SEAA_best_hps['min_child_weight'] = int(SEAA_best_hps['min_child_weight'])\n",
    "SEAA_best_hps['n_estimators'] = int(SEAA_best_hps['n_estimators'])\n",
    "SEAA_best_hps['reg_alpha'] = int(SEAA_best_hps['reg_alpha'])"
   ],
   "block_group": "b3ce289555a342078b8854ab5a577ff0",
   "execution_count": null,
   "outputs": [],
   "outputs_reference": "dbtable:cell_outputs/fff91799-8e26-4d9a-b0bb-85bd56206a98"
  },
  {
   "cell_type": "markdown",
   "metadata": {
    "formattedRanges": [],
    "cell_id": "a0ad1b1e29704c82bb8d434e4e2f63c6",
    "deepnote_cell_type": "text-cell-h3"
   },
   "source": [
    "### Review the Hyperparameter Search Validation MAE Scores and Hyperparameters"
   ],
   "block_group": "872d9797753c43cb9ea0aac9295f236b"
  },
  {
   "cell_type": "code",
   "metadata": {
    "allow_embed": false,
    "source_hash": null,
    "execution_start": 1711897896419,
    "execution_millis": 179,
    "deepnote_to_be_reexecuted": false,
    "cell_id": "9516428b760e47f5b8ae08098caa75d2",
    "deepnote_cell_type": "code"
   },
   "source": [
    "# What's the best trial from the search? Report the MAE & StdDev\n",
    "print(f\"Best Mean Absolute Error: {SEAA_trials.best_trial['result']['loss']:.4f}\")\n",
    "print(f\"Best Standard Error: {SEAA_trials.best_trial['result']['std']:.4f}\")"
   ],
   "block_group": "fd46e183b105449c82b6966a3161785f",
   "execution_count": null,
   "outputs": [],
   "outputs_reference": "dbtable:cell_outputs/9f5a995c-06dc-488d-b0b0-f1fc2cb0d14f"
  },
  {
   "cell_type": "code",
   "metadata": {
    "allow_embed": false,
    "source_hash": null,
    "execution_start": 1711897896422,
    "execution_millis": 176,
    "deepnote_to_be_reexecuted": false,
    "cell_id": "587ce42f748e424ea7d2d09f5dddd8eb",
    "deepnote_cell_type": "code"
   },
   "source": [
    "# Display the best hyperparameters\n",
    "SEAA_best_hps"
   ],
   "block_group": "c9fe859c0c0c4df99b6aca669ed43e3b",
   "execution_count": null,
   "outputs": [],
   "outputs_reference": "dbtable:cell_outputs/1d575914-d809-4864-b0b4-7287db85b0b9"
  },
  {
   "cell_type": "markdown",
   "metadata": {
    "formattedRanges": [],
    "cell_id": "8ce4c5aaf85d439e9e6418f8be20a3c1",
    "deepnote_cell_type": "text-cell-h2"
   },
   "source": [
    "## Recreate the model and get new MAE and Feature Importance"
   ],
   "block_group": "e369fe5d08df4bc8bc3637c0b156625a"
  },
  {
   "cell_type": "code",
   "metadata": {
    "allow_embed": false,
    "source_hash": null,
    "execution_start": 1711897896428,
    "execution_millis": 969,
    "deepnote_to_be_reexecuted": false,
    "cell_id": "0894aaab298f4654a1106f610f403f75",
    "deepnote_cell_type": "code"
   },
   "source": [
    "# Recreate the model with the best hyperparameters\n",
    "SEAA_model = model_score(SEAA_best_hps, holdout=True, val=True)\n",
    "\n",
    "# Plot the feature importance\n",
    "plot_feat_importance(SEAA_model)"
   ],
   "block_group": "c5c82f407c184f76948bacfcc0f1478b",
   "execution_count": null,
   "outputs": [],
   "outputs_reference": "s3:deepnote-cell-outputs-production/2d3a8691-b2c3-4a4f-b99e-e9e3e5aa5163"
  },
  {
   "cell_type": "markdown",
   "metadata": {
    "is_collapsed": false,
    "formattedRanges": [],
    "deepnote_app_block_visible": false,
    "cell_id": "38a8bbb46a2540ed8554432a3ef3cc4e",
    "deepnote_cell_type": "text-cell-h2"
   },
   "source": [
    "## Feature Ablation"
   ],
   "block_group": "d9a9481de5f54ec2a6e306f3023ac159"
  },
  {
   "cell_type": "code",
   "metadata": {
    "allow_embed": false,
    "source_hash": null,
    "execution_start": 1711897897401,
    "execution_millis": 17012,
    "deepnote_to_be_reexecuted": false,
    "cell_id": "cad9eb8780ec429d9ed287f3cc4968e5",
    "deepnote_cell_type": "code"
   },
   "source": [
    "%%time\n",
    "# First run through the feature ablation process\n",
    "# This will determine which features can potentially be removed\n",
    "SEAA_feature_ablation_df, SEAA_baseline_mae_val, SEAA_baseline_mae_train = feat_ablation(\n",
    "    model=SEAA_model, hps=SEAA_best_hps, \n",
    "    Xtt=X_train_trans, ytt=y_train_trans, \n",
    "    Xvt=X_val_trans, yvt=y_val_trans, \n",
    "    Xht=X_holdout_trans, yht=y_holdout_trans)"
   ],
   "block_group": "8347e696994342b79295873e6e8eea83",
   "execution_count": null,
   "outputs": [],
   "outputs_reference": "dbtable:cell_outputs/785f8d88-c1dd-49ec-b11f-986c8f5b0649"
  },
  {
   "cell_type": "code",
   "metadata": {
    "allow_embed": false,
    "source_hash": null,
    "execution_start": 1711897914419,
    "execution_millis": 173,
    "deepnote_table_state": {
     "sortBy": [
      {
       "id": "Val_MAE_Change",
       "type": "desc"
      }
     ],
     "filters": [],
     "pageSize": 25,
     "pageIndex": 0
    },
    "deepnote_table_loading": false,
    "deepnote_to_be_reexecuted": false,
    "cell_id": "465134bb5b954d07a9ea670d51134d75",
    "deepnote_cell_type": "code"
   },
   "source": [
    "# Show the feature ablation dataframe, sorted by the change in MAE to Validation data\n",
    "SEAA_feature_ablation_df.sort_values('Val_MAE_Change', ascending=False)"
   ],
   "block_group": "624745dcf51c4b7cb8a4f882ab2fcb62",
   "execution_count": null,
   "outputs": [],
   "outputs_reference": "s3:deepnote-cell-outputs-production/57fe15c6-c23f-4a42-8f11-b31e66a4b352"
  },
  {
   "cell_type": "code",
   "metadata": {
    "allow_embed": false,
    "source_hash": null,
    "execution_start": 1711897914433,
    "execution_millis": 159,
    "deepnote_to_be_reexecuted": false,
    "cell_id": "25cc31efd969432e955316389ccd7b8d",
    "deepnote_cell_type": "code"
   },
   "source": [
    "# Generate the top 5 features to use in feature ablation combinations\n",
    "SEAA_abl_list_to_combo = SEAA_feature_ablation_df[SEAA_feature_ablation_df['Val_MAE'] <= SEAA_baseline_mae_val].sort_values('Val_MAE_Change', ascending=False)['Removed_Feature'].head(5).to_list()\n",
    "\n",
    "# Review the list\n",
    "SEAA_abl_list_to_combo"
   ],
   "block_group": "f9f68d95c6424277b4b637b6bd3d3b96",
   "execution_count": null,
   "outputs": [],
   "outputs_reference": "dbtable:cell_outputs/294d980d-4fc9-42c6-819b-058f44aeff5d"
  },
  {
   "cell_type": "code",
   "metadata": {
    "allow_embed": false,
    "source_hash": null,
    "execution_start": 1711897914437,
    "execution_millis": 37263,
    "deepnote_to_be_reexecuted": false,
    "cell_id": "f6ed39fc1df947c3929cf95888d7b25c",
    "deepnote_cell_type": "code"
   },
   "source": [
    "%%time\n",
    "# Second run through the feature ablation process\n",
    "# This time including the top 5 features whose removal decreased the MAE\n",
    "# These top 5 features will be combined using itertools\n",
    "SEAA_feature_ablation_df, SEAA_baseline_mae_val, SEAA_baseline_mae_train = feat_ablation(\n",
    "    model=SEAA_model, hps=SEAA_best_hps, \n",
    "    Xtt=X_train_trans, ytt=y_train_trans, \n",
    "    Xvt=X_val_trans, yvt=y_val_trans, \n",
    "    Xht=X_holdout_trans, yht=y_holdout_trans, \n",
    "    abl_list_to_combo=SEAA_abl_list_to_combo)"
   ],
   "block_group": "7aecb9616931456e9083fcb8d8353b16",
   "execution_count": null,
   "outputs": [],
   "outputs_reference": "dbtable:cell_outputs/e87765dc-cdf7-439a-9611-bad8aabbb48d"
  },
  {
   "cell_type": "code",
   "metadata": {
    "allow_embed": false,
    "source_hash": null,
    "execution_start": 1711897951703,
    "execution_millis": 407,
    "deepnote_table_state": {
     "sortBy": [
      {
       "id": "Val_MAE_Change",
       "type": "asc"
      }
     ],
     "filters": [],
     "pageSize": 10,
     "pageIndex": 0
    },
    "deepnote_table_loading": false,
    "deepnote_to_be_reexecuted": false,
    "cell_id": "b25cb8e6c79f406eb197999ff0931288",
    "deepnote_cell_type": "code"
   },
   "source": [
    "# Show the feature ablation dataframe, sorted by the change in MAE to Validation data\n",
    "SEAA_feature_ablation_df[SEAA_feature_ablation_df['Val_MAE'] <= SEAA_baseline_mae_val].sort_values('Val_MAE_Change', ascending=False)"
   ],
   "block_group": "159962259d324ce8a5cc9c4d185ddbb5",
   "execution_count": null,
   "outputs": [],
   "outputs_reference": "s3:deepnote-cell-outputs-production/f96e8564-174b-4b63-996b-f5af71247db6"
  },
  {
   "cell_type": "code",
   "metadata": {
    "allow_embed": false,
    "source_hash": null,
    "execution_start": 1711897951744,
    "execution_millis": 567,
    "deepnote_to_be_reexecuted": false,
    "cell_id": "a63b11fa95744bde91d722442711c80d",
    "deepnote_cell_type": "code"
   },
   "source": [
    "# Show the top 1 feature, which we'll remove.  Might be multiple features, so we split the string\n",
    "SEAA_feature_ablation_df[SEAA_feature_ablation_df['Val_MAE'] <= SEAA_baseline_mae_val].sort_values('Val_MAE_Change', ascending=False)['Removed_Feature'].head(1).values[0].split(', ')"
   ],
   "block_group": "a92985f843fb48d2b7e4d9361a57df12",
   "execution_count": null,
   "outputs": [],
   "outputs_reference": "dbtable:cell_outputs/1e6b8ba6-1007-417d-aa20-928556efe828"
  },
  {
   "cell_type": "code",
   "metadata": {
    "allow_embed": false,
    "source_hash": null,
    "execution_start": 1711897951745,
    "execution_millis": 799,
    "deepnote_to_be_reexecuted": false,
    "cell_id": "d407b22861644d6fbd42e3924a1e8037",
    "deepnote_cell_type": "code"
   },
   "source": [
    "# Define the top features to drop\n",
    "SEAA_drop_cols = SEAA_feature_ablation_df[SEAA_feature_ablation_df['Val_MAE'] <= SEAA_baseline_mae_val].sort_values('Val_MAE_Change', ascending=False)['Removed_Feature'].head(1).values[0].split(', ')\n",
    "\n",
    "# Create the feature columns list for saving out\n",
    "SEAA_feat_columns = X_train_trans.drop(columns=SEAA_drop_cols).columns.to_list()\n",
    "\n",
    "# Recreate the model with the dropped columns\n",
    "# It should have a lower MAE score than the original\n",
    "SEAA_experiment_model = model_score(\n",
    "    SEAA_best_hps, val=True, \n",
    "    Xtt=X_train_trans.drop(columns=SEAA_drop_cols), ytt=y_train_trans, \n",
    "    Xvt=X_val_trans.drop(columns=SEAA_drop_cols), yvt=y_val_trans, \n",
    "    Xht=X_holdout_trans.drop(columns=SEAA_drop_cols), yht=y_holdout_trans)\n",
    "\n",
    "# Plot the feature importance for this model\n",
    "plot_feat_importance(SEAA_experiment_model)"
   ],
   "block_group": "c5dbe7c2c21b480e860e9c78dd969be2",
   "execution_count": null,
   "outputs": [],
   "outputs_reference": "s3:deepnote-cell-outputs-production/39b7620c-bbe9-4e87-b80d-3cfa56a3bde4"
  },
  {
   "cell_type": "markdown",
   "metadata": {
    "formattedRanges": [],
    "cell_id": "418774e603014d1d91e844b6004ce541",
    "deepnote_cell_type": "text-cell-h3"
   },
   "source": [
    "### Output the Model, Trials, Parameters and Feature List to disk"
   ],
   "block_group": "c25d9529059e488ab7a48c1fd8ffba4a"
  },
  {
   "cell_type": "code",
   "metadata": {
    "allow_embed": false,
    "source_hash": null,
    "execution_start": 1711897952547,
    "execution_millis": 1320,
    "deepnote_to_be_reexecuted": false,
    "cell_id": "fe6ae9b36d024622ad75dd2e13fd4e14",
    "deepnote_cell_type": "code"
   },
   "source": [
    "# Write out the model artifacts to disk\n",
    "write_out(model=SEAA_model, trials=SEAA_trials, params=SEAA_best_hps, feat_cols=SEAA_feat_columns, location_name='SEAA')"
   ],
   "block_group": "f219c4dc92074d4a933b1070a253ff81",
   "execution_count": null,
   "outputs": [],
   "outputs_reference": null
  },
  {
   "cell_type": "markdown",
   "metadata": {
    "is_collapsed": false,
    "formattedRanges": [],
    "deepnote_app_block_visible": false,
    "cell_id": "c138f49745824796883708f7c2695f61",
    "deepnote_cell_type": "text-cell-h2"
   },
   "source": [
    "## Review Holdout Truth vs Predictions"
   ],
   "block_group": "447d79d82f0f4ab885a152003698d89e"
  },
  {
   "cell_type": "code",
   "metadata": {
    "allow_embed": false,
    "source_hash": null,
    "execution_start": 1711897953872,
    "execution_millis": 30,
    "deepnote_to_be_reexecuted": false,
    "cell_id": "c767dac1a27b44e5812f2a1db5369dcf",
    "deepnote_cell_type": "code"
   },
   "source": [
    "eval_df = y_val_trans.copy(deep=True)\n",
    "SEAA_val_pred = SEAA_model.predict(X_val_trans)\n",
    "eval_df['predictions'] = SEAA_val_pred.tolist()\n",
    "eval_df['diff'] = eval_df['y_val'] - eval_df['predictions']"
   ],
   "block_group": "546b1c3bc72a4eaf9fb55114186e5b6e",
   "execution_count": null,
   "outputs": [],
   "outputs_reference": null
  },
  {
   "cell_type": "code",
   "metadata": {
    "allow_embed": false,
    "source_hash": null,
    "execution_start": 1711897953889,
    "execution_millis": 190,
    "deepnote_to_be_reexecuted": false,
    "cell_id": "602280cc4f994b0389d37863602a1424",
    "deepnote_cell_type": "code"
   },
   "source": [
    "eval_df.sort_values(by='diff', ascending=False).head(20)"
   ],
   "block_group": "6022961bb2734057b33f05de2285a0d1",
   "execution_count": null,
   "outputs": [],
   "outputs_reference": "s3:deepnote-cell-outputs-production/f9f75dc7-43b1-479e-a79c-12de8d3d2432"
  },
  {
   "cell_type": "code",
   "metadata": {
    "allow_embed": false,
    "source_hash": null,
    "execution_start": 1711897953895,
    "execution_millis": 185,
    "deepnote_to_be_reexecuted": false,
    "cell_id": "ec25b6ac664c4bdb9f97980a3fa65f5f",
    "deepnote_cell_type": "code"
   },
   "source": [
    "fig = px.histogram(eval_df[eval_df['y_val'] > 5], x='diff', nbins=100, title='Distribution of the diff between prediction and holdout where true value > 5')\n",
    "\n",
    "# Show the plot\n",
    "fig.show()"
   ],
   "block_group": "9a11553a73b14acaa05e7d6b6c05eebe",
   "execution_count": null,
   "outputs": [],
   "outputs_reference": "s3:deepnote-cell-outputs-production/329fe67c-ee0e-4f00-bbcf-927076c3d27a"
  },
  {
   "cell_type": "code",
   "metadata": {
    "allow_embed": false,
    "source_hash": null,
    "execution_start": 1711897953964,
    "execution_millis": 532,
    "deepnote_table_state": {
     "sortBy": [],
     "filters": [],
     "pageSize": 10,
     "pageIndex": 3
    },
    "deepnote_table_loading": false,
    "deepnote_to_be_reexecuted": false,
    "cell_id": "60a0038cc1c44de6988d4efcad976ed4",
    "deepnote_cell_type": "code"
   },
   "source": [
    "#eval_df[(eval_df['diff'].between(-5,5))]\n",
    "#eval_df[(eval_df['diff'].between(-5,5)) & (eval_df['y_val'] > 5)]\n",
    "eval_df[~(eval_df['diff'].between(-5,5))]\n"
   ],
   "block_group": "90d8f7a3d5424ab68d7f8e74cb5c280d",
   "execution_count": null,
   "outputs": [],
   "outputs_reference": "s3:deepnote-cell-outputs-production/3db24dde-40c2-4ccf-98f4-0fca7655bbba"
  },
  {
   "cell_type": "markdown",
   "metadata": {
    "formattedRanges": [],
    "cell_id": "fa32c4612f3f45aa9734a08bacd214a0",
    "deepnote_cell_type": "text-cell-h2"
   },
   "source": [
    "## SHAP Analysis"
   ],
   "block_group": "1a48ac9a830b47f5b1ea7782af14e4a9"
  },
  {
   "cell_type": "markdown",
   "metadata": {
    "formattedRanges": [],
    "cell_id": "f998a5fde8414368b8b602ff2b3fc57c",
    "deepnote_cell_type": "text-cell-h3"
   },
   "source": [
    "### Create SHAP Objects"
   ],
   "block_group": "ae48355f01664c9a8d89107f0a22b66e"
  },
  {
   "cell_type": "code",
   "metadata": {
    "allow_embed": false,
    "source_hash": null,
    "execution_start": 1711897953996,
    "execution_millis": 501,
    "deepnote_to_be_reexecuted": false,
    "cell_id": "451674c677cc41b19f0487cfff0499e4",
    "deepnote_cell_type": "code"
   },
   "source": [
    "# %%time\n",
    "# SEAA_X_val_trans = X_val_trans.copy(deep=True)\n",
    "# SEAA_y_val_trans = y_val_trans.copy(deep=True)\n",
    "# explainer = shap.TreeExplainer(SEAA_model)\n",
    "# shap_values = explainer(SEAA_X_val_trans)\n",
    "# shap_interaction = explainer.shap_interaction_values(SEAA_X_val_trans)\n",
    "# sv = explainer.shap_values(SEAA_X_val_trans)\n",
    "# shap.initjs()"
   ],
   "block_group": "64e8cb9efe5b451aa5e93c2d51259afb",
   "execution_count": null,
   "outputs": [],
   "outputs_reference": null
  },
  {
   "cell_type": "code",
   "metadata": {
    "allow_embed": false,
    "source_hash": null,
    "execution_start": 1711897953997,
    "execution_millis": 501,
    "deepnote_to_be_reexecuted": false,
    "cell_id": "b9b9b26d6bc64c6b8a68499dacf0c0cb",
    "deepnote_cell_type": "code"
   },
   "source": [
    "# Beeswarm Importance\n",
    "# plt.figure(figsize=(8,6))\n",
    "# plt.title(f\"SHAP Beeswarm Analysis\")\n",
    "# shap.plots.beeswarm(shap_values, max_display=32)\n",
    "# plt.close()"
   ],
   "block_group": "3a88eb20d9c64823a76adef51c186864",
   "execution_count": null,
   "outputs": [],
   "outputs_reference": null
  },
  {
   "cell_type": "markdown",
   "metadata": {
    "formattedRanges": [],
    "cell_id": "f2b24dec4d63435f87e443f3b7ffd265",
    "deepnote_cell_type": "text-cell-h3"
   },
   "source": [
    "### Investigate Individual Predictions"
   ],
   "block_group": "da32583c077a4dd0bed7c9b6dafa0168"
  },
  {
   "cell_type": "code",
   "metadata": {
    "allow_embed": false,
    "source_hash": null,
    "execution_start": 1711897954002,
    "execution_millis": 496,
    "deepnote_to_be_reexecuted": false,
    "cell_id": "1a25f5aad8a34d6cb9a973ed46257e44",
    "deepnote_cell_type": "code"
   },
   "source": [
    "#investigate = SEAA_X_val_trans.index.get_loc(5809)\n",
    "# SEAA_X_val_trans.iloc[[investigate]]"
   ],
   "block_group": "3acda7e0d4fe484b878674325e976389",
   "execution_count": null,
   "outputs": [],
   "outputs_reference": null
  },
  {
   "cell_type": "code",
   "metadata": {
    "allow_embed": false,
    "source_hash": null,
    "execution_start": 1711897954006,
    "execution_millis": 492,
    "deepnote_to_be_reexecuted": false,
    "cell_id": "72aacc54a34148559292a8f07e5db4c0",
    "deepnote_cell_type": "code"
   },
   "source": [
    "# Waterfall on a prediction\n",
    "# plt.figure(figsize=(8,6))\n",
    "# shap.plots.waterfall(shap_values[investigate], max_display=20) # , show=False\n",
    "# plt.close()"
   ],
   "block_group": "92a1dd8a5c8b4ba59e7cf70195441812",
   "execution_count": null,
   "outputs": [],
   "outputs_reference": null
  },
  {
   "cell_type": "code",
   "metadata": {
    "allow_embed": false,
    "source_hash": null,
    "execution_start": 1711897954013,
    "execution_millis": 486,
    "deepnote_to_be_reexecuted": false,
    "cell_id": "e11ba744a0714d0da80681b9f0f881a8",
    "deepnote_cell_type": "code"
   },
   "source": [
    "# Decision plot on a prediction\n",
    "# shap.decision_plot(explainer.expected_value, explainer.shap_values(SEAA_X_val_trans)[investigate], SEAA_X_val_trans, feature_display_range=slice(-1,-51,-1))"
   ],
   "block_group": "22e1bc5c7d8c4735a69e946fa6b51244",
   "execution_count": null,
   "outputs": [],
   "outputs_reference": null
  },
  {
   "cell_type": "markdown",
   "metadata": {
    "is_collapsed": false,
    "formattedRanges": [],
    "deepnote_app_block_visible": false,
    "cell_id": "6e8b90494a154113a74e2ee27d91d04b",
    "deepnote_cell_type": "text-cell-h1"
   },
   "source": [
    "# Global Region"
   ],
   "block_group": "a584de73603b49d793ecacc93e374f80"
  },
  {
   "cell_type": "markdown",
   "metadata": {
    "formattedRanges": [],
    "cell_id": "25828514c11b4ec2aa736987f400ddf2",
    "deepnote_cell_type": "text-cell-h2"
   },
   "source": [
    "## Import the Data"
   ],
   "block_group": "86d0ec526fb34672a3d9f3a03e15f879"
  },
  {
   "cell_type": "code",
   "metadata": {
    "allow_embed": false,
    "source_hash": null,
    "execution_start": 1711897954016,
    "execution_millis": 2092,
    "deepnote_to_be_reexecuted": false,
    "cell_id": "7e26e9c31aea424380dff0be1be3c876",
    "deepnote_cell_type": "code"
   },
   "source": [
    "X_train_trans, X_val_trans, X_holdout_trans, y_train_trans, y_val_trans, y_holdout_trans = import_data(location_name='GLOB')"
   ],
   "block_group": "e1e21d891a3e4f338e25963369e65d8a",
   "execution_count": null,
   "outputs": [],
   "outputs_reference": null
  },
  {
   "cell_type": "markdown",
   "metadata": {
    "is_collapsed": false,
    "formattedRanges": [],
    "deepnote_app_block_visible": false,
    "cell_id": "7fe2c9dda8fa43d596ea609085ae051b",
    "deepnote_cell_type": "text-cell-h2"
   },
   "source": [
    "## Hyperparameter Tuning"
   ],
   "block_group": "3efdc3d0ddf24a72b73df049b596c786"
  },
  {
   "cell_type": "markdown",
   "metadata": {
    "formattedRanges": [],
    "cell_id": "e6889f96546d4ab084f315ccb6b345a6",
    "deepnote_cell_type": "text-cell-h3"
   },
   "source": [
    "### Execute Hyperparameter search"
   ],
   "block_group": "dc944e390b4a4d04bbd2384f35c7340c"
  },
  {
   "cell_type": "code",
   "metadata": {
    "allow_embed": false,
    "source_hash": null,
    "execution_start": 1711897956113,
    "execution_millis": 5818539,
    "deepnote_to_be_reexecuted": false,
    "cell_id": "9434f7bc80c748c580b839802fcb0169",
    "deepnote_cell_type": "code"
   },
   "source": [
    "# Instantiate Neptune instance\n",
    "run = neptune.init_run(\n",
    "    name=\"XGBoost Reg Global\",\n",
    "    tags=[\"XGBoost\", \"regression\", \"hyperopt\", \"MAE\", \"Global\", \"GLOB\"],\n",
    "    description=\"XGBoost Hyperopt with MAE on Global\"\n",
    ")\n",
    "\n",
    "# Create the Trials object\n",
    "GLOB_trials = Trials()\n",
    "\n",
    "# Create the fmin object\n",
    "GLOB_best_hyperparams = fmin(fn = objective,\n",
    "                            space = space,\n",
    "                            algo = tpe.suggest,\n",
    "                            max_evals = 1000,\n",
    "                            trials = GLOB_trials,\n",
    "                            show_progressbar=True,\n",
    "                            early_stop_fn=no_progress_loss(100))\n",
    "\n",
    "# Stop Neptune instance\n",
    "run.stop()\n",
    "\n",
    "GLOB_best_trial = GLOB_trials.best_trial\n",
    "GLOB_best_hps = GLOB_best_hyperparams.copy()\n",
    "\n",
    "GLOB_best_hps['max_depth'] = int(GLOB_best_hps['max_depth'])\n",
    "GLOB_best_hps['min_child_weight'] = int(GLOB_best_hps['min_child_weight'])\n",
    "GLOB_best_hps['n_estimators'] = int(GLOB_best_hps['n_estimators'])\n",
    "GLOB_best_hps['reg_alpha'] = int(GLOB_best_hps['reg_alpha'])"
   ],
   "block_group": "1776510bdd99442f9874cf103d702222",
   "execution_count": null,
   "outputs": [],
   "outputs_reference": "dbtable:cell_outputs/7c85cab3-9210-4ca1-b5ac-39f39c011e7c"
  },
  {
   "cell_type": "markdown",
   "metadata": {
    "formattedRanges": [],
    "cell_id": "1afe7fc618f14c2da7097aed4cdbe5bf",
    "deepnote_cell_type": "text-cell-h3"
   },
   "source": [
    "### Review the Hyperparameter Search Validation MAE Scores and Hyperparameters"
   ],
   "block_group": "61bd6e2c8fc140d68614dfb1e60c48ef"
  },
  {
   "cell_type": "code",
   "metadata": {
    "allow_embed": false,
    "source_hash": null,
    "execution_start": 1711903774655,
    "execution_millis": 214,
    "deepnote_to_be_reexecuted": false,
    "cell_id": "64f9dfc62a004d54ab0130cfdfb6feeb",
    "deepnote_cell_type": "code"
   },
   "source": [
    "# What's the best trial from the search? Report the MAE & StdDev\n",
    "print(f\"Best Mean Absolute Error: {GLOB_trials.best_trial['result']['loss']:.4f}\")\n",
    "print(f\"Best Standard Error: {GLOB_trials.best_trial['result']['std']:.4f}\")"
   ],
   "block_group": "e056d40a802b4357b990a30e43cdba4f",
   "execution_count": null,
   "outputs": [],
   "outputs_reference": "dbtable:cell_outputs/8baa3c7d-e3fc-4104-9a6f-25fc512dd126"
  },
  {
   "cell_type": "code",
   "metadata": {
    "allow_embed": false,
    "source_hash": null,
    "execution_start": 1711903774659,
    "execution_millis": 210,
    "deepnote_to_be_reexecuted": false,
    "cell_id": "95126e5b5c2b4dc4ac1b61226b6f71b3",
    "deepnote_cell_type": "code"
   },
   "source": [
    "# Display the best hyperparameters\n",
    "GLOB_best_hps"
   ],
   "block_group": "aa716addc1694e019c0d428c08dceb6d",
   "execution_count": null,
   "outputs": [],
   "outputs_reference": "dbtable:cell_outputs/ca765375-cf82-4436-b158-85d602acd87c"
  },
  {
   "cell_type": "markdown",
   "metadata": {
    "formattedRanges": [],
    "cell_id": "127760a72c034352aad59b9a072719ae",
    "deepnote_cell_type": "text-cell-h2"
   },
   "source": [
    "## Recreate the model and get new MAE and Feature Importance"
   ],
   "block_group": "912fbbad7199497894979b7dc1b61e97"
  },
  {
   "cell_type": "code",
   "metadata": {
    "allow_embed": false,
    "source_hash": null,
    "execution_start": 1711903774663,
    "execution_millis": 3331,
    "deepnote_to_be_reexecuted": false,
    "cell_id": "ec0234ba06824572951e8c3d9599b0bd",
    "deepnote_cell_type": "code"
   },
   "source": [
    "# Recreate the model with the best hyperparameters\n",
    "GLOB_model = model_score(GLOB_best_hps, holdout=True, val=True)\n",
    "\n",
    "# Plot the feature importance\n",
    "plot_feat_importance(GLOB_model)"
   ],
   "block_group": "5120b378df9e4f43a834a2c3bb6e083e",
   "execution_count": null,
   "outputs": [],
   "outputs_reference": "s3:deepnote-cell-outputs-production/64c74327-aaac-4298-bd81-9cef357ba8df"
  },
  {
   "cell_type": "markdown",
   "metadata": {
    "is_collapsed": false,
    "formattedRanges": [],
    "deepnote_app_block_visible": false,
    "cell_id": "48dd2bd2e0484b1dac1fa9c79f25074a",
    "deepnote_cell_type": "text-cell-h2"
   },
   "source": [
    "## Feature Ablation"
   ],
   "block_group": "c1fad2cc29234ec8a11e4d9e1085ade3"
  },
  {
   "cell_type": "code",
   "metadata": {
    "allow_embed": false,
    "source_hash": null,
    "execution_start": 1711903777997,
    "execution_millis": 134917,
    "deepnote_to_be_reexecuted": false,
    "cell_id": "5758b50350904ca9876fc0195ac66d6d",
    "deepnote_cell_type": "code"
   },
   "source": [
    "%%time\n",
    "# First run through the feature ablation process\n",
    "# This will determine which features can potentially be removed\n",
    "GLOB_feature_ablation_df, GLOB_baseline_mae_val, GLOB_baseline_mae_train = feat_ablation(\n",
    "    model=GLOB_model, hps=GLOB_best_hps, \n",
    "    Xtt=X_train_trans, ytt=y_train_trans, \n",
    "    Xvt=X_val_trans, yvt=y_val_trans, \n",
    "    Xht=X_holdout_trans, yht=y_holdout_trans)"
   ],
   "block_group": "8b92f836a63c425eb9f8d4826498cf20",
   "execution_count": null,
   "outputs": [],
   "outputs_reference": "dbtable:cell_outputs/e6e41ce9-1435-4ee1-bf31-ecca69a75b60"
  },
  {
   "cell_type": "code",
   "metadata": {
    "allow_embed": false,
    "source_hash": null,
    "execution_start": 1711903912917,
    "execution_millis": 160,
    "deepnote_to_be_reexecuted": false,
    "cell_id": "f2d2b3ecc73b4fb88cf93b5debae61bb",
    "deepnote_cell_type": "code"
   },
   "source": [
    "# Show the feature ablation dataframe, sorted by the change in MAE to Validation data\n",
    "GLOB_feature_ablation_df.sort_values('Val_MAE_Change', ascending=False)"
   ],
   "block_group": "4392e5db898c4499bc7943bbad5cc728",
   "execution_count": null,
   "outputs": [],
   "outputs_reference": "s3:deepnote-cell-outputs-production/ee12a824-106c-422f-a670-87c57688840b"
  },
  {
   "cell_type": "code",
   "metadata": {
    "allow_embed": false,
    "source_hash": null,
    "execution_start": 1711903912956,
    "execution_millis": 211,
    "deepnote_to_be_reexecuted": false,
    "cell_id": "7d847145e94c48aabde5e23e10f63ee0",
    "deepnote_cell_type": "code"
   },
   "source": [
    "# Generate the top 5 features to use in feature ablation combinations\n",
    "GLOB_abl_list_to_combo = GLOB_feature_ablation_df[GLOB_feature_ablation_df['Val_MAE'] <= GLOB_baseline_mae_val].sort_values('Val_MAE_Change', ascending=False)['Removed_Feature'].head(5).to_list()\n",
    "\n",
    "# Review the list\n",
    "GLOB_abl_list_to_combo"
   ],
   "block_group": "83d0ed212ee6466198b0179ba9269cf1",
   "execution_count": null,
   "outputs": [],
   "outputs_reference": "dbtable:cell_outputs/cf402949-2111-4c25-82db-244b4289cfbd"
  },
  {
   "cell_type": "code",
   "metadata": {
    "allow_embed": false,
    "source_hash": null,
    "execution_start": 1711903912957,
    "execution_millis": 287735,
    "deepnote_to_be_reexecuted": false,
    "cell_id": "420936f1e6264452a4f7695be5e5e9db",
    "deepnote_cell_type": "code"
   },
   "source": [
    "%%time\n",
    "# Second run through the feature ablation process\n",
    "# This time including the top 5 features whose removal decreased the MAE\n",
    "# These top 5 features will be combined using itertools\n",
    "GLOB_feature_ablation_df, GLOB_baseline_mae_val, GLOB_baseline_mae_train = feat_ablation(\n",
    "    model=GLOB_model, hps=GLOB_best_hps, \n",
    "    Xtt=X_train_trans, ytt=y_train_trans, \n",
    "    Xvt=X_val_trans, yvt=y_val_trans, \n",
    "    Xht=X_holdout_trans, yht=y_holdout_trans, \n",
    "    abl_list_to_combo=GLOB_abl_list_to_combo)"
   ],
   "block_group": "f200bd7659614ef28c3116ecc05440df",
   "execution_count": null,
   "outputs": [],
   "outputs_reference": "dbtable:cell_outputs/714ae5c7-194d-4e5d-a04d-4a11f908a180"
  },
  {
   "cell_type": "code",
   "metadata": {
    "allow_embed": false,
    "source_hash": null,
    "execution_start": 1711904200695,
    "execution_millis": 175,
    "deepnote_to_be_reexecuted": false,
    "cell_id": "22e987e1ee814dd091d33f756d0aaa6d",
    "deepnote_cell_type": "code"
   },
   "source": [
    "# Show the feature ablation dataframe, sorted by the change in MAE to Validation data\n",
    "GLOB_feature_ablation_df[GLOB_feature_ablation_df['Val_MAE'] <= GLOB_baseline_mae_val].sort_values('Val_MAE_Change', ascending=False)"
   ],
   "block_group": "5cc95ff33bdd4888a0f7d9781d0e2d86",
   "execution_count": null,
   "outputs": [],
   "outputs_reference": "s3:deepnote-cell-outputs-production/370d9b8d-3f61-47d6-aa4e-e16f8bdaf816"
  },
  {
   "cell_type": "code",
   "metadata": {
    "allow_embed": false,
    "source_hash": null,
    "execution_start": 1711904200737,
    "execution_millis": 345,
    "deepnote_to_be_reexecuted": false,
    "cell_id": "6661f1ef698a43a294c3dee884e6a969",
    "deepnote_cell_type": "code"
   },
   "source": [
    "# Show the top 1 feature, which we'll remove.  Might be multiple features, so we split the string\n",
    "GLOB_feature_ablation_df[GLOB_feature_ablation_df['Val_MAE'] <= GLOB_baseline_mae_val].sort_values('Val_MAE_Change', ascending=False)['Removed_Feature'].head(1).values[0].split(', ')"
   ],
   "block_group": "bc1fc3195edd4a08b46c864a07fd3ae4",
   "execution_count": null,
   "outputs": [],
   "outputs_reference": "dbtable:cell_outputs/a7eaaf50-d3e0-4b21-a748-9446464a53e4"
  },
  {
   "cell_type": "code",
   "metadata": {
    "allow_embed": false,
    "source_hash": null,
    "execution_start": 1711904200738,
    "execution_millis": 5802,
    "deepnote_to_be_reexecuted": false,
    "cell_id": "3a78a4b8e1f640e38071d7a9f36df6fd",
    "deepnote_cell_type": "code"
   },
   "source": [
    "# Define the top features to drop\n",
    "GLOB_drop_cols = GLOB_feature_ablation_df[GLOB_feature_ablation_df['Val_MAE'] <= GLOB_baseline_mae_val].sort_values('Val_MAE_Change', ascending=False)['Removed_Feature'].head(1).values[0].split(', ')\n",
    "\n",
    "# Create the feature columns list for saving out\n",
    "GLOB_feat_columns = X_train_trans.drop(columns=GLOB_drop_cols).columns.to_list()\n",
    "\n",
    "# Recreate the model with the dropped columns\n",
    "# It should have a lower MAE score than the original\n",
    "GLOB_experiment_model = model_score(\n",
    "    GLOB_best_hps, val=True, \n",
    "    Xtt=X_train_trans.drop(columns=GLOB_drop_cols), ytt=y_train_trans, \n",
    "    Xvt=X_val_trans.drop(columns=GLOB_drop_cols), yvt=y_val_trans, \n",
    "    Xht=X_holdout_trans.drop(columns=GLOB_drop_cols), yht=y_holdout_trans)\n",
    "\n",
    "# Plot the feature importance for this model\n",
    "plot_feat_importance(GLOB_experiment_model)"
   ],
   "block_group": "9313c375d98f4879a358467e3ce6819e",
   "execution_count": null,
   "outputs": [],
   "outputs_reference": "s3:deepnote-cell-outputs-production/563e0f4a-3322-492d-af54-47fe11d9ef31"
  },
  {
   "cell_type": "markdown",
   "metadata": {
    "formattedRanges": [],
    "cell_id": "4c13e21960d64f3aa2e5b3da5b357d4e",
    "deepnote_cell_type": "text-cell-h3"
   },
   "source": [
    "### Output the Model, Trials, Parameters and Feature List to disk"
   ],
   "block_group": "b9eac4ea455b48b58740c9b83e92f6d0"
  },
  {
   "cell_type": "code",
   "metadata": {
    "allow_embed": false,
    "source_hash": null,
    "execution_start": 1711904206544,
    "execution_millis": 1135,
    "deepnote_to_be_reexecuted": false,
    "cell_id": "d175ce6b3e534319b23a5d4d3b07d5e2",
    "deepnote_cell_type": "code"
   },
   "source": [
    "# Write out the model artifacts to disk\n",
    "write_out(model=GLOB_model, trials=GLOB_trials, params=GLOB_best_hps, feat_cols=GLOB_feat_columns, location_name='GLOB')"
   ],
   "block_group": "89b3dbc9af16406bbbcc033c58e90ea3",
   "execution_count": null,
   "outputs": [],
   "outputs_reference": null
  },
  {
   "cell_type": "markdown",
   "metadata": {
    "is_collapsed": false,
    "formattedRanges": [],
    "deepnote_app_block_visible": false,
    "cell_id": "45b1168583254ca5aa03cc4f7215c84e",
    "deepnote_cell_type": "text-cell-h2"
   },
   "source": [
    "## Review Holdout Truth vs Predictions"
   ],
   "block_group": "704832f69a18426db2be350dc8185126"
  },
  {
   "cell_type": "code",
   "metadata": {
    "allow_embed": false,
    "source_hash": null,
    "execution_start": 1711904207684,
    "execution_millis": 105,
    "deepnote_to_be_reexecuted": false,
    "cell_id": "22e54273b8424121a99d8f538748d626",
    "deepnote_cell_type": "code"
   },
   "source": [
    "eval_df = y_val_trans.copy(deep=True)\n",
    "GLOB_val_pred = GLOB_model.predict(X_val_trans)\n",
    "eval_df['predictions'] = GLOB_val_pred.tolist()\n",
    "eval_df['diff'] = eval_df['y_val'] - eval_df['predictions']"
   ],
   "block_group": "23d196f97dd8434eb11ebb78ba065de5",
   "execution_count": null,
   "outputs": [],
   "outputs_reference": null
  },
  {
   "cell_type": "code",
   "metadata": {
    "allow_embed": false,
    "source_hash": null,
    "execution_start": 1711904207710,
    "execution_millis": 324,
    "deepnote_to_be_reexecuted": false,
    "cell_id": "498ef977f2ad4f458694064397806829",
    "deepnote_cell_type": "code"
   },
   "source": [
    "eval_df.sort_values(by='diff', ascending=False).head(20)"
   ],
   "block_group": "292c87623efe4fdface5afb5e22498ba",
   "execution_count": null,
   "outputs": [],
   "outputs_reference": "s3:deepnote-cell-outputs-production/f610cbbc-fe7b-4a92-8d77-f345c287f88b"
  },
  {
   "cell_type": "code",
   "metadata": {
    "allow_embed": false,
    "source_hash": null,
    "execution_start": 1711904207721,
    "execution_millis": 314,
    "deepnote_to_be_reexecuted": false,
    "cell_id": "14adb3d247b54606aaf5b4985f45f2e3",
    "deepnote_cell_type": "code"
   },
   "source": [
    "fig = px.histogram(eval_df[eval_df['y_val'] > 5], x='diff', nbins=100, title='Distribution of the diff between prediction and holdout where true value > 5')\n",
    "\n",
    "# Show the plot\n",
    "fig.show()"
   ],
   "block_group": "c5b4d3b362b64db3a5943f75eed89d58",
   "execution_count": null,
   "outputs": [],
   "outputs_reference": "s3:deepnote-cell-outputs-production/b1306db6-ab11-43fe-8c5e-11f7f3441d17"
  },
  {
   "cell_type": "code",
   "metadata": {
    "allow_embed": false,
    "source_hash": null,
    "execution_start": 1711904207796,
    "execution_millis": 624,
    "deepnote_table_state": {
     "sortBy": [],
     "filters": [],
     "pageSize": 10,
     "pageIndex": 1
    },
    "deepnote_table_loading": false,
    "deepnote_to_be_reexecuted": false,
    "cell_id": "362d4047e0e24cce9837e2ca56210eba",
    "deepnote_cell_type": "code"
   },
   "source": [
    "#eval_df[(eval_df['diff'].between(-5,5))]\n",
    "#eval_df[(eval_df['diff'].between(-5,5)) & (eval_df['y_val'] > 5)]\n",
    "eval_df[~(eval_df['diff'].between(-5,5))]\n"
   ],
   "block_group": "d71da7be0b1d46dfb11cdbd40a6653a2",
   "execution_count": null,
   "outputs": [],
   "outputs_reference": "s3:deepnote-cell-outputs-production/58131e32-6228-4565-8679-0ce3377eac8c"
  },
  {
   "cell_type": "markdown",
   "metadata": {
    "formattedRanges": [],
    "cell_id": "90ecc8f093cd401e83ae3b3a5376a52f",
    "deepnote_cell_type": "text-cell-h2"
   },
   "source": [
    "## SHAP Analysis"
   ],
   "block_group": "8a1c191d1c0241aa8b6bc891e2f182c7"
  },
  {
   "cell_type": "markdown",
   "metadata": {
    "formattedRanges": [],
    "cell_id": "1ec5b74d7e864bd0b9b0a365fe994eb7",
    "deepnote_cell_type": "text-cell-h3"
   },
   "source": [
    "### Create SHAP Objects"
   ],
   "block_group": "05972dcfef08491d885afeb4efe53e2f"
  },
  {
   "cell_type": "code",
   "metadata": {
    "allow_embed": false,
    "source_hash": null,
    "execution_start": 1711904207875,
    "execution_millis": 546,
    "deepnote_to_be_reexecuted": false,
    "cell_id": "e1af3a26380a414a8222f2c92a39db55",
    "deepnote_cell_type": "code"
   },
   "source": [
    "# %%time\n",
    "# GLOB_X_val_trans = X_val_trans.copy(deep=True)\n",
    "# GLOB_y_val_trans = y_val_trans.copy(deep=True)\n",
    "# explainer = shap.TreeExplainer(GLOB_model)\n",
    "# shap_values = explainer(GLOB_X_val_trans)\n",
    "# shap_interaction = explainer.shap_interaction_values(GLOB_X_val_trans)\n",
    "# sv = explainer.shap_values(GLOB_X_val_trans)\n",
    "# shap.initjs()"
   ],
   "block_group": "9285dde16cf841b18e19256342c657da",
   "execution_count": null,
   "outputs": [],
   "outputs_reference": null
  },
  {
   "cell_type": "code",
   "metadata": {
    "allow_embed": false,
    "source_hash": null,
    "execution_start": 1711904207876,
    "execution_millis": 545,
    "deepnote_to_be_reexecuted": false,
    "cell_id": "19a0a88eafd74337b9be9b5feed2cabc",
    "deepnote_cell_type": "code"
   },
   "source": [
    "# Beeswarm Importance\n",
    "# plt.figure(figsize=(8,6))\n",
    "# plt.title(f\"SHAP Beeswarm Analysis\")\n",
    "# shap.plots.beeswarm(shap_values, max_display=32)\n",
    "# plt.close()"
   ],
   "block_group": "a19de9f41044416fbcd6ccc21fc1236d",
   "execution_count": null,
   "outputs": [],
   "outputs_reference": null
  },
  {
   "cell_type": "markdown",
   "metadata": {
    "formattedRanges": [],
    "cell_id": "ee2b47232b424fdfb9661c0cfd4fa5d4",
    "deepnote_cell_type": "text-cell-h3"
   },
   "source": [
    "### Investigate Individual Predictions"
   ],
   "block_group": "903c99806bc6476c9bc100199682144a"
  },
  {
   "cell_type": "code",
   "metadata": {
    "allow_embed": false,
    "source_hash": null,
    "execution_start": 1711904207879,
    "execution_millis": 543,
    "deepnote_to_be_reexecuted": false,
    "cell_id": "93a532a3845d4ee69bcacfcf91a412c4",
    "deepnote_cell_type": "code"
   },
   "source": [
    "#investigate = GLOB_X_val_trans.index.get_loc(5809)\n",
    "# print(GLOB_y_val_trans.iloc[investigate])"
   ],
   "block_group": "1a8264ccffb6433e9a2fb2c64afe1065",
   "execution_count": null,
   "outputs": [],
   "outputs_reference": null
  },
  {
   "cell_type": "code",
   "metadata": {
    "allow_embed": false,
    "source_hash": null,
    "execution_start": 1711904207880,
    "execution_millis": 542,
    "deepnote_to_be_reexecuted": false,
    "cell_id": "1f8b2bc964144afa931943b3a73249a0",
    "deepnote_cell_type": "code"
   },
   "source": [
    "# Waterfall on a prediction\n",
    "# plt.figure(figsize=(8,6))\n",
    "# shap.plots.waterfall(shap_values[investigate], max_display=20) # , show=False\n",
    "# plt.close()"
   ],
   "block_group": "0d5041f6dd0b44eb9ef8db6b48a14a86",
   "execution_count": null,
   "outputs": [],
   "outputs_reference": null
  },
  {
   "cell_type": "code",
   "metadata": {
    "allow_embed": false,
    "source_hash": null,
    "execution_start": 1711904207883,
    "execution_millis": 540,
    "deepnote_to_be_reexecuted": false,
    "cell_id": "46db5f2841b3419e9520d1e8e5e02aa4",
    "deepnote_cell_type": "code"
   },
   "source": [
    "# Decision plot on a prediction\n",
    "# shap.decision_plot(explainer.expected_value, explainer.shap_values(GLOB_X_val_trans)[investigate], GLOB_X_val_trans, feature_display_range=slice(-1,-51,-1))"
   ],
   "block_group": "04e394adeb624ea59d44136900e2b8df",
   "execution_count": null,
   "outputs": [],
   "outputs_reference": null
  }
 ],
 "nbformat": 4,
 "nbformat_minor": 0,
 "metadata": {
  "deepnote_notebook_id": "ce32871a48684a85887df4b8b8b70707",
  "deepnote_execution_queue": []
 }
}
