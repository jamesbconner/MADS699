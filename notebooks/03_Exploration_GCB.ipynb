{
 "cells": [
  {
   "cell_type": "markdown",
   "metadata": {
    "formattedRanges": [],
    "cell_id": "b0469268d21746078f8bdb95dbe0d350",
    "deepnote_cell_type": "text-cell-h1"
   },
   "source": [
    "# Explore the Global Coral Database"
   ],
   "block_group": "554963491d02448b913a036f0c38f4b9"
  },
  {
   "cell_type": "markdown",
   "metadata": {
    "formattedRanges": [],
    "cell_id": "6577c1dd6b2840859b66066f76cf7ccf",
    "deepnote_cell_type": "text-cell-h2"
   },
   "source": [
    "## Notebook Setup"
   ],
   "block_group": "da5d60e51881444ab701e0d98d7521a8"
  },
  {
   "cell_type": "markdown",
   "metadata": {
    "is_collapsed": false,
    "formattedRanges": [],
    "deepnote_app_block_visible": false,
    "cell_id": "14a6368f8d4b4ee5967b31bae918eee0",
    "deepnote_cell_type": "text-cell-h3"
   },
   "source": [
    "### Import Libraries"
   ],
   "block_group": "5acc7b4ea25143d2be9252605870e859"
  },
  {
   "cell_type": "code",
   "metadata": {
    "source_hash": null,
    "execution_start": 1711403589766,
    "execution_millis": 1143,
    "deepnote_to_be_reexecuted": false,
    "cell_id": "f2c4e44c16e54182b42a48be36323841",
    "deepnote_cell_type": "code"
   },
   "source": [
    "# Import Standard Libraries\n",
    "import os\n",
    "import pandas as pd\n",
    "import geopandas as gpd\n",
    "import numpy as np\n",
    "\n",
    "# Import Visualization Libraries\n",
    "import seaborn as sns\n",
    "import matplotlib.pyplot as plt\n",
    "import plotly.express as px\n",
    "import plotly.graph_objects as go"
   ],
   "block_group": "f2c4e44c16e54182b42a48be36323841",
   "execution_count": null,
   "outputs": [],
   "outputs_reference": null
  },
  {
   "cell_type": "markdown",
   "metadata": {
    "is_collapsed": false,
    "formattedRanges": [],
    "deepnote_app_block_visible": false,
    "cell_id": "63bb606bb27f4322a980d2c29ebfae87",
    "deepnote_cell_type": "text-cell-h3"
   },
   "source": [
    "### Import Data"
   ],
   "block_group": "2bba84b729f54d318deca49ff5e51692"
  },
  {
   "cell_type": "code",
   "metadata": {
    "source_hash": null,
    "execution_start": 1711403592510,
    "execution_millis": 2490,
    "deepnote_to_be_reexecuted": false,
    "cell_id": "eed1d8d6580d445ca493d3579e2c0da8",
    "deepnote_cell_type": "code"
   },
   "source": [
    "gcb = pd.read_parquet(\"/work/data/Global_Coral_Bleaching_DB/gcb_v4.parquet\")\n",
    "meow = gpd.read_file(\"/work/data/MEOW/meow_ecos.shp\")"
   ],
   "block_group": "953008dafb3a4af3b884c29faa24bd2d",
   "execution_count": null,
   "outputs": [],
   "outputs_reference": null
  },
  {
   "cell_type": "code",
   "metadata": {
    "source_hash": null,
    "execution_start": 1709399164227,
    "execution_millis": 749,
    "deepnote_table_state": {
     "sortBy": [],
     "filters": [],
     "pageSize": 50,
     "pageIndex": 0
    },
    "deepnote_table_loading": false,
    "deepnote_to_be_reexecuted": false,
    "cell_id": "2a75a2407a4e4a5a8075b7256c34b4aa",
    "deepnote_cell_type": "code"
   },
   "source": [
    "gcb.sample(20)"
   ],
   "block_group": "1324516913cf47719bfb44fcac094509",
   "execution_count": null,
   "outputs": [],
   "outputs_reference": "s3:deepnote-cell-outputs-production/2ef36c80-8949-4504-a8f8-0fd1f2486003"
  },
  {
   "cell_type": "markdown",
   "metadata": {
    "is_collapsed": false,
    "formattedRanges": [],
    "deepnote_app_block_visible": false,
    "cell_id": "87b84c490c354f1189195ed7b0c5f6c2",
    "deepnote_cell_type": "text-cell-h3"
   },
   "source": [
    "### Setup Notebook Params"
   ],
   "block_group": "2827af2668fe49b5b1aa50445cddca7f"
  },
  {
   "cell_type": "code",
   "metadata": {
    "source_hash": null,
    "execution_start": 1711403596655,
    "execution_millis": 167,
    "deepnote_to_be_reexecuted": false,
    "cell_id": "9c86966ffcc842889b34cfcbf4a9ec42",
    "deepnote_cell_type": "code"
   },
   "source": [
    "# Pandas Configs\n",
    "pd.set_option('mode.chained_assignment', None)\n",
    "pd.options.display.float_format = '{:.2f}'.format\n",
    "pd.options.display.max_columns = None\n",
    "pd.options.display.max_rows = None\n",
    "\n",
    "# Ignore Warnings\n",
    "import warnings\n",
    "warnings.simplefilter('ignore', category=FutureWarning)\n",
    "warnings.simplefilter('ignore', category=UserWarning)\n",
    "\n",
    "# MapBox Token for Plotly Maps\n",
    "px.set_mapbox_access_token(os.environ.get(\"MAPBOX_TOKEN\"))"
   ],
   "block_group": "ce07cbbd134c4df6991ed85a9864dff1",
   "execution_count": null,
   "outputs": [],
   "outputs_reference": null
  },
  {
   "cell_type": "markdown",
   "metadata": {
    "is_collapsed": false,
    "formattedRanges": [],
    "deepnote_app_block_visible": false,
    "cell_id": "cb9a8ee66ee8417db6b61b7321dc45cb",
    "deepnote_cell_type": "text-cell-h2"
   },
   "source": [
    "## Exploration"
   ],
   "block_group": "483f7b99dea646508fdc1cc7d38675f3"
  },
  {
   "cell_type": "code",
   "metadata": {
    "source_hash": null,
    "execution_start": 1709399195830,
    "execution_millis": 108,
    "deepnote_to_be_reexecuted": false,
    "cell_id": "a3bb5ef31379413eafad458005688d62",
    "deepnote_cell_type": "code"
   },
   "source": [
    "# Top 20 countries represented in the data\n",
    "gcb.Country_Name.value_counts().head(20)"
   ],
   "block_group": "148fa1b158d9480a92b444f170abc62d",
   "execution_count": null,
   "outputs": [],
   "outputs_reference": "dbtable:cell_outputs/62cbb8e1-78a6-443c-9f4d-08a96980cfe0"
  },
  {
   "cell_type": "code",
   "metadata": {
    "source_hash": null,
    "execution_start": 1709399198090,
    "execution_millis": 747,
    "deepnote_to_be_reexecuted": false,
    "cell_id": "76bcd617995549bb8fc78e9a71e337f8",
    "deepnote_cell_type": "code"
   },
   "source": [
    "# Choropleth of Countries Obs Counts\n",
    "obs_per_country = gcb.groupby('Country_Code').size().reset_index(name='Observation_Counts')\n",
    "fig = px.choropleth(obs_per_country,\n",
    "                    locations='Country_Code',\n",
    "                    locationmode='ISO-3',\n",
    "                    color='Observation_Counts',\n",
    "                    color_continuous_scale=px.colors.sequential.Plasma,\n",
    "                    labels={'Observation_Counts': 'Number of Observations'},\n",
    "                    title='Global Distribution of Observations by Country Code')\n",
    "\n",
    "fig.show()"
   ],
   "block_group": "15c53ab27bd049c98cf052ed6b2aff64",
   "execution_count": null,
   "outputs": [],
   "outputs_reference": "s3:deepnote-cell-outputs-production/b4e4259d-207b-4531-aae2-d68dc9b5adea"
  },
  {
   "cell_type": "code",
   "metadata": {
    "allow_embed": false,
    "source_hash": null,
    "execution_start": 1709399199881,
    "execution_millis": 268,
    "deepnote_to_be_reexecuted": false,
    "cell_id": "adb61484ee1f48f7a071361edf235dab",
    "deepnote_cell_type": "code"
   },
   "source": [
    "# Choropleth of Countries Site Counts\n",
    "sites_per_country = gcb.groupby('Country_Code')['Site_ID'].nunique().reset_index(name='Unique_Site_Counts')\n",
    "fig = px.choropleth(sites_per_country,\n",
    "                    locations='Country_Code',\n",
    "                    locationmode='ISO-3',\n",
    "                    color='Unique_Site_Counts',\n",
    "                    color_continuous_scale=px.colors.sequential.Viridis,\n",
    "                    labels={'Unique_Site_Counts': 'Number of Unique Sites'},\n",
    "                    title='Number of Unique Sites per Country')\n",
    "\n",
    "fig.show()"
   ],
   "block_group": "bfee34c46a334ee8badd4549b70fe13f",
   "execution_count": null,
   "outputs": [],
   "outputs_reference": "s3:deepnote-cell-outputs-production/65271db2-eac4-4bfe-b191-90087dfac844"
  },
  {
   "cell_type": "code",
   "metadata": {
    "allow_embed": false,
    "source_hash": null,
    "execution_start": 1709399203021,
    "execution_millis": 501,
    "deepnote_to_be_reexecuted": false,
    "cell_id": "2466839e37e14b5c857325ac602d4758",
    "deepnote_cell_type": "code"
   },
   "source": [
    "# Map of Site Locations\n",
    "\n",
    "fig = px.scatter_geo(gcb.sample(10000), lat=\"Latitude_Degrees\", lon=\"Longitude_Degrees\", hover_name=\"Country_Name\",\n",
    "                     color=\"Temperature_Mean\", size=\"Percent_Bleached_Value\", projection=\"orthographic\")\n",
    "\n",
    "fig.show()"
   ],
   "block_group": "b897b5080e474d24a96a832572d0fb47",
   "execution_count": null,
   "outputs": [],
   "outputs_reference": "s3:deepnote-cell-outputs-production/987ef759-3f0d-4b7f-8ff0-775b8dada84b"
  },
  {
   "cell_type": "code",
   "metadata": {
    "source_hash": null,
    "execution_start": 1709399208032,
    "execution_millis": 160,
    "deepnote_to_be_reexecuted": false,
    "cell_id": "bb929411fa7841f7861ef0ad4615d217",
    "deepnote_cell_type": "code"
   },
   "source": [
    "# Country names for the Top 20 sampled sites represented in the data\n",
    "gcb[gcb.Site_ID.isin(gcb.groupby('Site_ID').size().sort_values(ascending=False).head(20).index)]['Country_Name'].drop_duplicates()"
   ],
   "block_group": "14a0e2d5bae84c248ab9cde2fc63699d",
   "execution_count": null,
   "outputs": [],
   "outputs_reference": "dbtable:cell_outputs/928081e1-bc37-4255-96ba-3e082e50bc65"
  },
  {
   "cell_type": "code",
   "metadata": {
    "source_hash": null,
    "execution_start": 1709399211516,
    "execution_millis": 415,
    "deepnote_to_be_reexecuted": false,
    "cell_id": "0c5eb26239e14bf8b6d442a74cbb8524",
    "deepnote_cell_type": "code"
   },
   "source": [
    "# Count of samples over time\n",
    "gcb['Month_Year'] = gcb['Date'].dt.to_period('M')\n",
    "obs_per_mo = gcb.groupby('Month_Year').size().reset_index(name=\"Counts\")\n",
    "obs_per_mo['Month_Year'] = obs_per_mo['Month_Year'].dt.to_timestamp()\n",
    "\n",
    "fig = px.line(obs_per_mo, x='Month_Year', y='Counts',\n",
    "              title='Monthly Observation Counts',\n",
    "              labels={'Month_Year': 'Month/Year', 'Counts': 'Count of Observations'})\n",
    "\n",
    "fig.show()"
   ],
   "block_group": "d4fe8da062e64c65ab3f4d55affa9688",
   "execution_count": null,
   "outputs": [],
   "outputs_reference": "s3:deepnote-cell-outputs-production/d1e2f77b-0ce9-41f8-9df9-36e7cddeb09d"
  },
  {
   "cell_type": "code",
   "metadata": {
    "source_hash": null,
    "execution_start": 1709399216270,
    "execution_millis": 207,
    "deepnote_to_be_reexecuted": false,
    "cell_id": "42ad1caea63044038df30172eceed4bd",
    "deepnote_cell_type": "code"
   },
   "source": [
    "# Count of Obs by Month\n",
    "month_short_names = {1: 'Jan', 2: 'Feb', 3: 'Mar', 4: 'Apr', 5: 'May', 6: 'Jun',\n",
    "                    7: 'Jul', 8: 'Aug', 9: 'Sep', 10: 'Oct', 11: 'Nov', 12: 'Dec'}\n",
    "\n",
    "obs_by_month = gcb.groupby('Date_Month').size().reset_index(name='Observation_Counts')\n",
    "obs_by_month['Month_Name'] = obs_by_month['Date_Month'].map(month_short_names)\n",
    "\n",
    "fig = px.bar(obs_by_month,\n",
    "             x='Month_Name',\n",
    "             y='Observation_Counts',\n",
    "             labels={'Month_Name': 'Month', 'Observation_Counts': 'Number of Observations'},\n",
    "             title='Number of Observations by Month')\n",
    "\n",
    "fig.update_layout(xaxis={'categoryorder':'array','categoryarray':list(month_short_names.values())})\n",
    "\n",
    "fig.show()"
   ],
   "block_group": "a91398bd628e41de83557f98350dfeec",
   "execution_count": null,
   "outputs": [],
   "outputs_reference": "s3:deepnote-cell-outputs-production/8608c747-0e7d-4ae2-a6e7-2eb0e9d089f7"
  },
  {
   "cell_type": "code",
   "metadata": {
    "source_hash": null,
    "execution_start": 1709399219001,
    "execution_millis": 257,
    "deepnote_to_be_reexecuted": false,
    "cell_id": "09a27119cec845389ad00d5e9ff33367",
    "deepnote_cell_type": "code"
   },
   "source": [
    "# Sites with 75%+ Bleaching 2015-2020\n",
    "obs_bleached_5yr = gcb[(gcb.Percent_Bleached_Value >= 75) & (gcb.Date_Year.between(2015,2020, inclusive='both'))]\n",
    "obs_bleached_5yr.Date_Year = obs_bleached_5yr.Date_Year.astype('int').astype('str')\n",
    "\n",
    "fig = px.scatter_geo(obs_bleached_5yr, lat=\"Latitude_Degrees\", lon=\"Longitude_Degrees\", hover_name=\"Country_Name\",\n",
    "                     color=\"Date_Year\", projection=\"orthographic\",\n",
    "                     title=\"Sites with 75%+ Bleaching 2015-2020\")\n",
    "\n",
    "fig.update_layout(legend_title=\"Year\")\n",
    "fig.update_traces(marker=dict(line=dict(width=0)))\n",
    "\n",
    "fig.show()"
   ],
   "block_group": "400794b711484761b43c1500910a75e9",
   "execution_count": null,
   "outputs": [],
   "outputs_reference": "s3:deepnote-cell-outputs-production/7dd52059-1dfd-4223-ae36-7ed284ffe787"
  },
  {
   "cell_type": "code",
   "metadata": {
    "source_hash": null,
    "execution_start": 1709399228113,
    "execution_millis": 836,
    "deepnote_table_state": {
     "sortBy": [],
     "filters": [],
     "pageSize": 25,
     "pageIndex": 16
    },
    "deepnote_table_loading": false,
    "deepnote_to_be_reexecuted": false,
    "cell_id": "0f2c2953167e48079eaa617e7ac8d7e9",
    "deepnote_cell_type": "code"
   },
   "source": [
    "obs_bleached_5yr"
   ],
   "block_group": "a54e3df80cf24c00b114e436b577c5f3",
   "execution_count": null,
   "outputs": [],
   "outputs_reference": "s3:deepnote-cell-outputs-production/90bd7b52-39a8-4212-a6bb-e1658195cce7"
  },
  {
   "cell_type": "code",
   "metadata": {
    "source_hash": null,
    "execution_start": 1709399376598,
    "execution_millis": 433,
    "deepnote_to_be_reexecuted": false,
    "cell_id": "c6d28b74d56c46e7875cf891e618164b",
    "deepnote_cell_type": "code"
   },
   "source": [
    "# Coral Triangle Region with Sites of 75%+ Bleaching between 2015-2020\n",
    "\n",
    "# Define the Coral Triangle region\n",
    "coral_triangle = meow[meow.PROVINCE.isin(['Western Coral Triangle', 'Eastern Coral Triangle'])]\n",
    "coral_triangle_geo = coral_triangle.geometry.__geo_interface__\n",
    "\n",
    "# Plot the sites\n",
    "fig_scatter = px.scatter_mapbox(obs_bleached_5yr[obs_bleached_5yr.PROVINCE.isin(['Western Coral Triangle', 'Eastern Coral Triangle'])],\n",
    "                                lat=\"Latitude_Degrees\",\n",
    "                                lon=\"Longitude_Degrees\",\n",
    "                                hover_name=\"Country_Name\",\n",
    "                                color=\"Date_Year\",\n",
    "                                size=\"Percent_Bleached_Value\",\n",
    "                                color_continuous_scale=px.colors.cyclical.IceFire,\n",
    "                                size_max=15,\n",
    "                                zoom=2.65,\n",
    "                                center={\"lat\": 0, \"lon\": 138.5},\n",
    "                                title=\"Sites with 75%+ Bleaching 2015-2020\")\n",
    "\n",
    "# Create the Coral Triangle map\n",
    "fig_choropleth = px.choropleth_mapbox(coral_triangle, \n",
    "                                      geojson=coral_triangle_geo, \n",
    "                                      color='ECOREGION',\n",
    "                                      opacity=0.25, \n",
    "                                      locations=coral_triangle.index,\n",
    "                                      center={\"lat\": 2, \"lon\": 138.5},\n",
    "                                      mapbox_style=\"carto-positron\",\n",
    "                                      zoom=2.65,\n",
    "                                      title='Coral Triangle Region')\n",
    "\n",
    "# Add the site plots to the Coral Triangle map\n",
    "for trace in fig_scatter.data:\n",
    "    fig_choropleth.add_trace(trace)\n",
    "\n",
    "fig_choropleth.update_layout(title_text=\"Coral Triangle Region with Sites of 75%+ Bleaching 2015-2020\")\n",
    "\n",
    "fig_choropleth.show()"
   ],
   "block_group": "377be15bf08c4e5cadaadc8dc0d7c690",
   "execution_count": null,
   "outputs": [],
   "outputs_reference": "s3:deepnote-cell-outputs-production/cb3d0da5-d1f5-48ca-9665-b52543eb6ee1"
  },
  {
   "cell_type": "code",
   "metadata": {
    "source_hash": null,
    "execution_start": 1709399575478,
    "execution_millis": 10733,
    "deepnote_to_be_reexecuted": false,
    "cell_id": "07aa0e497a4c4f088436a7762d79cdd9",
    "deepnote_cell_type": "code"
   },
   "source": [
    "# Correlation Matrix\n",
    "gcb_numeric = gcb.select_dtypes(include=['float64','int64','int8'])\n",
    "\n",
    "# Remove cols from the gcb_numeric in prep for corr_matrix:\n",
    "# SSTA_Mean: Always 0\n",
    "# S1, S2, S3, S4: Composite for Percent_Bleached_Value\n",
    "# Severity_ID, Bleaching_Prevalence_Score_ID: Estimates for Percent_Bleached_Value\n",
    "# Site_ID, Sample_ID: Relational Lookup Keys\n",
    "gcb_numeric_drop_cols = ['SSTA_Mean','Severity_ID','Bleaching_Prevalence_Score_ID',\n",
    "                         'Site_ID','Sample_ID','S1','S2','S3','S4']\n",
    "gcb_numeric.drop(columns=gcb_numeric_drop_cols, axis=1, inplace=True)\n",
    "\n",
    "# Create the correlation matrix\n",
    "corr_matrix = gcb_numeric.corr(method='pearson')\n",
    "\n",
    "# Plot the matrix\n",
    "plt.figure(figsize=(50, 40))  # Adjust the figure size as needed\n",
    "sns.heatmap(corr_matrix, annot=True, fmt=\".2f\", cmap='coolwarm', cbar=True, square=True)\n",
    "\n",
    "plt.xticks(rotation=45, ha='right')\n",
    "#plt.yticks(rotation=45)\n",
    "plt.title('Pearson Correlation Matrix')\n",
    "\n",
    "plt.show()"
   ],
   "block_group": "6d8b660518084dbc89f038c046cc2154",
   "execution_count": null,
   "outputs": [],
   "outputs_reference": "s3:deepnote-cell-outputs-production/71874c3b-226f-4841-a542-44e8b35526a2"
  },
  {
   "cell_type": "code",
   "metadata": {
    "source_hash": null,
    "execution_start": 1709399609430,
    "execution_millis": 338,
    "deepnote_table_state": {
     "sortBy": [],
     "filters": [],
     "pageSize": 50,
     "pageIndex": 0
    },
    "deepnote_table_loading": false,
    "deepnote_to_be_reexecuted": false,
    "cell_id": "ad26b8af2cdc43beac18b663bd9f1a7c",
    "deepnote_cell_type": "code"
   },
   "source": [
    "# Bleaching by Country\n",
    "# How to do this reasonably ... avg by obs per year per country?  Let's start there\n",
    "#  Okay, after having tried this, the problem is that it's very site dependent, especially for \n",
    "#  larger countries (United States, Mexico) or widely distributed countries (Indonesia, Micronesia)\n",
    "\n",
    "# Bleaching by ecoregion instead ... better\n",
    "# gcb.groupby(['Ecoregion_Name','Date_Year'])['Percent_Bleached_Value'].mean().reset_index()\n",
    "\n",
    "# Bleaching by MEOW Province\n",
    "gcb.groupby(['PROVINCE','Date_Year'])['Percent_Bleached_Value'].mean().reset_index()"
   ],
   "block_group": "452147d8a3b946efa696ddb5aebd5a49",
   "execution_count": null,
   "outputs": [],
   "outputs_reference": "s3:deepnote-cell-outputs-production/59b3fd4b-27e6-4ff3-9f7a-1342e53d23be"
  },
  {
   "cell_type": "code",
   "metadata": {
    "source_hash": null,
    "execution_start": 1711403809967,
    "execution_millis": 894,
    "deepnote_to_be_reexecuted": false,
    "cell_id": "105b5bd19bce4251bda600a012a3a741",
    "deepnote_cell_type": "code"
   },
   "source": [
    "gcb_filtered= gcb[(gcb[\"Substrate_Name\"] == \"Hard Coral\")]\n",
    "gcb_filtered = gcb_filtered[gcb_filtered[\"Bleached_Value_Imputed\"] == False]\n",
    "gcb_filtered.groupby(['Year'])['Percent_Bleached_Value'].mean()\n",
    "\n",
    "sns.lineplot(data=gcb_filtered, x=\"Year\", y=\"Percent_Bleached_Value\")"
   ],
   "block_group": "d84d9b239d2c47c48caf76c610781379",
   "execution_count": null,
   "outputs": [],
   "outputs_reference": "s3:deepnote-cell-outputs-production/90b7d785-2cad-4dc6-b929-8deac8d81a55"
  },
  {
   "cell_type": "code",
   "metadata": {
    "source_hash": null,
    "execution_start": 1711406713987,
    "execution_millis": 297,
    "deepnote_to_be_reexecuted": false,
    "cell_id": "f1afb105282142fcbb4761ffcb869e9b",
    "deepnote_cell_type": "code"
   },
   "source": [
    "gcb_filtered.columns"
   ],
   "block_group": "fd04e4e99280431d9d518924923c6d14",
   "execution_count": null,
   "outputs": [],
   "outputs_reference": "s3:deepnote-cell-outputs-production/fb86539a-b394-4185-851d-e9059d1aed8e"
  },
  {
   "cell_type": "code",
   "metadata": {
    "source_hash": null,
    "execution_start": 1711406726381,
    "execution_millis": 694,
    "deepnote_to_be_reexecuted": false,
    "cell_id": "4595495f6b8a4d9b8ea81456fa8371e2",
    "deepnote_cell_type": "code"
   },
   "source": [
    "sns.lineplot(data=gcb_filtered, x=\"Year\", y=\"SSTA\")"
   ],
   "block_group": "59e7fdb91de04388b3e23a84fa31823c",
   "execution_count": null,
   "outputs": [],
   "outputs_reference": "s3:deepnote-cell-outputs-production/f029e99b-27c2-4909-803a-97c826a5c158"
  },
  {
   "cell_type": "code",
   "metadata": {
    "source_hash": null,
    "execution_start": 1711406758621,
    "execution_millis": 663,
    "deepnote_to_be_reexecuted": false,
    "cell_id": "55e8136d08914f0f8ed6b88d08b19c0b",
    "deepnote_cell_type": "code"
   },
   "source": [
    "sns.lineplot(data=gcb_filtered, x=\"Year\", y=\"SSTA_Minimum\")"
   ],
   "block_group": "a5c85a0bcb5a432d80449b743ac2edd3",
   "execution_count": null,
   "outputs": [],
   "outputs_reference": "s3:deepnote-cell-outputs-production/cbf06a74-ad29-48b7-b9d4-36832d8efbcf"
  },
  {
   "cell_type": "code",
   "metadata": {
    "source_hash": null,
    "execution_start": 1711406783274,
    "execution_millis": 643,
    "deepnote_to_be_reexecuted": false,
    "cell_id": "c065abad4095440b9603d1f90bf13aaa",
    "deepnote_cell_type": "code"
   },
   "source": [
    "sns.lineplot(data=gcb_filtered, x=\"Year\", y=\"SSTA_Maximum\")"
   ],
   "block_group": "41144a302b414086b6b27e91a8702621",
   "execution_count": null,
   "outputs": [],
   "outputs_reference": "s3:deepnote-cell-outputs-production/1603b9b9-c8df-4572-b3d3-3928d90435f7"
  },
  {
   "cell_type": "code",
   "metadata": {
    "source_hash": null,
    "execution_start": 1711403962906,
    "execution_millis": 419,
    "deepnote_table_state": {
     "sortBy": [],
     "filters": [],
     "pageSize": 10,
     "pageIndex": 6
    },
    "deepnote_table_loading": false,
    "deepnote_to_be_reexecuted": false,
    "cell_id": "fef0b481864640cb992b6efb15061fef",
    "deepnote_cell_type": "code"
   },
   "source": [
    "gcb[gcb['Percent_Bleached_Value'] == 0].groupby(['Year']).size()"
   ],
   "block_group": "4671bda60f2c4009a3f63c6402522dcd",
   "execution_count": null,
   "outputs": [],
   "outputs_reference": "dbtable:cell_outputs/67467271-1713-49dc-84fe-df702b0967cb"
  },
  {
   "cell_type": "code",
   "metadata": {
    "source_hash": null,
    "execution_start": 1711404012906,
    "execution_millis": 248,
    "deepnote_to_be_reexecuted": false,
    "cell_id": "dbd5e10e5edf4dc398e48281025d3782",
    "deepnote_cell_type": "code"
   },
   "source": [
    "gcb.groupby(['Year']).size()"
   ],
   "block_group": "776b6897f83f401b8d491eb948594ba3",
   "execution_count": null,
   "outputs": [],
   "outputs_reference": "dbtable:cell_outputs/9d9f1564-ace8-4e16-9cb2-005d435a6070"
  },
  {
   "cell_type": "code",
   "metadata": {
    "source_hash": null,
    "execution_start": 1711404355942,
    "execution_millis": 109,
    "deepnote_to_be_reexecuted": false,
    "cell_id": "a80fffc0e1394c258a2b7b024908005e",
    "deepnote_cell_type": "code"
   },
   "source": [
    "gcb.groupby('Year')['Site_ID'].nunique()"
   ],
   "block_group": "a967d6a6fc154bfc938812e8bf63c9c5",
   "execution_count": null,
   "outputs": [],
   "outputs_reference": "dbtable:cell_outputs/dcdb8407-618b-4c13-8ca1-b27efca0d8f4"
  },
  {
   "cell_type": "code",
   "metadata": {
    "source_hash": null,
    "execution_start": 1711404262303,
    "execution_millis": 98,
    "deepnote_to_be_reexecuted": false,
    "cell_id": "d33f5f1dd3cd434ea1e9c1f6c6886071",
    "deepnote_cell_type": "code"
   },
   "source": [
    "gcb.groupby(['Year']).size()/gcb.groupby('Year')['Site_ID'].nunique()"
   ],
   "block_group": "b97a5ca6e5c342b4aae857c335e707dc",
   "execution_count": null,
   "outputs": [],
   "outputs_reference": "dbtable:cell_outputs/2651f047-79aa-405e-b465-9e3ccbb59c9a"
  },
  {
   "cell_type": "code",
   "metadata": {
    "source_hash": null,
    "execution_start": 1711404762605,
    "execution_millis": 416,
    "deepnote_to_be_reexecuted": false,
    "cell_id": "9ed1f5cd3dfd4caabaa97b3166980cf4",
    "deepnote_cell_type": "code"
   },
   "source": [
    "gcb.groupby(['Year','PROVINCE']).size()"
   ],
   "block_group": "c8e5089f4d4341d58dc437ee03aad64d",
   "execution_count": null,
   "outputs": [],
   "outputs_reference": "s3:deepnote-cell-outputs-production/0ebe45a5-2326-43f8-a8e7-43e56b33a015"
  },
  {
   "cell_type": "code",
   "metadata": {
    "source_hash": null,
    "execution_start": 1711405072037,
    "execution_millis": 357,
    "deepnote_to_be_reexecuted": false,
    "cell_id": "18e31f173cfd4f59b86ffd5882e3bc9b",
    "deepnote_cell_type": "code"
   },
   "source": [
    "gcb.groupby(['Site_ID','Year']).size().sort_values(ascending=False).head(100)"
   ],
   "block_group": "5cc74f6fe9be4d4dacd382d29d642826",
   "execution_count": null,
   "outputs": [],
   "outputs_reference": "s3:deepnote-cell-outputs-production/4a118281-846d-4779-81e7-16b9ea734a5d"
  },
  {
   "cell_type": "code",
   "metadata": {
    "source_hash": null,
    "execution_start": 1711405233316,
    "execution_millis": 177,
    "deepnote_to_be_reexecuted": false,
    "cell_id": "60e6284232434b959abec3ac28dbc0d0",
    "deepnote_cell_type": "code"
   },
   "source": [
    "gcb[gcb.Site_ID == 9530].groupby('Year').size()"
   ],
   "block_group": "e70fc89abcfa4b7a9ec5742e58682fb0",
   "execution_count": null,
   "outputs": [],
   "outputs_reference": "dbtable:cell_outputs/9d4262b7-38e1-4f28-a016-a0406fbaeafd"
  },
  {
   "cell_type": "code",
   "metadata": {
    "source_hash": null,
    "execution_start": 1711405564140,
    "execution_millis": 313,
    "deepnote_to_be_reexecuted": false,
    "cell_id": "d2fd6129839949228fec5e62be013a92",
    "deepnote_cell_type": "code"
   },
   "source": [
    "gcb[gcb['Percent_Bleached_Value'] == 0][['Site_ID','Year']].groupby(['Site_ID','Year']).size().sort_values(ascending=False).head(200)"
   ],
   "block_group": "c629b44c7ed04783a152615245868c01",
   "execution_count": null,
   "outputs": [],
   "outputs_reference": "s3:deepnote-cell-outputs-production/fe75edf9-1bc7-43d0-8880-0fad94c298b3"
  },
  {
   "cell_type": "code",
   "metadata": {
    "cell_id": "e708411c0134488995b9f1c17dfc720a",
    "deepnote_cell_type": "code"
   },
   "source": [],
   "block_group": "7fab007fae3b443ea576df4a6affbdf5",
   "execution_count": null,
   "outputs": [],
   "outputs_reference": null
  }
 ],
 "nbformat": 4,
 "nbformat_minor": 0,
 "metadata": {
  "deepnote_persisted_session": {
   "createdAt": "2024-03-26T21:15:21.097Z"
  },
  "deepnote_notebook_id": "7f14276d4b62478ca9e84bf831495e3d",
  "deepnote_execution_queue": []
 }
}
