{
 "cells": [
  {
   "cell_type": "markdown",
   "metadata": {
    "cell_id": "b0469268d21746078f8bdb95dbe0d350",
    "deepnote_cell_type": "text-cell-h1",
    "formattedRanges": []
   },
   "source": [
    "# Explore the Global Coral Database"
   ]
  },
  {
   "cell_type": "markdown",
   "metadata": {
    "cell_id": "6577c1dd6b2840859b66066f76cf7ccf",
    "deepnote_cell_type": "text-cell-h2",
    "formattedRanges": []
   },
   "source": [
    "## Notebook Setup"
   ]
  },
  {
   "cell_type": "markdown",
   "metadata": {
    "cell_id": "14a6368f8d4b4ee5967b31bae918eee0",
    "deepnote_app_block_visible": false,
    "deepnote_cell_type": "text-cell-h3",
    "formattedRanges": [],
    "is_collapsed": false
   },
   "source": [
    "### Import Libraries"
   ]
  },
  {
   "cell_type": "code",
   "execution_count": null,
   "metadata": {
    "ExecuteTime": {
     "end_time": "2024-04-06T22:32:51.084993300Z",
     "start_time": "2024-04-06T22:32:50.488203400Z"
    },
    "cell_id": "f2c4e44c16e54182b42a48be36323841",
    "deepnote_cell_type": "code",
    "deepnote_to_be_reexecuted": false,
    "execution_millis": 1143,
    "execution_start": 1711403589766,
    "source_hash": null
   },
   "outputs": [],
   "source": [
    "# Import Standard Libraries\n",
    "import os\n",
    "import pandas as pd\n",
    "import geopandas as gpd\n",
    "import numpy as np\n",
    "\n",
    "# Import Visualization Libraries\n",
    "import seaborn as sns\n",
    "import matplotlib.pyplot as plt\n",
    "import plotly.express as px\n",
    "import plotly.graph_objects as go\n",
    "\n",
    "# Import custom functions\n",
    "import env_functions as ef\n",
    "import s3_functions as sf"
   ]
  },
  {
   "cell_type": "code",
   "execution_count": null,
   "metadata": {},
   "outputs": [],
   "source": [
    "# Determine the environment and get appropriate vars\n",
    "deepnote, env_vars = ef.load_env_vars()\n",
    "\n",
    "# Iterate through the vars and set them as global vars\n",
    "for var_name, var in env_vars.items():\n",
    "    globals()[var_name] = var\n",
    "\n",
    "# If not in the DeepNote environment, create a dict for aws creds\n",
    "#   that were located in the environment file.  This will be passed\n",
    "#   to all aws s3 functions.\n",
    "if not deepnote:\n",
    "    aws_env_vars = {\n",
    "        'access_key_id': aws_access_key_id,\n",
    "        'secret_access_key': aws_secret_access_key,\n",
    "        'bucket_name': s3_bucket_name\n",
    "    }"
   ]
  },
  {
   "cell_type": "markdown",
   "metadata": {
    "cell_id": "63bb606bb27f4322a980d2c29ebfae87",
    "deepnote_app_block_visible": false,
    "deepnote_cell_type": "text-cell-h3",
    "formattedRanges": [],
    "is_collapsed": false
   },
   "source": [
    "### Import Data"
   ]
  },
  {
   "cell_type": "code",
   "execution_count": null,
   "metadata": {
    "cell_id": "eed1d8d6580d445ca493d3579e2c0da8",
    "deepnote_cell_type": "code",
    "deepnote_to_be_reexecuted": false,
    "execution_millis": 2490,
    "execution_start": 1711403592510,
    "source_hash": null
   },
   "outputs": [],
   "source": [
    "if deepnote:\n",
    "    gcb = pd.read_parquet(\"/work/data/Global_Coral_Bleaching_DB/gcb_v4.parquet\")\n",
    "    meow = gpd.read_file(\"/work/data/MEOW/meow_ecos.shp\")\n",
    "else:\n",
    "    gcb = pd.read_parquet(sf.load_from_s3(file_path=\"data/Global_Coral_Bleaching_DB/gcb_v4.parquet\", **aws_env_vars))\n",
    "    meow = gpd.read_file(sf.load_from_s3(file_path=\"data/MEOW/meow_ecos.zip\", **aws_env_vars))"
   ]
  },
  {
   "cell_type": "code",
   "execution_count": null,
   "metadata": {
    "cell_id": "2a75a2407a4e4a5a8075b7256c34b4aa",
    "deepnote_cell_type": "code",
    "deepnote_table_loading": false,
    "deepnote_table_state": {
     "filters": [],
     "pageIndex": 0,
     "pageSize": 50,
     "sortBy": []
    },
    "deepnote_to_be_reexecuted": false,
    "execution_millis": 749,
    "execution_start": 1709399164227,
    "source_hash": null
   },
   "outputs": [],
   "source": [
    "gcb.sample(20)"
   ]
  },
  {
   "cell_type": "markdown",
   "metadata": {
    "cell_id": "87b84c490c354f1189195ed7b0c5f6c2",
    "deepnote_app_block_visible": false,
    "deepnote_cell_type": "text-cell-h3",
    "formattedRanges": [],
    "is_collapsed": false
   },
   "source": [
    "### Setup Notebook Params"
   ]
  },
  {
   "cell_type": "code",
   "execution_count": null,
   "metadata": {
    "cell_id": "9c86966ffcc842889b34cfcbf4a9ec42",
    "deepnote_cell_type": "code",
    "deepnote_to_be_reexecuted": false,
    "execution_millis": 167,
    "execution_start": 1711403596655,
    "source_hash": null
   },
   "outputs": [],
   "source": [
    "# Pandas Configs\n",
    "pd.set_option('mode.chained_assignment', None)\n",
    "pd.options.display.float_format = '{:.2f}'.format\n",
    "pd.options.display.max_columns = None\n",
    "pd.options.display.max_rows = None\n",
    "\n",
    "# Ignore Warnings\n",
    "import warnings\n",
    "warnings.simplefilter('ignore', category=FutureWarning)\n",
    "warnings.simplefilter('ignore', category=UserWarning)\n",
    "\n",
    "# MapBox Token for Plotly Maps\n",
    "px.set_mapbox_access_token(os.environ.get(\"MAPBOX_TOKEN\"))"
   ]
  },
  {
   "cell_type": "markdown",
   "metadata": {
    "cell_id": "cb9a8ee66ee8417db6b61b7321dc45cb",
    "deepnote_app_block_visible": false,
    "deepnote_cell_type": "text-cell-h2",
    "formattedRanges": [],
    "is_collapsed": false
   },
   "source": [
    "## Exploration"
   ]
  },
  {
   "cell_type": "code",
   "execution_count": null,
   "metadata": {
    "cell_id": "a3bb5ef31379413eafad458005688d62",
    "deepnote_cell_type": "code",
    "deepnote_to_be_reexecuted": false,
    "execution_millis": 108,
    "execution_start": 1709399195830,
    "source_hash": null
   },
   "outputs": [],
   "source": [
    "# Top 20 countries represented in the data\n",
    "gcb.Country_Name.value_counts().head(20)"
   ]
  },
  {
   "cell_type": "code",
   "execution_count": null,
   "metadata": {
    "cell_id": "76bcd617995549bb8fc78e9a71e337f8",
    "deepnote_cell_type": "code",
    "deepnote_to_be_reexecuted": false,
    "execution_millis": 747,
    "execution_start": 1709399198090,
    "source_hash": null
   },
   "outputs": [],
   "source": [
    "# Choropleth of Countries Obs Counts\n",
    "obs_per_country = gcb.groupby('Country_Code').size().reset_index(name='Observation_Counts')\n",
    "fig = px.choropleth(obs_per_country,\n",
    "                    locations='Country_Code',\n",
    "                    locationmode='ISO-3',\n",
    "                    color='Observation_Counts',\n",
    "                    color_continuous_scale=px.colors.sequential.Plasma,\n",
    "                    labels={'Observation_Counts': 'Number of Observations'},\n",
    "                    title='Global Distribution of Observations by Country Code')\n",
    "\n",
    "fig.show()"
   ]
  },
  {
   "cell_type": "code",
   "execution_count": null,
   "metadata": {
    "allow_embed": false,
    "cell_id": "adb61484ee1f48f7a071361edf235dab",
    "deepnote_cell_type": "code",
    "deepnote_to_be_reexecuted": false,
    "execution_millis": 268,
    "execution_start": 1709399199881,
    "source_hash": null
   },
   "outputs": [],
   "source": [
    "# Choropleth of Countries Site Counts\n",
    "sites_per_country = gcb.groupby('Country_Code')['Site_ID'].nunique().reset_index(name='Unique_Site_Counts')\n",
    "fig = px.choropleth(sites_per_country,\n",
    "                    locations='Country_Code',\n",
    "                    locationmode='ISO-3',\n",
    "                    color='Unique_Site_Counts',\n",
    "                    color_continuous_scale=px.colors.sequential.Viridis,\n",
    "                    labels={'Unique_Site_Counts': 'Number of Unique Sites'},\n",
    "                    title='Number of Unique Sites per Country')\n",
    "\n",
    "fig.show()"
   ]
  },
  {
   "cell_type": "code",
   "execution_count": null,
   "metadata": {
    "allow_embed": false,
    "cell_id": "2466839e37e14b5c857325ac602d4758",
    "deepnote_cell_type": "code",
    "deepnote_to_be_reexecuted": false,
    "execution_millis": 501,
    "execution_start": 1709399203021,
    "source_hash": null
   },
   "outputs": [],
   "source": [
    "# Map of Site Locations\n",
    "\n",
    "fig = px.scatter_geo(gcb.sample(10000), lat=\"Latitude_Degrees\", lon=\"Longitude_Degrees\", hover_name=\"Country_Name\",\n",
    "                     color=\"Temperature_Mean\", size=\"Percent_Bleached_Value\", projection=\"orthographic\")\n",
    "\n",
    "fig.show()"
   ]
  },
  {
   "cell_type": "code",
   "execution_count": null,
   "metadata": {
    "cell_id": "bb929411fa7841f7861ef0ad4615d217",
    "deepnote_cell_type": "code",
    "deepnote_to_be_reexecuted": false,
    "execution_millis": 160,
    "execution_start": 1709399208032,
    "source_hash": null
   },
   "outputs": [],
   "source": [
    "# Country names for the Top 20 sampled sites represented in the data\n",
    "gcb[gcb.Site_ID.isin(gcb.groupby('Site_ID').size().sort_values(ascending=False).head(20).index)]['Country_Name'].drop_duplicates()"
   ]
  },
  {
   "cell_type": "code",
   "execution_count": null,
   "metadata": {
    "cell_id": "0c5eb26239e14bf8b6d442a74cbb8524",
    "deepnote_cell_type": "code",
    "deepnote_to_be_reexecuted": false,
    "execution_millis": 415,
    "execution_start": 1709399211516,
    "source_hash": null
   },
   "outputs": [],
   "source": [
    "# Count of samples over time\n",
    "gcb['Month_Year'] = gcb['Date'].dt.to_period('M')\n",
    "obs_per_mo = gcb.groupby('Month_Year').size().reset_index(name=\"Counts\")\n",
    "obs_per_mo['Month_Year'] = obs_per_mo['Month_Year'].dt.to_timestamp()\n",
    "\n",
    "fig = px.line(obs_per_mo, x='Month_Year', y='Counts',\n",
    "              title='Monthly Observation Counts',\n",
    "              labels={'Month_Year': 'Month/Year', 'Counts': 'Count of Observations'})\n",
    "\n",
    "fig.show()"
   ]
  },
  {
   "cell_type": "code",
   "execution_count": null,
   "metadata": {
    "cell_id": "42ad1caea63044038df30172eceed4bd",
    "deepnote_cell_type": "code",
    "deepnote_to_be_reexecuted": false,
    "execution_millis": 207,
    "execution_start": 1709399216270,
    "source_hash": null
   },
   "outputs": [],
   "source": [
    "# Count of Obs by Month\n",
    "month_short_names = {1: 'Jan', 2: 'Feb', 3: 'Mar', 4: 'Apr', 5: 'May', 6: 'Jun',\n",
    "                    7: 'Jul', 8: 'Aug', 9: 'Sep', 10: 'Oct', 11: 'Nov', 12: 'Dec'}\n",
    "\n",
    "obs_by_month = gcb.groupby('Date_Month').size().reset_index(name='Observation_Counts')\n",
    "obs_by_month['Month_Name'] = obs_by_month['Date_Month'].map(month_short_names)\n",
    "\n",
    "fig = px.bar(obs_by_month,\n",
    "             x='Month_Name',\n",
    "             y='Observation_Counts',\n",
    "             labels={'Month_Name': 'Month', 'Observation_Counts': 'Number of Observations'},\n",
    "             title='Number of Observations by Month')\n",
    "\n",
    "fig.update_layout(xaxis={'categoryorder':'array','categoryarray':list(month_short_names.values())})\n",
    "\n",
    "fig.show()"
   ]
  },
  {
   "cell_type": "code",
   "execution_count": null,
   "metadata": {
    "cell_id": "09a27119cec845389ad00d5e9ff33367",
    "deepnote_cell_type": "code",
    "deepnote_to_be_reexecuted": false,
    "execution_millis": 257,
    "execution_start": 1709399219001,
    "source_hash": null
   },
   "outputs": [],
   "source": [
    "# Sites with 75%+ Bleaching 2015-2020\n",
    "obs_bleached_5yr = gcb[(gcb.Percent_Bleached_Value >= 75) & (gcb.Date_Year.between(2015,2020, inclusive='both'))]\n",
    "obs_bleached_5yr.Date_Year = obs_bleached_5yr.Date_Year.astype('int').astype('str')\n",
    "\n",
    "fig = px.scatter_geo(obs_bleached_5yr, lat=\"Latitude_Degrees\", lon=\"Longitude_Degrees\", hover_name=\"Country_Name\",\n",
    "                     color=\"Date_Year\", projection=\"orthographic\",\n",
    "                     title=\"Sites with 75%+ Bleaching 2015-2020\")\n",
    "\n",
    "fig.update_layout(legend_title=\"Year\")\n",
    "fig.update_traces(marker=dict(line=dict(width=0)))\n",
    "\n",
    "fig.show()"
   ]
  },
  {
   "cell_type": "code",
   "execution_count": null,
   "metadata": {
    "cell_id": "0f2c2953167e48079eaa617e7ac8d7e9",
    "deepnote_cell_type": "code",
    "deepnote_table_loading": false,
    "deepnote_table_state": {
     "filters": [],
     "pageIndex": 16,
     "pageSize": 25,
     "sortBy": []
    },
    "deepnote_to_be_reexecuted": false,
    "execution_millis": 836,
    "execution_start": 1709399228113,
    "source_hash": null
   },
   "outputs": [],
   "source": [
    "obs_bleached_5yr"
   ]
  },
  {
   "cell_type": "code",
   "execution_count": null,
   "metadata": {
    "cell_id": "c6d28b74d56c46e7875cf891e618164b",
    "deepnote_cell_type": "code",
    "deepnote_to_be_reexecuted": false,
    "execution_millis": 433,
    "execution_start": 1709399376598,
    "source_hash": null
   },
   "outputs": [],
   "source": [
    "# Coral Triangle Region with Sites of 75%+ Bleaching between 2015-2020\n",
    "\n",
    "# Define the Coral Triangle region\n",
    "coral_triangle = meow[meow.PROVINCE.isin(['Western Coral Triangle', 'Eastern Coral Triangle'])]\n",
    "coral_triangle_geo = coral_triangle.geometry.__geo_interface__\n",
    "\n",
    "# Plot the sites\n",
    "fig_scatter = px.scatter_mapbox(obs_bleached_5yr[obs_bleached_5yr.PROVINCE.isin(['Western Coral Triangle', 'Eastern Coral Triangle'])],\n",
    "                                lat=\"Latitude_Degrees\",\n",
    "                                lon=\"Longitude_Degrees\",\n",
    "                                hover_name=\"Country_Name\",\n",
    "                                color=\"Date_Year\",\n",
    "                                size=\"Percent_Bleached_Value\",\n",
    "                                color_continuous_scale=px.colors.cyclical.IceFire,\n",
    "                                size_max=15,\n",
    "                                zoom=2.65,\n",
    "                                center={\"lat\": 0, \"lon\": 138.5},\n",
    "                                title=\"Sites with 75%+ Bleaching 2015-2020\")\n",
    "\n",
    "# Create the Coral Triangle map\n",
    "fig_choropleth = px.choropleth_mapbox(coral_triangle, \n",
    "                                      geojson=coral_triangle_geo, \n",
    "                                      color='ECOREGION',\n",
    "                                      opacity=0.25, \n",
    "                                      locations=coral_triangle.index,\n",
    "                                      center={\"lat\": 2, \"lon\": 138.5},\n",
    "                                      mapbox_style=\"carto-positron\",\n",
    "                                      zoom=2.65,\n",
    "                                      title='Coral Triangle Region')\n",
    "\n",
    "# Add the site plots to the Coral Triangle map\n",
    "for trace in fig_scatter.data:\n",
    "    fig_choropleth.add_trace(trace)\n",
    "\n",
    "fig_choropleth.update_layout(title_text=\"Coral Triangle Region with Sites of 75%+ Bleaching 2015-2020\")\n",
    "\n",
    "fig_choropleth.show()"
   ]
  },
  {
   "cell_type": "code",
   "execution_count": null,
   "metadata": {
    "cell_id": "07aa0e497a4c4f088436a7762d79cdd9",
    "deepnote_cell_type": "code",
    "deepnote_to_be_reexecuted": false,
    "execution_millis": 10733,
    "execution_start": 1709399575478,
    "source_hash": null
   },
   "outputs": [],
   "source": [
    "# Correlation Matrix\n",
    "gcb_numeric = gcb.select_dtypes(include=['float64','int64','int8'])\n",
    "\n",
    "# Remove cols from the gcb_numeric in prep for corr_matrix:\n",
    "# SSTA_Mean: Always 0\n",
    "# S1, S2, S3, S4: Composite for Percent_Bleached_Value\n",
    "# Severity_ID, Bleaching_Prevalence_Score_ID: Estimates for Percent_Bleached_Value\n",
    "# Site_ID, Sample_ID: Relational Lookup Keys\n",
    "gcb_numeric_drop_cols = ['SSTA_Mean','Severity_ID','Bleaching_Prevalence_Score_ID',\n",
    "                         'Site_ID','Sample_ID','S1','S2','S3','S4']\n",
    "gcb_numeric.drop(columns=gcb_numeric_drop_cols, axis=1, inplace=True)\n",
    "\n",
    "# Create the correlation matrix\n",
    "corr_matrix = gcb_numeric.corr(method='pearson')\n",
    "\n",
    "# Plot the matrix\n",
    "plt.figure(figsize=(50, 40))  # Adjust the figure size as needed\n",
    "sns.heatmap(corr_matrix, annot=True, fmt=\".2f\", cmap='coolwarm', cbar=True, square=True)\n",
    "\n",
    "plt.xticks(rotation=45, ha='right')\n",
    "#plt.yticks(rotation=45)\n",
    "plt.title('Pearson Correlation Matrix')\n",
    "\n",
    "plt.show()"
   ]
  },
  {
   "cell_type": "code",
   "execution_count": null,
   "metadata": {
    "cell_id": "ad26b8af2cdc43beac18b663bd9f1a7c",
    "deepnote_cell_type": "code",
    "deepnote_table_loading": false,
    "deepnote_table_state": {
     "filters": [],
     "pageIndex": 0,
     "pageSize": 50,
     "sortBy": []
    },
    "deepnote_to_be_reexecuted": false,
    "execution_millis": 338,
    "execution_start": 1709399609430,
    "source_hash": null
   },
   "outputs": [],
   "source": [
    "# Bleaching by Country\n",
    "# How to do this reasonably ... avg by obs per year per country?  Let's start there\n",
    "#  Okay, after having tried this, the problem is that it's very site dependent, especially for \n",
    "#  larger countries (United States, Mexico) or widely distributed countries (Indonesia, Micronesia)\n",
    "\n",
    "# Bleaching by ecoregion instead ... better\n",
    "# gcb.groupby(['Ecoregion_Name','Date_Year'])['Percent_Bleached_Value'].mean().reset_index()\n",
    "\n",
    "# Bleaching by MEOW Province\n",
    "gcb.groupby(['PROVINCE','Date_Year'])['Percent_Bleached_Value'].mean().reset_index()"
   ]
  },
  {
   "cell_type": "code",
   "execution_count": null,
   "metadata": {
    "cell_id": "105b5bd19bce4251bda600a012a3a741",
    "deepnote_cell_type": "code",
    "deepnote_to_be_reexecuted": false,
    "execution_millis": 894,
    "execution_start": 1711403809967,
    "source_hash": null
   },
   "outputs": [],
   "source": [
    "gcb_filtered= gcb[(gcb[\"Substrate_Name\"] == \"Hard Coral\")]\n",
    "gcb_filtered = gcb_filtered[gcb_filtered[\"Bleached_Value_Imputed\"] == False]\n",
    "gcb_filtered.groupby(['Year'])['Percent_Bleached_Value'].mean()\n",
    "\n",
    "sns.lineplot(data=gcb_filtered, x=\"Year\", y=\"Percent_Bleached_Value\")"
   ]
  },
  {
   "cell_type": "code",
   "execution_count": null,
   "metadata": {
    "cell_id": "f1afb105282142fcbb4761ffcb869e9b",
    "deepnote_cell_type": "code",
    "deepnote_to_be_reexecuted": false,
    "execution_millis": 297,
    "execution_start": 1711406713987,
    "source_hash": null
   },
   "outputs": [],
   "source": [
    "gcb_filtered.columns"
   ]
  },
  {
   "cell_type": "code",
   "execution_count": null,
   "metadata": {
    "cell_id": "4595495f6b8a4d9b8ea81456fa8371e2",
    "deepnote_cell_type": "code",
    "deepnote_to_be_reexecuted": false,
    "execution_millis": 694,
    "execution_start": 1711406726381,
    "source_hash": null
   },
   "outputs": [],
   "source": [
    "sns.lineplot(data=gcb_filtered, x=\"Year\", y=\"SSTA\")"
   ]
  },
  {
   "cell_type": "code",
   "execution_count": null,
   "metadata": {
    "cell_id": "55e8136d08914f0f8ed6b88d08b19c0b",
    "deepnote_cell_type": "code",
    "deepnote_to_be_reexecuted": false,
    "execution_millis": 663,
    "execution_start": 1711406758621,
    "source_hash": null
   },
   "outputs": [],
   "source": [
    "sns.lineplot(data=gcb_filtered, x=\"Year\", y=\"SSTA_Minimum\")"
   ]
  },
  {
   "cell_type": "code",
   "execution_count": null,
   "metadata": {
    "cell_id": "c065abad4095440b9603d1f90bf13aaa",
    "deepnote_cell_type": "code",
    "deepnote_to_be_reexecuted": false,
    "execution_millis": 643,
    "execution_start": 1711406783274,
    "source_hash": null
   },
   "outputs": [],
   "source": [
    "sns.lineplot(data=gcb_filtered, x=\"Year\", y=\"SSTA_Maximum\")"
   ]
  },
  {
   "cell_type": "code",
   "execution_count": null,
   "metadata": {
    "cell_id": "fef0b481864640cb992b6efb15061fef",
    "deepnote_cell_type": "code",
    "deepnote_table_loading": false,
    "deepnote_table_state": {
     "filters": [],
     "pageIndex": 6,
     "pageSize": 10,
     "sortBy": []
    },
    "deepnote_to_be_reexecuted": false,
    "execution_millis": 419,
    "execution_start": 1711403962906,
    "source_hash": null
   },
   "outputs": [],
   "source": [
    "gcb[gcb['Percent_Bleached_Value'] == 0].groupby(['Year']).size()"
   ]
  },
  {
   "cell_type": "code",
   "execution_count": null,
   "metadata": {
    "cell_id": "dbd5e10e5edf4dc398e48281025d3782",
    "deepnote_cell_type": "code",
    "deepnote_to_be_reexecuted": false,
    "execution_millis": 248,
    "execution_start": 1711404012906,
    "source_hash": null
   },
   "outputs": [],
   "source": [
    "gcb.groupby(['Year']).size()"
   ]
  },
  {
   "cell_type": "code",
   "execution_count": null,
   "metadata": {
    "cell_id": "a80fffc0e1394c258a2b7b024908005e",
    "deepnote_cell_type": "code",
    "deepnote_to_be_reexecuted": false,
    "execution_millis": 109,
    "execution_start": 1711404355942,
    "source_hash": null
   },
   "outputs": [],
   "source": [
    "gcb.groupby('Year')['Site_ID'].nunique()"
   ]
  },
  {
   "cell_type": "code",
   "execution_count": null,
   "metadata": {
    "cell_id": "d33f5f1dd3cd434ea1e9c1f6c6886071",
    "deepnote_cell_type": "code",
    "deepnote_to_be_reexecuted": false,
    "execution_millis": 98,
    "execution_start": 1711404262303,
    "source_hash": null
   },
   "outputs": [],
   "source": [
    "gcb.groupby(['Year']).size()/gcb.groupby('Year')['Site_ID'].nunique()"
   ]
  },
  {
   "cell_type": "code",
   "execution_count": null,
   "metadata": {
    "cell_id": "9ed1f5cd3dfd4caabaa97b3166980cf4",
    "deepnote_cell_type": "code",
    "deepnote_to_be_reexecuted": false,
    "execution_millis": 416,
    "execution_start": 1711404762605,
    "source_hash": null
   },
   "outputs": [],
   "source": [
    "gcb.groupby(['Year','PROVINCE']).size()"
   ]
  },
  {
   "cell_type": "code",
   "execution_count": null,
   "metadata": {
    "cell_id": "18e31f173cfd4f59b86ffd5882e3bc9b",
    "deepnote_cell_type": "code",
    "deepnote_to_be_reexecuted": false,
    "execution_millis": 357,
    "execution_start": 1711405072037,
    "source_hash": null
   },
   "outputs": [],
   "source": [
    "gcb.groupby(['Site_ID','Year']).size().sort_values(ascending=False).head(100)"
   ]
  },
  {
   "cell_type": "code",
   "execution_count": null,
   "metadata": {
    "cell_id": "60e6284232434b959abec3ac28dbc0d0",
    "deepnote_cell_type": "code",
    "deepnote_to_be_reexecuted": false,
    "execution_millis": 177,
    "execution_start": 1711405233316,
    "source_hash": null
   },
   "outputs": [],
   "source": [
    "gcb[gcb.Site_ID == 9530].groupby('Year').size()"
   ]
  },
  {
   "cell_type": "code",
   "execution_count": null,
   "metadata": {
    "cell_id": "d2fd6129839949228fec5e62be013a92",
    "deepnote_cell_type": "code",
    "deepnote_to_be_reexecuted": false,
    "execution_millis": 313,
    "execution_start": 1711405564140,
    "source_hash": null
   },
   "outputs": [],
   "source": [
    "gcb[gcb['Percent_Bleached_Value'] == 0][['Site_ID','Year']].groupby(['Site_ID','Year']).size().sort_values(ascending=False).head(200)"
   ]
  },
  {
   "cell_type": "code",
   "execution_count": null,
   "metadata": {
    "cell_id": "e708411c0134488995b9f1c17dfc720a",
    "deepnote_cell_type": "code"
   },
   "outputs": [],
   "source": []
  }
 ],
 "metadata": {
  "deepnote_execution_queue": [],
  "deepnote_notebook_id": "7f14276d4b62478ca9e84bf831495e3d",
  "deepnote_persisted_session": {
   "createdAt": "2024-03-26T21:15:21.097Z"
  },
  "kernelspec": {
   "display_name": "Python 3 (ipykernel)",
   "language": "python",
   "name": "python3"
  },
  "language_info": {
   "codemirror_mode": {
    "name": "ipython",
    "version": 3
   },
   "file_extension": ".py",
   "mimetype": "text/x-python",
   "name": "python",
   "nbconvert_exporter": "python",
   "pygments_lexer": "ipython3",
   "version": "3.11.5"
  }
 },
 "nbformat": 4,
 "nbformat_minor": 1
}
