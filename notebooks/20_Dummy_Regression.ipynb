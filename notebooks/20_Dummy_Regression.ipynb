{
 "cells": [
  {
   "cell_type": "markdown",
   "metadata": {
    "formattedRanges": [],
    "cell_id": "3fd3e59ab8ad4e9583c6c7f07f5bac8a",
    "deepnote_cell_type": "text-cell-h1"
   },
   "source": [
    "# Regression - Dummy- GLOB/SEAA/CARB"
   ],
   "block_group": "32f6fa1f7f994b23b0b2b2dc8b0bf23f"
  },
  {
   "cell_type": "markdown",
   "metadata": {
    "formattedRanges": [],
    "cell_id": "75f85249395a41159bee3f076417e551",
    "deepnote_cell_type": "text-cell-h2"
   },
   "source": [
    "## Notebook Setup"
   ],
   "block_group": "29ed4039cfd54b349b8f3d87d7145ed2"
  },
  {
   "cell_type": "markdown",
   "metadata": {
    "formattedRanges": [],
    "cell_id": "2be2bc377523480b814b8c2df8385186",
    "deepnote_cell_type": "text-cell-h3"
   },
   "source": [
    "### Import Libraries"
   ],
   "block_group": "30174eb3e1644d56a9722f4cadbae9ea"
  },
  {
   "cell_type": "code",
   "metadata": {
    "source_hash": null,
    "execution_start": 1711505267804,
    "execution_millis": 1363,
    "deepnote_to_be_reexecuted": false,
    "cell_id": "035959358deb466387efc80aa7921016",
    "deepnote_cell_type": "code"
   },
   "source": [
    "# Import Standard Libraries\n",
    "import os\n",
    "import datetime\n",
    "import pickle\n",
    "import pandas as pd\n",
    "import numpy as np\n",
    "\n",
    "# Import Visualization Libraries\n",
    "import seaborn as sns\n",
    "import matplotlib.pyplot as plt\n",
    "import plotly.express as px\n",
    "import plotly.graph_objects as go\n",
    "import shap"
   ],
   "block_group": "05c857c6f7da4c33843aa801a1f1d5eb",
   "execution_count": null,
   "outputs": [],
   "outputs_reference": "dbtable:cell_outputs/e42332d2-827d-43ab-9d7c-dbdade30d38f"
  },
  {
   "cell_type": "code",
   "metadata": {
    "source_hash": null,
    "execution_start": 1711505287218,
    "execution_millis": 584,
    "deepnote_to_be_reexecuted": false,
    "cell_id": "53c34587d3ae40bca9f1c0cdddef6c03",
    "deepnote_cell_type": "code"
   },
   "source": [
    "# Import Modeling Libraries\n",
    "from sklearn import set_config\n",
    "from sklearn.inspection import permutation_importance\n",
    "from sklearn.dummy import DummyRegressor\n",
    "from sklearn.model_selection import KFold, cross_val_score\n",
    "from sklearn.metrics import r2_score, mean_absolute_error, mean_squared_error\n",
    "from hyperopt import STATUS_OK, Trials, fmin, hp, tpe, anneal\n",
    "from hyperopt.early_stop import no_progress_loss\n",
    "import neptune"
   ],
   "block_group": "bbc9a4f4fb38400583bcd92244ffeb26",
   "execution_count": null,
   "outputs": [],
   "outputs_reference": null
  },
  {
   "cell_type": "code",
   "metadata": {
    "source_hash": null,
    "execution_start": 1711505288867,
    "execution_millis": 110,
    "deepnote_to_be_reexecuted": false,
    "cell_id": "d3564a71fd1645569aabc767952c627c",
    "deepnote_cell_type": "code"
   },
   "source": [
    "# Pandas Configs\n",
    "pd.set_option('mode.chained_assignment', None)\n",
    "pd.options.display.float_format = '{:.2f}'.format\n",
    "pd.options.display.max_columns = None\n",
    "pd.options.display.max_rows = None\n",
    "\n",
    "# Ignore Warnings\n",
    "import warnings\n",
    "warnings.simplefilter('ignore', category=FutureWarning)\n",
    "warnings.simplefilter('ignore', category=UserWarning)\n",
    "warnings.simplefilter(action=\"ignore\", category=pd.errors.PerformanceWarning)\n",
    "\n",
    "# MapBox Token for Plotly Maps\n",
    "px.set_mapbox_access_token(os.environ.get(\"MAPBOX_TOKEN\"))\n",
    "\n",
    "# Scikit Learn Configs\n",
    "set_config(transform_output=\"pandas\")"
   ],
   "block_group": "3843638c580f457a96c6f8b9104151a1",
   "execution_count": null,
   "outputs": [],
   "outputs_reference": null
  },
  {
   "cell_type": "markdown",
   "metadata": {
    "is_collapsed": false,
    "formattedRanges": [],
    "deepnote_app_block_visible": false,
    "cell_id": "6fe7ff7898c1436d96b00a67adc8415e",
    "deepnote_cell_type": "text-cell-h3"
   },
   "source": [
    "### Import Data"
   ],
   "block_group": "54c1f8bc3dae449d8cd8f57783816481"
  },
  {
   "cell_type": "code",
   "metadata": {
    "source_hash": null,
    "execution_start": 1711505290050,
    "execution_millis": 5864,
    "deepnote_to_be_reexecuted": false,
    "cell_id": "6a7cea78959348e1b9ce785d58e070e3",
    "deepnote_cell_type": "code"
   },
   "source": [
    "# GLOB Data\n",
    "X_train_trans_GLOB = pd.read_parquet(\"/work/data/Xy_Data/X_train_trans_GLOB.parquet\")\n",
    "X_val_trans_GLOB = pd.read_parquet(\"/work/data/Xy_Data/X_val_trans_GLOB.parquet\")\n",
    "X_holdout_trans_GLOB = pd.read_parquet(\"/work/data/Xy_Data/X_holdout_trans_GLOB.parquet\")\n",
    "\n",
    "y_train_GLOB = pd.read_parquet(\"/work/data/Xy_Data/y_train_GLOB.parquet\")\n",
    "y_val_GLOB = pd.read_parquet(\"/work/data/Xy_Data/y_val_GLOB.parquet\")\n",
    "y_holdout_GLOB = pd.read_parquet(\"/work/data/Xy_Data/y_holdout_GLOB.parquet\")\n",
    "\n",
    "# CARB Data\n",
    "X_train_trans_CARB = pd.read_parquet(\"/work/data/Xy_Data/X_train_trans_CARB.parquet\")\n",
    "X_val_trans_CARB = pd.read_parquet(\"/work/data/Xy_Data/X_val_trans_CARB.parquet\")\n",
    "X_holdout_trans_CARB = pd.read_parquet(\"/work/data/Xy_Data/X_holdout_trans_CARB.parquet\")\n",
    "\n",
    "y_train_CARB = pd.read_parquet(\"/work/data/Xy_Data/y_train_CARB.parquet\")\n",
    "y_val_CARB = pd.read_parquet(\"/work/data/Xy_Data/y_val_CARB.parquet\")\n",
    "y_holdout_CARB = pd.read_parquet(\"/work/data/Xy_Data/y_holdout_CARB.parquet\")\n",
    "\n",
    "# SEAA Data\n",
    "X_train_trans_SEAA = pd.read_parquet(\"/work/data/Xy_Data/X_train_trans_SEAA.parquet\")\n",
    "X_val_trans_SEAA = pd.read_parquet(\"/work/data/Xy_Data/X_val_trans_SEAA.parquet\")\n",
    "X_holdout_trans_SEAA = pd.read_parquet(\"/work/data/Xy_Data/X_holdout_trans_SEAA.parquet\")\n",
    "\n",
    "y_train_SEAA = pd.read_parquet(\"/work/data/Xy_Data/y_train_SEAA.parquet\")\n",
    "y_val_SEAA = pd.read_parquet(\"/work/data/Xy_Data/y_val_SEAA.parquet\")\n",
    "y_holdout_SEAA = pd.read_parquet(\"/work/data/Xy_Data/y_holdout_SEAA.parquet\")"
   ],
   "block_group": "491aa4ccb7fd4646adcebf55131e157e",
   "execution_count": null,
   "outputs": [],
   "outputs_reference": null
  },
  {
   "cell_type": "markdown",
   "metadata": {
    "formattedRanges": [],
    "cell_id": "61421c3d689b4ea59225d177a93b753e",
    "deepnote_cell_type": "text-cell-h2"
   },
   "source": [
    "## Dummy Regression Models"
   ],
   "block_group": "27c47b043a474c11807ca4d1b9a6af0f"
  },
  {
   "cell_type": "code",
   "metadata": {
    "source_hash": null,
    "execution_start": 1711505321285,
    "execution_millis": 25,
    "deepnote_to_be_reexecuted": false,
    "cell_id": "c842d5804ae24991b906e26caa0417a5",
    "deepnote_cell_type": "code"
   },
   "source": [
    "def dummy_model_run(model, X_train_trans, y_train, X_val_trans, y_val):\n",
    "\n",
    "    model.fit(X_train_trans, y_train) # fit\n",
    "    predictions = model.predict(X_val_trans) # predict\n",
    "    mae = mean_absolute_error(y_val, predictions) #score\n",
    "    deltas = y_val - predictions.reshape(-1, 1)\n",
    "\n",
    "    return mae, predictions, deltas"
   ],
   "block_group": "760967c0e4034b9fa40436a26b432724",
   "execution_count": null,
   "outputs": [],
   "outputs_reference": null
  },
  {
   "cell_type": "code",
   "metadata": {
    "source_hash": null,
    "execution_start": 1711505323050,
    "execution_millis": 70,
    "deepnote_to_be_reexecuted": false,
    "cell_id": "4382331147b74c098ad463606cee0b1a",
    "deepnote_cell_type": "code"
   },
   "source": [
    "quantile_25_model = DummyRegressor(strategy='quantile', quantile=0.25)\n",
    "quantile_75_model = DummyRegressor(strategy='quantile', quantile=0.75)\n",
    "median_model = DummyRegressor(strategy='median')\n",
    "mean_model = DummyRegressor(strategy='mean')"
   ],
   "block_group": "55c75ce956144cbcb2b531efd56a67ba",
   "execution_count": null,
   "outputs": [],
   "outputs_reference": null
  },
  {
   "cell_type": "code",
   "metadata": {
    "source_hash": null,
    "execution_start": 1711505323908,
    "execution_millis": 20,
    "deepnote_to_be_reexecuted": false,
    "cell_id": "20c623fafc914268b728c229dac820cd",
    "deepnote_cell_type": "code"
   },
   "source": [
    "# GLOB\n",
    "mae_quant25_GLOB, predictions_quant25_GLOB, delta_quant25_GLOB = dummy_model_run(quantile_25_model, X_train_trans_GLOB, y_train_GLOB, X_val_trans_GLOB, y_val_GLOB)\n",
    "mae_quant75_GLOB, predictions_quant75_GLOB, delta_quant75_GLOB = dummy_model_run(quantile_75_model, X_train_trans_GLOB, y_train_GLOB, X_val_trans_GLOB, y_val_GLOB)\n",
    "mae_median_GLOB, predictions_median_GLOB, delta_median_GLOB = dummy_model_run(median_model, X_train_trans_GLOB, y_train_GLOB, X_val_trans_GLOB, y_val_GLOB)\n",
    "mae_mean_GLOB, predictions_mean_GLOB, delta_mean_GLOB = dummy_model_run(mean_model, X_train_trans_GLOB, y_train_GLOB, X_val_trans_GLOB, y_val_GLOB)\n",
    "\n",
    "print(f\"Quantile 25 Mean Absolute Error: {mae_quant25_GLOB:.4f}\")\n",
    "print(f\"Quantile 75 Mean Absolute Error: {mae_quant75_GLOB:.4f}\")\n",
    "print(f\"Median Mean Absolute Error: {mae_median_GLOB:.4f}\")\n",
    "print(f\"Mean Mean Absolute Error: {mae_mean_GLOB:.4f}\")"
   ],
   "block_group": "db935bc453b5418da992524765877681",
   "execution_count": null,
   "outputs": [],
   "outputs_reference": "dbtable:cell_outputs/88ddb6a0-3338-4373-8c9b-d4698ae06449"
  },
  {
   "cell_type": "code",
   "metadata": {
    "source_hash": null,
    "execution_start": 1711505328162,
    "execution_millis": 76,
    "deepnote_to_be_reexecuted": false,
    "cell_id": "4850fb259b9d47f48c96f09758382436",
    "deepnote_cell_type": "code"
   },
   "source": [
    "# SEAA\n",
    "mae_quant25_SEAA, predictions_quant25_SEAA, delta_quant25_SEAA = dummy_model_run(quantile_25_model, X_train_trans_SEAA, y_train_SEAA, X_val_trans_SEAA, y_val_SEAA)\n",
    "mae_quant75_SEAA, predictions_quant75_SEAA, delta_quant75_SEAA = dummy_model_run(quantile_75_model, X_train_trans_SEAA, y_train_SEAA, X_val_trans_SEAA, y_val_SEAA)\n",
    "mae_median_SEAA, predictions_median_SEAA, delta_median_SEAA = dummy_model_run(median_model, X_train_trans_SEAA, y_train_SEAA, X_val_trans_SEAA, y_val_SEAA)\n",
    "mae_mean_SEAA, predictions_mean_SEAA, delta_mean_SEAA = dummy_model_run(mean_model, X_train_trans_SEAA, y_train_SEAA, X_val_trans_SEAA, y_val_SEAA)\n",
    "\n",
    "print(f\"Quantile 25 Mean Absolute Error: {mae_quant25_SEAA:.4f}\")\n",
    "print(f\"Quantile 75 Mean Absolute Error: {mae_quant75_SEAA:.4f}\")\n",
    "print(f\"Median Mean Absolute Error: {mae_median_SEAA:.4f}\")\n",
    "print(f\"Mean Mean Absolute Error: {mae_mean_SEAA:.4f}\")"
   ],
   "block_group": "849b46c1518e44c3a8fcc9cdac1a69be",
   "execution_count": null,
   "outputs": [],
   "outputs_reference": "dbtable:cell_outputs/19086499-0d71-4e5c-8551-254da3b7fd76"
  },
  {
   "cell_type": "code",
   "metadata": {
    "source_hash": null,
    "execution_start": 1711505343184,
    "execution_millis": 24,
    "deepnote_to_be_reexecuted": false,
    "cell_id": "aa9def5bfb744a8a8ba9e98021ebef00",
    "deepnote_cell_type": "code"
   },
   "source": [
    "# CARB\n",
    "mae_quant25_CARB, predictions_quant25_CARB, delta_quant25_CARB = dummy_model_run(quantile_25_model, X_train_trans_CARB, y_train_CARB, X_val_trans_CARB, y_val_CARB)\n",
    "mae_quant75_CARB, predictions_quant75_CARB, delta_quant75_CARB = dummy_model_run(quantile_75_model, X_train_trans_CARB, y_train_CARB, X_val_trans_CARB, y_val_CARB)\n",
    "mae_median_CARB, predictions_median_CARB, delta_median_CARB = dummy_model_run(median_model, X_train_trans_CARB, y_train_CARB, X_val_trans_CARB, y_val_CARB)\n",
    "mae_mean_CARB, predictions_mean_CARB, delta_mean_CARB = dummy_model_run(mean_model, X_train_trans_CARB, y_train_CARB, X_val_trans_CARB, y_val_CARB)\n",
    "\n",
    "print(f\"Quantile 25 Mean Absolute Error: {mae_quant25_CARB:.4f}\")\n",
    "print(f\"Quantile 75 Mean Absolute Error: {mae_quant75_CARB:.4f}\")\n",
    "print(f\"Median Mean Absolute Error: {mae_median_CARB:.4f}\")\n",
    "print(f\"Mean Mean Absolute Error: {mae_mean_CARB:.4f}\")"
   ],
   "block_group": "644caa583ca743889fbc33e45326d048",
   "execution_count": null,
   "outputs": [],
   "outputs_reference": "dbtable:cell_outputs/fec457ef-dd04-4e70-9690-9c4e3501c8dd"
  },
  {
   "cell_type": "markdown",
   "metadata": {
    "formattedRanges": [],
    "cell_id": "0f27aca4b7534024949005bd04bcc3d2",
    "deepnote_cell_type": "text-cell-h2"
   },
   "source": [
    "## Analyzing the Data"
   ],
   "block_group": "e5cda272ce6046c4b50b35d41cac4043"
  },
  {
   "cell_type": "code",
   "metadata": {
    "source_hash": null,
    "execution_start": 1711505354114,
    "execution_millis": 1749,
    "deepnote_to_be_reexecuted": false,
    "cell_id": "86cf88767fa149748a907c6b6f3e097e",
    "deepnote_cell_type": "code"
   },
   "source": [
    "fig, axes = plt.subplots(nrows=3, ncols=4, figsize=(12, 12))\n",
    "\n",
    "deltas = {'delta_quant25_GLOB': delta_quant25_GLOB, 'delta_quant75_GLOB': delta_quant75_GLOB, 'delta_median_GLOB': delta_median_GLOB,'delta_mean_GLOB': delta_mean_GLOB,\n",
    "          'delta_quant25_SEAA': delta_quant25_SEAA, 'delta_quant75_SEAA': delta_quant75_SEAA, 'delta_median_SEAA': delta_median_SEAA,'delta_mean_SEAA': delta_mean_SEAA,\n",
    "          'delta_quant25_CARB': delta_quant25_CARB, 'delta_quant75_CARB': delta_quant75_CARB, 'delta_median_CARB': delta_median_CARB,'delta_mean_CARB': delta_mean_CARB}\n",
    "\n",
    "colors = ['blue', 'green', 'red']\n",
    "alpha = 0.3\n",
    "\n",
    "counter = 0\n",
    "for i in range(3):\n",
    "    for j in range(4):\n",
    "\n",
    "        df_name = list(deltas.keys())[counter]\n",
    "        df = deltas[df_name].values.ravel()\n",
    "        ax = sns.histplot(x=df, ax=axes[i, j], color=colors[i], alpha=alpha, bins=20, kde=True)\n",
    "        axes[i, j].set_title(df_name)\n",
    "\n",
    "        counter += 1\n",
    "\n",
    "plt.tight_layout()\n",
    "plt.show()"
   ],
   "block_group": "69caf8f53f614c6db218aa3ad4020466",
   "execution_count": null,
   "outputs": [],
   "outputs_reference": "s3:deepnote-cell-outputs-production/3a807458-fa4c-48a1-bc87-dbf0d974e865"
  }
 ],
 "nbformat": 4,
 "nbformat_minor": 0,
 "metadata": {
  "deepnote_persisted_session": {
   "createdAt": "2024-03-27T02:30:18.480Z"
  },
  "deepnote_notebook_id": "e9da38f1bc82451394cb358201edcead",
  "deepnote_execution_queue": []
 }
}
