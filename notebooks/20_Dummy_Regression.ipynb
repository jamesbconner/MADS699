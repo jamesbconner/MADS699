{
 "cells": [
  {
   "cell_type": "markdown",
   "metadata": {
    "cell_id": "3fd3e59ab8ad4e9583c6c7f07f5bac8a",
    "deepnote_cell_type": "text-cell-h1",
    "formattedRanges": []
   },
   "source": [
    "# Regression - Dummy- GLOB/SEAA/CARB"
   ]
  },
  {
   "cell_type": "markdown",
   "metadata": {
    "cell_id": "75f85249395a41159bee3f076417e551",
    "deepnote_cell_type": "text-cell-h2",
    "formattedRanges": []
   },
   "source": [
    "## Notebook Setup"
   ]
  },
  {
   "cell_type": "markdown",
   "metadata": {
    "cell_id": "2be2bc377523480b814b8c2df8385186",
    "deepnote_cell_type": "text-cell-h3",
    "formattedRanges": []
   },
   "source": [
    "### Import Libraries"
   ]
  },
  {
   "cell_type": "code",
   "execution_count": 1,
   "metadata": {
    "ExecuteTime": {
     "end_time": "2024-04-07T17:24:12.852199500Z",
     "start_time": "2024-04-07T17:24:11.651276200Z"
    }
   },
   "outputs": [
    {
     "name": "stdout",
     "output_type": "stream",
     "text": [
      "Loading dotenv file\n"
     ]
    }
   ],
   "source": [
    "# Import Standard Libraries\n",
    "import os\n",
    "import datetime\n",
    "import pickle\n",
    "import pandas as pd\n",
    "import numpy as np\n",
    "\n",
    "# Import Visualization Libraries\n",
    "import seaborn as sns\n",
    "import matplotlib.pyplot as plt\n",
    "import plotly.express as px\n",
    "import plotly.graph_objects as go\n",
    "import shap\n",
    "\n",
    "# Import custom functions\n",
    "import env_functions as ef\n",
    "import s3_functions as sf\n",
    "import common_functions as cf"
   ]
  },
  {
   "cell_type": "code",
   "execution_count": 2,
   "metadata": {
    "ExecuteTime": {
     "end_time": "2024-04-07T17:24:14.596794900Z",
     "start_time": "2024-04-07T17:24:14.161566600Z"
    }
   },
   "outputs": [],
   "source": [
    "# Import Modeling Libraries\n",
    "from sklearn import set_config\n",
    "from sklearn.inspection import permutation_importance\n",
    "from sklearn.dummy import DummyRegressor\n",
    "from sklearn.model_selection import KFold, cross_val_score\n",
    "from sklearn.metrics import r2_score, mean_absolute_error, mean_squared_error\n",
    "from hyperopt import STATUS_OK, Trials, fmin, hp, tpe, anneal\n",
    "from hyperopt.early_stop import no_progress_loss\n",
    "import neptune"
   ]
  },
  {
   "cell_type": "code",
   "execution_count": 3,
   "metadata": {
    "ExecuteTime": {
     "end_time": "2024-04-07T17:25:36.809623600Z",
     "start_time": "2024-04-07T17:25:36.806107100Z"
    }
   },
   "outputs": [
    {
     "name": "stdout",
     "output_type": "stream",
     "text": [
      "Loading dotenv file\n"
     ]
    }
   ],
   "source": [
    "# Determine the environment and get appropriate vars\n",
    "deepnote, env_vars = ef.load_env_vars()\n",
    "\n",
    "# Iterate through the vars and set them as global vars\n",
    "for var_name, var in env_vars.items():\n",
    "    globals()[var_name] = var\n",
    "\n",
    "# If not in the DeepNote environment, create a dict for aws creds\n",
    "#   that were located in the environment file.  This will be passed\n",
    "#   to all aws s3 functions.\n",
    "if not deepnote:\n",
    "    aws_env_vars = {\n",
    "        'access_key_id': aws_access_key_id,\n",
    "        'secret_access_key': aws_secret_access_key,\n",
    "        'bucket_name': s3_bucket_name\n",
    "    }"
   ]
  },
  {
   "cell_type": "code",
   "execution_count": 4,
   "metadata": {
    "ExecuteTime": {
     "end_time": "2024-04-07T17:25:38.781601200Z",
     "start_time": "2024-04-07T17:25:38.778091600Z"
    }
   },
   "outputs": [],
   "source": [
    "# Pandas Configs\n",
    "pd.set_option('mode.chained_assignment', None)\n",
    "pd.options.display.float_format = '{:.2f}'.format\n",
    "pd.options.display.max_columns = None\n",
    "pd.options.display.max_rows = None\n",
    "\n",
    "# Ignore Warnings\n",
    "import warnings\n",
    "warnings.simplefilter('ignore', category=FutureWarning)\n",
    "warnings.simplefilter('ignore', category=UserWarning)\n",
    "warnings.simplefilter(action=\"ignore\", category=pd.errors.PerformanceWarning)\n",
    "\n",
    "# MapBox Token for Plotly Maps\n",
    "px.set_mapbox_access_token(os.environ.get(\"MAPBOX_TOKEN\"))\n",
    "\n",
    "# Scikit Learn Configs\n",
    "set_config(transform_output=\"pandas\")"
   ]
  },
  {
   "cell_type": "markdown",
   "metadata": {},
   "source": [
    "### Import Data"
   ]
  },
  {
   "cell_type": "code",
   "execution_count": 5,
   "metadata": {
    "ExecuteTime": {
     "end_time": "2024-04-07T17:25:55.828380900Z",
     "start_time": "2024-04-07T17:25:46.697624900Z"
    }
   },
   "outputs": [],
   "source": [
    "X_train_trans_GLOB, X_val_trans_GLOB, X_holdout_trans_GLOB, y_train_GLOB, y_val_GLOB, y_holdout_GLOB = cf.import_data(location_name='GLOB')\n",
    "X_train_trans_CARB, X_val_trans_CARB, X_holdout_trans_CARB, y_train_CARB, y_val_CARB, y_holdout_CARB = cf.import_data(location_name='CARB')\n",
    "X_train_trans_SEAA, X_val_trans_SEAA, X_holdout_trans_SEAA, y_train_SEAA, y_val_SEAA, y_holdout_SEAA = cf.import_data(location_name='SEAA')"
   ]
  },
  {
   "cell_type": "markdown",
   "metadata": {},
   "source": [
    "## Dummy Regression Models"
   ]
  },
  {
   "cell_type": "code",
   "execution_count": null,
   "metadata": {},
   "outputs": [],
   "source": [
    "def dummy_model_run(model, X_train_trans, y_train, X_val_trans, y_val):\n",
    "\n",
    "    model.fit(X_train_trans, y_train) # fit\n",
    "    predictions = model.predict(X_val_trans) # predict\n",
    "    mae = mean_absolute_error(y_val, predictions) #score\n",
    "    deltas = y_val - predictions.reshape(-1, 1)\n",
    "\n",
    "    return mae, predictions, deltas"
   ]
  },
  {
   "cell_type": "code",
   "execution_count": null,
   "metadata": {},
   "outputs": [],
   "source": [
    "quantile_25_model = DummyRegressor(strategy='quantile', quantile=0.25)\n",
    "quantile_75_model = DummyRegressor(strategy='quantile', quantile=0.75)\n",
    "median_model = DummyRegressor(strategy='median')\n",
    "mean_model = DummyRegressor(strategy='mean')"
   ]
  },
  {
   "cell_type": "code",
   "execution_count": null,
   "metadata": {},
   "outputs": [],
   "source": [
    "# GLOB\n",
    "mae_quant25_GLOB, predictions_quant25_GLOB, delta_quant25_GLOB = dummy_model_run(quantile_25_model, X_train_trans_GLOB, y_train_GLOB, X_val_trans_GLOB, y_val_GLOB)\n",
    "mae_quant75_GLOB, predictions_quant75_GLOB, delta_quant75_GLOB = dummy_model_run(quantile_75_model, X_train_trans_GLOB, y_train_GLOB, X_val_trans_GLOB, y_val_GLOB)\n",
    "mae_median_GLOB, predictions_median_GLOB, delta_median_GLOB = dummy_model_run(median_model, X_train_trans_GLOB, y_train_GLOB, X_val_trans_GLOB, y_val_GLOB)\n",
    "mae_mean_GLOB, predictions_mean_GLOB, delta_mean_GLOB = dummy_model_run(mean_model, X_train_trans_GLOB, y_train_GLOB, X_val_trans_GLOB, y_val_GLOB)\n",
    "\n",
    "print(f\"Quantile 25 Mean Absolute Error: {mae_quant25_GLOB:.4f}\")\n",
    "print(f\"Quantile 75 Mean Absolute Error: {mae_quant75_GLOB:.4f}\")\n",
    "print(f\"Median Mean Absolute Error: {mae_median_GLOB:.4f}\")\n",
    "print(f\"Mean Mean Absolute Error: {mae_mean_GLOB:.4f}\")"
   ]
  },
  {
   "cell_type": "code",
   "execution_count": null,
   "metadata": {},
   "outputs": [],
   "source": [
    "# SEAA\n",
    "mae_quant25_SEAA, predictions_quant25_SEAA, delta_quant25_SEAA = dummy_model_run(quantile_25_model, X_train_trans_SEAA, y_train_SEAA, X_val_trans_SEAA, y_val_SEAA)\n",
    "mae_quant75_SEAA, predictions_quant75_SEAA, delta_quant75_SEAA = dummy_model_run(quantile_75_model, X_train_trans_SEAA, y_train_SEAA, X_val_trans_SEAA, y_val_SEAA)\n",
    "mae_median_SEAA, predictions_median_SEAA, delta_median_SEAA = dummy_model_run(median_model, X_train_trans_SEAA, y_train_SEAA, X_val_trans_SEAA, y_val_SEAA)\n",
    "mae_mean_SEAA, predictions_mean_SEAA, delta_mean_SEAA = dummy_model_run(mean_model, X_train_trans_SEAA, y_train_SEAA, X_val_trans_SEAA, y_val_SEAA)\n",
    "\n",
    "print(f\"Quantile 25 Mean Absolute Error: {mae_quant25_SEAA:.4f}\")\n",
    "print(f\"Quantile 75 Mean Absolute Error: {mae_quant75_SEAA:.4f}\")\n",
    "print(f\"Median Mean Absolute Error: {mae_median_SEAA:.4f}\")\n",
    "print(f\"Mean Mean Absolute Error: {mae_mean_SEAA:.4f}\")"
   ]
  },
  {
   "cell_type": "code",
   "execution_count": null,
   "metadata": {},
   "outputs": [],
   "source": [
    "# CARB\n",
    "mae_quant25_CARB, predictions_quant25_CARB, delta_quant25_CARB = dummy_model_run(quantile_25_model, X_train_trans_CARB, y_train_CARB, X_val_trans_CARB, y_val_CARB)\n",
    "mae_quant75_CARB, predictions_quant75_CARB, delta_quant75_CARB = dummy_model_run(quantile_75_model, X_train_trans_CARB, y_train_CARB, X_val_trans_CARB, y_val_CARB)\n",
    "mae_median_CARB, predictions_median_CARB, delta_median_CARB = dummy_model_run(median_model, X_train_trans_CARB, y_train_CARB, X_val_trans_CARB, y_val_CARB)\n",
    "mae_mean_CARB, predictions_mean_CARB, delta_mean_CARB = dummy_model_run(mean_model, X_train_trans_CARB, y_train_CARB, X_val_trans_CARB, y_val_CARB)\n",
    "\n",
    "print(f\"Quantile 25 Mean Absolute Error: {mae_quant25_CARB:.4f}\")\n",
    "print(f\"Quantile 75 Mean Absolute Error: {mae_quant75_CARB:.4f}\")\n",
    "print(f\"Median Mean Absolute Error: {mae_median_CARB:.4f}\")\n",
    "print(f\"Mean Mean Absolute Error: {mae_mean_CARB:.4f}\")"
   ]
  },
  {
   "cell_type": "markdown",
   "metadata": {},
   "source": [
    "## Analyzing the Data"
   ]
  },
  {
   "cell_type": "code",
   "execution_count": null,
   "metadata": {},
   "outputs": [],
   "source": [
    "fig, axes = plt.subplots(nrows=3, ncols=4, figsize=(12, 12))\n",
    "\n",
    "deltas = {'delta_quant25_GLOB': delta_quant25_GLOB, 'delta_quant75_GLOB': delta_quant75_GLOB, 'delta_median_GLOB': delta_median_GLOB,'delta_mean_GLOB': delta_mean_GLOB,\n",
    "          'delta_quant25_SEAA': delta_quant25_SEAA, 'delta_quant75_SEAA': delta_quant75_SEAA, 'delta_median_SEAA': delta_median_SEAA,'delta_mean_SEAA': delta_mean_SEAA,\n",
    "          'delta_quant25_CARB': delta_quant25_CARB, 'delta_quant75_CARB': delta_quant75_CARB, 'delta_median_CARB': delta_median_CARB,'delta_mean_CARB': delta_mean_CARB}\n",
    "\n",
    "colors = ['blue', 'green', 'red']\n",
    "alpha = 0.3\n",
    "\n",
    "counter = 0\n",
    "for i in range(3):\n",
    "    for j in range(4):\n",
    "\n",
    "        df_name = list(deltas.keys())[counter]\n",
    "        df = deltas[df_name].values.ravel()\n",
    "        ax = sns.histplot(x=df, ax=axes[i, j], color=colors[i], alpha=alpha, bins=20, kde=True)\n",
    "        axes[i, j].set_title(df_name)\n",
    "\n",
    "        counter += 1\n",
    "\n",
    "plt.tight_layout()\n",
    "plt.show()"
   ]
  }
 ],
 "metadata": {
  "deepnote_execution_queue": [],
  "deepnote_notebook_id": "e9da38f1bc82451394cb358201edcead",
  "deepnote_persisted_session": {
   "createdAt": "2024-03-27T02:30:18.480Z"
  },
  "kernelspec": {
   "display_name": "Python 3 (ipykernel)",
   "language": "python",
   "name": "python3"
  },
  "language_info": {
   "codemirror_mode": {
    "name": "ipython",
    "version": 3
   },
   "file_extension": ".py",
   "mimetype": "text/x-python",
   "name": "python",
   "nbconvert_exporter": "python",
   "pygments_lexer": "ipython3",
   "version": "3.11.5"
  }
 },
 "nbformat": 4,
 "nbformat_minor": 1
}
