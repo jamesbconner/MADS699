{
 "cells": [
  {
   "cell_type": "markdown",
   "metadata": {
    "formattedRanges": [],
    "cell_id": "666676dfa9a747bc8dfb1eb62393151c",
    "deepnote_cell_type": "text-cell-h1"
   },
   "source": [
    "# Feature Building"
   ],
   "block_group": "c8e620a6ad3c40828fc6410cf9e8e482"
  },
  {
   "cell_type": "markdown",
   "metadata": {
    "formattedRanges": [],
    "cell_id": "7de3ada45d104d0f8d66a9046a79d67c",
    "deepnote_cell_type": "text-cell-h2"
   },
   "source": [
    "## Notebook Setup"
   ],
   "block_group": "e4cd0009735249e38ed4eefaee1bad52"
  },
  {
   "cell_type": "code",
   "metadata": {
    "source_hash": null,
    "execution_start": 1711494285694,
    "execution_millis": 204,
    "deepnote_to_be_reexecuted": false,
    "cell_id": "5a7980751a544daeb6a7caf3c7d386e8",
    "deepnote_cell_type": "code"
   },
   "source": [
    "import pandas as pd\n",
    "import geopandas as gpd\n",
    "import numpy as np\n",
    "from shapely.geometry import Point"
   ],
   "block_group": "5a7980751a544daeb6a7caf3c7d386e8",
   "execution_count": null,
   "outputs": [],
   "outputs_reference": null
  },
  {
   "cell_type": "code",
   "metadata": {
    "source_hash": null,
    "execution_start": 1711494286033,
    "execution_millis": 17,
    "deepnote_to_be_reexecuted": false,
    "cell_id": "7abeddc5c5b148829a285cbd7a952684",
    "deepnote_cell_type": "code"
   },
   "source": [
    "pd.set_option('mode.chained_assignment', None)\n",
    "pd.options.display.float_format = '{:.2f}'.format\n",
    "pd.options.display.max_columns = None\n",
    "pd.options.display.max_rows = None\n",
    "\n",
    "# Ignore Warnings\n",
    "import warnings\n",
    "warnings.simplefilter('ignore', category=FutureWarning)\n",
    "warnings.simplefilter('ignore', category=UserWarning)"
   ],
   "block_group": "9d270a20b75a4a32a3dea58a1edbbc66",
   "execution_count": null,
   "outputs": [],
   "outputs_reference": null
  },
  {
   "cell_type": "markdown",
   "metadata": {
    "formattedRanges": [],
    "cell_id": "2773160ead884e6dbb8daa1c22c12ae3",
    "deepnote_cell_type": "text-cell-h2"
   },
   "source": [
    "## Import Data"
   ],
   "block_group": "1a0ffd00d2fa4d709bce05474eb185a0"
  },
  {
   "cell_type": "code",
   "metadata": {
    "source_hash": null,
    "execution_start": 1711494287224,
    "execution_millis": 4703,
    "deepnote_to_be_reexecuted": false,
    "cell_id": "1b6d149ad6c84c6e91e549f7536c4686",
    "deepnote_cell_type": "code"
   },
   "source": [
    "gcb = pd.read_parquet(\"/work/data/Global_Coral_Bleaching_DB/gcb_v3.parquet\")\n",
    "country_code_df = pd.read_csv(\"/work/data/References/country_name_codes.csv\")\n",
    "meow = gpd.read_file(\"/work/data/MEOW/meow_ecos.shp\")\n",
    "wdi = pd.read_csv(\"/work/data/World_Bank/wdi_1980_to_2020.csv\")"
   ],
   "block_group": "a703949c09fa4aa0b69718fe5051e7ba",
   "execution_count": null,
   "outputs": [],
   "outputs_reference": null
  },
  {
   "cell_type": "markdown",
   "metadata": {
    "formattedRanges": [],
    "cell_id": "1f4f55fe75224e4aad3ae96a84cb1231",
    "deepnote_cell_type": "text-cell-h2"
   },
   "source": [
    "## Feature Building"
   ],
   "block_group": "11c33a37dfaf40b8973c8759f139f370"
  },
  {
   "cell_type": "markdown",
   "metadata": {
    "formattedRanges": [],
    "cell_id": "413c1ee3bcbc469ab97df7fdd02980c6",
    "deepnote_cell_type": "text-cell-h3"
   },
   "source": [
    "### Create Percent_Bleached_Value"
   ],
   "block_group": "378fa2c26b3a41f18ade1340756305d5"
  },
  {
   "cell_type": "code",
   "metadata": {
    "source_hash": null,
    "execution_start": 1711494291931,
    "execution_millis": 74,
    "deepnote_to_be_reexecuted": false,
    "cell_id": "4c8437f880364e98b62b08912e2a402b",
    "deepnote_cell_type": "code"
   },
   "source": [
    "def pct_bleached_calc(row):\n",
    "    '''\n",
    "    Function to determine Percent_Bleached_Value\n",
    "    param row: Pandas dataframe row object\n",
    "    return: Percent Bleached\n",
    "    '''\n",
    "\n",
    "    # Set the default value to None\n",
    "    bleach_val = None\n",
    "\n",
    "    # Create a dict for the Donner severity codes\n",
    "    # These values are currently hard coded to the mean of the range\n",
    "    #   but could be imputed more programmatically using a distribution\n",
    "    severity_pcts = {-1:0, 0:0, 1:5, 2:30, 3:75}\n",
    "\n",
    "    # Create a dict for the Safaie prevalence score\n",
    "    # These values are currently hard coded to the mean of the range\n",
    "    #   but could be imputed more programmatically using a distribution\n",
    "    prevalence_pcts = {0:0, 1:5, 2:17.5, 3:37.5, 4:75}\n",
    "\n",
    "    # Reef Check uses sectors ... get a mean score\n",
    "    quad_avg = row[['S1','S2','S3','S4']].mean()\n",
    "\n",
    "    # Donner & Safaie use a severity code to indicate a general amount of bleaching\n",
    "    severity_est = severity_pcts.get(row['Severity_ID'], np.nan)\n",
    "    prevalence_est = prevalence_pcts.get(row['Bleaching_Prevalence_Score_ID'])\n",
    "\n",
    "    # Grab the Percent Bleached value\n",
    "    pct_bleached = row['Percent_Bleached']\n",
    "\n",
    "    # In order of preference for use:\n",
    "    # Percent_Bleached, the Quad Average, then Severity and Prevalence guesstimates\n",
    "    if not pd.isna(pct_bleached):\n",
    "        bleach_val = pct_bleached\n",
    "    elif not pd.isna(quad_avg):\n",
    "        bleach_val = quad_avg\n",
    "    elif not pd.isna(severity_est):\n",
    "        bleach_val = severity_est\n",
    "    elif not pd.isna(prevalence_est):\n",
    "        bleach_val = prevalence_est\n",
    "    else:\n",
    "        bleach_val = np.nan\n",
    "    \n",
    "    #print(bleach_val, pct_bleached, quad_avg, severity_est, prevalance_est)\n",
    "\n",
    "    # If the value is still nan (ie, no bleaching data available), return the nan\n",
    "    # Else look at the value and if it's smaller than 1, multiply by 100 and return\n",
    "    if pd.isna(bleach_val):\n",
    "        return bleach_val\n",
    "    elif bleach_val < 1:\n",
    "        bleach_val = bleach_val * 100\n",
    "        if bleach_val >= 1:\n",
    "            return bleach_val\n",
    "        else:\n",
    "            return bleach_val * 100\n",
    "    else:\n",
    "        return bleach_val"
   ],
   "block_group": "436f5cf9af1c49ec9b2b74aef8800dff",
   "execution_count": null,
   "outputs": [],
   "outputs_reference": null
  },
  {
   "cell_type": "code",
   "metadata": {
    "source_hash": null,
    "execution_start": 1711494291934,
    "execution_millis": 11898,
    "deepnote_to_be_reexecuted": false,
    "cell_id": "9a5d7a669716404eacc34a95911205f1",
    "deepnote_cell_type": "code"
   },
   "source": [
    "# Create the Percent_Bleached_Value\n",
    "gcb['Percent_Bleached_Value'] = gcb.apply(pct_bleached_calc, axis=1)\n",
    "\n",
    "# Indicated which rows had the Percent_Bleached_Value imputed\n",
    "gcb['Bleached_Value_Imputed'] = (~gcb[\"Percent_Bleached_Value\"].isna()) & \\\n",
    "                                   (gcb['Percent_Bleached'].isna()) & \\\n",
    "                                   (gcb['S1'].isna()) & (gcb['S2'].isna()) & \\\n",
    "                                   (gcb['S3'].isna()) & (gcb['S4'].isna())"
   ],
   "block_group": "84669ce58e2d46e3b796ae10eb949b46",
   "execution_count": null,
   "outputs": [],
   "outputs_reference": null
  },
  {
   "cell_type": "markdown",
   "metadata": {
    "formattedRanges": [],
    "cell_id": "e147892c6b3246f9a93f5e88272ba064",
    "deepnote_cell_type": "text-cell-h3"
   },
   "source": [
    "### Validate Percent_Bleached_Value"
   ],
   "block_group": "d56ced08136547f6a407098ffabcb3f7"
  },
  {
   "cell_type": "code",
   "metadata": {
    "source_hash": null,
    "execution_start": 1711494303835,
    "execution_millis": 22,
    "deepnote_to_be_reexecuted": false,
    "cell_id": "de2575aab3264859be1c26a40956c1ef",
    "deepnote_cell_type": "code"
   },
   "source": [
    "# Show records where Percent_Bleached_Value between 0 and 1\n",
    "# gcb[(gcb.Percent_Bleached_Value > 0) & (gcb.Percent_Bleached_Value < 1)]\n",
    "\n",
    "# Count number of records where Percent_Bleached_Value == 0\n",
    "len(gcb[gcb.Percent_Bleached_Value == 0])"
   ],
   "block_group": "8baeaa72c58b4f44a7482acfc94f2712",
   "execution_count": null,
   "outputs": [],
   "outputs_reference": "dbtable:cell_outputs/ba3b27c1-a892-45f7-aa21-6b2e489f5784"
  },
  {
   "cell_type": "code",
   "metadata": {
    "source_hash": null,
    "execution_start": 1711494311730,
    "execution_millis": 81,
    "deepnote_to_be_reexecuted": false,
    "cell_id": "4029c18fe3fa433ebb3d69e3208ecc69",
    "deepnote_cell_type": "code"
   },
   "source": [
    "# How many of those 0% Percent_Bleached_Values were before the year 2010?\n",
    "print(\"Total 0% Records Prior to 2010: \", len(gcb[(gcb.Percent_Bleached_Value == 0) & (gcb.Date_Year < 2010)]))\n",
    "print(\"Percentage of 0% Records Prior to 2010: \", len(gcb[(gcb.Percent_Bleached_Value == 0) & (gcb.Date_Year < 2010)])/len(gcb.Date_Year < 2010)*100)"
   ],
   "block_group": "cee256c80b2a4ad6aef19c37045f7fc8",
   "execution_count": null,
   "outputs": [],
   "outputs_reference": "dbtable:cell_outputs/b6c7c5be-b99d-4c0c-a910-cf628c6c0391"
  },
  {
   "cell_type": "code",
   "metadata": {
    "source_hash": null,
    "execution_start": 1711494312893,
    "execution_millis": 24,
    "deepnote_to_be_reexecuted": false,
    "cell_id": "72f79f752e1541ffad3c0d8e099996c3",
    "deepnote_cell_type": "code"
   },
   "source": [
    "# How many of those 0% Percent_Bleached_Values were after the year 2010?\n",
    "print(\"Total 0% Records After 2010: \", len(gcb[(gcb.Percent_Bleached_Value == 0) & (gcb.Date_Year >= 2010)]))\n",
    "print(\"Percentage of 0% Records After 2010: \", len(gcb[(gcb.Percent_Bleached_Value == 0) & (gcb.Date_Year >= 2010)])/len(gcb.Date_Year >= 2010)*100)"
   ],
   "block_group": "18f0713fc703458f8b0f8293013590a1",
   "execution_count": null,
   "outputs": [],
   "outputs_reference": "dbtable:cell_outputs/73c34052-e3cf-4a0d-9ee8-49a616e0f1af"
  },
  {
   "cell_type": "markdown",
   "metadata": {
    "is_collapsed": false,
    "formattedRanges": [],
    "deepnote_app_block_visible": false,
    "cell_id": "6e14dc31dd11490682bb00b45be5ba09",
    "deepnote_cell_type": "text-cell-h3"
   },
   "source": [
    "### Dates"
   ],
   "block_group": "da1991a4e53f49d88bcd14693505ef7c"
  },
  {
   "cell_type": "code",
   "metadata": {
    "source_hash": null,
    "execution_start": 1711494314857,
    "execution_millis": 55,
    "deepnote_to_be_reexecuted": false,
    "cell_id": "58a911d1eee64339be63660b0e52a3fa",
    "deepnote_cell_type": "code"
   },
   "source": [
    "# Create a composite date column from the day/month/year columns\n",
    "gcb['Date'] = pd.to_datetime({\n",
    "    'year': gcb['Date_Year'],\n",
    "    'month': gcb['Date_Month'],\n",
    "    'day': gcb['Date_Day']\n",
    "})"
   ],
   "block_group": "b77397aa327241748baff3dd0245d463",
   "execution_count": null,
   "outputs": [],
   "outputs_reference": null
  },
  {
   "cell_type": "code",
   "metadata": {
    "source_hash": null,
    "execution_start": 1711494315918,
    "execution_millis": 99,
    "deepnote_to_be_reexecuted": false,
    "cell_id": "3356b5f1b5d2419e94b2f9879915a2c6",
    "deepnote_cell_type": "code"
   },
   "source": [
    "# Create short month names\n",
    "month_short_names = {1: 'Jan', 2: 'Feb', 3: 'Mar', 4: 'Apr', 5: 'May', 6: 'Jun',\n",
    "                    7: 'Jul', 8: 'Aug', 9: 'Sep', 10: 'Oct', 11: 'Nov', 12: 'Dec'}\n",
    "gcb['Month_Name'] = gcb['Date_Month'].map(month_short_names)"
   ],
   "block_group": "24c76b172097404697cf448c7a26e856",
   "execution_count": null,
   "outputs": [],
   "outputs_reference": null
  },
  {
   "cell_type": "code",
   "metadata": {
    "source_hash": null,
    "execution_start": 1711494316674,
    "execution_millis": 46,
    "deepnote_to_be_reexecuted": false,
    "cell_id": "2dc4c63298d2458e93c0ad1d8a4b4800",
    "deepnote_cell_type": "code"
   },
   "source": [
    "# Create a datetime object at a Monthly grain\n",
    "gcb['Month_Year'] = gcb['Date'].dt.to_period('M')"
   ],
   "block_group": "3917fcae792e4e1e9dc3eef43a9017a9",
   "execution_count": null,
   "outputs": [],
   "outputs_reference": null
  },
  {
   "cell_type": "markdown",
   "metadata": {
    "is_collapsed": false,
    "formattedRanges": [],
    "deepnote_app_block_visible": false,
    "cell_id": "3fe52fe6d7d4457ebc0aed1f1c5ad50a",
    "deepnote_cell_type": "text-cell-h3"
   },
   "source": [
    "### Countries"
   ],
   "block_group": "383d162bc8264f4389b1d9be3e76e1b9"
  },
  {
   "cell_type": "code",
   "metadata": {
    "source_hash": null,
    "execution_start": 1711494318024,
    "execution_millis": 105,
    "deepnote_to_be_reexecuted": false,
    "cell_id": "c6fa677f1d804f399a64af22be485e42",
    "deepnote_cell_type": "code"
   },
   "source": [
    "# Add a country code variable for easy joining with other datasets\n",
    "gcb = pd.merge(\n",
    "    gcb, country_code_df[['Country_Name','Country_Code']], \n",
    "    how=\"left\", left_on=\"Country_Name\", right_on=\"Country_Name\")"
   ],
   "block_group": "8a6a7fd5f86e441fbc05b2d09a4c19ef",
   "execution_count": null,
   "outputs": [],
   "outputs_reference": null
  },
  {
   "cell_type": "markdown",
   "metadata": {
    "formattedRanges": [],
    "cell_id": "1a91df878c9d4ff3a77f6513cbc2b5ec",
    "deepnote_cell_type": "text-cell-h3"
   },
   "source": [
    "### Nominal Features from Categoricals"
   ],
   "block_group": "8e70ef86e8084284aefde36b5394bdbd"
  },
  {
   "cell_type": "code",
   "metadata": {
    "source_hash": null,
    "execution_start": 1711494319194,
    "execution_millis": 37,
    "deepnote_to_be_reexecuted": false,
    "cell_id": "de39ead6b18d4ec898b8762a0abfe5f1",
    "deepnote_cell_type": "code"
   },
   "source": [
    "# Create Nominal Features from object dtypes\n",
    "gcb['Exposure_Cat'] = gcb['Exposure'].astype('category').cat.codes\n",
    "gcb['Country_Name_Cat'] = gcb['Country_Name'].astype('category').cat.codes"
   ],
   "block_group": "149f33e8c3534a97b288da8b12553c01",
   "execution_count": null,
   "outputs": [],
   "outputs_reference": null
  },
  {
   "cell_type": "markdown",
   "metadata": {
    "formattedRanges": [],
    "cell_id": "859066f65fcb422ca46ee3176804878e",
    "deepnote_cell_type": "text-cell-h3"
   },
   "source": [
    "### Add MEOW Province"
   ],
   "block_group": "a023d6232ae94038ba6f86d3be8046a0"
  },
  {
   "cell_type": "code",
   "metadata": {
    "source_hash": null,
    "execution_start": 1711494320443,
    "execution_millis": 1354,
    "deepnote_to_be_reexecuted": false,
    "cell_id": "b9180ee870cd439bb85ba1f0e9beb32c",
    "deepnote_cell_type": "code"
   },
   "source": [
    "# Setup the dataframes as geopandas assets\n",
    "# Create a point geometry for the gcb dataset\n",
    "gdf_primary = gpd.GeoDataFrame(gcb, geometry=gcb.apply(lambda row: Point(row['Longitude_Degrees'], row['Latitude_Degrees']), axis=1))\n",
    "gdf_secondary = gpd.GeoDataFrame(meow, geometry=meow['geometry'])\n",
    "\n",
    "# Perform a spatial join using a 'within' operation and drop the right join index\n",
    "joined_gdf = gpd.sjoin(gdf_primary, gdf_secondary[['PROVINCE', 'geometry']], how='left', op='within').drop(columns=['index_right','geometry'])\n",
    "\n",
    "# Convert the resulting dataframe back to a standard pandas df\n",
    "# No need to drop the geometry column at this time\n",
    "gcb = pd.DataFrame(joined_gdf)"
   ],
   "block_group": "8a50ab69e84f4225a896badd4c4d0581",
   "execution_count": null,
   "outputs": [],
   "outputs_reference": null
  },
  {
   "cell_type": "code",
   "metadata": {
    "source_hash": null,
    "execution_start": 1711494321801,
    "execution_millis": 32,
    "deepnote_to_be_reexecuted": false,
    "cell_id": "d86ceeff9c664f4fb53f2244bb821cc8",
    "deepnote_cell_type": "code"
   },
   "source": [
    "# For some reason, there are 2 Southeast Polynesia datapoints \n",
    "#   that don't quite fall within the polygon shapes.  Impute them.\n",
    "gcb.PROVINCE.fillna('Southeast Polynesia', inplace=True)"
   ],
   "block_group": "4b2ace55744149f081ca37d0b6d3716d",
   "execution_count": null,
   "outputs": [],
   "outputs_reference": null
  },
  {
   "cell_type": "markdown",
   "metadata": {
    "formattedRanges": [],
    "cell_id": "a6340f51722f4f6f84cf3e3f1b776d8f",
    "deepnote_cell_type": "text-cell-h3"
   },
   "source": [
    "### Add World Development Indicators"
   ],
   "block_group": "b84d5249ac3f49929d2123f1464d2338"
  },
  {
   "cell_type": "code",
   "metadata": {
    "source_hash": null,
    "execution_start": 1711494478715,
    "execution_millis": 17,
    "deepnote_to_be_reexecuted": false,
    "cell_id": "fc673e7eb57e4e29b35d600ceb25ed8e",
    "deepnote_cell_type": "code"
   },
   "source": [
    "# Filter the WDI dataset on the following WDI Codes\n",
    "# Fishing, Timber, Forest, Marine, Agriculture, Fertilizer, Tourism, and Pop Totals\n",
    "filter_codes = [\n",
    "    'AG.LND.IRIG.AG.ZS','AG.LND.AGRI.ZS','AG.LND.AGRI.K2',\n",
    "    'NV.AGR.TOTL.ZS','NV.AGR.TOTL.KD.ZG','NV.AGR.TOTL.CD',\n",
    "    'ER.FSH.AQUA.MT','ER.FSH.CAPT.MT','AG.CON.FERT.ZS',\n",
    "    'EN.FSH.THRD.NO','AG.LND.FRST.ZS','AG.LND.FRST.K2',\n",
    "    'ST.INT.ARVL','ER.MRN.PTMR.ZS','EN.POP.DNST',\n",
    "    'SP.POP.TOTL','ER.PTD.TOTL.ZS','ER.FSH.PROD.MT'\n",
    "    ]\n",
    "wdi_filtered = wdi[wdi['Series_Code'].isin(filter_codes)]"
   ],
   "block_group": "16990f7929a54ceba6df27568683111c",
   "execution_count": null,
   "outputs": [],
   "outputs_reference": null
  },
  {
   "cell_type": "code",
   "metadata": {
    "source_hash": null,
    "execution_start": 1711494479318,
    "execution_millis": 1134,
    "deepnote_to_be_reexecuted": false,
    "cell_id": "73920228d05246dd8017915d9ff7ba51",
    "deepnote_cell_type": "code"
   },
   "source": [
    "# Impute missing WDI Values\n",
    "\n",
    "# Define year columns\n",
    "columns_years = [str(year) for year in range(1980, 2021)]\n",
    "\n",
    "# Impute AG.LND.IRIG.AG.ZS where totally missing\n",
    "map_fert_pct = {\n",
    "               'ATG': 7.69, 'BHS': 8.33, 'BRB': 39.00, 'BLZ': 3.48, 'BMU': 0, \n",
    "               'KHM': 9.17, 'CYM': 7.69, 'CHN': 51.48, 'COM': 0.13, 'CRI': 18.14,\n",
    "               'CUB': 15.68, 'DJI': 100, 'DMA': 0.87, 'EGY': 100, 'ERI': 5.49,\n",
    "               'FJI': 1.59, 'PYF': 3.88, 'IDN': 41.54, 'KEN': 2.34, 'KIR': 0,\n",
    "               'KWT': 67.6, 'MDV': 0, 'MHL': 0, 'FSM': 0, 'NCL': 0, 'NIC': 10.89,\n",
    "               'MNP': 0, 'PLW': 0, 'PNG': 0, 'WSM': 0, 'STP': 9.7, 'SGP': 0,\n",
    "               'SLB': 0.04, 'LKA': 29.23, 'KNA': 0.49, 'LCA': 32.26,\n",
    "               'VCT': 5.98, 'TZA': 2.32, 'THA': 33.76, 'TON': 0, 'TCA': 0, \n",
    "               'TUV': 0, 'VUT': 0, 'VNM': 48.67, 'YEM': 41.8\n",
    "               }\n",
    "\n",
    "wdi_filtered['temp_fert_pct'] = wdi_filtered['Country_Code'].map(map_fert_pct)\n",
    "for col in columns_years:\n",
    "    wdi_filtered[col] = wdi_filtered[col].fillna(wdi_filtered['temp_fert_pct'])\n",
    "wdi_filtered.drop('temp_fert_pct', axis=1, inplace=True)\n",
    "\n",
    "\n",
    "# Impute AG.CON.FERT.ZS where totally missing\n",
    "map_fert_kgha = {'TCA': 0, 'TUV':0}\n",
    "\n",
    "wdi_filtered['map_fert_kgha'] = wdi_filtered['Country_Code'].map(map_fert_kgha)\n",
    "for col in columns_years:\n",
    "    wdi_filtered[col] = wdi_filtered[col].fillna(wdi_filtered['map_fert_kgha'])\n",
    "wdi_filtered.drop('map_fert_kgha', axis=1, inplace=True)\n",
    "\n",
    "\n",
    "\n",
    "# Impute All codes where partially missing\n",
    "wdi_filtered['mean_1980_2000'] = wdi_filtered[columns_years].mean(axis=1)\n",
    "\n",
    "for column in columns_years:\n",
    "    wdi_filtered[column] = wdi_filtered.apply(lambda row: row['mean_1980_2000'] if pd.isna(row[column]) else row[column], axis=1)\n",
    "\n",
    "wdi_filtered.drop('mean_1980_2000', axis=1, inplace=True)"
   ],
   "block_group": "7267b949f7d84f0384aa60d788d58ed9",
   "execution_count": null,
   "outputs": [],
   "outputs_reference": null
  },
  {
   "cell_type": "code",
   "metadata": {
    "source_hash": null,
    "execution_start": 1711494480454,
    "execution_millis": 260,
    "deepnote_to_be_reexecuted": false,
    "cell_id": "4538cbcff0ee42f7b8c5e785c4cd9a78",
    "deepnote_cell_type": "code"
   },
   "source": [
    "wdi_filtered.sample(10)"
   ],
   "block_group": "1bb61270ef784f5c81300a7e83aed6fa",
   "execution_count": null,
   "outputs": [],
   "outputs_reference": "s3:deepnote-cell-outputs-production/6f754c21-5f69-4d39-a982-99046f34f9fd"
  },
  {
   "cell_type": "code",
   "metadata": {
    "source_hash": null,
    "execution_start": 1711494480599,
    "execution_millis": 319,
    "deepnote_to_be_reexecuted": false,
    "cell_id": "eaeea3b5823640489d31fccab5beb769",
    "deepnote_cell_type": "code"
   },
   "source": [
    "# Melt the dataset so that Country_Code and Series_Code remain cols,\n",
    "#   while the years go from being columns to rows, with the Series_Code\n",
    "#   value going into the Value col\n",
    "melted_df = pd.melt(wdi_filtered, id_vars=['Country_Code', 'Series_Code'], \n",
    "                    value_vars=[str(year) for year in range(1980, 2021)],\n",
    "                    var_name='Year', value_name='Value')\n",
    "\n",
    "# Now pivot the dataset on the Series_Code column, so that each code\n",
    "#   becomes its own column.  Convert the Year to float for easy joining\n",
    "#   to the coral database dataframe\n",
    "pivoted_df = melted_df.pivot_table(index=['Country_Code', 'Year'], \n",
    "                                   columns='Series_Code', \n",
    "                                   values='Value', \n",
    "                                   aggfunc='first').reset_index()\n",
    "pivoted_df.Year = pivoted_df.Year.astype('float64')\n",
    "\n",
    "# Merge the coral database and the pivoted wdi dataframe\n",
    "gcb = pd.merge(gcb, pivoted_df, left_on=['Country_Code','Date_Year'], right_on=['Country_Code','Year'])"
   ],
   "block_group": "d0ebdbad5b884af8865262a075850536",
   "execution_count": null,
   "outputs": [],
   "outputs_reference": null
  },
  {
   "cell_type": "code",
   "metadata": {
    "source_hash": null,
    "execution_start": 1711494481294,
    "execution_millis": 269,
    "deepnote_to_be_reexecuted": false,
    "cell_id": "d5acdd16a249457287e221a238b89cab",
    "deepnote_cell_type": "code"
   },
   "source": [
    "wdi_filtered.sample(10)"
   ],
   "block_group": "1d1aa63759a84d4890f7a89760023b84",
   "execution_count": null,
   "outputs": [],
   "outputs_reference": "s3:deepnote-cell-outputs-production/4199bde4-79ab-4b31-88c7-3af2abaf4b5f"
  },
  {
   "cell_type": "code",
   "metadata": {
    "source_hash": null,
    "execution_start": 1711494481939,
    "execution_millis": 242,
    "deepnote_to_be_reexecuted": false,
    "cell_id": "6ea47b5cfcf9407daa7281bfd5e4c13f",
    "deepnote_cell_type": "code"
   },
   "source": [
    "melted_df.sample(10)"
   ],
   "block_group": "7aaf5630bbf24ea1bda133f2f4cc8546",
   "execution_count": null,
   "outputs": [],
   "outputs_reference": "s3:deepnote-cell-outputs-production/74ce5ca7-3317-44b0-a157-71156df4cf16"
  },
  {
   "cell_type": "code",
   "metadata": {
    "source_hash": null,
    "execution_start": 1711494482541,
    "execution_millis": 301,
    "deepnote_table_state": {
     "sortBy": [
      {
       "id": "Year",
       "type": "asc"
      }
     ],
     "filters": [],
     "pageSize": 10,
     "pageIndex": 3
    },
    "deepnote_table_loading": false,
    "deepnote_to_be_reexecuted": false,
    "cell_id": "5055cef214b14b5ca074ecf78578bfb2",
    "deepnote_cell_type": "code"
   },
   "source": [
    "pivoted_df[pivoted_df.Country_Code == 'MDV'].sample(40)"
   ],
   "block_group": "cf7f7d1aa16f4ed3a9b853dac43674df",
   "execution_count": null,
   "outputs": [],
   "outputs_reference": "s3:deepnote-cell-outputs-production/20101901-aa80-4a1f-bd02-758283942159"
  },
  {
   "cell_type": "code",
   "metadata": {
    "source_hash": null,
    "execution_start": 1711494483192,
    "execution_millis": 286,
    "deepnote_to_be_reexecuted": false,
    "cell_id": "5dc6ffe524e44ecfab930017d1b52c31",
    "deepnote_cell_type": "code"
   },
   "source": [
    "gcb.sample(10)"
   ],
   "block_group": "66268c381f804610bf8876d08b638f12",
   "execution_count": null,
   "outputs": [],
   "outputs_reference": "s3:deepnote-cell-outputs-production/d953c6b1-dea2-4f11-8335-ef884992b975"
  },
  {
   "cell_type": "markdown",
   "metadata": {
    "is_collapsed": false,
    "formattedRanges": [],
    "deepnote_app_block_visible": false,
    "cell_id": "9631abb58b104671b472b63f0483fc45",
    "deepnote_cell_type": "text-cell-h2"
   },
   "source": [
    "## Refine the Cols and Rows to keep"
   ],
   "block_group": "10b50204a9a14a888850eeb14e503558"
  },
  {
   "cell_type": "code",
   "metadata": {
    "source_hash": null,
    "execution_start": 1711494484756,
    "execution_millis": 18,
    "deepnote_to_be_reexecuted": false,
    "cell_id": "86b81d17ce2e4fa9b96b638d743c87d4",
    "deepnote_cell_type": "code"
   },
   "source": [
    "# Drop columns that will not provide value to the analysis\n",
    "gcb_drop_cols = [\n",
    "    'Percent_Bleaching_Old_Method', \n",
    "    'bleach_intensity', \n",
    "    'Number_Bleached_Colonies', \n",
    "    'Percent_Hard_Coral', \n",
    "    'Percent_Macroalgae',\n",
    "    'Sample_Method', \n",
    "    'Sample_Comments',\n",
    "    'Site Comments',\n",
    "    'Cover Comments', \n",
    "    'Site_Name'\n",
    "    ]\n",
    "\n",
    "gcb.drop(columns=gcb_drop_cols, axis=1, inplace=True)"
   ],
   "block_group": "49d70710864e42aa842360beaef25e8f",
   "execution_count": null,
   "outputs": [],
   "outputs_reference": null
  },
  {
   "cell_type": "code",
   "metadata": {
    "source_hash": null,
    "execution_start": 1711494486998,
    "execution_millis": 74,
    "deepnote_to_be_reexecuted": false,
    "cell_id": "62dbdf4198954cff9afa282dc4a61b44",
    "deepnote_cell_type": "code"
   },
   "source": [
    "# Drop rows where Percent_Bleached_Value is not a number greater than or equal to 0\n",
    "gcb = gcb[gcb.Percent_Bleached_Value >= 0]\n",
    "\n",
    "# Drop rows where the SSTA records are null\n",
    "gcb = gcb[gcb['SSTA'].notna()]"
   ],
   "block_group": "ebb105ee297141dca0bfc8397675d825",
   "execution_count": null,
   "outputs": [],
   "outputs_reference": null
  },
  {
   "cell_type": "markdown",
   "metadata": {
    "is_collapsed": false,
    "formattedRanges": [],
    "deepnote_app_block_visible": false,
    "cell_id": "0fe585d2cade4ae5b438af19088dfd00",
    "deepnote_cell_type": "text-cell-h2"
   },
   "source": [
    "## Write Out Data"
   ],
   "block_group": "2d4c7f54db244d0bb8fce68c7d77957e"
  },
  {
   "cell_type": "code",
   "metadata": {
    "source_hash": null,
    "execution_start": 1711494488126,
    "execution_millis": 63,
    "deepnote_to_be_reexecuted": false,
    "cell_id": "03bacfe5a85b4904acfd40932ba5a48b",
    "deepnote_cell_type": "code"
   },
   "source": [
    "# Write out parquet file, which is used in the analysis notebooks\n",
    "# gcb.to_parquet(\"/work/data/Global_Coral_Bleaching_DB/gcb_v4.parquet\")\n",
    "# gcb.to_parquet(\"/datasets/s3/data/Global_Coral_Bleaching_DB/gcb_v4.parquet\")"
   ],
   "block_group": "5c22a3a9610a419aa343937456f9b317",
   "execution_count": null,
   "outputs": [],
   "outputs_reference": null
  },
  {
   "cell_type": "markdown",
   "metadata": {
    "formattedRanges": [],
    "cell_id": "7dde0517a86c482aa0581d8b29c8bb6b",
    "deepnote_cell_type": "text-cell-h3"
   },
   "source": [
    "### Create Classification y-labels"
   ],
   "block_group": "04d8e3c73c33499b9e7d7c75df752ba6"
  },
  {
   "cell_type": "code",
   "metadata": {
    "source_hash": null,
    "execution_start": 1711494490245,
    "execution_millis": 33,
    "deepnote_to_be_reexecuted": false,
    "cell_id": "5880be2ac1d54520930092638b225df2",
    "deepnote_cell_type": "code"
   },
   "source": [
    "bins = [-1, 0, 10, 50, 100]\n",
    "names = ['No Bleaching', 'Mild Bleaching', 'Moderate Bleaching', 'Severe Bleaching']\n",
    "\n",
    "gcb['Bleached_Class'] = pd.cut(gcb['Percent_Bleached_Value'], bins, labels=names)\n"
   ],
   "block_group": "b1c78a7986c04b58a4fbdb0b3710e9ce",
   "execution_count": null,
   "outputs": [],
   "outputs_reference": null
  },
  {
   "cell_type": "code",
   "metadata": {
    "source_hash": null,
    "execution_start": 1711494491926,
    "execution_millis": 1481,
    "deepnote_to_be_reexecuted": false,
    "cell_id": "89b53ff939a342338d2b29ee719c70ff",
    "deepnote_cell_type": "code"
   },
   "source": [
    "# Write out parquet file, which is used in the analysis notebooks\n",
    "gcb.to_parquet(\"/work/data/Global_Coral_Bleaching_DB/gcb_v5.parquet\")\n",
    "gcb.to_parquet(\"/datasets/s3/data/Global_Coral_Bleaching_DB/gcb_v5.parquet\")"
   ],
   "block_group": "05ae8f3fb82a4b46b7e18e3913253843",
   "execution_count": null,
   "outputs": [],
   "outputs_reference": null
  }
 ],
 "nbformat": 4,
 "nbformat_minor": 0,
 "metadata": {
  "deepnote_notebook_id": "149240d282e943f0baf864bf605c0480",
  "deepnote_execution_queue": []
 }
}
